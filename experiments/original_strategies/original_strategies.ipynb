{
 "cells": [
  {
   "cell_type": "code",
   "execution_count": null,
   "metadata": {},
   "outputs": [],
   "source": [
    "! pip install -q flwr[simulation] flwr-datasets[vision] torch torchvision matplotlib\n",
    "! pip install -U ipywidgets\n",
    "! pip install numpy==1.26.4\n",
    "! pip install urllib3==1.26.6"
   ]
  },
  {
   "cell_type": "code",
   "execution_count": 1,
   "metadata": {},
   "outputs": [
    {
     "name": "stdout",
     "output_type": "stream",
     "text": [
      "Training on mps\n",
      "Flower 1.15.1 / PyTorch 2.6.0\n"
     ]
    }
   ],
   "source": [
    "from collections import OrderedDict\n",
    "from typing import Dict, List, Optional, Tuple, Union, Callable\n",
    "import pickle\n",
    "\n",
    "import matplotlib.pyplot as plt\n",
    "import numpy as np\n",
    "import torch\n",
    "import torch.nn as nn\n",
    "import copy\n",
    "import torch.nn.functional as F\n",
    "import torchvision.transforms as transforms\n",
    "from datasets.utils.logging import disable_progress_bar\n",
    "from torch.utils.data import DataLoader\n",
    "from flwr.server.strategy import Strategy\n",
    "import flwr\n",
    "from flwr.client import Client, ClientApp, NumPyClient\n",
    "from flwr.common import Metrics, Context, Status, GetParametersRes, Parameters, GetParametersIns, MetricsAggregationFn,NDArrays,Scalar\n",
    "from flwr.server import ServerApp, ServerConfig, ServerAppComponents \n",
    "from flwr.server.strategy import FedAvg, FedProx\n",
    "from flwr.simulation import run_simulation\n",
    "from flwr_datasets import FederatedDataset\n",
    "from flwr.common import (\n",
    "    EvaluateIns,\n",
    "    EvaluateRes,\n",
    "    FitIns,\n",
    "    FitRes,\n",
    "    Parameters,\n",
    "    Scalar,\n",
    "    ndarrays_to_parameters,\n",
    "    parameters_to_ndarrays,\n",
    "    ParametersRecord,\n",
    "    array_from_numpy\n",
    ")\n",
    "from flwr.server.client_manager import ClientManager\n",
    "from flwr.server.client_proxy import ClientProxy\n",
    "from flwr.server.strategy.aggregate import aggregate, weighted_loss_avg\n",
    "\n",
    "DEVICE = \"cuda\" if torch.cuda.is_available() else \"cpu\"\n",
    "DEVICE = \"mps\"\n",
    "\n",
    "print(f\"Training on {DEVICE}\")\n",
    "print(f\"Flower {flwr.__version__} / PyTorch {torch.__version__}\")\n",
    "disable_progress_bar()"
   ]
  },
  {
   "cell_type": "code",
   "execution_count": 2,
   "metadata": {},
   "outputs": [],
   "source": [
    "\n",
    "BATCH_SIZE = 32\n",
    "\n",
    "def load_datasets(partition_id, num_partitions: int):\n",
    "    fds = FederatedDataset(dataset=\"cifar10\", partitioners={\"train\": num_partitions})\n",
    "    partition = fds.load_partition(partition_id)\n",
    "    # Divide data on each node: 80% train, 20% test\n",
    "    partition_train_test = partition.train_test_split(test_size=0.2, seed=42)\n",
    "    pytorch_transforms = transforms.Compose(\n",
    "        [transforms.ToTensor(), transforms.Normalize((0.5, 0.5, 0.5), (0.5, 0.5, 0.5))]\n",
    "    )\n",
    "\n",
    "    def apply_transforms(batch):\n",
    "        \n",
    "        batch[\"img\"] = [pytorch_transforms(img) for img in batch[\"img\"]]\n",
    "        return batch\n",
    "\n",
    "    partition_train_test = partition_train_test.with_transform(apply_transforms)\n",
    "    trainloader = DataLoader(partition_train_test[\"train\"], batch_size=32, shuffle=True)\n",
    "    valloader = DataLoader(partition_train_test[\"test\"], batch_size=32)\n",
    "    testset = fds.load_split(\"test\").with_transform(apply_transforms)\n",
    "    testloader = DataLoader(testset, batch_size=32)\n",
    "    return trainloader, valloader, testloader"
   ]
  },
  {
   "cell_type": "code",
   "execution_count": 9,
   "metadata": {},
   "outputs": [],
   "source": [
    "class Net(nn.Module):\n",
    "    def __init__(self) -> None:\n",
    "        super(Net, self).__init__()\n",
    "        self.conv1 = nn.Conv2d(3, 6, 5)\n",
    "        self.pool = nn.MaxPool2d(2, 2)\n",
    "        self.conv2 = nn.Conv2d(6, 16, 5)\n",
    "        self.fc1 = nn.Linear(16 * 5 * 5, 180)\n",
    "        self.fc2 = nn.Linear(180, 160)\n",
    "        self.fc3 = nn.Linear(160, 140)\n",
    "        self.fc4 = nn.Linear(140, 120)\n",
    "        self.fc5 = nn.Linear(120, 84)\n",
    "        self.fc7 = nn.Linear(84, 10)\n",
    "\n",
    "    def forward(self, x: torch.Tensor) -> torch.Tensor:\n",
    "        x = self.pool(F.relu(self.conv1(x)))\n",
    "        x = self.pool(F.relu(self.conv2(x)))\n",
    "        x = x.view(-1, 16 * 5 * 5)\n",
    "        x = F.relu(self.fc1(x))\n",
    "        x = F.relu(self.fc2(x))\n",
    "        x = F.relu(self.fc3(x))\n",
    "        x = F.relu(self.fc4(x))\n",
    "        x = F.relu(self.fc5(x))\n",
    "        x = self.fc7(x)\n",
    "        return x\n",
    "\n",
    "\n",
    "class MoonNet(nn.Module):\n",
    "    \"\"\"Returns both the representation (penultimate layer output) and classification\"\"\"\n",
    "    def __init__(self) -> None:\n",
    "        super(MoonNet, self).__init__()\n",
    "        self.conv1 = nn.Conv2d(3, 6, 5)\n",
    "        self.pool = nn.MaxPool2d(2, 2)\n",
    "        self.conv2 = nn.Conv2d(6, 16, 5)\n",
    "        self.fc1 = nn.Linear(16 * 5 * 5, 180)\n",
    "        self.fc2 = nn.Linear(180, 160)\n",
    "        self.fc3 = nn.Linear(160, 140)\n",
    "        self.fc4 = nn.Linear(140, 120)\n",
    "        self.fc5 = nn.Linear(120, 84)\n",
    "        self.fc7 = nn.Linear(84, 10)\n",
    "\n",
    "    def forward(self, x: torch.Tensor) -> torch.Tensor:\n",
    "        x = self.pool(F.relu(self.conv1(x)))\n",
    "        x = self.pool(F.relu(self.conv2(x)))\n",
    "        x = x.view(-1, 16 * 5 * 5)\n",
    "        x = F.relu(self.fc1(x))\n",
    "        x = F.relu(self.fc2(x))\n",
    "        x = F.relu(self.fc3(x))\n",
    "        x = F.relu(self.fc4(x))\n",
    "        x = F.relu(self.fc5(x))\n",
    "        representation = x.clone()\n",
    "        classification = self.fc7(x)\n",
    "        return representation, classification\n",
    "\n",
    "def get_parameters(net) -> List[np.ndarray]:\n",
    "    return [val.cpu().numpy() for _, val in net.state_dict().items()]\n",
    "\n",
    "def set_parameters(net, parameters, trainable_layers=-1):\n",
    "    \"\"\"Set model parameters from a list of NumPy arrays.\"\"\"\n",
    "    current_state = OrderedDict(net.state_dict())\n",
    "    \n",
    "    if trainable_layers == -1:\n",
    "        # Update all parameters\n",
    "        params_dict = zip(current_state.keys(), parameters)\n",
    "        state_dict = OrderedDict({k: torch.Tensor(v) for k, v in params_dict})\n",
    "        net.load_state_dict(state_dict, strict=True)\n",
    "    else:\n",
    "        # Only update the specified layer's parameters\n",
    "        # Convert current state to numpy arrays\n",
    "        numpy_state = [param.cpu().numpy() for param in current_state.values()]\n",
    "        \n",
    "        # Update the specific indices with new parameters\n",
    "        numpy_state[trainable_layers*2] = parameters[0]\n",
    "        numpy_state[trainable_layers*2 + 1] = parameters[1]\n",
    "        \n",
    "        # Convert back to torch and update state dict\n",
    "        for idx, key in enumerate(current_state.keys()):\n",
    "            current_state[key] = torch.from_numpy(numpy_state[idx])\n",
    "        \n",
    "        net.load_state_dict(current_state, strict=True)\n",
    "\n",
    "# def set_parameters(net, parameters: List[np.ndarray]):\n",
    "#     params_dict = zip(net.state_dict().keys(), parameters)\n",
    "#     state_dict = OrderedDict({k: torch.Tensor(v) for k, v in params_dict})\n",
    "#     net.load_state_dict(state_dict, strict=True)\n",
    "\n",
    "def train(net, trainloader, epochs: int):\n",
    "    \"\"\"Train the network on the training set.\"\"\"\n",
    "    criterion = torch.nn.CrossEntropyLoss()\n",
    "    optimizer = torch.optim.Adam(net.parameters())\n",
    "    net.train()\n",
    "    for epoch in range(epochs):\n",
    "        correct, total, epoch_loss = 0, 0, 0.0\n",
    "        for batch in trainloader:\n",
    "            images, labels = batch[\"img\"], batch[\"label\"]\n",
    "            images, labels = images.to(DEVICE), labels.to(DEVICE)\n",
    "            optimizer.zero_grad()\n",
    "            outputs = net(images)\n",
    "            loss = criterion(outputs, labels)\n",
    "            loss.backward()\n",
    "            optimizer.step()\n",
    "            # Metrics\n",
    "            epoch_loss += loss\n",
    "            total += labels.size(0)\n",
    "            correct += (torch.max(outputs.data, 1)[1] == labels).sum().item()\n",
    "        epoch_loss /= len(trainloader.dataset)\n",
    "        epoch_acc = correct / total\n",
    "        print(f\"Epoch {epoch+1}: train loss {epoch_loss}, accuracy {epoch_acc}\")\n",
    "        \n",
    "def proxima_train(net, trainloader, epochs: int, proximal_mu:float, global_params:List[torch.Tensor]):\n",
    "    \"\"\"Train the network on the training set.\"\"\"\n",
    "    criterion = torch.nn.CrossEntropyLoss()\n",
    "    optimizer = torch.optim.Adam(net.parameters())\n",
    "    net.train()\n",
    "    for epoch in range(epochs):\n",
    "        correct, total, epoch_loss = 0, 0, 0.0\n",
    "        for batch in trainloader:\n",
    "            images, labels = batch[\"img\"], batch[\"label\"]\n",
    "            images, labels = images.to(DEVICE), labels.to(DEVICE)\n",
    "            optimizer.zero_grad()\n",
    "            outputs = net(images)\n",
    "\n",
    "            proximal_term = 0.0\n",
    "            for local_weights, global_weights in zip(net.parameters(), global_params):\n",
    "                proximal_term += (local_weights - global_weights).norm(2)\n",
    "            loss = criterion(net(images), labels) + (proximal_mu / 2) * proximal_term\n",
    "\n",
    "\n",
    "            loss.backward()\n",
    "            optimizer.step()\n",
    "            \n",
    "            epoch_loss += loss\n",
    "            total += labels.size(0)\n",
    "            correct += (torch.max(outputs.data, 1)[1] == labels).sum().item()\n",
    "        epoch_loss /= len(trainloader.dataset)\n",
    "        epoch_acc = correct / total\n",
    "        print(f\"Epoch {epoch+1}: train loss {epoch_loss}, accuracy {epoch_acc}\")\n",
    "\n",
    "\n",
    "def train_moon(net,train_loader, global_net,previous_net, epochs, mu, temperature):\n",
    "    \"\"\"Training function for MOON.\"\"\"\n",
    "    print(f\"Started training moon\")\n",
    "    criterion = torch.nn.CrossEntropyLoss()\n",
    "    optimizer = torch.optim.Adam(net.parameters())\n",
    "\n",
    "    previous_net.eval()\n",
    "    global_net.eval()\n",
    "    net.to(DEVICE)\n",
    "    previous_net.to(DEVICE)\n",
    "    global_net.to(DEVICE)\n",
    "    cnt = 0\n",
    "    cos = torch.nn.CosineSimilarity(dim=-1)\n",
    "\n",
    "    for epoch in range(epochs):\n",
    "        epoch_loss_collector = []\n",
    "        epoch_loss1_collector = []\n",
    "        epoch_loss2_collector = []\n",
    "        for batch in train_loader:\n",
    "            x, target = batch[\"img\"], batch[\"label\"]\n",
    "            x, target = x.to(DEVICE), target.to(DEVICE)\n",
    "            optimizer.zero_grad()\n",
    "\n",
    "            # pro1 is the representation by the current model (Line 14 of Algorithm 1)\n",
    "            pro1, out = net(x)\n",
    "            # pro2 is the representation by the global model (Line 15 of Algorithm 1)\n",
    "            # pro3 is the representation by the previous model (Line 16 of Algorithm 1)\n",
    "            with torch.no_grad():\n",
    "                pro2, _ = global_net(x)\n",
    "                pro3, _ = previous_net(x)\n",
    "\n",
    "            # posi is the positive pair\n",
    "            posi = cos(pro1, pro2)\n",
    "            logits = posi.reshape(-1, 1)\n",
    "\n",
    "            # nega is the negative pair\n",
    "            nega = cos(pro1, pro3)\n",
    "            logits = torch.cat((logits, nega.reshape(-1, 1)), dim=1)\n",
    "\n",
    "            previous_net.to(DEVICE)\n",
    "            logits /= temperature\n",
    "            labels = torch.zeros(x.size(0)).to(DEVICE).long()\n",
    "\n",
    "            # compute the model-contrastive loss (Line 17 of Algorithm 1)\n",
    "            loss2 = mu * criterion(logits, labels)\n",
    "\n",
    "            # compute the cross-entropy loss (Line 13 of Algorithm 1)\n",
    "            loss1 = criterion(out, target)\n",
    "\n",
    "            # compute the loss (Line 18 of Algorithm 1)\n",
    "            loss = loss1 + loss2\n",
    "\n",
    "            loss.backward()\n",
    "            optimizer.step()\n",
    "\n",
    "            cnt += 1\n",
    "            epoch_loss_collector.append(loss.item())\n",
    "            epoch_loss1_collector.append(loss1.item())\n",
    "            epoch_loss2_collector.append(loss2.item())\n",
    "\n",
    "        epoch_loss = sum(epoch_loss_collector) / len(epoch_loss_collector)\n",
    "        epoch_loss1 = sum(epoch_loss1_collector) / len(epoch_loss1_collector)\n",
    "        epoch_loss2 = sum(epoch_loss2_collector) / len(epoch_loss2_collector)\n",
    "        print(\n",
    "            \"Epoch: %d Loss: %f Loss1: %f Loss2: %f\"\n",
    "            % (epoch, epoch_loss, epoch_loss1, epoch_loss2)\n",
    "        )\n",
    "\n",
    "\n",
    "def test_moon(net, testloader):\n",
    "    \"\"\"\n",
    "    Evaluate the network on the entire test set.\n",
    "    Same as the regular test, but using the MoonNet \n",
    "    (where the output is a tuple of (representation, classification) )\n",
    "    \"\"\"\n",
    "    criterion = torch.nn.CrossEntropyLoss()\n",
    "    correct, total, loss = 0, 0, 0.0\n",
    "    net.eval()\n",
    "    with torch.no_grad():\n",
    "        for batch in testloader:\n",
    "            images, labels = batch[\"img\"], batch[\"label\"]\n",
    "            images, labels = images.to(DEVICE), labels.to(DEVICE)\n",
    "            _, outputs = net(images)\n",
    "            loss += criterion(outputs, labels).item()\n",
    "            _, predicted = torch.max(outputs.data, 1)\n",
    "            total += labels.size(0)\n",
    "            correct += (predicted == labels).sum().item()\n",
    "    loss /= len(testloader.dataset)\n",
    "    accuracy = correct / total\n",
    "    return loss, accuracy\n",
    "\n",
    "\n",
    "\n",
    "\n",
    "def test(net, testloader):\n",
    "    \"\"\"Evaluate the network on the entire test set.\"\"\"\n",
    "    criterion = torch.nn.CrossEntropyLoss()\n",
    "    correct, total, loss = 0, 0, 0.0\n",
    "    net.eval()\n",
    "    with torch.no_grad():\n",
    "        for batch in testloader:\n",
    "            images, labels = batch[\"img\"], batch[\"label\"]\n",
    "            images, labels = images.to(DEVICE), labels.to(DEVICE)\n",
    "            outputs = net(images)\n",
    "            loss += criterion(outputs, labels).item()\n",
    "            _, predicted = torch.max(outputs.data, 1)\n",
    "            total += labels.size(0)\n",
    "            correct += (predicted == labels).sum().item()\n",
    "    loss /= len(testloader.dataset)\n",
    "    accuracy = correct / total\n",
    "    return loss, accuracy\n",
    "\n",
    "# def freeze_layers(model: torch.nn.Module, trainable_layers: int) -> None:\n",
    "#         \"\"\"Freeze specified layers of the model.\"\"\"\n",
    "#         for idx, (name, param) in enumerate(model.named_parameters()):\n",
    "#             if idx == trainable_layers or trainable_layers == -1:\n",
    "#                 param.requires_grad = True\n",
    "#             else:\n",
    "#                 param.requires_grad = False\n",
    "\n",
    "\n",
    "\n",
    "def freeze_layers(model: torch.nn.Module, trainable_layers: int) -> None:\n",
    "        \"\"\"Freeze specified layers of the model.\"\"\"\n",
    "        trainable_layers_set = []\n",
    "        if trainable_layers == -1:\n",
    "            trainable_layers_set = [-1]\n",
    "        else:\n",
    "            trainable_layers_set = [trainable_layers *2, trainable_layers *2 +1]\n",
    "\n",
    "        for idx, (name, param) in enumerate(model.named_parameters()):\n",
    "            \n",
    "            if idx in trainable_layers_set or trainable_layers_set[0] == -1:\n",
    "                param.requires_grad = True\n",
    "                print(f\"layer index is {idx} and name{name} is trainabe\")\n",
    "            else:\n",
    "                param.requires_grad = False\n",
    "                print(f\"layer index is {idx} and name{name} is frozen\")\n",
    "\n",
    "\n"
   ]
  },
  {
   "cell_type": "code",
   "execution_count": 4,
   "metadata": {},
   "outputs": [
    {
     "name": "stdout",
     "output_type": "stream",
     "text": [
      "Number of rounds: 18\n"
     ]
    }
   ],
   "source": [
    "\n",
    "NETWORK_LEN = len(Net().state_dict().keys()) //2 \n",
    "EPOCHS = 8\n",
    "NUM_PARTITIONS = 6\n",
    "NUM_OF_CYCLES  = 1\n",
    "NUM_OF_FULL_UPDATES_BETWEEN_CYCLES = 2\n",
    "NUM_OF_ROUNDS = (NUM_OF_CYCLES * NUM_OF_FULL_UPDATES_BETWEEN_CYCLES) + (NUM_OF_CYCLES * NETWORK_LEN *2)\n",
    "print(f\"Number of rounds: {NUM_OF_ROUNDS}\")\n",
    "backend_config = {\"client_resources\": {\"num_cpus\": 1, \"num_gpus\": 0.0}}\n"
   ]
  },
  {
   "cell_type": "code",
   "execution_count": 25,
   "metadata": {},
   "outputs": [],
   "source": [
    "from flwr.common import NDArrays, Scalar\n",
    "import sys\n",
    "\n",
    "# More robust evaluate function:\n",
    "def get_evaluate_fn(\n",
    "    testloader: DataLoader,\n",
    "    net: torch.nn.Module,\n",
    ") -> Callable[[int, NDArrays, Dict[str, Scalar]], Optional[Tuple[float, Dict[str, Scalar]]]]:\n",
    "    \"\"\"Return an evaluation function for server-side evaluation.\"\"\"\n",
    "    \n",
    "    # used to check if they're changing\n",
    "    previous_params = None\n",
    "    \n",
    "    def evaluate(\n",
    "        server_round: int, parameters: NDArrays, config: Dict[str, Scalar]\n",
    "    ) -> Optional[Tuple[float, Dict[str, Scalar]]]:\n",
    "        \"\"\"Use the entire test set for evaluation.\"\"\"\n",
    "        nonlocal previous_params\n",
    "        \n",
    "        print(f\"\\n==== Server-side evaluation for round {server_round} ====\")\n",
    "        \n",
    "        # Check if parameters changed from previous round\n",
    "        if previous_params is not None:\n",
    "            param_change = False\n",
    "            for i, (prev, curr) in enumerate(zip(previous_params, parameters)):\n",
    "                diff = np.abs(prev - curr).mean()\n",
    "                if diff > 1e-6:\n",
    "                    param_change = True\n",
    "                    print(f\"  Parameter {i}: Changed by {diff:.6f}\")\n",
    "            \n",
    "            if not param_change:\n",
    "                print(\"  WARNING: Parameters haven't changed from previous round!\")\n",
    "        \n",
    "        previous_params = [p.copy() for p in parameters]\n",
    "        net_copy = copy.deepcopy(net)\n",
    "\n",
    "        # Update model with the latest parameters\n",
    "        params_dict = zip(net_copy.state_dict().keys(), parameters)\n",
    "        state_dict = OrderedDict({k: torch.tensor(v, device=DEVICE) for k, v in params_dict})\n",
    "        \n",
    "        # Check if state dict keys match model keys\n",
    "        model_keys = set(net_copy.state_dict().keys())\n",
    "        params_keys = set(state_dict.keys())\n",
    "        if model_keys != params_keys:\n",
    "            print(f\"  WARNING: Key mismatch between model and parameters!\")\n",
    "            print(f\"  Missing in params: {model_keys - params_keys}\")\n",
    "            print(f\"  Extra in params: {params_keys - model_keys}\")\n",
    "        \n",
    "        net_copy.load_state_dict(state_dict, strict=True)\n",
    "        net_copy.to(DEVICE)\n",
    "        net_copy.eval()\n",
    "        \n",
    "        # Test the model\n",
    "        loss, accuracy = test(net_copy, testloader)\n",
    "        print(f\"  Evaluation results - Loss: {loss:.4f}, Accuracy: {accuracy:.4f}\")\n",
    "        \n",
    "        # Return loss and metrics\n",
    "        return loss, {\"accuracy\": accuracy}\n",
    "    \n",
    "    return evaluate\n",
    "\n",
    "\n",
    "\n",
    "def get_evaluate_fn_moon(\n",
    "    testloader: DataLoader,\n",
    "    net: torch.nn.Module,\n",
    ") -> Callable[[int, NDArrays, Dict[str, Scalar]], Optional[Tuple[float, Dict[str, Scalar]]]]:\n",
    "    \"\"\"Return an evaluation function for server-side evaluation.\"\"\"\n",
    "    \n",
    "    # used to check if they're changing\n",
    "    previous_params = None\n",
    "    \n",
    "    def evaluate(\n",
    "        server_round: int, parameters: NDArrays, config: Dict[str, Scalar]\n",
    "    ) -> Optional[Tuple[float, Dict[str, Scalar]]]:\n",
    "        \"\"\"Use the entire test set for evaluation.\"\"\"\n",
    "        nonlocal previous_params\n",
    "        \n",
    "        print(f\"\\n==== Server-side evaluation for round {server_round} ====\")\n",
    "        \n",
    "        # Check if parameters changed from previous round\n",
    "        if previous_params is not None:\n",
    "            param_change = False\n",
    "            for i, (prev, curr) in enumerate(zip(previous_params, parameters)):\n",
    "                diff = np.abs(prev - curr).mean()\n",
    "                if diff > 1e-6:\n",
    "                    param_change = True\n",
    "                    print(f\"  Parameter {i}: Changed by {diff:.6f}\")\n",
    "            \n",
    "            if not param_change:\n",
    "                print(\"  WARNING: Parameters haven't changed from previous round!\")\n",
    "        \n",
    "        previous_params = [p.copy() for p in parameters]\n",
    "        net_copy = copy.deepcopy(net)\n",
    "\n",
    "        # Update model with the latest parameters\n",
    "        params_dict = zip(net_copy.state_dict().keys(), parameters)\n",
    "        state_dict = OrderedDict({k: torch.tensor(v, device=DEVICE) for k, v in params_dict})\n",
    "        \n",
    "        # Check if state dict keys match model keys\n",
    "        model_keys = set(net_copy.state_dict().keys())\n",
    "        params_keys = set(state_dict.keys())\n",
    "        if model_keys != params_keys:\n",
    "            print(f\"  WARNING: Key mismatch between model and parameters!\")\n",
    "            print(f\"  Missing in params: {model_keys - params_keys}\")\n",
    "            print(f\"  Extra in params: {params_keys - model_keys}\")\n",
    "            print(f\"  Current params: {model_keys}\")\n",
    "        \n",
    "        net_copy.load_state_dict(state_dict, strict=True)\n",
    "        net_copy.to(DEVICE)\n",
    "        net_copy.eval()\n",
    "        \n",
    "        # Test the model\n",
    "        loss, accuracy = test_moon(net_copy, testloader)\n",
    "        print(f\"  Evaluation results - Loss: {loss:.4f}, Accuracy: {accuracy:.4f}\")\n",
    "        \n",
    "        # Return loss and metrics\n",
    "        return loss, {\"accuracy\": accuracy}\n",
    "    \n",
    "    return evaluate\n",
    "\n",
    "def get_parameters_size(params: Parameters) -> int:\n",
    "    size = sys.getsizeof(params)  # Base size of the dataclass instance\n",
    "    size += sys.getsizeof(params.tensor_type)  # Size of the string\n",
    "    size += sys.getsizeof(params.tensors)  # Size of the list container\n",
    "    size += sum(sys.getsizeof(tensor) for tensor in params.tensors)  # Size of each bytes object\n",
    "    return size"
   ]
  },
  {
   "cell_type": "markdown",
   "metadata": {},
   "source": [
    "# Normal FedAvg"
   ]
  },
  {
   "cell_type": "code",
   "execution_count": 38,
   "metadata": {},
   "outputs": [],
   "source": [
    "from typing import Union\n",
    "\n",
    "\n",
    "from flwr.common import (\n",
    "    EvaluateIns,\n",
    "    EvaluateRes,\n",
    "    FitIns,\n",
    "    FitRes,\n",
    "    Parameters,\n",
    "    Scalar,\n",
    "    ndarrays_to_parameters,\n",
    "    parameters_to_ndarrays,\n",
    ")\n",
    "from flwr.server.client_manager import ClientManager\n",
    "from flwr.server.client_proxy import ClientProxy\n",
    "from flwr.server.strategy.aggregate import aggregate, weighted_loss_avg\n",
    "\n",
    "\n",
    "fed_avg_result = {}\n",
    "fed_avg_model_results = {}\n",
    "\n",
    "class ModifiedFedAvg(Strategy):\n",
    "    def __init__(\n",
    "        self,\n",
    "        fraction_fit: float = 1.0,\n",
    "        fraction_evaluate: float = 1.0,\n",
    "        min_fit_clients: int = 2,\n",
    "        min_evaluate_clients: int = 2,\n",
    "        min_available_clients: int = 2,\n",
    "        evaluate_fn: Optional[\n",
    "            Callable[\n",
    "                [int, NDArrays, dict[str, Scalar]],\n",
    "                Optional[tuple[float, dict[str, Scalar]]],\n",
    "            ]\n",
    "        ] = None,\n",
    "        on_fit_config_fn: Optional[Callable[[int], dict[str, Scalar]]] = None,\n",
    "        on_evaluate_config_fn: Optional[Callable[[int], dict[str, Scalar]]] = None,\n",
    "        accept_failures: bool = True,\n",
    "        initial_parameters: Optional[Parameters] = None,\n",
    "        fit_metrics_aggregation_fn: Optional[MetricsAggregationFn] = None,\n",
    "        evaluate_metrics_aggregation_fn: Optional[MetricsAggregationFn] = None,\n",
    "        inplace: bool = True,\n",
    "        layer_update_strategy: str = \"sequential\",\n",
    "        \n",
    "    ) -> None:\n",
    "        super().__init__()\n",
    "        self.fraction_fit = fraction_fit\n",
    "        self.fraction_evaluate = fraction_evaluate\n",
    "        self.min_fit_clients = min_fit_clients\n",
    "        self.min_evaluate_clients = min_evaluate_clients\n",
    "        self.min_available_clients = min_available_clients\n",
    "        self.evaluate_fn = evaluate_fn\n",
    "        self.on_fit_config_fn = on_fit_config_fn\n",
    "        self.on_evaluate_config_fn = on_evaluate_config_fn\n",
    "        self.accept_failures = accept_failures\n",
    "        self.initial_parameters = initial_parameters\n",
    "        self.fit_metrics_aggregation_fn = fit_metrics_aggregation_fn\n",
    "        self.evaluate_metrics_aggregation_fn = evaluate_metrics_aggregation_fn\n",
    "        self.inplace = inplace\n",
    "\n",
    "\n",
    "    def __repr__(self) -> str:\n",
    "        return \"FedPartAvg\"\n",
    "    \n",
    "\n",
    "    def num_fit_clients(self, num_available_clients: int) -> Tuple[int, int]:\n",
    "        \"\"\"Return sample size and required number of clients.\"\"\"\n",
    "        num_clients = int(num_available_clients * self.fraction_fit)\n",
    "        return max(num_clients, self.min_fit_clients), self.min_available_clients\n",
    "\n",
    "    def num_evaluation_clients(self, num_available_clients: int) -> Tuple[int, int]:\n",
    "        \"\"\"Use a fraction of available clients for evaluation.\"\"\"\n",
    "        num_clients = int(num_available_clients * self.fraction_evaluate)\n",
    "        return max(num_clients, self.min_evaluate_clients), self.min_available_clients\n",
    "    \n",
    "   \n",
    "    # def initialize_parameters(\n",
    "    #     self, client_manager: ClientManager\n",
    "    # ) -> Optional[Parameters]:\n",
    "    #     \"\"\"Initialize global model parameters.\"\"\"\n",
    "    #     net = Net()\n",
    "    #     ndarrays = get_parameters(net)\n",
    "    #     return ndarrays_to_parameters(ndarrays)\n",
    "    def initialize_parameters(\n",
    "        self, client_manager: ClientManager) -> Optional[Parameters]:\n",
    "        \"\"\"Initialize global model parameters.\"\"\"\n",
    "        print(\"Initializing global model parameters\")\n",
    "        net = Net().to(DEVICE)  # Make sure to initialize on the correct device\n",
    "        ndarrays = get_parameters(net)\n",
    "        \n",
    "        # Debug: print summary of parameters to verify they're not all zeros or random\n",
    "        for i, param in enumerate(ndarrays):\n",
    "            print(f\"Global init param {i}: shape={param.shape}, mean={param.mean():.6f}, std={param.std():.6f}\")\n",
    "        \n",
    "        return ndarrays_to_parameters(ndarrays) \n",
    "\n",
    "    def evaluate(\n",
    "        self, server_round: int, parameters: Parameters\n",
    "    ) -> Optional[tuple[float, dict[str, Scalar]]]:\n",
    "        \"\"\"Evaluate model parameters using an evaluation function.\"\"\"\n",
    "        if self.evaluate_fn is None:\n",
    "            # No evaluation function provided\n",
    "            return None\n",
    "        parameters_ndarrays = parameters_to_ndarrays(parameters)\n",
    "        eval_res = self.evaluate_fn(server_round, parameters_ndarrays, {})\n",
    "        if eval_res is None:\n",
    "            return None\n",
    "        loss, metrics = eval_res\n",
    "\n",
    "        if server_round in fed_avg_model_results:\n",
    "            expand_fed_avg_result= {**fed_avg_model_results[server_round], \"global_loss\": loss, \"global_metrics\": metrics}\n",
    "        else:\n",
    "            expand_fed_avg_result= {\"global_loss\": loss, \"global_metrics\": metrics}\n",
    "\n",
    "        fed_avg_model_results[server_round] = expand_fed_avg_result\n",
    "\n",
    "        return loss, metrics\n",
    "\n",
    "    def configure_fit(\n",
    "        self, server_round: int, parameters: Parameters, client_manager: ClientManager\n",
    "    ) -> List[Tuple[ClientProxy, FitIns]]:\n",
    "        \"\"\"Configure the next round of training.\"\"\"\n",
    "        \n",
    "        config = {}\n",
    "        \n",
    "        sample_size, min_num_clients = self.num_fit_clients(\n",
    "            client_manager.num_available()\n",
    "        )\n",
    "        clients = client_manager.sample(\n",
    "            num_clients=sample_size, min_num_clients=min_num_clients\n",
    "        )\n",
    "        \n",
    "        fit_configurations = []\n",
    "        for idx, client in enumerate(clients):\n",
    "            fit_configurations.append((client, FitIns(parameters, config)))\n",
    "\n",
    "        \n",
    "        return fit_configurations\n",
    "    \n",
    "\n",
    "    def configure_evaluate(\n",
    "        self, server_round: int, parameters: Parameters, client_manager: ClientManager\n",
    "    ) -> List[Tuple[ClientProxy, EvaluateIns]]:\n",
    "        \"\"\"Configure the next round of evaluation.\"\"\"\n",
    "        if self.fraction_evaluate == 0.0:\n",
    "            return []\n",
    "        config = {}\n",
    "        evaluate_ins = EvaluateIns(parameters, config)\n",
    "\n",
    "        # Sample clients\n",
    "        sample_size, min_num_clients = self.num_evaluation_clients(\n",
    "            client_manager.num_available()\n",
    "        )\n",
    "        clients = client_manager.sample(\n",
    "            num_clients=sample_size, min_num_clients=min_num_clients\n",
    "        )\n",
    "\n",
    "        # Return client/config pairs\n",
    "        return [(client, evaluate_ins) for client in clients]\n",
    "\n",
    "    def aggregate_fit(\n",
    "        self,\n",
    "        server_round: int,\n",
    "        results: List[Tuple[ClientProxy, FitRes]],\n",
    "        failures: List[Union[Tuple[ClientProxy, FitRes], BaseException]],\n",
    "    ) -> Tuple[Optional[Parameters], Dict[str, Scalar]]:\n",
    "        \"\"\"Aggregate fit results using weighted average.\"\"\"\n",
    "\n",
    "        # get size of parameters in bytes\n",
    "        total_size = 0\n",
    "        for client, fit_res in results:\n",
    "            total_size += get_parameters_size(fit_res.parameters) *2\n",
    "        \n",
    "\n",
    "        if server_round in fed_avg_result:\n",
    "            expand_fed_avg_result= {**fed_avg_result[server_round], \"total_size\": total_size}\n",
    "        else:\n",
    "            expand_fed_avg_result= {\"total_size\": total_size}\n",
    "\n",
    "        fed_avg_result[server_round] = expand_fed_avg_result\n",
    "\n",
    "\n",
    "        weights_results = [\n",
    "            (parameters_to_ndarrays(fit_res.parameters), fit_res.num_examples)\n",
    "            for _, fit_res in results\n",
    "        ]\n",
    "        parameters_aggregated = ndarrays_to_parameters(aggregate(weights_results))\n",
    "        metrics_aggregated = {}\n",
    "        return parameters_aggregated, metrics_aggregated\n",
    "\n",
    "\n",
    "    def aggregate_evaluate(\n",
    "        self,\n",
    "        server_round: int,\n",
    "        results: List[Tuple[ClientProxy, EvaluateRes]],\n",
    "        failures: List[Union[Tuple[ClientProxy, EvaluateRes], BaseException]],\n",
    "    ) -> Tuple[Optional[float], Dict[str, Scalar]]:\n",
    "        \"\"\"Aggregate evaluation losses using weighted average.\"\"\"\n",
    "\n",
    "        if not results:\n",
    "            return None, {}\n",
    "\n",
    "        total_loss = 0\n",
    "        for _, evaluate_res in results:\n",
    "            total_loss += evaluate_res.loss \n",
    "\n",
    "\n",
    "        if server_round in fed_avg_result:\n",
    "            expand_fed_avg_result= {**fed_avg_result[server_round], \"total_loss\": total_loss}\n",
    "        else:\n",
    "            expand_fed_avg_result= {\"total_loss\": total_loss}\n",
    "\n",
    "        fed_avg_result[server_round] = expand_fed_avg_result\n",
    "\n",
    "        loss_aggregated = weighted_loss_avg(\n",
    "            [\n",
    "                (evaluate_res.num_examples, evaluate_res.loss)\n",
    "                for _, evaluate_res in results\n",
    "            ]\n",
    "        )\n",
    "        metrics_aggregated = {}\n",
    "        return loss_aggregated, metrics_aggregated"
   ]
  },
  {
   "cell_type": "code",
   "execution_count": 40,
   "metadata": {},
   "outputs": [],
   "source": [
    "class NormalFlowerClient(NumPyClient):\n",
    "    def __init__(self, partition_id, net, trainloader, valloader):\n",
    "        self.partition_id = partition_id\n",
    "        self.net = net\n",
    "        self.trainloader = trainloader\n",
    "        self.valloader = valloader\n",
    "\n",
    "    def get_parameters(self, config):\n",
    "        print(f\"[Client {self.partition_id}] get_parameters\")\n",
    "        return get_parameters(self.net)\n",
    "\n",
    "    def fit(self, parameters, config):\n",
    "        print(f\"[Client {self.partition_id}] fit, config: {config}\")\n",
    "        set_parameters(self.net, parameters)\n",
    "        train(self.net, self.trainloader, epochs=EPOCHS)\n",
    "        return get_parameters(self.net), len(self.trainloader), {}\n",
    "\n",
    "    def evaluate(self, parameters, config):\n",
    "        print(f\"[Client {self.partition_id}] evaluate, config: {config}\")\n",
    "        set_parameters(self.net, parameters)\n",
    "        loss, accuracy = test(self.net, self.valloader)\n",
    "        return float(loss), len(self.valloader), {\"accuracy\": float(accuracy)}\n",
    "\n",
    "\n",
    "\n",
    "def client_fn(context: Context) -> Client:\n",
    "    net = Net().to(DEVICE)\n",
    "    partition_id = context.node_config[\"partition-id\"]\n",
    "    num_partitions = context.node_config[\"num-partitions\"]\n",
    "    trainloader, valloader, _ = load_datasets(partition_id, num_partitions)\n",
    "    return NormalFlowerClient(partition_id, net, trainloader, valloader).to_client()\n",
    "\n",
    "\n",
    "# Create the ClientApp\n",
    "client = ClientApp(client_fn=client_fn)"
   ]
  },
  {
   "cell_type": "code",
   "execution_count": null,
   "metadata": {},
   "outputs": [],
   "source": [
    "net = Net().to(DEVICE)\n",
    "\n",
    "_, _, testloader = load_datasets(0, NUM_PARTITIONS)\n",
    "\n",
    "evaluate_fn = get_evaluate_fn(testloader, net)\n",
    "\n",
    "\n",
    "def server_fn(context: Context) -> ServerAppComponents:\n",
    "    # Configure the server for just 3 rounds of training\n",
    "    config = ServerConfig(num_rounds=NUM_OF_ROUNDS)\n",
    "    return ServerAppComponents(\n",
    "        config=config,\n",
    "        strategy=ModifiedFedAvg(\n",
    "            evaluate_fn=evaluate_fn\n",
    "        ),\n",
    "    )\n",
    "\n",
    "server = ServerApp(server_fn=server_fn)\n",
    "\n",
    "# Run simulation\n",
    "run_simulation(\n",
    "    server_app=server,\n",
    "    client_app=client,\n",
    "    num_supernodes=NUM_PARTITIONS,\n",
    "    backend_config=backend_config,\n",
    ")"
   ]
  },
  {
   "cell_type": "code",
   "execution_count": 28,
   "metadata": {},
   "outputs": [],
   "source": [
    "\n",
    " \n",
    "with open(f'results/fed_avg_results.p', 'wb') as file:\n",
    "    pickle.dump(fed_avg_result, file)\n",
    "\n",
    "with open(f'results/fed_avg_model_results.p', 'wb') as file:\n",
    "    pickle.dump(fed_avg_model_results, file)"
   ]
  },
  {
   "cell_type": "code",
   "execution_count": 29,
   "metadata": {},
   "outputs": [],
   "source": [
    "import matplotlib.pyplot as plt\n",
    "import numpy as np\n",
    "\n",
    "\n",
    "# fed_avg_rounds = list(fed_avg_result.keys())\n",
    "# fed_avg_sizes = [fed_avg_result[round][\"total_size\"] for round in fed_avg_rounds]\n",
    "\n",
    "# plt.figure(figsize=(10, 5))\n",
    "# plt.plot(fed_avg_rounds, fed_avg_sizes, marker='o', linestyle='-', color='b')\n",
    "# plt.xlabel('Round')\n",
    "# plt.ylabel('Total Size of Parameters (bytes)')\n",
    "# plt.title('Total Size of Parameters for Each Round')\n",
    "# plt.grid(True)\n",
    "\n",
    "# fed_avg_losses = [fed_avg_result[round][\"total_loss\"] for round in fed_avg_rounds]\n",
    "\n",
    "# plt.figure(figsize=(10, 5))\n",
    "# plt.plot(fed_avg_rounds, fed_avg_losses, marker='o', linestyle='-', color='b')\n",
    "# plt.xlabel('Round')\n",
    "# plt.ylabel('Total Loss')\n",
    "# plt.title('Total Loss for Each Round')\n",
    "# plt.grid(True)\n",
    "\n",
    "# fed_avg_model_rounds = list(fed_avg_model_results.keys())\n",
    "\n",
    "# fed_avg_accuracies = [fed_avg_model_results[round][\"global_metrics\"][\"accuracy\"] for round in fed_avg_model_rounds]\n",
    "\n",
    "# plt.figure(figsize=(10, 5))\n",
    "# plt.plot(fed_avg_model_rounds, fed_avg_accuracies, marker='o', linestyle='-', color='b')\n",
    "# plt.xlabel('Round')\n",
    "# plt.ylabel('Accuracy')\n",
    "# plt.title('Accuracy for Each Round')\n",
    "# plt.grid(True)\n",
    "\n",
    "# fed_avg_global_losses = [fed_avg_model_results[round][\"global_loss\"] for round in fed_avg_model_rounds]\n",
    "\n",
    "# plt.figure(figsize=(10, 5))\n",
    "# plt.plot(fed_avg_model_rounds, fed_avg_global_losses, marker='o', linestyle='-', color='b')\n",
    "# plt.xlabel('Round')\n",
    "# plt.ylabel('Loss')\n",
    "# plt.title('Loss for Each Round')\n",
    "# plt.grid(True)"
   ]
  },
  {
   "cell_type": "markdown",
   "metadata": {},
   "source": [
    "# FedProx experiments:"
   ]
  },
  {
   "cell_type": "code",
   "execution_count": 41,
   "metadata": {},
   "outputs": [],
   "source": [
    "class FedProxFlowerClient(NumPyClient):\n",
    "    def __init__(self, partition_id, net, trainloader, valloader):\n",
    "        self.partition_id = partition_id\n",
    "        self.net = net\n",
    "        self.trainloader = trainloader\n",
    "        self.valloader = valloader\n",
    "\n",
    "    def get_parameters(self, config):\n",
    "        print(f\"[Client {self.partition_id}] get_parameters\")\n",
    "        return get_parameters(self.net)\n",
    "\n",
    "    def fit(self, parameters, config):\n",
    "        print(f\"[Client {self.partition_id}] fit, config: {config}\")\n",
    "        set_parameters(self.net, parameters)\n",
    "        global_params = copy.deepcopy(self.net).parameters()\n",
    "        proxima_train(self.net, self.trainloader, EPOCHS, config[\"proximal_mu\"], global_params)\n",
    "        return get_parameters(self.net), len(self.trainloader), {}\n",
    "\n",
    "    def evaluate(self, parameters, config):\n",
    "        print(f\"[Client {self.partition_id}] evaluate, config: {config}\")\n",
    "        set_parameters(self.net, parameters)\n",
    "        loss, accuracy = test(self.net, self.valloader)\n",
    "        return float(loss), len(self.valloader), {\"accuracy\": float(accuracy)}\n",
    "\n",
    "\n",
    "def client_fn(context: Context) -> Client:\n",
    "    net = Net().to(DEVICE)\n",
    "    partition_id = context.node_config[\"partition-id\"]\n",
    "    num_partitions = context.node_config[\"num-partitions\"]\n",
    "    trainloader, valloader, _ = load_datasets(partition_id, num_partitions)\n",
    "    return FedProxFlowerClient(partition_id, net, trainloader, valloader).to_client()\n",
    "\n",
    "\n",
    "# Create the ClientApp\n",
    "client = ClientApp(client_fn=client_fn)"
   ]
  },
  {
   "cell_type": "code",
   "execution_count": 42,
   "metadata": {},
   "outputs": [],
   "source": [
    "fed_prox_result = {}\n",
    "\n",
    "fed_prox_model_results = {}\n",
    "\n",
    "class ModifiedFedProx(ModifiedFedAvg):\n",
    "\n",
    "    def __init__(\n",
    "        self,\n",
    "        *,\n",
    "        fraction_fit: float = 1.0,\n",
    "        fraction_evaluate: float = 1.0,\n",
    "        min_fit_clients: int = 2,\n",
    "        min_evaluate_clients: int = 2,\n",
    "        min_available_clients: int = 2,\n",
    "        evaluate_fn: Optional[\n",
    "            Callable[\n",
    "                [int, NDArrays, dict[str, Scalar]],\n",
    "                Optional[tuple[float, dict[str, Scalar]]],\n",
    "            ]\n",
    "        ] = None,\n",
    "        on_fit_config_fn: Optional[Callable[[int], dict[str, Scalar]]] = None,\n",
    "        on_evaluate_config_fn: Optional[Callable[[int], dict[str, Scalar]]] = None,\n",
    "        accept_failures: bool = True,\n",
    "        initial_parameters: Optional[Parameters] = None,\n",
    "        fit_metrics_aggregation_fn: Optional[MetricsAggregationFn] = None,\n",
    "        evaluate_metrics_aggregation_fn: Optional[MetricsAggregationFn] = None,\n",
    "        proximal_mu: float,\n",
    "    ) -> None:\n",
    "        super().__init__(\n",
    "            fraction_fit=fraction_fit,\n",
    "            fraction_evaluate=fraction_evaluate,\n",
    "            min_fit_clients=min_fit_clients,\n",
    "            min_evaluate_clients=min_evaluate_clients,\n",
    "            min_available_clients=min_available_clients,\n",
    "            evaluate_fn=evaluate_fn,\n",
    "            on_fit_config_fn=on_fit_config_fn,\n",
    "            on_evaluate_config_fn=on_evaluate_config_fn,\n",
    "            accept_failures=accept_failures,\n",
    "            initial_parameters=initial_parameters,\n",
    "            fit_metrics_aggregation_fn=fit_metrics_aggregation_fn,\n",
    "            evaluate_metrics_aggregation_fn=evaluate_metrics_aggregation_fn,\n",
    "        )\n",
    "        self.proximal_mu = proximal_mu\n",
    "\n",
    "\n",
    "    def __repr__(self) -> str:\n",
    "        return \"ModifiedFedProx\"\n",
    "    \n",
    "\n",
    "    def configure_fit(\n",
    "        self, server_round: int, parameters: Parameters, client_manager: ClientManager\n",
    "    ) -> list[tuple[ClientProxy, FitIns]]:\n",
    "        \"\"\"Configure the next round of training.\n",
    "\n",
    "        Sends the proximal factor mu to the clients\n",
    "        \"\"\"\n",
    "        # Get the standard client/config pairs from the FedAvg super-class\n",
    "        client_config_pairs = super().configure_fit(\n",
    "            server_round, parameters, client_manager\n",
    "        )\n",
    "\n",
    "        # Return client/config pairs with the proximal factor mu added\n",
    "        return [\n",
    "            (\n",
    "                client,\n",
    "                FitIns(\n",
    "                    fit_ins.parameters,\n",
    "                    {**fit_ins.config, \"proximal_mu\": self.proximal_mu},\n",
    "                ),\n",
    "            )\n",
    "            for client, fit_ins in client_config_pairs\n",
    "        ]\n",
    "    \n",
    "    def aggregate_fit(\n",
    "        self,\n",
    "        server_round: int,\n",
    "        results: List[Tuple[ClientProxy, FitRes]],\n",
    "        failures: List[Union[Tuple[ClientProxy, FitRes], BaseException]],\n",
    "    ) -> Tuple[Optional[Parameters], Dict[str, Scalar]]:\n",
    "        \"\"\"Aggregate fit results using weighted average.\"\"\"\n",
    "        \n",
    "        total_size = 0\n",
    "        for client, fit_res in results:\n",
    "            total_size += get_parameters_size(fit_res.parameters) *2\n",
    "        print(f\"total size: {total_size}\")\n",
    "        \n",
    "        if fed_prox_result.get(server_round):\n",
    "            fed_prox_result[server_round][\"total_size\"] = total_size\n",
    "        else:\n",
    "            fed_prox_result[server_round] = {\"total_size\": total_size}\n",
    "        \n",
    "\n",
    "        weights_results = [\n",
    "            (parameters_to_ndarrays(fit_res.parameters), fit_res.num_examples)\n",
    "            for _, fit_res in results\n",
    "        ]\n",
    "\n",
    "        parameters_aggregated = ndarrays_to_parameters(aggregate(weights_results))\n",
    "        metrics_aggregated = {}\n",
    "        return parameters_aggregated, metrics_aggregated\n",
    "\n",
    "\n",
    "    def aggregate_evaluate(\n",
    "        self,\n",
    "        server_round: int,\n",
    "        results: List[Tuple[ClientProxy, EvaluateRes]],\n",
    "        failures: List[Union[Tuple[ClientProxy, EvaluateRes], BaseException]],\n",
    "    ) -> Tuple[Optional[float], Dict[str, Scalar]]:\n",
    "        \"\"\"Aggregate evaluation losses using weighted average.\"\"\"\n",
    "\n",
    "        if not results:\n",
    "            return None, {}\n",
    "        \n",
    "        total_loss = 0\n",
    "        for _, evaluate_res in results:\n",
    "            total_loss += evaluate_res.loss\n",
    "\n",
    "        if fed_prox_result.get(server_round):\n",
    "            fed_prox_result[server_round][\"total_loss\"] = total_loss\n",
    "        else:\n",
    "            fed_prox_result[server_round] = {\"total_loss\": total_loss}\n",
    "\n",
    "        loss_aggregated = weighted_loss_avg(\n",
    "            [\n",
    "                (evaluate_res.num_examples, evaluate_res.loss)\n",
    "                for _, evaluate_res in results\n",
    "            ]\n",
    "        )\n",
    "        metrics_aggregated = {}\n",
    "        return loss_aggregated, metrics_aggregated\n",
    "    \n",
    "\n",
    "    def evaluate(\n",
    "        self, server_round: int, parameters: Parameters\n",
    "    ) -> Optional[tuple[float, dict[str, Scalar]]]:\n",
    "        \"\"\"Evaluate model parameters using an evaluation function.\"\"\"\n",
    "        if self.evaluate_fn is None:\n",
    "            # No evaluation function provided\n",
    "            return None\n",
    "        parameters_ndarrays = parameters_to_ndarrays(parameters)\n",
    "        eval_res = self.evaluate_fn(server_round, parameters_ndarrays, {})\n",
    "        if eval_res is None:\n",
    "            return None\n",
    "        \n",
    "        if server_round in fed_prox_model_results:  \n",
    "            expand_fed_prox_model_results= {**fed_prox_model_results[server_round], \"global_loss\": eval_res[0], \"global_metrics\": eval_res[1]}\n",
    "        else:\n",
    "            expand_fed_prox_model_results= {\"global_loss\": eval_res[0], \"global_metrics\": eval_res[1]}\n",
    "        \n",
    "        fed_prox_model_results[server_round] = expand_fed_prox_model_results\n",
    "        \n",
    "        loss, metrics = eval_res\n",
    "        return loss, metrics\n"
   ]
  },
  {
   "cell_type": "code",
   "execution_count": 43,
   "metadata": {},
   "outputs": [
    {
     "name": "stderr",
     "output_type": "stream",
     "text": [
      "/Users/macbook/Desktop/L361/L361_Project/.conda/lib/python3.12/site-packages/datasets/utils/_dill.py:385: DeprecationWarning: co_lnotab is deprecated, use co_lines instead.\n",
      "  obj.co_lnotab,  # for < python 3.10 [not counted in args]\n",
      "\u001b[92mINFO \u001b[0m:      Starting Flower ServerApp, config: num_rounds=18, no round_timeout\n",
      "\u001b[92mINFO \u001b[0m:      \n",
      "\u001b[92mINFO \u001b[0m:      [INIT]\n",
      "\u001b[92mINFO \u001b[0m:      Using initial global parameters provided by strategy\n",
      "\u001b[92mINFO \u001b[0m:      Starting evaluation of initial global parameters\n"
     ]
    },
    {
     "name": "stdout",
     "output_type": "stream",
     "text": [
      "Initializing global model parameters\n",
      "Global init param 0: shape=(6, 3, 5, 5), mean=-0.001311, std=0.065889\n",
      "Global init param 1: shape=(6,), mean=0.006839, std=0.074688\n",
      "Global init param 2: shape=(16, 6, 5, 5), mean=-0.001411, std=0.046443\n",
      "Global init param 3: shape=(16,), mean=-0.001479, std=0.039506\n",
      "Global init param 4: shape=(180, 400), mean=0.000066, std=0.028773\n",
      "Global init param 5: shape=(180,), mean=-0.004178, std=0.026969\n",
      "Global init param 6: shape=(160, 180), mean=-0.000297, std=0.043201\n",
      "Global init param 7: shape=(160,), mean=0.000361, std=0.041946\n",
      "Global init param 8: shape=(140, 160), mean=0.000326, std=0.045486\n",
      "Global init param 9: shape=(140,), mean=-0.002905, std=0.043330\n",
      "Global init param 10: shape=(120, 140), mean=-0.000019, std=0.048580\n",
      "Global init param 11: shape=(120,), mean=-0.005034, std=0.047672\n",
      "Global init param 12: shape=(84, 120), mean=-0.000050, std=0.052265\n",
      "Global init param 13: shape=(84,), mean=-0.001565, std=0.049610\n",
      "Global init param 14: shape=(10, 84), mean=0.002125, std=0.063885\n",
      "Global init param 15: shape=(10,), mean=0.020911, std=0.064057\n",
      "\n",
      "==== Server-side evaluation for round 0 ====\n"
     ]
    },
    {
     "name": "stderr",
     "output_type": "stream",
     "text": [
      "\u001b[92mINFO \u001b[0m:      initial parameters (loss, other metrics): 0.07215112674236297, {'accuracy': 0.1}\n",
      "\u001b[92mINFO \u001b[0m:      \n",
      "\u001b[92mINFO \u001b[0m:      [ROUND 1]\n",
      "\u001b[92mINFO \u001b[0m:      configure_fit: strategy sampled 6 clients (out of 6)\n"
     ]
    },
    {
     "name": "stdout",
     "output_type": "stream",
     "text": [
      "  Evaluation results - Loss: 0.0722, Accuracy: 0.1000\n"
     ]
    },
    {
     "name": "stderr",
     "output_type": "stream",
     "text": [
      "\u001b[36m(ClientAppActor pid=79200)\u001b[0m /Users/macbook/Desktop/L361/L361_Project/.conda/lib/python3.12/site-packages/datasets/utils/_dill.py:385: DeprecationWarning: co_lnotab is deprecated, use co_lines instead.\n",
      "\u001b[36m(ClientAppActor pid=79200)\u001b[0m   obj.co_lnotab,  # for < python 3.10 [not counted in args]\n"
     ]
    },
    {
     "name": "stdout",
     "output_type": "stream",
     "text": [
      "\u001b[36m(ClientAppActor pid=79205)\u001b[0m [Client 2] fit, config: {'proximal_mu': 0.1}\n",
      "\u001b[36m(ClientAppActor pid=79203)\u001b[0m \n",
      "\u001b[36m(ClientAppActor pid=79205)\u001b[0m Epoch 1: train loss 0.06666438281536102, accuracy 0.1863186318631863\n",
      "\u001b[36m(ClientAppActor pid=79204)\u001b[0m [Client 3] fit, config: {'proximal_mu': 0.1}\u001b[32m [repeated 5x across cluster]\u001b[0m\n",
      "\u001b[36m(ClientAppActor pid=79204)\u001b[0m Epoch 1: train loss 0.06576725840568542, accuracy 0.18346834683468347\u001b[32m [repeated 7x across cluster]\u001b[0m\n",
      "\u001b[36m(ClientAppActor pid=79205)\u001b[0m Epoch 4: train loss 0.0526779443025589, accuracy 0.33603360336033605\u001b[32m [repeated 6x across cluster]\u001b[0m\n",
      "\u001b[36m(ClientAppActor pid=79204)\u001b[0m Epoch 3: train loss 0.05503925308585167, accuracy 0.2889288928892889\u001b[32m [repeated 8x across cluster]\u001b[0m\n",
      "\u001b[36m(ClientAppActor pid=79207)\u001b[0m Epoch 7: train loss 0.045991551131010056, accuracy 0.45402729863506824\u001b[32m [repeated 8x across cluster]\u001b[0m\n",
      "\u001b[36m(ClientAppActor pid=79204)\u001b[0m Epoch 6: train loss 0.049740612506866455, accuracy 0.35943594359435943\u001b[32m [repeated 10x across cluster]\u001b[0m\n",
      "\u001b[36m(ClientAppActor pid=79200)\u001b[0m Epoch 8: train loss 0.04316657409071922, accuracy 0.47824782478247824\u001b[32m [repeated 5x across cluster]\u001b[0m\n"
     ]
    },
    {
     "name": "stderr",
     "output_type": "stream",
     "text": [
      "\u001b[92mINFO \u001b[0m:      aggregate_fit: received 6 results and 0 failures\n"
     ]
    },
    {
     "name": "stdout",
     "output_type": "stream",
     "text": [
      "total size: 7449672\n",
      "\n",
      "==== Server-side evaluation for round 1 ====\n",
      "  Parameter 0: Changed by 0.027717\n",
      "  Parameter 1: Changed by 0.038427\n",
      "  Parameter 2: Changed by 0.022511\n",
      "  Parameter 3: Changed by 0.029745\n",
      "  Parameter 4: Changed by 0.018603\n",
      "  Parameter 5: Changed by 0.032121\n",
      "  Parameter 6: Changed by 0.013975\n",
      "  Parameter 7: Changed by 0.032446\n",
      "  Parameter 8: Changed by 0.012942\n",
      "  Parameter 9: Changed by 0.031966\n",
      "  Parameter 10: Changed by 0.011829\n",
      "  Parameter 11: Changed by 0.030696\n",
      "  Parameter 12: Changed by 0.012036\n",
      "  Parameter 13: Changed by 0.029152\n",
      "  Parameter 14: Changed by 0.025995\n",
      "  Parameter 15: Changed by 0.053715\n"
     ]
    },
    {
     "name": "stderr",
     "output_type": "stream",
     "text": [
      "\u001b[92mINFO \u001b[0m:      fit progress: (1, 0.07092411272525788, {'accuracy': 0.1465}, 54.25051537505351)\n",
      "\u001b[92mINFO \u001b[0m:      configure_evaluate: strategy sampled 6 clients (out of 6)\n"
     ]
    },
    {
     "name": "stdout",
     "output_type": "stream",
     "text": [
      "  Evaluation results - Loss: 0.0709, Accuracy: 0.1465\n"
     ]
    },
    {
     "name": "stderr",
     "output_type": "stream",
     "text": [
      "\u001b[36m(ClientAppActor pid=79204)\u001b[0m /Users/macbook/Desktop/L361/L361_Project/.conda/lib/python3.12/site-packages/datasets/utils/_dill.py:385: DeprecationWarning: co_lnotab is deprecated, use co_lines instead.\u001b[32m [repeated 6x across cluster]\u001b[0m\n",
      "\u001b[36m(ClientAppActor pid=79204)\u001b[0m   obj.co_lnotab,  # for < python 3.10 [not counted in args]\u001b[32m [repeated 6x across cluster]\u001b[0m\n"
     ]
    },
    {
     "name": "stdout",
     "output_type": "stream",
     "text": [
      "\u001b[36m(ClientAppActor pid=79204)\u001b[0m [Client 0] evaluate, config: {}\n",
      "\u001b[36m(ClientAppActor pid=79204)\u001b[0m Epoch 8: train loss 0.046480875462293625, accuracy 0.4156915691569157\u001b[32m [repeated 3x across cluster]\u001b[0m\n"
     ]
    },
    {
     "name": "stderr",
     "output_type": "stream",
     "text": [
      "\u001b[92mINFO \u001b[0m:      aggregate_evaluate: received 6 results and 0 failures\n",
      "\u001b[92mINFO \u001b[0m:      \n",
      "\u001b[92mINFO \u001b[0m:      [ROUND 2]\n",
      "\u001b[92mINFO \u001b[0m:      configure_fit: strategy sampled 6 clients (out of 6)\n"
     ]
    },
    {
     "name": "stdout",
     "output_type": "stream",
     "text": [
      "\u001b[36m(ClientAppActor pid=79206)\u001b[0m [Client 3] fit, config: {'proximal_mu': 0.1}\n"
     ]
    },
    {
     "name": "stderr",
     "output_type": "stream",
     "text": [
      "\u001b[36m(ClientAppActor pid=79204)\u001b[0m /Users/macbook/Desktop/L361/L361_Project/.conda/lib/python3.12/site-packages/datasets/utils/_dill.py:385: DeprecationWarning: co_lnotab is deprecated, use co_lines instead.\u001b[32m [repeated 9x across cluster]\u001b[0m\n",
      "\u001b[36m(ClientAppActor pid=79204)\u001b[0m   obj.co_lnotab,  # for < python 3.10 [not counted in args]\u001b[32m [repeated 9x across cluster]\u001b[0m\n"
     ]
    },
    {
     "name": "stdout",
     "output_type": "stream",
     "text": [
      "\u001b[36m(ClientAppActor pid=79205)\u001b[0m [Client 5] evaluate, config: {}\u001b[32m [repeated 5x across cluster]\u001b[0m\n",
      "\u001b[36m(ClientAppActor pid=79205)\u001b[0m Epoch 1: train loss 0.055212944746017456, accuracy 0.3110844457777111\n",
      "\u001b[36m(ClientAppActor pid=79200)\u001b[0m [Client 1] fit, config: {'proximal_mu': 0.1}\u001b[32m [repeated 4x across cluster]\u001b[0m\n",
      "\u001b[36m(ClientAppActor pid=79200)\u001b[0m Epoch 1: train loss 0.054517313838005066, accuracy 0.3208339583020849\u001b[32m [repeated 8x across cluster]\u001b[0m\n",
      "\u001b[36m(ClientAppActor pid=79200)\u001b[0m Epoch 3: train loss 0.046075478196144104, accuracy 0.43482825858707064\u001b[32m [repeated 10x across cluster]\u001b[0m\n",
      "\u001b[36m(ClientAppActor pid=79203)\u001b[0m [Client 2] fit, config: {'proximal_mu': 0.1}\n"
     ]
    },
    {
     "name": "stderr",
     "output_type": "stream",
     "text": [
      "\u001b[36m(ClientAppActor pid=79203)\u001b[0m Using the latest cached version of the dataset since cifar10 couldn't be found on the Hugging Face Hub\n",
      "\u001b[36m(ClientAppActor pid=79203)\u001b[0m Found the latest cached dataset configuration 'plain_text' at /Users/macbook/.cache/huggingface/datasets/cifar10/plain_text/0.0.0/0b2714987fa478483af9968de7c934580d0bb9a2 (last modified on Mon Mar  3 23:39:18 2025).\n",
      "\u001b[36m(ClientAppActor pid=79203)\u001b[0m /Users/macbook/Desktop/L361/L361_Project/.conda/lib/python3.12/site-packages/datasets/utils/_dill.py:385: DeprecationWarning: co_lnotab is deprecated, use co_lines instead.\u001b[32m [repeated 2x across cluster]\u001b[0m\n",
      "\u001b[36m(ClientAppActor pid=79203)\u001b[0m   obj.co_lnotab,  # for < python 3.10 [not counted in args]\u001b[32m [repeated 2x across cluster]\u001b[0m\n"
     ]
    },
    {
     "name": "stdout",
     "output_type": "stream",
     "text": [
      "\u001b[36m(ClientAppActor pid=79200)\u001b[0m Epoch 5: train loss 0.03951183706521988, accuracy 0.5215239238038099\u001b[32m [repeated 11x across cluster]\u001b[0m\n",
      "\u001b[36m(ClientAppActor pid=79200)\u001b[0m Epoch 7: train loss 0.03400925174355507, accuracy 0.5935203239838008\u001b[32m [repeated 12x across cluster]\u001b[0m\n",
      "\u001b[36m(ClientAppActor pid=79203)\u001b[0m Epoch 6: train loss 0.03703543543815613, accuracy 0.5507050705070508\u001b[32m [repeated 4x across cluster]\u001b[0m\n"
     ]
    },
    {
     "name": "stderr",
     "output_type": "stream",
     "text": [
      "\u001b[92mINFO \u001b[0m:      aggregate_fit: received 6 results and 0 failures\n"
     ]
    },
    {
     "name": "stdout",
     "output_type": "stream",
     "text": [
      "\u001b[36m(ClientAppActor pid=79203)\u001b[0m Epoch 8: train loss 0.03056178241968155, accuracy 0.6408640864086409\u001b[32m [repeated 2x across cluster]\u001b[0m\n",
      "total size: 7449672\n",
      "\n",
      "==== Server-side evaluation for round 2 ====\n",
      "  Parameter 0: Changed by 0.018069\n",
      "  Parameter 1: Changed by 0.014897\n",
      "  Parameter 2: Changed by 0.022540\n",
      "  Parameter 3: Changed by 0.021113\n",
      "  Parameter 4: Changed by 0.017745\n",
      "  Parameter 5: Changed by 0.015855\n",
      "  Parameter 6: Changed by 0.019964\n",
      "  Parameter 7: Changed by 0.015530\n",
      "  Parameter 8: Changed by 0.022009\n",
      "  Parameter 9: Changed by 0.016587\n",
      "  Parameter 10: Changed by 0.018465\n",
      "  Parameter 11: Changed by 0.017044\n",
      "  Parameter 12: Changed by 0.015377\n",
      "  Parameter 13: Changed by 0.020804\n",
      "  Parameter 14: Changed by 0.022595\n",
      "  Parameter 15: Changed by 0.034145\n"
     ]
    },
    {
     "name": "stderr",
     "output_type": "stream",
     "text": [
      "\u001b[92mINFO \u001b[0m:      fit progress: (2, 0.04442917909026146, {'accuracy': 0.486}, 99.93993358314037)\n",
      "\u001b[92mINFO \u001b[0m:      configure_evaluate: strategy sampled 6 clients (out of 6)\n"
     ]
    },
    {
     "name": "stdout",
     "output_type": "stream",
     "text": [
      "  Evaluation results - Loss: 0.0444, Accuracy: 0.4860\n",
      "\u001b[36m(ClientAppActor pid=79206)\u001b[0m [Client 4] evaluate, config: {}\n"
     ]
    },
    {
     "name": "stderr",
     "output_type": "stream",
     "text": [
      "\u001b[36m(ClientAppActor pid=79206)\u001b[0m /Users/macbook/Desktop/L361/L361_Project/.conda/lib/python3.12/site-packages/datasets/utils/_dill.py:385: DeprecationWarning: co_lnotab is deprecated, use co_lines instead.\n",
      "\u001b[36m(ClientAppActor pid=79206)\u001b[0m   obj.co_lnotab,  # for < python 3.10 [not counted in args]\n",
      "\u001b[36m(ClientAppActor pid=79205)\u001b[0m /Users/macbook/Desktop/L361/L361_Project/.conda/lib/python3.12/site-packages/datasets/utils/_dill.py:385: DeprecationWarning: co_lnotab is deprecated, use co_lines instead.\n",
      "\u001b[36m(ClientAppActor pid=79205)\u001b[0m   obj.co_lnotab,  # for < python 3.10 [not counted in args]\n",
      "\u001b[92mINFO \u001b[0m:      aggregate_evaluate: received 6 results and 0 failures\n",
      "\u001b[92mINFO \u001b[0m:      \n",
      "\u001b[92mINFO \u001b[0m:      [ROUND 3]\n",
      "\u001b[92mINFO \u001b[0m:      configure_fit: strategy sampled 6 clients (out of 6)\n"
     ]
    },
    {
     "name": "stdout",
     "output_type": "stream",
     "text": [
      "\u001b[36m(ClientAppActor pid=79205)\u001b[0m [Client 5] fit, config: {'proximal_mu': 0.1}\n"
     ]
    },
    {
     "name": "stderr",
     "output_type": "stream",
     "text": [
      "\u001b[36m(ClientAppActor pid=79200)\u001b[0m /Users/macbook/Desktop/L361/L361_Project/.conda/lib/python3.12/site-packages/datasets/utils/_dill.py:385: DeprecationWarning: co_lnotab is deprecated, use co_lines instead.\u001b[32m [repeated 7x across cluster]\u001b[0m\n",
      "\u001b[36m(ClientAppActor pid=79200)\u001b[0m   obj.co_lnotab,  # for < python 3.10 [not counted in args]\u001b[32m [repeated 7x across cluster]\u001b[0m\n"
     ]
    },
    {
     "name": "stdout",
     "output_type": "stream",
     "text": [
      "\u001b[36m(ClientAppActor pid=79204)\u001b[0m [Client 1] evaluate, config: {}\u001b[32m [repeated 5x across cluster]\u001b[0m\n",
      "\u001b[36m(ClientAppActor pid=79205)\u001b[0m Epoch 1: train loss 0.042209211736917496, accuracy 0.504950495049505\n",
      "\u001b[36m(ClientAppActor pid=79207)\u001b[0m [Client 2] fit, config: {'proximal_mu': 0.1}\u001b[32m [repeated 5x across cluster]\u001b[0m\n",
      "\u001b[36m(ClientAppActor pid=79204)\u001b[0m Epoch 2: train loss 0.03759244084358215, accuracy 0.5714714264286785\u001b[32m [repeated 11x across cluster]\u001b[0m\n",
      "\u001b[36m(ClientAppActor pid=79203)\u001b[0m Epoch 4: train loss 0.029818614944815636, accuracy 0.6527673616319184\u001b[32m [repeated 9x across cluster]\u001b[0m\n",
      "\u001b[36m(ClientAppActor pid=79207)\u001b[0m Epoch 6: train loss 0.023533571511507034, accuracy 0.729072907290729\u001b[32m [repeated 7x across cluster]\u001b[0m\n",
      "\u001b[36m(ClientAppActor pid=79205)\u001b[0m Epoch 8: train loss 0.017445886507630348, accuracy 0.7964296429642964\u001b[32m [repeated 7x across cluster]\u001b[0m\n",
      "\u001b[36m(ClientAppActor pid=79206)\u001b[0m Epoch 7: train loss 0.020979296416044235, accuracy 0.7629762976297629\u001b[32m [repeated 8x across cluster]\u001b[0m\n"
     ]
    },
    {
     "name": "stderr",
     "output_type": "stream",
     "text": [
      "\u001b[92mINFO \u001b[0m:      aggregate_fit: received 6 results and 0 failures\n"
     ]
    },
    {
     "name": "stdout",
     "output_type": "stream",
     "text": [
      "total size: 7449672\n",
      "\n",
      "==== Server-side evaluation for round 3 ====\n",
      "  Parameter 0: Changed by 0.011829\n",
      "  Parameter 1: Changed by 0.010162\n",
      "  Parameter 2: Changed by 0.014468\n",
      "  Parameter 3: Changed by 0.017340\n",
      "  Parameter 4: Changed by 0.013905\n",
      "  Parameter 5: Changed by 0.010316\n",
      "  Parameter 6: Changed by 0.016559\n",
      "  Parameter 7: Changed by 0.010019\n",
      "  Parameter 8: Changed by 0.017946\n",
      "  Parameter 9: Changed by 0.007976\n",
      "  Parameter 10: Changed by 0.012144\n",
      "  Parameter 11: Changed by 0.009900\n",
      "  Parameter 12: Changed by 0.009898\n",
      "  Parameter 13: Changed by 0.011749\n",
      "  Parameter 14: Changed by 0.015785\n",
      "  Parameter 15: Changed by 0.020720\n"
     ]
    },
    {
     "name": "stderr",
     "output_type": "stream",
     "text": [
      "\u001b[92mINFO \u001b[0m:      fit progress: (3, 0.048214974230527875, {'accuracy': 0.5388}, 145.85392258316278)\n",
      "\u001b[92mINFO \u001b[0m:      configure_evaluate: strategy sampled 6 clients (out of 6)\n"
     ]
    },
    {
     "name": "stdout",
     "output_type": "stream",
     "text": [
      "  Evaluation results - Loss: 0.0482, Accuracy: 0.5388\n",
      "\u001b[36m(ClientAppActor pid=79205)\u001b[0m [Client 5] evaluate, config: {}\n",
      "\u001b[36m(ClientAppActor pid=79204)\u001b[0m Epoch 8: train loss 0.017619766294956207, accuracy 0.7997600119994001\u001b[32m [repeated 5x across cluster]\u001b[0m\n"
     ]
    },
    {
     "name": "stderr",
     "output_type": "stream",
     "text": [
      "\u001b[36m(ClientAppActor pid=79205)\u001b[0m /Users/macbook/Desktop/L361/L361_Project/.conda/lib/python3.12/site-packages/datasets/utils/_dill.py:385: DeprecationWarning: co_lnotab is deprecated, use co_lines instead.\u001b[32m [repeated 4x across cluster]\u001b[0m\n",
      "\u001b[36m(ClientAppActor pid=79205)\u001b[0m   obj.co_lnotab,  # for < python 3.10 [not counted in args]\u001b[32m [repeated 4x across cluster]\u001b[0m\n",
      "\u001b[92mINFO \u001b[0m:      aggregate_evaluate: received 6 results and 0 failures\n",
      "\u001b[92mINFO \u001b[0m:      \n",
      "\u001b[92mINFO \u001b[0m:      [ROUND 4]\n",
      "\u001b[92mINFO \u001b[0m:      configure_fit: strategy sampled 6 clients (out of 6)\n",
      "\u001b[36m(ClientAppActor pid=79206)\u001b[0m /Users/macbook/Desktop/L361/L361_Project/.conda/lib/python3.12/site-packages/datasets/utils/_dill.py:385: DeprecationWarning: co_lnotab is deprecated, use co_lines instead.\u001b[32m [repeated 6x across cluster]\u001b[0m\n",
      "\u001b[36m(ClientAppActor pid=79206)\u001b[0m   obj.co_lnotab,  # for < python 3.10 [not counted in args]\u001b[32m [repeated 6x across cluster]\u001b[0m\n"
     ]
    },
    {
     "name": "stdout",
     "output_type": "stream",
     "text": [
      "\u001b[36m(ClientAppActor pid=79206)\u001b[0m [Client 3] fit, config: {'proximal_mu': 0.1}\n",
      "\u001b[36m(ClientAppActor pid=79203)\u001b[0m [Client 2] evaluate, config: {}\u001b[32m [repeated 5x across cluster]\u001b[0m\n",
      "\u001b[36m(ClientAppActor pid=79206)\u001b[0m Epoch 1: train loss 0.03714113309979439, accuracy 0.5789078907890789\n",
      "\u001b[36m(ClientAppActor pid=79204)\u001b[0m [Client 1] fit, config: {'proximal_mu': 0.1}\u001b[32m [repeated 5x across cluster]\u001b[0m\n",
      "\u001b[36m(ClientAppActor pid=79206)\u001b[0m Epoch 3: train loss 0.02571904845535755, accuracy 0.6992199219921992\u001b[32m [repeated 12x across cluster]\u001b[0m\n",
      "\u001b[36m(ClientAppActor pid=79206)\u001b[0m Epoch 5: train loss 0.018416104838252068, accuracy 0.7923792379237924\u001b[32m [repeated 12x across cluster]\u001b[0m\n",
      "\u001b[36m(ClientAppActor pid=79206)\u001b[0m Epoch 7: train loss 0.013265498913824558, accuracy 0.854035403540354\u001b[32m [repeated 12x across cluster]\u001b[0m\n"
     ]
    },
    {
     "name": "stderr",
     "output_type": "stream",
     "text": [
      "\u001b[92mINFO \u001b[0m:      aggregate_fit: received 6 results and 0 failures\n"
     ]
    },
    {
     "name": "stdout",
     "output_type": "stream",
     "text": [
      "total size: 7449672\n",
      "\n",
      "==== Server-side evaluation for round 4 ====\n",
      "  Parameter 0: Changed by 0.008374\n",
      "  Parameter 1: Changed by 0.013657\n",
      "  Parameter 2: Changed by 0.010664\n",
      "  Parameter 3: Changed by 0.015175\n",
      "  Parameter 4: Changed by 0.011501\n",
      "  Parameter 5: Changed by 0.008012\n",
      "  Parameter 6: Changed by 0.013498\n",
      "  Parameter 7: Changed by 0.007151\n",
      "  Parameter 8: Changed by 0.014781\n",
      "  Parameter 9: Changed by 0.006014\n",
      "  Parameter 10: Changed by 0.009762\n",
      "  Parameter 11: Changed by 0.006324\n",
      "  Parameter 12: Changed by 0.007253\n",
      "  Parameter 13: Changed by 0.007019\n",
      "  Parameter 14: Changed by 0.011719\n",
      "  Parameter 15: Changed by 0.010273\n"
     ]
    },
    {
     "name": "stderr",
     "output_type": "stream",
     "text": [
      "\u001b[92mINFO \u001b[0m:      fit progress: (4, 0.054671808785200116, {'accuracy': 0.5503}, 181.36647562519647)\n",
      "\u001b[92mINFO \u001b[0m:      configure_evaluate: strategy sampled 6 clients (out of 6)\n"
     ]
    },
    {
     "name": "stdout",
     "output_type": "stream",
     "text": [
      "  Evaluation results - Loss: 0.0547, Accuracy: 0.5503\n"
     ]
    },
    {
     "name": "stderr",
     "output_type": "stream",
     "text": [
      "\u001b[36m(ClientAppActor pid=79204)\u001b[0m /Users/macbook/Desktop/L361/L361_Project/.conda/lib/python3.12/site-packages/datasets/utils/_dill.py:385: DeprecationWarning: co_lnotab is deprecated, use co_lines instead.\u001b[32m [repeated 6x across cluster]\u001b[0m\n",
      "\u001b[36m(ClientAppActor pid=79204)\u001b[0m   obj.co_lnotab,  # for < python 3.10 [not counted in args]\u001b[32m [repeated 6x across cluster]\u001b[0m\n"
     ]
    },
    {
     "name": "stdout",
     "output_type": "stream",
     "text": [
      "\u001b[36m(ClientAppActor pid=79203)\u001b[0m [Client 4] evaluate, config: {}\n",
      "\u001b[36m(ClientAppActor pid=79204)\u001b[0m Epoch 8: train loss 0.01057337038218975, accuracy 0.880005999700015\u001b[32m [repeated 11x across cluster]\u001b[0m\n"
     ]
    },
    {
     "name": "stderr",
     "output_type": "stream",
     "text": [
      "\u001b[92mINFO \u001b[0m:      aggregate_evaluate: received 6 results and 0 failures\n",
      "\u001b[92mINFO \u001b[0m:      \n",
      "\u001b[92mINFO \u001b[0m:      [ROUND 5]\n",
      "\u001b[92mINFO \u001b[0m:      configure_fit: strategy sampled 6 clients (out of 6)\n"
     ]
    },
    {
     "name": "stdout",
     "output_type": "stream",
     "text": [
      "\u001b[36m(ClientAppActor pid=79206)\u001b[0m [Client 1] fit, config: {'proximal_mu': 0.1}\n"
     ]
    },
    {
     "name": "stderr",
     "output_type": "stream",
     "text": [
      "\u001b[36m(ClientAppActor pid=79204)\u001b[0m /Users/macbook/Desktop/L361/L361_Project/.conda/lib/python3.12/site-packages/datasets/utils/_dill.py:385: DeprecationWarning: co_lnotab is deprecated, use co_lines instead.\u001b[32m [repeated 10x across cluster]\u001b[0m\n",
      "\u001b[36m(ClientAppActor pid=79204)\u001b[0m   obj.co_lnotab,  # for < python 3.10 [not counted in args]\u001b[32m [repeated 10x across cluster]\u001b[0m\n"
     ]
    },
    {
     "name": "stdout",
     "output_type": "stream",
     "text": [
      "\u001b[36m(ClientAppActor pid=79207)\u001b[0m [Client 2] evaluate, config: {}\u001b[32m [repeated 5x across cluster]\u001b[0m\n",
      "\u001b[36m(ClientAppActor pid=79206)\u001b[0m Epoch 1: train loss 0.033408649265766144, accuracy 0.6245687715614219\n",
      "\u001b[36m(ClientAppActor pid=79205)\u001b[0m [Client 5] fit, config: {'proximal_mu': 0.1}\u001b[32m [repeated 5x across cluster]\u001b[0m\n",
      "\u001b[36m(ClientAppActor pid=79206)\u001b[0m Epoch 3: train loss 0.020112043246626854, accuracy 0.7744112794360282\u001b[32m [repeated 11x across cluster]\u001b[0m\n",
      "\u001b[36m(ClientAppActor pid=79206)\u001b[0m Epoch 5: train loss 0.012878268957138062, accuracy 0.8552572371381431\u001b[32m [repeated 12x across cluster]\u001b[0m\n",
      "\u001b[36m(ClientAppActor pid=79206)\u001b[0m Epoch 7: train loss 0.010109104216098785, accuracy 0.8893055347232638\u001b[32m [repeated 12x across cluster]\u001b[0m\n"
     ]
    },
    {
     "name": "stderr",
     "output_type": "stream",
     "text": [
      "\u001b[92mINFO \u001b[0m:      aggregate_fit: received 6 results and 0 failures\n"
     ]
    },
    {
     "name": "stdout",
     "output_type": "stream",
     "text": [
      "total size: 7449672\n",
      "\n",
      "==== Server-side evaluation for round 5 ====\n",
      "  Parameter 0: Changed by 0.006858\n",
      "  Parameter 1: Changed by 0.009948\n",
      "  Parameter 2: Changed by 0.008963\n",
      "  Parameter 3: Changed by 0.013729\n",
      "  Parameter 4: Changed by 0.010175\n",
      "  Parameter 5: Changed by 0.007157\n",
      "  Parameter 6: Changed by 0.012389\n",
      "  Parameter 7: Changed by 0.007158\n",
      "  Parameter 8: Changed by 0.013370\n",
      "  Parameter 9: Changed by 0.005872\n",
      "  Parameter 10: Changed by 0.008333\n",
      "  Parameter 11: Changed by 0.005207\n",
      "  Parameter 12: Changed by 0.006015\n",
      "  Parameter 13: Changed by 0.005427\n",
      "  Parameter 14: Changed by 0.010301\n",
      "  Parameter 15: Changed by 0.005754\n",
      "\u001b[36m(ClientAppActor pid=79205)\u001b[0m Epoch 8: train loss 0.008455030620098114, accuracy 0.9110411041104111\u001b[32m [repeated 12x across cluster]\u001b[0m\n"
     ]
    },
    {
     "name": "stderr",
     "output_type": "stream",
     "text": [
      "\u001b[92mINFO \u001b[0m:      fit progress: (5, 0.059343621170520784, {'accuracy': 0.5619}, 215.3800165001303)\n",
      "\u001b[92mINFO \u001b[0m:      configure_evaluate: strategy sampled 6 clients (out of 6)\n"
     ]
    },
    {
     "name": "stdout",
     "output_type": "stream",
     "text": [
      "  Evaluation results - Loss: 0.0593, Accuracy: 0.5619\n",
      "\u001b[36m(ClientAppActor pid=79206)\u001b[0m [Client 5] evaluate, config: {}\n"
     ]
    },
    {
     "name": "stderr",
     "output_type": "stream",
     "text": [
      "\u001b[36m(ClientAppActor pid=79206)\u001b[0m /Users/macbook/Desktop/L361/L361_Project/.conda/lib/python3.12/site-packages/datasets/utils/_dill.py:385: DeprecationWarning: co_lnotab is deprecated, use co_lines instead.\u001b[32m [repeated 2x across cluster]\u001b[0m\n",
      "\u001b[36m(ClientAppActor pid=79206)\u001b[0m   obj.co_lnotab,  # for < python 3.10 [not counted in args]\u001b[32m [repeated 2x across cluster]\u001b[0m\n",
      "\u001b[92mINFO \u001b[0m:      aggregate_evaluate: received 6 results and 0 failures\n",
      "\u001b[92mINFO \u001b[0m:      \n",
      "\u001b[92mINFO \u001b[0m:      [ROUND 6]\n",
      "\u001b[92mINFO \u001b[0m:      configure_fit: strategy sampled 6 clients (out of 6)\n"
     ]
    },
    {
     "name": "stdout",
     "output_type": "stream",
     "text": [
      "\u001b[36m(ClientAppActor pid=79207)\u001b[0m [Client 1] fit, config: {'proximal_mu': 0.1}\n",
      "\u001b[36m(ClientAppActor pid=79207)\u001b[0m Epoch 1: train loss 0.030107880011200905, accuracy 0.6677666116694165\n",
      "\u001b[36m(ClientAppActor pid=79205)\u001b[0m [Client 0] evaluate, config: {}\u001b[32m [repeated 5x across cluster]\u001b[0m\n",
      "\u001b[36m(ClientAppActor pid=79206)\u001b[0m [Client 2] fit, config: {'proximal_mu': 0.1}\u001b[32m [repeated 5x across cluster]\u001b[0m\n",
      "\u001b[36m(ClientAppActor pid=79204)\u001b[0m Epoch 3: train loss 0.015134737826883793, accuracy 0.8315331533153315\u001b[32m [repeated 12x across cluster]\u001b[0m\n",
      "\u001b[36m(ClientAppActor pid=79204)\u001b[0m Epoch 5: train loss 0.009423057548701763, accuracy 0.8996399639963997\u001b[32m [repeated 12x across cluster]\u001b[0m\n",
      "\u001b[36m(ClientAppActor pid=79204)\u001b[0m Epoch 7: train loss 0.007536427583545446, accuracy 0.9177917791779178\u001b[32m [repeated 12x across cluster]\u001b[0m\n"
     ]
    },
    {
     "name": "stderr",
     "output_type": "stream",
     "text": [
      "\u001b[92mINFO \u001b[0m:      aggregate_fit: received 6 results and 0 failures\n"
     ]
    },
    {
     "name": "stdout",
     "output_type": "stream",
     "text": [
      "total size: 7449672\n",
      "\n",
      "==== Server-side evaluation for round 6 ====\n",
      "  Parameter 0: Changed by 0.005863\n",
      "  Parameter 1: Changed by 0.009829\n",
      "  Parameter 2: Changed by 0.007976\n",
      "  Parameter 3: Changed by 0.012525\n",
      "  Parameter 4: Changed by 0.009387\n",
      "  Parameter 5: Changed by 0.006713\n",
      "  Parameter 6: Changed by 0.011565\n",
      "  Parameter 7: Changed by 0.007321\n",
      "  Parameter 8: Changed by 0.012616\n",
      "  Parameter 9: Changed by 0.006447\n",
      "  Parameter 10: Changed by 0.008128\n",
      "  Parameter 11: Changed by 0.005305\n",
      "  Parameter 12: Changed by 0.005360\n",
      "  Parameter 13: Changed by 0.005714\n",
      "  Parameter 14: Changed by 0.009075\n",
      "  Parameter 15: Changed by 0.005925\n"
     ]
    },
    {
     "name": "stderr",
     "output_type": "stream",
     "text": [
      "\u001b[92mINFO \u001b[0m:      fit progress: (6, 0.06367072913050652, {'accuracy': 0.562}, 248.24154837499373)\n",
      "\u001b[92mINFO \u001b[0m:      configure_evaluate: strategy sampled 6 clients (out of 6)\n"
     ]
    },
    {
     "name": "stdout",
     "output_type": "stream",
     "text": [
      "  Evaluation results - Loss: 0.0637, Accuracy: 0.5620\n",
      "\u001b[36m(ClientAppActor pid=79206)\u001b[0m [Client 0] evaluate, config: {}\n",
      "\u001b[36m(ClientAppActor pid=79206)\u001b[0m Epoch 8: train loss 0.0058654192835092545, accuracy 0.9353435343534353\u001b[32m [repeated 11x across cluster]\u001b[0m\n"
     ]
    },
    {
     "name": "stderr",
     "output_type": "stream",
     "text": [
      "\u001b[36m(ClientAppActor pid=79206)\u001b[0m /Users/macbook/Desktop/L361/L361_Project/.conda/lib/python3.12/site-packages/datasets/utils/_dill.py:385: DeprecationWarning: co_lnotab is deprecated, use co_lines instead.\u001b[32m [repeated 12x across cluster]\u001b[0m\n",
      "\u001b[36m(ClientAppActor pid=79206)\u001b[0m   obj.co_lnotab,  # for < python 3.10 [not counted in args]\u001b[32m [repeated 12x across cluster]\u001b[0m\n",
      "\u001b[92mINFO \u001b[0m:      aggregate_evaluate: received 6 results and 0 failures\n",
      "\u001b[92mINFO \u001b[0m:      \n",
      "\u001b[92mINFO \u001b[0m:      [ROUND 7]\n",
      "\u001b[92mINFO \u001b[0m:      configure_fit: strategy sampled 6 clients (out of 6)\n"
     ]
    },
    {
     "name": "stdout",
     "output_type": "stream",
     "text": [
      "\u001b[36m(ClientAppActor pid=79206)\u001b[0m [Client 5] fit, config: {'proximal_mu': 0.1}\n",
      "\u001b[36m(ClientAppActor pid=79200)\u001b[0m [Client 4] evaluate, config: {}\u001b[32m [repeated 5x across cluster]\u001b[0m\n",
      "\u001b[36m(ClientAppActor pid=79206)\u001b[0m Epoch 1: train loss 0.027915524318814278, accuracy 0.695019501950195\n",
      "\u001b[36m(ClientAppActor pid=79207)\u001b[0m Epoch 1: train loss 0.027365300804376602, accuracy 0.7027148642567872\n",
      "\u001b[36m(ClientAppActor pid=79203)\u001b[0m [Client 2] fit, config: {'proximal_mu': 0.1}\u001b[32m [repeated 5x across cluster]\u001b[0m\n",
      "\u001b[36m(ClientAppActor pid=79206)\u001b[0m Epoch 3: train loss 0.012194382026791573, accuracy 0.8586858685868587\u001b[32m [repeated 11x across cluster]\u001b[0m\n",
      "\u001b[36m(ClientAppActor pid=79206)\u001b[0m Epoch 5: train loss 0.008323883637785912, accuracy 0.9083408340834084\u001b[32m [repeated 12x across cluster]\u001b[0m\n",
      "\u001b[36m(ClientAppActor pid=79206)\u001b[0m Epoch 7: train loss 0.006289810873568058, accuracy 0.9294929492949295\u001b[32m [repeated 12x across cluster]\u001b[0m\n"
     ]
    },
    {
     "name": "stderr",
     "output_type": "stream",
     "text": [
      "\u001b[92mINFO \u001b[0m:      aggregate_fit: received 6 results and 0 failures\n"
     ]
    },
    {
     "name": "stdout",
     "output_type": "stream",
     "text": [
      "total size: 7449672\n",
      "\n",
      "==== Server-side evaluation for round 7 ====\n",
      "  Parameter 0: Changed by 0.005209\n",
      "  Parameter 1: Changed by 0.008025\n",
      "  Parameter 2: Changed by 0.007094\n",
      "  Parameter 3: Changed by 0.010418\n",
      "  Parameter 4: Changed by 0.008894\n",
      "  Parameter 5: Changed by 0.006618\n",
      "  Parameter 6: Changed by 0.010692\n",
      "  Parameter 7: Changed by 0.007061\n",
      "  Parameter 8: Changed by 0.011985\n",
      "  Parameter 9: Changed by 0.006002\n",
      "  Parameter 10: Changed by 0.007896\n",
      "  Parameter 11: Changed by 0.005324\n",
      "  Parameter 12: Changed by 0.005353\n",
      "  Parameter 13: Changed by 0.005648\n",
      "  Parameter 14: Changed by 0.008367\n",
      "  Parameter 15: Changed by 0.003350\n"
     ]
    },
    {
     "name": "stderr",
     "output_type": "stream",
     "text": [
      "\u001b[92mINFO \u001b[0m:      fit progress: (7, 0.06677313663959503, {'accuracy': 0.5632}, 280.56868620798923)\n",
      "\u001b[92mINFO \u001b[0m:      configure_evaluate: strategy sampled 6 clients (out of 6)\n"
     ]
    },
    {
     "name": "stdout",
     "output_type": "stream",
     "text": [
      "  Evaluation results - Loss: 0.0668, Accuracy: 0.5632\n"
     ]
    },
    {
     "name": "stderr",
     "output_type": "stream",
     "text": [
      "\u001b[36m(ClientAppActor pid=79204)\u001b[0m /Users/macbook/Desktop/L361/L361_Project/.conda/lib/python3.12/site-packages/datasets/utils/_dill.py:385: DeprecationWarning: co_lnotab is deprecated, use co_lines instead.\u001b[32m [repeated 12x across cluster]\u001b[0m\n",
      "\u001b[36m(ClientAppActor pid=79204)\u001b[0m   obj.co_lnotab,  # for < python 3.10 [not counted in args]\u001b[32m [repeated 12x across cluster]\u001b[0m\n"
     ]
    },
    {
     "name": "stdout",
     "output_type": "stream",
     "text": [
      "\u001b[36m(ClientAppActor pid=79207)\u001b[0m [Client 2] evaluate, config: {}\n",
      "\u001b[36m(ClientAppActor pid=79203)\u001b[0m Epoch 8: train loss 0.005676690023392439, accuracy 0.9392439243924392\u001b[32m [repeated 11x across cluster]\u001b[0m\n"
     ]
    },
    {
     "name": "stderr",
     "output_type": "stream",
     "text": [
      "\u001b[92mINFO \u001b[0m:      aggregate_evaluate: received 6 results and 0 failures\n",
      "\u001b[92mINFO \u001b[0m:      \n",
      "\u001b[92mINFO \u001b[0m:      [ROUND 8]\n",
      "\u001b[92mINFO \u001b[0m:      configure_fit: strategy sampled 6 clients (out of 6)\n"
     ]
    },
    {
     "name": "stdout",
     "output_type": "stream",
     "text": [
      "\u001b[36m(ClientAppActor pid=79206)\u001b[0m [Client 2] fit, config: {'proximal_mu': 0.1}\n",
      "\u001b[36m(ClientAppActor pid=79206)\u001b[0m [Client 5] evaluate, config: {}\u001b[32m [repeated 5x across cluster]\u001b[0m\n"
     ]
    },
    {
     "name": "stderr",
     "output_type": "stream",
     "text": [
      "\u001b[36m(ClientAppActor pid=79206)\u001b[0m /Users/macbook/Desktop/L361/L361_Project/.conda/lib/python3.12/site-packages/datasets/utils/_dill.py:385: DeprecationWarning: co_lnotab is deprecated, use co_lines instead.\u001b[32m [repeated 6x across cluster]\u001b[0m\n",
      "\u001b[36m(ClientAppActor pid=79206)\u001b[0m   obj.co_lnotab,  # for < python 3.10 [not counted in args]\u001b[32m [repeated 6x across cluster]\u001b[0m\n"
     ]
    },
    {
     "name": "stdout",
     "output_type": "stream",
     "text": [
      "\u001b[36m(ClientAppActor pid=79206)\u001b[0m Epoch 1: train loss 0.026061803102493286, accuracy 0.7194719471947195\n",
      "\u001b[36m(ClientAppActor pid=79203)\u001b[0m [Client 3] fit, config: {'proximal_mu': 0.1}\u001b[32m [repeated 5x across cluster]\u001b[0m\n",
      "\u001b[36m(ClientAppActor pid=79203)\u001b[0m Epoch 1: train loss 0.026122460141777992, accuracy 0.7121212121212122\u001b[32m [repeated 10x across cluster]\u001b[0m\n",
      "\u001b[36m(ClientAppActor pid=79203)\u001b[0m Epoch 3: train loss 0.011232811957597733, accuracy 0.8733873387338734\u001b[32m [repeated 12x across cluster]\u001b[0m\n",
      "\u001b[36m(ClientAppActor pid=79203)\u001b[0m Epoch 5: train loss 0.008286425843834877, accuracy 0.9123912391239124\u001b[32m [repeated 12x across cluster]\u001b[0m\n",
      "\u001b[36m(ClientAppActor pid=79203)\u001b[0m Epoch 7: train loss 0.005695550702512264, accuracy 0.9383438343834384\u001b[32m [repeated 12x across cluster]\u001b[0m\n"
     ]
    },
    {
     "name": "stderr",
     "output_type": "stream",
     "text": [
      "\u001b[92mINFO \u001b[0m:      aggregate_fit: received 6 results and 0 failures\n"
     ]
    },
    {
     "name": "stdout",
     "output_type": "stream",
     "text": [
      "total size: 7449672\n",
      "\n",
      "==== Server-side evaluation for round 8 ====\n",
      "  Parameter 0: Changed by 0.004767\n",
      "  Parameter 1: Changed by 0.005959\n",
      "  Parameter 2: Changed by 0.006748\n",
      "  Parameter 3: Changed by 0.009735\n",
      "  Parameter 4: Changed by 0.008594\n",
      "  Parameter 5: Changed by 0.006378\n",
      "  Parameter 6: Changed by 0.010408\n",
      "  Parameter 7: Changed by 0.007225\n",
      "  Parameter 8: Changed by 0.011594\n",
      "  Parameter 9: Changed by 0.006278\n",
      "  Parameter 10: Changed by 0.008009\n",
      "  Parameter 11: Changed by 0.005478\n",
      "  Parameter 12: Changed by 0.005793\n",
      "  Parameter 13: Changed by 0.005543\n",
      "  Parameter 14: Changed by 0.008857\n",
      "  Parameter 15: Changed by 0.003237\n"
     ]
    },
    {
     "name": "stderr",
     "output_type": "stream",
     "text": [
      "\u001b[92mINFO \u001b[0m:      fit progress: (8, 0.07044816671013832, {'accuracy': 0.5637}, 317.2250405000523)\n",
      "\u001b[92mINFO \u001b[0m:      configure_evaluate: strategy sampled 6 clients (out of 6)\n"
     ]
    },
    {
     "name": "stdout",
     "output_type": "stream",
     "text": [
      "  Evaluation results - Loss: 0.0704, Accuracy: 0.5637\n"
     ]
    },
    {
     "name": "stderr",
     "output_type": "stream",
     "text": [
      "\u001b[36m(ClientAppActor pid=79200)\u001b[0m /Users/macbook/Desktop/L361/L361_Project/.conda/lib/python3.12/site-packages/datasets/utils/_dill.py:385: DeprecationWarning: co_lnotab is deprecated, use co_lines instead.\u001b[32m [repeated 6x across cluster]\u001b[0m\n",
      "\u001b[36m(ClientAppActor pid=79200)\u001b[0m   obj.co_lnotab,  # for < python 3.10 [not counted in args]\u001b[32m [repeated 6x across cluster]\u001b[0m\n"
     ]
    },
    {
     "name": "stdout",
     "output_type": "stream",
     "text": [
      "\u001b[36m(ClientAppActor pid=79200)\u001b[0m [Client 1] evaluate, config: {}\n",
      "\u001b[36m(ClientAppActor pid=79203)\u001b[0m Epoch 8: train loss 0.004334264900535345, accuracy 0.9545454545454546\n"
     ]
    },
    {
     "name": "stderr",
     "output_type": "stream",
     "text": [
      "\u001b[92mINFO \u001b[0m:      aggregate_evaluate: received 6 results and 0 failures\n",
      "\u001b[92mINFO \u001b[0m:      \n",
      "\u001b[92mINFO \u001b[0m:      [ROUND 9]\n",
      "\u001b[92mINFO \u001b[0m:      configure_fit: strategy sampled 6 clients (out of 6)\n"
     ]
    },
    {
     "name": "stdout",
     "output_type": "stream",
     "text": [
      "\u001b[36m(ClientAppActor pid=79204)\u001b[0m [Client 1] fit, config: {'proximal_mu': 0.1}\n",
      "\u001b[36m(ClientAppActor pid=79205)\u001b[0m [Client 3] evaluate, config: {}\u001b[32m [repeated 5x across cluster]\u001b[0m\n"
     ]
    },
    {
     "name": "stderr",
     "output_type": "stream",
     "text": [
      "\u001b[36m(ClientAppActor pid=79205)\u001b[0m /Users/macbook/Desktop/L361/L361_Project/.conda/lib/python3.12/site-packages/datasets/utils/_dill.py:385: DeprecationWarning: co_lnotab is deprecated, use co_lines instead.\u001b[32m [repeated 11x across cluster]\u001b[0m\n",
      "\u001b[36m(ClientAppActor pid=79205)\u001b[0m   obj.co_lnotab,  # for < python 3.10 [not counted in args]\u001b[32m [repeated 11x across cluster]\u001b[0m\n"
     ]
    },
    {
     "name": "stdout",
     "output_type": "stream",
     "text": [
      "\u001b[36m(ClientAppActor pid=79204)\u001b[0m Epoch 1: train loss 0.023182261735200882, accuracy 0.7418629068546573\n",
      "\u001b[36m(ClientAppActor pid=79205)\u001b[0m [Client 0] fit, config: {'proximal_mu': 0.1}\u001b[32m [repeated 5x across cluster]\u001b[0m\n",
      "\u001b[36m(ClientAppActor pid=79205)\u001b[0m Epoch 2: train loss 0.01253324095159769, accuracy 0.8587070646467677\u001b[32m [repeated 11x across cluster]\u001b[0m\n",
      "\u001b[36m(ClientAppActor pid=79203)\u001b[0m Epoch 4: train loss 0.007717812433838844, accuracy 0.9147914791479148\u001b[32m [repeated 9x across cluster]\u001b[0m\n",
      "\u001b[36m(ClientAppActor pid=79204)\u001b[0m Epoch 6: train loss 0.005134584382176399, accuracy 0.9467526623668816\u001b[32m [repeated 10x across cluster]\u001b[0m\n",
      "\u001b[36m(ClientAppActor pid=79207)\u001b[0m Epoch 7: train loss 0.005626778118312359, accuracy 0.9377437743774377\u001b[32m [repeated 10x across cluster]\u001b[0m\n"
     ]
    },
    {
     "name": "stderr",
     "output_type": "stream",
     "text": [
      "\u001b[92mINFO \u001b[0m:      aggregate_fit: received 6 results and 0 failures\n"
     ]
    },
    {
     "name": "stdout",
     "output_type": "stream",
     "text": [
      "total size: 7449672\n",
      "\n",
      "==== Server-side evaluation for round 9 ====\n",
      "  Parameter 0: Changed by 0.004090\n",
      "  Parameter 1: Changed by 0.006402\n",
      "  Parameter 2: Changed by 0.006297\n",
      "  Parameter 3: Changed by 0.010560\n",
      "  Parameter 4: Changed by 0.008313\n",
      "  Parameter 5: Changed by 0.006062\n",
      "  Parameter 6: Changed by 0.010088\n",
      "  Parameter 7: Changed by 0.007033\n",
      "  Parameter 8: Changed by 0.011261\n",
      "  Parameter 9: Changed by 0.008007\n",
      "  Parameter 10: Changed by 0.008173\n",
      "  Parameter 11: Changed by 0.006164\n",
      "  Parameter 12: Changed by 0.005696\n",
      "  Parameter 13: Changed by 0.004736\n",
      "  Parameter 14: Changed by 0.009038\n",
      "  Parameter 15: Changed by 0.003919\n"
     ]
    },
    {
     "name": "stderr",
     "output_type": "stream",
     "text": [
      "\u001b[92mINFO \u001b[0m:      fit progress: (9, 0.07366499749422073, {'accuracy': 0.5651}, 351.9372416671831)\n",
      "\u001b[92mINFO \u001b[0m:      configure_evaluate: strategy sampled 6 clients (out of 6)\n"
     ]
    },
    {
     "name": "stdout",
     "output_type": "stream",
     "text": [
      "  Evaluation results - Loss: 0.0737, Accuracy: 0.5651\n",
      "\u001b[36m(ClientAppActor pid=79206)\u001b[0m [Client 2] evaluate, config: {}\n",
      "\u001b[36m(ClientAppActor pid=79205)\u001b[0m Epoch 8: train loss 0.004943432752043009, accuracy 0.9532023398830058\u001b[32m [repeated 7x across cluster]\u001b[0m\n"
     ]
    },
    {
     "name": "stderr",
     "output_type": "stream",
     "text": [
      "\u001b[36m(ClientAppActor pid=79206)\u001b[0m /Users/macbook/Desktop/L361/L361_Project/.conda/lib/python3.12/site-packages/datasets/utils/_dill.py:385: DeprecationWarning: co_lnotab is deprecated, use co_lines instead.\n",
      "\u001b[36m(ClientAppActor pid=79206)\u001b[0m   obj.co_lnotab,  # for < python 3.10 [not counted in args]\n",
      "\u001b[36m(ClientAppActor pid=79204)\u001b[0m /Users/macbook/Desktop/L361/L361_Project/.conda/lib/python3.12/site-packages/datasets/utils/_dill.py:385: DeprecationWarning: co_lnotab is deprecated, use co_lines instead.\n",
      "\u001b[36m(ClientAppActor pid=79204)\u001b[0m   obj.co_lnotab,  # for < python 3.10 [not counted in args]\n"
     ]
    },
    {
     "name": "stdout",
     "output_type": "stream",
     "text": [
      "\u001b[36m(ClientAppActor pid=79203)\u001b[0m [Client 3] evaluate, config: {}\u001b[32m [repeated 5x across cluster]\u001b[0m\n"
     ]
    },
    {
     "name": "stderr",
     "output_type": "stream",
     "text": [
      "\u001b[36m(ClientAppActor pid=79203)\u001b[0m /Users/macbook/Desktop/L361/L361_Project/.conda/lib/python3.12/site-packages/datasets/utils/_dill.py:385: DeprecationWarning: co_lnotab is deprecated, use co_lines instead.\u001b[32m [repeated 4x across cluster]\u001b[0m\n",
      "\u001b[36m(ClientAppActor pid=79203)\u001b[0m   obj.co_lnotab,  # for < python 3.10 [not counted in args]\u001b[32m [repeated 4x across cluster]\u001b[0m\n",
      "\u001b[92mINFO \u001b[0m:      aggregate_evaluate: received 6 results and 0 failures\n",
      "\u001b[92mINFO \u001b[0m:      \n",
      "\u001b[92mINFO \u001b[0m:      [ROUND 10]\n",
      "\u001b[92mINFO \u001b[0m:      configure_fit: strategy sampled 6 clients (out of 6)\n"
     ]
    },
    {
     "name": "stdout",
     "output_type": "stream",
     "text": [
      "\u001b[36m(ClientAppActor pid=79203)\u001b[0m [Client 0] fit, config: {'proximal_mu': 0.1}\n",
      "\u001b[36m(ClientAppActor pid=79203)\u001b[0m Epoch 1: train loss 0.022436723113059998, accuracy 0.760161991900405\n",
      "\u001b[36m(ClientAppActor pid=79207)\u001b[0m [Client 2] fit, config: {'proximal_mu': 0.1}\u001b[32m [repeated 5x across cluster]\u001b[0m\n"
     ]
    },
    {
     "name": "stderr",
     "output_type": "stream",
     "text": [
      "\u001b[36m(ClientAppActor pid=79207)\u001b[0m /Users/macbook/Desktop/L361/L361_Project/.conda/lib/python3.12/site-packages/datasets/utils/_dill.py:385: DeprecationWarning: co_lnotab is deprecated, use co_lines instead.\u001b[32m [repeated 6x across cluster]\u001b[0m\n",
      "\u001b[36m(ClientAppActor pid=79207)\u001b[0m   obj.co_lnotab,  # for < python 3.10 [not counted in args]\u001b[32m [repeated 6x across cluster]\u001b[0m\n"
     ]
    },
    {
     "name": "stdout",
     "output_type": "stream",
     "text": [
      "\u001b[36m(ClientAppActor pid=79207)\u001b[0m Epoch 1: train loss 0.02184242382645607, accuracy 0.7632763276327633\u001b[32m [repeated 10x across cluster]\u001b[0m\n",
      "\u001b[36m(ClientAppActor pid=79207)\u001b[0m Epoch 3: train loss 0.007583477534353733, accuracy 0.9195919591959196\u001b[32m [repeated 12x across cluster]\u001b[0m\n",
      "\u001b[36m(ClientAppActor pid=79207)\u001b[0m Epoch 5: train loss 0.005919643212109804, accuracy 0.9404440444044404\u001b[32m [repeated 12x across cluster]\u001b[0m\n",
      "\u001b[36m(ClientAppActor pid=79204)\u001b[0m Epoch 8: train loss 0.0037160071078687906, accuracy 0.9615961596159616\u001b[32m [repeated 7x across cluster]\u001b[0m\n"
     ]
    },
    {
     "name": "stderr",
     "output_type": "stream",
     "text": [
      "\u001b[92mINFO \u001b[0m:      aggregate_fit: received 6 results and 0 failures\n"
     ]
    },
    {
     "name": "stdout",
     "output_type": "stream",
     "text": [
      "\u001b[36m(ClientAppActor pid=79207)\u001b[0m Epoch 8: train loss 0.003677785163745284, accuracy 0.9624962496249625\u001b[32m [repeated 6x across cluster]\u001b[0m\n",
      "total size: 7449672\n",
      "\n",
      "==== Server-side evaluation for round 10 ====\n",
      "  Parameter 0: Changed by 0.004047\n",
      "  Parameter 1: Changed by 0.005779\n",
      "  Parameter 2: Changed by 0.006082\n",
      "  Parameter 3: Changed by 0.009681\n",
      "  Parameter 4: Changed by 0.008202\n",
      "  Parameter 5: Changed by 0.006188\n",
      "  Parameter 6: Changed by 0.009854\n",
      "  Parameter 7: Changed by 0.007488\n",
      "  Parameter 8: Changed by 0.011087\n",
      "  Parameter 9: Changed by 0.007913\n",
      "  Parameter 10: Changed by 0.008928\n",
      "  Parameter 11: Changed by 0.005796\n",
      "  Parameter 12: Changed by 0.006117\n",
      "  Parameter 13: Changed by 0.005493\n",
      "  Parameter 14: Changed by 0.009334\n",
      "  Parameter 15: Changed by 0.003716\n"
     ]
    },
    {
     "name": "stderr",
     "output_type": "stream",
     "text": [
      "\u001b[92mINFO \u001b[0m:      fit progress: (10, 0.0746501287817955, {'accuracy': 0.5636}, 397.4045178331435)\n",
      "\u001b[92mINFO \u001b[0m:      configure_evaluate: strategy sampled 6 clients (out of 6)\n"
     ]
    },
    {
     "name": "stdout",
     "output_type": "stream",
     "text": [
      "  Evaluation results - Loss: 0.0747, Accuracy: 0.5636\n"
     ]
    },
    {
     "name": "stderr",
     "output_type": "stream",
     "text": [
      "\u001b[36m(ClientAppActor pid=79204)\u001b[0m /Users/macbook/Desktop/L361/L361_Project/.conda/lib/python3.12/site-packages/datasets/utils/_dill.py:385: DeprecationWarning: co_lnotab is deprecated, use co_lines instead.\n",
      "\u001b[36m(ClientAppActor pid=79204)\u001b[0m   obj.co_lnotab,  # for < python 3.10 [not counted in args]\n",
      "\u001b[36m(ClientAppActor pid=79206)\u001b[0m /Users/macbook/Desktop/L361/L361_Project/.conda/lib/python3.12/site-packages/datasets/utils/_dill.py:385: DeprecationWarning: co_lnotab is deprecated, use co_lines instead.\n",
      "\u001b[36m(ClientAppActor pid=79206)\u001b[0m   obj.co_lnotab,  # for < python 3.10 [not counted in args]\n"
     ]
    },
    {
     "name": "stdout",
     "output_type": "stream",
     "text": [
      "\u001b[36m(ClientAppActor pid=79204)\u001b[0m [Client 5] evaluate, config: {}\n"
     ]
    },
    {
     "name": "stderr",
     "output_type": "stream",
     "text": [
      "\u001b[92mINFO \u001b[0m:      aggregate_evaluate: received 6 results and 0 failures\n",
      "\u001b[92mINFO \u001b[0m:      \n",
      "\u001b[92mINFO \u001b[0m:      [ROUND 11]\n",
      "\u001b[92mINFO \u001b[0m:      configure_fit: strategy sampled 6 clients (out of 6)\n"
     ]
    },
    {
     "name": "stdout",
     "output_type": "stream",
     "text": [
      "\u001b[36m(ClientAppActor pid=79205)\u001b[0m [Client 0] fit, config: {'proximal_mu': 0.1}\n",
      "\u001b[36m(ClientAppActor pid=79207)\u001b[0m Epoch 1: train loss 0.020303815603256226, accuracy 0.7806780678067807\n",
      "\u001b[36m(ClientAppActor pid=79205)\u001b[0m [Client 2] evaluate, config: {}\u001b[32m [repeated 5x across cluster]\u001b[0m\n",
      "\u001b[36m(ClientAppActor pid=79200)\u001b[0m [Client 1] fit, config: {'proximal_mu': 0.1}\u001b[32m [repeated 5x across cluster]\u001b[0m\n",
      "\u001b[36m(ClientAppActor pid=79207)\u001b[0m Epoch 3: train loss 0.006709415931254625, accuracy 0.9296429642964297\u001b[32m [repeated 12x across cluster]\u001b[0m\n",
      "\u001b[36m(ClientAppActor pid=79207)\u001b[0m Epoch 5: train loss 0.0053076366893947124, accuracy 0.9447944794479448\u001b[32m [repeated 12x across cluster]\u001b[0m\n",
      "\u001b[36m(ClientAppActor pid=79203)\u001b[0m Epoch 7: train loss 0.004344915971159935, accuracy 0.9543954395439544\u001b[32m [repeated 12x across cluster]\u001b[0m\n"
     ]
    },
    {
     "name": "stderr",
     "output_type": "stream",
     "text": [
      "\u001b[92mINFO \u001b[0m:      aggregate_fit: received 6 results and 0 failures\n"
     ]
    },
    {
     "name": "stdout",
     "output_type": "stream",
     "text": [
      "total size: 7449672\n",
      "\n",
      "==== Server-side evaluation for round 11 ====\n",
      "  Parameter 0: Changed by 0.003790\n",
      "  Parameter 1: Changed by 0.006961\n",
      "  Parameter 2: Changed by 0.005931\n",
      "  Parameter 3: Changed by 0.009360\n",
      "  Parameter 4: Changed by 0.007968\n",
      "  Parameter 5: Changed by 0.006168\n",
      "  Parameter 6: Changed by 0.009640\n",
      "  Parameter 7: Changed by 0.006655\n",
      "  Parameter 8: Changed by 0.010688\n",
      "  Parameter 9: Changed by 0.008187\n",
      "  Parameter 10: Changed by 0.008599\n",
      "  Parameter 11: Changed by 0.008015\n",
      "  Parameter 12: Changed by 0.006342\n",
      "  Parameter 13: Changed by 0.006251\n",
      "  Parameter 14: Changed by 0.010993\n",
      "  Parameter 15: Changed by 0.003742\n"
     ]
    },
    {
     "name": "stderr",
     "output_type": "stream",
     "text": [
      "\u001b[92mINFO \u001b[0m:      fit progress: (11, 0.07650904035568237, {'accuracy': 0.5647}, 430.21938854199834)\n",
      "\u001b[92mINFO \u001b[0m:      configure_evaluate: strategy sampled 6 clients (out of 6)\n"
     ]
    },
    {
     "name": "stdout",
     "output_type": "stream",
     "text": [
      "  Evaluation results - Loss: 0.0765, Accuracy: 0.5647\n",
      "\u001b[36m(ClientAppActor pid=79206)\u001b[0m [Client 1] evaluate, config: {}\n",
      "\u001b[36m(ClientAppActor pid=79200)\u001b[0m Epoch 8: train loss 0.0033936910331249237, accuracy 0.9643017849107545\u001b[32m [repeated 11x across cluster]\u001b[0m\n"
     ]
    },
    {
     "name": "stderr",
     "output_type": "stream",
     "text": [
      "\u001b[36m(ClientAppActor pid=79206)\u001b[0m /Users/macbook/Desktop/L361/L361_Project/.conda/lib/python3.12/site-packages/datasets/utils/_dill.py:385: DeprecationWarning: co_lnotab is deprecated, use co_lines instead.\u001b[32m [repeated 11x across cluster]\u001b[0m\n",
      "\u001b[36m(ClientAppActor pid=79206)\u001b[0m   obj.co_lnotab,  # for < python 3.10 [not counted in args]\u001b[32m [repeated 11x across cluster]\u001b[0m\n",
      "\u001b[92mINFO \u001b[0m:      aggregate_evaluate: received 6 results and 0 failures\n",
      "\u001b[92mINFO \u001b[0m:      \n",
      "\u001b[92mINFO \u001b[0m:      [ROUND 12]\n",
      "\u001b[92mINFO \u001b[0m:      configure_fit: strategy sampled 6 clients (out of 6)\n"
     ]
    },
    {
     "name": "stdout",
     "output_type": "stream",
     "text": [
      "\u001b[36m(ClientAppActor pid=79204)\u001b[0m [Client 4] fit, config: {'proximal_mu': 0.1}\n"
     ]
    },
    {
     "name": "stderr",
     "output_type": "stream",
     "text": [
      "\u001b[36m(ClientAppActor pid=79200)\u001b[0m /Users/macbook/Desktop/L361/L361_Project/.conda/lib/python3.12/site-packages/datasets/utils/_dill.py:385: DeprecationWarning: co_lnotab is deprecated, use co_lines instead.\u001b[32m [repeated 8x across cluster]\u001b[0m\n",
      "\u001b[36m(ClientAppActor pid=79200)\u001b[0m   obj.co_lnotab,  # for < python 3.10 [not counted in args]\u001b[32m [repeated 8x across cluster]\u001b[0m\n"
     ]
    },
    {
     "name": "stdout",
     "output_type": "stream",
     "text": [
      "\u001b[36m(ClientAppActor pid=79205)\u001b[0m [Client 2] evaluate, config: {}\u001b[32m [repeated 5x across cluster]\u001b[0m\n",
      "\u001b[36m(ClientAppActor pid=79204)\u001b[0m Epoch 1: train loss 0.0172714963555336, accuracy 0.8132313231323133\n",
      "\u001b[36m(ClientAppActor pid=79207)\u001b[0m [Client 2] fit, config: {'proximal_mu': 0.1}\u001b[32m [repeated 5x across cluster]\u001b[0m\n",
      "\u001b[36m(ClientAppActor pid=79207)\u001b[0m Epoch 1: train loss 0.01829630695283413, accuracy 0.8076807680768077\u001b[32m [repeated 9x across cluster]\u001b[0m\n",
      "\u001b[36m(ClientAppActor pid=79207)\u001b[0m Epoch 3: train loss 0.006531174760311842, accuracy 0.92994299429943\u001b[32m [repeated 12x across cluster]\u001b[0m\n",
      "\u001b[36m(ClientAppActor pid=79207)\u001b[0m Epoch 5: train loss 0.004192555323243141, accuracy 0.9560456045604561\u001b[32m [repeated 12x across cluster]\u001b[0m\n",
      "\u001b[36m(ClientAppActor pid=79207)\u001b[0m Epoch 7: train loss 0.004243654198944569, accuracy 0.9564956495649565\u001b[32m [repeated 12x across cluster]\u001b[0m\n"
     ]
    },
    {
     "name": "stderr",
     "output_type": "stream",
     "text": [
      "\u001b[92mINFO \u001b[0m:      aggregate_fit: received 6 results and 0 failures\n"
     ]
    },
    {
     "name": "stdout",
     "output_type": "stream",
     "text": [
      "total size: 7449672\n",
      "\n",
      "==== Server-side evaluation for round 12 ====\n",
      "  Parameter 0: Changed by 0.003720\n",
      "  Parameter 1: Changed by 0.002812\n",
      "  Parameter 2: Changed by 0.005917\n",
      "  Parameter 3: Changed by 0.008662\n",
      "  Parameter 4: Changed by 0.007877\n",
      "  Parameter 5: Changed by 0.006130\n",
      "  Parameter 6: Changed by 0.009457\n",
      "  Parameter 7: Changed by 0.006640\n",
      "  Parameter 8: Changed by 0.010540\n",
      "  Parameter 9: Changed by 0.009006\n",
      "  Parameter 10: Changed by 0.008736\n",
      "  Parameter 11: Changed by 0.007896\n",
      "  Parameter 12: Changed by 0.006374\n",
      "  Parameter 13: Changed by 0.005917\n",
      "  Parameter 14: Changed by 0.012128\n",
      "  Parameter 15: Changed by 0.004820\n"
     ]
    },
    {
     "name": "stderr",
     "output_type": "stream",
     "text": [
      "\u001b[92mINFO \u001b[0m:      fit progress: (12, 0.07951081648468972, {'accuracy': 0.5657}, 467.0677276251372)\n",
      "\u001b[92mINFO \u001b[0m:      configure_evaluate: strategy sampled 6 clients (out of 6)\n"
     ]
    },
    {
     "name": "stdout",
     "output_type": "stream",
     "text": [
      "  Evaluation results - Loss: 0.0795, Accuracy: 0.5657\n",
      "\u001b[36m(ClientAppActor pid=79206)\u001b[0m [Client 2] evaluate, config: {}\n",
      "\u001b[36m(ClientAppActor pid=79207)\u001b[0m Epoch 8: train loss 0.0028056777082383633, accuracy 0.9689468946894689\u001b[32m [repeated 2x across cluster]\u001b[0m\n"
     ]
    },
    {
     "name": "stderr",
     "output_type": "stream",
     "text": [
      "\u001b[36m(ClientAppActor pid=79206)\u001b[0m /Users/macbook/Desktop/L361/L361_Project/.conda/lib/python3.12/site-packages/datasets/utils/_dill.py:385: DeprecationWarning: co_lnotab is deprecated, use co_lines instead.\u001b[32m [repeated 4x across cluster]\u001b[0m\n",
      "\u001b[36m(ClientAppActor pid=79206)\u001b[0m   obj.co_lnotab,  # for < python 3.10 [not counted in args]\u001b[32m [repeated 4x across cluster]\u001b[0m\n",
      "\u001b[92mINFO \u001b[0m:      aggregate_evaluate: received 6 results and 0 failures\n",
      "\u001b[92mINFO \u001b[0m:      \n",
      "\u001b[92mINFO \u001b[0m:      [ROUND 13]\n",
      "\u001b[92mINFO \u001b[0m:      configure_fit: strategy sampled 6 clients (out of 6)\n"
     ]
    },
    {
     "name": "stdout",
     "output_type": "stream",
     "text": [
      "\u001b[36m(ClientAppActor pid=79204)\u001b[0m [Client 4] fit, config: {'proximal_mu': 0.1}\n",
      "\u001b[36m(ClientAppActor pid=79207)\u001b[0m [Client 0] evaluate, config: {}\u001b[32m [repeated 5x across cluster]\u001b[0m\n",
      "\u001b[36m(ClientAppActor pid=79204)\u001b[0m Epoch 1: train loss 0.016649095341563225, accuracy 0.8229822982298229\n",
      "\u001b[36m(ClientAppActor pid=79205)\u001b[0m Epoch 1: train loss 0.016578897833824158, accuracy 0.8260086995650218\n",
      "\u001b[36m(ClientAppActor pid=79203)\u001b[0m [Client 2] fit, config: {'proximal_mu': 0.1}\u001b[32m [repeated 4x across cluster]\u001b[0m\n"
     ]
    },
    {
     "name": "stderr",
     "output_type": "stream",
     "text": [
      "\u001b[36m(ClientAppActor pid=79206)\u001b[0m /Users/macbook/Desktop/L361/L361_Project/.conda/lib/python3.12/site-packages/datasets/utils/_dill.py:385: DeprecationWarning: co_lnotab is deprecated, use co_lines instead.\u001b[32m [repeated 11x across cluster]\u001b[0m\n",
      "\u001b[36m(ClientAppActor pid=79206)\u001b[0m   obj.co_lnotab,  # for < python 3.10 [not counted in args]\u001b[32m [repeated 11x across cluster]\u001b[0m\n"
     ]
    },
    {
     "name": "stdout",
     "output_type": "stream",
     "text": [
      "\u001b[36m(ClientAppActor pid=79204)\u001b[0m Epoch 3: train loss 0.005266435444355011, accuracy 0.9441944194419442\u001b[32m [repeated 9x across cluster]\u001b[0m\n",
      "\u001b[36m(ClientAppActor pid=79206)\u001b[0m [Client 5] fit, config: {'proximal_mu': 0.1}\n",
      "\u001b[36m(ClientAppActor pid=79204)\u001b[0m Epoch 5: train loss 0.003913360647857189, accuracy 0.9608460846084609\u001b[32m [repeated 12x across cluster]\u001b[0m\n",
      "\u001b[36m(ClientAppActor pid=79203)\u001b[0m Epoch 6: train loss 0.0042518265545368195, accuracy 0.953045304530453\u001b[32m [repeated 11x across cluster]\u001b[0m\n",
      "\u001b[36m(ClientAppActor pid=79200)\u001b[0m Epoch 8: train loss 0.004072004929184914, accuracy 0.9573957395739574\u001b[32m [repeated 11x across cluster]\u001b[0m\n"
     ]
    },
    {
     "name": "stderr",
     "output_type": "stream",
     "text": [
      "\u001b[92mINFO \u001b[0m:      aggregate_fit: received 6 results and 0 failures\n"
     ]
    },
    {
     "name": "stdout",
     "output_type": "stream",
     "text": [
      "total size: 7449672\n",
      "\n",
      "==== Server-side evaluation for round 13 ====\n",
      "  Parameter 0: Changed by 0.003565\n",
      "  Parameter 1: Changed by 0.006066\n",
      "  Parameter 2: Changed by 0.005705\n",
      "  Parameter 3: Changed by 0.007715\n",
      "  Parameter 4: Changed by 0.007893\n",
      "  Parameter 5: Changed by 0.005920\n",
      "  Parameter 6: Changed by 0.009362\n",
      "  Parameter 7: Changed by 0.007159\n",
      "  Parameter 8: Changed by 0.010230\n",
      "  Parameter 9: Changed by 0.007996\n",
      "  Parameter 10: Changed by 0.008760\n",
      "  Parameter 11: Changed by 0.006156\n",
      "  Parameter 12: Changed by 0.006547\n",
      "  Parameter 13: Changed by 0.005505\n",
      "  Parameter 14: Changed by 0.011765\n",
      "  Parameter 15: Changed by 0.003233\n"
     ]
    },
    {
     "name": "stderr",
     "output_type": "stream",
     "text": [
      "\u001b[92mINFO \u001b[0m:      fit progress: (13, 0.07882574852705002, {'accuracy': 0.5685}, 502.0422628330998)\n",
      "\u001b[92mINFO \u001b[0m:      configure_evaluate: strategy sampled 6 clients (out of 6)\n"
     ]
    },
    {
     "name": "stdout",
     "output_type": "stream",
     "text": [
      "  Evaluation results - Loss: 0.0788, Accuracy: 0.5685\n",
      "\u001b[36m(ClientAppActor pid=79206)\u001b[0m [Client 0] evaluate, config: {}\n",
      "\u001b[36m(ClientAppActor pid=79206)\u001b[0m Epoch 8: train loss 0.003149748547002673, accuracy 0.9677467746774677\u001b[32m [repeated 3x across cluster]\u001b[0m\n"
     ]
    },
    {
     "name": "stderr",
     "output_type": "stream",
     "text": [
      "\u001b[36m(ClientAppActor pid=79206)\u001b[0m /Users/macbook/Desktop/L361/L361_Project/.conda/lib/python3.12/site-packages/datasets/utils/_dill.py:385: DeprecationWarning: co_lnotab is deprecated, use co_lines instead.\n",
      "\u001b[36m(ClientAppActor pid=79206)\u001b[0m   obj.co_lnotab,  # for < python 3.10 [not counted in args]\n",
      "\u001b[36m(ClientAppActor pid=79204)\u001b[0m /Users/macbook/Desktop/L361/L361_Project/.conda/lib/python3.12/site-packages/datasets/utils/_dill.py:385: DeprecationWarning: co_lnotab is deprecated, use co_lines instead.\n",
      "\u001b[36m(ClientAppActor pid=79204)\u001b[0m   obj.co_lnotab,  # for < python 3.10 [not counted in args]\n"
     ]
    },
    {
     "name": "stdout",
     "output_type": "stream",
     "text": [
      "\u001b[36m(ClientAppActor pid=79205)\u001b[0m [Client 4] evaluate, config: {}\u001b[32m [repeated 5x across cluster]\u001b[0m\n"
     ]
    },
    {
     "name": "stderr",
     "output_type": "stream",
     "text": [
      "\u001b[36m(ClientAppActor pid=79205)\u001b[0m /Users/macbook/Desktop/L361/L361_Project/.conda/lib/python3.12/site-packages/datasets/utils/_dill.py:385: DeprecationWarning: co_lnotab is deprecated, use co_lines instead.\u001b[32m [repeated 4x across cluster]\u001b[0m\n",
      "\u001b[36m(ClientAppActor pid=79205)\u001b[0m   obj.co_lnotab,  # for < python 3.10 [not counted in args]\u001b[32m [repeated 4x across cluster]\u001b[0m\n",
      "\u001b[92mINFO \u001b[0m:      aggregate_evaluate: received 6 results and 0 failures\n",
      "\u001b[92mINFO \u001b[0m:      \n",
      "\u001b[92mINFO \u001b[0m:      [ROUND 14]\n",
      "\u001b[92mINFO \u001b[0m:      configure_fit: strategy sampled 6 clients (out of 6)\n"
     ]
    },
    {
     "name": "stdout",
     "output_type": "stream",
     "text": [
      "\u001b[36m(ClientAppActor pid=79206)\u001b[0m [Client 5] fit, config: {'proximal_mu': 0.1}\n",
      "\u001b[36m(ClientAppActor pid=79206)\u001b[0m Epoch 1: train loss 0.015713177621364594, accuracy 0.8301830183018302\n"
     ]
    },
    {
     "name": "stderr",
     "output_type": "stream",
     "text": [
      "\u001b[36m(ClientAppActor pid=79205)\u001b[0m /Users/macbook/Desktop/L361/L361_Project/.conda/lib/python3.12/site-packages/datasets/utils/_dill.py:385: DeprecationWarning: co_lnotab is deprecated, use co_lines instead.\u001b[32m [repeated 6x across cluster]\u001b[0m\n",
      "\u001b[36m(ClientAppActor pid=79205)\u001b[0m   obj.co_lnotab,  # for < python 3.10 [not counted in args]\u001b[32m [repeated 6x across cluster]\u001b[0m\n"
     ]
    },
    {
     "name": "stdout",
     "output_type": "stream",
     "text": [
      "\u001b[36m(ClientAppActor pid=79205)\u001b[0m [Client 0] fit, config: {'proximal_mu': 0.1}\u001b[32m [repeated 5x across cluster]\u001b[0m\n",
      "\u001b[36m(ClientAppActor pid=79203)\u001b[0m Epoch 2: train loss 0.006852304562926292, accuracy 0.9261926192619262\u001b[32m [repeated 9x across cluster]\u001b[0m\n",
      "\u001b[36m(ClientAppActor pid=79203)\u001b[0m Epoch 4: train loss 0.004561947658658028, accuracy 0.9525952595259526\u001b[32m [repeated 12x across cluster]\u001b[0m\n",
      "\u001b[36m(ClientAppActor pid=79203)\u001b[0m Epoch 6: train loss 0.003366248682141304, accuracy 0.9636963696369637\u001b[32m [repeated 12x across cluster]\u001b[0m\n",
      "\u001b[36m(ClientAppActor pid=79200)\u001b[0m Epoch 8: train loss 0.003096009837463498, accuracy 0.9703014849257537\u001b[32m [repeated 12x across cluster]\u001b[0m\n"
     ]
    },
    {
     "name": "stderr",
     "output_type": "stream",
     "text": [
      "\u001b[92mINFO \u001b[0m:      aggregate_fit: received 6 results and 0 failures\n"
     ]
    },
    {
     "name": "stdout",
     "output_type": "stream",
     "text": [
      "total size: 7449672\n",
      "\n",
      "==== Server-side evaluation for round 14 ====\n",
      "  Parameter 0: Changed by 0.003393\n",
      "  Parameter 1: Changed by 0.004825\n",
      "  Parameter 2: Changed by 0.005595\n",
      "  Parameter 3: Changed by 0.009416\n",
      "  Parameter 4: Changed by 0.007915\n",
      "  Parameter 5: Changed by 0.005841\n",
      "  Parameter 6: Changed by 0.009221\n",
      "  Parameter 7: Changed by 0.007200\n",
      "  Parameter 8: Changed by 0.009969\n",
      "  Parameter 9: Changed by 0.008376\n",
      "  Parameter 10: Changed by 0.008872\n",
      "  Parameter 11: Changed by 0.006503\n",
      "  Parameter 12: Changed by 0.006947\n",
      "  Parameter 13: Changed by 0.005776\n",
      "  Parameter 14: Changed by 0.013310\n",
      "  Parameter 15: Changed by 0.003428\n"
     ]
    },
    {
     "name": "stderr",
     "output_type": "stream",
     "text": [
      "\u001b[92mINFO \u001b[0m:      fit progress: (14, 0.07988372974991799, {'accuracy': 0.5639}, 563.4226105830166)\n",
      "\u001b[92mINFO \u001b[0m:      configure_evaluate: strategy sampled 6 clients (out of 6)\n"
     ]
    },
    {
     "name": "stdout",
     "output_type": "stream",
     "text": [
      "  Evaluation results - Loss: 0.0799, Accuracy: 0.5639\n"
     ]
    },
    {
     "name": "stderr",
     "output_type": "stream",
     "text": [
      "\u001b[36m(ClientAppActor pid=79207)\u001b[0m /Users/macbook/Desktop/L361/L361_Project/.conda/lib/python3.12/site-packages/datasets/utils/_dill.py:385: DeprecationWarning: co_lnotab is deprecated, use co_lines instead.\n",
      "\u001b[36m(ClientAppActor pid=79207)\u001b[0m   obj.co_lnotab,  # for < python 3.10 [not counted in args]\n",
      "\u001b[36m(ClientAppActor pid=79204)\u001b[0m /Users/macbook/Desktop/L361/L361_Project/.conda/lib/python3.12/site-packages/datasets/utils/_dill.py:385: DeprecationWarning: co_lnotab is deprecated, use co_lines instead.\n",
      "\u001b[36m(ClientAppActor pid=79204)\u001b[0m   obj.co_lnotab,  # for < python 3.10 [not counted in args]\n"
     ]
    },
    {
     "name": "stdout",
     "output_type": "stream",
     "text": [
      "\u001b[36m(ClientAppActor pid=79207)\u001b[0m [Client 3] evaluate, config: {}\n",
      "\u001b[36m(ClientAppActor pid=79205)\u001b[0m Epoch 8: train loss 0.0031609584111720324, accuracy 0.9656517174141293\u001b[32m [repeated 2x across cluster]\u001b[0m\n"
     ]
    },
    {
     "name": "stderr",
     "output_type": "stream",
     "text": [
      "\u001b[92mINFO \u001b[0m:      aggregate_evaluate: received 6 results and 0 failures\n",
      "\u001b[92mINFO \u001b[0m:      \n",
      "\u001b[92mINFO \u001b[0m:      [ROUND 15]\n",
      "\u001b[92mINFO \u001b[0m:      configure_fit: strategy sampled 6 clients (out of 6)\n"
     ]
    },
    {
     "name": "stdout",
     "output_type": "stream",
     "text": [
      "\u001b[36m(ClientAppActor pid=79204)\u001b[0m [Client 4] fit, config: {'proximal_mu': 0.1}\n",
      "\u001b[36m(ClientAppActor pid=79203)\u001b[0m [Client 1] evaluate, config: {}\u001b[32m [repeated 5x across cluster]\u001b[0m\n",
      "\u001b[36m(ClientAppActor pid=79204)\u001b[0m Epoch 1: train loss 0.013643471524119377, accuracy 0.8523852385238524\n",
      "\u001b[36m(ClientAppActor pid=79207)\u001b[0m Epoch 1: train loss 0.014418995007872581, accuracy 0.8463846384638464\n"
     ]
    },
    {
     "name": "stderr",
     "output_type": "stream",
     "text": [
      "\u001b[36m(ClientAppActor pid=79200)\u001b[0m /Users/macbook/Desktop/L361/L361_Project/.conda/lib/python3.12/site-packages/datasets/utils/_dill.py:385: DeprecationWarning: co_lnotab is deprecated, use co_lines instead.\u001b[32m [repeated 10x across cluster]\u001b[0m\n",
      "\u001b[36m(ClientAppActor pid=79200)\u001b[0m   obj.co_lnotab,  # for < python 3.10 [not counted in args]\u001b[32m [repeated 10x across cluster]\u001b[0m\n"
     ]
    },
    {
     "name": "stdout",
     "output_type": "stream",
     "text": [
      "\u001b[36m(ClientAppActor pid=79200)\u001b[0m [Client 3] fit, config: {'proximal_mu': 0.1}\u001b[32m [repeated 5x across cluster]\u001b[0m\n",
      "\u001b[36m(ClientAppActor pid=79204)\u001b[0m Epoch 3: train loss 0.004266573581844568, accuracy 0.9540954095409541\u001b[32m [repeated 10x across cluster]\u001b[0m\n",
      "\u001b[36m(ClientAppActor pid=79200)\u001b[0m Epoch 3: train loss 0.004756113514304161, accuracy 0.951995199519952\u001b[32m [repeated 11x across cluster]\u001b[0m\n",
      "\u001b[36m(ClientAppActor pid=79200)\u001b[0m Epoch 5: train loss 0.003140069544315338, accuracy 0.9674467446744675\u001b[32m [repeated 12x across cluster]\u001b[0m\n",
      "\u001b[36m(ClientAppActor pid=79200)\u001b[0m Epoch 7: train loss 0.0034698646049946547, accuracy 0.9644464446444645\u001b[32m [repeated 12x across cluster]\u001b[0m\n"
     ]
    },
    {
     "name": "stderr",
     "output_type": "stream",
     "text": [
      "\u001b[92mINFO \u001b[0m:      aggregate_fit: received 6 results and 0 failures\n"
     ]
    },
    {
     "name": "stdout",
     "output_type": "stream",
     "text": [
      "total size: 7449672\n",
      "\n",
      "==== Server-side evaluation for round 15 ====\n",
      "  Parameter 0: Changed by 0.003173\n",
      "  Parameter 1: Changed by 0.004561\n",
      "  Parameter 2: Changed by 0.005654\n",
      "  Parameter 3: Changed by 0.009833\n",
      "  Parameter 4: Changed by 0.007881\n",
      "  Parameter 5: Changed by 0.005716\n",
      "  Parameter 6: Changed by 0.009240\n",
      "  Parameter 7: Changed by 0.006172\n",
      "  Parameter 8: Changed by 0.010269\n",
      "  Parameter 9: Changed by 0.008196\n",
      "  Parameter 10: Changed by 0.009020\n",
      "  Parameter 11: Changed by 0.006950\n",
      "  Parameter 12: Changed by 0.007176\n",
      "  Parameter 13: Changed by 0.005888\n",
      "  Parameter 14: Changed by 0.013164\n",
      "  Parameter 15: Changed by 0.003687\n"
     ]
    },
    {
     "name": "stderr",
     "output_type": "stream",
     "text": [
      "\u001b[92mINFO \u001b[0m:      fit progress: (15, 0.08073264346122741, {'accuracy': 0.5606}, 599.8618701670785)\n",
      "\u001b[92mINFO \u001b[0m:      configure_evaluate: strategy sampled 6 clients (out of 6)\n"
     ]
    },
    {
     "name": "stdout",
     "output_type": "stream",
     "text": [
      "  Evaluation results - Loss: 0.0807, Accuracy: 0.5606\n"
     ]
    },
    {
     "name": "stderr",
     "output_type": "stream",
     "text": [
      "\u001b[36m(ClientAppActor pid=79200)\u001b[0m /Users/macbook/Desktop/L361/L361_Project/.conda/lib/python3.12/site-packages/datasets/utils/_dill.py:385: DeprecationWarning: co_lnotab is deprecated, use co_lines instead.\n",
      "\u001b[36m(ClientAppActor pid=79200)\u001b[0m   obj.co_lnotab,  # for < python 3.10 [not counted in args]\n",
      "\u001b[36m(ClientAppActor pid=79204)\u001b[0m /Users/macbook/Desktop/L361/L361_Project/.conda/lib/python3.12/site-packages/datasets/utils/_dill.py:385: DeprecationWarning: co_lnotab is deprecated, use co_lines instead.\n",
      "\u001b[36m(ClientAppActor pid=79204)\u001b[0m   obj.co_lnotab,  # for < python 3.10 [not counted in args]\n"
     ]
    },
    {
     "name": "stdout",
     "output_type": "stream",
     "text": [
      "\u001b[36m(ClientAppActor pid=79200)\u001b[0m [Client 0] evaluate, config: {}\n",
      "\u001b[36m(ClientAppActor pid=79200)\u001b[0m Epoch 8: train loss 0.0038570198230445385, accuracy 0.9581458145814582\n"
     ]
    },
    {
     "name": "stderr",
     "output_type": "stream",
     "text": [
      "\u001b[92mINFO \u001b[0m:      aggregate_evaluate: received 6 results and 0 failures\n",
      "\u001b[92mINFO \u001b[0m:      \n",
      "\u001b[92mINFO \u001b[0m:      [ROUND 16]\n",
      "\u001b[92mINFO \u001b[0m:      configure_fit: strategy sampled 6 clients (out of 6)\n"
     ]
    },
    {
     "name": "stdout",
     "output_type": "stream",
     "text": [
      "\u001b[36m(ClientAppActor pid=79203)\u001b[0m [Client 1] fit, config: {'proximal_mu': 0.1}\n",
      "\u001b[36m(ClientAppActor pid=79203)\u001b[0m Epoch 1: train loss 0.013390454463660717, accuracy 0.8552572371381431\n",
      "\u001b[36m(ClientAppActor pid=79205)\u001b[0m [Client 3] evaluate, config: {}\u001b[32m [repeated 5x across cluster]\u001b[0m\n"
     ]
    },
    {
     "name": "stderr",
     "output_type": "stream",
     "text": [
      "\u001b[36m(ClientAppActor pid=79207)\u001b[0m /Users/macbook/Desktop/L361/L361_Project/.conda/lib/python3.12/site-packages/datasets/utils/_dill.py:385: DeprecationWarning: co_lnotab is deprecated, use co_lines instead.\u001b[32m [repeated 9x across cluster]\u001b[0m\n",
      "\u001b[36m(ClientAppActor pid=79207)\u001b[0m   obj.co_lnotab,  # for < python 3.10 [not counted in args]\u001b[32m [repeated 9x across cluster]\u001b[0m\n"
     ]
    },
    {
     "name": "stdout",
     "output_type": "stream",
     "text": [
      "\u001b[36m(ClientAppActor pid=79205)\u001b[0m [Client 0] fit, config: {'proximal_mu': 0.1}\u001b[32m [repeated 5x across cluster]\u001b[0m\n",
      "\u001b[36m(ClientAppActor pid=79203)\u001b[0m Epoch 3: train loss 0.003956534434109926, accuracy 0.9596520173991301\u001b[32m [repeated 10x across cluster]\u001b[0m\n",
      "\u001b[36m(ClientAppActor pid=79200)\u001b[0m Epoch 5: train loss 0.003898240625858307, accuracy 0.9606960696069607\u001b[32m [repeated 12x across cluster]\u001b[0m\n",
      "\u001b[36m(ClientAppActor pid=79200)\u001b[0m Epoch 7: train loss 0.003779398975893855, accuracy 0.9633963396339634\u001b[32m [repeated 12x across cluster]\u001b[0m\n",
      "\u001b[36m(ClientAppActor pid=79207)\u001b[0m Epoch 8: train loss 0.0028042178601026535, accuracy 0.9711971197119712\u001b[32m [repeated 12x across cluster]\u001b[0m\n"
     ]
    },
    {
     "name": "stderr",
     "output_type": "stream",
     "text": [
      "\u001b[92mINFO \u001b[0m:      aggregate_fit: received 6 results and 0 failures\n"
     ]
    },
    {
     "name": "stdout",
     "output_type": "stream",
     "text": [
      "total size: 7449672\n",
      "\n",
      "==== Server-side evaluation for round 16 ====\n",
      "  Parameter 0: Changed by 0.003444\n",
      "  Parameter 1: Changed by 0.004284\n",
      "  Parameter 2: Changed by 0.005690\n",
      "  Parameter 3: Changed by 0.009069\n",
      "  Parameter 4: Changed by 0.007858\n",
      "  Parameter 5: Changed by 0.005714\n",
      "  Parameter 6: Changed by 0.009035\n",
      "  Parameter 7: Changed by 0.006123\n",
      "  Parameter 8: Changed by 0.009887\n",
      "  Parameter 9: Changed by 0.009387\n",
      "  Parameter 10: Changed by 0.009241\n",
      "  Parameter 11: Changed by 0.009314\n",
      "  Parameter 12: Changed by 0.007383\n",
      "  Parameter 13: Changed by 0.006500\n",
      "  Parameter 14: Changed by 0.013568\n",
      "  Parameter 15: Changed by 0.002917\n"
     ]
    },
    {
     "name": "stderr",
     "output_type": "stream",
     "text": [
      "\u001b[92mINFO \u001b[0m:      fit progress: (16, 0.08490479174852371, {'accuracy': 0.5612}, 634.5393235001247)\n",
      "\u001b[92mINFO \u001b[0m:      configure_evaluate: strategy sampled 6 clients (out of 6)\n"
     ]
    },
    {
     "name": "stdout",
     "output_type": "stream",
     "text": [
      "  Evaluation results - Loss: 0.0849, Accuracy: 0.5612\n",
      "\u001b[36m(ClientAppActor pid=79207)\u001b[0m [Client 1] evaluate, config: {}\n"
     ]
    },
    {
     "name": "stderr",
     "output_type": "stream",
     "text": [
      "\u001b[36m(ClientAppActor pid=79207)\u001b[0m /Users/macbook/Desktop/L361/L361_Project/.conda/lib/python3.12/site-packages/datasets/utils/_dill.py:385: DeprecationWarning: co_lnotab is deprecated, use co_lines instead.\u001b[32m [repeated 2x across cluster]\u001b[0m\n",
      "\u001b[36m(ClientAppActor pid=79207)\u001b[0m   obj.co_lnotab,  # for < python 3.10 [not counted in args]\u001b[32m [repeated 2x across cluster]\u001b[0m\n"
     ]
    },
    {
     "name": "stdout",
     "output_type": "stream",
     "text": [
      "\u001b[36m(ClientAppActor pid=79205)\u001b[0m Epoch 8: train loss 0.003009387291967869, accuracy 0.9691015449227539\n"
     ]
    },
    {
     "name": "stderr",
     "output_type": "stream",
     "text": [
      "\u001b[92mINFO \u001b[0m:      aggregate_evaluate: received 6 results and 0 failures\n",
      "\u001b[92mINFO \u001b[0m:      \n",
      "\u001b[92mINFO \u001b[0m:      [ROUND 17]\n",
      "\u001b[92mINFO \u001b[0m:      configure_fit: strategy sampled 6 clients (out of 6)\n"
     ]
    },
    {
     "name": "stdout",
     "output_type": "stream",
     "text": [
      "\u001b[36m(ClientAppActor pid=79207)\u001b[0m [Client 5] fit, config: {'proximal_mu': 0.1}\n",
      "\u001b[36m(ClientAppActor pid=79206)\u001b[0m [Client 3] evaluate, config: {}\u001b[32m [repeated 5x across cluster]\u001b[0m\n"
     ]
    },
    {
     "name": "stderr",
     "output_type": "stream",
     "text": [
      "\u001b[36m(ClientAppActor pid=79207)\u001b[0m /Users/macbook/Desktop/L361/L361_Project/.conda/lib/python3.12/site-packages/datasets/utils/_dill.py:385: DeprecationWarning: co_lnotab is deprecated, use co_lines instead.\u001b[32m [repeated 6x across cluster]\u001b[0m\n",
      "\u001b[36m(ClientAppActor pid=79207)\u001b[0m   obj.co_lnotab,  # for < python 3.10 [not counted in args]\u001b[32m [repeated 6x across cluster]\u001b[0m\n"
     ]
    },
    {
     "name": "stdout",
     "output_type": "stream",
     "text": [
      "\u001b[36m(ClientAppActor pid=79207)\u001b[0m Epoch 1: train loss 0.01236775703728199, accuracy 0.870987098709871\n",
      "\u001b[36m(ClientAppActor pid=79203)\u001b[0m [Client 1] fit, config: {'proximal_mu': 0.1}\u001b[32m [repeated 5x across cluster]\u001b[0m\n",
      "\u001b[36m(ClientAppActor pid=79207)\u001b[0m Epoch 3: train loss 0.004132975824177265, accuracy 0.9533453345334534\u001b[32m [repeated 12x across cluster]\u001b[0m\n",
      "\u001b[36m(ClientAppActor pid=79207)\u001b[0m Epoch 5: train loss 0.0037145037204027176, accuracy 0.9620462046204621\u001b[32m [repeated 12x across cluster]\u001b[0m\n",
      "\u001b[36m(ClientAppActor pid=79200)\u001b[0m Epoch 7: train loss 0.00305347191169858, accuracy 0.9684968496849685\u001b[32m [repeated 12x across cluster]\u001b[0m\n"
     ]
    },
    {
     "name": "stderr",
     "output_type": "stream",
     "text": [
      "\u001b[92mINFO \u001b[0m:      aggregate_fit: received 6 results and 0 failures\n"
     ]
    },
    {
     "name": "stdout",
     "output_type": "stream",
     "text": [
      "total size: 7449672\n",
      "\n",
      "==== Server-side evaluation for round 17 ====\n",
      "  Parameter 0: Changed by 0.003063\n",
      "  Parameter 1: Changed by 0.003849\n",
      "  Parameter 2: Changed by 0.005665\n",
      "  Parameter 3: Changed by 0.008072\n",
      "  Parameter 4: Changed by 0.007797\n",
      "  Parameter 5: Changed by 0.006397\n",
      "  Parameter 6: Changed by 0.008980\n",
      "  Parameter 7: Changed by 0.006852\n",
      "  Parameter 8: Changed by 0.009885\n",
      "  Parameter 9: Changed by 0.007918\n",
      "  Parameter 10: Changed by 0.009822\n",
      "  Parameter 11: Changed by 0.008268\n",
      "  Parameter 12: Changed by 0.008275\n",
      "  Parameter 13: Changed by 0.006602\n",
      "  Parameter 14: Changed by 0.014706\n",
      "  Parameter 15: Changed by 0.003836\n"
     ]
    },
    {
     "name": "stderr",
     "output_type": "stream",
     "text": [
      "\u001b[92mINFO \u001b[0m:      fit progress: (17, 0.08266533207297325, {'accuracy': 0.5625}, 670.5451903331559)\n",
      "\u001b[92mINFO \u001b[0m:      configure_evaluate: strategy sampled 6 clients (out of 6)\n"
     ]
    },
    {
     "name": "stdout",
     "output_type": "stream",
     "text": [
      "  Evaluation results - Loss: 0.0827, Accuracy: 0.5625\n",
      "\u001b[36m(ClientAppActor pid=79206)\u001b[0m [Client 2] evaluate, config: {}\n",
      "\u001b[36m(ClientAppActor pid=79203)\u001b[0m Epoch 8: train loss 0.0034573893062770367, accuracy 0.9658017099145043\u001b[32m [repeated 11x across cluster]\u001b[0m\n"
     ]
    },
    {
     "name": "stderr",
     "output_type": "stream",
     "text": [
      "\u001b[36m(ClientAppActor pid=79206)\u001b[0m /Users/macbook/Desktop/L361/L361_Project/.conda/lib/python3.12/site-packages/datasets/utils/_dill.py:385: DeprecationWarning: co_lnotab is deprecated, use co_lines instead.\u001b[32m [repeated 6x across cluster]\u001b[0m\n",
      "\u001b[36m(ClientAppActor pid=79206)\u001b[0m   obj.co_lnotab,  # for < python 3.10 [not counted in args]\u001b[32m [repeated 6x across cluster]\u001b[0m\n",
      "\u001b[92mINFO \u001b[0m:      aggregate_evaluate: received 6 results and 0 failures\n",
      "\u001b[92mINFO \u001b[0m:      \n",
      "\u001b[92mINFO \u001b[0m:      [ROUND 18]\n",
      "\u001b[92mINFO \u001b[0m:      configure_fit: strategy sampled 6 clients (out of 6)\n"
     ]
    },
    {
     "name": "stdout",
     "output_type": "stream",
     "text": [
      "\u001b[36m(ClientAppActor pid=79206)\u001b[0m [Client 5] fit, config: {'proximal_mu': 0.1}\n",
      "\u001b[36m(ClientAppActor pid=79200)\u001b[0m [Client 5] evaluate, config: {}\u001b[32m [repeated 5x across cluster]\u001b[0m\n",
      "\u001b[36m(ClientAppActor pid=79206)\u001b[0m Epoch 1: train loss 0.011558916419744492, accuracy 0.8774377437743774\n",
      "\u001b[36m(ClientAppActor pid=79203)\u001b[0m Epoch 1: train loss 0.012275761924684048, accuracy 0.8681368136813682\n",
      "\u001b[36m(ClientAppActor pid=79204)\u001b[0m [Client 2] fit, config: {'proximal_mu': 0.1}\u001b[32m [repeated 5x across cluster]\u001b[0m\n",
      "\u001b[36m(ClientAppActor pid=79206)\u001b[0m Epoch 3: train loss 0.0033164480701088905, accuracy 0.9672967296729673\u001b[32m [repeated 11x across cluster]\u001b[0m\n",
      "\u001b[36m(ClientAppActor pid=79206)\u001b[0m Epoch 5: train loss 0.0041486890986561775, accuracy 0.9558955895589559\u001b[32m [repeated 12x across cluster]\u001b[0m\n",
      "\u001b[36m(ClientAppActor pid=79200)\u001b[0m Epoch 7: train loss 0.002900840947404504, accuracy 0.9733013349332533\u001b[32m [repeated 12x across cluster]\u001b[0m\n"
     ]
    },
    {
     "name": "stderr",
     "output_type": "stream",
     "text": [
      "\u001b[92mINFO \u001b[0m:      aggregate_fit: received 6 results and 0 failures\n"
     ]
    },
    {
     "name": "stdout",
     "output_type": "stream",
     "text": [
      "total size: 7449672\n",
      "\n",
      "==== Server-side evaluation for round 18 ====\n",
      "  Parameter 0: Changed by 0.003142\n",
      "  Parameter 1: Changed by 0.005519\n",
      "  Parameter 2: Changed by 0.005505\n",
      "  Parameter 3: Changed by 0.007781\n",
      "  Parameter 4: Changed by 0.007966\n",
      "  Parameter 5: Changed by 0.006355\n",
      "  Parameter 6: Changed by 0.009062\n",
      "  Parameter 7: Changed by 0.006646\n",
      "  Parameter 8: Changed by 0.010052\n",
      "  Parameter 9: Changed by 0.009600\n",
      "  Parameter 10: Changed by 0.009712\n",
      "  Parameter 11: Changed by 0.008791\n",
      "  Parameter 12: Changed by 0.007729\n",
      "  Parameter 13: Changed by 0.006406\n",
      "  Parameter 14: Changed by 0.014024\n",
      "  Parameter 15: Changed by 0.003213\n"
     ]
    },
    {
     "name": "stderr",
     "output_type": "stream",
     "text": [
      "\u001b[92mINFO \u001b[0m:      fit progress: (18, 0.0843662892639637, {'accuracy': 0.5643}, 704.3973972920794)\n",
      "\u001b[92mINFO \u001b[0m:      configure_evaluate: strategy sampled 6 clients (out of 6)\n"
     ]
    },
    {
     "name": "stdout",
     "output_type": "stream",
     "text": [
      "  Evaluation results - Loss: 0.0844, Accuracy: 0.5643\n"
     ]
    },
    {
     "name": "stderr",
     "output_type": "stream",
     "text": [
      "\u001b[36m(ClientAppActor pid=79206)\u001b[0m /Users/macbook/Desktop/L361/L361_Project/.conda/lib/python3.12/site-packages/datasets/utils/_dill.py:385: DeprecationWarning: co_lnotab is deprecated, use co_lines instead.\u001b[32m [repeated 12x across cluster]\u001b[0m\n",
      "\u001b[36m(ClientAppActor pid=79206)\u001b[0m   obj.co_lnotab,  # for < python 3.10 [not counted in args]\u001b[32m [repeated 12x across cluster]\u001b[0m\n"
     ]
    },
    {
     "name": "stdout",
     "output_type": "stream",
     "text": [
      "\u001b[36m(ClientAppActor pid=79205)\u001b[0m [Client 1] evaluate, config: {}\n",
      "\u001b[36m(ClientAppActor pid=79204)\u001b[0m Epoch 8: train loss 0.0023682715836912394, accuracy 0.9756975697569757\u001b[32m [repeated 11x across cluster]\u001b[0m\n"
     ]
    },
    {
     "name": "stderr",
     "output_type": "stream",
     "text": [
      "\u001b[92mINFO \u001b[0m:      aggregate_evaluate: received 6 results and 0 failures\n",
      "\u001b[92mINFO \u001b[0m:      \n",
      "\u001b[92mINFO \u001b[0m:      [SUMMARY]\n",
      "\u001b[92mINFO \u001b[0m:      Run finished 18 round(s) in 707.49s\n",
      "\u001b[92mINFO \u001b[0m:      \tHistory (loss, distributed):\n",
      "\u001b[92mINFO \u001b[0m:      \t\tround 1: 0.07215965230377691\n",
      "\u001b[92mINFO \u001b[0m:      \t\tround 2: 0.04577561425724117\n",
      "\u001b[92mINFO \u001b[0m:      \t\tround 3: 0.04995161161449427\n",
      "\u001b[92mINFO \u001b[0m:      \t\tround 4: 0.057770381234861855\n",
      "\u001b[92mINFO \u001b[0m:      \t\tround 5: 0.06269017858454953\n",
      "\u001b[92mINFO \u001b[0m:      \t\tround 6: 0.06741136380867394\n",
      "\u001b[92mINFO \u001b[0m:      \t\tround 7: 0.07059713979425805\n",
      "\u001b[92mINFO \u001b[0m:      \t\tround 8: 0.0735294049022091\n",
      "\u001b[92mINFO \u001b[0m:      \t\tround 9: 0.07666584091002918\n",
      "\u001b[92mINFO \u001b[0m:      \t\tround 10: 0.07814394835203177\n",
      "\u001b[92mINFO \u001b[0m:      \t\tround 11: 0.07959321666590108\n",
      "\u001b[92mINFO \u001b[0m:      \t\tround 12: 0.08284538434015747\n",
      "\u001b[92mINFO \u001b[0m:      \t\tround 13: 0.08315453747795049\n",
      "\u001b[92mINFO \u001b[0m:      \t\tround 14: 0.08408731135575652\n",
      "\u001b[92mINFO \u001b[0m:      \t\tround 15: 0.08434905957717764\n",
      "\u001b[92mINFO \u001b[0m:      \t\tround 16: 0.08846417941249934\n",
      "\u001b[92mINFO \u001b[0m:      \t\tround 17: 0.08492204866564236\n",
      "\u001b[92mINFO \u001b[0m:      \t\tround 18: 0.08836163611983154\n",
      "\u001b[92mINFO \u001b[0m:      \tHistory (loss, centralized):\n",
      "\u001b[92mINFO \u001b[0m:      \t\tround 0: 0.07215112674236297\n",
      "\u001b[92mINFO \u001b[0m:      \t\tround 1: 0.07092411272525788\n",
      "\u001b[92mINFO \u001b[0m:      \t\tround 2: 0.04442917909026146\n",
      "\u001b[92mINFO \u001b[0m:      \t\tround 3: 0.048214974230527875\n",
      "\u001b[92mINFO \u001b[0m:      \t\tround 4: 0.054671808785200116\n",
      "\u001b[92mINFO \u001b[0m:      \t\tround 5: 0.059343621170520784\n",
      "\u001b[92mINFO \u001b[0m:      \t\tround 6: 0.06367072913050652\n",
      "\u001b[92mINFO \u001b[0m:      \t\tround 7: 0.06677313663959503\n",
      "\u001b[92mINFO \u001b[0m:      \t\tround 8: 0.07044816671013832\n",
      "\u001b[92mINFO \u001b[0m:      \t\tround 9: 0.07366499749422073\n",
      "\u001b[92mINFO \u001b[0m:      \t\tround 10: 0.0746501287817955\n",
      "\u001b[92mINFO \u001b[0m:      \t\tround 11: 0.07650904035568237\n",
      "\u001b[92mINFO \u001b[0m:      \t\tround 12: 0.07951081648468972\n",
      "\u001b[92mINFO \u001b[0m:      \t\tround 13: 0.07882574852705002\n",
      "\u001b[92mINFO \u001b[0m:      \t\tround 14: 0.07988372974991799\n",
      "\u001b[92mINFO \u001b[0m:      \t\tround 15: 0.08073264346122741\n",
      "\u001b[92mINFO \u001b[0m:      \t\tround 16: 0.08490479174852371\n",
      "\u001b[92mINFO \u001b[0m:      \t\tround 17: 0.08266533207297325\n",
      "\u001b[92mINFO \u001b[0m:      \t\tround 18: 0.0843662892639637\n",
      "\u001b[92mINFO \u001b[0m:      \tHistory (metrics, centralized):\n",
      "\u001b[92mINFO \u001b[0m:      \t{'accuracy': [(0, 0.1),\n",
      "\u001b[92mINFO \u001b[0m:      \t              (1, 0.1465),\n",
      "\u001b[92mINFO \u001b[0m:      \t              (2, 0.486),\n",
      "\u001b[92mINFO \u001b[0m:      \t              (3, 0.5388),\n",
      "\u001b[92mINFO \u001b[0m:      \t              (4, 0.5503),\n",
      "\u001b[92mINFO \u001b[0m:      \t              (5, 0.5619),\n",
      "\u001b[92mINFO \u001b[0m:      \t              (6, 0.562),\n",
      "\u001b[92mINFO \u001b[0m:      \t              (7, 0.5632),\n",
      "\u001b[92mINFO \u001b[0m:      \t              (8, 0.5637),\n",
      "\u001b[92mINFO \u001b[0m:      \t              (9, 0.5651),\n",
      "\u001b[92mINFO \u001b[0m:      \t              (10, 0.5636),\n",
      "\u001b[92mINFO \u001b[0m:      \t              (11, 0.5647),\n",
      "\u001b[92mINFO \u001b[0m:      \t              (12, 0.5657),\n",
      "\u001b[92mINFO \u001b[0m:      \t              (13, 0.5685),\n",
      "\u001b[92mINFO \u001b[0m:      \t              (14, 0.5639),\n",
      "\u001b[92mINFO \u001b[0m:      \t              (15, 0.5606),\n",
      "\u001b[92mINFO \u001b[0m:      \t              (16, 0.5612),\n",
      "\u001b[92mINFO \u001b[0m:      \t              (17, 0.5625),\n",
      "\u001b[92mINFO \u001b[0m:      \t              (18, 0.5643)]}\n",
      "\u001b[92mINFO \u001b[0m:      \n"
     ]
    },
    {
     "name": "stdout",
     "output_type": "stream",
     "text": [
      "\u001b[36m(ClientAppActor pid=79203)\u001b[0m [Client 3] evaluate, config: {}\u001b[32m [repeated 5x across cluster]\u001b[0m\n"
     ]
    },
    {
     "name": "stderr",
     "output_type": "stream",
     "text": [
      "\u001b[36m(ClientAppActor pid=79203)\u001b[0m /Users/macbook/Desktop/L361/L361_Project/.conda/lib/python3.12/site-packages/datasets/utils/_dill.py:385: DeprecationWarning: co_lnotab is deprecated, use co_lines instead.\u001b[32m [repeated 5x across cluster]\u001b[0m\n",
      "\u001b[36m(ClientAppActor pid=79203)\u001b[0m   obj.co_lnotab,  # for < python 3.10 [not counted in args]\u001b[32m [repeated 5x across cluster]\u001b[0m\n"
     ]
    }
   ],
   "source": [
    "net = Net().to(DEVICE)\n",
    "\n",
    "_, _, testloader = load_datasets(0, NUM_PARTITIONS)\n",
    "\n",
    "evaluate_fn = get_evaluate_fn(testloader, net)\n",
    "\n",
    "\n",
    "def server_fn(context: Context) -> ServerAppComponents:\n",
    "    # Configure the server for just 3 rounds of training\n",
    "    config = ServerConfig(num_rounds=NUM_OF_ROUNDS)\n",
    "    return ServerAppComponents(\n",
    "        config=config,\n",
    "        strategy=ModifiedFedProx(proximal_mu=0.1, evaluate_fn=evaluate_fn),\n",
    "    )\n",
    "\n",
    "server = ServerApp(server_fn=server_fn)\n",
    "\n",
    "# Run simulation\n",
    "run_simulation(\n",
    "    server_app=server,\n",
    "    client_app=client,\n",
    "    num_supernodes=NUM_PARTITIONS,\n",
    "    backend_config=backend_config,\n",
    ")"
   ]
  },
  {
   "cell_type": "code",
   "execution_count": 44,
   "metadata": {},
   "outputs": [],
   "source": [
    "with open(f'results/fed_prox_results.p', 'wb') as file:\n",
    "    pickle.dump(fed_prox_result, file)\n",
    "\n",
    "with open(f'results/fed_prox_model_results.p', 'wb') as file:\n",
    "    pickle.dump(fed_prox_model_results, file)"
   ]
  },
  {
   "cell_type": "code",
   "execution_count": 16,
   "metadata": {},
   "outputs": [],
   "source": [
    "fed_prox_rounds = list(fed_prox_result.keys())\n",
    "fed_prox_sizes = [fed_prox_result[round][\"total_size\"] for round in fed_prox_rounds]\n",
    "\n",
    "# plt.figure(figsize=(10, 5))\n",
    "# plt.plot(fed_prox_rounds, fed_prox_sizes, marker='o', linestyle='-', color='b', label='FedProx')\n",
    "# plt.plot(fed_part_avg_rounds, fed_part_avg_sizes, marker='o', linestyle='-', color='r', label='FedPartAvg')\n",
    "# plt.plot(fed_avg_rounds, fed_avg_sizes, marker='o', linestyle='-', color='g', label='FedAvg')\n",
    "# plt.xlabel('Round')\n",
    "# plt.ylabel('Total Size of Parameters (bytes)')\n",
    "# plt.title('Total Size of Parameters for Each Round')\n",
    "# plt.legend()\n",
    "# plt.grid(True)\n",
    "\n",
    "# fed_prox_losses = [fed_prox_result[round][\"total_loss\"] for round in fed_prox_rounds]\n",
    "\n",
    "# plt.figure(figsize=(10, 5))\n",
    "# plt.plot(fed_prox_rounds, fed_prox_losses, marker='o', linestyle='-', color='b', label='FedProx')\n",
    "# plt.plot(fed_part_avg_rounds, fed_part_avg_losses, marker='o', linestyle='-', color='r', label='FedPartAvg')\n",
    "# plt.plot(fed_avg_rounds, fed_avg_losses, marker='o', linestyle='-', color='g', label='FedAvg')\n",
    "# plt.xlabel('Round')\n",
    "# plt.ylabel('Total Loss')\n",
    "# plt.title('Total Loss for Each Round')\n",
    "# plt.legend()\n",
    "# plt.grid(True)\n",
    "\n",
    "\n",
    "# fed_prox_model_rounds = list(fed_prox_model_results.keys())\n",
    "# fed_prox_accuracies = [fed_prox_model_results[round][\"global_metrics\"][\"accuracy\"] for round in fed_prox_model_rounds]\n",
    "\n",
    "# plt.figure(figsize=(10, 5))\n",
    "# # plt.plot(fed_part_prox_model_rounds, fed_part_prox_accuracies, marker='o', linestyle='-', color='b', label='FedPartProx')\n",
    "# plt.plot(fed_part_avg_model_rounds, fed_part_avg_accuracies, marker='o', linestyle='-', color='r', label='FedPartAvg')\n",
    "# plt.plot(fed_avg_model_rounds, fed_avg_accuracies, marker='o', linestyle='-', color='g', label='FedAvg')\n",
    "# plt.xlabel('Round')\n",
    "# plt.ylabel('Accuracy')\n",
    "# plt.title('Accuracy for Each Round')\n",
    "# plt.legend()\n",
    "# plt.grid(True)\n",
    "\n",
    "# fed_prox_global_losses = [fed_prox_model_results[round][\"global_loss\"] for round in fed_prox_model_rounds]\n",
    "\n",
    "# plt.figure(figsize=(10, 5))\n",
    "# # plt.plot(fed_part_prox_model_rounds, fed_part_prox_global_losses, marker='o', linestyle='-', color='b', label='FedPartProx')\n",
    "# plt.plot(fed_part_avg_model_rounds, fed_part_avg_global_losses, marker='o', linestyle='-', color='r', label='FedPartAvg')   \n",
    "# plt.plot(fed_avg_model_rounds, fed_avg_global_losses, marker='o', linestyle='-', color='g', label='FedAvg')\n",
    "# plt.xlabel('Round')\n",
    "# plt.ylabel('Loss')\n",
    "# plt.title('Loss for Each Round')\n",
    "# plt.legend()\n",
    "# plt.grid(True)\n"
   ]
  },
  {
   "cell_type": "markdown",
   "metadata": {},
   "source": [
    "# FedMoon experiments:"
   ]
  },
  {
   "cell_type": "code",
   "execution_count": 27,
   "metadata": {},
   "outputs": [],
   "source": [
    "import os\n",
    "class FedMoonNoFreezeFlowerClient(NumPyClient):\n",
    "    def __init__(self, partition_id, net, trainloader, valloader):\n",
    "        self.partition_id = partition_id\n",
    "        self.net = net\n",
    "        self.trainloader = trainloader\n",
    "        self.valloader = valloader\n",
    "        self.model_dir = \"models\"\n",
    "\n",
    "    def get_parameters(self, config):\n",
    "        print(f\"[Client {self.partition_id}] get_parameters\")\n",
    "        parameters = get_parameters(self.net)\n",
    "        trainable_layer = config[\"trainable_layers\"]\n",
    "        self._save_model_state()\n",
    "        \n",
    "        if trainable_layer == -1:\n",
    "            return parameters\n",
    "        \n",
    "        trained_layer = [parameters[trainable_layer*2], parameters[trainable_layer*2 +1]]\n",
    "        return trained_layer\n",
    "\n",
    "    def fit(self, parameters, config):\n",
    "        print(f\"[Client {self.partition_id}] fit, config: {config}\")\n",
    "\n",
    "        # load previous model\n",
    "        if not os.path.exists(os.path.join(self.model_dir, str(self.partition_id))):\n",
    "            prev_model = copy.deepcopy(self.net)\n",
    "        else:\n",
    "            # initialise and load params from model_dir\n",
    "            prev_model = type(self.net)() \n",
    "            prev_model.load_state_dict(\n",
    "                torch.load(\n",
    "                    os.path.join(self.model_dir, str(self.partition_id), \"prev_net.pt\")\n",
    "                )\n",
    "            )\n",
    "\n",
    "        # update params for current model (loading global params)\n",
    "        set_parameters(self.net, parameters)\n",
    "\n",
    "        # create global model (same params that were just loaded)\n",
    "        global_model = type(self.net)()\n",
    "        global_model.load_state_dict(self.net.state_dict())\n",
    "        global_model.to(DEVICE)\n",
    "        \n",
    "        train_moon(self.net, self.trainloader, global_model, prev_model, EPOCHS, 5, 0.5)\n",
    "\n",
    "        # save current model \n",
    "        if not os.path.exists(os.path.join(self.model_dir, str(self.partition_id))):\n",
    "            os.makedirs(os.path.join(self.model_dir, str(self.partition_id)))\n",
    "        torch.save(\n",
    "            self.net.state_dict(),\n",
    "            os.path.join(self.model_dir, str(self.partition_id), \"prev_net.pt\"),\n",
    "        )\n",
    "\n",
    "        return get_parameters(self.net), len(self.trainloader), {}\n",
    "\n",
    "\n",
    "    def evaluate(self, parameters, config):\n",
    "        print(f\"[Client {self.partition_id}] evaluate, config: {config}\")\n",
    "        set_parameters(self.net, parameters)\n",
    "        loss, accuracy = test_moon(self.net, self.valloader)\n",
    "        return float(loss), len(self.valloader), {\"accuracy\": float(accuracy)}\n",
    "\n",
    "\n",
    "def client_fn(context: Context) -> Client:\n",
    "    net = MoonNet().to(DEVICE)\n",
    "    partition_id = context.node_config[\"partition-id\"]\n",
    "    num_partitions = context.node_config[\"num-partitions\"]\n",
    "    trainloader, valloader, _ = load_datasets(partition_id, num_partitions)\n",
    "    return FedMoonNoFreezeFlowerClient(partition_id, net, trainloader, valloader).to_client()\n",
    "\n",
    "\n",
    "# Create the ClientApp\n",
    "client = ClientApp(client_fn=client_fn)\n"
   ]
  },
  {
   "cell_type": "code",
   "execution_count": 28,
   "metadata": {},
   "outputs": [],
   "source": [
    "from typing import Union\n",
    "import sys\n",
    "\n",
    "from flwr.common import (\n",
    "    EvaluateIns,\n",
    "    EvaluateRes,\n",
    "    FitIns,\n",
    "    FitRes,\n",
    "    Parameters,\n",
    "    Scalar,\n",
    "    ndarrays_to_parameters,\n",
    "    parameters_to_ndarrays,\n",
    ")\n",
    "from flwr.server.client_manager import ClientManager\n",
    "from flwr.server.client_proxy import ClientProxy\n",
    "from flwr.server.strategy.aggregate import aggregate, weighted_loss_avg\n",
    "\n",
    "def get_parameters_size(params: Parameters) -> int:\n",
    "    size = sys.getsizeof(params)  # Base size of the dataclass instance\n",
    "    size += sys.getsizeof(params.tensor_type)  # Size of the string\n",
    "    size += sys.getsizeof(params.tensors)  # Size of the list container\n",
    "    size += sum(sys.getsizeof(tensor) for tensor in params.tensors)  # Size of each bytes object\n",
    "    return size\n",
    "\n",
    "fed_moon_no_freeze_result = {}\n",
    "fed_moon_model_no_freeze_results = {}\n",
    "\n",
    "# basically same as normal FedAvg, just added freezing and modified result dict names\n",
    "class FedMoonNoFreeze(Strategy):\n",
    "    def __init__(\n",
    "        self,\n",
    "        fraction_fit: float = 1.0,\n",
    "        fraction_evaluate: float = 1.0,\n",
    "        min_fit_clients: int = 2,\n",
    "        min_evaluate_clients: int = 2,\n",
    "        min_available_clients: int = 2,\n",
    "        evaluate_fn: Optional[\n",
    "            Callable[\n",
    "                [int, NDArrays, dict[str, Scalar]],\n",
    "                Optional[tuple[float, dict[str, Scalar]]],\n",
    "            ]\n",
    "        ] = None,\n",
    "        on_fit_config_fn: Optional[Callable[[int], dict[str, Scalar]]] = None,\n",
    "        on_evaluate_config_fn: Optional[Callable[[int], dict[str, Scalar]]] = None,\n",
    "        accept_failures: bool = True,\n",
    "        initial_parameters: Optional[Parameters] = None,\n",
    "        fit_metrics_aggregation_fn: Optional[MetricsAggregationFn] = None,\n",
    "        evaluate_metrics_aggregation_fn: Optional[MetricsAggregationFn] = None,\n",
    "        inplace: bool = True,\n",
    "        layer_update_strategy: str = \"sequential\",\n",
    "        \n",
    "    ) -> None:\n",
    "        super().__init__()\n",
    "        self.fraction_fit = fraction_fit\n",
    "        self.fraction_evaluate = fraction_evaluate\n",
    "        self.min_fit_clients = min_fit_clients\n",
    "        self.min_evaluate_clients = min_evaluate_clients\n",
    "        self.min_available_clients = min_available_clients\n",
    "        self.evaluate_fn = evaluate_fn\n",
    "        self.on_fit_config_fn = on_fit_config_fn\n",
    "        self.on_evaluate_config_fn = on_evaluate_config_fn\n",
    "        self.accept_failures = accept_failures\n",
    "        self.initial_parameters = initial_parameters\n",
    "        self.fit_metrics_aggregation_fn = fit_metrics_aggregation_fn\n",
    "        self.evaluate_metrics_aggregation_fn = evaluate_metrics_aggregation_fn\n",
    "        self.inplace = inplace\n",
    "        self.layer_training_sequence = []\n",
    "        self.training_sequence_index = 0\n",
    "        self.latest_parameters = initial_parameters\n",
    "\n",
    "\n",
    "    def __repr__(self) -> str:\n",
    "        return \"FedMoon\"\n",
    "    \n",
    "    def num_fit_clients(self, num_available_clients: int) -> Tuple[int, int]:\n",
    "        \"\"\"Return sample size and required number of clients.\"\"\"\n",
    "        num_clients = int(num_available_clients * self.fraction_fit)\n",
    "        return max(num_clients, self.min_fit_clients), self.min_available_clients\n",
    "\n",
    "    def num_evaluation_clients(self, num_available_clients: int) -> Tuple[int, int]:\n",
    "        \"\"\"Use a fraction of available clients for evaluation.\"\"\"\n",
    "        num_clients = int(num_available_clients * self.fraction_evaluate)\n",
    "        return max(num_clients, self.min_evaluate_clients), self.min_available_clients\n",
    "   \n",
    "    def initialize_parameters(\n",
    "        self, client_manager: ClientManager\n",
    "    ) -> Optional[Parameters]:\n",
    "        \"\"\"Initialize global model parameters.\"\"\"\n",
    "        net = MoonNet()\n",
    "        ndarrays = get_parameters(net)\n",
    "        return ndarrays_to_parameters(ndarrays)\n",
    "\n",
    "    def evaluate(\n",
    "        self, server_round: int, parameters: Parameters\n",
    "    ) -> Optional[tuple[float, dict[str, Scalar]]]:\n",
    "        \"\"\"Evaluate model parameters using an evaluation function.\"\"\"\n",
    "        if self.evaluate_fn is None:\n",
    "            # No evaluation function provided\n",
    "            return None\n",
    "        parameters_ndarrays = parameters_to_ndarrays(parameters)\n",
    "        eval_res = self.evaluate_fn(server_round, parameters_ndarrays, {})\n",
    "        if eval_res is None:\n",
    "            return None\n",
    "        loss, metrics = eval_res\n",
    "\n",
    "        if server_round in fed_moon_model_no_freeze_results:\n",
    "            expand_fed_moon_no_freeze_result= {**fed_moon_model_no_freeze_results[server_round], \"global_loss\": loss, \"global_metrics\": metrics}\n",
    "        else:\n",
    "            expand_fed_moon_no_freeze_result= {\"global_loss\": loss, \"global_metrics\": metrics}\n",
    "\n",
    "        fed_moon_model_no_freeze_results[server_round] = expand_fed_moon_no_freeze_result\n",
    "\n",
    "        return loss, metrics\n",
    "\n",
    "\n",
    "    def configure_fit(\n",
    "        # includes layer freezing\n",
    "        self, server_round: int, parameters: Parameters, client_manager: ClientManager\n",
    "    ) -> List[Tuple[ClientProxy, FitIns]]:\n",
    "        \"\"\"Configure the next round of training.\"\"\"\n",
    "        config = {}\n",
    "        \n",
    "        sample_size, min_num_clients = self.num_fit_clients(\n",
    "            client_manager.num_available()\n",
    "        )\n",
    "        clients = client_manager.sample(\n",
    "            num_clients=sample_size, min_num_clients=min_num_clients\n",
    "        )\n",
    "        \n",
    "        fit_configurations = []\n",
    "        for idx, client in enumerate(clients):\n",
    "            fit_configurations.append((client, FitIns(parameters, config)))\n",
    "\n",
    "        self.training_sequence_index = self.training_sequence_index + 1\n",
    "        \n",
    "        return fit_configurations\n",
    "    \n",
    "    def configure_evaluate(\n",
    "        self, server_round: int, parameters: Parameters, client_manager: ClientManager\n",
    "    ) -> List[Tuple[ClientProxy, EvaluateIns]]:\n",
    "        \"\"\"Configure the next round of evaluation.\"\"\"\n",
    "        if self.fraction_evaluate == 0.0:\n",
    "            return []\n",
    "        config = {}\n",
    "        evaluate_ins = EvaluateIns(parameters, config)\n",
    "\n",
    "        # Sample clients\n",
    "        sample_size, min_num_clients = self.num_evaluation_clients(\n",
    "            client_manager.num_available()\n",
    "        )\n",
    "        clients = client_manager.sample(\n",
    "            num_clients=sample_size, min_num_clients=min_num_clients\n",
    "        )\n",
    "\n",
    "        # Return client/config pairs\n",
    "        return [(client, evaluate_ins) for client in clients]\n",
    "\n",
    "\n",
    "    def aggregate_fit(\n",
    "        self,\n",
    "        server_round: int,\n",
    "        results: List[Tuple[ClientProxy, FitRes]],\n",
    "        failures: List[Union[Tuple[ClientProxy, FitRes], BaseException]],\n",
    "    ) -> Tuple[Optional[Parameters], Dict[str, Scalar]]:\n",
    "        \"\"\"Aggregate fit results using weighted average.\"\"\"\n",
    "\n",
    "        # get size of parameters in bytes\n",
    "        total_size = 0\n",
    "        for client, fit_res in results:\n",
    "            total_size += get_parameters_size(fit_res.parameters) * 2\n",
    "        \n",
    "        if server_round in fed_moon_no_freeze_result:\n",
    "            expand_fed_moon_no_freeze_result= {**fed_moon_no_freeze_result[server_round], \"total_size\": total_size}\n",
    "        else:\n",
    "            expand_fed_moon_no_freeze_result= {\"total_size\": total_size}\n",
    "\n",
    "        fed_moon_no_freeze_result[server_round] = expand_fed_moon_no_freeze_result\n",
    "\n",
    "        weights_results = [\n",
    "            (parameters_to_ndarrays(fit_res.parameters), fit_res.num_examples)\n",
    "            for _, fit_res in results\n",
    "        ]\n",
    "        \n",
    "        aggregated_weights = aggregate(weights_results)\n",
    "        \n",
    "        self.latest_parameters = ndarrays_to_parameters(aggregated_weights)\n",
    "\n",
    "        metrics_aggregated = {}\n",
    "        return self.latest_parameters, metrics_aggregated\n",
    "\n",
    "    \n",
    "\n",
    "    def aggregate_evaluate(\n",
    "        self,\n",
    "        server_round: int,\n",
    "        results: List[Tuple[ClientProxy, EvaluateRes]],\n",
    "        failures: List[Union[Tuple[ClientProxy, EvaluateRes], BaseException]],\n",
    "    ) -> Tuple[Optional[float], Dict[str, Scalar]]:\n",
    "        \"\"\"Aggregate evaluation losses using weighted average.\"\"\"\n",
    "\n",
    "        if not results:\n",
    "            return None, {}\n",
    "\n",
    "        total_loss = 0\n",
    "        for _, evaluate_res in results:\n",
    "            total_loss += evaluate_res.loss \n",
    "\n",
    "\n",
    "        if server_round in fed_moon_no_freeze_result:\n",
    "            expand_fed_moon_no_freeze_result= {**fed_moon_no_freeze_result[server_round], \"total_loss\": total_loss}\n",
    "        else:\n",
    "            expand_fed_moon_no_freeze_result= {\"total_loss\": total_loss}\n",
    "\n",
    "        fed_moon_no_freeze_result[server_round] = expand_fed_moon_no_freeze_result\n",
    "\n",
    "        loss_aggregated = weighted_loss_avg(\n",
    "            [\n",
    "                (evaluate_res.num_examples, evaluate_res.loss)\n",
    "                for _, evaluate_res in results\n",
    "            ]\n",
    "        )\n",
    "        metrics_aggregated = {}\n",
    "        return loss_aggregated, metrics_aggregated"
   ]
  },
  {
   "cell_type": "code",
   "execution_count": 29,
   "metadata": {},
   "outputs": [
    {
     "name": "stderr",
     "output_type": "stream",
     "text": [
      "/Users/macbook/Desktop/L361/L361_Project/.conda/lib/python3.12/site-packages/datasets/utils/_dill.py:385: DeprecationWarning: co_lnotab is deprecated, use co_lines instead.\n",
      "  obj.co_lnotab,  # for < python 3.10 [not counted in args]\n",
      "\u001b[92mINFO \u001b[0m:      Starting Flower ServerApp, config: num_rounds=18, no round_timeout\n",
      "\u001b[92mINFO \u001b[0m:      \n",
      "\u001b[92mINFO \u001b[0m:      [INIT]\n",
      "\u001b[92mINFO \u001b[0m:      Using initial global parameters provided by strategy\n",
      "\u001b[92mINFO \u001b[0m:      Starting evaluation of initial global parameters\n"
     ]
    },
    {
     "name": "stdout",
     "output_type": "stream",
     "text": [
      "\n",
      "==== Server-side evaluation for round 0 ====\n"
     ]
    },
    {
     "name": "stderr",
     "output_type": "stream",
     "text": [
      "\u001b[92mINFO \u001b[0m:      initial parameters (loss, other metrics): 0.07212668631076813, {'accuracy': 0.1}\n",
      "\u001b[92mINFO \u001b[0m:      \n",
      "\u001b[92mINFO \u001b[0m:      [ROUND 1]\n",
      "\u001b[92mINFO \u001b[0m:      configure_fit: strategy sampled 6 clients (out of 6)\n"
     ]
    },
    {
     "name": "stdout",
     "output_type": "stream",
     "text": [
      "  Evaluation results - Loss: 0.0721, Accuracy: 0.1000\n",
      "\u001b[36m(ClientAppActor pid=25378)\u001b[0m [Client 1] fit, config: {}\n",
      "\u001b[36m(ClientAppActor pid=25378)\u001b[0m Started training moon\n"
     ]
    },
    {
     "name": "stderr",
     "output_type": "stream",
     "text": [
      "\u001b[36m(ClientAppActor pid=25378)\u001b[0m /Users/macbook/Desktop/L361/L361_Project/.conda/lib/python3.12/site-packages/datasets/utils/_dill.py:385: DeprecationWarning: co_lnotab is deprecated, use co_lines instead.\n",
      "\u001b[36m(ClientAppActor pid=25378)\u001b[0m   obj.co_lnotab,  # for < python 3.10 [not counted in args]\n"
     ]
    },
    {
     "name": "stdout",
     "output_type": "stream",
     "text": [
      "\u001b[36m(ClientAppActor pid=25377)\u001b[0m Epoch: 0 Loss: 3.202811 Loss1: 2.262892 Loss2: 0.939919\n",
      "\u001b[36m(ClientAppActor pid=25376)\u001b[0m [Client 2] fit, config: {}\u001b[32m [repeated 5x across cluster]\u001b[0m\n",
      "\u001b[36m(ClientAppActor pid=25376)\u001b[0m Started training moon\u001b[32m [repeated 5x across cluster]\u001b[0m\n",
      "\u001b[36m(ClientAppActor pid=25377)\u001b[0m Epoch: 2 Loss: 2.974785 Loss1: 2.037924 Loss2: 0.936860\u001b[32m [repeated 12x across cluster]\u001b[0m\n",
      "\u001b[36m(ClientAppActor pid=25378)\u001b[0m Epoch: 4 Loss: 2.727960 Loss1: 1.844279 Loss2: 0.883682\u001b[32m [repeated 12x across cluster]\u001b[0m\n",
      "\u001b[36m(ClientAppActor pid=25378)\u001b[0m Epoch: 6 Loss: 2.622331 Loss1: 1.735161 Loss2: 0.887170\u001b[32m [repeated 12x across cluster]\u001b[0m\n"
     ]
    },
    {
     "name": "stderr",
     "output_type": "stream",
     "text": [
      "\u001b[92mINFO \u001b[0m:      aggregate_fit: received 6 results and 0 failures\n"
     ]
    },
    {
     "name": "stdout",
     "output_type": "stream",
     "text": [
      "\n",
      "==== Server-side evaluation for round 1 ====\n",
      "  Parameter 0: Changed by 0.028464\n",
      "  Parameter 1: Changed by 0.069216\n",
      "  Parameter 2: Changed by 0.024487\n",
      "  Parameter 3: Changed by 0.044784\n",
      "  Parameter 4: Changed by 0.016643\n",
      "  Parameter 5: Changed by 0.017307\n",
      "  Parameter 6: Changed by 0.012221\n",
      "  Parameter 7: Changed by 0.016276\n",
      "  Parameter 8: Changed by 0.011048\n",
      "  Parameter 9: Changed by 0.014599\n",
      "  Parameter 10: Changed by 0.009334\n",
      "  Parameter 11: Changed by 0.012368\n",
      "  Parameter 12: Changed by 0.008271\n",
      "  Parameter 13: Changed by 0.011851\n",
      "  Parameter 14: Changed by 0.020560\n",
      "  Parameter 15: Changed by 0.569201\n"
     ]
    },
    {
     "name": "stderr",
     "output_type": "stream",
     "text": [
      "\u001b[92mINFO \u001b[0m:      fit progress: (1, 0.07577478766441345, {'accuracy': 0.1005}, 38.569471624912694)\n",
      "\u001b[92mINFO \u001b[0m:      configure_evaluate: strategy sampled 6 clients (out of 6)\n"
     ]
    },
    {
     "name": "stdout",
     "output_type": "stream",
     "text": [
      "  Evaluation results - Loss: 0.0758, Accuracy: 0.1005\n"
     ]
    },
    {
     "name": "stderr",
     "output_type": "stream",
     "text": [
      "\u001b[36m(ClientAppActor pid=25375)\u001b[0m /Users/macbook/Desktop/L361/L361_Project/.conda/lib/python3.12/site-packages/datasets/utils/_dill.py:385: DeprecationWarning: co_lnotab is deprecated, use co_lines instead.\u001b[32m [repeated 6x across cluster]\u001b[0m\n",
      "\u001b[36m(ClientAppActor pid=25375)\u001b[0m   obj.co_lnotab,  # for < python 3.10 [not counted in args]\u001b[32m [repeated 6x across cluster]\u001b[0m\n"
     ]
    },
    {
     "name": "stdout",
     "output_type": "stream",
     "text": [
      "\u001b[36m(ClientAppActor pid=25375)\u001b[0m [Client 1] evaluate, config: {}\n",
      "\u001b[36m(ClientAppActor pid=25375)\u001b[0m Epoch: 7 Loss: 2.612834 Loss1: 1.727878 Loss2: 0.884956\u001b[32m [repeated 11x across cluster]\u001b[0m\n"
     ]
    },
    {
     "name": "stderr",
     "output_type": "stream",
     "text": [
      "\u001b[92mINFO \u001b[0m:      aggregate_evaluate: received 6 results and 0 failures\n",
      "\u001b[92mINFO \u001b[0m:      \n",
      "\u001b[92mINFO \u001b[0m:      [ROUND 2]\n",
      "\u001b[92mINFO \u001b[0m:      configure_fit: strategy sampled 6 clients (out of 6)\n"
     ]
    },
    {
     "name": "stdout",
     "output_type": "stream",
     "text": [
      "\u001b[36m(ClientAppActor pid=25374)\u001b[0m [Client 4] fit, config: {}\n",
      "\u001b[36m(ClientAppActor pid=25374)\u001b[0m Started training moon\n",
      "\u001b[36m(ClientAppActor pid=25376)\u001b[0m [Client 0] evaluate, config: {}\u001b[32m [repeated 5x across cluster]\u001b[0m\n",
      "\u001b[36m(ClientAppActor pid=25375)\u001b[0m Epoch: 0 Loss: 4.005164 Loss1: 1.960051 Loss2: 2.045113\n",
      "\u001b[36m(ClientAppActor pid=25373)\u001b[0m Epoch: 0 Loss: 3.870582 Loss1: 2.005842 Loss2: 1.864740\n",
      "\u001b[36m(ClientAppActor pid=25377)\u001b[0m [Client 2] fit, config: {}\u001b[32m [repeated 5x across cluster]\u001b[0m\n",
      "\u001b[36m(ClientAppActor pid=25377)\u001b[0m Started training moon\u001b[32m [repeated 5x across cluster]\u001b[0m\n",
      "\u001b[36m(ClientAppActor pid=25374)\u001b[0m Epoch: 2 Loss: 3.484395 Loss1: 1.750163 Loss2: 1.734232\u001b[32m [repeated 11x across cluster]\u001b[0m\n",
      "\u001b[36m(ClientAppActor pid=25374)\u001b[0m Epoch: 4 Loss: 3.375465 Loss1: 1.642186 Loss2: 1.733278\u001b[32m [repeated 12x across cluster]\u001b[0m\n",
      "\u001b[36m(ClientAppActor pid=25375)\u001b[0m Epoch: 5 Loss: 3.654252 Loss1: 1.650649 Loss2: 2.003603\u001b[32m [repeated 9x across cluster]\u001b[0m\n",
      "\u001b[36m(ClientAppActor pid=25374)\u001b[0m Epoch: 7 Loss: 3.238236 Loss1: 1.509216 Loss2: 1.729020\u001b[32m [repeated 9x across cluster]\u001b[0m\n"
     ]
    },
    {
     "name": "stderr",
     "output_type": "stream",
     "text": [
      "\u001b[92mINFO \u001b[0m:      aggregate_fit: received 6 results and 0 failures\n"
     ]
    },
    {
     "name": "stdout",
     "output_type": "stream",
     "text": [
      "\n",
      "==== Server-side evaluation for round 2 ====\n",
      "  Parameter 0: Changed by 0.019416\n",
      "  Parameter 1: Changed by 0.028580\n",
      "  Parameter 2: Changed by 0.023997\n",
      "  Parameter 3: Changed by 0.044356\n",
      "  Parameter 4: Changed by 0.015731\n",
      "  Parameter 5: Changed by 0.014338\n",
      "  Parameter 6: Changed by 0.014793\n",
      "  Parameter 7: Changed by 0.023109\n",
      "  Parameter 8: Changed by 0.013269\n",
      "  Parameter 9: Changed by 0.014690\n",
      "  Parameter 10: Changed by 0.007827\n",
      "  Parameter 11: Changed by 0.009896\n",
      "  Parameter 12: Changed by 0.004555\n",
      "  Parameter 13: Changed by 0.009029\n",
      "  Parameter 14: Changed by 0.015165\n",
      "  Parameter 15: Changed by 0.300586\n"
     ]
    },
    {
     "name": "stderr",
     "output_type": "stream",
     "text": [
      "\u001b[92mINFO \u001b[0m:      fit progress: (2, 0.06613382347822189, {'accuracy': 0.1614}, 78.3959774589166)\n",
      "\u001b[92mINFO \u001b[0m:      configure_evaluate: strategy sampled 6 clients (out of 6)\n"
     ]
    },
    {
     "name": "stdout",
     "output_type": "stream",
     "text": [
      "  Evaluation results - Loss: 0.0661, Accuracy: 0.1614\n"
     ]
    },
    {
     "name": "stderr",
     "output_type": "stream",
     "text": [
      "\u001b[36m(ClientAppActor pid=25375)\u001b[0m /Users/macbook/Desktop/L361/L361_Project/.conda/lib/python3.12/site-packages/datasets/utils/_dill.py:385: DeprecationWarning: co_lnotab is deprecated, use co_lines instead.\u001b[32m [repeated 12x across cluster]\u001b[0m\n",
      "\u001b[36m(ClientAppActor pid=25375)\u001b[0m   obj.co_lnotab,  # for < python 3.10 [not counted in args]\u001b[32m [repeated 12x across cluster]\u001b[0m\n"
     ]
    },
    {
     "name": "stdout",
     "output_type": "stream",
     "text": [
      "\u001b[36m(ClientAppActor pid=25375)\u001b[0m [Client 2] evaluate, config: {}\n",
      "\u001b[36m(ClientAppActor pid=25377)\u001b[0m Epoch: 7 Loss: 3.431755 Loss1: 1.525840 Loss2: 1.905915\u001b[32m [repeated 5x across cluster]\u001b[0m\n"
     ]
    },
    {
     "name": "stderr",
     "output_type": "stream",
     "text": [
      "\u001b[92mINFO \u001b[0m:      aggregate_evaluate: received 6 results and 0 failures\n",
      "\u001b[92mINFO \u001b[0m:      \n",
      "\u001b[92mINFO \u001b[0m:      [ROUND 3]\n",
      "\u001b[92mINFO \u001b[0m:      configure_fit: strategy sampled 6 clients (out of 6)\n"
     ]
    },
    {
     "name": "stdout",
     "output_type": "stream",
     "text": [
      "\u001b[36m(ClientAppActor pid=25373)\u001b[0m [Client 0] fit, config: {}\n",
      "\u001b[36m(ClientAppActor pid=25374)\u001b[0m Started training moon\n",
      "\u001b[36m(ClientAppActor pid=25373)\u001b[0m [Client 1] evaluate, config: {}\u001b[32m [repeated 5x across cluster]\u001b[0m\n",
      "\u001b[36m(ClientAppActor pid=25377)\u001b[0m Epoch: 0 Loss: 2.998609 Loss1: 1.700435 Loss2: 1.298174\n",
      "\u001b[36m(ClientAppActor pid=25374)\u001b[0m Epoch: 0 Loss: 2.676202 Loss1: 1.707516 Loss2: 0.968686\n",
      "\u001b[36m(ClientAppActor pid=25378)\u001b[0m [Client 2] fit, config: {}\u001b[32m [repeated 5x across cluster]\u001b[0m\n",
      "\u001b[36m(ClientAppActor pid=25378)\u001b[0m Started training moon\u001b[32m [repeated 5x across cluster]\u001b[0m\n",
      "\u001b[36m(ClientAppActor pid=25374)\u001b[0m Epoch: 2 Loss: 2.506067 Loss1: 1.557304 Loss2: 0.948763\u001b[32m [repeated 11x across cluster]\u001b[0m\n",
      "\u001b[36m(ClientAppActor pid=25374)\u001b[0m Epoch: 4 Loss: 2.365080 Loss1: 1.412154 Loss2: 0.952926\u001b[32m [repeated 12x across cluster]\u001b[0m\n",
      "\u001b[36m(ClientAppActor pid=25374)\u001b[0m Epoch: 5 Loss: 2.279443 Loss1: 1.325241 Loss2: 0.954202\u001b[32m [repeated 6x across cluster]\u001b[0m\n",
      "\u001b[36m(ClientAppActor pid=25377)\u001b[0m Epoch: 6 Loss: 2.469792 Loss1: 1.191628 Loss2: 1.278164\u001b[32m [repeated 9x across cluster]\u001b[0m\n",
      "\u001b[36m(ClientAppActor pid=25377)\u001b[0m Epoch: 7 Loss: 2.414496 Loss1: 1.134754 Loss2: 1.279742\u001b[32m [repeated 6x across cluster]\u001b[0m\n"
     ]
    },
    {
     "name": "stderr",
     "output_type": "stream",
     "text": [
      "\u001b[92mINFO \u001b[0m:      aggregate_fit: received 6 results and 0 failures\n"
     ]
    },
    {
     "name": "stdout",
     "output_type": "stream",
     "text": [
      "\n",
      "==== Server-side evaluation for round 3 ====\n",
      "  Parameter 0: Changed by 0.013407\n",
      "  Parameter 1: Changed by 0.015391\n",
      "  Parameter 2: Changed by 0.017707\n",
      "  Parameter 3: Changed by 0.031080\n",
      "  Parameter 4: Changed by 0.015545\n",
      "  Parameter 5: Changed by 0.010905\n",
      "  Parameter 6: Changed by 0.020807\n",
      "  Parameter 7: Changed by 0.029761\n",
      "  Parameter 8: Changed by 0.022473\n",
      "  Parameter 9: Changed by 0.023328\n",
      "  Parameter 10: Changed by 0.011612\n",
      "  Parameter 11: Changed by 0.011347\n",
      "  Parameter 12: Changed by 0.005861\n",
      "  Parameter 13: Changed by 0.011650\n",
      "  Parameter 14: Changed by 0.015732\n",
      "  Parameter 15: Changed by 0.245681\n"
     ]
    },
    {
     "name": "stderr",
     "output_type": "stream",
     "text": [
      "\u001b[92mINFO \u001b[0m:      fit progress: (3, 0.050366486847400666, {'accuracy': 0.3874}, 124.58203566703014)\n",
      "\u001b[92mINFO \u001b[0m:      configure_evaluate: strategy sampled 6 clients (out of 6)\n"
     ]
    },
    {
     "name": "stdout",
     "output_type": "stream",
     "text": [
      "  Evaluation results - Loss: 0.0504, Accuracy: 0.3874\n"
     ]
    },
    {
     "name": "stderr",
     "output_type": "stream",
     "text": [
      "\u001b[36m(ClientAppActor pid=25375)\u001b[0m /Users/macbook/Desktop/L361/L361_Project/.conda/lib/python3.12/site-packages/datasets/utils/_dill.py:385: DeprecationWarning: co_lnotab is deprecated, use co_lines instead.\u001b[32m [repeated 12x across cluster]\u001b[0m\n",
      "\u001b[36m(ClientAppActor pid=25375)\u001b[0m   obj.co_lnotab,  # for < python 3.10 [not counted in args]\u001b[32m [repeated 12x across cluster]\u001b[0m\n"
     ]
    },
    {
     "name": "stdout",
     "output_type": "stream",
     "text": [
      "\u001b[36m(ClientAppActor pid=25375)\u001b[0m [Client 1] evaluate, config: {}\n",
      "\u001b[36m(ClientAppActor pid=25373)\u001b[0m Epoch: 7 Loss: 2.606032 Loss1: 1.230511 Loss2: 1.375521\u001b[32m [repeated 2x across cluster]\u001b[0m\n"
     ]
    },
    {
     "name": "stderr",
     "output_type": "stream",
     "text": [
      "\u001b[92mINFO \u001b[0m:      aggregate_evaluate: received 6 results and 0 failures\n",
      "\u001b[92mINFO \u001b[0m:      \n",
      "\u001b[92mINFO \u001b[0m:      [ROUND 4]\n",
      "\u001b[92mINFO \u001b[0m:      configure_fit: strategy sampled 6 clients (out of 6)\n"
     ]
    },
    {
     "name": "stdout",
     "output_type": "stream",
     "text": [
      "\u001b[36m(ClientAppActor pid=25378)\u001b[0m [Client 0] fit, config: {}\n",
      "\u001b[36m(ClientAppActor pid=25378)\u001b[0m Started training moon\n"
     ]
    },
    {
     "name": "stderr",
     "output_type": "stream",
     "text": [
      "\u001b[36m(ClientAppActor pid=25377)\u001b[0m /Users/macbook/Desktop/L361/L361_Project/.conda/lib/python3.12/site-packages/datasets/utils/_dill.py:385: DeprecationWarning: co_lnotab is deprecated, use co_lines instead.\u001b[32m [repeated 7x across cluster]\u001b[0m\n",
      "\u001b[36m(ClientAppActor pid=25377)\u001b[0m   obj.co_lnotab,  # for < python 3.10 [not counted in args]\u001b[32m [repeated 7x across cluster]\u001b[0m\n"
     ]
    },
    {
     "name": "stdout",
     "output_type": "stream",
     "text": [
      "\u001b[36m(ClientAppActor pid=25378)\u001b[0m [Client 3] evaluate, config: {}\u001b[32m [repeated 5x across cluster]\u001b[0m\n",
      "\u001b[36m(ClientAppActor pid=25378)\u001b[0m Epoch: 0 Loss: 2.975149 Loss1: 1.492888 Loss2: 1.482261\n",
      "\u001b[36m(ClientAppActor pid=25373)\u001b[0m [Client 1] fit, config: {}\u001b[32m [repeated 2x across cluster]\u001b[0m\n",
      "\u001b[36m(ClientAppActor pid=25377)\u001b[0m Started training moon\n",
      "\u001b[36m(ClientAppActor pid=25373)\u001b[0m Started training moon\n"
     ]
    },
    {
     "name": "stderr",
     "output_type": "stream",
     "text": [
      "\u001b[36m(ClientAppActor pid=25373)\u001b[0m /Users/macbook/Desktop/L361/L361_Project/.conda/lib/python3.12/site-packages/datasets/utils/_dill.py:385: DeprecationWarning: co_lnotab is deprecated, use co_lines instead.\n",
      "\u001b[36m(ClientAppActor pid=25373)\u001b[0m   obj.co_lnotab,  # for < python 3.10 [not counted in args]\n",
      "\u001b[36m(ClientAppActor pid=25375)\u001b[0m /Users/macbook/Desktop/L361/L361_Project/.conda/lib/python3.12/site-packages/datasets/utils/_dill.py:385: DeprecationWarning: co_lnotab is deprecated, use co_lines instead.\n",
      "\u001b[36m(ClientAppActor pid=25375)\u001b[0m   obj.co_lnotab,  # for < python 3.10 [not counted in args]\n"
     ]
    },
    {
     "name": "stdout",
     "output_type": "stream",
     "text": [
      "\u001b[36m(ClientAppActor pid=25377)\u001b[0m Epoch: 1 Loss: 2.734393 Loss1: 1.342330 Loss2: 1.392063\u001b[32m [repeated 3x across cluster]\u001b[0m\n",
      "\u001b[36m(ClientAppActor pid=25374)\u001b[0m [Client 4] fit, config: {}\u001b[32m [repeated 3x across cluster]\u001b[0m\n",
      "\u001b[36m(ClientAppActor pid=25374)\u001b[0m Started training moon\u001b[32m [repeated 3x across cluster]\u001b[0m\n",
      "\u001b[36m(ClientAppActor pid=25375)\u001b[0m Epoch: 0 Loss: 3.523183 Loss1: 1.484928 Loss2: 2.038254\u001b[32m [repeated 5x across cluster]\u001b[0m\n",
      "\u001b[36m(ClientAppActor pid=25375)\u001b[0m Epoch: 1 Loss: 3.311119 Loss1: 1.359168 Loss2: 1.951950\u001b[32m [repeated 6x across cluster]\u001b[0m\n",
      "\u001b[36m(ClientAppActor pid=25376)\u001b[0m Epoch: 3 Loss: 3.158502 Loss1: 1.144901 Loss2: 2.013601\u001b[32m [repeated 6x across cluster]\u001b[0m\n",
      "\u001b[36m(ClientAppActor pid=25375)\u001b[0m Epoch: 3 Loss: 3.089061 Loss1: 1.138426 Loss2: 1.950635\u001b[32m [repeated 9x across cluster]\u001b[0m\n",
      "\u001b[36m(ClientAppActor pid=25376)\u001b[0m Epoch: 6 Loss: 2.946682 Loss1: 0.928591 Loss2: 2.018090\u001b[32m [repeated 8x across cluster]\u001b[0m\n",
      "\u001b[36m(ClientAppActor pid=25373)\u001b[0m Epoch: 7 Loss: 2.560967 Loss1: 0.818668 Loss2: 1.742298\u001b[32m [repeated 9x across cluster]\u001b[0m\n"
     ]
    },
    {
     "name": "stderr",
     "output_type": "stream",
     "text": [
      "\u001b[92mINFO \u001b[0m:      aggregate_fit: received 6 results and 0 failures\n"
     ]
    },
    {
     "name": "stdout",
     "output_type": "stream",
     "text": [
      "\n",
      "==== Server-side evaluation for round 4 ====\n",
      "  Parameter 0: Changed by 0.012013\n",
      "  Parameter 1: Changed by 0.011718\n",
      "  Parameter 2: Changed by 0.013524\n",
      "  Parameter 3: Changed by 0.020698\n",
      "  Parameter 4: Changed by 0.012893\n",
      "  Parameter 5: Changed by 0.009790\n",
      "  Parameter 6: Changed by 0.017741\n",
      "  Parameter 7: Changed by 0.016104\n",
      "  Parameter 8: Changed by 0.020929\n",
      "  Parameter 9: Changed by 0.015060\n",
      "  Parameter 10: Changed by 0.010778\n",
      "  Parameter 11: Changed by 0.008418\n",
      "  Parameter 12: Changed by 0.004185\n",
      "  Parameter 13: Changed by 0.007891\n",
      "  Parameter 14: Changed by 0.011920\n",
      "  Parameter 15: Changed by 0.229112\n"
     ]
    },
    {
     "name": "stderr",
     "output_type": "stream",
     "text": [
      "\u001b[92mINFO \u001b[0m:      fit progress: (4, 0.05260312983989716, {'accuracy': 0.4541}, 178.47949324990623)\n",
      "\u001b[92mINFO \u001b[0m:      configure_evaluate: strategy sampled 6 clients (out of 6)\n"
     ]
    },
    {
     "name": "stdout",
     "output_type": "stream",
     "text": [
      "  Evaluation results - Loss: 0.0526, Accuracy: 0.4541\n",
      "\u001b[36m(ClientAppActor pid=25378)\u001b[0m [Client 5] evaluate, config: {}\n",
      "\u001b[36m(ClientAppActor pid=25375)\u001b[0m Epoch: 7 Loss: 2.779205 Loss1: 0.822367 Loss2: 1.956837\n"
     ]
    },
    {
     "name": "stderr",
     "output_type": "stream",
     "text": [
      "\u001b[36m(ClientAppActor pid=25378)\u001b[0m /Users/macbook/Desktop/L361/L361_Project/.conda/lib/python3.12/site-packages/datasets/utils/_dill.py:385: DeprecationWarning: co_lnotab is deprecated, use co_lines instead.\u001b[32m [repeated 3x across cluster]\u001b[0m\n",
      "\u001b[36m(ClientAppActor pid=25378)\u001b[0m   obj.co_lnotab,  # for < python 3.10 [not counted in args]\u001b[32m [repeated 3x across cluster]\u001b[0m\n",
      "\u001b[36m(ClientAppActor pid=25376)\u001b[0m /Users/macbook/Desktop/L361/L361_Project/.conda/lib/python3.12/site-packages/datasets/utils/_dill.py:385: DeprecationWarning: co_lnotab is deprecated, use co_lines instead.\u001b[32m [repeated 5x across cluster]\u001b[0m\n",
      "\u001b[36m(ClientAppActor pid=25376)\u001b[0m   obj.co_lnotab,  # for < python 3.10 [not counted in args]\u001b[32m [repeated 5x across cluster]\u001b[0m\n"
     ]
    },
    {
     "name": "stdout",
     "output_type": "stream",
     "text": [
      "\u001b[36m(ClientAppActor pid=25376)\u001b[0m [Client 3] evaluate, config: {}\u001b[32m [repeated 5x across cluster]\u001b[0m\n"
     ]
    },
    {
     "name": "stderr",
     "output_type": "stream",
     "text": [
      "\u001b[92mINFO \u001b[0m:      aggregate_evaluate: received 6 results and 0 failures\n",
      "\u001b[92mINFO \u001b[0m:      \n",
      "\u001b[92mINFO \u001b[0m:      [ROUND 5]\n",
      "\u001b[92mINFO \u001b[0m:      configure_fit: strategy sampled 6 clients (out of 6)\n"
     ]
    },
    {
     "name": "stdout",
     "output_type": "stream",
     "text": [
      "\u001b[36m(ClientAppActor pid=25376)\u001b[0m [Client 0] fit, config: {}\n",
      "\u001b[36m(ClientAppActor pid=25376)\u001b[0m Started training moon\n",
      "\u001b[36m(ClientAppActor pid=25376)\u001b[0m Epoch: 0 Loss: 2.733991 Loss1: 1.322861 Loss2: 1.411131\n",
      "\u001b[36m(ClientAppActor pid=25373)\u001b[0m [Client 2] fit, config: {}\u001b[32m [repeated 5x across cluster]\u001b[0m\n",
      "\u001b[36m(ClientAppActor pid=25373)\u001b[0m Started training moon\u001b[32m [repeated 5x across cluster]\u001b[0m\n",
      "\u001b[36m(ClientAppActor pid=25376)\u001b[0m Epoch: 1 Loss: 2.477840 Loss1: 1.122208 Loss2: 1.355632\u001b[32m [repeated 6x across cluster]\u001b[0m\n",
      "\u001b[36m(ClientAppActor pid=25376)\u001b[0m Epoch: 2 Loss: 2.369181 Loss1: 1.008282 Loss2: 1.360899\u001b[32m [repeated 5x across cluster]\u001b[0m\n",
      "\u001b[36m(ClientAppActor pid=25376)\u001b[0m Epoch: 3 Loss: 2.280964 Loss1: 0.913185 Loss2: 1.367779\u001b[32m [repeated 5x across cluster]\u001b[0m\n",
      "\u001b[36m(ClientAppActor pid=25377)\u001b[0m Epoch: 2 Loss: 2.076393 Loss1: 0.988714 Loss2: 1.087679\u001b[32m [repeated 5x across cluster]\u001b[0m\n",
      "\u001b[36m(ClientAppActor pid=25373)\u001b[0m Epoch: 4 Loss: 1.846385 Loss1: 0.807942 Loss2: 1.038443\u001b[32m [repeated 4x across cluster]\u001b[0m\n",
      "\u001b[36m(ClientAppActor pid=25377)\u001b[0m Epoch: 3 Loss: 2.006450 Loss1: 0.915755 Loss2: 1.090696\u001b[32m [repeated 5x across cluster]\u001b[0m\n",
      "\u001b[36m(ClientAppActor pid=25373)\u001b[0m Epoch: 6 Loss: 1.738850 Loss1: 0.697349 Loss2: 1.041501\u001b[32m [repeated 5x across cluster]\u001b[0m\n",
      "\u001b[36m(ClientAppActor pid=25377)\u001b[0m Epoch: 5 Loss: 1.827564 Loss1: 0.733525 Loss2: 1.094039\u001b[32m [repeated 8x across cluster]\u001b[0m\n",
      "\u001b[36m(ClientAppActor pid=25375)\u001b[0m Epoch: 7 Loss: 1.755572 Loss1: 0.583156 Loss2: 1.172416\u001b[32m [repeated 3x across cluster]\u001b[0m\n"
     ]
    },
    {
     "name": "stderr",
     "output_type": "stream",
     "text": [
      "\u001b[92mINFO \u001b[0m:      aggregate_fit: received 6 results and 0 failures\n"
     ]
    },
    {
     "name": "stdout",
     "output_type": "stream",
     "text": [
      "\n",
      "==== Server-side evaluation for round 5 ====\n",
      "  Parameter 0: Changed by 0.008056\n",
      "  Parameter 1: Changed by 0.008236\n",
      "  Parameter 2: Changed by 0.010650\n",
      "  Parameter 3: Changed by 0.020375\n",
      "  Parameter 4: Changed by 0.010895\n",
      "  Parameter 5: Changed by 0.008046\n",
      "  Parameter 6: Changed by 0.014180\n",
      "  Parameter 7: Changed by 0.012420\n",
      "  Parameter 8: Changed by 0.017959\n",
      "  Parameter 9: Changed by 0.011039\n",
      "  Parameter 10: Changed by 0.008847\n",
      "  Parameter 11: Changed by 0.011392\n",
      "  Parameter 12: Changed by 0.003644\n",
      "  Parameter 13: Changed by 0.009567\n",
      "  Parameter 14: Changed by 0.014129\n",
      "  Parameter 15: Changed by 0.171408\n"
     ]
    },
    {
     "name": "stderr",
     "output_type": "stream",
     "text": [
      "\u001b[92mINFO \u001b[0m:      fit progress: (5, 0.05057359418869019, {'accuracy': 0.5182}, 274.35790187492967)\n",
      "\u001b[92mINFO \u001b[0m:      configure_evaluate: strategy sampled 6 clients (out of 6)\n"
     ]
    },
    {
     "name": "stdout",
     "output_type": "stream",
     "text": [
      "  Evaluation results - Loss: 0.0506, Accuracy: 0.5182\n"
     ]
    },
    {
     "name": "stderr",
     "output_type": "stream",
     "text": [
      "\u001b[36m(ClientAppActor pid=25377)\u001b[0m /Users/macbook/Desktop/L361/L361_Project/.conda/lib/python3.12/site-packages/datasets/utils/_dill.py:385: DeprecationWarning: co_lnotab is deprecated, use co_lines instead.\u001b[32m [repeated 7x across cluster]\u001b[0m\n",
      "\u001b[36m(ClientAppActor pid=25377)\u001b[0m   obj.co_lnotab,  # for < python 3.10 [not counted in args]\u001b[32m [repeated 7x across cluster]\u001b[0m\n"
     ]
    },
    {
     "name": "stdout",
     "output_type": "stream",
     "text": [
      "\u001b[36m(ClientAppActor pid=25377)\u001b[0m [Client 0] evaluate, config: {}\n",
      "\u001b[36m(ClientAppActor pid=25377)\u001b[0m Epoch: 7 Loss: 1.734433 Loss1: 0.635828 Loss2: 1.098604\n"
     ]
    },
    {
     "name": "stderr",
     "output_type": "stream",
     "text": [
      "\u001b[92mINFO \u001b[0m:      aggregate_evaluate: received 6 results and 0 failures\n",
      "\u001b[92mINFO \u001b[0m:      \n",
      "\u001b[92mINFO \u001b[0m:      [ROUND 6]\n",
      "\u001b[92mINFO \u001b[0m:      configure_fit: strategy sampled 6 clients (out of 6)\n"
     ]
    },
    {
     "name": "stdout",
     "output_type": "stream",
     "text": [
      "\u001b[36m(ClientAppActor pid=25376)\u001b[0m [Client 5] fit, config: {}\n",
      "\u001b[36m(ClientAppActor pid=25374)\u001b[0m Started training moon\n",
      "\u001b[36m(ClientAppActor pid=25378)\u001b[0m [Client 4] evaluate, config: {}\u001b[32m [repeated 5x across cluster]\u001b[0m\n"
     ]
    },
    {
     "name": "stderr",
     "output_type": "stream",
     "text": [
      "\u001b[36m(ClientAppActor pid=25373)\u001b[0m /Users/macbook/Desktop/L361/L361_Project/.conda/lib/python3.12/site-packages/datasets/utils/_dill.py:385: DeprecationWarning: co_lnotab is deprecated, use co_lines instead.\u001b[32m [repeated 11x across cluster]\u001b[0m\n",
      "\u001b[36m(ClientAppActor pid=25373)\u001b[0m   obj.co_lnotab,  # for < python 3.10 [not counted in args]\u001b[32m [repeated 11x across cluster]\u001b[0m\n"
     ]
    },
    {
     "name": "stdout",
     "output_type": "stream",
     "text": [
      "\u001b[36m(ClientAppActor pid=25378)\u001b[0m Epoch: 0 Loss: 2.981505 Loss1: 1.174616 Loss2: 1.806890\n",
      "\u001b[36m(ClientAppActor pid=25373)\u001b[0m [Client 3] fit, config: {}\u001b[32m [repeated 5x across cluster]\u001b[0m\n",
      "\u001b[36m(ClientAppActor pid=25373)\u001b[0m Started training moon\u001b[32m [repeated 5x across cluster]\u001b[0m\n",
      "\u001b[36m(ClientAppActor pid=25374)\u001b[0m Epoch: 1 Loss: 2.438860 Loss1: 0.952056 Loss2: 1.486805\u001b[32m [repeated 7x across cluster]\u001b[0m\n",
      "\u001b[36m(ClientAppActor pid=25376)\u001b[0m Epoch: 2 Loss: 2.399258 Loss1: 0.791245 Loss2: 1.608013\u001b[32m [repeated 4x across cluster]\u001b[0m\n",
      "\u001b[36m(ClientAppActor pid=25376)\u001b[0m Epoch: 3 Loss: 2.297402 Loss1: 0.690348 Loss2: 1.607054\u001b[32m [repeated 6x across cluster]\u001b[0m\n",
      "\u001b[36m(ClientAppActor pid=25374)\u001b[0m Epoch: 4 Loss: 2.160756 Loss1: 0.668739 Loss2: 1.492018\u001b[32m [repeated 7x across cluster]\u001b[0m\n",
      "\u001b[36m(ClientAppActor pid=25373)\u001b[0m Epoch: 5 Loss: 2.034542 Loss1: 0.585942 Loss2: 1.448600\u001b[32m [repeated 7x across cluster]\u001b[0m\n",
      "\u001b[36m(ClientAppActor pid=25375)\u001b[0m Epoch: 5 Loss: 1.916735 Loss1: 0.562840 Loss2: 1.353895\u001b[32m [repeated 7x across cluster]\u001b[0m\n",
      "\u001b[36m(ClientAppActor pid=25375)\u001b[0m Epoch: 7 Loss: 1.856911 Loss1: 0.501439 Loss2: 1.355472\u001b[32m [repeated 8x across cluster]\u001b[0m\n"
     ]
    },
    {
     "name": "stderr",
     "output_type": "stream",
     "text": [
      "\u001b[92mINFO \u001b[0m:      aggregate_fit: received 6 results and 0 failures\n"
     ]
    },
    {
     "name": "stdout",
     "output_type": "stream",
     "text": [
      "\n",
      "==== Server-side evaluation for round 6 ====\n",
      "  Parameter 0: Changed by 0.007189\n",
      "  Parameter 1: Changed by 0.007759\n",
      "  Parameter 2: Changed by 0.009442\n",
      "  Parameter 3: Changed by 0.019528\n",
      "  Parameter 4: Changed by 0.009873\n",
      "  Parameter 5: Changed by 0.006763\n",
      "  Parameter 6: Changed by 0.012116\n",
      "  Parameter 7: Changed by 0.009420\n",
      "  Parameter 8: Changed by 0.014851\n",
      "  Parameter 9: Changed by 0.010825\n",
      "  Parameter 10: Changed by 0.008579\n",
      "  Parameter 11: Changed by 0.008776\n",
      "  Parameter 12: Changed by 0.003660\n",
      "  Parameter 13: Changed by 0.007735\n",
      "  Parameter 14: Changed by 0.014008\n",
      "  Parameter 15: Changed by 0.133261\n"
     ]
    },
    {
     "name": "stderr",
     "output_type": "stream",
     "text": [
      "\u001b[92mINFO \u001b[0m:      fit progress: (6, 0.05311393427848816, {'accuracy': 0.5261}, 329.98125974996947)\n",
      "\u001b[92mINFO \u001b[0m:      configure_evaluate: strategy sampled 6 clients (out of 6)\n"
     ]
    },
    {
     "name": "stdout",
     "output_type": "stream",
     "text": [
      "  Evaluation results - Loss: 0.0531, Accuracy: 0.5261\n",
      "\u001b[36m(ClientAppActor pid=25378)\u001b[0m [Client 4] evaluate, config: {}\n",
      "\u001b[36m(ClientAppActor pid=25377)\u001b[0m Epoch: 7 Loss: 1.779718 Loss1: 0.475872 Loss2: 1.303845\n"
     ]
    },
    {
     "name": "stderr",
     "output_type": "stream",
     "text": [
      "\u001b[36m(ClientAppActor pid=25378)\u001b[0m /Users/macbook/Desktop/L361/L361_Project/.conda/lib/python3.12/site-packages/datasets/utils/_dill.py:385: DeprecationWarning: co_lnotab is deprecated, use co_lines instead.\n",
      "\u001b[36m(ClientAppActor pid=25378)\u001b[0m   obj.co_lnotab,  # for < python 3.10 [not counted in args]\n",
      "\u001b[36m(ClientAppActor pid=25376)\u001b[0m /Users/macbook/Desktop/L361/L361_Project/.conda/lib/python3.12/site-packages/datasets/utils/_dill.py:385: DeprecationWarning: co_lnotab is deprecated, use co_lines instead.\n",
      "\u001b[36m(ClientAppActor pid=25376)\u001b[0m   obj.co_lnotab,  # for < python 3.10 [not counted in args]\n",
      "\u001b[92mINFO \u001b[0m:      aggregate_evaluate: received 6 results and 0 failures\n",
      "\u001b[92mINFO \u001b[0m:      \n",
      "\u001b[92mINFO \u001b[0m:      [ROUND 7]\n",
      "\u001b[92mINFO \u001b[0m:      configure_fit: strategy sampled 6 clients (out of 6)\n"
     ]
    },
    {
     "name": "stdout",
     "output_type": "stream",
     "text": [
      "\u001b[36m(ClientAppActor pid=25373)\u001b[0m [Client 2] fit, config: {}\n",
      "\u001b[36m(ClientAppActor pid=25373)\u001b[0m Started training moon\n",
      "\u001b[36m(ClientAppActor pid=25374)\u001b[0m [Client 3] evaluate, config: {}\u001b[32m [repeated 5x across cluster]\u001b[0m\n"
     ]
    },
    {
     "name": "stderr",
     "output_type": "stream",
     "text": [
      "\u001b[36m(ClientAppActor pid=25373)\u001b[0m /Users/macbook/Desktop/L361/L361_Project/.conda/lib/python3.12/site-packages/datasets/utils/_dill.py:385: DeprecationWarning: co_lnotab is deprecated, use co_lines instead.\u001b[32m [repeated 5x across cluster]\u001b[0m\n",
      "\u001b[36m(ClientAppActor pid=25373)\u001b[0m   obj.co_lnotab,  # for < python 3.10 [not counted in args]\u001b[32m [repeated 5x across cluster]\u001b[0m\n"
     ]
    },
    {
     "name": "stdout",
     "output_type": "stream",
     "text": [
      "\u001b[36m(ClientAppActor pid=25373)\u001b[0m Epoch: 0 Loss: 2.301068 Loss1: 1.100176 Loss2: 1.200891\n",
      "\u001b[36m(ClientAppActor pid=25374)\u001b[0m [Client 0] fit, config: {}\u001b[32m [repeated 5x across cluster]\u001b[0m\n",
      "\u001b[36m(ClientAppActor pid=25374)\u001b[0m Started training moon\u001b[32m [repeated 5x across cluster]\u001b[0m\n",
      "\u001b[36m(ClientAppActor pid=25373)\u001b[0m Epoch: 1 Loss: 1.985040 Loss1: 0.839372 Loss2: 1.145668\u001b[32m [repeated 6x across cluster]\u001b[0m\n",
      "\u001b[36m(ClientAppActor pid=25378)\u001b[0m Epoch: 2 Loss: 1.697176 Loss1: 0.671228 Loss2: 1.025948\u001b[32m [repeated 4x across cluster]\u001b[0m\n",
      "\u001b[36m(ClientAppActor pid=25375)\u001b[0m Epoch: 2 Loss: 1.775113 Loss1: 0.691021 Loss2: 1.084092\u001b[32m [repeated 10x across cluster]\u001b[0m\n",
      "\u001b[36m(ClientAppActor pid=25373)\u001b[0m Epoch: 5 Loss: 1.657586 Loss1: 0.503024 Loss2: 1.154562\u001b[32m [repeated 8x across cluster]\u001b[0m\n",
      "\u001b[36m(ClientAppActor pid=25373)\u001b[0m Epoch: 6 Loss: 1.630612 Loss1: 0.473759 Loss2: 1.156853\u001b[32m [repeated 6x across cluster]\u001b[0m\n",
      "\u001b[36m(ClientAppActor pid=25377)\u001b[0m Epoch: 5 Loss: 1.468610 Loss1: 0.452259 Loss2: 1.016352\u001b[32m [repeated 5x across cluster]\u001b[0m\n",
      "\u001b[36m(ClientAppActor pid=25375)\u001b[0m Epoch: 7 Loss: 1.524337 Loss1: 0.429481 Loss2: 1.094856\u001b[32m [repeated 7x across cluster]\u001b[0m\n"
     ]
    },
    {
     "name": "stderr",
     "output_type": "stream",
     "text": [
      "\u001b[92mINFO \u001b[0m:      aggregate_fit: received 6 results and 0 failures\n"
     ]
    },
    {
     "name": "stdout",
     "output_type": "stream",
     "text": [
      "\n",
      "==== Server-side evaluation for round 7 ====\n",
      "  Parameter 0: Changed by 0.005945\n",
      "  Parameter 1: Changed by 0.006709\n",
      "  Parameter 2: Changed by 0.007857\n",
      "  Parameter 3: Changed by 0.016117\n",
      "  Parameter 4: Changed by 0.008980\n",
      "  Parameter 5: Changed by 0.006719\n",
      "  Parameter 6: Changed by 0.010845\n",
      "  Parameter 7: Changed by 0.009098\n",
      "  Parameter 8: Changed by 0.013307\n",
      "  Parameter 9: Changed by 0.011097\n",
      "  Parameter 10: Changed by 0.007537\n",
      "  Parameter 11: Changed by 0.010661\n",
      "  Parameter 12: Changed by 0.002944\n",
      "  Parameter 13: Changed by 0.007125\n",
      "  Parameter 14: Changed by 0.016567\n",
      "  Parameter 15: Changed by 0.086453\n"
     ]
    },
    {
     "name": "stderr",
     "output_type": "stream",
     "text": [
      "\u001b[92mINFO \u001b[0m:      fit progress: (7, 0.053302708643674854, {'accuracy': 0.5494}, 391.7487862498965)\n",
      "\u001b[92mINFO \u001b[0m:      configure_evaluate: strategy sampled 6 clients (out of 6)\n"
     ]
    },
    {
     "name": "stdout",
     "output_type": "stream",
     "text": [
      "  Evaluation results - Loss: 0.0533, Accuracy: 0.5494\n"
     ]
    },
    {
     "name": "stderr",
     "output_type": "stream",
     "text": [
      "\u001b[36m(ClientAppActor pid=25377)\u001b[0m /Users/macbook/Desktop/L361/L361_Project/.conda/lib/python3.12/site-packages/datasets/utils/_dill.py:385: DeprecationWarning: co_lnotab is deprecated, use co_lines instead.\u001b[32m [repeated 7x across cluster]\u001b[0m\n",
      "\u001b[36m(ClientAppActor pid=25377)\u001b[0m   obj.co_lnotab,  # for < python 3.10 [not counted in args]\u001b[32m [repeated 7x across cluster]\u001b[0m\n"
     ]
    },
    {
     "name": "stdout",
     "output_type": "stream",
     "text": [
      "\u001b[36m(ClientAppActor pid=25374)\u001b[0m [Client 2] evaluate, config: {}\n",
      "\u001b[36m(ClientAppActor pid=25377)\u001b[0m Epoch: 7 Loss: 1.472374 Loss1: 0.449935 Loss2: 1.022439\n"
     ]
    },
    {
     "name": "stderr",
     "output_type": "stream",
     "text": [
      "\u001b[92mINFO \u001b[0m:      aggregate_evaluate: received 6 results and 0 failures\n",
      "\u001b[92mINFO \u001b[0m:      \n",
      "\u001b[92mINFO \u001b[0m:      [ROUND 8]\n",
      "\u001b[92mINFO \u001b[0m:      configure_fit: strategy sampled 6 clients (out of 6)\n"
     ]
    },
    {
     "name": "stdout",
     "output_type": "stream",
     "text": [
      "\u001b[36m(ClientAppActor pid=25373)\u001b[0m [Client 2] fit, config: {}\n",
      "\u001b[36m(ClientAppActor pid=25378)\u001b[0m Started training moon\n",
      "\u001b[36m(ClientAppActor pid=25378)\u001b[0m [Client 3] evaluate, config: {}\u001b[32m [repeated 5x across cluster]\u001b[0m\n"
     ]
    },
    {
     "name": "stderr",
     "output_type": "stream",
     "text": [
      "\u001b[36m(ClientAppActor pid=25375)\u001b[0m /Users/macbook/Desktop/L361/L361_Project/.conda/lib/python3.12/site-packages/datasets/utils/_dill.py:385: DeprecationWarning: co_lnotab is deprecated, use co_lines instead.\u001b[32m [repeated 9x across cluster]\u001b[0m\n",
      "\u001b[36m(ClientAppActor pid=25375)\u001b[0m   obj.co_lnotab,  # for < python 3.10 [not counted in args]\u001b[32m [repeated 9x across cluster]\u001b[0m\n"
     ]
    },
    {
     "name": "stdout",
     "output_type": "stream",
     "text": [
      "\u001b[36m(ClientAppActor pid=25373)\u001b[0m Epoch: 0 Loss: 2.537201 Loss1: 1.044713 Loss2: 1.492487\n",
      "\u001b[36m(ClientAppActor pid=25374)\u001b[0m [Client 4] fit, config: {}\u001b[32m [repeated 5x across cluster]\u001b[0m\n",
      "\u001b[36m(ClientAppActor pid=25376)\u001b[0m Started training moon\u001b[32m [repeated 4x across cluster]\u001b[0m\n"
     ]
    },
    {
     "name": "stderr",
     "output_type": "stream",
     "text": [
      "\u001b[36m(ClientAppActor pid=25374)\u001b[0m /Users/macbook/Desktop/L361/L361_Project/.conda/lib/python3.12/site-packages/datasets/utils/_dill.py:385: DeprecationWarning: co_lnotab is deprecated, use co_lines instead.\u001b[32m [repeated 2x across cluster]\u001b[0m\n",
      "\u001b[36m(ClientAppActor pid=25374)\u001b[0m   obj.co_lnotab,  # for < python 3.10 [not counted in args]\u001b[32m [repeated 2x across cluster]\u001b[0m\n"
     ]
    },
    {
     "name": "stdout",
     "output_type": "stream",
     "text": [
      "\u001b[36m(ClientAppActor pid=25376)\u001b[0m Epoch: 1 Loss: 2.338021 Loss1: 0.726558 Loss2: 1.611463\u001b[32m [repeated 9x across cluster]\u001b[0m\n",
      "\u001b[36m(ClientAppActor pid=25374)\u001b[0m Started training moon\n",
      "\u001b[36m(ClientAppActor pid=25376)\u001b[0m Epoch: 2 Loss: 2.203457 Loss1: 0.589145 Loss2: 1.614312\u001b[32m [repeated 6x across cluster]\u001b[0m\n",
      "\u001b[36m(ClientAppActor pid=25373)\u001b[0m Epoch: 4 Loss: 1.873895 Loss1: 0.459083 Loss2: 1.414813\u001b[32m [repeated 6x across cluster]\u001b[0m\n",
      "\u001b[36m(ClientAppActor pid=25376)\u001b[0m Epoch: 4 Loss: 2.096219 Loss1: 0.475734 Loss2: 1.620486\u001b[32m [repeated 4x across cluster]\u001b[0m\n",
      "\u001b[36m(ClientAppActor pid=25376)\u001b[0m Epoch: 5 Loss: 2.043922 Loss1: 0.422591 Loss2: 1.621331\u001b[32m [repeated 6x across cluster]\u001b[0m\n",
      "\u001b[36m(ClientAppActor pid=25376)\u001b[0m Epoch: 6 Loss: 2.047048 Loss1: 0.423501 Loss2: 1.623547\u001b[32m [repeated 4x across cluster]\u001b[0m\n",
      "\u001b[36m(ClientAppActor pid=25374)\u001b[0m Epoch: 6 Loss: 1.711868 Loss1: 0.401021 Loss2: 1.310848\u001b[32m [repeated 7x across cluster]\u001b[0m\n"
     ]
    },
    {
     "name": "stderr",
     "output_type": "stream",
     "text": [
      "\u001b[92mINFO \u001b[0m:      aggregate_fit: received 6 results and 0 failures\n"
     ]
    },
    {
     "name": "stdout",
     "output_type": "stream",
     "text": [
      "\n",
      "==== Server-side evaluation for round 8 ====\n",
      "  Parameter 0: Changed by 0.005483\n",
      "  Parameter 1: Changed by 0.007020\n",
      "  Parameter 2: Changed by 0.007539\n",
      "  Parameter 3: Changed by 0.017428\n",
      "  Parameter 4: Changed by 0.008468\n",
      "  Parameter 5: Changed by 0.006173\n",
      "  Parameter 6: Changed by 0.010427\n",
      "  Parameter 7: Changed by 0.008889\n",
      "  Parameter 8: Changed by 0.012740\n",
      "  Parameter 9: Changed by 0.012784\n",
      "  Parameter 10: Changed by 0.007909\n",
      "  Parameter 11: Changed by 0.010622\n",
      "  Parameter 12: Changed by 0.003640\n",
      "  Parameter 13: Changed by 0.006715\n",
      "  Parameter 14: Changed by 0.018237\n",
      "  Parameter 15: Changed by 0.057851\n"
     ]
    },
    {
     "name": "stderr",
     "output_type": "stream",
     "text": [
      "\u001b[92mINFO \u001b[0m:      fit progress: (8, 0.05349908220767975, {'accuracy': 0.5377}, 449.7904284170363)\n",
      "\u001b[92mINFO \u001b[0m:      configure_evaluate: strategy sampled 6 clients (out of 6)\n"
     ]
    },
    {
     "name": "stdout",
     "output_type": "stream",
     "text": [
      "  Evaluation results - Loss: 0.0535, Accuracy: 0.5377\n"
     ]
    },
    {
     "name": "stderr",
     "output_type": "stream",
     "text": [
      "\u001b[36m(ClientAppActor pid=25378)\u001b[0m /Users/macbook/Desktop/L361/L361_Project/.conda/lib/python3.12/site-packages/datasets/utils/_dill.py:385: DeprecationWarning: co_lnotab is deprecated, use co_lines instead.\n",
      "\u001b[36m(ClientAppActor pid=25378)\u001b[0m   obj.co_lnotab,  # for < python 3.10 [not counted in args]\n",
      "\u001b[36m(ClientAppActor pid=25376)\u001b[0m /Users/macbook/Desktop/L361/L361_Project/.conda/lib/python3.12/site-packages/datasets/utils/_dill.py:385: DeprecationWarning: co_lnotab is deprecated, use co_lines instead.\n",
      "\u001b[36m(ClientAppActor pid=25376)\u001b[0m   obj.co_lnotab,  # for < python 3.10 [not counted in args]\n"
     ]
    },
    {
     "name": "stdout",
     "output_type": "stream",
     "text": [
      "\u001b[36m(ClientAppActor pid=25376)\u001b[0m [Client 3] evaluate, config: {}\n",
      "\u001b[36m(ClientAppActor pid=25377)\u001b[0m Epoch: 7 Loss: 1.907468 Loss1: 0.370021 Loss2: 1.537447\u001b[32m [repeated 5x across cluster]\u001b[0m\n"
     ]
    },
    {
     "name": "stderr",
     "output_type": "stream",
     "text": [
      "\u001b[92mINFO \u001b[0m:      aggregate_evaluate: received 6 results and 0 failures\n",
      "\u001b[92mINFO \u001b[0m:      \n",
      "\u001b[92mINFO \u001b[0m:      [ROUND 9]\n",
      "\u001b[92mINFO \u001b[0m:      configure_fit: strategy sampled 6 clients (out of 6)\n"
     ]
    },
    {
     "name": "stdout",
     "output_type": "stream",
     "text": [
      "\u001b[36m(ClientAppActor pid=25373)\u001b[0m [Client 2] fit, config: {}\n",
      "\u001b[36m(ClientAppActor pid=25373)\u001b[0m Started training moon\n",
      "\u001b[36m(ClientAppActor pid=25375)\u001b[0m [Client 1] evaluate, config: {}\u001b[32m [repeated 5x across cluster]\u001b[0m\n",
      "\u001b[36m(ClientAppActor pid=25373)\u001b[0m Epoch: 0 Loss: 2.170441 Loss1: 0.946700 Loss2: 1.223741\n",
      "\u001b[36m(ClientAppActor pid=25376)\u001b[0m Epoch: 0 Loss: 2.142297 Loss1: 0.906249 Loss2: 1.236048\n",
      "\u001b[36m(ClientAppActor pid=25378)\u001b[0m [Client 5] fit, config: {}\u001b[32m [repeated 5x across cluster]\u001b[0m\n",
      "\u001b[36m(ClientAppActor pid=25378)\u001b[0m Started training moon\u001b[32m [repeated 5x across cluster]\u001b[0m\n",
      "\u001b[36m(ClientAppActor pid=25378)\u001b[0m Epoch: 1 Loss: 1.707545 Loss1: 0.639698 Loss2: 1.067846\u001b[32m [repeated 7x across cluster]\u001b[0m\n",
      "\u001b[36m(ClientAppActor pid=25376)\u001b[0m Epoch: 2 Loss: 1.653560 Loss1: 0.455674 Loss2: 1.197886\u001b[32m [repeated 5x across cluster]\u001b[0m\n",
      "\u001b[36m(ClientAppActor pid=25373)\u001b[0m Epoch: 3 Loss: 1.679805 Loss1: 0.493699 Loss2: 1.186106\u001b[32m [repeated 3x across cluster]\u001b[0m\n",
      "\u001b[36m(ClientAppActor pid=25373)\u001b[0m Epoch: 4 Loss: 1.593144 Loss1: 0.406112 Loss2: 1.187033\u001b[32m [repeated 6x across cluster]\u001b[0m\n",
      "\u001b[36m(ClientAppActor pid=25373)\u001b[0m Epoch: 5 Loss: 1.557441 Loss1: 0.367598 Loss2: 1.189843\u001b[32m [repeated 6x across cluster]\u001b[0m\n",
      "\u001b[36m(ClientAppActor pid=25373)\u001b[0m Epoch: 6 Loss: 1.505117 Loss1: 0.317495 Loss2: 1.187621\u001b[32m [repeated 4x across cluster]\u001b[0m\n",
      "\u001b[36m(ClientAppActor pid=25377)\u001b[0m Epoch: 5 Loss: 1.442262 Loss1: 0.406510 Loss2: 1.035752\u001b[32m [repeated 11x across cluster]\u001b[0m\n",
      "\u001b[36m(ClientAppActor pid=25375)\u001b[0m Epoch: 7 Loss: 1.732429 Loss1: 0.313847 Loss2: 1.418582\u001b[32m [repeated 3x across cluster]\u001b[0m\n"
     ]
    },
    {
     "name": "stderr",
     "output_type": "stream",
     "text": [
      "\u001b[92mINFO \u001b[0m:      aggregate_fit: received 6 results and 0 failures\n"
     ]
    },
    {
     "name": "stdout",
     "output_type": "stream",
     "text": [
      "\n",
      "==== Server-side evaluation for round 9 ====\n",
      "  Parameter 0: Changed by 0.004886\n",
      "  Parameter 1: Changed by 0.006079\n",
      "  Parameter 2: Changed by 0.006924\n",
      "  Parameter 3: Changed by 0.013362\n",
      "  Parameter 4: Changed by 0.008115\n",
      "  Parameter 5: Changed by 0.005606\n",
      "  Parameter 6: Changed by 0.010003\n",
      "  Parameter 7: Changed by 0.009209\n",
      "  Parameter 8: Changed by 0.012478\n",
      "  Parameter 9: Changed by 0.013952\n",
      "  Parameter 10: Changed by 0.008154\n",
      "  Parameter 11: Changed by 0.014164\n",
      "  Parameter 12: Changed by 0.002960\n",
      "  Parameter 13: Changed by 0.006988\n",
      "  Parameter 14: Changed by 0.019679\n",
      "  Parameter 15: Changed by 0.034437\n"
     ]
    },
    {
     "name": "stderr",
     "output_type": "stream",
     "text": [
      "\u001b[92mINFO \u001b[0m:      fit progress: (9, 0.05634575360417366, {'accuracy': 0.5485}, 504.4280000838917)\n",
      "\u001b[92mINFO \u001b[0m:      configure_evaluate: strategy sampled 6 clients (out of 6)\n"
     ]
    },
    {
     "name": "stdout",
     "output_type": "stream",
     "text": [
      "  Evaluation results - Loss: 0.0563, Accuracy: 0.5485\n"
     ]
    },
    {
     "name": "stderr",
     "output_type": "stream",
     "text": [
      "\u001b[36m(ClientAppActor pid=25376)\u001b[0m /Users/macbook/Desktop/L361/L361_Project/.conda/lib/python3.12/site-packages/datasets/utils/_dill.py:385: DeprecationWarning: co_lnotab is deprecated, use co_lines instead.\u001b[32m [repeated 11x across cluster]\u001b[0m\n",
      "\u001b[36m(ClientAppActor pid=25376)\u001b[0m   obj.co_lnotab,  # for < python 3.10 [not counted in args]\u001b[32m [repeated 11x across cluster]\u001b[0m\n"
     ]
    },
    {
     "name": "stdout",
     "output_type": "stream",
     "text": [
      "\u001b[36m(ClientAppActor pid=25376)\u001b[0m [Client 4] evaluate, config: {}\n",
      "\u001b[36m(ClientAppActor pid=25377)\u001b[0m Epoch: 7 Loss: 1.340925 Loss1: 0.307166 Loss2: 1.033759\n"
     ]
    },
    {
     "name": "stderr",
     "output_type": "stream",
     "text": [
      "\u001b[92mINFO \u001b[0m:      aggregate_evaluate: received 6 results and 0 failures\n",
      "\u001b[92mINFO \u001b[0m:      \n",
      "\u001b[92mINFO \u001b[0m:      [ROUND 10]\n",
      "\u001b[92mINFO \u001b[0m:      configure_fit: strategy sampled 6 clients (out of 6)\n"
     ]
    },
    {
     "name": "stdout",
     "output_type": "stream",
     "text": [
      "\u001b[36m(ClientAppActor pid=25374)\u001b[0m [Client 4] fit, config: {}\n",
      "\u001b[36m(ClientAppActor pid=25375)\u001b[0m [Client 1] evaluate, config: {}\u001b[32m [repeated 5x across cluster]\u001b[0m\n",
      "\u001b[36m(ClientAppActor pid=25375)\u001b[0m Started training moon\n"
     ]
    },
    {
     "name": "stderr",
     "output_type": "stream",
     "text": [
      "\u001b[36m(ClientAppActor pid=25375)\u001b[0m /Users/macbook/Desktop/L361/L361_Project/.conda/lib/python3.12/site-packages/datasets/utils/_dill.py:385: DeprecationWarning: co_lnotab is deprecated, use co_lines instead.\u001b[32m [repeated 6x across cluster]\u001b[0m\n",
      "\u001b[36m(ClientAppActor pid=25375)\u001b[0m   obj.co_lnotab,  # for < python 3.10 [not counted in args]\u001b[32m [repeated 6x across cluster]\u001b[0m\n"
     ]
    },
    {
     "name": "stdout",
     "output_type": "stream",
     "text": [
      "\u001b[36m(ClientAppActor pid=25374)\u001b[0m Epoch: 0 Loss: 2.277629 Loss1: 0.851219 Loss2: 1.426410\n",
      "\u001b[36m(ClientAppActor pid=25373)\u001b[0m [Client 2] fit, config: {}\u001b[32m [repeated 5x across cluster]\u001b[0m\n",
      "\u001b[36m(ClientAppActor pid=25373)\u001b[0m Started training moon\u001b[32m [repeated 5x across cluster]\u001b[0m\n",
      "\u001b[36m(ClientAppActor pid=25374)\u001b[0m Epoch: 1 Loss: 1.923040 Loss1: 0.553641 Loss2: 1.369399\u001b[32m [repeated 6x across cluster]\u001b[0m\n",
      "\u001b[36m(ClientAppActor pid=25377)\u001b[0m Epoch: 1 Loss: 2.278377 Loss1: 0.614358 Loss2: 1.664019\u001b[32m [repeated 6x across cluster]\u001b[0m\n",
      "\u001b[36m(ClientAppActor pid=25375)\u001b[0m Epoch: 2 Loss: 1.924738 Loss1: 0.447482 Loss2: 1.477255\u001b[32m [repeated 5x across cluster]\u001b[0m\n",
      "\u001b[36m(ClientAppActor pid=25378)\u001b[0m Epoch: 4 Loss: 1.870394 Loss1: 0.387327 Loss2: 1.483068\u001b[32m [repeated 6x across cluster]\u001b[0m\n",
      "\u001b[36m(ClientAppActor pid=25374)\u001b[0m Epoch: 6 Loss: 1.667301 Loss1: 0.294719 Loss2: 1.372582\u001b[32m [repeated 10x across cluster]\u001b[0m\n",
      "\u001b[36m(ClientAppActor pid=25378)\u001b[0m Epoch: 7 Loss: 1.823144 Loss1: 0.338074 Loss2: 1.485070\u001b[32m [repeated 8x across cluster]\u001b[0m\n"
     ]
    },
    {
     "name": "stderr",
     "output_type": "stream",
     "text": [
      "\u001b[92mINFO \u001b[0m:      aggregate_fit: received 6 results and 0 failures\n"
     ]
    },
    {
     "name": "stdout",
     "output_type": "stream",
     "text": [
      "\n",
      "==== Server-side evaluation for round 10 ====\n",
      "  Parameter 0: Changed by 0.004864\n",
      "  Parameter 1: Changed by 0.007327\n",
      "  Parameter 2: Changed by 0.006907\n",
      "  Parameter 3: Changed by 0.014474\n",
      "  Parameter 4: Changed by 0.007989\n",
      "  Parameter 5: Changed by 0.005690\n",
      "  Parameter 6: Changed by 0.009780\n",
      "  Parameter 7: Changed by 0.010867\n",
      "  Parameter 8: Changed by 0.012654\n",
      "  Parameter 9: Changed by 0.013539\n",
      "  Parameter 10: Changed by 0.008185\n",
      "  Parameter 11: Changed by 0.012020\n",
      "  Parameter 12: Changed by 0.003408\n",
      "  Parameter 13: Changed by 0.006826\n",
      "  Parameter 14: Changed by 0.017512\n",
      "  Parameter 15: Changed by 0.025078\n"
     ]
    },
    {
     "name": "stderr",
     "output_type": "stream",
     "text": [
      "\u001b[92mINFO \u001b[0m:      fit progress: (10, 0.05574801385402679, {'accuracy': 0.5431}, 559.9788477090187)\n",
      "\u001b[92mINFO \u001b[0m:      configure_evaluate: strategy sampled 6 clients (out of 6)\n"
     ]
    },
    {
     "name": "stdout",
     "output_type": "stream",
     "text": [
      "  Evaluation results - Loss: 0.0557, Accuracy: 0.5431\n"
     ]
    },
    {
     "name": "stderr",
     "output_type": "stream",
     "text": [
      "\u001b[36m(ClientAppActor pid=25375)\u001b[0m /Users/macbook/Desktop/L361/L361_Project/.conda/lib/python3.12/site-packages/datasets/utils/_dill.py:385: DeprecationWarning: co_lnotab is deprecated, use co_lines instead.\u001b[32m [repeated 6x across cluster]\u001b[0m\n",
      "\u001b[36m(ClientAppActor pid=25375)\u001b[0m   obj.co_lnotab,  # for < python 3.10 [not counted in args]\u001b[32m [repeated 6x across cluster]\u001b[0m\n"
     ]
    },
    {
     "name": "stdout",
     "output_type": "stream",
     "text": [
      "\u001b[36m(ClientAppActor pid=25375)\u001b[0m [Client 1] evaluate, config: {}\n",
      "\u001b[36m(ClientAppActor pid=25377)\u001b[0m Epoch: 7 Loss: 1.949813 Loss1: 0.278245 Loss2: 1.671568\u001b[32m [repeated 6x across cluster]\u001b[0m\n",
      "\u001b[36m(ClientAppActor pid=25373)\u001b[0m [Client 2] evaluate, config: {}\u001b[32m [repeated 5x across cluster]\u001b[0m\n"
     ]
    },
    {
     "name": "stderr",
     "output_type": "stream",
     "text": [
      "\u001b[36m(ClientAppActor pid=25373)\u001b[0m /Users/macbook/Desktop/L361/L361_Project/.conda/lib/python3.12/site-packages/datasets/utils/_dill.py:385: DeprecationWarning: co_lnotab is deprecated, use co_lines instead.\u001b[32m [repeated 5x across cluster]\u001b[0m\n",
      "\u001b[36m(ClientAppActor pid=25373)\u001b[0m   obj.co_lnotab,  # for < python 3.10 [not counted in args]\u001b[32m [repeated 5x across cluster]\u001b[0m\n",
      "\u001b[92mINFO \u001b[0m:      aggregate_evaluate: received 6 results and 0 failures\n",
      "\u001b[92mINFO \u001b[0m:      \n",
      "\u001b[92mINFO \u001b[0m:      [ROUND 11]\n",
      "\u001b[92mINFO \u001b[0m:      configure_fit: strategy sampled 6 clients (out of 6)\n"
     ]
    },
    {
     "name": "stdout",
     "output_type": "stream",
     "text": [
      "\u001b[36m(ClientAppActor pid=25378)\u001b[0m [Client 3] fit, config: {}\n",
      "\u001b[36m(ClientAppActor pid=25378)\u001b[0m Started training moon\n",
      "\u001b[36m(ClientAppActor pid=25378)\u001b[0m Epoch: 0 Loss: 2.028952 Loss1: 0.837398 Loss2: 1.191555\n",
      "\u001b[36m(ClientAppActor pid=25377)\u001b[0m [Client 2] fit, config: {}\u001b[32m [repeated 5x across cluster]\u001b[0m\n",
      "\u001b[36m(ClientAppActor pid=25377)\u001b[0m Started training moon\u001b[32m [repeated 5x across cluster]\u001b[0m\n",
      "\u001b[36m(ClientAppActor pid=25378)\u001b[0m Epoch: 1 Loss: 1.685679 Loss1: 0.522602 Loss2: 1.163077\u001b[32m [repeated 6x across cluster]\u001b[0m\n",
      "\u001b[36m(ClientAppActor pid=25375)\u001b[0m Epoch: 2 Loss: 1.572192 Loss1: 0.416155 Loss2: 1.156037\u001b[32m [repeated 10x across cluster]\u001b[0m\n",
      "\u001b[36m(ClientAppActor pid=25374)\u001b[0m Epoch: 4 Loss: 1.573192 Loss1: 0.294667 Loss2: 1.278525\u001b[32m [repeated 10x across cluster]\u001b[0m\n",
      "\u001b[36m(ClientAppActor pid=25375)\u001b[0m Epoch: 5 Loss: 1.461508 Loss1: 0.296676 Loss2: 1.164832\u001b[32m [repeated 8x across cluster]\u001b[0m\n",
      "\u001b[36m(ClientAppActor pid=25375)\u001b[0m Epoch: 6 Loss: 1.424706 Loss1: 0.262560 Loss2: 1.162146\u001b[32m [repeated 6x across cluster]\u001b[0m\n"
     ]
    },
    {
     "name": "stderr",
     "output_type": "stream",
     "text": [
      "\u001b[92mINFO \u001b[0m:      aggregate_fit: received 6 results and 0 failures\n"
     ]
    },
    {
     "name": "stdout",
     "output_type": "stream",
     "text": [
      "\n",
      "==== Server-side evaluation for round 11 ====\n",
      "  Parameter 0: Changed by 0.004276\n",
      "  Parameter 1: Changed by 0.005627\n",
      "  Parameter 2: Changed by 0.006156\n",
      "  Parameter 3: Changed by 0.012756\n",
      "  Parameter 4: Changed by 0.007711\n",
      "  Parameter 5: Changed by 0.005128\n",
      "  Parameter 6: Changed by 0.009466\n",
      "  Parameter 7: Changed by 0.010974\n",
      "  Parameter 8: Changed by 0.012316\n",
      "  Parameter 9: Changed by 0.014955\n",
      "  Parameter 10: Changed by 0.008104\n",
      "  Parameter 11: Changed by 0.012518\n",
      "  Parameter 12: Changed by 0.002923\n",
      "  Parameter 13: Changed by 0.008045\n",
      "  Parameter 14: Changed by 0.019577\n",
      "  Parameter 15: Changed by 0.017533\n"
     ]
    },
    {
     "name": "stderr",
     "output_type": "stream",
     "text": [
      "\u001b[92mINFO \u001b[0m:      fit progress: (11, 0.05573263317346573, {'accuracy': 0.5538}, 617.7843883750029)\n",
      "\u001b[92mINFO \u001b[0m:      configure_evaluate: strategy sampled 6 clients (out of 6)\n"
     ]
    },
    {
     "name": "stdout",
     "output_type": "stream",
     "text": [
      "  Evaluation results - Loss: 0.0557, Accuracy: 0.5538\n",
      "\u001b[36m(ClientAppActor pid=25374)\u001b[0m [Client 3] evaluate, config: {}\n",
      "\u001b[36m(ClientAppActor pid=25377)\u001b[0m Epoch: 7 Loss: 1.398636 Loss1: 0.231808 Loss2: 1.166828\u001b[32m [repeated 7x across cluster]\u001b[0m\n"
     ]
    },
    {
     "name": "stderr",
     "output_type": "stream",
     "text": [
      "\u001b[36m(ClientAppActor pid=25374)\u001b[0m /Users/macbook/Desktop/L361/L361_Project/.conda/lib/python3.12/site-packages/datasets/utils/_dill.py:385: DeprecationWarning: co_lnotab is deprecated, use co_lines instead.\u001b[32m [repeated 7x across cluster]\u001b[0m\n",
      "\u001b[36m(ClientAppActor pid=25374)\u001b[0m   obj.co_lnotab,  # for < python 3.10 [not counted in args]\u001b[32m [repeated 7x across cluster]\u001b[0m\n",
      "\u001b[92mINFO \u001b[0m:      aggregate_evaluate: received 6 results and 0 failures\n",
      "\u001b[92mINFO \u001b[0m:      \n",
      "\u001b[92mINFO \u001b[0m:      [ROUND 12]\n",
      "\u001b[92mINFO \u001b[0m:      configure_fit: strategy sampled 6 clients (out of 6)\n"
     ]
    },
    {
     "name": "stdout",
     "output_type": "stream",
     "text": [
      "\u001b[36m(ClientAppActor pid=25374)\u001b[0m [Client 4] fit, config: {}\n",
      "\u001b[36m(ClientAppActor pid=25374)\u001b[0m Started training moon\n",
      "\u001b[36m(ClientAppActor pid=25376)\u001b[0m [Client 1] evaluate, config: {}\u001b[32m [repeated 5x across cluster]\u001b[0m\n",
      "\u001b[36m(ClientAppActor pid=25374)\u001b[0m Epoch: 0 Loss: 2.177808 Loss1: 0.753597 Loss2: 1.424211\n",
      "\u001b[36m(ClientAppActor pid=25376)\u001b[0m [Client 2] fit, config: {}\u001b[32m [repeated 5x across cluster]\u001b[0m\n",
      "\u001b[36m(ClientAppActor pid=25376)\u001b[0m Started training moon\u001b[32m [repeated 5x across cluster]\u001b[0m\n",
      "\u001b[36m(ClientAppActor pid=25373)\u001b[0m Epoch: 0 Loss: 2.542039 Loss1: 0.776947 Loss2: 1.765091\n",
      "\u001b[36m(ClientAppActor pid=25374)\u001b[0m Epoch: 1 Loss: 1.845398 Loss1: 0.460544 Loss2: 1.384854\u001b[32m [repeated 5x across cluster]\u001b[0m\n",
      "\u001b[36m(ClientAppActor pid=25375)\u001b[0m Epoch: 2 Loss: 1.978075 Loss1: 0.367921 Loss2: 1.610154\u001b[32m [repeated 10x across cluster]\u001b[0m\n",
      "\u001b[36m(ClientAppActor pid=25378)\u001b[0m Epoch: 4 Loss: 1.842496 Loss1: 0.306549 Loss2: 1.535948\u001b[32m [repeated 10x across cluster]\u001b[0m\n",
      "\u001b[36m(ClientAppActor pid=25375)\u001b[0m Epoch: 5 Loss: 1.838498 Loss1: 0.230898 Loss2: 1.607600\u001b[32m [repeated 8x across cluster]\u001b[0m\n"
     ]
    },
    {
     "name": "stderr",
     "output_type": "stream",
     "text": [
      "\u001b[92mINFO \u001b[0m:      aggregate_fit: received 6 results and 0 failures\n"
     ]
    },
    {
     "name": "stdout",
     "output_type": "stream",
     "text": [
      "\u001b[36m(ClientAppActor pid=25375)\u001b[0m Epoch: 7 Loss: 1.809138 Loss1: 0.194542 Loss2: 1.614595\u001b[32m [repeated 12x across cluster]\u001b[0m\n",
      "\n",
      "==== Server-side evaluation for round 12 ====\n",
      "  Parameter 0: Changed by 0.004170\n",
      "  Parameter 1: Changed by 0.005843\n",
      "  Parameter 2: Changed by 0.006348\n",
      "  Parameter 3: Changed by 0.012738\n",
      "  Parameter 4: Changed by 0.007569\n",
      "  Parameter 5: Changed by 0.005652\n",
      "  Parameter 6: Changed by 0.009253\n",
      "  Parameter 7: Changed by 0.010248\n",
      "  Parameter 8: Changed by 0.011853\n",
      "  Parameter 9: Changed by 0.013106\n",
      "  Parameter 10: Changed by 0.008181\n",
      "  Parameter 11: Changed by 0.010446\n",
      "  Parameter 12: Changed by 0.003169\n",
      "  Parameter 13: Changed by 0.006560\n",
      "  Parameter 14: Changed by 0.018976\n",
      "  Parameter 15: Changed by 0.022696\n"
     ]
    },
    {
     "name": "stderr",
     "output_type": "stream",
     "text": [
      "\u001b[92mINFO \u001b[0m:      fit progress: (12, 0.05562549473047256, {'accuracy': 0.5507}, 661.6739773340523)\n",
      "\u001b[92mINFO \u001b[0m:      configure_evaluate: strategy sampled 6 clients (out of 6)\n"
     ]
    },
    {
     "name": "stdout",
     "output_type": "stream",
     "text": [
      "  Evaluation results - Loss: 0.0556, Accuracy: 0.5507\n",
      "\u001b[36m(ClientAppActor pid=25373)\u001b[0m [Client 5] evaluate, config: {}\n"
     ]
    },
    {
     "name": "stderr",
     "output_type": "stream",
     "text": [
      "\u001b[36m(ClientAppActor pid=25373)\u001b[0m /Users/macbook/Desktop/L361/L361_Project/.conda/lib/python3.12/site-packages/datasets/utils/_dill.py:385: DeprecationWarning: co_lnotab is deprecated, use co_lines instead.\u001b[32m [repeated 13x across cluster]\u001b[0m\n",
      "\u001b[36m(ClientAppActor pid=25373)\u001b[0m   obj.co_lnotab,  # for < python 3.10 [not counted in args]\u001b[32m [repeated 13x across cluster]\u001b[0m\n"
     ]
    },
    {
     "name": "stdout",
     "output_type": "stream",
     "text": [
      "\u001b[36m(ClientAppActor pid=25377)\u001b[0m Epoch: 7 Loss: 1.980946 Loss1: 0.216814 Loss2: 1.764132\n"
     ]
    },
    {
     "name": "stderr",
     "output_type": "stream",
     "text": [
      "\u001b[36m(ClientAppActor pid=25375)\u001b[0m /Users/macbook/Desktop/L361/L361_Project/.conda/lib/python3.12/site-packages/datasets/utils/_dill.py:385: DeprecationWarning: co_lnotab is deprecated, use co_lines instead.\u001b[32m [repeated 5x across cluster]\u001b[0m\n",
      "\u001b[36m(ClientAppActor pid=25375)\u001b[0m   obj.co_lnotab,  # for < python 3.10 [not counted in args]\u001b[32m [repeated 5x across cluster]\u001b[0m\n"
     ]
    },
    {
     "name": "stdout",
     "output_type": "stream",
     "text": [
      "\u001b[36m(ClientAppActor pid=25375)\u001b[0m [Client 1] evaluate, config: {}\u001b[32m [repeated 5x across cluster]\u001b[0m\n"
     ]
    },
    {
     "name": "stderr",
     "output_type": "stream",
     "text": [
      "\u001b[92mINFO \u001b[0m:      aggregate_evaluate: received 6 results and 0 failures\n",
      "\u001b[92mINFO \u001b[0m:      \n",
      "\u001b[92mINFO \u001b[0m:      [ROUND 13]\n",
      "\u001b[92mINFO \u001b[0m:      configure_fit: strategy sampled 6 clients (out of 6)\n"
     ]
    },
    {
     "name": "stdout",
     "output_type": "stream",
     "text": [
      "\u001b[36m(ClientAppActor pid=25378)\u001b[0m [Client 4] fit, config: {}\n",
      "\u001b[36m(ClientAppActor pid=25378)\u001b[0m Started training moon\n"
     ]
    },
    {
     "name": "stderr",
     "output_type": "stream",
     "text": [
      "\u001b[36m(ClientAppActor pid=25376)\u001b[0m /Users/macbook/Desktop/L361/L361_Project/.conda/lib/python3.12/site-packages/datasets/utils/_dill.py:385: DeprecationWarning: co_lnotab is deprecated, use co_lines instead.\u001b[32m [repeated 4x across cluster]\u001b[0m\n",
      "\u001b[36m(ClientAppActor pid=25376)\u001b[0m   obj.co_lnotab,  # for < python 3.10 [not counted in args]\u001b[32m [repeated 4x across cluster]\u001b[0m\n"
     ]
    },
    {
     "name": "stdout",
     "output_type": "stream",
     "text": [
      "\u001b[36m(ClientAppActor pid=25378)\u001b[0m Epoch: 0 Loss: 2.146336 Loss1: 0.724187 Loss2: 1.422149\n",
      "\u001b[36m(ClientAppActor pid=25377)\u001b[0m [Client 1] fit, config: {}\u001b[32m [repeated 5x across cluster]\u001b[0m\n",
      "\u001b[36m(ClientAppActor pid=25377)\u001b[0m Started training moon\u001b[32m [repeated 5x across cluster]\u001b[0m\n",
      "\u001b[36m(ClientAppActor pid=25376)\u001b[0m Epoch: 1 Loss: 1.778664 Loss1: 0.476827 Loss2: 1.301838\u001b[32m [repeated 9x across cluster]\u001b[0m\n",
      "\u001b[36m(ClientAppActor pid=25376)\u001b[0m Epoch: 2 Loss: 1.666288 Loss1: 0.366328 Loss2: 1.299959\u001b[32m [repeated 6x across cluster]\u001b[0m\n",
      "\u001b[36m(ClientAppActor pid=25377)\u001b[0m Epoch: 2 Loss: 1.712165 Loss1: 0.374035 Loss2: 1.338130\u001b[32m [repeated 5x across cluster]\u001b[0m\n",
      "\u001b[36m(ClientAppActor pid=25376)\u001b[0m Epoch: 4 Loss: 1.582219 Loss1: 0.283568 Loss2: 1.298651\u001b[32m [repeated 5x across cluster]\u001b[0m\n",
      "\u001b[36m(ClientAppActor pid=25376)\u001b[0m Epoch: 5 Loss: 1.544692 Loss1: 0.243722 Loss2: 1.300970\u001b[32m [repeated 6x across cluster]\u001b[0m\n",
      "\u001b[36m(ClientAppActor pid=25376)\u001b[0m Epoch: 6 Loss: 1.510385 Loss1: 0.216326 Loss2: 1.294059\u001b[32m [repeated 4x across cluster]\u001b[0m\n",
      "\u001b[36m(ClientAppActor pid=25373)\u001b[0m Epoch: 7 Loss: 1.352281 Loss1: 0.210491 Loss2: 1.141790\u001b[32m [repeated 7x across cluster]\u001b[0m\n"
     ]
    },
    {
     "name": "stderr",
     "output_type": "stream",
     "text": [
      "\u001b[92mINFO \u001b[0m:      aggregate_fit: received 6 results and 0 failures\n"
     ]
    },
    {
     "name": "stdout",
     "output_type": "stream",
     "text": [
      "\u001b[36m(ClientAppActor pid=25377)\u001b[0m Epoch: 7 Loss: 1.596756 Loss1: 0.256328 Loss2: 1.340428\u001b[32m [repeated 5x across cluster]\u001b[0m\n",
      "\n",
      "==== Server-side evaluation for round 13 ====\n",
      "  Parameter 0: Changed by 0.003948\n",
      "  Parameter 1: Changed by 0.006605\n",
      "  Parameter 2: Changed by 0.006001\n",
      "  Parameter 3: Changed by 0.012593\n",
      "  Parameter 4: Changed by 0.007523\n",
      "  Parameter 5: Changed by 0.005290\n",
      "  Parameter 6: Changed by 0.009346\n",
      "  Parameter 7: Changed by 0.009886\n",
      "  Parameter 8: Changed by 0.011986\n",
      "  Parameter 9: Changed by 0.013583\n",
      "  Parameter 10: Changed by 0.008222\n",
      "  Parameter 11: Changed by 0.010594\n",
      "  Parameter 12: Changed by 0.002950\n",
      "  Parameter 13: Changed by 0.005990\n",
      "  Parameter 14: Changed by 0.017572\n",
      "  Parameter 15: Changed by 0.022623\n"
     ]
    },
    {
     "name": "stderr",
     "output_type": "stream",
     "text": [
      "\u001b[92mINFO \u001b[0m:      fit progress: (13, 0.05661526621580124, {'accuracy': 0.5625}, 742.9653415000066)\n",
      "\u001b[92mINFO \u001b[0m:      configure_evaluate: strategy sampled 6 clients (out of 6)\n"
     ]
    },
    {
     "name": "stdout",
     "output_type": "stream",
     "text": [
      "  Evaluation results - Loss: 0.0566, Accuracy: 0.5625\n",
      "\u001b[36m(ClientAppActor pid=25373)\u001b[0m [Client 2] evaluate, config: {}\n"
     ]
    },
    {
     "name": "stderr",
     "output_type": "stream",
     "text": [
      "\u001b[36m(ClientAppActor pid=25373)\u001b[0m /Users/macbook/Desktop/L361/L361_Project/.conda/lib/python3.12/site-packages/datasets/utils/_dill.py:385: DeprecationWarning: co_lnotab is deprecated, use co_lines instead.\u001b[32m [repeated 3x across cluster]\u001b[0m\n",
      "\u001b[36m(ClientAppActor pid=25373)\u001b[0m   obj.co_lnotab,  # for < python 3.10 [not counted in args]\u001b[32m [repeated 3x across cluster]\u001b[0m\n",
      "\u001b[92mINFO \u001b[0m:      aggregate_evaluate: received 6 results and 0 failures\n",
      "\u001b[92mINFO \u001b[0m:      \n",
      "\u001b[92mINFO \u001b[0m:      [ROUND 14]\n",
      "\u001b[92mINFO \u001b[0m:      configure_fit: strategy sampled 6 clients (out of 6)\n"
     ]
    },
    {
     "name": "stdout",
     "output_type": "stream",
     "text": [
      "\u001b[36m(ClientAppActor pid=25373)\u001b[0m [Client 5] fit, config: {}\n",
      "\u001b[36m(ClientAppActor pid=25373)\u001b[0m Started training moon\n",
      "\u001b[36m(ClientAppActor pid=25373)\u001b[0m Epoch: 0 Loss: 2.660934 Loss1: 0.705910 Loss2: 1.955024\n",
      "\u001b[36m(ClientAppActor pid=25378)\u001b[0m [Client 5] evaluate, config: {}\u001b[32m [repeated 5x across cluster]\u001b[0m\n",
      "\u001b[36m(ClientAppActor pid=25377)\u001b[0m [Client 1] fit, config: {}\u001b[32m [repeated 5x across cluster]\u001b[0m\n",
      "\u001b[36m(ClientAppActor pid=25377)\u001b[0m Started training moon\u001b[32m [repeated 5x across cluster]\u001b[0m\n",
      "\u001b[36m(ClientAppActor pid=25377)\u001b[0m Epoch: 0 Loss: 2.633908 Loss1: 0.721220 Loss2: 1.912688\u001b[32m [repeated 5x across cluster]\u001b[0m\n",
      "\u001b[36m(ClientAppActor pid=25373)\u001b[0m Epoch: 2 Loss: 2.201426 Loss1: 0.295626 Loss2: 1.905799\u001b[32m [repeated 5x across cluster]\u001b[0m\n",
      "\u001b[36m(ClientAppActor pid=25373)\u001b[0m Epoch: 3 Loss: 2.195435 Loss1: 0.281601 Loss2: 1.913834\u001b[32m [repeated 6x across cluster]\u001b[0m\n",
      "\u001b[36m(ClientAppActor pid=25375)\u001b[0m Epoch: 2 Loss: 1.973622 Loss1: 0.354540 Loss2: 1.619082\u001b[32m [repeated 4x across cluster]\u001b[0m\n",
      "\u001b[36m(ClientAppActor pid=25378)\u001b[0m Epoch: 5 Loss: 1.901809 Loss1: 0.203971 Loss2: 1.697838\u001b[32m [repeated 7x across cluster]\u001b[0m\n",
      "\u001b[36m(ClientAppActor pid=25373)\u001b[0m Epoch: 7 Loss: 2.083969 Loss1: 0.175888 Loss2: 1.908081\u001b[32m [repeated 11x across cluster]\u001b[0m\n",
      "\u001b[36m(ClientAppActor pid=25375)\u001b[0m Epoch: 7 Loss: 1.797507 Loss1: 0.183306 Loss2: 1.614201\u001b[32m [repeated 8x across cluster]\u001b[0m\n"
     ]
    },
    {
     "name": "stderr",
     "output_type": "stream",
     "text": [
      "\u001b[92mINFO \u001b[0m:      aggregate_fit: received 6 results and 0 failures\n"
     ]
    },
    {
     "name": "stdout",
     "output_type": "stream",
     "text": [
      "\n",
      "==== Server-side evaluation for round 14 ====\n",
      "  Parameter 0: Changed by 0.003839\n",
      "  Parameter 1: Changed by 0.004704\n",
      "  Parameter 2: Changed by 0.005844\n",
      "  Parameter 3: Changed by 0.013253\n",
      "  Parameter 4: Changed by 0.007586\n",
      "  Parameter 5: Changed by 0.005730\n",
      "  Parameter 6: Changed by 0.009209\n",
      "  Parameter 7: Changed by 0.009182\n",
      "  Parameter 8: Changed by 0.011577\n",
      "  Parameter 9: Changed by 0.010901\n",
      "  Parameter 10: Changed by 0.008226\n",
      "  Parameter 11: Changed by 0.009703\n",
      "  Parameter 12: Changed by 0.003106\n",
      "  Parameter 13: Changed by 0.006512\n",
      "  Parameter 14: Changed by 0.018756\n",
      "  Parameter 15: Changed by 0.016739\n"
     ]
    },
    {
     "name": "stderr",
     "output_type": "stream",
     "text": [
      "\u001b[92mINFO \u001b[0m:      fit progress: (14, 0.057193495219945906, {'accuracy': 0.557}, 798.2422865000553)\n",
      "\u001b[92mINFO \u001b[0m:      configure_evaluate: strategy sampled 6 clients (out of 6)\n"
     ]
    },
    {
     "name": "stdout",
     "output_type": "stream",
     "text": [
      "  Evaluation results - Loss: 0.0572, Accuracy: 0.5570\n",
      "\u001b[36m(ClientAppActor pid=25378)\u001b[0m [Client 4] evaluate, config: {}\n",
      "\u001b[36m(ClientAppActor pid=25377)\u001b[0m Epoch: 7 Loss: 2.052973 Loss1: 0.225976 Loss2: 1.826996\n"
     ]
    },
    {
     "name": "stderr",
     "output_type": "stream",
     "text": [
      "\u001b[36m(ClientAppActor pid=25378)\u001b[0m /Users/macbook/Desktop/L361/L361_Project/.conda/lib/python3.12/site-packages/datasets/utils/_dill.py:385: DeprecationWarning: co_lnotab is deprecated, use co_lines instead.\u001b[32m [repeated 12x across cluster]\u001b[0m\n",
      "\u001b[36m(ClientAppActor pid=25378)\u001b[0m   obj.co_lnotab,  # for < python 3.10 [not counted in args]\u001b[32m [repeated 12x across cluster]\u001b[0m\n",
      "\u001b[92mINFO \u001b[0m:      aggregate_evaluate: received 6 results and 0 failures\n",
      "\u001b[92mINFO \u001b[0m:      \n",
      "\u001b[92mINFO \u001b[0m:      [ROUND 15]\n",
      "\u001b[92mINFO \u001b[0m:      configure_fit: strategy sampled 6 clients (out of 6)\n",
      "\u001b[36m(ClientAppActor pid=25375)\u001b[0m /Users/macbook/Desktop/L361/L361_Project/.conda/lib/python3.12/site-packages/datasets/utils/_dill.py:385: DeprecationWarning: co_lnotab is deprecated, use co_lines instead.\u001b[32m [repeated 6x across cluster]\u001b[0m\n",
      "\u001b[36m(ClientAppActor pid=25375)\u001b[0m   obj.co_lnotab,  # for < python 3.10 [not counted in args]\u001b[32m [repeated 6x across cluster]\u001b[0m\n"
     ]
    },
    {
     "name": "stdout",
     "output_type": "stream",
     "text": [
      "\u001b[36m(ClientAppActor pid=25375)\u001b[0m [Client 4] fit, config: {}\n",
      "\u001b[36m(ClientAppActor pid=25376)\u001b[0m [Client 2] evaluate, config: {}\u001b[32m [repeated 5x across cluster]\u001b[0m\n",
      "\u001b[36m(ClientAppActor pid=25375)\u001b[0m Started training moon\n",
      "\u001b[36m(ClientAppActor pid=25374)\u001b[0m Epoch: 0 Loss: 2.100348 Loss1: 0.675520 Loss2: 1.424828\n",
      "\u001b[36m(ClientAppActor pid=25378)\u001b[0m [Client 5] fit, config: {}\u001b[32m [repeated 5x across cluster]\u001b[0m\n",
      "\u001b[36m(ClientAppActor pid=25378)\u001b[0m Started training moon\u001b[32m [repeated 5x across cluster]\u001b[0m\n",
      "\u001b[36m(ClientAppActor pid=25374)\u001b[0m Epoch: 1 Loss: 1.824121 Loss1: 0.415319 Loss2: 1.408802\u001b[32m [repeated 6x across cluster]\u001b[0m\n",
      "\u001b[36m(ClientAppActor pid=25374)\u001b[0m Epoch: 2 Loss: 1.701890 Loss1: 0.295586 Loss2: 1.406304\u001b[32m [repeated 4x across cluster]\u001b[0m\n",
      "\u001b[36m(ClientAppActor pid=25374)\u001b[0m Epoch: 3 Loss: 1.646624 Loss1: 0.241188 Loss2: 1.405436\u001b[32m [repeated 6x across cluster]\u001b[0m\n",
      "\u001b[36m(ClientAppActor pid=25376)\u001b[0m Epoch: 4 Loss: 1.625824 Loss1: 0.207032 Loss2: 1.418792\u001b[32m [repeated 7x across cluster]\u001b[0m\n",
      "\u001b[36m(ClientAppActor pid=25378)\u001b[0m Epoch: 5 Loss: 1.374875 Loss1: 0.187523 Loss2: 1.187352\u001b[32m [repeated 8x across cluster]\u001b[0m\n",
      "\u001b[36m(ClientAppActor pid=25375)\u001b[0m Epoch: 5 Loss: 1.705159 Loss1: 0.212052 Loss2: 1.493107\u001b[32m [repeated 7x across cluster]\u001b[0m\n",
      "\u001b[36m(ClientAppActor pid=25375)\u001b[0m Epoch: 7 Loss: 1.631757 Loss1: 0.151204 Loss2: 1.480554\u001b[32m [repeated 8x across cluster]\u001b[0m\n"
     ]
    },
    {
     "name": "stderr",
     "output_type": "stream",
     "text": [
      "\u001b[92mINFO \u001b[0m:      aggregate_fit: received 6 results and 0 failures\n"
     ]
    },
    {
     "name": "stdout",
     "output_type": "stream",
     "text": [
      "\n",
      "==== Server-side evaluation for round 15 ====\n",
      "  Parameter 0: Changed by 0.003558\n",
      "  Parameter 1: Changed by 0.004882\n",
      "  Parameter 2: Changed by 0.005621\n",
      "  Parameter 3: Changed by 0.009480\n",
      "  Parameter 4: Changed by 0.007267\n",
      "  Parameter 5: Changed by 0.004831\n",
      "  Parameter 6: Changed by 0.008999\n",
      "  Parameter 7: Changed by 0.009451\n",
      "  Parameter 8: Changed by 0.011313\n",
      "  Parameter 9: Changed by 0.011192\n",
      "  Parameter 10: Changed by 0.007806\n",
      "  Parameter 11: Changed by 0.010186\n",
      "  Parameter 12: Changed by 0.002902\n",
      "  Parameter 13: Changed by 0.005190\n",
      "  Parameter 14: Changed by 0.017301\n",
      "  Parameter 15: Changed by 0.017295\n"
     ]
    },
    {
     "name": "stderr",
     "output_type": "stream",
     "text": [
      "\u001b[92mINFO \u001b[0m:      fit progress: (15, 0.060194648933410644, {'accuracy': 0.5686}, 857.950422083959)\n",
      "\u001b[92mINFO \u001b[0m:      configure_evaluate: strategy sampled 6 clients (out of 6)\n"
     ]
    },
    {
     "name": "stdout",
     "output_type": "stream",
     "text": [
      "  Evaluation results - Loss: 0.0602, Accuracy: 0.5686\n",
      "\u001b[36m(ClientAppActor pid=25378)\u001b[0m [Client 3] evaluate, config: {}\n"
     ]
    },
    {
     "name": "stderr",
     "output_type": "stream",
     "text": [
      "\u001b[36m(ClientAppActor pid=25378)\u001b[0m /Users/macbook/Desktop/L361/L361_Project/.conda/lib/python3.12/site-packages/datasets/utils/_dill.py:385: DeprecationWarning: co_lnotab is deprecated, use co_lines instead.\u001b[32m [repeated 6x across cluster]\u001b[0m\n",
      "\u001b[36m(ClientAppActor pid=25378)\u001b[0m   obj.co_lnotab,  # for < python 3.10 [not counted in args]\u001b[32m [repeated 6x across cluster]\u001b[0m\n"
     ]
    },
    {
     "name": "stdout",
     "output_type": "stream",
     "text": [
      "\u001b[36m(ClientAppActor pid=25377)\u001b[0m Epoch: 7 Loss: 1.565245 Loss1: 0.174181 Loss2: 1.391064\n"
     ]
    },
    {
     "name": "stderr",
     "output_type": "stream",
     "text": [
      "\u001b[92mINFO \u001b[0m:      aggregate_evaluate: received 6 results and 0 failures\n",
      "\u001b[92mINFO \u001b[0m:      \n",
      "\u001b[92mINFO \u001b[0m:      [ROUND 16]\n",
      "\u001b[92mINFO \u001b[0m:      configure_fit: strategy sampled 6 clients (out of 6)\n"
     ]
    },
    {
     "name": "stdout",
     "output_type": "stream",
     "text": [
      "\u001b[36m(ClientAppActor pid=25375)\u001b[0m [Client 3] fit, config: {}\n",
      "\u001b[36m(ClientAppActor pid=25375)\u001b[0m Started training moon\n",
      "\u001b[36m(ClientAppActor pid=25375)\u001b[0m Epoch: 0 Loss: 2.319795 Loss1: 0.668050 Loss2: 1.651745\n",
      "\u001b[36m(ClientAppActor pid=25376)\u001b[0m [Client 1] evaluate, config: {}\u001b[32m [repeated 5x across cluster]\u001b[0m\n",
      "\u001b[36m(ClientAppActor pid=25376)\u001b[0m [Client 0] fit, config: {}\u001b[32m [repeated 5x across cluster]\u001b[0m\n",
      "\u001b[36m(ClientAppActor pid=25376)\u001b[0m Started training moon\u001b[32m [repeated 5x across cluster]\u001b[0m\n",
      "\u001b[36m(ClientAppActor pid=25375)\u001b[0m Epoch: 1 Loss: 2.042498 Loss1: 0.422385 Loss2: 1.620113\u001b[32m [repeated 6x across cluster]\u001b[0m\n",
      "\u001b[36m(ClientAppActor pid=25373)\u001b[0m Epoch: 2 Loss: 2.111342 Loss1: 0.274337 Loss2: 1.837005\u001b[32m [repeated 6x across cluster]\u001b[0m\n",
      "\u001b[36m(ClientAppActor pid=25373)\u001b[0m Epoch: 3 Loss: 2.079192 Loss1: 0.241929 Loss2: 1.837263\u001b[32m [repeated 6x across cluster]\u001b[0m\n",
      "\u001b[36m(ClientAppActor pid=25373)\u001b[0m Epoch: 4 Loss: 2.052806 Loss1: 0.216873 Loss2: 1.835933\u001b[32m [repeated 6x across cluster]\u001b[0m\n",
      "\u001b[36m(ClientAppActor pid=25376)\u001b[0m Epoch: 5 Loss: 1.911997 Loss1: 0.179124 Loss2: 1.732873\u001b[32m [repeated 9x across cluster]\u001b[0m\n",
      "\u001b[36m(ClientAppActor pid=25373)\u001b[0m Epoch: 7 Loss: 1.986665 Loss1: 0.164865 Loss2: 1.821800\u001b[32m [repeated 8x across cluster]\u001b[0m\n"
     ]
    },
    {
     "name": "stderr",
     "output_type": "stream",
     "text": [
      "\u001b[92mINFO \u001b[0m:      aggregate_fit: received 6 results and 0 failures\n"
     ]
    },
    {
     "name": "stdout",
     "output_type": "stream",
     "text": [
      "\u001b[36m(ClientAppActor pid=25377)\u001b[0m Epoch: 7 Loss: 1.664129 Loss1: 0.144537 Loss2: 1.519592\u001b[32m [repeated 6x across cluster]\u001b[0m\n",
      "\n",
      "==== Server-side evaluation for round 16 ====\n",
      "  Parameter 0: Changed by 0.003574\n",
      "  Parameter 1: Changed by 0.004897\n",
      "  Parameter 2: Changed by 0.005547\n",
      "  Parameter 3: Changed by 0.010820\n",
      "  Parameter 4: Changed by 0.007221\n",
      "  Parameter 5: Changed by 0.004624\n",
      "  Parameter 6: Changed by 0.008799\n",
      "  Parameter 7: Changed by 0.008245\n",
      "  Parameter 8: Changed by 0.010990\n",
      "  Parameter 9: Changed by 0.011027\n",
      "  Parameter 10: Changed by 0.007790\n",
      "  Parameter 11: Changed by 0.008881\n",
      "  Parameter 12: Changed by 0.003311\n",
      "  Parameter 13: Changed by 0.006351\n",
      "  Parameter 14: Changed by 0.016701\n",
      "  Parameter 15: Changed by 0.019775\n"
     ]
    },
    {
     "name": "stderr",
     "output_type": "stream",
     "text": [
      "\u001b[92mINFO \u001b[0m:      fit progress: (16, 0.060093084394931794, {'accuracy': 0.5624}, 911.166059124982)\n",
      "\u001b[92mINFO \u001b[0m:      configure_evaluate: strategy sampled 6 clients (out of 6)\n"
     ]
    },
    {
     "name": "stdout",
     "output_type": "stream",
     "text": [
      "  Evaluation results - Loss: 0.0601, Accuracy: 0.5624\n"
     ]
    },
    {
     "name": "stderr",
     "output_type": "stream",
     "text": [
      "\u001b[36m(ClientAppActor pid=25377)\u001b[0m /Users/macbook/Desktop/L361/L361_Project/.conda/lib/python3.12/site-packages/datasets/utils/_dill.py:385: DeprecationWarning: co_lnotab is deprecated, use co_lines instead.\u001b[32m [repeated 12x across cluster]\u001b[0m\n",
      "\u001b[36m(ClientAppActor pid=25377)\u001b[0m   obj.co_lnotab,  # for < python 3.10 [not counted in args]\u001b[32m [repeated 12x across cluster]\u001b[0m\n"
     ]
    },
    {
     "name": "stdout",
     "output_type": "stream",
     "text": [
      "\u001b[36m(ClientAppActor pid=25377)\u001b[0m [Client 0] evaluate, config: {}\n",
      "\u001b[36m(ClientAppActor pid=25374)\u001b[0m [Client 2] evaluate, config: {}\u001b[32m [repeated 4x across cluster]\u001b[0m\n"
     ]
    },
    {
     "name": "stderr",
     "output_type": "stream",
     "text": [
      "\u001b[36m(ClientAppActor pid=25374)\u001b[0m /Users/macbook/Desktop/L361/L361_Project/.conda/lib/python3.12/site-packages/datasets/utils/_dill.py:385: DeprecationWarning: co_lnotab is deprecated, use co_lines instead.\u001b[32m [repeated 4x across cluster]\u001b[0m\n",
      "\u001b[36m(ClientAppActor pid=25374)\u001b[0m   obj.co_lnotab,  # for < python 3.10 [not counted in args]\u001b[32m [repeated 4x across cluster]\u001b[0m\n",
      "\u001b[92mINFO \u001b[0m:      aggregate_evaluate: received 6 results and 0 failures\n",
      "\u001b[92mINFO \u001b[0m:      \n",
      "\u001b[92mINFO \u001b[0m:      [ROUND 17]\n",
      "\u001b[92mINFO \u001b[0m:      configure_fit: strategy sampled 6 clients (out of 6)\n"
     ]
    },
    {
     "name": "stdout",
     "output_type": "stream",
     "text": [
      "\u001b[36m(ClientAppActor pid=25376)\u001b[0m [Client 4] fit, config: {}\n",
      "\u001b[36m(ClientAppActor pid=25376)\u001b[0m Started training moon\n",
      "\u001b[36m(ClientAppActor pid=25375)\u001b[0m [Client 5] evaluate, config: {}\n"
     ]
    },
    {
     "name": "stderr",
     "output_type": "stream",
     "text": [
      "\u001b[36m(ClientAppActor pid=25373)\u001b[0m /Users/macbook/Desktop/L361/L361_Project/.conda/lib/python3.12/site-packages/datasets/utils/_dill.py:385: DeprecationWarning: co_lnotab is deprecated, use co_lines instead.\u001b[32m [repeated 7x across cluster]\u001b[0m\n",
      "\u001b[36m(ClientAppActor pid=25373)\u001b[0m   obj.co_lnotab,  # for < python 3.10 [not counted in args]\u001b[32m [repeated 7x across cluster]\u001b[0m\n"
     ]
    },
    {
     "name": "stdout",
     "output_type": "stream",
     "text": [
      "\u001b[36m(ClientAppActor pid=25376)\u001b[0m Epoch: 0 Loss: 2.127529 Loss1: 0.595107 Loss2: 1.532422\n",
      "\u001b[36m(ClientAppActor pid=25373)\u001b[0m [Client 2] fit, config: {}\u001b[32m [repeated 5x across cluster]\u001b[0m\n",
      "\u001b[36m(ClientAppActor pid=25373)\u001b[0m Started training moon\u001b[32m [repeated 5x across cluster]\u001b[0m\n",
      "\u001b[36m(ClientAppActor pid=25376)\u001b[0m Epoch: 1 Loss: 1.807352 Loss1: 0.296073 Loss2: 1.511278\u001b[32m [repeated 6x across cluster]\u001b[0m\n",
      "\u001b[36m(ClientAppActor pid=25373)\u001b[0m Epoch: 2 Loss: 1.778536 Loss1: 0.253770 Loss2: 1.524766\u001b[32m [repeated 10x across cluster]\u001b[0m\n",
      "\u001b[36m(ClientAppActor pid=25376)\u001b[0m Epoch: 4 Loss: 1.756875 Loss1: 0.227990 Loss2: 1.528885\u001b[32m [repeated 8x across cluster]\u001b[0m\n",
      "\u001b[36m(ClientAppActor pid=25376)\u001b[0m Epoch: 5 Loss: 1.646037 Loss1: 0.142164 Loss2: 1.503873\u001b[32m [repeated 6x across cluster]\u001b[0m\n",
      "\u001b[36m(ClientAppActor pid=25376)\u001b[0m Epoch: 6 Loss: 1.616380 Loss1: 0.121119 Loss2: 1.495262\u001b[32m [repeated 6x across cluster]\u001b[0m\n",
      "\u001b[36m(ClientAppActor pid=25376)\u001b[0m Epoch: 7 Loss: 1.641681 Loss1: 0.139240 Loss2: 1.502441\u001b[32m [repeated 6x across cluster]\u001b[0m\n"
     ]
    },
    {
     "name": "stderr",
     "output_type": "stream",
     "text": [
      "\u001b[92mINFO \u001b[0m:      aggregate_fit: received 6 results and 0 failures\n"
     ]
    },
    {
     "name": "stdout",
     "output_type": "stream",
     "text": [
      "\u001b[36m(ClientAppActor pid=25377)\u001b[0m Epoch: 7 Loss: 1.423387 Loss1: 0.156486 Loss2: 1.266901\u001b[32m [repeated 5x across cluster]\u001b[0m\n",
      "\n",
      "==== Server-side evaluation for round 17 ====\n",
      "  Parameter 0: Changed by 0.003359\n",
      "  Parameter 1: Changed by 0.005570\n",
      "  Parameter 2: Changed by 0.005528\n",
      "  Parameter 3: Changed by 0.010639\n",
      "  Parameter 4: Changed by 0.007112\n",
      "  Parameter 5: Changed by 0.004974\n",
      "  Parameter 6: Changed by 0.008834\n",
      "  Parameter 7: Changed by 0.009449\n",
      "  Parameter 8: Changed by 0.010843\n",
      "  Parameter 9: Changed by 0.012028\n",
      "  Parameter 10: Changed by 0.007621\n",
      "  Parameter 11: Changed by 0.009226\n",
      "  Parameter 12: Changed by 0.003131\n",
      "  Parameter 13: Changed by 0.006545\n",
      "  Parameter 14: Changed by 0.016695\n",
      "  Parameter 15: Changed by 0.025199\n"
     ]
    },
    {
     "name": "stderr",
     "output_type": "stream",
     "text": [
      "\u001b[92mINFO \u001b[0m:      fit progress: (17, 0.06257722380161286, {'accuracy': 0.562}, 969.5920398340095)\n",
      "\u001b[92mINFO \u001b[0m:      configure_evaluate: strategy sampled 6 clients (out of 6)\n"
     ]
    },
    {
     "name": "stdout",
     "output_type": "stream",
     "text": [
      "  Evaluation results - Loss: 0.0626, Accuracy: 0.5620\n",
      "\u001b[36m(ClientAppActor pid=25374)\u001b[0m [Client 2] evaluate, config: {}\n"
     ]
    },
    {
     "name": "stderr",
     "output_type": "stream",
     "text": [
      "\u001b[36m(ClientAppActor pid=25375)\u001b[0m /Users/macbook/Desktop/L361/L361_Project/.conda/lib/python3.12/site-packages/datasets/utils/_dill.py:385: DeprecationWarning: co_lnotab is deprecated, use co_lines instead.\n",
      "\u001b[36m(ClientAppActor pid=25375)\u001b[0m   obj.co_lnotab,  # for < python 3.10 [not counted in args]\n",
      "\u001b[36m(ClientAppActor pid=25374)\u001b[0m /Users/macbook/Desktop/L361/L361_Project/.conda/lib/python3.12/site-packages/datasets/utils/_dill.py:385: DeprecationWarning: co_lnotab is deprecated, use co_lines instead.\n",
      "\u001b[36m(ClientAppActor pid=25374)\u001b[0m   obj.co_lnotab,  # for < python 3.10 [not counted in args]\n",
      "\u001b[92mINFO \u001b[0m:      aggregate_evaluate: received 6 results and 0 failures\n",
      "\u001b[92mINFO \u001b[0m:      \n",
      "\u001b[92mINFO \u001b[0m:      [ROUND 18]\n",
      "\u001b[92mINFO \u001b[0m:      configure_fit: strategy sampled 6 clients (out of 6)\n"
     ]
    },
    {
     "name": "stdout",
     "output_type": "stream",
     "text": [
      "\u001b[36m(ClientAppActor pid=25373)\u001b[0m [Client 5] fit, config: {}\n",
      "\u001b[36m(ClientAppActor pid=25373)\u001b[0m Started training moon\n",
      "\u001b[36m(ClientAppActor pid=25375)\u001b[0m Epoch: 0 Loss: 2.290566 Loss1: 0.622295 Loss2: 1.668272\n",
      "\u001b[36m(ClientAppActor pid=25376)\u001b[0m [Client 4] evaluate, config: {}\u001b[32m [repeated 5x across cluster]\u001b[0m\n",
      "\u001b[36m(ClientAppActor pid=25378)\u001b[0m [Client 1] fit, config: {}\u001b[32m [repeated 5x across cluster]\u001b[0m\n",
      "\u001b[36m(ClientAppActor pid=25378)\u001b[0m Started training moon\u001b[32m [repeated 5x across cluster]\u001b[0m\n",
      "\u001b[36m(ClientAppActor pid=25376)\u001b[0m Epoch: 2 Loss: 1.979151 Loss1: 0.264004 Loss2: 1.715147\u001b[32m [repeated 12x across cluster]\u001b[0m\n",
      "\u001b[36m(ClientAppActor pid=25376)\u001b[0m Epoch: 4 Loss: 1.847547 Loss1: 0.154789 Loss2: 1.692758\u001b[32m [repeated 12x across cluster]\u001b[0m\n",
      "\u001b[36m(ClientAppActor pid=25376)\u001b[0m Epoch: 6 Loss: 1.851327 Loss1: 0.156049 Loss2: 1.695277\u001b[32m [repeated 12x across cluster]\u001b[0m\n"
     ]
    },
    {
     "name": "stderr",
     "output_type": "stream",
     "text": [
      "\u001b[92mINFO \u001b[0m:      aggregate_fit: received 6 results and 0 failures\n"
     ]
    },
    {
     "name": "stdout",
     "output_type": "stream",
     "text": [
      "\n",
      "==== Server-side evaluation for round 18 ====\n",
      "  Parameter 0: Changed by 0.003178\n",
      "  Parameter 1: Changed by 0.004081\n",
      "  Parameter 2: Changed by 0.005337\n",
      "  Parameter 3: Changed by 0.011211\n",
      "  Parameter 4: Changed by 0.007177\n",
      "  Parameter 5: Changed by 0.005004\n",
      "  Parameter 6: Changed by 0.008691\n",
      "  Parameter 7: Changed by 0.009756\n",
      "  Parameter 8: Changed by 0.010706\n",
      "  Parameter 9: Changed by 0.010166\n",
      "  Parameter 10: Changed by 0.007655\n",
      "  Parameter 11: Changed by 0.008289\n",
      "  Parameter 12: Changed by 0.003056\n",
      "  Parameter 13: Changed by 0.005097\n",
      "  Parameter 14: Changed by 0.016467\n",
      "  Parameter 15: Changed by 0.031368\n"
     ]
    },
    {
     "name": "stderr",
     "output_type": "stream",
     "text": [
      "\u001b[92mINFO \u001b[0m:      fit progress: (18, 0.0614662703871727, {'accuracy': 0.5531}, 1005.6351635421161)\n",
      "\u001b[92mINFO \u001b[0m:      configure_evaluate: strategy sampled 6 clients (out of 6)\n"
     ]
    },
    {
     "name": "stdout",
     "output_type": "stream",
     "text": [
      "  Evaluation results - Loss: 0.0615, Accuracy: 0.5531\n"
     ]
    },
    {
     "name": "stderr",
     "output_type": "stream",
     "text": [
      "\u001b[36m(ClientAppActor pid=25377)\u001b[0m /Users/macbook/Desktop/L361/L361_Project/.conda/lib/python3.12/site-packages/datasets/utils/_dill.py:385: DeprecationWarning: co_lnotab is deprecated, use co_lines instead.\u001b[32m [repeated 11x across cluster]\u001b[0m\n",
      "\u001b[36m(ClientAppActor pid=25377)\u001b[0m   obj.co_lnotab,  # for < python 3.10 [not counted in args]\u001b[32m [repeated 11x across cluster]\u001b[0m\n"
     ]
    },
    {
     "name": "stdout",
     "output_type": "stream",
     "text": [
      "\u001b[36m(ClientAppActor pid=25377)\u001b[0m [Client 3] evaluate, config: {}\n",
      "\u001b[36m(ClientAppActor pid=25378)\u001b[0m Epoch: 7 Loss: 2.042294 Loss1: 0.165767 Loss2: 1.876527\u001b[32m [repeated 11x across cluster]\u001b[0m\n"
     ]
    },
    {
     "name": "stderr",
     "output_type": "stream",
     "text": [
      "\u001b[92mINFO \u001b[0m:      aggregate_evaluate: received 6 results and 0 failures\n",
      "\u001b[92mINFO \u001b[0m:      \n",
      "\u001b[92mINFO \u001b[0m:      [SUMMARY]\n",
      "\u001b[92mINFO \u001b[0m:      Run finished 18 round(s) in 1009.18s\n",
      "\u001b[92mINFO \u001b[0m:      \tHistory (loss, distributed):\n",
      "\u001b[92mINFO \u001b[0m:      \t\tround 1: 0.07704896977891257\n",
      "\u001b[92mINFO \u001b[0m:      \t\tround 2: 0.06724904884316639\n",
      "\u001b[92mINFO \u001b[0m:      \t\tround 3: 0.05106552094489282\n",
      "\u001b[92mINFO \u001b[0m:      \t\tround 4: 0.05341667218747984\n",
      "\u001b[92mINFO \u001b[0m:      \t\tround 5: 0.05189918527568466\n",
      "\u001b[92mINFO \u001b[0m:      \t\tround 6: 0.05402656181982572\n",
      "\u001b[92mINFO \u001b[0m:      \t\tround 7: 0.05477265168756883\n",
      "\u001b[92mINFO \u001b[0m:      \t\tround 8: 0.0547466488588874\n",
      "\u001b[92mINFO \u001b[0m:      \t\tround 9: 0.0573622393311489\n",
      "\u001b[92mINFO \u001b[0m:      \t\tround 10: 0.05670211278421235\n",
      "\u001b[92mINFO \u001b[0m:      \t\tround 11: 0.056871576398857634\n",
      "\u001b[92mINFO \u001b[0m:      \t\tround 12: 0.0565630673063806\n",
      "\u001b[92mINFO \u001b[0m:      \t\tround 13: 0.05776374177030297\n",
      "\u001b[92mINFO \u001b[0m:      \t\tround 14: 0.05832784006383641\n",
      "\u001b[92mINFO \u001b[0m:      \t\tround 15: 0.06201810587344289\n",
      "\u001b[92mINFO \u001b[0m:      \t\tround 16: 0.061712898004117\n",
      "\u001b[92mINFO \u001b[0m:      \t\tround 17: 0.06472358592986834\n",
      "\u001b[92mINFO \u001b[0m:      \t\tround 18: 0.0639408596740487\n",
      "\u001b[92mINFO \u001b[0m:      \tHistory (loss, centralized):\n",
      "\u001b[92mINFO \u001b[0m:      \t\tround 0: 0.07212668631076813\n",
      "\u001b[92mINFO \u001b[0m:      \t\tround 1: 0.07577478766441345\n",
      "\u001b[92mINFO \u001b[0m:      \t\tround 2: 0.06613382347822189\n",
      "\u001b[92mINFO \u001b[0m:      \t\tround 3: 0.050366486847400666\n",
      "\u001b[92mINFO \u001b[0m:      \t\tround 4: 0.05260312983989716\n",
      "\u001b[92mINFO \u001b[0m:      \t\tround 5: 0.05057359418869019\n",
      "\u001b[92mINFO \u001b[0m:      \t\tround 6: 0.05311393427848816\n",
      "\u001b[92mINFO \u001b[0m:      \t\tround 7: 0.053302708643674854\n",
      "\u001b[92mINFO \u001b[0m:      \t\tround 8: 0.05349908220767975\n",
      "\u001b[92mINFO \u001b[0m:      \t\tround 9: 0.05634575360417366\n",
      "\u001b[92mINFO \u001b[0m:      \t\tround 10: 0.05574801385402679\n",
      "\u001b[92mINFO \u001b[0m:      \t\tround 11: 0.05573263317346573\n",
      "\u001b[92mINFO \u001b[0m:      \t\tround 12: 0.05562549473047256\n",
      "\u001b[92mINFO \u001b[0m:      \t\tround 13: 0.05661526621580124\n",
      "\u001b[92mINFO \u001b[0m:      \t\tround 14: 0.057193495219945906\n",
      "\u001b[92mINFO \u001b[0m:      \t\tround 15: 0.060194648933410644\n",
      "\u001b[92mINFO \u001b[0m:      \t\tround 16: 0.060093084394931794\n",
      "\u001b[92mINFO \u001b[0m:      \t\tround 17: 0.06257722380161286\n",
      "\u001b[92mINFO \u001b[0m:      \t\tround 18: 0.0614662703871727\n",
      "\u001b[92mINFO \u001b[0m:      \tHistory (metrics, centralized):\n",
      "\u001b[92mINFO \u001b[0m:      \t{'accuracy': [(0, 0.1),\n",
      "\u001b[92mINFO \u001b[0m:      \t              (1, 0.1005),\n",
      "\u001b[92mINFO \u001b[0m:      \t              (2, 0.1614),\n",
      "\u001b[92mINFO \u001b[0m:      \t              (3, 0.3874),\n",
      "\u001b[92mINFO \u001b[0m:      \t              (4, 0.4541),\n",
      "\u001b[92mINFO \u001b[0m:      \t              (5, 0.5182),\n",
      "\u001b[92mINFO \u001b[0m:      \t              (6, 0.5261),\n",
      "\u001b[92mINFO \u001b[0m:      \t              (7, 0.5494),\n",
      "\u001b[92mINFO \u001b[0m:      \t              (8, 0.5377),\n",
      "\u001b[92mINFO \u001b[0m:      \t              (9, 0.5485),\n",
      "\u001b[92mINFO \u001b[0m:      \t              (10, 0.5431),\n",
      "\u001b[92mINFO \u001b[0m:      \t              (11, 0.5538),\n",
      "\u001b[92mINFO \u001b[0m:      \t              (12, 0.5507),\n",
      "\u001b[92mINFO \u001b[0m:      \t              (13, 0.5625),\n",
      "\u001b[92mINFO \u001b[0m:      \t              (14, 0.557),\n",
      "\u001b[92mINFO \u001b[0m:      \t              (15, 0.5686),\n",
      "\u001b[92mINFO \u001b[0m:      \t              (16, 0.5624),\n",
      "\u001b[92mINFO \u001b[0m:      \t              (17, 0.562),\n",
      "\u001b[92mINFO \u001b[0m:      \t              (18, 0.5531)]}\n",
      "\u001b[92mINFO \u001b[0m:      \n"
     ]
    },
    {
     "name": "stdout",
     "output_type": "stream",
     "text": [
      "\u001b[36m(ClientAppActor pid=25375)\u001b[0m [Client 2] evaluate, config: {}\u001b[32m [repeated 5x across cluster]\u001b[0m\n"
     ]
    },
    {
     "name": "stderr",
     "output_type": "stream",
     "text": [
      "\u001b[36m(ClientAppActor pid=25375)\u001b[0m /Users/macbook/Desktop/L361/L361_Project/.conda/lib/python3.12/site-packages/datasets/utils/_dill.py:385: DeprecationWarning: co_lnotab is deprecated, use co_lines instead.\u001b[32m [repeated 5x across cluster]\u001b[0m\n",
      "\u001b[36m(ClientAppActor pid=25375)\u001b[0m   obj.co_lnotab,  # for < python 3.10 [not counted in args]\u001b[32m [repeated 5x across cluster]\u001b[0m\n"
     ]
    }
   ],
   "source": [
    "# Train FedMOON\n",
    "_, _, testloader = load_datasets(0, NUM_PARTITIONS)\n",
    "net = MoonNet().to(DEVICE)\n",
    "evaluate_fn = get_evaluate_fn_moon(testloader, net)\n",
    "\n",
    "def server_fn(context: Context) -> ServerAppComponents:\n",
    "    # Configure the server for just 3 rounds of training\n",
    "    config = ServerConfig(num_rounds=NUM_OF_ROUNDS)\n",
    "    return ServerAppComponents(\n",
    "        config=config,\n",
    "        strategy=FedMoonNoFreeze(\n",
    "            evaluate_fn=evaluate_fn\n",
    "        )\n",
    "    )\n",
    "\n",
    "server = ServerApp(server_fn=server_fn)\n",
    "\n",
    "# Run simulation\n",
    "run_simulation(\n",
    "    server_app=server,\n",
    "    client_app=client,\n",
    "    num_supernodes=NUM_PARTITIONS,\n",
    "    backend_config=backend_config,\n",
    ")"
   ]
  },
  {
   "cell_type": "code",
   "execution_count": 30,
   "metadata": {},
   "outputs": [],
   "source": [
    "with open(f'results/fed_moon_results.p', 'wb') as file:\n",
    "    pickle.dump(fed_moon_no_freeze_result, file)\n",
    "\n",
    "with open(f'results/fed_moon_model_results.p', 'wb') as file:\n",
    "    pickle.dump(fed_moon_model_no_freeze_results, file)"
   ]
  },
  {
   "cell_type": "code",
   "execution_count": 21,
   "metadata": {},
   "outputs": [],
   "source": [
    "# fed_moon_rounds = list(fed_moon_no_freeze_result.keys())\n",
    "# fed_moon_sizes = [fed_moon_no_freeze_result[round][\"total_size\"] for round in fed_moon_rounds]\n",
    "\n",
    "# plt.figure(figsize=(10, 5))\n",
    "# plt.plot(fed_avg_rounds, fed_avg_sizes, marker='o', linestyle='-', color='b', label='FedAvg')\n",
    "# plt.plot(fed_part_avg_rounds, fed_part_avg_sizes, marker='o', linestyle='-', color='r', label='FedPartAvg')\n",
    "# plt.plot(fed_prox_rounds, fed_prox_sizes, marker='o', linestyle='-', color='g', label='FedProx')\n",
    "# plt.plot(fed_part_prox_rounds, fed_part_prox_sizes, marker='o', linestyle='-', color='y', label='FedPartProx')\n",
    "# plt.plot(fed_moon_rounds, fed_moon_sizes, marker='o', linestyle='-', color='c', label='FedMoon')\n",
    "# plt.plot(fed_part_moon_rounds, fed_part_moon_sizes, marker='o', linestyle='-', color='purple', label='FedPartMoon')\n",
    "# plt.xlabel('Round')\n",
    "# plt.ylabel('Communication Cost (bytes)')\n",
    "# plt.title('Communication Cost for Each Round')\n",
    "# plt.legend()\n",
    "# plt.grid(True)\n",
    "\n",
    "# fed_moon_losses = [fed_moon_no_freeze_result[round][\"total_loss\"] for round in fed_moon_rounds]\n",
    "\n",
    "# plt.figure(figsize=(10, 5))\n",
    "# plt.plot(fed_avg_rounds, fed_avg_losses, marker='o', linestyle='-', color='b', label='FedAvg')\n",
    "# plt.plot(fed_part_avg_rounds, fed_part_avg_losses, marker='o', linestyle='-', color='r', label='FedPartAvg')\n",
    "# plt.plot(fed_prox_rounds, fed_prox_losses, marker='o', linestyle='-', color='g', label='FedProx')\n",
    "# plt.plot(fed_part_prox_rounds, fed_part_prox_losses, marker='o', linestyle='-', color='y', label='FedPartProx')\n",
    "# plt.plot(fed_moon_rounds, fed_moon_losses, marker='o', linestyle='-', color='c', label='FedMoon')\n",
    "# plt.plot(fed_part_moon_rounds, fed_part_moon_losses, marker='o', linestyle='-', color='purple', label='FedPartMoon')\n",
    "\n",
    "# plt.xlabel('Round')\n",
    "# plt.ylabel('Loss')\n",
    "# plt.title('Aggregate Client Loss for Each Round')\n",
    "# plt.legend()\n",
    "# plt.grid(True)\n",
    "\n",
    "# fed_moon_model_rounds = list(fed_moon_model_no_freeze_results.keys())\n",
    "# fed_moon_accuracies = [fed_moon_model_no_freeze_results[round][\"global_metrics\"][\"accuracy\"] for round in fed_moon_model_rounds]\n",
    "\n",
    "# plt.figure(figsize=(10, 5))\n",
    "# plt.plot(fed_avg_model_rounds, fed_avg_accuracies, marker='o', linestyle='-', color='b', label='FedAvg')\n",
    "# plt.plot(fed_part_avg_model_rounds, fed_part_avg_accuracies, marker='o', linestyle='-', color='r', label='FedPartAvg')\n",
    "# plt.plot(fed_prox_model_rounds, fed_prox_accuracies, marker='o', linestyle='-', color='g', label='FedProx')\n",
    "# plt.plot(fed_part_prox_model_rounds, fed_part_prox_accuracies, marker='o', linestyle='-', color='y', label='FedPartProx')\n",
    "# plt.plot(fed_moon_model_rounds, fed_moon_accuracies, marker='o', linestyle='-', color='c', label='FedMoon')\n",
    "# plt.plot(fed_part_moon_model_rounds, fed_part_moon_accuracies, marker='o', linestyle='-', color='purple', label='FedPartMoon')\n",
    "# plt.xlabel('Round')\n",
    "# plt.ylabel('Accuracy')\n",
    "# plt.title('Global Model Accuracy for Each Round')\n",
    "# plt.legend()\n",
    "# plt.grid(True)\n",
    "\n",
    "# fed_moon_global_losses = [fed_moon_model_no_freeze_results[round][\"global_loss\"] for round in fed_moon_model_rounds]\n",
    "\n",
    "# plt.figure(figsize=(10, 5))\n",
    "# plt.plot(fed_avg_model_rounds, fed_avg_global_losses, marker='o', linestyle='-', color='b', label='FedAvg')\n",
    "# plt.plot(fed_part_avg_model_rounds, fed_part_avg_global_losses, marker='o', linestyle='-', color='r', label='FedPartAvg')\n",
    "# plt.plot(fed_prox_model_rounds, fed_prox_global_losses, marker='o', linestyle='-', color='g', label='FedProx')\n",
    "# plt.plot(fed_part_prox_model_rounds, fed_part_prox_global_losses, marker='o', linestyle='-', color='y', label='FedPartProx')\n",
    "# plt.plot(fed_moon_model_rounds, fed_moon_global_losses, marker='o', linestyle='-', color='c', label='FedMoon')\n",
    "# plt.plot(fed_part_moon_model_rounds, fed_part_moon_global_losses, marker='o', linestyle='-', color='purple', label='FedPartMoon')\n",
    "# plt.xlabel('Round')\n",
    "# plt.ylabel('Loss')\n",
    "# plt.title('Global Model Loss for Each Round')\n",
    "# plt.legend()\n",
    "# plt.grid(True)\n"
   ]
  }
 ],
 "metadata": {
  "kernelspec": {
   "display_name": "fl_proj",
   "language": "python",
   "name": "python3"
  },
  "language_info": {
   "codemirror_mode": {
    "name": "ipython",
    "version": 3
   },
   "file_extension": ".py",
   "mimetype": "text/x-python",
   "name": "python",
   "nbconvert_exporter": "python",
   "pygments_lexer": "ipython3",
   "version": "3.9.18"
  }
 },
 "nbformat": 4,
 "nbformat_minor": 2
}
