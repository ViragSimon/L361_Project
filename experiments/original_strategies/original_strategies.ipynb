{
 "cells": [
  {
   "cell_type": "code",
   "execution_count": 1,
   "metadata": {},
   "outputs": [
    {
     "name": "stdout",
     "output_type": "stream",
     "text": [
      "Requirement already satisfied: ipywidgets in /Users/macbook/Desktop/L361/L361_Project/.conda/lib/python3.12/site-packages (8.1.5)\n",
      "Requirement already satisfied: comm>=0.1.3 in /Users/macbook/Desktop/L361/L361_Project/.conda/lib/python3.12/site-packages (from ipywidgets) (0.2.2)\n",
      "Requirement already satisfied: ipython>=6.1.0 in /Users/macbook/Desktop/L361/L361_Project/.conda/lib/python3.12/site-packages (from ipywidgets) (8.32.0)\n",
      "Requirement already satisfied: traitlets>=4.3.1 in /Users/macbook/Desktop/L361/L361_Project/.conda/lib/python3.12/site-packages (from ipywidgets) (5.14.3)\n",
      "Requirement already satisfied: widgetsnbextension~=4.0.12 in /Users/macbook/Desktop/L361/L361_Project/.conda/lib/python3.12/site-packages (from ipywidgets) (4.0.13)\n",
      "Requirement already satisfied: jupyterlab-widgets~=3.0.12 in /Users/macbook/Desktop/L361/L361_Project/.conda/lib/python3.12/site-packages (from ipywidgets) (3.0.13)\n",
      "Requirement already satisfied: decorator in /Users/macbook/Desktop/L361/L361_Project/.conda/lib/python3.12/site-packages (from ipython>=6.1.0->ipywidgets) (5.2.0)\n",
      "Requirement already satisfied: jedi>=0.16 in /Users/macbook/Desktop/L361/L361_Project/.conda/lib/python3.12/site-packages (from ipython>=6.1.0->ipywidgets) (0.19.2)\n",
      "Requirement already satisfied: matplotlib-inline in /Users/macbook/Desktop/L361/L361_Project/.conda/lib/python3.12/site-packages (from ipython>=6.1.0->ipywidgets) (0.1.7)\n",
      "Requirement already satisfied: pexpect>4.3 in /Users/macbook/Desktop/L361/L361_Project/.conda/lib/python3.12/site-packages (from ipython>=6.1.0->ipywidgets) (4.9.0)\n",
      "Requirement already satisfied: prompt_toolkit<3.1.0,>=3.0.41 in /Users/macbook/Desktop/L361/L361_Project/.conda/lib/python3.12/site-packages (from ipython>=6.1.0->ipywidgets) (3.0.50)\n",
      "Requirement already satisfied: pygments>=2.4.0 in /Users/macbook/Desktop/L361/L361_Project/.conda/lib/python3.12/site-packages (from ipython>=6.1.0->ipywidgets) (2.19.1)\n",
      "Requirement already satisfied: stack_data in /Users/macbook/Desktop/L361/L361_Project/.conda/lib/python3.12/site-packages (from ipython>=6.1.0->ipywidgets) (0.6.3)\n",
      "Requirement already satisfied: parso<0.9.0,>=0.8.4 in /Users/macbook/Desktop/L361/L361_Project/.conda/lib/python3.12/site-packages (from jedi>=0.16->ipython>=6.1.0->ipywidgets) (0.8.4)\n",
      "Requirement already satisfied: ptyprocess>=0.5 in /Users/macbook/Desktop/L361/L361_Project/.conda/lib/python3.12/site-packages (from pexpect>4.3->ipython>=6.1.0->ipywidgets) (0.7.0)\n",
      "Requirement already satisfied: wcwidth in /Users/macbook/Desktop/L361/L361_Project/.conda/lib/python3.12/site-packages (from prompt_toolkit<3.1.0,>=3.0.41->ipython>=6.1.0->ipywidgets) (0.2.13)\n",
      "Requirement already satisfied: executing>=1.2.0 in /Users/macbook/Desktop/L361/L361_Project/.conda/lib/python3.12/site-packages (from stack_data->ipython>=6.1.0->ipywidgets) (2.1.0)\n",
      "Requirement already satisfied: asttokens>=2.1.0 in /Users/macbook/Desktop/L361/L361_Project/.conda/lib/python3.12/site-packages (from stack_data->ipython>=6.1.0->ipywidgets) (3.0.0)\n",
      "Requirement already satisfied: pure_eval in /Users/macbook/Desktop/L361/L361_Project/.conda/lib/python3.12/site-packages (from stack_data->ipython>=6.1.0->ipywidgets) (0.2.3)\n",
      "Requirement already satisfied: numpy==1.26.4 in /Users/macbook/Desktop/L361/L361_Project/.conda/lib/python3.12/site-packages (1.26.4)\n",
      "Requirement already satisfied: urllib3==1.26.6 in /Users/macbook/Desktop/L361/L361_Project/.conda/lib/python3.12/site-packages (1.26.6)\n"
     ]
    }
   ],
   "source": [
    "! pip install -q flwr[simulation] flwr-datasets[vision] torch torchvision matplotlib\n",
    "! pip install -U ipywidgets\n",
    "! pip install numpy==1.26.4\n",
    "! pip install urllib3==1.26.6"
   ]
  },
  {
   "cell_type": "code",
   "execution_count": 2,
   "metadata": {},
   "outputs": [
    {
     "name": "stdout",
     "output_type": "stream",
     "text": [
      "Training on cpu\n",
      "Flower 1.15.2 / PyTorch 2.6.0\n"
     ]
    }
   ],
   "source": [
    "from collections import OrderedDict\n",
    "from typing import Dict, List, Optional, Tuple, Union, Callable\n",
    "import pickle\n",
    "\n",
    "import matplotlib.pyplot as plt\n",
    "import numpy as np\n",
    "import torch\n",
    "import torch.nn as nn\n",
    "import copy\n",
    "import torch.nn.functional as F\n",
    "import torchvision.transforms as transforms\n",
    "from datasets.utils.logging import disable_progress_bar\n",
    "from torch.utils.data import DataLoader\n",
    "from flwr.server.strategy import Strategy\n",
    "import flwr\n",
    "from flwr.client import Client, ClientApp, NumPyClient\n",
    "from flwr.common import Metrics, Context, Status, GetParametersRes, Parameters, GetParametersIns, MetricsAggregationFn,NDArrays,Scalar\n",
    "from flwr.server import ServerApp, ServerConfig, ServerAppComponents \n",
    "from flwr.server.strategy import FedAvg, FedProx\n",
    "from flwr.simulation import run_simulation\n",
    "from flwr_datasets import FederatedDataset\n",
    "from flwr.common import (\n",
    "    EvaluateIns,\n",
    "    EvaluateRes,\n",
    "    FitIns,\n",
    "    FitRes,\n",
    "    Parameters,\n",
    "    Scalar,\n",
    "    ndarrays_to_parameters,\n",
    "    parameters_to_ndarrays,\n",
    "    ParametersRecord,\n",
    "    array_from_numpy\n",
    ")\n",
    "from flwr.server.client_manager import ClientManager\n",
    "from flwr.server.client_proxy import ClientProxy\n",
    "from flwr.server.strategy.aggregate import aggregate, weighted_loss_avg\n",
    "\n",
    "DEVICE = \"cuda\" if torch.cuda.is_available() else \"cpu\"\n",
    "print(f\"Training on {DEVICE}\")\n",
    "print(f\"Flower {flwr.__version__} / PyTorch {torch.__version__}\")\n",
    "disable_progress_bar()"
   ]
  },
  {
   "cell_type": "code",
   "execution_count": 3,
   "metadata": {},
   "outputs": [],
   "source": [
    "\n",
    "BATCH_SIZE = 32\n",
    "\n",
    "def load_datasets(partition_id, num_partitions: int):\n",
    "    fds = FederatedDataset(dataset=\"cifar10\", partitioners={\"train\": num_partitions})\n",
    "    partition = fds.load_partition(partition_id)\n",
    "    # Divide data on each node: 80% train, 20% test\n",
    "    partition_train_test = partition.train_test_split(test_size=0.2, seed=42)\n",
    "    pytorch_transforms = transforms.Compose(\n",
    "        [transforms.ToTensor(), transforms.Normalize((0.5, 0.5, 0.5), (0.5, 0.5, 0.5))]\n",
    "    )\n",
    "\n",
    "    def apply_transforms(batch):\n",
    "        \n",
    "        batch[\"img\"] = [pytorch_transforms(img) for img in batch[\"img\"]]\n",
    "        return batch\n",
    "\n",
    "    partition_train_test = partition_train_test.with_transform(apply_transforms)\n",
    "    trainloader = DataLoader(partition_train_test[\"train\"], batch_size=32, shuffle=True)\n",
    "    valloader = DataLoader(partition_train_test[\"test\"], batch_size=32)\n",
    "    testset = fds.load_split(\"test\").with_transform(apply_transforms)\n",
    "    testloader = DataLoader(testset, batch_size=32)\n",
    "    return trainloader, valloader, testloader"
   ]
  },
  {
   "cell_type": "code",
   "execution_count": 4,
   "metadata": {},
   "outputs": [],
   "source": [
    "class Net(nn.Module):\n",
    "    def __init__(self) -> None:\n",
    "        super(Net, self).__init__()\n",
    "        self.conv1 = nn.Conv2d(3, 32, kernel_size=3, padding=1)\n",
    "        self.conv2 = nn.Conv2d(32, 64, kernel_size=3, stride=1, padding=1)\n",
    "        self.pool1 = nn.MaxPool2d(2, 2)\n",
    "        self.conv3 = nn.Conv2d(64, 128, kernel_size=3, stride=1, padding=1)\n",
    "        self.conv4 = nn.Conv2d(128, 128, kernel_size=3, stride=1, padding=1)\n",
    "        self.pool2 = nn.MaxPool2d(2, 2)\n",
    "        self.conv5 = nn.Conv2d(128, 256, kernel_size=3, stride=1, padding=1)\n",
    "        self.conv6 = nn.Conv2d(256, 256, kernel_size=3, stride=1, padding=1)\n",
    "        self.pool3 = nn.MaxPool2d(2, 2)\n",
    "        self.fc1 = nn.Linear(256*4*4, 1024)\n",
    "        self.fc2 = nn.Linear(1024, 512)\n",
    "        self.fc3 = nn.Linear(512, 10)\n",
    "        \n",
    "    def forward(self, x: torch.Tensor) -> torch.Tensor:\n",
    "        x = F.relu(self.conv1(x))\n",
    "        x = F.relu(self.conv2(x))\n",
    "        x = self.pool1(x)\n",
    "        x = F.relu(self.conv3(x))\n",
    "        x = F.relu(self.conv4(x))\n",
    "        x = self.pool2(x)\n",
    "        x = F.relu(self.conv5(x))\n",
    "        x = F.relu(self.conv6(x))\n",
    "        x = self.pool3(x)\n",
    "        x = x.view(-1, 256*4*4)\n",
    "        x = F.relu(self.fc1(x))\n",
    "        x = F.relu(self.fc2(x))\n",
    "        x = self.fc3(x)\n",
    "        return x\n",
    "\n",
    "\n",
    "class MoonNet(nn.Module):\n",
    "    \"\"\"Returns both the representation (penultimate layer output) and classification\"\"\"\n",
    "    def __init__(self) -> None:\n",
    "        super(MoonNet, self).__init__()\n",
    "        self.conv1 = nn.Conv2d(3, 32, kernel_size=3, padding=1)\n",
    "        self.conv2 = nn.Conv2d(32, 64, kernel_size=3, stride=1, padding=1)\n",
    "        self.pool1 = nn.MaxPool2d(2, 2)\n",
    "        self.conv3 = nn.Conv2d(64, 128, kernel_size=3, stride=1, padding=1)\n",
    "        self.conv4 = nn.Conv2d(128, 128, kernel_size=3, stride=1, padding=1)\n",
    "        self.pool2 = nn.MaxPool2d(2, 2)\n",
    "        self.conv5 = nn.Conv2d(128, 256, kernel_size=3, stride=1, padding=1)\n",
    "        self.conv6 = nn.Conv2d(256, 256, kernel_size=3, stride=1, padding=1)\n",
    "        self.pool3 = nn.MaxPool2d(2, 2)\n",
    "        self.fc1 = nn.Linear(256*4*4, 1024)\n",
    "        self.fc2 = nn.Linear(1024, 512)\n",
    "        self.fc3 = nn.Linear(512, 10)\n",
    "\n",
    "    def forward(self, x: torch.Tensor) -> torch.Tensor:\n",
    "        x = F.relu(self.conv1(x))\n",
    "        x = F.relu(self.conv2(x))\n",
    "        x = self.pool1(x)\n",
    "        x = F.relu(self.conv3(x))\n",
    "        x = F.relu(self.conv4(x))\n",
    "        x = self.pool2(x)\n",
    "        x = F.relu(self.conv5(x))\n",
    "        x = F.relu(self.conv6(x))\n",
    "        x = self.pool3(x)\n",
    "        x = x.view(-1, 256*4*4)\n",
    "        x = F.relu(self.fc1(x))\n",
    "        x = F.relu(self.fc2(x))\n",
    "        representation = x.clone()\n",
    "        classification = self.fc3(x)\n",
    "        return representation, classification\n",
    "\n",
    "def get_parameters(net) -> List[np.ndarray]:\n",
    "    return [val.cpu().numpy() for _, val in net.state_dict().items()]\n",
    "\n",
    "\n",
    "def set_parameters(net, parameters, trainable_layers=-1):\n",
    "    \"\"\"Set model parameters from a list of NumPy arrays.\"\"\"\n",
    "    current_state = OrderedDict(net.state_dict())\n",
    "    \n",
    "    if trainable_layers == -1:\n",
    "        # Update all parameters\n",
    "        params_dict = zip(current_state.keys(), parameters)\n",
    "        state_dict = OrderedDict({k: torch.Tensor(v) for k, v in params_dict})\n",
    "        net.load_state_dict(state_dict, strict=True)\n",
    "    else:\n",
    "        # Only update the specified layer's parameters\n",
    "        # Convert current state to numpy arrays\n",
    "        numpy_state = [param.cpu().numpy() for param in current_state.values()]\n",
    "        \n",
    "        # Update the specific indices with new parameters\n",
    "        numpy_state[trainable_layers*2] = parameters[0]\n",
    "        numpy_state[trainable_layers*2 + 1] = parameters[1]\n",
    "        \n",
    "        # Convert back to torch and update state dict\n",
    "        for idx, key in enumerate(current_state.keys()):\n",
    "            current_state[key] = torch.from_numpy(numpy_state[idx])\n",
    "        \n",
    "        net.load_state_dict(current_state, strict=True)\n",
    "\n",
    "\n",
    "# def set_parameters(net, parameters: List[np.ndarray]):\n",
    "#     params_dict = zip(net.state_dict().keys(), parameters)\n",
    "#     state_dict = OrderedDict({k: torch.Tensor(v) for k, v in params_dict})\n",
    "#     net.load_state_dict(state_dict, strict=True)\n",
    "\n",
    "def train(net, trainloader, epochs: int):\n",
    "    \"\"\"Train the network on the training set.\"\"\"\n",
    "    criterion = torch.nn.CrossEntropyLoss()\n",
    "    optimizer = torch.optim.Adam(net.parameters(),betas=(0.999,0.999))\n",
    "    net.train()\n",
    "    for epoch in range(epochs):\n",
    "        correct, total, epoch_loss = 0, 0, 0.0\n",
    "        for batch in trainloader:\n",
    "            images, labels = batch[\"img\"], batch[\"label\"]\n",
    "            images, labels = images.to(DEVICE), labels.to(DEVICE)\n",
    "            optimizer.zero_grad()\n",
    "            outputs = net(images)\n",
    "            loss = criterion(net(images), labels)\n",
    "            loss.backward()\n",
    "            optimizer.step()\n",
    "            # Metrics\n",
    "            epoch_loss += loss\n",
    "            total += labels.size(0)\n",
    "            correct += (torch.max(outputs.data, 1)[1] == labels).sum().item()\n",
    "        epoch_loss /= len(trainloader.dataset)\n",
    "        epoch_acc = correct / total\n",
    "        print(f\"Epoch {epoch+1}: train loss {epoch_loss}, accuracy {epoch_acc}\")\n",
    "        \n",
    "def proxima_train(net, trainloader, epochs: int, proximal_mu:float, global_params:List[torch.Tensor]):\n",
    "    \"\"\"Train the network on the training set.\"\"\"\n",
    "    criterion = torch.nn.CrossEntropyLoss()\n",
    "    optimizer = torch.optim.Adam(net.parameters())\n",
    "    net.train()\n",
    "    for epoch in range(epochs):\n",
    "        correct, total, epoch_loss = 0, 0, 0.0\n",
    "        for batch in trainloader:\n",
    "            images, labels = batch[\"img\"], batch[\"label\"]\n",
    "            images, labels = images.to(DEVICE), labels.to(DEVICE)\n",
    "            optimizer.zero_grad()\n",
    "            outputs = net(images)\n",
    "\n",
    "            proximal_term = 0.0\n",
    "            for local_weights, global_weights in zip(net.parameters(), global_params):\n",
    "                proximal_term += (local_weights - global_weights).norm(2)\n",
    "            loss = criterion(net(images), labels) + (proximal_mu / 2) * proximal_term\n",
    "\n",
    "\n",
    "            loss.backward()\n",
    "            optimizer.step()\n",
    "            \n",
    "            epoch_loss += loss\n",
    "            total += labels.size(0)\n",
    "            correct += (torch.max(outputs.data, 1)[1] == labels).sum().item()\n",
    "        epoch_loss /= len(trainloader.dataset)\n",
    "        epoch_acc = correct / total\n",
    "        print(f\"Epoch {epoch+1}: train loss {epoch_loss}, accuracy {epoch_acc}\")\n",
    "\n",
    "\n",
    "def train_moon(net,train_loader, global_net,previous_net, epochs, mu, temperature):\n",
    "    \"\"\"Training function for MOON.\"\"\"\n",
    "    print(f\"Started training moon\")\n",
    "    criterion = torch.nn.CrossEntropyLoss()\n",
    "    optimizer = torch.optim.Adam(net.parameters())\n",
    "\n",
    "    previous_net.eval()\n",
    "    global_net.eval()\n",
    "\n",
    "    cnt = 0\n",
    "    cos = torch.nn.CosineSimilarity(dim=-1)\n",
    "\n",
    "    for epoch in range(epochs):\n",
    "        epoch_loss_collector = []\n",
    "        epoch_loss1_collector = []\n",
    "        epoch_loss2_collector = []\n",
    "        for batch in train_loader:\n",
    "            x, target = batch[\"img\"], batch[\"label\"]\n",
    "            x, target = x.to(DEVICE), target.to(DEVICE)\n",
    "            optimizer.zero_grad()\n",
    "\n",
    "            # pro1 is the representation by the current model (Line 14 of Algorithm 1)\n",
    "            pro1, out = net(x)\n",
    "            # pro2 is the representation by the global model (Line 15 of Algorithm 1)\n",
    "            # pro3 is the representation by the previous model (Line 16 of Algorithm 1)\n",
    "            with torch.no_grad():\n",
    "                pro2, _ = global_net(x)\n",
    "                pro3, _ = previous_net(x)\n",
    "\n",
    "            # posi is the positive pair\n",
    "            posi = cos(pro1, pro2)\n",
    "            logits = posi.reshape(-1, 1)\n",
    "\n",
    "            # nega is the negative pair\n",
    "            nega = cos(pro1, pro3)\n",
    "            logits = torch.cat((logits, nega.reshape(-1, 1)), dim=1)\n",
    "\n",
    "            previous_net.to(\"cpu\")\n",
    "            logits /= temperature\n",
    "            labels = torch.zeros(x.size(0)).to(DEVICE).long()\n",
    "\n",
    "            # compute the model-contrastive loss (Line 17 of Algorithm 1)\n",
    "            loss2 = mu * criterion(logits, labels)\n",
    "\n",
    "            # compute the cross-entropy loss (Line 13 of Algorithm 1)\n",
    "            loss1 = criterion(out, target)\n",
    "\n",
    "            # compute the loss (Line 18 of Algorithm 1)\n",
    "            loss = loss1 + loss2\n",
    "\n",
    "            loss.backward()\n",
    "            optimizer.step()\n",
    "\n",
    "            cnt += 1\n",
    "            epoch_loss_collector.append(loss.item())\n",
    "            epoch_loss1_collector.append(loss1.item())\n",
    "            epoch_loss2_collector.append(loss2.item())\n",
    "\n",
    "        epoch_loss = sum(epoch_loss_collector) / len(epoch_loss_collector)\n",
    "        epoch_loss1 = sum(epoch_loss1_collector) / len(epoch_loss1_collector)\n",
    "        epoch_loss2 = sum(epoch_loss2_collector) / len(epoch_loss2_collector)\n",
    "        print(\n",
    "            \"Epoch: %d Loss: %f Loss1: %f Loss2: %f\"\n",
    "            % (epoch, epoch_loss, epoch_loss1, epoch_loss2)\n",
    "        )\n",
    "\n",
    "\n",
    "def test_moon(net, testloader):\n",
    "    \"\"\"\n",
    "    Evaluate the network on the entire test set.\n",
    "    Same as the regular test, but using the MoonNet \n",
    "    (where the output is a tuple of (representation, classification) )\n",
    "    \"\"\"\n",
    "    criterion = torch.nn.CrossEntropyLoss()\n",
    "    correct, total, loss = 0, 0, 0.0\n",
    "    net.eval()\n",
    "    with torch.no_grad():\n",
    "        for batch in testloader:\n",
    "            images, labels = batch[\"img\"], batch[\"label\"]\n",
    "            images, labels = images.to(DEVICE), labels.to(DEVICE)\n",
    "            _, outputs = net(images)\n",
    "            loss += criterion(outputs, labels).item()\n",
    "            _, predicted = torch.max(outputs.data, 1)\n",
    "            total += labels.size(0)\n",
    "            correct += (predicted == labels).sum().item()\n",
    "    loss /= len(testloader.dataset)\n",
    "    accuracy = correct / total\n",
    "    return loss, accuracy\n",
    "\n",
    "\n",
    "\n",
    "\n",
    "def test(net, testloader):\n",
    "    \"\"\"Evaluate the network on the entire test set.\"\"\"\n",
    "    criterion = torch.nn.CrossEntropyLoss()\n",
    "    correct, total, loss = 0, 0, 0.0\n",
    "    net.eval()\n",
    "    with torch.no_grad():\n",
    "        for batch in testloader:\n",
    "            images, labels = batch[\"img\"], batch[\"label\"]\n",
    "            images, labels = images.to(DEVICE), labels.to(DEVICE)\n",
    "            outputs = net(images)\n",
    "            loss += criterion(outputs, labels).item()\n",
    "            _, predicted = torch.max(outputs.data, 1)\n",
    "            total += labels.size(0)\n",
    "            correct += (predicted == labels).sum().item()\n",
    "    loss /= len(testloader.dataset)\n",
    "    accuracy = correct / total\n",
    "    return loss, accuracy\n",
    "\n",
    "# def freeze_layers(model: torch.nn.Module, trainable_layers: int) -> None:\n",
    "#         \"\"\"Freeze specified layers of the model.\"\"\"\n",
    "#         for idx, (name, param) in enumerate(model.named_parameters()):\n",
    "#             if idx == trainable_layers or trainable_layers == -1:\n",
    "#                 param.requires_grad = True\n",
    "#             else:\n",
    "#                 param.requires_grad = False\n",
    "\n",
    "\n",
    "\n",
    "def freeze_layers(model: torch.nn.Module, trainable_layers: int) -> None:\n",
    "        \"\"\"Freeze specified layers of the model.\"\"\"\n",
    "        trainable_layers_set = []\n",
    "        if trainable_layers == -1:\n",
    "            trainable_layers_set = [-1]\n",
    "        else:\n",
    "            trainable_layers_set = [trainable_layers *2, trainable_layers *2 +1]\n",
    "\n",
    "        for idx, (name, param) in enumerate(model.named_parameters()):\n",
    "            \n",
    "            if idx in trainable_layers_set or trainable_layers_set[0] == -1:\n",
    "                param.requires_grad = True\n",
    "                print(f\"layer index is {idx} and name{name} is trainabe\")\n",
    "            else:\n",
    "                param.requires_grad = False\n",
    "                print(f\"layer index is {idx} and name{name} is frozen\")\n",
    "\n",
    "\n"
   ]
  },
  {
   "cell_type": "code",
   "execution_count": 5,
   "metadata": {},
   "outputs": [
    {
     "name": "stdout",
     "output_type": "stream",
     "text": [
      "Number of rounds: 23\n"
     ]
    }
   ],
   "source": [
    "\n",
    "NETWORK_LEN = len(Net().state_dict().keys()) //2 \n",
    "EPOCHS = 8\n",
    "NUM_PARTITIONS = 6\n",
    "NUM_OF_CYCLES  = 1\n",
    "NUM_OF_FULL_UPDATES_BETWEEN_CYCLES = 5\n",
    "NUM_OF_ROUNDS = (NUM_OF_CYCLES * NUM_OF_FULL_UPDATES_BETWEEN_CYCLES) + (NUM_OF_CYCLES * NETWORK_LEN *2)\n",
    "print(f\"Number of rounds: {NUM_OF_ROUNDS}\")\n",
    "backend_config = {\"client_resources\": {\"num_cpus\": 1, \"num_gpus\": 0.0}}\n"
   ]
  },
  {
   "cell_type": "code",
   "execution_count": 6,
   "metadata": {},
   "outputs": [],
   "source": [
    "from flwr.common import NDArrays, Scalar\n",
    "import sys\n",
    "def get_evaluate_fn(\n",
    "    testloader: DataLoader,\n",
    "    net: torch.nn.Module,\n",
    ") -> Callable[[int, NDArrays, Dict[str, Scalar]], Optional[Tuple[float, Dict[str, Scalar]]]]:\n",
    "    \"\"\"Return an evaluation function for server-side evaluation.\"\"\"\n",
    "\n",
    "    def evaluate(\n",
    "        server_round: int, parameters: NDArrays, config: Dict[str, Scalar]\n",
    "    ) -> Optional[Tuple[float, Dict[str, Scalar]]]:\n",
    "        \"\"\"Use the entire test set for evaluation.\"\"\"\n",
    "        \n",
    "        # Copy model parameters to avoid modifying the original\n",
    "        net_copy = copy.deepcopy(net)\n",
    "        \n",
    "        # Update model with the latest parameters\n",
    "        params_dict = zip(net_copy.state_dict().keys(), parameters)\n",
    "        state_dict = OrderedDict({k: torch.tensor(v) for k, v in params_dict})\n",
    "        net_copy.load_state_dict(state_dict, strict=True)\n",
    "        \n",
    "        net_copy.to(DEVICE)\n",
    "        net_copy.eval()\n",
    "\n",
    "        # Test the model\n",
    "        loss, accuracy = test(net_copy, testloader)\n",
    "        \n",
    "        # Return loss and metrics\n",
    "        return loss, {\"accuracy\": accuracy}\n",
    "\n",
    "    return evaluate\n",
    "\n",
    "\n",
    "\n",
    "def get_evaluate_fn_moon(\n",
    "    testloader: DataLoader,\n",
    "    net: torch.nn.Module,\n",
    ") -> Callable[[int, NDArrays, Dict[str, Scalar]], Optional[Tuple[float, Dict[str, Scalar]]]]:\n",
    "    \"\"\"Return an evaluation function for server-side evaluation.\"\"\"\n",
    "\n",
    "    def evaluate(\n",
    "        server_round: int, parameters: NDArrays, config: Dict[str, Scalar]\n",
    "    ) -> Optional[Tuple[float, Dict[str, Scalar]]]:\n",
    "        \"\"\"Use the entire test set for evaluation.\"\"\"\n",
    "        \n",
    "        # Copy model parameters to avoid modifying the original\n",
    "        net_copy = copy.deepcopy(net)\n",
    "        \n",
    "        # Update model with the latest parameters\n",
    "        params_dict = zip(net_copy.state_dict().keys(), parameters)\n",
    "        state_dict = OrderedDict({k: torch.tensor(v) for k, v in params_dict})\n",
    "        net_copy.load_state_dict(state_dict, strict=True)\n",
    "        \n",
    "        net_copy.to(DEVICE)\n",
    "        net_copy.eval()\n",
    "\n",
    "        # Test the model\n",
    "        loss, accuracy = test_moon(net_copy, testloader)\n",
    "        \n",
    "        # Return loss and metrics\n",
    "        return loss, {\"accuracy\": accuracy}\n",
    "\n",
    "    return evaluate\n",
    "\n",
    "\n",
    "def get_parameters_size(params: Parameters) -> int:\n",
    "    size = sys.getsizeof(params)  # Base size of the dataclass instance\n",
    "    size += sys.getsizeof(params.tensor_type)  # Size of the string\n",
    "    size += sys.getsizeof(params.tensors)  # Size of the list container\n",
    "    size += sum(sys.getsizeof(tensor) for tensor in params.tensors)  # Size of each bytes object\n",
    "    return size\n"
   ]
  },
  {
   "cell_type": "markdown",
   "metadata": {},
   "source": [
    "# Normal FedAvg"
   ]
  },
  {
   "cell_type": "code",
   "execution_count": 7,
   "metadata": {},
   "outputs": [],
   "source": [
    "from typing import Union\n",
    "\n",
    "\n",
    "from flwr.common import (\n",
    "    EvaluateIns,\n",
    "    EvaluateRes,\n",
    "    FitIns,\n",
    "    FitRes,\n",
    "    Parameters,\n",
    "    Scalar,\n",
    "    ndarrays_to_parameters,\n",
    "    parameters_to_ndarrays,\n",
    ")\n",
    "from flwr.server.client_manager import ClientManager\n",
    "from flwr.server.client_proxy import ClientProxy\n",
    "from flwr.server.strategy.aggregate import aggregate, weighted_loss_avg\n",
    "\n",
    "\n",
    "fed_avg_result = {}\n",
    "fed_avg_model_results = {}\n",
    "\n",
    "class ModifiedFedAvg(Strategy):\n",
    "    def __init__(\n",
    "        self,\n",
    "        fraction_fit: float = 1.0,\n",
    "        fraction_evaluate: float = 1.0,\n",
    "        min_fit_clients: int = 2,\n",
    "        min_evaluate_clients: int = 2,\n",
    "        min_available_clients: int = 2,\n",
    "        evaluate_fn: Optional[\n",
    "            Callable[\n",
    "                [int, NDArrays, dict[str, Scalar]],\n",
    "                Optional[tuple[float, dict[str, Scalar]]],\n",
    "            ]\n",
    "        ] = None,\n",
    "        on_fit_config_fn: Optional[Callable[[int], dict[str, Scalar]]] = None,\n",
    "        on_evaluate_config_fn: Optional[Callable[[int], dict[str, Scalar]]] = None,\n",
    "        accept_failures: bool = True,\n",
    "        initial_parameters: Optional[Parameters] = None,\n",
    "        fit_metrics_aggregation_fn: Optional[MetricsAggregationFn] = None,\n",
    "        evaluate_metrics_aggregation_fn: Optional[MetricsAggregationFn] = None,\n",
    "        inplace: bool = True,\n",
    "        layer_update_strategy: str = \"sequential\",\n",
    "        \n",
    "    ) -> None:\n",
    "        super().__init__()\n",
    "        self.fraction_fit = fraction_fit\n",
    "        self.fraction_evaluate = fraction_evaluate\n",
    "        self.min_fit_clients = min_fit_clients\n",
    "        self.min_evaluate_clients = min_evaluate_clients\n",
    "        self.min_available_clients = min_available_clients\n",
    "        self.evaluate_fn = evaluate_fn\n",
    "        self.on_fit_config_fn = on_fit_config_fn\n",
    "        self.on_evaluate_config_fn = on_evaluate_config_fn\n",
    "        self.accept_failures = accept_failures\n",
    "        self.initial_parameters = initial_parameters\n",
    "        self.fit_metrics_aggregation_fn = fit_metrics_aggregation_fn\n",
    "        self.evaluate_metrics_aggregation_fn = evaluate_metrics_aggregation_fn\n",
    "        self.inplace = inplace\n",
    "\n",
    "\n",
    "    def __repr__(self) -> str:\n",
    "        return \"FedPartAvg\"\n",
    "    \n",
    "\n",
    "    def num_fit_clients(self, num_available_clients: int) -> Tuple[int, int]:\n",
    "        \"\"\"Return sample size and required number of clients.\"\"\"\n",
    "        num_clients = int(num_available_clients * self.fraction_fit)\n",
    "        return max(num_clients, self.min_fit_clients), self.min_available_clients\n",
    "\n",
    "    def num_evaluation_clients(self, num_available_clients: int) -> Tuple[int, int]:\n",
    "        \"\"\"Use a fraction of available clients for evaluation.\"\"\"\n",
    "        num_clients = int(num_available_clients * self.fraction_evaluate)\n",
    "        return max(num_clients, self.min_evaluate_clients), self.min_available_clients\n",
    "    \n",
    "   \n",
    "    def initialize_parameters(\n",
    "        self, client_manager: ClientManager\n",
    "    ) -> Optional[Parameters]:\n",
    "        \"\"\"Initialize global model parameters.\"\"\"\n",
    "        net = Net()\n",
    "        ndarrays = get_parameters(net)\n",
    "        return ndarrays_to_parameters(ndarrays)\n",
    "    \n",
    "\n",
    "\n",
    "    def evaluate(\n",
    "        self, server_round: int, parameters: Parameters\n",
    "    ) -> Optional[tuple[float, dict[str, Scalar]]]:\n",
    "        \"\"\"Evaluate model parameters using an evaluation function.\"\"\"\n",
    "        if self.evaluate_fn is None:\n",
    "            # No evaluation function provided\n",
    "            return None\n",
    "        parameters_ndarrays = parameters_to_ndarrays(parameters)\n",
    "        eval_res = self.evaluate_fn(server_round, parameters_ndarrays, {})\n",
    "        if eval_res is None:\n",
    "            return None\n",
    "        loss, metrics = eval_res\n",
    "\n",
    "        if server_round in fed_avg_model_results:\n",
    "            expand_fed_avg_result= {**fed_avg_model_results[server_round], \"global_loss\": loss, \"global_metrics\": metrics}\n",
    "        else:\n",
    "            expand_fed_avg_result= {\"global_loss\": loss, \"global_metrics\": metrics}\n",
    "\n",
    "        fed_avg_model_results[server_round] = expand_fed_avg_result\n",
    "\n",
    "        return loss, metrics\n",
    "\n",
    "    def configure_fit(\n",
    "        self, server_round: int, parameters: Parameters, client_manager: ClientManager\n",
    "    ) -> List[Tuple[ClientProxy, FitIns]]:\n",
    "        \"\"\"Configure the next round of training.\"\"\"\n",
    "        \n",
    "        config = {}\n",
    "        \n",
    "        sample_size, min_num_clients = self.num_fit_clients(\n",
    "            client_manager.num_available()\n",
    "        )\n",
    "        clients = client_manager.sample(\n",
    "            num_clients=sample_size, min_num_clients=min_num_clients\n",
    "        )\n",
    "        \n",
    "        fit_configurations = []\n",
    "        for idx, client in enumerate(clients):\n",
    "            fit_configurations.append((client, FitIns(parameters, config)))\n",
    "\n",
    "        \n",
    "        return fit_configurations\n",
    "    \n",
    "\n",
    "    def configure_evaluate(\n",
    "        self, server_round: int, parameters: Parameters, client_manager: ClientManager\n",
    "    ) -> List[Tuple[ClientProxy, EvaluateIns]]:\n",
    "        \"\"\"Configure the next round of evaluation.\"\"\"\n",
    "        if self.fraction_evaluate == 0.0:\n",
    "            return []\n",
    "        config = {}\n",
    "        evaluate_ins = EvaluateIns(parameters, config)\n",
    "\n",
    "        # Sample clients\n",
    "        sample_size, min_num_clients = self.num_evaluation_clients(\n",
    "            client_manager.num_available()\n",
    "        )\n",
    "        clients = client_manager.sample(\n",
    "            num_clients=sample_size, min_num_clients=min_num_clients\n",
    "        )\n",
    "\n",
    "        # Return client/config pairs\n",
    "        return [(client, evaluate_ins) for client in clients]\n",
    "\n",
    "    def aggregate_fit(\n",
    "        self,\n",
    "        server_round: int,\n",
    "        results: List[Tuple[ClientProxy, FitRes]],\n",
    "        failures: List[Union[Tuple[ClientProxy, FitRes], BaseException]],\n",
    "    ) -> Tuple[Optional[Parameters], Dict[str, Scalar]]:\n",
    "        \"\"\"Aggregate fit results using weighted average.\"\"\"\n",
    "\n",
    "        # get size of parameters in bytes\n",
    "        total_size = 0\n",
    "        for client, fit_res in results:\n",
    "            total_size += get_parameters_size(fit_res.parameters) *2\n",
    "        \n",
    "\n",
    "        if server_round in fed_avg_result:\n",
    "            expand_fed_avg_result= {**fed_avg_result[server_round], \"total_size\": total_size}\n",
    "        else:\n",
    "            expand_fed_avg_result= {\"total_size\": total_size}\n",
    "\n",
    "        fed_avg_result[server_round] = expand_fed_avg_result\n",
    "\n",
    "\n",
    "        weights_results = [\n",
    "            (parameters_to_ndarrays(fit_res.parameters), fit_res.num_examples)\n",
    "            for _, fit_res in results\n",
    "        ]\n",
    "        parameters_aggregated = ndarrays_to_parameters(aggregate(weights_results))\n",
    "        metrics_aggregated = {}\n",
    "        return parameters_aggregated, metrics_aggregated\n",
    "\n",
    "    \n",
    "\n",
    "    def aggregate_evaluate(\n",
    "        self,\n",
    "        server_round: int,\n",
    "        results: List[Tuple[ClientProxy, EvaluateRes]],\n",
    "        failures: List[Union[Tuple[ClientProxy, EvaluateRes], BaseException]],\n",
    "    ) -> Tuple[Optional[float], Dict[str, Scalar]]:\n",
    "        \"\"\"Aggregate evaluation losses using weighted average.\"\"\"\n",
    "\n",
    "        if not results:\n",
    "            return None, {}\n",
    "\n",
    "        total_loss = 0\n",
    "        for _, evaluate_res in results:\n",
    "            total_loss += evaluate_res.loss \n",
    "\n",
    "\n",
    "        if server_round in fed_avg_result:\n",
    "            expand_fed_avg_result= {**fed_avg_result[server_round], \"total_loss\": total_loss}\n",
    "        else:\n",
    "            expand_fed_avg_result= {\"total_loss\": total_loss}\n",
    "\n",
    "        fed_avg_result[server_round] = expand_fed_avg_result\n",
    "\n",
    "        loss_aggregated = weighted_loss_avg(\n",
    "            [\n",
    "                (evaluate_res.num_examples, evaluate_res.loss)\n",
    "                for _, evaluate_res in results\n",
    "            ]\n",
    "        )\n",
    "        metrics_aggregated = {}\n",
    "        return loss_aggregated, metrics_aggregated"
   ]
  },
  {
   "cell_type": "code",
   "execution_count": 8,
   "metadata": {},
   "outputs": [],
   "source": [
    "class NormalFlowerClient(NumPyClient):\n",
    "    def __init__(self, partition_id, net, trainloader, valloader):\n",
    "        self.partition_id = partition_id\n",
    "        self.net = net\n",
    "        self.trainloader = trainloader\n",
    "        self.valloader = valloader\n",
    "\n",
    "    def get_parameters(self, config):\n",
    "        print(f\"[Client {self.partition_id}] get_parameters\")\n",
    "        return get_parameters(self.net)\n",
    "\n",
    "    def fit(self, parameters, config):\n",
    "        print(f\"[Client {self.partition_id}] fit, config: {config}\")\n",
    "        set_parameters(self.net, parameters)\n",
    "        train(self.net, self.trainloader, epochs=EPOCHS)\n",
    "        return get_parameters(self.net), len(self.trainloader), {}\n",
    "\n",
    "    def evaluate(self, parameters, config):\n",
    "        print(f\"[Client {self.partition_id}] evaluate, config: {config}\")\n",
    "        set_parameters(self.net, parameters)\n",
    "        loss, accuracy = test(self.net, self.valloader)\n",
    "        return float(loss), len(self.valloader), {\"accuracy\": float(accuracy)}\n",
    "\n",
    "\n",
    "\n",
    "def client_fn(context: Context) -> Client:\n",
    "    net = Net().to(DEVICE)\n",
    "    partition_id = context.node_config[\"partition-id\"]\n",
    "    num_partitions = context.node_config[\"num-partitions\"]\n",
    "    trainloader, valloader, _ = load_datasets(partition_id, num_partitions)\n",
    "    return NormalFlowerClient(partition_id, net, trainloader, valloader).to_client()\n",
    "\n",
    "\n",
    "# Create the ClientApp\n",
    "client = ClientApp(client_fn=client_fn)"
   ]
  },
  {
   "cell_type": "code",
   "execution_count": 9,
   "metadata": {},
   "outputs": [
    {
     "name": "stderr",
     "output_type": "stream",
     "text": [
      "/Users/macbook/Desktop/L361/L361_Project/.conda/lib/python3.12/site-packages/datasets/utils/_dill.py:385: DeprecationWarning: co_lnotab is deprecated, use co_lines instead.\n",
      "  obj.co_lnotab,  # for < python 3.10 [not counted in args]\n",
      "\u001b[92mINFO \u001b[0m:      Starting Flower ServerApp, config: num_rounds=23, no round_timeout\n",
      "\u001b[92mINFO \u001b[0m:      \n",
      "\u001b[92mINFO \u001b[0m:      [INIT]\n",
      "\u001b[92mINFO \u001b[0m:      Using initial global parameters provided by strategy\n",
      "\u001b[92mINFO \u001b[0m:      Starting evaluation of initial global parameters\n",
      "\u001b[92mINFO \u001b[0m:      initial parameters (loss, other metrics): 0.07208296258449555, {'accuracy': 0.1}\n",
      "\u001b[92mINFO \u001b[0m:      \n",
      "\u001b[92mINFO \u001b[0m:      [ROUND 1]\n",
      "\u001b[92mINFO \u001b[0m:      configure_fit: strategy sampled 6 clients (out of 6)\n"
     ]
    },
    {
     "name": "stdout",
     "output_type": "stream",
     "text": [
      "\u001b[36m(ClientAppActor pid=96226)\u001b[0m [Client 3] fit, config: {}\n"
     ]
    },
    {
     "name": "stderr",
     "output_type": "stream",
     "text": [
      "\u001b[36m(ClientAppActor pid=96226)\u001b[0m /Users/macbook/Desktop/L361/L361_Project/.conda/lib/python3.12/site-packages/datasets/utils/_dill.py:385: DeprecationWarning: co_lnotab is deprecated, use co_lines instead.\n",
      "\u001b[36m(ClientAppActor pid=96226)\u001b[0m   obj.co_lnotab,  # for < python 3.10 [not counted in args]\n"
     ]
    },
    {
     "name": "stdout",
     "output_type": "stream",
     "text": [
      "\u001b[36m(ClientAppActor pid=96229)\u001b[0m Epoch 1: train loss 0.06880803406238556, accuracy 0.15436543654365437\n",
      "\u001b[36m(ClientAppActor pid=96230)\u001b[0m [Client 0] fit, config: {}\u001b[32m [repeated 5x across cluster] (Ray deduplicates logs by default. Set RAY_DEDUP_LOGS=0 to disable log deduplication, or see https://docs.ray.io/en/master/ray-observability/user-guides/configure-logging.html#log-deduplication for more options.)\u001b[0m\n",
      "\u001b[36m(ClientAppActor pid=96229)\u001b[0m Epoch 2: train loss 0.06394273787736893, accuracy 0.22697269726972696\u001b[32m [repeated 6x across cluster]\u001b[0m\n",
      "\u001b[36m(ClientAppActor pid=96229)\u001b[0m Epoch 3: train loss 0.0610191710293293, accuracy 0.26447644764476447\u001b[32m [repeated 6x across cluster]\u001b[0m\n",
      "\u001b[36m(ClientAppActor pid=96225)\u001b[0m Epoch 4: train loss 0.056847501546144485, accuracy 0.2956795679567957\u001b[32m [repeated 6x across cluster]\u001b[0m\n",
      "\u001b[36m(ClientAppActor pid=96229)\u001b[0m Epoch 5: train loss 0.05577591061592102, accuracy 0.31998199819982\u001b[32m [repeated 6x across cluster]\u001b[0m\n",
      "\u001b[36m(ClientAppActor pid=96229)\u001b[0m Epoch 6: train loss 0.05335322767496109, accuracy 0.3478847884788479\u001b[32m [repeated 6x across cluster]\u001b[0m\n",
      "\u001b[36m(ClientAppActor pid=96229)\u001b[0m Epoch 7: train loss 0.05109500139951706, accuracy 0.3688868886888689\u001b[32m [repeated 6x across cluster]\u001b[0m\n",
      "\u001b[36m(ClientAppActor pid=96229)\u001b[0m Epoch 8: train loss 0.04933066666126251, accuracy 0.3940894089408941\u001b[32m [repeated 6x across cluster]\u001b[0m\n"
     ]
    },
    {
     "name": "stderr",
     "output_type": "stream",
     "text": [
      "\u001b[92mINFO \u001b[0m:      aggregate_fit: received 6 results and 0 failures\n",
      "\u001b[92mINFO \u001b[0m:      fit progress: (1, 0.07215005316734314, {'accuracy': 0.1}, 693.8933630830143)\n",
      "\u001b[92mINFO \u001b[0m:      configure_evaluate: strategy sampled 6 clients (out of 6)\n",
      "\u001b[36m(ClientAppActor pid=96228)\u001b[0m /Users/macbook/Desktop/L361/L361_Project/.conda/lib/python3.12/site-packages/datasets/utils/_dill.py:385: DeprecationWarning: co_lnotab is deprecated, use co_lines instead.\u001b[32m [repeated 6x across cluster]\u001b[0m\n",
      "\u001b[36m(ClientAppActor pid=96228)\u001b[0m   obj.co_lnotab,  # for < python 3.10 [not counted in args]\u001b[32m [repeated 6x across cluster]\u001b[0m\n"
     ]
    },
    {
     "name": "stdout",
     "output_type": "stream",
     "text": [
      "\u001b[36m(ClientAppActor pid=96226)\u001b[0m [Client 4] evaluate, config: {}\n",
      "\u001b[36m(ClientAppActor pid=96230)\u001b[0m Epoch 8: train loss 0.05202588066458702, accuracy 0.3553322333883306\u001b[32m [repeated 5x across cluster]\u001b[0m\n"
     ]
    },
    {
     "name": "stderr",
     "output_type": "stream",
     "text": [
      "\u001b[92mINFO \u001b[0m:      aggregate_evaluate: received 6 results and 0 failures\n",
      "\u001b[92mINFO \u001b[0m:      \n",
      "\u001b[92mINFO \u001b[0m:      [ROUND 2]\n",
      "\u001b[92mINFO \u001b[0m:      configure_fit: strategy sampled 6 clients (out of 6)\n",
      "\u001b[36m(ClientAppActor pid=96228)\u001b[0m /Users/macbook/Desktop/L361/L361_Project/.conda/lib/python3.12/site-packages/datasets/utils/_dill.py:385: DeprecationWarning: co_lnotab is deprecated, use co_lines instead.\u001b[32m [repeated 6x across cluster]\u001b[0m\n",
      "\u001b[36m(ClientAppActor pid=96228)\u001b[0m   obj.co_lnotab,  # for < python 3.10 [not counted in args]\u001b[32m [repeated 6x across cluster]\u001b[0m\n"
     ]
    },
    {
     "name": "stdout",
     "output_type": "stream",
     "text": [
      "\u001b[36m(ClientAppActor pid=96228)\u001b[0m [Client 4] fit, config: {}\n",
      "\u001b[36m(ClientAppActor pid=96230)\u001b[0m [Client 3] evaluate, config: {}\u001b[32m [repeated 5x across cluster]\u001b[0m\n",
      "\u001b[36m(ClientAppActor pid=96229)\u001b[0m Epoch 1: train loss 0.072249636054039, accuracy 0.10126012601260126\n",
      "\u001b[36m(ClientAppActor pid=96226)\u001b[0m [Client 5] fit, config: {}\u001b[32m [repeated 5x across cluster]\u001b[0m\n",
      "\u001b[36m(ClientAppActor pid=96227)\u001b[0m Epoch 2: train loss 0.07221027463674545, accuracy 0.10216021602160216\u001b[32m [repeated 6x across cluster]\u001b[0m\n",
      "\u001b[36m(ClientAppActor pid=96229)\u001b[0m Epoch 3: train loss 0.07217949628829956, accuracy 0.10516051605160516\u001b[32m [repeated 6x across cluster]\u001b[0m\n",
      "\u001b[36m(ClientAppActor pid=96226)\u001b[0m Epoch 3: train loss 0.07219133526086807, accuracy 0.10636063606360636\u001b[32m [repeated 5x across cluster]\u001b[0m\n",
      "\u001b[36m(ClientAppActor pid=96229)\u001b[0m Epoch 4: train loss 0.07218669354915619, accuracy 0.10516051605160516\n",
      "\u001b[36m(ClientAppActor pid=96225)\u001b[0m Epoch 4: train loss 0.07217064499855042, accuracy 0.1055947202639868\n",
      "\u001b[36m(ClientAppActor pid=96229)\u001b[0m Epoch 5: train loss 0.07217742502689362, accuracy 0.10336033603360337\u001b[32m [repeated 5x across cluster]\u001b[0m\n",
      "\u001b[36m(ClientAppActor pid=96226)\u001b[0m Epoch 5: train loss 0.07218886911869049, accuracy 0.10501050105010501\u001b[32m [repeated 5x across cluster]\u001b[0m\n",
      "\u001b[36m(ClientAppActor pid=96229)\u001b[0m Epoch 6: train loss 0.07218020409345627, accuracy 0.10171017101710171\n",
      "\u001b[36m(ClientAppActor pid=96227)\u001b[0m Epoch 6: train loss 0.07218421995639801, accuracy 0.10186018601860186\n",
      "\u001b[36m(ClientAppActor pid=96226)\u001b[0m Epoch 6: train loss 0.07218875735998154, accuracy 0.10501050105010501\u001b[32m [repeated 4x across cluster]\u001b[0m\n",
      "\u001b[36m(ClientAppActor pid=96229)\u001b[0m Epoch 7: train loss 0.07217797636985779, accuracy 0.10546054605460546\n",
      "\u001b[36m(ClientAppActor pid=96227)\u001b[0m Epoch 7: train loss 0.07218246161937714, accuracy 0.1041104110411041\n",
      "\u001b[36m(ClientAppActor pid=96226)\u001b[0m Epoch 7: train loss 0.07218709588050842, accuracy 0.10501050105010501\u001b[32m [repeated 4x across cluster]\u001b[0m\n",
      "\u001b[36m(ClientAppActor pid=96229)\u001b[0m Epoch 8: train loss 0.07217592746019363, accuracy 0.10546054605460546\n",
      "\u001b[36m(ClientAppActor pid=96225)\u001b[0m Epoch 8: train loss 0.07216323167085648, accuracy 0.1055947202639868\n"
     ]
    },
    {
     "name": "stderr",
     "output_type": "stream",
     "text": [
      "\u001b[92mINFO \u001b[0m:      aggregate_fit: received 6 results and 0 failures\n"
     ]
    },
    {
     "name": "stdout",
     "output_type": "stream",
     "text": [
      "\u001b[36m(ClientAppActor pid=96226)\u001b[0m Epoch 8: train loss 0.072187140583992, accuracy 0.10501050105010501\u001b[32m [repeated 4x across cluster]\u001b[0m\n"
     ]
    },
    {
     "name": "stderr",
     "output_type": "stream",
     "text": [
      "\u001b[92mINFO \u001b[0m:      fit progress: (2, 0.07207347071170807, {'accuracy': 0.1}, 1434.7350123750512)\n",
      "\u001b[92mINFO \u001b[0m:      configure_evaluate: strategy sampled 6 clients (out of 6)\n"
     ]
    },
    {
     "name": "stdout",
     "output_type": "stream",
     "text": [
      "\u001b[36m(ClientAppActor pid=96230)\u001b[0m [Client 3] evaluate, config: {}\n"
     ]
    },
    {
     "name": "stderr",
     "output_type": "stream",
     "text": [
      "\u001b[36m(ClientAppActor pid=96230)\u001b[0m /Users/macbook/Desktop/L361/L361_Project/.conda/lib/python3.12/site-packages/datasets/utils/_dill.py:385: DeprecationWarning: co_lnotab is deprecated, use co_lines instead.\u001b[32m [repeated 6x across cluster]\u001b[0m\n",
      "\u001b[36m(ClientAppActor pid=96230)\u001b[0m   obj.co_lnotab,  # for < python 3.10 [not counted in args]\u001b[32m [repeated 6x across cluster]\u001b[0m\n",
      "\u001b[92mINFO \u001b[0m:      aggregate_evaluate: received 6 results and 0 failures\n",
      "\u001b[92mINFO \u001b[0m:      \n",
      "\u001b[92mINFO \u001b[0m:      [ROUND 3]\n",
      "\u001b[92mINFO \u001b[0m:      configure_fit: strategy sampled 6 clients (out of 6)\n",
      "\u001b[36m(ClientAppActor pid=96225)\u001b[0m /Users/macbook/Desktop/L361/L361_Project/.conda/lib/python3.12/site-packages/datasets/utils/_dill.py:385: DeprecationWarning: co_lnotab is deprecated, use co_lines instead.\u001b[32m [repeated 6x across cluster]\u001b[0m\n",
      "\u001b[36m(ClientAppActor pid=96225)\u001b[0m   obj.co_lnotab,  # for < python 3.10 [not counted in args]\u001b[32m [repeated 6x across cluster]\u001b[0m\n"
     ]
    },
    {
     "name": "stdout",
     "output_type": "stream",
     "text": [
      "\u001b[36m(ClientAppActor pid=96225)\u001b[0m [Client 2] fit, config: {}\n",
      "\u001b[36m(ClientAppActor pid=96229)\u001b[0m [Client 5] evaluate, config: {}\u001b[32m [repeated 5x across cluster]\u001b[0m\n",
      "\u001b[36m(ClientAppActor pid=96228)\u001b[0m Epoch 1: train loss 0.07221898436546326, accuracy 0.09555955595559557\n",
      "\u001b[36m(ClientAppActor pid=96230)\u001b[0m [Client 4] fit, config: {}\u001b[32m [repeated 5x across cluster]\u001b[0m\n",
      "\u001b[36m(ClientAppActor pid=96228)\u001b[0m Epoch 2: train loss 0.07218381017446518, accuracy 0.10441044104410441\u001b[32m [repeated 6x across cluster]\u001b[0m\n",
      "\u001b[36m(ClientAppActor pid=96228)\u001b[0m Epoch 3: train loss 0.0721847265958786, accuracy 0.10441044104410441\u001b[32m [repeated 6x across cluster]\u001b[0m\n",
      "\u001b[36m(ClientAppActor pid=96226)\u001b[0m Epoch 4: train loss 0.07218534499406815, accuracy 0.10501050105010501\u001b[32m [repeated 6x across cluster]\u001b[0m\n",
      "\u001b[36m(ClientAppActor pid=96230)\u001b[0m Epoch 5: train loss 0.07218748331069946, accuracy 0.10246024602460246\u001b[32m [repeated 6x across cluster]\u001b[0m\n",
      "\u001b[36m(ClientAppActor pid=96225)\u001b[0m Epoch 6: train loss 0.0721796527504921, accuracy 0.10516051605160516\u001b[32m [repeated 6x across cluster]\u001b[0m\n",
      "\u001b[36m(ClientAppActor pid=96228)\u001b[0m Epoch 7: train loss 0.07218357175588608, accuracy 0.1041104110411041\u001b[32m [repeated 6x across cluster]\u001b[0m\n",
      "\u001b[36m(ClientAppActor pid=96227)\u001b[0m Epoch 8: train loss 0.07216809689998627, accuracy 0.1055947202639868\u001b[32m [repeated 6x across cluster]\u001b[0m\n"
     ]
    },
    {
     "name": "stderr",
     "output_type": "stream",
     "text": [
      "\u001b[92mINFO \u001b[0m:      aggregate_fit: received 6 results and 0 failures\n",
      "\u001b[92mINFO \u001b[0m:      fit progress: (3, 0.0720724247455597, {'accuracy': 0.1}, 2102.5927732910495)\n",
      "\u001b[92mINFO \u001b[0m:      configure_evaluate: strategy sampled 6 clients (out of 6)\n"
     ]
    },
    {
     "name": "stdout",
     "output_type": "stream",
     "text": [
      "\u001b[36m(ClientAppActor pid=96230)\u001b[0m [Client 1] evaluate, config: {}\n",
      "\u001b[36m(ClientAppActor pid=96226)\u001b[0m Epoch 8: train loss 0.072184257209301, accuracy 0.10501050105010501\u001b[32m [repeated 5x across cluster]\u001b[0m\n"
     ]
    },
    {
     "name": "stderr",
     "output_type": "stream",
     "text": [
      "\u001b[36m(ClientAppActor pid=96230)\u001b[0m /Users/macbook/Desktop/L361/L361_Project/.conda/lib/python3.12/site-packages/datasets/utils/_dill.py:385: DeprecationWarning: co_lnotab is deprecated, use co_lines instead.\u001b[32m [repeated 6x across cluster]\u001b[0m\n",
      "\u001b[36m(ClientAppActor pid=96230)\u001b[0m   obj.co_lnotab,  # for < python 3.10 [not counted in args]\u001b[32m [repeated 6x across cluster]\u001b[0m\n",
      "\u001b[92mINFO \u001b[0m:      aggregate_evaluate: received 6 results and 0 failures\n",
      "\u001b[92mINFO \u001b[0m:      \n",
      "\u001b[92mINFO \u001b[0m:      [ROUND 4]\n",
      "\u001b[92mINFO \u001b[0m:      configure_fit: strategy sampled 6 clients (out of 6)\n"
     ]
    },
    {
     "name": "stdout",
     "output_type": "stream",
     "text": [
      "\u001b[36m(ClientAppActor pid=96230)\u001b[0m [Client 3] fit, config: {}\n",
      "\u001b[36m(ClientAppActor pid=96226)\u001b[0m [Client 0] evaluate, config: {}\u001b[32m [repeated 5x across cluster]\u001b[0m\n"
     ]
    },
    {
     "name": "stderr",
     "output_type": "stream",
     "text": [
      "\u001b[36m(ClientAppActor pid=96230)\u001b[0m /Users/macbook/Desktop/L361/L361_Project/.conda/lib/python3.12/site-packages/datasets/utils/_dill.py:385: DeprecationWarning: co_lnotab is deprecated, use co_lines instead.\u001b[32m [repeated 6x across cluster]\u001b[0m\n",
      "\u001b[36m(ClientAppActor pid=96230)\u001b[0m   obj.co_lnotab,  # for < python 3.10 [not counted in args]\u001b[32m [repeated 6x across cluster]\u001b[0m\n"
     ]
    },
    {
     "name": "stdout",
     "output_type": "stream",
     "text": [
      "\u001b[36m(ClientAppActor pid=96225)\u001b[0m Epoch 1: train loss 0.07220407575368881, accuracy 0.1038103810381038\n",
      "\u001b[36m(ClientAppActor pid=96228)\u001b[0m [Client 4] fit, config: {}\u001b[32m [repeated 5x across cluster]\u001b[0m\n",
      "\u001b[36m(ClientAppActor pid=96225)\u001b[0m Epoch 2: train loss 0.07218855619430542, accuracy 0.10501050105010501\u001b[32m [repeated 6x across cluster]\u001b[0m\n",
      "\u001b[36m(ClientAppActor pid=96225)\u001b[0m Epoch 3: train loss 0.07218757271766663, accuracy 0.10501050105010501\u001b[32m [repeated 6x across cluster]\u001b[0m\n",
      "\u001b[36m(ClientAppActor pid=96226)\u001b[0m Epoch 4: train loss 0.07217114418745041, accuracy 0.09959502024898755\u001b[32m [repeated 6x across cluster]\u001b[0m\n",
      "\u001b[36m(ClientAppActor pid=96226)\u001b[0m Epoch 5: train loss 0.07217225432395935, accuracy 0.10439478026098695\u001b[32m [repeated 6x across cluster]\u001b[0m\n",
      "\u001b[36m(ClientAppActor pid=96226)\u001b[0m Epoch 6: train loss 0.07217409461736679, accuracy 0.10439478026098695\u001b[32m [repeated 6x across cluster]\u001b[0m\n",
      "\u001b[36m(ClientAppActor pid=96226)\u001b[0m Epoch 7: train loss 0.07217220962047577, accuracy 0.10439478026098695\u001b[32m [repeated 6x across cluster]\u001b[0m\n",
      "\u001b[36m(ClientAppActor pid=96226)\u001b[0m Epoch 8: train loss 0.0721706673502922, accuracy 0.10439478026098695\u001b[32m [repeated 6x across cluster]\u001b[0m\n"
     ]
    },
    {
     "name": "stderr",
     "output_type": "stream",
     "text": [
      "\u001b[92mINFO \u001b[0m:      aggregate_fit: received 6 results and 0 failures\n",
      "\u001b[92mINFO \u001b[0m:      fit progress: (4, 0.07207206094264984, {'accuracy': 0.1}, 2750.35789820808)\n",
      "\u001b[92mINFO \u001b[0m:      configure_evaluate: strategy sampled 6 clients (out of 6)\n"
     ]
    },
    {
     "name": "stdout",
     "output_type": "stream",
     "text": [
      "\u001b[36m(ClientAppActor pid=96230)\u001b[0m [Client 2] evaluate, config: {}\n",
      "\u001b[36m(ClientAppActor pid=96228)\u001b[0m Epoch 8: train loss 0.0721869021654129, accuracy 0.10366036603660365\u001b[32m [repeated 5x across cluster]\u001b[0m\n"
     ]
    },
    {
     "name": "stderr",
     "output_type": "stream",
     "text": [
      "\u001b[36m(ClientAppActor pid=96230)\u001b[0m /Users/macbook/Desktop/L361/L361_Project/.conda/lib/python3.12/site-packages/datasets/utils/_dill.py:385: DeprecationWarning: co_lnotab is deprecated, use co_lines instead.\u001b[32m [repeated 6x across cluster]\u001b[0m\n",
      "\u001b[36m(ClientAppActor pid=96230)\u001b[0m   obj.co_lnotab,  # for < python 3.10 [not counted in args]\u001b[32m [repeated 6x across cluster]\u001b[0m\n",
      "\u001b[92mINFO \u001b[0m:      aggregate_evaluate: received 6 results and 0 failures\n",
      "\u001b[92mINFO \u001b[0m:      \n",
      "\u001b[92mINFO \u001b[0m:      [ROUND 5]\n",
      "\u001b[92mINFO \u001b[0m:      configure_fit: strategy sampled 6 clients (out of 6)\n",
      "\u001b[36m(ClientAppActor pid=96229)\u001b[0m /Users/macbook/Desktop/L361/L361_Project/.conda/lib/python3.12/site-packages/datasets/utils/_dill.py:385: DeprecationWarning: co_lnotab is deprecated, use co_lines instead.\u001b[32m [repeated 6x across cluster]\u001b[0m\n",
      "\u001b[36m(ClientAppActor pid=96229)\u001b[0m   obj.co_lnotab,  # for < python 3.10 [not counted in args]\u001b[32m [repeated 6x across cluster]\u001b[0m\n"
     ]
    },
    {
     "name": "stdout",
     "output_type": "stream",
     "text": [
      "\u001b[36m(ClientAppActor pid=96225)\u001b[0m [Client 2] fit, config: {}\n",
      "\u001b[36m(ClientAppActor pid=96229)\u001b[0m [Client 0] evaluate, config: {}\u001b[32m [repeated 5x across cluster]\u001b[0m\n",
      "\u001b[36m(ClientAppActor pid=96229)\u001b[0m Epoch 1: train loss 0.07218784838914871, accuracy 0.09494525273736314\n",
      "\u001b[36m(ClientAppActor pid=96228)\u001b[0m [Client 3] fit, config: {}\u001b[32m [repeated 5x across cluster]\u001b[0m\n",
      "\u001b[36m(ClientAppActor pid=96227)\u001b[0m Epoch 2: train loss 0.07216860353946686, accuracy 0.1055947202639868\u001b[32m [repeated 6x across cluster]\u001b[0m\n",
      "\u001b[36m(ClientAppActor pid=96227)\u001b[0m Epoch 3: train loss 0.07216562330722809, accuracy 0.1055947202639868\u001b[32m [repeated 6x across cluster]\u001b[0m\n",
      "\u001b[36m(ClientAppActor pid=96227)\u001b[0m Epoch 4: train loss 0.07216548174619675, accuracy 0.1055947202639868\u001b[32m [repeated 6x across cluster]\u001b[0m\n",
      "\u001b[36m(ClientAppActor pid=96227)\u001b[0m Epoch 5: train loss 0.07216478884220123, accuracy 0.1055947202639868\u001b[32m [repeated 6x across cluster]\u001b[0m\n",
      "\u001b[36m(ClientAppActor pid=96227)\u001b[0m Epoch 6: train loss 0.07216569036245346, accuracy 0.1055947202639868\u001b[32m [repeated 6x across cluster]\u001b[0m\n",
      "\u001b[36m(ClientAppActor pid=96227)\u001b[0m Epoch 7: train loss 0.07216527312994003, accuracy 0.1055947202639868\u001b[32m [repeated 6x across cluster]\u001b[0m\n",
      "\u001b[36m(ClientAppActor pid=96227)\u001b[0m Epoch 8: train loss 0.07216472178697586, accuracy 0.1015449227538623\u001b[32m [repeated 6x across cluster]\u001b[0m\n"
     ]
    },
    {
     "name": "stderr",
     "output_type": "stream",
     "text": [
      "\u001b[92mINFO \u001b[0m:      aggregate_fit: received 6 results and 0 failures\n",
      "\u001b[92mINFO \u001b[0m:      fit progress: (5, 0.07207162775993348, {'accuracy': 0.1}, 3402.403262625099)\n",
      "\u001b[92mINFO \u001b[0m:      configure_evaluate: strategy sampled 6 clients (out of 6)\n"
     ]
    },
    {
     "name": "stdout",
     "output_type": "stream",
     "text": [
      "\u001b[36m(ClientAppActor pid=96230)\u001b[0m [Client 5] evaluate, config: {}\n",
      "\u001b[36m(ClientAppActor pid=96225)\u001b[0m Epoch 8: train loss 0.07217840850353241, accuracy 0.10546054605460546\u001b[32m [repeated 5x across cluster]\u001b[0m\n"
     ]
    },
    {
     "name": "stderr",
     "output_type": "stream",
     "text": [
      "\u001b[36m(ClientAppActor pid=96230)\u001b[0m /Users/macbook/Desktop/L361/L361_Project/.conda/lib/python3.12/site-packages/datasets/utils/_dill.py:385: DeprecationWarning: co_lnotab is deprecated, use co_lines instead.\u001b[32m [repeated 6x across cluster]\u001b[0m\n",
      "\u001b[36m(ClientAppActor pid=96230)\u001b[0m   obj.co_lnotab,  # for < python 3.10 [not counted in args]\u001b[32m [repeated 6x across cluster]\u001b[0m\n",
      "\u001b[92mINFO \u001b[0m:      aggregate_evaluate: received 6 results and 0 failures\n",
      "\u001b[92mINFO \u001b[0m:      \n",
      "\u001b[92mINFO \u001b[0m:      [ROUND 6]\n",
      "\u001b[92mINFO \u001b[0m:      configure_fit: strategy sampled 6 clients (out of 6)\n"
     ]
    },
    {
     "name": "stdout",
     "output_type": "stream",
     "text": [
      "\u001b[36m(ClientAppActor pid=96230)\u001b[0m [Client 3] fit, config: {}\n",
      "\u001b[36m(ClientAppActor pid=96229)\u001b[0m [Client 1] evaluate, config: {}\u001b[32m [repeated 5x across cluster]\u001b[0m\n"
     ]
    },
    {
     "name": "stderr",
     "output_type": "stream",
     "text": [
      "\u001b[36m(ClientAppActor pid=96230)\u001b[0m /Users/macbook/Desktop/L361/L361_Project/.conda/lib/python3.12/site-packages/datasets/utils/_dill.py:385: DeprecationWarning: co_lnotab is deprecated, use co_lines instead.\u001b[32m [repeated 6x across cluster]\u001b[0m\n",
      "\u001b[36m(ClientAppActor pid=96230)\u001b[0m   obj.co_lnotab,  # for < python 3.10 [not counted in args]\u001b[32m [repeated 6x across cluster]\u001b[0m\n"
     ]
    },
    {
     "name": "stdout",
     "output_type": "stream",
     "text": [
      "\u001b[36m(ClientAppActor pid=96225)\u001b[0m Epoch 1: train loss 0.07218384742736816, accuracy 0.10289485525723714\n",
      "\u001b[36m(ClientAppActor pid=96228)\u001b[0m [Client 0] fit, config: {}\u001b[32m [repeated 5x across cluster]\u001b[0m\n",
      "\u001b[36m(ClientAppActor pid=96225)\u001b[0m Epoch 2: train loss 0.07216782122850418, accuracy 0.1055947202639868\u001b[32m [repeated 6x across cluster]\u001b[0m\n",
      "\u001b[36m(ClientAppActor pid=96225)\u001b[0m Epoch 3: train loss 0.07216259092092514, accuracy 0.1055947202639868\u001b[32m [repeated 6x across cluster]\u001b[0m\n",
      "\u001b[36m(ClientAppActor pid=96229)\u001b[0m Epoch 4: train loss 0.07217671722173691, accuracy 0.10576057605760576\u001b[32m [repeated 6x across cluster]\u001b[0m\n",
      "\u001b[36m(ClientAppActor pid=96229)\u001b[0m Epoch 5: train loss 0.07217666506767273, accuracy 0.10546054605460546\u001b[32m [repeated 6x across cluster]\u001b[0m\n",
      "\u001b[36m(ClientAppActor pid=96229)\u001b[0m Epoch 6: train loss 0.07217735797166824, accuracy 0.10546054605460546\u001b[32m [repeated 6x across cluster]\u001b[0m\n",
      "\u001b[36m(ClientAppActor pid=96228)\u001b[0m Epoch 6: train loss 0.07216925919055939, accuracy 0.10439478026098695\u001b[32m [repeated 5x across cluster]\u001b[0m\n",
      "\u001b[36m(ClientAppActor pid=96229)\u001b[0m Epoch 7: train loss 0.07217501848936081, accuracy 0.10546054605460546\n",
      "\u001b[36m(ClientAppActor pid=96225)\u001b[0m Epoch 7: train loss 0.07216431945562363, accuracy 0.1055947202639868\n",
      "\u001b[36m(ClientAppActor pid=96229)\u001b[0m Epoch 8: train loss 0.07217664271593094, accuracy 0.10546054605460546\u001b[32m [repeated 5x across cluster]\u001b[0m\n"
     ]
    },
    {
     "name": "stderr",
     "output_type": "stream",
     "text": [
      "\u001b[92mINFO \u001b[0m:      aggregate_fit: received 6 results and 0 failures\n"
     ]
    },
    {
     "name": "stdout",
     "output_type": "stream",
     "text": [
      "\u001b[36m(ClientAppActor pid=96228)\u001b[0m Epoch 8: train loss 0.07216992229223251, accuracy 0.10439478026098695\u001b[32m [repeated 5x across cluster]\u001b[0m\n"
     ]
    },
    {
     "name": "stderr",
     "output_type": "stream",
     "text": [
      "\u001b[92mINFO \u001b[0m:      fit progress: (6, 0.07207173054218292, {'accuracy': 0.1}, 4074.725167000084)\n",
      "\u001b[92mINFO \u001b[0m:      configure_evaluate: strategy sampled 6 clients (out of 6)\n"
     ]
    },
    {
     "name": "stdout",
     "output_type": "stream",
     "text": [
      "\u001b[36m(ClientAppActor pid=96229)\u001b[0m [Client 2] evaluate, config: {}\n"
     ]
    },
    {
     "name": "stderr",
     "output_type": "stream",
     "text": [
      "\u001b[36m(ClientAppActor pid=96229)\u001b[0m /Users/macbook/Desktop/L361/L361_Project/.conda/lib/python3.12/site-packages/datasets/utils/_dill.py:385: DeprecationWarning: co_lnotab is deprecated, use co_lines instead.\u001b[32m [repeated 6x across cluster]\u001b[0m\n",
      "\u001b[36m(ClientAppActor pid=96229)\u001b[0m   obj.co_lnotab,  # for < python 3.10 [not counted in args]\u001b[32m [repeated 6x across cluster]\u001b[0m\n",
      "\u001b[92mINFO \u001b[0m:      aggregate_evaluate: received 6 results and 0 failures\n",
      "\u001b[92mINFO \u001b[0m:      \n",
      "\u001b[92mINFO \u001b[0m:      [ROUND 7]\n",
      "\u001b[92mINFO \u001b[0m:      configure_fit: strategy sampled 6 clients (out of 6)\n",
      "\u001b[36m(ClientAppActor pid=96227)\u001b[0m /Users/macbook/Desktop/L361/L361_Project/.conda/lib/python3.12/site-packages/datasets/utils/_dill.py:385: DeprecationWarning: co_lnotab is deprecated, use co_lines instead.\u001b[32m [repeated 6x across cluster]\u001b[0m\n",
      "\u001b[36m(ClientAppActor pid=96227)\u001b[0m   obj.co_lnotab,  # for < python 3.10 [not counted in args]\u001b[32m [repeated 6x across cluster]\u001b[0m\n"
     ]
    },
    {
     "name": "stdout",
     "output_type": "stream",
     "text": [
      "\u001b[36m(ClientAppActor pid=96227)\u001b[0m [Client 3] fit, config: {}\n",
      "\u001b[36m(ClientAppActor pid=96228)\u001b[0m [Client 1] evaluate, config: {}\u001b[32m [repeated 5x across cluster]\u001b[0m\n",
      "\u001b[36m(ClientAppActor pid=96226)\u001b[0m Epoch 1: train loss 0.07218575477600098, accuracy 0.10019499025048748\n",
      "\u001b[36m(ClientAppActor pid=96229)\u001b[0m [Client 1] fit, config: {}\u001b[32m [repeated 5x across cluster]\u001b[0m\n",
      "\u001b[36m(ClientAppActor pid=96226)\u001b[0m Epoch 2: train loss 0.07217481732368469, accuracy 0.10094495275236239\u001b[32m [repeated 6x across cluster]\u001b[0m\n",
      "\u001b[36m(ClientAppActor pid=96228)\u001b[0m Epoch 3: train loss 0.07217612117528915, accuracy 0.10546054605460546\u001b[32m [repeated 6x across cluster]\u001b[0m\n",
      "\u001b[36m(ClientAppActor pid=96228)\u001b[0m Epoch 4: train loss 0.07217684388160706, accuracy 0.10546054605460546\u001b[32m [repeated 6x across cluster]\u001b[0m\n",
      "\u001b[36m(ClientAppActor pid=96228)\u001b[0m Epoch 5: train loss 0.07217470556497574, accuracy 0.10546054605460546\u001b[32m [repeated 6x across cluster]\u001b[0m\n",
      "\u001b[36m(ClientAppActor pid=96228)\u001b[0m Epoch 6: train loss 0.07217412441968918, accuracy 0.10546054605460546\u001b[32m [repeated 6x across cluster]\u001b[0m\n",
      "\u001b[36m(ClientAppActor pid=96228)\u001b[0m Epoch 7: train loss 0.07217758148908615, accuracy 0.10546054605460546\u001b[32m [repeated 6x across cluster]\u001b[0m\n",
      "\u001b[36m(ClientAppActor pid=96228)\u001b[0m Epoch 8: train loss 0.07217752933502197, accuracy 0.10546054605460546\u001b[32m [repeated 6x across cluster]\u001b[0m\n"
     ]
    },
    {
     "name": "stderr",
     "output_type": "stream",
     "text": [
      "\u001b[92mINFO \u001b[0m:      aggregate_fit: received 6 results and 0 failures\n",
      "\u001b[92mINFO \u001b[0m:      fit progress: (7, 0.07207183418273926, {'accuracy': 0.1}, 4732.21709775005)\n",
      "\u001b[92mINFO \u001b[0m:      configure_evaluate: strategy sampled 6 clients (out of 6)\n",
      "\u001b[36m(ClientAppActor pid=96225)\u001b[0m /Users/macbook/Desktop/L361/L361_Project/.conda/lib/python3.12/site-packages/datasets/utils/_dill.py:385: DeprecationWarning: co_lnotab is deprecated, use co_lines instead.\u001b[32m [repeated 6x across cluster]\u001b[0m\n",
      "\u001b[36m(ClientAppActor pid=96225)\u001b[0m   obj.co_lnotab,  # for < python 3.10 [not counted in args]\u001b[32m [repeated 6x across cluster]\u001b[0m\n"
     ]
    },
    {
     "name": "stdout",
     "output_type": "stream",
     "text": [
      "\u001b[36m(ClientAppActor pid=96225)\u001b[0m [Client 1] evaluate, config: {}\n",
      "\u001b[36m(ClientAppActor pid=96230)\u001b[0m Epoch 8: train loss 0.07218564301729202, accuracy 0.10501050105010501\u001b[32m [repeated 5x across cluster]\u001b[0m\n"
     ]
    },
    {
     "name": "stderr",
     "output_type": "stream",
     "text": [
      "\u001b[92mINFO \u001b[0m:      aggregate_evaluate: received 6 results and 0 failures\n",
      "\u001b[92mINFO \u001b[0m:      \n",
      "\u001b[92mINFO \u001b[0m:      [ROUND 8]\n",
      "\u001b[92mINFO \u001b[0m:      configure_fit: strategy sampled 6 clients (out of 6)\n"
     ]
    },
    {
     "name": "stdout",
     "output_type": "stream",
     "text": [
      "\u001b[36m(ClientAppActor pid=96229)\u001b[0m [Client 4] fit, config: {}\n",
      "\u001b[36m(ClientAppActor pid=96228)\u001b[0m [Client 5] evaluate, config: {}\u001b[32m [repeated 5x across cluster]\u001b[0m\n"
     ]
    },
    {
     "name": "stderr",
     "output_type": "stream",
     "text": [
      "\u001b[36m(ClientAppActor pid=96229)\u001b[0m /Users/macbook/Desktop/L361/L361_Project/.conda/lib/python3.12/site-packages/datasets/utils/_dill.py:385: DeprecationWarning: co_lnotab is deprecated, use co_lines instead.\u001b[32m [repeated 6x across cluster]\u001b[0m\n",
      "\u001b[36m(ClientAppActor pid=96229)\u001b[0m   obj.co_lnotab,  # for < python 3.10 [not counted in args]\u001b[32m [repeated 6x across cluster]\u001b[0m\n"
     ]
    },
    {
     "name": "stdout",
     "output_type": "stream",
     "text": [
      "\u001b[36m(ClientAppActor pid=96229)\u001b[0m Epoch 1: train loss 0.07219786942005157, accuracy 0.09780978097809781\n",
      "\u001b[36m(ClientAppActor pid=96227)\u001b[0m [Client 0] fit, config: {}\u001b[32m [repeated 5x across cluster]\u001b[0m\n",
      "\u001b[36m(ClientAppActor pid=96226)\u001b[0m Epoch 2: train loss 0.07218830287456512, accuracy 0.10216021602160216\u001b[32m [repeated 6x across cluster]\u001b[0m\n",
      "\u001b[36m(ClientAppActor pid=96226)\u001b[0m Epoch 3: train loss 0.07218531519174576, accuracy 0.10441044104410441\u001b[32m [repeated 6x across cluster]\u001b[0m\n",
      "\u001b[36m(ClientAppActor pid=96226)\u001b[0m Epoch 4: train loss 0.07218127697706223, accuracy 0.10441044104410441\u001b[32m [repeated 6x across cluster]\u001b[0m\n",
      "\u001b[36m(ClientAppActor pid=96225)\u001b[0m Epoch 4: train loss 0.0721852034330368, accuracy 0.10501050105010501\u001b[32m [repeated 5x across cluster]\u001b[0m\n",
      "\u001b[36m(ClientAppActor pid=96226)\u001b[0m Epoch 5: train loss 0.07218118011951447, accuracy 0.10441044104410441\n",
      "\u001b[36m(ClientAppActor pid=96229)\u001b[0m Epoch 5: train loss 0.07218438386917114, accuracy 0.10366036603660365\n",
      "\u001b[36m(ClientAppActor pid=96226)\u001b[0m Epoch 6: train loss 0.07218136638402939, accuracy 0.10441044104410441\u001b[32m [repeated 5x across cluster]\u001b[0m\n",
      "\u001b[36m(ClientAppActor pid=96226)\u001b[0m Epoch 7: train loss 0.07218412309885025, accuracy 0.10441044104410441\u001b[32m [repeated 6x across cluster]\u001b[0m\n",
      "\u001b[36m(ClientAppActor pid=96225)\u001b[0m Epoch 7: train loss 0.07218316197395325, accuracy 0.10501050105010501\u001b[32m [repeated 5x across cluster]\u001b[0m\n",
      "\u001b[36m(ClientAppActor pid=96226)\u001b[0m Epoch 8: train loss 0.07218551635742188, accuracy 0.09960996099609962\n",
      "\u001b[36m(ClientAppActor pid=96229)\u001b[0m Epoch 8: train loss 0.07218501716852188, accuracy 0.10366036603660365\n"
     ]
    },
    {
     "name": "stderr",
     "output_type": "stream",
     "text": [
      "\u001b[92mINFO \u001b[0m:      aggregate_fit: received 6 results and 0 failures\n",
      "\u001b[92mINFO \u001b[0m:      fit progress: (8, 0.07207159693241119, {'accuracy': 0.1}, 5385.210799208027)\n",
      "\u001b[92mINFO \u001b[0m:      configure_evaluate: strategy sampled 6 clients (out of 6)\n",
      "\u001b[36m(ClientAppActor pid=96225)\u001b[0m /Users/macbook/Desktop/L361/L361_Project/.conda/lib/python3.12/site-packages/datasets/utils/_dill.py:385: DeprecationWarning: co_lnotab is deprecated, use co_lines instead.\u001b[32m [repeated 6x across cluster]\u001b[0m\n",
      "\u001b[36m(ClientAppActor pid=96225)\u001b[0m   obj.co_lnotab,  # for < python 3.10 [not counted in args]\u001b[32m [repeated 6x across cluster]\u001b[0m\n"
     ]
    },
    {
     "name": "stdout",
     "output_type": "stream",
     "text": [
      "\u001b[36m(ClientAppActor pid=96225)\u001b[0m [Client 2] evaluate, config: {}\n",
      "\u001b[36m(ClientAppActor pid=96225)\u001b[0m Epoch 8: train loss 0.07218548655509949, accuracy 0.10501050105010501\u001b[32m [repeated 4x across cluster]\u001b[0m\n"
     ]
    },
    {
     "name": "stderr",
     "output_type": "stream",
     "text": [
      "\u001b[92mINFO \u001b[0m:      aggregate_evaluate: received 6 results and 0 failures\n",
      "\u001b[92mINFO \u001b[0m:      \n",
      "\u001b[92mINFO \u001b[0m:      [ROUND 9]\n",
      "\u001b[92mINFO \u001b[0m:      configure_fit: strategy sampled 6 clients (out of 6)\n",
      "\u001b[36m(ClientAppActor pid=96228)\u001b[0m /Users/macbook/Desktop/L361/L361_Project/.conda/lib/python3.12/site-packages/datasets/utils/_dill.py:385: DeprecationWarning: co_lnotab is deprecated, use co_lines instead.\u001b[32m [repeated 6x across cluster]\u001b[0m\n",
      "\u001b[36m(ClientAppActor pid=96228)\u001b[0m   obj.co_lnotab,  # for < python 3.10 [not counted in args]\u001b[32m [repeated 6x across cluster]\u001b[0m\n"
     ]
    },
    {
     "name": "stdout",
     "output_type": "stream",
     "text": [
      "\u001b[36m(ClientAppActor pid=96228)\u001b[0m [Client 4] fit, config: {}\n",
      "\u001b[36m(ClientAppActor pid=96228)\u001b[0m [Client 3] evaluate, config: {}\u001b[32m [repeated 5x across cluster]\u001b[0m\n",
      "\u001b[36m(ClientAppActor pid=96228)\u001b[0m Epoch 1: train loss 0.07219932228326797, accuracy 0.10006000600060005\n",
      "\u001b[36m(ClientAppActor pid=96225)\u001b[0m [Client 3] fit, config: {}\u001b[32m [repeated 5x across cluster]\u001b[0m\n",
      "\u001b[36m(ClientAppActor pid=96229)\u001b[0m Epoch 2: train loss 0.07217468321323395, accuracy 0.10544472776361181\u001b[32m [repeated 6x across cluster]\u001b[0m\n",
      "\u001b[36m(ClientAppActor pid=96229)\u001b[0m Epoch 3: train loss 0.0721716433763504, accuracy 0.10439478026098695\u001b[32m [repeated 6x across cluster]\u001b[0m\n",
      "\u001b[36m(ClientAppActor pid=96229)\u001b[0m Epoch 4: train loss 0.07217029482126236, accuracy 0.10439478026098695\u001b[32m [repeated 6x across cluster]\u001b[0m\n",
      "\u001b[36m(ClientAppActor pid=96229)\u001b[0m Epoch 5: train loss 0.07216860353946686, accuracy 0.10439478026098695\u001b[32m [repeated 6x across cluster]\u001b[0m\n",
      "\u001b[36m(ClientAppActor pid=96229)\u001b[0m Epoch 6: train loss 0.07216981053352356, accuracy 0.10439478026098695\u001b[32m [repeated 6x across cluster]\u001b[0m\n",
      "\u001b[36m(ClientAppActor pid=96225)\u001b[0m Epoch 7: train loss 0.07218297570943832, accuracy 0.10441044104410441\u001b[32m [repeated 6x across cluster]\u001b[0m\n",
      "\u001b[36m(ClientAppActor pid=96229)\u001b[0m Epoch 8: train loss 0.07217191904783249, accuracy 0.10439478026098695\u001b[32m [repeated 6x across cluster]\u001b[0m\n"
     ]
    },
    {
     "name": "stderr",
     "output_type": "stream",
     "text": [
      "\u001b[92mINFO \u001b[0m:      aggregate_fit: received 6 results and 0 failures\n",
      "\u001b[92mINFO \u001b[0m:      fit progress: (9, 0.07207163419723511, {'accuracy': 0.1}, 6044.548816291033)\n",
      "\u001b[92mINFO \u001b[0m:      configure_evaluate: strategy sampled 6 clients (out of 6)\n",
      "\u001b[36m(ClientAppActor pid=96230)\u001b[0m /Users/macbook/Desktop/L361/L361_Project/.conda/lib/python3.12/site-packages/datasets/utils/_dill.py:385: DeprecationWarning: co_lnotab is deprecated, use co_lines instead.\u001b[32m [repeated 6x across cluster]\u001b[0m\n",
      "\u001b[36m(ClientAppActor pid=96230)\u001b[0m   obj.co_lnotab,  # for < python 3.10 [not counted in args]\u001b[32m [repeated 6x across cluster]\u001b[0m\n"
     ]
    },
    {
     "name": "stdout",
     "output_type": "stream",
     "text": [
      "\u001b[36m(ClientAppActor pid=96230)\u001b[0m [Client 1] evaluate, config: {}\n",
      "\u001b[36m(ClientAppActor pid=96230)\u001b[0m Epoch 8: train loss 0.07216671854257584, accuracy 0.1055947202639868\u001b[32m [repeated 5x across cluster]\u001b[0m\n"
     ]
    },
    {
     "name": "stderr",
     "output_type": "stream",
     "text": [
      "\u001b[92mINFO \u001b[0m:      aggregate_evaluate: received 6 results and 0 failures\n",
      "\u001b[92mINFO \u001b[0m:      \n",
      "\u001b[92mINFO \u001b[0m:      [ROUND 10]\n",
      "\u001b[92mINFO \u001b[0m:      configure_fit: strategy sampled 6 clients (out of 6)\n"
     ]
    },
    {
     "name": "stdout",
     "output_type": "stream",
     "text": [
      "\u001b[36m(ClientAppActor pid=96230)\u001b[0m [Client 5] fit, config: {}\n",
      "\u001b[36m(ClientAppActor pid=96226)\u001b[0m [Client 0] evaluate, config: {}\u001b[32m [repeated 5x across cluster]\u001b[0m\n"
     ]
    },
    {
     "name": "stderr",
     "output_type": "stream",
     "text": [
      "\u001b[36m(ClientAppActor pid=96230)\u001b[0m /Users/macbook/Desktop/L361/L361_Project/.conda/lib/python3.12/site-packages/datasets/utils/_dill.py:385: DeprecationWarning: co_lnotab is deprecated, use co_lines instead.\u001b[32m [repeated 6x across cluster]\u001b[0m\n",
      "\u001b[36m(ClientAppActor pid=96230)\u001b[0m   obj.co_lnotab,  # for < python 3.10 [not counted in args]\u001b[32m [repeated 6x across cluster]\u001b[0m\n"
     ]
    },
    {
     "name": "stdout",
     "output_type": "stream",
     "text": [
      "\u001b[36m(ClientAppActor pid=96226)\u001b[0m Epoch 1: train loss 0.07220534235239029, accuracy 0.10336033603360337\n",
      "\u001b[36m(ClientAppActor pid=96227)\u001b[0m [Client 2] fit, config: {}\u001b[32m [repeated 5x across cluster]\u001b[0m\n",
      "\u001b[36m(ClientAppActor pid=96226)\u001b[0m Epoch 2: train loss 0.07218780368566513, accuracy 0.10441044104410441\u001b[32m [repeated 6x across cluster]\u001b[0m\n",
      "\u001b[36m(ClientAppActor pid=96226)\u001b[0m Epoch 3: train loss 0.07218542695045471, accuracy 0.10441044104410441\u001b[32m [repeated 6x across cluster]\u001b[0m\n",
      "\u001b[36m(ClientAppActor pid=96225)\u001b[0m Epoch 4: train loss 0.07216551899909973, accuracy 0.1055947202639868\u001b[32m [repeated 6x across cluster]\u001b[0m\n",
      "\u001b[36m(ClientAppActor pid=96225)\u001b[0m Epoch 5: train loss 0.07216519117355347, accuracy 0.1055947202639868\u001b[32m [repeated 6x across cluster]\u001b[0m\n",
      "\u001b[36m(ClientAppActor pid=96230)\u001b[0m Epoch 5: train loss 0.0721832662820816, accuracy 0.10501050105010501\u001b[32m [repeated 5x across cluster]\u001b[0m\n",
      "\u001b[36m(ClientAppActor pid=96225)\u001b[0m Epoch 6: train loss 0.07216846197843552, accuracy 0.1055947202639868\n",
      "\u001b[36m(ClientAppActor pid=96226)\u001b[0m Epoch 6: train loss 0.07218367606401443, accuracy 0.1041104110411041\n",
      "\u001b[36m(ClientAppActor pid=96230)\u001b[0m Epoch 6: train loss 0.07218481600284576, accuracy 0.10501050105010501\u001b[32m [repeated 4x across cluster]\u001b[0m\n",
      "\u001b[36m(ClientAppActor pid=96225)\u001b[0m Epoch 7: train loss 0.07216595858335495, accuracy 0.1055947202639868\n",
      "\u001b[36m(ClientAppActor pid=96226)\u001b[0m Epoch 7: train loss 0.07218332588672638, accuracy 0.1041104110411041\n",
      "\u001b[36m(ClientAppActor pid=96230)\u001b[0m Epoch 7: train loss 0.07218558341264725, accuracy 0.10501050105010501\u001b[32m [repeated 4x across cluster]\u001b[0m\n",
      "\u001b[36m(ClientAppActor pid=96225)\u001b[0m Epoch 8: train loss 0.07216723263263702, accuracy 0.1055947202639868\n",
      "\u001b[36m(ClientAppActor pid=96226)\u001b[0m Epoch 8: train loss 0.07218314707279205, accuracy 0.1041104110411041\n"
     ]
    },
    {
     "name": "stderr",
     "output_type": "stream",
     "text": [
      "\u001b[92mINFO \u001b[0m:      aggregate_fit: received 6 results and 0 failures\n",
      "\u001b[92mINFO \u001b[0m:      fit progress: (10, 0.0720717089176178, {'accuracy': 0.1}, 6707.250894291094)\n",
      "\u001b[92mINFO \u001b[0m:      configure_evaluate: strategy sampled 6 clients (out of 6)\n"
     ]
    },
    {
     "name": "stdout",
     "output_type": "stream",
     "text": [
      "\u001b[36m(ClientAppActor pid=96226)\u001b[0m [Client 4] evaluate, config: {}\n",
      "\u001b[36m(ClientAppActor pid=96230)\u001b[0m Epoch 8: train loss 0.07218147814273834, accuracy 0.10501050105010501\u001b[32m [repeated 4x across cluster]\u001b[0m\n"
     ]
    },
    {
     "name": "stderr",
     "output_type": "stream",
     "text": [
      "\u001b[36m(ClientAppActor pid=96226)\u001b[0m /Users/macbook/Desktop/L361/L361_Project/.conda/lib/python3.12/site-packages/datasets/utils/_dill.py:385: DeprecationWarning: co_lnotab is deprecated, use co_lines instead.\u001b[32m [repeated 6x across cluster]\u001b[0m\n",
      "\u001b[36m(ClientAppActor pid=96226)\u001b[0m   obj.co_lnotab,  # for < python 3.10 [not counted in args]\u001b[32m [repeated 6x across cluster]\u001b[0m\n",
      "\u001b[92mINFO \u001b[0m:      aggregate_evaluate: received 6 results and 0 failures\n",
      "\u001b[92mINFO \u001b[0m:      \n",
      "\u001b[92mINFO \u001b[0m:      [ROUND 11]\n",
      "\u001b[92mINFO \u001b[0m:      configure_fit: strategy sampled 6 clients (out of 6)\n",
      "\u001b[36m(ClientAppActor pid=96225)\u001b[0m /Users/macbook/Desktop/L361/L361_Project/.conda/lib/python3.12/site-packages/datasets/utils/_dill.py:385: DeprecationWarning: co_lnotab is deprecated, use co_lines instead.\u001b[32m [repeated 7x across cluster]\u001b[0m\n",
      "\u001b[36m(ClientAppActor pid=96225)\u001b[0m   obj.co_lnotab,  # for < python 3.10 [not counted in args]\u001b[32m [repeated 7x across cluster]\u001b[0m\n"
     ]
    },
    {
     "name": "stdout",
     "output_type": "stream",
     "text": [
      "\u001b[36m(ClientAppActor pid=96225)\u001b[0m [Client 1] fit, config: {}\n",
      "\u001b[36m(ClientAppActor pid=96229)\u001b[0m [Client 3] evaluate, config: {}\u001b[32m [repeated 5x across cluster]\u001b[0m\n",
      "\u001b[36m(ClientAppActor pid=96226)\u001b[0m Epoch 1: train loss 0.07219452410936356, accuracy 0.10006000600060005\n",
      "\u001b[36m(ClientAppActor pid=96229)\u001b[0m [Client 3] fit, config: {}\u001b[32m [repeated 5x across cluster]\u001b[0m\n",
      "\u001b[36m(ClientAppActor pid=96226)\u001b[0m Epoch 2: train loss 0.07218081504106522, accuracy 0.10441044104410441\u001b[32m [repeated 6x across cluster]\u001b[0m\n",
      "\u001b[36m(ClientAppActor pid=96226)\u001b[0m Epoch 3: train loss 0.07217646390199661, accuracy 0.10306030603060307\u001b[32m [repeated 6x across cluster]\u001b[0m\n",
      "\u001b[36m(ClientAppActor pid=96226)\u001b[0m Epoch 4: train loss 0.07217583805322647, accuracy 0.10126012601260126\u001b[32m [repeated 6x across cluster]\u001b[0m\n",
      "\u001b[36m(ClientAppActor pid=96226)\u001b[0m Epoch 5: train loss 0.07217463850975037, accuracy 0.10081008100810081\u001b[32m [repeated 6x across cluster]\u001b[0m\n",
      "\u001b[36m(ClientAppActor pid=96226)\u001b[0m Epoch 6: train loss 0.07217670232057571, accuracy 0.10516051605160516\u001b[32m [repeated 6x across cluster]\u001b[0m\n",
      "\u001b[36m(ClientAppActor pid=96226)\u001b[0m Epoch 7: train loss 0.07217422127723694, accuracy 0.10516051605160516\u001b[32m [repeated 6x across cluster]\u001b[0m\n",
      "\u001b[36m(ClientAppActor pid=96226)\u001b[0m Epoch 8: train loss 0.07217708230018616, accuracy 0.10516051605160516\u001b[32m [repeated 6x across cluster]\u001b[0m\n"
     ]
    },
    {
     "name": "stderr",
     "output_type": "stream",
     "text": [
      "\u001b[92mINFO \u001b[0m:      aggregate_fit: received 6 results and 0 failures\n",
      "\u001b[92mINFO \u001b[0m:      fit progress: (11, 0.07207182264328003, {'accuracy': 0.1}, 7362.888782166061)\n",
      "\u001b[92mINFO \u001b[0m:      configure_evaluate: strategy sampled 6 clients (out of 6)\n"
     ]
    },
    {
     "name": "stdout",
     "output_type": "stream",
     "text": [
      "\u001b[36m(ClientAppActor pid=96229)\u001b[0m [Client 0] evaluate, config: {}\n",
      "\u001b[36m(ClientAppActor pid=96230)\u001b[0m Epoch 8: train loss 0.07217256724834442, accuracy 0.10439478026098695\u001b[32m [repeated 5x across cluster]\u001b[0m\n"
     ]
    },
    {
     "name": "stderr",
     "output_type": "stream",
     "text": [
      "\u001b[36m(ClientAppActor pid=96229)\u001b[0m /Users/macbook/Desktop/L361/L361_Project/.conda/lib/python3.12/site-packages/datasets/utils/_dill.py:385: DeprecationWarning: co_lnotab is deprecated, use co_lines instead.\u001b[32m [repeated 6x across cluster]\u001b[0m\n",
      "\u001b[36m(ClientAppActor pid=96229)\u001b[0m   obj.co_lnotab,  # for < python 3.10 [not counted in args]\u001b[32m [repeated 6x across cluster]\u001b[0m\n",
      "\u001b[92mINFO \u001b[0m:      aggregate_evaluate: received 6 results and 0 failures\n",
      "\u001b[92mINFO \u001b[0m:      \n",
      "\u001b[92mINFO \u001b[0m:      [ROUND 12]\n",
      "\u001b[92mINFO \u001b[0m:      configure_fit: strategy sampled 6 clients (out of 6)\n"
     ]
    },
    {
     "name": "stdout",
     "output_type": "stream",
     "text": [
      "\u001b[36m(ClientAppActor pid=96226)\u001b[0m [Client 0] fit, config: {}\n",
      "\u001b[36m(ClientAppActor pid=96228)\u001b[0m [Client 1] evaluate, config: {}\u001b[32m [repeated 5x across cluster]\u001b[0m\n"
     ]
    },
    {
     "name": "stderr",
     "output_type": "stream",
     "text": [
      "\u001b[36m(ClientAppActor pid=96226)\u001b[0m /Users/macbook/Desktop/L361/L361_Project/.conda/lib/python3.12/site-packages/datasets/utils/_dill.py:385: DeprecationWarning: co_lnotab is deprecated, use co_lines instead.\u001b[32m [repeated 6x across cluster]\u001b[0m\n",
      "\u001b[36m(ClientAppActor pid=96226)\u001b[0m   obj.co_lnotab,  # for < python 3.10 [not counted in args]\u001b[32m [repeated 6x across cluster]\u001b[0m\n"
     ]
    },
    {
     "name": "stdout",
     "output_type": "stream",
     "text": [
      "\u001b[36m(ClientAppActor pid=96226)\u001b[0m Epoch 1: train loss 0.07218635827302933, accuracy 0.10439478026098695\n",
      "\u001b[36m(ClientAppActor pid=96229)\u001b[0m [Client 2] fit, config: {}\u001b[32m [repeated 5x across cluster]\u001b[0m\n",
      "\u001b[36m(ClientAppActor pid=96226)\u001b[0m Epoch 2: train loss 0.0721738338470459, accuracy 0.10439478026098695\u001b[32m [repeated 6x across cluster]\u001b[0m\n",
      "\u001b[36m(ClientAppActor pid=96226)\u001b[0m Epoch 3: train loss 0.07216894626617432, accuracy 0.10439478026098695\u001b[32m [repeated 6x across cluster]\u001b[0m\n",
      "\u001b[36m(ClientAppActor pid=96226)\u001b[0m Epoch 4: train loss 0.07217153906822205, accuracy 0.10439478026098695\u001b[32m [repeated 6x across cluster]\u001b[0m\n",
      "\u001b[36m(ClientAppActor pid=96229)\u001b[0m Epoch 4: train loss 0.07217345386743546, accuracy 0.10546054605460546\u001b[32m [repeated 4x across cluster]\u001b[0m\n",
      "\u001b[36m(ClientAppActor pid=96226)\u001b[0m Epoch 5: train loss 0.07217071950435638, accuracy 0.10439478026098695\u001b[32m [repeated 2x across cluster]\u001b[0m\n",
      "\u001b[36m(ClientAppActor pid=96228)\u001b[0m Epoch 5: train loss 0.07218222320079803, accuracy 0.10441044104410441\u001b[32m [repeated 4x across cluster]\u001b[0m\n",
      "\u001b[36m(ClientAppActor pid=96226)\u001b[0m Epoch 6: train loss 0.07217072695493698, accuracy 0.10439478026098695\u001b[32m [repeated 2x across cluster]\u001b[0m\n",
      "\u001b[36m(ClientAppActor pid=96228)\u001b[0m Epoch 6: train loss 0.07218218594789505, accuracy 0.10441044104410441\u001b[32m [repeated 4x across cluster]\u001b[0m\n",
      "\u001b[36m(ClientAppActor pid=96226)\u001b[0m Epoch 7: train loss 0.07216896116733551, accuracy 0.10439478026098695\u001b[32m [repeated 2x across cluster]\u001b[0m\n",
      "\u001b[36m(ClientAppActor pid=96228)\u001b[0m Epoch 7: train loss 0.0721827819943428, accuracy 0.10441044104410441\u001b[32m [repeated 4x across cluster]\u001b[0m\n",
      "\u001b[36m(ClientAppActor pid=96226)\u001b[0m Epoch 8: train loss 0.07217186689376831, accuracy 0.10439478026098695\u001b[32m [repeated 2x across cluster]\u001b[0m\n"
     ]
    },
    {
     "name": "stderr",
     "output_type": "stream",
     "text": [
      "\u001b[92mINFO \u001b[0m:      aggregate_fit: received 6 results and 0 failures\n"
     ]
    },
    {
     "name": "stdout",
     "output_type": "stream",
     "text": [
      "\u001b[36m(ClientAppActor pid=96230)\u001b[0m Epoch 8: train loss 0.07218531519174576, accuracy 0.10501050105010501\u001b[32m [repeated 4x across cluster]\u001b[0m\n"
     ]
    },
    {
     "name": "stderr",
     "output_type": "stream",
     "text": [
      "\u001b[92mINFO \u001b[0m:      fit progress: (12, 0.072071550822258, {'accuracy': 0.1}, 8000.681276916061)\n",
      "\u001b[92mINFO \u001b[0m:      configure_evaluate: strategy sampled 6 clients (out of 6)\n",
      "\u001b[36m(ClientAppActor pid=96227)\u001b[0m /Users/macbook/Desktop/L361/L361_Project/.conda/lib/python3.12/site-packages/datasets/utils/_dill.py:385: DeprecationWarning: co_lnotab is deprecated, use co_lines instead.\u001b[32m [repeated 6x across cluster]\u001b[0m\n",
      "\u001b[36m(ClientAppActor pid=96227)\u001b[0m   obj.co_lnotab,  # for < python 3.10 [not counted in args]\u001b[32m [repeated 6x across cluster]\u001b[0m\n"
     ]
    },
    {
     "name": "stdout",
     "output_type": "stream",
     "text": [
      "\u001b[36m(ClientAppActor pid=96227)\u001b[0m [Client 4] evaluate, config: {}\n",
      "\u001b[36m(ClientAppActor pid=96228)\u001b[0m Epoch 8: train loss 0.07218411564826965, accuracy 0.10441044104410441\n"
     ]
    },
    {
     "name": "stderr",
     "output_type": "stream",
     "text": [
      "\u001b[92mINFO \u001b[0m:      aggregate_evaluate: received 6 results and 0 failures\n",
      "\u001b[92mINFO \u001b[0m:      \n",
      "\u001b[92mINFO \u001b[0m:      [ROUND 13]\n",
      "\u001b[92mINFO \u001b[0m:      configure_fit: strategy sampled 6 clients (out of 6)\n"
     ]
    },
    {
     "name": "stdout",
     "output_type": "stream",
     "text": [
      "\u001b[36m(ClientAppActor pid=96229)\u001b[0m [Client 0] fit, config: {}\n",
      "\u001b[36m(ClientAppActor pid=96230)\u001b[0m [Client 1] evaluate, config: {}\u001b[32m [repeated 5x across cluster]\u001b[0m\n"
     ]
    },
    {
     "name": "stderr",
     "output_type": "stream",
     "text": [
      "\u001b[36m(ClientAppActor pid=96229)\u001b[0m /Users/macbook/Desktop/L361/L361_Project/.conda/lib/python3.12/site-packages/datasets/utils/_dill.py:385: DeprecationWarning: co_lnotab is deprecated, use co_lines instead.\u001b[32m [repeated 6x across cluster]\u001b[0m\n",
      "\u001b[36m(ClientAppActor pid=96229)\u001b[0m   obj.co_lnotab,  # for < python 3.10 [not counted in args]\u001b[32m [repeated 6x across cluster]\u001b[0m\n"
     ]
    },
    {
     "name": "stdout",
     "output_type": "stream",
     "text": [
      "\u001b[36m(ClientAppActor pid=96229)\u001b[0m Epoch 1: train loss 0.07218306511640549, accuracy 0.10439478026098695\n",
      "\u001b[36m(ClientAppActor pid=96225)\u001b[0m [Client 4] fit, config: {}\u001b[32m [repeated 5x across cluster]\u001b[0m\n",
      "\u001b[36m(ClientAppActor pid=96229)\u001b[0m Epoch 2: train loss 0.07217544317245483, accuracy 0.10439478026098695\u001b[32m [repeated 6x across cluster]\u001b[0m\n",
      "\u001b[36m(ClientAppActor pid=96229)\u001b[0m Epoch 3: train loss 0.07217096537351608, accuracy 0.10439478026098695\u001b[32m [repeated 6x across cluster]\u001b[0m\n",
      "\u001b[36m(ClientAppActor pid=96229)\u001b[0m Epoch 4: train loss 0.07216953486204147, accuracy 0.10439478026098695\u001b[32m [repeated 6x across cluster]\u001b[0m\n",
      "\u001b[36m(ClientAppActor pid=96229)\u001b[0m \n",
      "\u001b[36m(ClientAppActor pid=96229)\u001b[0m Epoch 5: train loss 0.07216882705688477, accuracy 0.10439478026098695\u001b[32m [repeated 6x across cluster]\u001b[0m\n",
      "\u001b[36m(ClientAppActor pid=96229)\u001b[0m Epoch 6: train loss 0.07216952741146088, accuracy 0.10439478026098695\u001b[32m [repeated 6x across cluster]\u001b[0m\n",
      "\u001b[36m(ClientAppActor pid=96229)\u001b[0m Epoch 7: train loss 0.07216871529817581, accuracy 0.10124493775311234\u001b[32m [repeated 6x across cluster]\u001b[0m\n",
      "\u001b[36m(ClientAppActor pid=96226)\u001b[0m Epoch 8: train loss 0.07218446582555771, accuracy 0.10501050105010501\u001b[32m [repeated 6x across cluster]\u001b[0m\n"
     ]
    },
    {
     "name": "stderr",
     "output_type": "stream",
     "text": [
      "\u001b[92mINFO \u001b[0m:      aggregate_fit: received 6 results and 0 failures\n",
      "\u001b[92mINFO \u001b[0m:      fit progress: (13, 0.07207157354354858, {'accuracy': 0.1}, 8638.942831083084)\n",
      "\u001b[92mINFO \u001b[0m:      configure_evaluate: strategy sampled 6 clients (out of 6)\n",
      "\u001b[36m(ClientAppActor pid=96229)\u001b[0m /Users/macbook/Desktop/L361/L361_Project/.conda/lib/python3.12/site-packages/datasets/utils/_dill.py:385: DeprecationWarning: co_lnotab is deprecated, use co_lines instead.\u001b[32m [repeated 6x across cluster]\u001b[0m\n",
      "\u001b[36m(ClientAppActor pid=96229)\u001b[0m   obj.co_lnotab,  # for < python 3.10 [not counted in args]\u001b[32m [repeated 6x across cluster]\u001b[0m\n"
     ]
    },
    {
     "name": "stdout",
     "output_type": "stream",
     "text": [
      "\u001b[36m(ClientAppActor pid=96229)\u001b[0m [Client 4] evaluate, config: {}\n",
      "\u001b[36m(ClientAppActor pid=96230)\u001b[0m Epoch 8: train loss 0.07217606157064438, accuracy 0.10546054605460546\u001b[32m [repeated 5x across cluster]\u001b[0m\n"
     ]
    },
    {
     "name": "stderr",
     "output_type": "stream",
     "text": [
      "\u001b[92mINFO \u001b[0m:      aggregate_evaluate: received 6 results and 0 failures\n",
      "\u001b[92mINFO \u001b[0m:      \n",
      "\u001b[92mINFO \u001b[0m:      [ROUND 14]\n",
      "\u001b[92mINFO \u001b[0m:      configure_fit: strategy sampled 6 clients (out of 6)\n"
     ]
    },
    {
     "name": "stdout",
     "output_type": "stream",
     "text": [
      "\u001b[36m(ClientAppActor pid=96229)\u001b[0m [Client 5] fit, config: {}\n",
      "\u001b[36m(ClientAppActor pid=96226)\u001b[0m [Client 5] evaluate, config: {}\u001b[32m [repeated 5x across cluster]\u001b[0m\n"
     ]
    },
    {
     "name": "stderr",
     "output_type": "stream",
     "text": [
      "\u001b[36m(ClientAppActor pid=96229)\u001b[0m /Users/macbook/Desktop/L361/L361_Project/.conda/lib/python3.12/site-packages/datasets/utils/_dill.py:385: DeprecationWarning: co_lnotab is deprecated, use co_lines instead.\u001b[32m [repeated 6x across cluster]\u001b[0m\n",
      "\u001b[36m(ClientAppActor pid=96229)\u001b[0m   obj.co_lnotab,  # for < python 3.10 [not counted in args]\u001b[32m [repeated 6x across cluster]\u001b[0m\n"
     ]
    },
    {
     "name": "stdout",
     "output_type": "stream",
     "text": [
      "\u001b[36m(ClientAppActor pid=96225)\u001b[0m Epoch 1: train loss 0.07219855487346649, accuracy 0.10291029102910292\n",
      "\u001b[36m(ClientAppActor pid=96228)\u001b[0m [Client 4] fit, config: {}\u001b[32m [repeated 5x across cluster]\u001b[0m\n",
      "\u001b[36m(ClientAppActor pid=96226)\u001b[0m Epoch 2: train loss 0.07217736542224884, accuracy 0.1048447577621119\u001b[32m [repeated 6x across cluster]\u001b[0m\n",
      "\u001b[36m(ClientAppActor pid=96226)\u001b[0m Epoch 3: train loss 0.07217182219028473, accuracy 0.10304484775761212\u001b[32m [repeated 6x across cluster]\u001b[0m\n",
      "\u001b[36m(ClientAppActor pid=96226)\u001b[0m Epoch 4: train loss 0.07217170298099518, accuracy 0.10379481025948703\u001b[32m [repeated 6x across cluster]\u001b[0m\n",
      "\u001b[36m(ClientAppActor pid=96226)\u001b[0m Epoch 5: train loss 0.07216896116733551, accuracy 0.10439478026098695\u001b[32m [repeated 6x across cluster]\u001b[0m\n",
      "\u001b[36m(ClientAppActor pid=96226)\u001b[0m Epoch 6: train loss 0.07216909527778625, accuracy 0.10439478026098695\u001b[32m [repeated 6x across cluster]\u001b[0m\n",
      "\u001b[36m(ClientAppActor pid=96226)\u001b[0m Epoch 7: train loss 0.07217024266719818, accuracy 0.10439478026098695\u001b[32m [repeated 6x across cluster]\u001b[0m\n",
      "\u001b[36m(ClientAppActor pid=96226)\u001b[0m Epoch 8: train loss 0.07216956466436386, accuracy 0.10439478026098695\u001b[32m [repeated 6x across cluster]\u001b[0m\n"
     ]
    },
    {
     "name": "stderr",
     "output_type": "stream",
     "text": [
      "\u001b[92mINFO \u001b[0m:      aggregate_fit: received 6 results and 0 failures\n",
      "\u001b[92mINFO \u001b[0m:      fit progress: (14, 0.07207168111801147, {'accuracy': 0.1}, 9281.084845458041)\n",
      "\u001b[92mINFO \u001b[0m:      configure_evaluate: strategy sampled 6 clients (out of 6)\n",
      "\u001b[36m(ClientAppActor pid=96230)\u001b[0m /Users/macbook/Desktop/L361/L361_Project/.conda/lib/python3.12/site-packages/datasets/utils/_dill.py:385: DeprecationWarning: co_lnotab is deprecated, use co_lines instead.\u001b[32m [repeated 6x across cluster]\u001b[0m\n",
      "\u001b[36m(ClientAppActor pid=96230)\u001b[0m   obj.co_lnotab,  # for < python 3.10 [not counted in args]\u001b[32m [repeated 6x across cluster]\u001b[0m\n"
     ]
    },
    {
     "name": "stdout",
     "output_type": "stream",
     "text": [
      "\u001b[36m(ClientAppActor pid=96230)\u001b[0m [Client 4] evaluate, config: {}\n",
      "\u001b[36m(ClientAppActor pid=96228)\u001b[0m Epoch 8: train loss 0.07218402624130249, accuracy 0.10261026102610261\u001b[32m [repeated 5x across cluster]\u001b[0m\n"
     ]
    },
    {
     "name": "stderr",
     "output_type": "stream",
     "text": [
      "\u001b[92mINFO \u001b[0m:      aggregate_evaluate: received 6 results and 0 failures\n",
      "\u001b[92mINFO \u001b[0m:      \n",
      "\u001b[92mINFO \u001b[0m:      [ROUND 15]\n",
      "\u001b[92mINFO \u001b[0m:      configure_fit: strategy sampled 6 clients (out of 6)\n",
      "\u001b[36m(ClientAppActor pid=96227)\u001b[0m /Users/macbook/Desktop/L361/L361_Project/.conda/lib/python3.12/site-packages/datasets/utils/_dill.py:385: DeprecationWarning: co_lnotab is deprecated, use co_lines instead.\u001b[32m [repeated 6x across cluster]\u001b[0m\n",
      "\u001b[36m(ClientAppActor pid=96227)\u001b[0m   obj.co_lnotab,  # for < python 3.10 [not counted in args]\u001b[32m [repeated 6x across cluster]\u001b[0m\n"
     ]
    },
    {
     "name": "stdout",
     "output_type": "stream",
     "text": [
      "\u001b[36m(ClientAppActor pid=96227)\u001b[0m [Client 2] fit, config: {}\n",
      "\u001b[36m(ClientAppActor pid=96227)\u001b[0m [Client 1] evaluate, config: {}\u001b[32m [repeated 5x across cluster]\u001b[0m\n",
      "\u001b[36m(ClientAppActor pid=96230)\u001b[0m [Client 5] fit, config: {}\u001b[32m [repeated 5x across cluster]\u001b[0m\n"
     ]
    },
    {
     "name": "stderr",
     "output_type": "stream",
     "text": [
      "\u001b[36m(ClientAppActor pid=96230)\u001b[0m /Users/macbook/Desktop/L361/L361_Project/.conda/lib/python3.12/site-packages/datasets/utils/_dill.py:385: DeprecationWarning: co_lnotab is deprecated, use co_lines instead.\u001b[32m [repeated 5x across cluster]\u001b[0m\n",
      "\u001b[36m(ClientAppActor pid=96230)\u001b[0m   obj.co_lnotab,  # for < python 3.10 [not counted in args]\u001b[32m [repeated 5x across cluster]\u001b[0m\n"
     ]
    },
    {
     "name": "stdout",
     "output_type": "stream",
     "text": [
      "\u001b[36m(ClientAppActor pid=96229)\u001b[0m Epoch 1: train loss 0.07220020145177841, accuracy 0.0963096309630963\n",
      "\u001b[36m(ClientAppActor pid=96230)\u001b[0m Epoch 1: train loss 0.07219534367322922, accuracy 0.09855985598559856\u001b[32m [repeated 5x across cluster]\u001b[0m\n",
      "\u001b[36m(ClientAppActor pid=96229)\u001b[0m Epoch 2: train loss 0.07218793779611588, accuracy 0.10426042604260426\n",
      "\u001b[36m(ClientAppActor pid=96227)\u001b[0m Epoch 2: train loss 0.07218057662248611, accuracy 0.10441044104410441\n",
      "\u001b[36m(ClientAppActor pid=96230)\u001b[0m Epoch 2: train loss 0.07218679040670395, accuracy 0.10501050105010501\u001b[32m [repeated 4x across cluster]\u001b[0m\n",
      "\u001b[36m(ClientAppActor pid=96229)\u001b[0m Epoch 3: train loss 0.07218332588672638, accuracy 0.1041104110411041\n",
      "\u001b[36m(ClientAppActor pid=96227)\u001b[0m Epoch 3: train loss 0.07217646390199661, accuracy 0.10036003600360036\n",
      "\u001b[36m(ClientAppActor pid=96230)\u001b[0m Epoch 3: train loss 0.07218539714813232, accuracy 0.10501050105010501\u001b[32m [repeated 4x across cluster]\u001b[0m\n",
      "\u001b[36m(ClientAppActor pid=96229)\u001b[0m Epoch 4: train loss 0.07218074053525925, accuracy 0.1041104110411041\n",
      "\u001b[36m(ClientAppActor pid=96226)\u001b[0m Epoch 4: train loss 0.07217063754796982, accuracy 0.10439478026098695\n",
      "\u001b[36m(ClientAppActor pid=96230)\u001b[0m Epoch 4: train loss 0.07218462973833084, accuracy 0.10501050105010501\u001b[32m [repeated 4x across cluster]\u001b[0m\n",
      "\u001b[36m(ClientAppActor pid=96227)\u001b[0m Epoch 5: train loss 0.07217524945735931, accuracy 0.10546054605460546\n",
      "\u001b[36m(ClientAppActor pid=96229)\u001b[0m Epoch 5: train loss 0.07218412309885025, accuracy 0.1041104110411041\n",
      "\u001b[36m(ClientAppActor pid=96230)\u001b[0m Epoch 5: train loss 0.072184257209301, accuracy 0.10501050105010501\u001b[32m [repeated 4x across cluster]\u001b[0m\n",
      "\u001b[36m(ClientAppActor pid=96229)\u001b[0m Epoch 6: train loss 0.07218283414840698, accuracy 0.10201020102010201\n",
      "\u001b[36m(ClientAppActor pid=96227)\u001b[0m Epoch 6: train loss 0.07217489182949066, accuracy 0.10546054605460546\n",
      "\u001b[36m(ClientAppActor pid=96230)\u001b[0m Epoch 6: train loss 0.0721854642033577, accuracy 0.10501050105010501\u001b[32m [repeated 4x across cluster]\u001b[0m\n",
      "\u001b[36m(ClientAppActor pid=96229)\u001b[0m Epoch 7: train loss 0.07218363881111145, accuracy 0.10441044104410441\n",
      "\u001b[36m(ClientAppActor pid=96227)\u001b[0m Epoch 7: train loss 0.07217646390199661, accuracy 0.10276027602760276\n",
      "\u001b[36m(ClientAppActor pid=96230)\u001b[0m Epoch 7: train loss 0.07218431681394577, accuracy 0.10501050105010501\u001b[32m [repeated 4x across cluster]\u001b[0m\n",
      "\u001b[36m(ClientAppActor pid=96229)\u001b[0m Epoch 8: train loss 0.07218378037214279, accuracy 0.10441044104410441\n",
      "\u001b[36m(ClientAppActor pid=96226)\u001b[0m Epoch 8: train loss 0.07216808944940567, accuracy 0.10439478026098695\n"
     ]
    },
    {
     "name": "stderr",
     "output_type": "stream",
     "text": [
      "\u001b[92mINFO \u001b[0m:      aggregate_fit: received 6 results and 0 failures\n"
     ]
    },
    {
     "name": "stdout",
     "output_type": "stream",
     "text": [
      "\u001b[36m(ClientAppActor pid=96230)\u001b[0m Epoch 8: train loss 0.07218345999717712, accuracy 0.10501050105010501\u001b[32m [repeated 4x across cluster]\u001b[0m\n"
     ]
    },
    {
     "name": "stderr",
     "output_type": "stream",
     "text": [
      "\u001b[92mINFO \u001b[0m:      fit progress: (15, 0.07207185316085815, {'accuracy': 0.1}, 9925.787196291029)\n",
      "\u001b[92mINFO \u001b[0m:      configure_evaluate: strategy sampled 6 clients (out of 6)\n"
     ]
    },
    {
     "name": "stdout",
     "output_type": "stream",
     "text": [
      "\u001b[36m(ClientAppActor pid=96230)\u001b[0m [Client 1] evaluate, config: {}\n"
     ]
    },
    {
     "name": "stderr",
     "output_type": "stream",
     "text": [
      "\u001b[36m(ClientAppActor pid=96230)\u001b[0m /Users/macbook/Desktop/L361/L361_Project/.conda/lib/python3.12/site-packages/datasets/utils/_dill.py:385: DeprecationWarning: co_lnotab is deprecated, use co_lines instead.\n",
      "\u001b[36m(ClientAppActor pid=96230)\u001b[0m   obj.co_lnotab,  # for < python 3.10 [not counted in args]\n",
      "\u001b[36m(ClientAppActor pid=96226)\u001b[0m /Users/macbook/Desktop/L361/L361_Project/.conda/lib/python3.12/site-packages/datasets/utils/_dill.py:385: DeprecationWarning: co_lnotab is deprecated, use co_lines instead.\n",
      "\u001b[36m(ClientAppActor pid=96226)\u001b[0m   obj.co_lnotab,  # for < python 3.10 [not counted in args]\n",
      "\u001b[92mINFO \u001b[0m:      aggregate_evaluate: received 6 results and 0 failures\n",
      "\u001b[92mINFO \u001b[0m:      \n",
      "\u001b[92mINFO \u001b[0m:      [ROUND 16]\n",
      "\u001b[92mINFO \u001b[0m:      configure_fit: strategy sampled 6 clients (out of 6)\n"
     ]
    },
    {
     "name": "stdout",
     "output_type": "stream",
     "text": [
      "\u001b[36m(ClientAppActor pid=96230)\u001b[0m [Client 5] fit, config: {}\n",
      "\u001b[36m(ClientAppActor pid=96227)\u001b[0m [Client 4] evaluate, config: {}\u001b[32m [repeated 5x across cluster]\u001b[0m\n"
     ]
    },
    {
     "name": "stderr",
     "output_type": "stream",
     "text": [
      "\u001b[36m(ClientAppActor pid=96230)\u001b[0m /Users/macbook/Desktop/L361/L361_Project/.conda/lib/python3.12/site-packages/datasets/utils/_dill.py:385: DeprecationWarning: co_lnotab is deprecated, use co_lines instead.\u001b[32m [repeated 5x across cluster]\u001b[0m\n",
      "\u001b[36m(ClientAppActor pid=96230)\u001b[0m   obj.co_lnotab,  # for < python 3.10 [not counted in args]\u001b[32m [repeated 5x across cluster]\u001b[0m\n"
     ]
    },
    {
     "name": "stdout",
     "output_type": "stream",
     "text": [
      "\u001b[36m(ClientAppActor pid=96230)\u001b[0m Epoch 1: train loss 0.0722026452422142, accuracy 0.09795979597959796\n",
      "\u001b[36m(ClientAppActor pid=96225)\u001b[0m [Client 1] fit, config: {}\u001b[32m [repeated 5x across cluster]\u001b[0m\n",
      "\u001b[36m(ClientAppActor pid=96226)\u001b[0m Epoch 2: train loss 0.07218730449676514, accuracy 0.10441044104410441\u001b[32m [repeated 6x across cluster]\u001b[0m\n",
      "\u001b[36m(ClientAppActor pid=96227)\u001b[0m Epoch 3: train loss 0.07217022031545639, accuracy 0.10439478026098695\u001b[32m [repeated 6x across cluster]\u001b[0m\n",
      "\u001b[36m(ClientAppActor pid=96227)\u001b[0m Epoch 4: train loss 0.07217366248369217, accuracy 0.10439478026098695\u001b[32m [repeated 6x across cluster]\u001b[0m\n",
      "\u001b[36m(ClientAppActor pid=96227)\u001b[0m Epoch 5: train loss 0.07216879725456238, accuracy 0.10439478026098695\u001b[32m [repeated 6x across cluster]\u001b[0m\n",
      "\u001b[36m(ClientAppActor pid=96227)\u001b[0m Epoch 6: train loss 0.07217070460319519, accuracy 0.10439478026098695\u001b[32m [repeated 6x across cluster]\u001b[0m\n",
      "\u001b[36m(ClientAppActor pid=96227)\u001b[0m Epoch 7: train loss 0.07217005640268326, accuracy 0.10439478026098695\u001b[32m [repeated 6x across cluster]\u001b[0m\n",
      "\u001b[36m(ClientAppActor pid=96229)\u001b[0m Epoch 8: train loss 0.07217919826507568, accuracy 0.10441044104410441\u001b[32m [repeated 6x across cluster]\u001b[0m\n"
     ]
    },
    {
     "name": "stderr",
     "output_type": "stream",
     "text": [
      "\u001b[92mINFO \u001b[0m:      aggregate_fit: received 6 results and 0 failures\n",
      "\u001b[92mINFO \u001b[0m:      fit progress: (16, 0.07207166166305543, {'accuracy': 0.1}, 10563.687181000016)\n",
      "\u001b[92mINFO \u001b[0m:      configure_evaluate: strategy sampled 6 clients (out of 6)\n"
     ]
    },
    {
     "name": "stdout",
     "output_type": "stream",
     "text": [
      "\u001b[36m(ClientAppActor pid=96229)\u001b[0m [Client 4] evaluate, config: {}\n",
      "\u001b[36m(ClientAppActor pid=96225)\u001b[0m Epoch 8: train loss 0.07216542959213257, accuracy 0.1055947202639868\u001b[32m [repeated 5x across cluster]\u001b[0m\n"
     ]
    },
    {
     "name": "stderr",
     "output_type": "stream",
     "text": [
      "\u001b[36m(ClientAppActor pid=96229)\u001b[0m /Users/macbook/Desktop/L361/L361_Project/.conda/lib/python3.12/site-packages/datasets/utils/_dill.py:385: DeprecationWarning: co_lnotab is deprecated, use co_lines instead.\u001b[32m [repeated 6x across cluster]\u001b[0m\n",
      "\u001b[36m(ClientAppActor pid=96229)\u001b[0m   obj.co_lnotab,  # for < python 3.10 [not counted in args]\u001b[32m [repeated 6x across cluster]\u001b[0m\n",
      "\u001b[92mINFO \u001b[0m:      aggregate_evaluate: received 6 results and 0 failures\n",
      "\u001b[92mINFO \u001b[0m:      \n",
      "\u001b[92mINFO \u001b[0m:      [ROUND 17]\n",
      "\u001b[92mINFO \u001b[0m:      configure_fit: strategy sampled 6 clients (out of 6)\n"
     ]
    },
    {
     "name": "stdout",
     "output_type": "stream",
     "text": [
      "\u001b[36m(ClientAppActor pid=96229)\u001b[0m [Client 5] fit, config: {}\n",
      "\u001b[36m(ClientAppActor pid=96230)\u001b[0m [Client 2] evaluate, config: {}\u001b[32m [repeated 5x across cluster]\u001b[0m\n"
     ]
    },
    {
     "name": "stderr",
     "output_type": "stream",
     "text": [
      "\u001b[36m(ClientAppActor pid=96229)\u001b[0m /Users/macbook/Desktop/L361/L361_Project/.conda/lib/python3.12/site-packages/datasets/utils/_dill.py:385: DeprecationWarning: co_lnotab is deprecated, use co_lines instead.\u001b[32m [repeated 6x across cluster]\u001b[0m\n",
      "\u001b[36m(ClientAppActor pid=96229)\u001b[0m   obj.co_lnotab,  # for < python 3.10 [not counted in args]\u001b[32m [repeated 6x across cluster]\u001b[0m\n"
     ]
    },
    {
     "name": "stdout",
     "output_type": "stream",
     "text": [
      "\u001b[36m(ClientAppActor pid=96229)\u001b[0m Epoch 1: train loss 0.07219669222831726, accuracy 0.09780978097809781\n",
      "\u001b[36m(ClientAppActor pid=96226)\u001b[0m [Client 0] fit, config: {}\u001b[32m [repeated 5x across cluster]\u001b[0m\n",
      "\u001b[36m(ClientAppActor pid=96225)\u001b[0m Epoch 2: train loss 0.07218927890062332, accuracy 0.10366036603660365\u001b[32m [repeated 6x across cluster]\u001b[0m\n",
      "\u001b[36m(ClientAppActor pid=96225)\u001b[0m Epoch 3: train loss 0.07218746095895767, accuracy 0.10366036603660365\u001b[32m [repeated 6x across cluster]\u001b[0m\n",
      "\u001b[36m(ClientAppActor pid=96225)\u001b[0m Epoch 4: train loss 0.07218372821807861, accuracy 0.10366036603660365\u001b[32m [repeated 6x across cluster]\u001b[0m\n",
      "\u001b[36m(ClientAppActor pid=96225)\u001b[0m Epoch 5: train loss 0.07218508422374725, accuracy 0.10366036603660365\u001b[32m [repeated 6x across cluster]\u001b[0m\n",
      "\u001b[36m(ClientAppActor pid=96225)\u001b[0m Epoch 6: train loss 0.07218476384878159, accuracy 0.10231023102310231\u001b[32m [repeated 6x across cluster]\u001b[0m\n",
      "\u001b[36m(ClientAppActor pid=96225)\u001b[0m Epoch 7: train loss 0.07218485325574875, accuracy 0.10291029102910292\u001b[32m [repeated 6x across cluster]\u001b[0m\n",
      "\u001b[36m(ClientAppActor pid=96229)\u001b[0m \n",
      "\u001b[36m(ClientAppActor pid=96230)\u001b[0m Epoch 7: train loss 0.07217688858509064, accuracy 0.10546054605460546\u001b[32m [repeated 5x across cluster]\u001b[0m\n",
      "\u001b[36m(ClientAppActor pid=96225)\u001b[0m Epoch 8: train loss 0.07218604534864426, accuracy 0.10291029102910292\n",
      "\u001b[36m(ClientAppActor pid=96228)\u001b[0m Epoch 8: train loss 0.0721825510263443, accuracy 0.10201020102010201\n"
     ]
    },
    {
     "name": "stderr",
     "output_type": "stream",
     "text": [
      "\u001b[92mINFO \u001b[0m:      aggregate_fit: received 6 results and 0 failures\n",
      "\u001b[92mINFO \u001b[0m:      fit progress: (17, 0.07207165017127991, {'accuracy': 0.1}, 11200.583327333094)\n",
      "\u001b[92mINFO \u001b[0m:      configure_evaluate: strategy sampled 6 clients (out of 6)\n"
     ]
    },
    {
     "name": "stdout",
     "output_type": "stream",
     "text": [
      "\u001b[36m(ClientAppActor pid=96229)\u001b[0m [Client 3] evaluate, config: {}\n",
      "\u001b[36m(ClientAppActor pid=96230)\u001b[0m Epoch 8: train loss 0.0721764862537384, accuracy 0.10546054605460546\u001b[32m [repeated 4x across cluster]\u001b[0m\n"
     ]
    },
    {
     "name": "stderr",
     "output_type": "stream",
     "text": [
      "\u001b[36m(ClientAppActor pid=96229)\u001b[0m /Users/macbook/Desktop/L361/L361_Project/.conda/lib/python3.12/site-packages/datasets/utils/_dill.py:385: DeprecationWarning: co_lnotab is deprecated, use co_lines instead.\u001b[32m [repeated 6x across cluster]\u001b[0m\n",
      "\u001b[36m(ClientAppActor pid=96229)\u001b[0m   obj.co_lnotab,  # for < python 3.10 [not counted in args]\u001b[32m [repeated 6x across cluster]\u001b[0m\n",
      "\u001b[92mINFO \u001b[0m:      aggregate_evaluate: received 6 results and 0 failures\n",
      "\u001b[92mINFO \u001b[0m:      \n",
      "\u001b[92mINFO \u001b[0m:      [ROUND 18]\n",
      "\u001b[92mINFO \u001b[0m:      configure_fit: strategy sampled 6 clients (out of 6)\n",
      "\u001b[36m(ClientAppActor pid=96227)\u001b[0m /Users/macbook/Desktop/L361/L361_Project/.conda/lib/python3.12/site-packages/datasets/utils/_dill.py:385: DeprecationWarning: co_lnotab is deprecated, use co_lines instead.\u001b[32m [repeated 6x across cluster]\u001b[0m\n",
      "\u001b[36m(ClientAppActor pid=96227)\u001b[0m   obj.co_lnotab,  # for < python 3.10 [not counted in args]\u001b[32m [repeated 6x across cluster]\u001b[0m\n"
     ]
    },
    {
     "name": "stdout",
     "output_type": "stream",
     "text": [
      "\u001b[36m(ClientAppActor pid=96227)\u001b[0m [Client 1] fit, config: {}\n",
      "\u001b[36m(ClientAppActor pid=96228)\u001b[0m [Client 4] evaluate, config: {}\u001b[32m [repeated 5x across cluster]\u001b[0m\n",
      "\u001b[36m(ClientAppActor pid=96229)\u001b[0m Epoch 1: train loss 0.07219985127449036, accuracy 0.1005100510051005\n",
      "\u001b[36m(ClientAppActor pid=96228)\u001b[0m [Client 0] fit, config: {}\u001b[32m [repeated 5x across cluster]\u001b[0m\n",
      "\u001b[36m(ClientAppActor pid=96229)\u001b[0m Epoch 2: train loss 0.0721900463104248, accuracy 0.10711071107110712\u001b[32m [repeated 6x across cluster]\u001b[0m\n",
      "\u001b[36m(ClientAppActor pid=96225)\u001b[0m Epoch 3: train loss 0.07218631356954575, accuracy 0.10366036603660365\u001b[32m [repeated 6x across cluster]\u001b[0m\n",
      "\u001b[36m(ClientAppActor pid=96229)\u001b[0m Epoch 4: train loss 0.07218318432569504, accuracy 0.10501050105010501\u001b[32m [repeated 6x across cluster]\u001b[0m\n",
      "\u001b[36m(ClientAppActor pid=96225)\u001b[0m Epoch 5: train loss 0.07218529284000397, accuracy 0.10366036603660365\u001b[32m [repeated 6x across cluster]\u001b[0m\n",
      "\u001b[36m(ClientAppActor pid=96225)\u001b[0m Epoch 6: train loss 0.07218429446220398, accuracy 0.10366036603660365\u001b[32m [repeated 6x across cluster]\u001b[0m\n",
      "\u001b[36m(ClientAppActor pid=96225)\u001b[0m Epoch 7: train loss 0.07218562066555023, accuracy 0.0963096309630963\u001b[32m [repeated 6x across cluster]\u001b[0m\n",
      "\u001b[36m(ClientAppActor pid=96225)\u001b[0m Epoch 8: train loss 0.07218554615974426, accuracy 0.10291029102910292\u001b[32m [repeated 6x across cluster]\u001b[0m\n"
     ]
    },
    {
     "name": "stderr",
     "output_type": "stream",
     "text": [
      "\u001b[92mINFO \u001b[0m:      aggregate_fit: received 6 results and 0 failures\n",
      "\u001b[92mINFO \u001b[0m:      fit progress: (18, 0.07207200560569763, {'accuracy': 0.1}, 11836.451366458088)\n",
      "\u001b[92mINFO \u001b[0m:      configure_evaluate: strategy sampled 6 clients (out of 6)\n"
     ]
    },
    {
     "name": "stdout",
     "output_type": "stream",
     "text": [
      "\u001b[36m(ClientAppActor pid=96226)\u001b[0m [Client 2] evaluate, config: {}\n",
      "\u001b[36m(ClientAppActor pid=96230)\u001b[0m Epoch 8: train loss 0.07217457890510559, accuracy 0.10546054605460546\u001b[32m [repeated 5x across cluster]\u001b[0m\n"
     ]
    },
    {
     "name": "stderr",
     "output_type": "stream",
     "text": [
      "\u001b[36m(ClientAppActor pid=96226)\u001b[0m /Users/macbook/Desktop/L361/L361_Project/.conda/lib/python3.12/site-packages/datasets/utils/_dill.py:385: DeprecationWarning: co_lnotab is deprecated, use co_lines instead.\u001b[32m [repeated 6x across cluster]\u001b[0m\n",
      "\u001b[36m(ClientAppActor pid=96226)\u001b[0m   obj.co_lnotab,  # for < python 3.10 [not counted in args]\u001b[32m [repeated 6x across cluster]\u001b[0m\n",
      "\u001b[92mINFO \u001b[0m:      aggregate_evaluate: received 6 results and 0 failures\n",
      "\u001b[92mINFO \u001b[0m:      \n",
      "\u001b[92mINFO \u001b[0m:      [ROUND 19]\n",
      "\u001b[92mINFO \u001b[0m:      configure_fit: strategy sampled 6 clients (out of 6)\n"
     ]
    },
    {
     "name": "stdout",
     "output_type": "stream",
     "text": [
      "\u001b[36m(ClientAppActor pid=96229)\u001b[0m [Client 1] fit, config: {}\n",
      "\u001b[36m(ClientAppActor pid=96227)\u001b[0m [Client 0] evaluate, config: {}\u001b[32m [repeated 5x across cluster]\u001b[0m\n"
     ]
    },
    {
     "name": "stderr",
     "output_type": "stream",
     "text": [
      "\u001b[36m(ClientAppActor pid=96229)\u001b[0m /Users/macbook/Desktop/L361/L361_Project/.conda/lib/python3.12/site-packages/datasets/utils/_dill.py:385: DeprecationWarning: co_lnotab is deprecated, use co_lines instead.\u001b[32m [repeated 6x across cluster]\u001b[0m\n",
      "\u001b[36m(ClientAppActor pid=96229)\u001b[0m   obj.co_lnotab,  # for < python 3.10 [not counted in args]\u001b[32m [repeated 6x across cluster]\u001b[0m\n"
     ]
    },
    {
     "name": "stdout",
     "output_type": "stream",
     "text": [
      "\u001b[36m(ClientAppActor pid=96229)\u001b[0m Epoch 1: train loss 0.07218000292778015, accuracy 0.10034498275086245\n",
      "\u001b[36m(ClientAppActor pid=96225)\u001b[0m [Client 3] fit, config: {}\u001b[32m [repeated 5x across cluster]\u001b[0m\n",
      "\u001b[36m(ClientAppActor pid=96228)\u001b[0m Epoch 2: train loss 0.0721818208694458, accuracy 0.10516051605160516\u001b[32m [repeated 6x across cluster]\u001b[0m\n",
      "\u001b[36m(ClientAppActor pid=96228)\u001b[0m Epoch 3: train loss 0.07218033820390701, accuracy 0.10516051605160516\u001b[32m [repeated 6x across cluster]\u001b[0m\n",
      "\u001b[36m(ClientAppActor pid=96225)\u001b[0m \n",
      "\u001b[36m(ClientAppActor pid=96228)\u001b[0m Epoch 4: train loss 0.0721731185913086, accuracy 0.10516051605160516\u001b[32m [repeated 6x across cluster]\u001b[0m\n",
      "\u001b[36m(ClientAppActor pid=96228)\u001b[0m Epoch 5: train loss 0.07217557728290558, accuracy 0.10516051605160516\u001b[32m [repeated 6x across cluster]\u001b[0m\n",
      "\u001b[36m(ClientAppActor pid=96228)\u001b[0m Epoch 6: train loss 0.07217495888471603, accuracy 0.10546054605460546\u001b[32m [repeated 6x across cluster]\u001b[0m\n",
      "\u001b[36m(ClientAppActor pid=96228)\u001b[0m Epoch 7: train loss 0.07217638939619064, accuracy 0.10546054605460546\u001b[32m [repeated 6x across cluster]\u001b[0m\n",
      "\u001b[36m(ClientAppActor pid=96228)\u001b[0m Epoch 8: train loss 0.07217678427696228, accuracy 0.10546054605460546\u001b[32m [repeated 6x across cluster]\u001b[0m\n"
     ]
    },
    {
     "name": "stderr",
     "output_type": "stream",
     "text": [
      "\u001b[92mINFO \u001b[0m:      aggregate_fit: received 6 results and 0 failures\n",
      "\u001b[92mINFO \u001b[0m:      fit progress: (19, 0.07207175536155701, {'accuracy': 0.1}, 12470.045632791007)\n",
      "\u001b[92mINFO \u001b[0m:      configure_evaluate: strategy sampled 6 clients (out of 6)\n"
     ]
    },
    {
     "name": "stdout",
     "output_type": "stream",
     "text": [
      "\u001b[36m(ClientAppActor pid=96230)\u001b[0m [Client 0] evaluate, config: {}\n",
      "\u001b[36m(ClientAppActor pid=96230)\u001b[0m Epoch 8: train loss 0.07217027246952057, accuracy 0.10439478026098695\u001b[32m [repeated 5x across cluster]\u001b[0m\n"
     ]
    },
    {
     "name": "stderr",
     "output_type": "stream",
     "text": [
      "\u001b[36m(ClientAppActor pid=96227)\u001b[0m /Users/macbook/Desktop/L361/L361_Project/.conda/lib/python3.12/site-packages/datasets/utils/_dill.py:385: DeprecationWarning: co_lnotab is deprecated, use co_lines instead.\u001b[32m [repeated 6x across cluster]\u001b[0m\n",
      "\u001b[36m(ClientAppActor pid=96227)\u001b[0m   obj.co_lnotab,  # for < python 3.10 [not counted in args]\u001b[32m [repeated 6x across cluster]\u001b[0m\n",
      "\u001b[92mINFO \u001b[0m:      aggregate_evaluate: received 6 results and 0 failures\n",
      "\u001b[92mINFO \u001b[0m:      \n",
      "\u001b[92mINFO \u001b[0m:      [ROUND 20]\n",
      "\u001b[92mINFO \u001b[0m:      configure_fit: strategy sampled 6 clients (out of 6)\n"
     ]
    },
    {
     "name": "stdout",
     "output_type": "stream",
     "text": [
      "\u001b[36m(ClientAppActor pid=96226)\u001b[0m [Client 2] fit, config: {}\n",
      "\u001b[36m(ClientAppActor pid=96228)\u001b[0m [Client 5] evaluate, config: {}\u001b[32m [repeated 5x across cluster]\u001b[0m\n"
     ]
    },
    {
     "name": "stderr",
     "output_type": "stream",
     "text": [
      "\u001b[36m(ClientAppActor pid=96226)\u001b[0m /Users/macbook/Desktop/L361/L361_Project/.conda/lib/python3.12/site-packages/datasets/utils/_dill.py:385: DeprecationWarning: co_lnotab is deprecated, use co_lines instead.\u001b[32m [repeated 6x across cluster]\u001b[0m\n",
      "\u001b[36m(ClientAppActor pid=96226)\u001b[0m   obj.co_lnotab,  # for < python 3.10 [not counted in args]\u001b[32m [repeated 6x across cluster]\u001b[0m\n"
     ]
    },
    {
     "name": "stdout",
     "output_type": "stream",
     "text": [
      "\u001b[36m(ClientAppActor pid=96228)\u001b[0m Epoch 1: train loss 0.07218609005212784, accuracy 0.09929503524823759\n",
      "\u001b[36m(ClientAppActor pid=96229)\u001b[0m [Client 1] fit, config: {}\u001b[32m [repeated 5x across cluster]\u001b[0m\n",
      "\u001b[36m(ClientAppActor pid=96227)\u001b[0m Epoch 2: train loss 0.07218858599662781, accuracy 0.1002100210021002\u001b[32m [repeated 6x across cluster]\u001b[0m\n",
      "\u001b[36m(ClientAppActor pid=96228)\u001b[0m Epoch 3: train loss 0.07216993719339371, accuracy 0.10109494525273736\u001b[32m [repeated 6x across cluster]\u001b[0m\n",
      "\u001b[36m(ClientAppActor pid=96228)\u001b[0m Epoch 4: train loss 0.0721697211265564, accuracy 0.10439478026098695\u001b[32m [repeated 6x across cluster]\u001b[0m\n",
      "\u001b[36m(ClientAppActor pid=96228)\u001b[0m Epoch 5: train loss 0.07216908782720566, accuracy 0.10439478026098695\u001b[32m [repeated 6x across cluster]\u001b[0m\n",
      "\u001b[36m(ClientAppActor pid=96228)\u001b[0m Epoch 6: train loss 0.07216881960630417, accuracy 0.10439478026098695\u001b[32m [repeated 6x across cluster]\u001b[0m\n",
      "\u001b[36m(ClientAppActor pid=96228)\u001b[0m Epoch 7: train loss 0.07217156141996384, accuracy 0.10439478026098695\u001b[32m [repeated 6x across cluster]\u001b[0m\n",
      "\u001b[36m(ClientAppActor pid=96228)\u001b[0m Epoch 8: train loss 0.07217196375131607, accuracy 0.10439478026098695\u001b[32m [repeated 6x across cluster]\u001b[0m\n"
     ]
    },
    {
     "name": "stderr",
     "output_type": "stream",
     "text": [
      "\u001b[92mINFO \u001b[0m:      aggregate_fit: received 6 results and 0 failures\n",
      "\u001b[92mINFO \u001b[0m:      fit progress: (20, 0.07207175607681274, {'accuracy': 0.1}, 13107.183129250072)\n",
      "\u001b[92mINFO \u001b[0m:      configure_evaluate: strategy sampled 6 clients (out of 6)\n",
      "\u001b[36m(ClientAppActor pid=96227)\u001b[0m /Users/macbook/Desktop/L361/L361_Project/.conda/lib/python3.12/site-packages/datasets/utils/_dill.py:385: DeprecationWarning: co_lnotab is deprecated, use co_lines instead.\u001b[32m [repeated 6x across cluster]\u001b[0m\n",
      "\u001b[36m(ClientAppActor pid=96227)\u001b[0m   obj.co_lnotab,  # for < python 3.10 [not counted in args]\u001b[32m [repeated 6x across cluster]\u001b[0m\n"
     ]
    },
    {
     "name": "stdout",
     "output_type": "stream",
     "text": [
      "\u001b[36m(ClientAppActor pid=96229)\u001b[0m [Client 3] evaluate, config: {}\n",
      "\u001b[36m(ClientAppActor pid=96226)\u001b[0m Epoch 8: train loss 0.07217494398355484, accuracy 0.10516051605160516\u001b[32m [repeated 5x across cluster]\u001b[0m\n"
     ]
    },
    {
     "name": "stderr",
     "output_type": "stream",
     "text": [
      "\u001b[92mINFO \u001b[0m:      aggregate_evaluate: received 6 results and 0 failures\n",
      "\u001b[92mINFO \u001b[0m:      \n",
      "\u001b[92mINFO \u001b[0m:      [ROUND 21]\n",
      "\u001b[92mINFO \u001b[0m:      configure_fit: strategy sampled 6 clients (out of 6)\n"
     ]
    },
    {
     "name": "stdout",
     "output_type": "stream",
     "text": [
      "\u001b[36m(ClientAppActor pid=96229)\u001b[0m [Client 3] fit, config: {}\n",
      "\u001b[36m(ClientAppActor pid=96230)\u001b[0m [Client 4] evaluate, config: {}\u001b[32m [repeated 5x across cluster]\u001b[0m\n"
     ]
    },
    {
     "name": "stderr",
     "output_type": "stream",
     "text": [
      "\u001b[36m(ClientAppActor pid=96229)\u001b[0m /Users/macbook/Desktop/L361/L361_Project/.conda/lib/python3.12/site-packages/datasets/utils/_dill.py:385: DeprecationWarning: co_lnotab is deprecated, use co_lines instead.\u001b[32m [repeated 6x across cluster]\u001b[0m\n",
      "\u001b[36m(ClientAppActor pid=96229)\u001b[0m   obj.co_lnotab,  # for < python 3.10 [not counted in args]\u001b[32m [repeated 6x across cluster]\u001b[0m\n"
     ]
    },
    {
     "name": "stdout",
     "output_type": "stream",
     "text": [
      "\u001b[36m(ClientAppActor pid=96229)\u001b[0m Epoch 1: train loss 0.07220585644245148, accuracy 0.09480948094809481\n",
      "\u001b[36m(ClientAppActor pid=96226)\u001b[0m [Client 2] fit, config: {}\u001b[32m [repeated 5x across cluster]\u001b[0m\n",
      "\u001b[36m(ClientAppActor pid=96227)\u001b[0m Epoch 2: train loss 0.07218950986862183, accuracy 0.10366036603660365\u001b[32m [repeated 6x across cluster]\u001b[0m\n",
      "\u001b[36m(ClientAppActor pid=96227)\u001b[0m Epoch 3: train loss 0.07218761742115021, accuracy 0.10366036603660365\u001b[32m [repeated 6x across cluster]\u001b[0m\n",
      "\u001b[36m(ClientAppActor pid=96228)\u001b[0m Epoch 4: train loss 0.07216496765613556, accuracy 0.1055947202639868\u001b[32m [repeated 6x across cluster]\u001b[0m\n",
      "\u001b[36m(ClientAppActor pid=96228)\u001b[0m Epoch 5: train loss 0.07216562330722809, accuracy 0.1055947202639868\u001b[32m [repeated 6x across cluster]\u001b[0m\n",
      "\u001b[36m(ClientAppActor pid=96228)\u001b[0m Epoch 6: train loss 0.07216446101665497, accuracy 0.1055947202639868\u001b[32m [repeated 6x across cluster]\u001b[0m\n",
      "\u001b[36m(ClientAppActor pid=96228)\u001b[0m Epoch 7: train loss 0.07216744124889374, accuracy 0.1055947202639868\u001b[32m [repeated 6x across cluster]\u001b[0m\n",
      "\u001b[36m(ClientAppActor pid=96228)\u001b[0m Epoch 8: train loss 0.07216447591781616, accuracy 0.1055947202639868\u001b[32m [repeated 6x across cluster]\u001b[0m\n"
     ]
    },
    {
     "name": "stderr",
     "output_type": "stream",
     "text": [
      "\u001b[92mINFO \u001b[0m:      aggregate_fit: received 6 results and 0 failures\n",
      "\u001b[92mINFO \u001b[0m:      fit progress: (21, 0.07207158398628234, {'accuracy': 0.1}, 13743.923702166067)\n",
      "\u001b[92mINFO \u001b[0m:      configure_evaluate: strategy sampled 6 clients (out of 6)\n",
      "\u001b[36m(ClientAppActor pid=96228)\u001b[0m /Users/macbook/Desktop/L361/L361_Project/.conda/lib/python3.12/site-packages/datasets/utils/_dill.py:385: DeprecationWarning: co_lnotab is deprecated, use co_lines instead.\u001b[32m [repeated 6x across cluster]\u001b[0m\n",
      "\u001b[36m(ClientAppActor pid=96228)\u001b[0m   obj.co_lnotab,  # for < python 3.10 [not counted in args]\u001b[32m [repeated 6x across cluster]\u001b[0m\n"
     ]
    },
    {
     "name": "stdout",
     "output_type": "stream",
     "text": [
      "\u001b[36m(ClientAppActor pid=96228)\u001b[0m [Client 5] evaluate, config: {}\n",
      "\u001b[36m(ClientAppActor pid=96225)\u001b[0m Epoch 8: train loss 0.07218515872955322, accuracy 0.10501050105010501\u001b[32m [repeated 5x across cluster]\u001b[0m\n"
     ]
    },
    {
     "name": "stderr",
     "output_type": "stream",
     "text": [
      "\u001b[92mINFO \u001b[0m:      aggregate_evaluate: received 6 results and 0 failures\n",
      "\u001b[92mINFO \u001b[0m:      \n",
      "\u001b[92mINFO \u001b[0m:      [ROUND 22]\n",
      "\u001b[92mINFO \u001b[0m:      configure_fit: strategy sampled 6 clients (out of 6)\n",
      "\u001b[36m(ClientAppActor pid=96225)\u001b[0m /Users/macbook/Desktop/L361/L361_Project/.conda/lib/python3.12/site-packages/datasets/utils/_dill.py:385: DeprecationWarning: co_lnotab is deprecated, use co_lines instead.\u001b[32m [repeated 6x across cluster]\u001b[0m\n",
      "\u001b[36m(ClientAppActor pid=96225)\u001b[0m   obj.co_lnotab,  # for < python 3.10 [not counted in args]\u001b[32m [repeated 6x across cluster]\u001b[0m\n"
     ]
    },
    {
     "name": "stdout",
     "output_type": "stream",
     "text": [
      "\u001b[36m(ClientAppActor pid=96225)\u001b[0m [Client 4] fit, config: {}\n",
      "\u001b[36m(ClientAppActor pid=96229)\u001b[0m [Client 4] evaluate, config: {}\u001b[32m [repeated 5x across cluster]\u001b[0m\n",
      "\u001b[36m(ClientAppActor pid=96225)\u001b[0m Epoch 1: train loss 0.07220277935266495, accuracy 0.09315931593159316\n",
      "\u001b[36m(ClientAppActor pid=96226)\u001b[0m [Client 1] fit, config: {}\u001b[32m [repeated 5x across cluster]\u001b[0m\n",
      "\u001b[36m(ClientAppActor pid=96225)\u001b[0m Epoch 2: train loss 0.07218870520591736, accuracy 0.10321032103210322\u001b[32m [repeated 6x across cluster]\u001b[0m\n",
      "\u001b[36m(ClientAppActor pid=96230)\u001b[0m Epoch 3: train loss 0.07218462228775024, accuracy 0.10441044104410441\u001b[32m [repeated 6x across cluster]\u001b[0m\n",
      "\u001b[36m(ClientAppActor pid=96230)\u001b[0m Epoch 4: train loss 0.07218285650014877, accuracy 0.10441044104410441\u001b[32m [repeated 6x across cluster]\u001b[0m\n",
      "\u001b[36m(ClientAppActor pid=96228)\u001b[0m \n",
      "\u001b[36m(ClientAppActor pid=96230)\u001b[0m Epoch 5: train loss 0.07218124717473984, accuracy 0.10441044104410441\u001b[32m [repeated 6x across cluster]\u001b[0m\n",
      "\u001b[36m(ClientAppActor pid=96230)\u001b[0m Epoch 6: train loss 0.07218300551176071, accuracy 0.10441044104410441\u001b[32m [repeated 6x across cluster]\u001b[0m\n",
      "\u001b[36m(ClientAppActor pid=96229)\u001b[0m \n",
      "\u001b[36m(ClientAppActor pid=96230)\u001b[0m Epoch 7: train loss 0.07218294590711594, accuracy 0.1041104110411041\u001b[32m [repeated 6x across cluster]\u001b[0m\n",
      "\u001b[36m(ClientAppActor pid=96227)\u001b[0m \n",
      "\u001b[36m(ClientAppActor pid=96226)\u001b[0m \n",
      "\u001b[36m(ClientAppActor pid=96227)\u001b[0m Epoch 8: train loss 0.07217676192522049, accuracy 0.1035103510351035\u001b[32m [repeated 6x across cluster]\u001b[0m\n"
     ]
    },
    {
     "name": "stderr",
     "output_type": "stream",
     "text": [
      "\u001b[92mINFO \u001b[0m:      aggregate_fit: received 6 results and 0 failures\n",
      "\u001b[92mINFO \u001b[0m:      fit progress: (22, 0.07207172281742096, {'accuracy': 0.1}, 14380.37112587504)\n",
      "\u001b[92mINFO \u001b[0m:      configure_evaluate: strategy sampled 6 clients (out of 6)\n",
      "\u001b[36m(ClientAppActor pid=96230)\u001b[0m /Users/macbook/Desktop/L361/L361_Project/.conda/lib/python3.12/site-packages/datasets/utils/_dill.py:385: DeprecationWarning: co_lnotab is deprecated, use co_lines instead.\u001b[32m [repeated 6x across cluster]\u001b[0m\n",
      "\u001b[36m(ClientAppActor pid=96230)\u001b[0m   obj.co_lnotab,  # for < python 3.10 [not counted in args]\u001b[32m [repeated 6x across cluster]\u001b[0m\n"
     ]
    },
    {
     "name": "stdout",
     "output_type": "stream",
     "text": [
      "\u001b[36m(ClientAppActor pid=96226)\u001b[0m [Client 2] evaluate, config: {}\n",
      "\u001b[36m(ClientAppActor pid=96226)\u001b[0m Epoch 8: train loss 0.07216905802488327, accuracy 0.1055947202639868\u001b[32m [repeated 5x across cluster]\u001b[0m\n"
     ]
    },
    {
     "name": "stderr",
     "output_type": "stream",
     "text": [
      "\u001b[92mINFO \u001b[0m:      aggregate_evaluate: received 6 results and 0 failures\n",
      "\u001b[92mINFO \u001b[0m:      \n",
      "\u001b[92mINFO \u001b[0m:      [ROUND 23]\n",
      "\u001b[92mINFO \u001b[0m:      configure_fit: strategy sampled 6 clients (out of 6)\n",
      "\u001b[36m(ClientAppActor pid=96227)\u001b[0m /Users/macbook/Desktop/L361/L361_Project/.conda/lib/python3.12/site-packages/datasets/utils/_dill.py:385: DeprecationWarning: co_lnotab is deprecated, use co_lines instead.\u001b[32m [repeated 6x across cluster]\u001b[0m\n",
      "\u001b[36m(ClientAppActor pid=96227)\u001b[0m   obj.co_lnotab,  # for < python 3.10 [not counted in args]\u001b[32m [repeated 6x across cluster]\u001b[0m\n"
     ]
    },
    {
     "name": "stdout",
     "output_type": "stream",
     "text": [
      "\u001b[36m(ClientAppActor pid=96228)\u001b[0m [Client 2] fit, config: {}\n",
      "\u001b[36m(ClientAppActor pid=96227)\u001b[0m [Client 5] evaluate, config: {}\u001b[32m [repeated 5x across cluster]\u001b[0m\n",
      "\u001b[36m(ClientAppActor pid=96229)\u001b[0m Epoch 1: train loss 0.0721970871090889, accuracy 0.09735973597359736\n",
      "\u001b[36m(ClientAppActor pid=96225)\u001b[0m [Client 0] fit, config: {}\u001b[32m [repeated 5x across cluster]\u001b[0m\n",
      "\u001b[36m(ClientAppActor pid=96229)\u001b[0m Epoch 2: train loss 0.07218752801418304, accuracy 0.10561056105610561\u001b[32m [repeated 6x across cluster]\u001b[0m\n",
      "\u001b[36m(ClientAppActor pid=96229)\u001b[0m Epoch 3: train loss 0.07218541204929352, accuracy 0.10501050105010501\u001b[32m [repeated 6x across cluster]\u001b[0m\n",
      "\u001b[36m(ClientAppActor pid=96227)\u001b[0m Epoch 4: train loss 0.0721847414970398, accuracy 0.10366036603660365\u001b[32m [repeated 6x across cluster]\u001b[0m\n",
      "\u001b[36m(ClientAppActor pid=96227)\u001b[0m Epoch 5: train loss 0.07218588143587112, accuracy 0.10366036603660365\u001b[32m [repeated 6x across cluster]\u001b[0m\n",
      "\u001b[36m(ClientAppActor pid=96227)\u001b[0m Epoch 6: train loss 0.07218547910451889, accuracy 0.10366036603660365\u001b[32m [repeated 6x across cluster]\u001b[0m\n",
      "\u001b[36m(ClientAppActor pid=96229)\u001b[0m Epoch 7: train loss 0.07218343764543533, accuracy 0.10501050105010501\u001b[32m [repeated 6x across cluster]\u001b[0m\n",
      "\u001b[36m(ClientAppActor pid=96229)\u001b[0m Epoch 8: train loss 0.07218378037214279, accuracy 0.10501050105010501\u001b[32m [repeated 6x across cluster]\u001b[0m\n"
     ]
    },
    {
     "name": "stderr",
     "output_type": "stream",
     "text": [
      "\u001b[92mINFO \u001b[0m:      aggregate_fit: received 6 results and 0 failures\n",
      "\u001b[92mINFO \u001b[0m:      fit progress: (23, 0.07207171769142151, {'accuracy': 0.1}, 15016.872222833103)\n",
      "\u001b[92mINFO \u001b[0m:      configure_evaluate: strategy sampled 6 clients (out of 6)\n"
     ]
    },
    {
     "name": "stdout",
     "output_type": "stream",
     "text": [
      "\u001b[36m(ClientAppActor pid=96229)\u001b[0m [Client 3] evaluate, config: {}\n",
      "\u001b[36m(ClientAppActor pid=96230)\u001b[0m Epoch 8: train loss 0.07218430191278458, accuracy 0.10156015601560156\u001b[32m [repeated 5x across cluster]\u001b[0m\n"
     ]
    },
    {
     "name": "stderr",
     "output_type": "stream",
     "text": [
      "\u001b[36m(ClientAppActor pid=96229)\u001b[0m /Users/macbook/Desktop/L361/L361_Project/.conda/lib/python3.12/site-packages/datasets/utils/_dill.py:385: DeprecationWarning: co_lnotab is deprecated, use co_lines instead.\u001b[32m [repeated 6x across cluster]\u001b[0m\n",
      "\u001b[36m(ClientAppActor pid=96229)\u001b[0m   obj.co_lnotab,  # for < python 3.10 [not counted in args]\u001b[32m [repeated 6x across cluster]\u001b[0m\n",
      "\u001b[92mINFO \u001b[0m:      aggregate_evaluate: received 6 results and 0 failures\n",
      "\u001b[92mINFO \u001b[0m:      \n",
      "\u001b[92mINFO \u001b[0m:      [SUMMARY]\n",
      "\u001b[92mINFO \u001b[0m:      Run finished 23 round(s) in 15026.16s\n",
      "\u001b[92mINFO \u001b[0m:      \tHistory (loss, distributed):\n",
      "\u001b[92mINFO \u001b[0m:      \t\tround 1: 0.07332353648174479\n",
      "\u001b[92mINFO \u001b[0m:      \t\tround 2: 0.07322169220273529\n",
      "\u001b[92mINFO \u001b[0m:      \t\tround 3: 0.07321730417576916\n",
      "\u001b[92mINFO \u001b[0m:      \t\tround 4: 0.07321862105583339\n",
      "\u001b[92mINFO \u001b[0m:      \t\tround 5: 0.07321738741488916\n",
      "\u001b[92mINFO \u001b[0m:      \t\tround 6: 0.07321809141951975\n",
      "\u001b[92mINFO \u001b[0m:      \t\tround 7: 0.07321908647502524\n",
      "\u001b[92mINFO \u001b[0m:      \t\tround 8: 0.07321774301660511\n",
      "\u001b[92mINFO \u001b[0m:      \t\tround 9: 0.07321695396123565\n",
      "\u001b[92mINFO \u001b[0m:      \t\tround 10: 0.0732181163769535\n",
      "\u001b[92mINFO \u001b[0m:      \t\tround 11: 0.07321928670658538\n",
      "\u001b[92mINFO \u001b[0m:      \t\tround 12: 0.07321718127173059\n",
      "\u001b[92mINFO \u001b[0m:      \t\tround 13: 0.07321762919449802\n",
      "\u001b[92mINFO \u001b[0m:      \t\tround 14: 0.0732181980904997\n",
      "\u001b[92mINFO \u001b[0m:      \t\tround 15: 0.0732191447567115\n",
      "\u001b[92mINFO \u001b[0m:      \t\tround 16: 0.07321826321343093\n",
      "\u001b[92mINFO \u001b[0m:      \t\tround 17: 0.07321786654040804\n",
      "\u001b[92mINFO \u001b[0m:      \t\tround 18: 0.07321938603574146\n",
      "\u001b[92mINFO \u001b[0m:      \t\tround 19: 0.07321877285042565\n",
      "\u001b[92mINFO \u001b[0m:      \t\tround 20: 0.07321887160749155\n",
      "\u001b[92mINFO \u001b[0m:      \t\tround 21: 0.07321716694563919\n",
      "\u001b[92mINFO \u001b[0m:      \t\tround 22: 0.07321865323590555\n",
      "\u001b[92mINFO \u001b[0m:      \t\tround 23: 0.07321870748912351\n",
      "\u001b[92mINFO \u001b[0m:      \tHistory (loss, centralized):\n",
      "\u001b[92mINFO \u001b[0m:      \t\tround 0: 0.07208296258449555\n",
      "\u001b[92mINFO \u001b[0m:      \t\tround 1: 0.07215005316734314\n",
      "\u001b[92mINFO \u001b[0m:      \t\tround 2: 0.07207347071170807\n",
      "\u001b[92mINFO \u001b[0m:      \t\tround 3: 0.0720724247455597\n",
      "\u001b[92mINFO \u001b[0m:      \t\tround 4: 0.07207206094264984\n",
      "\u001b[92mINFO \u001b[0m:      \t\tround 5: 0.07207162775993348\n",
      "\u001b[92mINFO \u001b[0m:      \t\tround 6: 0.07207173054218292\n",
      "\u001b[92mINFO \u001b[0m:      \t\tround 7: 0.07207183418273926\n",
      "\u001b[92mINFO \u001b[0m:      \t\tround 8: 0.07207159693241119\n",
      "\u001b[92mINFO \u001b[0m:      \t\tround 9: 0.07207163419723511\n",
      "\u001b[92mINFO \u001b[0m:      \t\tround 10: 0.0720717089176178\n",
      "\u001b[92mINFO \u001b[0m:      \t\tround 11: 0.07207182264328003\n",
      "\u001b[92mINFO \u001b[0m:      \t\tround 12: 0.072071550822258\n",
      "\u001b[92mINFO \u001b[0m:      \t\tround 13: 0.07207157354354858\n",
      "\u001b[92mINFO \u001b[0m:      \t\tround 14: 0.07207168111801147\n",
      "\u001b[92mINFO \u001b[0m:      \t\tround 15: 0.07207185316085815\n",
      "\u001b[92mINFO \u001b[0m:      \t\tround 16: 0.07207166166305543\n",
      "\u001b[92mINFO \u001b[0m:      \t\tround 17: 0.07207165017127991\n",
      "\u001b[92mINFO \u001b[0m:      \t\tround 18: 0.07207200560569763\n",
      "\u001b[92mINFO \u001b[0m:      \t\tround 19: 0.07207175536155701\n",
      "\u001b[92mINFO \u001b[0m:      \t\tround 20: 0.07207175607681274\n",
      "\u001b[92mINFO \u001b[0m:      \t\tround 21: 0.07207158398628234\n",
      "\u001b[92mINFO \u001b[0m:      \t\tround 22: 0.07207172281742096\n",
      "\u001b[92mINFO \u001b[0m:      \t\tround 23: 0.07207171769142151\n",
      "\u001b[92mINFO \u001b[0m:      \tHistory (metrics, centralized):\n",
      "\u001b[92mINFO \u001b[0m:      \t{'accuracy': [(0, 0.1),\n",
      "\u001b[92mINFO \u001b[0m:      \t              (1, 0.1),\n",
      "\u001b[92mINFO \u001b[0m:      \t              (2, 0.1),\n",
      "\u001b[92mINFO \u001b[0m:      \t              (3, 0.1),\n",
      "\u001b[92mINFO \u001b[0m:      \t              (4, 0.1),\n",
      "\u001b[92mINFO \u001b[0m:      \t              (5, 0.1),\n",
      "\u001b[92mINFO \u001b[0m:      \t              (6, 0.1),\n",
      "\u001b[92mINFO \u001b[0m:      \t              (7, 0.1),\n",
      "\u001b[92mINFO \u001b[0m:      \t              (8, 0.1),\n",
      "\u001b[92mINFO \u001b[0m:      \t              (9, 0.1),\n",
      "\u001b[92mINFO \u001b[0m:      \t              (10, 0.1),\n",
      "\u001b[92mINFO \u001b[0m:      \t              (11, 0.1),\n",
      "\u001b[92mINFO \u001b[0m:      \t              (12, 0.1),\n",
      "\u001b[92mINFO \u001b[0m:      \t              (13, 0.1),\n",
      "\u001b[92mINFO \u001b[0m:      \t              (14, 0.1),\n",
      "\u001b[92mINFO \u001b[0m:      \t              (15, 0.1),\n",
      "\u001b[92mINFO \u001b[0m:      \t              (16, 0.1),\n",
      "\u001b[92mINFO \u001b[0m:      \t              (17, 0.1),\n",
      "\u001b[92mINFO \u001b[0m:      \t              (18, 0.1),\n",
      "\u001b[92mINFO \u001b[0m:      \t              (19, 0.1),\n",
      "\u001b[92mINFO \u001b[0m:      \t              (20, 0.1),\n",
      "\u001b[92mINFO \u001b[0m:      \t              (21, 0.1),\n",
      "\u001b[92mINFO \u001b[0m:      \t              (22, 0.1),\n",
      "\u001b[92mINFO \u001b[0m:      \t              (23, 0.1)]}\n",
      "\u001b[92mINFO \u001b[0m:      \n"
     ]
    },
    {
     "name": "stdout",
     "output_type": "stream",
     "text": [
      "\u001b[36m(ClientAppActor pid=96228)\u001b[0m [Client 5] evaluate, config: {}\u001b[32m [repeated 5x across cluster]\u001b[0m\n"
     ]
    },
    {
     "name": "stderr",
     "output_type": "stream",
     "text": [
      "\u001b[36m(ClientAppActor pid=96228)\u001b[0m /Users/macbook/Desktop/L361/L361_Project/.conda/lib/python3.12/site-packages/datasets/utils/_dill.py:385: DeprecationWarning: co_lnotab is deprecated, use co_lines instead.\u001b[32m [repeated 5x across cluster]\u001b[0m\n",
      "\u001b[36m(ClientAppActor pid=96228)\u001b[0m   obj.co_lnotab,  # for < python 3.10 [not counted in args]\u001b[32m [repeated 5x across cluster]\u001b[0m\n"
     ]
    }
   ],
   "source": [
    "net = Net().to(DEVICE)\n",
    "\n",
    "_, _, testloader = load_datasets(0, NUM_PARTITIONS)\n",
    "\n",
    "evaluate_fn = get_evaluate_fn(testloader, net)\n",
    "\n",
    "\n",
    "def server_fn(context: Context) -> ServerAppComponents:\n",
    "    # Configure the server for just 3 rounds of training\n",
    "    config = ServerConfig(num_rounds=NUM_OF_ROUNDS)\n",
    "    return ServerAppComponents(\n",
    "        config=config,\n",
    "        strategy=ModifiedFedAvg(\n",
    "            evaluate_fn=evaluate_fn\n",
    "        ),\n",
    "    )\n",
    "\n",
    "server = ServerApp(server_fn=server_fn)\n",
    "\n",
    "# Run simulation\n",
    "run_simulation(\n",
    "    server_app=server,\n",
    "    client_app=client,\n",
    "    num_supernodes=NUM_PARTITIONS,\n",
    "    backend_config=backend_config,\n",
    ")"
   ]
  },
  {
   "cell_type": "code",
   "execution_count": 10,
   "metadata": {},
   "outputs": [],
   "source": [
    "\n",
    " \n",
    "with open(f'results/fed_avg_results.p', 'wb') as file:\n",
    "    pickle.dump(fed_avg_result, file)\n",
    "\n",
    "with open(f'results/fed_avg_model_results.p', 'wb') as file:\n",
    "    pickle.dump(fed_avg_model_results, file)"
   ]
  },
  {
   "cell_type": "code",
   "execution_count": 11,
   "metadata": {},
   "outputs": [],
   "source": [
    "import matplotlib.pyplot as plt\n",
    "import numpy as np\n",
    "\n",
    "\n",
    "# fed_avg_rounds = list(fed_avg_result.keys())\n",
    "# fed_avg_sizes = [fed_avg_result[round][\"total_size\"] for round in fed_avg_rounds]\n",
    "\n",
    "# plt.figure(figsize=(10, 5))\n",
    "# plt.plot(fed_avg_rounds, fed_avg_sizes, marker='o', linestyle='-', color='b')\n",
    "# plt.xlabel('Round')\n",
    "# plt.ylabel('Total Size of Parameters (bytes)')\n",
    "# plt.title('Total Size of Parameters for Each Round')\n",
    "# plt.grid(True)\n",
    "\n",
    "# fed_avg_losses = [fed_avg_result[round][\"total_loss\"] for round in fed_avg_rounds]\n",
    "\n",
    "# plt.figure(figsize=(10, 5))\n",
    "# plt.plot(fed_avg_rounds, fed_avg_losses, marker='o', linestyle='-', color='b')\n",
    "# plt.xlabel('Round')\n",
    "# plt.ylabel('Total Loss')\n",
    "# plt.title('Total Loss for Each Round')\n",
    "# plt.grid(True)\n",
    "\n",
    "# fed_avg_model_rounds = list(fed_avg_model_results.keys())\n",
    "\n",
    "# fed_avg_accuracies = [fed_avg_model_results[round][\"global_metrics\"][\"accuracy\"] for round in fed_avg_model_rounds]\n",
    "\n",
    "# plt.figure(figsize=(10, 5))\n",
    "# plt.plot(fed_avg_model_rounds, fed_avg_accuracies, marker='o', linestyle='-', color='b')\n",
    "# plt.xlabel('Round')\n",
    "# plt.ylabel('Accuracy')\n",
    "# plt.title('Accuracy for Each Round')\n",
    "# plt.grid(True)\n",
    "\n",
    "# fed_avg_global_losses = [fed_avg_model_results[round][\"global_loss\"] for round in fed_avg_model_rounds]\n",
    "\n",
    "# plt.figure(figsize=(10, 5))\n",
    "# plt.plot(fed_avg_model_rounds, fed_avg_global_losses, marker='o', linestyle='-', color='b')\n",
    "# plt.xlabel('Round')\n",
    "# plt.ylabel('Loss')\n",
    "# plt.title('Loss for Each Round')\n",
    "# plt.grid(True)"
   ]
  },
  {
   "cell_type": "markdown",
   "metadata": {},
   "source": [
    "# FedProx experiments:"
   ]
  },
  {
   "cell_type": "code",
   "execution_count": 12,
   "metadata": {},
   "outputs": [],
   "source": [
    "class FedProxFlowerClient(NumPyClient):\n",
    "    def __init__(self, partition_id, net, trainloader, valloader):\n",
    "        self.partition_id = partition_id\n",
    "        self.net = net\n",
    "        self.trainloader = trainloader\n",
    "        self.valloader = valloader\n",
    "\n",
    "    def get_parameters(self, config):\n",
    "        print(f\"[Client {self.partition_id}] get_parameters\")\n",
    "        return get_parameters(self.net)\n",
    "\n",
    "    def fit(self, parameters, config):\n",
    "        print(f\"[Client {self.partition_id}] fit, config: {config}\")\n",
    "        set_parameters(self.net, parameters)\n",
    "        global_params = copy.deepcopy(self.net).parameters()\n",
    "        proxima_train(self.net, self.trainloader, EPOCHS, config[\"proximal_mu\"], global_params)\n",
    "        return get_parameters(self.net), len(self.trainloader), {}\n",
    "\n",
    "    def evaluate(self, parameters, config):\n",
    "        print(f\"[Client {self.partition_id}] evaluate, config: {config}\")\n",
    "        set_parameters(self.net, parameters)\n",
    "        loss, accuracy = test(self.net, self.valloader)\n",
    "        return float(loss), len(self.valloader), {\"accuracy\": float(accuracy)}\n",
    "\n",
    "\n",
    "def client_fn(context: Context) -> Client:\n",
    "    net = Net().to(DEVICE)\n",
    "    partition_id = context.node_config[\"partition-id\"]\n",
    "    num_partitions = context.node_config[\"num-partitions\"]\n",
    "    trainloader, valloader, _ = load_datasets(partition_id, num_partitions)\n",
    "    return FedProxFlowerClient(partition_id, net, trainloader, valloader).to_client()\n",
    "\n",
    "\n",
    "# Create the ClientApp\n",
    "client = ClientApp(client_fn=client_fn)"
   ]
  },
  {
   "cell_type": "code",
   "execution_count": 13,
   "metadata": {},
   "outputs": [],
   "source": [
    "fed_prox_result = {}\n",
    "\n",
    "fed_prox_model_results = {}\n",
    "\n",
    "class ModifiedFedProx(ModifiedFedAvg):\n",
    "\n",
    "    def __init__(\n",
    "        self,\n",
    "        *,\n",
    "        fraction_fit: float = 1.0,\n",
    "        fraction_evaluate: float = 1.0,\n",
    "        min_fit_clients: int = 2,\n",
    "        min_evaluate_clients: int = 2,\n",
    "        min_available_clients: int = 2,\n",
    "        evaluate_fn: Optional[\n",
    "            Callable[\n",
    "                [int, NDArrays, dict[str, Scalar]],\n",
    "                Optional[tuple[float, dict[str, Scalar]]],\n",
    "            ]\n",
    "        ] = None,\n",
    "        on_fit_config_fn: Optional[Callable[[int], dict[str, Scalar]]] = None,\n",
    "        on_evaluate_config_fn: Optional[Callable[[int], dict[str, Scalar]]] = None,\n",
    "        accept_failures: bool = True,\n",
    "        initial_parameters: Optional[Parameters] = None,\n",
    "        fit_metrics_aggregation_fn: Optional[MetricsAggregationFn] = None,\n",
    "        evaluate_metrics_aggregation_fn: Optional[MetricsAggregationFn] = None,\n",
    "        proximal_mu: float,\n",
    "    ) -> None:\n",
    "        super().__init__(\n",
    "            fraction_fit=fraction_fit,\n",
    "            fraction_evaluate=fraction_evaluate,\n",
    "            min_fit_clients=min_fit_clients,\n",
    "            min_evaluate_clients=min_evaluate_clients,\n",
    "            min_available_clients=min_available_clients,\n",
    "            evaluate_fn=evaluate_fn,\n",
    "            on_fit_config_fn=on_fit_config_fn,\n",
    "            on_evaluate_config_fn=on_evaluate_config_fn,\n",
    "            accept_failures=accept_failures,\n",
    "            initial_parameters=initial_parameters,\n",
    "            fit_metrics_aggregation_fn=fit_metrics_aggregation_fn,\n",
    "            evaluate_metrics_aggregation_fn=evaluate_metrics_aggregation_fn,\n",
    "        )\n",
    "        self.proximal_mu = proximal_mu\n",
    "\n",
    "\n",
    "    def __repr__(self) -> str:\n",
    "        return \"ModifiedFedProx\"\n",
    "    \n",
    "\n",
    "    def configure_fit(\n",
    "        self, server_round: int, parameters: Parameters, client_manager: ClientManager\n",
    "    ) -> list[tuple[ClientProxy, FitIns]]:\n",
    "        \"\"\"Configure the next round of training.\n",
    "\n",
    "        Sends the proximal factor mu to the clients\n",
    "        \"\"\"\n",
    "        # Get the standard client/config pairs from the FedAvg super-class\n",
    "        client_config_pairs = super().configure_fit(\n",
    "            server_round, parameters, client_manager\n",
    "        )\n",
    "\n",
    "        # Return client/config pairs with the proximal factor mu added\n",
    "        return [\n",
    "            (\n",
    "                client,\n",
    "                FitIns(\n",
    "                    fit_ins.parameters,\n",
    "                    {**fit_ins.config, \"proximal_mu\": self.proximal_mu},\n",
    "                ),\n",
    "            )\n",
    "            for client, fit_ins in client_config_pairs\n",
    "        ]\n",
    "    \n",
    "    def aggregate_fit(\n",
    "        self,\n",
    "        server_round: int,\n",
    "        results: List[Tuple[ClientProxy, FitRes]],\n",
    "        failures: List[Union[Tuple[ClientProxy, FitRes], BaseException]],\n",
    "    ) -> Tuple[Optional[Parameters], Dict[str, Scalar]]:\n",
    "        \"\"\"Aggregate fit results using weighted average.\"\"\"\n",
    "        \n",
    "        total_size = 0\n",
    "        for client, fit_res in results:\n",
    "            total_size += get_parameters_size(fit_res.parameters) *2\n",
    "        print(f\"total size: {total_size}\")\n",
    "        \n",
    "        if fed_prox_result.get(server_round):\n",
    "            fed_prox_result[server_round][\"total_size\"] = total_size\n",
    "        else:\n",
    "            fed_prox_result[server_round] = {\"total_size\": total_size}\n",
    "        \n",
    "\n",
    "        weights_results = [\n",
    "            (parameters_to_ndarrays(fit_res.parameters), fit_res.num_examples)\n",
    "            for _, fit_res in results\n",
    "        ]\n",
    "\n",
    "        parameters_aggregated = ndarrays_to_parameters(aggregate(weights_results))\n",
    "        metrics_aggregated = {}\n",
    "        return parameters_aggregated, metrics_aggregated\n",
    "\n",
    "\n",
    "    def aggregate_evaluate(\n",
    "        self,\n",
    "        server_round: int,\n",
    "        results: List[Tuple[ClientProxy, EvaluateRes]],\n",
    "        failures: List[Union[Tuple[ClientProxy, EvaluateRes], BaseException]],\n",
    "    ) -> Tuple[Optional[float], Dict[str, Scalar]]:\n",
    "        \"\"\"Aggregate evaluation losses using weighted average.\"\"\"\n",
    "\n",
    "        if not results:\n",
    "            return None, {}\n",
    "        \n",
    "        total_loss = 0\n",
    "        for _, evaluate_res in results:\n",
    "            total_loss += evaluate_res.loss\n",
    "\n",
    "        if fed_prox_result.get(server_round):\n",
    "            fed_prox_result[server_round][\"total_loss\"] = total_loss\n",
    "        else:\n",
    "            fed_prox_result[server_round] = {\"total_loss\": total_loss}\n",
    "\n",
    "        loss_aggregated = weighted_loss_avg(\n",
    "            [\n",
    "                (evaluate_res.num_examples, evaluate_res.loss)\n",
    "                for _, evaluate_res in results\n",
    "            ]\n",
    "        )\n",
    "        metrics_aggregated = {}\n",
    "        return loss_aggregated, metrics_aggregated\n",
    "    \n",
    "\n",
    "    def evaluate(\n",
    "        self, server_round: int, parameters: Parameters\n",
    "    ) -> Optional[tuple[float, dict[str, Scalar]]]:\n",
    "        \"\"\"Evaluate model parameters using an evaluation function.\"\"\"\n",
    "        if self.evaluate_fn is None:\n",
    "            # No evaluation function provided\n",
    "            return None\n",
    "        parameters_ndarrays = parameters_to_ndarrays(parameters)\n",
    "        eval_res = self.evaluate_fn(server_round, parameters_ndarrays, {})\n",
    "        if eval_res is None:\n",
    "            return None\n",
    "        \n",
    "        if server_round in fed_prox_model_results:  \n",
    "            expand_fed_prox_model_results= {**fed_prox_model_results[server_round], \"global_loss\": eval_res[0], \"global_metrics\": eval_res[1]}\n",
    "        else:\n",
    "            expand_fed_prox_model_results= {\"global_loss\": eval_res[0], \"global_metrics\": eval_res[1]}\n",
    "        \n",
    "        fed_prox_model_results[server_round] = expand_fed_prox_model_results\n",
    "        \n",
    "        loss, metrics = eval_res\n",
    "        return loss, metrics\n"
   ]
  },
  {
   "cell_type": "code",
   "execution_count": 14,
   "metadata": {},
   "outputs": [
    {
     "name": "stderr",
     "output_type": "stream",
     "text": [
      "/Users/macbook/Desktop/L361/L361_Project/.conda/lib/python3.12/site-packages/datasets/utils/_dill.py:385: DeprecationWarning: co_lnotab is deprecated, use co_lines instead.\n",
      "  obj.co_lnotab,  # for < python 3.10 [not counted in args]\n",
      "\u001b[92mINFO \u001b[0m:      Starting Flower ServerApp, config: num_rounds=23, no round_timeout\n",
      "\u001b[92mINFO \u001b[0m:      \n",
      "\u001b[92mINFO \u001b[0m:      [INIT]\n",
      "\u001b[92mINFO \u001b[0m:      Using initial global parameters provided by strategy\n",
      "\u001b[92mINFO \u001b[0m:      Starting evaluation of initial global parameters\n",
      "\u001b[92mINFO \u001b[0m:      initial parameters (loss, other metrics): 0.07208106136322022, {'accuracy': 0.1}\n",
      "\u001b[92mINFO \u001b[0m:      \n",
      "\u001b[92mINFO \u001b[0m:      [ROUND 1]\n",
      "\u001b[92mINFO \u001b[0m:      configure_fit: strategy sampled 6 clients (out of 6)\n",
      "\u001b[36m(ClientAppActor pid=16615)\u001b[0m /Users/macbook/Desktop/L361/L361_Project/.conda/lib/python3.12/site-packages/datasets/utils/_dill.py:385: DeprecationWarning: co_lnotab is deprecated, use co_lines instead.\n",
      "\u001b[36m(ClientAppActor pid=16615)\u001b[0m   obj.co_lnotab,  # for < python 3.10 [not counted in args]\n"
     ]
    },
    {
     "name": "stdout",
     "output_type": "stream",
     "text": [
      "\u001b[36m(ClientAppActor pid=16615)\u001b[0m [Client 1] fit, config: {'proximal_mu': 0.1}\n",
      "\u001b[36m(ClientAppActor pid=16611)\u001b[0m Epoch 1: train loss 0.0654977411031723, accuracy 0.20683965801709914\n",
      "\u001b[36m(ClientAppActor pid=16611)\u001b[0m [Client 0] fit, config: {'proximal_mu': 0.1}\u001b[32m [repeated 5x across cluster]\u001b[0m\n",
      "\u001b[36m(ClientAppActor pid=16615)\u001b[0m Epoch 2: train loss 0.0587596595287323, accuracy 0.2837858107094645\u001b[32m [repeated 6x across cluster]\u001b[0m\n",
      "\u001b[36m(ClientAppActor pid=16614)\u001b[0m Epoch 3: train loss 0.050687119364738464, accuracy 0.3778877887788779\u001b[32m [repeated 6x across cluster]\u001b[0m\n",
      "\u001b[36m(ClientAppActor pid=16614)\u001b[0m Epoch 4: train loss 0.04607618227601051, accuracy 0.4453945394539454\u001b[32m [repeated 6x across cluster]\u001b[0m\n",
      "\u001b[36m(ClientAppActor pid=16614)\u001b[0m Epoch 5: train loss 0.04187881946563721, accuracy 0.504050405040504\u001b[32m [repeated 6x across cluster]\u001b[0m\n",
      "\u001b[36m(ClientAppActor pid=16614)\u001b[0m Epoch 6: train loss 0.03690039739012718, accuracy 0.5652565256525652\u001b[32m [repeated 6x across cluster]\u001b[0m\n",
      "\u001b[36m(ClientAppActor pid=16614)\u001b[0m Epoch 7: train loss 0.03154022991657257, accuracy 0.624962496249625\u001b[32m [repeated 6x across cluster]\u001b[0m\n",
      "\u001b[36m(ClientAppActor pid=16615)\u001b[0m Epoch 8: train loss 0.027389146387577057, accuracy 0.6893655317234139\u001b[32m [repeated 6x across cluster]\u001b[0m\n"
     ]
    },
    {
     "name": "stderr",
     "output_type": "stream",
     "text": [
      "\u001b[92mINFO \u001b[0m:      aggregate_fit: received 6 results and 0 failures\n"
     ]
    },
    {
     "name": "stdout",
     "output_type": "stream",
     "text": [
      "total size: 280903200\n"
     ]
    },
    {
     "name": "stderr",
     "output_type": "stream",
     "text": [
      "\u001b[92mINFO \u001b[0m:      fit progress: (1, 0.07355622832775116, {'accuracy': 0.1}, 649.516055959044)\n",
      "\u001b[92mINFO \u001b[0m:      configure_evaluate: strategy sampled 6 clients (out of 6)\n"
     ]
    },
    {
     "name": "stdout",
     "output_type": "stream",
     "text": [
      "\u001b[36m(ClientAppActor pid=16610)\u001b[0m [Client 4] evaluate, config: {}\n",
      "\u001b[36m(ClientAppActor pid=16612)\u001b[0m Epoch 8: train loss 0.027017977088689804, accuracy 0.6828682868286828\u001b[32m [repeated 5x across cluster]\u001b[0m\n"
     ]
    },
    {
     "name": "stderr",
     "output_type": "stream",
     "text": [
      "\u001b[36m(ClientAppActor pid=16610)\u001b[0m /Users/macbook/Desktop/L361/L361_Project/.conda/lib/python3.12/site-packages/datasets/utils/_dill.py:385: DeprecationWarning: co_lnotab is deprecated, use co_lines instead.\u001b[32m [repeated 6x across cluster]\u001b[0m\n",
      "\u001b[36m(ClientAppActor pid=16610)\u001b[0m   obj.co_lnotab,  # for < python 3.10 [not counted in args]\u001b[32m [repeated 6x across cluster]\u001b[0m\n",
      "\u001b[92mINFO \u001b[0m:      aggregate_evaluate: received 6 results and 0 failures\n",
      "\u001b[92mINFO \u001b[0m:      \n",
      "\u001b[92mINFO \u001b[0m:      [ROUND 2]\n",
      "\u001b[92mINFO \u001b[0m:      configure_fit: strategy sampled 6 clients (out of 6)\n",
      "\u001b[36m(ClientAppActor pid=16615)\u001b[0m /Users/macbook/Desktop/L361/L361_Project/.conda/lib/python3.12/site-packages/datasets/utils/_dill.py:385: DeprecationWarning: co_lnotab is deprecated, use co_lines instead.\u001b[32m [repeated 6x across cluster]\u001b[0m\n",
      "\u001b[36m(ClientAppActor pid=16615)\u001b[0m   obj.co_lnotab,  # for < python 3.10 [not counted in args]\u001b[32m [repeated 6x across cluster]\u001b[0m\n"
     ]
    },
    {
     "name": "stdout",
     "output_type": "stream",
     "text": [
      "\u001b[36m(ClientAppActor pid=16615)\u001b[0m [Client 4] fit, config: {'proximal_mu': 0.1}\n",
      "\u001b[36m(ClientAppActor pid=16612)\u001b[0m [Client 1] evaluate, config: {}\u001b[32m [repeated 5x across cluster]\u001b[0m\n",
      "\u001b[36m(ClientAppActor pid=16610)\u001b[0m [Client 5] fit, config: {'proximal_mu': 0.1}\u001b[32m [repeated 5x across cluster]\u001b[0m\n"
     ]
    },
    {
     "name": "stderr",
     "output_type": "stream",
     "text": [
      "\u001b[36m(ClientAppActor pid=16610)\u001b[0m /Users/macbook/Desktop/L361/L361_Project/.conda/lib/python3.12/site-packages/datasets/utils/_dill.py:385: DeprecationWarning: co_lnotab is deprecated, use co_lines instead.\u001b[32m [repeated 5x across cluster]\u001b[0m\n",
      "\u001b[36m(ClientAppActor pid=16610)\u001b[0m   obj.co_lnotab,  # for < python 3.10 [not counted in args]\u001b[32m [repeated 5x across cluster]\u001b[0m\n"
     ]
    },
    {
     "name": "stdout",
     "output_type": "stream",
     "text": [
      "\u001b[36m(ClientAppActor pid=16613)\u001b[0m Epoch 1: train loss 0.06066462770104408, accuracy 0.23642364236423644\n",
      "\u001b[36m(ClientAppActor pid=16610)\u001b[0m Epoch 1: train loss 0.06323114782571793, accuracy 0.19696969696969696\u001b[32m [repeated 5x across cluster]\u001b[0m\n",
      "\u001b[36m(ClientAppActor pid=16615)\u001b[0m Epoch 2: train loss 0.07221631705760956, accuracy 0.09765976597659766\n",
      "\u001b[36m(ClientAppActor pid=16613)\u001b[0m Epoch 2: train loss 0.053888678550720215, accuracy 0.334983498349835\n",
      "\u001b[36m(ClientAppActor pid=16610)\u001b[0m Epoch 2: train loss 0.057375021278858185, accuracy 0.2692769276927693\u001b[32m [repeated 4x across cluster]\u001b[0m\n",
      "\u001b[36m(ClientAppActor pid=16613)\u001b[0m Epoch 3: train loss 0.04923500865697861, accuracy 0.4024902490249025\n",
      "\u001b[36m(ClientAppActor pid=16615)\u001b[0m Epoch 3: train loss 0.07220705598592758, accuracy 0.09735973597359736\n",
      "\u001b[36m(ClientAppActor pid=16610)\u001b[0m Epoch 3: train loss 0.05291280895471573, accuracy 0.3361836183618362\u001b[32m [repeated 4x across cluster]\u001b[0m\n",
      "\u001b[36m(ClientAppActor pid=16613)\u001b[0m Epoch 4: train loss 0.045431457459926605, accuracy 0.4504950495049505\n",
      "\u001b[36m(ClientAppActor pid=16611)\u001b[0m Epoch 4: train loss 0.0442081056535244, accuracy 0.4618961896189619\n",
      "\u001b[36m(ClientAppActor pid=16610)\u001b[0m Epoch 4: train loss 0.048407770693302155, accuracy 0.4087908790879088\u001b[32m [repeated 4x across cluster]\u001b[0m\n",
      "\u001b[36m(ClientAppActor pid=16611)\u001b[0m Epoch 5: train loss 0.0393410250544548, accuracy 0.5298529852985299\n",
      "\u001b[36m(ClientAppActor pid=16613)\u001b[0m Epoch 5: train loss 0.0410139374434948, accuracy 0.5151515151515151\n",
      "\u001b[36m(ClientAppActor pid=16610)\u001b[0m Epoch 5: train loss 0.04520951211452484, accuracy 0.44854485448544856\u001b[32m [repeated 4x across cluster]\u001b[0m\n",
      "\u001b[36m(ClientAppActor pid=16611)\u001b[0m Epoch 6: train loss 0.03502969071269035, accuracy 0.5835583558355836\n",
      "\u001b[36m(ClientAppActor pid=16613)\u001b[0m Epoch 6: train loss 0.03765496611595154, accuracy 0.5508550855085509\n",
      "\u001b[36m(ClientAppActor pid=16610)\u001b[0m Epoch 6: train loss 0.04286319389939308, accuracy 0.4915991599159916\u001b[32m [repeated 4x across cluster]\u001b[0m\n",
      "\u001b[36m(ClientAppActor pid=16613)\u001b[0m Epoch 7: train loss 0.03379850834608078, accuracy 0.6044104410441045\n",
      "\u001b[36m(ClientAppActor pid=16611)\u001b[0m Epoch 7: train loss 0.030683454126119614, accuracy 0.6441644164416441\n",
      "\u001b[36m(ClientAppActor pid=16610)\u001b[0m Epoch 7: train loss 0.03940949961543083, accuracy 0.5264026402640264\u001b[32m [repeated 4x across cluster]\u001b[0m\n",
      "\u001b[36m(ClientAppActor pid=16613)\u001b[0m Epoch 8: train loss 0.029641930013895035, accuracy 0.6581158115811581\n",
      "\u001b[36m(ClientAppActor pid=16611)\u001b[0m Epoch 8: train loss 0.026876527816057205, accuracy 0.6942694269426942\n",
      "\u001b[36m(ClientAppActor pid=16614)\u001b[0m Epoch 8: train loss 0.025985777378082275, accuracy 0.6911654417279136\u001b[32m [repeated 3x across cluster]\u001b[0m\n"
     ]
    },
    {
     "name": "stderr",
     "output_type": "stream",
     "text": [
      "\u001b[92mINFO \u001b[0m:      aggregate_fit: received 6 results and 0 failures\n"
     ]
    },
    {
     "name": "stdout",
     "output_type": "stream",
     "text": [
      "total size: 280903200\n"
     ]
    },
    {
     "name": "stderr",
     "output_type": "stream",
     "text": [
      "\u001b[92mINFO \u001b[0m:      fit progress: (2, 0.06642632637023926, {'accuracy': 0.2106}, 1298.2042215840193)\n",
      "\u001b[92mINFO \u001b[0m:      configure_evaluate: strategy sampled 6 clients (out of 6)\n",
      "\u001b[36m(ClientAppActor pid=16612)\u001b[0m /Users/macbook/Desktop/L361/L361_Project/.conda/lib/python3.12/site-packages/datasets/utils/_dill.py:385: DeprecationWarning: co_lnotab is deprecated, use co_lines instead.\n",
      "\u001b[36m(ClientAppActor pid=16612)\u001b[0m   obj.co_lnotab,  # for < python 3.10 [not counted in args]\n",
      "\u001b[36m(ClientAppActor pid=16611)\u001b[0m /Users/macbook/Desktop/L361/L361_Project/.conda/lib/python3.12/site-packages/datasets/utils/_dill.py:385: DeprecationWarning: co_lnotab is deprecated, use co_lines instead.\n",
      "\u001b[36m(ClientAppActor pid=16611)\u001b[0m   obj.co_lnotab,  # for < python 3.10 [not counted in args]\n"
     ]
    },
    {
     "name": "stdout",
     "output_type": "stream",
     "text": [
      "\u001b[36m(ClientAppActor pid=16612)\u001b[0m [Client 3] evaluate, config: {}\n",
      "\u001b[36m(ClientAppActor pid=16610)\u001b[0m Epoch 8: train loss 0.036643266677856445, accuracy 0.5645064506450646\n"
     ]
    },
    {
     "name": "stderr",
     "output_type": "stream",
     "text": [
      "\u001b[92mINFO \u001b[0m:      aggregate_evaluate: received 6 results and 0 failures\n",
      "\u001b[92mINFO \u001b[0m:      \n",
      "\u001b[92mINFO \u001b[0m:      [ROUND 3]\n",
      "\u001b[92mINFO \u001b[0m:      configure_fit: strategy sampled 6 clients (out of 6)\n"
     ]
    },
    {
     "name": "stdout",
     "output_type": "stream",
     "text": [
      "\u001b[36m(ClientAppActor pid=16610)\u001b[0m [Client 0] fit, config: {'proximal_mu': 0.1}\n",
      "\u001b[36m(ClientAppActor pid=16610)\u001b[0m [Client 0] evaluate, config: {}\u001b[32m [repeated 5x across cluster]\u001b[0m\n"
     ]
    },
    {
     "name": "stderr",
     "output_type": "stream",
     "text": [
      "\u001b[36m(ClientAppActor pid=16610)\u001b[0m /Users/macbook/Desktop/L361/L361_Project/.conda/lib/python3.12/site-packages/datasets/utils/_dill.py:385: DeprecationWarning: co_lnotab is deprecated, use co_lines instead.\u001b[32m [repeated 5x across cluster]\u001b[0m\n",
      "\u001b[36m(ClientAppActor pid=16610)\u001b[0m   obj.co_lnotab,  # for < python 3.10 [not counted in args]\u001b[32m [repeated 5x across cluster]\u001b[0m\n"
     ]
    },
    {
     "name": "stdout",
     "output_type": "stream",
     "text": [
      "\u001b[36m(ClientAppActor pid=16611)\u001b[0m Epoch 1: train loss 0.04684477671980858, accuracy 0.43564356435643564\n",
      "\u001b[36m(ClientAppActor pid=16612)\u001b[0m [Client 3] fit, config: {'proximal_mu': 0.1}\u001b[32m [repeated 5x across cluster]\u001b[0m\n",
      "\u001b[36m(ClientAppActor pid=16611)\u001b[0m Epoch 2: train loss 0.038232628256082535, accuracy 0.5502550255025502\u001b[32m [repeated 6x across cluster]\u001b[0m\n",
      "\u001b[36m(ClientAppActor pid=16611)\u001b[0m Epoch 3: train loss 0.03287116065621376, accuracy 0.6156615661566157\u001b[32m [repeated 6x across cluster]\u001b[0m\n",
      "\u001b[36m(ClientAppActor pid=16611)\u001b[0m Epoch 4: train loss 0.02926923893392086, accuracy 0.6629162916291629\u001b[32m [repeated 6x across cluster]\u001b[0m\n",
      "\u001b[36m(ClientAppActor pid=16611)\u001b[0m Epoch 5: train loss 0.02543039247393608, accuracy 0.7083708370837084\u001b[32m [repeated 6x across cluster]\u001b[0m\n",
      "\u001b[36m(ClientAppActor pid=16611)\u001b[0m Epoch 6: train loss 0.021249601617455482, accuracy 0.7572757275727573\u001b[32m [repeated 6x across cluster]\u001b[0m\n",
      "\u001b[36m(ClientAppActor pid=16613)\u001b[0m Epoch 7: train loss 0.017676573246717453, accuracy 0.7877287728772877\u001b[32m [repeated 6x across cluster]\u001b[0m\n",
      "\u001b[36m(ClientAppActor pid=16610)\u001b[0m Epoch 7: train loss 0.018314000219106674, accuracy 0.7880605969701515\u001b[32m [repeated 5x across cluster]\u001b[0m\n",
      "\u001b[36m(ClientAppActor pid=16613)\u001b[0m Epoch 8: train loss 0.0145154083147645, accuracy 0.8328832883288328\n",
      "\u001b[36m(ClientAppActor pid=16615)\u001b[0m Epoch 8: train loss 0.014442425221204758, accuracy 0.8312331233123312\n"
     ]
    },
    {
     "name": "stderr",
     "output_type": "stream",
     "text": [
      "\u001b[92mINFO \u001b[0m:      aggregate_fit: received 6 results and 0 failures\n"
     ]
    },
    {
     "name": "stdout",
     "output_type": "stream",
     "text": [
      "total size: 280903200\n"
     ]
    },
    {
     "name": "stderr",
     "output_type": "stream",
     "text": [
      "\u001b[92mINFO \u001b[0m:      fit progress: (3, 0.03539723682105541, {'accuracy': 0.6251}, 1946.7209957090672)\n",
      "\u001b[92mINFO \u001b[0m:      configure_evaluate: strategy sampled 6 clients (out of 6)\n"
     ]
    },
    {
     "name": "stdout",
     "output_type": "stream",
     "text": [
      "\u001b[36m(ClientAppActor pid=16613)\u001b[0m [Client 5] evaluate, config: {}\n",
      "\u001b[36m(ClientAppActor pid=16610)\u001b[0m Epoch 8: train loss 0.014887859113514423, accuracy 0.8284085795710214\u001b[32m [repeated 4x across cluster]\u001b[0m\n"
     ]
    },
    {
     "name": "stderr",
     "output_type": "stream",
     "text": [
      "\u001b[36m(ClientAppActor pid=16613)\u001b[0m /Users/macbook/Desktop/L361/L361_Project/.conda/lib/python3.12/site-packages/datasets/utils/_dill.py:385: DeprecationWarning: co_lnotab is deprecated, use co_lines instead.\u001b[32m [repeated 6x across cluster]\u001b[0m\n",
      "\u001b[36m(ClientAppActor pid=16613)\u001b[0m   obj.co_lnotab,  # for < python 3.10 [not counted in args]\u001b[32m [repeated 6x across cluster]\u001b[0m\n",
      "\u001b[92mINFO \u001b[0m:      aggregate_evaluate: received 6 results and 0 failures\n",
      "\u001b[92mINFO \u001b[0m:      \n",
      "\u001b[92mINFO \u001b[0m:      [ROUND 4]\n",
      "\u001b[92mINFO \u001b[0m:      configure_fit: strategy sampled 6 clients (out of 6)\n"
     ]
    },
    {
     "name": "stdout",
     "output_type": "stream",
     "text": [
      "\u001b[36m(ClientAppActor pid=16614)\u001b[0m [Client 3] fit, config: {'proximal_mu': 0.1}\n",
      "\u001b[36m(ClientAppActor pid=16610)\u001b[0m [Client 1] evaluate, config: {}\u001b[32m [repeated 5x across cluster]\u001b[0m\n"
     ]
    },
    {
     "name": "stderr",
     "output_type": "stream",
     "text": [
      "\u001b[36m(ClientAppActor pid=16614)\u001b[0m /Users/macbook/Desktop/L361/L361_Project/.conda/lib/python3.12/site-packages/datasets/utils/_dill.py:385: DeprecationWarning: co_lnotab is deprecated, use co_lines instead.\u001b[32m [repeated 6x across cluster]\u001b[0m\n",
      "\u001b[36m(ClientAppActor pid=16614)\u001b[0m   obj.co_lnotab,  # for < python 3.10 [not counted in args]\u001b[32m [repeated 6x across cluster]\u001b[0m\n"
     ]
    },
    {
     "name": "stdout",
     "output_type": "stream",
     "text": [
      "\u001b[36m(ClientAppActor pid=16612)\u001b[0m Epoch 1: train loss 0.030126623809337616, accuracy 0.6553172341382931\n",
      "\u001b[36m(ClientAppActor pid=16611)\u001b[0m [Client 2] fit, config: {'proximal_mu': 0.1}\u001b[32m [repeated 5x across cluster]\u001b[0m\n",
      "\u001b[36m(ClientAppActor pid=16614)\u001b[0m Epoch 2: train loss 0.023317603394389153, accuracy 0.7320732073207321\u001b[32m [repeated 6x across cluster]\u001b[0m\n",
      "\u001b[36m(ClientAppActor pid=16614)\u001b[0m Epoch 3: train loss 0.018417196348309517, accuracy 0.783978397839784\u001b[32m [repeated 6x across cluster]\u001b[0m\n",
      "\u001b[36m(ClientAppActor pid=16613)\u001b[0m Epoch 4: train loss 0.014618758112192154, accuracy 0.8307830783078308\u001b[32m [repeated 6x across cluster]\u001b[0m\n",
      "\u001b[36m(ClientAppActor pid=16613)\u001b[0m Epoch 5: train loss 0.010538099333643913, accuracy 0.8790879087908791\u001b[32m [repeated 6x across cluster]\u001b[0m\n",
      "\u001b[36m(ClientAppActor pid=16610)\u001b[0m Epoch 6: train loss 0.008472174406051636, accuracy 0.9060906090609061\u001b[32m [repeated 6x across cluster]\u001b[0m\n",
      "\u001b[36m(ClientAppActor pid=16613)\u001b[0m Epoch 7: train loss 0.006509072612971067, accuracy 0.9261926192619262\u001b[32m [repeated 6x across cluster]\u001b[0m\n",
      "\u001b[36m(ClientAppActor pid=16613)\u001b[0m Epoch 8: train loss 0.004701170604676008, accuracy 0.9491449144914491\u001b[32m [repeated 6x across cluster]\u001b[0m\n"
     ]
    },
    {
     "name": "stderr",
     "output_type": "stream",
     "text": [
      "\u001b[92mINFO \u001b[0m:      aggregate_fit: received 6 results and 0 failures\n"
     ]
    },
    {
     "name": "stdout",
     "output_type": "stream",
     "text": [
      "total size: 280903200\n"
     ]
    },
    {
     "name": "stderr",
     "output_type": "stream",
     "text": [
      "\u001b[92mINFO \u001b[0m:      fit progress: (4, 0.03496938349306583, {'accuracy': 0.7008}, 2591.1771348341135)\n",
      "\u001b[92mINFO \u001b[0m:      configure_evaluate: strategy sampled 6 clients (out of 6)\n",
      "\u001b[36m(ClientAppActor pid=16611)\u001b[0m /Users/macbook/Desktop/L361/L361_Project/.conda/lib/python3.12/site-packages/datasets/utils/_dill.py:385: DeprecationWarning: co_lnotab is deprecated, use co_lines instead.\u001b[32m [repeated 6x across cluster]\u001b[0m\n",
      "\u001b[36m(ClientAppActor pid=16611)\u001b[0m   obj.co_lnotab,  # for < python 3.10 [not counted in args]\u001b[32m [repeated 6x across cluster]\u001b[0m\n"
     ]
    },
    {
     "name": "stdout",
     "output_type": "stream",
     "text": [
      "\u001b[36m(ClientAppActor pid=16611)\u001b[0m [Client 3] evaluate, config: {}\n",
      "\u001b[36m(ClientAppActor pid=16615)\u001b[0m Epoch 8: train loss 0.0057988581247627735, accuracy 0.9395530223488826\u001b[32m [repeated 5x across cluster]\u001b[0m\n"
     ]
    },
    {
     "name": "stderr",
     "output_type": "stream",
     "text": [
      "\u001b[92mINFO \u001b[0m:      aggregate_evaluate: received 6 results and 0 failures\n",
      "\u001b[92mINFO \u001b[0m:      \n",
      "\u001b[92mINFO \u001b[0m:      [ROUND 5]\n",
      "\u001b[92mINFO \u001b[0m:      configure_fit: strategy sampled 6 clients (out of 6)\n",
      "\u001b[36m(ClientAppActor pid=16615)\u001b[0m /Users/macbook/Desktop/L361/L361_Project/.conda/lib/python3.12/site-packages/datasets/utils/_dill.py:385: DeprecationWarning: co_lnotab is deprecated, use co_lines instead.\u001b[32m [repeated 6x across cluster]\u001b[0m\n",
      "\u001b[36m(ClientAppActor pid=16615)\u001b[0m   obj.co_lnotab,  # for < python 3.10 [not counted in args]\u001b[32m [repeated 6x across cluster]\u001b[0m\n"
     ]
    },
    {
     "name": "stdout",
     "output_type": "stream",
     "text": [
      "\u001b[36m(ClientAppActor pid=16615)\u001b[0m [Client 5] fit, config: {'proximal_mu': 0.1}\n",
      "\u001b[36m(ClientAppActor pid=16613)\u001b[0m [Client 5] evaluate, config: {}\u001b[32m [repeated 5x across cluster]\u001b[0m\n",
      "\u001b[36m(ClientAppActor pid=16612)\u001b[0m Epoch 1: train loss 0.023541998118162155, accuracy 0.7377737773777377\n",
      "\u001b[36m(ClientAppActor pid=16614)\u001b[0m [Client 0] fit, config: {'proximal_mu': 0.1}\u001b[32m [repeated 5x across cluster]\u001b[0m\n",
      "\u001b[36m(ClientAppActor pid=16614)\u001b[0m Epoch 1: train loss 0.024545511230826378, accuracy 0.7294135293235339\u001b[32m [repeated 5x across cluster]\u001b[0m\n",
      "\u001b[36m(ClientAppActor pid=16613)\u001b[0m Epoch 2: train loss 0.014809640124440193, accuracy 0.8336583170841458\n",
      "\u001b[36m(ClientAppActor pid=16612)\u001b[0m Epoch 2: train loss 0.015186797827482224, accuracy 0.8274827482748275\n",
      "\u001b[36m(ClientAppActor pid=16614)\u001b[0m Epoch 2: train loss 0.015564950183033943, accuracy 0.8288585570721464\u001b[32m [repeated 4x across cluster]\u001b[0m\n",
      "\u001b[36m(ClientAppActor pid=16612)\u001b[0m Epoch 3: train loss 0.009354710578918457, accuracy 0.8945394539453946\n",
      "\u001b[36m(ClientAppActor pid=16610)\u001b[0m Epoch 3: train loss 0.009920741431415081, accuracy 0.8894389438943895\n",
      "\u001b[36m(ClientAppActor pid=16614)\u001b[0m Epoch 3: train loss 0.00970163382589817, accuracy 0.8897555122243888\u001b[32m [repeated 4x across cluster]\u001b[0m\n",
      "\u001b[36m(ClientAppActor pid=16612)\u001b[0m Epoch 4: train loss 0.006999049335718155, accuracy 0.9218421842184218\n",
      "\u001b[36m(ClientAppActor pid=16615)\u001b[0m Epoch 4: train loss 0.0058992961421608925, accuracy 0.9336933693369337\n",
      "\u001b[36m(ClientAppActor pid=16614)\u001b[0m Epoch 4: train loss 0.007028482388705015, accuracy 0.9247037648117594\u001b[32m [repeated 4x across cluster]\u001b[0m\n",
      "\u001b[36m(ClientAppActor pid=16612)\u001b[0m Epoch 5: train loss 0.0036700675264000893, accuracy 0.9596459645964597\n",
      "\u001b[36m(ClientAppActor pid=16613)\u001b[0m Epoch 5: train loss 0.004043420776724815, accuracy 0.9557522123893806\n",
      "\u001b[36m(ClientAppActor pid=16611)\u001b[0m \n",
      "\u001b[36m(ClientAppActor pid=16614)\u001b[0m Epoch 5: train loss 0.0057975249364972115, accuracy 0.9388030598470076\u001b[32m [repeated 4x across cluster]\u001b[0m\n",
      "\u001b[36m(ClientAppActor pid=16612)\u001b[0m Epoch 6: train loss 0.004801331087946892, accuracy 0.9485448544854486\n",
      "\u001b[36m(ClientAppActor pid=16615)\u001b[0m Epoch 6: train loss 0.004315054975450039, accuracy 0.9537953795379538\n",
      "\u001b[36m(ClientAppActor pid=16614)\u001b[0m Epoch 6: train loss 0.004798499867320061, accuracy 0.9461526923653817\u001b[32m [repeated 4x across cluster]\u001b[0m\n",
      "\u001b[36m(ClientAppActor pid=16612)\u001b[0m Epoch 7: train loss 0.004099432844668627, accuracy 0.9557455745574558\n",
      "\u001b[36m(ClientAppActor pid=16615)\u001b[0m Epoch 7: train loss 0.003078227397054434, accuracy 0.9666966696669667\n",
      "\u001b[36m(ClientAppActor pid=16614)\u001b[0m Epoch 7: train loss 0.0037187691777944565, accuracy 0.9574021298935054\u001b[32m [repeated 4x across cluster]\u001b[0m\n",
      "\u001b[36m(ClientAppActor pid=16612)\u001b[0m Epoch 8: train loss 0.003641971852630377, accuracy 0.9602460246024602\n",
      "\u001b[36m(ClientAppActor pid=16613)\u001b[0m Epoch 8: train loss 0.0027229804545640945, accuracy 0.9689515524223788\n"
     ]
    },
    {
     "name": "stderr",
     "output_type": "stream",
     "text": [
      "\u001b[92mINFO \u001b[0m:      aggregate_fit: received 6 results and 0 failures\n"
     ]
    },
    {
     "name": "stdout",
     "output_type": "stream",
     "text": [
      "total size: 280903200\n"
     ]
    },
    {
     "name": "stderr",
     "output_type": "stream",
     "text": [
      "\u001b[92mINFO \u001b[0m:      fit progress: (5, 0.0347177033662796, {'accuracy': 0.721}, 3233.6506317920284)\n",
      "\u001b[92mINFO \u001b[0m:      configure_evaluate: strategy sampled 6 clients (out of 6)\n",
      "\u001b[36m(ClientAppActor pid=16611)\u001b[0m /Users/macbook/Desktop/L361/L361_Project/.conda/lib/python3.12/site-packages/datasets/utils/_dill.py:385: DeprecationWarning: co_lnotab is deprecated, use co_lines instead.\u001b[32m [repeated 6x across cluster]\u001b[0m\n",
      "\u001b[36m(ClientAppActor pid=16611)\u001b[0m   obj.co_lnotab,  # for < python 3.10 [not counted in args]\u001b[32m [repeated 6x across cluster]\u001b[0m\n"
     ]
    },
    {
     "name": "stdout",
     "output_type": "stream",
     "text": [
      "\u001b[36m(ClientAppActor pid=16611)\u001b[0m [Client 1] evaluate, config: {}\n",
      "\u001b[36m(ClientAppActor pid=16614)\u001b[0m Epoch 8: train loss 0.0029472808819264174, accuracy 0.9695515224238788\u001b[32m [repeated 4x across cluster]\u001b[0m\n"
     ]
    },
    {
     "name": "stderr",
     "output_type": "stream",
     "text": [
      "\u001b[92mINFO \u001b[0m:      aggregate_evaluate: received 6 results and 0 failures\n",
      "\u001b[92mINFO \u001b[0m:      \n",
      "\u001b[92mINFO \u001b[0m:      [ROUND 6]\n",
      "\u001b[92mINFO \u001b[0m:      configure_fit: strategy sampled 6 clients (out of 6)\n",
      "\u001b[36m(ClientAppActor pid=16612)\u001b[0m /Users/macbook/Desktop/L361/L361_Project/.conda/lib/python3.12/site-packages/datasets/utils/_dill.py:385: DeprecationWarning: co_lnotab is deprecated, use co_lines instead.\u001b[32m [repeated 6x across cluster]\u001b[0m\n",
      "\u001b[36m(ClientAppActor pid=16612)\u001b[0m   obj.co_lnotab,  # for < python 3.10 [not counted in args]\u001b[32m [repeated 6x across cluster]\u001b[0m\n"
     ]
    },
    {
     "name": "stdout",
     "output_type": "stream",
     "text": [
      "\u001b[36m(ClientAppActor pid=16612)\u001b[0m [Client 4] fit, config: {'proximal_mu': 0.1}\n",
      "\u001b[36m(ClientAppActor pid=16613)\u001b[0m [Client 3] evaluate, config: {}\u001b[32m [repeated 5x across cluster]\u001b[0m\n",
      "\u001b[36m(ClientAppActor pid=16613)\u001b[0m Epoch 1: train loss 0.019749034196138382, accuracy 0.784310784460777\n",
      "\u001b[36m(ClientAppActor pid=16614)\u001b[0m [Client 2] fit, config: {'proximal_mu': 0.1}\u001b[32m [repeated 5x across cluster]\u001b[0m\n",
      "\u001b[36m(ClientAppActor pid=16613)\u001b[0m Epoch 2: train loss 0.008800189010798931, accuracy 0.9028048597570122\u001b[32m [repeated 6x across cluster]\u001b[0m\n",
      "\u001b[36m(ClientAppActor pid=16613)\u001b[0m Epoch 3: train loss 0.005036741495132446, accuracy 0.9464526773661317\u001b[32m [repeated 6x across cluster]\u001b[0m\n",
      "\u001b[36m(ClientAppActor pid=16615)\u001b[0m Epoch 4: train loss 0.003981887828558683, accuracy 0.9586020698965052\u001b[32m [repeated 6x across cluster]\u001b[0m\n",
      "\u001b[36m(ClientAppActor pid=16615)\u001b[0m Epoch 5: train loss 0.00392061285674572, accuracy 0.960401979901005\u001b[32m [repeated 6x across cluster]\u001b[0m\n",
      "\u001b[36m(ClientAppActor pid=16615)\u001b[0m Epoch 6: train loss 0.003412944730371237, accuracy 0.9667016649167541\u001b[32m [repeated 6x across cluster]\u001b[0m\n",
      "\u001b[36m(ClientAppActor pid=16615)\u001b[0m Epoch 7: train loss 0.003422651207074523, accuracy 0.9653517324133793\u001b[32m [repeated 6x across cluster]\u001b[0m\n",
      "\u001b[36m(ClientAppActor pid=16615)\u001b[0m Epoch 8: train loss 0.0032842906657606363, accuracy 0.968051597420129\u001b[32m [repeated 6x across cluster]\u001b[0m\n"
     ]
    },
    {
     "name": "stderr",
     "output_type": "stream",
     "text": [
      "\u001b[92mINFO \u001b[0m:      aggregate_fit: received 6 results and 0 failures\n"
     ]
    },
    {
     "name": "stdout",
     "output_type": "stream",
     "text": [
      "total size: 280903200\n"
     ]
    },
    {
     "name": "stderr",
     "output_type": "stream",
     "text": [
      "\u001b[92mINFO \u001b[0m:      fit progress: (6, 0.033959348544478414, {'accuracy': 0.7299}, 3878.7451332090423)\n",
      "\u001b[92mINFO \u001b[0m:      configure_evaluate: strategy sampled 6 clients (out of 6)\n",
      "\u001b[36m(ClientAppActor pid=16611)\u001b[0m /Users/macbook/Desktop/L361/L361_Project/.conda/lib/python3.12/site-packages/datasets/utils/_dill.py:385: DeprecationWarning: co_lnotab is deprecated, use co_lines instead.\u001b[32m [repeated 6x across cluster]\u001b[0m\n",
      "\u001b[36m(ClientAppActor pid=16611)\u001b[0m   obj.co_lnotab,  # for < python 3.10 [not counted in args]\u001b[32m [repeated 6x across cluster]\u001b[0m\n"
     ]
    },
    {
     "name": "stdout",
     "output_type": "stream",
     "text": [
      "\u001b[36m(ClientAppActor pid=16613)\u001b[0m [Client 4] evaluate, config: {}\n",
      "\u001b[36m(ClientAppActor pid=16611)\u001b[0m Epoch 8: train loss 0.0031968625262379646, accuracy 0.96999699969997\u001b[32m [repeated 5x across cluster]\u001b[0m\n",
      "\u001b[36m(ClientAppActor pid=16610)\u001b[0m [Client 0] evaluate, config: {}\u001b[32m [repeated 5x across cluster]\u001b[0m\n"
     ]
    },
    {
     "name": "stderr",
     "output_type": "stream",
     "text": [
      "\u001b[36m(ClientAppActor pid=16610)\u001b[0m /Users/macbook/Desktop/L361/L361_Project/.conda/lib/python3.12/site-packages/datasets/utils/_dill.py:385: DeprecationWarning: co_lnotab is deprecated, use co_lines instead.\u001b[32m [repeated 5x across cluster]\u001b[0m\n",
      "\u001b[36m(ClientAppActor pid=16610)\u001b[0m   obj.co_lnotab,  # for < python 3.10 [not counted in args]\u001b[32m [repeated 5x across cluster]\u001b[0m\n",
      "\u001b[92mINFO \u001b[0m:      aggregate_evaluate: received 6 results and 0 failures\n",
      "\u001b[92mINFO \u001b[0m:      \n",
      "\u001b[92mINFO \u001b[0m:      [ROUND 7]\n",
      "\u001b[92mINFO \u001b[0m:      configure_fit: strategy sampled 6 clients (out of 6)\n",
      "\u001b[36m(ClientAppActor pid=16612)\u001b[0m /Users/macbook/Desktop/L361/L361_Project/.conda/lib/python3.12/site-packages/datasets/utils/_dill.py:385: DeprecationWarning: co_lnotab is deprecated, use co_lines instead.\n",
      "\u001b[36m(ClientAppActor pid=16612)\u001b[0m   obj.co_lnotab,  # for < python 3.10 [not counted in args]\n",
      "\u001b[36m(ClientAppActor pid=16613)\u001b[0m /Users/macbook/Desktop/L361/L361_Project/.conda/lib/python3.12/site-packages/datasets/utils/_dill.py:385: DeprecationWarning: co_lnotab is deprecated, use co_lines instead.\n",
      "\u001b[36m(ClientAppActor pid=16613)\u001b[0m   obj.co_lnotab,  # for < python 3.10 [not counted in args]\n"
     ]
    },
    {
     "name": "stdout",
     "output_type": "stream",
     "text": [
      "\u001b[36m(ClientAppActor pid=16614)\u001b[0m [Client 0] fit, config: {'proximal_mu': 0.1}\n",
      "\u001b[36m(ClientAppActor pid=16613)\u001b[0m Epoch 1: train loss 0.013850326649844646, accuracy 0.8441344134413441\n",
      "\u001b[36m(ClientAppActor pid=16615)\u001b[0m [Client 2] fit, config: {'proximal_mu': 0.1}\u001b[32m [repeated 5x across cluster]\u001b[0m\n",
      "\u001b[36m(ClientAppActor pid=16614)\u001b[0m Epoch 2: train loss 0.004883923567831516, accuracy 0.9478026098695065\u001b[32m [repeated 6x across cluster]\u001b[0m\n",
      "\u001b[36m(ClientAppActor pid=16614)\u001b[0m Epoch 3: train loss 0.0030199543107300997, accuracy 0.9694015299235038\u001b[32m [repeated 6x across cluster]\u001b[0m\n",
      "\u001b[36m(ClientAppActor pid=16610)\u001b[0m Epoch 3: train loss 0.0043445611372590065, accuracy 0.9523023848807559\u001b[32m [repeated 5x across cluster]\u001b[0m\n",
      "\u001b[36m(ClientAppActor pid=16614)\u001b[0m Epoch 4: train loss 0.0031969950068742037, accuracy 0.9703014849257537\n",
      "\u001b[36m(ClientAppActor pid=16612)\u001b[0m Epoch 4: train loss 0.0029923191759735346, accuracy 0.9702970297029703\n",
      "\u001b[36m(ClientAppActor pid=16614)\u001b[0m Epoch 5: train loss 0.00460704043507576, accuracy 0.9536523173841308\u001b[32m [repeated 5x across cluster]\u001b[0m\n",
      "\u001b[36m(ClientAppActor pid=16610)\u001b[0m Epoch 5: train loss 0.0027051717042922974, accuracy 0.9736013199340033\u001b[32m [repeated 5x across cluster]\u001b[0m\n",
      "\u001b[36m(ClientAppActor pid=16614)\u001b[0m Epoch 6: train loss 0.0035699447616934776, accuracy 0.9586020698965052\n",
      "\u001b[36m(ClientAppActor pid=16612)\u001b[0m Epoch 6: train loss 0.003251061076298356, accuracy 0.9662466246624662\n",
      "\u001b[36m(ClientAppActor pid=16610)\u001b[0m Epoch 6: train loss 0.0032336616422981024, accuracy 0.967301634918254\u001b[32m [repeated 4x across cluster]\u001b[0m\n",
      "\u001b[36m(ClientAppActor pid=16614)\u001b[0m Epoch 7: train loss 0.002954118652269244, accuracy 0.9689515524223788\n",
      "\u001b[36m(ClientAppActor pid=16612)\u001b[0m Epoch 7: train loss 0.004086491651833057, accuracy 0.9570957095709571\n",
      "\u001b[36m(ClientAppActor pid=16610)\u001b[0m Epoch 7: train loss 0.003412773599848151, accuracy 0.9650517474126293\u001b[32m [repeated 4x across cluster]\u001b[0m\n",
      "\u001b[36m(ClientAppActor pid=16614)\u001b[0m Epoch 8: train loss 0.0028612609021365643, accuracy 0.9719514024298785\n",
      "\u001b[36m(ClientAppActor pid=16612)\u001b[0m Epoch 8: train loss 0.0023924466222524643, accuracy 0.974947494749475\n"
     ]
    },
    {
     "name": "stderr",
     "output_type": "stream",
     "text": [
      "\u001b[92mINFO \u001b[0m:      aggregate_fit: received 6 results and 0 failures\n"
     ]
    },
    {
     "name": "stdout",
     "output_type": "stream",
     "text": [
      "total size: 280903200\n"
     ]
    },
    {
     "name": "stderr",
     "output_type": "stream",
     "text": [
      "\u001b[92mINFO \u001b[0m:      fit progress: (7, 0.03596938618719578, {'accuracy': 0.729}, 4527.650911542005)\n",
      "\u001b[92mINFO \u001b[0m:      configure_evaluate: strategy sampled 6 clients (out of 6)\n",
      "\u001b[36m(ClientAppActor pid=16611)\u001b[0m /Users/macbook/Desktop/L361/L361_Project/.conda/lib/python3.12/site-packages/datasets/utils/_dill.py:385: DeprecationWarning: co_lnotab is deprecated, use co_lines instead.\u001b[32m [repeated 5x across cluster]\u001b[0m\n",
      "\u001b[36m(ClientAppActor pid=16611)\u001b[0m   obj.co_lnotab,  # for < python 3.10 [not counted in args]\u001b[32m [repeated 5x across cluster]\u001b[0m\n"
     ]
    },
    {
     "name": "stdout",
     "output_type": "stream",
     "text": [
      "\u001b[36m(ClientAppActor pid=16613)\u001b[0m [Client 1] evaluate, config: {}\n",
      "\u001b[36m(ClientAppActor pid=16610)\u001b[0m Epoch 8: train loss 0.0039512766525149345, accuracy 0.9613019349032549\u001b[32m [repeated 4x across cluster]\u001b[0m\n"
     ]
    },
    {
     "name": "stderr",
     "output_type": "stream",
     "text": [
      "\u001b[92mINFO \u001b[0m:      aggregate_evaluate: received 6 results and 0 failures\n",
      "\u001b[92mINFO \u001b[0m:      \n",
      "\u001b[92mINFO \u001b[0m:      [ROUND 8]\n",
      "\u001b[92mINFO \u001b[0m:      configure_fit: strategy sampled 6 clients (out of 6)\n"
     ]
    },
    {
     "name": "stdout",
     "output_type": "stream",
     "text": [
      "\u001b[36m(ClientAppActor pid=16610)\u001b[0m [Client 2] fit, config: {'proximal_mu': 0.1}\n",
      "\u001b[36m(ClientAppActor pid=16610)\u001b[0m [Client 0] evaluate, config: {}\u001b[32m [repeated 5x across cluster]\u001b[0m\n"
     ]
    },
    {
     "name": "stderr",
     "output_type": "stream",
     "text": [
      "\u001b[36m(ClientAppActor pid=16615)\u001b[0m /Users/macbook/Desktop/L361/L361_Project/.conda/lib/python3.12/site-packages/datasets/utils/_dill.py:385: DeprecationWarning: co_lnotab is deprecated, use co_lines instead.\u001b[32m [repeated 6x across cluster]\u001b[0m\n",
      "\u001b[36m(ClientAppActor pid=16615)\u001b[0m   obj.co_lnotab,  # for < python 3.10 [not counted in args]\u001b[32m [repeated 6x across cluster]\u001b[0m\n"
     ]
    },
    {
     "name": "stdout",
     "output_type": "stream",
     "text": [
      "\u001b[36m(ClientAppActor pid=16614)\u001b[0m Epoch 1: train loss 0.010701705701649189, accuracy 0.87998799879988\n",
      "\u001b[36m(ClientAppActor pid=16611)\u001b[0m [Client 1] fit, config: {'proximal_mu': 0.1}\u001b[32m [repeated 5x across cluster]\u001b[0m\n",
      "\u001b[36m(ClientAppActor pid=16612)\u001b[0m Epoch 2: train loss 0.003104661125689745, accuracy 0.9696969696969697\u001b[32m [repeated 6x across cluster]\u001b[0m\n",
      "\u001b[36m(ClientAppActor pid=16614)\u001b[0m Epoch 3: train loss 0.002274446189403534, accuracy 0.9761476147614762\u001b[32m [repeated 6x across cluster]\u001b[0m\n",
      "\u001b[36m(ClientAppActor pid=16614)\u001b[0m Epoch 4: train loss 0.004475506488233805, accuracy 0.9524452445244525\u001b[32m [repeated 6x across cluster]\u001b[0m\n",
      "\u001b[36m(ClientAppActor pid=16614)\u001b[0m Epoch 5: train loss 0.002839485416188836, accuracy 0.9683468346834684\u001b[32m [repeated 6x across cluster]\u001b[0m\n",
      "\u001b[36m(ClientAppActor pid=16614)\u001b[0m Epoch 6: train loss 0.0026441975496709347, accuracy 0.9744974497449745\u001b[32m [repeated 6x across cluster]\u001b[0m\n",
      "\u001b[36m(ClientAppActor pid=16614)\u001b[0m Epoch 7: train loss 0.0023306969087570906, accuracy 0.9756975697569757\u001b[32m [repeated 6x across cluster]\u001b[0m\n",
      "\u001b[36m(ClientAppActor pid=16614)\u001b[0m Epoch 8: train loss 0.0030796178616583347, accuracy 0.9677467746774677\u001b[32m [repeated 6x across cluster]\u001b[0m\n"
     ]
    },
    {
     "name": "stderr",
     "output_type": "stream",
     "text": [
      "\u001b[92mINFO \u001b[0m:      aggregate_fit: received 6 results and 0 failures\n"
     ]
    },
    {
     "name": "stdout",
     "output_type": "stream",
     "text": [
      "total size: 280903200\n"
     ]
    },
    {
     "name": "stderr",
     "output_type": "stream",
     "text": [
      "\u001b[92mINFO \u001b[0m:      fit progress: (8, 0.03584601846337319, {'accuracy': 0.7327}, 5167.462481167051)\n",
      "\u001b[92mINFO \u001b[0m:      configure_evaluate: strategy sampled 6 clients (out of 6)\n",
      "\u001b[36m(ClientAppActor pid=16615)\u001b[0m /Users/macbook/Desktop/L361/L361_Project/.conda/lib/python3.12/site-packages/datasets/utils/_dill.py:385: DeprecationWarning: co_lnotab is deprecated, use co_lines instead.\u001b[32m [repeated 6x across cluster]\u001b[0m\n",
      "\u001b[36m(ClientAppActor pid=16615)\u001b[0m   obj.co_lnotab,  # for < python 3.10 [not counted in args]\u001b[32m [repeated 6x across cluster]\u001b[0m\n"
     ]
    },
    {
     "name": "stdout",
     "output_type": "stream",
     "text": [
      "\u001b[36m(ClientAppActor pid=16615)\u001b[0m [Client 3] evaluate, config: {}\n",
      "\u001b[36m(ClientAppActor pid=16610)\u001b[0m Epoch 8: train loss 0.0018940098816528916, accuracy 0.9788478847884788\u001b[32m [repeated 5x across cluster]\u001b[0m\n"
     ]
    },
    {
     "name": "stderr",
     "output_type": "stream",
     "text": [
      "\u001b[92mINFO \u001b[0m:      aggregate_evaluate: received 6 results and 0 failures\n",
      "\u001b[92mINFO \u001b[0m:      \n",
      "\u001b[92mINFO \u001b[0m:      [ROUND 9]\n",
      "\u001b[92mINFO \u001b[0m:      configure_fit: strategy sampled 6 clients (out of 6)\n",
      "\u001b[36m(ClientAppActor pid=16613)\u001b[0m /Users/macbook/Desktop/L361/L361_Project/.conda/lib/python3.12/site-packages/datasets/utils/_dill.py:385: DeprecationWarning: co_lnotab is deprecated, use co_lines instead.\u001b[32m [repeated 6x across cluster]\u001b[0m\n",
      "\u001b[36m(ClientAppActor pid=16613)\u001b[0m   obj.co_lnotab,  # for < python 3.10 [not counted in args]\u001b[32m [repeated 6x across cluster]\u001b[0m\n"
     ]
    },
    {
     "name": "stdout",
     "output_type": "stream",
     "text": [
      "\u001b[36m(ClientAppActor pid=16613)\u001b[0m [Client 3] fit, config: {'proximal_mu': 0.1}\n",
      "\u001b[36m(ClientAppActor pid=16613)\u001b[0m [Client 1] evaluate, config: {}\u001b[32m [repeated 5x across cluster]\u001b[0m\n",
      "\u001b[36m(ClientAppActor pid=16615)\u001b[0m Epoch 1: train loss 0.008227495476603508, accuracy 0.9155415541554155\n",
      "\u001b[36m(ClientAppActor pid=16611)\u001b[0m [Client 0] fit, config: {'proximal_mu': 0.1}\u001b[32m [repeated 5x across cluster]\u001b[0m\n",
      "\u001b[36m(ClientAppActor pid=16615)\u001b[0m Epoch 2: train loss 0.0026043725665658712, accuracy 0.972997299729973\u001b[32m [repeated 6x across cluster]\u001b[0m\n",
      "\u001b[36m(ClientAppActor pid=16613)\u001b[0m Epoch 3: train loss 0.003099219873547554, accuracy 0.968046804680468\u001b[32m [repeated 6x across cluster]\u001b[0m\n",
      "\u001b[36m(ClientAppActor pid=16615)\u001b[0m Epoch 4: train loss 0.003463875036686659, accuracy 0.9642964296429642\u001b[32m [repeated 6x across cluster]\u001b[0m\n",
      "\u001b[36m(ClientAppActor pid=16615)\u001b[0m Epoch 5: train loss 0.003062755335122347, accuracy 0.9683468346834684\u001b[32m [repeated 6x across cluster]\u001b[0m\n",
      "\u001b[36m(ClientAppActor pid=16615)\u001b[0m Epoch 6: train loss 0.0025542834773659706, accuracy 0.974047404740474\u001b[32m [repeated 6x across cluster]\u001b[0m\n",
      "\u001b[36m(ClientAppActor pid=16615)\u001b[0m Epoch 7: train loss 0.002121795667335391, accuracy 0.9783978397839784\u001b[32m [repeated 6x across cluster]\u001b[0m\n",
      "\u001b[36m(ClientAppActor pid=16610)\u001b[0m Epoch 8: train loss 0.0015812644269317389, accuracy 0.9821482148214822\u001b[32m [repeated 6x across cluster]\u001b[0m\n"
     ]
    },
    {
     "name": "stderr",
     "output_type": "stream",
     "text": [
      "\u001b[92mINFO \u001b[0m:      aggregate_fit: received 6 results and 0 failures\n"
     ]
    },
    {
     "name": "stdout",
     "output_type": "stream",
     "text": [
      "total size: 280903200\n"
     ]
    },
    {
     "name": "stderr",
     "output_type": "stream",
     "text": [
      "\u001b[92mINFO \u001b[0m:      fit progress: (9, 0.0360300006300211, {'accuracy': 0.7375}, 5809.076779959025)\n",
      "\u001b[92mINFO \u001b[0m:      configure_evaluate: strategy sampled 6 clients (out of 6)\n",
      "\u001b[36m(ClientAppActor pid=16614)\u001b[0m /Users/macbook/Desktop/L361/L361_Project/.conda/lib/python3.12/site-packages/datasets/utils/_dill.py:385: DeprecationWarning: co_lnotab is deprecated, use co_lines instead.\u001b[32m [repeated 6x across cluster]\u001b[0m\n",
      "\u001b[36m(ClientAppActor pid=16614)\u001b[0m   obj.co_lnotab,  # for < python 3.10 [not counted in args]\u001b[32m [repeated 6x across cluster]\u001b[0m\n"
     ]
    },
    {
     "name": "stdout",
     "output_type": "stream",
     "text": [
      "\u001b[36m(ClientAppActor pid=16614)\u001b[0m [Client 0] evaluate, config: {}\n",
      "\u001b[36m(ClientAppActor pid=16614)\u001b[0m Epoch 8: train loss 0.002688772277906537, accuracy 0.9730013499325034\u001b[32m [repeated 5x across cluster]\u001b[0m\n"
     ]
    },
    {
     "name": "stderr",
     "output_type": "stream",
     "text": [
      "\u001b[92mINFO \u001b[0m:      aggregate_evaluate: received 6 results and 0 failures\n",
      "\u001b[92mINFO \u001b[0m:      \n",
      "\u001b[92mINFO \u001b[0m:      [ROUND 10]\n",
      "\u001b[92mINFO \u001b[0m:      configure_fit: strategy sampled 6 clients (out of 6)\n"
     ]
    },
    {
     "name": "stdout",
     "output_type": "stream",
     "text": [
      "\u001b[36m(ClientAppActor pid=16614)\u001b[0m [Client 1] fit, config: {'proximal_mu': 0.1}\n",
      "\u001b[36m(ClientAppActor pid=16615)\u001b[0m [Client 4] evaluate, config: {}\u001b[32m [repeated 5x across cluster]\u001b[0m\n"
     ]
    },
    {
     "name": "stderr",
     "output_type": "stream",
     "text": [
      "\u001b[36m(ClientAppActor pid=16614)\u001b[0m /Users/macbook/Desktop/L361/L361_Project/.conda/lib/python3.12/site-packages/datasets/utils/_dill.py:385: DeprecationWarning: co_lnotab is deprecated, use co_lines instead.\u001b[32m [repeated 6x across cluster]\u001b[0m\n",
      "\u001b[36m(ClientAppActor pid=16614)\u001b[0m   obj.co_lnotab,  # for < python 3.10 [not counted in args]\u001b[32m [repeated 6x across cluster]\u001b[0m\n"
     ]
    },
    {
     "name": "stdout",
     "output_type": "stream",
     "text": [
      "\u001b[36m(ClientAppActor pid=16611)\u001b[0m Epoch 1: train loss 0.006705262698233128, accuracy 0.9302430243024302\n",
      "\u001b[36m(ClientAppActor pid=16610)\u001b[0m [Client 3] fit, config: {'proximal_mu': 0.1}\u001b[32m [repeated 5x across cluster]\u001b[0m\n",
      "\u001b[36m(ClientAppActor pid=16615)\u001b[0m Epoch 2: train loss 0.0026964321732521057, accuracy 0.9721013949302535\u001b[32m [repeated 6x across cluster]\u001b[0m\n",
      "\u001b[36m(ClientAppActor pid=16615)\u001b[0m Epoch 3: train loss 0.002912644064053893, accuracy 0.9715014249287536\u001b[32m [repeated 6x across cluster]\u001b[0m\n",
      "\u001b[36m(ClientAppActor pid=16615)\u001b[0m Epoch 4: train loss 0.0028974534943699837, accuracy 0.9716514174291285\u001b[32m [repeated 6x across cluster]\u001b[0m\n",
      "\u001b[36m(ClientAppActor pid=16615)\u001b[0m Epoch 5: train loss 0.0033958267886191607, accuracy 0.9640017999100045\u001b[32m [repeated 6x across cluster]\u001b[0m\n",
      "\u001b[36m(ClientAppActor pid=16610)\u001b[0m Epoch 6: train loss 0.0022514062002301216, accuracy 0.9788478847884788\u001b[32m [repeated 6x across cluster]\u001b[0m\n",
      "\u001b[36m(ClientAppActor pid=16615)\u001b[0m Epoch 7: train loss 0.001038877060636878, accuracy 0.9895005249737513\u001b[32m [repeated 6x across cluster]\u001b[0m\n",
      "\u001b[36m(ClientAppActor pid=16615)\u001b[0m Epoch 8: train loss 0.0027240312192589045, accuracy 0.9746512674366282\u001b[32m [repeated 6x across cluster]\u001b[0m\n"
     ]
    },
    {
     "name": "stderr",
     "output_type": "stream",
     "text": [
      "\u001b[92mINFO \u001b[0m:      aggregate_fit: received 6 results and 0 failures\n"
     ]
    },
    {
     "name": "stdout",
     "output_type": "stream",
     "text": [
      "total size: 280903200\n"
     ]
    },
    {
     "name": "stderr",
     "output_type": "stream",
     "text": [
      "\u001b[92mINFO \u001b[0m:      fit progress: (10, 0.036414744186401365, {'accuracy': 0.735}, 6452.219343750039)\n",
      "\u001b[92mINFO \u001b[0m:      configure_evaluate: strategy sampled 6 clients (out of 6)\n",
      "\u001b[36m(ClientAppActor pid=16612)\u001b[0m /Users/macbook/Desktop/L361/L361_Project/.conda/lib/python3.12/site-packages/datasets/utils/_dill.py:385: DeprecationWarning: co_lnotab is deprecated, use co_lines instead.\u001b[32m [repeated 7x across cluster]\u001b[0m\n",
      "\u001b[36m(ClientAppActor pid=16612)\u001b[0m   obj.co_lnotab,  # for < python 3.10 [not counted in args]\u001b[32m [repeated 7x across cluster]\u001b[0m\n"
     ]
    },
    {
     "name": "stdout",
     "output_type": "stream",
     "text": [
      "\u001b[36m(ClientAppActor pid=16612)\u001b[0m [Client 2] evaluate, config: {}\n",
      "\u001b[36m(ClientAppActor pid=16611)\u001b[0m Epoch 8: train loss 0.00262960372492671, accuracy 0.9714971497149715\u001b[32m [repeated 5x across cluster]\u001b[0m\n"
     ]
    },
    {
     "name": "stderr",
     "output_type": "stream",
     "text": [
      "\u001b[92mINFO \u001b[0m:      aggregate_evaluate: received 6 results and 0 failures\n",
      "\u001b[92mINFO \u001b[0m:      \n",
      "\u001b[92mINFO \u001b[0m:      [ROUND 11]\n",
      "\u001b[92mINFO \u001b[0m:      configure_fit: strategy sampled 6 clients (out of 6)\n",
      "\u001b[36m(ClientAppActor pid=16611)\u001b[0m /Users/macbook/Desktop/L361/L361_Project/.conda/lib/python3.12/site-packages/datasets/utils/_dill.py:385: DeprecationWarning: co_lnotab is deprecated, use co_lines instead.\u001b[32m [repeated 6x across cluster]\u001b[0m\n",
      "\u001b[36m(ClientAppActor pid=16611)\u001b[0m   obj.co_lnotab,  # for < python 3.10 [not counted in args]\u001b[32m [repeated 6x across cluster]\u001b[0m\n"
     ]
    },
    {
     "name": "stdout",
     "output_type": "stream",
     "text": [
      "\u001b[36m(ClientAppActor pid=16615)\u001b[0m [Client 0] fit, config: {'proximal_mu': 0.1}\n",
      "\u001b[36m(ClientAppActor pid=16615)\u001b[0m [Client 5] evaluate, config: {}\u001b[32m [repeated 5x across cluster]\u001b[0m\n",
      "\u001b[36m(ClientAppActor pid=16615)\u001b[0m Epoch 1: train loss 0.00613939156755805, accuracy 0.935953202339883\n",
      "\u001b[36m(ClientAppActor pid=16610)\u001b[0m [Client 2] fit, config: {'proximal_mu': 0.1}\u001b[32m [repeated 5x across cluster]\u001b[0m\n",
      "\u001b[36m(ClientAppActor pid=16615)\u001b[0m Epoch 2: train loss 0.00234113703481853, accuracy 0.976001199940003\u001b[32m [repeated 6x across cluster]\u001b[0m\n",
      "\u001b[36m(ClientAppActor pid=16615)\u001b[0m Epoch 3: train loss 0.002933509647846222, accuracy 0.9710514474276286\u001b[32m [repeated 6x across cluster]\u001b[0m\n",
      "\u001b[36m(ClientAppActor pid=16615)\u001b[0m Epoch 4: train loss 0.00246239872649312, accuracy 0.9746512674366282\u001b[32m [repeated 6x across cluster]\u001b[0m\n",
      "\u001b[36m(ClientAppActor pid=16611)\u001b[0m Epoch 5: train loss 0.0022139274515211582, accuracy 0.9750975097509751\u001b[32m [repeated 6x across cluster]\u001b[0m\n",
      "\u001b[36m(ClientAppActor pid=16615)\u001b[0m Epoch 6: train loss 0.0018880505813285708, accuracy 0.9812509374531273\u001b[32m [repeated 6x across cluster]\u001b[0m\n",
      "\u001b[36m(ClientAppActor pid=16615)\u001b[0m Epoch 7: train loss 0.0024239032063633204, accuracy 0.9767511624418779\u001b[32m [repeated 6x across cluster]\u001b[0m\n",
      "\u001b[36m(ClientAppActor pid=16615)\u001b[0m Epoch 8: train loss 0.0021519141737371683, accuracy 0.9791510424478777\u001b[32m [repeated 6x across cluster]\u001b[0m\n"
     ]
    },
    {
     "name": "stderr",
     "output_type": "stream",
     "text": [
      "\u001b[92mINFO \u001b[0m:      aggregate_fit: received 6 results and 0 failures\n"
     ]
    },
    {
     "name": "stdout",
     "output_type": "stream",
     "text": [
      "total size: 280903200\n"
     ]
    },
    {
     "name": "stderr",
     "output_type": "stream",
     "text": [
      "\u001b[92mINFO \u001b[0m:      fit progress: (11, 0.03608650654554367, {'accuracy': 0.7359}, 7093.500280292006)\n",
      "\u001b[92mINFO \u001b[0m:      configure_evaluate: strategy sampled 6 clients (out of 6)\n"
     ]
    },
    {
     "name": "stdout",
     "output_type": "stream",
     "text": [
      "\u001b[36m(ClientAppActor pid=16613)\u001b[0m [Client 5] evaluate, config: {}\n",
      "\u001b[36m(ClientAppActor pid=16614)\u001b[0m Epoch 8: train loss 0.0027515138499438763, accuracy 0.9732973297329733\u001b[32m [repeated 5x across cluster]\u001b[0m\n"
     ]
    },
    {
     "name": "stderr",
     "output_type": "stream",
     "text": [
      "\u001b[36m(ClientAppActor pid=16613)\u001b[0m /Users/macbook/Desktop/L361/L361_Project/.conda/lib/python3.12/site-packages/datasets/utils/_dill.py:385: DeprecationWarning: co_lnotab is deprecated, use co_lines instead.\u001b[32m [repeated 6x across cluster]\u001b[0m\n",
      "\u001b[36m(ClientAppActor pid=16613)\u001b[0m   obj.co_lnotab,  # for < python 3.10 [not counted in args]\u001b[32m [repeated 6x across cluster]\u001b[0m\n",
      "\u001b[92mINFO \u001b[0m:      aggregate_evaluate: received 6 results and 0 failures\n",
      "\u001b[92mINFO \u001b[0m:      \n",
      "\u001b[92mINFO \u001b[0m:      [ROUND 12]\n",
      "\u001b[92mINFO \u001b[0m:      configure_fit: strategy sampled 6 clients (out of 6)\n",
      "\u001b[36m(ClientAppActor pid=16614)\u001b[0m /Users/macbook/Desktop/L361/L361_Project/.conda/lib/python3.12/site-packages/datasets/utils/_dill.py:385: DeprecationWarning: co_lnotab is deprecated, use co_lines instead.\u001b[32m [repeated 7x across cluster]\u001b[0m\n",
      "\u001b[36m(ClientAppActor pid=16614)\u001b[0m   obj.co_lnotab,  # for < python 3.10 [not counted in args]\u001b[32m [repeated 7x across cluster]\u001b[0m\n"
     ]
    },
    {
     "name": "stdout",
     "output_type": "stream",
     "text": [
      "\u001b[36m(ClientAppActor pid=16614)\u001b[0m [Client 0] fit, config: {'proximal_mu': 0.1}\n",
      "\u001b[36m(ClientAppActor pid=16614)\u001b[0m [Client 0] evaluate, config: {}\u001b[32m [repeated 5x across cluster]\u001b[0m\n",
      "\u001b[36m(ClientAppActor pid=16614)\u001b[0m Epoch 1: train loss 0.005157085135579109, accuracy 0.9478026098695065\n",
      "\u001b[36m(ClientAppActor pid=16615)\u001b[0m [Client 5] fit, config: {'proximal_mu': 0.1}\u001b[32m [repeated 5x across cluster]\u001b[0m\n",
      "\u001b[36m(ClientAppActor pid=16612)\u001b[0m Epoch 2: train loss 0.00284115900285542, accuracy 0.9715014249287536\u001b[32m [repeated 6x across cluster]\u001b[0m\n",
      "\u001b[36m(ClientAppActor pid=16612)\u001b[0m Epoch 3: train loss 0.0017225329065695405, accuracy 0.9817009149542523\u001b[32m [repeated 6x across cluster]\u001b[0m\n",
      "\u001b[36m(ClientAppActor pid=16611)\u001b[0m \n",
      "\u001b[36m(ClientAppActor pid=16612)\u001b[0m Epoch 4: train loss 0.0023882247041910887, accuracy 0.976151192440378\u001b[32m [repeated 6x across cluster]\u001b[0m\n",
      "\u001b[36m(ClientAppActor pid=16612)\u001b[0m Epoch 5: train loss 0.0031214419286698103, accuracy 0.9719514024298785\u001b[32m [repeated 6x across cluster]\u001b[0m\n",
      "\u001b[36m(ClientAppActor pid=16613)\u001b[0m Epoch 6: train loss 0.0027491780929267406, accuracy 0.974947494749475\u001b[32m [repeated 6x across cluster]\u001b[0m\n",
      "\u001b[36m(ClientAppActor pid=16613)\u001b[0m Epoch 7: train loss 0.0015985264908522367, accuracy 0.9845484548454846\u001b[32m [repeated 6x across cluster]\u001b[0m\n",
      "\u001b[36m(ClientAppActor pid=16613)\u001b[0m Epoch 8: train loss 0.0025874730199575424, accuracy 0.9744974497449745\u001b[32m [repeated 6x across cluster]\u001b[0m\n"
     ]
    },
    {
     "name": "stderr",
     "output_type": "stream",
     "text": [
      "\u001b[92mINFO \u001b[0m:      aggregate_fit: received 6 results and 0 failures\n"
     ]
    },
    {
     "name": "stdout",
     "output_type": "stream",
     "text": [
      "total size: 280903200\n"
     ]
    },
    {
     "name": "stderr",
     "output_type": "stream",
     "text": [
      "\u001b[92mINFO \u001b[0m:      fit progress: (12, 0.037094509872794154, {'accuracy': 0.7339}, 7736.135197084048)\n",
      "\u001b[92mINFO \u001b[0m:      configure_evaluate: strategy sampled 6 clients (out of 6)\n",
      "\u001b[36m(ClientAppActor pid=16615)\u001b[0m /Users/macbook/Desktop/L361/L361_Project/.conda/lib/python3.12/site-packages/datasets/utils/_dill.py:385: DeprecationWarning: co_lnotab is deprecated, use co_lines instead.\u001b[32m [repeated 8x across cluster]\u001b[0m\n",
      "\u001b[36m(ClientAppActor pid=16615)\u001b[0m   obj.co_lnotab,  # for < python 3.10 [not counted in args]\u001b[32m [repeated 8x across cluster]\u001b[0m\n"
     ]
    },
    {
     "name": "stdout",
     "output_type": "stream",
     "text": [
      "\u001b[36m(ClientAppActor pid=16615)\u001b[0m [Client 4] evaluate, config: {}\n",
      "\u001b[36m(ClientAppActor pid=16610)\u001b[0m Epoch 8: train loss 0.0018172580748796463, accuracy 0.9821482148214822\u001b[32m [repeated 5x across cluster]\u001b[0m\n"
     ]
    },
    {
     "name": "stderr",
     "output_type": "stream",
     "text": [
      "\u001b[92mINFO \u001b[0m:      aggregate_evaluate: received 6 results and 0 failures\n",
      "\u001b[92mINFO \u001b[0m:      \n",
      "\u001b[92mINFO \u001b[0m:      [ROUND 13]\n",
      "\u001b[92mINFO \u001b[0m:      configure_fit: strategy sampled 6 clients (out of 6)\n"
     ]
    },
    {
     "name": "stdout",
     "output_type": "stream",
     "text": [
      "\u001b[36m(ClientAppActor pid=16614)\u001b[0m [Client 4] fit, config: {'proximal_mu': 0.1}\n",
      "\u001b[36m(ClientAppActor pid=16613)\u001b[0m [Client 0] evaluate, config: {}\u001b[32m [repeated 5x across cluster]\u001b[0m\n"
     ]
    },
    {
     "name": "stderr",
     "output_type": "stream",
     "text": [
      "\u001b[36m(ClientAppActor pid=16613)\u001b[0m /Users/macbook/Desktop/L361/L361_Project/.conda/lib/python3.12/site-packages/datasets/utils/_dill.py:385: DeprecationWarning: co_lnotab is deprecated, use co_lines instead.\u001b[32m [repeated 6x across cluster]\u001b[0m\n",
      "\u001b[36m(ClientAppActor pid=16613)\u001b[0m   obj.co_lnotab,  # for < python 3.10 [not counted in args]\u001b[32m [repeated 6x across cluster]\u001b[0m\n",
      "\u001b[36m(ClientAppActor pid=16615)\u001b[0m /Users/macbook/Desktop/L361/L361_Project/.conda/lib/python3.12/site-packages/datasets/utils/_dill.py:385: DeprecationWarning: co_lnotab is deprecated, use co_lines instead.\u001b[32m [repeated 5x across cluster]\u001b[0m\n",
      "\u001b[36m(ClientAppActor pid=16615)\u001b[0m   obj.co_lnotab,  # for < python 3.10 [not counted in args]\u001b[32m [repeated 5x across cluster]\u001b[0m\n"
     ]
    },
    {
     "name": "stdout",
     "output_type": "stream",
     "text": [
      "\u001b[36m(ClientAppActor pid=16615)\u001b[0m [Client 5] fit, config: {'proximal_mu': 0.1}\u001b[32m [repeated 5x across cluster]\u001b[0m\n",
      "\u001b[36m(ClientAppActor pid=16611)\u001b[0m Epoch 1: train loss 0.004013607278466225, accuracy 0.9596459645964597\n",
      "\u001b[36m(ClientAppActor pid=16612)\u001b[0m Epoch 1: train loss 0.004365082364529371, accuracy 0.9553022348882556\u001b[32m [repeated 4x across cluster]\u001b[0m\n",
      "\u001b[36m(ClientAppActor pid=16611)\u001b[0m Epoch 2: train loss 0.0031558985356241465, accuracy 0.9708970897089709\u001b[32m [repeated 2x across cluster]\u001b[0m\n",
      "\u001b[36m(ClientAppActor pid=16612)\u001b[0m Epoch 2: train loss 0.002389091532677412, accuracy 0.9754012299385031\u001b[32m [repeated 4x across cluster]\u001b[0m\n",
      "\u001b[36m(ClientAppActor pid=16611)\u001b[0m Epoch 3: train loss 0.0018453741213306785, accuracy 0.9827482748274827\u001b[32m [repeated 2x across cluster]\u001b[0m\n",
      "\u001b[36m(ClientAppActor pid=16615)\u001b[0m Epoch 3: train loss 0.002033117925748229, accuracy 0.9801980198019802\u001b[32m [repeated 5x across cluster]\u001b[0m\n",
      "\u001b[36m(ClientAppActor pid=16611)\u001b[0m Epoch 4: train loss 0.002686737570911646, accuracy 0.9741974197419742\n",
      "\u001b[36m(ClientAppActor pid=16613)\u001b[0m Epoch 4: train loss 0.002209688536822796, accuracy 0.9785510724463777\n",
      "\u001b[36m(ClientAppActor pid=16615)\u001b[0m Epoch 4: train loss 0.0022344731260091066, accuracy 0.9785478547854786\u001b[32m [repeated 4x across cluster]\u001b[0m\n",
      "\u001b[36m(ClientAppActor pid=16611)\u001b[0m Epoch 5: train loss 0.0024010047782212496, accuracy 0.9764476447644764\n",
      "\u001b[36m(ClientAppActor pid=16614)\u001b[0m Epoch 5: train loss 0.0027006580494344234, accuracy 0.9743474347434743\n",
      "\u001b[36m(ClientAppActor pid=16610)\u001b[0m Epoch 5: train loss 0.003849478205665946, accuracy 0.9660966096609661\u001b[32m [repeated 3x across cluster]\u001b[0m\n",
      "\u001b[36m(ClientAppActor pid=16611)\u001b[0m Epoch 6: train loss 0.002804095158353448, accuracy 0.9744974497449745\u001b[32m [repeated 2x across cluster]\u001b[0m\n",
      "\u001b[36m(ClientAppActor pid=16610)\u001b[0m Epoch 6: train loss 0.001798713463358581, accuracy 0.9798979897989799\u001b[32m [repeated 4x across cluster]\u001b[0m\n",
      "\u001b[36m(ClientAppActor pid=16611)\u001b[0m Epoch 7: train loss 0.002754504792392254, accuracy 0.9743474347434743\u001b[32m [repeated 2x across cluster]\u001b[0m\n",
      "\u001b[36m(ClientAppActor pid=16610)\u001b[0m Epoch 7: train loss 0.0017332201823592186, accuracy 0.9827482748274827\u001b[32m [repeated 4x across cluster]\u001b[0m\n",
      "\u001b[36m(ClientAppActor pid=16611)\u001b[0m Epoch 8: train loss 0.0016561209922656417, accuracy 0.9837983798379838\u001b[32m [repeated 2x across cluster]\u001b[0m\n"
     ]
    },
    {
     "name": "stderr",
     "output_type": "stream",
     "text": [
      "\u001b[92mINFO \u001b[0m:      aggregate_fit: received 6 results and 0 failures\n"
     ]
    },
    {
     "name": "stdout",
     "output_type": "stream",
     "text": [
      "\u001b[36m(ClientAppActor pid=16615)\u001b[0m Epoch 8: train loss 0.0029292854014784098, accuracy 0.9713471347134713\u001b[32m [repeated 5x across cluster]\u001b[0m\n",
      "total size: 280903200\n"
     ]
    },
    {
     "name": "stderr",
     "output_type": "stream",
     "text": [
      "\u001b[92mINFO \u001b[0m:      fit progress: (13, 0.03695111530125141, {'accuracy': 0.737}, 8385.204353875015)\n",
      "\u001b[92mINFO \u001b[0m:      configure_evaluate: strategy sampled 6 clients (out of 6)\n"
     ]
    },
    {
     "name": "stdout",
     "output_type": "stream",
     "text": [
      "\u001b[36m(ClientAppActor pid=16610)\u001b[0m [Client 4] evaluate, config: {}\n"
     ]
    },
    {
     "name": "stderr",
     "output_type": "stream",
     "text": [
      "\u001b[36m(ClientAppActor pid=16610)\u001b[0m /Users/macbook/Desktop/L361/L361_Project/.conda/lib/python3.12/site-packages/datasets/utils/_dill.py:385: DeprecationWarning: co_lnotab is deprecated, use co_lines instead.\n",
      "\u001b[36m(ClientAppActor pid=16610)\u001b[0m   obj.co_lnotab,  # for < python 3.10 [not counted in args]\n",
      "\u001b[36m(ClientAppActor pid=16612)\u001b[0m /Users/macbook/Desktop/L361/L361_Project/.conda/lib/python3.12/site-packages/datasets/utils/_dill.py:385: DeprecationWarning: co_lnotab is deprecated, use co_lines instead.\n",
      "\u001b[36m(ClientAppActor pid=16612)\u001b[0m   obj.co_lnotab,  # for < python 3.10 [not counted in args]\n",
      "\u001b[92mINFO \u001b[0m:      aggregate_evaluate: received 6 results and 0 failures\n",
      "\u001b[92mINFO \u001b[0m:      \n",
      "\u001b[92mINFO \u001b[0m:      [ROUND 14]\n",
      "\u001b[92mINFO \u001b[0m:      configure_fit: strategy sampled 6 clients (out of 6)\n",
      "\u001b[36m(ClientAppActor pid=16611)\u001b[0m /Users/macbook/Desktop/L361/L361_Project/.conda/lib/python3.12/site-packages/datasets/utils/_dill.py:385: DeprecationWarning: co_lnotab is deprecated, use co_lines instead.\u001b[32m [repeated 5x across cluster]\u001b[0m\n",
      "\u001b[36m(ClientAppActor pid=16611)\u001b[0m   obj.co_lnotab,  # for < python 3.10 [not counted in args]\u001b[32m [repeated 5x across cluster]\u001b[0m\n"
     ]
    },
    {
     "name": "stdout",
     "output_type": "stream",
     "text": [
      "\u001b[36m(ClientAppActor pid=16614)\u001b[0m [Client 2] fit, config: {'proximal_mu': 0.1}\n",
      "\u001b[36m(ClientAppActor pid=16615)\u001b[0m [Client 1] evaluate, config: {}\u001b[32m [repeated 5x across cluster]\u001b[0m\n",
      "\u001b[36m(ClientAppActor pid=16615)\u001b[0m Epoch 1: train loss 0.003736343700438738, accuracy 0.9624962496249625\n",
      "\u001b[36m(ClientAppActor pid=16612)\u001b[0m [Client 4] fit, config: {'proximal_mu': 0.1}\u001b[32m [repeated 5x across cluster]\u001b[0m\n",
      "\u001b[36m(ClientAppActor pid=16614)\u001b[0m \n",
      "\u001b[36m(ClientAppActor pid=16611)\u001b[0m Epoch 2: train loss 0.002411906374618411, accuracy 0.9767511624418779\u001b[32m [repeated 6x across cluster]\u001b[0m\n",
      "\u001b[36m(ClientAppActor pid=16614)\u001b[0m Epoch 3: train loss 0.002506340155377984, accuracy 0.9746474647464747\u001b[32m [repeated 6x across cluster]\u001b[0m\n",
      "\u001b[36m(ClientAppActor pid=16614)\u001b[0m Epoch 4: train loss 0.0021403359714895487, accuracy 0.9786978697869787\u001b[32m [repeated 6x across cluster]\u001b[0m\n",
      "\u001b[36m(ClientAppActor pid=16614)\u001b[0m Epoch 5: train loss 0.002807656768709421, accuracy 0.9734473447344735\u001b[32m [repeated 6x across cluster]\u001b[0m\n",
      "\u001b[36m(ClientAppActor pid=16614)\u001b[0m Epoch 6: train loss 0.0015125760110095143, accuracy 0.9852985298529853\u001b[32m [repeated 6x across cluster]\u001b[0m\n",
      "\u001b[36m(ClientAppActor pid=16614)\u001b[0m Epoch 7: train loss 0.0009944301564246416, accuracy 0.9888988898889889\u001b[32m [repeated 6x across cluster]\u001b[0m\n",
      "\u001b[36m(ClientAppActor pid=16614)\u001b[0m Epoch 8: train loss 0.003461714368313551, accuracy 0.9662466246624662\u001b[32m [repeated 6x across cluster]\u001b[0m\n"
     ]
    },
    {
     "name": "stderr",
     "output_type": "stream",
     "text": [
      "\u001b[92mINFO \u001b[0m:      aggregate_fit: received 6 results and 0 failures\n"
     ]
    },
    {
     "name": "stdout",
     "output_type": "stream",
     "text": [
      "total size: 280903200\n"
     ]
    },
    {
     "name": "stderr",
     "output_type": "stream",
     "text": [
      "\u001b[92mINFO \u001b[0m:      fit progress: (14, 0.03688797875642776, {'accuracy': 0.743}, 9021.769188375096)\n",
      "\u001b[92mINFO \u001b[0m:      configure_evaluate: strategy sampled 6 clients (out of 6)\n"
     ]
    },
    {
     "name": "stdout",
     "output_type": "stream",
     "text": [
      "\u001b[36m(ClientAppActor pid=16613)\u001b[0m [Client 4] evaluate, config: {}\n",
      "\u001b[36m(ClientAppActor pid=16615)\u001b[0m Epoch 8: train loss 0.002647058805450797, accuracy 0.9777977797779778\u001b[32m [repeated 5x across cluster]\u001b[0m\n"
     ]
    },
    {
     "name": "stderr",
     "output_type": "stream",
     "text": [
      "\u001b[36m(ClientAppActor pid=16613)\u001b[0m /Users/macbook/Desktop/L361/L361_Project/.conda/lib/python3.12/site-packages/datasets/utils/_dill.py:385: DeprecationWarning: co_lnotab is deprecated, use co_lines instead.\u001b[32m [repeated 6x across cluster]\u001b[0m\n",
      "\u001b[36m(ClientAppActor pid=16613)\u001b[0m   obj.co_lnotab,  # for < python 3.10 [not counted in args]\u001b[32m [repeated 6x across cluster]\u001b[0m\n",
      "\u001b[92mINFO \u001b[0m:      aggregate_evaluate: received 6 results and 0 failures\n",
      "\u001b[92mINFO \u001b[0m:      \n",
      "\u001b[92mINFO \u001b[0m:      [ROUND 15]\n",
      "\u001b[92mINFO \u001b[0m:      configure_fit: strategy sampled 6 clients (out of 6)\n",
      "\u001b[36m(ClientAppActor pid=16611)\u001b[0m /Users/macbook/Desktop/L361/L361_Project/.conda/lib/python3.12/site-packages/datasets/utils/_dill.py:385: DeprecationWarning: co_lnotab is deprecated, use co_lines instead.\u001b[32m [repeated 7x across cluster]\u001b[0m\n",
      "\u001b[36m(ClientAppActor pid=16611)\u001b[0m   obj.co_lnotab,  # for < python 3.10 [not counted in args]\u001b[32m [repeated 7x across cluster]\u001b[0m\n"
     ]
    },
    {
     "name": "stdout",
     "output_type": "stream",
     "text": [
      "\u001b[36m(ClientAppActor pid=16611)\u001b[0m [Client 1] fit, config: {'proximal_mu': 0.1}\n",
      "\u001b[36m(ClientAppActor pid=16614)\u001b[0m [Client 5] evaluate, config: {}\u001b[32m [repeated 5x across cluster]\u001b[0m\n",
      "\u001b[36m(ClientAppActor pid=16611)\u001b[0m Epoch 1: train loss 0.00297968415543437, accuracy 0.9703014849257537\n",
      "\u001b[36m(ClientAppActor pid=16614)\u001b[0m [Client 2] fit, config: {'proximal_mu': 0.1}\u001b[32m [repeated 5x across cluster]\u001b[0m\n",
      "\u001b[36m(ClientAppActor pid=16614)\u001b[0m \n",
      "\u001b[36m(ClientAppActor pid=16611)\u001b[0m Epoch 2: train loss 0.003406749339774251, accuracy 0.9701514924253787\u001b[32m [repeated 6x across cluster]\u001b[0m\n",
      "\u001b[36m(ClientAppActor pid=16614)\u001b[0m \n",
      "\u001b[36m(ClientAppActor pid=16611)\u001b[0m Epoch 3: train loss 0.002478082198649645, accuracy 0.9782510874456277\u001b[32m [repeated 6x across cluster]\u001b[0m\n",
      "\u001b[36m(ClientAppActor pid=16614)\u001b[0m Epoch 3: train loss 0.006045573391020298, accuracy 0.9492949294929492\u001b[32m [repeated 5x across cluster]\u001b[0m\n",
      "\u001b[36m(ClientAppActor pid=16611)\u001b[0m Epoch 4: train loss 0.002411802066490054, accuracy 0.976451177441128\n",
      "\u001b[36m(ClientAppActor pid=16613)\u001b[0m Epoch 4: train loss 0.0035575940273702145, accuracy 0.9668516574171292\n",
      "\u001b[36m(ClientAppActor pid=16614)\u001b[0m Epoch 4: train loss 0.0039011340122669935, accuracy 0.9605460546054605\u001b[32m [repeated 4x across cluster]\u001b[0m\n",
      "\u001b[36m(ClientAppActor pid=16611)\u001b[0m Epoch 5: train loss 0.0036192492116242647, accuracy 0.968201589920504\n",
      "\u001b[36m(ClientAppActor pid=16613)\u001b[0m Epoch 5: train loss 0.0024496670812368393, accuracy 0.976001199940003\n",
      "\u001b[36m(ClientAppActor pid=16614)\u001b[0m Epoch 5: train loss 0.0007676509558223188, accuracy 0.9923492349234924\u001b[32m [repeated 4x across cluster]\u001b[0m\n",
      "\u001b[36m(ClientAppActor pid=16611)\u001b[0m Epoch 6: train loss 0.0016198937082663178, accuracy 0.9845507724613769\n",
      "\u001b[36m(ClientAppActor pid=16613)\u001b[0m Epoch 6: train loss 0.0019279959378764033, accuracy 0.9827508624568772\n",
      "\u001b[36m(ClientAppActor pid=16614)\u001b[0m Epoch 6: train loss 0.0009257307974621654, accuracy 0.9915991599159916\u001b[32m [repeated 4x across cluster]\u001b[0m\n",
      "\u001b[36m(ClientAppActor pid=16611)\u001b[0m Epoch 7: train loss 0.002208314137533307, accuracy 0.9796010199490025\n",
      "\u001b[36m(ClientAppActor pid=16613)\u001b[0m Epoch 7: train loss 0.0012430754723027349, accuracy 0.9877006149692515\n",
      "\u001b[36m(ClientAppActor pid=16614)\u001b[0m Epoch 7: train loss 0.004791847430169582, accuracy 0.95994599459946\u001b[32m [repeated 4x across cluster]\u001b[0m\n",
      "\u001b[36m(ClientAppActor pid=16611)\u001b[0m Epoch 8: train loss 0.0020735671278089285, accuracy 0.9784010799460027\n",
      "\u001b[36m(ClientAppActor pid=16613)\u001b[0m Epoch 8: train loss 0.0017965923761948943, accuracy 0.983500824958752\n"
     ]
    },
    {
     "name": "stderr",
     "output_type": "stream",
     "text": [
      "\u001b[92mINFO \u001b[0m:      aggregate_fit: received 6 results and 0 failures\n"
     ]
    },
    {
     "name": "stdout",
     "output_type": "stream",
     "text": [
      "\u001b[36m(ClientAppActor pid=16614)\u001b[0m Epoch 8: train loss 0.002092768205329776, accuracy 0.9813981398139814\u001b[32m [repeated 4x across cluster]\u001b[0m\n",
      "total size: 280903200\n"
     ]
    },
    {
     "name": "stderr",
     "output_type": "stream",
     "text": [
      "\u001b[92mINFO \u001b[0m:      fit progress: (15, 0.03640124354958534, {'accuracy': 0.7418}, 9668.68117825)\n",
      "\u001b[92mINFO \u001b[0m:      configure_evaluate: strategy sampled 6 clients (out of 6)\n",
      "\u001b[36m(ClientAppActor pid=16613)\u001b[0m /Users/macbook/Desktop/L361/L361_Project/.conda/lib/python3.12/site-packages/datasets/utils/_dill.py:385: DeprecationWarning: co_lnotab is deprecated, use co_lines instead.\u001b[32m [repeated 6x across cluster]\u001b[0m\n",
      "\u001b[36m(ClientAppActor pid=16613)\u001b[0m   obj.co_lnotab,  # for < python 3.10 [not counted in args]\u001b[32m [repeated 6x across cluster]\u001b[0m\n"
     ]
    },
    {
     "name": "stdout",
     "output_type": "stream",
     "text": [
      "\u001b[36m(ClientAppActor pid=16614)\u001b[0m [Client 1] evaluate, config: {}\n"
     ]
    },
    {
     "name": "stderr",
     "output_type": "stream",
     "text": [
      "\u001b[92mINFO \u001b[0m:      aggregate_evaluate: received 6 results and 0 failures\n",
      "\u001b[92mINFO \u001b[0m:      \n",
      "\u001b[92mINFO \u001b[0m:      [ROUND 16]\n",
      "\u001b[92mINFO \u001b[0m:      configure_fit: strategy sampled 6 clients (out of 6)\n"
     ]
    },
    {
     "name": "stdout",
     "output_type": "stream",
     "text": [
      "\u001b[36m(ClientAppActor pid=16613)\u001b[0m [Client 5] fit, config: {'proximal_mu': 0.1}\n",
      "\u001b[36m(ClientAppActor pid=16615)\u001b[0m [Client 3] evaluate, config: {}\u001b[32m [repeated 5x across cluster]\u001b[0m\n"
     ]
    },
    {
     "name": "stderr",
     "output_type": "stream",
     "text": [
      "\u001b[36m(ClientAppActor pid=16613)\u001b[0m /Users/macbook/Desktop/L361/L361_Project/.conda/lib/python3.12/site-packages/datasets/utils/_dill.py:385: DeprecationWarning: co_lnotab is deprecated, use co_lines instead.\u001b[32m [repeated 6x across cluster]\u001b[0m\n",
      "\u001b[36m(ClientAppActor pid=16613)\u001b[0m   obj.co_lnotab,  # for < python 3.10 [not counted in args]\u001b[32m [repeated 6x across cluster]\u001b[0m\n"
     ]
    },
    {
     "name": "stdout",
     "output_type": "stream",
     "text": [
      "\u001b[36m(ClientAppActor pid=16612)\u001b[0m Epoch 1: train loss 0.0030928899068385363, accuracy 0.9708970897089709\n",
      "\u001b[36m(ClientAppActor pid=16611)\u001b[0m [Client 2] fit, config: {'proximal_mu': 0.1}\u001b[32m [repeated 5x across cluster]\u001b[0m\n",
      "\u001b[36m(ClientAppActor pid=16612)\u001b[0m Epoch 2: train loss 0.003964622039347887, accuracy 0.9675967596759676\u001b[32m [repeated 6x across cluster]\u001b[0m\n",
      "\u001b[36m(ClientAppActor pid=16613)\u001b[0m \n",
      "\u001b[36m(ClientAppActor pid=16612)\u001b[0m Epoch 3: train loss 0.0032028991263359785, accuracy 0.9726972697269727\u001b[32m [repeated 6x across cluster]\u001b[0m\n",
      "\u001b[36m(ClientAppActor pid=16613)\u001b[0m Epoch 4: train loss 0.001179005834273994, accuracy 0.9894989498949895\u001b[32m [repeated 6x across cluster]\u001b[0m\n",
      "\u001b[36m(ClientAppActor pid=16613)\u001b[0m Epoch 5: train loss 0.002627299865707755, accuracy 0.978097809780978\u001b[32m [repeated 6x across cluster]\u001b[0m\n",
      "\u001b[36m(ClientAppActor pid=16613)\u001b[0m Epoch 6: train loss 0.0017590818461030722, accuracy 0.9828982898289829\u001b[32m [repeated 6x across cluster]\u001b[0m\n",
      "\u001b[36m(ClientAppActor pid=16613)\u001b[0m Epoch 7: train loss 0.0025807160418480635, accuracy 0.9779477947794779\u001b[32m [repeated 6x across cluster]\u001b[0m\n",
      "\u001b[36m(ClientAppActor pid=16613)\u001b[0m Epoch 8: train loss 0.0016482871724292636, accuracy 0.9855985598559855\u001b[32m [repeated 6x across cluster]\u001b[0m\n"
     ]
    },
    {
     "name": "stderr",
     "output_type": "stream",
     "text": [
      "\u001b[92mINFO \u001b[0m:      aggregate_fit: received 6 results and 0 failures\n"
     ]
    },
    {
     "name": "stdout",
     "output_type": "stream",
     "text": [
      "total size: 280903200\n"
     ]
    },
    {
     "name": "stderr",
     "output_type": "stream",
     "text": [
      "\u001b[92mINFO \u001b[0m:      fit progress: (16, 0.034801406610012055, {'accuracy': 0.7347}, 10311.24064029206)\n",
      "\u001b[92mINFO \u001b[0m:      configure_evaluate: strategy sampled 6 clients (out of 6)\n",
      "\u001b[36m(ClientAppActor pid=16612)\u001b[0m /Users/macbook/Desktop/L361/L361_Project/.conda/lib/python3.12/site-packages/datasets/utils/_dill.py:385: DeprecationWarning: co_lnotab is deprecated, use co_lines instead.\u001b[32m [repeated 6x across cluster]\u001b[0m\n",
      "\u001b[36m(ClientAppActor pid=16612)\u001b[0m   obj.co_lnotab,  # for < python 3.10 [not counted in args]\u001b[32m [repeated 6x across cluster]\u001b[0m\n"
     ]
    },
    {
     "name": "stdout",
     "output_type": "stream",
     "text": [
      "\u001b[36m(ClientAppActor pid=16612)\u001b[0m [Client 3] evaluate, config: {}\n",
      "\u001b[36m(ClientAppActor pid=16611)\u001b[0m Epoch 8: train loss 0.0021095972042530775, accuracy 0.9798979897989799\u001b[32m [repeated 5x across cluster]\u001b[0m\n"
     ]
    },
    {
     "name": "stderr",
     "output_type": "stream",
     "text": [
      "\u001b[92mINFO \u001b[0m:      aggregate_evaluate: received 6 results and 0 failures\n",
      "\u001b[92mINFO \u001b[0m:      \n",
      "\u001b[92mINFO \u001b[0m:      [ROUND 17]\n",
      "\u001b[92mINFO \u001b[0m:      configure_fit: strategy sampled 6 clients (out of 6)\n"
     ]
    },
    {
     "name": "stdout",
     "output_type": "stream",
     "text": [
      "\u001b[36m(ClientAppActor pid=16614)\u001b[0m [Client 3] fit, config: {'proximal_mu': 0.1}\n",
      "\u001b[36m(ClientAppActor pid=16614)\u001b[0m [Client 1] evaluate, config: {}\u001b[32m [repeated 5x across cluster]\u001b[0m\n"
     ]
    },
    {
     "name": "stderr",
     "output_type": "stream",
     "text": [
      "\u001b[36m(ClientAppActor pid=16614)\u001b[0m /Users/macbook/Desktop/L361/L361_Project/.conda/lib/python3.12/site-packages/datasets/utils/_dill.py:385: DeprecationWarning: co_lnotab is deprecated, use co_lines instead.\u001b[32m [repeated 6x across cluster]\u001b[0m\n",
      "\u001b[36m(ClientAppActor pid=16614)\u001b[0m   obj.co_lnotab,  # for < python 3.10 [not counted in args]\u001b[32m [repeated 6x across cluster]\u001b[0m\n"
     ]
    },
    {
     "name": "stdout",
     "output_type": "stream",
     "text": [
      "\u001b[36m(ClientAppActor pid=16615)\u001b[0m Epoch 1: train loss 0.0029729194939136505, accuracy 0.9731473147314732\n",
      "\u001b[36m(ClientAppActor pid=16613)\u001b[0m [Client 1] fit, config: {'proximal_mu': 0.1}\u001b[32m [repeated 5x across cluster]\u001b[0m\n",
      "\u001b[36m(ClientAppActor pid=16612)\u001b[0m Epoch 2: train loss 0.0035111885517835617, accuracy 0.9660966096609661\u001b[32m [repeated 6x across cluster]\u001b[0m\n",
      "\u001b[36m(ClientAppActor pid=16612)\u001b[0m Epoch 3: train loss 0.003125950926914811, accuracy 0.9746474647464747\u001b[32m [repeated 6x across cluster]\u001b[0m\n",
      "\u001b[36m(ClientAppActor pid=16612)\u001b[0m Epoch 4: train loss 0.002412963891401887, accuracy 0.9774977497749775\u001b[32m [repeated 6x across cluster]\u001b[0m\n",
      "\u001b[36m(ClientAppActor pid=16611)\u001b[0m Epoch 5: train loss 0.0009058120776899159, accuracy 0.9929492949294929\u001b[32m [repeated 6x across cluster]\u001b[0m\n",
      "\u001b[36m(ClientAppActor pid=16611)\u001b[0m Epoch 6: train loss 0.009586459025740623, accuracy 0.9308430843084309\u001b[32m [repeated 6x across cluster]\u001b[0m\n",
      "\u001b[36m(ClientAppActor pid=16611)\u001b[0m Epoch 7: train loss 0.004490403924137354, accuracy 0.9603960396039604\u001b[32m [repeated 6x across cluster]\u001b[0m\n",
      "\u001b[36m(ClientAppActor pid=16611)\u001b[0m Epoch 8: train loss 0.0010637789964675903, accuracy 0.9906990699069907\u001b[32m [repeated 6x across cluster]\u001b[0m\n"
     ]
    },
    {
     "name": "stderr",
     "output_type": "stream",
     "text": [
      "\u001b[92mINFO \u001b[0m:      aggregate_fit: received 6 results and 0 failures\n"
     ]
    },
    {
     "name": "stdout",
     "output_type": "stream",
     "text": [
      "total size: 280903200\n"
     ]
    },
    {
     "name": "stderr",
     "output_type": "stream",
     "text": [
      "\u001b[92mINFO \u001b[0m:      fit progress: (17, 0.03576249594688415, {'accuracy': 0.7408}, 10957.449629875016)\n",
      "\u001b[92mINFO \u001b[0m:      configure_evaluate: strategy sampled 6 clients (out of 6)\n"
     ]
    },
    {
     "name": "stdout",
     "output_type": "stream",
     "text": [
      "\u001b[36m(ClientAppActor pid=16613)\u001b[0m [Client 0] evaluate, config: {}\n",
      "\u001b[36m(ClientAppActor pid=16613)\u001b[0m Epoch 8: train loss 0.0017849585274234414, accuracy 0.984250787460627\u001b[32m [repeated 5x across cluster]\u001b[0m\n"
     ]
    },
    {
     "name": "stderr",
     "output_type": "stream",
     "text": [
      "\u001b[36m(ClientAppActor pid=16613)\u001b[0m /Users/macbook/Desktop/L361/L361_Project/.conda/lib/python3.12/site-packages/datasets/utils/_dill.py:385: DeprecationWarning: co_lnotab is deprecated, use co_lines instead.\u001b[32m [repeated 6x across cluster]\u001b[0m\n",
      "\u001b[36m(ClientAppActor pid=16613)\u001b[0m   obj.co_lnotab,  # for < python 3.10 [not counted in args]\u001b[32m [repeated 6x across cluster]\u001b[0m\n",
      "\u001b[36m(ClientAppActor pid=16611)\u001b[0m /Users/macbook/Desktop/L361/L361_Project/.conda/lib/python3.12/site-packages/datasets/utils/_dill.py:385: DeprecationWarning: co_lnotab is deprecated, use co_lines instead.\u001b[32m [repeated 4x across cluster]\u001b[0m\n",
      "\u001b[36m(ClientAppActor pid=16611)\u001b[0m   obj.co_lnotab,  # for < python 3.10 [not counted in args]\u001b[32m [repeated 4x across cluster]\u001b[0m\n"
     ]
    },
    {
     "name": "stdout",
     "output_type": "stream",
     "text": [
      "\u001b[36m(ClientAppActor pid=16611)\u001b[0m [Client 3] evaluate, config: {}\u001b[32m [repeated 4x across cluster]\u001b[0m\n"
     ]
    },
    {
     "name": "stderr",
     "output_type": "stream",
     "text": [
      "\u001b[92mINFO \u001b[0m:      aggregate_evaluate: received 6 results and 0 failures\n",
      "\u001b[92mINFO \u001b[0m:      \n",
      "\u001b[92mINFO \u001b[0m:      [ROUND 18]\n",
      "\u001b[92mINFO \u001b[0m:      configure_fit: strategy sampled 6 clients (out of 6)\n",
      "\u001b[36m(ClientAppActor pid=16612)\u001b[0m /Users/macbook/Desktop/L361/L361_Project/.conda/lib/python3.12/site-packages/datasets/utils/_dill.py:385: DeprecationWarning: co_lnotab is deprecated, use co_lines instead.\u001b[32m [repeated 2x across cluster]\u001b[0m\n",
      "\u001b[36m(ClientAppActor pid=16612)\u001b[0m   obj.co_lnotab,  # for < python 3.10 [not counted in args]\u001b[32m [repeated 2x across cluster]\u001b[0m\n"
     ]
    },
    {
     "name": "stdout",
     "output_type": "stream",
     "text": [
      "\u001b[36m(ClientAppActor pid=16614)\u001b[0m [Client 1] fit, config: {'proximal_mu': 0.1}\n",
      "\u001b[36m(ClientAppActor pid=16615)\u001b[0m [Client 2] evaluate, config: {}\n",
      "\u001b[36m(ClientAppActor pid=16612)\u001b[0m Epoch 1: train loss 0.003171416698023677, accuracy 0.9697015149242538\n",
      "\u001b[36m(ClientAppActor pid=16610)\u001b[0m [Client 5] fit, config: {'proximal_mu': 0.1}\u001b[32m [repeated 5x across cluster]\u001b[0m\n",
      "\u001b[36m(ClientAppActor pid=16612)\u001b[0m Epoch 2: train loss 0.003251714399084449, accuracy 0.9685015749212539\u001b[32m [repeated 6x across cluster]\u001b[0m\n",
      "\u001b[36m(ClientAppActor pid=16612)\u001b[0m Epoch 3: train loss 0.0017745890654623508, accuracy 0.983800809959502\u001b[32m [repeated 6x across cluster]\u001b[0m\n",
      "\u001b[36m(ClientAppActor pid=16612)\u001b[0m Epoch 4: train loss 0.00285342731513083, accuracy 0.9737513124343783\u001b[32m [repeated 6x across cluster]\u001b[0m\n",
      "\u001b[36m(ClientAppActor pid=16610)\u001b[0m Epoch 4: train loss 0.0022276933304965496, accuracy 0.9807980798079808\u001b[32m [repeated 5x across cluster]\u001b[0m\n",
      "\u001b[36m(ClientAppActor pid=16612)\u001b[0m Epoch 5: train loss 0.03607660531997681, accuracy 0.83950802459877\n",
      "\u001b[36m(ClientAppActor pid=16615)\u001b[0m Epoch 5: train loss 0.0023345020599663258, accuracy 0.9795979597959796\n",
      "\u001b[36m(ClientAppActor pid=16612)\u001b[0m Epoch 6: train loss 0.0039834738709032536, accuracy 0.9617519124043797\u001b[32m [repeated 5x across cluster]\u001b[0m\n",
      "\u001b[36m(ClientAppActor pid=16610)\u001b[0m Epoch 6: train loss 0.0008109877817332745, accuracy 0.9935493549354936\u001b[32m [repeated 5x across cluster]\u001b[0m\n",
      "\u001b[36m(ClientAppActor pid=16612)\u001b[0m Epoch 7: train loss 0.002388476626947522, accuracy 0.9827508624568772\n",
      "\u001b[36m(ClientAppActor pid=16615)\u001b[0m Epoch 7: train loss 0.006208344828337431, accuracy 0.9420942094209421\n",
      "\u001b[36m(ClientAppActor pid=16610)\u001b[0m Epoch 7: train loss 0.000987044651992619, accuracy 0.9927992799279928\u001b[32m [repeated 4x across cluster]\u001b[0m\n",
      "\u001b[36m(ClientAppActor pid=16612)\u001b[0m Epoch 8: train loss 0.002207809826359153, accuracy 0.9788510574471276\n",
      "\u001b[36m(ClientAppActor pid=16613)\u001b[0m Epoch 8: train loss 0.0016736675752326846, accuracy 0.9864986498649865\n"
     ]
    },
    {
     "name": "stderr",
     "output_type": "stream",
     "text": [
      "\u001b[92mINFO \u001b[0m:      aggregate_fit: received 6 results and 0 failures\n"
     ]
    },
    {
     "name": "stdout",
     "output_type": "stream",
     "text": [
      "total size: 280903200\n"
     ]
    },
    {
     "name": "stderr",
     "output_type": "stream",
     "text": [
      "\u001b[92mINFO \u001b[0m:      fit progress: (18, 0.03499301008284092, {'accuracy': 0.7413}, 11605.292258042027)\n",
      "\u001b[92mINFO \u001b[0m:      configure_evaluate: strategy sampled 6 clients (out of 6)\n"
     ]
    },
    {
     "name": "stdout",
     "output_type": "stream",
     "text": [
      "\u001b[36m(ClientAppActor pid=16610)\u001b[0m [Client 0] evaluate, config: {}\n",
      "\u001b[36m(ClientAppActor pid=16610)\u001b[0m Epoch 8: train loss 0.002606645692139864, accuracy 0.9771977197719772\u001b[32m [repeated 4x across cluster]\u001b[0m\n"
     ]
    },
    {
     "name": "stderr",
     "output_type": "stream",
     "text": [
      "\u001b[36m(ClientAppActor pid=16615)\u001b[0m /Users/macbook/Desktop/L361/L361_Project/.conda/lib/python3.12/site-packages/datasets/utils/_dill.py:385: DeprecationWarning: co_lnotab is deprecated, use co_lines instead.\u001b[32m [repeated 6x across cluster]\u001b[0m\n",
      "\u001b[36m(ClientAppActor pid=16615)\u001b[0m   obj.co_lnotab,  # for < python 3.10 [not counted in args]\u001b[32m [repeated 6x across cluster]\u001b[0m\n",
      "\u001b[92mINFO \u001b[0m:      aggregate_evaluate: received 6 results and 0 failures\n",
      "\u001b[92mINFO \u001b[0m:      \n",
      "\u001b[92mINFO \u001b[0m:      [ROUND 19]\n",
      "\u001b[92mINFO \u001b[0m:      configure_fit: strategy sampled 6 clients (out of 6)\n",
      "\u001b[36m(ClientAppActor pid=16613)\u001b[0m /Users/macbook/Desktop/L361/L361_Project/.conda/lib/python3.12/site-packages/datasets/utils/_dill.py:385: DeprecationWarning: co_lnotab is deprecated, use co_lines instead.\u001b[32m [repeated 6x across cluster]\u001b[0m\n",
      "\u001b[36m(ClientAppActor pid=16613)\u001b[0m   obj.co_lnotab,  # for < python 3.10 [not counted in args]\u001b[32m [repeated 6x across cluster]\u001b[0m\n"
     ]
    },
    {
     "name": "stdout",
     "output_type": "stream",
     "text": [
      "\u001b[36m(ClientAppActor pid=16613)\u001b[0m [Client 5] fit, config: {'proximal_mu': 0.1}\n",
      "\u001b[36m(ClientAppActor pid=16612)\u001b[0m [Client 5] evaluate, config: {}\u001b[32m [repeated 5x across cluster]\u001b[0m\n",
      "\u001b[36m(ClientAppActor pid=16613)\u001b[0m Epoch 1: train loss 0.0025914057623595, accuracy 0.9762976297629763\n",
      "\u001b[36m(ClientAppActor pid=16614)\u001b[0m [Client 4] fit, config: {'proximal_mu': 0.1}\u001b[32m [repeated 5x across cluster]\u001b[0m\n",
      "\u001b[36m(ClientAppActor pid=16613)\u001b[0m Epoch 2: train loss 0.004003728274255991, accuracy 0.965046504650465\u001b[32m [repeated 6x across cluster]\u001b[0m\n",
      "\u001b[36m(ClientAppActor pid=16613)\u001b[0m Epoch 3: train loss 0.003294245107099414, accuracy 0.9725472547254725\u001b[32m [repeated 6x across cluster]\u001b[0m\n",
      "\u001b[36m(ClientAppActor pid=16613)\u001b[0m Epoch 4: train loss 0.0013475767336785793, accuracy 0.9891989198919892\u001b[32m [repeated 6x across cluster]\u001b[0m\n",
      "\u001b[36m(ClientAppActor pid=16613)\u001b[0m Epoch 5: train loss 0.0024877702817320824, accuracy 0.9785478547854786\u001b[32m [repeated 6x across cluster]\u001b[0m\n",
      "\u001b[36m(ClientAppActor pid=16612)\u001b[0m \n",
      "\u001b[36m(ClientAppActor pid=16613)\u001b[0m Epoch 6: train loss 0.0025896865408867598, accuracy 0.9806480648064807\u001b[32m [repeated 6x across cluster]\u001b[0m\n",
      "\u001b[36m(ClientAppActor pid=16613)\u001b[0m Epoch 7: train loss 0.0021824506111443043, accuracy 0.9812481248124812\u001b[32m [repeated 6x across cluster]\u001b[0m\n",
      "\u001b[36m(ClientAppActor pid=16613)\u001b[0m Epoch 8: train loss 0.0004620450490619987, accuracy 0.9954995499549955\u001b[32m [repeated 6x across cluster]\u001b[0m\n"
     ]
    },
    {
     "name": "stderr",
     "output_type": "stream",
     "text": [
      "\u001b[92mINFO \u001b[0m:      aggregate_fit: received 6 results and 0 failures\n"
     ]
    },
    {
     "name": "stdout",
     "output_type": "stream",
     "text": [
      "total size: 280903200\n"
     ]
    },
    {
     "name": "stderr",
     "output_type": "stream",
     "text": [
      "\u001b[92mINFO \u001b[0m:      fit progress: (19, 0.040536237233877184, {'accuracy': 0.7397}, 12249.50461487507)\n",
      "\u001b[92mINFO \u001b[0m:      configure_evaluate: strategy sampled 6 clients (out of 6)\n"
     ]
    },
    {
     "name": "stdout",
     "output_type": "stream",
     "text": [
      "\u001b[36m(ClientAppActor pid=16614)\u001b[0m [Client 1] evaluate, config: {}\n",
      "\u001b[36m(ClientAppActor pid=16610)\u001b[0m Epoch 8: train loss 0.0011334820883348584, accuracy 0.9883005849707515\u001b[32m [repeated 5x across cluster]\u001b[0m\n"
     ]
    },
    {
     "name": "stderr",
     "output_type": "stream",
     "text": [
      "\u001b[36m(ClientAppActor pid=16614)\u001b[0m /Users/macbook/Desktop/L361/L361_Project/.conda/lib/python3.12/site-packages/datasets/utils/_dill.py:385: DeprecationWarning: co_lnotab is deprecated, use co_lines instead.\u001b[32m [repeated 7x across cluster]\u001b[0m\n",
      "\u001b[36m(ClientAppActor pid=16614)\u001b[0m   obj.co_lnotab,  # for < python 3.10 [not counted in args]\u001b[32m [repeated 7x across cluster]\u001b[0m\n",
      "\u001b[92mINFO \u001b[0m:      aggregate_evaluate: received 6 results and 0 failures\n",
      "\u001b[92mINFO \u001b[0m:      \n",
      "\u001b[92mINFO \u001b[0m:      [ROUND 20]\n",
      "\u001b[92mINFO \u001b[0m:      configure_fit: strategy sampled 6 clients (out of 6)\n",
      "\u001b[36m(ClientAppActor pid=16611)\u001b[0m /Users/macbook/Desktop/L361/L361_Project/.conda/lib/python3.12/site-packages/datasets/utils/_dill.py:385: DeprecationWarning: co_lnotab is deprecated, use co_lines instead.\u001b[32m [repeated 6x across cluster]\u001b[0m\n",
      "\u001b[36m(ClientAppActor pid=16611)\u001b[0m   obj.co_lnotab,  # for < python 3.10 [not counted in args]\u001b[32m [repeated 6x across cluster]\u001b[0m\n"
     ]
    },
    {
     "name": "stdout",
     "output_type": "stream",
     "text": [
      "\u001b[36m(ClientAppActor pid=16611)\u001b[0m [Client 0] fit, config: {'proximal_mu': 0.1}\n",
      "\u001b[36m(ClientAppActor pid=16611)\u001b[0m [Client 2] evaluate, config: {}\u001b[32m [repeated 5x across cluster]\u001b[0m\n",
      "\u001b[36m(ClientAppActor pid=16612)\u001b[0m Epoch 1: train loss 0.0028837353456765413, accuracy 0.9728472847284728\n",
      "\u001b[36m(ClientAppActor pid=16614)\u001b[0m [Client 4] fit, config: {'proximal_mu': 0.1}\u001b[32m [repeated 5x across cluster]\u001b[0m\n",
      "\u001b[36m(ClientAppActor pid=16613)\u001b[0m Epoch 2: train loss 0.003550630295649171, accuracy 0.9684968496849685\u001b[32m [repeated 6x across cluster]\u001b[0m\n",
      "\u001b[36m(ClientAppActor pid=16612)\u001b[0m Epoch 3: train loss 0.0032928134314715862, accuracy 0.9693969396939695\u001b[32m [repeated 6x across cluster]\u001b[0m\n",
      "\u001b[36m(ClientAppActor pid=16610)\u001b[0m Epoch 4: train loss 0.0010742443846538663, accuracy 0.9907004649767511\u001b[32m [repeated 6x across cluster]\u001b[0m\n",
      "\u001b[36m(ClientAppActor pid=16613)\u001b[0m Epoch 5: train loss 0.0021309861913323402, accuracy 0.978097809780978\u001b[32m [repeated 6x across cluster]\u001b[0m\n",
      "\u001b[36m(ClientAppActor pid=16613)\u001b[0m Epoch 6: train loss 0.005582468584179878, accuracy 0.9518451845184518\u001b[32m [repeated 6x across cluster]\u001b[0m\n",
      "\u001b[36m(ClientAppActor pid=16613)\u001b[0m Epoch 7: train loss 0.0034142094664275646, accuracy 0.9671467146714672\u001b[32m [repeated 6x across cluster]\u001b[0m\n",
      "\u001b[36m(ClientAppActor pid=16613)\u001b[0m Epoch 8: train loss 0.0011275290744379163, accuracy 0.9896489648964897\u001b[32m [repeated 6x across cluster]\u001b[0m\n"
     ]
    },
    {
     "name": "stderr",
     "output_type": "stream",
     "text": [
      "\u001b[92mINFO \u001b[0m:      aggregate_fit: received 6 results and 0 failures\n"
     ]
    },
    {
     "name": "stdout",
     "output_type": "stream",
     "text": [
      "total size: 280903200\n"
     ]
    },
    {
     "name": "stderr",
     "output_type": "stream",
     "text": [
      "\u001b[92mINFO \u001b[0m:      fit progress: (20, 0.03536695448458195, {'accuracy': 0.7443}, 12893.575824959087)\n",
      "\u001b[92mINFO \u001b[0m:      configure_evaluate: strategy sampled 6 clients (out of 6)\n",
      "\u001b[36m(ClientAppActor pid=16613)\u001b[0m /Users/macbook/Desktop/L361/L361_Project/.conda/lib/python3.12/site-packages/datasets/utils/_dill.py:385: DeprecationWarning: co_lnotab is deprecated, use co_lines instead.\u001b[32m [repeated 6x across cluster]\u001b[0m\n",
      "\u001b[36m(ClientAppActor pid=16613)\u001b[0m   obj.co_lnotab,  # for < python 3.10 [not counted in args]\u001b[32m [repeated 6x across cluster]\u001b[0m\n"
     ]
    },
    {
     "name": "stdout",
     "output_type": "stream",
     "text": [
      "\u001b[36m(ClientAppActor pid=16613)\u001b[0m [Client 0] evaluate, config: {}\n",
      "\u001b[36m(ClientAppActor pid=16615)\u001b[0m Epoch 8: train loss 0.0007775033009238541, accuracy 0.9935493549354936\u001b[32m [repeated 5x across cluster]\u001b[0m\n"
     ]
    },
    {
     "name": "stderr",
     "output_type": "stream",
     "text": [
      "\u001b[92mINFO \u001b[0m:      aggregate_evaluate: received 6 results and 0 failures\n",
      "\u001b[92mINFO \u001b[0m:      \n",
      "\u001b[92mINFO \u001b[0m:      [ROUND 21]\n",
      "\u001b[92mINFO \u001b[0m:      configure_fit: strategy sampled 6 clients (out of 6)\n"
     ]
    },
    {
     "name": "stdout",
     "output_type": "stream",
     "text": [
      "\u001b[36m(ClientAppActor pid=16610)\u001b[0m [Client 5] fit, config: {'proximal_mu': 0.1}\n",
      "\u001b[36m(ClientAppActor pid=16610)\u001b[0m [Client 4] evaluate, config: {}\u001b[32m [repeated 5x across cluster]\u001b[0m\n"
     ]
    },
    {
     "name": "stderr",
     "output_type": "stream",
     "text": [
      "\u001b[36m(ClientAppActor pid=16615)\u001b[0m /Users/macbook/Desktop/L361/L361_Project/.conda/lib/python3.12/site-packages/datasets/utils/_dill.py:385: DeprecationWarning: co_lnotab is deprecated, use co_lines instead.\u001b[32m [repeated 6x across cluster]\u001b[0m\n",
      "\u001b[36m(ClientAppActor pid=16615)\u001b[0m   obj.co_lnotab,  # for < python 3.10 [not counted in args]\u001b[32m [repeated 6x across cluster]\u001b[0m\n"
     ]
    },
    {
     "name": "stdout",
     "output_type": "stream",
     "text": [
      "\u001b[36m(ClientAppActor pid=16611)\u001b[0m Epoch 1: train loss 0.0027116965502500534, accuracy 0.9746512674366282\n",
      "\u001b[36m(ClientAppActor pid=16613)\u001b[0m [Client 4] fit, config: {'proximal_mu': 0.1}\u001b[32m [repeated 5x across cluster]\u001b[0m\n",
      "\u001b[36m(ClientAppActor pid=16614)\u001b[0m Epoch 2: train loss 0.0022364358883351088, accuracy 0.9770511474426279\u001b[32m [repeated 6x across cluster]\u001b[0m\n",
      "\u001b[36m(ClientAppActor pid=16611)\u001b[0m Epoch 3: train loss 0.0031771871726959944, accuracy 0.9722513874306284\u001b[32m [repeated 6x across cluster]\u001b[0m\n",
      "\u001b[36m(ClientAppActor pid=16611)\u001b[0m Epoch 4: train loss 0.0019450552063062787, accuracy 0.984250787460627\u001b[32m [repeated 6x across cluster]\u001b[0m\n",
      "\u001b[36m(ClientAppActor pid=16611)\u001b[0m Epoch 5: train loss 0.0013804011978209019, accuracy 0.9874006299685015\u001b[32m [repeated 6x across cluster]\u001b[0m\n",
      "\u001b[36m(ClientAppActor pid=16611)\u001b[0m Epoch 6: train loss 0.00744188716635108, accuracy 0.9616019199040048\u001b[32m [repeated 6x across cluster]\u001b[0m\n",
      "\u001b[36m(ClientAppActor pid=16612)\u001b[0m Epoch 6: train loss 0.0026927324943244457, accuracy 0.9765976597659766\u001b[32m [repeated 5x across cluster]\u001b[0m\n",
      "\u001b[36m(ClientAppActor pid=16611)\u001b[0m Epoch 7: train loss 0.007331452798098326, accuracy 0.9296535173241338\n",
      "\u001b[36m(ClientAppActor pid=16613)\u001b[0m Epoch 7: train loss 0.009344758465886116, accuracy 0.9075907590759076\n",
      "\u001b[36m(ClientAppActor pid=16611)\u001b[0m Epoch 8: train loss 0.0007637997041456401, accuracy 0.9929503524823758\u001b[32m [repeated 5x across cluster]\u001b[0m\n",
      "\u001b[36m(ClientAppActor pid=16614)\u001b[0m Epoch 8: train loss 0.00156478863209486, accuracy 0.9856007199640018\u001b[32m [repeated 4x across cluster]\u001b[0m\n"
     ]
    },
    {
     "name": "stderr",
     "output_type": "stream",
     "text": [
      "\u001b[92mINFO \u001b[0m:      aggregate_fit: received 6 results and 0 failures\n"
     ]
    },
    {
     "name": "stdout",
     "output_type": "stream",
     "text": [
      "total size: 280903200\n"
     ]
    },
    {
     "name": "stderr",
     "output_type": "stream",
     "text": [
      "\u001b[92mINFO \u001b[0m:      fit progress: (21, 0.03920234859883785, {'accuracy': 0.7474}, 13538.700335834059)\n",
      "\u001b[92mINFO \u001b[0m:      configure_evaluate: strategy sampled 6 clients (out of 6)\n",
      "\u001b[36m(ClientAppActor pid=16611)\u001b[0m /Users/macbook/Desktop/L361/L361_Project/.conda/lib/python3.12/site-packages/datasets/utils/_dill.py:385: DeprecationWarning: co_lnotab is deprecated, use co_lines instead.\u001b[32m [repeated 7x across cluster]\u001b[0m\n",
      "\u001b[36m(ClientAppActor pid=16611)\u001b[0m   obj.co_lnotab,  # for < python 3.10 [not counted in args]\u001b[32m [repeated 7x across cluster]\u001b[0m\n"
     ]
    },
    {
     "name": "stdout",
     "output_type": "stream",
     "text": [
      "\u001b[36m(ClientAppActor pid=16611)\u001b[0m [Client 5] evaluate, config: {}\n",
      "\u001b[36m(ClientAppActor pid=16612)\u001b[0m Epoch 8: train loss 0.0014594238018617034, accuracy 0.9870987098709871\n"
     ]
    },
    {
     "name": "stderr",
     "output_type": "stream",
     "text": [
      "\u001b[92mINFO \u001b[0m:      aggregate_evaluate: received 6 results and 0 failures\n",
      "\u001b[92mINFO \u001b[0m:      \n",
      "\u001b[92mINFO \u001b[0m:      [ROUND 22]\n",
      "\u001b[92mINFO \u001b[0m:      configure_fit: strategy sampled 6 clients (out of 6)\n",
      "\u001b[36m(ClientAppActor pid=16611)\u001b[0m /Users/macbook/Desktop/L361/L361_Project/.conda/lib/python3.12/site-packages/datasets/utils/_dill.py:385: DeprecationWarning: co_lnotab is deprecated, use co_lines instead.\u001b[32m [repeated 6x across cluster]\u001b[0m\n",
      "\u001b[36m(ClientAppActor pid=16611)\u001b[0m   obj.co_lnotab,  # for < python 3.10 [not counted in args]\u001b[32m [repeated 6x across cluster]\u001b[0m\n"
     ]
    },
    {
     "name": "stdout",
     "output_type": "stream",
     "text": [
      "\u001b[36m(ClientAppActor pid=16611)\u001b[0m [Client 4] fit, config: {'proximal_mu': 0.1}\n",
      "\u001b[36m(ClientAppActor pid=16612)\u001b[0m [Client 0] evaluate, config: {}\u001b[32m [repeated 5x across cluster]\u001b[0m\n",
      "\u001b[36m(ClientAppActor pid=16613)\u001b[0m Epoch 1: train loss 0.0027634277939796448, accuracy 0.9741974197419742\n",
      "\u001b[36m(ClientAppActor pid=16612)\u001b[0m [Client 1] fit, config: {'proximal_mu': 0.1}\u001b[32m [repeated 5x across cluster]\u001b[0m\n",
      "\u001b[36m(ClientAppActor pid=16611)\u001b[0m Epoch 2: train loss 0.0029041648376733065, accuracy 0.9743474347434743\u001b[32m [repeated 6x across cluster]\u001b[0m\n",
      "\u001b[36m(ClientAppActor pid=16613)\u001b[0m Epoch 3: train loss 0.001904019620269537, accuracy 0.9810981098109811\u001b[32m [repeated 6x across cluster]\u001b[0m\n",
      "\u001b[36m(ClientAppActor pid=16614)\u001b[0m Epoch 4: train loss 0.001019686576910317, accuracy 0.9911504424778761\u001b[32m [repeated 6x across cluster]\u001b[0m\n",
      "\u001b[36m(ClientAppActor pid=16615)\u001b[0m Epoch 5: train loss 0.0010661714477464557, accuracy 0.9903990399039904\u001b[32m [repeated 6x across cluster]\u001b[0m\n",
      "\u001b[36m(ClientAppActor pid=16615)\u001b[0m Epoch 6: train loss 0.002749452833086252, accuracy 0.9770477047704771\u001b[32m [repeated 6x across cluster]\u001b[0m\n",
      "\u001b[36m(ClientAppActor pid=16615)\u001b[0m Epoch 7: train loss 0.0018606552621349692, accuracy 0.9833483348334834\u001b[32m [repeated 6x across cluster]\u001b[0m\n",
      "\u001b[36m(ClientAppActor pid=16615)\u001b[0m Epoch 8: train loss 0.004639553837478161, accuracy 0.9654965496549655\u001b[32m [repeated 6x across cluster]\u001b[0m\n"
     ]
    },
    {
     "name": "stderr",
     "output_type": "stream",
     "text": [
      "\u001b[92mINFO \u001b[0m:      aggregate_fit: received 6 results and 0 failures\n"
     ]
    },
    {
     "name": "stdout",
     "output_type": "stream",
     "text": [
      "total size: 280903200\n"
     ]
    },
    {
     "name": "stderr",
     "output_type": "stream",
     "text": [
      "\u001b[92mINFO \u001b[0m:      fit progress: (22, 0.03505478615164757, {'accuracy': 0.739}, 14179.187017167103)\n",
      "\u001b[92mINFO \u001b[0m:      configure_evaluate: strategy sampled 6 clients (out of 6)\n"
     ]
    },
    {
     "name": "stdout",
     "output_type": "stream",
     "text": [
      "\u001b[36m(ClientAppActor pid=16614)\u001b[0m [Client 4] evaluate, config: {}\n",
      "\u001b[36m(ClientAppActor pid=16611)\u001b[0m Epoch 8: train loss 0.0010682379361242056, accuracy 0.98994899489949\u001b[32m [repeated 5x across cluster]\u001b[0m\n"
     ]
    },
    {
     "name": "stderr",
     "output_type": "stream",
     "text": [
      "\u001b[36m(ClientAppActor pid=16614)\u001b[0m /Users/macbook/Desktop/L361/L361_Project/.conda/lib/python3.12/site-packages/datasets/utils/_dill.py:385: DeprecationWarning: co_lnotab is deprecated, use co_lines instead.\u001b[32m [repeated 6x across cluster]\u001b[0m\n",
      "\u001b[36m(ClientAppActor pid=16614)\u001b[0m   obj.co_lnotab,  # for < python 3.10 [not counted in args]\u001b[32m [repeated 6x across cluster]\u001b[0m\n",
      "\u001b[92mINFO \u001b[0m:      aggregate_evaluate: received 6 results and 0 failures\n",
      "\u001b[92mINFO \u001b[0m:      \n",
      "\u001b[92mINFO \u001b[0m:      [ROUND 23]\n",
      "\u001b[92mINFO \u001b[0m:      configure_fit: strategy sampled 6 clients (out of 6)\n",
      "\u001b[36m(ClientAppActor pid=16612)\u001b[0m /Users/macbook/Desktop/L361/L361_Project/.conda/lib/python3.12/site-packages/datasets/utils/_dill.py:385: DeprecationWarning: co_lnotab is deprecated, use co_lines instead.\u001b[32m [repeated 6x across cluster]\u001b[0m\n",
      "\u001b[36m(ClientAppActor pid=16612)\u001b[0m   obj.co_lnotab,  # for < python 3.10 [not counted in args]\u001b[32m [repeated 6x across cluster]\u001b[0m\n"
     ]
    },
    {
     "name": "stdout",
     "output_type": "stream",
     "text": [
      "\u001b[36m(ClientAppActor pid=16613)\u001b[0m [Client 0] fit, config: {'proximal_mu': 0.1}\n",
      "\u001b[36m(ClientAppActor pid=16611)\u001b[0m [Client 0] evaluate, config: {}\u001b[32m [repeated 5x across cluster]\u001b[0m\n",
      "\u001b[36m(ClientAppActor pid=16610)\u001b[0m Epoch 1: train loss 0.0026144087314605713, accuracy 0.9765976597659766\n",
      "\u001b[36m(ClientAppActor pid=16615)\u001b[0m [Client 2] fit, config: {'proximal_mu': 0.1}\u001b[32m [repeated 5x across cluster]\u001b[0m\n",
      "\u001b[36m(ClientAppActor pid=16610)\u001b[0m Epoch 2: train loss 0.005342166405171156, accuracy 0.9522952295229523\u001b[32m [repeated 6x across cluster]\u001b[0m\n",
      "\u001b[36m(ClientAppActor pid=16615)\u001b[0m Epoch 3: train loss 0.006887449417263269, accuracy 0.9497449744974498\u001b[32m [repeated 6x across cluster]\u001b[0m\n",
      "\u001b[36m(ClientAppActor pid=16610)\u001b[0m Epoch 4: train loss 0.004269127734005451, accuracy 0.9672967296729673\u001b[32m [repeated 6x across cluster]\u001b[0m\n",
      "\u001b[36m(ClientAppActor pid=16610)\u001b[0m \n",
      "\u001b[36m(ClientAppActor pid=16610)\u001b[0m Epoch 5: train loss 0.002669602632522583, accuracy 0.9786978697869787\u001b[32m [repeated 6x across cluster]\u001b[0m\n",
      "\u001b[36m(ClientAppActor pid=16610)\u001b[0m Epoch 6: train loss 0.0010457257740199566, accuracy 0.9905490549054905\u001b[32m [repeated 6x across cluster]\u001b[0m\n",
      "\u001b[36m(ClientAppActor pid=16611)\u001b[0m Epoch 6: train loss 0.0013033888535574079, accuracy 0.9884505774711264\u001b[32m [repeated 5x across cluster]\u001b[0m\n",
      "\u001b[36m(ClientAppActor pid=16610)\u001b[0m Epoch 7: train loss 0.0012064060429111123, accuracy 0.9891989198919892\n",
      "\u001b[36m(ClientAppActor pid=16615)\u001b[0m Epoch 7: train loss 0.008706595748662949, accuracy 0.915991599159916\n",
      "\u001b[36m(ClientAppActor pid=16610)\u001b[0m Epoch 8: train loss 0.001102653332054615, accuracy 0.9893489348934893\u001b[32m [repeated 5x across cluster]\u001b[0m\n"
     ]
    },
    {
     "name": "stderr",
     "output_type": "stream",
     "text": [
      "\u001b[92mINFO \u001b[0m:      aggregate_fit: received 6 results and 0 failures\n"
     ]
    },
    {
     "name": "stdout",
     "output_type": "stream",
     "text": [
      "\u001b[36m(ClientAppActor pid=16611)\u001b[0m Epoch 8: train loss 0.0021650686394423246, accuracy 0.9781010949452528\u001b[32m [repeated 5x across cluster]\u001b[0m\n",
      "total size: 280903200\n"
     ]
    },
    {
     "name": "stderr",
     "output_type": "stream",
     "text": [
      "\u001b[92mINFO \u001b[0m:      fit progress: (23, 0.03899778794199228, {'accuracy': 0.7388}, 14825.40928512509)\n",
      "\u001b[92mINFO \u001b[0m:      configure_evaluate: strategy sampled 6 clients (out of 6)\n",
      "\u001b[36m(ClientAppActor pid=16611)\u001b[0m /Users/macbook/Desktop/L361/L361_Project/.conda/lib/python3.12/site-packages/datasets/utils/_dill.py:385: DeprecationWarning: co_lnotab is deprecated, use co_lines instead.\u001b[32m [repeated 6x across cluster]\u001b[0m\n",
      "\u001b[36m(ClientAppActor pid=16611)\u001b[0m   obj.co_lnotab,  # for < python 3.10 [not counted in args]\u001b[32m [repeated 6x across cluster]\u001b[0m\n"
     ]
    },
    {
     "name": "stdout",
     "output_type": "stream",
     "text": [
      "\u001b[36m(ClientAppActor pid=16613)\u001b[0m [Client 3] evaluate, config: {}\n"
     ]
    },
    {
     "name": "stderr",
     "output_type": "stream",
     "text": [
      "\u001b[92mINFO \u001b[0m:      aggregate_evaluate: received 6 results and 0 failures\n",
      "\u001b[92mINFO \u001b[0m:      \n",
      "\u001b[92mINFO \u001b[0m:      [SUMMARY]\n",
      "\u001b[92mINFO \u001b[0m:      Run finished 23 round(s) in 14835.16s\n",
      "\u001b[92mINFO \u001b[0m:      \tHistory (loss, distributed):\n",
      "\u001b[92mINFO \u001b[0m:      \t\tround 1: 0.07484160378274382\n",
      "\u001b[92mINFO \u001b[0m:      \t\tround 2: 0.06762798515183285\n",
      "\u001b[92mINFO \u001b[0m:      \t\tround 3: 0.035412950380531175\n",
      "\u001b[92mINFO \u001b[0m:      \t\tround 4: 0.03501747703819221\n",
      "\u001b[92mINFO \u001b[0m:      \t\tround 5: 0.03470994416200454\n",
      "\u001b[92mINFO \u001b[0m:      \t\tround 6: 0.03358779248566038\n",
      "\u001b[92mINFO \u001b[0m:      \t\tround 7: 0.03543783076833044\n",
      "\u001b[92mINFO \u001b[0m:      \t\tround 8: 0.035917148299454166\n",
      "\u001b[92mINFO \u001b[0m:      \t\tround 9: 0.035516559252307976\n",
      "\u001b[92mINFO \u001b[0m:      \t\tround 10: 0.0359078329641255\n",
      "\u001b[92mINFO \u001b[0m:      \t\tround 11: 0.03555659340965321\n",
      "\u001b[92mINFO \u001b[0m:      \t\tround 12: 0.036185517966735366\n",
      "\u001b[92mINFO \u001b[0m:      \t\tround 13: 0.036287627708992944\n",
      "\u001b[92mINFO \u001b[0m:      \t\tround 14: 0.03674307494455756\n",
      "\u001b[92mINFO \u001b[0m:      \t\tround 15: 0.035530201673591125\n",
      "\u001b[92mINFO \u001b[0m:      \t\tround 16: 0.033593207088214734\n",
      "\u001b[92mINFO \u001b[0m:      \t\tround 17: 0.03492485013151855\n",
      "\u001b[92mINFO \u001b[0m:      \t\tround 18: 0.03430288500668192\n",
      "\u001b[92mINFO \u001b[0m:      \t\tround 19: 0.039415507826880934\n",
      "\u001b[92mINFO \u001b[0m:      \t\tround 20: 0.03395138003328363\n",
      "\u001b[92mINFO \u001b[0m:      \t\tround 21: 0.03788242349237003\n",
      "\u001b[92mINFO \u001b[0m:      \t\tround 22: 0.03411693256322299\n",
      "\u001b[92mINFO \u001b[0m:      \t\tround 23: 0.038420798235844864\n",
      "\u001b[92mINFO \u001b[0m:      \tHistory (loss, centralized):\n",
      "\u001b[92mINFO \u001b[0m:      \t\tround 0: 0.07208106136322022\n",
      "\u001b[92mINFO \u001b[0m:      \t\tround 1: 0.07355622832775116\n",
      "\u001b[92mINFO \u001b[0m:      \t\tround 2: 0.06642632637023926\n",
      "\u001b[92mINFO \u001b[0m:      \t\tround 3: 0.03539723682105541\n",
      "\u001b[92mINFO \u001b[0m:      \t\tround 4: 0.03496938349306583\n",
      "\u001b[92mINFO \u001b[0m:      \t\tround 5: 0.0347177033662796\n",
      "\u001b[92mINFO \u001b[0m:      \t\tround 6: 0.033959348544478414\n",
      "\u001b[92mINFO \u001b[0m:      \t\tround 7: 0.03596938618719578\n",
      "\u001b[92mINFO \u001b[0m:      \t\tround 8: 0.03584601846337319\n",
      "\u001b[92mINFO \u001b[0m:      \t\tround 9: 0.0360300006300211\n",
      "\u001b[92mINFO \u001b[0m:      \t\tround 10: 0.036414744186401365\n",
      "\u001b[92mINFO \u001b[0m:      \t\tround 11: 0.03608650654554367\n",
      "\u001b[92mINFO \u001b[0m:      \t\tround 12: 0.037094509872794154\n",
      "\u001b[92mINFO \u001b[0m:      \t\tround 13: 0.03695111530125141\n",
      "\u001b[92mINFO \u001b[0m:      \t\tround 14: 0.03688797875642776\n",
      "\u001b[92mINFO \u001b[0m:      \t\tround 15: 0.03640124354958534\n",
      "\u001b[92mINFO \u001b[0m:      \t\tround 16: 0.034801406610012055\n",
      "\u001b[92mINFO \u001b[0m:      \t\tround 17: 0.03576249594688415\n",
      "\u001b[92mINFO \u001b[0m:      \t\tround 18: 0.03499301008284092\n",
      "\u001b[92mINFO \u001b[0m:      \t\tround 19: 0.040536237233877184\n",
      "\u001b[92mINFO \u001b[0m:      \t\tround 20: 0.03536695448458195\n",
      "\u001b[92mINFO \u001b[0m:      \t\tround 21: 0.03920234859883785\n",
      "\u001b[92mINFO \u001b[0m:      \t\tround 22: 0.03505478615164757\n",
      "\u001b[92mINFO \u001b[0m:      \t\tround 23: 0.03899778794199228\n",
      "\u001b[92mINFO \u001b[0m:      \tHistory (metrics, centralized):\n",
      "\u001b[92mINFO \u001b[0m:      \t{'accuracy': [(0, 0.1),\n",
      "\u001b[92mINFO \u001b[0m:      \t              (1, 0.1),\n",
      "\u001b[92mINFO \u001b[0m:      \t              (2, 0.2106),\n",
      "\u001b[92mINFO \u001b[0m:      \t              (3, 0.6251),\n",
      "\u001b[92mINFO \u001b[0m:      \t              (4, 0.7008),\n",
      "\u001b[92mINFO \u001b[0m:      \t              (5, 0.721),\n",
      "\u001b[92mINFO \u001b[0m:      \t              (6, 0.7299),\n",
      "\u001b[92mINFO \u001b[0m:      \t              (7, 0.729),\n",
      "\u001b[92mINFO \u001b[0m:      \t              (8, 0.7327),\n",
      "\u001b[92mINFO \u001b[0m:      \t              (9, 0.7375),\n",
      "\u001b[92mINFO \u001b[0m:      \t              (10, 0.735),\n",
      "\u001b[92mINFO \u001b[0m:      \t              (11, 0.7359),\n",
      "\u001b[92mINFO \u001b[0m:      \t              (12, 0.7339),\n",
      "\u001b[92mINFO \u001b[0m:      \t              (13, 0.737),\n",
      "\u001b[92mINFO \u001b[0m:      \t              (14, 0.743),\n",
      "\u001b[92mINFO \u001b[0m:      \t              (15, 0.7418),\n",
      "\u001b[92mINFO \u001b[0m:      \t              (16, 0.7347),\n",
      "\u001b[92mINFO \u001b[0m:      \t              (17, 0.7408),\n",
      "\u001b[92mINFO \u001b[0m:      \t              (18, 0.7413),\n",
      "\u001b[92mINFO \u001b[0m:      \t              (19, 0.7397),\n",
      "\u001b[92mINFO \u001b[0m:      \t              (20, 0.7443),\n",
      "\u001b[92mINFO \u001b[0m:      \t              (21, 0.7474),\n",
      "\u001b[92mINFO \u001b[0m:      \t              (22, 0.739),\n",
      "\u001b[92mINFO \u001b[0m:      \t              (23, 0.7388)]}\n",
      "\u001b[92mINFO \u001b[0m:      \n"
     ]
    },
    {
     "name": "stdout",
     "output_type": "stream",
     "text": [
      "\u001b[36m(ClientAppActor pid=16612)\u001b[0m [Client 5] evaluate, config: {}\u001b[32m [repeated 5x across cluster]\u001b[0m\n"
     ]
    },
    {
     "name": "stderr",
     "output_type": "stream",
     "text": [
      "\u001b[36m(ClientAppActor pid=16612)\u001b[0m /Users/macbook/Desktop/L361/L361_Project/.conda/lib/python3.12/site-packages/datasets/utils/_dill.py:385: DeprecationWarning: co_lnotab is deprecated, use co_lines instead.\u001b[32m [repeated 5x across cluster]\u001b[0m\n",
      "\u001b[36m(ClientAppActor pid=16612)\u001b[0m   obj.co_lnotab,  # for < python 3.10 [not counted in args]\u001b[32m [repeated 5x across cluster]\u001b[0m\n"
     ]
    }
   ],
   "source": [
    "net = Net().to(DEVICE)\n",
    "\n",
    "_, _, testloader = load_datasets(0, NUM_PARTITIONS)\n",
    "\n",
    "evaluate_fn = get_evaluate_fn(testloader, net)\n",
    "\n",
    "\n",
    "def server_fn(context: Context) -> ServerAppComponents:\n",
    "    # Configure the server for just 3 rounds of training\n",
    "    config = ServerConfig(num_rounds=NUM_OF_ROUNDS)\n",
    "    return ServerAppComponents(\n",
    "        config=config,\n",
    "        strategy=ModifiedFedProx(proximal_mu=0.1, evaluate_fn=evaluate_fn),\n",
    "    )\n",
    "\n",
    "server = ServerApp(server_fn=server_fn)\n",
    "\n",
    "# Run simulation\n",
    "run_simulation(\n",
    "    server_app=server,\n",
    "    client_app=client,\n",
    "    num_supernodes=NUM_PARTITIONS,\n",
    "    backend_config=backend_config,\n",
    ")"
   ]
  },
  {
   "cell_type": "code",
   "execution_count": 15,
   "metadata": {},
   "outputs": [],
   "source": [
    "with open(f'results/fed_prox_result.p', 'wb') as file:\n",
    "    pickle.dump(fed_prox_result, file)\n",
    "\n",
    "with open(f'results/fed_prox_model_results.p', 'wb') as file:\n",
    "    pickle.dump(fed_prox_model_results, file)"
   ]
  },
  {
   "cell_type": "code",
   "execution_count": 16,
   "metadata": {},
   "outputs": [],
   "source": [
    "fed_prox_rounds = list(fed_prox_result.keys())\n",
    "fed_prox_sizes = [fed_prox_result[round][\"total_size\"] for round in fed_prox_rounds]\n",
    "\n",
    "# plt.figure(figsize=(10, 5))\n",
    "# plt.plot(fed_prox_rounds, fed_prox_sizes, marker='o', linestyle='-', color='b', label='FedProx')\n",
    "# plt.plot(fed_part_avg_rounds, fed_part_avg_sizes, marker='o', linestyle='-', color='r', label='FedPartAvg')\n",
    "# plt.plot(fed_avg_rounds, fed_avg_sizes, marker='o', linestyle='-', color='g', label='FedAvg')\n",
    "# plt.xlabel('Round')\n",
    "# plt.ylabel('Total Size of Parameters (bytes)')\n",
    "# plt.title('Total Size of Parameters for Each Round')\n",
    "# plt.legend()\n",
    "# plt.grid(True)\n",
    "\n",
    "# fed_prox_losses = [fed_prox_result[round][\"total_loss\"] for round in fed_prox_rounds]\n",
    "\n",
    "# plt.figure(figsize=(10, 5))\n",
    "# plt.plot(fed_prox_rounds, fed_prox_losses, marker='o', linestyle='-', color='b', label='FedProx')\n",
    "# plt.plot(fed_part_avg_rounds, fed_part_avg_losses, marker='o', linestyle='-', color='r', label='FedPartAvg')\n",
    "# plt.plot(fed_avg_rounds, fed_avg_losses, marker='o', linestyle='-', color='g', label='FedAvg')\n",
    "# plt.xlabel('Round')\n",
    "# plt.ylabel('Total Loss')\n",
    "# plt.title('Total Loss for Each Round')\n",
    "# plt.legend()\n",
    "# plt.grid(True)\n",
    "\n",
    "\n",
    "# fed_prox_model_rounds = list(fed_prox_model_results.keys())\n",
    "# fed_prox_accuracies = [fed_prox_model_results[round][\"global_metrics\"][\"accuracy\"] for round in fed_prox_model_rounds]\n",
    "\n",
    "# plt.figure(figsize=(10, 5))\n",
    "# # plt.plot(fed_part_prox_model_rounds, fed_part_prox_accuracies, marker='o', linestyle='-', color='b', label='FedPartProx')\n",
    "# plt.plot(fed_part_avg_model_rounds, fed_part_avg_accuracies, marker='o', linestyle='-', color='r', label='FedPartAvg')\n",
    "# plt.plot(fed_avg_model_rounds, fed_avg_accuracies, marker='o', linestyle='-', color='g', label='FedAvg')\n",
    "# plt.xlabel('Round')\n",
    "# plt.ylabel('Accuracy')\n",
    "# plt.title('Accuracy for Each Round')\n",
    "# plt.legend()\n",
    "# plt.grid(True)\n",
    "\n",
    "# fed_prox_global_losses = [fed_prox_model_results[round][\"global_loss\"] for round in fed_prox_model_rounds]\n",
    "\n",
    "# plt.figure(figsize=(10, 5))\n",
    "# # plt.plot(fed_part_prox_model_rounds, fed_part_prox_global_losses, marker='o', linestyle='-', color='b', label='FedPartProx')\n",
    "# plt.plot(fed_part_avg_model_rounds, fed_part_avg_global_losses, marker='o', linestyle='-', color='r', label='FedPartAvg')   \n",
    "# plt.plot(fed_avg_model_rounds, fed_avg_global_losses, marker='o', linestyle='-', color='g', label='FedAvg')\n",
    "# plt.xlabel('Round')\n",
    "# plt.ylabel('Loss')\n",
    "# plt.title('Loss for Each Round')\n",
    "# plt.legend()\n",
    "# plt.grid(True)\n"
   ]
  },
  {
   "cell_type": "markdown",
   "metadata": {},
   "source": [
    "# FedMoon experiments:"
   ]
  },
  {
   "cell_type": "code",
   "execution_count": 20,
   "metadata": {},
   "outputs": [],
   "source": [
    "import os\n",
    "class FedMoonNoFreezeFlowerClient(NumPyClient):\n",
    "    def __init__(self, partition_id, net, trainloader, valloader):\n",
    "        self.partition_id = partition_id\n",
    "        self.net = net\n",
    "        self.trainloader = trainloader\n",
    "        self.valloader = valloader\n",
    "        self.model_dir = \"models\"\n",
    "\n",
    "    def get_parameters(self, config):\n",
    "        print(f\"[Client {self.partition_id}] get_parameters\")\n",
    "        parameters = get_parameters(self.net)\n",
    "        trainable_layer = config[\"trainable_layers\"]\n",
    "        self._save_model_state()\n",
    "        \n",
    "        if trainable_layer == -1:\n",
    "            return parameters\n",
    "        \n",
    "        trained_layer = [parameters[trainable_layer*2], parameters[trainable_layer*2 +1]]\n",
    "        return trained_layer\n",
    "\n",
    "    def fit(self, parameters, config):\n",
    "        print(f\"[Client {self.partition_id}] fit, config: {config}\")\n",
    "\n",
    "        # load previous model\n",
    "        if not os.path.exists(os.path.join(self.model_dir, str(self.partition_id))):\n",
    "            prev_model = copy.deepcopy(self.net)\n",
    "        else:\n",
    "            # initialise and load params from model_dir\n",
    "            prev_model = type(self.net)() \n",
    "            prev_model.load_state_dict(\n",
    "                torch.load(\n",
    "                    os.path.join(self.model_dir, str(self.partition_id), \"prev_net.pt\")\n",
    "                )\n",
    "            )\n",
    "\n",
    "        # update params for current model (loading global params)\n",
    "        set_parameters(self.net, parameters)\n",
    "\n",
    "        # create global model (same params that were just loaded)\n",
    "        global_model = type(self.net)()\n",
    "        global_model.load_state_dict(self.net.state_dict())\n",
    "        global_model.to(DEVICE)\n",
    "        \n",
    "        train_moon(self.net, self.trainloader, global_model, prev_model, EPOCHS, 5, 0.5)\n",
    "\n",
    "        # save current model \n",
    "        if not os.path.exists(os.path.join(self.model_dir, str(self.partition_id))):\n",
    "            os.makedirs(os.path.join(self.model_dir, str(self.partition_id)))\n",
    "        torch.save(\n",
    "            self.net.state_dict(),\n",
    "            os.path.join(self.model_dir, str(self.partition_id), \"prev_net.pt\"),\n",
    "        )\n",
    "\n",
    "        return get_parameters(self.net), len(self.trainloader), {}\n",
    "\n",
    "\n",
    "    def evaluate(self, parameters, config):\n",
    "        print(f\"[Client {self.partition_id}] evaluate, config: {config}\")\n",
    "        set_parameters(self.net, parameters)\n",
    "        loss, accuracy = test_moon(self.net, self.valloader)\n",
    "        return float(loss), len(self.valloader), {\"accuracy\": float(accuracy)}\n",
    "\n",
    "\n",
    "def client_fn(context: Context) -> Client:\n",
    "    net = MoonNet().to(DEVICE)\n",
    "    partition_id = context.node_config[\"partition-id\"]\n",
    "    num_partitions = context.node_config[\"num-partitions\"]\n",
    "    trainloader, valloader, _ = load_datasets(partition_id, num_partitions)\n",
    "    return FedMoonNoFreezeFlowerClient(partition_id, net, trainloader, valloader).to_client()\n",
    "\n",
    "\n",
    "# Create the ClientApp\n",
    "client = ClientApp(client_fn=client_fn)\n"
   ]
  },
  {
   "cell_type": "code",
   "execution_count": 21,
   "metadata": {},
   "outputs": [],
   "source": [
    "from typing import Union\n",
    "import sys\n",
    "\n",
    "from flwr.common import (\n",
    "    EvaluateIns,\n",
    "    EvaluateRes,\n",
    "    FitIns,\n",
    "    FitRes,\n",
    "    Parameters,\n",
    "    Scalar,\n",
    "    ndarrays_to_parameters,\n",
    "    parameters_to_ndarrays,\n",
    ")\n",
    "from flwr.server.client_manager import ClientManager\n",
    "from flwr.server.client_proxy import ClientProxy\n",
    "from flwr.server.strategy.aggregate import aggregate, weighted_loss_avg\n",
    "\n",
    "def get_parameters_size(params: Parameters) -> int:\n",
    "    size = sys.getsizeof(params)  # Base size of the dataclass instance\n",
    "    size += sys.getsizeof(params.tensor_type)  # Size of the string\n",
    "    size += sys.getsizeof(params.tensors)  # Size of the list container\n",
    "    size += sum(sys.getsizeof(tensor) for tensor in params.tensors)  # Size of each bytes object\n",
    "    return size\n",
    "\n",
    "fed_moon_no_freeze_result = {}\n",
    "fed_moon_model_no_freeze_results = {}\n",
    "\n",
    "# basically same as normal FedAvg, just added freezing and modified result dict names\n",
    "class FedMoonNoFreeze(Strategy):\n",
    "    def __init__(\n",
    "        self,\n",
    "        fraction_fit: float = 1.0,\n",
    "        fraction_evaluate: float = 1.0,\n",
    "        min_fit_clients: int = 2,\n",
    "        min_evaluate_clients: int = 2,\n",
    "        min_available_clients: int = 2,\n",
    "        evaluate_fn: Optional[\n",
    "            Callable[\n",
    "                [int, NDArrays, dict[str, Scalar]],\n",
    "                Optional[tuple[float, dict[str, Scalar]]],\n",
    "            ]\n",
    "        ] = None,\n",
    "        on_fit_config_fn: Optional[Callable[[int], dict[str, Scalar]]] = None,\n",
    "        on_evaluate_config_fn: Optional[Callable[[int], dict[str, Scalar]]] = None,\n",
    "        accept_failures: bool = True,\n",
    "        initial_parameters: Optional[Parameters] = None,\n",
    "        fit_metrics_aggregation_fn: Optional[MetricsAggregationFn] = None,\n",
    "        evaluate_metrics_aggregation_fn: Optional[MetricsAggregationFn] = None,\n",
    "        inplace: bool = True,\n",
    "        layer_update_strategy: str = \"sequential\",\n",
    "        \n",
    "    ) -> None:\n",
    "        super().__init__()\n",
    "        self.fraction_fit = fraction_fit\n",
    "        self.fraction_evaluate = fraction_evaluate\n",
    "        self.min_fit_clients = min_fit_clients\n",
    "        self.min_evaluate_clients = min_evaluate_clients\n",
    "        self.min_available_clients = min_available_clients\n",
    "        self.evaluate_fn = evaluate_fn\n",
    "        self.on_fit_config_fn = on_fit_config_fn\n",
    "        self.on_evaluate_config_fn = on_evaluate_config_fn\n",
    "        self.accept_failures = accept_failures\n",
    "        self.initial_parameters = initial_parameters\n",
    "        self.fit_metrics_aggregation_fn = fit_metrics_aggregation_fn\n",
    "        self.evaluate_metrics_aggregation_fn = evaluate_metrics_aggregation_fn\n",
    "        self.inplace = inplace\n",
    "        self.layer_training_sequence = []\n",
    "        self.training_sequence_index = 0\n",
    "        self.latest_parameters = initial_parameters\n",
    "\n",
    "\n",
    "    def __repr__(self) -> str:\n",
    "        return \"FedMoon\"\n",
    "    \n",
    "    def num_fit_clients(self, num_available_clients: int) -> Tuple[int, int]:\n",
    "        \"\"\"Return sample size and required number of clients.\"\"\"\n",
    "        num_clients = int(num_available_clients * self.fraction_fit)\n",
    "        return max(num_clients, self.min_fit_clients), self.min_available_clients\n",
    "\n",
    "    def num_evaluation_clients(self, num_available_clients: int) -> Tuple[int, int]:\n",
    "        \"\"\"Use a fraction of available clients for evaluation.\"\"\"\n",
    "        num_clients = int(num_available_clients * self.fraction_evaluate)\n",
    "        return max(num_clients, self.min_evaluate_clients), self.min_available_clients\n",
    "   \n",
    "    def initialize_parameters(\n",
    "        self, client_manager: ClientManager\n",
    "    ) -> Optional[Parameters]:\n",
    "        \"\"\"Initialize global model parameters.\"\"\"\n",
    "        net = Net()\n",
    "        ndarrays = get_parameters(net)\n",
    "        return ndarrays_to_parameters(ndarrays)\n",
    "\n",
    "    def evaluate(\n",
    "        self, server_round: int, parameters: Parameters\n",
    "    ) -> Optional[tuple[float, dict[str, Scalar]]]:\n",
    "        \"\"\"Evaluate model parameters using an evaluation function.\"\"\"\n",
    "        if self.evaluate_fn is None:\n",
    "            # No evaluation function provided\n",
    "            return None\n",
    "        parameters_ndarrays = parameters_to_ndarrays(parameters)\n",
    "        eval_res = self.evaluate_fn(server_round, parameters_ndarrays, {})\n",
    "        if eval_res is None:\n",
    "            return None\n",
    "        loss, metrics = eval_res\n",
    "\n",
    "        if server_round in fed_moon_model_no_freeze_results:\n",
    "            expand_fed_moon_no_freeze_result= {**fed_moon_model_no_freeze_results[server_round], \"global_loss\": loss, \"global_metrics\": metrics}\n",
    "        else:\n",
    "            expand_fed_moon_no_freeze_result= {\"global_loss\": loss, \"global_metrics\": metrics}\n",
    "\n",
    "        fed_moon_model_no_freeze_results[server_round] = expand_fed_moon_no_freeze_result\n",
    "\n",
    "        return loss, metrics\n",
    "\n",
    "\n",
    "    def configure_fit(\n",
    "        # includes layer freezing\n",
    "        self, server_round: int, parameters: Parameters, client_manager: ClientManager\n",
    "    ) -> List[Tuple[ClientProxy, FitIns]]:\n",
    "        \"\"\"Configure the next round of training.\"\"\"\n",
    "        config = {}\n",
    "        \n",
    "        sample_size, min_num_clients = self.num_fit_clients(\n",
    "            client_manager.num_available()\n",
    "        )\n",
    "        clients = client_manager.sample(\n",
    "            num_clients=sample_size, min_num_clients=min_num_clients\n",
    "        )\n",
    "        \n",
    "        fit_configurations = []\n",
    "        for idx, client in enumerate(clients):\n",
    "            fit_configurations.append((client, FitIns(parameters, config)))\n",
    "\n",
    "        self.training_sequence_index = self.training_sequence_index + 1\n",
    "        \n",
    "        return fit_configurations\n",
    "    \n",
    "    def configure_evaluate(\n",
    "        self, server_round: int, parameters: Parameters, client_manager: ClientManager\n",
    "    ) -> List[Tuple[ClientProxy, EvaluateIns]]:\n",
    "        \"\"\"Configure the next round of evaluation.\"\"\"\n",
    "        if self.fraction_evaluate == 0.0:\n",
    "            return []\n",
    "        config = {}\n",
    "        evaluate_ins = EvaluateIns(parameters, config)\n",
    "\n",
    "        # Sample clients\n",
    "        sample_size, min_num_clients = self.num_evaluation_clients(\n",
    "            client_manager.num_available()\n",
    "        )\n",
    "        clients = client_manager.sample(\n",
    "            num_clients=sample_size, min_num_clients=min_num_clients\n",
    "        )\n",
    "\n",
    "        # Return client/config pairs\n",
    "        return [(client, evaluate_ins) for client in clients]\n",
    "\n",
    "\n",
    "    def aggregate_fit(\n",
    "        self,\n",
    "        server_round: int,\n",
    "        results: List[Tuple[ClientProxy, FitRes]],\n",
    "        failures: List[Union[Tuple[ClientProxy, FitRes], BaseException]],\n",
    "    ) -> Tuple[Optional[Parameters], Dict[str, Scalar]]:\n",
    "        \"\"\"Aggregate fit results using weighted average.\"\"\"\n",
    "\n",
    "        # get size of parameters in bytes\n",
    "        total_size = 0\n",
    "        for client, fit_res in results:\n",
    "            total_size += get_parameters_size(fit_res.parameters) * 2\n",
    "        \n",
    "        if server_round in fed_moon_no_freeze_result:\n",
    "            expand_fed_moon_no_freeze_result= {**fed_moon_no_freeze_result[server_round], \"total_size\": total_size}\n",
    "        else:\n",
    "            expand_fed_moon_no_freeze_result= {\"total_size\": total_size}\n",
    "\n",
    "        fed_moon_no_freeze_result[server_round] = expand_fed_moon_no_freeze_result\n",
    "\n",
    "        weights_results = [\n",
    "            (parameters_to_ndarrays(fit_res.parameters), fit_res.num_examples)\n",
    "            for _, fit_res in results\n",
    "        ]\n",
    "        \n",
    "        aggregated_weights = aggregate(weights_results)\n",
    "        \n",
    "        self.latest_parameters = ndarrays_to_parameters(aggregated_weights)\n",
    "\n",
    "        metrics_aggregated = {}\n",
    "        return self.latest_parameters, metrics_aggregated\n",
    "\n",
    "    \n",
    "\n",
    "    def aggregate_evaluate(\n",
    "        self,\n",
    "        server_round: int,\n",
    "        results: List[Tuple[ClientProxy, EvaluateRes]],\n",
    "        failures: List[Union[Tuple[ClientProxy, EvaluateRes], BaseException]],\n",
    "    ) -> Tuple[Optional[float], Dict[str, Scalar]]:\n",
    "        \"\"\"Aggregate evaluation losses using weighted average.\"\"\"\n",
    "\n",
    "        if not results:\n",
    "            return None, {}\n",
    "\n",
    "        total_loss = 0\n",
    "        for _, evaluate_res in results:\n",
    "            total_loss += evaluate_res.loss \n",
    "\n",
    "\n",
    "        if server_round in fed_moon_no_freeze_result:\n",
    "            expand_fed_moon_no_freeze_result= {**fed_moon_no_freeze_result[server_round], \"total_loss\": total_loss}\n",
    "        else:\n",
    "            expand_fed_moon_no_freeze_result= {\"total_loss\": total_loss}\n",
    "\n",
    "        fed_moon_no_freeze_result[server_round] = expand_fed_moon_no_freeze_result\n",
    "\n",
    "        loss_aggregated = weighted_loss_avg(\n",
    "            [\n",
    "                (evaluate_res.num_examples, evaluate_res.loss)\n",
    "                for _, evaluate_res in results\n",
    "            ]\n",
    "        )\n",
    "        metrics_aggregated = {}\n",
    "        return loss_aggregated, metrics_aggregated"
   ]
  },
  {
   "cell_type": "code",
   "execution_count": 22,
   "metadata": {},
   "outputs": [
    {
     "name": "stderr",
     "output_type": "stream",
     "text": [
      "/Users/macbook/Desktop/L361/L361_Project/.conda/lib/python3.12/site-packages/datasets/utils/_dill.py:385: DeprecationWarning: co_lnotab is deprecated, use co_lines instead.\n",
      "  obj.co_lnotab,  # for < python 3.10 [not counted in args]\n",
      "\u001b[92mINFO \u001b[0m:      Starting Flower ServerApp, config: num_rounds=23, no round_timeout\n",
      "\u001b[92mINFO \u001b[0m:      \n",
      "\u001b[92mINFO \u001b[0m:      [INIT]\n",
      "\u001b[92mINFO \u001b[0m:      Using initial global parameters provided by strategy\n",
      "\u001b[92mINFO \u001b[0m:      Starting evaluation of initial global parameters\n",
      "\u001b[92mINFO \u001b[0m:      initial parameters (loss, other metrics): 0.07207615087032318, {'accuracy': 0.1}\n",
      "\u001b[92mINFO \u001b[0m:      \n",
      "\u001b[92mINFO \u001b[0m:      [ROUND 1]\n",
      "\u001b[92mINFO \u001b[0m:      configure_fit: strategy sampled 6 clients (out of 6)\n",
      "\u001b[36m(ClientAppActor pid=45469)\u001b[0m /Users/macbook/Desktop/L361/L361_Project/.conda/lib/python3.12/site-packages/datasets/utils/_dill.py:385: DeprecationWarning: co_lnotab is deprecated, use co_lines instead.\n",
      "\u001b[36m(ClientAppActor pid=45469)\u001b[0m   obj.co_lnotab,  # for < python 3.10 [not counted in args]\n"
     ]
    },
    {
     "name": "stdout",
     "output_type": "stream",
     "text": [
      "\u001b[36m(ClientAppActor pid=45469)\u001b[0m [Client 2] fit, config: {}\n",
      "\u001b[36m(ClientAppActor pid=45469)\u001b[0m Started training moon\n",
      "\u001b[36m(ClientAppActor pid=45470)\u001b[0m [Client 1] fit, config: {}\u001b[32m [repeated 4x across cluster]\u001b[0m\n",
      "\u001b[36m(ClientAppActor pid=45471)\u001b[0m Started training moon\u001b[32m [repeated 3x across cluster]\u001b[0m\n"
     ]
    },
    {
     "name": "stderr",
     "output_type": "stream",
     "text": [
      "\u001b[36m(ClientAppActor pid=45470)\u001b[0m /Users/macbook/Desktop/L361/L361_Project/.conda/lib/python3.12/site-packages/datasets/utils/_dill.py:385: DeprecationWarning: co_lnotab is deprecated, use co_lines instead.\u001b[32m [repeated 4x across cluster]\u001b[0m\n",
      "\u001b[36m(ClientAppActor pid=45470)\u001b[0m   obj.co_lnotab,  # for < python 3.10 [not counted in args]\u001b[32m [repeated 4x across cluster]\u001b[0m\n"
     ]
    },
    {
     "name": "stdout",
     "output_type": "stream",
     "text": [
      "\u001b[36m(ClientAppActor pid=45467)\u001b[0m Epoch: 0 Loss: 3.187422 Loss1: 2.259772 Loss2: 0.927650\n",
      "\u001b[36m(ClientAppActor pid=45468)\u001b[0m [Client 3] fit, config: {}\n",
      "\u001b[36m(ClientAppActor pid=45468)\u001b[0m Started training moon\u001b[32m [repeated 2x across cluster]\u001b[0m\n",
      "\u001b[36m(ClientAppActor pid=45468)\u001b[0m Epoch: 0 Loss: 3.242497 Loss1: 2.303466 Loss2: 0.939031\u001b[32m [repeated 4x across cluster]\u001b[0m\n",
      "\u001b[36m(ClientAppActor pid=45471)\u001b[0m Epoch: 1 Loss: 3.294153 Loss1: 2.285401 Loss2: 1.008752\u001b[32m [repeated 2x across cluster]\u001b[0m\n",
      "\u001b[36m(ClientAppActor pid=45469)\u001b[0m Epoch: 1 Loss: 3.089601 Loss1: 2.187633 Loss2: 0.901969\u001b[32m [repeated 3x across cluster]\u001b[0m\n",
      "\u001b[36m(ClientAppActor pid=45470)\u001b[0m Epoch: 1 Loss: 3.138416 Loss1: 2.134665 Loss2: 1.003751\u001b[32m [repeated 2x across cluster]\u001b[0m\n",
      "\u001b[36m(ClientAppActor pid=45471)\u001b[0m Epoch: 2 Loss: 3.151723 Loss1: 2.136769 Loss2: 1.014955\n",
      "\u001b[36m(ClientAppActor pid=45467)\u001b[0m Epoch: 2 Loss: 2.822716 Loss1: 1.882287 Loss2: 0.940429\n",
      "\u001b[36m(ClientAppActor pid=45470)\u001b[0m Epoch: 2 Loss: 3.053616 Loss1: 2.048733 Loss2: 1.004883\u001b[32m [repeated 4x across cluster]\u001b[0m\n",
      "\u001b[36m(ClientAppActor pid=45471)\u001b[0m Epoch: 3 Loss: 3.034908 Loss1: 2.016103 Loss2: 1.018805\n",
      "\u001b[36m(ClientAppActor pid=45466)\u001b[0m Epoch: 3 Loss: 2.867482 Loss1: 1.970587 Loss2: 0.896895\n",
      "\u001b[36m(ClientAppActor pid=45470)\u001b[0m Epoch: 3 Loss: 2.971981 Loss1: 1.964378 Loss2: 1.007603\u001b[32m [repeated 4x across cluster]\u001b[0m\n",
      "\u001b[36m(ClientAppActor pid=45466)\u001b[0m Epoch: 4 Loss: 2.783769 Loss1: 1.884234 Loss2: 0.899535\n",
      "\u001b[36m(ClientAppActor pid=45471)\u001b[0m Epoch: 4 Loss: 2.948985 Loss1: 1.930145 Loss2: 1.018840\n",
      "\u001b[36m(ClientAppActor pid=45470)\u001b[0m Epoch: 4 Loss: 2.882865 Loss1: 1.873057 Loss2: 1.009808\u001b[32m [repeated 4x across cluster]\u001b[0m\n",
      "\u001b[36m(ClientAppActor pid=45469)\u001b[0m Epoch: 5 Loss: 2.773916 Loss1: 1.864061 Loss2: 0.909856\n",
      "\u001b[36m(ClientAppActor pid=45466)\u001b[0m Epoch: 5 Loss: 2.718378 Loss1: 1.816206 Loss2: 0.902173\n",
      "\u001b[36m(ClientAppActor pid=45470)\u001b[0m Epoch: 5 Loss: 2.778879 Loss1: 1.761857 Loss2: 1.017022\u001b[32m [repeated 4x across cluster]\u001b[0m\n",
      "\u001b[36m(ClientAppActor pid=45467)\u001b[0m Epoch: 6 Loss: 2.057600 Loss1: 1.108698 Loss2: 0.948902\n",
      "\u001b[36m(ClientAppActor pid=45469)\u001b[0m Epoch: 6 Loss: 2.670074 Loss1: 1.757353 Loss2: 0.912721\n",
      "\u001b[36m(ClientAppActor pid=45466)\u001b[0m Epoch: 6 Loss: 2.647797 Loss1: 1.744986 Loss2: 0.902811\n",
      "\u001b[36m(ClientAppActor pid=45471)\u001b[0m Epoch: 6 Loss: 2.517276 Loss1: 1.483758 Loss2: 1.033517\n",
      "\u001b[36m(ClientAppActor pid=45470)\u001b[0m Epoch: 6 Loss: 2.601321 Loss1: 1.572003 Loss2: 1.029317\u001b[32m [repeated 2x across cluster]\u001b[0m\n",
      "\u001b[36m(ClientAppActor pid=45467)\u001b[0m Epoch: 7 Loss: 1.933936 Loss1: 0.985456 Loss2: 0.948480\n",
      "\u001b[36m(ClientAppActor pid=45469)\u001b[0m Epoch: 7 Loss: 2.580280 Loss1: 1.667666 Loss2: 0.912615\n",
      "\u001b[36m(ClientAppActor pid=45470)\u001b[0m Epoch: 7 Loss: 2.418128 Loss1: 1.393038 Loss2: 1.025090\u001b[32m [repeated 4x across cluster]\u001b[0m\n"
     ]
    },
    {
     "name": "stderr",
     "output_type": "stream",
     "text": [
      "\u001b[92mINFO \u001b[0m:      aggregate_fit: received 6 results and 0 failures\n",
      "\u001b[92mINFO \u001b[0m:      fit progress: (1, 0.07251906378269196, {'accuracy': 0.1}, 1326.9641070839716)\n",
      "\u001b[92mINFO \u001b[0m:      configure_evaluate: strategy sampled 6 clients (out of 6)\n",
      "\u001b[36m(ClientAppActor pid=45468)\u001b[0m /Users/macbook/Desktop/L361/L361_Project/.conda/lib/python3.12/site-packages/datasets/utils/_dill.py:385: DeprecationWarning: co_lnotab is deprecated, use co_lines instead.\u001b[32m [repeated 2x across cluster]\u001b[0m\n",
      "\u001b[36m(ClientAppActor pid=45468)\u001b[0m   obj.co_lnotab,  # for < python 3.10 [not counted in args]\u001b[32m [repeated 2x across cluster]\u001b[0m\n"
     ]
    },
    {
     "name": "stdout",
     "output_type": "stream",
     "text": [
      "\u001b[36m(ClientAppActor pid=45468)\u001b[0m [Client 1] evaluate, config: {}\n"
     ]
    },
    {
     "name": "stderr",
     "output_type": "stream",
     "text": [
      "\u001b[92mINFO \u001b[0m:      aggregate_evaluate: received 6 results and 0 failures\n",
      "\u001b[92mINFO \u001b[0m:      \n",
      "\u001b[92mINFO \u001b[0m:      [ROUND 2]\n",
      "\u001b[92mINFO \u001b[0m:      configure_fit: strategy sampled 6 clients (out of 6)\n",
      "\u001b[36m(ClientAppActor pid=45467)\u001b[0m /Users/macbook/Desktop/L361/L361_Project/.conda/lib/python3.12/site-packages/datasets/utils/_dill.py:385: DeprecationWarning: co_lnotab is deprecated, use co_lines instead.\u001b[32m [repeated 6x across cluster]\u001b[0m\n",
      "\u001b[36m(ClientAppActor pid=45467)\u001b[0m   obj.co_lnotab,  # for < python 3.10 [not counted in args]\u001b[32m [repeated 6x across cluster]\u001b[0m\n"
     ]
    },
    {
     "name": "stdout",
     "output_type": "stream",
     "text": [
      "\u001b[36m(ClientAppActor pid=45467)\u001b[0m [Client 3] fit, config: {}\n",
      "\u001b[36m(ClientAppActor pid=45469)\u001b[0m [Client 3] evaluate, config: {}\u001b[32m [repeated 5x across cluster]\u001b[0m\n",
      "\u001b[36m(ClientAppActor pid=45467)\u001b[0m Started training moon\n",
      "\u001b[36m(ClientAppActor pid=45466)\u001b[0m Epoch: 0 Loss: 3.942939 Loss1: 2.087213 Loss2: 1.855726\n",
      "\u001b[36m(ClientAppActor pid=45468)\u001b[0m [Client 4] fit, config: {}\u001b[32m [repeated 5x across cluster]\u001b[0m\n",
      "\u001b[36m(ClientAppActor pid=45468)\u001b[0m Started training moon\u001b[32m [repeated 5x across cluster]\u001b[0m\n",
      "\u001b[36m(ClientAppActor pid=45468)\u001b[0m Epoch: 0 Loss: 3.963721 Loss1: 2.071215 Loss2: 1.892507\u001b[32m [repeated 4x across cluster]\u001b[0m\n",
      "\u001b[36m(ClientAppActor pid=45466)\u001b[0m Epoch: 1 Loss: 3.799952 Loss1: 1.977346 Loss2: 1.822605\u001b[32m [repeated 2x across cluster]\u001b[0m\n",
      "\u001b[36m(ClientAppActor pid=45471)\u001b[0m Epoch: 1 Loss: 3.764182 Loss1: 1.946377 Loss2: 1.817805\u001b[32m [repeated 4x across cluster]\u001b[0m\n",
      "\u001b[36m(ClientAppActor pid=45466)\u001b[0m Epoch: 2 Loss: 3.734694 Loss1: 1.910652 Loss2: 1.824041\u001b[32m [repeated 2x across cluster]\u001b[0m\n",
      "\u001b[36m(ClientAppActor pid=45470)\u001b[0m Epoch: 2 Loss: 3.876437 Loss1: 1.938344 Loss2: 1.938093\u001b[32m [repeated 2x across cluster]\u001b[0m\n",
      "\u001b[36m(ClientAppActor pid=45468)\u001b[0m Epoch: 2 Loss: 3.789921 Loss1: 1.922790 Loss2: 1.867131\u001b[32m [repeated 3x across cluster]\u001b[0m\n",
      "\u001b[36m(ClientAppActor pid=45466)\u001b[0m Epoch: 3 Loss: 3.667249 Loss1: 1.845253 Loss2: 1.821996\n",
      "\u001b[36m(ClientAppActor pid=45470)\u001b[0m Epoch: 3 Loss: 3.796095 Loss1: 1.855566 Loss2: 1.940530\n",
      "\u001b[36m(ClientAppActor pid=45471)\u001b[0m Epoch: 3 Loss: 3.566252 Loss1: 1.736926 Loss2: 1.829326\u001b[32m [repeated 3x across cluster]\u001b[0m\n",
      "\u001b[36m(ClientAppActor pid=45470)\u001b[0m Epoch: 4 Loss: 3.707741 Loss1: 1.767637 Loss2: 1.940105\u001b[32m [repeated 2x across cluster]\u001b[0m\n",
      "\u001b[36m(ClientAppActor pid=45471)\u001b[0m Epoch: 4 Loss: 3.328884 Loss1: 1.488604 Loss2: 1.840280\u001b[32m [repeated 4x across cluster]\u001b[0m\n",
      "\u001b[36m(ClientAppActor pid=45466)\u001b[0m Epoch: 5 Loss: 3.536263 Loss1: 1.715245 Loss2: 1.821018\u001b[32m [repeated 2x across cluster]\u001b[0m\n",
      "\u001b[36m(ClientAppActor pid=45468)\u001b[0m Epoch: 5 Loss: 3.627260 Loss1: 1.758886 Loss2: 1.868374\u001b[32m [repeated 4x across cluster]\u001b[0m\n",
      "\u001b[36m(ClientAppActor pid=45466)\u001b[0m Epoch: 6 Loss: 3.460822 Loss1: 1.633293 Loss2: 1.827529\u001b[32m [repeated 2x across cluster]\u001b[0m\n",
      "\u001b[36m(ClientAppActor pid=45468)\u001b[0m Epoch: 6 Loss: 3.523456 Loss1: 1.645224 Loss2: 1.878232\u001b[32m [repeated 3x across cluster]\u001b[0m\n",
      "\u001b[36m(ClientAppActor pid=45470)\u001b[0m Epoch: 7 Loss: 3.309584 Loss1: 1.361727 Loss2: 1.947857\u001b[32m [repeated 3x across cluster]\u001b[0m\n",
      "\u001b[36m(ClientAppActor pid=45467)\u001b[0m Epoch: 7 Loss: 3.564794 Loss1: 1.561373 Loss2: 2.003421\u001b[32m [repeated 4x across cluster]\u001b[0m\n"
     ]
    },
    {
     "name": "stderr",
     "output_type": "stream",
     "text": [
      "\u001b[92mINFO \u001b[0m:      aggregate_fit: received 6 results and 0 failures\n",
      "\u001b[92mINFO \u001b[0m:      fit progress: (2, 0.07730913140773774, {'accuracy': 0.1}, 2649.0813798339805)\n",
      "\u001b[92mINFO \u001b[0m:      configure_evaluate: strategy sampled 6 clients (out of 6)\n",
      "\u001b[36m(ClientAppActor pid=45466)\u001b[0m /Users/macbook/Desktop/L361/L361_Project/.conda/lib/python3.12/site-packages/datasets/utils/_dill.py:385: DeprecationWarning: co_lnotab is deprecated, use co_lines instead.\u001b[32m [repeated 6x across cluster]\u001b[0m\n",
      "\u001b[36m(ClientAppActor pid=45466)\u001b[0m   obj.co_lnotab,  # for < python 3.10 [not counted in args]\u001b[32m [repeated 6x across cluster]\u001b[0m\n"
     ]
    },
    {
     "name": "stdout",
     "output_type": "stream",
     "text": [
      "\u001b[36m(ClientAppActor pid=45467)\u001b[0m [Client 3] evaluate, config: {}\n",
      "\u001b[36m(ClientAppActor pid=45471)\u001b[0m Epoch: 7 Loss: 2.942292 Loss1: 1.114917 Loss2: 1.827375\n"
     ]
    },
    {
     "name": "stderr",
     "output_type": "stream",
     "text": [
      "\u001b[92mINFO \u001b[0m:      aggregate_evaluate: received 6 results and 0 failures\n",
      "\u001b[92mINFO \u001b[0m:      \n",
      "\u001b[92mINFO \u001b[0m:      [ROUND 3]\n",
      "\u001b[92mINFO \u001b[0m:      configure_fit: strategy sampled 6 clients (out of 6)\n",
      "\u001b[36m(ClientAppActor pid=45466)\u001b[0m /Users/macbook/Desktop/L361/L361_Project/.conda/lib/python3.12/site-packages/datasets/utils/_dill.py:385: DeprecationWarning: co_lnotab is deprecated, use co_lines instead.\u001b[32m [repeated 6x across cluster]\u001b[0m\n",
      "\u001b[36m(ClientAppActor pid=45466)\u001b[0m   obj.co_lnotab,  # for < python 3.10 [not counted in args]\u001b[32m [repeated 6x across cluster]\u001b[0m\n"
     ]
    },
    {
     "name": "stdout",
     "output_type": "stream",
     "text": [
      "\u001b[36m(ClientAppActor pid=45468)\u001b[0m [Client 0] fit, config: {}\n",
      "\u001b[36m(ClientAppActor pid=45470)\u001b[0m [Client 1] evaluate, config: {}\u001b[32m [repeated 5x across cluster]\u001b[0m\n",
      "\u001b[36m(ClientAppActor pid=45466)\u001b[0m Started training moon\n",
      "\u001b[36m(ClientAppActor pid=45467)\u001b[0m Epoch: 0 Loss: 3.060018 Loss1: 1.929164 Loss2: 1.130854\n",
      "\u001b[36m(ClientAppActor pid=45467)\u001b[0m [Client 1] fit, config: {}\u001b[32m [repeated 5x across cluster]\u001b[0m\n",
      "\u001b[36m(ClientAppActor pid=45467)\u001b[0m Started training moon\u001b[32m [repeated 5x across cluster]\u001b[0m\n",
      "\u001b[36m(ClientAppActor pid=45466)\u001b[0m Epoch: 0 Loss: 3.011865 Loss1: 1.934497 Loss2: 1.077368\u001b[32m [repeated 2x across cluster]\u001b[0m\n",
      "\u001b[36m(ClientAppActor pid=45467)\u001b[0m Epoch: 1 Loss: 2.790263 Loss1: 1.666362 Loss2: 1.123901\u001b[32m [repeated 4x across cluster]\u001b[0m\n",
      "\u001b[36m(ClientAppActor pid=45469)\u001b[0m Epoch: 1 Loss: 3.329321 Loss1: 2.308663 Loss2: 1.020658\u001b[32m [repeated 3x across cluster]\u001b[0m\n",
      "\u001b[36m(ClientAppActor pid=45471)\u001b[0m Epoch: 1 Loss: 3.158053 Loss1: 2.247991 Loss2: 0.910062\u001b[32m [repeated 2x across cluster]\u001b[0m\n",
      "\u001b[36m(ClientAppActor pid=45468)\u001b[0m Epoch: 2 Loss: 2.565700 Loss1: 1.513399 Loss2: 1.052301\n",
      "\u001b[36m(ClientAppActor pid=45467)\u001b[0m Epoch: 2 Loss: 2.637966 Loss1: 1.517966 Loss2: 1.120001\n",
      "\u001b[36m(ClientAppActor pid=45470)\u001b[0m Epoch: 2 Loss: 2.882917 Loss1: 1.590007 Loss2: 1.292910\u001b[32m [repeated 2x across cluster]\u001b[0m\n",
      "\u001b[36m(ClientAppActor pid=45471)\u001b[0m Epoch: 2 Loss: 2.851425 Loss1: 1.948056 Loss2: 0.903369\u001b[32m [repeated 2x across cluster]\u001b[0m\n",
      "\u001b[36m(ClientAppActor pid=45468)\u001b[0m Epoch: 3 Loss: 2.379810 Loss1: 1.330325 Loss2: 1.049485\n",
      "\u001b[36m(ClientAppActor pid=45467)\u001b[0m Epoch: 3 Loss: 2.466915 Loss1: 1.348682 Loss2: 1.118233\n",
      "\u001b[36m(ClientAppActor pid=45466)\u001b[0m Epoch: 3 Loss: 2.475318 Loss1: 1.400703 Loss2: 1.074615\n",
      "\u001b[36m(ClientAppActor pid=45470)\u001b[0m Epoch: 3 Loss: 2.739174 Loss1: 1.447447 Loss2: 1.291727\n",
      "\u001b[36m(ClientAppActor pid=45471)\u001b[0m Epoch: 3 Loss: 2.782536 Loss1: 1.879676 Loss2: 0.902859\u001b[32m [repeated 2x across cluster]\u001b[0m\n",
      "\u001b[36m(ClientAppActor pid=45468)\u001b[0m Epoch: 4 Loss: 2.233922 Loss1: 1.186864 Loss2: 1.047058\n",
      "\u001b[36m(ClientAppActor pid=45467)\u001b[0m Epoch: 4 Loss: 2.333407 Loss1: 1.218375 Loss2: 1.115032\n",
      "\u001b[36m(ClientAppActor pid=45466)\u001b[0m Epoch: 4 Loss: 2.312306 Loss1: 1.239400 Loss2: 1.072906\n",
      "\u001b[36m(ClientAppActor pid=45470)\u001b[0m Epoch: 4 Loss: 2.578054 Loss1: 1.287953 Loss2: 1.290101\n",
      "\u001b[36m(ClientAppActor pid=45471)\u001b[0m Epoch: 4 Loss: 2.740215 Loss1: 1.836898 Loss2: 0.903317\u001b[32m [repeated 2x across cluster]\u001b[0m\n",
      "\u001b[36m(ClientAppActor pid=45467)\u001b[0m Epoch: 5 Loss: 2.235927 Loss1: 1.122090 Loss2: 1.113836\n",
      "\u001b[36m(ClientAppActor pid=45468)\u001b[0m Epoch: 5 Loss: 2.147781 Loss1: 1.099759 Loss2: 1.048022\n",
      "\u001b[36m(ClientAppActor pid=45470)\u001b[0m Epoch: 5 Loss: 2.411033 Loss1: 1.124775 Loss2: 1.286258\n",
      "\u001b[36m(ClientAppActor pid=45466)\u001b[0m Epoch: 5 Loss: 2.201693 Loss1: 1.129892 Loss2: 1.071800\n",
      "\u001b[36m(ClientAppActor pid=45471)\u001b[0m Epoch: 5 Loss: 2.673152 Loss1: 1.765720 Loss2: 0.907432\u001b[32m [repeated 2x across cluster]\u001b[0m\n",
      "\u001b[36m(ClientAppActor pid=45467)\u001b[0m Epoch: 6 Loss: 2.109439 Loss1: 0.995788 Loss2: 1.113651\n",
      "\u001b[36m(ClientAppActor pid=45468)\u001b[0m Epoch: 6 Loss: 2.033485 Loss1: 0.988282 Loss2: 1.045203\n",
      "\u001b[36m(ClientAppActor pid=45466)\u001b[0m Epoch: 6 Loss: 2.090612 Loss1: 1.019867 Loss2: 1.070745\n",
      "\u001b[36m(ClientAppActor pid=45470)\u001b[0m Epoch: 6 Loss: 2.301102 Loss1: 1.016775 Loss2: 1.284327\n",
      "\u001b[36m(ClientAppActor pid=45471)\u001b[0m Epoch: 6 Loss: 2.567638 Loss1: 1.657056 Loss2: 0.910582\u001b[32m [repeated 2x across cluster]\u001b[0m\n",
      "\u001b[36m(ClientAppActor pid=45467)\u001b[0m Epoch: 7 Loss: 2.017025 Loss1: 0.903769 Loss2: 1.113255\n",
      "\u001b[36m(ClientAppActor pid=45468)\u001b[0m Epoch: 7 Loss: 1.932177 Loss1: 0.887577 Loss2: 1.044600\n",
      "\u001b[36m(ClientAppActor pid=45466)\u001b[0m Epoch: 7 Loss: 1.989684 Loss1: 0.919319 Loss2: 1.070365\n",
      "\u001b[36m(ClientAppActor pid=45470)\u001b[0m Epoch: 7 Loss: 2.186301 Loss1: 0.901531 Loss2: 1.284770\n"
     ]
    },
    {
     "name": "stderr",
     "output_type": "stream",
     "text": [
      "\u001b[92mINFO \u001b[0m:      aggregate_fit: received 6 results and 0 failures\n"
     ]
    },
    {
     "name": "stdout",
     "output_type": "stream",
     "text": [
      "\u001b[36m(ClientAppActor pid=45471)\u001b[0m Epoch: 7 Loss: 2.477516 Loss1: 1.566228 Loss2: 0.911288\u001b[32m [repeated 2x across cluster]\u001b[0m\n"
     ]
    },
    {
     "name": "stderr",
     "output_type": "stream",
     "text": [
      "\u001b[92mINFO \u001b[0m:      fit progress: (3, 0.07282193565368653, {'accuracy': 0.1343}, 3988.2144812919432)\n",
      "\u001b[92mINFO \u001b[0m:      configure_evaluate: strategy sampled 6 clients (out of 6)\n",
      "\u001b[36m(ClientAppActor pid=45467)\u001b[0m /Users/macbook/Desktop/L361/L361_Project/.conda/lib/python3.12/site-packages/datasets/utils/_dill.py:385: DeprecationWarning: co_lnotab is deprecated, use co_lines instead.\u001b[32m [repeated 6x across cluster]\u001b[0m\n",
      "\u001b[36m(ClientAppActor pid=45467)\u001b[0m   obj.co_lnotab,  # for < python 3.10 [not counted in args]\u001b[32m [repeated 6x across cluster]\u001b[0m\n"
     ]
    },
    {
     "name": "stdout",
     "output_type": "stream",
     "text": [
      "\u001b[36m(ClientAppActor pid=45467)\u001b[0m [Client 2] evaluate, config: {}\n"
     ]
    },
    {
     "name": "stderr",
     "output_type": "stream",
     "text": [
      "\u001b[92mINFO \u001b[0m:      aggregate_evaluate: received 6 results and 0 failures\n",
      "\u001b[92mINFO \u001b[0m:      \n",
      "\u001b[92mINFO \u001b[0m:      [ROUND 4]\n",
      "\u001b[92mINFO \u001b[0m:      configure_fit: strategy sampled 6 clients (out of 6)\n",
      "\u001b[36m(ClientAppActor pid=45467)\u001b[0m /Users/macbook/Desktop/L361/L361_Project/.conda/lib/python3.12/site-packages/datasets/utils/_dill.py:385: DeprecationWarning: co_lnotab is deprecated, use co_lines instead.\u001b[32m [repeated 6x across cluster]\u001b[0m\n",
      "\u001b[36m(ClientAppActor pid=45467)\u001b[0m   obj.co_lnotab,  # for < python 3.10 [not counted in args]\u001b[32m [repeated 6x across cluster]\u001b[0m\n"
     ]
    },
    {
     "name": "stdout",
     "output_type": "stream",
     "text": [
      "\u001b[36m(ClientAppActor pid=45467)\u001b[0m [Client 0] fit, config: {}\n",
      "\u001b[36m(ClientAppActor pid=45466)\u001b[0m [Client 4] evaluate, config: {}\u001b[32m [repeated 5x across cluster]\u001b[0m\n",
      "\u001b[36m(ClientAppActor pid=45467)\u001b[0m Started training moon\n",
      "\u001b[36m(ClientAppActor pid=45468)\u001b[0m Epoch: 0 Loss: 2.922895 Loss1: 1.423608 Loss2: 1.499287\n",
      "\u001b[36m(ClientAppActor pid=45469)\u001b[0m [Client 2] fit, config: {}\u001b[32m [repeated 5x across cluster]\u001b[0m\n",
      "\u001b[36m(ClientAppActor pid=45469)\u001b[0m Started training moon\u001b[32m [repeated 5x across cluster]\u001b[0m\n",
      "\u001b[36m(ClientAppActor pid=45466)\u001b[0m Epoch: 0 Loss: 2.934607 Loss1: 1.418556 Loss2: 1.516051\u001b[32m [repeated 3x across cluster]\u001b[0m\n",
      "\u001b[36m(ClientAppActor pid=45468)\u001b[0m Epoch: 1 Loss: 2.600131 Loss1: 1.168912 Loss2: 1.431218\u001b[32m [repeated 3x across cluster]\u001b[0m\n",
      "\u001b[36m(ClientAppActor pid=45471)\u001b[0m Epoch: 1 Loss: 3.163261 Loss1: 1.158696 Loss2: 2.004566\u001b[32m [repeated 3x across cluster]\u001b[0m\n",
      "\u001b[36m(ClientAppActor pid=45468)\u001b[0m Epoch: 2 Loss: 2.464238 Loss1: 1.040198 Loss2: 1.424040\u001b[32m [repeated 3x across cluster]\u001b[0m\n",
      "\u001b[36m(ClientAppActor pid=45466)\u001b[0m Epoch: 2 Loss: 2.477473 Loss1: 1.033774 Loss2: 1.443700\u001b[32m [repeated 3x across cluster]\u001b[0m\n",
      "\u001b[36m(ClientAppActor pid=45468)\u001b[0m Epoch: 3 Loss: 2.319142 Loss1: 0.899726 Loss2: 1.419415\u001b[32m [repeated 3x across cluster]\u001b[0m\n",
      "\u001b[36m(ClientAppActor pid=45466)\u001b[0m Epoch: 3 Loss: 2.369166 Loss1: 0.928594 Loss2: 1.440572\u001b[32m [repeated 3x across cluster]\u001b[0m\n",
      "\u001b[36m(ClientAppActor pid=45469)\u001b[0m Epoch: 3 Loss: 2.259620 Loss1: 0.904997 Loss2: 1.354623\n",
      "\u001b[36m(ClientAppActor pid=45471)\u001b[0m Epoch: 3 Loss: 2.897395 Loss1: 0.904681 Loss2: 1.992714\n",
      "\u001b[36m(ClientAppActor pid=45468)\u001b[0m Epoch: 4 Loss: 2.217745 Loss1: 0.800244 Loss2: 1.417502\n",
      "\u001b[36m(ClientAppActor pid=45470)\u001b[0m Epoch: 4 Loss: 2.276364 Loss1: 0.805497 Loss2: 1.470867\n",
      "\u001b[36m(ClientAppActor pid=45466)\u001b[0m Epoch: 4 Loss: 2.257578 Loss1: 0.817439 Loss2: 1.440138\u001b[32m [repeated 2x across cluster]\u001b[0m\n",
      "\u001b[36m(ClientAppActor pid=45471)\u001b[0m Epoch: 4 Loss: 2.812402 Loss1: 0.821644 Loss2: 1.990758\u001b[32m [repeated 2x across cluster]\u001b[0m\n",
      "\u001b[36m(ClientAppActor pid=45468)\u001b[0m Epoch: 5 Loss: 2.096575 Loss1: 0.679884 Loss2: 1.416691\n",
      "\u001b[36m(ClientAppActor pid=45470)\u001b[0m Epoch: 5 Loss: 2.174631 Loss1: 0.702541 Loss2: 1.472090\n",
      "\u001b[36m(ClientAppActor pid=45466)\u001b[0m Epoch: 5 Loss: 2.143053 Loss1: 0.703025 Loss2: 1.440029\u001b[32m [repeated 2x across cluster]\u001b[0m\n",
      "\u001b[36m(ClientAppActor pid=45471)\u001b[0m Epoch: 5 Loss: 2.678286 Loss1: 0.688996 Loss2: 1.989290\u001b[32m [repeated 2x across cluster]\u001b[0m\n",
      "\u001b[36m(ClientAppActor pid=45468)\u001b[0m Epoch: 6 Loss: 2.002454 Loss1: 0.586947 Loss2: 1.415507\n",
      "\u001b[36m(ClientAppActor pid=45470)\u001b[0m Epoch: 6 Loss: 2.069545 Loss1: 0.596384 Loss2: 1.473161\n",
      "\u001b[36m(ClientAppActor pid=45466)\u001b[0m Epoch: 6 Loss: 2.046405 Loss1: 0.607167 Loss2: 1.439238\u001b[32m [repeated 2x across cluster]\u001b[0m\n",
      "\u001b[36m(ClientAppActor pid=45471)\u001b[0m Epoch: 6 Loss: 2.588518 Loss1: 0.599270 Loss2: 1.989248\u001b[32m [repeated 2x across cluster]\u001b[0m\n",
      "\u001b[36m(ClientAppActor pid=45468)\u001b[0m Epoch: 7 Loss: 1.904322 Loss1: 0.488253 Loss2: 1.416069\n",
      "\u001b[36m(ClientAppActor pid=45470)\u001b[0m Epoch: 7 Loss: 1.972186 Loss1: 0.499264 Loss2: 1.472922\n",
      "\u001b[36m(ClientAppActor pid=45466)\u001b[0m Epoch: 7 Loss: 1.956370 Loss1: 0.518536 Loss2: 1.437834\u001b[32m [repeated 2x across cluster]\u001b[0m\n"
     ]
    },
    {
     "name": "stderr",
     "output_type": "stream",
     "text": [
      "\u001b[92mINFO \u001b[0m:      aggregate_fit: received 6 results and 0 failures\n"
     ]
    },
    {
     "name": "stdout",
     "output_type": "stream",
     "text": [
      "\u001b[36m(ClientAppActor pid=45471)\u001b[0m Epoch: 7 Loss: 2.497716 Loss1: 0.509029 Loss2: 1.988687\u001b[32m [repeated 2x across cluster]\u001b[0m\n"
     ]
    },
    {
     "name": "stderr",
     "output_type": "stream",
     "text": [
      "\u001b[92mINFO \u001b[0m:      fit progress: (4, 0.03584957995414734, {'accuracy': 0.6201}, 5273.8470346670365)\n",
      "\u001b[92mINFO \u001b[0m:      configure_evaluate: strategy sampled 6 clients (out of 6)\n",
      "\u001b[36m(ClientAppActor pid=45471)\u001b[0m /Users/macbook/Desktop/L361/L361_Project/.conda/lib/python3.12/site-packages/datasets/utils/_dill.py:385: DeprecationWarning: co_lnotab is deprecated, use co_lines instead.\u001b[32m [repeated 6x across cluster]\u001b[0m\n",
      "\u001b[36m(ClientAppActor pid=45471)\u001b[0m   obj.co_lnotab,  # for < python 3.10 [not counted in args]\u001b[32m [repeated 6x across cluster]\u001b[0m\n"
     ]
    },
    {
     "name": "stdout",
     "output_type": "stream",
     "text": [
      "\u001b[36m(ClientAppActor pid=45471)\u001b[0m [Client 2] evaluate, config: {}\n"
     ]
    },
    {
     "name": "stderr",
     "output_type": "stream",
     "text": [
      "\u001b[92mINFO \u001b[0m:      aggregate_evaluate: received 6 results and 0 failures\n",
      "\u001b[92mINFO \u001b[0m:      \n",
      "\u001b[92mINFO \u001b[0m:      [ROUND 5]\n",
      "\u001b[92mINFO \u001b[0m:      configure_fit: strategy sampled 6 clients (out of 6)\n"
     ]
    },
    {
     "name": "stdout",
     "output_type": "stream",
     "text": [
      "\u001b[36m(ClientAppActor pid=45471)\u001b[0m [Client 4] fit, config: {}\n",
      "\u001b[36m(ClientAppActor pid=45469)\u001b[0m [Client 0] evaluate, config: {}\u001b[32m [repeated 5x across cluster]\u001b[0m\n",
      "\u001b[36m(ClientAppActor pid=45471)\u001b[0m Started training moon\n"
     ]
    },
    {
     "name": "stderr",
     "output_type": "stream",
     "text": [
      "\u001b[36m(ClientAppActor pid=45471)\u001b[0m /Users/macbook/Desktop/L361/L361_Project/.conda/lib/python3.12/site-packages/datasets/utils/_dill.py:385: DeprecationWarning: co_lnotab is deprecated, use co_lines instead.\u001b[32m [repeated 6x across cluster]\u001b[0m\n",
      "\u001b[36m(ClientAppActor pid=45471)\u001b[0m   obj.co_lnotab,  # for < python 3.10 [not counted in args]\u001b[32m [repeated 6x across cluster]\u001b[0m\n"
     ]
    },
    {
     "name": "stdout",
     "output_type": "stream",
     "text": [
      "\u001b[36m(ClientAppActor pid=45470)\u001b[0m Epoch: 0 Loss: 2.123216 Loss1: 0.965266 Loss2: 1.157950\n",
      "\u001b[36m(ClientAppActor pid=45470)\u001b[0m [Client 2] fit, config: {}\u001b[32m [repeated 5x across cluster]\u001b[0m\n",
      "\u001b[36m(ClientAppActor pid=45470)\u001b[0m Started training moon\u001b[32m [repeated 5x across cluster]\u001b[0m\n",
      "\u001b[36m(ClientAppActor pid=45471)\u001b[0m Epoch: 0 Loss: 2.128596 Loss1: 0.960152 Loss2: 1.168444\u001b[32m [repeated 5x across cluster]\u001b[0m\n",
      "\u001b[36m(ClientAppActor pid=45470)\u001b[0m Epoch: 1 Loss: 1.906143 Loss1: 0.784494 Loss2: 1.121649\n",
      "\u001b[36m(ClientAppActor pid=45468)\u001b[0m Epoch: 1 Loss: 1.955894 Loss1: 0.816300 Loss2: 1.139594\n",
      "\u001b[36m(ClientAppActor pid=45471)\u001b[0m Epoch: 1 Loss: 1.903917 Loss1: 0.777967 Loss2: 1.125950\u001b[32m [repeated 4x across cluster]\u001b[0m\n",
      "\u001b[36m(ClientAppActor pid=45470)\u001b[0m Epoch: 2 Loss: 1.784440 Loss1: 0.659636 Loss2: 1.124803\n",
      "\u001b[36m(ClientAppActor pid=45468)\u001b[0m Epoch: 2 Loss: 1.799872 Loss1: 0.660265 Loss2: 1.139608\n",
      "\u001b[36m(ClientAppActor pid=45471)\u001b[0m Epoch: 2 Loss: 1.774683 Loss1: 0.646289 Loss2: 1.128394\u001b[32m [repeated 4x across cluster]\u001b[0m\n",
      "\u001b[36m(ClientAppActor pid=45470)\u001b[0m Epoch: 3 Loss: 1.648581 Loss1: 0.520711 Loss2: 1.127870\n",
      "\u001b[36m(ClientAppActor pid=45468)\u001b[0m Epoch: 3 Loss: 1.684628 Loss1: 0.544022 Loss2: 1.140606\n",
      "\u001b[36m(ClientAppActor pid=45469)\u001b[0m Epoch: 3 Loss: 1.615273 Loss1: 0.525977 Loss2: 1.089295\u001b[32m [repeated 3x across cluster]\u001b[0m\n",
      "\u001b[36m(ClientAppActor pid=45470)\u001b[0m Epoch: 4 Loss: 1.541330 Loss1: 0.410446 Loss2: 1.130884\u001b[32m [repeated 2x across cluster]\u001b[0m\n",
      "\u001b[36m(ClientAppActor pid=45467)\u001b[0m Epoch: 4 Loss: 1.453208 Loss1: 0.439489 Loss2: 1.013719\u001b[32m [repeated 2x across cluster]\u001b[0m\n",
      "\u001b[36m(ClientAppActor pid=45466)\u001b[0m Epoch: 4 Loss: 1.425368 Loss1: 0.423162 Loss2: 1.002206\u001b[32m [repeated 2x across cluster]\u001b[0m\n",
      "\u001b[36m(ClientAppActor pid=45470)\u001b[0m Epoch: 5 Loss: 1.482367 Loss1: 0.348706 Loss2: 1.133661\u001b[32m [repeated 2x across cluster]\u001b[0m\n",
      "\u001b[36m(ClientAppActor pid=45467)\u001b[0m Epoch: 5 Loss: 1.340317 Loss1: 0.324701 Loss2: 1.015616\u001b[32m [repeated 2x across cluster]\u001b[0m\n",
      "\u001b[36m(ClientAppActor pid=45470)\u001b[0m Epoch: 6 Loss: 1.394328 Loss1: 0.260533 Loss2: 1.133795\u001b[32m [repeated 4x across cluster]\u001b[0m\n",
      "\u001b[36m(ClientAppActor pid=45467)\u001b[0m Epoch: 6 Loss: 1.277245 Loss1: 0.260356 Loss2: 1.016889\u001b[32m [repeated 2x across cluster]\u001b[0m\n",
      "\u001b[36m(ClientAppActor pid=45470)\u001b[0m Epoch: 7 Loss: 1.359109 Loss1: 0.223944 Loss2: 1.135165\u001b[32m [repeated 4x across cluster]\u001b[0m\n",
      "\u001b[36m(ClientAppActor pid=45467)\u001b[0m Epoch: 7 Loss: 1.236362 Loss1: 0.218049 Loss2: 1.018313\u001b[32m [repeated 2x across cluster]\u001b[0m\n"
     ]
    },
    {
     "name": "stderr",
     "output_type": "stream",
     "text": [
      "\u001b[92mINFO \u001b[0m:      aggregate_fit: received 6 results and 0 failures\n"
     ]
    },
    {
     "name": "stdout",
     "output_type": "stream",
     "text": [
      "\u001b[36m(ClientAppActor pid=45466)\u001b[0m Epoch: 7 Loss: 1.232806 Loss1: 0.226230 Loss2: 1.006576\u001b[32m [repeated 3x across cluster]\u001b[0m\n"
     ]
    },
    {
     "name": "stderr",
     "output_type": "stream",
     "text": [
      "\u001b[92mINFO \u001b[0m:      fit progress: (5, 0.03391984842121601, {'accuracy': 0.6943}, 6534.5600212089485)\n",
      "\u001b[92mINFO \u001b[0m:      configure_evaluate: strategy sampled 6 clients (out of 6)\n",
      "\u001b[36m(ClientAppActor pid=45467)\u001b[0m /Users/macbook/Desktop/L361/L361_Project/.conda/lib/python3.12/site-packages/datasets/utils/_dill.py:385: DeprecationWarning: co_lnotab is deprecated, use co_lines instead.\u001b[32m [repeated 6x across cluster]\u001b[0m\n",
      "\u001b[36m(ClientAppActor pid=45467)\u001b[0m   obj.co_lnotab,  # for < python 3.10 [not counted in args]\u001b[32m [repeated 6x across cluster]\u001b[0m\n"
     ]
    },
    {
     "name": "stdout",
     "output_type": "stream",
     "text": [
      "\u001b[36m(ClientAppActor pid=45467)\u001b[0m [Client 5] evaluate, config: {}\n"
     ]
    },
    {
     "name": "stderr",
     "output_type": "stream",
     "text": [
      "\u001b[92mINFO \u001b[0m:      aggregate_evaluate: received 6 results and 0 failures\n",
      "\u001b[92mINFO \u001b[0m:      \n",
      "\u001b[92mINFO \u001b[0m:      [ROUND 6]\n",
      "\u001b[92mINFO \u001b[0m:      configure_fit: strategy sampled 6 clients (out of 6)\n"
     ]
    },
    {
     "name": "stdout",
     "output_type": "stream",
     "text": [
      "\u001b[36m(ClientAppActor pid=45470)\u001b[0m [Client 3] fit, config: {}\n",
      "\u001b[36m(ClientAppActor pid=45471)\u001b[0m [Client 2] evaluate, config: {}\u001b[32m [repeated 5x across cluster]\u001b[0m\n",
      "\u001b[36m(ClientAppActor pid=45470)\u001b[0m Started training moon\n"
     ]
    },
    {
     "name": "stderr",
     "output_type": "stream",
     "text": [
      "\u001b[36m(ClientAppActor pid=45470)\u001b[0m /Users/macbook/Desktop/L361/L361_Project/.conda/lib/python3.12/site-packages/datasets/utils/_dill.py:385: DeprecationWarning: co_lnotab is deprecated, use co_lines instead.\u001b[32m [repeated 6x across cluster]\u001b[0m\n",
      "\u001b[36m(ClientAppActor pid=45470)\u001b[0m   obj.co_lnotab,  # for < python 3.10 [not counted in args]\u001b[32m [repeated 6x across cluster]\u001b[0m\n"
     ]
    },
    {
     "name": "stdout",
     "output_type": "stream",
     "text": [
      "\u001b[36m(ClientAppActor pid=45469)\u001b[0m Epoch: 0 Loss: 2.335028 Loss1: 0.774142 Loss2: 1.560887\n",
      "\u001b[36m(ClientAppActor pid=45468)\u001b[0m [Client 2] fit, config: {}\u001b[32m [repeated 5x across cluster]\u001b[0m\n",
      "\u001b[36m(ClientAppActor pid=45468)\u001b[0m Started training moon\u001b[32m [repeated 5x across cluster]\u001b[0m\n",
      "\u001b[36m(ClientAppActor pid=45469)\u001b[0m Epoch: 1 Loss: 1.998586 Loss1: 0.548242 Loss2: 1.450343\u001b[32m [repeated 6x across cluster]\u001b[0m\n",
      "\u001b[36m(ClientAppActor pid=45467)\u001b[0m Epoch: 1 Loss: 2.091442 Loss1: 0.553155 Loss2: 1.538287\u001b[32m [repeated 3x across cluster]\u001b[0m\n",
      "\u001b[36m(ClientAppActor pid=45469)\u001b[0m Epoch: 2 Loss: 1.841643 Loss1: 0.389405 Loss2: 1.452238\u001b[32m [repeated 3x across cluster]\u001b[0m\n",
      "\u001b[36m(ClientAppActor pid=45470)\u001b[0m Epoch: 2 Loss: 1.857097 Loss1: 0.419297 Loss2: 1.437801\u001b[32m [repeated 3x across cluster]\u001b[0m\n",
      "\u001b[36m(ClientAppActor pid=45468)\u001b[0m Epoch: 3 Loss: 1.705577 Loss1: 0.306846 Loss2: 1.398731\u001b[32m [repeated 3x across cluster]\u001b[0m\n",
      "\u001b[36m(ClientAppActor pid=45467)\u001b[0m Epoch: 3 Loss: 1.831034 Loss1: 0.283852 Loss2: 1.547182\u001b[32m [repeated 3x across cluster]\u001b[0m\n",
      "\u001b[36m(ClientAppActor pid=45468)\u001b[0m Epoch: 4 Loss: 1.653127 Loss1: 0.253055 Loss2: 1.400072\u001b[32m [repeated 3x across cluster]\u001b[0m\n",
      "\u001b[36m(ClientAppActor pid=45467)\u001b[0m Epoch: 4 Loss: 1.782087 Loss1: 0.229523 Loss2: 1.552565\u001b[32m [repeated 3x across cluster]\u001b[0m\n",
      "\u001b[36m(ClientAppActor pid=45469)\u001b[0m Epoch: 5 Loss: 1.652514 Loss1: 0.191991 Loss2: 1.460523\u001b[32m [repeated 3x across cluster]\u001b[0m\n",
      "\u001b[36m(ClientAppActor pid=45467)\u001b[0m Epoch: 5 Loss: 1.739824 Loss1: 0.185890 Loss2: 1.553934\u001b[32m [repeated 3x across cluster]\u001b[0m\n",
      "\u001b[36m(ClientAppActor pid=45471)\u001b[0m Epoch: 6 Loss: 1.497859 Loss1: 0.141944 Loss2: 1.355914\u001b[32m [repeated 3x across cluster]\u001b[0m\n",
      "\u001b[36m(ClientAppActor pid=45467)\u001b[0m Epoch: 6 Loss: 1.723638 Loss1: 0.168748 Loss2: 1.554890\u001b[32m [repeated 3x across cluster]\u001b[0m\n",
      "\u001b[36m(ClientAppActor pid=45471)\u001b[0m Epoch: 7 Loss: 1.479013 Loss1: 0.123139 Loss2: 1.355874\u001b[32m [repeated 3x across cluster]\u001b[0m\n",
      "\u001b[36m(ClientAppActor pid=45467)\u001b[0m Epoch: 7 Loss: 1.695539 Loss1: 0.139246 Loss2: 1.556293\u001b[32m [repeated 3x across cluster]\u001b[0m\n"
     ]
    },
    {
     "name": "stderr",
     "output_type": "stream",
     "text": [
      "\u001b[92mINFO \u001b[0m:      aggregate_fit: received 6 results and 0 failures\n"
     ]
    },
    {
     "name": "stdout",
     "output_type": "stream",
     "text": [
      "\u001b[36m(ClientAppActor pid=45470)\u001b[0m Epoch: 7 Loss: 1.577133 Loss1: 0.129974 Loss2: 1.447159\u001b[32m [repeated 2x across cluster]\u001b[0m\n"
     ]
    },
    {
     "name": "stderr",
     "output_type": "stream",
     "text": [
      "\u001b[92mINFO \u001b[0m:      fit progress: (6, 0.03284733788967133, {'accuracy': 0.7219}, 7832.837011166965)\n",
      "\u001b[92mINFO \u001b[0m:      configure_evaluate: strategy sampled 6 clients (out of 6)\n",
      "\u001b[36m(ClientAppActor pid=45469)\u001b[0m /Users/macbook/Desktop/L361/L361_Project/.conda/lib/python3.12/site-packages/datasets/utils/_dill.py:385: DeprecationWarning: co_lnotab is deprecated, use co_lines instead.\u001b[32m [repeated 6x across cluster]\u001b[0m\n",
      "\u001b[36m(ClientAppActor pid=45469)\u001b[0m   obj.co_lnotab,  # for < python 3.10 [not counted in args]\u001b[32m [repeated 6x across cluster]\u001b[0m\n"
     ]
    },
    {
     "name": "stdout",
     "output_type": "stream",
     "text": [
      "\u001b[36m(ClientAppActor pid=45469)\u001b[0m [Client 5] evaluate, config: {}\n"
     ]
    },
    {
     "name": "stderr",
     "output_type": "stream",
     "text": [
      "\u001b[92mINFO \u001b[0m:      aggregate_evaluate: received 6 results and 0 failures\n",
      "\u001b[92mINFO \u001b[0m:      \n",
      "\u001b[92mINFO \u001b[0m:      [ROUND 7]\n",
      "\u001b[92mINFO \u001b[0m:      configure_fit: strategy sampled 6 clients (out of 6)\n",
      "\u001b[36m(ClientAppActor pid=45468)\u001b[0m /Users/macbook/Desktop/L361/L361_Project/.conda/lib/python3.12/site-packages/datasets/utils/_dill.py:385: DeprecationWarning: co_lnotab is deprecated, use co_lines instead.\u001b[32m [repeated 6x across cluster]\u001b[0m\n",
      "\u001b[36m(ClientAppActor pid=45468)\u001b[0m   obj.co_lnotab,  # for < python 3.10 [not counted in args]\u001b[32m [repeated 6x across cluster]\u001b[0m\n"
     ]
    },
    {
     "name": "stdout",
     "output_type": "stream",
     "text": [
      "\u001b[36m(ClientAppActor pid=45468)\u001b[0m [Client 0] fit, config: {}\n",
      "\u001b[36m(ClientAppActor pid=45468)\u001b[0m Started training moon\n",
      "\u001b[36m(ClientAppActor pid=45466)\u001b[0m [Client 2] evaluate, config: {}\u001b[32m [repeated 5x across cluster]\u001b[0m\n",
      "\u001b[36m(ClientAppActor pid=45468)\u001b[0m Epoch: 0 Loss: 1.737495 Loss1: 0.649200 Loss2: 1.088294\n",
      "\u001b[36m(ClientAppActor pid=45469)\u001b[0m [Client 3] fit, config: {}\u001b[32m [repeated 5x across cluster]\u001b[0m\n",
      "\u001b[36m(ClientAppActor pid=45469)\u001b[0m Started training moon\u001b[32m [repeated 5x across cluster]\u001b[0m\n",
      "\u001b[36m(ClientAppActor pid=45470)\u001b[0m Epoch: 0 Loss: 1.745849 Loss1: 0.634911 Loss2: 1.110938\u001b[32m [repeated 5x across cluster]\u001b[0m\n",
      "\u001b[36m(ClientAppActor pid=45468)\u001b[0m Epoch: 1 Loss: 1.435565 Loss1: 0.390517 Loss2: 1.045048\n",
      "\u001b[36m(ClientAppActor pid=45467)\u001b[0m Epoch: 1 Loss: 1.485372 Loss1: 0.357650 Loss2: 1.127722\n",
      "\u001b[36m(ClientAppActor pid=45468)\u001b[0m Epoch: 2 Loss: 1.309906 Loss1: 0.257959 Loss2: 1.051947\u001b[32m [repeated 5x across cluster]\u001b[0m\n",
      "\u001b[36m(ClientAppActor pid=45466)\u001b[0m Epoch: 2 Loss: 1.307764 Loss1: 0.248369 Loss2: 1.059396\u001b[32m [repeated 2x across cluster]\u001b[0m\n",
      "\u001b[36m(ClientAppActor pid=45468)\u001b[0m Epoch: 3 Loss: 1.258818 Loss1: 0.201308 Loss2: 1.057510\u001b[32m [repeated 4x across cluster]\u001b[0m\n",
      "\u001b[36m(ClientAppActor pid=45471)\u001b[0m Epoch: 3 Loss: 1.271145 Loss1: 0.182136 Loss2: 1.089009\u001b[32m [repeated 4x across cluster]\u001b[0m\n",
      "\u001b[36m(ClientAppActor pid=45468)\u001b[0m Epoch: 4 Loss: 1.219014 Loss1: 0.158271 Loss2: 1.060743\u001b[32m [repeated 2x across cluster]\u001b[0m\n",
      "\u001b[36m(ClientAppActor pid=45467)\u001b[0m Epoch: 4 Loss: 1.294224 Loss1: 0.150649 Loss2: 1.143575\u001b[32m [repeated 4x across cluster]\u001b[0m\n",
      "\u001b[36m(ClientAppActor pid=45468)\u001b[0m Epoch: 5 Loss: 1.195551 Loss1: 0.135041 Loss2: 1.060510\u001b[32m [repeated 2x across cluster]\u001b[0m\n",
      "\u001b[36m(ClientAppActor pid=45470)\u001b[0m Epoch: 5 Loss: 1.193754 Loss1: 0.104376 Loss2: 1.089378\u001b[32m [repeated 4x across cluster]\u001b[0m\n",
      "\u001b[36m(ClientAppActor pid=45468)\u001b[0m Epoch: 6 Loss: 1.191999 Loss1: 0.128595 Loss2: 1.063404\u001b[32m [repeated 2x across cluster]\u001b[0m\n",
      "\u001b[36m(ClientAppActor pid=45470)\u001b[0m Epoch: 6 Loss: 1.214011 Loss1: 0.122579 Loss2: 1.091432\u001b[32m [repeated 3x across cluster]\u001b[0m\n",
      "\u001b[36m(ClientAppActor pid=45468)\u001b[0m Epoch: 7 Loss: 1.187745 Loss1: 0.122870 Loss2: 1.064875\u001b[32m [repeated 3x across cluster]\u001b[0m\n",
      "\u001b[36m(ClientAppActor pid=45467)\u001b[0m Epoch: 7 Loss: 1.258640 Loss1: 0.111087 Loss2: 1.147554\u001b[32m [repeated 2x across cluster]\u001b[0m\n",
      "\u001b[36m(ClientAppActor pid=45469)\u001b[0m Epoch: 7 Loss: 1.337817 Loss1: 0.120439 Loss2: 1.217377\u001b[32m [repeated 2x across cluster]\u001b[0m\n"
     ]
    },
    {
     "name": "stderr",
     "output_type": "stream",
     "text": [
      "\u001b[92mINFO \u001b[0m:      aggregate_fit: received 6 results and 0 failures\n",
      "\u001b[92mINFO \u001b[0m:      fit progress: (7, 0.0329809711009264, {'accuracy': 0.7293}, 9109.197952833958)\n",
      "\u001b[92mINFO \u001b[0m:      configure_evaluate: strategy sampled 6 clients (out of 6)\n",
      "\u001b[36m(ClientAppActor pid=45466)\u001b[0m /Users/macbook/Desktop/L361/L361_Project/.conda/lib/python3.12/site-packages/datasets/utils/_dill.py:385: DeprecationWarning: co_lnotab is deprecated, use co_lines instead.\u001b[32m [repeated 7x across cluster]\u001b[0m\n",
      "\u001b[36m(ClientAppActor pid=45466)\u001b[0m   obj.co_lnotab,  # for < python 3.10 [not counted in args]\u001b[32m [repeated 7x across cluster]\u001b[0m\n"
     ]
    },
    {
     "name": "stdout",
     "output_type": "stream",
     "text": [
      "\u001b[36m(ClientAppActor pid=45466)\u001b[0m [Client 5] evaluate, config: {}\n",
      "\u001b[36m(ClientAppActor pid=45470)\u001b[0m Epoch: 7 Loss: 1.240288 Loss1: 0.145061 Loss2: 1.095227\n"
     ]
    },
    {
     "name": "stderr",
     "output_type": "stream",
     "text": [
      "\u001b[92mINFO \u001b[0m:      aggregate_evaluate: received 6 results and 0 failures\n",
      "\u001b[92mINFO \u001b[0m:      \n",
      "\u001b[92mINFO \u001b[0m:      [ROUND 8]\n",
      "\u001b[92mINFO \u001b[0m:      configure_fit: strategy sampled 6 clients (out of 6)\n",
      "\u001b[36m(ClientAppActor pid=45466)\u001b[0m /Users/macbook/Desktop/L361/L361_Project/.conda/lib/python3.12/site-packages/datasets/utils/_dill.py:385: DeprecationWarning: co_lnotab is deprecated, use co_lines instead.\u001b[32m [repeated 6x across cluster]\u001b[0m\n",
      "\u001b[36m(ClientAppActor pid=45466)\u001b[0m   obj.co_lnotab,  # for < python 3.10 [not counted in args]\u001b[32m [repeated 6x across cluster]\u001b[0m\n"
     ]
    },
    {
     "name": "stdout",
     "output_type": "stream",
     "text": [
      "\u001b[36m(ClientAppActor pid=45471)\u001b[0m [Client 1] fit, config: {}\n",
      "\u001b[36m(ClientAppActor pid=45471)\u001b[0m Started training moon\n",
      "\u001b[36m(ClientAppActor pid=45470)\u001b[0m [Client 0] evaluate, config: {}\u001b[32m [repeated 5x across cluster]\u001b[0m\n",
      "\u001b[36m(ClientAppActor pid=45468)\u001b[0m Epoch: 0 Loss: 2.041221 Loss1: 0.515658 Loss2: 1.525563\n",
      "\u001b[36m(ClientAppActor pid=45469)\u001b[0m [Client 4] fit, config: {}\u001b[32m [repeated 5x across cluster]\u001b[0m\n",
      "\u001b[36m(ClientAppActor pid=45469)\u001b[0m Started training moon\u001b[32m [repeated 5x across cluster]\u001b[0m\n",
      "\u001b[36m(ClientAppActor pid=45470)\u001b[0m Epoch: 1 Loss: 1.737156 Loss1: 0.279899 Loss2: 1.457258\u001b[32m [repeated 6x across cluster]\u001b[0m\n",
      "\u001b[36m(ClientAppActor pid=45466)\u001b[0m Epoch: 1 Loss: 1.643942 Loss1: 0.249207 Loss2: 1.394735\u001b[32m [repeated 4x across cluster]\u001b[0m\n",
      "\u001b[36m(ClientAppActor pid=45468)\u001b[0m Epoch: 2 Loss: 1.642800 Loss1: 0.187572 Loss2: 1.455228\u001b[32m [repeated 2x across cluster]\u001b[0m\n",
      "\u001b[36m(ClientAppActor pid=45467)\u001b[0m Epoch: 2 Loss: 1.508297 Loss1: 0.154010 Loss2: 1.354287\u001b[32m [repeated 3x across cluster]\u001b[0m\n",
      "\u001b[36m(ClientAppActor pid=45470)\u001b[0m Epoch: 3 Loss: 1.599244 Loss1: 0.131146 Loss2: 1.468099\u001b[32m [repeated 3x across cluster]\u001b[0m\n",
      "\u001b[36m(ClientAppActor pid=45467)\u001b[0m Epoch: 3 Loss: 1.530333 Loss1: 0.170710 Loss2: 1.359623\u001b[32m [repeated 3x across cluster]\u001b[0m\n",
      "\u001b[36m(ClientAppActor pid=45470)\u001b[0m Epoch: 4 Loss: 1.588384 Loss1: 0.120185 Loss2: 1.468198\u001b[32m [repeated 3x across cluster]\u001b[0m\n",
      "\u001b[36m(ClientAppActor pid=45469)\u001b[0m Epoch: 4 Loss: 1.473184 Loss1: 0.120088 Loss2: 1.353097\u001b[32m [repeated 2x across cluster]\u001b[0m\n",
      "\u001b[36m(ClientAppActor pid=45470)\u001b[0m Epoch: 5 Loss: 1.613940 Loss1: 0.141750 Loss2: 1.472190\u001b[32m [repeated 4x across cluster]\u001b[0m\n",
      "\u001b[36m(ClientAppActor pid=45467)\u001b[0m Epoch: 5 Loss: 1.461154 Loss1: 0.102404 Loss2: 1.358749\u001b[32m [repeated 3x across cluster]\u001b[0m\n",
      "\u001b[36m(ClientAppActor pid=45470)\u001b[0m Epoch: 6 Loss: 1.536894 Loss1: 0.069000 Loss2: 1.467894\u001b[32m [repeated 3x across cluster]\u001b[0m\n",
      "\u001b[36m(ClientAppActor pid=45467)\u001b[0m Epoch: 6 Loss: 1.449832 Loss1: 0.092005 Loss2: 1.357827\u001b[32m [repeated 3x across cluster]\u001b[0m\n",
      "\u001b[36m(ClientAppActor pid=45466)\u001b[0m Epoch: 6 Loss: 1.512040 Loss1: 0.105982 Loss2: 1.406058\u001b[32m [repeated 2x across cluster]\u001b[0m\n",
      "\u001b[36m(ClientAppActor pid=45470)\u001b[0m Epoch: 7 Loss: 1.567483 Loss1: 0.095218 Loss2: 1.472265\n",
      "\u001b[36m(ClientAppActor pid=45469)\u001b[0m Epoch: 7 Loss: 1.428434 Loss1: 0.075535 Loss2: 1.352899\n",
      "\u001b[36m(ClientAppActor pid=45471)\u001b[0m Epoch: 7 Loss: 1.584000 Loss1: 0.085751 Loss2: 1.498249\u001b[32m [repeated 3x across cluster]\u001b[0m\n"
     ]
    },
    {
     "name": "stderr",
     "output_type": "stream",
     "text": [
      "\u001b[92mINFO \u001b[0m:      aggregate_fit: received 6 results and 0 failures\n"
     ]
    },
    {
     "name": "stdout",
     "output_type": "stream",
     "text": [
      "\u001b[36m(ClientAppActor pid=45466)\u001b[0m Epoch: 7 Loss: 1.449856 Loss1: 0.048592 Loss2: 1.401264\n"
     ]
    },
    {
     "name": "stderr",
     "output_type": "stream",
     "text": [
      "\u001b[92mINFO \u001b[0m:      fit progress: (8, 0.03079439553618431, {'accuracy': 0.7395}, 10405.710664249957)\n",
      "\u001b[92mINFO \u001b[0m:      configure_evaluate: strategy sampled 6 clients (out of 6)\n",
      "\u001b[36m(ClientAppActor pid=45466)\u001b[0m /Users/macbook/Desktop/L361/L361_Project/.conda/lib/python3.12/site-packages/datasets/utils/_dill.py:385: DeprecationWarning: co_lnotab is deprecated, use co_lines instead.\u001b[32m [repeated 6x across cluster]\u001b[0m\n",
      "\u001b[36m(ClientAppActor pid=45466)\u001b[0m   obj.co_lnotab,  # for < python 3.10 [not counted in args]\u001b[32m [repeated 6x across cluster]\u001b[0m\n"
     ]
    },
    {
     "name": "stdout",
     "output_type": "stream",
     "text": [
      "\u001b[36m(ClientAppActor pid=45466)\u001b[0m [Client 4] evaluate, config: {}\n"
     ]
    },
    {
     "name": "stderr",
     "output_type": "stream",
     "text": [
      "\u001b[36m(ClientAppActor pid=45467)\u001b[0m /Users/macbook/Desktop/L361/L361_Project/.conda/lib/python3.12/site-packages/datasets/utils/_dill.py:385: DeprecationWarning: co_lnotab is deprecated, use co_lines instead.\u001b[32m [repeated 5x across cluster]\u001b[0m\n",
      "\u001b[36m(ClientAppActor pid=45467)\u001b[0m   obj.co_lnotab,  # for < python 3.10 [not counted in args]\u001b[32m [repeated 5x across cluster]\u001b[0m\n"
     ]
    },
    {
     "name": "stdout",
     "output_type": "stream",
     "text": [
      "\u001b[36m(ClientAppActor pid=45467)\u001b[0m [Client 5] evaluate, config: {}\u001b[32m [repeated 5x across cluster]\u001b[0m\n"
     ]
    },
    {
     "name": "stderr",
     "output_type": "stream",
     "text": [
      "\u001b[92mINFO \u001b[0m:      aggregate_evaluate: received 6 results and 0 failures\n",
      "\u001b[92mINFO \u001b[0m:      \n",
      "\u001b[92mINFO \u001b[0m:      [ROUND 9]\n",
      "\u001b[92mINFO \u001b[0m:      configure_fit: strategy sampled 6 clients (out of 6)\n",
      "\u001b[36m(ClientAppActor pid=45471)\u001b[0m /Users/macbook/Desktop/L361/L361_Project/.conda/lib/python3.12/site-packages/datasets/utils/_dill.py:385: DeprecationWarning: co_lnotab is deprecated, use co_lines instead.\n",
      "\u001b[36m(ClientAppActor pid=45471)\u001b[0m   obj.co_lnotab,  # for < python 3.10 [not counted in args]\n",
      "\u001b[36m(ClientAppActor pid=45466)\u001b[0m /Users/macbook/Desktop/L361/L361_Project/.conda/lib/python3.12/site-packages/datasets/utils/_dill.py:385: DeprecationWarning: co_lnotab is deprecated, use co_lines instead.\n",
      "\u001b[36m(ClientAppActor pid=45466)\u001b[0m   obj.co_lnotab,  # for < python 3.10 [not counted in args]\n"
     ]
    },
    {
     "name": "stdout",
     "output_type": "stream",
     "text": [
      "\u001b[36m(ClientAppActor pid=45466)\u001b[0m [Client 2] fit, config: {}\n",
      "\u001b[36m(ClientAppActor pid=45466)\u001b[0m Started training moon\n",
      "\u001b[36m(ClientAppActor pid=45469)\u001b[0m Epoch: 0 Loss: 1.572337 Loss1: 0.448742 Loss2: 1.123594\n",
      "\u001b[36m(ClientAppActor pid=45467)\u001b[0m [Client 0] fit, config: {}\u001b[32m [repeated 5x across cluster]\u001b[0m\n",
      "\u001b[36m(ClientAppActor pid=45467)\u001b[0m Started training moon\u001b[32m [repeated 5x across cluster]\u001b[0m\n",
      "\u001b[36m(ClientAppActor pid=45467)\u001b[0m Epoch: 0 Loss: 1.542888 Loss1: 0.453357 Loss2: 1.089531\u001b[32m [repeated 3x across cluster]\u001b[0m\n",
      "\u001b[36m(ClientAppActor pid=45469)\u001b[0m Epoch: 1 Loss: 1.268780 Loss1: 0.165949 Loss2: 1.102831\u001b[32m [repeated 3x across cluster]\u001b[0m\n",
      "\u001b[36m(ClientAppActor pid=45470)\u001b[0m Epoch: 1 Loss: 1.333901 Loss1: 0.173159 Loss2: 1.160742\u001b[32m [repeated 3x across cluster]\u001b[0m\n",
      "\u001b[36m(ClientAppActor pid=45467)\u001b[0m Epoch: 1 Loss: 1.233111 Loss1: 0.171419 Loss2: 1.061693\n",
      "\u001b[36m(ClientAppActor pid=45471)\u001b[0m Epoch: 1 Loss: 1.413379 Loss1: 0.182850 Loss2: 1.230529\n",
      "\u001b[36m(ClientAppActor pid=45466)\u001b[0m Epoch: 2 Loss: 1.248064 Loss1: 0.139127 Loss2: 1.108937\n",
      "\u001b[36m(ClientAppActor pid=45469)\u001b[0m Epoch: 2 Loss: 1.211093 Loss1: 0.104757 Loss2: 1.106335\n",
      "\u001b[36m(ClientAppActor pid=45470)\u001b[0m Epoch: 2 Loss: 1.292590 Loss1: 0.128974 Loss2: 1.163616\u001b[32m [repeated 2x across cluster]\u001b[0m\n",
      "\u001b[36m(ClientAppActor pid=45471)\u001b[0m Epoch: 2 Loss: 1.325847 Loss1: 0.097020 Loss2: 1.228827\u001b[32m [repeated 2x across cluster]\u001b[0m\n",
      "\u001b[36m(ClientAppActor pid=45469)\u001b[0m Epoch: 3 Loss: 1.240174 Loss1: 0.126378 Loss2: 1.113796\n",
      "\u001b[36m(ClientAppActor pid=45466)\u001b[0m Epoch: 3 Loss: 1.212096 Loss1: 0.103976 Loss2: 1.108120\n",
      "\u001b[36m(ClientAppActor pid=45470)\u001b[0m Epoch: 3 Loss: 1.270234 Loss1: 0.102288 Loss2: 1.167946\u001b[32m [repeated 2x across cluster]\u001b[0m\n",
      "\u001b[36m(ClientAppActor pid=45467)\u001b[0m Epoch: 3 Loss: 1.157982 Loss1: 0.089042 Loss2: 1.068940\n",
      "\u001b[36m(ClientAppActor pid=45471)\u001b[0m Epoch: 3 Loss: 1.374892 Loss1: 0.138230 Loss2: 1.236661\n",
      "\u001b[36m(ClientAppActor pid=45469)\u001b[0m Epoch: 4 Loss: 1.206981 Loss1: 0.093700 Loss2: 1.113281\n",
      "\u001b[36m(ClientAppActor pid=45466)\u001b[0m Epoch: 4 Loss: 1.209195 Loss1: 0.096856 Loss2: 1.112339\n",
      "\u001b[36m(ClientAppActor pid=45470)\u001b[0m Epoch: 4 Loss: 1.243221 Loss1: 0.076076 Loss2: 1.167145\u001b[32m [repeated 2x across cluster]\u001b[0m\n",
      "\u001b[36m(ClientAppActor pid=45466)\u001b[0m Epoch: 5 Loss: 1.188715 Loss1: 0.076519 Loss2: 1.112196\u001b[32m [repeated 3x across cluster]\u001b[0m\n",
      "\u001b[36m(ClientAppActor pid=45470)\u001b[0m Epoch: 5 Loss: 1.275972 Loss1: 0.104787 Loss2: 1.171185\u001b[32m [repeated 3x across cluster]\u001b[0m\n",
      "\u001b[36m(ClientAppActor pid=45467)\u001b[0m Epoch: 5 Loss: 1.170053 Loss1: 0.093889 Loss2: 1.076164\u001b[32m [repeated 2x across cluster]\u001b[0m\n",
      "\u001b[36m(ClientAppActor pid=45466)\u001b[0m Epoch: 6 Loss: 1.216741 Loss1: 0.098352 Loss2: 1.118389\n",
      "\u001b[36m(ClientAppActor pid=45469)\u001b[0m Epoch: 6 Loss: 1.196910 Loss1: 0.080738 Loss2: 1.116172\n",
      "\u001b[36m(ClientAppActor pid=45468)\u001b[0m Epoch: 6 Loss: 1.180384 Loss1: 0.062354 Loss2: 1.118030\n",
      "\u001b[36m(ClientAppActor pid=45470)\u001b[0m Epoch: 6 Loss: 1.235092 Loss1: 0.066851 Loss2: 1.168241\n",
      "\u001b[36m(ClientAppActor pid=45471)\u001b[0m Epoch: 6 Loss: 1.289374 Loss1: 0.053278 Loss2: 1.236096\n",
      "\u001b[36m(ClientAppActor pid=45467)\u001b[0m Epoch: 6 Loss: 1.169631 Loss1: 0.092249 Loss2: 1.077382\n",
      "\u001b[36m(ClientAppActor pid=45466)\u001b[0m Epoch: 7 Loss: 1.196428 Loss1: 0.082116 Loss2: 1.114313\n",
      "\u001b[36m(ClientAppActor pid=45469)\u001b[0m Epoch: 7 Loss: 1.185015 Loss1: 0.069497 Loss2: 1.115518\n",
      "\u001b[36m(ClientAppActor pid=45470)\u001b[0m Epoch: 7 Loss: 1.236610 Loss1: 0.068311 Loss2: 1.168299\u001b[32m [repeated 2x across cluster]\u001b[0m\n",
      "\u001b[36m(ClientAppActor pid=45471)\u001b[0m Epoch: 7 Loss: 1.283115 Loss1: 0.049148 Loss2: 1.233967\n",
      "\u001b[36m(ClientAppActor pid=45467)\u001b[0m Epoch: 7 Loss: 1.139912 Loss1: 0.064143 Loss2: 1.075769\n"
     ]
    },
    {
     "name": "stderr",
     "output_type": "stream",
     "text": [
      "\u001b[92mINFO \u001b[0m:      aggregate_fit: received 6 results and 0 failures\n",
      "\u001b[92mINFO \u001b[0m:      fit progress: (9, 0.03199415636360645, {'accuracy': 0.7423}, 11712.444906834047)\n",
      "\u001b[92mINFO \u001b[0m:      configure_evaluate: strategy sampled 6 clients (out of 6)\n",
      "\u001b[36m(ClientAppActor pid=45469)\u001b[0m /Users/macbook/Desktop/L361/L361_Project/.conda/lib/python3.12/site-packages/datasets/utils/_dill.py:385: DeprecationWarning: co_lnotab is deprecated, use co_lines instead.\u001b[32m [repeated 5x across cluster]\u001b[0m\n",
      "\u001b[36m(ClientAppActor pid=45469)\u001b[0m   obj.co_lnotab,  # for < python 3.10 [not counted in args]\u001b[32m [repeated 5x across cluster]\u001b[0m\n"
     ]
    },
    {
     "name": "stdout",
     "output_type": "stream",
     "text": [
      "\u001b[36m(ClientAppActor pid=45470)\u001b[0m [Client 2] evaluate, config: {}\n",
      "\u001b[36m(ClientAppActor pid=45466)\u001b[0m \n"
     ]
    },
    {
     "name": "stderr",
     "output_type": "stream",
     "text": [
      "\u001b[92mINFO \u001b[0m:      aggregate_evaluate: received 6 results and 0 failures\n",
      "\u001b[92mINFO \u001b[0m:      \n",
      "\u001b[92mINFO \u001b[0m:      [ROUND 10]\n",
      "\u001b[92mINFO \u001b[0m:      configure_fit: strategy sampled 6 clients (out of 6)\n",
      "\u001b[36m(ClientAppActor pid=45468)\u001b[0m /Users/macbook/Desktop/L361/L361_Project/.conda/lib/python3.12/site-packages/datasets/utils/_dill.py:385: DeprecationWarning: co_lnotab is deprecated, use co_lines instead.\u001b[32m [repeated 6x across cluster]\u001b[0m\n",
      "\u001b[36m(ClientAppActor pid=45468)\u001b[0m   obj.co_lnotab,  # for < python 3.10 [not counted in args]\u001b[32m [repeated 6x across cluster]\u001b[0m\n"
     ]
    },
    {
     "name": "stdout",
     "output_type": "stream",
     "text": [
      "\u001b[36m(ClientAppActor pid=45468)\u001b[0m [Client 3] fit, config: {}\n",
      "\u001b[36m(ClientAppActor pid=45468)\u001b[0m Started training moon\n",
      "\u001b[36m(ClientAppActor pid=45467)\u001b[0m [Client 0] evaluate, config: {}\u001b[32m [repeated 5x across cluster]\u001b[0m\n",
      "\u001b[36m(ClientAppActor pid=45467)\u001b[0m Epoch: 0 Loss: 1.941752 Loss1: 0.399147 Loss2: 1.542605\n",
      "\u001b[36m(ClientAppActor pid=45471)\u001b[0m [Client 2] fit, config: {}\u001b[32m [repeated 5x across cluster]\u001b[0m\n",
      "\u001b[36m(ClientAppActor pid=45471)\u001b[0m Started training moon\u001b[32m [repeated 5x across cluster]\u001b[0m\n",
      "\u001b[36m(ClientAppActor pid=45470)\u001b[0m Epoch: 0 Loss: 1.951345 Loss1: 0.374578 Loss2: 1.576767\u001b[32m [repeated 5x across cluster]\u001b[0m\n",
      "\u001b[36m(ClientAppActor pid=45467)\u001b[0m Epoch: 1 Loss: 1.654058 Loss1: 0.157419 Loss2: 1.496640\n",
      "\u001b[36m(ClientAppActor pid=45471)\u001b[0m Epoch: 1 Loss: 1.577982 Loss1: 0.145317 Loss2: 1.432665\n",
      "\u001b[36m(ClientAppActor pid=45467)\u001b[0m Epoch: 2 Loss: 1.593996 Loss1: 0.098942 Loss2: 1.495053\u001b[32m [repeated 5x across cluster]\u001b[0m\n",
      "\u001b[36m(ClientAppActor pid=45469)\u001b[0m Epoch: 2 Loss: 1.488924 Loss1: 0.098331 Loss2: 1.390593\u001b[32m [repeated 2x across cluster]\u001b[0m\n",
      "\u001b[36m(ClientAppActor pid=45467)\u001b[0m Epoch: 3 Loss: 1.575344 Loss1: 0.082251 Loss2: 1.493094\u001b[32m [repeated 4x across cluster]\u001b[0m\n",
      "\u001b[36m(ClientAppActor pid=45468)\u001b[0m Epoch: 3 Loss: 1.480778 Loss1: 0.067345 Loss2: 1.413433\u001b[32m [repeated 4x across cluster]\u001b[0m\n",
      "\u001b[36m(ClientAppActor pid=45467)\u001b[0m Epoch: 4 Loss: 1.647080 Loss1: 0.140837 Loss2: 1.506243\u001b[32m [repeated 2x across cluster]\u001b[0m\n",
      "\u001b[36m(ClientAppActor pid=45468)\u001b[0m Epoch: 4 Loss: 1.528811 Loss1: 0.106964 Loss2: 1.421847\u001b[32m [repeated 4x across cluster]\u001b[0m\n",
      "\u001b[36m(ClientAppActor pid=45469)\u001b[0m Epoch: 5 Loss: 1.516885 Loss1: 0.120906 Loss2: 1.395979\u001b[32m [repeated 2x across cluster]\u001b[0m\n",
      "\u001b[36m(ClientAppActor pid=45466)\u001b[0m Epoch: 5 Loss: 1.451857 Loss1: 0.120488 Loss2: 1.331369\u001b[32m [repeated 5x across cluster]\u001b[0m\n",
      "\u001b[36m(ClientAppActor pid=45469)\u001b[0m Epoch: 6 Loss: 1.470890 Loss1: 0.078369 Loss2: 1.392521\n",
      "\u001b[36m(ClientAppActor pid=45467)\u001b[0m Epoch: 6 Loss: 1.563277 Loss1: 0.067092 Loss2: 1.496186\n",
      "\u001b[36m(ClientAppActor pid=45468)\u001b[0m Epoch: 6 Loss: 1.506392 Loss1: 0.081344 Loss2: 1.425048\u001b[32m [repeated 3x across cluster]\u001b[0m\n",
      "\u001b[36m(ClientAppActor pid=45469)\u001b[0m Epoch: 7 Loss: 1.482502 Loss1: 0.085778 Loss2: 1.396723\u001b[32m [repeated 2x across cluster]\u001b[0m\n",
      "\u001b[36m(ClientAppActor pid=45468)\u001b[0m Epoch: 7 Loss: 1.522169 Loss1: 0.096776 Loss2: 1.425392\u001b[32m [repeated 4x across cluster]\u001b[0m\n"
     ]
    },
    {
     "name": "stderr",
     "output_type": "stream",
     "text": [
      "\u001b[92mINFO \u001b[0m:      aggregate_fit: received 6 results and 0 failures\n",
      "\u001b[92mINFO \u001b[0m:      fit progress: (10, 0.02926893845796585, {'accuracy': 0.738}, 13011.842479084036)\n",
      "\u001b[92mINFO \u001b[0m:      configure_evaluate: strategy sampled 6 clients (out of 6)\n",
      "\u001b[36m(ClientAppActor pid=45466)\u001b[0m /Users/macbook/Desktop/L361/L361_Project/.conda/lib/python3.12/site-packages/datasets/utils/_dill.py:385: DeprecationWarning: co_lnotab is deprecated, use co_lines instead.\u001b[32m [repeated 6x across cluster]\u001b[0m\n",
      "\u001b[36m(ClientAppActor pid=45466)\u001b[0m   obj.co_lnotab,  # for < python 3.10 [not counted in args]\u001b[32m [repeated 6x across cluster]\u001b[0m\n"
     ]
    },
    {
     "name": "stdout",
     "output_type": "stream",
     "text": [
      "\u001b[36m(ClientAppActor pid=45466)\u001b[0m [Client 1] evaluate, config: {}\n",
      "\u001b[36m(ClientAppActor pid=45466)\u001b[0m Epoch: 7 Loss: 1.374274 Loss1: 0.051039 Loss2: 1.323235\n"
     ]
    },
    {
     "name": "stderr",
     "output_type": "stream",
     "text": [
      "\u001b[92mINFO \u001b[0m:      aggregate_evaluate: received 6 results and 0 failures\n",
      "\u001b[92mINFO \u001b[0m:      \n",
      "\u001b[92mINFO \u001b[0m:      [ROUND 11]\n",
      "\u001b[92mINFO \u001b[0m:      configure_fit: strategy sampled 6 clients (out of 6)\n",
      "\u001b[36m(ClientAppActor pid=45468)\u001b[0m /Users/macbook/Desktop/L361/L361_Project/.conda/lib/python3.12/site-packages/datasets/utils/_dill.py:385: DeprecationWarning: co_lnotab is deprecated, use co_lines instead.\u001b[32m [repeated 6x across cluster]\u001b[0m\n",
      "\u001b[36m(ClientAppActor pid=45468)\u001b[0m   obj.co_lnotab,  # for < python 3.10 [not counted in args]\u001b[32m [repeated 6x across cluster]\u001b[0m\n"
     ]
    },
    {
     "name": "stdout",
     "output_type": "stream",
     "text": [
      "\u001b[36m(ClientAppActor pid=45468)\u001b[0m [Client 0] fit, config: {}\n",
      "\u001b[36m(ClientAppActor pid=45468)\u001b[0m Started training moon\n",
      "\u001b[36m(ClientAppActor pid=45470)\u001b[0m [Client 2] evaluate, config: {}\u001b[32m [repeated 5x across cluster]\u001b[0m\n",
      "\u001b[36m(ClientAppActor pid=45469)\u001b[0m Epoch: 0 Loss: 1.532299 Loss1: 0.302584 Loss2: 1.229715\n",
      "\u001b[36m(ClientAppActor pid=45471)\u001b[0m [Client 3] fit, config: {}\u001b[32m [repeated 5x across cluster]\u001b[0m\n",
      "\u001b[36m(ClientAppActor pid=45471)\u001b[0m Started training moon\u001b[32m [repeated 5x across cluster]\u001b[0m\n",
      "\u001b[36m(ClientAppActor pid=45466)\u001b[0m Epoch: 0 Loss: 1.516645 Loss1: 0.318282 Loss2: 1.198362\u001b[32m [repeated 5x across cluster]\u001b[0m\n",
      "\u001b[36m(ClientAppActor pid=45469)\u001b[0m Epoch: 1 Loss: 1.313606 Loss1: 0.107715 Loss2: 1.205891\n",
      "\u001b[36m(ClientAppActor pid=45468)\u001b[0m Epoch: 1 Loss: 1.217150 Loss1: 0.094824 Loss2: 1.122326\n",
      "\u001b[36m(ClientAppActor pid=45471)\u001b[0m Epoch: 1 Loss: 1.359520 Loss1: 0.119656 Loss2: 1.239864\u001b[32m [repeated 3x across cluster]\u001b[0m\n",
      "\u001b[36m(ClientAppActor pid=45468)\u001b[0m Epoch: 2 Loss: 1.208997 Loss1: 0.081132 Loss2: 1.127865\u001b[32m [repeated 2x across cluster]\u001b[0m\n",
      "\u001b[36m(ClientAppActor pid=45467)\u001b[0m Epoch: 2 Loss: 1.262257 Loss1: 0.073886 Loss2: 1.188371\u001b[32m [repeated 3x across cluster]\u001b[0m\n",
      "\u001b[36m(ClientAppActor pid=45471)\u001b[0m Epoch: 2 Loss: 1.305304 Loss1: 0.070010 Loss2: 1.235293\u001b[32m [repeated 2x across cluster]\u001b[0m\n",
      "\u001b[36m(ClientAppActor pid=45469)\u001b[0m Epoch: 3 Loss: 1.287648 Loss1: 0.078745 Loss2: 1.208903\n",
      "\u001b[36m(ClientAppActor pid=45468)\u001b[0m Epoch: 3 Loss: 1.263428 Loss1: 0.122429 Loss2: 1.140999\n",
      "\u001b[36m(ClientAppActor pid=45467)\u001b[0m Epoch: 3 Loss: 1.282826 Loss1: 0.085072 Loss2: 1.197754\u001b[32m [repeated 2x across cluster]\u001b[0m\n",
      "\u001b[36m(ClientAppActor pid=45471)\u001b[0m Epoch: 3 Loss: 1.267308 Loss1: 0.042884 Loss2: 1.224425\u001b[32m [repeated 2x across cluster]\u001b[0m\n",
      "\u001b[36m(ClientAppActor pid=45469)\u001b[0m Epoch: 4 Loss: 1.299079 Loss1: 0.090147 Loss2: 1.208932\n",
      "\u001b[36m(ClientAppActor pid=45468)\u001b[0m Epoch: 4 Loss: 1.270960 Loss1: 0.122262 Loss2: 1.148698\n",
      "\u001b[36m(ClientAppActor pid=45467)\u001b[0m Epoch: 4 Loss: 1.232377 Loss1: 0.047036 Loss2: 1.185341\u001b[32m [repeated 2x across cluster]\u001b[0m\n",
      "\u001b[36m(ClientAppActor pid=45471)\u001b[0m Epoch: 4 Loss: 1.367744 Loss1: 0.123976 Loss2: 1.243768\u001b[32m [repeated 2x across cluster]\u001b[0m\n",
      "\u001b[36m(ClientAppActor pid=45469)\u001b[0m Epoch: 5 Loss: 1.328665 Loss1: 0.107800 Loss2: 1.220865\n",
      "\u001b[36m(ClientAppActor pid=45468)\u001b[0m Epoch: 5 Loss: 1.161582 Loss1: 0.034849 Loss2: 1.126733\n",
      "\u001b[36m(ClientAppActor pid=45470)\u001b[0m Epoch: 5 Loss: 1.264088 Loss1: 0.069438 Loss2: 1.194651\n",
      "\u001b[36m(ClientAppActor pid=45467)\u001b[0m Epoch: 5 Loss: 1.264271 Loss1: 0.070051 Loss2: 1.194220\n",
      "\u001b[36m(ClientAppActor pid=45466)\u001b[0m Epoch: 5 Loss: 1.273154 Loss1: 0.086285 Loss2: 1.186869\n",
      "\u001b[36m(ClientAppActor pid=45471)\u001b[0m Epoch: 5 Loss: 1.328372 Loss1: 0.086440 Loss2: 1.241931\n",
      "\u001b[36m(ClientAppActor pid=45469)\u001b[0m Epoch: 6 Loss: 1.269760 Loss1: 0.056240 Loss2: 1.213519\n",
      "\u001b[36m(ClientAppActor pid=45468)\u001b[0m Epoch: 6 Loss: 1.161774 Loss1: 0.038973 Loss2: 1.122801\n",
      "\u001b[36m(ClientAppActor pid=45470)\u001b[0m Epoch: 6 Loss: 1.269479 Loss1: 0.074135 Loss2: 1.195344\n",
      "\u001b[36m(ClientAppActor pid=45467)\u001b[0m Epoch: 6 Loss: 1.301772 Loss1: 0.095408 Loss2: 1.206364\n",
      "\u001b[36m(ClientAppActor pid=45466)\u001b[0m Epoch: 6 Loss: 1.243521 Loss1: 0.063776 Loss2: 1.179745\n",
      "\u001b[36m(ClientAppActor pid=45471)\u001b[0m Epoch: 6 Loss: 1.363347 Loss1: 0.110150 Loss2: 1.253197\n",
      "\u001b[36m(ClientAppActor pid=45469)\u001b[0m Epoch: 7 Loss: 1.249813 Loss1: 0.042448 Loss2: 1.207365\n",
      "\u001b[36m(ClientAppActor pid=45470)\u001b[0m Epoch: 7 Loss: 1.249821 Loss1: 0.056828 Loss2: 1.192993\n",
      "\u001b[36m(ClientAppActor pid=45467)\u001b[0m Epoch: 7 Loss: 1.287315 Loss1: 0.078953 Loss2: 1.208362\u001b[32m [repeated 2x across cluster]\u001b[0m\n",
      "\u001b[36m(ClientAppActor pid=45466)\u001b[0m Epoch: 7 Loss: 1.244172 Loss1: 0.060221 Loss2: 1.183951\n",
      "\u001b[36m(ClientAppActor pid=45471)\u001b[0m Epoch: 7 Loss: 1.333030 Loss1: 0.084779 Loss2: 1.248250\n"
     ]
    },
    {
     "name": "stderr",
     "output_type": "stream",
     "text": [
      "\u001b[92mINFO \u001b[0m:      aggregate_fit: received 6 results and 0 failures\n",
      "\u001b[92mINFO \u001b[0m:      fit progress: (11, 0.0327235549300909, {'accuracy': 0.7434}, 14300.326795333996)\n",
      "\u001b[92mINFO \u001b[0m:      configure_evaluate: strategy sampled 6 clients (out of 6)\n"
     ]
    },
    {
     "name": "stdout",
     "output_type": "stream",
     "text": [
      "\u001b[36m(ClientAppActor pid=45471)\u001b[0m [Client 1] evaluate, config: {}\n"
     ]
    },
    {
     "name": "stderr",
     "output_type": "stream",
     "text": [
      "\u001b[36m(ClientAppActor pid=45471)\u001b[0m /Users/macbook/Desktop/L361/L361_Project/.conda/lib/python3.12/site-packages/datasets/utils/_dill.py:385: DeprecationWarning: co_lnotab is deprecated, use co_lines instead.\u001b[32m [repeated 6x across cluster]\u001b[0m\n",
      "\u001b[36m(ClientAppActor pid=45471)\u001b[0m   obj.co_lnotab,  # for < python 3.10 [not counted in args]\u001b[32m [repeated 6x across cluster]\u001b[0m\n",
      "\u001b[92mINFO \u001b[0m:      aggregate_evaluate: received 6 results and 0 failures\n",
      "\u001b[92mINFO \u001b[0m:      \n",
      "\u001b[92mINFO \u001b[0m:      [ROUND 12]\n",
      "\u001b[92mINFO \u001b[0m:      configure_fit: strategy sampled 6 clients (out of 6)\n",
      "\u001b[36m(ClientAppActor pid=45466)\u001b[0m /Users/macbook/Desktop/L361/L361_Project/.conda/lib/python3.12/site-packages/datasets/utils/_dill.py:385: DeprecationWarning: co_lnotab is deprecated, use co_lines instead.\u001b[32m [repeated 6x across cluster]\u001b[0m\n",
      "\u001b[36m(ClientAppActor pid=45466)\u001b[0m   obj.co_lnotab,  # for < python 3.10 [not counted in args]\u001b[32m [repeated 6x across cluster]\u001b[0m\n"
     ]
    },
    {
     "name": "stdout",
     "output_type": "stream",
     "text": [
      "\u001b[36m(ClientAppActor pid=45466)\u001b[0m [Client 2] fit, config: {}\n",
      "\u001b[36m(ClientAppActor pid=45467)\u001b[0m [Client 5] evaluate, config: {}\u001b[32m [repeated 5x across cluster]\u001b[0m\n",
      "\u001b[36m(ClientAppActor pid=45466)\u001b[0m Started training moon\n"
     ]
    },
    {
     "name": "stderr",
     "output_type": "stream",
     "text": [
      "\u001b[36m(ClientAppActor pid=45468)\u001b[0m /Users/macbook/Desktop/L361/L361_Project/.conda/lib/python3.12/site-packages/datasets/utils/_dill.py:385: DeprecationWarning: co_lnotab is deprecated, use co_lines instead.\u001b[32m [repeated 7x across cluster]\u001b[0m\n",
      "\u001b[36m(ClientAppActor pid=45468)\u001b[0m   obj.co_lnotab,  # for < python 3.10 [not counted in args]\u001b[32m [repeated 7x across cluster]\u001b[0m\n"
     ]
    },
    {
     "name": "stdout",
     "output_type": "stream",
     "text": [
      "\u001b[36m(ClientAppActor pid=45468)\u001b[0m [Client 1] fit, config: {}\u001b[32m [repeated 5x across cluster]\u001b[0m\n",
      "\u001b[36m(ClientAppActor pid=45468)\u001b[0m Started training moon\u001b[32m [repeated 5x across cluster]\u001b[0m\n",
      "\u001b[36m(ClientAppActor pid=45469)\u001b[0m Epoch: 0 Loss: 1.848987 Loss1: 0.269316 Loss2: 1.579671\n",
      "\u001b[36m(ClientAppActor pid=45467)\u001b[0m Epoch: 0 Loss: 1.864963 Loss1: 0.297135 Loss2: 1.567828\u001b[32m [repeated 4x across cluster]\u001b[0m\n",
      "\u001b[36m(ClientAppActor pid=45466)\u001b[0m Epoch: 1 Loss: 1.521585 Loss1: 0.092183 Loss2: 1.429402\u001b[32m [repeated 2x across cluster]\u001b[0m\n",
      "\u001b[36m(ClientAppActor pid=45467)\u001b[0m Epoch: 1 Loss: 1.638000 Loss1: 0.103341 Loss2: 1.534659\u001b[32m [repeated 4x across cluster]\u001b[0m\n",
      "\u001b[36m(ClientAppActor pid=45466)\u001b[0m Epoch: 2 Loss: 1.515479 Loss1: 0.086193 Loss2: 1.429286\u001b[32m [repeated 2x across cluster]\u001b[0m\n",
      "\u001b[36m(ClientAppActor pid=45471)\u001b[0m Epoch: 2 Loss: 1.539355 Loss1: 0.078634 Loss2: 1.460721\u001b[32m [repeated 3x across cluster]\u001b[0m\n",
      "\u001b[36m(ClientAppActor pid=45466)\u001b[0m Epoch: 3 Loss: 1.529438 Loss1: 0.098031 Loss2: 1.431407\u001b[32m [repeated 3x across cluster]\u001b[0m\n",
      "\u001b[36m(ClientAppActor pid=45468)\u001b[0m Epoch: 3 Loss: 1.655240 Loss1: 0.059373 Loss2: 1.595867\u001b[32m [repeated 4x across cluster]\u001b[0m\n",
      "\u001b[36m(ClientAppActor pid=45466)\u001b[0m Epoch: 4 Loss: 1.540897 Loss1: 0.105743 Loss2: 1.435154\u001b[32m [repeated 2x across cluster]\u001b[0m\n",
      "\u001b[36m(ClientAppActor pid=45468)\u001b[0m Epoch: 4 Loss: 1.687498 Loss1: 0.084954 Loss2: 1.602544\u001b[32m [repeated 4x across cluster]\u001b[0m\n",
      "\u001b[36m(ClientAppActor pid=45466)\u001b[0m Epoch: 5 Loss: 1.462983 Loss1: 0.046083 Loss2: 1.416900\u001b[32m [repeated 2x across cluster]\u001b[0m\n",
      "\u001b[36m(ClientAppActor pid=45468)\u001b[0m Epoch: 5 Loss: 1.737007 Loss1: 0.116618 Loss2: 1.620389\u001b[32m [repeated 3x across cluster]\u001b[0m\n",
      "\u001b[36m(ClientAppActor pid=45470)\u001b[0m Epoch: 6 Loss: 1.487060 Loss1: 0.058392 Loss2: 1.428669\u001b[32m [repeated 3x across cluster]\u001b[0m\n",
      "\u001b[36m(ClientAppActor pid=45471)\u001b[0m Epoch: 6 Loss: 1.488829 Loss1: 0.038144 Loss2: 1.450685\u001b[32m [repeated 3x across cluster]\u001b[0m\n",
      "\u001b[36m(ClientAppActor pid=45470)\u001b[0m Epoch: 7 Loss: 1.479243 Loss1: 0.054212 Loss2: 1.425030\u001b[32m [repeated 3x across cluster]\u001b[0m\n",
      "\u001b[36m(ClientAppActor pid=45467)\u001b[0m Epoch: 7 Loss: 1.552570 Loss1: 0.042261 Loss2: 1.510309\u001b[32m [repeated 4x across cluster]\u001b[0m\n"
     ]
    },
    {
     "name": "stderr",
     "output_type": "stream",
     "text": [
      "\u001b[92mINFO \u001b[0m:      aggregate_fit: received 6 results and 0 failures\n",
      "\u001b[92mINFO \u001b[0m:      fit progress: (12, 0.031268398720026014, {'accuracy': 0.7409}, 15577.773955750046)\n",
      "\u001b[92mINFO \u001b[0m:      configure_evaluate: strategy sampled 6 clients (out of 6)\n",
      "\u001b[36m(ClientAppActor pid=45466)\u001b[0m /Users/macbook/Desktop/L361/L361_Project/.conda/lib/python3.12/site-packages/datasets/utils/_dill.py:385: DeprecationWarning: co_lnotab is deprecated, use co_lines instead.\n",
      "\u001b[36m(ClientAppActor pid=45466)\u001b[0m   obj.co_lnotab,  # for < python 3.10 [not counted in args]\n"
     ]
    },
    {
     "name": "stdout",
     "output_type": "stream",
     "text": [
      "\u001b[36m(ClientAppActor pid=45466)\u001b[0m [Client 4] evaluate, config: {}\n",
      "\u001b[36m(ClientAppActor pid=45468)\u001b[0m Epoch: 7 Loss: 1.635826 Loss1: 0.043871 Loss2: 1.591955\n"
     ]
    },
    {
     "name": "stderr",
     "output_type": "stream",
     "text": [
      "\u001b[36m(ClientAppActor pid=45467)\u001b[0m /Users/macbook/Desktop/L361/L361_Project/.conda/lib/python3.12/site-packages/datasets/utils/_dill.py:385: DeprecationWarning: co_lnotab is deprecated, use co_lines instead.\n",
      "\u001b[36m(ClientAppActor pid=45467)\u001b[0m   obj.co_lnotab,  # for < python 3.10 [not counted in args]\n"
     ]
    },
    {
     "name": "stdout",
     "output_type": "stream",
     "text": [
      "\u001b[36m(ClientAppActor pid=45468)\u001b[0m [Client 1] evaluate, config: {}\u001b[32m [repeated 5x across cluster]\u001b[0m\n"
     ]
    },
    {
     "name": "stderr",
     "output_type": "stream",
     "text": [
      "\u001b[92mINFO \u001b[0m:      aggregate_evaluate: received 6 results and 0 failures\n",
      "\u001b[92mINFO \u001b[0m:      \n",
      "\u001b[92mINFO \u001b[0m:      [ROUND 13]\n",
      "\u001b[92mINFO \u001b[0m:      configure_fit: strategy sampled 6 clients (out of 6)\n",
      "\u001b[36m(ClientAppActor pid=45471)\u001b[0m /Users/macbook/Desktop/L361/L361_Project/.conda/lib/python3.12/site-packages/datasets/utils/_dill.py:385: DeprecationWarning: co_lnotab is deprecated, use co_lines instead.\u001b[32m [repeated 5x across cluster]\u001b[0m\n",
      "\u001b[36m(ClientAppActor pid=45471)\u001b[0m   obj.co_lnotab,  # for < python 3.10 [not counted in args]\u001b[32m [repeated 5x across cluster]\u001b[0m\n"
     ]
    },
    {
     "name": "stdout",
     "output_type": "stream",
     "text": [
      "\u001b[36m(ClientAppActor pid=45470)\u001b[0m [Client 0] fit, config: {}\n",
      "\u001b[36m(ClientAppActor pid=45471)\u001b[0m Started training moon\n"
     ]
    },
    {
     "name": "stderr",
     "output_type": "stream",
     "text": [
      "\u001b[36m(ClientAppActor pid=45467)\u001b[0m /Users/macbook/Desktop/L361/L361_Project/.conda/lib/python3.12/site-packages/datasets/utils/_dill.py:385: DeprecationWarning: co_lnotab is deprecated, use co_lines instead.\u001b[32m [repeated 4x across cluster]\u001b[0m\n",
      "\u001b[36m(ClientAppActor pid=45467)\u001b[0m   obj.co_lnotab,  # for < python 3.10 [not counted in args]\u001b[32m [repeated 4x across cluster]\u001b[0m\n"
     ]
    },
    {
     "name": "stdout",
     "output_type": "stream",
     "text": [
      "\u001b[36m(ClientAppActor pid=45467)\u001b[0m [Client 2] fit, config: {}\u001b[32m [repeated 4x across cluster]\u001b[0m\n",
      "\u001b[36m(ClientAppActor pid=45466)\u001b[0m Started training moon\u001b[32m [repeated 3x across cluster]\u001b[0m\n",
      "\u001b[36m(ClientAppActor pid=45466)\u001b[0m Epoch: 0 Loss: 1.587041 Loss1: 0.248559 Loss2: 1.338482\n",
      "\u001b[36m(ClientAppActor pid=45468)\u001b[0m [Client 1] fit, config: {}\n",
      "\u001b[36m(ClientAppActor pid=45468)\u001b[0m Started training moon\u001b[32m [repeated 2x across cluster]\u001b[0m\n",
      "\u001b[36m(ClientAppActor pid=45469)\u001b[0m Epoch: 0 Loss: 1.645476 Loss1: 0.272616 Loss2: 1.372860\u001b[32m [repeated 3x across cluster]\u001b[0m\n",
      "\u001b[36m(ClientAppActor pid=45467)\u001b[0m Epoch: 0 Loss: 1.693803 Loss1: 0.264814 Loss2: 1.428989\n",
      "\u001b[36m(ClientAppActor pid=45468)\u001b[0m Epoch: 0 Loss: 1.620071 Loss1: 0.237831 Loss2: 1.382240\n",
      "\u001b[36m(ClientAppActor pid=45466)\u001b[0m Epoch: 1 Loss: 1.388800 Loss1: 0.085689 Loss2: 1.303111\n",
      "\u001b[36m(ClientAppActor pid=45471)\u001b[0m Epoch: 1 Loss: 1.379908 Loss1: 0.064690 Loss2: 1.315218\n",
      "\u001b[36m(ClientAppActor pid=45467)\u001b[0m Epoch: 1 Loss: 1.524107 Loss1: 0.117588 Loss2: 1.406519\u001b[32m [repeated 2x across cluster]\u001b[0m\n",
      "\u001b[36m(ClientAppActor pid=45468)\u001b[0m Epoch: 1 Loss: 1.455660 Loss1: 0.092926 Loss2: 1.362734\u001b[32m [repeated 2x across cluster]\u001b[0m\n",
      "\u001b[36m(ClientAppActor pid=45466)\u001b[0m Epoch: 2 Loss: 1.354106 Loss1: 0.061217 Loss2: 1.292889\n",
      "\u001b[36m(ClientAppActor pid=45471)\u001b[0m Epoch: 2 Loss: 1.374034 Loss1: 0.069507 Loss2: 1.304527\n",
      "\u001b[36m(ClientAppActor pid=45470)\u001b[0m Epoch: 2 Loss: 1.416838 Loss1: 0.081066 Loss2: 1.335772\n",
      "\u001b[36m(ClientAppActor pid=45467)\u001b[0m Epoch: 2 Loss: 1.450013 Loss1: 0.058563 Loss2: 1.391450\n",
      "\u001b[36m(ClientAppActor pid=45468)\u001b[0m Epoch: 2 Loss: 1.393875 Loss1: 0.054132 Loss2: 1.339743\u001b[32m [repeated 2x across cluster]\u001b[0m\n",
      "\u001b[36m(ClientAppActor pid=45466)\u001b[0m Epoch: 3 Loss: 1.368552 Loss1: 0.072244 Loss2: 1.296308\n",
      "\u001b[36m(ClientAppActor pid=45471)\u001b[0m Epoch: 3 Loss: 1.405798 Loss1: 0.091238 Loss2: 1.314560\n",
      "\u001b[36m(ClientAppActor pid=45467)\u001b[0m Epoch: 3 Loss: 1.490538 Loss1: 0.095099 Loss2: 1.395438\n",
      "\u001b[36m(ClientAppActor pid=45470)\u001b[0m Epoch: 3 Loss: 1.393720 Loss1: 0.063872 Loss2: 1.329849\n",
      "\u001b[36m(ClientAppActor pid=45468)\u001b[0m Epoch: 3 Loss: 1.429369 Loss1: 0.080442 Loss2: 1.348927\u001b[32m [repeated 2x across cluster]\u001b[0m\n",
      "\u001b[36m(ClientAppActor pid=45466)\u001b[0m Epoch: 4 Loss: 1.392769 Loss1: 0.084113 Loss2: 1.308655\n",
      "\u001b[36m(ClientAppActor pid=45471)\u001b[0m Epoch: 4 Loss: 1.358931 Loss1: 0.054161 Loss2: 1.304769\n",
      "\u001b[36m(ClientAppActor pid=45467)\u001b[0m Epoch: 4 Loss: 1.462579 Loss1: 0.070895 Loss2: 1.391683\n",
      "\u001b[36m(ClientAppActor pid=45470)\u001b[0m Epoch: 4 Loss: 1.395846 Loss1: 0.066883 Loss2: 1.328963\n",
      "\u001b[36m(ClientAppActor pid=45468)\u001b[0m Epoch: 4 Loss: 1.501020 Loss1: 0.125665 Loss2: 1.375355\u001b[32m [repeated 2x across cluster]\u001b[0m\n",
      "\u001b[36m(ClientAppActor pid=45466)\u001b[0m Epoch: 5 Loss: 1.395522 Loss1: 0.089555 Loss2: 1.305967\n",
      "\u001b[36m(ClientAppActor pid=45471)\u001b[0m Epoch: 5 Loss: 1.375614 Loss1: 0.065750 Loss2: 1.309865\n",
      "\u001b[36m(ClientAppActor pid=45467)\u001b[0m Epoch: 5 Loss: 1.467193 Loss1: 0.074717 Loss2: 1.392476\n",
      "\u001b[36m(ClientAppActor pid=45470)\u001b[0m Epoch: 5 Loss: 1.403084 Loss1: 0.067696 Loss2: 1.335388\n",
      "\u001b[36m(ClientAppActor pid=45468)\u001b[0m Epoch: 5 Loss: 1.397284 Loss1: 0.049128 Loss2: 1.348156\u001b[32m [repeated 2x across cluster]\u001b[0m\n",
      "\u001b[36m(ClientAppActor pid=45466)\u001b[0m Epoch: 6 Loss: 1.420372 Loss1: 0.103957 Loss2: 1.316415\n",
      "\u001b[36m(ClientAppActor pid=45471)\u001b[0m Epoch: 6 Loss: 1.335761 Loss1: 0.039288 Loss2: 1.296473\n",
      "\u001b[36m(ClientAppActor pid=45467)\u001b[0m Epoch: 6 Loss: 1.471199 Loss1: 0.074884 Loss2: 1.396315\n",
      "\u001b[36m(ClientAppActor pid=45470)\u001b[0m Epoch: 6 Loss: 1.437035 Loss1: 0.092092 Loss2: 1.344943\n",
      "\u001b[36m(ClientAppActor pid=45469)\u001b[0m Epoch: 6 Loss: 1.384150 Loss1: 0.050559 Loss2: 1.333591\n",
      "\u001b[36m(ClientAppActor pid=45468)\u001b[0m Epoch: 6 Loss: 1.349188 Loss1: 0.026537 Loss2: 1.322652\n",
      "\u001b[36m(ClientAppActor pid=45466)\u001b[0m Epoch: 7 Loss: 1.326491 Loss1: 0.039713 Loss2: 1.286778\n",
      "\u001b[36m(ClientAppActor pid=45471)\u001b[0m Epoch: 7 Loss: 1.382853 Loss1: 0.072405 Loss2: 1.310448\n",
      "\u001b[36m(ClientAppActor pid=45467)\u001b[0m Epoch: 7 Loss: 1.489842 Loss1: 0.090238 Loss2: 1.399604\n",
      "\u001b[36m(ClientAppActor pid=45470)\u001b[0m Epoch: 7 Loss: 1.383718 Loss1: 0.053890 Loss2: 1.329829\n"
     ]
    },
    {
     "name": "stderr",
     "output_type": "stream",
     "text": [
      "\u001b[92mINFO \u001b[0m:      aggregate_fit: received 6 results and 0 failures\n"
     ]
    },
    {
     "name": "stdout",
     "output_type": "stream",
     "text": [
      "\u001b[36m(ClientAppActor pid=45468)\u001b[0m Epoch: 7 Loss: 1.337522 Loss1: 0.026049 Loss2: 1.311473\u001b[32m [repeated 2x across cluster]\u001b[0m\n"
     ]
    },
    {
     "name": "stderr",
     "output_type": "stream",
     "text": [
      "\u001b[92mINFO \u001b[0m:      fit progress: (13, 0.035363004902005196, {'accuracy': 0.7434}, 16884.10457158403)\n",
      "\u001b[92mINFO \u001b[0m:      configure_evaluate: strategy sampled 6 clients (out of 6)\n",
      "\u001b[36m(ClientAppActor pid=45468)\u001b[0m /Users/macbook/Desktop/L361/L361_Project/.conda/lib/python3.12/site-packages/datasets/utils/_dill.py:385: DeprecationWarning: co_lnotab is deprecated, use co_lines instead.\u001b[32m [repeated 2x across cluster]\u001b[0m\n",
      "\u001b[36m(ClientAppActor pid=45468)\u001b[0m   obj.co_lnotab,  # for < python 3.10 [not counted in args]\u001b[32m [repeated 2x across cluster]\u001b[0m\n"
     ]
    },
    {
     "name": "stdout",
     "output_type": "stream",
     "text": [
      "\u001b[36m(ClientAppActor pid=45468)\u001b[0m [Client 0] evaluate, config: {}\n"
     ]
    },
    {
     "name": "stderr",
     "output_type": "stream",
     "text": [
      "\u001b[92mINFO \u001b[0m:      aggregate_evaluate: received 6 results and 0 failures\n",
      "\u001b[92mINFO \u001b[0m:      \n",
      "\u001b[92mINFO \u001b[0m:      [ROUND 14]\n",
      "\u001b[92mINFO \u001b[0m:      configure_fit: strategy sampled 6 clients (out of 6)\n",
      "\u001b[36m(ClientAppActor pid=45466)\u001b[0m /Users/macbook/Desktop/L361/L361_Project/.conda/lib/python3.12/site-packages/datasets/utils/_dill.py:385: DeprecationWarning: co_lnotab is deprecated, use co_lines instead.\u001b[32m [repeated 6x across cluster]\u001b[0m\n",
      "\u001b[36m(ClientAppActor pid=45466)\u001b[0m   obj.co_lnotab,  # for < python 3.10 [not counted in args]\u001b[32m [repeated 6x across cluster]\u001b[0m\n"
     ]
    },
    {
     "name": "stdout",
     "output_type": "stream",
     "text": [
      "\u001b[36m(ClientAppActor pid=45466)\u001b[0m [Client 2] fit, config: {}\n",
      "\u001b[36m(ClientAppActor pid=45470)\u001b[0m [Client 5] evaluate, config: {}\u001b[32m [repeated 5x across cluster]\u001b[0m\n",
      "\u001b[36m(ClientAppActor pid=45466)\u001b[0m Started training moon\n",
      "\u001b[36m(ClientAppActor pid=45466)\u001b[0m Epoch: 0 Loss: 1.830746 Loss1: 0.237232 Loss2: 1.593514\n",
      "\u001b[36m(ClientAppActor pid=45467)\u001b[0m [Client 3] fit, config: {}\u001b[32m [repeated 5x across cluster]\u001b[0m\n",
      "\u001b[36m(ClientAppActor pid=45467)\u001b[0m Started training moon\u001b[32m [repeated 5x across cluster]\u001b[0m\n",
      "\u001b[36m(ClientAppActor pid=45467)\u001b[0m Epoch: 0 Loss: 1.979538 Loss1: 0.227561 Loss2: 1.751977\u001b[32m [repeated 4x across cluster]\u001b[0m\n",
      "\u001b[36m(ClientAppActor pid=45466)\u001b[0m Epoch: 1 Loss: 1.674621 Loss1: 0.102962 Loss2: 1.571659\u001b[32m [repeated 2x across cluster]\u001b[0m\n",
      "\u001b[36m(ClientAppActor pid=45471)\u001b[0m Epoch: 1 Loss: 1.898881 Loss1: 0.093176 Loss2: 1.805705\u001b[32m [repeated 2x across cluster]\u001b[0m\n",
      "\u001b[36m(ClientAppActor pid=45466)\u001b[0m Epoch: 2 Loss: 1.602756 Loss1: 0.053358 Loss2: 1.549398\u001b[32m [repeated 4x across cluster]\u001b[0m\n",
      "\u001b[36m(ClientAppActor pid=45471)\u001b[0m Epoch: 2 Loss: 1.836273 Loss1: 0.056886 Loss2: 1.779388\u001b[32m [repeated 2x across cluster]\u001b[0m\n",
      "\u001b[36m(ClientAppActor pid=45468)\u001b[0m Epoch: 2 Loss: 1.654438 Loss1: 0.065770 Loss2: 1.588668\u001b[32m [repeated 3x across cluster]\u001b[0m\n",
      "\u001b[36m(ClientAppActor pid=45466)\u001b[0m Epoch: 3 Loss: 1.585669 Loss1: 0.054490 Loss2: 1.531179\n",
      "\u001b[36m(ClientAppActor pid=45470)\u001b[0m Epoch: 3 Loss: 1.678759 Loss1: 0.051087 Loss2: 1.627672\n",
      "\u001b[36m(ClientAppActor pid=45469)\u001b[0m Epoch: 3 Loss: 1.774805 Loss1: 0.058252 Loss2: 1.716552\u001b[32m [repeated 3x across cluster]\u001b[0m\n",
      "\u001b[36m(ClientAppActor pid=45466)\u001b[0m Epoch: 4 Loss: 1.643788 Loss1: 0.088809 Loss2: 1.554979\u001b[32m [repeated 2x across cluster]\u001b[0m\n",
      "\u001b[36m(ClientAppActor pid=45471)\u001b[0m Epoch: 4 Loss: 1.842540 Loss1: 0.068508 Loss2: 1.774032\u001b[32m [repeated 2x across cluster]\u001b[0m\n",
      "\u001b[36m(ClientAppActor pid=45468)\u001b[0m Epoch: 4 Loss: 1.704942 Loss1: 0.105259 Loss2: 1.599683\u001b[32m [repeated 3x across cluster]\u001b[0m\n",
      "\u001b[36m(ClientAppActor pid=45466)\u001b[0m Epoch: 5 Loss: 1.669274 Loss1: 0.102930 Loss2: 1.566344\n",
      "\u001b[36m(ClientAppActor pid=45470)\u001b[0m Epoch: 5 Loss: 1.771590 Loss1: 0.118136 Loss2: 1.653454\n",
      "\u001b[36m(ClientAppActor pid=45467)\u001b[0m Epoch: 5 Loss: 1.756089 Loss1: 0.066780 Loss2: 1.689309\n",
      "\u001b[36m(ClientAppActor pid=45471)\u001b[0m Epoch: 5 Loss: 1.837162 Loss1: 0.066958 Loss2: 1.770204\n",
      "\u001b[36m(ClientAppActor pid=45468)\u001b[0m Epoch: 5 Loss: 1.666640 Loss1: 0.079401 Loss2: 1.587239\u001b[32m [repeated 2x across cluster]\u001b[0m\n",
      "\u001b[36m(ClientAppActor pid=45466)\u001b[0m Epoch: 6 Loss: 1.665662 Loss1: 0.100226 Loss2: 1.565436\n",
      "\u001b[36m(ClientAppActor pid=45470)\u001b[0m Epoch: 6 Loss: 1.778415 Loss1: 0.116735 Loss2: 1.661680\n",
      "\u001b[36m(ClientAppActor pid=45471)\u001b[0m Epoch: 6 Loss: 1.841873 Loss1: 0.069541 Loss2: 1.772332\n",
      "\u001b[36m(ClientAppActor pid=45467)\u001b[0m Epoch: 6 Loss: 1.761513 Loss1: 0.073209 Loss2: 1.688304\n",
      "\u001b[36m(ClientAppActor pid=45468)\u001b[0m Epoch: 6 Loss: 1.644778 Loss1: 0.059078 Loss2: 1.585700\u001b[32m [repeated 2x across cluster]\u001b[0m\n",
      "\u001b[36m(ClientAppActor pid=45470)\u001b[0m Epoch: 7 Loss: 1.686131 Loss1: 0.057482 Loss2: 1.628649\n",
      "\u001b[36m(ClientAppActor pid=45466)\u001b[0m Epoch: 7 Loss: 1.601636 Loss1: 0.056284 Loss2: 1.545352\n",
      "\u001b[36m(ClientAppActor pid=45467)\u001b[0m Epoch: 7 Loss: 1.742967 Loss1: 0.059737 Loss2: 1.683230\u001b[32m [repeated 2x across cluster]\u001b[0m\n"
     ]
    },
    {
     "name": "stderr",
     "output_type": "stream",
     "text": [
      "\u001b[92mINFO \u001b[0m:      aggregate_fit: received 6 results and 0 failures\n"
     ]
    },
    {
     "name": "stdout",
     "output_type": "stream",
     "text": [
      "\u001b[36m(ClientAppActor pid=45468)\u001b[0m Epoch: 7 Loss: 1.596354 Loss1: 0.033118 Loss2: 1.563236\u001b[32m [repeated 2x across cluster]\u001b[0m\n"
     ]
    },
    {
     "name": "stderr",
     "output_type": "stream",
     "text": [
      "\u001b[92mINFO \u001b[0m:      fit progress: (14, 0.03631947066783905, {'accuracy': 0.743}, 18185.272164209047)\n",
      "\u001b[92mINFO \u001b[0m:      configure_evaluate: strategy sampled 6 clients (out of 6)\n",
      "\u001b[36m(ClientAppActor pid=45471)\u001b[0m /Users/macbook/Desktop/L361/L361_Project/.conda/lib/python3.12/site-packages/datasets/utils/_dill.py:385: DeprecationWarning: co_lnotab is deprecated, use co_lines instead.\u001b[32m [repeated 6x across cluster]\u001b[0m\n",
      "\u001b[36m(ClientAppActor pid=45471)\u001b[0m   obj.co_lnotab,  # for < python 3.10 [not counted in args]\u001b[32m [repeated 6x across cluster]\u001b[0m\n"
     ]
    },
    {
     "name": "stdout",
     "output_type": "stream",
     "text": [
      "\u001b[36m(ClientAppActor pid=45471)\u001b[0m [Client 0] evaluate, config: {}\n"
     ]
    },
    {
     "name": "stderr",
     "output_type": "stream",
     "text": [
      "\u001b[92mINFO \u001b[0m:      aggregate_evaluate: received 6 results and 0 failures\n",
      "\u001b[92mINFO \u001b[0m:      \n",
      "\u001b[92mINFO \u001b[0m:      [ROUND 15]\n",
      "\u001b[92mINFO \u001b[0m:      configure_fit: strategy sampled 6 clients (out of 6)\n"
     ]
    },
    {
     "name": "stdout",
     "output_type": "stream",
     "text": [
      "\u001b[36m(ClientAppActor pid=45470)\u001b[0m [Client 5] fit, config: {}\n",
      "\u001b[36m(ClientAppActor pid=45470)\u001b[0m Started training moon\n",
      "\u001b[36m(ClientAppActor pid=45469)\u001b[0m [Client 4] evaluate, config: {}\u001b[32m [repeated 5x across cluster]\u001b[0m\n"
     ]
    },
    {
     "name": "stderr",
     "output_type": "stream",
     "text": [
      "\u001b[36m(ClientAppActor pid=45470)\u001b[0m /Users/macbook/Desktop/L361/L361_Project/.conda/lib/python3.12/site-packages/datasets/utils/_dill.py:385: DeprecationWarning: co_lnotab is deprecated, use co_lines instead.\u001b[32m [repeated 6x across cluster]\u001b[0m\n",
      "\u001b[36m(ClientAppActor pid=45470)\u001b[0m   obj.co_lnotab,  # for < python 3.10 [not counted in args]\u001b[32m [repeated 6x across cluster]\u001b[0m\n"
     ]
    },
    {
     "name": "stdout",
     "output_type": "stream",
     "text": [
      "\u001b[36m(ClientAppActor pid=45466)\u001b[0m Epoch: 0 Loss: 1.871150 Loss1: 0.229913 Loss2: 1.641237\n",
      "\u001b[36m(ClientAppActor pid=45469)\u001b[0m [Client 2] fit, config: {}\u001b[32m [repeated 5x across cluster]\u001b[0m\n",
      "\u001b[36m(ClientAppActor pid=45469)\u001b[0m Started training moon\u001b[32m [repeated 5x across cluster]\u001b[0m\n",
      "\u001b[36m(ClientAppActor pid=45468)\u001b[0m Epoch: 0 Loss: 1.805812 Loss1: 0.219208 Loss2: 1.586604\u001b[32m [repeated 3x across cluster]\u001b[0m\n",
      "\u001b[36m(ClientAppActor pid=45466)\u001b[0m Epoch: 1 Loss: 1.693770 Loss1: 0.098434 Loss2: 1.595336\u001b[32m [repeated 3x across cluster]\u001b[0m\n",
      "\u001b[36m(ClientAppActor pid=45469)\u001b[0m Epoch: 1 Loss: 1.770574 Loss1: 0.095145 Loss2: 1.675429\n",
      "\u001b[36m(ClientAppActor pid=45470)\u001b[0m Epoch: 1 Loss: 1.710890 Loss1: 0.080248 Loss2: 1.630642\n",
      "\u001b[36m(ClientAppActor pid=45466)\u001b[0m Epoch: 2 Loss: 1.644685 Loss1: 0.072575 Loss2: 1.572109\u001b[32m [repeated 4x across cluster]\u001b[0m\n",
      "\u001b[36m(ClientAppActor pid=45469)\u001b[0m Epoch: 2 Loss: 1.794374 Loss1: 0.119153 Loss2: 1.675221\n",
      "\u001b[36m(ClientAppActor pid=45468)\u001b[0m Epoch: 2 Loss: 1.616920 Loss1: 0.086733 Loss2: 1.530187\n",
      "\u001b[36m(ClientAppActor pid=45466)\u001b[0m Epoch: 3 Loss: 1.623536 Loss1: 0.061169 Loss2: 1.562366\u001b[32m [repeated 4x across cluster]\u001b[0m\n",
      "\u001b[36m(ClientAppActor pid=45469)\u001b[0m Epoch: 3 Loss: 1.700130 Loss1: 0.058379 Loss2: 1.641751\n",
      "\u001b[36m(ClientAppActor pid=45471)\u001b[0m Epoch: 3 Loss: 1.738093 Loss1: 0.082735 Loss2: 1.655358\n",
      "\u001b[36m(ClientAppActor pid=45466)\u001b[0m Epoch: 4 Loss: 1.627311 Loss1: 0.073061 Loss2: 1.554250\u001b[32m [repeated 4x across cluster]\u001b[0m\n",
      "\u001b[36m(ClientAppActor pid=45469)\u001b[0m Epoch: 4 Loss: 1.697247 Loss1: 0.058266 Loss2: 1.638980\n",
      "\u001b[36m(ClientAppActor pid=45471)\u001b[0m Epoch: 4 Loss: 1.704517 Loss1: 0.060105 Loss2: 1.644411\n",
      "\u001b[36m(ClientAppActor pid=45466)\u001b[0m Epoch: 5 Loss: 1.605976 Loss1: 0.057078 Loss2: 1.548898\u001b[32m [repeated 4x across cluster]\u001b[0m\n",
      "\u001b[36m(ClientAppActor pid=45469)\u001b[0m Epoch: 5 Loss: 1.690398 Loss1: 0.060844 Loss2: 1.629554\n",
      "\u001b[36m(ClientAppActor pid=45467)\u001b[0m Epoch: 5 Loss: 1.653187 Loss1: 0.066505 Loss2: 1.586682\n",
      "\u001b[36m(ClientAppActor pid=45470)\u001b[0m Epoch: 5 Loss: 1.630588 Loss1: 0.042035 Loss2: 1.588553\u001b[32m [repeated 3x across cluster]\u001b[0m\n",
      "\u001b[36m(ClientAppActor pid=45466)\u001b[0m Epoch: 6 Loss: 1.661064 Loss1: 0.102077 Loss2: 1.558987\n",
      "\u001b[36m(ClientAppActor pid=45469)\u001b[0m Epoch: 6 Loss: 1.778562 Loss1: 0.121802 Loss2: 1.656760\n",
      "\u001b[36m(ClientAppActor pid=45467)\u001b[0m Epoch: 6 Loss: 1.580652 Loss1: 0.024710 Loss2: 1.555942\n",
      "\u001b[36m(ClientAppActor pid=45468)\u001b[0m Epoch: 6 Loss: 1.578174 Loss1: 0.066404 Loss2: 1.511770\n",
      "\u001b[36m(ClientAppActor pid=45470)\u001b[0m Epoch: 6 Loss: 1.672595 Loss1: 0.075014 Loss2: 1.597580\u001b[32m [repeated 2x across cluster]\u001b[0m\n",
      "\u001b[36m(ClientAppActor pid=45466)\u001b[0m Epoch: 7 Loss: 1.635700 Loss1: 0.075258 Loss2: 1.560441\n",
      "\u001b[36m(ClientAppActor pid=45469)\u001b[0m Epoch: 7 Loss: 1.750893 Loss1: 0.098523 Loss2: 1.652370\n",
      "\u001b[36m(ClientAppActor pid=45467)\u001b[0m Epoch: 7 Loss: 1.595277 Loss1: 0.042855 Loss2: 1.552422\n",
      "\u001b[36m(ClientAppActor pid=45468)\u001b[0m Epoch: 7 Loss: 1.575000 Loss1: 0.067101 Loss2: 1.507899\n"
     ]
    },
    {
     "name": "stderr",
     "output_type": "stream",
     "text": [
      "\u001b[92mINFO \u001b[0m:      aggregate_fit: received 6 results and 0 failures\n"
     ]
    },
    {
     "name": "stdout",
     "output_type": "stream",
     "text": [
      "\u001b[36m(ClientAppActor pid=45470)\u001b[0m Epoch: 7 Loss: 1.723211 Loss1: 0.101515 Loss2: 1.621697\u001b[32m [repeated 2x across cluster]\u001b[0m\n"
     ]
    },
    {
     "name": "stderr",
     "output_type": "stream",
     "text": [
      "\u001b[92mINFO \u001b[0m:      fit progress: (15, 0.03661539088636637, {'accuracy': 0.7459}, 19463.75580945902)\n",
      "\u001b[92mINFO \u001b[0m:      configure_evaluate: strategy sampled 6 clients (out of 6)\n",
      "\u001b[36m(ClientAppActor pid=45469)\u001b[0m /Users/macbook/Desktop/L361/L361_Project/.conda/lib/python3.12/site-packages/datasets/utils/_dill.py:385: DeprecationWarning: co_lnotab is deprecated, use co_lines instead.\u001b[32m [repeated 6x across cluster]\u001b[0m\n",
      "\u001b[36m(ClientAppActor pid=45469)\u001b[0m   obj.co_lnotab,  # for < python 3.10 [not counted in args]\u001b[32m [repeated 6x across cluster]\u001b[0m\n"
     ]
    },
    {
     "name": "stdout",
     "output_type": "stream",
     "text": [
      "\u001b[36m(ClientAppActor pid=45469)\u001b[0m [Client 2] evaluate, config: {}\n"
     ]
    },
    {
     "name": "stderr",
     "output_type": "stream",
     "text": [
      "\u001b[92mINFO \u001b[0m:      aggregate_evaluate: received 6 results and 0 failures\n",
      "\u001b[92mINFO \u001b[0m:      \n",
      "\u001b[92mINFO \u001b[0m:      [ROUND 16]\n",
      "\u001b[92mINFO \u001b[0m:      configure_fit: strategy sampled 6 clients (out of 6)\n",
      "\u001b[36m(ClientAppActor pid=45469)\u001b[0m /Users/macbook/Desktop/L361/L361_Project/.conda/lib/python3.12/site-packages/datasets/utils/_dill.py:385: DeprecationWarning: co_lnotab is deprecated, use co_lines instead.\u001b[32m [repeated 6x across cluster]\u001b[0m\n",
      "\u001b[36m(ClientAppActor pid=45469)\u001b[0m   obj.co_lnotab,  # for < python 3.10 [not counted in args]\u001b[32m [repeated 6x across cluster]\u001b[0m\n"
     ]
    },
    {
     "name": "stdout",
     "output_type": "stream",
     "text": [
      "\u001b[36m(ClientAppActor pid=45469)\u001b[0m [Client 5] fit, config: {}\n",
      "\u001b[36m(ClientAppActor pid=45467)\u001b[0m [Client 3] evaluate, config: {}\u001b[32m [repeated 5x across cluster]\u001b[0m\n",
      "\u001b[36m(ClientAppActor pid=45469)\u001b[0m Started training moon\n",
      "\u001b[36m(ClientAppActor pid=45469)\u001b[0m Epoch: 0 Loss: 2.183261 Loss1: 0.220453 Loss2: 1.962808\n",
      "\u001b[36m(ClientAppActor pid=45468)\u001b[0m [Client 2] fit, config: {}\u001b[32m [repeated 5x across cluster]\u001b[0m\n",
      "\u001b[36m(ClientAppActor pid=45468)\u001b[0m Started training moon\u001b[32m [repeated 5x across cluster]\u001b[0m\n",
      "\u001b[36m(ClientAppActor pid=45471)\u001b[0m Epoch: 0 Loss: 1.923033 Loss1: 0.195707 Loss2: 1.727325\u001b[32m [repeated 3x across cluster]\u001b[0m\n",
      "\u001b[36m(ClientAppActor pid=45469)\u001b[0m Epoch: 1 Loss: 2.008355 Loss1: 0.107912 Loss2: 1.900442\u001b[32m [repeated 3x across cluster]\u001b[0m\n",
      "\u001b[36m(ClientAppActor pid=45467)\u001b[0m Epoch: 1 Loss: 2.112305 Loss1: 0.093826 Loss2: 2.018478\u001b[32m [repeated 2x across cluster]\u001b[0m\n",
      "\u001b[36m(ClientAppActor pid=45471)\u001b[0m Epoch: 1 Loss: 1.767115 Loss1: 0.093357 Loss2: 1.673758\n",
      "\u001b[36m(ClientAppActor pid=45468)\u001b[0m Epoch: 1 Loss: 1.944979 Loss1: 0.091419 Loss2: 1.853560\n",
      "\u001b[36m(ClientAppActor pid=45469)\u001b[0m Epoch: 2 Loss: 1.968590 Loss1: 0.088145 Loss2: 1.880445\u001b[32m [repeated 2x across cluster]\u001b[0m\n",
      "\u001b[36m(ClientAppActor pid=45467)\u001b[0m Epoch: 2 Loss: 2.055877 Loss1: 0.064914 Loss2: 1.990963\u001b[32m [repeated 2x across cluster]\u001b[0m\n",
      "\u001b[36m(ClientAppActor pid=45471)\u001b[0m Epoch: 2 Loss: 1.745363 Loss1: 0.093267 Loss2: 1.652096\n",
      "\u001b[36m(ClientAppActor pid=45468)\u001b[0m Epoch: 2 Loss: 1.926096 Loss1: 0.085960 Loss2: 1.840136\n",
      "\u001b[36m(ClientAppActor pid=45469)\u001b[0m Epoch: 3 Loss: 1.968229 Loss1: 0.090867 Loss2: 1.877362\u001b[32m [repeated 2x across cluster]\u001b[0m\n",
      "\u001b[36m(ClientAppActor pid=45466)\u001b[0m Epoch: 3 Loss: 1.830043 Loss1: 0.079246 Loss2: 1.750797\n",
      "\u001b[36m(ClientAppActor pid=45467)\u001b[0m Epoch: 3 Loss: 2.005164 Loss1: 0.046838 Loss2: 1.958326\n",
      "\u001b[36m(ClientAppActor pid=45471)\u001b[0m Epoch: 3 Loss: 1.789873 Loss1: 0.121006 Loss2: 1.668867\n",
      "\u001b[36m(ClientAppActor pid=45468)\u001b[0m Epoch: 3 Loss: 1.900157 Loss1: 0.072643 Loss2: 1.827514\n",
      "\u001b[36m(ClientAppActor pid=45469)\u001b[0m Epoch: 4 Loss: 1.937267 Loss1: 0.074328 Loss2: 1.862939\u001b[32m [repeated 2x across cluster]\u001b[0m\n",
      "\u001b[36m(ClientAppActor pid=45467)\u001b[0m Epoch: 4 Loss: 1.986915 Loss1: 0.046713 Loss2: 1.940201\n",
      "\u001b[36m(ClientAppActor pid=45466)\u001b[0m Epoch: 4 Loss: 1.812163 Loss1: 0.075007 Loss2: 1.737157\n",
      "\u001b[36m(ClientAppActor pid=45471)\u001b[0m Epoch: 4 Loss: 1.725503 Loss1: 0.082068 Loss2: 1.643435\n",
      "\u001b[36m(ClientAppActor pid=45468)\u001b[0m Epoch: 4 Loss: 1.879374 Loss1: 0.063573 Loss2: 1.815801\n",
      "\u001b[36m(ClientAppActor pid=45469)\u001b[0m Epoch: 5 Loss: 1.879299 Loss1: 0.042542 Loss2: 1.836757\u001b[32m [repeated 2x across cluster]\u001b[0m\n",
      "\u001b[36m(ClientAppActor pid=45467)\u001b[0m Epoch: 5 Loss: 2.047642 Loss1: 0.081145 Loss2: 1.966497\n",
      "\u001b[36m(ClientAppActor pid=45466)\u001b[0m Epoch: 5 Loss: 1.780867 Loss1: 0.054122 Loss2: 1.726744\n",
      "\u001b[36m(ClientAppActor pid=45471)\u001b[0m Epoch: 5 Loss: 1.686013 Loss1: 0.054545 Loss2: 1.631468\n",
      "\u001b[36m(ClientAppActor pid=45468)\u001b[0m Epoch: 5 Loss: 1.869855 Loss1: 0.067996 Loss2: 1.801859\n",
      "\u001b[36m(ClientAppActor pid=45470)\u001b[0m Epoch: 5 Loss: 1.938422 Loss1: 0.102971 Loss2: 1.835451\n",
      "\u001b[36m(ClientAppActor pid=45469)\u001b[0m Epoch: 6 Loss: 1.873868 Loss1: 0.050703 Loss2: 1.823165\n",
      "\u001b[36m(ClientAppActor pid=45467)\u001b[0m Epoch: 6 Loss: 2.091324 Loss1: 0.111246 Loss2: 1.980078\n",
      "\u001b[36m(ClientAppActor pid=45466)\u001b[0m Epoch: 6 Loss: 1.753703 Loss1: 0.044737 Loss2: 1.708966\n",
      "\u001b[36m(ClientAppActor pid=45471)\u001b[0m Epoch: 6 Loss: 1.770750 Loss1: 0.116799 Loss2: 1.653951\n",
      "\u001b[36m(ClientAppActor pid=45468)\u001b[0m Epoch: 6 Loss: 1.906131 Loss1: 0.088851 Loss2: 1.817280\n",
      "\u001b[36m(ClientAppActor pid=45470)\u001b[0m Epoch: 6 Loss: 1.896189 Loss1: 0.074182 Loss2: 1.822007\n",
      "\u001b[36m(ClientAppActor pid=45469)\u001b[0m Epoch: 7 Loss: 1.875698 Loss1: 0.054579 Loss2: 1.821119\n",
      "\u001b[36m(ClientAppActor pid=45467)\u001b[0m Epoch: 7 Loss: 2.048589 Loss1: 0.081887 Loss2: 1.966702\n",
      "\u001b[36m(ClientAppActor pid=45466)\u001b[0m Epoch: 7 Loss: 1.791115 Loss1: 0.074377 Loss2: 1.716738\n",
      "\u001b[36m(ClientAppActor pid=45471)\u001b[0m Epoch: 7 Loss: 1.758423 Loss1: 0.114711 Loss2: 1.643712\n",
      "\u001b[36m(ClientAppActor pid=45468)\u001b[0m Epoch: 7 Loss: 1.897298 Loss1: 0.083120 Loss2: 1.814178\n"
     ]
    },
    {
     "name": "stderr",
     "output_type": "stream",
     "text": [
      "\u001b[92mINFO \u001b[0m:      aggregate_fit: received 6 results and 0 failures\n",
      "\u001b[92mINFO \u001b[0m:      fit progress: (16, 0.036959505558013916, {'accuracy': 0.742}, 20744.46342795901)\n",
      "\u001b[92mINFO \u001b[0m:      configure_evaluate: strategy sampled 6 clients (out of 6)\n",
      "\u001b[36m(ClientAppActor pid=45468)\u001b[0m /Users/macbook/Desktop/L361/L361_Project/.conda/lib/python3.12/site-packages/datasets/utils/_dill.py:385: DeprecationWarning: co_lnotab is deprecated, use co_lines instead.\u001b[32m [repeated 6x across cluster]\u001b[0m\n",
      "\u001b[36m(ClientAppActor pid=45468)\u001b[0m   obj.co_lnotab,  # for < python 3.10 [not counted in args]\u001b[32m [repeated 6x across cluster]\u001b[0m\n"
     ]
    },
    {
     "name": "stdout",
     "output_type": "stream",
     "text": [
      "\u001b[36m(ClientAppActor pid=45468)\u001b[0m [Client 2] evaluate, config: {}\n",
      "\u001b[36m(ClientAppActor pid=45470)\u001b[0m Epoch: 7 Loss: 1.859940 Loss1: 0.050121 Loss2: 1.809819\n"
     ]
    },
    {
     "name": "stderr",
     "output_type": "stream",
     "text": [
      "\u001b[92mINFO \u001b[0m:      aggregate_evaluate: received 6 results and 0 failures\n",
      "\u001b[92mINFO \u001b[0m:      \n",
      "\u001b[92mINFO \u001b[0m:      [ROUND 17]\n",
      "\u001b[92mINFO \u001b[0m:      configure_fit: strategy sampled 6 clients (out of 6)\n",
      "\u001b[36m(ClientAppActor pid=45468)\u001b[0m /Users/macbook/Desktop/L361/L361_Project/.conda/lib/python3.12/site-packages/datasets/utils/_dill.py:385: DeprecationWarning: co_lnotab is deprecated, use co_lines instead.\u001b[32m [repeated 6x across cluster]\u001b[0m\n",
      "\u001b[36m(ClientAppActor pid=45468)\u001b[0m   obj.co_lnotab,  # for < python 3.10 [not counted in args]\u001b[32m [repeated 6x across cluster]\u001b[0m\n"
     ]
    },
    {
     "name": "stdout",
     "output_type": "stream",
     "text": [
      "\u001b[36m(ClientAppActor pid=45468)\u001b[0m [Client 1] fit, config: {}\n",
      "\u001b[36m(ClientAppActor pid=45467)\u001b[0m [Client 1] evaluate, config: {}\u001b[32m [repeated 5x across cluster]\u001b[0m\n",
      "\u001b[36m(ClientAppActor pid=45468)\u001b[0m Started training moon\n",
      "\u001b[36m(ClientAppActor pid=45471)\u001b[0m \n",
      "\u001b[36m(ClientAppActor pid=45468)\u001b[0m Epoch: 0 Loss: 1.841510 Loss1: 0.185937 Loss2: 1.655573\n",
      "\u001b[36m(ClientAppActor pid=45470)\u001b[0m [Client 5] fit, config: {}\u001b[32m [repeated 5x across cluster]\u001b[0m\n",
      "\u001b[36m(ClientAppActor pid=45470)\u001b[0m Started training moon\u001b[32m [repeated 5x across cluster]\u001b[0m\n",
      "\u001b[36m(ClientAppActor pid=45470)\u001b[0m Epoch: 0 Loss: 2.063792 Loss1: 0.200826 Loss2: 1.862966\u001b[32m [repeated 5x across cluster]\u001b[0m\n",
      "\u001b[36m(ClientAppActor pid=45471)\u001b[0m Epoch: 1 Loss: 1.969047 Loss1: 0.065832 Loss2: 1.903216\n",
      "\u001b[36m(ClientAppActor pid=45469)\u001b[0m Epoch: 1 Loss: 2.035760 Loss1: 0.086327 Loss2: 1.949432\n",
      "\u001b[36m(ClientAppActor pid=45467)\u001b[0m Epoch: 1 Loss: 1.829264 Loss1: 0.105753 Loss2: 1.723510\u001b[32m [repeated 3x across cluster]\u001b[0m\n",
      "\u001b[36m(ClientAppActor pid=45471)\u001b[0m Epoch: 2 Loss: 1.953774 Loss1: 0.067898 Loss2: 1.885876\u001b[32m [repeated 2x across cluster]\u001b[0m\n",
      "\u001b[36m(ClientAppActor pid=45466)\u001b[0m Epoch: 2 Loss: 1.792337 Loss1: 0.061433 Loss2: 1.730904\u001b[32m [repeated 2x across cluster]\u001b[0m\n",
      "\u001b[36m(ClientAppActor pid=45470)\u001b[0m Epoch: 2 Loss: 1.851508 Loss1: 0.070141 Loss2: 1.781367\u001b[32m [repeated 2x across cluster]\u001b[0m\n",
      "\u001b[36m(ClientAppActor pid=45471)\u001b[0m Epoch: 3 Loss: 1.959696 Loss1: 0.072558 Loss2: 1.887138\u001b[32m [repeated 2x across cluster]\u001b[0m\n",
      "\u001b[36m(ClientAppActor pid=45466)\u001b[0m Epoch: 3 Loss: 1.813572 Loss1: 0.087466 Loss2: 1.726105\u001b[32m [repeated 2x across cluster]\u001b[0m\n",
      "\u001b[36m(ClientAppActor pid=45468)\u001b[0m Epoch: 3 Loss: 1.641602 Loss1: 0.077226 Loss2: 1.564376\n",
      "\u001b[36m(ClientAppActor pid=45470)\u001b[0m Epoch: 3 Loss: 1.810360 Loss1: 0.055806 Loss2: 1.754554\n",
      "\u001b[36m(ClientAppActor pid=45471)\u001b[0m Epoch: 4 Loss: 1.994936 Loss1: 0.101771 Loss2: 1.893165\u001b[32m [repeated 2x across cluster]\u001b[0m\n",
      "\u001b[36m(ClientAppActor pid=45466)\u001b[0m Epoch: 4 Loss: 1.844337 Loss1: 0.101997 Loss2: 1.742340\u001b[32m [repeated 2x across cluster]\u001b[0m\n",
      "\u001b[36m(ClientAppActor pid=45470)\u001b[0m Epoch: 4 Loss: 1.850873 Loss1: 0.092797 Loss2: 1.758076\n",
      "\u001b[36m(ClientAppActor pid=45468)\u001b[0m Epoch: 4 Loss: 1.663286 Loss1: 0.099268 Loss2: 1.564019\n",
      "\u001b[36m(ClientAppActor pid=45467)\u001b[0m Epoch: 4 Loss: 1.845736 Loss1: 0.145734 Loss2: 1.700002\n",
      "\u001b[36m(ClientAppActor pid=45469)\u001b[0m Epoch: 5 Loss: 1.996050 Loss1: 0.094916 Loss2: 1.901134\n",
      "\u001b[36m(ClientAppActor pid=45466)\u001b[0m Epoch: 5 Loss: 1.770855 Loss1: 0.055744 Loss2: 1.715111\u001b[32m [repeated 2x across cluster]\u001b[0m\n",
      "\u001b[36m(ClientAppActor pid=45470)\u001b[0m Epoch: 5 Loss: 1.840706 Loss1: 0.084893 Loss2: 1.755813\n",
      "\u001b[36m(ClientAppActor pid=45468)\u001b[0m Epoch: 5 Loss: 1.615661 Loss1: 0.069098 Loss2: 1.546563\n",
      "\u001b[36m(ClientAppActor pid=45469)\u001b[0m Epoch: 6 Loss: 1.970730 Loss1: 0.077757 Loss2: 1.892973\u001b[32m [repeated 2x across cluster]\u001b[0m\n",
      "\u001b[36m(ClientAppActor pid=45466)\u001b[0m Epoch: 6 Loss: 1.744699 Loss1: 0.050558 Loss2: 1.694141\u001b[32m [repeated 2x across cluster]\u001b[0m\n",
      "\u001b[36m(ClientAppActor pid=45467)\u001b[0m Epoch: 6 Loss: 1.751046 Loss1: 0.075312 Loss2: 1.675734\n",
      "\u001b[36m(ClientAppActor pid=45468)\u001b[0m Epoch: 6 Loss: 1.681025 Loss1: 0.119061 Loss2: 1.561964\n",
      "\u001b[36m(ClientAppActor pid=45469)\u001b[0m Epoch: 7 Loss: 1.907574 Loss1: 0.044839 Loss2: 1.862736\u001b[32m [repeated 2x across cluster]\u001b[0m\n",
      "\u001b[36m(ClientAppActor pid=45466)\u001b[0m Epoch: 7 Loss: 1.757424 Loss1: 0.063092 Loss2: 1.694331\u001b[32m [repeated 2x across cluster]\u001b[0m\n",
      "\u001b[36m(ClientAppActor pid=45467)\u001b[0m Epoch: 7 Loss: 1.732532 Loss1: 0.062832 Loss2: 1.669700\n",
      "\u001b[36m(ClientAppActor pid=45468)\u001b[0m Epoch: 7 Loss: 1.591053 Loss1: 0.055310 Loss2: 1.535742\n"
     ]
    },
    {
     "name": "stderr",
     "output_type": "stream",
     "text": [
      "\u001b[92mINFO \u001b[0m:      aggregate_fit: received 6 results and 0 failures\n",
      "\u001b[92mINFO \u001b[0m:      fit progress: (17, 0.03939656581133604, {'accuracy': 0.7479}, 22023.081186624942)\n",
      "\u001b[92mINFO \u001b[0m:      configure_evaluate: strategy sampled 6 clients (out of 6)\n",
      "\u001b[36m(ClientAppActor pid=45466)\u001b[0m /Users/macbook/Desktop/L361/L361_Project/.conda/lib/python3.12/site-packages/datasets/utils/_dill.py:385: DeprecationWarning: co_lnotab is deprecated, use co_lines instead.\u001b[32m [repeated 7x across cluster]\u001b[0m\n",
      "\u001b[36m(ClientAppActor pid=45466)\u001b[0m   obj.co_lnotab,  # for < python 3.10 [not counted in args]\u001b[32m [repeated 7x across cluster]\u001b[0m\n"
     ]
    },
    {
     "name": "stdout",
     "output_type": "stream",
     "text": [
      "\u001b[36m(ClientAppActor pid=45466)\u001b[0m [Client 1] evaluate, config: {}\n",
      "\u001b[36m(ClientAppActor pid=45470)\u001b[0m Epoch: 7 Loss: 1.777122 Loss1: 0.048898 Loss2: 1.728224\n",
      "\u001b[36m(ClientAppActor pid=45470)\u001b[0m \n"
     ]
    },
    {
     "name": "stderr",
     "output_type": "stream",
     "text": [
      "\u001b[92mINFO \u001b[0m:      aggregate_evaluate: received 6 results and 0 failures\n",
      "\u001b[92mINFO \u001b[0m:      \n",
      "\u001b[92mINFO \u001b[0m:      [ROUND 18]\n",
      "\u001b[92mINFO \u001b[0m:      configure_fit: strategy sampled 6 clients (out of 6)\n",
      "\u001b[36m(ClientAppActor pid=45469)\u001b[0m /Users/macbook/Desktop/L361/L361_Project/.conda/lib/python3.12/site-packages/datasets/utils/_dill.py:385: DeprecationWarning: co_lnotab is deprecated, use co_lines instead.\u001b[32m [repeated 6x across cluster]\u001b[0m\n",
      "\u001b[36m(ClientAppActor pid=45469)\u001b[0m   obj.co_lnotab,  # for < python 3.10 [not counted in args]\u001b[32m [repeated 6x across cluster]\u001b[0m\n"
     ]
    },
    {
     "name": "stdout",
     "output_type": "stream",
     "text": [
      "\u001b[36m(ClientAppActor pid=45469)\u001b[0m [Client 3] fit, config: {}\n",
      "\u001b[36m(ClientAppActor pid=45469)\u001b[0m [Client 5] evaluate, config: {}\u001b[32m [repeated 5x across cluster]\u001b[0m\n",
      "\u001b[36m(ClientAppActor pid=45469)\u001b[0m Started training moon\n",
      "\u001b[36m(ClientAppActor pid=45466)\u001b[0m Epoch: 0 Loss: 2.232730 Loss1: 0.192538 Loss2: 2.040192\n",
      "\u001b[36m(ClientAppActor pid=45467)\u001b[0m [Client 0] fit, config: {}\u001b[32m [repeated 5x across cluster]\u001b[0m\n",
      "\u001b[36m(ClientAppActor pid=45467)\u001b[0m Started training moon\u001b[32m [repeated 5x across cluster]\u001b[0m\n",
      "\u001b[36m(ClientAppActor pid=45470)\u001b[0m Epoch: 0 Loss: 2.322279 Loss1: 0.159528 Loss2: 2.162751\u001b[32m [repeated 4x across cluster]\u001b[0m\n",
      "\u001b[36m(ClientAppActor pid=45469)\u001b[0m Epoch: 1 Loss: 1.826776 Loss1: 0.081269 Loss2: 1.745507\u001b[32m [repeated 2x across cluster]\u001b[0m\n",
      "\u001b[36m(ClientAppActor pid=45470)\u001b[0m Epoch: 1 Loss: 2.148587 Loss1: 0.074325 Loss2: 2.074262\u001b[32m [repeated 4x across cluster]\u001b[0m\n",
      "\u001b[36m(ClientAppActor pid=45469)\u001b[0m Epoch: 2 Loss: 1.809485 Loss1: 0.076233 Loss2: 1.733252\u001b[32m [repeated 2x across cluster]\u001b[0m\n",
      "\u001b[36m(ClientAppActor pid=45471)\u001b[0m Epoch: 2 Loss: 1.967926 Loss1: 0.065100 Loss2: 1.902826\u001b[32m [repeated 3x across cluster]\u001b[0m\n",
      "\u001b[36m(ClientAppActor pid=45468)\u001b[0m Epoch: 2 Loss: 1.751937 Loss1: 0.102650 Loss2: 1.649287\u001b[32m [repeated 2x across cluster]\u001b[0m\n",
      "\u001b[36m(ClientAppActor pid=45466)\u001b[0m Epoch: 3 Loss: 1.989669 Loss1: 0.074446 Loss2: 1.915223\n",
      "\u001b[36m(ClientAppActor pid=45469)\u001b[0m Epoch: 3 Loss: 1.829521 Loss1: 0.102185 Loss2: 1.727336\n",
      "\u001b[36m(ClientAppActor pid=45467)\u001b[0m Epoch: 3 Loss: 1.863075 Loss1: 0.084098 Loss2: 1.778977\n",
      "\u001b[36m(ClientAppActor pid=45471)\u001b[0m Epoch: 3 Loss: 1.963281 Loss1: 0.068437 Loss2: 1.894844\n",
      "\u001b[36m(ClientAppActor pid=45470)\u001b[0m Epoch: 3 Loss: 2.138190 Loss1: 0.089728 Loss2: 2.048462\n",
      "\u001b[36m(ClientAppActor pid=45468)\u001b[0m Epoch: 3 Loss: 1.732864 Loss1: 0.094720 Loss2: 1.638144\n",
      "\u001b[36m(ClientAppActor pid=45466)\u001b[0m Epoch: 4 Loss: 1.970674 Loss1: 0.063295 Loss2: 1.907379\n",
      "\u001b[36m(ClientAppActor pid=45469)\u001b[0m Epoch: 4 Loss: 1.817806 Loss1: 0.100074 Loss2: 1.717732\n",
      "\u001b[36m(ClientAppActor pid=45467)\u001b[0m Epoch: 4 Loss: 1.839633 Loss1: 0.073673 Loss2: 1.765960\n",
      "\u001b[36m(ClientAppActor pid=45471)\u001b[0m Epoch: 4 Loss: 2.017996 Loss1: 0.108693 Loss2: 1.909304\n",
      "\u001b[36m(ClientAppActor pid=45468)\u001b[0m Epoch: 4 Loss: 1.712955 Loss1: 0.084406 Loss2: 1.628549\u001b[32m [repeated 2x across cluster]\u001b[0m\n",
      "\u001b[36m(ClientAppActor pid=45466)\u001b[0m Epoch: 5 Loss: 2.027314 Loss1: 0.110359 Loss2: 1.916955\n",
      "\u001b[36m(ClientAppActor pid=45469)\u001b[0m Epoch: 5 Loss: 1.767316 Loss1: 0.064589 Loss2: 1.702727\n",
      "\u001b[36m(ClientAppActor pid=45471)\u001b[0m Epoch: 5 Loss: 1.971107 Loss1: 0.074476 Loss2: 1.896632\u001b[32m [repeated 2x across cluster]\u001b[0m\n",
      "\u001b[36m(ClientAppActor pid=45468)\u001b[0m Epoch: 5 Loss: 1.683170 Loss1: 0.068955 Loss2: 1.614216\u001b[32m [repeated 2x across cluster]\u001b[0m\n",
      "\u001b[36m(ClientAppActor pid=45466)\u001b[0m Epoch: 6 Loss: 2.028118 Loss1: 0.111193 Loss2: 1.916925\n",
      "\u001b[36m(ClientAppActor pid=45469)\u001b[0m Epoch: 6 Loss: 1.725705 Loss1: 0.042450 Loss2: 1.683255\n",
      "\u001b[36m(ClientAppActor pid=45467)\u001b[0m Epoch: 6 Loss: 1.950293 Loss1: 0.162749 Loss2: 1.787545\n",
      "\u001b[36m(ClientAppActor pid=45471)\u001b[0m Epoch: 6 Loss: 2.022004 Loss1: 0.111931 Loss2: 1.910073\n",
      "\u001b[36m(ClientAppActor pid=45468)\u001b[0m Epoch: 6 Loss: 1.684720 Loss1: 0.074435 Loss2: 1.610284\u001b[32m [repeated 2x across cluster]\u001b[0m\n",
      "\u001b[36m(ClientAppActor pid=45466)\u001b[0m Epoch: 7 Loss: 2.022718 Loss1: 0.105791 Loss2: 1.916927\n",
      "\u001b[36m(ClientAppActor pid=45469)\u001b[0m Epoch: 7 Loss: 1.736983 Loss1: 0.058126 Loss2: 1.678857\n",
      "\u001b[36m(ClientAppActor pid=45467)\u001b[0m Epoch: 7 Loss: 1.828120 Loss1: 0.070653 Loss2: 1.757467\n",
      "\u001b[36m(ClientAppActor pid=45470)\u001b[0m Epoch: 7 Loss: 2.021076 Loss1: 0.037642 Loss2: 1.983434\n"
     ]
    },
    {
     "name": "stderr",
     "output_type": "stream",
     "text": [
      "\u001b[92mINFO \u001b[0m:      aggregate_fit: received 6 results and 0 failures\n"
     ]
    },
    {
     "name": "stdout",
     "output_type": "stream",
     "text": [
      "\u001b[36m(ClientAppActor pid=45468)\u001b[0m Epoch: 7 Loss: 1.651505 Loss1: 0.054971 Loss2: 1.596535\u001b[32m [repeated 2x across cluster]\u001b[0m\n"
     ]
    },
    {
     "name": "stderr",
     "output_type": "stream",
     "text": [
      "\u001b[92mINFO \u001b[0m:      fit progress: (18, 0.03860772588253021, {'accuracy': 0.7342}, 23307.257819666993)\n",
      "\u001b[92mINFO \u001b[0m:      configure_evaluate: strategy sampled 6 clients (out of 6)\n"
     ]
    },
    {
     "name": "stdout",
     "output_type": "stream",
     "text": [
      "\u001b[36m(ClientAppActor pid=45471)\u001b[0m [Client 5] evaluate, config: {}\n"
     ]
    },
    {
     "name": "stderr",
     "output_type": "stream",
     "text": [
      "\u001b[36m(ClientAppActor pid=45468)\u001b[0m /Users/macbook/Desktop/L361/L361_Project/.conda/lib/python3.12/site-packages/datasets/utils/_dill.py:385: DeprecationWarning: co_lnotab is deprecated, use co_lines instead.\u001b[32m [repeated 7x across cluster]\u001b[0m\n",
      "\u001b[36m(ClientAppActor pid=45468)\u001b[0m   obj.co_lnotab,  # for < python 3.10 [not counted in args]\u001b[32m [repeated 7x across cluster]\u001b[0m\n",
      "\u001b[92mINFO \u001b[0m:      aggregate_evaluate: received 6 results and 0 failures\n",
      "\u001b[92mINFO \u001b[0m:      \n",
      "\u001b[92mINFO \u001b[0m:      [ROUND 19]\n",
      "\u001b[92mINFO \u001b[0m:      configure_fit: strategy sampled 6 clients (out of 6)\n",
      "\u001b[36m(ClientAppActor pid=45469)\u001b[0m /Users/macbook/Desktop/L361/L361_Project/.conda/lib/python3.12/site-packages/datasets/utils/_dill.py:385: DeprecationWarning: co_lnotab is deprecated, use co_lines instead.\u001b[32m [repeated 6x across cluster]\u001b[0m\n",
      "\u001b[36m(ClientAppActor pid=45469)\u001b[0m   obj.co_lnotab,  # for < python 3.10 [not counted in args]\u001b[32m [repeated 6x across cluster]\u001b[0m\n"
     ]
    },
    {
     "name": "stdout",
     "output_type": "stream",
     "text": [
      "\u001b[36m(ClientAppActor pid=45469)\u001b[0m [Client 3] fit, config: {}\n",
      "\u001b[36m(ClientAppActor pid=45469)\u001b[0m Started training moon\n",
      "\u001b[36m(ClientAppActor pid=45466)\u001b[0m [Client 2] evaluate, config: {}\u001b[32m [repeated 5x across cluster]\u001b[0m\n",
      "\u001b[36m(ClientAppActor pid=45469)\u001b[0m Epoch: 0 Loss: 2.102867 Loss1: 0.178789 Loss2: 1.924077\n",
      "\u001b[36m(ClientAppActor pid=45471)\u001b[0m [Client 1] fit, config: {}\u001b[32m [repeated 5x across cluster]\u001b[0m\n",
      "\u001b[36m(ClientAppActor pid=45471)\u001b[0m Started training moon\u001b[32m [repeated 5x across cluster]\u001b[0m\n",
      "\u001b[36m(ClientAppActor pid=45468)\u001b[0m Epoch: 0 Loss: 2.134414 Loss1: 0.172668 Loss2: 1.961746\u001b[32m [repeated 4x across cluster]\u001b[0m\n",
      "\u001b[36m(ClientAppActor pid=45470)\u001b[0m Epoch: 1 Loss: 1.932416 Loss1: 0.088975 Loss2: 1.843441\u001b[32m [repeated 2x across cluster]\u001b[0m\n",
      "\u001b[36m(ClientAppActor pid=45467)\u001b[0m Epoch: 1 Loss: 2.079087 Loss1: 0.080090 Loss2: 1.998997\u001b[32m [repeated 3x across cluster]\u001b[0m\n",
      "\u001b[36m(ClientAppActor pid=45470)\u001b[0m Epoch: 2 Loss: 1.869817 Loss1: 0.050229 Loss2: 1.819588\u001b[32m [repeated 3x across cluster]\u001b[0m\n",
      "\u001b[36m(ClientAppActor pid=45467)\u001b[0m Epoch: 2 Loss: 2.031061 Loss1: 0.069900 Loss2: 1.961161\u001b[32m [repeated 3x across cluster]\u001b[0m\n",
      "\u001b[36m(ClientAppActor pid=45470)\u001b[0m Epoch: 3 Loss: 1.967718 Loss1: 0.141980 Loss2: 1.825738\u001b[32m [repeated 3x across cluster]\u001b[0m\n",
      "\u001b[36m(ClientAppActor pid=45469)\u001b[0m Epoch: 3 Loss: 1.877703 Loss1: 0.074726 Loss2: 1.802978\u001b[32m [repeated 2x across cluster]\u001b[0m\n",
      "\u001b[36m(ClientAppActor pid=45468)\u001b[0m Epoch: 3 Loss: 1.895220 Loss1: 0.053613 Loss2: 1.841607\u001b[32m [repeated 2x across cluster]\u001b[0m\n",
      "\u001b[36m(ClientAppActor pid=45471)\u001b[0m Epoch: 3 Loss: 1.725040 Loss1: 0.083714 Loss2: 1.641326\n",
      "\u001b[36m(ClientAppActor pid=45470)\u001b[0m Epoch: 4 Loss: 2.105789 Loss1: 0.235501 Loss2: 1.870288\n",
      "\u001b[36m(ClientAppActor pid=45469)\u001b[0m Epoch: 4 Loss: 1.923486 Loss1: 0.108075 Loss2: 1.815411\u001b[32m [repeated 2x across cluster]\u001b[0m\n",
      "\u001b[36m(ClientAppActor pid=45468)\u001b[0m Epoch: 4 Loss: 1.881988 Loss1: 0.057883 Loss2: 1.824105\u001b[32m [repeated 2x across cluster]\u001b[0m\n",
      "\u001b[36m(ClientAppActor pid=45471)\u001b[0m Epoch: 4 Loss: 1.663902 Loss1: 0.050799 Loss2: 1.613103\n",
      "\u001b[36m(ClientAppActor pid=45470)\u001b[0m Epoch: 5 Loss: 1.917989 Loss1: 0.091232 Loss2: 1.826757\n",
      "\u001b[36m(ClientAppActor pid=45469)\u001b[0m Epoch: 5 Loss: 1.910292 Loss1: 0.098163 Loss2: 1.812129\u001b[32m [repeated 2x across cluster]\u001b[0m\n",
      "\u001b[36m(ClientAppActor pid=45467)\u001b[0m Epoch: 5 Loss: 2.036714 Loss1: 0.093052 Loss2: 1.943662\n",
      "\u001b[36m(ClientAppActor pid=45468)\u001b[0m Epoch: 5 Loss: 1.874162 Loss1: 0.057812 Loss2: 1.816349\n",
      "\u001b[36m(ClientAppActor pid=45470)\u001b[0m Epoch: 6 Loss: 1.834460 Loss1: 0.044916 Loss2: 1.789544\u001b[32m [repeated 2x across cluster]\u001b[0m\n",
      "\u001b[36m(ClientAppActor pid=45466)\u001b[0m Epoch: 6 Loss: 1.961989 Loss1: 0.048073 Loss2: 1.913916\n",
      "\u001b[36m(ClientAppActor pid=45469)\u001b[0m Epoch: 6 Loss: 1.935582 Loss1: 0.119308 Loss2: 1.816274\n",
      "\u001b[36m(ClientAppActor pid=45468)\u001b[0m Epoch: 6 Loss: 1.956101 Loss1: 0.123008 Loss2: 1.833093\u001b[32m [repeated 2x across cluster]\u001b[0m\n",
      "\u001b[36m(ClientAppActor pid=45470)\u001b[0m Epoch: 7 Loss: 1.795551 Loss1: 0.028729 Loss2: 1.766822\u001b[32m [repeated 2x across cluster]\u001b[0m\n",
      "\u001b[36m(ClientAppActor pid=45469)\u001b[0m Epoch: 7 Loss: 1.841304 Loss1: 0.059080 Loss2: 1.782225\u001b[32m [repeated 2x across cluster]\u001b[0m\n",
      "\u001b[36m(ClientAppActor pid=45468)\u001b[0m Epoch: 7 Loss: 1.902374 Loss1: 0.074716 Loss2: 1.827658\u001b[32m [repeated 2x across cluster]\u001b[0m\n"
     ]
    },
    {
     "name": "stderr",
     "output_type": "stream",
     "text": [
      "\u001b[92mINFO \u001b[0m:      aggregate_fit: received 6 results and 0 failures\n",
      "\u001b[92mINFO \u001b[0m:      fit progress: (19, 0.038691783556342126, {'accuracy': 0.7412}, 24579.037556541967)\n",
      "\u001b[92mINFO \u001b[0m:      configure_evaluate: strategy sampled 6 clients (out of 6)\n",
      "\u001b[36m(ClientAppActor pid=45468)\u001b[0m /Users/macbook/Desktop/L361/L361_Project/.conda/lib/python3.12/site-packages/datasets/utils/_dill.py:385: DeprecationWarning: co_lnotab is deprecated, use co_lines instead.\u001b[32m [repeated 8x across cluster]\u001b[0m\n",
      "\u001b[36m(ClientAppActor pid=45468)\u001b[0m   obj.co_lnotab,  # for < python 3.10 [not counted in args]\u001b[32m [repeated 8x across cluster]\u001b[0m\n"
     ]
    },
    {
     "name": "stdout",
     "output_type": "stream",
     "text": [
      "\u001b[36m(ClientAppActor pid=45468)\u001b[0m [Client 3] evaluate, config: {}\n",
      "\u001b[36m(ClientAppActor pid=45471)\u001b[0m Epoch: 7 Loss: 1.769417 Loss1: 0.126833 Loss2: 1.642585\n"
     ]
    },
    {
     "name": "stderr",
     "output_type": "stream",
     "text": [
      "\u001b[92mINFO \u001b[0m:      aggregate_evaluate: received 6 results and 0 failures\n",
      "\u001b[92mINFO \u001b[0m:      \n",
      "\u001b[92mINFO \u001b[0m:      [ROUND 20]\n",
      "\u001b[92mINFO \u001b[0m:      configure_fit: strategy sampled 6 clients (out of 6)\n",
      "\u001b[36m(ClientAppActor pid=45470)\u001b[0m /Users/macbook/Desktop/L361/L361_Project/.conda/lib/python3.12/site-packages/datasets/utils/_dill.py:385: DeprecationWarning: co_lnotab is deprecated, use co_lines instead.\u001b[32m [repeated 6x across cluster]\u001b[0m\n",
      "\u001b[36m(ClientAppActor pid=45470)\u001b[0m   obj.co_lnotab,  # for < python 3.10 [not counted in args]\u001b[32m [repeated 6x across cluster]\u001b[0m\n"
     ]
    },
    {
     "name": "stdout",
     "output_type": "stream",
     "text": [
      "\u001b[36m(ClientAppActor pid=45470)\u001b[0m [Client 1] fit, config: {}\n",
      "\u001b[36m(ClientAppActor pid=45470)\u001b[0m Started training moon\n",
      "\u001b[36m(ClientAppActor pid=45470)\u001b[0m [Client 4] evaluate, config: {}\u001b[32m [repeated 5x across cluster]\u001b[0m\n",
      "\u001b[36m(ClientAppActor pid=45468)\u001b[0m Epoch: 0 Loss: 2.156526 Loss1: 0.151724 Loss2: 2.004802\n",
      "\u001b[36m(ClientAppActor pid=45471)\u001b[0m [Client 4] fit, config: {}\u001b[32m [repeated 5x across cluster]\u001b[0m\n",
      "\u001b[36m(ClientAppActor pid=45471)\u001b[0m Started training moon\u001b[32m [repeated 5x across cluster]\u001b[0m\n",
      "\u001b[36m(ClientAppActor pid=45471)\u001b[0m Epoch: 0 Loss: 2.065759 Loss1: 0.154949 Loss2: 1.910810\u001b[32m [repeated 4x across cluster]\u001b[0m\n",
      "\u001b[36m(ClientAppActor pid=45468)\u001b[0m Epoch: 1 Loss: 2.015316 Loss1: 0.091189 Loss2: 1.924127\u001b[32m [repeated 2x across cluster]\u001b[0m\n",
      "\u001b[36m(ClientAppActor pid=45471)\u001b[0m Epoch: 1 Loss: 1.940857 Loss1: 0.114098 Loss2: 1.826759\u001b[32m [repeated 4x across cluster]\u001b[0m\n",
      "\u001b[36m(ClientAppActor pid=45468)\u001b[0m Epoch: 2 Loss: 2.019509 Loss1: 0.096467 Loss2: 1.923042\u001b[32m [repeated 2x across cluster]\u001b[0m\n",
      "\u001b[36m(ClientAppActor pid=45471)\u001b[0m Epoch: 2 Loss: 1.868365 Loss1: 0.072464 Loss2: 1.795901\u001b[32m [repeated 4x across cluster]\u001b[0m\n",
      "\u001b[36m(ClientAppActor pid=45468)\u001b[0m Epoch: 3 Loss: 1.997971 Loss1: 0.095321 Loss2: 1.902649\u001b[32m [repeated 2x across cluster]\u001b[0m\n",
      "\u001b[36m(ClientAppActor pid=45467)\u001b[0m Epoch: 3 Loss: 2.011279 Loss1: 0.107094 Loss2: 1.904185\u001b[32m [repeated 3x across cluster]\u001b[0m\n",
      "\u001b[36m(ClientAppActor pid=45469)\u001b[0m Epoch: 3 Loss: 1.964432 Loss1: 0.089286 Loss2: 1.875146\u001b[32m [repeated 2x across cluster]\u001b[0m\n",
      "\u001b[36m(ClientAppActor pid=45468)\u001b[0m Epoch: 4 Loss: 1.924585 Loss1: 0.047289 Loss2: 1.877297\n",
      "\u001b[36m(ClientAppActor pid=45466)\u001b[0m Epoch: 4 Loss: 1.798265 Loss1: 0.052532 Loss2: 1.745733\n",
      "\u001b[36m(ClientAppActor pid=45467)\u001b[0m Epoch: 4 Loss: 2.020726 Loss1: 0.116906 Loss2: 1.903820\u001b[32m [repeated 2x across cluster]\u001b[0m\n",
      "\u001b[36m(ClientAppActor pid=45471)\u001b[0m Epoch: 4 Loss: 1.867046 Loss1: 0.077198 Loss2: 1.789848\n",
      "\u001b[36m(ClientAppActor pid=45469)\u001b[0m Epoch: 4 Loss: 1.941075 Loss1: 0.078907 Loss2: 1.862168\n",
      "\u001b[36m(ClientAppActor pid=45468)\u001b[0m Epoch: 5 Loss: 1.885843 Loss1: 0.030805 Loss2: 1.855039\n",
      "\u001b[36m(ClientAppActor pid=45466)\u001b[0m Epoch: 5 Loss: 1.746528 Loss1: 0.029890 Loss2: 1.716638\n",
      "\u001b[36m(ClientAppActor pid=45467)\u001b[0m Epoch: 5 Loss: 1.911209 Loss1: 0.048838 Loss2: 1.862371\u001b[32m [repeated 2x across cluster]\u001b[0m\n",
      "\u001b[36m(ClientAppActor pid=45471)\u001b[0m Epoch: 5 Loss: 1.884477 Loss1: 0.101408 Loss2: 1.783069\n",
      "\u001b[36m(ClientAppActor pid=45469)\u001b[0m Epoch: 5 Loss: 1.944688 Loss1: 0.080130 Loss2: 1.864557\n",
      "\u001b[36m(ClientAppActor pid=45468)\u001b[0m Epoch: 6 Loss: 1.896097 Loss1: 0.052726 Loss2: 1.843372\n",
      "\u001b[36m(ClientAppActor pid=45466)\u001b[0m Epoch: 6 Loss: 1.760551 Loss1: 0.046291 Loss2: 1.714260\n",
      "\u001b[36m(ClientAppActor pid=45467)\u001b[0m Epoch: 6 Loss: 1.870992 Loss1: 0.028885 Loss2: 1.842106\u001b[32m [repeated 2x across cluster]\u001b[0m\n",
      "\u001b[36m(ClientAppActor pid=45471)\u001b[0m Epoch: 6 Loss: 1.884256 Loss1: 0.103598 Loss2: 1.780657\n",
      "\u001b[36m(ClientAppActor pid=45469)\u001b[0m Epoch: 6 Loss: 1.924440 Loss1: 0.064433 Loss2: 1.860007\n",
      "\u001b[36m(ClientAppActor pid=45468)\u001b[0m Epoch: 7 Loss: 2.080990 Loss1: 0.180047 Loss2: 1.900943\n",
      "\u001b[36m(ClientAppActor pid=45466)\u001b[0m Epoch: 7 Loss: 1.859670 Loss1: 0.115090 Loss2: 1.744580\n",
      "\u001b[36m(ClientAppActor pid=45471)\u001b[0m Epoch: 7 Loss: 1.826101 Loss1: 0.061139 Loss2: 1.764961\u001b[32m [repeated 3x across cluster]\u001b[0m\n"
     ]
    },
    {
     "name": "stderr",
     "output_type": "stream",
     "text": [
      "\u001b[92mINFO \u001b[0m:      aggregate_fit: received 6 results and 0 failures\n"
     ]
    },
    {
     "name": "stdout",
     "output_type": "stream",
     "text": [
      "\u001b[36m(ClientAppActor pid=45469)\u001b[0m Epoch: 7 Loss: 1.900339 Loss1: 0.055330 Loss2: 1.845009\n"
     ]
    },
    {
     "name": "stderr",
     "output_type": "stream",
     "text": [
      "\u001b[92mINFO \u001b[0m:      fit progress: (20, 0.038738265505433085, {'accuracy': 0.7372}, 25854.43534866697)\n",
      "\u001b[92mINFO \u001b[0m:      configure_evaluate: strategy sampled 6 clients (out of 6)\n",
      "\u001b[36m(ClientAppActor pid=45466)\u001b[0m /Users/macbook/Desktop/L361/L361_Project/.conda/lib/python3.12/site-packages/datasets/utils/_dill.py:385: DeprecationWarning: co_lnotab is deprecated, use co_lines instead.\u001b[32m [repeated 7x across cluster]\u001b[0m\n",
      "\u001b[36m(ClientAppActor pid=45466)\u001b[0m   obj.co_lnotab,  # for < python 3.10 [not counted in args]\u001b[32m [repeated 7x across cluster]\u001b[0m\n"
     ]
    },
    {
     "name": "stdout",
     "output_type": "stream",
     "text": [
      "\u001b[36m(ClientAppActor pid=45467)\u001b[0m [Client 2] evaluate, config: {}\n"
     ]
    },
    {
     "name": "stderr",
     "output_type": "stream",
     "text": [
      "\u001b[92mINFO \u001b[0m:      aggregate_evaluate: received 6 results and 0 failures\n",
      "\u001b[92mINFO \u001b[0m:      \n",
      "\u001b[92mINFO \u001b[0m:      [ROUND 21]\n",
      "\u001b[92mINFO \u001b[0m:      configure_fit: strategy sampled 6 clients (out of 6)\n"
     ]
    },
    {
     "name": "stdout",
     "output_type": "stream",
     "text": [
      "\u001b[36m(ClientAppActor pid=45470)\u001b[0m [Client 5] fit, config: {}\n",
      "\u001b[36m(ClientAppActor pid=45468)\u001b[0m [Client 5] evaluate, config: {}\u001b[32m [repeated 5x across cluster]\u001b[0m\n",
      "\u001b[36m(ClientAppActor pid=45470)\u001b[0m Started training moon\n"
     ]
    },
    {
     "name": "stderr",
     "output_type": "stream",
     "text": [
      "\u001b[36m(ClientAppActor pid=45470)\u001b[0m /Users/macbook/Desktop/L361/L361_Project/.conda/lib/python3.12/site-packages/datasets/utils/_dill.py:385: DeprecationWarning: co_lnotab is deprecated, use co_lines instead.\u001b[32m [repeated 7x across cluster]\u001b[0m\n",
      "\u001b[36m(ClientAppActor pid=45470)\u001b[0m   obj.co_lnotab,  # for < python 3.10 [not counted in args]\u001b[32m [repeated 7x across cluster]\u001b[0m\n"
     ]
    },
    {
     "name": "stdout",
     "output_type": "stream",
     "text": [
      "\u001b[36m(ClientAppActor pid=45470)\u001b[0m Epoch: 0 Loss: 2.187202 Loss1: 0.153528 Loss2: 2.033674\n",
      "\u001b[36m(ClientAppActor pid=45468)\u001b[0m [Client 3] fit, config: {}\u001b[32m [repeated 5x across cluster]\u001b[0m\n",
      "\u001b[36m(ClientAppActor pid=45468)\u001b[0m Started training moon\u001b[32m [repeated 5x across cluster]\u001b[0m\n",
      "\u001b[36m(ClientAppActor pid=45471)\u001b[0m Epoch: 0 Loss: 2.208964 Loss1: 0.164914 Loss2: 2.044050\u001b[32m [repeated 4x across cluster]\u001b[0m\n",
      "\u001b[36m(ClientAppActor pid=45468)\u001b[0m Epoch: 1 Loss: 1.872198 Loss1: 0.084316 Loss2: 1.787881\u001b[32m [repeated 2x across cluster]\u001b[0m\n",
      "\u001b[36m(ClientAppActor pid=45469)\u001b[0m Epoch: 1 Loss: 2.124448 Loss1: 0.095058 Loss2: 2.029391\u001b[32m [repeated 5x across cluster]\u001b[0m\n",
      "\u001b[36m(ClientAppActor pid=45468)\u001b[0m Epoch: 2 Loss: 1.866300 Loss1: 0.085833 Loss2: 1.780468\n",
      "\u001b[36m(ClientAppActor pid=45466)\u001b[0m Epoch: 2 Loss: 2.141122 Loss1: 0.117551 Loss2: 2.023571\n",
      "\u001b[36m(ClientAppActor pid=45468)\u001b[0m Epoch: 3 Loss: 1.827657 Loss1: 0.074044 Loss2: 1.753612\u001b[32m [repeated 5x across cluster]\u001b[0m\n",
      "\u001b[36m(ClientAppActor pid=45470)\u001b[0m Epoch: 3 Loss: 2.002273 Loss1: 0.097970 Loss2: 1.904303\u001b[32m [repeated 2x across cluster]\u001b[0m\n",
      "\u001b[36m(ClientAppActor pid=45469)\u001b[0m Epoch: 3 Loss: 2.082738 Loss1: 0.078259 Loss2: 2.004479\u001b[32m [repeated 3x across cluster]\u001b[0m\n",
      "\u001b[36m(ClientAppActor pid=45468)\u001b[0m Epoch: 4 Loss: 1.824592 Loss1: 0.070458 Loss2: 1.754134\n",
      "\u001b[36m(ClientAppActor pid=45470)\u001b[0m Epoch: 4 Loss: 1.969498 Loss1: 0.078214 Loss2: 1.891284\n",
      "\u001b[36m(ClientAppActor pid=45471)\u001b[0m \n",
      "\u001b[36m(ClientAppActor pid=45469)\u001b[0m Epoch: 4 Loss: 2.024233 Loss1: 0.045409 Loss2: 1.978824\u001b[32m [repeated 4x across cluster]\u001b[0m\n",
      "\u001b[36m(ClientAppActor pid=45468)\u001b[0m Epoch: 5 Loss: 1.846899 Loss1: 0.087581 Loss2: 1.759319\n",
      "\u001b[36m(ClientAppActor pid=45470)\u001b[0m Epoch: 5 Loss: 1.957627 Loss1: 0.078198 Loss2: 1.879429\n",
      "\u001b[36m(ClientAppActor pid=45467)\u001b[0m Epoch: 5 Loss: 1.833897 Loss1: 0.088822 Loss2: 1.745075\u001b[32m [repeated 3x across cluster]\u001b[0m\n",
      "\u001b[36m(ClientAppActor pid=45469)\u001b[0m Epoch: 5 Loss: 2.013814 Loss1: 0.043871 Loss2: 1.969943\n",
      "\u001b[36m(ClientAppActor pid=45468)\u001b[0m Epoch: 6 Loss: 1.828040 Loss1: 0.089044 Loss2: 1.738996\n",
      "\u001b[36m(ClientAppActor pid=45466)\u001b[0m Epoch: 6 Loss: 2.075032 Loss1: 0.103938 Loss2: 1.971094\u001b[32m [repeated 2x across cluster]\u001b[0m\n",
      "\u001b[36m(ClientAppActor pid=45468)\u001b[0m Epoch: 7 Loss: 1.760591 Loss1: 0.042361 Loss2: 1.718230\u001b[32m [repeated 4x across cluster]\u001b[0m\n",
      "\u001b[36m(ClientAppActor pid=45466)\u001b[0m Epoch: 7 Loss: 2.185161 Loss1: 0.171149 Loss2: 2.014012\u001b[32m [repeated 2x across cluster]\u001b[0m\n"
     ]
    },
    {
     "name": "stderr",
     "output_type": "stream",
     "text": [
      "\u001b[92mINFO \u001b[0m:      aggregate_fit: received 6 results and 0 failures\n",
      "\u001b[92mINFO \u001b[0m:      fit progress: (21, 0.03930937279760838, {'accuracy': 0.7424}, 27137.839081916958)\n",
      "\u001b[92mINFO \u001b[0m:      configure_evaluate: strategy sampled 6 clients (out of 6)\n"
     ]
    },
    {
     "name": "stdout",
     "output_type": "stream",
     "text": [
      "\u001b[36m(ClientAppActor pid=45470)\u001b[0m [Client 3] evaluate, config: {}\n",
      "\u001b[36m(ClientAppActor pid=45469)\u001b[0m Epoch: 7 Loss: 2.052707 Loss1: 0.080612 Loss2: 1.972094\u001b[32m [repeated 3x across cluster]\u001b[0m\n"
     ]
    },
    {
     "name": "stderr",
     "output_type": "stream",
     "text": [
      "\u001b[36m(ClientAppActor pid=45470)\u001b[0m /Users/macbook/Desktop/L361/L361_Project/.conda/lib/python3.12/site-packages/datasets/utils/_dill.py:385: DeprecationWarning: co_lnotab is deprecated, use co_lines instead.\u001b[32m [repeated 6x across cluster]\u001b[0m\n",
      "\u001b[36m(ClientAppActor pid=45470)\u001b[0m   obj.co_lnotab,  # for < python 3.10 [not counted in args]\u001b[32m [repeated 6x across cluster]\u001b[0m\n",
      "\u001b[92mINFO \u001b[0m:      aggregate_evaluate: received 6 results and 0 failures\n",
      "\u001b[92mINFO \u001b[0m:      \n",
      "\u001b[92mINFO \u001b[0m:      [ROUND 22]\n",
      "\u001b[92mINFO \u001b[0m:      configure_fit: strategy sampled 6 clients (out of 6)\n",
      "\u001b[36m(ClientAppActor pid=45466)\u001b[0m /Users/macbook/Desktop/L361/L361_Project/.conda/lib/python3.12/site-packages/datasets/utils/_dill.py:385: DeprecationWarning: co_lnotab is deprecated, use co_lines instead.\u001b[32m [repeated 6x across cluster]\u001b[0m\n",
      "\u001b[36m(ClientAppActor pid=45466)\u001b[0m   obj.co_lnotab,  # for < python 3.10 [not counted in args]\u001b[32m [repeated 6x across cluster]\u001b[0m\n"
     ]
    },
    {
     "name": "stdout",
     "output_type": "stream",
     "text": [
      "\u001b[36m(ClientAppActor pid=45471)\u001b[0m [Client 1] fit, config: {}\n",
      "\u001b[36m(ClientAppActor pid=45471)\u001b[0m Started training moon\n",
      "\u001b[36m(ClientAppActor pid=45471)\u001b[0m [Client 0] evaluate, config: {}\u001b[32m [repeated 5x across cluster]\u001b[0m\n",
      "\u001b[36m(ClientAppActor pid=45469)\u001b[0m Epoch: 0 Loss: 2.086410 Loss1: 0.120334 Loss2: 1.966076\n",
      "\u001b[36m(ClientAppActor pid=45470)\u001b[0m [Client 0] fit, config: {}\u001b[32m [repeated 5x across cluster]\u001b[0m\n",
      "\u001b[36m(ClientAppActor pid=45470)\u001b[0m Started training moon\u001b[32m [repeated 5x across cluster]\u001b[0m\n",
      "\u001b[36m(ClientAppActor pid=45470)\u001b[0m Epoch: 0 Loss: 2.085869 Loss1: 0.137781 Loss2: 1.948088\u001b[32m [repeated 5x across cluster]\u001b[0m\n",
      "\u001b[36m(ClientAppActor pid=45466)\u001b[0m Epoch: 1 Loss: 2.044154 Loss1: 0.099638 Loss2: 1.944516\n",
      "\u001b[36m(ClientAppActor pid=45469)\u001b[0m Epoch: 1 Loss: 1.928005 Loss1: 0.067737 Loss2: 1.860268\n",
      "\u001b[36m(ClientAppActor pid=45470)\u001b[0m Epoch: 1 Loss: 1.938854 Loss1: 0.095355 Loss2: 1.843499\u001b[32m [repeated 4x across cluster]\u001b[0m\n",
      "\u001b[36m(ClientAppActor pid=45466)\u001b[0m Epoch: 2 Loss: 1.998707 Loss1: 0.083081 Loss2: 1.915626\n",
      "\u001b[36m(ClientAppActor pid=45468)\u001b[0m Epoch: 2 Loss: 1.895286 Loss1: 0.079112 Loss2: 1.816174\n",
      "\u001b[36m(ClientAppActor pid=45470)\u001b[0m Epoch: 2 Loss: 1.916972 Loss1: 0.097242 Loss2: 1.819729\u001b[32m [repeated 4x across cluster]\u001b[0m\n",
      "\u001b[36m(ClientAppActor pid=45466)\u001b[0m Epoch: 3 Loss: 2.019118 Loss1: 0.097116 Loss2: 1.922003\n",
      "\u001b[36m(ClientAppActor pid=45469)\u001b[0m Epoch: 3 Loss: 1.974156 Loss1: 0.122471 Loss2: 1.851685\n",
      "\u001b[36m(ClientAppActor pid=45467)\u001b[0m Epoch: 3 Loss: 1.872693 Loss1: 0.070499 Loss2: 1.802194\u001b[32m [repeated 3x across cluster]\u001b[0m\n",
      "\u001b[36m(ClientAppActor pid=45470)\u001b[0m Epoch: 3 Loss: 1.854811 Loss1: 0.061255 Loss2: 1.793555\n",
      "\u001b[36m(ClientAppActor pid=45466)\u001b[0m Epoch: 4 Loss: 1.963098 Loss1: 0.066023 Loss2: 1.897075\n",
      "\u001b[36m(ClientAppActor pid=45468)\u001b[0m Epoch: 4 Loss: 1.851191 Loss1: 0.056399 Loss2: 1.794792\u001b[32m [repeated 2x across cluster]\u001b[0m\n",
      "\u001b[36m(ClientAppActor pid=45467)\u001b[0m Epoch: 4 Loss: 1.918240 Loss1: 0.107457 Loss2: 1.810782\n",
      "\u001b[36m(ClientAppActor pid=45471)\u001b[0m Epoch: 4 Loss: 1.942359 Loss1: 0.051779 Loss2: 1.890580\n",
      "\u001b[36m(ClientAppActor pid=45470)\u001b[0m Epoch: 4 Loss: 1.841770 Loss1: 0.064415 Loss2: 1.777354\n",
      "\u001b[36m(ClientAppActor pid=45466)\u001b[0m Epoch: 5 Loss: 1.980050 Loss1: 0.086420 Loss2: 1.893630\n",
      "\u001b[36m(ClientAppActor pid=45471)\u001b[0m Epoch: 5 Loss: 1.945950 Loss1: 0.061025 Loss2: 1.884925\u001b[32m [repeated 3x across cluster]\u001b[0m\n",
      "\u001b[36m(ClientAppActor pid=45470)\u001b[0m Epoch: 5 Loss: 1.821435 Loss1: 0.052950 Loss2: 1.768486\u001b[32m [repeated 2x across cluster]\u001b[0m\n",
      "\u001b[36m(ClientAppActor pid=45469)\u001b[0m Epoch: 6 Loss: 1.877483 Loss1: 0.061068 Loss2: 1.816415\n",
      "\u001b[36m(ClientAppActor pid=45468)\u001b[0m Epoch: 6 Loss: 1.952428 Loss1: 0.136894 Loss2: 1.815534\n",
      "\u001b[36m(ClientAppActor pid=45467)\u001b[0m Epoch: 6 Loss: 1.987578 Loss1: 0.155601 Loss2: 1.831978\u001b[32m [repeated 3x across cluster]\u001b[0m\n",
      "\u001b[36m(ClientAppActor pid=45470)\u001b[0m Epoch: 6 Loss: 1.964026 Loss1: 0.157659 Loss2: 1.806367\n",
      "\u001b[36m(ClientAppActor pid=45469)\u001b[0m Epoch: 7 Loss: 1.827525 Loss1: 0.038878 Loss2: 1.788647\n",
      "\u001b[36m(ClientAppActor pid=45470)\u001b[0m Epoch: 7 Loss: 1.943780 Loss1: 0.133896 Loss2: 1.809884\u001b[32m [repeated 5x across cluster]\u001b[0m\n"
     ]
    },
    {
     "name": "stderr",
     "output_type": "stream",
     "text": [
      "\u001b[92mINFO \u001b[0m:      aggregate_fit: received 6 results and 0 failures\n",
      "\u001b[92mINFO \u001b[0m:      fit progress: (22, 0.040806637105345725, {'accuracy': 0.7503}, 28429.255679000053)\n",
      "\u001b[92mINFO \u001b[0m:      configure_evaluate: strategy sampled 6 clients (out of 6)\n"
     ]
    },
    {
     "name": "stdout",
     "output_type": "stream",
     "text": [
      "\u001b[36m(ClientAppActor pid=45471)\u001b[0m [Client 2] evaluate, config: {}\n"
     ]
    },
    {
     "name": "stderr",
     "output_type": "stream",
     "text": [
      "\u001b[36m(ClientAppActor pid=45471)\u001b[0m /Users/macbook/Desktop/L361/L361_Project/.conda/lib/python3.12/site-packages/datasets/utils/_dill.py:385: DeprecationWarning: co_lnotab is deprecated, use co_lines instead.\u001b[32m [repeated 7x across cluster]\u001b[0m\n",
      "\u001b[36m(ClientAppActor pid=45471)\u001b[0m   obj.co_lnotab,  # for < python 3.10 [not counted in args]\u001b[32m [repeated 7x across cluster]\u001b[0m\n",
      "\u001b[92mINFO \u001b[0m:      aggregate_evaluate: received 6 results and 0 failures\n",
      "\u001b[92mINFO \u001b[0m:      \n",
      "\u001b[92mINFO \u001b[0m:      [ROUND 23]\n",
      "\u001b[92mINFO \u001b[0m:      configure_fit: strategy sampled 6 clients (out of 6)\n",
      "\u001b[36m(ClientAppActor pid=45469)\u001b[0m /Users/macbook/Desktop/L361/L361_Project/.conda/lib/python3.12/site-packages/datasets/utils/_dill.py:385: DeprecationWarning: co_lnotab is deprecated, use co_lines instead.\u001b[32m [repeated 6x across cluster]\u001b[0m\n",
      "\u001b[36m(ClientAppActor pid=45469)\u001b[0m   obj.co_lnotab,  # for < python 3.10 [not counted in args]\u001b[32m [repeated 6x across cluster]\u001b[0m\n"
     ]
    },
    {
     "name": "stdout",
     "output_type": "stream",
     "text": [
      "\u001b[36m(ClientAppActor pid=45468)\u001b[0m [Client 4] fit, config: {}\n",
      "\u001b[36m(ClientAppActor pid=45467)\u001b[0m [Client 5] evaluate, config: {}\u001b[32m [repeated 5x across cluster]\u001b[0m\n",
      "\u001b[36m(ClientAppActor pid=45469)\u001b[0m Started training moon\n",
      "\u001b[36m(ClientAppActor pid=45469)\u001b[0m Epoch: 0 Loss: 2.233917 Loss1: 0.125277 Loss2: 2.108640\n",
      "\u001b[36m(ClientAppActor pid=45466)\u001b[0m [Client 1] fit, config: {}\u001b[32m [repeated 5x across cluster]\u001b[0m\n",
      "\u001b[36m(ClientAppActor pid=45466)\u001b[0m Started training moon\u001b[32m [repeated 5x across cluster]\u001b[0m\n",
      "\u001b[36m(ClientAppActor pid=45467)\u001b[0m Epoch: 0 Loss: 2.239010 Loss1: 0.123798 Loss2: 2.115212\u001b[32m [repeated 4x across cluster]\u001b[0m\n",
      "\u001b[36m(ClientAppActor pid=45469)\u001b[0m Epoch: 1 Loss: 2.095201 Loss1: 0.088277 Loss2: 2.006923\u001b[32m [repeated 2x across cluster]\u001b[0m\n",
      "\u001b[36m(ClientAppActor pid=45470)\u001b[0m Epoch: 1 Loss: 1.860664 Loss1: 0.091330 Loss2: 1.769334\u001b[32m [repeated 2x across cluster]\u001b[0m\n",
      "\u001b[36m(ClientAppActor pid=45467)\u001b[0m Epoch: 1 Loss: 2.155578 Loss1: 0.122946 Loss2: 2.032632\u001b[32m [repeated 2x across cluster]\u001b[0m\n",
      "\u001b[36m(ClientAppActor pid=45469)\u001b[0m Epoch: 2 Loss: 2.063559 Loss1: 0.079614 Loss2: 1.983945\u001b[32m [repeated 2x across cluster]\u001b[0m\n",
      "\u001b[36m(ClientAppActor pid=45470)\u001b[0m Epoch: 2 Loss: 1.801828 Loss1: 0.063984 Loss2: 1.737843\u001b[32m [repeated 2x across cluster]\u001b[0m\n",
      "\u001b[36m(ClientAppActor pid=45467)\u001b[0m Epoch: 2 Loss: 2.129648 Loss1: 0.106747 Loss2: 2.022901\u001b[32m [repeated 2x across cluster]\u001b[0m\n",
      "\u001b[36m(ClientAppActor pid=45469)\u001b[0m Epoch: 3 Loss: 2.073026 Loss1: 0.093662 Loss2: 1.979364\u001b[32m [repeated 2x across cluster]\u001b[0m\n",
      "\u001b[36m(ClientAppActor pid=45470)\u001b[0m Epoch: 3 Loss: 1.860397 Loss1: 0.111630 Loss2: 1.748767\u001b[32m [repeated 2x across cluster]\u001b[0m\n",
      "\u001b[36m(ClientAppActor pid=45467)\u001b[0m Epoch: 3 Loss: 2.078428 Loss1: 0.084040 Loss2: 1.994388\u001b[32m [repeated 2x across cluster]\u001b[0m\n",
      "\u001b[36m(ClientAppActor pid=45469)\u001b[0m Epoch: 4 Loss: 2.026889 Loss1: 0.067621 Loss2: 1.959268\u001b[32m [repeated 2x across cluster]\u001b[0m\n",
      "\u001b[36m(ClientAppActor pid=45468)\u001b[0m Epoch: 4 Loss: 2.134780 Loss1: 0.108755 Loss2: 2.026024\n",
      "\u001b[36m(ClientAppActor pid=45470)\u001b[0m Epoch: 4 Loss: 1.793172 Loss1: 0.069059 Loss2: 1.724113\n",
      "\u001b[36m(ClientAppActor pid=45471)\u001b[0m Epoch: 4 Loss: 1.941116 Loss1: 0.054124 Loss2: 1.886992\n",
      "\u001b[36m(ClientAppActor pid=45467)\u001b[0m Epoch: 4 Loss: 2.035913 Loss1: 0.056716 Loss2: 1.979198\n",
      "\u001b[36m(ClientAppActor pid=45469)\u001b[0m Epoch: 5 Loss: 2.098622 Loss1: 0.127846 Loss2: 1.970775\u001b[32m [repeated 2x across cluster]\u001b[0m\n",
      "\u001b[36m(ClientAppActor pid=45468)\u001b[0m Epoch: 5 Loss: 2.020864 Loss1: 0.040783 Loss2: 1.980080\n",
      "\u001b[36m(ClientAppActor pid=45470)\u001b[0m Epoch: 5 Loss: 1.768044 Loss1: 0.065468 Loss2: 1.702577\n",
      "\u001b[36m(ClientAppActor pid=45471)\u001b[0m Epoch: 5 Loss: 1.960477 Loss1: 0.071313 Loss2: 1.889163\n",
      "\u001b[36m(ClientAppActor pid=45467)\u001b[0m Epoch: 5 Loss: 1.998740 Loss1: 0.045300 Loss2: 1.953440\n",
      "\u001b[36m(ClientAppActor pid=45466)\u001b[0m Epoch: 5 Loss: 1.846752 Loss1: 0.090546 Loss2: 1.756206\n",
      "\u001b[36m(ClientAppActor pid=45469)\u001b[0m Epoch: 6 Loss: 2.136679 Loss1: 0.150153 Loss2: 1.986525\n",
      "\u001b[36m(ClientAppActor pid=45468)\u001b[0m Epoch: 6 Loss: 2.001490 Loss1: 0.037691 Loss2: 1.963800\n",
      "\u001b[36m(ClientAppActor pid=45470)\u001b[0m Epoch: 6 Loss: 1.807413 Loss1: 0.091925 Loss2: 1.715489\n",
      "\u001b[36m(ClientAppActor pid=45471)\u001b[0m Epoch: 6 Loss: 1.947991 Loss1: 0.065327 Loss2: 1.882663\n",
      "\u001b[36m(ClientAppActor pid=45467)\u001b[0m Epoch: 6 Loss: 2.051082 Loss1: 0.085893 Loss2: 1.965188\n",
      "\u001b[36m(ClientAppActor pid=45466)\u001b[0m Epoch: 6 Loss: 1.743006 Loss1: 0.026112 Loss2: 1.716894\n",
      "\u001b[36m(ClientAppActor pid=45469)\u001b[0m Epoch: 7 Loss: 2.068490 Loss1: 0.098325 Loss2: 1.970165\n",
      "\u001b[36m(ClientAppActor pid=45468)\u001b[0m Epoch: 7 Loss: 2.036709 Loss1: 0.068785 Loss2: 1.967924\n",
      "\u001b[36m(ClientAppActor pid=45470)\u001b[0m Epoch: 7 Loss: 1.797953 Loss1: 0.082306 Loss2: 1.715647\n",
      "\u001b[36m(ClientAppActor pid=45471)\u001b[0m Epoch: 7 Loss: 1.979516 Loss1: 0.088483 Loss2: 1.891033\n",
      "\u001b[36m(ClientAppActor pid=45467)\u001b[0m Epoch: 7 Loss: 2.075815 Loss1: 0.099889 Loss2: 1.975926\n"
     ]
    },
    {
     "name": "stderr",
     "output_type": "stream",
     "text": [
      "\u001b[92mINFO \u001b[0m:      aggregate_fit: received 6 results and 0 failures\n"
     ]
    },
    {
     "name": "stdout",
     "output_type": "stream",
     "text": [
      "\u001b[36m(ClientAppActor pid=45466)\u001b[0m Epoch: 7 Loss: 1.774444 Loss1: 0.054819 Loss2: 1.719625\n"
     ]
    },
    {
     "name": "stderr",
     "output_type": "stream",
     "text": [
      "\u001b[92mINFO \u001b[0m:      fit progress: (23, 0.0424809733659029, {'accuracy': 0.7486}, 29691.224713666947)\n",
      "\u001b[92mINFO \u001b[0m:      configure_evaluate: strategy sampled 6 clients (out of 6)\n"
     ]
    },
    {
     "name": "stdout",
     "output_type": "stream",
     "text": [
      "\u001b[36m(ClientAppActor pid=45470)\u001b[0m [Client 1] evaluate, config: {}\n"
     ]
    },
    {
     "name": "stderr",
     "output_type": "stream",
     "text": [
      "\u001b[36m(ClientAppActor pid=45470)\u001b[0m /Users/macbook/Desktop/L361/L361_Project/.conda/lib/python3.12/site-packages/datasets/utils/_dill.py:385: DeprecationWarning: co_lnotab is deprecated, use co_lines instead.\u001b[32m [repeated 8x across cluster]\u001b[0m\n",
      "\u001b[36m(ClientAppActor pid=45470)\u001b[0m   obj.co_lnotab,  # for < python 3.10 [not counted in args]\u001b[32m [repeated 8x across cluster]\u001b[0m\n",
      "\u001b[92mINFO \u001b[0m:      aggregate_evaluate: received 6 results and 0 failures\n",
      "\u001b[92mINFO \u001b[0m:      \n",
      "\u001b[92mINFO \u001b[0m:      [SUMMARY]\n",
      "\u001b[92mINFO \u001b[0m:      Run finished 23 round(s) in 29705.03s\n",
      "\u001b[92mINFO \u001b[0m:      \tHistory (loss, distributed):\n",
      "\u001b[92mINFO \u001b[0m:      \t\tround 1: 0.073675903361503\n",
      "\u001b[92mINFO \u001b[0m:      \t\tround 2: 0.07846574852691128\n",
      "\u001b[92mINFO \u001b[0m:      \t\tround 3: 0.07389117597079568\n",
      "\u001b[92mINFO \u001b[0m:      \t\tround 4: 0.036117192960409994\n",
      "\u001b[92mINFO \u001b[0m:      \t\tround 5: 0.034052345474894774\n",
      "\u001b[92mINFO \u001b[0m:      \t\tround 6: 0.033400223280365196\n",
      "\u001b[92mINFO \u001b[0m:      \t\tround 7: 0.03324621079135384\n",
      "\u001b[92mINFO \u001b[0m:      \t\tround 8: 0.030979925150919907\n",
      "\u001b[92mINFO \u001b[0m:      \t\tround 9: 0.03221295435235599\n",
      "\u001b[92mINFO \u001b[0m:      \t\tround 10: 0.029070325288902975\n",
      "\u001b[92mINFO \u001b[0m:      \t\tround 11: 0.03238827242130305\n",
      "\u001b[92mINFO \u001b[0m:      \t\tround 12: 0.031556211314369885\n",
      "\u001b[92mINFO \u001b[0m:      \t\tround 13: 0.03475836171792629\n",
      "\u001b[92mINFO \u001b[0m:      \t\tround 14: 0.035612628173952374\n",
      "\u001b[92mINFO \u001b[0m:      \t\tround 15: 0.03605390898399152\n",
      "\u001b[92mINFO \u001b[0m:      \t\tround 16: 0.03662781837200599\n",
      "\u001b[92mINFO \u001b[0m:      \t\tround 17: 0.03956278932810283\n",
      "\u001b[92mINFO \u001b[0m:      \t\tround 18: 0.038915301155868054\n",
      "\u001b[92mINFO \u001b[0m:      \t\tround 19: 0.038899045744476925\n",
      "\u001b[92mINFO \u001b[0m:      \t\tround 20: 0.039163395725198086\n",
      "\u001b[92mINFO \u001b[0m:      \t\tround 21: 0.039937316990719875\n",
      "\u001b[92mINFO \u001b[0m:      \t\tround 22: 0.04088077754350423\n",
      "\u001b[92mINFO \u001b[0m:      \t\tround 23: 0.042391176235323326\n",
      "\u001b[92mINFO \u001b[0m:      \tHistory (loss, centralized):\n",
      "\u001b[92mINFO \u001b[0m:      \t\tround 0: 0.07207615087032318\n",
      "\u001b[92mINFO \u001b[0m:      \t\tround 1: 0.07251906378269196\n",
      "\u001b[92mINFO \u001b[0m:      \t\tround 2: 0.07730913140773774\n",
      "\u001b[92mINFO \u001b[0m:      \t\tround 3: 0.07282193565368653\n",
      "\u001b[92mINFO \u001b[0m:      \t\tround 4: 0.03584957995414734\n",
      "\u001b[92mINFO \u001b[0m:      \t\tround 5: 0.03391984842121601\n",
      "\u001b[92mINFO \u001b[0m:      \t\tround 6: 0.03284733788967133\n",
      "\u001b[92mINFO \u001b[0m:      \t\tround 7: 0.0329809711009264\n",
      "\u001b[92mINFO \u001b[0m:      \t\tround 8: 0.03079439553618431\n",
      "\u001b[92mINFO \u001b[0m:      \t\tround 9: 0.03199415636360645\n",
      "\u001b[92mINFO \u001b[0m:      \t\tround 10: 0.02926893845796585\n",
      "\u001b[92mINFO \u001b[0m:      \t\tround 11: 0.0327235549300909\n",
      "\u001b[92mINFO \u001b[0m:      \t\tround 12: 0.031268398720026014\n",
      "\u001b[92mINFO \u001b[0m:      \t\tround 13: 0.035363004902005196\n",
      "\u001b[92mINFO \u001b[0m:      \t\tround 14: 0.03631947066783905\n",
      "\u001b[92mINFO \u001b[0m:      \t\tround 15: 0.03661539088636637\n",
      "\u001b[92mINFO \u001b[0m:      \t\tround 16: 0.036959505558013916\n",
      "\u001b[92mINFO \u001b[0m:      \t\tround 17: 0.03939656581133604\n",
      "\u001b[92mINFO \u001b[0m:      \t\tround 18: 0.03860772588253021\n",
      "\u001b[92mINFO \u001b[0m:      \t\tround 19: 0.038691783556342126\n",
      "\u001b[92mINFO \u001b[0m:      \t\tround 20: 0.038738265505433085\n",
      "\u001b[92mINFO \u001b[0m:      \t\tround 21: 0.03930937279760838\n",
      "\u001b[92mINFO \u001b[0m:      \t\tround 22: 0.040806637105345725\n",
      "\u001b[92mINFO \u001b[0m:      \t\tround 23: 0.0424809733659029\n",
      "\u001b[92mINFO \u001b[0m:      \tHistory (metrics, centralized):\n",
      "\u001b[92mINFO \u001b[0m:      \t{'accuracy': [(0, 0.1),\n",
      "\u001b[92mINFO \u001b[0m:      \t              (1, 0.1),\n",
      "\u001b[92mINFO \u001b[0m:      \t              (2, 0.1),\n",
      "\u001b[92mINFO \u001b[0m:      \t              (3, 0.1343),\n",
      "\u001b[92mINFO \u001b[0m:      \t              (4, 0.6201),\n",
      "\u001b[92mINFO \u001b[0m:      \t              (5, 0.6943),\n",
      "\u001b[92mINFO \u001b[0m:      \t              (6, 0.7219),\n",
      "\u001b[92mINFO \u001b[0m:      \t              (7, 0.7293),\n",
      "\u001b[92mINFO \u001b[0m:      \t              (8, 0.7395),\n",
      "\u001b[92mINFO \u001b[0m:      \t              (9, 0.7423),\n",
      "\u001b[92mINFO \u001b[0m:      \t              (10, 0.738),\n",
      "\u001b[92mINFO \u001b[0m:      \t              (11, 0.7434),\n",
      "\u001b[92mINFO \u001b[0m:      \t              (12, 0.7409),\n",
      "\u001b[92mINFO \u001b[0m:      \t              (13, 0.7434),\n",
      "\u001b[92mINFO \u001b[0m:      \t              (14, 0.743),\n",
      "\u001b[92mINFO \u001b[0m:      \t              (15, 0.7459),\n",
      "\u001b[92mINFO \u001b[0m:      \t              (16, 0.742),\n",
      "\u001b[92mINFO \u001b[0m:      \t              (17, 0.7479),\n",
      "\u001b[92mINFO \u001b[0m:      \t              (18, 0.7342),\n",
      "\u001b[92mINFO \u001b[0m:      \t              (19, 0.7412),\n",
      "\u001b[92mINFO \u001b[0m:      \t              (20, 0.7372),\n",
      "\u001b[92mINFO \u001b[0m:      \t              (21, 0.7424),\n",
      "\u001b[92mINFO \u001b[0m:      \t              (22, 0.7503),\n",
      "\u001b[92mINFO \u001b[0m:      \t              (23, 0.7486)]}\n",
      "\u001b[92mINFO \u001b[0m:      \n"
     ]
    },
    {
     "name": "stdout",
     "output_type": "stream",
     "text": [
      "\u001b[36m(ClientAppActor pid=45468)\u001b[0m [Client 4] evaluate, config: {}\u001b[32m [repeated 5x across cluster]\u001b[0m\n"
     ]
    },
    {
     "name": "stderr",
     "output_type": "stream",
     "text": [
      "\u001b[36m(ClientAppActor pid=45468)\u001b[0m /Users/macbook/Desktop/L361/L361_Project/.conda/lib/python3.12/site-packages/datasets/utils/_dill.py:385: DeprecationWarning: co_lnotab is deprecated, use co_lines instead.\u001b[32m [repeated 5x across cluster]\u001b[0m\n",
      "\u001b[36m(ClientAppActor pid=45468)\u001b[0m   obj.co_lnotab,  # for < python 3.10 [not counted in args]\u001b[32m [repeated 5x across cluster]\u001b[0m\n"
     ]
    }
   ],
   "source": [
    "# Train FedMOON\n",
    "\n",
    "\n",
    "_, _, testloader = load_datasets(0, NUM_PARTITIONS)\n",
    "net = MoonNet().to(DEVICE)\n",
    "evaluate_fn = get_evaluate_fn_moon(testloader, net)\n",
    "\n",
    "def server_fn(context: Context) -> ServerAppComponents:\n",
    "    # Configure the server for just 3 rounds of training\n",
    "    config = ServerConfig(num_rounds=NUM_OF_ROUNDS)\n",
    "    return ServerAppComponents(\n",
    "        config=config,\n",
    "        strategy=FedMoonNoFreeze(\n",
    "            evaluate_fn=evaluate_fn\n",
    "        )\n",
    "    )\n",
    "\n",
    "server = ServerApp(server_fn=server_fn)\n",
    "\n",
    "# Run simulation\n",
    "run_simulation(\n",
    "    server_app=server,\n",
    "    client_app=client,\n",
    "    num_supernodes=NUM_PARTITIONS,\n",
    "    backend_config=backend_config,\n",
    ")"
   ]
  },
  {
   "cell_type": "code",
   "execution_count": 23,
   "metadata": {},
   "outputs": [],
   "source": [
    "with open(f'results/fed_moon_no_freeze_result.p', 'wb') as file:\n",
    "    pickle.dump(fed_moon_no_freeze_result, file)\n",
    "\n",
    "with open(f'results/fed_moon_model_no_freeze_results.p', 'wb') as file:\n",
    "    pickle.dump(fed_moon_model_no_freeze_results, file)"
   ]
  },
  {
   "cell_type": "code",
   "execution_count": null,
   "metadata": {},
   "outputs": [],
   "source": [
    "# fed_moon_rounds = list(fed_moon_no_freeze_result.keys())\n",
    "# fed_moon_sizes = [fed_moon_no_freeze_result[round][\"total_size\"] for round in fed_moon_rounds]\n",
    "\n",
    "# plt.figure(figsize=(10, 5))\n",
    "# plt.plot(fed_avg_rounds, fed_avg_sizes, marker='o', linestyle='-', color='b', label='FedAvg')\n",
    "# plt.plot(fed_part_avg_rounds, fed_part_avg_sizes, marker='o', linestyle='-', color='r', label='FedPartAvg')\n",
    "# plt.plot(fed_prox_rounds, fed_prox_sizes, marker='o', linestyle='-', color='g', label='FedProx')\n",
    "# plt.plot(fed_part_prox_rounds, fed_part_prox_sizes, marker='o', linestyle='-', color='y', label='FedPartProx')\n",
    "# plt.plot(fed_moon_rounds, fed_moon_sizes, marker='o', linestyle='-', color='c', label='FedMoon')\n",
    "# plt.plot(fed_part_moon_rounds, fed_part_moon_sizes, marker='o', linestyle='-', color='purple', label='FedPartMoon')\n",
    "# plt.xlabel('Round')\n",
    "# plt.ylabel('Communication Cost (bytes)')\n",
    "# plt.title('Communication Cost for Each Round')\n",
    "# plt.legend()\n",
    "# plt.grid(True)\n",
    "\n",
    "# fed_moon_losses = [fed_moon_no_freeze_result[round][\"total_loss\"] for round in fed_moon_rounds]\n",
    "\n",
    "# plt.figure(figsize=(10, 5))\n",
    "# plt.plot(fed_avg_rounds, fed_avg_losses, marker='o', linestyle='-', color='b', label='FedAvg')\n",
    "# plt.plot(fed_part_avg_rounds, fed_part_avg_losses, marker='o', linestyle='-', color='r', label='FedPartAvg')\n",
    "# plt.plot(fed_prox_rounds, fed_prox_losses, marker='o', linestyle='-', color='g', label='FedProx')\n",
    "# plt.plot(fed_part_prox_rounds, fed_part_prox_losses, marker='o', linestyle='-', color='y', label='FedPartProx')\n",
    "# plt.plot(fed_moon_rounds, fed_moon_losses, marker='o', linestyle='-', color='c', label='FedMoon')\n",
    "# plt.plot(fed_part_moon_rounds, fed_part_moon_losses, marker='o', linestyle='-', color='purple', label='FedPartMoon')\n",
    "\n",
    "# plt.xlabel('Round')\n",
    "# plt.ylabel('Loss')\n",
    "# plt.title('Aggregate Client Loss for Each Round')\n",
    "# plt.legend()\n",
    "# plt.grid(True)\n",
    "\n",
    "# fed_moon_model_rounds = list(fed_moon_model_no_freeze_results.keys())\n",
    "# fed_moon_accuracies = [fed_moon_model_no_freeze_results[round][\"global_metrics\"][\"accuracy\"] for round in fed_moon_model_rounds]\n",
    "\n",
    "# plt.figure(figsize=(10, 5))\n",
    "# plt.plot(fed_avg_model_rounds, fed_avg_accuracies, marker='o', linestyle='-', color='b', label='FedAvg')\n",
    "# plt.plot(fed_part_avg_model_rounds, fed_part_avg_accuracies, marker='o', linestyle='-', color='r', label='FedPartAvg')\n",
    "# plt.plot(fed_prox_model_rounds, fed_prox_accuracies, marker='o', linestyle='-', color='g', label='FedProx')\n",
    "# plt.plot(fed_part_prox_model_rounds, fed_part_prox_accuracies, marker='o', linestyle='-', color='y', label='FedPartProx')\n",
    "# plt.plot(fed_moon_model_rounds, fed_moon_accuracies, marker='o', linestyle='-', color='c', label='FedMoon')\n",
    "# plt.plot(fed_part_moon_model_rounds, fed_part_moon_accuracies, marker='o', linestyle='-', color='purple', label='FedPartMoon')\n",
    "# plt.xlabel('Round')\n",
    "# plt.ylabel('Accuracy')\n",
    "# plt.title('Global Model Accuracy for Each Round')\n",
    "# plt.legend()\n",
    "# plt.grid(True)\n",
    "\n",
    "# fed_moon_global_losses = [fed_moon_model_no_freeze_results[round][\"global_loss\"] for round in fed_moon_model_rounds]\n",
    "\n",
    "# plt.figure(figsize=(10, 5))\n",
    "# plt.plot(fed_avg_model_rounds, fed_avg_global_losses, marker='o', linestyle='-', color='b', label='FedAvg')\n",
    "# plt.plot(fed_part_avg_model_rounds, fed_part_avg_global_losses, marker='o', linestyle='-', color='r', label='FedPartAvg')\n",
    "# plt.plot(fed_prox_model_rounds, fed_prox_global_losses, marker='o', linestyle='-', color='g', label='FedProx')\n",
    "# plt.plot(fed_part_prox_model_rounds, fed_part_prox_global_losses, marker='o', linestyle='-', color='y', label='FedPartProx')\n",
    "# plt.plot(fed_moon_model_rounds, fed_moon_global_losses, marker='o', linestyle='-', color='c', label='FedMoon')\n",
    "# plt.plot(fed_part_moon_model_rounds, fed_part_moon_global_losses, marker='o', linestyle='-', color='purple', label='FedPartMoon')\n",
    "# plt.xlabel('Round')\n",
    "# plt.ylabel('Loss')\n",
    "# plt.title('Global Model Loss for Each Round')\n",
    "# plt.legend()\n",
    "# plt.grid(True)\n"
   ]
  }
 ],
 "metadata": {
  "kernelspec": {
   "display_name": "Python 3",
   "language": "python",
   "name": "python3"
  },
  "language_info": {
   "codemirror_mode": {
    "name": "ipython",
    "version": 3
   },
   "file_extension": ".py",
   "mimetype": "text/x-python",
   "name": "python",
   "nbconvert_exporter": "python",
   "pygments_lexer": "ipython3",
   "version": "3.12.9"
  }
 },
 "nbformat": 4,
 "nbformat_minor": 2
}
