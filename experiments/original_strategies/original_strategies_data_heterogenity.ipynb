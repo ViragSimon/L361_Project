{
 "cells": [
  {
   "cell_type": "code",
   "execution_count": 1,
   "metadata": {},
   "outputs": [
    {
     "name": "stdout",
     "output_type": "stream",
     "text": [
      "Requirement already satisfied: ipywidgets in /Users/macbook/Desktop/L361/L361_Project/.conda/lib/python3.12/site-packages (8.1.5)\n",
      "Requirement already satisfied: comm>=0.1.3 in /Users/macbook/Desktop/L361/L361_Project/.conda/lib/python3.12/site-packages (from ipywidgets) (0.2.2)\n",
      "Requirement already satisfied: ipython>=6.1.0 in /Users/macbook/Desktop/L361/L361_Project/.conda/lib/python3.12/site-packages (from ipywidgets) (8.32.0)\n",
      "Requirement already satisfied: traitlets>=4.3.1 in /Users/macbook/Desktop/L361/L361_Project/.conda/lib/python3.12/site-packages (from ipywidgets) (5.14.3)\n",
      "Requirement already satisfied: widgetsnbextension~=4.0.12 in /Users/macbook/Desktop/L361/L361_Project/.conda/lib/python3.12/site-packages (from ipywidgets) (4.0.13)\n",
      "Requirement already satisfied: jupyterlab-widgets~=3.0.12 in /Users/macbook/Desktop/L361/L361_Project/.conda/lib/python3.12/site-packages (from ipywidgets) (3.0.13)\n",
      "Requirement already satisfied: decorator in /Users/macbook/Desktop/L361/L361_Project/.conda/lib/python3.12/site-packages (from ipython>=6.1.0->ipywidgets) (5.2.0)\n",
      "Requirement already satisfied: jedi>=0.16 in /Users/macbook/Desktop/L361/L361_Project/.conda/lib/python3.12/site-packages (from ipython>=6.1.0->ipywidgets) (0.19.2)\n",
      "Requirement already satisfied: matplotlib-inline in /Users/macbook/Desktop/L361/L361_Project/.conda/lib/python3.12/site-packages (from ipython>=6.1.0->ipywidgets) (0.1.7)\n",
      "Requirement already satisfied: pexpect>4.3 in /Users/macbook/Desktop/L361/L361_Project/.conda/lib/python3.12/site-packages (from ipython>=6.1.0->ipywidgets) (4.9.0)\n",
      "Requirement already satisfied: prompt_toolkit<3.1.0,>=3.0.41 in /Users/macbook/Desktop/L361/L361_Project/.conda/lib/python3.12/site-packages (from ipython>=6.1.0->ipywidgets) (3.0.50)\n",
      "Requirement already satisfied: pygments>=2.4.0 in /Users/macbook/Desktop/L361/L361_Project/.conda/lib/python3.12/site-packages (from ipython>=6.1.0->ipywidgets) (2.19.1)\n",
      "Requirement already satisfied: stack_data in /Users/macbook/Desktop/L361/L361_Project/.conda/lib/python3.12/site-packages (from ipython>=6.1.0->ipywidgets) (0.6.3)\n",
      "Requirement already satisfied: parso<0.9.0,>=0.8.4 in /Users/macbook/Desktop/L361/L361_Project/.conda/lib/python3.12/site-packages (from jedi>=0.16->ipython>=6.1.0->ipywidgets) (0.8.4)\n",
      "Requirement already satisfied: ptyprocess>=0.5 in /Users/macbook/Desktop/L361/L361_Project/.conda/lib/python3.12/site-packages (from pexpect>4.3->ipython>=6.1.0->ipywidgets) (0.7.0)\n",
      "Requirement already satisfied: wcwidth in /Users/macbook/Desktop/L361/L361_Project/.conda/lib/python3.12/site-packages (from prompt_toolkit<3.1.0,>=3.0.41->ipython>=6.1.0->ipywidgets) (0.2.13)\n",
      "Requirement already satisfied: executing>=1.2.0 in /Users/macbook/Desktop/L361/L361_Project/.conda/lib/python3.12/site-packages (from stack_data->ipython>=6.1.0->ipywidgets) (2.1.0)\n",
      "Requirement already satisfied: asttokens>=2.1.0 in /Users/macbook/Desktop/L361/L361_Project/.conda/lib/python3.12/site-packages (from stack_data->ipython>=6.1.0->ipywidgets) (3.0.0)\n",
      "Requirement already satisfied: pure_eval in /Users/macbook/Desktop/L361/L361_Project/.conda/lib/python3.12/site-packages (from stack_data->ipython>=6.1.0->ipywidgets) (0.2.3)\n",
      "Requirement already satisfied: numpy==1.26.4 in /Users/macbook/Desktop/L361/L361_Project/.conda/lib/python3.12/site-packages (1.26.4)\n",
      "Requirement already satisfied: urllib3==1.26.6 in /Users/macbook/Desktop/L361/L361_Project/.conda/lib/python3.12/site-packages (1.26.6)\n"
     ]
    }
   ],
   "source": [
    "! pip install -q flwr[simulation] flwr-datasets[vision] torch torchvision matplotlib\n",
    "! pip install -U ipywidgets\n",
    "! pip install numpy==1.26.4\n",
    "! pip install urllib3==1.26.6"
   ]
  },
  {
   "cell_type": "code",
   "execution_count": 2,
   "metadata": {},
   "outputs": [
    {
     "name": "stdout",
     "output_type": "stream",
     "text": [
      "Training on cpu\n",
      "Flower 1.15.2 / PyTorch 2.6.0\n"
     ]
    }
   ],
   "source": [
    "from collections import OrderedDict\n",
    "from typing import Dict, List, Optional, Tuple, Union, Callable\n",
    "import pickle\n",
    "import os\n",
    "\n",
    "import matplotlib.pyplot as plt\n",
    "import numpy as np\n",
    "import torch\n",
    "import torch.nn as nn\n",
    "import copy\n",
    "import torch.nn.functional as F\n",
    "import torchvision.transforms as transforms\n",
    "from datasets.utils.logging import disable_progress_bar\n",
    "from torch.utils.data import DataLoader\n",
    "from flwr.server.strategy import Strategy\n",
    "import flwr\n",
    "from flwr.client import Client, ClientApp, NumPyClient\n",
    "from flwr.common import Metrics, Context, Status, GetParametersRes, Parameters, GetParametersIns, MetricsAggregationFn,NDArrays,Scalar\n",
    "from flwr.server import ServerApp, ServerConfig, ServerAppComponents \n",
    "from flwr.server.strategy import FedAvg, FedProx\n",
    "from flwr.simulation import run_simulation\n",
    "from flwr_datasets import FederatedDataset\n",
    "from flwr.common import (\n",
    "    EvaluateIns,\n",
    "    EvaluateRes,\n",
    "    FitIns,\n",
    "    FitRes,\n",
    "    Parameters,\n",
    "    Scalar,\n",
    "    ndarrays_to_parameters,\n",
    "    parameters_to_ndarrays,\n",
    "    ParametersRecord,\n",
    "    array_from_numpy\n",
    ")\n",
    "from flwr.server.client_manager import ClientManager\n",
    "from flwr.server.client_proxy import ClientProxy\n",
    "from flwr.server.strategy.aggregate import aggregate, weighted_loss_avg\n",
    "\n",
    "DEVICE = \"cuda\" if torch.cuda.is_available() else \"cpu\"\n",
    "print(f\"Training on {DEVICE}\")\n",
    "print(f\"Flower {flwr.__version__} / PyTorch {torch.__version__}\")\n",
    "disable_progress_bar()"
   ]
  },
  {
   "cell_type": "code",
   "execution_count": 3,
   "metadata": {},
   "outputs": [],
   "source": [
    "\n",
    "BATCH_SIZE = 32\n",
    "from flwr_datasets.partitioner import DirichletPartitioner\n",
    "def load_datasets(partition_id, num_partitions: int):\n",
    "    drichlet_partitioner = DirichletPartitioner(num_partitions=num_partitions, alpha=0.1, partition_by=\"label\")\n",
    "    fds = FederatedDataset(dataset=\"cifar10\", partitioners={\"train\": drichlet_partitioner})\n",
    "    partition = fds.load_partition(partition_id)\n",
    "    # Divide data on each node: 80% train, 20% test\n",
    "    partition_train_test = partition.train_test_split(test_size=0.2, seed=42)\n",
    "    pytorch_transforms = transforms.Compose(\n",
    "        [transforms.ToTensor(), transforms.Normalize((0.5, 0.5, 0.5), (0.5, 0.5, 0.5))]\n",
    "    )\n",
    "\n",
    "    def apply_transforms(batch):\n",
    "        \n",
    "        batch[\"img\"] = [pytorch_transforms(img) for img in batch[\"img\"]]\n",
    "        return batch\n",
    "\n",
    "    partition_train_test = partition_train_test.with_transform(apply_transforms)\n",
    "    trainloader = DataLoader(partition_train_test[\"train\"], batch_size=32, shuffle=True)\n",
    "    valloader = DataLoader(partition_train_test[\"test\"], batch_size=32)\n",
    "    testset = fds.load_split(\"test\").with_transform(apply_transforms)\n",
    "    testloader = DataLoader(testset, batch_size=32)\n",
    "    return trainloader, valloader, testloader"
   ]
  },
  {
   "cell_type": "code",
   "execution_count": 4,
   "metadata": {},
   "outputs": [],
   "source": [
    "class Net(nn.Module):\n",
    "    def __init__(self) -> None:\n",
    "        super(Net, self).__init__()\n",
    "        self.conv1 = nn.Conv2d(3, 32, kernel_size=3, padding=1)\n",
    "        self.conv2 = nn.Conv2d(32, 64, kernel_size=3, stride=1, padding=1)\n",
    "        self.pool1 = nn.MaxPool2d(2, 2)\n",
    "        self.conv3 = nn.Conv2d(64, 128, kernel_size=3, stride=1, padding=1)\n",
    "        self.conv4 = nn.Conv2d(128, 128, kernel_size=3, stride=1, padding=1)\n",
    "        self.pool2 = nn.MaxPool2d(2, 2)\n",
    "        self.conv5 = nn.Conv2d(128, 256, kernel_size=3, stride=1, padding=1)\n",
    "        self.conv6 = nn.Conv2d(256, 256, kernel_size=3, stride=1, padding=1)\n",
    "        self.pool3 = nn.MaxPool2d(2, 2)\n",
    "        self.fc1 = nn.Linear(256*4*4, 1024)\n",
    "        self.fc2 = nn.Linear(1024, 512)\n",
    "        self.fc3 = nn.Linear(512, 10)\n",
    "        \n",
    "    def forward(self, x: torch.Tensor) -> torch.Tensor:\n",
    "        x = F.relu(self.conv1(x))\n",
    "        x = F.relu(self.conv2(x))\n",
    "        x = self.pool1(x)\n",
    "        x = F.relu(self.conv3(x))\n",
    "        x = F.relu(self.conv4(x))\n",
    "        x = self.pool2(x)\n",
    "        x = F.relu(self.conv5(x))\n",
    "        x = F.relu(self.conv6(x))\n",
    "        x = self.pool3(x)\n",
    "        x = x.view(-1, 256*4*4)\n",
    "        x = F.relu(self.fc1(x))\n",
    "        x = F.relu(self.fc2(x))\n",
    "        x = self.fc3(x)\n",
    "        return x\n",
    "\n",
    "\n",
    "class MoonNet(nn.Module):\n",
    "    \"\"\"Returns both the representation (penultimate layer output) and classification\"\"\"\n",
    "    def __init__(self) -> None:\n",
    "        super(MoonNet, self).__init__()\n",
    "        self.conv1 = nn.Conv2d(3, 32, kernel_size=3, padding=1)\n",
    "        self.conv2 = nn.Conv2d(32, 64, kernel_size=3, stride=1, padding=1)\n",
    "        self.pool1 = nn.MaxPool2d(2, 2)\n",
    "        self.conv3 = nn.Conv2d(64, 128, kernel_size=3, stride=1, padding=1)\n",
    "        self.conv4 = nn.Conv2d(128, 128, kernel_size=3, stride=1, padding=1)\n",
    "        self.pool2 = nn.MaxPool2d(2, 2)\n",
    "        self.conv5 = nn.Conv2d(128, 256, kernel_size=3, stride=1, padding=1)\n",
    "        self.conv6 = nn.Conv2d(256, 256, kernel_size=3, stride=1, padding=1)\n",
    "        self.pool3 = nn.MaxPool2d(2, 2)\n",
    "        self.fc1 = nn.Linear(256*4*4, 1024)\n",
    "        self.fc2 = nn.Linear(1024, 512)\n",
    "        self.fc3 = nn.Linear(512, 10)\n",
    "\n",
    "    def forward(self, x: torch.Tensor) -> torch.Tensor:\n",
    "        x = F.relu(self.conv1(x))\n",
    "        x = F.relu(self.conv2(x))\n",
    "        x = self.pool1(x)\n",
    "        x = F.relu(self.conv3(x))\n",
    "        x = F.relu(self.conv4(x))\n",
    "        x = self.pool2(x)\n",
    "        x = F.relu(self.conv5(x))\n",
    "        x = F.relu(self.conv6(x))\n",
    "        x = self.pool3(x)\n",
    "        x = x.view(-1, 256*4*4)\n",
    "        x = F.relu(self.fc1(x))\n",
    "        x = F.relu(self.fc2(x))\n",
    "        representation = x.clone()\n",
    "        classification = self.fc3(x)\n",
    "        return representation, classification\n",
    "\n",
    "def get_parameters(net) -> List[np.ndarray]:\n",
    "    return [val.cpu().numpy() for _, val in net.state_dict().items()]\n",
    "\n",
    "\n",
    "def set_parameters(net, parameters, trainable_layers=-1):\n",
    "    \"\"\"Set model parameters from a list of NumPy arrays.\"\"\"\n",
    "    current_state = OrderedDict(net.state_dict())\n",
    "    \n",
    "    if trainable_layers == -1:\n",
    "        # Update all parameters\n",
    "        params_dict = zip(current_state.keys(), parameters)\n",
    "        state_dict = OrderedDict({k: torch.Tensor(v) for k, v in params_dict})\n",
    "        net.load_state_dict(state_dict, strict=True)\n",
    "    else:\n",
    "        # Only update the specified layer's parameters\n",
    "        # Convert current state to numpy arrays\n",
    "        numpy_state = [param.cpu().numpy() for param in current_state.values()]\n",
    "        \n",
    "        # Update the specific indices with new parameters\n",
    "        numpy_state[trainable_layers*2] = parameters[0]\n",
    "        numpy_state[trainable_layers*2 + 1] = parameters[1]\n",
    "        \n",
    "        # Convert back to torch and update state dict\n",
    "        for idx, key in enumerate(current_state.keys()):\n",
    "            current_state[key] = torch.from_numpy(numpy_state[idx])\n",
    "        \n",
    "        net.load_state_dict(current_state, strict=True)\n",
    "\n",
    "\n",
    "# def set_parameters(net, parameters: List[np.ndarray]):\n",
    "#     params_dict = zip(net.state_dict().keys(), parameters)\n",
    "#     state_dict = OrderedDict({k: torch.Tensor(v) for k, v in params_dict})\n",
    "#     net.load_state_dict(state_dict, strict=True)\n",
    "\n",
    "def train(net, trainloader, epochs: int):\n",
    "    \"\"\"Train the network on the training set.\"\"\"\n",
    "    criterion = torch.nn.CrossEntropyLoss()\n",
    "    optimizer = torch.optim.Adam(net.parameters(),betas=(0.999,0.999))\n",
    "    net.train()\n",
    "    for epoch in range(epochs):\n",
    "        correct, total, epoch_loss = 0, 0, 0.0\n",
    "        for batch in trainloader:\n",
    "            images, labels = batch[\"img\"], batch[\"label\"]\n",
    "            images, labels = images.to(DEVICE), labels.to(DEVICE)\n",
    "            optimizer.zero_grad()\n",
    "            outputs = net(images)\n",
    "            loss = criterion(net(images), labels)\n",
    "            loss.backward()\n",
    "            optimizer.step()\n",
    "            # Metrics\n",
    "            epoch_loss += loss\n",
    "            total += labels.size(0)\n",
    "            correct += (torch.max(outputs.data, 1)[1] == labels).sum().item()\n",
    "        epoch_loss /= len(trainloader.dataset)\n",
    "        epoch_acc = correct / total\n",
    "        print(f\"Epoch {epoch+1}: train loss {epoch_loss}, accuracy {epoch_acc}\")\n",
    "        \n",
    "def proxima_train(net, trainloader, epochs: int, proximal_mu:float, global_params:List[torch.Tensor]):\n",
    "    \"\"\"Train the network on the training set.\"\"\"\n",
    "    criterion = torch.nn.CrossEntropyLoss()\n",
    "    optimizer = torch.optim.Adam(net.parameters())\n",
    "    net.train()\n",
    "    for epoch in range(epochs):\n",
    "        correct, total, epoch_loss = 0, 0, 0.0\n",
    "        for batch in trainloader:\n",
    "            images, labels = batch[\"img\"], batch[\"label\"]\n",
    "            images, labels = images.to(DEVICE), labels.to(DEVICE)\n",
    "            optimizer.zero_grad()\n",
    "            outputs = net(images)\n",
    "\n",
    "            proximal_term = 0.0\n",
    "            for local_weights, global_weights in zip(net.parameters(), global_params):\n",
    "                proximal_term += (local_weights - global_weights).norm(2)\n",
    "            loss = criterion(net(images), labels) + (proximal_mu / 2) * proximal_term\n",
    "\n",
    "\n",
    "            loss.backward()\n",
    "            optimizer.step()\n",
    "            \n",
    "            epoch_loss += loss\n",
    "            total += labels.size(0)\n",
    "            correct += (torch.max(outputs.data, 1)[1] == labels).sum().item()\n",
    "        epoch_loss /= len(trainloader.dataset)\n",
    "        epoch_acc = correct / total\n",
    "        print(f\"Epoch {epoch+1}: train loss {epoch_loss}, accuracy {epoch_acc}\")\n",
    "\n",
    "\n",
    "def train_moon(net,train_loader, global_net,previous_net, epochs, mu, temperature):\n",
    "    \"\"\"Training function for MOON.\"\"\"\n",
    "    print(f\"Started training moon\")\n",
    "    criterion = torch.nn.CrossEntropyLoss()\n",
    "    optimizer = torch.optim.Adam(net.parameters())\n",
    "\n",
    "    previous_net.eval()\n",
    "    global_net.eval()\n",
    "\n",
    "    cnt = 0\n",
    "    cos = torch.nn.CosineSimilarity(dim=-1)\n",
    "\n",
    "    for epoch in range(epochs):\n",
    "        epoch_loss_collector = []\n",
    "        epoch_loss1_collector = []\n",
    "        epoch_loss2_collector = []\n",
    "        for batch in train_loader:\n",
    "            x, target = batch[\"img\"], batch[\"label\"]\n",
    "            x, target = x.to(DEVICE), target.to(DEVICE)\n",
    "            optimizer.zero_grad()\n",
    "\n",
    "            # pro1 is the representation by the current model (Line 14 of Algorithm 1)\n",
    "            pro1, out = net(x)\n",
    "            # pro2 is the representation by the global model (Line 15 of Algorithm 1)\n",
    "            # pro3 is the representation by the previous model (Line 16 of Algorithm 1)\n",
    "            with torch.no_grad():\n",
    "                pro2, _ = global_net(x)\n",
    "                pro3, _ = previous_net(x)\n",
    "\n",
    "            # posi is the positive pair\n",
    "            posi = cos(pro1, pro2)\n",
    "            logits = posi.reshape(-1, 1)\n",
    "\n",
    "            # nega is the negative pair\n",
    "            nega = cos(pro1, pro3)\n",
    "            logits = torch.cat((logits, nega.reshape(-1, 1)), dim=1)\n",
    "\n",
    "            previous_net.to(\"cpu\")\n",
    "            logits /= temperature\n",
    "            labels = torch.zeros(x.size(0)).to(DEVICE).long()\n",
    "\n",
    "            # compute the model-contrastive loss (Line 17 of Algorithm 1)\n",
    "            loss2 = mu * criterion(logits, labels)\n",
    "\n",
    "            # compute the cross-entropy loss (Line 13 of Algorithm 1)\n",
    "            loss1 = criterion(out, target)\n",
    "\n",
    "            # compute the loss (Line 18 of Algorithm 1)\n",
    "            loss = loss1 + loss2\n",
    "\n",
    "            loss.backward()\n",
    "            optimizer.step()\n",
    "\n",
    "            cnt += 1\n",
    "            epoch_loss_collector.append(loss.item())\n",
    "            epoch_loss1_collector.append(loss1.item())\n",
    "            epoch_loss2_collector.append(loss2.item())\n",
    "\n",
    "        epoch_loss = sum(epoch_loss_collector) / len(epoch_loss_collector)\n",
    "        epoch_loss1 = sum(epoch_loss1_collector) / len(epoch_loss1_collector)\n",
    "        epoch_loss2 = sum(epoch_loss2_collector) / len(epoch_loss2_collector)\n",
    "        print(\n",
    "            \"Epoch: %d Loss: %f Loss1: %f Loss2: %f\"\n",
    "            % (epoch, epoch_loss, epoch_loss1, epoch_loss2)\n",
    "        )\n",
    "\n",
    "\n",
    "def test_moon(net, testloader):\n",
    "    \"\"\"\n",
    "    Evaluate the network on the entire test set.\n",
    "    Same as the regular test, but using the MoonNet \n",
    "    (where the output is a tuple of (representation, classification) )\n",
    "    \"\"\"\n",
    "    criterion = torch.nn.CrossEntropyLoss()\n",
    "    correct, total, loss = 0, 0, 0.0\n",
    "    net.eval()\n",
    "    with torch.no_grad():\n",
    "        for batch in testloader:\n",
    "            images, labels = batch[\"img\"], batch[\"label\"]\n",
    "            images, labels = images.to(DEVICE), labels.to(DEVICE)\n",
    "            _, outputs = net(images)\n",
    "            loss += criterion(outputs, labels).item()\n",
    "            _, predicted = torch.max(outputs.data, 1)\n",
    "            total += labels.size(0)\n",
    "            correct += (predicted == labels).sum().item()\n",
    "    loss /= len(testloader.dataset)\n",
    "    accuracy = correct / total\n",
    "    return loss, accuracy\n",
    "\n",
    "\n",
    "\n",
    "\n",
    "def test(net, testloader):\n",
    "    \"\"\"Evaluate the network on the entire test set.\"\"\"\n",
    "    criterion = torch.nn.CrossEntropyLoss()\n",
    "    correct, total, loss = 0, 0, 0.0\n",
    "    net.eval()\n",
    "    with torch.no_grad():\n",
    "        for batch in testloader:\n",
    "            images, labels = batch[\"img\"], batch[\"label\"]\n",
    "            images, labels = images.to(DEVICE), labels.to(DEVICE)\n",
    "            outputs = net(images)\n",
    "            loss += criterion(outputs, labels).item()\n",
    "            _, predicted = torch.max(outputs.data, 1)\n",
    "            total += labels.size(0)\n",
    "            correct += (predicted == labels).sum().item()\n",
    "    loss /= len(testloader.dataset)\n",
    "    accuracy = correct / total\n",
    "    return loss, accuracy\n",
    "\n",
    "# def freeze_layers(model: torch.nn.Module, trainable_layers: int) -> None:\n",
    "#         \"\"\"Freeze specified layers of the model.\"\"\"\n",
    "#         for idx, (name, param) in enumerate(model.named_parameters()):\n",
    "#             if idx == trainable_layers or trainable_layers == -1:\n",
    "#                 param.requires_grad = True\n",
    "#             else:\n",
    "#                 param.requires_grad = False\n",
    "\n",
    "\n",
    "\n",
    "def freeze_layers(model: torch.nn.Module, trainable_layers: int) -> None:\n",
    "        \"\"\"Freeze specified layers of the model.\"\"\"\n",
    "        trainable_layers_set = []\n",
    "        if trainable_layers == -1:\n",
    "            trainable_layers_set = [-1]\n",
    "        else:\n",
    "            trainable_layers_set = [trainable_layers *2, trainable_layers *2 +1]\n",
    "\n",
    "        for idx, (name, param) in enumerate(model.named_parameters()):\n",
    "            \n",
    "            if idx in trainable_layers_set or trainable_layers_set[0] == -1:\n",
    "                param.requires_grad = True\n",
    "                print(f\"layer index is {idx} and name{name} is trainabe\")\n",
    "            else:\n",
    "                param.requires_grad = False\n",
    "                print(f\"layer index is {idx} and name{name} is frozen\")\n",
    "\n",
    "\n"
   ]
  },
  {
   "cell_type": "code",
   "execution_count": 5,
   "metadata": {},
   "outputs": [
    {
     "name": "stdout",
     "output_type": "stream",
     "text": [
      "Number of rounds: 23\n"
     ]
    }
   ],
   "source": [
    "\n",
    "NETWORK_LEN = len(Net().state_dict().keys()) //2 \n",
    "EPOCHS = 8\n",
    "NUM_PARTITIONS = 6\n",
    "NUM_OF_CYCLES  = 1\n",
    "NUM_OF_FULL_UPDATES_BETWEEN_CYCLES = 5\n",
    "NUM_OF_ROUNDS = (NUM_OF_CYCLES * NUM_OF_FULL_UPDATES_BETWEEN_CYCLES) + (NUM_OF_CYCLES * NETWORK_LEN *2)\n",
    "print(f\"Number of rounds: {NUM_OF_ROUNDS}\")\n",
    "backend_config = {\"client_resources\": {\"num_cpus\": 1, \"num_gpus\": 0.0}}\n"
   ]
  },
  {
   "cell_type": "code",
   "execution_count": 6,
   "metadata": {},
   "outputs": [],
   "source": [
    "from flwr.common import NDArrays, Scalar\n",
    "import sys\n",
    "def get_evaluate_fn(\n",
    "    testloader: DataLoader,\n",
    "    net: torch.nn.Module,\n",
    ") -> Callable[[int, NDArrays, Dict[str, Scalar]], Optional[Tuple[float, Dict[str, Scalar]]]]:\n",
    "    \"\"\"Return an evaluation function for server-side evaluation.\"\"\"\n",
    "\n",
    "    def evaluate(\n",
    "        server_round: int, parameters: NDArrays, config: Dict[str, Scalar]\n",
    "    ) -> Optional[Tuple[float, Dict[str, Scalar]]]:\n",
    "        \"\"\"Use the entire test set for evaluation.\"\"\"\n",
    "        \n",
    "        # Copy model parameters to avoid modifying the original\n",
    "        net_copy = copy.deepcopy(net)\n",
    "        \n",
    "        # Update model with the latest parameters\n",
    "        params_dict = zip(net_copy.state_dict().keys(), parameters)\n",
    "        state_dict = OrderedDict({k: torch.tensor(v) for k, v in params_dict})\n",
    "        net_copy.load_state_dict(state_dict, strict=True)\n",
    "        \n",
    "        net_copy.to(DEVICE)\n",
    "        net_copy.eval()\n",
    "\n",
    "        # Test the model\n",
    "        loss, accuracy = test(net_copy, testloader)\n",
    "        \n",
    "        # Return loss and metrics\n",
    "        return loss, {\"accuracy\": accuracy}\n",
    "\n",
    "    return evaluate\n",
    "\n",
    "\n",
    "def get_evaluate_fn_moon(\n",
    "    testloader: DataLoader,\n",
    "    net: torch.nn.Module,\n",
    ") -> Callable[[int, NDArrays, Dict[str, Scalar]], Optional[Tuple[float, Dict[str, Scalar]]]]:\n",
    "    \"\"\"Return an evaluation function for server-side evaluation.\"\"\"\n",
    "\n",
    "    def evaluate(\n",
    "        server_round: int, parameters: NDArrays, config: Dict[str, Scalar]\n",
    "    ) -> Optional[Tuple[float, Dict[str, Scalar]]]:\n",
    "        \"\"\"Use the entire test set for evaluation.\"\"\"\n",
    "        \n",
    "        # Copy model parameters to avoid modifying the original\n",
    "        net_copy = copy.deepcopy(net)\n",
    "        \n",
    "        # Update model with the latest parameters\n",
    "        params_dict = zip(net_copy.state_dict().keys(), parameters)\n",
    "        state_dict = OrderedDict({k: torch.tensor(v) for k, v in params_dict})\n",
    "        net_copy.load_state_dict(state_dict, strict=True)\n",
    "        \n",
    "        net_copy.to(DEVICE)\n",
    "        net_copy.eval()\n",
    "\n",
    "        # Test the model\n",
    "        loss, accuracy = test_moon(net_copy, testloader)\n",
    "        \n",
    "        # Return loss and metrics\n",
    "        return loss, {\"accuracy\": accuracy}\n",
    "\n",
    "    return evaluate\n",
    "\n",
    "\n",
    "def get_parameters_size(params: Parameters) -> int:\n",
    "    size = sys.getsizeof(params)  # Base size of the dataclass instance\n",
    "    size += sys.getsizeof(params.tensor_type)  # Size of the string\n",
    "    size += sys.getsizeof(params.tensors)  # Size of the list container\n",
    "    size += sum(sys.getsizeof(tensor) for tensor in params.tensors)  # Size of each bytes object\n",
    "    return size\n"
   ]
  },
  {
   "cell_type": "markdown",
   "metadata": {},
   "source": [
    "# Normal FedAvg"
   ]
  },
  {
   "cell_type": "code",
   "execution_count": 7,
   "metadata": {},
   "outputs": [],
   "source": [
    "from typing import Union\n",
    "\n",
    "\n",
    "from flwr.common import (\n",
    "    EvaluateIns,\n",
    "    EvaluateRes,\n",
    "    FitIns,\n",
    "    FitRes,\n",
    "    Parameters,\n",
    "    Scalar,\n",
    "    ndarrays_to_parameters,\n",
    "    parameters_to_ndarrays,\n",
    ")\n",
    "from flwr.server.client_manager import ClientManager\n",
    "from flwr.server.client_proxy import ClientProxy\n",
    "from flwr.server.strategy.aggregate import aggregate, weighted_loss_avg\n",
    "\n",
    "\n",
    "fed_avg_result = {}\n",
    "fed_avg_model_results = {}\n",
    "\n",
    "class ModifiedFedAvg(Strategy):\n",
    "    def __init__(\n",
    "        self,\n",
    "        fraction_fit: float = 1.0,\n",
    "        fraction_evaluate: float = 1.0,\n",
    "        min_fit_clients: int = 2,\n",
    "        min_evaluate_clients: int = 2,\n",
    "        min_available_clients: int = 2,\n",
    "        evaluate_fn: Optional[\n",
    "            Callable[\n",
    "                [int, NDArrays, dict[str, Scalar]],\n",
    "                Optional[tuple[float, dict[str, Scalar]]],\n",
    "            ]\n",
    "        ] = None,\n",
    "        on_fit_config_fn: Optional[Callable[[int], dict[str, Scalar]]] = None,\n",
    "        on_evaluate_config_fn: Optional[Callable[[int], dict[str, Scalar]]] = None,\n",
    "        accept_failures: bool = True,\n",
    "        initial_parameters: Optional[Parameters] = None,\n",
    "        fit_metrics_aggregation_fn: Optional[MetricsAggregationFn] = None,\n",
    "        evaluate_metrics_aggregation_fn: Optional[MetricsAggregationFn] = None,\n",
    "        inplace: bool = True,\n",
    "        layer_update_strategy: str = \"sequential\",\n",
    "        \n",
    "    ) -> None:\n",
    "        super().__init__()\n",
    "        self.fraction_fit = fraction_fit\n",
    "        self.fraction_evaluate = fraction_evaluate\n",
    "        self.min_fit_clients = min_fit_clients\n",
    "        self.min_evaluate_clients = min_evaluate_clients\n",
    "        self.min_available_clients = min_available_clients\n",
    "        self.evaluate_fn = evaluate_fn\n",
    "        self.on_fit_config_fn = on_fit_config_fn\n",
    "        self.on_evaluate_config_fn = on_evaluate_config_fn\n",
    "        self.accept_failures = accept_failures\n",
    "        self.initial_parameters = initial_parameters\n",
    "        self.fit_metrics_aggregation_fn = fit_metrics_aggregation_fn\n",
    "        self.evaluate_metrics_aggregation_fn = evaluate_metrics_aggregation_fn\n",
    "        self.inplace = inplace\n",
    "\n",
    "\n",
    "    def __repr__(self) -> str:\n",
    "        return \"FedPartAvg\"\n",
    "    \n",
    "\n",
    "    def num_fit_clients(self, num_available_clients: int) -> Tuple[int, int]:\n",
    "        \"\"\"Return sample size and required number of clients.\"\"\"\n",
    "        num_clients = int(num_available_clients * self.fraction_fit)\n",
    "        return max(num_clients, self.min_fit_clients), self.min_available_clients\n",
    "\n",
    "    def num_evaluation_clients(self, num_available_clients: int) -> Tuple[int, int]:\n",
    "        \"\"\"Use a fraction of available clients for evaluation.\"\"\"\n",
    "        num_clients = int(num_available_clients * self.fraction_evaluate)\n",
    "        return max(num_clients, self.min_evaluate_clients), self.min_available_clients\n",
    "    \n",
    "   \n",
    "    def initialize_parameters(\n",
    "        self, client_manager: ClientManager\n",
    "    ) -> Optional[Parameters]:\n",
    "        \"\"\"Initialize global model parameters.\"\"\"\n",
    "        net = Net()\n",
    "        ndarrays = get_parameters(net)\n",
    "        return ndarrays_to_parameters(ndarrays)\n",
    "    \n",
    "\n",
    "\n",
    "    def evaluate(\n",
    "        self, server_round: int, parameters: Parameters\n",
    "    ) -> Optional[tuple[float, dict[str, Scalar]]]:\n",
    "        \"\"\"Evaluate model parameters using an evaluation function.\"\"\"\n",
    "        if self.evaluate_fn is None:\n",
    "            # No evaluation function provided\n",
    "            return None\n",
    "        parameters_ndarrays = parameters_to_ndarrays(parameters)\n",
    "        eval_res = self.evaluate_fn(server_round, parameters_ndarrays, {})\n",
    "        if eval_res is None:\n",
    "            return None\n",
    "        loss, metrics = eval_res\n",
    "\n",
    "        if server_round in fed_avg_model_results:\n",
    "            expand_fed_avg_result= {**fed_avg_model_results[server_round], \"global_loss\": loss, \"global_metrics\": metrics}\n",
    "        else:\n",
    "            expand_fed_avg_result= {\"global_loss\": loss, \"global_metrics\": metrics}\n",
    "\n",
    "        fed_avg_model_results[server_round] = expand_fed_avg_result\n",
    "\n",
    "        return loss, metrics\n",
    "\n",
    "    def configure_fit(\n",
    "        self, server_round: int, parameters: Parameters, client_manager: ClientManager\n",
    "    ) -> List[Tuple[ClientProxy, FitIns]]:\n",
    "        \"\"\"Configure the next round of training.\"\"\"\n",
    "        \n",
    "        config = {}\n",
    "        \n",
    "        sample_size, min_num_clients = self.num_fit_clients(\n",
    "            client_manager.num_available()\n",
    "        )\n",
    "        clients = client_manager.sample(\n",
    "            num_clients=sample_size, min_num_clients=min_num_clients\n",
    "        )\n",
    "        \n",
    "        fit_configurations = []\n",
    "        for idx, client in enumerate(clients):\n",
    "            fit_configurations.append((client, FitIns(parameters, config)))\n",
    "\n",
    "        \n",
    "        return fit_configurations\n",
    "    \n",
    "\n",
    "    def configure_evaluate(\n",
    "        self, server_round: int, parameters: Parameters, client_manager: ClientManager\n",
    "    ) -> List[Tuple[ClientProxy, EvaluateIns]]:\n",
    "        \"\"\"Configure the next round of evaluation.\"\"\"\n",
    "        if self.fraction_evaluate == 0.0:\n",
    "            return []\n",
    "        config = {}\n",
    "        evaluate_ins = EvaluateIns(parameters, config)\n",
    "\n",
    "        # Sample clients\n",
    "        sample_size, min_num_clients = self.num_evaluation_clients(\n",
    "            client_manager.num_available()\n",
    "        )\n",
    "        clients = client_manager.sample(\n",
    "            num_clients=sample_size, min_num_clients=min_num_clients\n",
    "        )\n",
    "\n",
    "        # Return client/config pairs\n",
    "        return [(client, evaluate_ins) for client in clients]\n",
    "\n",
    "    def aggregate_fit(\n",
    "        self,\n",
    "        server_round: int,\n",
    "        results: List[Tuple[ClientProxy, FitRes]],\n",
    "        failures: List[Union[Tuple[ClientProxy, FitRes], BaseException]],\n",
    "    ) -> Tuple[Optional[Parameters], Dict[str, Scalar]]:\n",
    "        \"\"\"Aggregate fit results using weighted average.\"\"\"\n",
    "\n",
    "        # get size of parameters in bytes\n",
    "        total_size = 0\n",
    "        for client, fit_res in results:\n",
    "            total_size += get_parameters_size(fit_res.parameters) *2\n",
    "        \n",
    "\n",
    "        if server_round in fed_avg_result:\n",
    "            expand_fed_avg_result= {**fed_avg_result[server_round], \"total_size\": total_size}\n",
    "        else:\n",
    "            expand_fed_avg_result= {\"total_size\": total_size}\n",
    "\n",
    "        fed_avg_result[server_round] = expand_fed_avg_result\n",
    "\n",
    "\n",
    "        weights_results = [\n",
    "            (parameters_to_ndarrays(fit_res.parameters), fit_res.num_examples)\n",
    "            for _, fit_res in results\n",
    "        ]\n",
    "        parameters_aggregated = ndarrays_to_parameters(aggregate(weights_results))\n",
    "        metrics_aggregated = {}\n",
    "        return parameters_aggregated, metrics_aggregated\n",
    "\n",
    "    \n",
    "\n",
    "    def aggregate_evaluate(\n",
    "        self,\n",
    "        server_round: int,\n",
    "        results: List[Tuple[ClientProxy, EvaluateRes]],\n",
    "        failures: List[Union[Tuple[ClientProxy, EvaluateRes], BaseException]],\n",
    "    ) -> Tuple[Optional[float], Dict[str, Scalar]]:\n",
    "        \"\"\"Aggregate evaluation losses using weighted average.\"\"\"\n",
    "\n",
    "        if not results:\n",
    "            return None, {}\n",
    "\n",
    "        total_loss = 0\n",
    "        for _, evaluate_res in results:\n",
    "            total_loss += evaluate_res.loss \n",
    "\n",
    "\n",
    "        if server_round in fed_avg_result:\n",
    "            expand_fed_avg_result= {**fed_avg_result[server_round], \"total_loss\": total_loss}\n",
    "        else:\n",
    "            expand_fed_avg_result= {\"total_loss\": total_loss}\n",
    "\n",
    "        fed_avg_result[server_round] = expand_fed_avg_result\n",
    "\n",
    "        loss_aggregated = weighted_loss_avg(\n",
    "            [\n",
    "                (evaluate_res.num_examples, evaluate_res.loss)\n",
    "                for _, evaluate_res in results\n",
    "            ]\n",
    "        )\n",
    "        metrics_aggregated = {}\n",
    "        return loss_aggregated, metrics_aggregated"
   ]
  },
  {
   "cell_type": "code",
   "execution_count": 8,
   "metadata": {},
   "outputs": [],
   "source": [
    "class NormalFlowerClient(NumPyClient):\n",
    "    def __init__(self, partition_id, net, trainloader, valloader):\n",
    "        self.partition_id = partition_id\n",
    "        self.net = net\n",
    "        self.trainloader = trainloader\n",
    "        self.valloader = valloader\n",
    "\n",
    "    def get_parameters(self, config):\n",
    "        print(f\"[Client {self.partition_id}] get_parameters\")\n",
    "        return get_parameters(self.net)\n",
    "\n",
    "    def fit(self, parameters, config):\n",
    "        print(f\"[Client {self.partition_id}] fit, config: {config}\")\n",
    "        set_parameters(self.net, parameters)\n",
    "        train(self.net, self.trainloader, epochs=EPOCHS)\n",
    "        return get_parameters(self.net), len(self.trainloader), {}\n",
    "\n",
    "    def evaluate(self, parameters, config):\n",
    "        print(f\"[Client {self.partition_id}] evaluate, config: {config}\")\n",
    "        set_parameters(self.net, parameters)\n",
    "        loss, accuracy = test(self.net, self.valloader)\n",
    "        return float(loss), len(self.valloader), {\"accuracy\": float(accuracy)}\n",
    "\n",
    "\n",
    "\n",
    "def client_fn(context: Context) -> Client:\n",
    "    net = Net().to(DEVICE)\n",
    "    partition_id = context.node_config[\"partition-id\"]\n",
    "    num_partitions = context.node_config[\"num-partitions\"]\n",
    "    trainloader, valloader, _ = load_datasets(partition_id, num_partitions)\n",
    "    return NormalFlowerClient(partition_id, net, trainloader, valloader).to_client()\n",
    "\n",
    "\n",
    "# Create the ClientApp\n",
    "client = ClientApp(client_fn=client_fn)"
   ]
  },
  {
   "cell_type": "code",
   "execution_count": 9,
   "metadata": {},
   "outputs": [
    {
     "name": "stderr",
     "output_type": "stream",
     "text": [
      "/Users/macbook/Desktop/L361/L361_Project/.conda/lib/python3.12/site-packages/datasets/utils/_dill.py:385: DeprecationWarning: co_lnotab is deprecated, use co_lines instead.\n",
      "  obj.co_lnotab,  # for < python 3.10 [not counted in args]\n",
      "\u001b[92mINFO \u001b[0m:      Starting Flower ServerApp, config: num_rounds=23, no round_timeout\n",
      "\u001b[92mINFO \u001b[0m:      \n",
      "\u001b[92mINFO \u001b[0m:      [INIT]\n",
      "\u001b[92mINFO \u001b[0m:      Using initial global parameters provided by strategy\n",
      "\u001b[92mINFO \u001b[0m:      Starting evaluation of initial global parameters\n",
      "\u001b[92mINFO \u001b[0m:      initial parameters (loss, other metrics): 0.07207894446849823, {'accuracy': 0.1}\n",
      "\u001b[92mINFO \u001b[0m:      \n",
      "\u001b[92mINFO \u001b[0m:      [ROUND 1]\n",
      "\u001b[92mINFO \u001b[0m:      configure_fit: strategy sampled 6 clients (out of 6)\n",
      "\u001b[36m(ClientAppActor pid=47699)\u001b[0m /Users/macbook/Desktop/L361/L361_Project/.conda/lib/python3.12/site-packages/datasets/utils/_dill.py:385: DeprecationWarning: co_lnotab is deprecated, use co_lines instead.\n",
      "\u001b[36m(ClientAppActor pid=47699)\u001b[0m   obj.co_lnotab,  # for < python 3.10 [not counted in args]\n"
     ]
    },
    {
     "name": "stdout",
     "output_type": "stream",
     "text": [
      "\u001b[36m(ClientAppActor pid=47699)\u001b[0m [Client 3] fit, config: {}\n",
      "\u001b[36m(ClientAppActor pid=47699)\u001b[0m Epoch 1: train loss 0.05606739968061447, accuracy 0.31412103746397696\n",
      "\u001b[36m(ClientAppActor pid=47704)\u001b[0m [Client 2] fit, config: {}\u001b[32m [repeated 5x across cluster] (Ray deduplicates logs by default. Set RAY_DEDUP_LOGS=0 to disable log deduplication, or see https://docs.ray.io/en/master/ray-observability/user-guides/configure-logging.html#log-deduplication for more options.)\u001b[0m\n",
      "\u001b[36m(ClientAppActor pid=47700)\u001b[0m Epoch 1: train loss 0.02214280515909195, accuracy 0.6824712643678161\n",
      "\u001b[36m(ClientAppActor pid=47702)\u001b[0m Epoch 1: train loss 0.029328113421797752, accuracy 0.559048178613396\n",
      "\u001b[36m(ClientAppActor pid=47701)\u001b[0m Epoch 1: train loss 0.03780398890376091, accuracy 0.4534058656575213\u001b[32m [repeated 2x across cluster]\u001b[0m\n",
      "\u001b[36m(ClientAppActor pid=47699)\u001b[0m Epoch 2: train loss 0.05362411215901375, accuracy 0.34648636665927735\u001b[32m [repeated 2x across cluster]\u001b[0m\n",
      "\u001b[36m(ClientAppActor pid=47700)\u001b[0m Epoch 2: train loss 0.01882515288889408, accuracy 0.6921182266009852\n",
      "\u001b[36m(ClientAppActor pid=47699)\u001b[0m Epoch 3: train loss 0.053184304386377335, accuracy 0.34648636665927735\n",
      "\u001b[36m(ClientAppActor pid=47702)\u001b[0m Epoch 2: train loss 0.02423035353422165, accuracy 0.6764101057579318\n",
      "\u001b[36m(ClientAppActor pid=47704)\u001b[0m Epoch 2: train loss 0.0287762563675642, accuracy 0.5235802294292593\n",
      "\u001b[36m(ClientAppActor pid=47700)\u001b[0m Epoch 3: train loss 0.01675253175199032, accuracy 0.7528735632183908\n",
      "\u001b[36m(ClientAppActor pid=47703)\u001b[0m Epoch 2: train loss 0.04450353607535362, accuracy 0.3006031363088058\n",
      "\u001b[36m(ClientAppActor pid=47701)\u001b[0m Epoch 2: train loss 0.029960906133055687, accuracy 0.652554399243141\n",
      "\u001b[36m(ClientAppActor pid=47699)\u001b[0m Epoch 4: train loss 0.05290781334042549, accuracy 0.34648636665927735\n",
      "\u001b[36m(ClientAppActor pid=47700)\u001b[0m Epoch 4: train loss 0.014629161916673183, accuracy 0.805623973727422\n",
      "\u001b[36m(ClientAppActor pid=47702)\u001b[0m Epoch 3: train loss 0.01944115199148655, accuracy 0.7959753231492362\n",
      "\u001b[36m(ClientAppActor pid=47704)\u001b[0m Epoch 3: train loss 0.026920132339000702, accuracy 0.6312137091063589\n",
      "\u001b[36m(ClientAppActor pid=47699)\u001b[0m Epoch 5: train loss 0.05026698112487793, accuracy 0.4030148525825759\n",
      "\u001b[36m(ClientAppActor pid=47700)\u001b[0m Epoch 5: train loss 0.01387207955121994, accuracy 0.8152709359605911\n",
      "\u001b[36m(ClientAppActor pid=47703)\u001b[0m Epoch 3: train loss 0.04041632264852524, accuracy 0.3577804583835947\n",
      "\u001b[36m(ClientAppActor pid=47701)\u001b[0m Epoch 3: train loss 0.024944959208369255, accuracy 0.7430227057710501\n",
      "\u001b[36m(ClientAppActor pid=47699)\u001b[0m Epoch 6: train loss 0.04686104878783226, accuracy 0.4517845267124806\n",
      "\u001b[36m(ClientAppActor pid=47704)\u001b[0m Epoch 4: train loss 0.024267073720693588, accuracy 0.6639286220082141\u001b[32m [repeated 2x across cluster]\u001b[0m\n",
      "\u001b[36m(ClientAppActor pid=47700)\u001b[0m Epoch 6: train loss 0.012624730356037617, accuracy 0.8466748768472906\n",
      "\u001b[36m(ClientAppActor pid=47699)\u001b[0m Epoch 7: train loss 0.04413101077079773, accuracy 0.4593216581689204\n",
      "\u001b[36m(ClientAppActor pid=47703)\u001b[0m Epoch 4: train loss 0.03868233039975166, accuracy 0.40579010856453557\n",
      "\u001b[36m(ClientAppActor pid=47701)\u001b[0m Epoch 4: train loss 0.023357374593615532, accuracy 0.7619441816461684\n",
      "\u001b[36m(ClientAppActor pid=47700)\u001b[0m Epoch 7: train loss 0.011364682577550411, accuracy 0.8651477832512315\n",
      "\u001b[36m(ClientAppActor pid=47702)\u001b[0m Epoch 5: train loss 0.018250830471515656, accuracy 0.8014101057579318\n",
      "\u001b[36m(ClientAppActor pid=47704)\u001b[0m Epoch 5: train loss 0.021823640912771225, accuracy 0.7032998158901006\n",
      "\u001b[36m(ClientAppActor pid=47699)\u001b[0m Epoch 8: train loss 0.041954267770051956, accuracy 0.5131899800487697\n",
      "\u001b[36m(ClientAppActor pid=47700)\u001b[0m Epoch 8: train loss 0.011225360445678234, accuracy 0.8661740558292282\n",
      "\u001b[36m(ClientAppActor pid=47702)\u001b[0m Epoch 6: train loss 0.017456630244851112, accuracy 0.8102232667450059\n",
      "\u001b[36m(ClientAppActor pid=47703)\u001b[0m Epoch 5: train loss 0.03691035136580467, accuracy 0.4718938480096502\n",
      "\u001b[36m(ClientAppActor pid=47701)\u001b[0m Epoch 5: train loss 0.02310752496123314, accuracy 0.7614711447492905\n",
      "\u001b[36m(ClientAppActor pid=47704)\u001b[0m Epoch 6: train loss 0.020276464521884918, accuracy 0.7202945758391163\n",
      "\u001b[36m(ClientAppActor pid=47702)\u001b[0m Epoch 7: train loss 0.01694333553314209, accuracy 0.8103701527614571\n",
      "\u001b[36m(ClientAppActor pid=47704)\u001b[0m Epoch 7: train loss 0.0188395157456398, accuracy 0.750318651749044\n",
      "\u001b[36m(ClientAppActor pid=47703)\u001b[0m Epoch 6: train loss 0.03531375899910927, accuracy 0.4956574185765983\n",
      "\u001b[36m(ClientAppActor pid=47701)\u001b[0m Epoch 6: train loss 0.02335064858198166, accuracy 0.7574503311258278\n",
      "\u001b[36m(ClientAppActor pid=47702)\u001b[0m Epoch 8: train loss 0.01606593281030655, accuracy 0.8231492361927144\n",
      "\u001b[36m(ClientAppActor pid=47704)\u001b[0m Epoch 8: train loss 0.017212295904755592, accuracy 0.7707123636878629\n",
      "\u001b[36m(ClientAppActor pid=47703)\u001b[0m Epoch 7: train loss 0.03410825878381729, accuracy 0.5271411338962606\n",
      "\u001b[36m(ClientAppActor pid=47701)\u001b[0m Epoch 7: train loss 0.022344734519720078, accuracy 0.7607615894039735\n",
      "\u001b[36m(ClientAppActor pid=47703)\u001b[0m Epoch 8: train loss 0.03318420425057411, accuracy 0.5375150784077202\n"
     ]
    },
    {
     "name": "stderr",
     "output_type": "stream",
     "text": [
      "\u001b[92mINFO \u001b[0m:      aggregate_fit: received 6 results and 0 failures\n"
     ]
    },
    {
     "name": "stdout",
     "output_type": "stream",
     "text": [
      "\u001b[36m(ClientAppActor pid=47701)\u001b[0m Epoch 8: train loss 0.020213646814227104, accuracy 0.7796830652790918\n"
     ]
    },
    {
     "name": "stderr",
     "output_type": "stream",
     "text": [
      "\u001b[92mINFO \u001b[0m:      fit progress: (1, 0.07245280668735504, {'accuracy': 0.1}, 1268.0285476659192)\n",
      "\u001b[92mINFO \u001b[0m:      configure_evaluate: strategy sampled 6 clients (out of 6)\n"
     ]
    },
    {
     "name": "stdout",
     "output_type": "stream",
     "text": [
      "\u001b[36m(ClientAppActor pid=47701)\u001b[0m [Client 1] evaluate, config: {}\n"
     ]
    },
    {
     "name": "stderr",
     "output_type": "stream",
     "text": [
      "\u001b[36m(ClientAppActor pid=47703)\u001b[0m /Users/macbook/Desktop/L361/L361_Project/.conda/lib/python3.12/site-packages/datasets/utils/_dill.py:385: DeprecationWarning: co_lnotab is deprecated, use co_lines instead.\u001b[32m [repeated 6x across cluster]\u001b[0m\n",
      "\u001b[36m(ClientAppActor pid=47703)\u001b[0m   obj.co_lnotab,  # for < python 3.10 [not counted in args]\u001b[32m [repeated 6x across cluster]\u001b[0m\n",
      "\u001b[92mINFO \u001b[0m:      aggregate_evaluate: received 6 results and 0 failures\n",
      "\u001b[92mINFO \u001b[0m:      \n",
      "\u001b[92mINFO \u001b[0m:      [ROUND 2]\n",
      "\u001b[92mINFO \u001b[0m:      configure_fit: strategy sampled 6 clients (out of 6)\n"
     ]
    },
    {
     "name": "stdout",
     "output_type": "stream",
     "text": [
      "\u001b[36m(ClientAppActor pid=47701)\u001b[0m [Client 3] fit, config: {}\n",
      "\u001b[36m(ClientAppActor pid=47702)\u001b[0m [Client 3] evaluate, config: {}\u001b[32m [repeated 5x across cluster]\u001b[0m\n"
     ]
    },
    {
     "name": "stderr",
     "output_type": "stream",
     "text": [
      "\u001b[36m(ClientAppActor pid=47702)\u001b[0m /Users/macbook/Desktop/L361/L361_Project/.conda/lib/python3.12/site-packages/datasets/utils/_dill.py:385: DeprecationWarning: co_lnotab is deprecated, use co_lines instead.\u001b[32m [repeated 6x across cluster]\u001b[0m\n",
      "\u001b[36m(ClientAppActor pid=47702)\u001b[0m   obj.co_lnotab,  # for < python 3.10 [not counted in args]\u001b[32m [repeated 6x across cluster]\u001b[0m\n"
     ]
    },
    {
     "name": "stdout",
     "output_type": "stream",
     "text": [
      "\u001b[36m(ClientAppActor pid=47701)\u001b[0m Epoch 1: train loss 0.059146538376808167, accuracy 0.2817557082686766\n",
      "\u001b[36m(ClientAppActor pid=47703)\u001b[0m [Client 1] fit, config: {}\u001b[32m [repeated 5x across cluster]\u001b[0m\n",
      "\u001b[36m(ClientAppActor pid=47704)\u001b[0m Epoch 1: train loss 0.03470821678638458, accuracy 0.5892857142857143\n",
      "\u001b[36m(ClientAppActor pid=47703)\u001b[0m Epoch 1: train loss 0.044731445610523224, accuracy 0.4261163337250294\n",
      "\u001b[36m(ClientAppActor pid=47700)\u001b[0m Epoch 1: train loss 0.04131138324737549, accuracy 0.4115564367653307\n",
      "\u001b[36m(ClientAppActor pid=47699)\u001b[0m Epoch 1: train loss 0.0515860989689827, accuracy 0.2582629674306393\n",
      "\u001b[36m(ClientAppActor pid=47701)\u001b[0m Epoch 2: train loss 0.05414684861898422, accuracy 0.34648636665927735\u001b[32m [repeated 2x across cluster]\u001b[0m\n",
      "\u001b[36m(ClientAppActor pid=47704)\u001b[0m Epoch 2: train loss 0.02403496764600277, accuracy 0.5927750410509032\n",
      "\u001b[36m(ClientAppActor pid=47701)\u001b[0m Epoch 3: train loss 0.05366729572415352, accuracy 0.34648636665927735\n",
      "\u001b[36m(ClientAppActor pid=47700)\u001b[0m Epoch 2: train loss 0.03375914692878723, accuracy 0.43619883869140347\u001b[32m [repeated 2x across cluster]\u001b[0m\n",
      "\u001b[36m(ClientAppActor pid=47704)\u001b[0m Epoch 3: train loss 0.023768814280629158, accuracy 0.6921182266009852\n",
      "\u001b[36m(ClientAppActor pid=47699)\u001b[0m Epoch 2: train loss 0.048228438943624496, accuracy 0.2782870928829916\n",
      "\u001b[36m(ClientAppActor pid=47702)\u001b[0m Epoch 2: train loss 0.036420196294784546, accuracy 0.44181646168401134\n",
      "\u001b[36m(ClientAppActor pid=47701)\u001b[0m Epoch 4: train loss 0.05328282713890076, accuracy 0.34648636665927735\n",
      "\u001b[36m(ClientAppActor pid=47704)\u001b[0m Epoch 4: train loss 0.023100027814507484, accuracy 0.6921182266009852\n",
      "\u001b[36m(ClientAppActor pid=47703)\u001b[0m Epoch 3: train loss 0.030056077986955643, accuracy 0.5850470035252644\n",
      "\u001b[36m(ClientAppActor pid=47700)\u001b[0m Epoch 3: train loss 0.03350533917546272, accuracy 0.46948024359155927\n",
      "\u001b[36m(ClientAppActor pid=47701)\u001b[0m Epoch 5: train loss 0.053040262311697006, accuracy 0.34648636665927735\n",
      "\u001b[36m(ClientAppActor pid=47704)\u001b[0m Epoch 5: train loss 0.021462859585881233, accuracy 0.6921182266009852\n",
      "\u001b[36m(ClientAppActor pid=47699)\u001b[0m Epoch 3: train loss 0.04775356501340866, accuracy 0.2623642943305187\n",
      "\u001b[36m(ClientAppActor pid=47702)\u001b[0m Epoch 3: train loss 0.035650432109832764, accuracy 0.4718543046357616\n",
      "\u001b[36m(ClientAppActor pid=47701)\u001b[0m Epoch 6: train loss 0.05318571999669075, accuracy 0.34648636665927735\n",
      "\u001b[36m(ClientAppActor pid=47700)\u001b[0m Epoch 4: train loss 0.03329451382160187, accuracy 0.46948024359155927\u001b[32m [repeated 2x across cluster]\u001b[0m\n",
      "\u001b[36m(ClientAppActor pid=47704)\u001b[0m Epoch 6: train loss 0.021215317770838737, accuracy 0.6921182266009852\n",
      "\u001b[36m(ClientAppActor pid=47701)\u001b[0m Epoch 7: train loss 0.05299472436308861, accuracy 0.34648636665927735\n",
      "\u001b[36m(ClientAppActor pid=47699)\u001b[0m Epoch 4: train loss 0.04771886393427849, accuracy 0.2752714113389626\n",
      "\u001b[36m(ClientAppActor pid=47703)\u001b[0m Epoch 5: train loss 0.02814302407205105, accuracy 0.5850470035252644\n",
      "\u001b[36m(ClientAppActor pid=47704)\u001b[0m Epoch 7: train loss 0.021041389554739, accuracy 0.6921182266009852\u001b[32m [repeated 2x across cluster]\u001b[0m\n",
      "\u001b[36m(ClientAppActor pid=47700)\u001b[0m Epoch 5: train loss 0.032979566603899, accuracy 0.46948024359155927\n",
      "\u001b[36m(ClientAppActor pid=47701)\u001b[0m Epoch 8: train loss 0.05299750715494156, accuracy 0.34648636665927735\n",
      "\u001b[36m(ClientAppActor pid=47704)\u001b[0m Epoch 8: train loss 0.02097717672586441, accuracy 0.6921182266009852\n",
      "\u001b[36m(ClientAppActor pid=47703)\u001b[0m Epoch 6: train loss 0.028390634804964066, accuracy 0.5850470035252644\n",
      "\u001b[36m(ClientAppActor pid=47699)\u001b[0m Epoch 5: train loss 0.047637101262807846, accuracy 0.2882991556091677\n",
      "\u001b[36m(ClientAppActor pid=47700)\u001b[0m Epoch 6: train loss 0.03275727108120918, accuracy 0.46948024359155927\n",
      "\u001b[36m(ClientAppActor pid=47703)\u001b[0m Epoch 7: train loss 0.02783672884106636, accuracy 0.5850470035252644\u001b[32m [repeated 2x across cluster]\u001b[0m\n",
      "\u001b[36m(ClientAppActor pid=47700)\u001b[0m Epoch 7: train loss 0.03265296667814255, accuracy 0.46948024359155927\n",
      "\u001b[36m(ClientAppActor pid=47699)\u001b[0m Epoch 6: train loss 0.04750418663024902, accuracy 0.2804583835946924\n",
      "\u001b[36m(ClientAppActor pid=47702)\u001b[0m Epoch 6: train loss 0.03527965396642685, accuracy 0.4718543046357616\n",
      "\u001b[36m(ClientAppActor pid=47703)\u001b[0m Epoch 8: train loss 0.02784244902431965, accuracy 0.5850470035252644\n",
      "\u001b[36m(ClientAppActor pid=47700)\u001b[0m Epoch 8: train loss 0.03271692246198654, accuracy 0.46948024359155927\n",
      "\u001b[36m(ClientAppActor pid=47699)\u001b[0m Epoch 7: train loss 0.04755405709147453, accuracy 0.28142340168878166\n",
      "\u001b[36m(ClientAppActor pid=47702)\u001b[0m Epoch 7: train loss 0.03521164506673813, accuracy 0.4718543046357616\n",
      "\u001b[36m(ClientAppActor pid=47699)\u001b[0m Epoch 8: train loss 0.04748322814702988, accuracy 0.2882991556091677\n"
     ]
    },
    {
     "name": "stderr",
     "output_type": "stream",
     "text": [
      "\u001b[92mINFO \u001b[0m:      aggregate_fit: received 6 results and 0 failures\n"
     ]
    },
    {
     "name": "stdout",
     "output_type": "stream",
     "text": [
      "\u001b[36m(ClientAppActor pid=47702)\u001b[0m Epoch 8: train loss 0.035154663026332855, accuracy 0.4718543046357616\n"
     ]
    },
    {
     "name": "stderr",
     "output_type": "stream",
     "text": [
      "\u001b[92mINFO \u001b[0m:      fit progress: (2, 0.0777942162513733, {'accuracy': 0.1}, 2565.966096707969)\n",
      "\u001b[92mINFO \u001b[0m:      configure_evaluate: strategy sampled 6 clients (out of 6)\n"
     ]
    },
    {
     "name": "stdout",
     "output_type": "stream",
     "text": [
      "\u001b[36m(ClientAppActor pid=47701)\u001b[0m [Client 5] evaluate, config: {}\n"
     ]
    },
    {
     "name": "stderr",
     "output_type": "stream",
     "text": [
      "\u001b[36m(ClientAppActor pid=47702)\u001b[0m /Users/macbook/Desktop/L361/L361_Project/.conda/lib/python3.12/site-packages/datasets/utils/_dill.py:385: DeprecationWarning: co_lnotab is deprecated, use co_lines instead.\u001b[32m [repeated 6x across cluster]\u001b[0m\n",
      "\u001b[36m(ClientAppActor pid=47702)\u001b[0m   obj.co_lnotab,  # for < python 3.10 [not counted in args]\u001b[32m [repeated 6x across cluster]\u001b[0m\n",
      "\u001b[92mINFO \u001b[0m:      aggregate_evaluate: received 6 results and 0 failures\n",
      "\u001b[92mINFO \u001b[0m:      \n",
      "\u001b[92mINFO \u001b[0m:      [ROUND 3]\n",
      "\u001b[92mINFO \u001b[0m:      configure_fit: strategy sampled 6 clients (out of 6)\n",
      "\u001b[36m(ClientAppActor pid=47701)\u001b[0m /Users/macbook/Desktop/L361/L361_Project/.conda/lib/python3.12/site-packages/datasets/utils/_dill.py:385: DeprecationWarning: co_lnotab is deprecated, use co_lines instead.\u001b[32m [repeated 6x across cluster]\u001b[0m\n",
      "\u001b[36m(ClientAppActor pid=47701)\u001b[0m   obj.co_lnotab,  # for < python 3.10 [not counted in args]\u001b[32m [repeated 6x across cluster]\u001b[0m\n"
     ]
    },
    {
     "name": "stdout",
     "output_type": "stream",
     "text": [
      "\u001b[36m(ClientAppActor pid=47701)\u001b[0m [Client 2] fit, config: {}\n",
      "\u001b[36m(ClientAppActor pid=47704)\u001b[0m [Client 1] evaluate, config: {}\u001b[32m [repeated 5x across cluster]\u001b[0m\n",
      "\u001b[36m(ClientAppActor pid=47703)\u001b[0m Epoch 1: train loss 0.05881398916244507, accuracy 0.25803591221458655\n",
      "\u001b[36m(ClientAppActor pid=47700)\u001b[0m [Client 5] fit, config: {}\u001b[32m [repeated 5x across cluster]\u001b[0m\n",
      "\u001b[36m(ClientAppActor pid=47700)\u001b[0m Epoch 1: train loss 0.03098105825483799, accuracy 0.5845648604269293\n",
      "\u001b[36m(ClientAppActor pid=47704)\u001b[0m Epoch 1: train loss 0.05801498144865036, accuracy 0.29156874265569915\n",
      "\u001b[36m(ClientAppActor pid=47701)\u001b[0m Epoch 1: train loss 0.04025654122233391, accuracy 0.4139640277581079\n",
      "\u001b[36m(ClientAppActor pid=47699)\u001b[0m Epoch 1: train loss 0.05127853900194168, accuracy 0.26537997587454765\n",
      "\u001b[36m(ClientAppActor pid=47703)\u001b[0m Epoch 2: train loss 0.05454908683896065, accuracy 0.34648636665927735\u001b[32m [repeated 2x across cluster]\u001b[0m\n",
      "\u001b[36m(ClientAppActor pid=47700)\u001b[0m Epoch 2: train loss 0.023306163027882576, accuracy 0.6921182266009852\n",
      "\u001b[36m(ClientAppActor pid=47703)\u001b[0m Epoch 3: train loss 0.0540630966424942, accuracy 0.34648636665927735\n",
      "\u001b[36m(ClientAppActor pid=47704)\u001b[0m Epoch 2: train loss 0.031906310468912125, accuracy 0.550822561692127\n",
      "\u001b[36m(ClientAppActor pid=47701)\u001b[0m Epoch 2: train loss 0.033846013247966766, accuracy 0.4179294717462116\n",
      "\u001b[36m(ClientAppActor pid=47700)\u001b[0m Epoch 3: train loss 0.02385011315345764, accuracy 0.6921182266009852\n",
      "\u001b[36m(ClientAppActor pid=47699)\u001b[0m Epoch 2: train loss 0.04863177612423897, accuracy 0.26960193003618815\n",
      "\u001b[36m(ClientAppActor pid=47703)\u001b[0m Epoch 4: train loss 0.053447846323251724, accuracy 0.34648636665927735\u001b[32m [repeated 2x across cluster]\u001b[0m\n",
      "\u001b[36m(ClientAppActor pid=47700)\u001b[0m Epoch 4: train loss 0.023342670872807503, accuracy 0.6921182266009852\n",
      "\u001b[36m(ClientAppActor pid=47704)\u001b[0m Epoch 3: train loss 0.033148106187582016, accuracy 0.513219741480611\n",
      "\u001b[36m(ClientAppActor pid=47701)\u001b[0m Epoch 3: train loss 0.03368096798658371, accuracy 0.4116980597649058\n",
      "\u001b[36m(ClientAppActor pid=47703)\u001b[0m Epoch 5: train loss 0.05330553650856018, accuracy 0.34648636665927735\n",
      "\u001b[36m(ClientAppActor pid=47700)\u001b[0m Epoch 5: train loss 0.02278939262032509, accuracy 0.6921182266009852\n",
      "\u001b[36m(ClientAppActor pid=47699)\u001b[0m Epoch 3: train loss 0.04826374724507332, accuracy 0.2882991556091677\n",
      "\u001b[36m(ClientAppActor pid=47702)\u001b[0m Epoch 3: train loss 0.03665660321712494, accuracy 0.4718543046357616\n",
      "\u001b[36m(ClientAppActor pid=47703)\u001b[0m Epoch 6: train loss 0.05341691896319389, accuracy 0.34648636665927735\n",
      "\u001b[36m(ClientAppActor pid=47704)\u001b[0m Epoch 4: train loss 0.02983403392136097, accuracy 0.5264394829612221\n",
      "\u001b[36m(ClientAppActor pid=47701)\u001b[0m Epoch 4: train loss 0.033426761627197266, accuracy 0.46948024359155927\n",
      "\u001b[36m(ClientAppActor pid=47700)\u001b[0m Epoch 6: train loss 0.02233295701444149, accuracy 0.6921182266009852\n",
      "\u001b[36m(ClientAppActor pid=47703)\u001b[0m Epoch 7: train loss 0.053036753088235855, accuracy 0.34648636665927735\n",
      "\u001b[36m(ClientAppActor pid=47699)\u001b[0m Epoch 4: train loss 0.0477006658911705, accuracy 0.28238841978287094\n",
      "\u001b[36m(ClientAppActor pid=47704)\u001b[0m Epoch 5: train loss 0.029737256467342377, accuracy 0.5850470035252644\n",
      "\u001b[36m(ClientAppActor pid=47702)\u001b[0m Epoch 4: train loss 0.03586609289050102, accuracy 0.4718543046357616\n",
      "\u001b[36m(ClientAppActor pid=47700)\u001b[0m Epoch 7: train loss 0.021951688453555107, accuracy 0.6921182266009852\n",
      "\u001b[36m(ClientAppActor pid=47703)\u001b[0m Epoch 8: train loss 0.05315076559782028, accuracy 0.34648636665927735\n",
      "\u001b[36m(ClientAppActor pid=47701)\u001b[0m Epoch 5: train loss 0.0333390049636364, accuracy 0.42416088372751737\n",
      "\u001b[36m(ClientAppActor pid=47700)\u001b[0m Epoch 8: train loss 0.0212599765509367, accuracy 0.6921182266009852\n",
      "\u001b[36m(ClientAppActor pid=47704)\u001b[0m Epoch 6: train loss 0.029564514756202698, accuracy 0.5850470035252644\n",
      "\u001b[36m(ClientAppActor pid=47699)\u001b[0m Epoch 5: train loss 0.047866322100162506, accuracy 0.2802171290711701\n",
      "\u001b[36m(ClientAppActor pid=47702)\u001b[0m Epoch 5: train loss 0.03621434420347214, accuracy 0.4718543046357616\n",
      "\u001b[36m(ClientAppActor pid=47701)\u001b[0m Epoch 6: train loss 0.03320101648569107, accuracy 0.46948024359155927\n",
      "\u001b[36m(ClientAppActor pid=47704)\u001b[0m Epoch 7: train loss 0.028145914897322655, accuracy 0.5850470035252644\n",
      "\u001b[36m(ClientAppActor pid=47701)\u001b[0m Epoch 7: train loss 0.03302755951881409, accuracy 0.46948024359155927\n",
      "\u001b[36m(ClientAppActor pid=47699)\u001b[0m Epoch 6: train loss 0.04771459847688675, accuracy 0.2817852834740651\n",
      "\u001b[36m(ClientAppActor pid=47702)\u001b[0m Epoch 6: train loss 0.03550169989466667, accuracy 0.4718543046357616\n",
      "\u001b[36m(ClientAppActor pid=47704)\u001b[0m Epoch 8: train loss 0.028140369802713394, accuracy 0.5850470035252644\n",
      "\u001b[36m(ClientAppActor pid=47701)\u001b[0m Epoch 8: train loss 0.032926905900239944, accuracy 0.46948024359155927\n",
      "\u001b[36m(ClientAppActor pid=47699)\u001b[0m Epoch 7: train loss 0.047694798558950424, accuracy 0.2882991556091677\n",
      "\u001b[36m(ClientAppActor pid=47702)\u001b[0m Epoch 7: train loss 0.03523315489292145, accuracy 0.4718543046357616\n",
      "\u001b[36m(ClientAppActor pid=47699)\u001b[0m Epoch 8: train loss 0.04759341478347778, accuracy 0.2879372738238842\n"
     ]
    },
    {
     "name": "stderr",
     "output_type": "stream",
     "text": [
      "\u001b[92mINFO \u001b[0m:      aggregate_fit: received 6 results and 0 failures\n"
     ]
    },
    {
     "name": "stdout",
     "output_type": "stream",
     "text": [
      "\u001b[36m(ClientAppActor pid=47702)\u001b[0m Epoch 8: train loss 0.03528938442468643, accuracy 0.4718543046357616\n"
     ]
    },
    {
     "name": "stderr",
     "output_type": "stream",
     "text": [
      "\u001b[92mINFO \u001b[0m:      fit progress: (3, 0.07254548392295837, {'accuracy': 0.1}, 3871.531344249961)\n",
      "\u001b[92mINFO \u001b[0m:      configure_evaluate: strategy sampled 6 clients (out of 6)\n"
     ]
    },
    {
     "name": "stdout",
     "output_type": "stream",
     "text": [
      "\u001b[36m(ClientAppActor pid=47701)\u001b[0m [Client 3] evaluate, config: {}\n"
     ]
    },
    {
     "name": "stderr",
     "output_type": "stream",
     "text": [
      "\u001b[36m(ClientAppActor pid=47701)\u001b[0m /Users/macbook/Desktop/L361/L361_Project/.conda/lib/python3.12/site-packages/datasets/utils/_dill.py:385: DeprecationWarning: co_lnotab is deprecated, use co_lines instead.\u001b[32m [repeated 7x across cluster]\u001b[0m\n",
      "\u001b[36m(ClientAppActor pid=47701)\u001b[0m   obj.co_lnotab,  # for < python 3.10 [not counted in args]\u001b[32m [repeated 7x across cluster]\u001b[0m\n",
      "\u001b[92mINFO \u001b[0m:      aggregate_evaluate: received 6 results and 0 failures\n",
      "\u001b[92mINFO \u001b[0m:      \n",
      "\u001b[92mINFO \u001b[0m:      [ROUND 4]\n",
      "\u001b[92mINFO \u001b[0m:      configure_fit: strategy sampled 6 clients (out of 6)\n",
      "\u001b[36m(ClientAppActor pid=47699)\u001b[0m /Users/macbook/Desktop/L361/L361_Project/.conda/lib/python3.12/site-packages/datasets/utils/_dill.py:385: DeprecationWarning: co_lnotab is deprecated, use co_lines instead.\u001b[32m [repeated 6x across cluster]\u001b[0m\n",
      "\u001b[36m(ClientAppActor pid=47699)\u001b[0m   obj.co_lnotab,  # for < python 3.10 [not counted in args]\u001b[32m [repeated 6x across cluster]\u001b[0m\n"
     ]
    },
    {
     "name": "stdout",
     "output_type": "stream",
     "text": [
      "\u001b[36m(ClientAppActor pid=47699)\u001b[0m [Client 1] fit, config: {}\n",
      "\u001b[36m(ClientAppActor pid=47699)\u001b[0m [Client 2] evaluate, config: {}\u001b[32m [repeated 5x across cluster]\u001b[0m\n",
      "\u001b[36m(ClientAppActor pid=47703)\u001b[0m Epoch 1: train loss 0.06743551790714264, accuracy 0.1312347594768344\n",
      "\u001b[36m(ClientAppActor pid=47702)\u001b[0m [Client 0] fit, config: {}\u001b[32m [repeated 5x across cluster]\u001b[0m\n",
      "\u001b[36m(ClientAppActor pid=47704)\u001b[0m Epoch 1: train loss 0.06977595388889313, accuracy 0.18431855500821018\n",
      "\u001b[36m(ClientAppActor pid=47699)\u001b[0m Epoch 1: train loss 0.055048901587724686, accuracy 0.30699177438307873\n",
      "\u001b[36m(ClientAppActor pid=47700)\u001b[0m Epoch 1: train loss 0.05925509333610535, accuracy 0.19855544540433367\n",
      "\u001b[36m(ClientAppActor pid=47702)\u001b[0m Epoch 1: train loss 0.05736518278717995, accuracy 0.2482509047044632\n",
      "\u001b[36m(ClientAppActor pid=47703)\u001b[0m Epoch 2: train loss 0.05812721699476242, accuracy 0.302371979605409\u001b[32m [repeated 2x across cluster]\u001b[0m\n",
      "\u001b[36m(ClientAppActor pid=47704)\u001b[0m Epoch 2: train loss 0.047893837094306946, accuracy 0.30049261083743845\n",
      "\u001b[36m(ClientAppActor pid=47703)\u001b[0m Epoch 3: train loss 0.05463036522269249, accuracy 0.34648636665927735\n",
      "\u001b[36m(ClientAppActor pid=47700)\u001b[0m Epoch 2: train loss 0.036577511578798294, accuracy 0.4165132417504603\u001b[32m [repeated 2x across cluster]\u001b[0m\n",
      "\u001b[36m(ClientAppActor pid=47704)\u001b[0m Epoch 3: train loss 0.028215087950229645, accuracy 0.47023809523809523\n",
      "\u001b[36m(ClientAppActor pid=47702)\u001b[0m Epoch 2: train loss 0.0492958165705204, accuracy 0.28468033775633295\n",
      "\u001b[36m(ClientAppActor pid=47701)\u001b[0m Epoch 2: train loss 0.03806354105472565, accuracy 0.4718543046357616\n",
      "\u001b[36m(ClientAppActor pid=47703)\u001b[0m Epoch 4: train loss 0.05510484054684639, accuracy 0.34648636665927735\n",
      "\u001b[36m(ClientAppActor pid=47704)\u001b[0m Epoch 4: train loss 0.022000491619110107, accuracy 0.6921182266009852\n",
      "\u001b[36m(ClientAppActor pid=47699)\u001b[0m Epoch 3: train loss 0.031756602227687836, accuracy 0.5850470035252644\n",
      "\u001b[36m(ClientAppActor pid=47700)\u001b[0m Epoch 3: train loss 0.03456929326057434, accuracy 0.46948024359155927\n",
      "\u001b[36m(ClientAppActor pid=47703)\u001b[0m Epoch 5: train loss 0.0537865087389946, accuracy 0.34648636665927735\n",
      "\u001b[36m(ClientAppActor pid=47702)\u001b[0m Epoch 3: train loss 0.04810161516070366, accuracy 0.2729794933655006\n",
      "\u001b[36m(ClientAppActor pid=47704)\u001b[0m Epoch 5: train loss 0.025212299078702927, accuracy 0.6921182266009852\n",
      "\u001b[36m(ClientAppActor pid=47703)\u001b[0m Epoch 6: train loss 0.05370522662997246, accuracy 0.34648636665927735\u001b[32m [repeated 2x across cluster]\u001b[0m\n",
      "\u001b[36m(ClientAppActor pid=47700)\u001b[0m Epoch 4: train loss 0.03339186683297157, accuracy 0.46948024359155927\u001b[32m [repeated 2x across cluster]\u001b[0m\n",
      "\u001b[36m(ClientAppActor pid=47704)\u001b[0m Epoch 6: train loss 0.024641012772917747, accuracy 0.6921182266009852\n",
      "\u001b[36m(ClientAppActor pid=47703)\u001b[0m Epoch 7: train loss 0.054017312824726105, accuracy 0.34648636665927735\n",
      "\u001b[36m(ClientAppActor pid=47702)\u001b[0m Epoch 4: train loss 0.04855179041624069, accuracy 0.25271411338962607\n",
      "\u001b[36m(ClientAppActor pid=47701)\u001b[0m Epoch 4: train loss 0.03748653829097748, accuracy 0.4718543046357616\n",
      "\u001b[36m(ClientAppActor pid=47699)\u001b[0m Epoch 5: train loss 0.030051328241825104, accuracy 0.4334606345475911\n",
      "\u001b[36m(ClientAppActor pid=47704)\u001b[0m Epoch 7: train loss 0.022239338606595993, accuracy 0.6921182266009852\n",
      "\u001b[36m(ClientAppActor pid=47700)\u001b[0m Epoch 5: train loss 0.03364247828722, accuracy 0.46948024359155927\n",
      "\u001b[36m(ClientAppActor pid=47703)\u001b[0m Epoch 8: train loss 0.05383193492889404, accuracy 0.34648636665927735\n",
      "\u001b[36m(ClientAppActor pid=47704)\u001b[0m Epoch 8: train loss 0.02391086332499981, accuracy 0.5617816091954023\n",
      "\u001b[36m(ClientAppActor pid=47702)\u001b[0m Epoch 5: train loss 0.047959621995687485, accuracy 0.2806996381182147\n",
      "\u001b[36m(ClientAppActor pid=47701)\u001b[0m Epoch 5: train loss 0.03703734651207924, accuracy 0.4718543046357616\n",
      "\u001b[36m(ClientAppActor pid=47699)\u001b[0m Epoch 6: train loss 0.028223156929016113, accuracy 0.5850470035252644\n",
      "\u001b[36m(ClientAppActor pid=47700)\u001b[0m Epoch 6: train loss 0.03336580842733383, accuracy 0.46948024359155927\n",
      "\u001b[36m(ClientAppActor pid=47699)\u001b[0m Epoch 7: train loss 0.02940889447927475, accuracy 0.5850470035252644\n",
      "\u001b[36m(ClientAppActor pid=47702)\u001b[0m Epoch 6: train loss 0.048014674335718155, accuracy 0.2882991556091677\n",
      "\u001b[36m(ClientAppActor pid=47701)\u001b[0m Epoch 6: train loss 0.03609507158398628, accuracy 0.4718543046357616\n",
      "\u001b[36m(ClientAppActor pid=47700)\u001b[0m Epoch 7: train loss 0.03325049951672554, accuracy 0.46948024359155927\n",
      "\u001b[36m(ClientAppActor pid=47699)\u001b[0m Epoch 8: train loss 0.029214216396212578, accuracy 0.5850470035252644\n",
      "\u001b[36m(ClientAppActor pid=47702)\u001b[0m Epoch 7: train loss 0.0476844385266304, accuracy 0.26960193003618815\n",
      "\u001b[36m(ClientAppActor pid=47700)\u001b[0m Epoch 8: train loss 0.03349032253026962, accuracy 0.46948024359155927\n",
      "\u001b[36m(ClientAppActor pid=47701)\u001b[0m Epoch 7: train loss 0.03546663001179695, accuracy 0.4718543046357616\n",
      "\u001b[36m(ClientAppActor pid=47702)\u001b[0m Epoch 8: train loss 0.04766429215669632, accuracy 0.2612786489746683\n"
     ]
    },
    {
     "name": "stderr",
     "output_type": "stream",
     "text": [
      "\u001b[92mINFO \u001b[0m:      aggregate_fit: received 6 results and 0 failures\n"
     ]
    },
    {
     "name": "stdout",
     "output_type": "stream",
     "text": [
      "\u001b[36m(ClientAppActor pid=47701)\u001b[0m Epoch 8: train loss 0.03570528328418732, accuracy 0.4718543046357616\n"
     ]
    },
    {
     "name": "stderr",
     "output_type": "stream",
     "text": [
      "\u001b[92mINFO \u001b[0m:      fit progress: (4, 0.08825023458003997, {'accuracy': 0.1}, 5095.803254915983)\n",
      "\u001b[92mINFO \u001b[0m:      configure_evaluate: strategy sampled 6 clients (out of 6)\n",
      "\u001b[36m(ClientAppActor pid=47701)\u001b[0m /Users/macbook/Desktop/L361/L361_Project/.conda/lib/python3.12/site-packages/datasets/utils/_dill.py:385: DeprecationWarning: co_lnotab is deprecated, use co_lines instead.\u001b[32m [repeated 6x across cluster]\u001b[0m\n",
      "\u001b[36m(ClientAppActor pid=47701)\u001b[0m   obj.co_lnotab,  # for < python 3.10 [not counted in args]\u001b[32m [repeated 6x across cluster]\u001b[0m\n"
     ]
    },
    {
     "name": "stdout",
     "output_type": "stream",
     "text": [
      "\u001b[36m(ClientAppActor pid=47699)\u001b[0m [Client 4] evaluate, config: {}\n"
     ]
    },
    {
     "name": "stderr",
     "output_type": "stream",
     "text": [
      "\u001b[36m(ClientAppActor pid=47703)\u001b[0m /Users/macbook/Desktop/L361/L361_Project/.conda/lib/python3.12/site-packages/datasets/utils/_dill.py:385: DeprecationWarning: co_lnotab is deprecated, use co_lines instead.\u001b[32m [repeated 5x across cluster]\u001b[0m\n",
      "\u001b[36m(ClientAppActor pid=47703)\u001b[0m   obj.co_lnotab,  # for < python 3.10 [not counted in args]\u001b[32m [repeated 5x across cluster]\u001b[0m\n"
     ]
    },
    {
     "name": "stdout",
     "output_type": "stream",
     "text": [
      "\u001b[36m(ClientAppActor pid=47703)\u001b[0m [Client 2] evaluate, config: {}\u001b[32m [repeated 5x across cluster]\u001b[0m\n"
     ]
    },
    {
     "name": "stderr",
     "output_type": "stream",
     "text": [
      "\u001b[92mINFO \u001b[0m:      aggregate_evaluate: received 6 results and 0 failures\n",
      "\u001b[92mINFO \u001b[0m:      \n",
      "\u001b[92mINFO \u001b[0m:      [ROUND 5]\n",
      "\u001b[92mINFO \u001b[0m:      configure_fit: strategy sampled 6 clients (out of 6)\n",
      "\u001b[36m(ClientAppActor pid=47699)\u001b[0m /Users/macbook/Desktop/L361/L361_Project/.conda/lib/python3.12/site-packages/datasets/utils/_dill.py:385: DeprecationWarning: co_lnotab is deprecated, use co_lines instead.\n",
      "\u001b[36m(ClientAppActor pid=47699)\u001b[0m   obj.co_lnotab,  # for < python 3.10 [not counted in args]\n"
     ]
    },
    {
     "name": "stdout",
     "output_type": "stream",
     "text": [
      "\u001b[36m(ClientAppActor pid=47699)\u001b[0m [Client 3] fit, config: {}\n"
     ]
    },
    {
     "name": "stderr",
     "output_type": "stream",
     "text": [
      "\u001b[36m(ClientAppActor pid=47701)\u001b[0m /Users/macbook/Desktop/L361/L361_Project/.conda/lib/python3.12/site-packages/datasets/utils/_dill.py:385: DeprecationWarning: co_lnotab is deprecated, use co_lines instead.\n",
      "\u001b[36m(ClientAppActor pid=47701)\u001b[0m   obj.co_lnotab,  # for < python 3.10 [not counted in args]\n"
     ]
    },
    {
     "name": "stdout",
     "output_type": "stream",
     "text": [
      "\u001b[36m(ClientAppActor pid=47699)\u001b[0m Epoch 1: train loss 0.07439642399549484, accuracy 0.0891154954555531\n",
      "\u001b[36m(ClientAppActor pid=47702)\u001b[0m [Client 2] fit, config: {}\u001b[32m [repeated 5x across cluster]\u001b[0m\n",
      "\u001b[36m(ClientAppActor pid=47703)\u001b[0m Epoch 1: train loss 0.07671184837818146, accuracy 0.16847826086956522\u001b[32m [repeated 2x across cluster]\u001b[0m\n",
      "\u001b[36m(ClientAppActor pid=47704)\u001b[0m Epoch 1: train loss 0.05616144835948944, accuracy 0.2634499396863691\u001b[32m [repeated 2x across cluster]\u001b[0m\n",
      "\u001b[36m(ClientAppActor pid=47699)\u001b[0m Epoch 2: train loss 0.0599849559366703, accuracy 0.1782309909111062\u001b[32m [repeated 2x across cluster]\u001b[0m\n",
      "\u001b[36m(ClientAppActor pid=47701)\u001b[0m Epoch 2: train loss 0.024676011875271797, accuracy 0.6921182266009852\n",
      "\u001b[36m(ClientAppActor pid=47699)\u001b[0m Epoch 3: train loss 0.05474219098687172, accuracy 0.32897362003990244\n",
      "\u001b[36m(ClientAppActor pid=47703)\u001b[0m Epoch 2: train loss 0.0465567447245121, accuracy 0.3528202115158637\n",
      "\u001b[36m(ClientAppActor pid=47702)\u001b[0m Epoch 2: train loss 0.03655298799276352, accuracy 0.4047585327857244\n",
      "\u001b[36m(ClientAppActor pid=47701)\u001b[0m Epoch 3: train loss 0.023755373433232307, accuracy 0.6921182266009852\n",
      "\u001b[36m(ClientAppActor pid=47704)\u001b[0m Epoch 2: train loss 0.049065276980400085, accuracy 0.29264173703256935\n",
      "\u001b[36m(ClientAppActor pid=47699)\u001b[0m Epoch 4: train loss 0.054213996976614, accuracy 0.34648636665927735\u001b[32m [repeated 2x across cluster]\u001b[0m\n",
      "\u001b[36m(ClientAppActor pid=47701)\u001b[0m Epoch 4: train loss 0.022981153801083565, accuracy 0.6921182266009852\n",
      "\u001b[36m(ClientAppActor pid=47703)\u001b[0m Epoch 3: train loss 0.032715365290641785, accuracy 0.4037896592244418\n",
      "\u001b[36m(ClientAppActor pid=47699)\u001b[0m Epoch 5: train loss 0.05481840297579765, accuracy 0.34648636665927735\u001b[32m [repeated 2x across cluster]\u001b[0m\n",
      "\u001b[36m(ClientAppActor pid=47701)\u001b[0m Epoch 5: train loss 0.021693933755159378, accuracy 0.6921182266009852\n",
      "\u001b[36m(ClientAppActor pid=47704)\u001b[0m Epoch 3: train loss 0.04829119145870209, accuracy 0.28540410132689986\n",
      "\u001b[36m(ClientAppActor pid=47699)\u001b[0m Epoch 6: train loss 0.05376853421330452, accuracy 0.34648636665927735\u001b[32m [repeated 2x across cluster]\u001b[0m\n",
      "\u001b[36m(ClientAppActor pid=47703)\u001b[0m Epoch 4: train loss 0.03026297688484192, accuracy 0.5850470035252644\n",
      "\u001b[36m(ClientAppActor pid=47702)\u001b[0m Epoch 4: train loss 0.033609066158533096, accuracy 0.46948024359155927\n",
      "\u001b[36m(ClientAppActor pid=47701)\u001b[0m Epoch 6: train loss 0.022982921451330185, accuracy 0.6921182266009852\n",
      "\u001b[36m(ClientAppActor pid=47699)\u001b[0m Epoch 7: train loss 0.05320429429411888, accuracy 0.34648636665927735\n",
      "\u001b[36m(ClientAppActor pid=47704)\u001b[0m Epoch 4: train loss 0.04803920164704323, accuracy 0.26586248492159226\n",
      "\u001b[36m(ClientAppActor pid=47701)\u001b[0m Epoch 7: train loss 0.021944627165794373, accuracy 0.6921182266009852\n",
      "\u001b[36m(ClientAppActor pid=47703)\u001b[0m Epoch 5: train loss 0.03380075842142105, accuracy 0.5850470035252644\u001b[32m [repeated 2x across cluster]\u001b[0m\n",
      "\u001b[36m(ClientAppActor pid=47702)\u001b[0m Epoch 5: train loss 0.033421553671360016, accuracy 0.36722843789831466\n",
      "\u001b[36m(ClientAppActor pid=47699)\u001b[0m Epoch 8: train loss 0.053326766937971115, accuracy 0.34648636665927735\n",
      "\u001b[36m(ClientAppActor pid=47701)\u001b[0m Epoch 8: train loss 0.021842990070581436, accuracy 0.6921182266009852\n",
      "\u001b[36m(ClientAppActor pid=47703)\u001b[0m Epoch 6: train loss 0.03165037930011749, accuracy 0.5850470035252644\n",
      "\u001b[36m(ClientAppActor pid=47704)\u001b[0m Epoch 5: train loss 0.0483388677239418, accuracy 0.2802171290711701\n",
      "\u001b[36m(ClientAppActor pid=47702)\u001b[0m Epoch 6: train loss 0.034167513251304626, accuracy 0.37615068687154796\n",
      "\u001b[36m(ClientAppActor pid=47703)\u001b[0m Epoch 7: train loss 0.028898656368255615, accuracy 0.5850470035252644\u001b[32m [repeated 2x across cluster]\u001b[0m\n",
      "\u001b[36m(ClientAppActor pid=47702)\u001b[0m Epoch 7: train loss 0.033148348331451416, accuracy 0.46948024359155927\n",
      "\u001b[36m(ClientAppActor pid=47704)\u001b[0m Epoch 6: train loss 0.04784463346004486, accuracy 0.2802171290711701\n",
      "\u001b[36m(ClientAppActor pid=47700)\u001b[0m Epoch 6: train loss 0.036063287407159805, accuracy 0.4219489120151372\n",
      "\u001b[36m(ClientAppActor pid=47703)\u001b[0m Epoch 8: train loss 0.028565242886543274, accuracy 0.5850470035252644\n",
      "\u001b[36m(ClientAppActor pid=47702)\u001b[0m Epoch 8: train loss 0.03278999775648117, accuracy 0.46948024359155927\n",
      "\u001b[36m(ClientAppActor pid=47704)\u001b[0m Epoch 7: train loss 0.04762011766433716, accuracy 0.28443908323281064\n",
      "\u001b[36m(ClientAppActor pid=47700)\u001b[0m Epoch 7: train loss 0.03623458743095398, accuracy 0.4328287606433302\n",
      "\u001b[36m(ClientAppActor pid=47704)\u001b[0m Epoch 8: train loss 0.0477309450507164, accuracy 0.2882991556091677\n"
     ]
    },
    {
     "name": "stderr",
     "output_type": "stream",
     "text": [
      "\u001b[92mINFO \u001b[0m:      aggregate_fit: received 6 results and 0 failures\n"
     ]
    },
    {
     "name": "stdout",
     "output_type": "stream",
     "text": [
      "\u001b[36m(ClientAppActor pid=47700)\u001b[0m Epoch 8: train loss 0.03584890067577362, accuracy 0.4718543046357616\n"
     ]
    },
    {
     "name": "stderr",
     "output_type": "stream",
     "text": [
      "\u001b[92mINFO \u001b[0m:      fit progress: (5, 0.07465242626667022, {'accuracy': 0.1}, 6318.392861915985)\n",
      "\u001b[92mINFO \u001b[0m:      configure_evaluate: strategy sampled 6 clients (out of 6)\n",
      "\u001b[36m(ClientAppActor pid=47702)\u001b[0m /Users/macbook/Desktop/L361/L361_Project/.conda/lib/python3.12/site-packages/datasets/utils/_dill.py:385: DeprecationWarning: co_lnotab is deprecated, use co_lines instead.\u001b[32m [repeated 6x across cluster]\u001b[0m\n",
      "\u001b[36m(ClientAppActor pid=47702)\u001b[0m   obj.co_lnotab,  # for < python 3.10 [not counted in args]\u001b[32m [repeated 6x across cluster]\u001b[0m\n"
     ]
    },
    {
     "name": "stdout",
     "output_type": "stream",
     "text": [
      "\u001b[36m(ClientAppActor pid=47703)\u001b[0m [Client 5] evaluate, config: {}\n"
     ]
    },
    {
     "name": "stderr",
     "output_type": "stream",
     "text": [
      "\u001b[92mINFO \u001b[0m:      aggregate_evaluate: received 6 results and 0 failures\n",
      "\u001b[92mINFO \u001b[0m:      \n",
      "\u001b[92mINFO \u001b[0m:      [ROUND 6]\n",
      "\u001b[92mINFO \u001b[0m:      configure_fit: strategy sampled 6 clients (out of 6)\n"
     ]
    },
    {
     "name": "stdout",
     "output_type": "stream",
     "text": [
      "\u001b[36m(ClientAppActor pid=47701)\u001b[0m [Client 5] fit, config: {}\n",
      "\u001b[36m(ClientAppActor pid=47704)\u001b[0m [Client 2] evaluate, config: {}\u001b[32m [repeated 5x across cluster]\u001b[0m\n"
     ]
    },
    {
     "name": "stderr",
     "output_type": "stream",
     "text": [
      "\u001b[36m(ClientAppActor pid=47701)\u001b[0m /Users/macbook/Desktop/L361/L361_Project/.conda/lib/python3.12/site-packages/datasets/utils/_dill.py:385: DeprecationWarning: co_lnotab is deprecated, use co_lines instead.\u001b[32m [repeated 6x across cluster]\u001b[0m\n",
      "\u001b[36m(ClientAppActor pid=47701)\u001b[0m   obj.co_lnotab,  # for < python 3.10 [not counted in args]\u001b[32m [repeated 6x across cluster]\u001b[0m\n"
     ]
    },
    {
     "name": "stdout",
     "output_type": "stream",
     "text": [
      "\u001b[36m(ClientAppActor pid=47699)\u001b[0m Epoch 1: train loss 0.07019544392824173, accuracy 0.12480602970516515\n",
      "\u001b[36m(ClientAppActor pid=47700)\u001b[0m [Client 0] fit, config: {}\u001b[32m [repeated 5x across cluster]\u001b[0m\n",
      "\u001b[36m(ClientAppActor pid=47704)\u001b[0m Epoch 1: train loss 0.07298319786787033, accuracy 0.24764982373678027\u001b[32m [repeated 2x across cluster]\u001b[0m\n",
      "\u001b[36m(ClientAppActor pid=47702)\u001b[0m Epoch 1: train loss 0.05154195800423622, accuracy 0.256196006231412\n",
      "\u001b[36m(ClientAppActor pid=47703)\u001b[0m Epoch 1: train loss 0.06492280215024948, accuracy 0.2764900662251656\n",
      "\u001b[36m(ClientAppActor pid=47699)\u001b[0m Epoch 2: train loss 0.06392738968133926, accuracy 0.1855464420305919\u001b[32m [repeated 2x across cluster]\u001b[0m\n",
      "\u001b[36m(ClientAppActor pid=47701)\u001b[0m Epoch 2: train loss 0.03697950020432472, accuracy 0.3013136288998358\n",
      "\u001b[36m(ClientAppActor pid=47699)\u001b[0m Epoch 3: train loss 0.05860240384936333, accuracy 0.1855464420305919\n",
      "\u001b[36m(ClientAppActor pid=47704)\u001b[0m Epoch 2: train loss 0.05527927726507187, accuracy 0.3528202115158637\n",
      "\u001b[36m(ClientAppActor pid=47701)\u001b[0m Epoch 3: train loss 0.023147067055106163, accuracy 0.6921182266009852\n",
      "\u001b[36m(ClientAppActor pid=47702)\u001b[0m Epoch 2: train loss 0.034875109791755676, accuracy 0.4364820846905538\n",
      "\u001b[36m(ClientAppActor pid=47700)\u001b[0m Epoch 2: train loss 0.04920516163110733, accuracy 0.28238841978287094\n",
      "\u001b[36m(ClientAppActor pid=47699)\u001b[0m Epoch 4: train loss 0.054708581417798996, accuracy 0.32143648858346263\u001b[32m [repeated 2x across cluster]\u001b[0m\n",
      "\u001b[36m(ClientAppActor pid=47701)\u001b[0m Epoch 4: train loss 0.025407824665308, accuracy 0.6921182266009852\n",
      "\u001b[36m(ClientAppActor pid=47704)\u001b[0m Epoch 3: train loss 0.04045148193836212, accuracy 0.3528202115158637\n",
      "\u001b[36m(ClientAppActor pid=47702)\u001b[0m Epoch 3: train loss 0.03419952467083931, accuracy 0.46948024359155927\n",
      "\u001b[36m(ClientAppActor pid=47699)\u001b[0m Epoch 5: train loss 0.05421014502644539, accuracy 0.34648636665927735\n",
      "\u001b[36m(ClientAppActor pid=47701)\u001b[0m Epoch 5: train loss 0.025941548869013786, accuracy 0.6921182266009852\n",
      "\u001b[36m(ClientAppActor pid=47700)\u001b[0m Epoch 3: train loss 0.0492490716278553, accuracy 0.2882991556091677\n",
      "\u001b[36m(ClientAppActor pid=47699)\u001b[0m Epoch 6: train loss 0.05535068362951279, accuracy 0.34648636665927735\u001b[32m [repeated 2x across cluster]\u001b[0m\n",
      "\u001b[36m(ClientAppActor pid=47704)\u001b[0m Epoch 4: train loss 0.031156238168478012, accuracy 0.447855464159812\n",
      "\u001b[36m(ClientAppActor pid=47701)\u001b[0m Epoch 6: train loss 0.022608712315559387, accuracy 0.6921182266009852\n",
      "\u001b[36m(ClientAppActor pid=47702)\u001b[0m Epoch 4: train loss 0.03290354833006859, accuracy 0.4383231836850304\n",
      "\u001b[36m(ClientAppActor pid=47699)\u001b[0m Epoch 7: train loss 0.0545818917453289, accuracy 0.34648636665927735\n",
      "\u001b[36m(ClientAppActor pid=47700)\u001b[0m Epoch 4: train loss 0.04788209870457649, accuracy 0.2858866103739445\n",
      "\u001b[36m(ClientAppActor pid=47703)\u001b[0m Epoch 4: train loss 0.03954995796084404, accuracy 0.4718543046357616\n",
      "\u001b[36m(ClientAppActor pid=47701)\u001b[0m Epoch 7: train loss 0.022355875000357628, accuracy 0.6921182266009852\n",
      "\u001b[36m(ClientAppActor pid=47704)\u001b[0m Epoch 5: train loss 0.03028920106589794, accuracy 0.5850470035252644\n",
      "\u001b[36m(ClientAppActor pid=47699)\u001b[0m Epoch 8: train loss 0.053391844034194946, accuracy 0.34648636665927735\n",
      "\u001b[36m(ClientAppActor pid=47702)\u001b[0m Epoch 5: train loss 0.03358219563961029, accuracy 0.44158051267525844\n",
      "\u001b[36m(ClientAppActor pid=47701)\u001b[0m Epoch 8: train loss 0.024267027154564857, accuracy 0.3667898193760263\n",
      "\u001b[36m(ClientAppActor pid=47700)\u001b[0m Epoch 5: train loss 0.04816465824842453, accuracy 0.2802171290711701\n",
      "\u001b[36m(ClientAppActor pid=47703)\u001b[0m Epoch 5: train loss 0.03784679248929024, accuracy 0.4718543046357616\n",
      "\u001b[36m(ClientAppActor pid=47704)\u001b[0m Epoch 6: train loss 0.03302986919879913, accuracy 0.5850470035252644\n",
      "\u001b[36m(ClientAppActor pid=47702)\u001b[0m Epoch 6: train loss 0.03302570804953575, accuracy 0.46948024359155927\n",
      "\u001b[36m(ClientAppActor pid=47704)\u001b[0m Epoch 7: train loss 0.03125441074371338, accuracy 0.5850470035252644\n",
      "\u001b[36m(ClientAppActor pid=47700)\u001b[0m Epoch 6: train loss 0.048185378313064575, accuracy 0.2802171290711701\n",
      "\u001b[36m(ClientAppActor pid=47703)\u001b[0m Epoch 6: train loss 0.03664807975292206, accuracy 0.40279091769157993\n",
      "\u001b[36m(ClientAppActor pid=47702)\u001b[0m Epoch 7: train loss 0.03339943662285805, accuracy 0.46948024359155927\n",
      "\u001b[36m(ClientAppActor pid=47704)\u001b[0m Epoch 8: train loss 0.028875622898340225, accuracy 0.5850470035252644\n",
      "\u001b[36m(ClientAppActor pid=47700)\u001b[0m Epoch 7: train loss 0.04766322672367096, accuracy 0.2735826296743064\n",
      "\u001b[36m(ClientAppActor pid=47702)\u001b[0m Epoch 8: train loss 0.033240627497434616, accuracy 0.46948024359155927\n",
      "\u001b[36m(ClientAppActor pid=47700)\u001b[0m Epoch 8: train loss 0.04758354648947716, accuracy 0.2882991556091677\u001b[32m [repeated 2x across cluster]\u001b[0m\n",
      "\u001b[36m(ClientAppActor pid=47703)\u001b[0m Epoch 8: train loss 0.035859908908605576, accuracy 0.4718543046357616\n"
     ]
    },
    {
     "name": "stderr",
     "output_type": "stream",
     "text": [
      "\u001b[92mINFO \u001b[0m:      aggregate_fit: received 6 results and 0 failures\n",
      "\u001b[92mINFO \u001b[0m:      fit progress: (6, 0.08102917747497558, {'accuracy': 0.1}, 7534.662348415935)\n",
      "\u001b[92mINFO \u001b[0m:      configure_evaluate: strategy sampled 6 clients (out of 6)\n",
      "\u001b[36m(ClientAppActor pid=47699)\u001b[0m /Users/macbook/Desktop/L361/L361_Project/.conda/lib/python3.12/site-packages/datasets/utils/_dill.py:385: DeprecationWarning: co_lnotab is deprecated, use co_lines instead.\u001b[32m [repeated 6x across cluster]\u001b[0m\n",
      "\u001b[36m(ClientAppActor pid=47699)\u001b[0m   obj.co_lnotab,  # for < python 3.10 [not counted in args]\u001b[32m [repeated 6x across cluster]\u001b[0m\n"
     ]
    },
    {
     "name": "stdout",
     "output_type": "stream",
     "text": [
      "\u001b[36m(ClientAppActor pid=47699)\u001b[0m [Client 5] evaluate, config: {}\n"
     ]
    },
    {
     "name": "stderr",
     "output_type": "stream",
     "text": [
      "\u001b[92mINFO \u001b[0m:      aggregate_evaluate: received 6 results and 0 failures\n",
      "\u001b[92mINFO \u001b[0m:      \n",
      "\u001b[92mINFO \u001b[0m:      [ROUND 7]\n",
      "\u001b[92mINFO \u001b[0m:      configure_fit: strategy sampled 6 clients (out of 6)\n",
      "\u001b[36m(ClientAppActor pid=47699)\u001b[0m /Users/macbook/Desktop/L361/L361_Project/.conda/lib/python3.12/site-packages/datasets/utils/_dill.py:385: DeprecationWarning: co_lnotab is deprecated, use co_lines instead.\u001b[32m [repeated 6x across cluster]\u001b[0m\n",
      "\u001b[36m(ClientAppActor pid=47699)\u001b[0m   obj.co_lnotab,  # for < python 3.10 [not counted in args]\u001b[32m [repeated 6x across cluster]\u001b[0m\n"
     ]
    },
    {
     "name": "stdout",
     "output_type": "stream",
     "text": [
      "\u001b[36m(ClientAppActor pid=47699)\u001b[0m [Client 0] fit, config: {}\n",
      "\u001b[36m(ClientAppActor pid=47704)\u001b[0m [Client 3] evaluate, config: {}\u001b[32m [repeated 5x across cluster]\u001b[0m\n",
      "\u001b[36m(ClientAppActor pid=47702)\u001b[0m Epoch 1: train loss 0.0707005113363266, accuracy 0.1001995123032587\n",
      "\u001b[36m(ClientAppActor pid=47702)\u001b[0m [Client 3] fit, config: {}\u001b[32m [repeated 5x across cluster]\u001b[0m\n",
      "\u001b[36m(ClientAppActor pid=47701)\u001b[0m Epoch 1: train loss 0.07723866403102875, accuracy 0.25235017626321976\u001b[32m [repeated 2x across cluster]\u001b[0m\n",
      "\u001b[36m(ClientAppActor pid=47699)\u001b[0m Epoch 1: train loss 0.05682748556137085, accuracy 0.26682750301568153\u001b[32m [repeated 2x across cluster]\u001b[0m\n",
      "\u001b[36m(ClientAppActor pid=47702)\u001b[0m Epoch 2: train loss 0.06194173917174339, accuracy 0.1855464420305919\u001b[32m [repeated 2x across cluster]\u001b[0m\n",
      "\u001b[36m(ClientAppActor pid=47704)\u001b[0m Epoch 2: train loss 0.03252634033560753, accuracy 0.4367816091954023\n",
      "\u001b[36m(ClientAppActor pid=47701)\u001b[0m Epoch 2: train loss 0.05272326618432999, accuracy 0.3528202115158637\n",
      "\u001b[36m(ClientAppActor pid=47703)\u001b[0m Epoch 2: train loss 0.03547849878668785, accuracy 0.4213284237360147\u001b[32m [repeated 2x across cluster]\u001b[0m\n",
      "\u001b[36m(ClientAppActor pid=47704)\u001b[0m Epoch 3: train loss 0.022756576538085938, accuracy 0.6921182266009852\n",
      "\u001b[36m(ClientAppActor pid=47699)\u001b[0m Epoch 2: train loss 0.048727598041296005, accuracy 0.2875753920386007\n",
      "\u001b[36m(ClientAppActor pid=47700)\u001b[0m Epoch 2: train loss 0.04556857421994209, accuracy 0.39829706717123936\n",
      "\u001b[36m(ClientAppActor pid=47702)\u001b[0m Epoch 4: train loss 0.05405356362462044, accuracy 0.34648636665927735\n",
      "\u001b[36m(ClientAppActor pid=47704)\u001b[0m Epoch 4: train loss 0.02506592869758606, accuracy 0.6921182266009852\n",
      "\u001b[36m(ClientAppActor pid=47701)\u001b[0m Epoch 3: train loss 0.03916268050670624, accuracy 0.3528202115158637\n",
      "\u001b[36m(ClientAppActor pid=47703)\u001b[0m Epoch 3: train loss 0.034260090440511703, accuracy 0.46948024359155927\n",
      "\u001b[36m(ClientAppActor pid=47702)\u001b[0m Epoch 5: train loss 0.054454438388347626, accuracy 0.34648636665927735\n",
      "\u001b[36m(ClientAppActor pid=47704)\u001b[0m Epoch 5: train loss 0.024259645491838455, accuracy 0.6921182266009852\n",
      "\u001b[36m(ClientAppActor pid=47699)\u001b[0m Epoch 3: train loss 0.049171771854162216, accuracy 0.2882991556091677\n",
      "\u001b[36m(ClientAppActor pid=47700)\u001b[0m Epoch 3: train loss 0.03762118145823479, accuracy 0.40681173131504256\n",
      "\u001b[36m(ClientAppActor pid=47701)\u001b[0m Epoch 4: train loss 0.0302171278744936, accuracy 0.49764982373678024\n",
      "\u001b[36m(ClientAppActor pid=47702)\u001b[0m Epoch 6: train loss 0.05525533854961395, accuracy 0.34648636665927735\n",
      "\u001b[36m(ClientAppActor pid=47703)\u001b[0m Epoch 4: train loss 0.03289027884602547, accuracy 0.43818156068545533\n",
      "\u001b[36m(ClientAppActor pid=47704)\u001b[0m Epoch 6: train loss 0.02203688956797123, accuracy 0.6921182266009852\n",
      "\u001b[36m(ClientAppActor pid=47702)\u001b[0m Epoch 7: train loss 0.0543987974524498, accuracy 0.34648636665927735\n",
      "\u001b[36m(ClientAppActor pid=47699)\u001b[0m Epoch 4: train loss 0.047812361270189285, accuracy 0.2780458383594692\n",
      "\u001b[36m(ClientAppActor pid=47701)\u001b[0m Epoch 5: train loss 0.030941670760512352, accuracy 0.5850470035252644\n",
      "\u001b[36m(ClientAppActor pid=47700)\u001b[0m Epoch 4: train loss 0.038110218942165375, accuracy 0.4718543046357616\n",
      "\u001b[36m(ClientAppActor pid=47704)\u001b[0m Epoch 7: train loss 0.022844791412353516, accuracy 0.6921182266009852\n",
      "\u001b[36m(ClientAppActor pid=47703)\u001b[0m Epoch 5: train loss 0.03363419324159622, accuracy 0.41056507576830475\n",
      "\u001b[36m(ClientAppActor pid=47702)\u001b[0m Epoch 8: train loss 0.05341936647891998, accuracy 0.34648636665927735\n",
      "\u001b[36m(ClientAppActor pid=47704)\u001b[0m Epoch 8: train loss 0.023496197536587715, accuracy 0.6921182266009852\n",
      "\u001b[36m(ClientAppActor pid=47701)\u001b[0m Epoch 6: train loss 0.0335228405892849, accuracy 0.5850470035252644\n",
      "\u001b[36m(ClientAppActor pid=47699)\u001b[0m Epoch 5: train loss 0.04834162816405296, accuracy 0.2802171290711701\n",
      "\u001b[36m(ClientAppActor pid=47703)\u001b[0m Epoch 6: train loss 0.03285432979464531, accuracy 0.46948024359155927\n",
      "\u001b[36m(ClientAppActor pid=47700)\u001b[0m Epoch 5: train loss 0.03870873525738716, accuracy 0.4718543046357616\n",
      "\u001b[36m(ClientAppActor pid=47701)\u001b[0m Epoch 7: train loss 0.031157640740275383, accuracy 0.5850470035252644\n",
      "\u001b[36m(ClientAppActor pid=47703)\u001b[0m Epoch 7: train loss 0.03323754668235779, accuracy 0.46948024359155927\n",
      "\u001b[36m(ClientAppActor pid=47699)\u001b[0m Epoch 6: train loss 0.0481584295630455, accuracy 0.2802171290711701\n",
      "\u001b[36m(ClientAppActor pid=47700)\u001b[0m Epoch 6: train loss 0.03662629798054695, accuracy 0.4718543046357616\n",
      "\u001b[36m(ClientAppActor pid=47701)\u001b[0m Epoch 8: train loss 0.028644070029258728, accuracy 0.5850470035252644\n",
      "\u001b[36m(ClientAppActor pid=47703)\u001b[0m Epoch 8: train loss 0.033136799931526184, accuracy 0.46948024359155927\n",
      "\u001b[36m(ClientAppActor pid=47699)\u001b[0m Epoch 7: train loss 0.04756034165620804, accuracy 0.2882991556091677\n",
      "\u001b[36m(ClientAppActor pid=47700)\u001b[0m Epoch 7: train loss 0.035892657935619354, accuracy 0.4247871333964049\n",
      "\u001b[36m(ClientAppActor pid=47699)\u001b[0m Epoch 8: train loss 0.047713056206703186, accuracy 0.2882991556091677\n"
     ]
    },
    {
     "name": "stderr",
     "output_type": "stream",
     "text": [
      "\u001b[92mINFO \u001b[0m:      aggregate_fit: received 6 results and 0 failures\n"
     ]
    },
    {
     "name": "stdout",
     "output_type": "stream",
     "text": [
      "\u001b[36m(ClientAppActor pid=47700)\u001b[0m Epoch 8: train loss 0.036100275814533234, accuracy 0.39829706717123936\n"
     ]
    },
    {
     "name": "stderr",
     "output_type": "stream",
     "text": [
      "\u001b[92mINFO \u001b[0m:      fit progress: (7, 0.07670577139854431, {'accuracy': 0.1}, 8760.509254207951)\n",
      "\u001b[92mINFO \u001b[0m:      configure_evaluate: strategy sampled 6 clients (out of 6)\n"
     ]
    },
    {
     "name": "stdout",
     "output_type": "stream",
     "text": [
      "\u001b[36m(ClientAppActor pid=47701)\u001b[0m [Client 0] evaluate, config: {}\n"
     ]
    },
    {
     "name": "stderr",
     "output_type": "stream",
     "text": [
      "\u001b[36m(ClientAppActor pid=47703)\u001b[0m /Users/macbook/Desktop/L361/L361_Project/.conda/lib/python3.12/site-packages/datasets/utils/_dill.py:385: DeprecationWarning: co_lnotab is deprecated, use co_lines instead.\u001b[32m [repeated 6x across cluster]\u001b[0m\n",
      "\u001b[36m(ClientAppActor pid=47703)\u001b[0m   obj.co_lnotab,  # for < python 3.10 [not counted in args]\u001b[32m [repeated 6x across cluster]\u001b[0m\n"
     ]
    },
    {
     "name": "stdout",
     "output_type": "stream",
     "text": [
      "\u001b[36m(ClientAppActor pid=47704)\u001b[0m [Client 4] evaluate, config: {}\u001b[32m [repeated 5x across cluster]\u001b[0m\n"
     ]
    },
    {
     "name": "stderr",
     "output_type": "stream",
     "text": [
      "\u001b[36m(ClientAppActor pid=47704)\u001b[0m /Users/macbook/Desktop/L361/L361_Project/.conda/lib/python3.12/site-packages/datasets/utils/_dill.py:385: DeprecationWarning: co_lnotab is deprecated, use co_lines instead.\u001b[32m [repeated 5x across cluster]\u001b[0m\n",
      "\u001b[36m(ClientAppActor pid=47704)\u001b[0m   obj.co_lnotab,  # for < python 3.10 [not counted in args]\u001b[32m [repeated 5x across cluster]\u001b[0m\n",
      "\u001b[92mINFO \u001b[0m:      aggregate_evaluate: received 6 results and 0 failures\n",
      "\u001b[92mINFO \u001b[0m:      \n",
      "\u001b[92mINFO \u001b[0m:      [ROUND 8]\n",
      "\u001b[92mINFO \u001b[0m:      configure_fit: strategy sampled 6 clients (out of 6)\n",
      "\u001b[36m(ClientAppActor pid=47704)\u001b[0m /Users/macbook/Desktop/L361/L361_Project/.conda/lib/python3.12/site-packages/datasets/utils/_dill.py:385: DeprecationWarning: co_lnotab is deprecated, use co_lines instead.\n",
      "\u001b[36m(ClientAppActor pid=47704)\u001b[0m   obj.co_lnotab,  # for < python 3.10 [not counted in args]\n"
     ]
    },
    {
     "name": "stdout",
     "output_type": "stream",
     "text": [
      "\u001b[36m(ClientAppActor pid=47704)\u001b[0m [Client 0] fit, config: {}\n"
     ]
    },
    {
     "name": "stderr",
     "output_type": "stream",
     "text": [
      "\u001b[36m(ClientAppActor pid=47700)\u001b[0m /Users/macbook/Desktop/L361/L361_Project/.conda/lib/python3.12/site-packages/datasets/utils/_dill.py:385: DeprecationWarning: co_lnotab is deprecated, use co_lines instead.\n",
      "\u001b[36m(ClientAppActor pid=47700)\u001b[0m   obj.co_lnotab,  # for < python 3.10 [not counted in args]\n"
     ]
    },
    {
     "name": "stdout",
     "output_type": "stream",
     "text": [
      "\u001b[36m(ClientAppActor pid=47703)\u001b[0m Epoch 1: train loss 0.06951755285263062, accuracy 0.11527377521613832\n",
      "\u001b[36m(ClientAppActor pid=47702)\u001b[0m [Client 1] fit, config: {}\u001b[32m [repeated 5x across cluster]\u001b[0m\n",
      "\u001b[36m(ClientAppActor pid=47701)\u001b[0m Epoch 1: train loss 0.062441326677799225, accuracy 0.22557471264367815\n",
      "\u001b[36m(ClientAppActor pid=47701)\u001b[0m \n",
      "\u001b[36m(ClientAppActor pid=47702)\u001b[0m Epoch 1: train loss 0.07419806718826294, accuracy 0.28892479435957696\n",
      "\u001b[36m(ClientAppActor pid=47704)\u001b[0m Epoch 1: train loss 0.058055128902196884, accuracy 0.25066344993968637\u001b[32m [repeated 2x across cluster]\u001b[0m\n",
      "\u001b[36m(ClientAppActor pid=47699)\u001b[0m Epoch 1: train loss 0.06564384698867798, accuracy 0.2760170293282876\n",
      "\u001b[36m(ClientAppActor pid=47703)\u001b[0m Epoch 2: train loss 0.06107739731669426, accuracy 0.18488140101972955\n",
      "\u001b[36m(ClientAppActor pid=47701)\u001b[0m Epoch 2: train loss 0.04010600969195366, accuracy 0.30049261083743845\n",
      "\u001b[36m(ClientAppActor pid=47703)\u001b[0m Epoch 3: train loss 0.055848728865385056, accuracy 0.2442917313234316\n",
      "\u001b[36m(ClientAppActor pid=47700)\u001b[0m Epoch 2: train loss 0.03533528372645378, accuracy 0.46948024359155927\u001b[32m [repeated 2x across cluster]\u001b[0m\n",
      "\u001b[36m(ClientAppActor pid=47701)\u001b[0m Epoch 3: train loss 0.025176698341965675, accuracy 0.6096059113300493\n",
      "\u001b[36m(ClientAppActor pid=47704)\u001b[0m Epoch 2: train loss 0.04892886430025101, accuracy 0.2850422195416164\n",
      "\u001b[36m(ClientAppActor pid=47699)\u001b[0m Epoch 2: train loss 0.0448448471724987, accuracy 0.39829706717123936\n",
      "\u001b[36m(ClientAppActor pid=47703)\u001b[0m Epoch 4: train loss 0.05380850285291672, accuracy 0.34648636665927735\n",
      "\u001b[36m(ClientAppActor pid=47701)\u001b[0m Epoch 4: train loss 0.02294844761490822, accuracy 0.6921182266009852\n",
      "\u001b[36m(ClientAppActor pid=47702)\u001b[0m Epoch 3: train loss 0.04036717489361763, accuracy 0.3528202115158637\n",
      "\u001b[36m(ClientAppActor pid=47700)\u001b[0m Epoch 3: train loss 0.03386837616562843, accuracy 0.46948024359155927\n",
      "\u001b[36m(ClientAppActor pid=47703)\u001b[0m Epoch 5: train loss 0.054774753749370575, accuracy 0.34648636665927735\n",
      "\u001b[36m(ClientAppActor pid=47704)\u001b[0m Epoch 3: train loss 0.049009211361408234, accuracy 0.2882991556091677\n",
      "\u001b[36m(ClientAppActor pid=47701)\u001b[0m Epoch 5: train loss 0.025779524818062782, accuracy 0.6921182266009852\n",
      "\u001b[36m(ClientAppActor pid=47699)\u001b[0m Epoch 3: train loss 0.037620287388563156, accuracy 0.4043282876064333\n",
      "\u001b[36m(ClientAppActor pid=47703)\u001b[0m Epoch 6: train loss 0.05472847819328308, accuracy 0.34648636665927735\n",
      "\u001b[36m(ClientAppActor pid=47702)\u001b[0m Epoch 4: train loss 0.031038975343108177, accuracy 0.44051116333725027\n",
      "\u001b[36m(ClientAppActor pid=47700)\u001b[0m Epoch 4: train loss 0.03279601037502289, accuracy 0.46948024359155927\n",
      "\u001b[36m(ClientAppActor pid=47701)\u001b[0m Epoch 6: train loss 0.024351775646209717, accuracy 0.6921182266009852\n",
      "\u001b[36m(ClientAppActor pid=47703)\u001b[0m Epoch 7: train loss 0.05364646017551422, accuracy 0.34648636665927735\n",
      "\u001b[36m(ClientAppActor pid=47704)\u001b[0m Epoch 4: train loss 0.04788021743297577, accuracy 0.2761158021712907\n",
      "\u001b[36m(ClientAppActor pid=47699)\u001b[0m Epoch 4: train loss 0.03812125325202942, accuracy 0.4718543046357616\n",
      "\u001b[36m(ClientAppActor pid=47701)\u001b[0m Epoch 7: train loss 0.02186434529721737, accuracy 0.6921182266009852\u001b[32m [repeated 2x across cluster]\u001b[0m\n",
      "\u001b[36m(ClientAppActor pid=47700)\u001b[0m Epoch 5: train loss 0.03324229270219803, accuracy 0.46948024359155927\n",
      "\u001b[36m(ClientAppActor pid=47703)\u001b[0m Epoch 8: train loss 0.05313549190759659, accuracy 0.34648636665927735\n",
      "\u001b[36m(ClientAppActor pid=47701)\u001b[0m Epoch 8: train loss 0.02253231219947338, accuracy 0.6921182266009852\n",
      "\u001b[36m(ClientAppActor pid=47702)\u001b[0m Epoch 6: train loss 0.03326861187815666, accuracy 0.5850470035252644\n",
      "\u001b[36m(ClientAppActor pid=47700)\u001b[0m Epoch 6: train loss 0.03291487321257591, accuracy 0.46948024359155927\u001b[32m [repeated 2x across cluster]\u001b[0m\n",
      "\u001b[36m(ClientAppActor pid=47702)\u001b[0m Epoch 7: train loss 0.03153230994939804, accuracy 0.5850470035252644\u001b[32m [repeated 2x across cluster]\u001b[0m\n",
      "\u001b[36m(ClientAppActor pid=47700)\u001b[0m Epoch 7: train loss 0.032976679503917694, accuracy 0.46948024359155927\n",
      "\u001b[36m(ClientAppActor pid=47704)\u001b[0m Epoch 6: train loss 0.048166509717702866, accuracy 0.2802171290711701\n",
      "\u001b[36m(ClientAppActor pid=47699)\u001b[0m Epoch 6: train loss 0.03650621324777603, accuracy 0.4718543046357616\n",
      "\u001b[36m(ClientAppActor pid=47702)\u001b[0m Epoch 8: train loss 0.028552554547786713, accuracy 0.5850470035252644\n",
      "\u001b[36m(ClientAppActor pid=47700)\u001b[0m Epoch 8: train loss 0.0331323966383934, accuracy 0.46948024359155927\n",
      "\u001b[36m(ClientAppActor pid=47704)\u001b[0m Epoch 7: train loss 0.04757333919405937, accuracy 0.2841978287092883\n",
      "\u001b[36m(ClientAppActor pid=47699)\u001b[0m Epoch 7: train loss 0.035871125757694244, accuracy 0.4169820245979186\n",
      "\u001b[36m(ClientAppActor pid=47704)\u001b[0m Epoch 8: train loss 0.04767664894461632, accuracy 0.2882991556091677\n"
     ]
    },
    {
     "name": "stderr",
     "output_type": "stream",
     "text": [
      "\u001b[92mINFO \u001b[0m:      aggregate_fit: received 6 results and 0 failures\n"
     ]
    },
    {
     "name": "stdout",
     "output_type": "stream",
     "text": [
      "\u001b[36m(ClientAppActor pid=47699)\u001b[0m Epoch 8: train loss 0.03605388477444649, accuracy 0.39829706717123936\n"
     ]
    },
    {
     "name": "stderr",
     "output_type": "stream",
     "text": [
      "\u001b[92mINFO \u001b[0m:      fit progress: (8, 0.0820289286851883, {'accuracy': 0.1}, 10016.098157541011)\n",
      "\u001b[92mINFO \u001b[0m:      configure_evaluate: strategy sampled 6 clients (out of 6)\n",
      "\u001b[36m(ClientAppActor pid=47701)\u001b[0m /Users/macbook/Desktop/L361/L361_Project/.conda/lib/python3.12/site-packages/datasets/utils/_dill.py:385: DeprecationWarning: co_lnotab is deprecated, use co_lines instead.\u001b[32m [repeated 5x across cluster]\u001b[0m\n",
      "\u001b[36m(ClientAppActor pid=47701)\u001b[0m   obj.co_lnotab,  # for < python 3.10 [not counted in args]\u001b[32m [repeated 5x across cluster]\u001b[0m\n"
     ]
    },
    {
     "name": "stdout",
     "output_type": "stream",
     "text": [
      "\u001b[36m(ClientAppActor pid=47701)\u001b[0m [Client 4] evaluate, config: {}\n"
     ]
    },
    {
     "name": "stderr",
     "output_type": "stream",
     "text": [
      "\u001b[92mINFO \u001b[0m:      aggregate_evaluate: received 6 results and 0 failures\n",
      "\u001b[92mINFO \u001b[0m:      \n",
      "\u001b[92mINFO \u001b[0m:      [ROUND 9]\n",
      "\u001b[92mINFO \u001b[0m:      configure_fit: strategy sampled 6 clients (out of 6)\n"
     ]
    },
    {
     "name": "stdout",
     "output_type": "stream",
     "text": [
      "\u001b[36m(ClientAppActor pid=47701)\u001b[0m [Client 5] fit, config: {}\n",
      "\u001b[36m(ClientAppActor pid=47703)\u001b[0m [Client 3] evaluate, config: {}\u001b[32m [repeated 5x across cluster]\u001b[0m\n"
     ]
    },
    {
     "name": "stderr",
     "output_type": "stream",
     "text": [
      "\u001b[36m(ClientAppActor pid=47701)\u001b[0m /Users/macbook/Desktop/L361/L361_Project/.conda/lib/python3.12/site-packages/datasets/utils/_dill.py:385: DeprecationWarning: co_lnotab is deprecated, use co_lines instead.\u001b[32m [repeated 6x across cluster]\u001b[0m\n",
      "\u001b[36m(ClientAppActor pid=47701)\u001b[0m   obj.co_lnotab,  # for < python 3.10 [not counted in args]\u001b[32m [repeated 6x across cluster]\u001b[0m\n"
     ]
    },
    {
     "name": "stdout",
     "output_type": "stream",
     "text": [
      "\u001b[36m(ClientAppActor pid=47702)\u001b[0m Epoch 1: train loss 0.06872737407684326, accuracy 0.10596320106406562\n",
      "\u001b[36m(ClientAppActor pid=47702)\u001b[0m [Client 3] fit, config: {}\u001b[32m [repeated 5x across cluster]\u001b[0m\n",
      "\u001b[36m(ClientAppActor pid=47701)\u001b[0m Epoch 1: train loss 0.06113041564822197, accuracy 0.18082922824302133\n",
      "\u001b[36m(ClientAppActor pid=47703)\u001b[0m Epoch 1: train loss 0.08035559207201004, accuracy 0.256903642773208\n",
      "\u001b[36m(ClientAppActor pid=47700)\u001b[0m Epoch 1: train loss 0.05026901885867119, accuracy 0.3047726950856819\n",
      "\u001b[36m(ClientAppActor pid=47704)\u001b[0m Epoch 1: train loss 0.05579347908496857, accuracy 0.2592279855247286\n",
      "\u001b[36m(ClientAppActor pid=47699)\u001b[0m Epoch 1: train loss 0.0694950670003891, accuracy 0.24101229895931883\n",
      "\u001b[36m(ClientAppActor pid=47702)\u001b[0m Epoch 2: train loss 0.05948720872402191, accuracy 0.1855464420305919\n",
      "\u001b[36m(ClientAppActor pid=47701)\u001b[0m Epoch 2: train loss 0.03947797790169716, accuracy 0.30049261083743845\n",
      "\u001b[36m(ClientAppActor pid=47703)\u001b[0m Epoch 2: train loss 0.05392347648739815, accuracy 0.3528202115158637\n",
      "\u001b[36m(ClientAppActor pid=47700)\u001b[0m Epoch 2: train loss 0.03558342158794403, accuracy 0.46948024359155927\u001b[32m [repeated 2x across cluster]\u001b[0m\n",
      "\u001b[36m(ClientAppActor pid=47701)\u001b[0m Epoch 3: train loss 0.025529129430651665, accuracy 0.6346469622331691\n",
      "\u001b[36m(ClientAppActor pid=47704)\u001b[0m Epoch 2: train loss 0.04869449883699417, accuracy 0.27792521109770807\n",
      "\u001b[36m(ClientAppActor pid=47699)\u001b[0m Epoch 2: train loss 0.044866617769002914, accuracy 0.39829706717123936\n",
      "\u001b[36m(ClientAppActor pid=47702)\u001b[0m Epoch 4: train loss 0.05382537469267845, accuracy 0.34648636665927735\n",
      "\u001b[36m(ClientAppActor pid=47701)\u001b[0m Epoch 4: train loss 0.02256261184811592, accuracy 0.6921182266009852\n",
      "\u001b[36m(ClientAppActor pid=47703)\u001b[0m Epoch 3: train loss 0.041062988340854645, accuracy 0.3528202115158637\n",
      "\u001b[36m(ClientAppActor pid=47700)\u001b[0m Epoch 3: train loss 0.03400751203298569, accuracy 0.46948024359155927\n",
      "\u001b[36m(ClientAppActor pid=47702)\u001b[0m Epoch 5: train loss 0.054800450801849365, accuracy 0.34648636665927735\n",
      "\u001b[36m(ClientAppActor pid=47704)\u001b[0m Epoch 3: train loss 0.04889795556664467, accuracy 0.2882991556091677\n",
      "\u001b[36m(ClientAppActor pid=47701)\u001b[0m Epoch 5: train loss 0.024705005809664726, accuracy 0.6921182266009852\n",
      "\u001b[36m(ClientAppActor pid=47699)\u001b[0m Epoch 3: train loss 0.03767479583621025, accuracy 0.39983443708609273\n",
      "\u001b[36m(ClientAppActor pid=47702)\u001b[0m Epoch 6: train loss 0.054644111543893814, accuracy 0.34648636665927735\n",
      "\u001b[36m(ClientAppActor pid=47700)\u001b[0m Epoch 4: train loss 0.03274376317858696, accuracy 0.46948024359155927\u001b[32m [repeated 2x across cluster]\u001b[0m\n",
      "\u001b[36m(ClientAppActor pid=47701)\u001b[0m Epoch 6: train loss 0.023996425792574883, accuracy 0.6921182266009852\n",
      "\u001b[36m(ClientAppActor pid=47702)\u001b[0m Epoch 7: train loss 0.05388323962688446, accuracy 0.34648636665927735\n",
      "\u001b[36m(ClientAppActor pid=47704)\u001b[0m Epoch 4: train loss 0.04777885228395462, accuracy 0.2689987937273824\n",
      "\u001b[36m(ClientAppActor pid=47703)\u001b[0m Epoch 5: train loss 0.029616519808769226, accuracy 0.5850470035252644\n",
      "\u001b[36m(ClientAppActor pid=47701)\u001b[0m Epoch 7: train loss 0.021973052993416786, accuracy 0.6921182266009852\u001b[32m [repeated 2x across cluster]\u001b[0m\n",
      "\u001b[36m(ClientAppActor pid=47702)\u001b[0m Epoch 8: train loss 0.05333847552537918, accuracy 0.34648636665927735\n",
      "\u001b[36m(ClientAppActor pid=47700)\u001b[0m Epoch 5: train loss 0.03318915143609047, accuracy 0.46948024359155927\n",
      "\u001b[36m(ClientAppActor pid=47701)\u001b[0m Epoch 8: train loss 0.022173253819346428, accuracy 0.6921182266009852\n",
      "\u001b[36m(ClientAppActor pid=47703)\u001b[0m Epoch 6: train loss 0.032489921897649765, accuracy 0.5850470035252644\n",
      "\u001b[36m(ClientAppActor pid=47704)\u001b[0m Epoch 5: train loss 0.048304006457328796, accuracy 0.2802171290711701\n",
      "\u001b[36m(ClientAppActor pid=47699)\u001b[0m Epoch 5: train loss 0.038412682712078094, accuracy 0.4718543046357616\n",
      "\u001b[36m(ClientAppActor pid=47700)\u001b[0m Epoch 6: train loss 0.03298427537083626, accuracy 0.46948024359155927\n",
      "\u001b[36m(ClientAppActor pid=47703)\u001b[0m Epoch 7: train loss 0.03218992054462433, accuracy 0.5850470035252644\n",
      "\u001b[36m(ClientAppActor pid=47704)\u001b[0m Epoch 6: train loss 0.048023153096437454, accuracy 0.2802171290711701\n",
      "\u001b[36m(ClientAppActor pid=47700)\u001b[0m Epoch 7: train loss 0.03285649046301842, accuracy 0.46948024359155927\n",
      "\u001b[36m(ClientAppActor pid=47699)\u001b[0m Epoch 6: train loss 0.03667673096060753, accuracy 0.4718543046357616\n",
      "\u001b[36m(ClientAppActor pid=47703)\u001b[0m Epoch 8: train loss 0.029559271410107613, accuracy 0.5850470035252644\n",
      "\u001b[36m(ClientAppActor pid=47704)\u001b[0m Epoch 7: train loss 0.04767434671521187, accuracy 0.2827503015681544\n",
      "\u001b[36m(ClientAppActor pid=47700)\u001b[0m Epoch 8: train loss 0.033126264810562134, accuracy 0.46948024359155927\n",
      "\u001b[36m(ClientAppActor pid=47699)\u001b[0m Epoch 7: train loss 0.035781633108854294, accuracy 0.45068590350047305\n",
      "\u001b[36m(ClientAppActor pid=47704)\u001b[0m Epoch 8: train loss 0.04771404340863228, accuracy 0.2882991556091677\n"
     ]
    },
    {
     "name": "stderr",
     "output_type": "stream",
     "text": [
      "\u001b[92mINFO \u001b[0m:      aggregate_fit: received 6 results and 0 failures\n"
     ]
    },
    {
     "name": "stdout",
     "output_type": "stream",
     "text": [
      "\u001b[36m(ClientAppActor pid=47699)\u001b[0m Epoch 8: train loss 0.03596455603837967, accuracy 0.39829706717123936\n"
     ]
    },
    {
     "name": "stderr",
     "output_type": "stream",
     "text": [
      "\u001b[92mINFO \u001b[0m:      fit progress: (9, 0.07660536644458771, {'accuracy': 0.1}, 11269.913758083014)\n",
      "\u001b[92mINFO \u001b[0m:      configure_evaluate: strategy sampled 6 clients (out of 6)\n",
      "\u001b[36m(ClientAppActor pid=47700)\u001b[0m /Users/macbook/Desktop/L361/L361_Project/.conda/lib/python3.12/site-packages/datasets/utils/_dill.py:385: DeprecationWarning: co_lnotab is deprecated, use co_lines instead.\u001b[32m [repeated 6x across cluster]\u001b[0m\n",
      "\u001b[36m(ClientAppActor pid=47700)\u001b[0m   obj.co_lnotab,  # for < python 3.10 [not counted in args]\u001b[32m [repeated 6x across cluster]\u001b[0m\n"
     ]
    },
    {
     "name": "stdout",
     "output_type": "stream",
     "text": [
      "\u001b[36m(ClientAppActor pid=47703)\u001b[0m [Client 2] evaluate, config: {}\n",
      "\u001b[36m(ClientAppActor pid=47701)\u001b[0m [Client 0] evaluate, config: {}\u001b[32m [repeated 4x across cluster]\u001b[0m\n"
     ]
    },
    {
     "name": "stderr",
     "output_type": "stream",
     "text": [
      "\u001b[36m(ClientAppActor pid=47701)\u001b[0m /Users/macbook/Desktop/L361/L361_Project/.conda/lib/python3.12/site-packages/datasets/utils/_dill.py:385: DeprecationWarning: co_lnotab is deprecated, use co_lines instead.\u001b[32m [repeated 4x across cluster]\u001b[0m\n",
      "\u001b[36m(ClientAppActor pid=47701)\u001b[0m   obj.co_lnotab,  # for < python 3.10 [not counted in args]\u001b[32m [repeated 4x across cluster]\u001b[0m\n",
      "\u001b[92mINFO \u001b[0m:      aggregate_evaluate: received 6 results and 0 failures\n",
      "\u001b[92mINFO \u001b[0m:      \n",
      "\u001b[92mINFO \u001b[0m:      [ROUND 10]\n",
      "\u001b[92mINFO \u001b[0m:      configure_fit: strategy sampled 6 clients (out of 6)\n"
     ]
    },
    {
     "name": "stdout",
     "output_type": "stream",
     "text": [
      "\u001b[36m(ClientAppActor pid=47704)\u001b[0m [Client 4] fit, config: {}\n",
      "\u001b[36m(ClientAppActor pid=47704)\u001b[0m [Client 3] evaluate, config: {}\n"
     ]
    },
    {
     "name": "stderr",
     "output_type": "stream",
     "text": [
      "\u001b[36m(ClientAppActor pid=47704)\u001b[0m /Users/macbook/Desktop/L361/L361_Project/.conda/lib/python3.12/site-packages/datasets/utils/_dill.py:385: DeprecationWarning: co_lnotab is deprecated, use co_lines instead.\u001b[32m [repeated 2x across cluster]\u001b[0m\n",
      "\u001b[36m(ClientAppActor pid=47704)\u001b[0m   obj.co_lnotab,  # for < python 3.10 [not counted in args]\u001b[32m [repeated 2x across cluster]\u001b[0m\n"
     ]
    },
    {
     "name": "stdout",
     "output_type": "stream",
     "text": [
      "\u001b[36m(ClientAppActor pid=47702)\u001b[0m Epoch 1: train loss 0.07091295719146729, accuracy 0.12325426734648637\n",
      "\u001b[36m(ClientAppActor pid=47701)\u001b[0m [Client 1] fit, config: {}\u001b[32m [repeated 5x across cluster]\u001b[0m\n",
      "\u001b[36m(ClientAppActor pid=47700)\u001b[0m Epoch 1: train loss 0.061034440994262695, accuracy 0.2785303776683087\n",
      "\u001b[36m(ClientAppActor pid=47701)\u001b[0m Epoch 1: train loss 0.07470773160457611, accuracy 0.2833431257344301\n",
      "\u001b[36m(ClientAppActor pid=47703)\u001b[0m Epoch 1: train loss 0.05935034528374672, accuracy 0.2482509047044632\u001b[32m [repeated 2x across cluster]\u001b[0m\n",
      "\u001b[36m(ClientAppActor pid=47704)\u001b[0m Epoch 1: train loss 0.06350625306367874, accuracy 0.3174077578051088\n",
      "\u001b[36m(ClientAppActor pid=47702)\u001b[0m Epoch 2: train loss 0.061572760343551636, accuracy 0.1855464420305919\n",
      "\u001b[36m(ClientAppActor pid=47700)\u001b[0m Epoch 2: train loss 0.04127821326255798, accuracy 0.30049261083743845\n",
      "\u001b[36m(ClientAppActor pid=47702)\u001b[0m Epoch 3: train loss 0.05643140524625778, accuracy 0.21037463976945245\n",
      "\u001b[36m(ClientAppActor pid=47700)\u001b[0m Epoch 3: train loss 0.027546357363462448, accuracy 0.5747126436781609\u001b[32m [repeated 3x across cluster]\u001b[0m\n",
      "\u001b[36m(ClientAppActor pid=47703)\u001b[0m Epoch 2: train loss 0.04928101971745491, accuracy 0.27708082026538\n",
      "\u001b[36m(ClientAppActor pid=47704)\u001b[0m Epoch 2: train loss 0.044323913753032684, accuracy 0.39829706717123936\n",
      "\u001b[36m(ClientAppActor pid=47702)\u001b[0m Epoch 4: train loss 0.0540265217423439, accuracy 0.34648636665927735\n",
      "\u001b[36m(ClientAppActor pid=47700)\u001b[0m Epoch 4: train loss 0.022311272099614143, accuracy 0.6921182266009852\n",
      "\u001b[36m(ClientAppActor pid=47701)\u001b[0m Epoch 3: train loss 0.04025138169527054, accuracy 0.3528202115158637\n",
      "\u001b[36m(ClientAppActor pid=47699)\u001b[0m Epoch 3: train loss 0.03357422351837158, accuracy 0.46948024359155927\n",
      "\u001b[36m(ClientAppActor pid=47702)\u001b[0m Epoch 5: train loss 0.05425502732396126, accuracy 0.34648636665927735\n",
      "\u001b[36m(ClientAppActor pid=47700)\u001b[0m Epoch 5: train loss 0.02375786378979683, accuracy 0.6921182266009852\n",
      "\u001b[36m(ClientAppActor pid=47703)\u001b[0m Epoch 3: train loss 0.04882698133587837, accuracy 0.2882991556091677\n",
      "\u001b[36m(ClientAppActor pid=47704)\u001b[0m Epoch 3: train loss 0.03729058802127838, accuracy 0.40953169347209084\n",
      "\u001b[36m(ClientAppActor pid=47701)\u001b[0m Epoch 4: train loss 0.031142381951212883, accuracy 0.4446239717978848\n",
      "\u001b[36m(ClientAppActor pid=47702)\u001b[0m Epoch 6: train loss 0.0548301637172699, accuracy 0.34648636665927735\n",
      "\u001b[36m(ClientAppActor pid=47699)\u001b[0m Epoch 4: train loss 0.032857637852430344, accuracy 0.46948024359155927\n",
      "\u001b[36m(ClientAppActor pid=47700)\u001b[0m Epoch 6: train loss 0.024557041004300117, accuracy 0.6921182266009852\n",
      "\u001b[36m(ClientAppActor pid=47702)\u001b[0m Epoch 7: train loss 0.05440410226583481, accuracy 0.34648636665927735\n",
      "\u001b[36m(ClientAppActor pid=47703)\u001b[0m Epoch 4: train loss 0.0485006682574749, accuracy 0.2882991556091677\n",
      "\u001b[36m(ClientAppActor pid=47704)\u001b[0m Epoch 4: train loss 0.03753950446844101, accuracy 0.4718543046357616\n",
      "\u001b[36m(ClientAppActor pid=47701)\u001b[0m Epoch 5: train loss 0.02956121414899826, accuracy 0.5850470035252644\n",
      "\u001b[36m(ClientAppActor pid=47699)\u001b[0m Epoch 5: train loss 0.032813750207424164, accuracy 0.46948024359155927\u001b[32m [repeated 2x across cluster]\u001b[0m\n",
      "\u001b[36m(ClientAppActor pid=47702)\u001b[0m Epoch 8: train loss 0.05356810614466667, accuracy 0.34648636665927735\n",
      "\u001b[36m(ClientAppActor pid=47700)\u001b[0m Epoch 8: train loss 0.021600306034088135, accuracy 0.6921182266009852\n",
      "\u001b[36m(ClientAppActor pid=47701)\u001b[0m Epoch 6: train loss 0.0324721522629261, accuracy 0.5850470035252644\n",
      "\u001b[36m(ClientAppActor pid=47703)\u001b[0m Epoch 5: train loss 0.047762081027030945, accuracy 0.26332931242460794\n",
      "\u001b[36m(ClientAppActor pid=47699)\u001b[0m Epoch 6: train loss 0.03303374722599983, accuracy 0.46948024359155927\n",
      "\u001b[36m(ClientAppActor pid=47704)\u001b[0m Epoch 5: train loss 0.038750503212213516, accuracy 0.4718543046357616\n",
      "\u001b[36m(ClientAppActor pid=47701)\u001b[0m Epoch 7: train loss 0.03189307451248169, accuracy 0.5850470035252644\n",
      "\u001b[36m(ClientAppActor pid=47699)\u001b[0m Epoch 7: train loss 0.03274161368608475, accuracy 0.46948024359155927\n",
      "\u001b[36m(ClientAppActor pid=47704)\u001b[0m Epoch 6: train loss 0.037017930299043655, accuracy 0.4718543046357616\u001b[32m [repeated 2x across cluster]\u001b[0m\n",
      "\u001b[36m(ClientAppActor pid=47701)\u001b[0m Epoch 8: train loss 0.029211917892098427, accuracy 0.5850470035252644\n",
      "\u001b[36m(ClientAppActor pid=47699)\u001b[0m Epoch 8: train loss 0.03293661028146744, accuracy 0.46948024359155927\n",
      "\u001b[36m(ClientAppActor pid=47703)\u001b[0m Epoch 7: train loss 0.04804253950715065, accuracy 0.2802171290711701\n",
      "\u001b[36m(ClientAppActor pid=47704)\u001b[0m Epoch 7: train loss 0.03613705933094025, accuracy 0.42868968779564803\n",
      "\u001b[36m(ClientAppActor pid=47703)\u001b[0m Epoch 8: train loss 0.04763031005859375, accuracy 0.283956574185766\n"
     ]
    },
    {
     "name": "stderr",
     "output_type": "stream",
     "text": [
      "\u001b[92mINFO \u001b[0m:      aggregate_fit: received 6 results and 0 failures\n"
     ]
    },
    {
     "name": "stdout",
     "output_type": "stream",
     "text": [
      "\u001b[36m(ClientAppActor pid=47704)\u001b[0m Epoch 8: train loss 0.03609226271510124, accuracy 0.39829706717123936\n"
     ]
    },
    {
     "name": "stderr",
     "output_type": "stream",
     "text": [
      "\u001b[92mINFO \u001b[0m:      fit progress: (10, 0.082005996966362, {'accuracy': 0.1}, 12509.177969333017)\n",
      "\u001b[92mINFO \u001b[0m:      configure_evaluate: strategy sampled 6 clients (out of 6)\n",
      "\u001b[36m(ClientAppActor pid=47699)\u001b[0m /Users/macbook/Desktop/L361/L361_Project/.conda/lib/python3.12/site-packages/datasets/utils/_dill.py:385: DeprecationWarning: co_lnotab is deprecated, use co_lines instead.\u001b[32m [repeated 6x across cluster]\u001b[0m\n",
      "\u001b[36m(ClientAppActor pid=47699)\u001b[0m   obj.co_lnotab,  # for < python 3.10 [not counted in args]\u001b[32m [repeated 6x across cluster]\u001b[0m\n"
     ]
    },
    {
     "name": "stdout",
     "output_type": "stream",
     "text": [
      "\u001b[36m(ClientAppActor pid=47699)\u001b[0m [Client 2] evaluate, config: {}\n"
     ]
    },
    {
     "name": "stderr",
     "output_type": "stream",
     "text": [
      "\u001b[92mINFO \u001b[0m:      aggregate_evaluate: received 6 results and 0 failures\n",
      "\u001b[92mINFO \u001b[0m:      \n",
      "\u001b[92mINFO \u001b[0m:      [ROUND 11]\n",
      "\u001b[92mINFO \u001b[0m:      configure_fit: strategy sampled 6 clients (out of 6)\n"
     ]
    },
    {
     "name": "stdout",
     "output_type": "stream",
     "text": [
      "\u001b[36m(ClientAppActor pid=47701)\u001b[0m [Client 5] fit, config: {}\n",
      "\u001b[36m(ClientAppActor pid=47703)\u001b[0m [Client 0] evaluate, config: {}\u001b[32m [repeated 5x across cluster]\u001b[0m\n"
     ]
    },
    {
     "name": "stderr",
     "output_type": "stream",
     "text": [
      "\u001b[36m(ClientAppActor pid=47701)\u001b[0m /Users/macbook/Desktop/L361/L361_Project/.conda/lib/python3.12/site-packages/datasets/utils/_dill.py:385: DeprecationWarning: co_lnotab is deprecated, use co_lines instead.\u001b[32m [repeated 6x across cluster]\u001b[0m\n",
      "\u001b[36m(ClientAppActor pid=47701)\u001b[0m   obj.co_lnotab,  # for < python 3.10 [not counted in args]\u001b[32m [repeated 6x across cluster]\u001b[0m\n"
     ]
    },
    {
     "name": "stdout",
     "output_type": "stream",
     "text": [
      "\u001b[36m(ClientAppActor pid=47700)\u001b[0m Epoch 1: train loss 0.06930944323539734, accuracy 0.10441143870538683\n",
      "\u001b[36m(ClientAppActor pid=47699)\u001b[0m [Client 1] fit, config: {}\u001b[32m [repeated 5x across cluster]\u001b[0m\n",
      "\u001b[36m(ClientAppActor pid=47701)\u001b[0m Epoch 1: train loss 0.06244121491909027, accuracy 0.20730706075533661\n",
      "\u001b[36m(ClientAppActor pid=47699)\u001b[0m Epoch 1: train loss 0.0824514701962471, accuracy 0.2460340775558167\n",
      "\u001b[36m(ClientAppActor pid=47703)\u001b[0m Epoch 1: train loss 0.07135132700204849, accuracy 0.23521759697256386\u001b[32m [repeated 2x across cluster]\u001b[0m\n",
      "\u001b[36m(ClientAppActor pid=47700)\u001b[0m Epoch 2: train loss 0.06038597971200943, accuracy 0.1855464420305919\u001b[32m [repeated 2x across cluster]\u001b[0m\n",
      "\u001b[36m(ClientAppActor pid=47701)\u001b[0m Epoch 2: train loss 0.04264240711927414, accuracy 0.30049261083743845\n",
      "\u001b[36m(ClientAppActor pid=47699)\u001b[0m Epoch 2: train loss 0.05408405140042305, accuracy 0.3528202115158637\n",
      "\u001b[36m(ClientAppActor pid=47702)\u001b[0m Epoch 2: train loss 0.037243928760290146, accuracy 0.46948024359155927\u001b[32m [repeated 2x across cluster]\u001b[0m\n",
      "\u001b[36m(ClientAppActor pid=47701)\u001b[0m Epoch 3: train loss 0.028943229466676712, accuracy 0.5554187192118226\n",
      "\u001b[36m(ClientAppActor pid=47704)\u001b[0m Epoch 2: train loss 0.048515718430280685, accuracy 0.2845597104945718\n",
      "\u001b[36m(ClientAppActor pid=47700)\u001b[0m Epoch 4: train loss 0.05354827269911766, accuracy 0.34648636665927735\u001b[32m [repeated 2x across cluster]\u001b[0m\n",
      "\u001b[36m(ClientAppActor pid=47701)\u001b[0m Epoch 4: train loss 0.022989390417933464, accuracy 0.6921182266009852\n",
      "\u001b[36m(ClientAppActor pid=47699)\u001b[0m Epoch 3: train loss 0.04061848297715187, accuracy 0.3528202115158637\n",
      "\u001b[36m(ClientAppActor pid=47702)\u001b[0m Epoch 3: train loss 0.034276075661182404, accuracy 0.46948024359155927\n",
      "\u001b[36m(ClientAppActor pid=47700)\u001b[0m Epoch 5: train loss 0.054495904594659805, accuracy 0.34648636665927735\n",
      "\u001b[36m(ClientAppActor pid=47701)\u001b[0m Epoch 5: train loss 0.02355329878628254, accuracy 0.6921182266009852\n",
      "\u001b[36m(ClientAppActor pid=47704)\u001b[0m Epoch 3: train loss 0.04915099963545799, accuracy 0.2882991556091677\n",
      "\u001b[36m(ClientAppActor pid=47703)\u001b[0m Epoch 3: train loss 0.03757762163877487, accuracy 0.3988883632923368\n",
      "\u001b[36m(ClientAppActor pid=47700)\u001b[0m Epoch 6: train loss 0.05502475053071976, accuracy 0.34648636665927735\n",
      "\u001b[36m(ClientAppActor pid=47702)\u001b[0m Epoch 4: train loss 0.033347271382808685, accuracy 0.46948024359155927\u001b[32m [repeated 2x across cluster]\u001b[0m\n",
      "\u001b[36m(ClientAppActor pid=47701)\u001b[0m Epoch 6: train loss 0.024585099890828133, accuracy 0.6921182266009852\n",
      "\u001b[36m(ClientAppActor pid=47700)\u001b[0m Epoch 7: train loss 0.05440447852015495, accuracy 0.34648636665927735\n",
      "\u001b[36m(ClientAppActor pid=47704)\u001b[0m Epoch 4: train loss 0.04807078093290329, accuracy 0.2882991556091677\n",
      "\u001b[36m(ClientAppActor pid=47703)\u001b[0m Epoch 4: train loss 0.03698519244790077, accuracy 0.4718543046357616\n",
      "\u001b[36m(ClientAppActor pid=47701)\u001b[0m Epoch 7: train loss 0.0237458273768425, accuracy 0.6921182266009852\u001b[32m [repeated 2x across cluster]\u001b[0m\n",
      "\u001b[36m(ClientAppActor pid=47702)\u001b[0m Epoch 5: train loss 0.032566629350185394, accuracy 0.46948024359155927\n",
      "\u001b[36m(ClientAppActor pid=47700)\u001b[0m Epoch 8: train loss 0.0536339208483696, accuracy 0.34648636665927735\n",
      "\u001b[36m(ClientAppActor pid=47701)\u001b[0m Epoch 8: train loss 0.022003887221217155, accuracy 0.6921182266009852\n",
      "\u001b[36m(ClientAppActor pid=47699)\u001b[0m Epoch 6: train loss 0.03230619430541992, accuracy 0.5850470035252644\n",
      "\u001b[36m(ClientAppActor pid=47704)\u001b[0m Epoch 5: train loss 0.04789549484848976, accuracy 0.2787696019300362\n",
      "\u001b[36m(ClientAppActor pid=47703)\u001b[0m Epoch 5: train loss 0.03817314654588699, accuracy 0.4718543046357616\n",
      "\u001b[36m(ClientAppActor pid=47699)\u001b[0m Epoch 7: train loss 0.03216007351875305, accuracy 0.5850470035252644\u001b[32m [repeated 2x across cluster]\u001b[0m\n",
      "\u001b[36m(ClientAppActor pid=47702)\u001b[0m Epoch 7: train loss 0.03296016529202461, accuracy 0.46948024359155927\n",
      "\u001b[36m(ClientAppActor pid=47704)\u001b[0m Epoch 6: train loss 0.048181261867284775, accuracy 0.2802171290711701\n",
      "\u001b[36m(ClientAppActor pid=47703)\u001b[0m Epoch 6: train loss 0.036938074976205826, accuracy 0.4718543046357616\n",
      "\u001b[36m(ClientAppActor pid=47699)\u001b[0m Epoch 8: train loss 0.02974088117480278, accuracy 0.5850470035252644\n",
      "\u001b[36m(ClientAppActor pid=47702)\u001b[0m Epoch 8: train loss 0.03263621777296066, accuracy 0.46948024359155927\n",
      "\u001b[36m(ClientAppActor pid=47704)\u001b[0m Epoch 7: train loss 0.04791839048266411, accuracy 0.2802171290711701\n",
      "\u001b[36m(ClientAppActor pid=47703)\u001b[0m Epoch 7: train loss 0.03587989881634712, accuracy 0.45991012298959316\n",
      "\u001b[36m(ClientAppActor pid=47704)\u001b[0m Epoch 8: train loss 0.047624871134757996, accuracy 0.2902291917973462\n"
     ]
    },
    {
     "name": "stderr",
     "output_type": "stream",
     "text": [
      "\u001b[92mINFO \u001b[0m:      aggregate_fit: received 6 results and 0 failures\n"
     ]
    },
    {
     "name": "stdout",
     "output_type": "stream",
     "text": [
      "\u001b[36m(ClientAppActor pid=47703)\u001b[0m Epoch 8: train loss 0.035833243280649185, accuracy 0.39829706717123936\n"
     ]
    },
    {
     "name": "stderr",
     "output_type": "stream",
     "text": [
      "\u001b[92mINFO \u001b[0m:      fit progress: (11, 0.07835739090442657, {'accuracy': 0.1}, 13740.978739165934)\n",
      "\u001b[92mINFO \u001b[0m:      configure_evaluate: strategy sampled 6 clients (out of 6)\n",
      "\u001b[36m(ClientAppActor pid=47699)\u001b[0m /Users/macbook/Desktop/L361/L361_Project/.conda/lib/python3.12/site-packages/datasets/utils/_dill.py:385: DeprecationWarning: co_lnotab is deprecated, use co_lines instead.\u001b[32m [repeated 6x across cluster]\u001b[0m\n",
      "\u001b[36m(ClientAppActor pid=47699)\u001b[0m   obj.co_lnotab,  # for < python 3.10 [not counted in args]\u001b[32m [repeated 6x across cluster]\u001b[0m\n"
     ]
    },
    {
     "name": "stdout",
     "output_type": "stream",
     "text": [
      "\u001b[36m(ClientAppActor pid=47699)\u001b[0m [Client 5] evaluate, config: {}\n",
      "\u001b[36m(ClientAppActor pid=47699)\u001b[0m \n"
     ]
    },
    {
     "name": "stderr",
     "output_type": "stream",
     "text": [
      "\u001b[92mINFO \u001b[0m:      aggregate_evaluate: received 6 results and 0 failures\n",
      "\u001b[92mINFO \u001b[0m:      \n",
      "\u001b[92mINFO \u001b[0m:      [ROUND 12]\n",
      "\u001b[92mINFO \u001b[0m:      configure_fit: strategy sampled 6 clients (out of 6)\n",
      "\u001b[36m(ClientAppActor pid=47704)\u001b[0m /Users/macbook/Desktop/L361/L361_Project/.conda/lib/python3.12/site-packages/datasets/utils/_dill.py:385: DeprecationWarning: co_lnotab is deprecated, use co_lines instead.\u001b[32m [repeated 6x across cluster]\u001b[0m\n",
      "\u001b[36m(ClientAppActor pid=47704)\u001b[0m   obj.co_lnotab,  # for < python 3.10 [not counted in args]\u001b[32m [repeated 6x across cluster]\u001b[0m\n"
     ]
    },
    {
     "name": "stdout",
     "output_type": "stream",
     "text": [
      "\u001b[36m(ClientAppActor pid=47702)\u001b[0m [Client 3] fit, config: {}\n",
      "\u001b[36m(ClientAppActor pid=47700)\u001b[0m [Client 3] evaluate, config: {}\u001b[32m [repeated 5x across cluster]\u001b[0m\n",
      "\u001b[36m(ClientAppActor pid=47702)\u001b[0m Epoch 1: train loss 0.07170874625444412, accuracy 0.1112835291509643\n",
      "\u001b[36m(ClientAppActor pid=47700)\u001b[0m [Client 2] fit, config: {}\u001b[32m [repeated 5x across cluster]\u001b[0m\n",
      "\u001b[36m(ClientAppActor pid=47699)\u001b[0m Epoch 1: train loss 0.06089657545089722, accuracy 0.25964696223316913\n",
      "\u001b[36m(ClientAppActor pid=47701)\u001b[0m Epoch 1: train loss 0.07773906737565994, accuracy 0.24897179788484136\n",
      "\u001b[36m(ClientAppActor pid=47700)\u001b[0m Epoch 1: train loss 0.05094665288925171, accuracy 0.3709106358872681\n",
      "\u001b[36m(ClientAppActor pid=47703)\u001b[0m Epoch 1: train loss 0.05894599109888077, accuracy 0.2482509047044632\n",
      "\u001b[36m(ClientAppActor pid=47702)\u001b[0m Epoch 2: train loss 0.061988312751054764, accuracy 0.1855464420305919\u001b[32m [repeated 2x across cluster]\u001b[0m\n",
      "\u001b[36m(ClientAppActor pid=47699)\u001b[0m Epoch 2: train loss 0.04176676645874977, accuracy 0.30049261083743845\n",
      "\u001b[36m(ClientAppActor pid=47702)\u001b[0m Epoch 3: train loss 0.05632719397544861, accuracy 0.2090445577477278\n",
      "\u001b[36m(ClientAppActor pid=47700)\u001b[0m Epoch 2: train loss 0.03656064718961716, accuracy 0.46948024359155927\u001b[32m [repeated 2x across cluster]\u001b[0m\n",
      "\u001b[36m(ClientAppActor pid=47699)\u001b[0m Epoch 3: train loss 0.028457585722208023, accuracy 0.5987274220032841\n",
      "\u001b[36m(ClientAppActor pid=47703)\u001b[0m Epoch 2: train loss 0.04898644611239433, accuracy 0.2720144752714113\n",
      "\u001b[36m(ClientAppActor pid=47704)\u001b[0m Epoch 2: train loss 0.04474613815546036, accuracy 0.39829706717123936\n",
      "\u001b[36m(ClientAppActor pid=47702)\u001b[0m Epoch 4: train loss 0.05369724705815315, accuracy 0.34648636665927735\n",
      "\u001b[36m(ClientAppActor pid=47699)\u001b[0m Epoch 4: train loss 0.023004896938800812, accuracy 0.6921182266009852\n",
      "\u001b[36m(ClientAppActor pid=47701)\u001b[0m Epoch 3: train loss 0.041245609521865845, accuracy 0.3528202115158637\n",
      "\u001b[36m(ClientAppActor pid=47700)\u001b[0m Epoch 3: train loss 0.03369111940264702, accuracy 0.46948024359155927\n",
      "\u001b[36m(ClientAppActor pid=47702)\u001b[0m Epoch 5: train loss 0.05411509424448013, accuracy 0.34648636665927735\n",
      "\u001b[36m(ClientAppActor pid=47703)\u001b[0m Epoch 3: train loss 0.04898824542760849, accuracy 0.2882991556091677\n",
      "\u001b[36m(ClientAppActor pid=47699)\u001b[0m Epoch 5: train loss 0.023407956585288048, accuracy 0.6921182266009852\n",
      "\u001b[36m(ClientAppActor pid=47704)\u001b[0m Epoch 3: train loss 0.037516217678785324, accuracy 0.4045648060548723\n",
      "\u001b[36m(ClientAppActor pid=47702)\u001b[0m Epoch 6: train loss 0.05504809319972992, accuracy 0.34648636665927735\n",
      "\u001b[36m(ClientAppActor pid=47701)\u001b[0m Epoch 4: train loss 0.0317826122045517, accuracy 0.45725616921269097\n",
      "\u001b[36m(ClientAppActor pid=47700)\u001b[0m Epoch 4: train loss 0.032960034906864166, accuracy 0.46948024359155927\n",
      "\u001b[36m(ClientAppActor pid=47699)\u001b[0m Epoch 6: train loss 0.024207089096307755, accuracy 0.6921182266009852\n",
      "\u001b[36m(ClientAppActor pid=47702)\u001b[0m Epoch 7: train loss 0.054855827242136, accuracy 0.34648636665927735\n",
      "\u001b[36m(ClientAppActor pid=47703)\u001b[0m Epoch 4: train loss 0.04874967783689499, accuracy 0.2882991556091677\n",
      "\u001b[36m(ClientAppActor pid=47704)\u001b[0m Epoch 4: train loss 0.037064433097839355, accuracy 0.4718543046357616\n",
      "\u001b[36m(ClientAppActor pid=47701)\u001b[0m Epoch 5: train loss 0.029533328488469124, accuracy 0.5850470035252644\n",
      "\u001b[36m(ClientAppActor pid=47699)\u001b[0m Epoch 7: train loss 0.023332718759775162, accuracy 0.6921182266009852\n",
      "\u001b[36m(ClientAppActor pid=47700)\u001b[0m Epoch 5: train loss 0.03256668522953987, accuracy 0.46948024359155927\n",
      "\u001b[36m(ClientAppActor pid=47702)\u001b[0m Epoch 8: train loss 0.054101549088954926, accuracy 0.34648636665927735\n",
      "\u001b[36m(ClientAppActor pid=47699)\u001b[0m Epoch 8: train loss 0.021817388013005257, accuracy 0.6921182266009852\n",
      "\u001b[36m(ClientAppActor pid=47703)\u001b[0m Epoch 5: train loss 0.04775532707571983, accuracy 0.28612786489746683\n",
      "\u001b[36m(ClientAppActor pid=47701)\u001b[0m Epoch 6: train loss 0.0320289246737957, accuracy 0.5850470035252644\n",
      "\u001b[36m(ClientAppActor pid=47704)\u001b[0m Epoch 5: train loss 0.038006171584129333, accuracy 0.4718543046357616\n",
      "\u001b[36m(ClientAppActor pid=47700)\u001b[0m Epoch 6: train loss 0.03281550109386444, accuracy 0.46948024359155927\n",
      "\u001b[36m(ClientAppActor pid=47701)\u001b[0m Epoch 7: train loss 0.03240535408258438, accuracy 0.5850470035252644\n",
      "\u001b[36m(ClientAppActor pid=47703)\u001b[0m Epoch 6: train loss 0.04819565638899803, accuracy 0.2802171290711701\n",
      "\u001b[36m(ClientAppActor pid=47700)\u001b[0m Epoch 7: train loss 0.03273731470108032, accuracy 0.46948024359155927\n",
      "\u001b[36m(ClientAppActor pid=47704)\u001b[0m Epoch 6: train loss 0.03667879104614258, accuracy 0.4718543046357616\n",
      "\u001b[36m(ClientAppActor pid=47701)\u001b[0m Epoch 8: train loss 0.03025832585990429, accuracy 0.5850470035252644\n",
      "\u001b[36m(ClientAppActor pid=47700)\u001b[0m Epoch 8: train loss 0.03264033421874046, accuracy 0.46948024359155927\n",
      "\u001b[36m(ClientAppActor pid=47703)\u001b[0m Epoch 7: train loss 0.048154547810554504, accuracy 0.2802171290711701\n",
      "\u001b[36m(ClientAppActor pid=47704)\u001b[0m Epoch 7: train loss 0.03573247045278549, accuracy 0.46144749290444653\n",
      "\u001b[36m(ClientAppActor pid=47703)\u001b[0m Epoch 8: train loss 0.047779545187950134, accuracy 0.28311218335343785\n"
     ]
    },
    {
     "name": "stderr",
     "output_type": "stream",
     "text": [
      "\u001b[92mINFO \u001b[0m:      aggregate_fit: received 6 results and 0 failures\n"
     ]
    },
    {
     "name": "stdout",
     "output_type": "stream",
     "text": [
      "\u001b[36m(ClientAppActor pid=47704)\u001b[0m Epoch 8: train loss 0.03589506074786186, accuracy 0.39829706717123936\n"
     ]
    },
    {
     "name": "stderr",
     "output_type": "stream",
     "text": [
      "\u001b[92mINFO \u001b[0m:      fit progress: (12, 0.08086279973983765, {'accuracy': 0.1}, 14983.439610624919)\n",
      "\u001b[92mINFO \u001b[0m:      configure_evaluate: strategy sampled 6 clients (out of 6)\n"
     ]
    },
    {
     "name": "stdout",
     "output_type": "stream",
     "text": [
      "\u001b[36m(ClientAppActor pid=47704)\u001b[0m [Client 3] evaluate, config: {}\n"
     ]
    },
    {
     "name": "stderr",
     "output_type": "stream",
     "text": [
      "\u001b[36m(ClientAppActor pid=47704)\u001b[0m /Users/macbook/Desktop/L361/L361_Project/.conda/lib/python3.12/site-packages/datasets/utils/_dill.py:385: DeprecationWarning: co_lnotab is deprecated, use co_lines instead.\u001b[32m [repeated 6x across cluster]\u001b[0m\n",
      "\u001b[36m(ClientAppActor pid=47704)\u001b[0m   obj.co_lnotab,  # for < python 3.10 [not counted in args]\u001b[32m [repeated 6x across cluster]\u001b[0m\n",
      "\u001b[36m(ClientAppActor pid=47700)\u001b[0m /Users/macbook/Desktop/L361/L361_Project/.conda/lib/python3.12/site-packages/datasets/utils/_dill.py:385: DeprecationWarning: co_lnotab is deprecated, use co_lines instead.\u001b[32m [repeated 5x across cluster]\u001b[0m\n",
      "\u001b[36m(ClientAppActor pid=47700)\u001b[0m   obj.co_lnotab,  # for < python 3.10 [not counted in args]\u001b[32m [repeated 5x across cluster]\u001b[0m\n"
     ]
    },
    {
     "name": "stdout",
     "output_type": "stream",
     "text": [
      "\u001b[36m(ClientAppActor pid=47700)\u001b[0m [Client 2] evaluate, config: {}\u001b[32m [repeated 5x across cluster]\u001b[0m\n"
     ]
    },
    {
     "name": "stderr",
     "output_type": "stream",
     "text": [
      "\u001b[92mINFO \u001b[0m:      aggregate_evaluate: received 6 results and 0 failures\n",
      "\u001b[92mINFO \u001b[0m:      \n",
      "\u001b[92mINFO \u001b[0m:      [ROUND 13]\n",
      "\u001b[92mINFO \u001b[0m:      configure_fit: strategy sampled 6 clients (out of 6)\n",
      "\u001b[36m(ClientAppActor pid=47702)\u001b[0m /Users/macbook/Desktop/L361/L361_Project/.conda/lib/python3.12/site-packages/datasets/utils/_dill.py:385: DeprecationWarning: co_lnotab is deprecated, use co_lines instead.\n",
      "\u001b[36m(ClientAppActor pid=47702)\u001b[0m   obj.co_lnotab,  # for < python 3.10 [not counted in args]\n"
     ]
    },
    {
     "name": "stdout",
     "output_type": "stream",
     "text": [
      "\u001b[36m(ClientAppActor pid=47702)\u001b[0m [Client 4] fit, config: {}\n"
     ]
    },
    {
     "name": "stderr",
     "output_type": "stream",
     "text": [
      "\u001b[36m(ClientAppActor pid=47700)\u001b[0m /Users/macbook/Desktop/L361/L361_Project/.conda/lib/python3.12/site-packages/datasets/utils/_dill.py:385: DeprecationWarning: co_lnotab is deprecated, use co_lines instead.\n",
      "\u001b[36m(ClientAppActor pid=47700)\u001b[0m   obj.co_lnotab,  # for < python 3.10 [not counted in args]\n"
     ]
    },
    {
     "name": "stdout",
     "output_type": "stream",
     "text": [
      "\u001b[36m(ClientAppActor pid=47701)\u001b[0m Epoch 1: train loss 0.07173827290534973, accuracy 0.1072932830857903\n",
      "\u001b[36m(ClientAppActor pid=47699)\u001b[0m [Client 2] fit, config: {}\u001b[32m [repeated 5x across cluster]\u001b[0m\n",
      "\u001b[36m(ClientAppActor pid=47704)\u001b[0m Epoch 1: train loss 0.06146080419421196, accuracy 0.24281609195402298\n",
      "\u001b[36m(ClientAppActor pid=47700)\u001b[0m Epoch 1: train loss 0.08095256239175797, accuracy 0.23237367802585193\n",
      "\u001b[36m(ClientAppActor pid=47699)\u001b[0m Epoch 1: train loss 0.050110626965761185, accuracy 0.3527828919416513\n",
      "\u001b[36m(ClientAppActor pid=47702)\u001b[0m Epoch 1: train loss 0.06815990805625916, accuracy 0.2632450331125828\n",
      "\u001b[36m(ClientAppActor pid=47701)\u001b[0m Epoch 2: train loss 0.061931103467941284, accuracy 0.1855464420305919\u001b[32m [repeated 2x across cluster]\u001b[0m\n",
      "\u001b[36m(ClientAppActor pid=47704)\u001b[0m Epoch 2: train loss 0.042194534093141556, accuracy 0.30049261083743845\n",
      "\u001b[36m(ClientAppActor pid=47700)\u001b[0m Epoch 2: train loss 0.054299790412187576, accuracy 0.3528202115158637\n",
      "\u001b[36m(ClientAppActor pid=47701)\u001b[0m Epoch 3: train loss 0.05618779733777046, accuracy 0.22655730436710264\n",
      "\u001b[36m(ClientAppActor pid=47699)\u001b[0m Epoch 2: train loss 0.036523398011922836, accuracy 0.46948024359155927\n",
      "\u001b[36m(ClientAppActor pid=47704)\u001b[0m Epoch 3: train loss 0.02936367876827717, accuracy 0.5648604269293924\n",
      "\u001b[36m(ClientAppActor pid=47702)\u001b[0m Epoch 2: train loss 0.04488945007324219, accuracy 0.39829706717123936\n",
      "\u001b[36m(ClientAppActor pid=47703)\u001b[0m Epoch 2: train loss 0.04867793992161751, accuracy 0.28118214716525936\n",
      "\u001b[36m(ClientAppActor pid=47701)\u001b[0m Epoch 4: train loss 0.05359787121415138, accuracy 0.34648636665927735\n",
      "\u001b[36m(ClientAppActor pid=47704)\u001b[0m Epoch 4: train loss 0.023145820945501328, accuracy 0.6921182266009852\n",
      "\u001b[36m(ClientAppActor pid=47700)\u001b[0m Epoch 3: train loss 0.04136053845286369, accuracy 0.3528202115158637\n",
      "\u001b[36m(ClientAppActor pid=47699)\u001b[0m Epoch 3: train loss 0.03378279134631157, accuracy 0.46948024359155927\n",
      "\u001b[36m(ClientAppActor pid=47701)\u001b[0m Epoch 5: train loss 0.05404136702418327, accuracy 0.34648636665927735\n",
      "\u001b[36m(ClientAppActor pid=47704)\u001b[0m Epoch 5: train loss 0.023140886798501015, accuracy 0.6921182266009852\n",
      "\u001b[36m(ClientAppActor pid=47702)\u001b[0m Epoch 3: train loss 0.037393275648355484, accuracy 0.40480132450331124\n",
      "\u001b[36m(ClientAppActor pid=47700)\u001b[0m Epoch 4: train loss 0.03236952796578407, accuracy 0.4192126909518214\u001b[32m [repeated 2x across cluster]\u001b[0m\n",
      "\u001b[36m(ClientAppActor pid=47701)\u001b[0m Epoch 6: train loss 0.05517106503248215, accuracy 0.34648636665927735\n",
      "\u001b[36m(ClientAppActor pid=47699)\u001b[0m Epoch 4: train loss 0.032959841191768646, accuracy 0.46948024359155927\n",
      "\u001b[36m(ClientAppActor pid=47704)\u001b[0m Epoch 6: train loss 0.024159014225006104, accuracy 0.6921182266009852\n",
      "\u001b[36m(ClientAppActor pid=47701)\u001b[0m Epoch 7: train loss 0.0551583357155323, accuracy 0.34648636665927735\n",
      "\u001b[36m(ClientAppActor pid=47702)\u001b[0m Epoch 4: train loss 0.03737771511077881, accuracy 0.4718543046357616\n",
      "\u001b[36m(ClientAppActor pid=47700)\u001b[0m Epoch 5: train loss 0.029389893636107445, accuracy 0.5850470035252644\n",
      "\u001b[36m(ClientAppActor pid=47704)\u001b[0m Epoch 7: train loss 0.023602962493896484, accuracy 0.6921182266009852\u001b[32m [repeated 2x across cluster]\u001b[0m\n",
      "\u001b[36m(ClientAppActor pid=47699)\u001b[0m Epoch 5: train loss 0.03261392563581467, accuracy 0.46948024359155927\n",
      "\u001b[36m(ClientAppActor pid=47701)\u001b[0m Epoch 8: train loss 0.05434080585837364, accuracy 0.34648636665927735\n",
      "\u001b[36m(ClientAppActor pid=47704)\u001b[0m Epoch 8: train loss 0.022096309810876846, accuracy 0.6921182266009852\n",
      "\u001b[36m(ClientAppActor pid=47700)\u001b[0m Epoch 6: train loss 0.03138862922787666, accuracy 0.5850470035252644\n",
      "\u001b[36m(ClientAppActor pid=47702)\u001b[0m Epoch 5: train loss 0.03832808881998062, accuracy 0.4718543046357616\n",
      "\u001b[36m(ClientAppActor pid=47699)\u001b[0m Epoch 6: train loss 0.03290608152747154, accuracy 0.46948024359155927\n",
      "\u001b[36m(ClientAppActor pid=47700)\u001b[0m Epoch 7: train loss 0.03211432322859764, accuracy 0.5850470035252644\u001b[32m [repeated 2x across cluster]\u001b[0m\n",
      "\u001b[36m(ClientAppActor pid=47699)\u001b[0m \n",
      "\u001b[36m(ClientAppActor pid=47699)\u001b[0m Epoch 7: train loss 0.03280266374349594, accuracy 0.46948024359155927\n",
      "\u001b[36m(ClientAppActor pid=47702)\u001b[0m Epoch 6: train loss 0.036363255232572556, accuracy 0.4718543046357616\n",
      "\u001b[36m(ClientAppActor pid=47703)\u001b[0m Epoch 6: train loss 0.04820818826556206, accuracy 0.2802171290711701\n",
      "\u001b[36m(ClientAppActor pid=47700)\u001b[0m Epoch 8: train loss 0.03041408397257328, accuracy 0.5850470035252644\n",
      "\u001b[36m(ClientAppActor pid=47699)\u001b[0m Epoch 8: train loss 0.032665595412254333, accuracy 0.46948024359155927\n",
      "\u001b[36m(ClientAppActor pid=47702)\u001b[0m Epoch 7: train loss 0.03573884814977646, accuracy 0.46050141911069065\n",
      "\u001b[36m(ClientAppActor pid=47703)\u001b[0m Epoch 7: train loss 0.04805631563067436, accuracy 0.2802171290711701\n",
      "\u001b[36m(ClientAppActor pid=47702)\u001b[0m Epoch 8: train loss 0.035891093313694, accuracy 0.39829706717123936\n",
      "\u001b[36m(ClientAppActor pid=47703)\u001b[0m Epoch 8: train loss 0.047750987112522125, accuracy 0.2825090470446321\n"
     ]
    },
    {
     "name": "stderr",
     "output_type": "stream",
     "text": [
      "\u001b[92mINFO \u001b[0m:      aggregate_fit: received 6 results and 0 failures\n",
      "\u001b[92mINFO \u001b[0m:      fit progress: (13, 0.07827812218666076, {'accuracy': 0.1}, 16221.36060745793)\n",
      "\u001b[92mINFO \u001b[0m:      configure_evaluate: strategy sampled 6 clients (out of 6)\n",
      "\u001b[36m(ClientAppActor pid=47703)\u001b[0m /Users/macbook/Desktop/L361/L361_Project/.conda/lib/python3.12/site-packages/datasets/utils/_dill.py:385: DeprecationWarning: co_lnotab is deprecated, use co_lines instead.\u001b[32m [repeated 5x across cluster]\u001b[0m\n",
      "\u001b[36m(ClientAppActor pid=47703)\u001b[0m   obj.co_lnotab,  # for < python 3.10 [not counted in args]\u001b[32m [repeated 5x across cluster]\u001b[0m\n"
     ]
    },
    {
     "name": "stdout",
     "output_type": "stream",
     "text": [
      "\u001b[36m(ClientAppActor pid=47703)\u001b[0m [Client 1] evaluate, config: {}\n"
     ]
    },
    {
     "name": "stderr",
     "output_type": "stream",
     "text": [
      "\u001b[92mINFO \u001b[0m:      aggregate_evaluate: received 6 results and 0 failures\n",
      "\u001b[92mINFO \u001b[0m:      \n",
      "\u001b[92mINFO \u001b[0m:      [ROUND 14]\n",
      "\u001b[92mINFO \u001b[0m:      configure_fit: strategy sampled 6 clients (out of 6)\n",
      "\u001b[36m(ClientAppActor pid=47702)\u001b[0m /Users/macbook/Desktop/L361/L361_Project/.conda/lib/python3.12/site-packages/datasets/utils/_dill.py:385: DeprecationWarning: co_lnotab is deprecated, use co_lines instead.\u001b[32m [repeated 6x across cluster]\u001b[0m\n",
      "\u001b[36m(ClientAppActor pid=47702)\u001b[0m   obj.co_lnotab,  # for < python 3.10 [not counted in args]\u001b[32m [repeated 6x across cluster]\u001b[0m\n"
     ]
    },
    {
     "name": "stdout",
     "output_type": "stream",
     "text": [
      "\u001b[36m(ClientAppActor pid=47702)\u001b[0m [Client 4] fit, config: {}\n",
      "\u001b[36m(ClientAppActor pid=47700)\u001b[0m [Client 5] evaluate, config: {}\u001b[32m [repeated 5x across cluster]\u001b[0m\n",
      "\u001b[36m(ClientAppActor pid=47699)\u001b[0m Epoch 1: train loss 0.07276210933923721, accuracy 0.11948570161826647\n",
      "\u001b[36m(ClientAppActor pid=47701)\u001b[0m [Client 2] fit, config: {}\u001b[32m [repeated 5x across cluster]\u001b[0m\n",
      "\u001b[36m(ClientAppActor pid=47703)\u001b[0m Epoch 1: train loss 0.05915730446577072, accuracy 0.2965927750410509\n",
      "\u001b[36m(ClientAppActor pid=47700)\u001b[0m Epoch 1: train loss 0.07720465213060379, accuracy 0.24339012925969447\n",
      "\u001b[36m(ClientAppActor pid=47701)\u001b[0m Epoch 1: train loss 0.05017642304301262, accuracy 0.39385356181843933\n",
      "\u001b[36m(ClientAppActor pid=47704)\u001b[0m Epoch 1: train loss 0.05975181609392166, accuracy 0.2482509047044632\n",
      "\u001b[36m(ClientAppActor pid=47702)\u001b[0m Epoch 1: train loss 0.06605212390422821, accuracy 0.27767265846736044\n",
      "\u001b[36m(ClientAppActor pid=47699)\u001b[0m Epoch 2: train loss 0.06263814121484756, accuracy 0.1855464420305919\n",
      "\u001b[36m(ClientAppActor pid=47703)\u001b[0m Epoch 2: train loss 0.04063527658581734, accuracy 0.30049261083743845\n",
      "\u001b[36m(ClientAppActor pid=47699)\u001b[0m Epoch 3: train loss 0.056878332048654556, accuracy 0.1855464420305919\n",
      "\u001b[36m(ClientAppActor pid=47701)\u001b[0m Epoch 2: train loss 0.036318156868219376, accuracy 0.46948024359155927\u001b[32m [repeated 2x across cluster]\u001b[0m\n",
      "\u001b[36m(ClientAppActor pid=47703)\u001b[0m Epoch 3: train loss 0.02843622863292694, accuracy 0.6338259441707718\n",
      "\u001b[36m(ClientAppActor pid=47704)\u001b[0m Epoch 2: train loss 0.04928918927907944, accuracy 0.26417370325693607\n",
      "\u001b[36m(ClientAppActor pid=47702)\u001b[0m Epoch 2: train loss 0.045098356902599335, accuracy 0.39829706717123936\n",
      "\u001b[36m(ClientAppActor pid=47699)\u001b[0m Epoch 4: train loss 0.053814597427845, accuracy 0.3462646863223232\n",
      "\u001b[36m(ClientAppActor pid=47703)\u001b[0m Epoch 4: train loss 0.023093385621905327, accuracy 0.6921182266009852\n",
      "\u001b[36m(ClientAppActor pid=47700)\u001b[0m Epoch 3: train loss 0.040152404457330704, accuracy 0.3528202115158637\n",
      "\u001b[36m(ClientAppActor pid=47701)\u001b[0m Epoch 3: train loss 0.03361351788043976, accuracy 0.46948024359155927\n",
      "\u001b[36m(ClientAppActor pid=47699)\u001b[0m Epoch 5: train loss 0.05378903076052666, accuracy 0.34648636665927735\n",
      "\u001b[36m(ClientAppActor pid=47703)\u001b[0m Epoch 5: train loss 0.023028699681162834, accuracy 0.6921182266009852\n",
      "\u001b[36m(ClientAppActor pid=47704)\u001b[0m Epoch 3: train loss 0.04873931407928467, accuracy 0.2882991556091677\n",
      "\u001b[36m(ClientAppActor pid=47702)\u001b[0m Epoch 3: train loss 0.03762048855423927, accuracy 0.39853358561967833\n",
      "\u001b[36m(ClientAppActor pid=47700)\u001b[0m Epoch 4: train loss 0.031508710235357285, accuracy 0.45505287896592245\n",
      "\u001b[36m(ClientAppActor pid=47701)\u001b[0m Epoch 4: train loss 0.032954778522253036, accuracy 0.46948024359155927\u001b[32m [repeated 2x across cluster]\u001b[0m\n",
      "\u001b[36m(ClientAppActor pid=47703)\u001b[0m Epoch 6: train loss 0.023648301139473915, accuracy 0.6921182266009852\n",
      "\u001b[36m(ClientAppActor pid=47699)\u001b[0m Epoch 7: train loss 0.05536162480711937, accuracy 0.34648636665927735\n",
      "\u001b[36m(ClientAppActor pid=47704)\u001b[0m Epoch 4: train loss 0.049060672521591187, accuracy 0.2882991556091677\n",
      "\u001b[36m(ClientAppActor pid=47702)\u001b[0m Epoch 4: train loss 0.037393637001514435, accuracy 0.4718543046357616\n",
      "\u001b[36m(ClientAppActor pid=47703)\u001b[0m Epoch 7: train loss 0.02317197434604168, accuracy 0.6921182266009852\u001b[32m [repeated 2x across cluster]\u001b[0m\n",
      "\u001b[36m(ClientAppActor pid=47701)\u001b[0m Epoch 5: train loss 0.03258325532078743, accuracy 0.46948024359155927\n",
      "\u001b[36m(ClientAppActor pid=47699)\u001b[0m Epoch 8: train loss 0.054620932787656784, accuracy 0.34648636665927735\n",
      "\u001b[36m(ClientAppActor pid=47703)\u001b[0m Epoch 8: train loss 0.021909844130277634, accuracy 0.6921182266009852\n",
      "\u001b[36m(ClientAppActor pid=47700)\u001b[0m Epoch 6: train loss 0.031627144664525986, accuracy 0.5850470035252644\n",
      "\u001b[36m(ClientAppActor pid=47702)\u001b[0m Epoch 5: train loss 0.03843434527516365, accuracy 0.4718543046357616\u001b[32m [repeated 2x across cluster]\u001b[0m\n",
      "\u001b[36m(ClientAppActor pid=47700)\u001b[0m Epoch 7: train loss 0.03176204860210419, accuracy 0.5850470035252644\u001b[32m [repeated 2x across cluster]\u001b[0m\n",
      "\u001b[36m(ClientAppActor pid=47704)\u001b[0m Epoch 6: train loss 0.04814301058650017, accuracy 0.2802171290711701\n",
      "\u001b[36m(ClientAppActor pid=47701)\u001b[0m Epoch 7: train loss 0.03273770213127136, accuracy 0.46948024359155927\n",
      "\u001b[36m(ClientAppActor pid=47702)\u001b[0m Epoch 6: train loss 0.03668753802776337, accuracy 0.4718543046357616\n",
      "\u001b[36m(ClientAppActor pid=47700)\u001b[0m Epoch 8: train loss 0.02982439287006855, accuracy 0.5850470035252644\n",
      "\u001b[36m(ClientAppActor pid=47701)\u001b[0m Epoch 8: train loss 0.032614681869745255, accuracy 0.46948024359155927\n",
      "\u001b[36m(ClientAppActor pid=47704)\u001b[0m Epoch 7: train loss 0.048242513090372086, accuracy 0.2802171290711701\n",
      "\u001b[36m(ClientAppActor pid=47702)\u001b[0m Epoch 7: train loss 0.03581223636865616, accuracy 0.4608561967833491\n",
      "\u001b[36m(ClientAppActor pid=47704)\u001b[0m Epoch 8: train loss 0.04779401049017906, accuracy 0.2802171290711701\n"
     ]
    },
    {
     "name": "stderr",
     "output_type": "stream",
     "text": [
      "\u001b[92mINFO \u001b[0m:      aggregate_fit: received 6 results and 0 failures\n"
     ]
    },
    {
     "name": "stdout",
     "output_type": "stream",
     "text": [
      "\u001b[36m(ClientAppActor pid=47702)\u001b[0m Epoch 8: train loss 0.03592376783490181, accuracy 0.39829706717123936\n"
     ]
    },
    {
     "name": "stderr",
     "output_type": "stream",
     "text": [
      "\u001b[92mINFO \u001b[0m:      fit progress: (14, 0.08072197122573853, {'accuracy': 0.1}, 17440.418340165983)\n",
      "\u001b[92mINFO \u001b[0m:      configure_evaluate: strategy sampled 6 clients (out of 6)\n",
      "\u001b[36m(ClientAppActor pid=47702)\u001b[0m /Users/macbook/Desktop/L361/L361_Project/.conda/lib/python3.12/site-packages/datasets/utils/_dill.py:385: DeprecationWarning: co_lnotab is deprecated, use co_lines instead.\u001b[32m [repeated 7x across cluster]\u001b[0m\n",
      "\u001b[36m(ClientAppActor pid=47702)\u001b[0m   obj.co_lnotab,  # for < python 3.10 [not counted in args]\u001b[32m [repeated 7x across cluster]\u001b[0m\n"
     ]
    },
    {
     "name": "stdout",
     "output_type": "stream",
     "text": [
      "\u001b[36m(ClientAppActor pid=47702)\u001b[0m [Client 0] evaluate, config: {}\n"
     ]
    },
    {
     "name": "stderr",
     "output_type": "stream",
     "text": [
      "\u001b[92mINFO \u001b[0m:      aggregate_evaluate: received 6 results and 0 failures\n",
      "\u001b[92mINFO \u001b[0m:      \n",
      "\u001b[92mINFO \u001b[0m:      [ROUND 15]\n",
      "\u001b[92mINFO \u001b[0m:      configure_fit: strategy sampled 6 clients (out of 6)\n",
      "\u001b[36m(ClientAppActor pid=47704)\u001b[0m /Users/macbook/Desktop/L361/L361_Project/.conda/lib/python3.12/site-packages/datasets/utils/_dill.py:385: DeprecationWarning: co_lnotab is deprecated, use co_lines instead.\u001b[32m [repeated 6x across cluster]\u001b[0m\n",
      "\u001b[36m(ClientAppActor pid=47704)\u001b[0m   obj.co_lnotab,  # for < python 3.10 [not counted in args]\u001b[32m [repeated 6x across cluster]\u001b[0m\n"
     ]
    },
    {
     "name": "stdout",
     "output_type": "stream",
     "text": [
      "\u001b[36m(ClientAppActor pid=47704)\u001b[0m [Client 2] fit, config: {}\n",
      "\u001b[36m(ClientAppActor pid=47701)\u001b[0m [Client 2] evaluate, config: {}\u001b[32m [repeated 5x across cluster]\u001b[0m\n",
      "\u001b[36m(ClientAppActor pid=47700)\u001b[0m Epoch 1: train loss 0.0719459280371666, accuracy 0.10418975836843272\n",
      "\u001b[36m(ClientAppActor pid=47701)\u001b[0m [Client 0] fit, config: {}\u001b[32m [repeated 5x across cluster]\u001b[0m\n",
      "\u001b[36m(ClientAppActor pid=47702)\u001b[0m Epoch 1: train loss 0.05984397605061531, accuracy 0.2536945812807882\n",
      "\u001b[36m(ClientAppActor pid=47699)\u001b[0m Epoch 1: train loss 0.08010564744472504, accuracy 0.22943595769682726\n",
      "\u001b[36m(ClientAppActor pid=47704)\u001b[0m Epoch 1: train loss 0.049848154187202454, accuracy 0.3741679648774961\n",
      "\u001b[36m(ClientAppActor pid=47703)\u001b[0m Epoch 1: train loss 0.06845057010650635, accuracy 0.23013245033112584\n",
      "\u001b[36m(ClientAppActor pid=47700)\u001b[0m Epoch 2: train loss 0.06237037852406502, accuracy 0.1855464420305919\u001b[32m [repeated 2x across cluster]\u001b[0m\n",
      "\u001b[36m(ClientAppActor pid=47702)\u001b[0m Epoch 2: train loss 0.04101213812828064, accuracy 0.30049261083743845\n",
      "\u001b[36m(ClientAppActor pid=47699)\u001b[0m Epoch 2: train loss 0.052406325936317444, accuracy 0.3528202115158637\n",
      "\u001b[36m(ClientAppActor pid=47704)\u001b[0m Epoch 2: train loss 0.03710566833615303, accuracy 0.46948024359155927\u001b[32m [repeated 2x across cluster]\u001b[0m\n",
      "\u001b[36m(ClientAppActor pid=47701)\u001b[0m Epoch 2: train loss 0.04881773144006729, accuracy 0.2800965018094089\u001b[32m [repeated 2x across cluster]\u001b[0m\n",
      "\u001b[36m(ClientAppActor pid=47700)\u001b[0m Epoch 4: train loss 0.053509678691625595, accuracy 0.34648636665927735\u001b[32m [repeated 2x across cluster]\u001b[0m\n",
      "\u001b[36m(ClientAppActor pid=47702)\u001b[0m Epoch 4: train loss 0.023174548521637917, accuracy 0.6921182266009852\n",
      "\u001b[36m(ClientAppActor pid=47699)\u001b[0m Epoch 3: train loss 0.03947523236274719, accuracy 0.3528202115158637\n",
      "\u001b[36m(ClientAppActor pid=47704)\u001b[0m Epoch 3: train loss 0.034017421305179596, accuracy 0.46948024359155927\n",
      "\u001b[36m(ClientAppActor pid=47700)\u001b[0m Epoch 5: train loss 0.05406467244029045, accuracy 0.34648636665927735\n",
      "\u001b[36m(ClientAppActor pid=47702)\u001b[0m Epoch 5: train loss 0.023110687732696533, accuracy 0.6921182266009852\n",
      "\u001b[36m(ClientAppActor pid=47701)\u001b[0m Epoch 3: train loss 0.04895556718111038, accuracy 0.2882991556091677\n",
      "\u001b[36m(ClientAppActor pid=47699)\u001b[0m Epoch 4: train loss 0.031130153685808182, accuracy 0.47840775558166865\u001b[32m [repeated 2x across cluster]\u001b[0m\n",
      "\u001b[36m(ClientAppActor pid=47700)\u001b[0m Epoch 6: train loss 0.055360835045576096, accuracy 0.34648636665927735\n",
      "\u001b[36m(ClientAppActor pid=47704)\u001b[0m Epoch 4: train loss 0.03312144801020622, accuracy 0.46948024359155927\n",
      "\u001b[36m(ClientAppActor pid=47702)\u001b[0m \n",
      "\u001b[36m(ClientAppActor pid=47700)\u001b[0m Epoch 7: train loss 0.0554189458489418, accuracy 0.34648636665927735\u001b[32m [repeated 2x across cluster]\u001b[0m\n",
      "\u001b[36m(ClientAppActor pid=47699)\u001b[0m Epoch 5: train loss 0.029769083485007286, accuracy 0.5850470035252644\n",
      "\u001b[36m(ClientAppActor pid=47702)\u001b[0m Epoch 7: train loss 0.023279517889022827, accuracy 0.6921182266009852\n",
      "\u001b[36m(ClientAppActor pid=47700)\u001b[0m Epoch 8: train loss 0.05457891896367073, accuracy 0.34648636665927735\u001b[32m [repeated 3x across cluster]\u001b[0m\n",
      "\u001b[36m(ClientAppActor pid=47702)\u001b[0m Epoch 8: train loss 0.022010480985045433, accuracy 0.6921182266009852\u001b[32m [repeated 2x across cluster]\u001b[0m\n",
      "\u001b[36m(ClientAppActor pid=47699)\u001b[0m Epoch 6: train loss 0.03168228268623352, accuracy 0.5850470035252644\n",
      "\u001b[36m(ClientAppActor pid=47701)\u001b[0m Epoch 5: train loss 0.04785613343119621, accuracy 0.27913148371531965\n",
      "\u001b[36m(ClientAppActor pid=47703)\u001b[0m Epoch 5: train loss 0.03879435360431671, accuracy 0.4718543046357616\n",
      "\u001b[36m(ClientAppActor pid=47704)\u001b[0m Epoch 6: train loss 0.03266007825732231, accuracy 0.46948024359155927\n",
      "\u001b[36m(ClientAppActor pid=47699)\u001b[0m Epoch 7: train loss 0.031521543860435486, accuracy 0.5850470035252644\n",
      "\u001b[36m(ClientAppActor pid=47704)\u001b[0m Epoch 7: train loss 0.03276139870285988, accuracy 0.46948024359155927\n",
      "\u001b[36m(ClientAppActor pid=47701)\u001b[0m Epoch 6: train loss 0.04812107980251312, accuracy 0.2802171290711701\n",
      "\u001b[36m(ClientAppActor pid=47703)\u001b[0m Epoch 6: train loss 0.036884136497974396, accuracy 0.4718543046357616\n",
      "\u001b[36m(ClientAppActor pid=47699)\u001b[0m Epoch 8: train loss 0.0295854602009058, accuracy 0.5850470035252644\n",
      "\u001b[36m(ClientAppActor pid=47704)\u001b[0m Epoch 8: train loss 0.03261656314134598, accuracy 0.46948024359155927\n",
      "\u001b[36m(ClientAppActor pid=47701)\u001b[0m Epoch 7: train loss 0.04816048592329025, accuracy 0.2802171290711701\n",
      "\u001b[36m(ClientAppActor pid=47703)\u001b[0m Epoch 7: train loss 0.03589841350913048, accuracy 0.4356669820245979\n",
      "\u001b[36m(ClientAppActor pid=47701)\u001b[0m Epoch 8: train loss 0.04780023172497749, accuracy 0.28190591073582627\n"
     ]
    },
    {
     "name": "stderr",
     "output_type": "stream",
     "text": [
      "\u001b[92mINFO \u001b[0m:      aggregate_fit: received 6 results and 0 failures\n"
     ]
    },
    {
     "name": "stdout",
     "output_type": "stream",
     "text": [
      "\u001b[36m(ClientAppActor pid=47703)\u001b[0m Epoch 8: train loss 0.03602294251322746, accuracy 0.39829706717123936\n"
     ]
    },
    {
     "name": "stderr",
     "output_type": "stream",
     "text": [
      "\u001b[92mINFO \u001b[0m:      fit progress: (15, 0.07853717896938324, {'accuracy': 0.1}, 18665.780397332972)\n",
      "\u001b[92mINFO \u001b[0m:      configure_evaluate: strategy sampled 6 clients (out of 6)\n",
      "\u001b[36m(ClientAppActor pid=47704)\u001b[0m /Users/macbook/Desktop/L361/L361_Project/.conda/lib/python3.12/site-packages/datasets/utils/_dill.py:385: DeprecationWarning: co_lnotab is deprecated, use co_lines instead.\u001b[32m [repeated 7x across cluster]\u001b[0m\n",
      "\u001b[36m(ClientAppActor pid=47704)\u001b[0m   obj.co_lnotab,  # for < python 3.10 [not counted in args]\u001b[32m [repeated 7x across cluster]\u001b[0m\n"
     ]
    },
    {
     "name": "stdout",
     "output_type": "stream",
     "text": [
      "\u001b[36m(ClientAppActor pid=47704)\u001b[0m [Client 5] evaluate, config: {}\n"
     ]
    },
    {
     "name": "stderr",
     "output_type": "stream",
     "text": [
      "\u001b[92mINFO \u001b[0m:      aggregate_evaluate: received 6 results and 0 failures\n",
      "\u001b[92mINFO \u001b[0m:      \n",
      "\u001b[92mINFO \u001b[0m:      [ROUND 16]\n",
      "\u001b[92mINFO \u001b[0m:      configure_fit: strategy sampled 6 clients (out of 6)\n"
     ]
    },
    {
     "name": "stdout",
     "output_type": "stream",
     "text": [
      "\u001b[36m(ClientAppActor pid=47701)\u001b[0m [Client 4] fit, config: {}\n",
      "\u001b[36m(ClientAppActor pid=47701)\u001b[0m [Client 3] evaluate, config: {}\u001b[32m [repeated 5x across cluster]\u001b[0m\n"
     ]
    },
    {
     "name": "stderr",
     "output_type": "stream",
     "text": [
      "\u001b[36m(ClientAppActor pid=47701)\u001b[0m /Users/macbook/Desktop/L361/L361_Project/.conda/lib/python3.12/site-packages/datasets/utils/_dill.py:385: DeprecationWarning: co_lnotab is deprecated, use co_lines instead.\u001b[32m [repeated 6x across cluster]\u001b[0m\n",
      "\u001b[36m(ClientAppActor pid=47701)\u001b[0m   obj.co_lnotab,  # for < python 3.10 [not counted in args]\u001b[32m [repeated 6x across cluster]\u001b[0m\n",
      "\u001b[36m(ClientAppActor pid=47703)\u001b[0m /Users/macbook/Desktop/L361/L361_Project/.conda/lib/python3.12/site-packages/datasets/utils/_dill.py:385: DeprecationWarning: co_lnotab is deprecated, use co_lines instead.\u001b[32m [repeated 6x across cluster]\u001b[0m\n",
      "\u001b[36m(ClientAppActor pid=47703)\u001b[0m   obj.co_lnotab,  # for < python 3.10 [not counted in args]\u001b[32m [repeated 6x across cluster]\u001b[0m\n"
     ]
    },
    {
     "name": "stdout",
     "output_type": "stream",
     "text": [
      "\u001b[36m(ClientAppActor pid=47703)\u001b[0m [Client 1] fit, config: {}\u001b[32m [repeated 5x across cluster]\u001b[0m\n",
      "\u001b[36m(ClientAppActor pid=47702)\u001b[0m Epoch 1: train loss 0.07467455416917801, accuracy 0.10352471735757038\n",
      "\u001b[36m(ClientAppActor pid=47704)\u001b[0m Epoch 1: train loss 0.058791693300008774, accuracy 0.30049261083743845\n",
      "\u001b[36m(ClientAppActor pid=47699)\u001b[0m Epoch 1: train loss 0.049710456281900406, accuracy 0.45333522163999435\n",
      "\u001b[36m(ClientAppActor pid=47703)\u001b[0m Epoch 1: train loss 0.07679805159568787, accuracy 0.21195652173913043\n",
      "\u001b[36m(ClientAppActor pid=47700)\u001b[0m Epoch 1: train loss 0.06082460656762123, accuracy 0.24933655006031363\n",
      "\u001b[36m(ClientAppActor pid=47702)\u001b[0m Epoch 2: train loss 0.06399005651473999, accuracy 0.1855464420305919\u001b[32m [repeated 2x across cluster]\u001b[0m\n",
      "\u001b[36m(ClientAppActor pid=47704)\u001b[0m Epoch 2: train loss 0.040158215910196304, accuracy 0.30049261083743845\n",
      "\u001b[36m(ClientAppActor pid=47702)\u001b[0m Epoch 3: train loss 0.05776581913232803, accuracy 0.1855464420305919\n",
      "\u001b[36m(ClientAppActor pid=47699)\u001b[0m Epoch 2: train loss 0.036603089421987534, accuracy 0.46948024359155927\n",
      "\u001b[36m(ClientAppActor pid=47703)\u001b[0m Epoch 2: train loss 0.05211970582604408, accuracy 0.3528202115158637\n",
      "\u001b[36m(ClientAppActor pid=47704)\u001b[0m Epoch 3: train loss 0.027879921719431877, accuracy 0.6541461412151067\n",
      "\u001b[36m(ClientAppActor pid=47700)\u001b[0m Epoch 2: train loss 0.04956193268299103, accuracy 0.2545235223160434\n",
      "\u001b[36m(ClientAppActor pid=47701)\u001b[0m Epoch 2: train loss 0.04488296061754227, accuracy 0.39829706717123936\n",
      "\u001b[36m(ClientAppActor pid=47702)\u001b[0m Epoch 4: train loss 0.053993064910173416, accuracy 0.30348038129017957\n",
      "\u001b[36m(ClientAppActor pid=47704)\u001b[0m Epoch 4: train loss 0.023017866536974907, accuracy 0.6921182266009852\n",
      "\u001b[36m(ClientAppActor pid=47699)\u001b[0m Epoch 3: train loss 0.03391077369451523, accuracy 0.46948024359155927\n",
      "\u001b[36m(ClientAppActor pid=47702)\u001b[0m Epoch 5: train loss 0.053557440638542175, accuracy 0.34648636665927735\u001b[32m [repeated 2x across cluster]\u001b[0m\n",
      "\u001b[36m(ClientAppActor pid=47704)\u001b[0m Epoch 5: train loss 0.023323575034737587, accuracy 0.6921182266009852\n",
      "\u001b[36m(ClientAppActor pid=47700)\u001b[0m Epoch 3: train loss 0.04849167913198471, accuracy 0.28950542822677927\n",
      "\u001b[36m(ClientAppActor pid=47701)\u001b[0m Epoch 3: train loss 0.0375298336148262, accuracy 0.40385525070955536\n",
      "\u001b[36m(ClientAppActor pid=47702)\u001b[0m Epoch 6: train loss 0.05511525645852089, accuracy 0.34648636665927735\n",
      "\u001b[36m(ClientAppActor pid=47703)\u001b[0m Epoch 4: train loss 0.030833259224891663, accuracy 0.483695652173913\n",
      "\u001b[36m(ClientAppActor pid=47699)\u001b[0m Epoch 4: train loss 0.03324368968605995, accuracy 0.46948024359155927\n",
      "\u001b[36m(ClientAppActor pid=47704)\u001b[0m Epoch 6: train loss 0.023819701746106148, accuracy 0.6921182266009852\n",
      "\u001b[36m(ClientAppActor pid=47702)\u001b[0m Epoch 7: train loss 0.05586693063378334, accuracy 0.34648636665927735\n",
      "\u001b[36m(ClientAppActor pid=47700)\u001b[0m Epoch 4: train loss 0.04936227947473526, accuracy 0.2882991556091677\n",
      "\u001b[36m(ClientAppActor pid=47701)\u001b[0m Epoch 4: train loss 0.03758905827999115, accuracy 0.4718543046357616\n",
      "\u001b[36m(ClientAppActor pid=47704)\u001b[0m Epoch 7: train loss 0.02296932227909565, accuracy 0.6921182266009852\n",
      "\u001b[36m(ClientAppActor pid=47703)\u001b[0m Epoch 5: train loss 0.029790975153446198, accuracy 0.5850470035252644\n",
      "\u001b[36m(ClientAppActor pid=47702)\u001b[0m Epoch 8: train loss 0.05531005933880806, accuracy 0.34648636665927735\u001b[32m [repeated 2x across cluster]\u001b[0m\n",
      "\u001b[36m(ClientAppActor pid=47704)\u001b[0m Epoch 8: train loss 0.021696165204048157, accuracy 0.6921182266009852\n",
      "\u001b[36m(ClientAppActor pid=47700)\u001b[0m Epoch 5: train loss 0.04794444143772125, accuracy 0.28805790108564533\n",
      "\u001b[36m(ClientAppActor pid=47703)\u001b[0m Epoch 6: train loss 0.03183053806424141, accuracy 0.5850470035252644\n",
      "\u001b[36m(ClientAppActor pid=47699)\u001b[0m Epoch 6: train loss 0.03262324258685112, accuracy 0.46948024359155927\n",
      "\u001b[36m(ClientAppActor pid=47703)\u001b[0m Epoch 7: train loss 0.03150436282157898, accuracy 0.5850470035252644\u001b[32m [repeated 2x across cluster]\u001b[0m\n",
      "\u001b[36m(ClientAppActor pid=47700)\u001b[0m Epoch 6: train loss 0.048013489693403244, accuracy 0.25066344993968637\u001b[32m [repeated 2x across cluster]\u001b[0m\n",
      "\u001b[36m(ClientAppActor pid=47701)\u001b[0m Epoch 6: train loss 0.037006232887506485, accuracy 0.4718543046357616\n",
      "\u001b[36m(ClientAppActor pid=47703)\u001b[0m Epoch 8: train loss 0.029539354145526886, accuracy 0.5850470035252644\n",
      "\u001b[36m(ClientAppActor pid=47700)\u001b[0m Epoch 7: train loss 0.0483994260430336, accuracy 0.26743063932448735\u001b[32m [repeated 2x across cluster]\u001b[0m\n",
      "\u001b[36m(ClientAppActor pid=47701)\u001b[0m Epoch 7: train loss 0.035889994353055954, accuracy 0.45411542100283825\n",
      "\u001b[36m(ClientAppActor pid=47700)\u001b[0m Epoch 8: train loss 0.04803379625082016, accuracy 0.2802171290711701\n"
     ]
    },
    {
     "name": "stderr",
     "output_type": "stream",
     "text": [
      "\u001b[92mINFO \u001b[0m:      aggregate_fit: received 6 results and 0 failures\n"
     ]
    },
    {
     "name": "stdout",
     "output_type": "stream",
     "text": [
      "\u001b[36m(ClientAppActor pid=47701)\u001b[0m Epoch 8: train loss 0.03592674061655998, accuracy 0.39829706717123936\n"
     ]
    },
    {
     "name": "stderr",
     "output_type": "stream",
     "text": [
      "\u001b[92mINFO \u001b[0m:      fit progress: (16, 0.08195166985988617, {'accuracy': 0.1}, 19901.657834582962)\n",
      "\u001b[92mINFO \u001b[0m:      configure_evaluate: strategy sampled 6 clients (out of 6)\n"
     ]
    },
    {
     "name": "stdout",
     "output_type": "stream",
     "text": [
      "\u001b[36m(ClientAppActor pid=47701)\u001b[0m [Client 0] evaluate, config: {}\n"
     ]
    },
    {
     "name": "stderr",
     "output_type": "stream",
     "text": [
      "\u001b[36m(ClientAppActor pid=47701)\u001b[0m /Users/macbook/Desktop/L361/L361_Project/.conda/lib/python3.12/site-packages/datasets/utils/_dill.py:385: DeprecationWarning: co_lnotab is deprecated, use co_lines instead.\n",
      "\u001b[36m(ClientAppActor pid=47701)\u001b[0m   obj.co_lnotab,  # for < python 3.10 [not counted in args]\n",
      "\u001b[36m(ClientAppActor pid=47703)\u001b[0m /Users/macbook/Desktop/L361/L361_Project/.conda/lib/python3.12/site-packages/datasets/utils/_dill.py:385: DeprecationWarning: co_lnotab is deprecated, use co_lines instead.\n",
      "\u001b[36m(ClientAppActor pid=47703)\u001b[0m   obj.co_lnotab,  # for < python 3.10 [not counted in args]\n",
      "\u001b[92mINFO \u001b[0m:      aggregate_evaluate: received 6 results and 0 failures\n",
      "\u001b[92mINFO \u001b[0m:      \n",
      "\u001b[92mINFO \u001b[0m:      [ROUND 17]\n",
      "\u001b[92mINFO \u001b[0m:      configure_fit: strategy sampled 6 clients (out of 6)\n"
     ]
    },
    {
     "name": "stdout",
     "output_type": "stream",
     "text": [
      "\u001b[36m(ClientAppActor pid=47701)\u001b[0m [Client 4] fit, config: {}\n",
      "\u001b[36m(ClientAppActor pid=47700)\u001b[0m [Client 1] evaluate, config: {}\u001b[32m [repeated 5x across cluster]\u001b[0m\n"
     ]
    },
    {
     "name": "stderr",
     "output_type": "stream",
     "text": [
      "\u001b[36m(ClientAppActor pid=47700)\u001b[0m /Users/macbook/Desktop/L361/L361_Project/.conda/lib/python3.12/site-packages/datasets/utils/_dill.py:385: DeprecationWarning: co_lnotab is deprecated, use co_lines instead.\u001b[32m [repeated 5x across cluster]\u001b[0m\n",
      "\u001b[36m(ClientAppActor pid=47700)\u001b[0m   obj.co_lnotab,  # for < python 3.10 [not counted in args]\u001b[32m [repeated 5x across cluster]\u001b[0m\n"
     ]
    },
    {
     "name": "stdout",
     "output_type": "stream",
     "text": [
      "\u001b[36m(ClientAppActor pid=47702)\u001b[0m Epoch 1: train loss 0.0736556202173233, accuracy 0.09133229882509421\n",
      "\u001b[36m(ClientAppActor pid=47704)\u001b[0m [Client 2] fit, config: {}\u001b[32m [repeated 5x across cluster]\u001b[0m\n",
      "\u001b[36m(ClientAppActor pid=47703)\u001b[0m Epoch 1: train loss 0.06078289821743965, accuracy 0.23460591133004927\n",
      "\u001b[36m(ClientAppActor pid=47704)\u001b[0m Epoch 1: train loss 0.04840787500143051, accuracy 0.3803993768588019\n",
      "\u001b[36m(ClientAppActor pid=47701)\u001b[0m Epoch 1: train loss 0.06872038543224335, accuracy 0.17324976348155155\u001b[32m [repeated 2x across cluster]\u001b[0m\n",
      "\u001b[36m(ClientAppActor pid=47702)\u001b[0m Epoch 2: train loss 0.06355425715446472, accuracy 0.1855464420305919\u001b[32m [repeated 2x across cluster]\u001b[0m\n",
      "\u001b[36m(ClientAppActor pid=47703)\u001b[0m Epoch 2: train loss 0.04129473492503166, accuracy 0.30049261083743845\n",
      "\u001b[36m(ClientAppActor pid=47702)\u001b[0m Epoch 3: train loss 0.05685104802250862, accuracy 0.20106406561737974\n",
      "\u001b[36m(ClientAppActor pid=47704)\u001b[0m Epoch 2: train loss 0.03651691600680351, accuracy 0.46948024359155927\u001b[32m [repeated 2x across cluster]\u001b[0m\n",
      "\u001b[36m(ClientAppActor pid=47703)\u001b[0m Epoch 3: train loss 0.028512362390756607, accuracy 0.6001642036124795\n",
      "\u001b[36m(ClientAppActor pid=47701)\u001b[0m Epoch 2: train loss 0.04392216354608536, accuracy 0.39829706717123936\n",
      "\u001b[36m(ClientAppActor pid=47702)\u001b[0m Epoch 4: train loss 0.0537143275141716, accuracy 0.34648636665927735\u001b[32m [repeated 2x across cluster]\u001b[0m\n",
      "\u001b[36m(ClientAppActor pid=47703)\u001b[0m Epoch 4: train loss 0.023103943094611168, accuracy 0.6921182266009852\n",
      "\u001b[36m(ClientAppActor pid=47699)\u001b[0m Epoch 3: train loss 0.03888870030641556, accuracy 0.3528202115158637\n",
      "\u001b[36m(ClientAppActor pid=47704)\u001b[0m Epoch 3: train loss 0.03412434086203575, accuracy 0.4303922957088231\n",
      "\u001b[36m(ClientAppActor pid=47702)\u001b[0m Epoch 5: train loss 0.053740523755550385, accuracy 0.34648636665927735\n",
      "\u001b[36m(ClientAppActor pid=47703)\u001b[0m Epoch 5: train loss 0.023356294259428978, accuracy 0.6921182266009852\n",
      "\u001b[36m(ClientAppActor pid=47701)\u001b[0m Epoch 3: train loss 0.037221670150756836, accuracy 0.407876064333018\n",
      "\u001b[36m(ClientAppActor pid=47699)\u001b[0m Epoch 4: train loss 0.03087783232331276, accuracy 0.4709165687426557\u001b[32m [repeated 2x across cluster]\u001b[0m\n",
      "\u001b[36m(ClientAppActor pid=47704)\u001b[0m Epoch 4: train loss 0.033199965953826904, accuracy 0.46948024359155927\u001b[32m [repeated 2x across cluster]\u001b[0m\n",
      "\u001b[36m(ClientAppActor pid=47703)\u001b[0m Epoch 6: train loss 0.024144688621163368, accuracy 0.6921182266009852\n",
      "\u001b[36m(ClientAppActor pid=47702)\u001b[0m Epoch 7: train loss 0.05566703900694847, accuracy 0.34648636665927735\n",
      "\u001b[36m(ClientAppActor pid=47702)\u001b[0m \n",
      "\u001b[36m(ClientAppActor pid=47699)\u001b[0m Epoch 5: train loss 0.029855376109480858, accuracy 0.5850470035252644\n",
      "\u001b[36m(ClientAppActor pid=47701)\u001b[0m Epoch 4: train loss 0.03797220438718796, accuracy 0.4718543046357616\n",
      "\u001b[36m(ClientAppActor pid=47700)\u001b[0m Epoch 4: train loss 0.04894633591175079, accuracy 0.2882991556091677\u001b[32m [repeated 2x across cluster]\u001b[0m\n",
      "\u001b[36m(ClientAppActor pid=47704)\u001b[0m Epoch 5: train loss 0.032653696835041046, accuracy 0.46948024359155927\n",
      "\u001b[36m(ClientAppActor pid=47702)\u001b[0m Epoch 8: train loss 0.055020399391651154, accuracy 0.34648636665927735\n",
      "\u001b[36m(ClientAppActor pid=47703)\u001b[0m Epoch 8: train loss 0.022195713594555855, accuracy 0.6921182266009852\n",
      "\u001b[36m(ClientAppActor pid=47699)\u001b[0m Epoch 6: train loss 0.03161754831671715, accuracy 0.5850470035252644\n",
      "\u001b[36m(ClientAppActor pid=47700)\u001b[0m Epoch 5: train loss 0.047992680221796036, accuracy 0.2829915560916767\n",
      "\u001b[36m(ClientAppActor pid=47701)\u001b[0m Epoch 5: train loss 0.03888225555419922, accuracy 0.4718543046357616\n",
      "\u001b[36m(ClientAppActor pid=47699)\u001b[0m Epoch 7: train loss 0.03136559575796127, accuracy 0.5850470035252644\u001b[32m [repeated 2x across cluster]\u001b[0m\n",
      "\u001b[36m(ClientAppActor pid=47704)\u001b[0m Epoch 7: train loss 0.0328528955578804, accuracy 0.46948024359155927\n",
      "\u001b[36m(ClientAppActor pid=47701)\u001b[0m Epoch 6: train loss 0.03702455386519432, accuracy 0.4718543046357616\n",
      "\u001b[36m(ClientAppActor pid=47699)\u001b[0m Epoch 8: train loss 0.02948218397796154, accuracy 0.5850470035252644\u001b[32m [repeated 2x across cluster]\u001b[0m\n",
      "\u001b[36m(ClientAppActor pid=47704)\u001b[0m Epoch 8: train loss 0.03267737478017807, accuracy 0.46948024359155927\n",
      "\u001b[36m(ClientAppActor pid=47701)\u001b[0m Epoch 7: train loss 0.0359867662191391, accuracy 0.4211210974456008\n",
      "\u001b[36m(ClientAppActor pid=47701)\u001b[0m Epoch 8: train loss 0.03586001321673393, accuracy 0.39829706717123936\u001b[32m [repeated 2x across cluster]\u001b[0m\n"
     ]
    },
    {
     "name": "stderr",
     "output_type": "stream",
     "text": [
      "\u001b[92mINFO \u001b[0m:      aggregate_fit: received 6 results and 0 failures\n",
      "\u001b[92mINFO \u001b[0m:      fit progress: (17, 0.0786117211818695, {'accuracy': 0.1}, 21143.818214915926)\n",
      "\u001b[92mINFO \u001b[0m:      configure_evaluate: strategy sampled 6 clients (out of 6)\n",
      "\u001b[36m(ClientAppActor pid=47699)\u001b[0m /Users/macbook/Desktop/L361/L361_Project/.conda/lib/python3.12/site-packages/datasets/utils/_dill.py:385: DeprecationWarning: co_lnotab is deprecated, use co_lines instead.\u001b[32m [repeated 6x across cluster]\u001b[0m\n",
      "\u001b[36m(ClientAppActor pid=47699)\u001b[0m   obj.co_lnotab,  # for < python 3.10 [not counted in args]\u001b[32m [repeated 6x across cluster]\u001b[0m\n"
     ]
    },
    {
     "name": "stdout",
     "output_type": "stream",
     "text": [
      "\u001b[36m(ClientAppActor pid=47702)\u001b[0m [Client 0] evaluate, config: {}\n",
      "\u001b[36m(ClientAppActor pid=47700)\u001b[0m Epoch 8: train loss 0.04781723394989967, accuracy 0.28142340168878166\n"
     ]
    },
    {
     "name": "stderr",
     "output_type": "stream",
     "text": [
      "\u001b[92mINFO \u001b[0m:      aggregate_evaluate: received 6 results and 0 failures\n",
      "\u001b[92mINFO \u001b[0m:      \n",
      "\u001b[92mINFO \u001b[0m:      [ROUND 18]\n",
      "\u001b[92mINFO \u001b[0m:      configure_fit: strategy sampled 6 clients (out of 6)\n",
      "\u001b[36m(ClientAppActor pid=47703)\u001b[0m /Users/macbook/Desktop/L361/L361_Project/.conda/lib/python3.12/site-packages/datasets/utils/_dill.py:385: DeprecationWarning: co_lnotab is deprecated, use co_lines instead.\u001b[32m [repeated 6x across cluster]\u001b[0m\n",
      "\u001b[36m(ClientAppActor pid=47703)\u001b[0m   obj.co_lnotab,  # for < python 3.10 [not counted in args]\u001b[32m [repeated 6x across cluster]\u001b[0m\n"
     ]
    },
    {
     "name": "stdout",
     "output_type": "stream",
     "text": [
      "\u001b[36m(ClientAppActor pid=47703)\u001b[0m [Client 1] fit, config: {}\n",
      "\u001b[36m(ClientAppActor pid=47703)\u001b[0m [Client 2] evaluate, config: {}\u001b[32m [repeated 5x across cluster]\u001b[0m\n",
      "\u001b[36m(ClientAppActor pid=47702)\u001b[0m Epoch 1: train loss 0.07621648162603378, accuracy 0.0784748392817557\n",
      "\u001b[36m(ClientAppActor pid=47699)\u001b[0m [Client 0] fit, config: {}\u001b[32m [repeated 5x across cluster]\u001b[0m\n",
      "\u001b[36m(ClientAppActor pid=47701)\u001b[0m Epoch 1: train loss 0.05817807465791702, accuracy 0.28181444991789817\n",
      "\u001b[36m(ClientAppActor pid=47703)\u001b[0m Epoch 1: train loss 0.07597387582063675, accuracy 0.18301997649823737\n",
      "\u001b[36m(ClientAppActor pid=47699)\u001b[0m Epoch 1: train loss 0.061946846544742584, accuracy 0.25138721351025334\u001b[32m [repeated 2x across cluster]\u001b[0m\n",
      "\u001b[36m(ClientAppActor pid=47704)\u001b[0m Epoch 1: train loss 0.06517742574214935, accuracy 0.1965468306527909\n",
      "\u001b[36m(ClientAppActor pid=47702)\u001b[0m Epoch 2: train loss 0.06455112248659134, accuracy 0.1806694746176014\n",
      "\u001b[36m(ClientAppActor pid=47701)\u001b[0m Epoch 2: train loss 0.039656005799770355, accuracy 0.30049261083743845\n",
      "\u001b[36m(ClientAppActor pid=47703)\u001b[0m Epoch 2: train loss 0.05112964287400246, accuracy 0.3528202115158637\n",
      "\u001b[36m(ClientAppActor pid=47700)\u001b[0m Epoch 2: train loss 0.038035836070775986, accuracy 0.46948024359155927\u001b[32m [repeated 2x across cluster]\u001b[0m\n",
      "\u001b[36m(ClientAppActor pid=47701)\u001b[0m Epoch 3: train loss 0.027555419132113457, accuracy 0.6605090311986864\n",
      "\u001b[36m(ClientAppActor pid=47699)\u001b[0m Epoch 2: train loss 0.05058801919221878, accuracy 0.2529553679131484\n",
      "\u001b[36m(ClientAppActor pid=47704)\u001b[0m Epoch 2: train loss 0.04415976628661156, accuracy 0.39829706717123936\n",
      "\u001b[36m(ClientAppActor pid=47702)\u001b[0m Epoch 4: train loss 0.05473000183701515, accuracy 0.2602527155841277\n",
      "\u001b[36m(ClientAppActor pid=47701)\u001b[0m Epoch 4: train loss 0.022891690954566002, accuracy 0.6921182266009852\n",
      "\u001b[36m(ClientAppActor pid=47703)\u001b[0m Epoch 3: train loss 0.038446661084890366, accuracy 0.3528202115158637\n",
      "\u001b[36m(ClientAppActor pid=47700)\u001b[0m Epoch 3: train loss 0.034112002700567245, accuracy 0.3998017278005948\n",
      "\u001b[36m(ClientAppActor pid=47702)\u001b[0m Epoch 5: train loss 0.053719621151685715, accuracy 0.34648636665927735\n",
      "\u001b[36m(ClientAppActor pid=47701)\u001b[0m Epoch 5: train loss 0.02319995127618313, accuracy 0.6921182266009852\n",
      "\u001b[36m(ClientAppActor pid=47699)\u001b[0m Epoch 3: train loss 0.04819965362548828, accuracy 0.2905910735826297\n",
      "\u001b[36m(ClientAppActor pid=47704)\u001b[0m Epoch 3: train loss 0.037311945110559464, accuracy 0.4120151371807001\n",
      "\u001b[36m(ClientAppActor pid=47703)\u001b[0m Epoch 4: train loss 0.03053104691207409, accuracy 0.5029377203290247\n",
      "\u001b[36m(ClientAppActor pid=47700)\u001b[0m Epoch 4: train loss 0.033423539251089096, accuracy 0.4088655997734032\u001b[32m [repeated 2x across cluster]\u001b[0m\n",
      "\u001b[36m(ClientAppActor pid=47701)\u001b[0m Epoch 6: train loss 0.023729346692562103, accuracy 0.6921182266009852\n",
      "\u001b[36m(ClientAppActor pid=47702)\u001b[0m Epoch 7: train loss 0.055460307747125626, accuracy 0.34648636665927735\n",
      "\u001b[36m(ClientAppActor pid=47699)\u001b[0m Epoch 4: train loss 0.04935575649142265, accuracy 0.2882991556091677\n",
      "\u001b[36m(ClientAppActor pid=47704)\u001b[0m Epoch 4: train loss 0.03786197677254677, accuracy 0.4718543046357616\n",
      "\u001b[36m(ClientAppActor pid=47701)\u001b[0m Epoch 7: train loss 0.02298029512166977, accuracy 0.6921182266009852\u001b[32m [repeated 2x across cluster]\u001b[0m\n",
      "\u001b[36m(ClientAppActor pid=47700)\u001b[0m Epoch 5: train loss 0.033005379140377045, accuracy 0.46948024359155927\n",
      "\u001b[36m(ClientAppActor pid=47702)\u001b[0m Epoch 8: train loss 0.05513039231300354, accuracy 0.34648636665927735\n",
      "\u001b[36m(ClientAppActor pid=47701)\u001b[0m Epoch 8: train loss 0.021667974069714546, accuracy 0.6921182266009852\n",
      "\u001b[36m(ClientAppActor pid=47703)\u001b[0m Epoch 6: train loss 0.03183579444885254, accuracy 0.5850470035252644\n",
      "\u001b[36m(ClientAppActor pid=47700)\u001b[0m Epoch 6: train loss 0.032605040818452835, accuracy 0.46948024359155927\n",
      "\u001b[36m(ClientAppActor pid=47699)\u001b[0m Epoch 5: train loss 0.04822176694869995, accuracy 0.2882991556091677\n",
      "\u001b[36m(ClientAppActor pid=47704)\u001b[0m Epoch 5: train loss 0.038702964782714844, accuracy 0.4718543046357616\n",
      "\u001b[36m(ClientAppActor pid=47703)\u001b[0m Epoch 7: train loss 0.03125668689608574, accuracy 0.5850470035252644\n",
      "\u001b[36m(ClientAppActor pid=47700)\u001b[0m Epoch 7: train loss 0.032735440880060196, accuracy 0.46948024359155927\n",
      "\u001b[36m(ClientAppActor pid=47699)\u001b[0m Epoch 6: train loss 0.04781986027956009, accuracy 0.27659831121833534\n",
      "\u001b[36m(ClientAppActor pid=47704)\u001b[0m Epoch 6: train loss 0.03706805035471916, accuracy 0.4718543046357616\n",
      "\u001b[36m(ClientAppActor pid=47703)\u001b[0m Epoch 8: train loss 0.029219413176178932, accuracy 0.5850470035252644\n",
      "\u001b[36m(ClientAppActor pid=47700)\u001b[0m Epoch 8: train loss 0.03274773433804512, accuracy 0.46948024359155927\n",
      "\u001b[36m(ClientAppActor pid=47699)\u001b[0m Epoch 7: train loss 0.048282966017723083, accuracy 0.2802171290711701\n",
      "\u001b[36m(ClientAppActor pid=47704)\u001b[0m Epoch 7: train loss 0.03599034994840622, accuracy 0.43661305581835386\n",
      "\u001b[36m(ClientAppActor pid=47699)\u001b[0m Epoch 8: train loss 0.04812000319361687, accuracy 0.2802171290711701\n"
     ]
    },
    {
     "name": "stderr",
     "output_type": "stream",
     "text": [
      "\u001b[92mINFO \u001b[0m:      aggregate_fit: received 6 results and 0 failures\n"
     ]
    },
    {
     "name": "stdout",
     "output_type": "stream",
     "text": [
      "\u001b[36m(ClientAppActor pid=47704)\u001b[0m Epoch 8: train loss 0.035862404853105545, accuracy 0.39829706717123936\n"
     ]
    },
    {
     "name": "stderr",
     "output_type": "stream",
     "text": [
      "\u001b[92mINFO \u001b[0m:      fit progress: (18, 0.08254343469142914, {'accuracy': 0.1}, 22387.53222116595)\n",
      "\u001b[92mINFO \u001b[0m:      configure_evaluate: strategy sampled 6 clients (out of 6)\n",
      "\u001b[36m(ClientAppActor pid=47702)\u001b[0m /Users/macbook/Desktop/L361/L361_Project/.conda/lib/python3.12/site-packages/datasets/utils/_dill.py:385: DeprecationWarning: co_lnotab is deprecated, use co_lines instead.\u001b[32m [repeated 6x across cluster]\u001b[0m\n",
      "\u001b[36m(ClientAppActor pid=47702)\u001b[0m   obj.co_lnotab,  # for < python 3.10 [not counted in args]\u001b[32m [repeated 6x across cluster]\u001b[0m\n"
     ]
    },
    {
     "name": "stdout",
     "output_type": "stream",
     "text": [
      "\u001b[36m(ClientAppActor pid=47702)\u001b[0m [Client 5] evaluate, config: {}\n"
     ]
    },
    {
     "name": "stderr",
     "output_type": "stream",
     "text": [
      "\u001b[92mINFO \u001b[0m:      aggregate_evaluate: received 6 results and 0 failures\n",
      "\u001b[92mINFO \u001b[0m:      \n",
      "\u001b[92mINFO \u001b[0m:      [ROUND 19]\n",
      "\u001b[92mINFO \u001b[0m:      configure_fit: strategy sampled 6 clients (out of 6)\n",
      "\u001b[36m(ClientAppActor pid=47700)\u001b[0m /Users/macbook/Desktop/L361/L361_Project/.conda/lib/python3.12/site-packages/datasets/utils/_dill.py:385: DeprecationWarning: co_lnotab is deprecated, use co_lines instead.\u001b[32m [repeated 6x across cluster]\u001b[0m\n",
      "\u001b[36m(ClientAppActor pid=47700)\u001b[0m   obj.co_lnotab,  # for < python 3.10 [not counted in args]\u001b[32m [repeated 6x across cluster]\u001b[0m\n"
     ]
    },
    {
     "name": "stdout",
     "output_type": "stream",
     "text": [
      "\u001b[36m(ClientAppActor pid=47700)\u001b[0m [Client 3] fit, config: {}\n",
      "\u001b[36m(ClientAppActor pid=47701)\u001b[0m [Client 4] evaluate, config: {}\u001b[32m [repeated 5x across cluster]\u001b[0m\n",
      "\u001b[36m(ClientAppActor pid=47700)\u001b[0m Epoch 1: train loss 0.07404202222824097, accuracy 0.07803147860784748\n",
      "\u001b[36m(ClientAppActor pid=47699)\u001b[0m [Client 4] fit, config: {}\u001b[32m [repeated 5x across cluster]\u001b[0m\n",
      "\u001b[36m(ClientAppActor pid=47703)\u001b[0m Epoch 1: train loss 0.06313267350196838, accuracy 0.1958128078817734\n",
      "\u001b[36m(ClientAppActor pid=47701)\u001b[0m Epoch 1: train loss 0.084633007645607, accuracy 0.17024089306698004\n",
      "\u001b[36m(ClientAppActor pid=47704)\u001b[0m Epoch 1: train loss 0.05033883452415466, accuracy 0.36297974791106075\n",
      "\u001b[36m(ClientAppActor pid=47702)\u001b[0m Epoch 1: train loss 0.05879352241754532, accuracy 0.24752714113389626\n",
      "\u001b[36m(ClientAppActor pid=47700)\u001b[0m Epoch 2: train loss 0.06376125663518906, accuracy 0.18111283529150965\n",
      "\u001b[36m(ClientAppActor pid=47699)\u001b[0m Epoch 1: train loss 0.07218051701784134, accuracy 0.16426206244087038\n",
      "\u001b[36m(ClientAppActor pid=47703)\u001b[0m Epoch 2: train loss 0.043607309460639954, accuracy 0.30049261083743845\n",
      "\u001b[36m(ClientAppActor pid=47700)\u001b[0m Epoch 3: train loss 0.05743364989757538, accuracy 0.1855464420305919\n",
      "\u001b[36m(ClientAppActor pid=47704)\u001b[0m Epoch 2: train loss 0.03832408785820007, accuracy 0.46948024359155927\u001b[32m [repeated 2x across cluster]\u001b[0m\n",
      "\u001b[36m(ClientAppActor pid=47703)\u001b[0m Epoch 3: train loss 0.03014819696545601, accuracy 0.5238095238095238\n",
      "\u001b[36m(ClientAppActor pid=47702)\u001b[0m Epoch 2: train loss 0.04909403622150421, accuracy 0.2802171290711701\n",
      "\u001b[36m(ClientAppActor pid=47699)\u001b[0m Epoch 2: train loss 0.045011796057224274, accuracy 0.39829706717123936\n",
      "\u001b[36m(ClientAppActor pid=47700)\u001b[0m Epoch 4: train loss 0.0539700910449028, accuracy 0.328086898692086\n",
      "\u001b[36m(ClientAppActor pid=47703)\u001b[0m Epoch 4: train loss 0.02365201525390148, accuracy 0.6921182266009852\n",
      "\u001b[36m(ClientAppActor pid=47701)\u001b[0m Epoch 3: train loss 0.03989879786968231, accuracy 0.3528202115158637\n",
      "\u001b[36m(ClientAppActor pid=47704)\u001b[0m Epoch 3: train loss 0.03457338362932205, accuracy 0.4240192607279422\n",
      "\u001b[36m(ClientAppActor pid=47700)\u001b[0m Epoch 5: train loss 0.053519900888204575, accuracy 0.34648636665927735\n",
      "\u001b[36m(ClientAppActor pid=47703)\u001b[0m Epoch 5: train loss 0.02311129868030548, accuracy 0.6921182266009852\n",
      "\u001b[36m(ClientAppActor pid=47702)\u001b[0m Epoch 3: train loss 0.04883386567234993, accuracy 0.2882991556091677\n",
      "\u001b[36m(ClientAppActor pid=47699)\u001b[0m Epoch 3: train loss 0.03735819458961487, accuracy 0.39829706717123936\n",
      "\u001b[36m(ClientAppActor pid=47700)\u001b[0m Epoch 6: train loss 0.05467190966010094, accuracy 0.34648636665927735\n",
      "\u001b[36m(ClientAppActor pid=47701)\u001b[0m Epoch 4: train loss 0.03162681311368942, accuracy 0.4648942420681551\n",
      "\u001b[36m(ClientAppActor pid=47704)\u001b[0m Epoch 4: train loss 0.03382503241300583, accuracy 0.36581220790256336\n",
      "\u001b[36m(ClientAppActor pid=47703)\u001b[0m Epoch 6: train loss 0.024089008569717407, accuracy 0.6921182266009852\n",
      "\u001b[36m(ClientAppActor pid=47700)\u001b[0m Epoch 7: train loss 0.05544484034180641, accuracy 0.34648636665927735\n",
      "\u001b[36m(ClientAppActor pid=47702)\u001b[0m Epoch 4: train loss 0.04891512170433998, accuracy 0.2882991556091677\n",
      "\u001b[36m(ClientAppActor pid=47701)\u001b[0m Epoch 5: train loss 0.029639411717653275, accuracy 0.5850470035252644\n",
      "\u001b[36m(ClientAppActor pid=47699)\u001b[0m Epoch 4: train loss 0.037242304533720016, accuracy 0.4718543046357616\u001b[32m [repeated 2x across cluster]\u001b[0m\n",
      "\u001b[36m(ClientAppActor pid=47700)\u001b[0m Epoch 8: train loss 0.055108118802309036, accuracy 0.34648636665927735\u001b[32m [repeated 2x across cluster]\u001b[0m\n",
      "\u001b[36m(ClientAppActor pid=47703)\u001b[0m Epoch 8: train loss 0.022457929328083992, accuracy 0.6921182266009852\n",
      "\u001b[36m(ClientAppActor pid=47701)\u001b[0m Epoch 6: train loss 0.031151501461863518, accuracy 0.5850470035252644\n",
      "\u001b[36m(ClientAppActor pid=47702)\u001b[0m Epoch 5: train loss 0.047898080199956894, accuracy 0.28407720144752713\n",
      "\u001b[36m(ClientAppActor pid=47704)\u001b[0m Epoch 6: train loss 0.03282492607831955, accuracy 0.46948024359155927\n",
      "\u001b[36m(ClientAppActor pid=47699)\u001b[0m Epoch 5: train loss 0.038758616894483566, accuracy 0.4718543046357616\n",
      "\u001b[36m(ClientAppActor pid=47701)\u001b[0m Epoch 7: train loss 0.031259652227163315, accuracy 0.5850470035252644\n",
      "\u001b[36m(ClientAppActor pid=47704)\u001b[0m Epoch 7: train loss 0.03286924958229065, accuracy 0.46948024359155927\n",
      "\u001b[36m(ClientAppActor pid=47702)\u001b[0m Epoch 6: train loss 0.04805639386177063, accuracy 0.2802171290711701\n",
      "\u001b[36m(ClientAppActor pid=47699)\u001b[0m Epoch 6: train loss 0.03719624876976013, accuracy 0.4718543046357616\n",
      "\u001b[36m(ClientAppActor pid=47701)\u001b[0m Epoch 8: train loss 0.029881199821829796, accuracy 0.5850470035252644\n",
      "\u001b[36m(ClientAppActor pid=47704)\u001b[0m Epoch 8: train loss 0.03287344425916672, accuracy 0.46948024359155927\n",
      "\u001b[36m(ClientAppActor pid=47702)\u001b[0m Epoch 7: train loss 0.048208270221948624, accuracy 0.2802171290711701\n",
      "\u001b[36m(ClientAppActor pid=47699)\u001b[0m Epoch 7: train loss 0.03601193428039551, accuracy 0.4699621570482498\n",
      "\u001b[36m(ClientAppActor pid=47702)\u001b[0m Epoch 8: train loss 0.04786519706249237, accuracy 0.2802171290711701\n"
     ]
    },
    {
     "name": "stderr",
     "output_type": "stream",
     "text": [
      "\u001b[92mINFO \u001b[0m:      aggregate_fit: received 6 results and 0 failures\n"
     ]
    },
    {
     "name": "stdout",
     "output_type": "stream",
     "text": [
      "\u001b[36m(ClientAppActor pid=47699)\u001b[0m Epoch 8: train loss 0.03580774739384651, accuracy 0.39829706717123936\n"
     ]
    },
    {
     "name": "stderr",
     "output_type": "stream",
     "text": [
      "\u001b[92mINFO \u001b[0m:      fit progress: (19, 0.08066017246246338, {'accuracy': 0.1}, 23684.489188708016)\n",
      "\u001b[92mINFO \u001b[0m:      configure_evaluate: strategy sampled 6 clients (out of 6)\n",
      "\u001b[36m(ClientAppActor pid=47703)\u001b[0m /Users/macbook/Desktop/L361/L361_Project/.conda/lib/python3.12/site-packages/datasets/utils/_dill.py:385: DeprecationWarning: co_lnotab is deprecated, use co_lines instead.\u001b[32m [repeated 7x across cluster]\u001b[0m\n",
      "\u001b[36m(ClientAppActor pid=47703)\u001b[0m   obj.co_lnotab,  # for < python 3.10 [not counted in args]\u001b[32m [repeated 7x across cluster]\u001b[0m\n"
     ]
    },
    {
     "name": "stdout",
     "output_type": "stream",
     "text": [
      "\u001b[36m(ClientAppActor pid=47703)\u001b[0m [Client 3] evaluate, config: {}\n"
     ]
    },
    {
     "name": "stderr",
     "output_type": "stream",
     "text": [
      "\u001b[92mINFO \u001b[0m:      aggregate_evaluate: received 6 results and 0 failures\n",
      "\u001b[92mINFO \u001b[0m:      \n",
      "\u001b[92mINFO \u001b[0m:      [ROUND 20]\n",
      "\u001b[92mINFO \u001b[0m:      configure_fit: strategy sampled 6 clients (out of 6)\n",
      "\u001b[36m(ClientAppActor pid=47699)\u001b[0m /Users/macbook/Desktop/L361/L361_Project/.conda/lib/python3.12/site-packages/datasets/utils/_dill.py:385: DeprecationWarning: co_lnotab is deprecated, use co_lines instead.\u001b[32m [repeated 6x across cluster]\u001b[0m\n",
      "\u001b[36m(ClientAppActor pid=47699)\u001b[0m   obj.co_lnotab,  # for < python 3.10 [not counted in args]\u001b[32m [repeated 6x across cluster]\u001b[0m\n"
     ]
    },
    {
     "name": "stdout",
     "output_type": "stream",
     "text": [
      "\u001b[36m(ClientAppActor pid=47699)\u001b[0m [Client 4] fit, config: {}\n",
      "\u001b[36m(ClientAppActor pid=47699)\u001b[0m [Client 0] evaluate, config: {}\u001b[32m [repeated 5x across cluster]\u001b[0m\n",
      "\u001b[36m(ClientAppActor pid=47703)\u001b[0m Epoch 1: train loss 0.07381303608417511, accuracy 0.08490356905342496\n",
      "\u001b[36m(ClientAppActor pid=47701)\u001b[0m [Client 1] fit, config: {}\u001b[32m [repeated 5x across cluster]\u001b[0m\n",
      "\u001b[36m(ClientAppActor pid=47702)\u001b[0m Epoch 1: train loss 0.06127913296222687, accuracy 0.21469622331691296\n",
      "\u001b[36m(ClientAppActor pid=47701)\u001b[0m Epoch 1: train loss 0.08018659800291061, accuracy 0.19991186839012925\n",
      "\u001b[36m(ClientAppActor pid=47704)\u001b[0m Epoch 1: train loss 0.059700775891542435, accuracy 0.2482509047044632\u001b[32m [repeated 2x across cluster]\u001b[0m\n",
      "\u001b[36m(ClientAppActor pid=47699)\u001b[0m Epoch 1: train loss 0.07042665034532547, accuracy 0.17928098391674552\n",
      "\u001b[36m(ClientAppActor pid=47703)\u001b[0m Epoch 2: train loss 0.06375762820243835, accuracy 0.1855464420305919\n",
      "\u001b[36m(ClientAppActor pid=47702)\u001b[0m Epoch 2: train loss 0.04209420830011368, accuracy 0.30049261083743845\n",
      "\u001b[36m(ClientAppActor pid=47703)\u001b[0m Epoch 3: train loss 0.057567667216062546, accuracy 0.1855464420305919\n",
      "\u001b[36m(ClientAppActor pid=47701)\u001b[0m Epoch 2: train loss 0.05272345989942551, accuracy 0.3528202115158637\n",
      "\u001b[36m(ClientAppActor pid=47700)\u001b[0m Epoch 2: train loss 0.03792334347963333, accuracy 0.46948024359155927\n",
      "\u001b[36m(ClientAppActor pid=47702)\u001b[0m Epoch 3: train loss 0.02944253571331501, accuracy 0.5445402298850575\n",
      "\u001b[36m(ClientAppActor pid=47704)\u001b[0m Epoch 2: train loss 0.04942728951573372, accuracy 0.27141133896260555\n",
      "\u001b[36m(ClientAppActor pid=47699)\u001b[0m Epoch 2: train loss 0.045736636966466904, accuracy 0.39829706717123936\n",
      "\u001b[36m(ClientAppActor pid=47703)\u001b[0m Epoch 4: train loss 0.05401492118835449, accuracy 0.3167812015074263\n",
      "\u001b[36m(ClientAppActor pid=47702)\u001b[0m Epoch 4: train loss 0.023445507511496544, accuracy 0.6921182266009852\n",
      "\u001b[36m(ClientAppActor pid=47700)\u001b[0m Epoch 3: train loss 0.03430150821805, accuracy 0.40235094179294717\n",
      "\u001b[36m(ClientAppActor pid=47703)\u001b[0m Epoch 5: train loss 0.05351473391056061, accuracy 0.34648636665927735\u001b[32m [repeated 2x across cluster]\u001b[0m\n",
      "\u001b[36m(ClientAppActor pid=47704)\u001b[0m Epoch 3: train loss 0.048598017543554306, accuracy 0.2882991556091677\n",
      "\u001b[36m(ClientAppActor pid=47702)\u001b[0m Epoch 5: train loss 0.022884918376803398, accuracy 0.6921182266009852\n",
      "\u001b[36m(ClientAppActor pid=47699)\u001b[0m Epoch 3: train loss 0.03777768835425377, accuracy 0.39829706717123936\n",
      "\u001b[36m(ClientAppActor pid=47703)\u001b[0m Epoch 6: train loss 0.054785311222076416, accuracy 0.34648636665927735\n",
      "\u001b[36m(ClientAppActor pid=47700)\u001b[0m Epoch 4: train loss 0.0334273986518383, accuracy 0.3988103668035689\n",
      "\u001b[36m(ClientAppActor pid=47701)\u001b[0m Epoch 4: train loss 0.031245213001966476, accuracy 0.4933901292596945\n",
      "\u001b[36m(ClientAppActor pid=47702)\u001b[0m Epoch 6: train loss 0.023779302835464478, accuracy 0.6921182266009852\n",
      "\u001b[36m(ClientAppActor pid=47703)\u001b[0m Epoch 7: train loss 0.055571720004081726, accuracy 0.34648636665927735\n",
      "\u001b[36m(ClientAppActor pid=47704)\u001b[0m Epoch 4: train loss 0.049133941531181335, accuracy 0.2882991556091677\n",
      "\u001b[36m(ClientAppActor pid=47699)\u001b[0m Epoch 4: train loss 0.037106022238731384, accuracy 0.46901608325449384\n",
      "\u001b[36m(ClientAppActor pid=47702)\u001b[0m Epoch 7: train loss 0.023590965196490288, accuracy 0.6921182266009852\n",
      "\u001b[36m(ClientAppActor pid=47701)\u001b[0m Epoch 5: train loss 0.030050352215766907, accuracy 0.5850470035252644\n",
      "\u001b[36m(ClientAppActor pid=47703)\u001b[0m Epoch 8: train loss 0.055186621844768524, accuracy 0.34648636665927735\u001b[32m [repeated 2x across cluster]\u001b[0m\n",
      "\u001b[36m(ClientAppActor pid=47702)\u001b[0m Epoch 8: train loss 0.022389544174075127, accuracy 0.6921182266009852\n",
      "\u001b[36m(ClientAppActor pid=47704)\u001b[0m Epoch 5: train loss 0.04792426526546478, accuracy 0.2864897466827503\n",
      "\u001b[36m(ClientAppActor pid=47701)\u001b[0m Epoch 6: train loss 0.03150876611471176, accuracy 0.5850470035252644\n",
      "\u001b[36m(ClientAppActor pid=47700)\u001b[0m Epoch 6: train loss 0.03267671540379524, accuracy 0.46948024359155927\n",
      "\u001b[36m(ClientAppActor pid=47701)\u001b[0m Epoch 7: train loss 0.031103331595659256, accuracy 0.5850470035252644\u001b[32m [repeated 2x across cluster]\u001b[0m\n",
      "\u001b[36m(ClientAppActor pid=47704)\u001b[0m Epoch 6: train loss 0.04791859909892082, accuracy 0.2802171290711701\n",
      "\u001b[36m(ClientAppActor pid=47700)\u001b[0m Epoch 7: train loss 0.032765500247478485, accuracy 0.46948024359155927\n",
      "\u001b[36m(ClientAppActor pid=47699)\u001b[0m Epoch 6: train loss 0.03739344701170921, accuracy 0.4718543046357616\n",
      "\u001b[36m(ClientAppActor pid=47701)\u001b[0m Epoch 8: train loss 0.02951354905962944, accuracy 0.5850470035252644\n",
      "\u001b[36m(ClientAppActor pid=47700)\u001b[0m Epoch 8: train loss 0.03274030238389969, accuracy 0.46948024359155927\n",
      "\u001b[36m(ClientAppActor pid=47704)\u001b[0m Epoch 7: train loss 0.048157308250665665, accuracy 0.2802171290711701\n",
      "\u001b[36m(ClientAppActor pid=47699)\u001b[0m Epoch 7: train loss 0.036312203854322433, accuracy 0.4718543046357616\n",
      "\u001b[36m(ClientAppActor pid=47704)\u001b[0m Epoch 8: train loss 0.04793529957532883, accuracy 0.2802171290711701\n"
     ]
    },
    {
     "name": "stderr",
     "output_type": "stream",
     "text": [
      "\u001b[92mINFO \u001b[0m:      aggregate_fit: received 6 results and 0 failures\n"
     ]
    },
    {
     "name": "stdout",
     "output_type": "stream",
     "text": [
      "\u001b[36m(ClientAppActor pid=47699)\u001b[0m Epoch 8: train loss 0.03591499477624893, accuracy 0.40799432355723747\n"
     ]
    },
    {
     "name": "stderr",
     "output_type": "stream",
     "text": [
      "\u001b[92mINFO \u001b[0m:      fit progress: (20, 0.08099125492572784, {'accuracy': 0.1}, 24958.854437957983)\n",
      "\u001b[92mINFO \u001b[0m:      configure_evaluate: strategy sampled 6 clients (out of 6)\n",
      "\u001b[36m(ClientAppActor pid=47703)\u001b[0m /Users/macbook/Desktop/L361/L361_Project/.conda/lib/python3.12/site-packages/datasets/utils/_dill.py:385: DeprecationWarning: co_lnotab is deprecated, use co_lines instead.\u001b[32m [repeated 6x across cluster]\u001b[0m\n",
      "\u001b[36m(ClientAppActor pid=47703)\u001b[0m   obj.co_lnotab,  # for < python 3.10 [not counted in args]\u001b[32m [repeated 6x across cluster]\u001b[0m\n"
     ]
    },
    {
     "name": "stdout",
     "output_type": "stream",
     "text": [
      "\u001b[36m(ClientAppActor pid=47703)\u001b[0m [Client 4] evaluate, config: {}\n"
     ]
    },
    {
     "name": "stderr",
     "output_type": "stream",
     "text": [
      "\u001b[92mINFO \u001b[0m:      aggregate_evaluate: received 6 results and 0 failures\n",
      "\u001b[92mINFO \u001b[0m:      \n",
      "\u001b[92mINFO \u001b[0m:      [ROUND 21]\n",
      "\u001b[92mINFO \u001b[0m:      configure_fit: strategy sampled 6 clients (out of 6)\n",
      "\u001b[36m(ClientAppActor pid=47703)\u001b[0m /Users/macbook/Desktop/L361/L361_Project/.conda/lib/python3.12/site-packages/datasets/utils/_dill.py:385: DeprecationWarning: co_lnotab is deprecated, use co_lines instead.\u001b[32m [repeated 6x across cluster]\u001b[0m\n",
      "\u001b[36m(ClientAppActor pid=47703)\u001b[0m   obj.co_lnotab,  # for < python 3.10 [not counted in args]\u001b[32m [repeated 6x across cluster]\u001b[0m\n"
     ]
    },
    {
     "name": "stdout",
     "output_type": "stream",
     "text": [
      "\u001b[36m(ClientAppActor pid=47703)\u001b[0m [Client 3] fit, config: {}\n",
      "\u001b[36m(ClientAppActor pid=47704)\u001b[0m [Client 2] evaluate, config: {}\u001b[32m [repeated 5x across cluster]\u001b[0m\n",
      "\u001b[36m(ClientAppActor pid=47703)\u001b[0m Epoch 1: train loss 0.07380224019289017, accuracy 0.0893371757925072\n",
      "\u001b[36m(ClientAppActor pid=47700)\u001b[0m [Client 5] fit, config: {}\u001b[32m [repeated 5x across cluster]\u001b[0m\n",
      "\u001b[36m(ClientAppActor pid=47700)\u001b[0m Epoch 1: train loss 0.06181696429848671, accuracy 0.21592775041050905\n",
      "\u001b[36m(ClientAppActor pid=47701)\u001b[0m Epoch 1: train loss 0.08102638274431229, accuracy 0.1949177438307873\n",
      "\u001b[36m(ClientAppActor pid=47699)\u001b[0m Epoch 1: train loss 0.049761321395635605, accuracy 0.39498654581504034\n",
      "\u001b[36m(ClientAppActor pid=47704)\u001b[0m Epoch 1: train loss 0.05958221107721329, accuracy 0.2482509047044632\n",
      "\u001b[36m(ClientAppActor pid=47703)\u001b[0m Epoch 2: train loss 0.063783660531044, accuracy 0.1855464420305919\u001b[32m [repeated 2x across cluster]\u001b[0m\n",
      "\u001b[36m(ClientAppActor pid=47700)\u001b[0m Epoch 2: train loss 0.04263482987880707, accuracy 0.30049261083743845\n",
      "\u001b[36m(ClientAppActor pid=47701)\u001b[0m Epoch 2: train loss 0.05322643369436264, accuracy 0.3528202115158637\n",
      "\u001b[36m(ClientAppActor pid=47699)\u001b[0m Epoch 2: train loss 0.03793235123157501, accuracy 0.46948024359155927\u001b[32m [repeated 2x across cluster]\u001b[0m\n",
      "\u001b[36m(ClientAppActor pid=47704)\u001b[0m Epoch 2: train loss 0.04948803409934044, accuracy 0.2735826296743064\u001b[32m [repeated 2x across cluster]\u001b[0m\n",
      "\u001b[36m(ClientAppActor pid=47703)\u001b[0m Epoch 4: train loss 0.05399547144770622, accuracy 0.3209931279095544\u001b[32m [repeated 2x across cluster]\u001b[0m\n",
      "\u001b[36m(ClientAppActor pid=47700)\u001b[0m Epoch 4: train loss 0.023471452295780182, accuracy 0.6921182266009852\n",
      "\u001b[36m(ClientAppActor pid=47701)\u001b[0m Epoch 3: train loss 0.039817001670598984, accuracy 0.3528202115158637\n",
      "\u001b[36m(ClientAppActor pid=47699)\u001b[0m Epoch 3: train loss 0.03430710360407829, accuracy 0.4047585327857244\n",
      "\u001b[36m(ClientAppActor pid=47703)\u001b[0m Epoch 5: train loss 0.05348702892661095, accuracy 0.34648636665927735\n",
      "\u001b[36m(ClientAppActor pid=47700)\u001b[0m Epoch 5: train loss 0.022939879447221756, accuracy 0.6921182266009852\n",
      "\u001b[36m(ClientAppActor pid=47704)\u001b[0m Epoch 3: train loss 0.04847807437181473, accuracy 0.2882991556091677\n",
      "\u001b[36m(ClientAppActor pid=47701)\u001b[0m Epoch 4: train loss 0.031570132821798325, accuracy 0.4897179788484136\u001b[32m [repeated 2x across cluster]\u001b[0m\n",
      "\u001b[36m(ClientAppActor pid=47703)\u001b[0m Epoch 6: train loss 0.05473078414797783, accuracy 0.34648636665927735\n",
      "\u001b[36m(ClientAppActor pid=47699)\u001b[0m Epoch 4: train loss 0.03345980867743492, accuracy 0.3996601048010197\n",
      "\u001b[36m(ClientAppActor pid=47700)\u001b[0m Epoch 6: train loss 0.02393280901014805, accuracy 0.6921182266009852\n",
      "\u001b[36m(ClientAppActor pid=47703)\u001b[0m Epoch 7: train loss 0.05558870732784271, accuracy 0.34648636665927735\n",
      "\u001b[36m(ClientAppActor pid=47704)\u001b[0m Epoch 4: train loss 0.049105193465948105, accuracy 0.2882991556091677\n",
      "\u001b[36m(ClientAppActor pid=47702)\u001b[0m Epoch 4: train loss 0.0372263640165329, accuracy 0.467360454115421\n",
      "\u001b[36m(ClientAppActor pid=47701)\u001b[0m Epoch 5: train loss 0.02999008074402809, accuracy 0.5850470035252644\n",
      "\u001b[36m(ClientAppActor pid=47700)\u001b[0m Epoch 7: train loss 0.023702535778284073, accuracy 0.6921182266009852\n",
      "\u001b[36m(ClientAppActor pid=47699)\u001b[0m Epoch 5: train loss 0.03285093232989311, accuracy 0.46948024359155927\n",
      "\u001b[36m(ClientAppActor pid=47703)\u001b[0m Epoch 8: train loss 0.055238451808691025, accuracy 0.34648636665927735\n",
      "\u001b[36m(ClientAppActor pid=47700)\u001b[0m Epoch 8: train loss 0.022508716210722923, accuracy 0.6921182266009852\n",
      "\u001b[36m(ClientAppActor pid=47701)\u001b[0m Epoch 6: train loss 0.031398072838783264, accuracy 0.5850470035252644\n",
      "\u001b[36m(ClientAppActor pid=47704)\u001b[0m Epoch 5: train loss 0.047982264310121536, accuracy 0.28854041013269\n",
      "\u001b[36m(ClientAppActor pid=47702)\u001b[0m Epoch 5: train loss 0.03884671628475189, accuracy 0.4718543046357616\n",
      "\u001b[36m(ClientAppActor pid=47699)\u001b[0m Epoch 6: train loss 0.032706812024116516, accuracy 0.46948024359155927\n",
      "\u001b[36m(ClientAppActor pid=47701)\u001b[0m Epoch 7: train loss 0.031080301851034164, accuracy 0.5850470035252644\n",
      "\u001b[36m(ClientAppActor pid=47704)\u001b[0m Epoch 6: train loss 0.04802636802196503, accuracy 0.2802171290711701\n",
      "\u001b[36m(ClientAppActor pid=47702)\u001b[0m Epoch 6: train loss 0.03759311884641647, accuracy 0.4718543046357616\n",
      "\u001b[36m(ClientAppActor pid=47699)\u001b[0m Epoch 7: train loss 0.03277881070971489, accuracy 0.46948024359155927\n",
      "\u001b[36m(ClientAppActor pid=47701)\u001b[0m Epoch 8: train loss 0.029537951573729515, accuracy 0.5850470035252644\n",
      "\u001b[36m(ClientAppActor pid=47704)\u001b[0m Epoch 7: train loss 0.0481891967356205, accuracy 0.2802171290711701\n",
      "\u001b[36m(ClientAppActor pid=47699)\u001b[0m Epoch 8: train loss 0.03273940458893776, accuracy 0.46948024359155927\n",
      "\u001b[36m(ClientAppActor pid=47702)\u001b[0m Epoch 7: train loss 0.03642219677567482, accuracy 0.4718543046357616\n",
      "\u001b[36m(ClientAppActor pid=47704)\u001b[0m Epoch 8: train loss 0.04793235659599304, accuracy 0.2802171290711701\n"
     ]
    },
    {
     "name": "stderr",
     "output_type": "stream",
     "text": [
      "\u001b[92mINFO \u001b[0m:      aggregate_fit: received 6 results and 0 failures\n"
     ]
    },
    {
     "name": "stdout",
     "output_type": "stream",
     "text": [
      "\u001b[36m(ClientAppActor pid=47702)\u001b[0m Epoch 8: train loss 0.03598695248365402, accuracy 0.4001892147587512\n"
     ]
    },
    {
     "name": "stderr",
     "output_type": "stream",
     "text": [
      "\u001b[92mINFO \u001b[0m:      fit progress: (21, 0.08096349906921387, {'accuracy': 0.1}, 26213.14285645797)\n",
      "\u001b[92mINFO \u001b[0m:      configure_evaluate: strategy sampled 6 clients (out of 6)\n",
      "\u001b[36m(ClientAppActor pid=47703)\u001b[0m /Users/macbook/Desktop/L361/L361_Project/.conda/lib/python3.12/site-packages/datasets/utils/_dill.py:385: DeprecationWarning: co_lnotab is deprecated, use co_lines instead.\u001b[32m [repeated 6x across cluster]\u001b[0m\n",
      "\u001b[36m(ClientAppActor pid=47703)\u001b[0m   obj.co_lnotab,  # for < python 3.10 [not counted in args]\u001b[32m [repeated 6x across cluster]\u001b[0m\n"
     ]
    },
    {
     "name": "stdout",
     "output_type": "stream",
     "text": [
      "\u001b[36m(ClientAppActor pid=47703)\u001b[0m [Client 3] evaluate, config: {}\n"
     ]
    },
    {
     "name": "stderr",
     "output_type": "stream",
     "text": [
      "\u001b[92mINFO \u001b[0m:      aggregate_evaluate: received 6 results and 0 failures\n",
      "\u001b[92mINFO \u001b[0m:      \n",
      "\u001b[92mINFO \u001b[0m:      [ROUND 22]\n",
      "\u001b[92mINFO \u001b[0m:      configure_fit: strategy sampled 6 clients (out of 6)\n",
      "\u001b[36m(ClientAppActor pid=47700)\u001b[0m /Users/macbook/Desktop/L361/L361_Project/.conda/lib/python3.12/site-packages/datasets/utils/_dill.py:385: DeprecationWarning: co_lnotab is deprecated, use co_lines instead.\u001b[32m [repeated 6x across cluster]\u001b[0m\n",
      "\u001b[36m(ClientAppActor pid=47700)\u001b[0m   obj.co_lnotab,  # for < python 3.10 [not counted in args]\u001b[32m [repeated 6x across cluster]\u001b[0m\n"
     ]
    },
    {
     "name": "stdout",
     "output_type": "stream",
     "text": [
      "\u001b[36m(ClientAppActor pid=47700)\u001b[0m [Client 0] fit, config: {}\n",
      "\u001b[36m(ClientAppActor pid=47701)\u001b[0m [Client 1] evaluate, config: {}\u001b[32m [repeated 5x across cluster]\u001b[0m\n",
      "\u001b[36m(ClientAppActor pid=47699)\u001b[0m Epoch 1: train loss 0.07386008650064468, accuracy 0.08135668366215916\n",
      "\u001b[36m(ClientAppActor pid=47699)\u001b[0m [Client 3] fit, config: {}\u001b[32m [repeated 5x across cluster]\u001b[0m\n",
      "\u001b[36m(ClientAppActor pid=47703)\u001b[0m Epoch 1: train loss 0.06177240237593651, accuracy 0.22064860426929392\n",
      "\u001b[36m(ClientAppActor pid=47704)\u001b[0m Epoch 1: train loss 0.0811002105474472, accuracy 0.19036427732079905\n",
      "\u001b[36m(ClientAppActor pid=47700)\u001b[0m Epoch 1: train loss 0.05961479991674423, accuracy 0.2482509047044632\u001b[32m [repeated 2x across cluster]\u001b[0m\n",
      "\u001b[36m(ClientAppActor pid=47702)\u001b[0m Epoch 1: train loss 0.07083854079246521, accuracy 0.1500709555345317\n",
      "\u001b[36m(ClientAppActor pid=47699)\u001b[0m Epoch 2: train loss 0.06380023062229156, accuracy 0.1855464420305919\n",
      "\u001b[36m(ClientAppActor pid=47703)\u001b[0m Epoch 2: train loss 0.04268011823296547, accuracy 0.30049261083743845\n",
      "\u001b[36m(ClientAppActor pid=47699)\u001b[0m Epoch 3: train loss 0.05753565579652786, accuracy 0.1855464420305919\n",
      "\u001b[36m(ClientAppActor pid=47704)\u001b[0m Epoch 2: train loss 0.053218647837638855, accuracy 0.3528202115158637\n",
      "\u001b[36m(ClientAppActor pid=47701)\u001b[0m Epoch 2: train loss 0.03797367215156555, accuracy 0.46948024359155927\n",
      "\u001b[36m(ClientAppActor pid=47703)\u001b[0m Epoch 3: train loss 0.0297177042812109, accuracy 0.5324302134646962\n",
      "\u001b[36m(ClientAppActor pid=47700)\u001b[0m Epoch 2: train loss 0.04939122498035431, accuracy 0.2767189384800965\n",
      "\u001b[36m(ClientAppActor pid=47702)\u001b[0m Epoch 2: train loss 0.04644860327243805, accuracy 0.39829706717123936\n",
      "\u001b[36m(ClientAppActor pid=47699)\u001b[0m Epoch 4: train loss 0.05406809598207474, accuracy 0.31256927510529814\n",
      "\u001b[36m(ClientAppActor pid=47703)\u001b[0m Epoch 4: train loss 0.023329973220825195, accuracy 0.6921182266009852\n",
      "\u001b[36m(ClientAppActor pid=47704)\u001b[0m Epoch 3: train loss 0.03993607312440872, accuracy 0.3528202115158637\n",
      "\u001b[36m(ClientAppActor pid=47699)\u001b[0m Epoch 5: train loss 0.0534200444817543, accuracy 0.34648636665927735\u001b[32m [repeated 2x across cluster]\u001b[0m\n",
      "\u001b[36m(ClientAppActor pid=47703)\u001b[0m Epoch 5: train loss 0.02297345921397209, accuracy 0.6921182266009852\n",
      "\u001b[36m(ClientAppActor pid=47700)\u001b[0m Epoch 3: train loss 0.04857230186462402, accuracy 0.28914354644149576\n",
      "\u001b[36m(ClientAppActor pid=47702)\u001b[0m Epoch 3: train loss 0.037998102605342865, accuracy 0.39829706717123936\n",
      "\u001b[36m(ClientAppActor pid=47699)\u001b[0m Epoch 6: train loss 0.05458734557032585, accuracy 0.34648636665927735\n",
      "\u001b[36m(ClientAppActor pid=47704)\u001b[0m Epoch 4: train loss 0.031685732305049896, accuracy 0.48252056404230315\n",
      "\u001b[36m(ClientAppActor pid=47701)\u001b[0m Epoch 4: train loss 0.03334584832191467, accuracy 0.41538025775385923\n",
      "\u001b[36m(ClientAppActor pid=47703)\u001b[0m Epoch 6: train loss 0.02400754578411579, accuracy 0.6921182266009852\n",
      "\u001b[36m(ClientAppActor pid=47699)\u001b[0m Epoch 7: train loss 0.05545886978507042, accuracy 0.34648636665927735\n",
      "\u001b[36m(ClientAppActor pid=47700)\u001b[0m Epoch 4: train loss 0.04921706020832062, accuracy 0.2882991556091677\n",
      "\u001b[36m(ClientAppActor pid=47703)\u001b[0m Epoch 7: train loss 0.023815670982003212, accuracy 0.6921182266009852\n",
      "\u001b[36m(ClientAppActor pid=47702)\u001b[0m Epoch 4: train loss 0.03722053021192551, accuracy 0.4600283822138127\n",
      "\u001b[36m(ClientAppActor pid=47704)\u001b[0m Epoch 5: train loss 0.03010416403412819, accuracy 0.5850470035252644\n",
      "\u001b[36m(ClientAppActor pid=47701)\u001b[0m Epoch 5: train loss 0.032869089394807816, accuracy 0.46948024359155927\n",
      "\u001b[36m(ClientAppActor pid=47699)\u001b[0m Epoch 8: train loss 0.055198486894369125, accuracy 0.34648636665927735\n",
      "\u001b[36m(ClientAppActor pid=47703)\u001b[0m Epoch 8: train loss 0.022557932883501053, accuracy 0.6921182266009852\n",
      "\u001b[36m(ClientAppActor pid=47700)\u001b[0m Epoch 5: train loss 0.04805758595466614, accuracy 0.28769601930036187\n",
      "\u001b[36m(ClientAppActor pid=47704)\u001b[0m Epoch 6: train loss 0.03135719150304794, accuracy 0.5850470035252644\n",
      "\u001b[36m(ClientAppActor pid=47701)\u001b[0m Epoch 6: train loss 0.03265633434057236, accuracy 0.46948024359155927\n",
      "\u001b[36m(ClientAppActor pid=47702)\u001b[0m Epoch 5: train loss 0.03866952657699585, accuracy 0.4718543046357616\n",
      "\u001b[36m(ClientAppActor pid=47704)\u001b[0m Epoch 7: train loss 0.03097432665526867, accuracy 0.5850470035252644\n",
      "\u001b[36m(ClientAppActor pid=47700)\u001b[0m Epoch 6: train loss 0.04796227440237999, accuracy 0.2802171290711701\n",
      "\u001b[36m(ClientAppActor pid=47701)\u001b[0m Epoch 7: train loss 0.03283202648162842, accuracy 0.46948024359155927\n",
      "\u001b[36m(ClientAppActor pid=47702)\u001b[0m Epoch 6: train loss 0.038001030683517456, accuracy 0.4718543046357616\n",
      "\u001b[36m(ClientAppActor pid=47704)\u001b[0m Epoch 8: train loss 0.029463928192853928, accuracy 0.5850470035252644\n",
      "\u001b[36m(ClientAppActor pid=47701)\u001b[0m Epoch 8: train loss 0.03270256519317627, accuracy 0.46948024359155927\n",
      "\u001b[36m(ClientAppActor pid=47700)\u001b[0m Epoch 7: train loss 0.048182617872953415, accuracy 0.2802171290711701\n",
      "\u001b[36m(ClientAppActor pid=47702)\u001b[0m Epoch 7: train loss 0.03669939190149307, accuracy 0.4718543046357616\n",
      "\u001b[36m(ClientAppActor pid=47700)\u001b[0m Epoch 8: train loss 0.048011135309934616, accuracy 0.2802171290711701\n"
     ]
    },
    {
     "name": "stderr",
     "output_type": "stream",
     "text": [
      "\u001b[92mINFO \u001b[0m:      aggregate_fit: received 6 results and 0 failures\n"
     ]
    },
    {
     "name": "stdout",
     "output_type": "stream",
     "text": [
      "\u001b[36m(ClientAppActor pid=47702)\u001b[0m Epoch 8: train loss 0.035992275923490524, accuracy 0.4250236518448439\n"
     ]
    },
    {
     "name": "stderr",
     "output_type": "stream",
     "text": [
      "\u001b[92mINFO \u001b[0m:      fit progress: (22, 0.08089336874485016, {'accuracy': 0.1}, 27511.167948958)\n",
      "\u001b[92mINFO \u001b[0m:      configure_evaluate: strategy sampled 6 clients (out of 6)\n",
      "\u001b[36m(ClientAppActor pid=47700)\u001b[0m /Users/macbook/Desktop/L361/L361_Project/.conda/lib/python3.12/site-packages/datasets/utils/_dill.py:385: DeprecationWarning: co_lnotab is deprecated, use co_lines instead.\u001b[32m [repeated 6x across cluster]\u001b[0m\n",
      "\u001b[36m(ClientAppActor pid=47700)\u001b[0m   obj.co_lnotab,  # for < python 3.10 [not counted in args]\u001b[32m [repeated 6x across cluster]\u001b[0m\n"
     ]
    },
    {
     "name": "stdout",
     "output_type": "stream",
     "text": [
      "\u001b[36m(ClientAppActor pid=47700)\u001b[0m [Client 1] evaluate, config: {}\n"
     ]
    },
    {
     "name": "stderr",
     "output_type": "stream",
     "text": [
      "\u001b[92mINFO \u001b[0m:      aggregate_evaluate: received 6 results and 0 failures\n",
      "\u001b[92mINFO \u001b[0m:      \n",
      "\u001b[92mINFO \u001b[0m:      [ROUND 23]\n",
      "\u001b[92mINFO \u001b[0m:      configure_fit: strategy sampled 6 clients (out of 6)\n"
     ]
    },
    {
     "name": "stdout",
     "output_type": "stream",
     "text": [
      "\u001b[36m(ClientAppActor pid=47701)\u001b[0m [Client 1] fit, config: {}\n",
      "\u001b[36m(ClientAppActor pid=47703)\u001b[0m [Client 3] evaluate, config: {}\u001b[32m [repeated 5x across cluster]\u001b[0m\n"
     ]
    },
    {
     "name": "stderr",
     "output_type": "stream",
     "text": [
      "\u001b[36m(ClientAppActor pid=47701)\u001b[0m /Users/macbook/Desktop/L361/L361_Project/.conda/lib/python3.12/site-packages/datasets/utils/_dill.py:385: DeprecationWarning: co_lnotab is deprecated, use co_lines instead.\u001b[32m [repeated 6x across cluster]\u001b[0m\n",
      "\u001b[36m(ClientAppActor pid=47701)\u001b[0m   obj.co_lnotab,  # for < python 3.10 [not counted in args]\u001b[32m [repeated 6x across cluster]\u001b[0m\n"
     ]
    },
    {
     "name": "stdout",
     "output_type": "stream",
     "text": [
      "\u001b[36m(ClientAppActor pid=47699)\u001b[0m Epoch 1: train loss 0.07376144081354141, accuracy 0.09266238084681888\n",
      "\u001b[36m(ClientAppActor pid=47700)\u001b[0m [Client 4] fit, config: {}\u001b[32m [repeated 5x across cluster]\u001b[0m\n",
      "\u001b[36m(ClientAppActor pid=47702)\u001b[0m Epoch 1: train loss 0.06158936023712158, accuracy 0.22947454844006568\n",
      "\u001b[36m(ClientAppActor pid=47701)\u001b[0m Epoch 1: train loss 0.0808791071176529, accuracy 0.18727967097532314\n",
      "\u001b[36m(ClientAppActor pid=47703)\u001b[0m Epoch 1: train loss 0.05958794429898262, accuracy 0.2482509047044632\u001b[32m [repeated 2x across cluster]\u001b[0m\n",
      "\u001b[36m(ClientAppActor pid=47700)\u001b[0m Epoch 1: train loss 0.0704813003540039, accuracy 0.14723273415326396\n",
      "\u001b[36m(ClientAppActor pid=47699)\u001b[0m Epoch 2: train loss 0.06384685635566711, accuracy 0.1855464420305919\n",
      "\u001b[36m(ClientAppActor pid=47702)\u001b[0m Epoch 2: train loss 0.04259872809052467, accuracy 0.30049261083743845\n",
      "\u001b[36m(ClientAppActor pid=47699)\u001b[0m Epoch 3: train loss 0.057627417147159576, accuracy 0.1855464420305919\n",
      "\u001b[36m(ClientAppActor pid=47704)\u001b[0m Epoch 2: train loss 0.03801443800330162, accuracy 0.46948024359155927\u001b[32m [repeated 2x across cluster]\u001b[0m\n",
      "\u001b[36m(ClientAppActor pid=47702)\u001b[0m Epoch 3: train loss 0.029618650674819946, accuracy 0.5301724137931034\n",
      "\u001b[36m(ClientAppActor pid=47703)\u001b[0m Epoch 2: train loss 0.04933948814868927, accuracy 0.26863691194209893\n",
      "\u001b[36m(ClientAppActor pid=47700)\u001b[0m Epoch 2: train loss 0.046492598950862885, accuracy 0.39829706717123936\n",
      "\u001b[36m(ClientAppActor pid=47699)\u001b[0m Epoch 4: train loss 0.05403023213148117, accuracy 0.31013079139880295\n",
      "\u001b[36m(ClientAppActor pid=47702)\u001b[0m Epoch 4: train loss 0.023346181958913803, accuracy 0.6921182266009852\n",
      "\u001b[36m(ClientAppActor pid=47701)\u001b[0m Epoch 3: train loss 0.03994424268603325, accuracy 0.3528202115158637\n",
      "\u001b[36m(ClientAppActor pid=47704)\u001b[0m Epoch 3: train loss 0.03436020761728287, accuracy 0.390312986829061\n",
      "\u001b[36m(ClientAppActor pid=47699)\u001b[0m Epoch 5: train loss 0.053448211401700974, accuracy 0.34648636665927735\n",
      "\u001b[36m(ClientAppActor pid=47702)\u001b[0m Epoch 5: train loss 0.02321425825357437, accuracy 0.6921182266009852\n",
      "\u001b[36m(ClientAppActor pid=47703)\u001b[0m Epoch 3: train loss 0.04846823588013649, accuracy 0.2887816646562123\n",
      "\u001b[36m(ClientAppActor pid=47700)\u001b[0m Epoch 3: train loss 0.038196150213479996, accuracy 0.39829706717123936\n",
      "\u001b[36m(ClientAppActor pid=47699)\u001b[0m Epoch 6: train loss 0.05467470362782478, accuracy 0.34648636665927735\n",
      "\u001b[36m(ClientAppActor pid=47701)\u001b[0m Epoch 4: train loss 0.03168762847781181, accuracy 0.5033783783783784\n",
      "\u001b[36m(ClientAppActor pid=47704)\u001b[0m Epoch 4: train loss 0.033313948661088943, accuracy 0.4258603597224189\n",
      "\u001b[36m(ClientAppActor pid=47702)\u001b[0m Epoch 6: train loss 0.024203313514590263, accuracy 0.6921182266009852\n",
      "\u001b[36m(ClientAppActor pid=47699)\u001b[0m Epoch 7: train loss 0.05555584654211998, accuracy 0.34648636665927735\n",
      "\u001b[36m(ClientAppActor pid=47703)\u001b[0m Epoch 4: train loss 0.04915839806199074, accuracy 0.2882991556091677\n",
      "\u001b[36m(ClientAppActor pid=47702)\u001b[0m Epoch 7: train loss 0.023868266493082047, accuracy 0.6921182266009852\n",
      "\u001b[36m(ClientAppActor pid=47701)\u001b[0m Epoch 5: train loss 0.03025263547897339, accuracy 0.5850470035252644\u001b[32m [repeated 2x across cluster]\u001b[0m\n",
      "\u001b[36m(ClientAppActor pid=47704)\u001b[0m Epoch 5: train loss 0.032962918281555176, accuracy 0.46948024359155927\n",
      "\u001b[36m(ClientAppActor pid=47699)\u001b[0m Epoch 8: train loss 0.055310994386672974, accuracy 0.34648636665927735\n",
      "\u001b[36m(ClientAppActor pid=47702)\u001b[0m Epoch 8: train loss 0.022474398836493492, accuracy 0.6921182266009852\n",
      "\u001b[36m(ClientAppActor pid=47701)\u001b[0m Epoch 6: train loss 0.031297288835048676, accuracy 0.5850470035252644\n",
      "\u001b[36m(ClientAppActor pid=47700)\u001b[0m Epoch 5: train loss 0.03861193731427193, accuracy 0.4718543046357616\u001b[32m [repeated 2x across cluster]\u001b[0m\n",
      "\u001b[36m(ClientAppActor pid=47701)\u001b[0m Epoch 7: train loss 0.03078274615108967, accuracy 0.5850470035252644\u001b[32m [repeated 2x across cluster]\u001b[0m\n",
      "\u001b[36m(ClientAppActor pid=47704)\u001b[0m Epoch 7: train loss 0.03276367112994194, accuracy 0.46948024359155927\n",
      "\u001b[36m(ClientAppActor pid=47703)\u001b[0m Epoch 6: train loss 0.04795059934258461, accuracy 0.2802171290711701\n",
      "\u001b[36m(ClientAppActor pid=47700)\u001b[0m Epoch 6: train loss 0.03831277787685394, accuracy 0.4718543046357616\n",
      "\u001b[36m(ClientAppActor pid=47701)\u001b[0m Epoch 8: train loss 0.029391469433903694, accuracy 0.5850470035252644\n",
      "\u001b[36m(ClientAppActor pid=47704)\u001b[0m Epoch 8: train loss 0.03267352655529976, accuracy 0.46948024359155927\n",
      "\u001b[36m(ClientAppActor pid=47703)\u001b[0m Epoch 7: train loss 0.04819789156317711, accuracy 0.2802171290711701\n",
      "\u001b[36m(ClientAppActor pid=47700)\u001b[0m Epoch 7: train loss 0.03689052537083626, accuracy 0.4718543046357616\n",
      "\u001b[36m(ClientAppActor pid=47703)\u001b[0m Epoch 8: train loss 0.04796411842107773, accuracy 0.2802171290711701\n",
      "\u001b[36m(ClientAppActor pid=47703)\u001b[0m \n"
     ]
    },
    {
     "name": "stderr",
     "output_type": "stream",
     "text": [
      "\u001b[92mINFO \u001b[0m:      aggregate_fit: received 6 results and 0 failures\n"
     ]
    },
    {
     "name": "stdout",
     "output_type": "stream",
     "text": [
      "\u001b[36m(ClientAppActor pid=47700)\u001b[0m Epoch 8: train loss 0.03608280047774315, accuracy 0.4273888363292337\n"
     ]
    },
    {
     "name": "stderr",
     "output_type": "stream",
     "text": [
      "\u001b[92mINFO \u001b[0m:      fit progress: (23, 0.08093273890018463, {'accuracy': 0.1}, 28789.73927279096)\n",
      "\u001b[92mINFO \u001b[0m:      configure_evaluate: strategy sampled 6 clients (out of 6)\n",
      "\u001b[36m(ClientAppActor pid=47703)\u001b[0m /Users/macbook/Desktop/L361/L361_Project/.conda/lib/python3.12/site-packages/datasets/utils/_dill.py:385: DeprecationWarning: co_lnotab is deprecated, use co_lines instead.\u001b[32m [repeated 6x across cluster]\u001b[0m\n",
      "\u001b[36m(ClientAppActor pid=47703)\u001b[0m   obj.co_lnotab,  # for < python 3.10 [not counted in args]\u001b[32m [repeated 6x across cluster]\u001b[0m\n"
     ]
    },
    {
     "name": "stdout",
     "output_type": "stream",
     "text": [
      "\u001b[36m(ClientAppActor pid=47703)\u001b[0m [Client 2] evaluate, config: {}\n"
     ]
    },
    {
     "name": "stderr",
     "output_type": "stream",
     "text": [
      "\u001b[92mINFO \u001b[0m:      aggregate_evaluate: received 6 results and 0 failures\n",
      "\u001b[92mINFO \u001b[0m:      \n",
      "\u001b[92mINFO \u001b[0m:      [SUMMARY]\n",
      "\u001b[92mINFO \u001b[0m:      Run finished 23 round(s) in 28806.90s\n",
      "\u001b[92mINFO \u001b[0m:      \tHistory (loss, distributed):\n",
      "\u001b[92mINFO \u001b[0m:      \t\tround 1: 0.0733344480620379\n",
      "\u001b[92mINFO \u001b[0m:      \t\tround 2: 0.07861534421179178\n",
      "\u001b[92mINFO \u001b[0m:      \t\tround 3: 0.0735365781137827\n",
      "\u001b[92mINFO \u001b[0m:      \t\tround 4: 0.08931436530261483\n",
      "\u001b[92mINFO \u001b[0m:      \t\tround 5: 0.07559032718317918\n",
      "\u001b[92mINFO \u001b[0m:      \t\tround 6: 0.08195886083237248\n",
      "\u001b[92mINFO \u001b[0m:      \t\tround 7: 0.07762921844529369\n",
      "\u001b[92mINFO \u001b[0m:      \t\tround 8: 0.08290497102174459\n",
      "\u001b[92mINFO \u001b[0m:      \t\tround 9: 0.07752900906888047\n",
      "\u001b[92mINFO \u001b[0m:      \t\tround 10: 0.08288709662444595\n",
      "\u001b[92mINFO \u001b[0m:      \t\tround 11: 0.07928307707181516\n",
      "\u001b[92mINFO \u001b[0m:      \t\tround 12: 0.08177047780602444\n",
      "\u001b[92mINFO \u001b[0m:      \t\tround 13: 0.07920658065213997\n",
      "\u001b[92mINFO \u001b[0m:      \t\tround 14: 0.0816032976916539\n",
      "\u001b[92mINFO \u001b[0m:      \t\tround 15: 0.07949122979749494\n",
      "\u001b[92mINFO \u001b[0m:      \t\tround 16: 0.0828688689738118\n",
      "\u001b[92mINFO \u001b[0m:      \t\tround 17: 0.07958791522004778\n",
      "\u001b[92mINFO \u001b[0m:      \t\tround 18: 0.08350425950535527\n",
      "\u001b[92mINFO \u001b[0m:      \t\tround 19: 0.08159501536599083\n",
      "\u001b[92mINFO \u001b[0m:      \t\tround 20: 0.08192390845108904\n",
      "\u001b[92mINFO \u001b[0m:      \t\tround 21: 0.08189409135626419\n",
      "\u001b[92mINFO \u001b[0m:      \t\tround 22: 0.08182367544037646\n",
      "\u001b[92mINFO \u001b[0m:      \t\tround 23: 0.08186525013763725\n",
      "\u001b[92mINFO \u001b[0m:      \tHistory (loss, centralized):\n",
      "\u001b[92mINFO \u001b[0m:      \t\tround 0: 0.07207894446849823\n",
      "\u001b[92mINFO \u001b[0m:      \t\tround 1: 0.07245280668735504\n",
      "\u001b[92mINFO \u001b[0m:      \t\tround 2: 0.0777942162513733\n",
      "\u001b[92mINFO \u001b[0m:      \t\tround 3: 0.07254548392295837\n",
      "\u001b[92mINFO \u001b[0m:      \t\tround 4: 0.08825023458003997\n",
      "\u001b[92mINFO \u001b[0m:      \t\tround 5: 0.07465242626667022\n",
      "\u001b[92mINFO \u001b[0m:      \t\tround 6: 0.08102917747497558\n",
      "\u001b[92mINFO \u001b[0m:      \t\tround 7: 0.07670577139854431\n",
      "\u001b[92mINFO \u001b[0m:      \t\tround 8: 0.0820289286851883\n",
      "\u001b[92mINFO \u001b[0m:      \t\tround 9: 0.07660536644458771\n",
      "\u001b[92mINFO \u001b[0m:      \t\tround 10: 0.082005996966362\n",
      "\u001b[92mINFO \u001b[0m:      \t\tround 11: 0.07835739090442657\n",
      "\u001b[92mINFO \u001b[0m:      \t\tround 12: 0.08086279973983765\n",
      "\u001b[92mINFO \u001b[0m:      \t\tround 13: 0.07827812218666076\n",
      "\u001b[92mINFO \u001b[0m:      \t\tround 14: 0.08072197122573853\n",
      "\u001b[92mINFO \u001b[0m:      \t\tround 15: 0.07853717896938324\n",
      "\u001b[92mINFO \u001b[0m:      \t\tround 16: 0.08195166985988617\n",
      "\u001b[92mINFO \u001b[0m:      \t\tround 17: 0.0786117211818695\n",
      "\u001b[92mINFO \u001b[0m:      \t\tround 18: 0.08254343469142914\n",
      "\u001b[92mINFO \u001b[0m:      \t\tround 19: 0.08066017246246338\n",
      "\u001b[92mINFO \u001b[0m:      \t\tround 20: 0.08099125492572784\n",
      "\u001b[92mINFO \u001b[0m:      \t\tround 21: 0.08096349906921387\n",
      "\u001b[92mINFO \u001b[0m:      \t\tround 22: 0.08089336874485016\n",
      "\u001b[92mINFO \u001b[0m:      \t\tround 23: 0.08093273890018463\n",
      "\u001b[92mINFO \u001b[0m:      \tHistory (metrics, centralized):\n",
      "\u001b[92mINFO \u001b[0m:      \t{'accuracy': [(0, 0.1),\n",
      "\u001b[92mINFO \u001b[0m:      \t              (1, 0.1),\n",
      "\u001b[92mINFO \u001b[0m:      \t              (2, 0.1),\n",
      "\u001b[92mINFO \u001b[0m:      \t              (3, 0.1),\n",
      "\u001b[92mINFO \u001b[0m:      \t              (4, 0.1),\n",
      "\u001b[92mINFO \u001b[0m:      \t              (5, 0.1),\n",
      "\u001b[92mINFO \u001b[0m:      \t              (6, 0.1),\n",
      "\u001b[92mINFO \u001b[0m:      \t              (7, 0.1),\n",
      "\u001b[92mINFO \u001b[0m:      \t              (8, 0.1),\n",
      "\u001b[92mINFO \u001b[0m:      \t              (9, 0.1),\n",
      "\u001b[92mINFO \u001b[0m:      \t              (10, 0.1),\n",
      "\u001b[92mINFO \u001b[0m:      \t              (11, 0.1),\n",
      "\u001b[92mINFO \u001b[0m:      \t              (12, 0.1),\n",
      "\u001b[92mINFO \u001b[0m:      \t              (13, 0.1),\n",
      "\u001b[92mINFO \u001b[0m:      \t              (14, 0.1),\n",
      "\u001b[92mINFO \u001b[0m:      \t              (15, 0.1),\n",
      "\u001b[92mINFO \u001b[0m:      \t              (16, 0.1),\n",
      "\u001b[92mINFO \u001b[0m:      \t              (17, 0.1),\n",
      "\u001b[92mINFO \u001b[0m:      \t              (18, 0.1),\n",
      "\u001b[92mINFO \u001b[0m:      \t              (19, 0.1),\n",
      "\u001b[92mINFO \u001b[0m:      \t              (20, 0.1),\n",
      "\u001b[92mINFO \u001b[0m:      \t              (21, 0.1),\n",
      "\u001b[92mINFO \u001b[0m:      \t              (22, 0.1),\n",
      "\u001b[92mINFO \u001b[0m:      \t              (23, 0.1)]}\n",
      "\u001b[92mINFO \u001b[0m:      \n"
     ]
    },
    {
     "name": "stdout",
     "output_type": "stream",
     "text": [
      "\u001b[36m(ClientAppActor pid=47701)\u001b[0m [Client 4] evaluate, config: {}\u001b[32m [repeated 5x across cluster]\u001b[0m\n"
     ]
    },
    {
     "name": "stderr",
     "output_type": "stream",
     "text": [
      "\u001b[36m(ClientAppActor pid=47701)\u001b[0m /Users/macbook/Desktop/L361/L361_Project/.conda/lib/python3.12/site-packages/datasets/utils/_dill.py:385: DeprecationWarning: co_lnotab is deprecated, use co_lines instead.\u001b[32m [repeated 5x across cluster]\u001b[0m\n",
      "\u001b[36m(ClientAppActor pid=47701)\u001b[0m   obj.co_lnotab,  # for < python 3.10 [not counted in args]\u001b[32m [repeated 5x across cluster]\u001b[0m\n"
     ]
    }
   ],
   "source": [
    "net = Net().to(DEVICE)\n",
    "\n",
    "_, _, testloader = load_datasets(0, NUM_PARTITIONS)\n",
    "\n",
    "evaluate_fn = get_evaluate_fn(testloader, net)\n",
    "\n",
    "\n",
    "def server_fn(context: Context) -> ServerAppComponents:\n",
    "    # Configure the server for just 3 rounds of training\n",
    "    config = ServerConfig(num_rounds=NUM_OF_ROUNDS)\n",
    "    return ServerAppComponents(\n",
    "        config=config,\n",
    "        strategy=ModifiedFedAvg(\n",
    "            evaluate_fn=evaluate_fn\n",
    "        ),\n",
    "    )\n",
    "\n",
    "server = ServerApp(server_fn=server_fn)\n",
    "\n",
    "# Run simulation\n",
    "run_simulation(\n",
    "    server_app=server,\n",
    "    client_app=client,\n",
    "    num_supernodes=NUM_PARTITIONS,\n",
    "    backend_config=backend_config,\n",
    ")"
   ]
  },
  {
   "cell_type": "code",
   "execution_count": 10,
   "metadata": {},
   "outputs": [],
   "source": [
    "\n",
    " \n",
    "with open(f'results/fed_avg_data_heterogenity_results.p', 'wb') as file:\n",
    "    pickle.dump(fed_avg_result, file)\n",
    "\n",
    "with open(f'results/fed_avg_model_data_heterogenity_results.p', 'wb') as file:\n",
    "    pickle.dump(fed_avg_model_results, file)"
   ]
  },
  {
   "cell_type": "code",
   "execution_count": 11,
   "metadata": {},
   "outputs": [],
   "source": [
    "import matplotlib.pyplot as plt\n",
    "import numpy as np\n",
    "\n",
    "\n",
    "# fed_avg_rounds = list(fed_avg_result.keys())\n",
    "# fed_avg_sizes = [fed_avg_result[round][\"total_size\"] for round in fed_avg_rounds]\n",
    "\n",
    "# plt.figure(figsize=(10, 5))\n",
    "# plt.plot(fed_avg_rounds, fed_avg_sizes, marker='o', linestyle='-', color='b')\n",
    "# plt.xlabel('Round')\n",
    "# plt.ylabel('Total Size of Parameters (bytes)')\n",
    "# plt.title('Total Size of Parameters for Each Round')\n",
    "# plt.grid(True)\n",
    "\n",
    "# fed_avg_losses = [fed_avg_result[round][\"total_loss\"] for round in fed_avg_rounds]\n",
    "\n",
    "# plt.figure(figsize=(10, 5))\n",
    "# plt.plot(fed_avg_rounds, fed_avg_losses, marker='o', linestyle='-', color='b')\n",
    "# plt.xlabel('Round')\n",
    "# plt.ylabel('Total Loss')\n",
    "# plt.title('Total Loss for Each Round')\n",
    "# plt.grid(True)\n",
    "\n",
    "# fed_avg_model_rounds = list(fed_avg_model_results.keys())\n",
    "\n",
    "# fed_avg_accuracies = [fed_avg_model_results[round][\"global_metrics\"][\"accuracy\"] for round in fed_avg_model_rounds]\n",
    "\n",
    "# plt.figure(figsize=(10, 5))\n",
    "# plt.plot(fed_avg_model_rounds, fed_avg_accuracies, marker='o', linestyle='-', color='b')\n",
    "# plt.xlabel('Round')\n",
    "# plt.ylabel('Accuracy')\n",
    "# plt.title('Accuracy for Each Round')\n",
    "# plt.grid(True)\n",
    "\n",
    "# fed_avg_global_losses = [fed_avg_model_results[round][\"global_loss\"] for round in fed_avg_model_rounds]\n",
    "\n",
    "# plt.figure(figsize=(10, 5))\n",
    "# plt.plot(fed_avg_model_rounds, fed_avg_global_losses, marker='o', linestyle='-', color='b')\n",
    "# plt.xlabel('Round')\n",
    "# plt.ylabel('Loss')\n",
    "# plt.title('Loss for Each Round')\n",
    "# plt.grid(True)"
   ]
  },
  {
   "cell_type": "markdown",
   "metadata": {},
   "source": [
    "# FedProx experiments:"
   ]
  },
  {
   "cell_type": "code",
   "execution_count": 12,
   "metadata": {},
   "outputs": [],
   "source": [
    "class FedProxFlowerClient(NumPyClient):\n",
    "    def __init__(self, partition_id, net, trainloader, valloader):\n",
    "        self.partition_id = partition_id\n",
    "        self.net = net\n",
    "        self.trainloader = trainloader\n",
    "        self.valloader = valloader\n",
    "\n",
    "    def get_parameters(self, config):\n",
    "        print(f\"[Client {self.partition_id}] get_parameters\")\n",
    "        return get_parameters(self.net)\n",
    "\n",
    "    def fit(self, parameters, config):\n",
    "        print(f\"[Client {self.partition_id}] fit, config: {config}\")\n",
    "        set_parameters(self.net, parameters)\n",
    "        global_params = copy.deepcopy(self.net).parameters()\n",
    "        proxima_train(self.net, self.trainloader, EPOCHS, config[\"proximal_mu\"], global_params)\n",
    "        return get_parameters(self.net), len(self.trainloader), {}\n",
    "\n",
    "    def evaluate(self, parameters, config):\n",
    "        print(f\"[Client {self.partition_id}] evaluate, config: {config}\")\n",
    "        set_parameters(self.net, parameters)\n",
    "        loss, accuracy = test(self.net, self.valloader)\n",
    "        return float(loss), len(self.valloader), {\"accuracy\": float(accuracy)}\n",
    "\n",
    "\n",
    "def client_fn(context: Context) -> Client:\n",
    "    net = Net().to(DEVICE)\n",
    "    partition_id = context.node_config[\"partition-id\"]\n",
    "    num_partitions = context.node_config[\"num-partitions\"]\n",
    "    trainloader, valloader, _ = load_datasets(partition_id, num_partitions)\n",
    "    return FedProxFlowerClient(partition_id, net, trainloader, valloader).to_client()\n",
    "\n",
    "\n",
    "# Create the ClientApp\n",
    "client = ClientApp(client_fn=client_fn)"
   ]
  },
  {
   "cell_type": "code",
   "execution_count": 13,
   "metadata": {},
   "outputs": [],
   "source": [
    "fed_prox_result = {}\n",
    "\n",
    "fed_prox_model_results = {}\n",
    "\n",
    "class ModifiedFedProx(ModifiedFedAvg):\n",
    "\n",
    "    def __init__(\n",
    "        self,\n",
    "        *,\n",
    "        fraction_fit: float = 1.0,\n",
    "        fraction_evaluate: float = 1.0,\n",
    "        min_fit_clients: int = 2,\n",
    "        min_evaluate_clients: int = 2,\n",
    "        min_available_clients: int = 2,\n",
    "        evaluate_fn: Optional[\n",
    "            Callable[\n",
    "                [int, NDArrays, dict[str, Scalar]],\n",
    "                Optional[tuple[float, dict[str, Scalar]]],\n",
    "            ]\n",
    "        ] = None,\n",
    "        on_fit_config_fn: Optional[Callable[[int], dict[str, Scalar]]] = None,\n",
    "        on_evaluate_config_fn: Optional[Callable[[int], dict[str, Scalar]]] = None,\n",
    "        accept_failures: bool = True,\n",
    "        initial_parameters: Optional[Parameters] = None,\n",
    "        fit_metrics_aggregation_fn: Optional[MetricsAggregationFn] = None,\n",
    "        evaluate_metrics_aggregation_fn: Optional[MetricsAggregationFn] = None,\n",
    "        proximal_mu: float,\n",
    "    ) -> None:\n",
    "        super().__init__(\n",
    "            fraction_fit=fraction_fit,\n",
    "            fraction_evaluate=fraction_evaluate,\n",
    "            min_fit_clients=min_fit_clients,\n",
    "            min_evaluate_clients=min_evaluate_clients,\n",
    "            min_available_clients=min_available_clients,\n",
    "            evaluate_fn=evaluate_fn,\n",
    "            on_fit_config_fn=on_fit_config_fn,\n",
    "            on_evaluate_config_fn=on_evaluate_config_fn,\n",
    "            accept_failures=accept_failures,\n",
    "            initial_parameters=initial_parameters,\n",
    "            fit_metrics_aggregation_fn=fit_metrics_aggregation_fn,\n",
    "            evaluate_metrics_aggregation_fn=evaluate_metrics_aggregation_fn,\n",
    "        )\n",
    "        self.proximal_mu = proximal_mu\n",
    "\n",
    "\n",
    "    def __repr__(self) -> str:\n",
    "        return \"ModifiedFedProx\"\n",
    "    \n",
    "\n",
    "    def configure_fit(\n",
    "        self, server_round: int, parameters: Parameters, client_manager: ClientManager\n",
    "    ) -> list[tuple[ClientProxy, FitIns]]:\n",
    "        \"\"\"Configure the next round of training.\n",
    "\n",
    "        Sends the proximal factor mu to the clients\n",
    "        \"\"\"\n",
    "        # Get the standard client/config pairs from the FedAvg super-class\n",
    "        client_config_pairs = super().configure_fit(\n",
    "            server_round, parameters, client_manager\n",
    "        )\n",
    "\n",
    "        # Return client/config pairs with the proximal factor mu added\n",
    "        return [\n",
    "            (\n",
    "                client,\n",
    "                FitIns(\n",
    "                    fit_ins.parameters,\n",
    "                    {**fit_ins.config, \"proximal_mu\": self.proximal_mu},\n",
    "                ),\n",
    "            )\n",
    "            for client, fit_ins in client_config_pairs\n",
    "        ]\n",
    "    \n",
    "    def aggregate_fit(\n",
    "        self,\n",
    "        server_round: int,\n",
    "        results: List[Tuple[ClientProxy, FitRes]],\n",
    "        failures: List[Union[Tuple[ClientProxy, FitRes], BaseException]],\n",
    "    ) -> Tuple[Optional[Parameters], Dict[str, Scalar]]:\n",
    "        \"\"\"Aggregate fit results using weighted average.\"\"\"\n",
    "        \n",
    "        total_size = 0\n",
    "        for client, fit_res in results:\n",
    "            total_size += get_parameters_size(fit_res.parameters) *2\n",
    "        print(f\"total size: {total_size}\")\n",
    "        \n",
    "        if fed_prox_result.get(server_round):\n",
    "            fed_prox_result[server_round][\"total_size\"] = total_size\n",
    "        else:\n",
    "            fed_prox_result[server_round] = {\"total_size\": total_size}\n",
    "        \n",
    "\n",
    "        weights_results = [\n",
    "            (parameters_to_ndarrays(fit_res.parameters), fit_res.num_examples)\n",
    "            for _, fit_res in results\n",
    "        ]\n",
    "\n",
    "        parameters_aggregated = ndarrays_to_parameters(aggregate(weights_results))\n",
    "        metrics_aggregated = {}\n",
    "        return parameters_aggregated, metrics_aggregated\n",
    "\n",
    "\n",
    "    def aggregate_evaluate(\n",
    "        self,\n",
    "        server_round: int,\n",
    "        results: List[Tuple[ClientProxy, EvaluateRes]],\n",
    "        failures: List[Union[Tuple[ClientProxy, EvaluateRes], BaseException]],\n",
    "    ) -> Tuple[Optional[float], Dict[str, Scalar]]:\n",
    "        \"\"\"Aggregate evaluation losses using weighted average.\"\"\"\n",
    "\n",
    "        if not results:\n",
    "            return None, {}\n",
    "        \n",
    "        total_loss = 0\n",
    "        for _, evaluate_res in results:\n",
    "            total_loss += evaluate_res.loss\n",
    "\n",
    "        if fed_prox_result.get(server_round):\n",
    "            fed_prox_result[server_round][\"total_loss\"] = total_loss\n",
    "        else:\n",
    "            fed_prox_result[server_round] = {\"total_loss\": total_loss}\n",
    "\n",
    "        loss_aggregated = weighted_loss_avg(\n",
    "            [\n",
    "                (evaluate_res.num_examples, evaluate_res.loss)\n",
    "                for _, evaluate_res in results\n",
    "            ]\n",
    "        )\n",
    "        metrics_aggregated = {}\n",
    "        return loss_aggregated, metrics_aggregated\n",
    "    \n",
    "\n",
    "    def evaluate(\n",
    "        self, server_round: int, parameters: Parameters\n",
    "    ) -> Optional[tuple[float, dict[str, Scalar]]]:\n",
    "        \"\"\"Evaluate model parameters using an evaluation function.\"\"\"\n",
    "        if self.evaluate_fn is None:\n",
    "            # No evaluation function provided\n",
    "            return None\n",
    "        parameters_ndarrays = parameters_to_ndarrays(parameters)\n",
    "        eval_res = self.evaluate_fn(server_round, parameters_ndarrays, {})\n",
    "        if eval_res is None:\n",
    "            return None\n",
    "        \n",
    "        if server_round in fed_prox_model_results:  \n",
    "            expand_fed_prox_model_results= {**fed_prox_model_results[server_round], \"global_loss\": eval_res[0], \"global_metrics\": eval_res[1]}\n",
    "        else:\n",
    "            expand_fed_prox_model_results= {\"global_loss\": eval_res[0], \"global_metrics\": eval_res[1]}\n",
    "        \n",
    "        fed_prox_model_results[server_round] = expand_fed_prox_model_results\n",
    "        \n",
    "        loss, metrics = eval_res\n",
    "        return loss, metrics\n"
   ]
  },
  {
   "cell_type": "code",
   "execution_count": null,
   "metadata": {},
   "outputs": [
    {
     "name": "stderr",
     "output_type": "stream",
     "text": [
      "/Users/macbook/Desktop/L361/L361_Project/.conda/lib/python3.12/site-packages/datasets/utils/_dill.py:385: DeprecationWarning: co_lnotab is deprecated, use co_lines instead.\n",
      "  obj.co_lnotab,  # for < python 3.10 [not counted in args]\n",
      "\u001b[92mINFO \u001b[0m:      Starting Flower ServerApp, config: num_rounds=23, no round_timeout\n",
      "\u001b[92mINFO \u001b[0m:      \n",
      "\u001b[92mINFO \u001b[0m:      [INIT]\n",
      "\u001b[92mINFO \u001b[0m:      Using initial global parameters provided by strategy\n",
      "\u001b[92mINFO \u001b[0m:      Starting evaluation of initial global parameters\n",
      "\u001b[92mINFO \u001b[0m:      initial parameters (loss, other metrics): 0.07208075275421143, {'accuracy': 0.1}\n",
      "\u001b[92mINFO \u001b[0m:      \n",
      "\u001b[92mINFO \u001b[0m:      [ROUND 1]\n",
      "\u001b[92mINFO \u001b[0m:      configure_fit: strategy sampled 6 clients (out of 6)\n",
      "\u001b[36m(ClientAppActor pid=46652)\u001b[0m /Users/macbook/Desktop/L361/L361_Project/.conda/lib/python3.12/site-packages/datasets/utils/_dill.py:385: DeprecationWarning: co_lnotab is deprecated, use co_lines instead.\n",
      "\u001b[36m(ClientAppActor pid=46652)\u001b[0m   obj.co_lnotab,  # for < python 3.10 [not counted in args]\n"
     ]
    },
    {
     "name": "stdout",
     "output_type": "stream",
     "text": [
      "\u001b[36m(ClientAppActor pid=46652)\u001b[0m [Client 5] fit, config: {'proximal_mu': 0.1}\n",
      "\u001b[36m(ClientAppActor pid=46655)\u001b[0m Epoch 1: train loss 0.055448710918426514, accuracy 0.3294169807138107\n",
      "\u001b[36m(ClientAppActor pid=46653)\u001b[0m [Client 4] fit, config: {'proximal_mu': 0.1}\u001b[32m [repeated 5x across cluster]\u001b[0m\n",
      "\u001b[36m(ClientAppActor pid=46652)\u001b[0m Epoch 1: train loss 0.023044154047966003, accuracy 0.6670771756978654\n",
      "\u001b[36m(ClientAppActor pid=46650)\u001b[0m Epoch 1: train loss 0.027923746034502983, accuracy 0.6241186839012925\n",
      "\u001b[36m(ClientAppActor pid=46651)\u001b[0m Epoch 1: train loss 0.045461587607860565, accuracy 0.3301568154402895\u001b[32m [repeated 2x across cluster]\u001b[0m\n",
      "\u001b[36m(ClientAppActor pid=46653)\u001b[0m Epoch 1: train loss 0.03273714706301689, accuracy 0.5927152317880795\n",
      "\u001b[36m(ClientAppActor pid=46655)\u001b[0m Epoch 2: train loss 0.05054899677634239, accuracy 0.36532919530037683\n",
      "\u001b[36m(ClientAppActor pid=46652)\u001b[0m Epoch 2: train loss 0.014987168833613396, accuracy 0.8132183908045977\n",
      "\u001b[36m(ClientAppActor pid=46655)\u001b[0m Epoch 3: train loss 0.04367973655462265, accuracy 0.4646419862558191\n",
      "\u001b[36m(ClientAppActor pid=46654)\u001b[0m Epoch 2: train loss 0.017046838998794556, accuracy 0.7844497946466507\u001b[32m [repeated 2x across cluster]\u001b[0m\n",
      "\u001b[36m(ClientAppActor pid=46652)\u001b[0m Epoch 3: train loss 0.012261598370969296, accuracy 0.8499589490968801\n",
      "\u001b[36m(ClientAppActor pid=46651)\u001b[0m Epoch 2: train loss 0.03730730339884758, accuracy 0.4632086851628468\n",
      "\u001b[36m(ClientAppActor pid=46653)\u001b[0m Epoch 2: train loss 0.020862845703959465, accuracy 0.7870151371807\n",
      "\u001b[36m(ClientAppActor pid=46655)\u001b[0m Epoch 4: train loss 0.038199350237846375, accuracy 0.5524273996896475\n",
      "\u001b[36m(ClientAppActor pid=46652)\u001b[0m Epoch 4: train loss 0.010266278870403767, accuracy 0.875\n",
      "\u001b[36m(ClientAppActor pid=46650)\u001b[0m Epoch 3: train loss 0.014039135538041592, accuracy 0.85237955346651\n",
      "\u001b[36m(ClientAppActor pid=46654)\u001b[0m Epoch 3: train loss 0.011342971585690975, accuracy 0.8708398243874805\n",
      "\u001b[36m(ClientAppActor pid=46655)\u001b[0m Epoch 5: train loss 0.03470132127404213, accuracy 0.5994236311239193\n",
      "\u001b[36m(ClientAppActor pid=46652)\u001b[0m Epoch 5: train loss 0.009413454681634903, accuracy 0.8918308702791461\n",
      "\u001b[36m(ClientAppActor pid=46651)\u001b[0m Epoch 3: train loss 0.032648246735334396, accuracy 0.5462002412545235\n",
      "\u001b[36m(ClientAppActor pid=46653)\u001b[0m Epoch 3: train loss 0.01639578863978386, accuracy 0.8390491958372753\n",
      "\u001b[36m(ClientAppActor pid=46655)\u001b[0m Epoch 6: train loss 0.03252629190683365, accuracy 0.622700066504101\n",
      "\u001b[36m(ClientAppActor pid=46654)\u001b[0m Epoch 4: train loss 0.007820691913366318, accuracy 0.9099277722702167\u001b[32m [repeated 2x across cluster]\u001b[0m\n",
      "\u001b[36m(ClientAppActor pid=46652)\u001b[0m Epoch 6: train loss 0.008606527000665665, accuracy 0.9045566502463054\n",
      "\u001b[36m(ClientAppActor pid=46655)\u001b[0m Epoch 7: train loss 0.029034540057182312, accuracy 0.6606074041232542\n",
      "\u001b[36m(ClientAppActor pid=46651)\u001b[0m Epoch 4: train loss 0.02884240821003914, accuracy 0.620627261761158\n",
      "\u001b[36m(ClientAppActor pid=46652)\u001b[0m Epoch 7: train loss 0.007113656960427761, accuracy 0.9215927750410509\n",
      "\u001b[36m(ClientAppActor pid=46654)\u001b[0m Epoch 5: train loss 0.005986685398966074, accuracy 0.9328706982013879\u001b[32m [repeated 3x across cluster]\u001b[0m\n",
      "\u001b[36m(ClientAppActor pid=46655)\u001b[0m Epoch 8: train loss 0.02589758299291134, accuracy 0.6978497007315451\n",
      "\u001b[36m(ClientAppActor pid=46652)\u001b[0m Epoch 8: train loss 0.006421185564249754, accuracy 0.9304187192118226\n",
      "\u001b[36m(ClientAppActor pid=46650)\u001b[0m Epoch 6: train loss 0.010812485590577126, accuracy 0.8870446533490012\n",
      "\u001b[36m(ClientAppActor pid=46651)\u001b[0m Epoch 5: train loss 0.02590683475136757, accuracy 0.6703256936067551\n",
      "\u001b[36m(ClientAppActor pid=46654)\u001b[0m Epoch 6: train loss 0.004552734550088644, accuracy 0.9511400651465798\n",
      "\u001b[36m(ClientAppActor pid=46653)\u001b[0m Epoch 5: train loss 0.011482229456305504, accuracy 0.8833964049195837\n",
      "\u001b[36m(ClientAppActor pid=46650)\u001b[0m Epoch 7: train loss 0.01014624536037445, accuracy 0.8924794359576969\n",
      "\u001b[36m(ClientAppActor pid=46654)\u001b[0m Epoch 7: train loss 0.0038544938433915377, accuracy 0.9580795921257612\n",
      "\u001b[36m(ClientAppActor pid=46653)\u001b[0m Epoch 6: train loss 0.009893406182527542, accuracy 0.8993614001892147\u001b[32m [repeated 2x across cluster]\u001b[0m\n",
      "\u001b[36m(ClientAppActor pid=46650)\u001b[0m Epoch 8: train loss 0.008890916593372822, accuracy 0.9052585193889542\n",
      "\u001b[36m(ClientAppActor pid=46654)\u001b[0m Epoch 8: train loss 0.002994702197611332, accuracy 0.9684180710947458\n",
      "\u001b[36m(ClientAppActor pid=46651)\u001b[0m Epoch 7: train loss 0.020216533914208412, accuracy 0.7512665862484922\n",
      "\u001b[36m(ClientAppActor pid=46653)\u001b[0m Epoch 7: train loss 0.008294585160911083, accuracy 0.9124881740775781\n",
      "\u001b[36m(ClientAppActor pid=46651)\u001b[0m Epoch 8: train loss 0.017353735864162445, accuracy 0.7949336550060314\n"
     ]
    },
    {
     "name": "stderr",
     "output_type": "stream",
     "text": [
      "\u001b[92mINFO \u001b[0m:      aggregate_fit: received 6 results and 0 failures\n"
     ]
    },
    {
     "name": "stdout",
     "output_type": "stream",
     "text": [
      "\u001b[36m(ClientAppActor pid=46653)\u001b[0m Epoch 8: train loss 0.007191723678261042, accuracy 0.9200567644276254\n",
      "total size: 280903200\n"
     ]
    },
    {
     "name": "stderr",
     "output_type": "stream",
     "text": [
      "\u001b[92mINFO \u001b[0m:      fit progress: (1, 0.07214599237442017, {'accuracy': 0.1}, 1038.0009633330628)\n",
      "\u001b[92mINFO \u001b[0m:      configure_evaluate: strategy sampled 6 clients (out of 6)\n"
     ]
    },
    {
     "name": "stdout",
     "output_type": "stream",
     "text": [
      "\u001b[36m(ClientAppActor pid=46654)\u001b[0m [Client 3] evaluate, config: {}\n"
     ]
    },
    {
     "name": "stderr",
     "output_type": "stream",
     "text": [
      "\u001b[36m(ClientAppActor pid=46654)\u001b[0m /Users/macbook/Desktop/L361/L361_Project/.conda/lib/python3.12/site-packages/datasets/utils/_dill.py:385: DeprecationWarning: co_lnotab is deprecated, use co_lines instead.\u001b[32m [repeated 6x across cluster]\u001b[0m\n",
      "\u001b[36m(ClientAppActor pid=46654)\u001b[0m   obj.co_lnotab,  # for < python 3.10 [not counted in args]\u001b[32m [repeated 6x across cluster]\u001b[0m\n",
      "\u001b[92mINFO \u001b[0m:      aggregate_evaluate: received 6 results and 0 failures\n",
      "\u001b[92mINFO \u001b[0m:      \n",
      "\u001b[92mINFO \u001b[0m:      [ROUND 2]\n",
      "\u001b[92mINFO \u001b[0m:      configure_fit: strategy sampled 6 clients (out of 6)\n"
     ]
    },
    {
     "name": "stdout",
     "output_type": "stream",
     "text": [
      "\u001b[36m(ClientAppActor pid=46650)\u001b[0m [Client 4] fit, config: {'proximal_mu': 0.1}\n",
      "\u001b[36m(ClientAppActor pid=46653)\u001b[0m [Client 0] evaluate, config: {}\u001b[32m [repeated 5x across cluster]\u001b[0m\n"
     ]
    },
    {
     "name": "stderr",
     "output_type": "stream",
     "text": [
      "\u001b[36m(ClientAppActor pid=46650)\u001b[0m /Users/macbook/Desktop/L361/L361_Project/.conda/lib/python3.12/site-packages/datasets/utils/_dill.py:385: DeprecationWarning: co_lnotab is deprecated, use co_lines instead.\u001b[32m [repeated 6x across cluster]\u001b[0m\n",
      "\u001b[36m(ClientAppActor pid=46650)\u001b[0m   obj.co_lnotab,  # for < python 3.10 [not counted in args]\u001b[32m [repeated 6x across cluster]\u001b[0m\n"
     ]
    },
    {
     "name": "stdout",
     "output_type": "stream",
     "text": [
      "\u001b[36m(ClientAppActor pid=46651)\u001b[0m Epoch 1: train loss 0.054535217583179474, accuracy 0.34360452227887384\n",
      "\u001b[36m(ClientAppActor pid=46654)\u001b[0m [Client 5] fit, config: {'proximal_mu': 0.1}\u001b[32m [repeated 5x across cluster]\u001b[0m\n",
      "\u001b[36m(ClientAppActor pid=46652)\u001b[0m Epoch 1: train loss 0.019192613661289215, accuracy 0.7871621621621622\u001b[32m [repeated 2x across cluster]\u001b[0m\n",
      "\u001b[36m(ClientAppActor pid=46653)\u001b[0m Epoch 1: train loss 0.03977304324507713, accuracy 0.42858866103739446\u001b[32m [repeated 2x across cluster]\u001b[0m\n",
      "\u001b[36m(ClientAppActor pid=46651)\u001b[0m Epoch 2: train loss 0.05323588103055954, accuracy 0.34648636665927735\u001b[32m [repeated 2x across cluster]\u001b[0m\n",
      "\u001b[36m(ClientAppActor pid=46654)\u001b[0m Epoch 2: train loss 0.01209954358637333, accuracy 0.8522167487684729\n",
      "\u001b[36m(ClientAppActor pid=46652)\u001b[0m Epoch 2: train loss 0.013463988900184631, accuracy 0.8622209165687427\n",
      "\u001b[36m(ClientAppActor pid=46654)\u001b[0m Epoch 3: train loss 0.01011298131197691, accuracy 0.8778735632183908\u001b[32m [repeated 3x across cluster]\u001b[0m\n",
      "\u001b[36m(ClientAppActor pid=46653)\u001b[0m Epoch 2: train loss 0.03290834277868271, accuracy 0.5521109770808202\n",
      "\u001b[36m(ClientAppActor pid=46650)\u001b[0m Epoch 2: train loss 0.01461874321103096, accuracy 0.853713339640492\n",
      "\u001b[36m(ClientAppActor pid=46651)\u001b[0m Epoch 4: train loss 0.05317489430308342, accuracy 0.34648636665927735\n",
      "\u001b[36m(ClientAppActor pid=46654)\u001b[0m Epoch 4: train loss 0.008578820154070854, accuracy 0.9029146141215106\n",
      "\u001b[36m(ClientAppActor pid=46652)\u001b[0m Epoch 3: train loss 0.012415113858878613, accuracy 0.8723560517038778\n",
      "\u001b[36m(ClientAppActor pid=46655)\u001b[0m Epoch 3: train loss 0.007145923096686602, accuracy 0.9216824812349526\n",
      "\u001b[36m(ClientAppActor pid=46651)\u001b[0m Epoch 5: train loss 0.05316808447241783, accuracy 0.34648636665927735\n",
      "\u001b[36m(ClientAppActor pid=46654)\u001b[0m Epoch 5: train loss 0.007265863940119743, accuracy 0.9195402298850575\n",
      "\u001b[36m(ClientAppActor pid=46653)\u001b[0m Epoch 3: train loss 0.028408722952008247, accuracy 0.6354644149577805\n",
      "\u001b[36m(ClientAppActor pid=46650)\u001b[0m Epoch 3: train loss 0.011932416819036007, accuracy 0.8828051087984863\n",
      "\u001b[36m(ClientAppActor pid=46651)\u001b[0m Epoch 6: train loss 0.0531180165708065, accuracy 0.34648636665927735\n",
      "\u001b[36m(ClientAppActor pid=46652)\u001b[0m Epoch 4: train loss 0.011002905666828156, accuracy 0.8816098707403055\n",
      "\u001b[36m(ClientAppActor pid=46655)\u001b[0m Epoch 4: train loss 0.005789998918771744, accuracy 0.9385356181843931\n",
      "\u001b[36m(ClientAppActor pid=46654)\u001b[0m Epoch 6: train loss 0.006674636621028185, accuracy 0.924055829228243\n",
      "\u001b[36m(ClientAppActor pid=46651)\u001b[0m Epoch 7: train loss 0.05307511240243912, accuracy 0.34648636665927735\n",
      "\u001b[36m(ClientAppActor pid=46653)\u001b[0m Epoch 4: train loss 0.024585198611021042, accuracy 0.6927623642943305\n",
      "\u001b[36m(ClientAppActor pid=46650)\u001b[0m Epoch 4: train loss 0.009603363461792469, accuracy 0.9008987701040682\n",
      "\u001b[36m(ClientAppActor pid=46654)\u001b[0m Epoch 7: train loss 0.005861195269972086, accuracy 0.9332922824302134\n",
      "\u001b[36m(ClientAppActor pid=46655)\u001b[0m Epoch 5: train loss 0.004564062226563692, accuracy 0.9507151961478544\u001b[32m [repeated 2x across cluster]\u001b[0m\n",
      "\u001b[36m(ClientAppActor pid=46651)\u001b[0m Epoch 8: train loss 0.05304998531937599, accuracy 0.34648636665927735\n",
      "\u001b[36m(ClientAppActor pid=46654)\u001b[0m Epoch 8: train loss 0.005223989486694336, accuracy 0.9445812807881774\n",
      "\u001b[36m(ClientAppActor pid=46652)\u001b[0m Epoch 6: train loss 0.008689280599355698, accuracy 0.9054054054054054\n",
      "\u001b[36m(ClientAppActor pid=46653)\u001b[0m Epoch 5: train loss 0.02157684601843357, accuracy 0.7335343787696019\n",
      "\u001b[36m(ClientAppActor pid=46650)\u001b[0m Epoch 5: train loss 0.008537321351468563, accuracy 0.913197729422895\n",
      "\u001b[36m(ClientAppActor pid=46655)\u001b[0m Epoch 6: train loss 0.003859045449644327, accuracy 0.9577963461266109\n",
      "\u001b[36m(ClientAppActor pid=46652)\u001b[0m Epoch 7: train loss 0.007556169293820858, accuracy 0.9217097532314924\n",
      "\u001b[36m(ClientAppActor pid=46655)\u001b[0m Epoch 7: train loss 0.0034056375734508038, accuracy 0.9614785441155643\n",
      "\u001b[36m(ClientAppActor pid=46650)\u001b[0m Epoch 6: train loss 0.007440019864588976, accuracy 0.9256149479659413\u001b[32m [repeated 2x across cluster]\u001b[0m\n",
      "\u001b[36m(ClientAppActor pid=46652)\u001b[0m Epoch 8: train loss 0.0065095131285488605, accuracy 0.9274383078730905\n",
      "\u001b[36m(ClientAppActor pid=46655)\u001b[0m Epoch 8: train loss 0.0028688209131360054, accuracy 0.968559694094321\n",
      "\u001b[36m(ClientAppActor pid=46653)\u001b[0m Epoch 7: train loss 0.015323451720178127, accuracy 0.8174909529553679\n",
      "\u001b[36m(ClientAppActor pid=46650)\u001b[0m Epoch 7: train loss 0.006143881473690271, accuracy 0.9351939451277199\n",
      "\u001b[36m(ClientAppActor pid=46653)\u001b[0m Epoch 8: train loss 0.013387355022132397, accuracy 0.8393244873341376\n"
     ]
    },
    {
     "name": "stderr",
     "output_type": "stream",
     "text": [
      "\u001b[92mINFO \u001b[0m:      aggregate_fit: received 6 results and 0 failures\n"
     ]
    },
    {
     "name": "stdout",
     "output_type": "stream",
     "text": [
      "\u001b[36m(ClientAppActor pid=46650)\u001b[0m Epoch 8: train loss 0.00512328278273344, accuracy 0.9447729422894986\n",
      "total size: 280903200\n"
     ]
    },
    {
     "name": "stderr",
     "output_type": "stream",
     "text": [
      "\u001b[92mINFO \u001b[0m:      fit progress: (2, 0.07045998759269714, {'accuracy': 0.17}, 1813.7022617500043)\n",
      "\u001b[92mINFO \u001b[0m:      configure_evaluate: strategy sampled 6 clients (out of 6)\n"
     ]
    },
    {
     "name": "stdout",
     "output_type": "stream",
     "text": [
      "\u001b[36m(ClientAppActor pid=46654)\u001b[0m [Client 4] evaluate, config: {}\n"
     ]
    },
    {
     "name": "stderr",
     "output_type": "stream",
     "text": [
      "\u001b[36m(ClientAppActor pid=46654)\u001b[0m /Users/macbook/Desktop/L361/L361_Project/.conda/lib/python3.12/site-packages/datasets/utils/_dill.py:385: DeprecationWarning: co_lnotab is deprecated, use co_lines instead.\u001b[32m [repeated 6x across cluster]\u001b[0m\n",
      "\u001b[36m(ClientAppActor pid=46654)\u001b[0m   obj.co_lnotab,  # for < python 3.10 [not counted in args]\u001b[32m [repeated 6x across cluster]\u001b[0m\n",
      "\u001b[92mINFO \u001b[0m:      aggregate_evaluate: received 6 results and 0 failures\n",
      "\u001b[92mINFO \u001b[0m:      \n",
      "\u001b[92mINFO \u001b[0m:      [ROUND 3]\n",
      "\u001b[92mINFO \u001b[0m:      configure_fit: strategy sampled 6 clients (out of 6)\n",
      "\u001b[36m(ClientAppActor pid=46655)\u001b[0m /Users/macbook/Desktop/L361/L361_Project/.conda/lib/python3.12/site-packages/datasets/utils/_dill.py:385: DeprecationWarning: co_lnotab is deprecated, use co_lines instead.\u001b[32m [repeated 6x across cluster]\u001b[0m\n",
      "\u001b[36m(ClientAppActor pid=46655)\u001b[0m   obj.co_lnotab,  # for < python 3.10 [not counted in args]\u001b[32m [repeated 6x across cluster]\u001b[0m\n"
     ]
    },
    {
     "name": "stdout",
     "output_type": "stream",
     "text": [
      "\u001b[36m(ClientAppActor pid=46655)\u001b[0m [Client 3] fit, config: {'proximal_mu': 0.1}\n",
      "\u001b[36m(ClientAppActor pid=46655)\u001b[0m [Client 1] evaluate, config: {}\u001b[32m [repeated 5x across cluster]\u001b[0m\n",
      "\u001b[36m(ClientAppActor pid=46655)\u001b[0m Epoch 1: train loss 0.03810529410839081, accuracy 0.5586344491243627\n",
      "\u001b[36m(ClientAppActor pid=46654)\u001b[0m [Client 2] fit, config: {'proximal_mu': 0.1}\u001b[32m [repeated 5x across cluster]\u001b[0m\n",
      "\u001b[36m(ClientAppActor pid=46653)\u001b[0m Epoch 1: train loss 0.015706876292824745, accuracy 0.8462103407755581\u001b[32m [repeated 2x across cluster]\u001b[0m\n",
      "\u001b[36m(ClientAppActor pid=46651)\u001b[0m Epoch 1: train loss 0.032271262258291245, accuracy 0.5780458383594692\u001b[32m [repeated 2x across cluster]\u001b[0m\n",
      "\u001b[36m(ClientAppActor pid=46655)\u001b[0m Epoch 2: train loss 0.03005923330783844, accuracy 0.6526269119929062\u001b[32m [repeated 2x across cluster]\u001b[0m\n",
      "\u001b[36m(ClientAppActor pid=46652)\u001b[0m Epoch 2: train loss 0.010276664048433304, accuracy 0.8772577996715928\n",
      "\u001b[36m(ClientAppActor pid=46655)\u001b[0m Epoch 3: train loss 0.025954604148864746, accuracy 0.697628020394591\n",
      "\u001b[36m(ClientAppActor pid=46654)\u001b[0m Epoch 2: train loss 0.006706278305500746, accuracy 0.9262144172213568\u001b[32m [repeated 2x across cluster]\u001b[0m\n",
      "\u001b[36m(ClientAppActor pid=46651)\u001b[0m Epoch 2: train loss 0.02376161329448223, accuracy 0.7059107358262967\u001b[32m [repeated 2x across cluster]\u001b[0m\n",
      "\u001b[36m(ClientAppActor pid=46655)\u001b[0m Epoch 4: train loss 0.022223521023988724, accuracy 0.7415207271115052\u001b[32m [repeated 2x across cluster]\u001b[0m\n",
      "\u001b[36m(ClientAppActor pid=46652)\u001b[0m Epoch 4: train loss 0.007409077603369951, accuracy 0.916871921182266\n",
      "\u001b[36m(ClientAppActor pid=46653)\u001b[0m Epoch 3: train loss 0.00998612865805626, accuracy 0.8973266745005876\n",
      "\u001b[36m(ClientAppActor pid=46654)\u001b[0m Epoch 3: train loss 0.005133459810167551, accuracy 0.9417929471746211\n",
      "\u001b[36m(ClientAppActor pid=46655)\u001b[0m Epoch 5: train loss 0.018907634541392326, accuracy 0.7812015074262912\n",
      "\u001b[36m(ClientAppActor pid=46652)\u001b[0m Epoch 5: train loss 0.006603901740163565, accuracy 0.9269293924466339\n",
      "\u001b[36m(ClientAppActor pid=46651)\u001b[0m Epoch 3: train loss 0.019658273085951805, accuracy 0.7565741857659831\n",
      "\u001b[36m(ClientAppActor pid=46655)\u001b[0m Epoch 6: train loss 0.01529708132147789, accuracy 0.8206606074041233\u001b[32m [repeated 2x across cluster]\u001b[0m\n",
      "\u001b[36m(ClientAppActor pid=46654)\u001b[0m Epoch 4: train loss 0.004037878010421991, accuracy 0.9551055091346835\u001b[32m [repeated 2x across cluster]\u001b[0m\n",
      "\u001b[36m(ClientAppActor pid=46654)\u001b[0m \n",
      "\u001b[36m(ClientAppActor pid=46652)\u001b[0m Epoch 6: train loss 0.005281789228320122, accuracy 0.9421182266009852\n",
      "\u001b[36m(ClientAppActor pid=46655)\u001b[0m Epoch 7: train loss 0.011798049323260784, accuracy 0.8649966747949457\n",
      "\u001b[36m(ClientAppActor pid=46651)\u001b[0m Epoch 4: train loss 0.016526436433196068, accuracy 0.8003618817852834\n",
      "\u001b[36m(ClientAppActor pid=46650)\u001b[0m Epoch 4: train loss 0.006840069312602282, accuracy 0.9283349101229896\n",
      "\u001b[36m(ClientAppActor pid=46653)\u001b[0m Epoch 5: train loss 0.007124891970306635, accuracy 0.9280258519388954\u001b[32m [repeated 2x across cluster]\u001b[0m\n",
      "\u001b[36m(ClientAppActor pid=46654)\u001b[0m Epoch 5: train loss 0.0031197594944387674, accuracy 0.9645942501062172\n",
      "\u001b[36m(ClientAppActor pid=46655)\u001b[0m Epoch 8: train loss 0.00905858725309372, accuracy 0.9020172910662824\n",
      "\u001b[36m(ClientAppActor pid=46652)\u001b[0m Epoch 8: train loss 0.003920211456716061, accuracy 0.9583333333333334\n",
      "\u001b[36m(ClientAppActor pid=46653)\u001b[0m Epoch 6: train loss 0.006753569468855858, accuracy 0.9290540540540541\n",
      "\u001b[36m(ClientAppActor pid=46651)\u001b[0m Epoch 5: train loss 0.014212194830179214, accuracy 0.8318455971049458\n",
      "\u001b[36m(ClientAppActor pid=46650)\u001b[0m Epoch 5: train loss 0.00527335237711668, accuracy 0.9447729422894986\n",
      "\u001b[36m(ClientAppActor pid=46653)\u001b[0m Epoch 7: train loss 0.005532740615308285, accuracy 0.9400705052878966\u001b[32m [repeated 2x across cluster]\u001b[0m\n",
      "\u001b[36m(ClientAppActor pid=46654)\u001b[0m Epoch 7: train loss 0.0018266758415848017, accuracy 0.9797479110607563\n",
      "\u001b[36m(ClientAppActor pid=46651)\u001b[0m Epoch 6: train loss 0.011736270971596241, accuracy 0.8639324487334138\n",
      "\u001b[36m(ClientAppActor pid=46650)\u001b[0m Epoch 6: train loss 0.003993321675807238, accuracy 0.9574266792809839\n",
      "\u001b[36m(ClientAppActor pid=46653)\u001b[0m Epoch 8: train loss 0.004317576065659523, accuracy 0.9550528789659224\n",
      "\u001b[36m(ClientAppActor pid=46654)\u001b[0m Epoch 8: train loss 0.0019449627725407481, accuracy 0.9776235660671293\n",
      "\u001b[36m(ClientAppActor pid=46651)\u001b[0m Epoch 7: train loss 0.010748603381216526, accuracy 0.8743063932448734\n",
      "\u001b[36m(ClientAppActor pid=46650)\u001b[0m Epoch 7: train loss 0.003638338763266802, accuracy 0.961329233680227\n",
      "\u001b[36m(ClientAppActor pid=46651)\u001b[0m Epoch 8: train loss 0.007222239393740892, accuracy 0.9162846803377563\n"
     ]
    },
    {
     "name": "stderr",
     "output_type": "stream",
     "text": [
      "\u001b[92mINFO \u001b[0m:      aggregate_fit: received 6 results and 0 failures\n"
     ]
    },
    {
     "name": "stdout",
     "output_type": "stream",
     "text": [
      "\u001b[36m(ClientAppActor pid=46650)\u001b[0m Epoch 8: train loss 0.0032643163576722145, accuracy 0.9657048249763481\n",
      "total size: 280903200\n"
     ]
    },
    {
     "name": "stderr",
     "output_type": "stream",
     "text": [
      "\u001b[92mINFO \u001b[0m:      fit progress: (3, 0.06321208794116974, {'accuracy': 0.2592}, 2593.367696958012)\n",
      "\u001b[92mINFO \u001b[0m:      configure_evaluate: strategy sampled 6 clients (out of 6)\n"
     ]
    },
    {
     "name": "stdout",
     "output_type": "stream",
     "text": [
      "\u001b[36m(ClientAppActor pid=46650)\u001b[0m [Client 1] evaluate, config: {}\n"
     ]
    },
    {
     "name": "stderr",
     "output_type": "stream",
     "text": [
      "\u001b[36m(ClientAppActor pid=46650)\u001b[0m /Users/macbook/Desktop/L361/L361_Project/.conda/lib/python3.12/site-packages/datasets/utils/_dill.py:385: DeprecationWarning: co_lnotab is deprecated, use co_lines instead.\u001b[32m [repeated 6x across cluster]\u001b[0m\n",
      "\u001b[36m(ClientAppActor pid=46650)\u001b[0m   obj.co_lnotab,  # for < python 3.10 [not counted in args]\u001b[32m [repeated 6x across cluster]\u001b[0m\n",
      "\u001b[92mINFO \u001b[0m:      aggregate_evaluate: received 6 results and 0 failures\n",
      "\u001b[92mINFO \u001b[0m:      \n",
      "\u001b[92mINFO \u001b[0m:      [ROUND 4]\n",
      "\u001b[92mINFO \u001b[0m:      configure_fit: strategy sampled 6 clients (out of 6)\n"
     ]
    },
    {
     "name": "stdout",
     "output_type": "stream",
     "text": [
      "\u001b[36m(ClientAppActor pid=46651)\u001b[0m [Client 3] fit, config: {'proximal_mu': 0.1}\n",
      "\u001b[36m(ClientAppActor pid=46653)\u001b[0m [Client 5] evaluate, config: {}\u001b[32m [repeated 5x across cluster]\u001b[0m\n"
     ]
    },
    {
     "name": "stderr",
     "output_type": "stream",
     "text": [
      "\u001b[36m(ClientAppActor pid=46651)\u001b[0m /Users/macbook/Desktop/L361/L361_Project/.conda/lib/python3.12/site-packages/datasets/utils/_dill.py:385: DeprecationWarning: co_lnotab is deprecated, use co_lines instead.\u001b[32m [repeated 6x across cluster]\u001b[0m\n",
      "\u001b[36m(ClientAppActor pid=46651)\u001b[0m   obj.co_lnotab,  # for < python 3.10 [not counted in args]\u001b[32m [repeated 6x across cluster]\u001b[0m\n"
     ]
    },
    {
     "name": "stdout",
     "output_type": "stream",
     "text": [
      "\u001b[36m(ClientAppActor pid=46651)\u001b[0m Epoch 1: train loss 0.029112135991454124, accuracy 0.6665927732210153\n",
      "\u001b[36m(ClientAppActor pid=46650)\u001b[0m [Client 0] fit, config: {'proximal_mu': 0.1}\u001b[32m [repeated 5x across cluster]\u001b[0m\n",
      "\u001b[36m(ClientAppActor pid=46652)\u001b[0m Epoch 1: train loss 0.013112079352140427, accuracy 0.8701527614571093\u001b[32m [repeated 2x across cluster]\u001b[0m\n",
      "\u001b[36m(ClientAppActor pid=46650)\u001b[0m Epoch 1: train loss 0.02355712652206421, accuracy 0.7138721351025332\u001b[32m [repeated 2x across cluster]\u001b[0m\n",
      "\u001b[36m(ClientAppActor pid=46651)\u001b[0m Epoch 2: train loss 0.02053835242986679, accuracy 0.7610285967634671\u001b[32m [repeated 2x across cluster]\u001b[0m\n",
      "\u001b[36m(ClientAppActor pid=46654)\u001b[0m Epoch 2: train loss 0.007566898129880428, accuracy 0.9170771756978654\n",
      "\u001b[36m(ClientAppActor pid=46651)\u001b[0m Epoch 3: train loss 0.01569334603846073, accuracy 0.8188871647084903\n",
      "\u001b[36m(ClientAppActor pid=46655)\u001b[0m Epoch 2: train loss 0.004133706446737051, accuracy 0.9528395411414814\u001b[32m [repeated 2x across cluster]\u001b[0m\n",
      "\u001b[36m(ClientAppActor pid=46650)\u001b[0m Epoch 2: train loss 0.016313668340444565, accuracy 0.804583835946924\u001b[32m [repeated 2x across cluster]\u001b[0m\n",
      "\u001b[36m(ClientAppActor pid=46651)\u001b[0m Epoch 4: train loss 0.011580539867281914, accuracy 0.8610064287297716\u001b[32m [repeated 2x across cluster]\u001b[0m\n",
      "\u001b[36m(ClientAppActor pid=46654)\u001b[0m Epoch 4: train loss 0.004456270020455122, accuracy 0.9534072249589491\n",
      "\u001b[36m(ClientAppActor pid=46652)\u001b[0m Epoch 3: train loss 0.006662352941930294, accuracy 0.9312573443008225\n",
      "\u001b[36m(ClientAppActor pid=46655)\u001b[0m Epoch 3: train loss 0.003045714693143964, accuracy 0.9679932020960204\n",
      "\u001b[36m(ClientAppActor pid=46651)\u001b[0m Epoch 5: train loss 0.008306148461997509, accuracy 0.9077809798270894\n",
      "\u001b[36m(ClientAppActor pid=46654)\u001b[0m Epoch 5: train loss 0.0033674295991659164, accuracy 0.9644909688013136\n",
      "\u001b[36m(ClientAppActor pid=46650)\u001b[0m Epoch 3: train loss 0.013330359011888504, accuracy 0.8435464414957781\n",
      "\u001b[36m(ClientAppActor pid=46653)\u001b[0m Epoch 3: train loss 0.005014197900891304, accuracy 0.9467833491012299\n",
      "\u001b[36m(ClientAppActor pid=46651)\u001b[0m Epoch 6: train loss 0.006606584880501032, accuracy 0.9297273331855465\n",
      "\u001b[36m(ClientAppActor pid=46655)\u001b[0m Epoch 4: train loss 0.0022115332540124655, accuracy 0.9770570740688288\u001b[32m [repeated 2x across cluster]\u001b[0m\n",
      "\u001b[36m(ClientAppActor pid=46654)\u001b[0m Epoch 6: train loss 0.0029469348955899477, accuracy 0.9683908045977011\n",
      "\u001b[36m(ClientAppActor pid=46651)\u001b[0m Epoch 7: train loss 0.004489624407142401, accuracy 0.9492352028375083\n",
      "\u001b[36m(ClientAppActor pid=46650)\u001b[0m Epoch 4: train loss 0.010469451546669006, accuracy 0.8788902291917974\n",
      "\u001b[36m(ClientAppActor pid=46653)\u001b[0m Epoch 4: train loss 0.003956267144531012, accuracy 0.9595553453169348\n",
      "\u001b[36m(ClientAppActor pid=46655)\u001b[0m Epoch 5: train loss 0.0017738067544996738, accuracy 0.9830052400509843\u001b[32m [repeated 3x across cluster]\u001b[0m\n",
      "\u001b[36m(ClientAppActor pid=46651)\u001b[0m Epoch 8: train loss 0.004268278367817402, accuracy 0.9527820882287741\n",
      "\u001b[36m(ClientAppActor pid=46654)\u001b[0m Epoch 8: train loss 0.001725002657622099, accuracy 0.9829638752052545\n",
      "\u001b[36m(ClientAppActor pid=46652)\u001b[0m Epoch 6: train loss 0.0033239421900361776, accuracy 0.9646004700352526\n",
      "\u001b[36m(ClientAppActor pid=46650)\u001b[0m Epoch 5: train loss 0.008200855925679207, accuracy 0.9061519903498191\n",
      "\u001b[36m(ClientAppActor pid=46655)\u001b[0m Epoch 6: train loss 0.0014276717556640506, accuracy 0.9842798470471604\n",
      "\u001b[36m(ClientAppActor pid=46653)\u001b[0m Epoch 5: train loss 0.0034318133257329464, accuracy 0.9616840113528855\n",
      "\u001b[36m(ClientAppActor pid=46652)\u001b[0m Epoch 7: train loss 0.0027847937308251858, accuracy 0.9701821386603995\n",
      "\u001b[36m(ClientAppActor pid=46655)\u001b[0m Epoch 7: train loss 0.0018616855377331376, accuracy 0.9804560260586319\n",
      "\u001b[36m(ClientAppActor pid=46650)\u001b[0m Epoch 6: train loss 0.006054811179637909, accuracy 0.9311218335343787\n",
      "\u001b[36m(ClientAppActor pid=46653)\u001b[0m Epoch 6: train loss 0.002795098815113306, accuracy 0.9698438978240302\n",
      "\u001b[36m(ClientAppActor pid=46652)\u001b[0m Epoch 8: train loss 0.0024541113525629044, accuracy 0.9732667450058754\n",
      "\u001b[36m(ClientAppActor pid=46655)\u001b[0m Epoch 8: train loss 0.0014588667545467615, accuracy 0.9851295850446112\n",
      "\u001b[36m(ClientAppActor pid=46650)\u001b[0m Epoch 7: train loss 0.00476875202730298, accuracy 0.944993968636912\n",
      "\u001b[36m(ClientAppActor pid=46653)\u001b[0m Epoch 7: train loss 0.002434569178149104, accuracy 0.972445600756859\n",
      "\u001b[36m(ClientAppActor pid=46650)\u001b[0m Epoch 8: train loss 0.005041451193392277, accuracy 0.9436670687575393\n"
     ]
    },
    {
     "name": "stderr",
     "output_type": "stream",
     "text": [
      "\u001b[92mINFO \u001b[0m:      aggregate_fit: received 6 results and 0 failures\n"
     ]
    },
    {
     "name": "stdout",
     "output_type": "stream",
     "text": [
      "\u001b[36m(ClientAppActor pid=46653)\u001b[0m Epoch 8: train loss 0.0022243014536798, accuracy 0.9755203405865658\n",
      "total size: 280903200\n"
     ]
    },
    {
     "name": "stderr",
     "output_type": "stream",
     "text": [
      "\u001b[92mINFO \u001b[0m:      fit progress: (4, 0.056601710283756254, {'accuracy': 0.368}, 3363.8855129169533)\n",
      "\u001b[92mINFO \u001b[0m:      configure_evaluate: strategy sampled 6 clients (out of 6)\n"
     ]
    },
    {
     "name": "stdout",
     "output_type": "stream",
     "text": [
      "\u001b[36m(ClientAppActor pid=46654)\u001b[0m [Client 0] evaluate, config: {}\n"
     ]
    },
    {
     "name": "stderr",
     "output_type": "stream",
     "text": [
      "\u001b[36m(ClientAppActor pid=46650)\u001b[0m /Users/macbook/Desktop/L361/L361_Project/.conda/lib/python3.12/site-packages/datasets/utils/_dill.py:385: DeprecationWarning: co_lnotab is deprecated, use co_lines instead.\u001b[32m [repeated 6x across cluster]\u001b[0m\n",
      "\u001b[36m(ClientAppActor pid=46650)\u001b[0m   obj.co_lnotab,  # for < python 3.10 [not counted in args]\u001b[32m [repeated 6x across cluster]\u001b[0m\n",
      "\u001b[92mINFO \u001b[0m:      aggregate_evaluate: received 6 results and 0 failures\n",
      "\u001b[92mINFO \u001b[0m:      \n",
      "\u001b[92mINFO \u001b[0m:      [ROUND 5]\n",
      "\u001b[92mINFO \u001b[0m:      configure_fit: strategy sampled 6 clients (out of 6)\n"
     ]
    },
    {
     "name": "stdout",
     "output_type": "stream",
     "text": [
      "\u001b[36m(ClientAppActor pid=46650)\u001b[0m [Client 2] fit, config: {'proximal_mu': 0.1}\n",
      "\u001b[36m(ClientAppActor pid=46651)\u001b[0m [Client 4] evaluate, config: {}\u001b[32m [repeated 5x across cluster]\u001b[0m\n"
     ]
    },
    {
     "name": "stderr",
     "output_type": "stream",
     "text": [
      "\u001b[36m(ClientAppActor pid=46650)\u001b[0m /Users/macbook/Desktop/L361/L361_Project/.conda/lib/python3.12/site-packages/datasets/utils/_dill.py:385: DeprecationWarning: co_lnotab is deprecated, use co_lines instead.\u001b[32m [repeated 6x across cluster]\u001b[0m\n",
      "\u001b[36m(ClientAppActor pid=46650)\u001b[0m   obj.co_lnotab,  # for < python 3.10 [not counted in args]\u001b[32m [repeated 6x across cluster]\u001b[0m\n"
     ]
    },
    {
     "name": "stdout",
     "output_type": "stream",
     "text": [
      "\u001b[36m(ClientAppActor pid=46653)\u001b[0m Epoch 1: train loss 0.02346285991370678, accuracy 0.7313234316116161\n",
      "\u001b[36m(ClientAppActor pid=46653)\u001b[0m [Client 3] fit, config: {'proximal_mu': 0.1}\u001b[32m [repeated 5x across cluster]\u001b[0m\n",
      "\u001b[36m(ClientAppActor pid=46652)\u001b[0m Epoch 1: train loss 0.009251848794519901, accuracy 0.8897783251231527\n",
      "\u001b[36m(ClientAppActor pid=46654)\u001b[0m Epoch 1: train loss 0.010913528501987457, accuracy 0.8821974148061105\n",
      "\u001b[36m(ClientAppActor pid=46655)\u001b[0m Epoch 1: train loss 0.008900380693376064, accuracy 0.9064569536423841\u001b[32m [repeated 2x across cluster]\u001b[0m\n",
      "\u001b[36m(ClientAppActor pid=46653)\u001b[0m Epoch 2: train loss 0.01432656031101942, accuracy 0.8401684770560851\u001b[32m [repeated 2x across cluster]\u001b[0m\n",
      "\u001b[36m(ClientAppActor pid=46652)\u001b[0m Epoch 2: train loss 0.0053690774366259575, accuracy 0.9400656814449918\n",
      "\u001b[36m(ClientAppActor pid=46654)\u001b[0m Epoch 2: train loss 0.0061622015200555325, accuracy 0.9358108108108109\n",
      "\u001b[36m(ClientAppActor pid=46650)\u001b[0m Epoch 2: train loss 0.002696659415960312, accuracy 0.9705424160883728\u001b[32m [repeated 2x across cluster]\u001b[0m\n",
      "\u001b[36m(ClientAppActor pid=46652)\u001b[0m Epoch 3: train loss 0.003354265121743083, accuracy 0.9624384236453202\n",
      "\u001b[36m(ClientAppActor pid=46651)\u001b[0m Epoch 2: train loss 0.01125886756926775, accuracy 0.8688781664656212\n",
      "\u001b[36m(ClientAppActor pid=46653)\u001b[0m Epoch 4: train loss 0.006093158386647701, accuracy 0.9363777432941698\u001b[32m [repeated 2x across cluster]\u001b[0m\n",
      "\u001b[36m(ClientAppActor pid=46652)\u001b[0m Epoch 4: train loss 0.002390095964074135, accuracy 0.9739326765188834\n",
      "\u001b[36m(ClientAppActor pid=46654)\u001b[0m Epoch 3: train loss 0.004107849206775427, accuracy 0.9571092831962397\n",
      "\u001b[36m(ClientAppActor pid=46650)\u001b[0m Epoch 3: train loss 0.0017818515188992023, accuracy 0.9801727800594816\n",
      "\u001b[36m(ClientAppActor pid=46653)\u001b[0m Epoch 5: train loss 0.003826010739430785, accuracy 0.9578807359787187\n",
      "\u001b[36m(ClientAppActor pid=46652)\u001b[0m Epoch 5: train loss 0.0019292716169729829, accuracy 0.9782430213464697\n",
      "\u001b[36m(ClientAppActor pid=46651)\u001b[0m Epoch 3: train loss 0.007620514370501041, accuracy 0.9135102533172497\n",
      "\u001b[36m(ClientAppActor pid=46654)\u001b[0m Epoch 4: train loss 0.0038091312162578106, accuracy 0.9574030552291422\u001b[32m [repeated 2x across cluster]\u001b[0m\n",
      "\u001b[36m(ClientAppActor pid=46650)\u001b[0m Epoch 4: train loss 0.0017929337918758392, accuracy 0.9807392720577822\u001b[32m [repeated 2x across cluster]\u001b[0m\n",
      "\u001b[36m(ClientAppActor pid=46652)\u001b[0m Epoch 6: train loss 0.002080911071971059, accuracy 0.9807060755336617\n",
      "\u001b[36m(ClientAppActor pid=46653)\u001b[0m Epoch 7: train loss 0.0032733462285250425, accuracy 0.9618709820438927\n",
      "\u001b[36m(ClientAppActor pid=46651)\u001b[0m Epoch 4: train loss 0.005511101800948381, accuracy 0.9346200241254523\n",
      "\u001b[36m(ClientAppActor pid=46655)\u001b[0m Epoch 4: train loss 0.0026306782383471727, accuracy 0.9713812677388837\n",
      "\u001b[36m(ClientAppActor pid=46652)\u001b[0m Epoch 7: train loss 0.0017372712027281523, accuracy 0.9839901477832512\u001b[32m [repeated 2x across cluster]\u001b[0m\n",
      "\u001b[36m(ClientAppActor pid=46650)\u001b[0m Epoch 5: train loss 0.0014086661394685507, accuracy 0.9832884860501345\n",
      "\u001b[36m(ClientAppActor pid=46653)\u001b[0m Epoch 8: train loss 0.0031478090677410364, accuracy 0.9678563511416537\n",
      "\u001b[36m(ClientAppActor pid=46652)\u001b[0m Epoch 8: train loss 0.0012750460300594568, accuracy 0.986863711001642\n",
      "\u001b[36m(ClientAppActor pid=46654)\u001b[0m Epoch 6: train loss 0.0022489416878670454, accuracy 0.9778202115158637\n",
      "\u001b[36m(ClientAppActor pid=46651)\u001b[0m Epoch 5: train loss 0.00447911536321044, accuracy 0.9492159227985525\n",
      "\u001b[36m(ClientAppActor pid=46655)\u001b[0m Epoch 5: train loss 0.002586826216429472, accuracy 0.9718543046357616\n",
      "\u001b[36m(ClientAppActor pid=46654)\u001b[0m Epoch 7: train loss 0.002211935119703412, accuracy 0.9760575793184488\u001b[32m [repeated 2x across cluster]\u001b[0m\n",
      "\u001b[36m(ClientAppActor pid=46650)\u001b[0m Epoch 7: train loss 0.0010276534594595432, accuracy 0.9893782750318652\n",
      "\u001b[36m(ClientAppActor pid=46651)\u001b[0m Epoch 6: train loss 0.0030694890301674604, accuracy 0.9651387213510253\n",
      "\u001b[36m(ClientAppActor pid=46655)\u001b[0m Epoch 6: train loss 0.0020289388485252857, accuracy 0.9781220435193945\n",
      "\u001b[36m(ClientAppActor pid=46654)\u001b[0m Epoch 8: train loss 0.0018426465103402734, accuracy 0.982373678025852\n",
      "\u001b[36m(ClientAppActor pid=46650)\u001b[0m Epoch 8: train loss 0.00105710094794631, accuracy 0.9907945050276165\n",
      "\u001b[36m(ClientAppActor pid=46651)\u001b[0m Epoch 7: train loss 0.0034172404557466507, accuracy 0.9611580217129071\n",
      "\u001b[36m(ClientAppActor pid=46655)\u001b[0m Epoch 7: train loss 0.0020705386996269226, accuracy 0.978240302743614\n",
      "\u001b[36m(ClientAppActor pid=46651)\u001b[0m Epoch 8: train loss 0.0028417943976819515, accuracy 0.9686369119420989\n"
     ]
    },
    {
     "name": "stderr",
     "output_type": "stream",
     "text": [
      "\u001b[92mINFO \u001b[0m:      aggregate_fit: received 6 results and 0 failures\n"
     ]
    },
    {
     "name": "stdout",
     "output_type": "stream",
     "text": [
      "\u001b[36m(ClientAppActor pid=46655)\u001b[0m Epoch 8: train loss 0.0017072588670998812, accuracy 0.9826158940397351\n",
      "total size: 280903200\n"
     ]
    },
    {
     "name": "stderr",
     "output_type": "stream",
     "text": [
      "\u001b[92mINFO \u001b[0m:      fit progress: (5, 0.04998087552785874, {'accuracy': 0.4459}, 4131.006684666965)\n",
      "\u001b[92mINFO \u001b[0m:      configure_evaluate: strategy sampled 6 clients (out of 6)\n"
     ]
    },
    {
     "name": "stdout",
     "output_type": "stream",
     "text": [
      "\u001b[36m(ClientAppActor pid=46653)\u001b[0m [Client 3] evaluate, config: {}\n"
     ]
    },
    {
     "name": "stderr",
     "output_type": "stream",
     "text": [
      "\u001b[36m(ClientAppActor pid=46653)\u001b[0m /Users/macbook/Desktop/L361/L361_Project/.conda/lib/python3.12/site-packages/datasets/utils/_dill.py:385: DeprecationWarning: co_lnotab is deprecated, use co_lines instead.\u001b[32m [repeated 6x across cluster]\u001b[0m\n",
      "\u001b[36m(ClientAppActor pid=46653)\u001b[0m   obj.co_lnotab,  # for < python 3.10 [not counted in args]\u001b[32m [repeated 6x across cluster]\u001b[0m\n",
      "\u001b[92mINFO \u001b[0m:      aggregate_evaluate: received 6 results and 0 failures\n",
      "\u001b[92mINFO \u001b[0m:      \n",
      "\u001b[92mINFO \u001b[0m:      [ROUND 6]\n",
      "\u001b[92mINFO \u001b[0m:      configure_fit: strategy sampled 6 clients (out of 6)\n"
     ]
    },
    {
     "name": "stdout",
     "output_type": "stream",
     "text": [
      "\u001b[36m(ClientAppActor pid=46650)\u001b[0m [Client 4] fit, config: {'proximal_mu': 0.1}\n",
      "\u001b[36m(ClientAppActor pid=46654)\u001b[0m [Client 4] evaluate, config: {}\u001b[32m [repeated 5x across cluster]\u001b[0m\n"
     ]
    },
    {
     "name": "stderr",
     "output_type": "stream",
     "text": [
      "\u001b[36m(ClientAppActor pid=46650)\u001b[0m /Users/macbook/Desktop/L361/L361_Project/.conda/lib/python3.12/site-packages/datasets/utils/_dill.py:385: DeprecationWarning: co_lnotab is deprecated, use co_lines instead.\u001b[32m [repeated 6x across cluster]\u001b[0m\n",
      "\u001b[36m(ClientAppActor pid=46650)\u001b[0m   obj.co_lnotab,  # for < python 3.10 [not counted in args]\u001b[32m [repeated 6x across cluster]\u001b[0m\n"
     ]
    },
    {
     "name": "stdout",
     "output_type": "stream",
     "text": [
      "\u001b[36m(ClientAppActor pid=46651)\u001b[0m Epoch 1: train loss 0.019282983615994453, accuracy 0.7783196630458878\n",
      "\u001b[36m(ClientAppActor pid=46651)\u001b[0m [Client 3] fit, config: {'proximal_mu': 0.1}\u001b[32m [repeated 5x across cluster]\u001b[0m\n",
      "\u001b[36m(ClientAppActor pid=46652)\u001b[0m Epoch 1: train loss 0.009408320300281048, accuracy 0.8998237367802585\u001b[32m [repeated 2x across cluster]\u001b[0m\n",
      "\u001b[36m(ClientAppActor pid=46654)\u001b[0m Epoch 1: train loss 0.013451159931719303, accuracy 0.8410132689987937\u001b[32m [repeated 2x across cluster]\u001b[0m\n",
      "\u001b[36m(ClientAppActor pid=46651)\u001b[0m Epoch 2: train loss 0.010210015811026096, accuracy 0.8887164708490357\u001b[32m [repeated 2x across cluster]\u001b[0m\n",
      "\u001b[36m(ClientAppActor pid=46653)\u001b[0m Epoch 2: train loss 0.003626250196248293, accuracy 0.958128078817734\n",
      "\u001b[36m(ClientAppActor pid=46651)\u001b[0m Epoch 3: train loss 0.005196506157517433, accuracy 0.9432498337397472\n",
      "\u001b[36m(ClientAppActor pid=46655)\u001b[0m Epoch 2: train loss 0.0020432882010936737, accuracy 0.978331681065005\u001b[32m [repeated 2x across cluster]\u001b[0m\n",
      "\u001b[36m(ClientAppActor pid=46653)\u001b[0m Epoch 3: train loss 0.0028273186180740595, accuracy 0.9677750410509032\n",
      "\u001b[36m(ClientAppActor pid=46654)\u001b[0m Epoch 2: train loss 0.006896376609802246, accuracy 0.9197828709288299\n",
      "\u001b[36m(ClientAppActor pid=46651)\u001b[0m Epoch 4: train loss 0.004670958500355482, accuracy 0.9510086455331412\u001b[32m [repeated 2x across cluster]\u001b[0m\n",
      "\u001b[36m(ClientAppActor pid=46653)\u001b[0m Epoch 4: train loss 0.001839506789110601, accuracy 0.9798850574712644\n",
      "\u001b[36m(ClientAppActor pid=46652)\u001b[0m Epoch 3: train loss 0.003060083370655775, accuracy 0.9687132784958872\n",
      "\u001b[36m(ClientAppActor pid=46655)\u001b[0m Epoch 3: train loss 0.0012466484913602471, accuracy 0.9875371760373884\n",
      "\u001b[36m(ClientAppActor pid=46651)\u001b[0m Epoch 5: train loss 0.004199988674372435, accuracy 0.9538904899135446\n",
      "\u001b[36m(ClientAppActor pid=46653)\u001b[0m Epoch 5: train loss 0.0016103371744975448, accuracy 0.9821428571428571\n",
      "\u001b[36m(ClientAppActor pid=46654)\u001b[0m Epoch 3: train loss 0.004966448992490768, accuracy 0.943546441495778\n",
      "\u001b[36m(ClientAppActor pid=46651)\u001b[0m Epoch 6: train loss 0.002765999175608158, accuracy 0.9707381955220572\u001b[32m [repeated 2x across cluster]\u001b[0m\n",
      "\u001b[36m(ClientAppActor pid=46655)\u001b[0m Epoch 4: train loss 0.0010697419056668878, accuracy 0.9898031440305906\u001b[32m [repeated 2x across cluster]\u001b[0m\n",
      "\u001b[36m(ClientAppActor pid=46653)\u001b[0m Epoch 6: train loss 0.0005980475689284503, accuracy 0.9946633825944171\n",
      "\u001b[36m(ClientAppActor pid=46651)\u001b[0m Epoch 7: train loss 0.0021645703818649054, accuracy 0.9771669252937264\n",
      "\u001b[36m(ClientAppActor pid=46654)\u001b[0m Epoch 4: train loss 0.004602070897817612, accuracy 0.9496984318455971\n",
      "\u001b[36m(ClientAppActor pid=46650)\u001b[0m Epoch 4: train loss 0.00223490665666759, accuracy 0.9767029328287606\n",
      "\u001b[36m(ClientAppActor pid=46653)\u001b[0m Epoch 7: train loss 0.001734000165015459, accuracy 0.9807060755336617\u001b[32m [repeated 2x across cluster]\u001b[0m\n",
      "\u001b[36m(ClientAppActor pid=46655)\u001b[0m Epoch 5: train loss 0.0012169480323791504, accuracy 0.9885285370344143\n",
      "\u001b[36m(ClientAppActor pid=46651)\u001b[0m Epoch 8: train loss 0.002314044162631035, accuracy 0.9767235646198182\n",
      "\u001b[36m(ClientAppActor pid=46653)\u001b[0m Epoch 8: train loss 0.0006870335200801492, accuracy 0.9936371100164204\n",
      "\u001b[36m(ClientAppActor pid=46652)\u001b[0m Epoch 6: train loss 0.002159270690754056, accuracy 0.97737955346651\n",
      "\u001b[36m(ClientAppActor pid=46654)\u001b[0m Epoch 5: train loss 0.0033989788498729467, accuracy 0.9613992762364294\n",
      "\u001b[36m(ClientAppActor pid=46650)\u001b[0m Epoch 5: train loss 0.0016941839130595326, accuracy 0.9828524124881741\n",
      "\u001b[36m(ClientAppActor pid=46652)\u001b[0m Epoch 7: train loss 0.0016726544126868248, accuracy 0.9820799059929495\u001b[32m [repeated 2x across cluster]\u001b[0m\n",
      "\u001b[36m(ClientAppActor pid=46655)\u001b[0m Epoch 7: train loss 0.0009723666589707136, accuracy 0.9905112590284663\n",
      "\u001b[36m(ClientAppActor pid=46654)\u001b[0m Epoch 6: train loss 0.0025965007953345776, accuracy 0.9699638118214716\n",
      "\u001b[36m(ClientAppActor pid=46650)\u001b[0m Epoch 6: train loss 0.0013723302399739623, accuracy 0.9856906338694418\n",
      "\u001b[36m(ClientAppActor pid=46652)\u001b[0m Epoch 8: train loss 0.0011683801421895623, accuracy 0.9873678025851939\n",
      "\u001b[36m(ClientAppActor pid=46655)\u001b[0m Epoch 8: train loss 0.0009946873178705573, accuracy 0.9909361280271917\n",
      "\u001b[36m(ClientAppActor pid=46654)\u001b[0m Epoch 7: train loss 0.002369905821979046, accuracy 0.9732207478890229\n",
      "\u001b[36m(ClientAppActor pid=46650)\u001b[0m Epoch 7: train loss 0.0009835113305598497, accuracy 0.9895931882686849\n",
      "\u001b[36m(ClientAppActor pid=46654)\u001b[0m Epoch 8: train loss 0.002805566880851984, accuracy 0.9676718938480097\n"
     ]
    },
    {
     "name": "stderr",
     "output_type": "stream",
     "text": [
      "\u001b[92mINFO \u001b[0m:      aggregate_fit: received 6 results and 0 failures\n"
     ]
    },
    {
     "name": "stdout",
     "output_type": "stream",
     "text": [
      "\u001b[36m(ClientAppActor pid=46650)\u001b[0m Epoch 8: train loss 0.001586990780197084, accuracy 0.9823793755912961\n",
      "total size: 280903200\n"
     ]
    },
    {
     "name": "stderr",
     "output_type": "stream",
     "text": [
      "\u001b[92mINFO \u001b[0m:      fit progress: (6, 0.046377251935005186, {'accuracy': 0.5156}, 4918.575469125062)\n",
      "\u001b[92mINFO \u001b[0m:      configure_evaluate: strategy sampled 6 clients (out of 6)\n"
     ]
    },
    {
     "name": "stdout",
     "output_type": "stream",
     "text": [
      "\u001b[36m(ClientAppActor pid=46653)\u001b[0m [Client 4] evaluate, config: {}\n"
     ]
    },
    {
     "name": "stderr",
     "output_type": "stream",
     "text": [
      "\u001b[36m(ClientAppActor pid=46653)\u001b[0m /Users/macbook/Desktop/L361/L361_Project/.conda/lib/python3.12/site-packages/datasets/utils/_dill.py:385: DeprecationWarning: co_lnotab is deprecated, use co_lines instead.\u001b[32m [repeated 6x across cluster]\u001b[0m\n",
      "\u001b[36m(ClientAppActor pid=46653)\u001b[0m   obj.co_lnotab,  # for < python 3.10 [not counted in args]\u001b[32m [repeated 6x across cluster]\u001b[0m\n",
      "\u001b[92mINFO \u001b[0m:      aggregate_evaluate: received 6 results and 0 failures\n",
      "\u001b[92mINFO \u001b[0m:      \n",
      "\u001b[92mINFO \u001b[0m:      [ROUND 7]\n",
      "\u001b[92mINFO \u001b[0m:      configure_fit: strategy sampled 6 clients (out of 6)\n"
     ]
    },
    {
     "name": "stdout",
     "output_type": "stream",
     "text": [
      "\u001b[36m(ClientAppActor pid=46650)\u001b[0m [Client 0] fit, config: {'proximal_mu': 0.1}\n",
      "\u001b[36m(ClientAppActor pid=46651)\u001b[0m [Client 5] evaluate, config: {}\u001b[32m [repeated 5x across cluster]\u001b[0m\n"
     ]
    },
    {
     "name": "stderr",
     "output_type": "stream",
     "text": [
      "\u001b[36m(ClientAppActor pid=46650)\u001b[0m /Users/macbook/Desktop/L361/L361_Project/.conda/lib/python3.12/site-packages/datasets/utils/_dill.py:385: DeprecationWarning: co_lnotab is deprecated, use co_lines instead.\u001b[32m [repeated 6x across cluster]\u001b[0m\n",
      "\u001b[36m(ClientAppActor pid=46650)\u001b[0m   obj.co_lnotab,  # for < python 3.10 [not counted in args]\u001b[32m [repeated 6x across cluster]\u001b[0m\n"
     ]
    },
    {
     "name": "stdout",
     "output_type": "stream",
     "text": [
      "\u001b[36m(ClientAppActor pid=46655)\u001b[0m Epoch 1: train loss 0.00691684614866972, accuracy 0.9187192118226601\n",
      "\u001b[36m(ClientAppActor pid=46654)\u001b[0m [Client 1] fit, config: {'proximal_mu': 0.1}\u001b[32m [repeated 5x across cluster]\u001b[0m\n",
      "\u001b[36m(ClientAppActor pid=46652)\u001b[0m Epoch 1: train loss 0.003125064540654421, accuracy 0.966576972100269\u001b[32m [repeated 2x across cluster]\u001b[0m\n",
      "\u001b[36m(ClientAppActor pid=46650)\u001b[0m Epoch 1: train loss 0.010369489900767803, accuracy 0.8773220747889023\u001b[32m [repeated 2x across cluster]\u001b[0m\n",
      "\u001b[36m(ClientAppActor pid=46653)\u001b[0m Epoch 2: train loss 0.007338798604905605, accuracy 0.9213034803812902\u001b[32m [repeated 2x across cluster]\u001b[0m\n",
      "\u001b[36m(ClientAppActor pid=46653)\u001b[0m Epoch 3: train loss 0.004375212360173464, accuracy 0.9499002438483707\u001b[32m [repeated 2x across cluster]\u001b[0m\n",
      "\u001b[36m(ClientAppActor pid=46655)\u001b[0m Epoch 3: train loss 0.0017852920573204756, accuracy 0.9802955665024631\u001b[32m [repeated 3x across cluster]\u001b[0m\n",
      "\u001b[36m(ClientAppActor pid=46650)\u001b[0m Epoch 2: train loss 0.004606170579791069, accuracy 0.9499396863691194\n",
      "\u001b[36m(ClientAppActor pid=46651)\u001b[0m Epoch 2: train loss 0.002139125019311905, accuracy 0.978003784295175\n",
      "\u001b[36m(ClientAppActor pid=46653)\u001b[0m Epoch 4: train loss 0.003380316775292158, accuracy 0.9636444247395256\n",
      "\u001b[36m(ClientAppActor pid=46655)\u001b[0m Epoch 4: train loss 0.0012941383756697178, accuracy 0.9852216748768473\n",
      "\u001b[36m(ClientAppActor pid=46654)\u001b[0m Epoch 3: train loss 0.0020814405288547277, accuracy 0.9759106933019976\n",
      "\u001b[36m(ClientAppActor pid=46652)\u001b[0m Epoch 3: train loss 0.0012698754435405135, accuracy 0.9879620450361138\n",
      "\u001b[36m(ClientAppActor pid=46653)\u001b[0m Epoch 5: train loss 0.0021789802704006433, accuracy 0.9782753269784971\n",
      "\u001b[36m(ClientAppActor pid=46655)\u001b[0m Epoch 5: train loss 0.001519210753031075, accuracy 0.9864532019704434\n",
      "\u001b[36m(ClientAppActor pid=46650)\u001b[0m Epoch 3: train loss 0.003247863380238414, accuracy 0.9645355850422196\n",
      "\u001b[36m(ClientAppActor pid=46651)\u001b[0m Epoch 3: train loss 0.0022622745018452406, accuracy 0.9774124881740776\n",
      "\u001b[36m(ClientAppActor pid=46653)\u001b[0m Epoch 6: train loss 0.0026244577020406723, accuracy 0.9751718022611394\n",
      "\u001b[36m(ClientAppActor pid=46654)\u001b[0m Epoch 4: train loss 0.002507745986804366, accuracy 0.9732667450058754\n",
      "\u001b[36m(ClientAppActor pid=46655)\u001b[0m Epoch 6: train loss 0.0015078306896612048, accuracy 0.9835796387520526\u001b[32m [repeated 2x across cluster]\u001b[0m\n",
      "\u001b[36m(ClientAppActor pid=46653)\u001b[0m Epoch 7: train loss 0.002872657496482134, accuracy 0.9711815561959655\n",
      "\u001b[36m(ClientAppActor pid=46650)\u001b[0m Epoch 4: train loss 0.003660456743091345, accuracy 0.9606755126658625\n",
      "\u001b[36m(ClientAppActor pid=46655)\u001b[0m Epoch 7: train loss 0.0005047833546996117, accuracy 0.9950738916256158\n",
      "\u001b[36m(ClientAppActor pid=46651)\u001b[0m Epoch 4: train loss 0.0012663609813898802, accuracy 0.9853358561967833\n",
      "\u001b[36m(ClientAppActor pid=46654)\u001b[0m Epoch 5: train loss 0.001782036037184298, accuracy 0.9809048178613397\n",
      "\u001b[36m(ClientAppActor pid=46652)\u001b[0m Epoch 5: train loss 0.001100285560823977, accuracy 0.989095029032715\n",
      "\u001b[36m(ClientAppActor pid=46653)\u001b[0m Epoch 8: train loss 0.0020426830742508173, accuracy 0.980270450011084\n",
      "\u001b[36m(ClientAppActor pid=46655)\u001b[0m Epoch 8: train loss 0.0015489592915400863, accuracy 0.9860426929392446\n",
      "\u001b[36m(ClientAppActor pid=46654)\u001b[0m Epoch 6: train loss 0.0011811875738203526, accuracy 0.986192714453584\n",
      "\u001b[36m(ClientAppActor pid=46650)\u001b[0m Epoch 5: train loss 0.00229253014549613, accuracy 0.9788902291917974\n",
      "\u001b[36m(ClientAppActor pid=46652)\u001b[0m Epoch 6: train loss 0.0009952703258022666, accuracy 0.98923665203229\n",
      "\u001b[36m(ClientAppActor pid=46651)\u001b[0m Epoch 5: train loss 0.0011988076148554683, accuracy 0.9877010406811731\n",
      "\u001b[36m(ClientAppActor pid=46654)\u001b[0m Epoch 7: train loss 0.0011961322743445635, accuracy 0.9879553466509988\n",
      "\u001b[36m(ClientAppActor pid=46652)\u001b[0m Epoch 7: train loss 0.0009766367729753256, accuracy 0.9907945050276165\n",
      "\u001b[36m(ClientAppActor pid=46651)\u001b[0m Epoch 6: train loss 0.0015702674863860011, accuracy 0.9823793755912961\u001b[32m [repeated 2x across cluster]\u001b[0m\n",
      "\u001b[36m(ClientAppActor pid=46654)\u001b[0m Epoch 8: train loss 0.0013818201841786504, accuracy 0.9845769682726204\n",
      "\u001b[36m(ClientAppActor pid=46652)\u001b[0m Epoch 8: train loss 0.0006952820695005357, accuracy 0.9927772270216684\n",
      "\u001b[36m(ClientAppActor pid=46650)\u001b[0m Epoch 7: train loss 0.0018288621213287115, accuracy 0.9810615199034982\n",
      "\u001b[36m(ClientAppActor pid=46651)\u001b[0m Epoch 7: train loss 0.0010165683925151825, accuracy 0.990302743614002\n",
      "\u001b[36m(ClientAppActor pid=46650)\u001b[0m Epoch 8: train loss 0.0018602738855406642, accuracy 0.9802171290711701\n"
     ]
    },
    {
     "name": "stderr",
     "output_type": "stream",
     "text": [
      "\u001b[92mINFO \u001b[0m:      aggregate_fit: received 6 results and 0 failures\n"
     ]
    },
    {
     "name": "stdout",
     "output_type": "stream",
     "text": [
      "\u001b[36m(ClientAppActor pid=46651)\u001b[0m Epoch 8: train loss 0.0011155176907777786, accuracy 0.9881740775780511\n",
      "total size: 280903200\n"
     ]
    },
    {
     "name": "stderr",
     "output_type": "stream",
     "text": [
      "\u001b[92mINFO \u001b[0m:      fit progress: (7, 0.042179430562257765, {'accuracy': 0.5398}, 5710.401755374973)\n",
      "\u001b[92mINFO \u001b[0m:      configure_evaluate: strategy sampled 6 clients (out of 6)\n",
      "\u001b[36m(ClientAppActor pid=46652)\u001b[0m /Users/macbook/Desktop/L361/L361_Project/.conda/lib/python3.12/site-packages/datasets/utils/_dill.py:385: DeprecationWarning: co_lnotab is deprecated, use co_lines instead.\u001b[32m [repeated 6x across cluster]\u001b[0m\n",
      "\u001b[36m(ClientAppActor pid=46652)\u001b[0m   obj.co_lnotab,  # for < python 3.10 [not counted in args]\u001b[32m [repeated 6x across cluster]\u001b[0m\n"
     ]
    },
    {
     "name": "stdout",
     "output_type": "stream",
     "text": [
      "\u001b[36m(ClientAppActor pid=46652)\u001b[0m [Client 1] evaluate, config: {}\n"
     ]
    },
    {
     "name": "stderr",
     "output_type": "stream",
     "text": [
      "\u001b[92mINFO \u001b[0m:      aggregate_evaluate: received 6 results and 0 failures\n",
      "\u001b[92mINFO \u001b[0m:      \n",
      "\u001b[92mINFO \u001b[0m:      [ROUND 8]\n",
      "\u001b[92mINFO \u001b[0m:      configure_fit: strategy sampled 6 clients (out of 6)\n"
     ]
    },
    {
     "name": "stdout",
     "output_type": "stream",
     "text": [
      "\u001b[36m(ClientAppActor pid=46654)\u001b[0m [Client 4] fit, config: {'proximal_mu': 0.1}\n",
      "\u001b[36m(ClientAppActor pid=46655)\u001b[0m [Client 4] evaluate, config: {}\u001b[32m [repeated 5x across cluster]\u001b[0m\n"
     ]
    },
    {
     "name": "stderr",
     "output_type": "stream",
     "text": [
      "\u001b[36m(ClientAppActor pid=46654)\u001b[0m /Users/macbook/Desktop/L361/L361_Project/.conda/lib/python3.12/site-packages/datasets/utils/_dill.py:385: DeprecationWarning: co_lnotab is deprecated, use co_lines instead.\u001b[32m [repeated 6x across cluster]\u001b[0m\n",
      "\u001b[36m(ClientAppActor pid=46654)\u001b[0m   obj.co_lnotab,  # for < python 3.10 [not counted in args]\u001b[32m [repeated 6x across cluster]\u001b[0m\n"
     ]
    },
    {
     "name": "stdout",
     "output_type": "stream",
     "text": [
      "\u001b[36m(ClientAppActor pid=46650)\u001b[0m Epoch 1: train loss 0.015349971130490303, accuracy 0.8324096652626912\n",
      "\u001b[36m(ClientAppActor pid=46650)\u001b[0m [Client 3] fit, config: {'proximal_mu': 0.1}\u001b[32m [repeated 5x across cluster]\u001b[0m\n",
      "\u001b[36m(ClientAppActor pid=46651)\u001b[0m Epoch 1: train loss 0.006697745528072119, accuracy 0.9316980023501763\u001b[32m [repeated 2x across cluster]\u001b[0m\n",
      "\u001b[36m(ClientAppActor pid=46653)\u001b[0m Epoch 1: train loss 0.0084940604865551, accuracy 0.9085645355850422\u001b[32m [repeated 2x across cluster]\u001b[0m\n",
      "\u001b[36m(ClientAppActor pid=46650)\u001b[0m Epoch 2: train loss 0.005259237717837095, accuracy 0.9412547107071603\u001b[32m [repeated 2x across cluster]\u001b[0m\n",
      "\u001b[36m(ClientAppActor pid=46652)\u001b[0m Epoch 2: train loss 0.0018892184598371387, accuracy 0.9786535303776683\n",
      "\u001b[36m(ClientAppActor pid=46650)\u001b[0m Epoch 3: train loss 0.00354971457272768, accuracy 0.9632010640656173\n",
      "\u001b[36m(ClientAppActor pid=46655)\u001b[0m Epoch 2: train loss 0.0014000899391248822, accuracy 0.9869706840390879\u001b[32m [repeated 2x across cluster]\u001b[0m\n",
      "\u001b[36m(ClientAppActor pid=46653)\u001b[0m Epoch 2: train loss 0.0031022620387375355, accuracy 0.9630880579010856\u001b[32m [repeated 2x across cluster]\u001b[0m\n",
      "\u001b[36m(ClientAppActor pid=46650)\u001b[0m Epoch 4: train loss 0.003122047521173954, accuracy 0.9654178674351584\u001b[32m [repeated 2x across cluster]\u001b[0m\n",
      "\u001b[36m(ClientAppActor pid=46652)\u001b[0m Epoch 4: train loss 0.0012708896538242698, accuracy 0.9858374384236454\n",
      "\u001b[36m(ClientAppActor pid=46651)\u001b[0m Epoch 3: train loss 0.0018207805696874857, accuracy 0.9804641598119859\n",
      "\u001b[36m(ClientAppActor pid=46655)\u001b[0m Epoch 3: train loss 0.0008554991218261421, accuracy 0.9905112590284663\n",
      "\u001b[36m(ClientAppActor pid=46650)\u001b[0m Epoch 5: train loss 0.0025023920461535454, accuracy 0.9751718022611394\n",
      "\u001b[36m(ClientAppActor pid=46652)\u001b[0m Epoch 5: train loss 0.001237166696228087, accuracy 0.9872742200328407\n",
      "\u001b[36m(ClientAppActor pid=46653)\u001b[0m Epoch 3: train loss 0.003171226941049099, accuracy 0.9632086851628469\n",
      "\u001b[36m(ClientAppActor pid=46654)\u001b[0m Epoch 3: train loss 0.0012675774050876498, accuracy 0.9865184484389783\n",
      "\u001b[36m(ClientAppActor pid=46650)\u001b[0m Epoch 6: train loss 0.0011783194495365024, accuracy 0.9880292618044779\n",
      "\u001b[36m(ClientAppActor pid=46655)\u001b[0m Epoch 4: train loss 0.0014936041552573442, accuracy 0.9868290610395128\u001b[32m [repeated 2x across cluster]\u001b[0m\n",
      "\u001b[36m(ClientAppActor pid=46652)\u001b[0m Epoch 6: train loss 0.0007250571507029235, accuracy 0.993431855500821\n",
      "\u001b[36m(ClientAppActor pid=46650)\u001b[0m Epoch 7: train loss 0.0020262878388166428, accuracy 0.9773886056306805\n",
      "\u001b[36m(ClientAppActor pid=46653)\u001b[0m Epoch 4: train loss 0.0026948305312544107, accuracy 0.9717732207478891\n",
      "\u001b[36m(ClientAppActor pid=46654)\u001b[0m Epoch 4: train loss 0.0016940346686169505, accuracy 0.9822611163670766\n",
      "\u001b[36m(ClientAppActor pid=46655)\u001b[0m Epoch 5: train loss 0.0014908533776178956, accuracy 0.9841382240475853\u001b[32m [repeated 3x across cluster]\u001b[0m\n",
      "\u001b[36m(ClientAppActor pid=46650)\u001b[0m Epoch 8: train loss 0.003443151945248246, accuracy 0.9667479494568831\n",
      "\u001b[36m(ClientAppActor pid=46652)\u001b[0m Epoch 8: train loss 0.000890214869286865, accuracy 0.9922003284072249\n",
      "\u001b[36m(ClientAppActor pid=46651)\u001b[0m Epoch 6: train loss 0.0010181954130530357, accuracy 0.9904524089306698\n",
      "\u001b[36m(ClientAppActor pid=46653)\u001b[0m Epoch 5: train loss 0.002748543629422784, accuracy 0.9723763570566948\n",
      "\u001b[36m(ClientAppActor pid=46654)\u001b[0m Epoch 5: train loss 0.001104005379602313, accuracy 0.9892384105960265\n",
      "\u001b[36m(ClientAppActor pid=46655)\u001b[0m Epoch 6: train loss 0.0007656508823856711, accuracy 0.9936269650191191\n",
      "\u001b[36m(ClientAppActor pid=46651)\u001b[0m Epoch 7: train loss 0.0014713950222358108, accuracy 0.9834018801410106\n",
      "\u001b[36m(ClientAppActor pid=46655)\u001b[0m Epoch 7: train loss 0.00046235171612352133, accuracy 0.9951848180144456\n",
      "\u001b[36m(ClientAppActor pid=46654)\u001b[0m Epoch 6: train loss 0.001245265593752265, accuracy 0.9890018921475875\u001b[32m [repeated 2x across cluster]\u001b[0m\n",
      "\u001b[36m(ClientAppActor pid=46651)\u001b[0m Epoch 8: train loss 0.0007581028621643782, accuracy 0.9910399529964747\n",
      "\u001b[36m(ClientAppActor pid=46655)\u001b[0m Epoch 8: train loss 0.0005719027249142528, accuracy 0.9950431950148704\n",
      "\u001b[36m(ClientAppActor pid=46653)\u001b[0m Epoch 7: train loss 0.0020520163234323263, accuracy 0.9779252110977081\n",
      "\u001b[36m(ClientAppActor pid=46654)\u001b[0m Epoch 7: train loss 0.0009648706181906164, accuracy 0.9910122989593189\n",
      "\u001b[36m(ClientAppActor pid=46653)\u001b[0m Epoch 8: train loss 0.0020269532687962055, accuracy 0.9791314837153197\n"
     ]
    },
    {
     "name": "stderr",
     "output_type": "stream",
     "text": [
      "\u001b[92mINFO \u001b[0m:      aggregate_fit: received 6 results and 0 failures\n"
     ]
    },
    {
     "name": "stdout",
     "output_type": "stream",
     "text": [
      "\u001b[36m(ClientAppActor pid=46654)\u001b[0m Epoch 8: train loss 0.0013519377680495381, accuracy 0.9860454115421002\n",
      "total size: 280903200\n"
     ]
    },
    {
     "name": "stderr",
     "output_type": "stream",
     "text": [
      "\u001b[92mINFO \u001b[0m:      fit progress: (8, 0.041925021886825564, {'accuracy': 0.556}, 6499.482881792006)\n",
      "\u001b[92mINFO \u001b[0m:      configure_evaluate: strategy sampled 6 clients (out of 6)\n",
      "\u001b[36m(ClientAppActor pid=46655)\u001b[0m /Users/macbook/Desktop/L361/L361_Project/.conda/lib/python3.12/site-packages/datasets/utils/_dill.py:385: DeprecationWarning: co_lnotab is deprecated, use co_lines instead.\u001b[32m [repeated 6x across cluster]\u001b[0m\n",
      "\u001b[36m(ClientAppActor pid=46655)\u001b[0m   obj.co_lnotab,  # for < python 3.10 [not counted in args]\u001b[32m [repeated 6x across cluster]\u001b[0m\n"
     ]
    },
    {
     "name": "stdout",
     "output_type": "stream",
     "text": [
      "\u001b[36m(ClientAppActor pid=46655)\u001b[0m [Client 5] evaluate, config: {}\n"
     ]
    },
    {
     "name": "stderr",
     "output_type": "stream",
     "text": [
      "\u001b[92mINFO \u001b[0m:      aggregate_evaluate: received 6 results and 0 failures\n",
      "\u001b[92mINFO \u001b[0m:      \n",
      "\u001b[92mINFO \u001b[0m:      [ROUND 9]\n",
      "\u001b[92mINFO \u001b[0m:      configure_fit: strategy sampled 6 clients (out of 6)\n"
     ]
    },
    {
     "name": "stdout",
     "output_type": "stream",
     "text": [
      "\u001b[36m(ClientAppActor pid=46653)\u001b[0m [Client 4] fit, config: {'proximal_mu': 0.1}\n",
      "\u001b[36m(ClientAppActor pid=46651)\u001b[0m [Client 2] evaluate, config: {}\u001b[32m [repeated 5x across cluster]\u001b[0m\n"
     ]
    },
    {
     "name": "stderr",
     "output_type": "stream",
     "text": [
      "\u001b[36m(ClientAppActor pid=46653)\u001b[0m /Users/macbook/Desktop/L361/L361_Project/.conda/lib/python3.12/site-packages/datasets/utils/_dill.py:385: DeprecationWarning: co_lnotab is deprecated, use co_lines instead.\u001b[32m [repeated 6x across cluster]\u001b[0m\n",
      "\u001b[36m(ClientAppActor pid=46653)\u001b[0m   obj.co_lnotab,  # for < python 3.10 [not counted in args]\u001b[32m [repeated 6x across cluster]\u001b[0m\n"
     ]
    },
    {
     "name": "stdout",
     "output_type": "stream",
     "text": [
      "\u001b[36m(ClientAppActor pid=46654)\u001b[0m Epoch 1: train loss 0.013996235094964504, accuracy 0.8490356905342497\n",
      "\u001b[36m(ClientAppActor pid=46650)\u001b[0m [Client 1] fit, config: {'proximal_mu': 0.1}\u001b[32m [repeated 5x across cluster]\u001b[0m\n",
      "\u001b[36m(ClientAppActor pid=46650)\u001b[0m Epoch 1: train loss 0.005910829175263643, accuracy 0.9383078730904818\u001b[32m [repeated 2x across cluster]\u001b[0m\n",
      "\u001b[36m(ClientAppActor pid=46651)\u001b[0m Epoch 1: train loss 0.006161670200526714, accuracy 0.9337756332931243\u001b[32m [repeated 2x across cluster]\u001b[0m\n",
      "\u001b[36m(ClientAppActor pid=46654)\u001b[0m Epoch 2: train loss 0.004572638776153326, accuracy 0.9514520062070494\u001b[32m [repeated 2x across cluster]\u001b[0m\n",
      "\u001b[36m(ClientAppActor pid=46652)\u001b[0m Epoch 2: train loss 0.0017693385016173124, accuracy 0.9798850574712644\n",
      "\u001b[36m(ClientAppActor pid=46654)\u001b[0m Epoch 3: train loss 0.0020345395896583796, accuracy 0.97628020394591\n",
      "\u001b[36m(ClientAppActor pid=46655)\u001b[0m Epoch 2: train loss 0.0015490418300032616, accuracy 0.9855544540433366\u001b[32m [repeated 2x across cluster]\u001b[0m\n",
      "\u001b[36m(ClientAppActor pid=46652)\u001b[0m Epoch 3: train loss 0.0014680889435112476, accuracy 0.9872742200328407\n",
      "\u001b[36m(ClientAppActor pid=46651)\u001b[0m Epoch 2: train loss 0.0031307938043028116, accuracy 0.96562123039807\n",
      "\u001b[36m(ClientAppActor pid=46654)\u001b[0m Epoch 4: train loss 0.005090626422315836, accuracy 0.9530037685657282\u001b[32m [repeated 2x across cluster]\u001b[0m\n",
      "\u001b[36m(ClientAppActor pid=46652)\u001b[0m Epoch 4: train loss 0.0015706360572949052, accuracy 0.9839901477832512\n",
      "\u001b[36m(ClientAppActor pid=46650)\u001b[0m Epoch 3: train loss 0.0017058148514479399, accuracy 0.9822267920094007\n",
      "\u001b[36m(ClientAppActor pid=46655)\u001b[0m Epoch 3: train loss 0.0016497584292665124, accuracy 0.9872539300382382\n",
      "\u001b[36m(ClientAppActor pid=46654)\u001b[0m Epoch 5: train loss 0.0018569607054814696, accuracy 0.9798270893371758\n",
      "\u001b[36m(ClientAppActor pid=46652)\u001b[0m Epoch 5: train loss 0.0006701037054881454, accuracy 0.992816091954023\n",
      "\u001b[36m(ClientAppActor pid=46651)\u001b[0m Epoch 3: train loss 0.0026764688082039356, accuracy 0.9720144752714114\n",
      "\u001b[36m(ClientAppActor pid=46654)\u001b[0m Epoch 6: train loss 0.0012696480844169855, accuracy 0.9869208601197074\u001b[32m [repeated 2x across cluster]\u001b[0m\n",
      "\u001b[36m(ClientAppActor pid=46655)\u001b[0m Epoch 4: train loss 0.0009629452833905816, accuracy 0.9909361280271917\u001b[32m [repeated 2x across cluster]\u001b[0m\n",
      "\u001b[36m(ClientAppActor pid=46652)\u001b[0m Epoch 6: train loss 0.0013266479363664985, accuracy 0.9870689655172413\n",
      "\u001b[36m(ClientAppActor pid=46654)\u001b[0m Epoch 7: train loss 0.001466357265599072, accuracy 0.9864774994457992\n",
      "\u001b[36m(ClientAppActor pid=46651)\u001b[0m Epoch 4: train loss 0.002436285838484764, accuracy 0.9731001206272618\n",
      "\u001b[36m(ClientAppActor pid=46653)\u001b[0m Epoch 4: train loss 0.0008144492167048156, accuracy 0.9924314096499527\n",
      "\u001b[36m(ClientAppActor pid=46650)\u001b[0m Epoch 5: train loss 0.001855619135312736, accuracy 0.982373678025852\n",
      "\u001b[36m(ClientAppActor pid=46652)\u001b[0m Epoch 7: train loss 0.0008188853389583528, accuracy 0.9913793103448276\n",
      "\u001b[36m(ClientAppActor pid=46655)\u001b[0m Epoch 5: train loss 0.000851325923576951, accuracy 0.9922107350233678\n",
      "\u001b[36m(ClientAppActor pid=46654)\u001b[0m Epoch 8: train loss 0.002222730778157711, accuracy 0.9791620483263135\n",
      "\u001b[36m(ClientAppActor pid=46652)\u001b[0m Epoch 8: train loss 0.0008253381820395589, accuracy 0.9905582922824302\n",
      "\u001b[36m(ClientAppActor pid=46650)\u001b[0m Epoch 6: train loss 0.0014922093832865357, accuracy 0.9872209165687427\n",
      "\u001b[36m(ClientAppActor pid=46651)\u001b[0m Epoch 5: train loss 0.002485493663698435, accuracy 0.9738238841978287\n",
      "\u001b[36m(ClientAppActor pid=46653)\u001b[0m Epoch 5: train loss 0.0007470984128303826, accuracy 0.9932592242194891\n",
      "\u001b[36m(ClientAppActor pid=46650)\u001b[0m Epoch 7: train loss 0.001557523268274963, accuracy 0.9838425381903643\u001b[32m [repeated 2x across cluster]\u001b[0m\n",
      "\u001b[36m(ClientAppActor pid=46655)\u001b[0m Epoch 7: train loss 0.000693645270075649, accuracy 0.9936269650191191\n",
      "\u001b[36m(ClientAppActor pid=46651)\u001b[0m Epoch 6: train loss 0.0019674012437462807, accuracy 0.9814234016887816\n",
      "\u001b[36m(ClientAppActor pid=46653)\u001b[0m Epoch 6: train loss 0.0011975892120972276, accuracy 0.9875827814569537\n",
      "\u001b[36m(ClientAppActor pid=46650)\u001b[0m Epoch 8: train loss 0.001191776362247765, accuracy 0.9866333725029377\n",
      "\u001b[36m(ClientAppActor pid=46655)\u001b[0m Epoch 8: train loss 0.00041290948865935206, accuracy 0.9951848180144456\n",
      "\u001b[36m(ClientAppActor pid=46651)\u001b[0m Epoch 7: train loss 0.0019440182950347662, accuracy 0.9791314837153197\n",
      "\u001b[36m(ClientAppActor pid=46653)\u001b[0m Epoch 7: train loss 0.001529765548184514, accuracy 0.9852175969725638\n",
      "\u001b[36m(ClientAppActor pid=46651)\u001b[0m Epoch 8: train loss 0.001907047349959612, accuracy 0.9794933655006032\n"
     ]
    },
    {
     "name": "stderr",
     "output_type": "stream",
     "text": [
      "\u001b[92mINFO \u001b[0m:      aggregate_fit: received 6 results and 0 failures\n"
     ]
    },
    {
     "name": "stdout",
     "output_type": "stream",
     "text": [
      "\u001b[36m(ClientAppActor pid=46653)\u001b[0m Epoch 8: train loss 0.0010734210954979062, accuracy 0.9882923368022706\n",
      "total size: 280903200\n"
     ]
    },
    {
     "name": "stderr",
     "output_type": "stream",
     "text": [
      "\u001b[92mINFO \u001b[0m:      fit progress: (9, 0.04134067244529724, {'accuracy': 0.5784}, 7288.297207792057)\n",
      "\u001b[92mINFO \u001b[0m:      configure_evaluate: strategy sampled 6 clients (out of 6)\n",
      "\u001b[36m(ClientAppActor pid=46655)\u001b[0m /Users/macbook/Desktop/L361/L361_Project/.conda/lib/python3.12/site-packages/datasets/utils/_dill.py:385: DeprecationWarning: co_lnotab is deprecated, use co_lines instead.\u001b[32m [repeated 6x across cluster]\u001b[0m\n",
      "\u001b[36m(ClientAppActor pid=46655)\u001b[0m   obj.co_lnotab,  # for < python 3.10 [not counted in args]\u001b[32m [repeated 6x across cluster]\u001b[0m\n"
     ]
    },
    {
     "name": "stdout",
     "output_type": "stream",
     "text": [
      "\u001b[36m(ClientAppActor pid=46655)\u001b[0m [Client 3] evaluate, config: {}\n"
     ]
    },
    {
     "name": "stderr",
     "output_type": "stream",
     "text": [
      "\u001b[92mINFO \u001b[0m:      aggregate_evaluate: received 6 results and 0 failures\n",
      "\u001b[92mINFO \u001b[0m:      \n",
      "\u001b[92mINFO \u001b[0m:      [ROUND 10]\n",
      "\u001b[92mINFO \u001b[0m:      configure_fit: strategy sampled 6 clients (out of 6)\n"
     ]
    },
    {
     "name": "stdout",
     "output_type": "stream",
     "text": [
      "\u001b[36m(ClientAppActor pid=46650)\u001b[0m [Client 4] fit, config: {'proximal_mu': 0.1}\n",
      "\u001b[36m(ClientAppActor pid=46651)\u001b[0m [Client 2] evaluate, config: {}\u001b[32m [repeated 5x across cluster]\u001b[0m\n"
     ]
    },
    {
     "name": "stderr",
     "output_type": "stream",
     "text": [
      "\u001b[36m(ClientAppActor pid=46650)\u001b[0m /Users/macbook/Desktop/L361/L361_Project/.conda/lib/python3.12/site-packages/datasets/utils/_dill.py:385: DeprecationWarning: co_lnotab is deprecated, use co_lines instead.\u001b[32m [repeated 6x across cluster]\u001b[0m\n",
      "\u001b[36m(ClientAppActor pid=46650)\u001b[0m   obj.co_lnotab,  # for < python 3.10 [not counted in args]\u001b[32m [repeated 6x across cluster]\u001b[0m\n"
     ]
    },
    {
     "name": "stdout",
     "output_type": "stream",
     "text": [
      "\u001b[36m(ClientAppActor pid=46653)\u001b[0m Epoch 1: train loss 0.012203059159219265, accuracy 0.871647084903569\n",
      "\u001b[36m(ClientAppActor pid=46653)\u001b[0m [Client 3] fit, config: {'proximal_mu': 0.1}\u001b[32m [repeated 5x across cluster]\u001b[0m\n",
      "\u001b[36m(ClientAppActor pid=46652)\u001b[0m Epoch 1: train loss 0.004747373517602682, accuracy 0.9538777908343126\u001b[32m [repeated 2x across cluster]\u001b[0m\n",
      "\u001b[36m(ClientAppActor pid=46654)\u001b[0m Epoch 1: train loss 0.00507203908637166, accuracy 0.9452352231604343\u001b[32m [repeated 2x across cluster]\u001b[0m\n",
      "\u001b[36m(ClientAppActor pid=46653)\u001b[0m Epoch 2: train loss 0.003793923184275627, accuracy 0.9607625803591221\u001b[32m [repeated 2x across cluster]\u001b[0m\n",
      "\u001b[36m(ClientAppActor pid=46655)\u001b[0m Epoch 2: train loss 0.0015901000006124377, accuracy 0.9794745484400657\n",
      "\u001b[36m(ClientAppActor pid=46653)\u001b[0m Epoch 3: train loss 0.002525405725464225, accuracy 0.9745067612502771\n",
      "\u001b[36m(ClientAppActor pid=46651)\u001b[0m Epoch 2: train loss 0.0010934947058558464, accuracy 0.9883869140348392\u001b[32m [repeated 2x across cluster]\u001b[0m\n",
      "\u001b[36m(ClientAppActor pid=46655)\u001b[0m Epoch 3: train loss 0.0013485781382769346, accuracy 0.9841954022988506\n",
      "\u001b[36m(ClientAppActor pid=46654)\u001b[0m Epoch 2: train loss 0.002788357436656952, accuracy 0.971049457177322\n",
      "\u001b[36m(ClientAppActor pid=46653)\u001b[0m Epoch 4: train loss 0.003343824064359069, accuracy 0.9678563511416537\u001b[32m [repeated 2x across cluster]\u001b[0m\n",
      "\u001b[36m(ClientAppActor pid=46655)\u001b[0m Epoch 4: train loss 0.0010864061769098043, accuracy 0.9874794745484401\n",
      "\u001b[36m(ClientAppActor pid=46652)\u001b[0m Epoch 3: train loss 0.0012037615524604917, accuracy 0.9878084606345476\n",
      "\u001b[36m(ClientAppActor pid=46651)\u001b[0m Epoch 3: train loss 0.0008747680112719536, accuracy 0.9919274890242176\n",
      "\u001b[36m(ClientAppActor pid=46653)\u001b[0m Epoch 5: train loss 0.0019134841859340668, accuracy 0.9800487696741299\n",
      "\u001b[36m(ClientAppActor pid=46655)\u001b[0m Epoch 5: train loss 0.000977769959717989, accuracy 0.9913793103448276\n",
      "\u001b[36m(ClientAppActor pid=46654)\u001b[0m Epoch 3: train loss 0.0029188308399170637, accuracy 0.9698431845597105\n",
      "\u001b[36m(ClientAppActor pid=46653)\u001b[0m Epoch 6: train loss 0.001598541741259396, accuracy 0.9849257370871204\u001b[32m [repeated 2x across cluster]\u001b[0m\n",
      "\u001b[36m(ClientAppActor pid=46651)\u001b[0m Epoch 4: train loss 0.0010255174711346626, accuracy 0.9895198980314404\u001b[32m [repeated 2x across cluster]\u001b[0m\n",
      "\u001b[36m(ClientAppActor pid=46655)\u001b[0m Epoch 6: train loss 0.0014323213836178184, accuracy 0.9829638752052545\n",
      "\u001b[36m(ClientAppActor pid=46653)\u001b[0m Epoch 7: train loss 0.0020418683998286724, accuracy 0.9773886056306805\n",
      "\u001b[36m(ClientAppActor pid=46654)\u001b[0m Epoch 4: train loss 0.002275164471939206, accuracy 0.978648974668275\n",
      "\u001b[36m(ClientAppActor pid=46650)\u001b[0m Epoch 4: train loss 0.0016161419916898012, accuracy 0.9845080416272469\n",
      "\u001b[36m(ClientAppActor pid=46655)\u001b[0m Epoch 7: train loss 0.0007512121228501201, accuracy 0.9930213464696224\u001b[32m [repeated 2x across cluster]\u001b[0m\n",
      "\u001b[36m(ClientAppActor pid=46651)\u001b[0m Epoch 5: train loss 0.0008260709582827985, accuracy 0.9915026200254922\n",
      "\u001b[36m(ClientAppActor pid=46653)\u001b[0m Epoch 8: train loss 0.0010657381499186158, accuracy 0.988250942141432\n",
      "\u001b[36m(ClientAppActor pid=46655)\u001b[0m Epoch 8: train loss 0.001417621853761375, accuracy 0.9860426929392446\n",
      "\u001b[36m(ClientAppActor pid=46652)\u001b[0m Epoch 6: train loss 0.0010331196244806051, accuracy 0.9894242068155111\n",
      "\u001b[36m(ClientAppActor pid=46654)\u001b[0m Epoch 5: train loss 0.0029517197981476784, accuracy 0.97708082026538\n",
      "\u001b[36m(ClientAppActor pid=46650)\u001b[0m Epoch 5: train loss 0.0009260036749765277, accuracy 0.9905392620624409\n",
      "\u001b[36m(ClientAppActor pid=46652)\u001b[0m Epoch 7: train loss 0.0013872984563931823, accuracy 0.9866333725029377\u001b[32m [repeated 2x across cluster]\u001b[0m\n",
      "\u001b[36m(ClientAppActor pid=46651)\u001b[0m Epoch 7: train loss 0.001562868827022612, accuracy 0.983854978048435\n",
      "\u001b[36m(ClientAppActor pid=46654)\u001b[0m Epoch 6: train loss 0.0021252601873129606, accuracy 0.9802171290711701\n",
      "\u001b[36m(ClientAppActor pid=46650)\u001b[0m Epoch 6: train loss 0.0008062331471592188, accuracy 0.9913670766319773\n",
      "\u001b[36m(ClientAppActor pid=46652)\u001b[0m Epoch 8: train loss 0.001328511512838304, accuracy 0.9858989424206815\n",
      "\u001b[36m(ClientAppActor pid=46651)\u001b[0m Epoch 8: train loss 0.00029313136474229395, accuracy 0.9977340320067979\n",
      "\u001b[36m(ClientAppActor pid=46654)\u001b[0m Epoch 7: train loss 0.0012943058973178267, accuracy 0.9875753920386007\n",
      "\u001b[36m(ClientAppActor pid=46650)\u001b[0m Epoch 7: train loss 0.0009324660641141236, accuracy 0.9920766319772942\n",
      "\u001b[36m(ClientAppActor pid=46654)\u001b[0m Epoch 8: train loss 0.0016096846666187048, accuracy 0.9827503015681543\n"
     ]
    },
    {
     "name": "stderr",
     "output_type": "stream",
     "text": [
      "\u001b[92mINFO \u001b[0m:      aggregate_fit: received 6 results and 0 failures\n"
     ]
    },
    {
     "name": "stdout",
     "output_type": "stream",
     "text": [
      "\u001b[36m(ClientAppActor pid=46650)\u001b[0m Epoch 8: train loss 0.0007320309523493052, accuracy 0.993968779564806\n",
      "total size: 280903200\n"
     ]
    },
    {
     "name": "stderr",
     "output_type": "stream",
     "text": [
      "\u001b[92mINFO \u001b[0m:      fit progress: (10, 0.03789602058529854, {'accuracy': 0.6001}, 8073.637144749984)\n",
      "\u001b[92mINFO \u001b[0m:      configure_evaluate: strategy sampled 6 clients (out of 6)\n",
      "\u001b[36m(ClientAppActor pid=46652)\u001b[0m /Users/macbook/Desktop/L361/L361_Project/.conda/lib/python3.12/site-packages/datasets/utils/_dill.py:385: DeprecationWarning: co_lnotab is deprecated, use co_lines instead.\u001b[32m [repeated 6x across cluster]\u001b[0m\n",
      "\u001b[36m(ClientAppActor pid=46652)\u001b[0m   obj.co_lnotab,  # for < python 3.10 [not counted in args]\u001b[32m [repeated 6x across cluster]\u001b[0m\n"
     ]
    },
    {
     "name": "stdout",
     "output_type": "stream",
     "text": [
      "\u001b[36m(ClientAppActor pid=46652)\u001b[0m [Client 3] evaluate, config: {}\n"
     ]
    },
    {
     "name": "stderr",
     "output_type": "stream",
     "text": [
      "\u001b[92mINFO \u001b[0m:      aggregate_evaluate: received 6 results and 0 failures\n",
      "\u001b[92mINFO \u001b[0m:      \n",
      "\u001b[92mINFO \u001b[0m:      [ROUND 11]\n",
      "\u001b[92mINFO \u001b[0m:      configure_fit: strategy sampled 6 clients (out of 6)\n"
     ]
    },
    {
     "name": "stdout",
     "output_type": "stream",
     "text": [
      "\u001b[36m(ClientAppActor pid=46654)\u001b[0m [Client 3] fit, config: {'proximal_mu': 0.1}\n",
      "\u001b[36m(ClientAppActor pid=46650)\u001b[0m [Client 5] evaluate, config: {}\u001b[32m [repeated 5x across cluster]\u001b[0m\n"
     ]
    },
    {
     "name": "stderr",
     "output_type": "stream",
     "text": [
      "\u001b[36m(ClientAppActor pid=46654)\u001b[0m /Users/macbook/Desktop/L361/L361_Project/.conda/lib/python3.12/site-packages/datasets/utils/_dill.py:385: DeprecationWarning: co_lnotab is deprecated, use co_lines instead.\u001b[32m [repeated 6x across cluster]\u001b[0m\n",
      "\u001b[36m(ClientAppActor pid=46654)\u001b[0m   obj.co_lnotab,  # for < python 3.10 [not counted in args]\u001b[32m [repeated 6x across cluster]\u001b[0m\n"
     ]
    },
    {
     "name": "stdout",
     "output_type": "stream",
     "text": [
      "\u001b[36m(ClientAppActor pid=46654)\u001b[0m Epoch 1: train loss 0.01094856671988964, accuracy 0.8845045444469075\n",
      "\u001b[36m(ClientAppActor pid=46650)\u001b[0m [Client 4] fit, config: {'proximal_mu': 0.1}\u001b[32m [repeated 5x across cluster]\u001b[0m\n",
      "\u001b[36m(ClientAppActor pid=46655)\u001b[0m Epoch 1: train loss 0.0039416090585291386, accuracy 0.9594594594594594\u001b[32m [repeated 2x across cluster]\u001b[0m\n",
      "\u001b[36m(ClientAppActor pid=46653)\u001b[0m Epoch 1: train loss 0.004275654908269644, accuracy 0.955006031363088\u001b[32m [repeated 2x across cluster]\u001b[0m\n",
      "\u001b[36m(ClientAppActor pid=46654)\u001b[0m Epoch 2: train loss 0.0032121187541633844, accuracy 0.9685213921525161\u001b[32m [repeated 2x across cluster]\u001b[0m\n",
      "\u001b[36m(ClientAppActor pid=46652)\u001b[0m Epoch 2: train loss 0.0016634920611977577, accuracy 0.979064039408867\n",
      "\u001b[36m(ClientAppActor pid=46655)\u001b[0m Epoch 2: train loss 0.0016002827323973179, accuracy 0.9844300822561692\n",
      "\u001b[36m(ClientAppActor pid=46651)\u001b[0m Epoch 2: train loss 0.0012971024261787534, accuracy 0.9872539300382382\u001b[32m [repeated 2x across cluster]\u001b[0m\n",
      "\u001b[36m(ClientAppActor pid=46652)\u001b[0m Epoch 3: train loss 0.001935102860443294, accuracy 0.9827586206896551\n",
      "\u001b[36m(ClientAppActor pid=46653)\u001b[0m Epoch 2: train loss 0.002969676163047552, accuracy 0.9696019300361882\n",
      "\u001b[36m(ClientAppActor pid=46654)\u001b[0m Epoch 4: train loss 0.0019858949817717075, accuracy 0.9780536466415429\u001b[32m [repeated 2x across cluster]\u001b[0m\n",
      "\u001b[36m(ClientAppActor pid=46652)\u001b[0m Epoch 4: train loss 0.0015429543564096093, accuracy 0.9839901477832512\n",
      "\u001b[36m(ClientAppActor pid=46655)\u001b[0m Epoch 3: train loss 0.002463067416101694, accuracy 0.9757638072855465\n",
      "\u001b[36m(ClientAppActor pid=46651)\u001b[0m Epoch 3: train loss 0.0008729471592232585, accuracy 0.9912193740263419\n",
      "\u001b[36m(ClientAppActor pid=46654)\u001b[0m Epoch 5: train loss 0.0023095945362001657, accuracy 0.9784970073154511\n",
      "\u001b[36m(ClientAppActor pid=46652)\u001b[0m Epoch 5: train loss 0.00034677254734560847, accuracy 0.9963054187192119\n",
      "\u001b[36m(ClientAppActor pid=46653)\u001b[0m Epoch 3: train loss 0.0018022240838035941, accuracy 0.9802171290711701\n",
      "\u001b[36m(ClientAppActor pid=46650)\u001b[0m Epoch 3: train loss 0.0013380249729380012, accuracy 0.9860454115421002\n",
      "\u001b[36m(ClientAppActor pid=46655)\u001b[0m Epoch 4: train loss 0.0017818789929151535, accuracy 0.9820799059929495\n",
      "\u001b[36m(ClientAppActor pid=46651)\u001b[0m Epoch 4: train loss 0.000999043113552034, accuracy 0.9915026200254922\u001b[32m [repeated 2x across cluster]\u001b[0m\n",
      "\u001b[36m(ClientAppActor pid=46652)\u001b[0m Epoch 6: train loss 0.0008029115269891918, accuracy 0.9930213464696224\n",
      "\u001b[36m(ClientAppActor pid=46654)\u001b[0m Epoch 7: train loss 0.003608796978369355, accuracy 0.9632010640656173\n",
      "\u001b[36m(ClientAppActor pid=46653)\u001b[0m Epoch 4: train loss 0.0016206252621486783, accuracy 0.9815440289505428\n",
      "\u001b[36m(ClientAppActor pid=46655)\u001b[0m Epoch 5: train loss 0.002688029780983925, accuracy 0.9741480611045829\n",
      "\u001b[36m(ClientAppActor pid=46651)\u001b[0m Epoch 5: train loss 0.000982686411589384, accuracy 0.9907945050276165\u001b[32m [repeated 3x across cluster]\u001b[0m\n",
      "\u001b[36m(ClientAppActor pid=46654)\u001b[0m Epoch 8: train loss 0.0015541929751634598, accuracy 0.9869208601197074\n",
      "\u001b[36m(ClientAppActor pid=46652)\u001b[0m Epoch 8: train loss 0.0010898226173594594, accuracy 0.9893267651888341\n",
      "\u001b[36m(ClientAppActor pid=46655)\u001b[0m Epoch 6: train loss 0.0006678749923594296, accuracy 0.992508813160987\n",
      "\u001b[36m(ClientAppActor pid=46653)\u001b[0m Epoch 5: train loss 0.0023275762796401978, accuracy 0.9774427020506634\n",
      "\u001b[36m(ClientAppActor pid=46651)\u001b[0m Epoch 6: train loss 0.0008046844159252942, accuracy 0.9922107350233678\n",
      "\u001b[36m(ClientAppActor pid=46650)\u001b[0m Epoch 5: train loss 0.0011649872176349163, accuracy 0.989356669820246\n",
      "\u001b[36m(ClientAppActor pid=46655)\u001b[0m Epoch 7: train loss 0.0013757966225966811, accuracy 0.9876615746180963\n",
      "\u001b[36m(ClientAppActor pid=46651)\u001b[0m Epoch 7: train loss 0.00021321617532521486, accuracy 0.9983005240050984\n",
      "\u001b[36m(ClientAppActor pid=46650)\u001b[0m Epoch 6: train loss 0.0006434585666283965, accuracy 0.993732261116367\u001b[32m [repeated 2x across cluster]\u001b[0m\n",
      "\u001b[36m(ClientAppActor pid=46655)\u001b[0m Epoch 8: train loss 0.00036178709706291556, accuracy 0.9966216216216216\n",
      "\u001b[36m(ClientAppActor pid=46651)\u001b[0m Epoch 8: train loss 0.0008060287800617516, accuracy 0.9915026200254922\n",
      "\u001b[36m(ClientAppActor pid=46653)\u001b[0m Epoch 7: train loss 0.0014075444778427482, accuracy 0.9867310012062727\n",
      "\u001b[36m(ClientAppActor pid=46650)\u001b[0m Epoch 7: train loss 0.0007160838576965034, accuracy 0.993732261116367\n",
      "\u001b[36m(ClientAppActor pid=46653)\u001b[0m Epoch 8: train loss 0.0023197357077151537, accuracy 0.9776839565741857\n"
     ]
    },
    {
     "name": "stderr",
     "output_type": "stream",
     "text": [
      "\u001b[92mINFO \u001b[0m:      aggregate_fit: received 6 results and 0 failures\n"
     ]
    },
    {
     "name": "stdout",
     "output_type": "stream",
     "text": [
      "\u001b[36m(ClientAppActor pid=46650)\u001b[0m Epoch 8: train loss 0.0014409010764211416, accuracy 0.9884105960264901\n",
      "total size: 280903200\n"
     ]
    },
    {
     "name": "stderr",
     "output_type": "stream",
     "text": [
      "\u001b[92mINFO \u001b[0m:      fit progress: (11, 0.0390854870557785, {'accuracy': 0.594}, 8861.352935625007)\n",
      "\u001b[92mINFO \u001b[0m:      configure_evaluate: strategy sampled 6 clients (out of 6)\n",
      "\u001b[36m(ClientAppActor pid=46652)\u001b[0m /Users/macbook/Desktop/L361/L361_Project/.conda/lib/python3.12/site-packages/datasets/utils/_dill.py:385: DeprecationWarning: co_lnotab is deprecated, use co_lines instead.\u001b[32m [repeated 6x across cluster]\u001b[0m\n",
      "\u001b[36m(ClientAppActor pid=46652)\u001b[0m   obj.co_lnotab,  # for < python 3.10 [not counted in args]\u001b[32m [repeated 6x across cluster]\u001b[0m\n"
     ]
    },
    {
     "name": "stdout",
     "output_type": "stream",
     "text": [
      "\u001b[36m(ClientAppActor pid=46652)\u001b[0m [Client 4] evaluate, config: {}\n"
     ]
    },
    {
     "name": "stderr",
     "output_type": "stream",
     "text": [
      "\u001b[92mINFO \u001b[0m:      aggregate_evaluate: received 6 results and 0 failures\n",
      "\u001b[92mINFO \u001b[0m:      \n",
      "\u001b[92mINFO \u001b[0m:      [ROUND 12]\n",
      "\u001b[92mINFO \u001b[0m:      configure_fit: strategy sampled 6 clients (out of 6)\n"
     ]
    },
    {
     "name": "stdout",
     "output_type": "stream",
     "text": [
      "\u001b[36m(ClientAppActor pid=46654)\u001b[0m [Client 5] fit, config: {'proximal_mu': 0.1}\n",
      "\u001b[36m(ClientAppActor pid=46651)\u001b[0m [Client 2] evaluate, config: {}\u001b[32m [repeated 5x across cluster]\u001b[0m\n"
     ]
    },
    {
     "name": "stderr",
     "output_type": "stream",
     "text": [
      "\u001b[36m(ClientAppActor pid=46654)\u001b[0m /Users/macbook/Desktop/L361/L361_Project/.conda/lib/python3.12/site-packages/datasets/utils/_dill.py:385: DeprecationWarning: co_lnotab is deprecated, use co_lines instead.\u001b[32m [repeated 6x across cluster]\u001b[0m\n",
      "\u001b[36m(ClientAppActor pid=46654)\u001b[0m   obj.co_lnotab,  # for < python 3.10 [not counted in args]\u001b[32m [repeated 6x across cluster]\u001b[0m\n"
     ]
    },
    {
     "name": "stdout",
     "output_type": "stream",
     "text": [
      "\u001b[36m(ClientAppActor pid=46650)\u001b[0m Epoch 1: train loss 0.010455427691340446, accuracy 0.8935934382620262\n",
      "\u001b[36m(ClientAppActor pid=46653)\u001b[0m [Client 0] fit, config: {'proximal_mu': 0.1}\u001b[32m [repeated 5x across cluster]\u001b[0m\n",
      "\u001b[36m(ClientAppActor pid=46652)\u001b[0m Epoch 1: train loss 0.0037868169602006674, accuracy 0.9599001175088132\u001b[32m [repeated 2x across cluster]\u001b[0m\n",
      "\u001b[36m(ClientAppActor pid=46653)\u001b[0m Epoch 1: train loss 0.004038072656840086, accuracy 0.9600723763570567\u001b[32m [repeated 2x across cluster]\u001b[0m\n",
      "\u001b[36m(ClientAppActor pid=46650)\u001b[0m Epoch 2: train loss 0.002517648506909609, accuracy 0.9765018842828641\u001b[32m [repeated 2x across cluster]\u001b[0m\n",
      "\u001b[36m(ClientAppActor pid=46654)\u001b[0m Epoch 2: train loss 0.0013813250698149204, accuracy 0.986247947454844\n",
      "\u001b[36m(ClientAppActor pid=46650)\u001b[0m Epoch 3: train loss 0.002771778730675578, accuracy 0.9747284415872313\n",
      "\u001b[36m(ClientAppActor pid=46651)\u001b[0m Epoch 2: train loss 0.0018797809025272727, accuracy 0.9841382240475853\u001b[32m [repeated 2x across cluster]\u001b[0m\n",
      "\u001b[36m(ClientAppActor pid=46654)\u001b[0m Epoch 3: train loss 0.0013844864442944527, accuracy 0.9876847290640394\n",
      "\u001b[36m(ClientAppActor pid=46653)\u001b[0m Epoch 2: train loss 0.003750340547412634, accuracy 0.9617611580217129\n",
      "\u001b[36m(ClientAppActor pid=46650)\u001b[0m Epoch 4: train loss 0.0030526015907526016, accuracy 0.9727333185546442\u001b[32m [repeated 2x across cluster]\u001b[0m\n",
      "\u001b[36m(ClientAppActor pid=46654)\u001b[0m Epoch 4: train loss 0.0015235786559060216, accuracy 0.9844006568144499\n",
      "\u001b[36m(ClientAppActor pid=46652)\u001b[0m Epoch 3: train loss 0.0023534796200692654, accuracy 0.9787015276145711\n",
      "\u001b[36m(ClientAppActor pid=46651)\u001b[0m Epoch 3: train loss 0.0009435834363102913, accuracy 0.9895198980314404\n",
      "\u001b[36m(ClientAppActor pid=46650)\u001b[0m Epoch 5: train loss 0.0020440700463950634, accuracy 0.982265573043671\n",
      "\u001b[36m(ClientAppActor pid=46654)\u001b[0m Epoch 5: train loss 0.0007095500477589667, accuracy 0.992816091954023\n",
      "\u001b[36m(ClientAppActor pid=46653)\u001b[0m Epoch 3: train loss 0.0019282937282696366, accuracy 0.9792521109770809\n",
      "\u001b[36m(ClientAppActor pid=46650)\u001b[0m Epoch 6: train loss 0.0021048709750175476, accuracy 0.9796054090002216\u001b[32m [repeated 2x across cluster]\u001b[0m\n",
      "\u001b[36m(ClientAppActor pid=46651)\u001b[0m Epoch 4: train loss 0.0034069945104420185, accuracy 0.9949015720152953\u001b[32m [repeated 2x across cluster]\u001b[0m\n",
      "\u001b[36m(ClientAppActor pid=46654)\u001b[0m Epoch 6: train loss 0.003804312087595463, accuracy 0.9685960591133005\n",
      "\u001b[36m(ClientAppActor pid=46650)\u001b[0m Epoch 7: train loss 0.0025269053876399994, accuracy 0.9771669252937264\n",
      "\u001b[36m(ClientAppActor pid=46653)\u001b[0m Epoch 4: train loss 0.0013761682203039527, accuracy 0.9874547647768396\n",
      "\u001b[36m(ClientAppActor pid=46655)\u001b[0m Epoch 4: train loss 0.0015988664235919714, accuracy 0.9850993377483444\n",
      "\u001b[36m(ClientAppActor pid=46651)\u001b[0m Epoch 5: train loss 0.0028096057940274477, accuracy 0.9699759240900723\u001b[32m [repeated 3x across cluster]\u001b[0m\n",
      "\u001b[36m(ClientAppActor pid=46650)\u001b[0m Epoch 8: train loss 0.0013517398620024323, accuracy 0.9875859011305698\n",
      "\u001b[36m(ClientAppActor pid=46654)\u001b[0m Epoch 8: train loss 0.00016048728139139712, accuracy 0.9983579638752053\n",
      "\u001b[36m(ClientAppActor pid=46652)\u001b[0m Epoch 6: train loss 0.003939905669540167, accuracy 0.967391304347826\n",
      "\u001b[36m(ClientAppActor pid=46653)\u001b[0m Epoch 5: train loss 0.002505315002053976, accuracy 0.9751507840772015\n",
      "\u001b[36m(ClientAppActor pid=46655)\u001b[0m Epoch 5: train loss 0.0012982013868167996, accuracy 0.9885288552507095\n",
      "\u001b[36m(ClientAppActor pid=46651)\u001b[0m Epoch 6: train loss 0.0007998932269401848, accuracy 0.9940518340178445\n",
      "\u001b[36m(ClientAppActor pid=46652)\u001b[0m Epoch 7: train loss 0.001702015521004796, accuracy 0.9822267920094007\n",
      "\u001b[36m(ClientAppActor pid=46651)\u001b[0m Epoch 7: train loss 0.021196942776441574, accuracy 0.9694094320917717\n",
      "\u001b[36m(ClientAppActor pid=46655)\u001b[0m Epoch 6: train loss 0.0011407051933929324, accuracy 0.9884105960264901\u001b[32m [repeated 2x across cluster]\u001b[0m\n",
      "\u001b[36m(ClientAppActor pid=46652)\u001b[0m Epoch 8: train loss 0.0006256698979996145, accuracy 0.9923619271445359\n",
      "\u001b[36m(ClientAppActor pid=46651)\u001b[0m Epoch 8: train loss 0.001338524161837995, accuracy 0.9855544540433366\n",
      "\u001b[36m(ClientAppActor pid=46653)\u001b[0m Epoch 7: train loss 0.0012201840290799737, accuracy 0.98854041013269\n",
      "\u001b[36m(ClientAppActor pid=46655)\u001b[0m Epoch 7: train loss 0.0004278241831343621, accuracy 0.9950331125827815\n",
      "\u001b[36m(ClientAppActor pid=46653)\u001b[0m Epoch 8: train loss 0.0018476799596101046, accuracy 0.9811821471652593\n"
     ]
    },
    {
     "name": "stderr",
     "output_type": "stream",
     "text": [
      "\u001b[92mINFO \u001b[0m:      aggregate_fit: received 6 results and 0 failures\n"
     ]
    },
    {
     "name": "stdout",
     "output_type": "stream",
     "text": [
      "\u001b[36m(ClientAppActor pid=46655)\u001b[0m Epoch 8: train loss 0.0006994650466367602, accuracy 0.9930227057710501\n",
      "total size: 280903200\n"
     ]
    },
    {
     "name": "stderr",
     "output_type": "stream",
     "text": [
      "\u001b[92mINFO \u001b[0m:      fit progress: (12, 0.040738390988111495, {'accuracy': 0.5872}, 9643.76871183305)\n",
      "\u001b[92mINFO \u001b[0m:      configure_evaluate: strategy sampled 6 clients (out of 6)\n",
      "\u001b[36m(ClientAppActor pid=46652)\u001b[0m /Users/macbook/Desktop/L361/L361_Project/.conda/lib/python3.12/site-packages/datasets/utils/_dill.py:385: DeprecationWarning: co_lnotab is deprecated, use co_lines instead.\u001b[32m [repeated 6x across cluster]\u001b[0m\n",
      "\u001b[36m(ClientAppActor pid=46652)\u001b[0m   obj.co_lnotab,  # for < python 3.10 [not counted in args]\u001b[32m [repeated 6x across cluster]\u001b[0m\n"
     ]
    },
    {
     "name": "stdout",
     "output_type": "stream",
     "text": [
      "\u001b[36m(ClientAppActor pid=46652)\u001b[0m [Client 3] evaluate, config: {}\n"
     ]
    },
    {
     "name": "stderr",
     "output_type": "stream",
     "text": [
      "\u001b[92mINFO \u001b[0m:      aggregate_evaluate: received 6 results and 0 failures\n",
      "\u001b[92mINFO \u001b[0m:      \n",
      "\u001b[92mINFO \u001b[0m:      [ROUND 13]\n",
      "\u001b[92mINFO \u001b[0m:      configure_fit: strategy sampled 6 clients (out of 6)\n"
     ]
    },
    {
     "name": "stdout",
     "output_type": "stream",
     "text": [
      "\u001b[36m(ClientAppActor pid=46650)\u001b[0m [Client 3] fit, config: {'proximal_mu': 0.1}\n",
      "\u001b[36m(ClientAppActor pid=46650)\u001b[0m [Client 5] evaluate, config: {}\u001b[32m [repeated 5x across cluster]\u001b[0m\n"
     ]
    },
    {
     "name": "stderr",
     "output_type": "stream",
     "text": [
      "\u001b[36m(ClientAppActor pid=46650)\u001b[0m /Users/macbook/Desktop/L361/L361_Project/.conda/lib/python3.12/site-packages/datasets/utils/_dill.py:385: DeprecationWarning: co_lnotab is deprecated, use co_lines instead.\u001b[32m [repeated 6x across cluster]\u001b[0m\n",
      "\u001b[36m(ClientAppActor pid=46650)\u001b[0m   obj.co_lnotab,  # for < python 3.10 [not counted in args]\u001b[32m [repeated 6x across cluster]\u001b[0m\n",
      "\u001b[36m(ClientAppActor pid=46652)\u001b[0m /Users/macbook/Desktop/L361/L361_Project/.conda/lib/python3.12/site-packages/datasets/utils/_dill.py:385: DeprecationWarning: co_lnotab is deprecated, use co_lines instead.\u001b[32m [repeated 5x across cluster]\u001b[0m\n",
      "\u001b[36m(ClientAppActor pid=46652)\u001b[0m   obj.co_lnotab,  # for < python 3.10 [not counted in args]\u001b[32m [repeated 5x across cluster]\u001b[0m\n"
     ]
    },
    {
     "name": "stdout",
     "output_type": "stream",
     "text": [
      "\u001b[36m(ClientAppActor pid=46652)\u001b[0m [Client 5] fit, config: {'proximal_mu': 0.1}\u001b[32m [repeated 5x across cluster]\u001b[0m\n",
      "\u001b[36m(ClientAppActor pid=46650)\u001b[0m Epoch 1: train loss 0.010053564794361591, accuracy 0.8969186433163379\n",
      "\u001b[36m(ClientAppActor pid=46652)\u001b[0m Epoch 1: train loss 0.0041213021613657475, accuracy 0.9571018062397373\n",
      "\u001b[36m(ClientAppActor pid=46655)\u001b[0m Epoch 1: train loss 0.003080390626564622, accuracy 0.9678319623971798\n",
      "\u001b[36m(ClientAppActor pid=46654)\u001b[0m Epoch 1: train loss 0.004539677407592535, accuracy 0.9566948130277443\u001b[32m [repeated 2x across cluster]\u001b[0m\n",
      "\u001b[36m(ClientAppActor pid=46650)\u001b[0m Epoch 2: train loss 0.002694751601666212, accuracy 0.9747284415872313\u001b[32m [repeated 2x across cluster]\u001b[0m\n",
      "\u001b[36m(ClientAppActor pid=46652)\u001b[0m Epoch 2: train loss 0.0009322983678430319, accuracy 0.9899425287356322\n",
      "\u001b[36m(ClientAppActor pid=46650)\u001b[0m Epoch 3: train loss 0.00316608720459044, accuracy 0.9691864331633784\n",
      "\u001b[36m(ClientAppActor pid=46651)\u001b[0m Epoch 2: train loss 0.0013674693182110786, accuracy 0.9875371760373884\u001b[32m [repeated 2x across cluster]\u001b[0m\n",
      "\u001b[36m(ClientAppActor pid=46652)\u001b[0m Epoch 3: train loss 0.0015012648655101657, accuracy 0.9831691297208539\n",
      "\u001b[36m(ClientAppActor pid=46654)\u001b[0m Epoch 2: train loss 0.00253165140748024, accuracy 0.974065138721351\n",
      "\u001b[36m(ClientAppActor pid=46650)\u001b[0m Epoch 4: train loss 0.0022310276981443167, accuracy 0.9791620483263135\u001b[32m [repeated 2x across cluster]\u001b[0m\n",
      "\u001b[36m(ClientAppActor pid=46652)\u001b[0m Epoch 4: train loss 0.001738326740451157, accuracy 0.9835796387520526\n",
      "\u001b[36m(ClientAppActor pid=46655)\u001b[0m Epoch 3: train loss 0.0014287171652540565, accuracy 0.986780258519389\n",
      "\u001b[36m(ClientAppActor pid=46651)\u001b[0m Epoch 3: train loss 0.0011011544847860932, accuracy 0.9886701600339896\n",
      "\u001b[36m(ClientAppActor pid=46650)\u001b[0m Epoch 5: train loss 0.002573152305558324, accuracy 0.9760585236089558\n",
      "\u001b[36m(ClientAppActor pid=46652)\u001b[0m Epoch 5: train loss 0.0013379482552409172, accuracy 0.9852216748768473\n",
      "\u001b[36m(ClientAppActor pid=46654)\u001b[0m Epoch 3: train loss 0.0015532171819359064, accuracy 0.9856453558504222\n",
      "\u001b[36m(ClientAppActor pid=46650)\u001b[0m Epoch 6: train loss 0.0015290140872821212, accuracy 0.9813788516958546\u001b[32m [repeated 2x across cluster]\u001b[0m\n",
      "\u001b[36m(ClientAppActor pid=46651)\u001b[0m Epoch 4: train loss 0.0009975030552595854, accuracy 0.990369636028891\u001b[32m [repeated 2x across cluster]\u001b[0m\n",
      "\u001b[36m(ClientAppActor pid=46652)\u001b[0m Epoch 6: train loss 0.0007671811035834253, accuracy 0.992816091954023\n",
      "\u001b[36m(ClientAppActor pid=46650)\u001b[0m Epoch 7: train loss 0.0015979449963197112, accuracy 0.9864774994457992\n",
      "\u001b[36m(ClientAppActor pid=46654)\u001b[0m Epoch 4: train loss 0.001262873294763267, accuracy 0.9860072376357056\n",
      "\u001b[36m(ClientAppActor pid=46653)\u001b[0m Epoch 4: train loss 0.003338090842589736, accuracy 0.9748107852412489\n",
      "\u001b[36m(ClientAppActor pid=46655)\u001b[0m Epoch 5: train loss 0.0008736620657145977, accuracy 0.9920681551116334\n",
      "\u001b[36m(ClientAppActor pid=46652)\u001b[0m Epoch 7: train loss 0.001175242941826582, accuracy 0.9907635467980296\n",
      "\u001b[36m(ClientAppActor pid=46651)\u001b[0m Epoch 5: train loss 0.0005981826107017696, accuracy 0.9939102110182694\n",
      "\u001b[36m(ClientAppActor pid=46650)\u001b[0m Epoch 8: train loss 0.0016064931405708194, accuracy 0.9835956550653957\n",
      "\u001b[36m(ClientAppActor pid=46652)\u001b[0m Epoch 8: train loss 0.0006363040884025395, accuracy 0.9942528735632183\n",
      "\u001b[36m(ClientAppActor pid=46655)\u001b[0m Epoch 6: train loss 0.0005078318063169718, accuracy 0.9954465334900118\n",
      "\u001b[36m(ClientAppActor pid=46653)\u001b[0m Epoch 5: train loss 0.0009459721622988582, accuracy 0.9907757805108799\u001b[32m [repeated 2x across cluster]\u001b[0m\n",
      "\u001b[36m(ClientAppActor pid=46651)\u001b[0m Epoch 6: train loss 0.0008306520758196712, accuracy 0.9926356040220932\n",
      "\u001b[36m(ClientAppActor pid=46655)\u001b[0m Epoch 7: train loss 0.0010337227722629905, accuracy 0.9888366627497063\n",
      "\u001b[36m(ClientAppActor pid=46651)\u001b[0m Epoch 7: train loss 0.0003569678810890764, accuracy 0.9968842940093471\n",
      "\u001b[36m(ClientAppActor pid=46654)\u001b[0m Epoch 6: train loss 0.0026449644938111305, accuracy 0.9751507840772015\n",
      "\u001b[36m(ClientAppActor pid=46653)\u001b[0m Epoch 6: train loss 0.00030911064823158085, accuracy 0.9971617786187322\n",
      "\u001b[36m(ClientAppActor pid=46655)\u001b[0m Epoch 8: train loss 0.0006429912755265832, accuracy 0.993683901292597\n",
      "\u001b[36m(ClientAppActor pid=46651)\u001b[0m Epoch 8: train loss 0.0001620674884179607, accuracy 0.9985837700042487\n",
      "\u001b[36m(ClientAppActor pid=46654)\u001b[0m Epoch 7: train loss 0.0027822419069707394, accuracy 0.9703256936067551\n",
      "\u001b[36m(ClientAppActor pid=46653)\u001b[0m Epoch 7: train loss 0.0007188995950855315, accuracy 0.9938505203405865\n",
      "\u001b[36m(ClientAppActor pid=46654)\u001b[0m Epoch 8: train loss 0.002740000607445836, accuracy 0.9744270205066345\n"
     ]
    },
    {
     "name": "stderr",
     "output_type": "stream",
     "text": [
      "\u001b[92mINFO \u001b[0m:      aggregate_fit: received 6 results and 0 failures\n"
     ]
    },
    {
     "name": "stdout",
     "output_type": "stream",
     "text": [
      "\u001b[36m(ClientAppActor pid=46653)\u001b[0m Epoch 8: train loss 0.0007595904753543437, accuracy 0.993732261116367\n",
      "total size: 280903200\n"
     ]
    },
    {
     "name": "stderr",
     "output_type": "stream",
     "text": [
      "\u001b[92mINFO \u001b[0m:      fit progress: (13, 0.038873163580894474, {'accuracy': 0.5913}, 10406.024099707953)\n",
      "\u001b[92mINFO \u001b[0m:      configure_evaluate: strategy sampled 6 clients (out of 6)\n",
      "\u001b[36m(ClientAppActor pid=46652)\u001b[0m /Users/macbook/Desktop/L361/L361_Project/.conda/lib/python3.12/site-packages/datasets/utils/_dill.py:385: DeprecationWarning: co_lnotab is deprecated, use co_lines instead.\n",
      "\u001b[36m(ClientAppActor pid=46652)\u001b[0m   obj.co_lnotab,  # for < python 3.10 [not counted in args]\n",
      "\u001b[36m(ClientAppActor pid=46651)\u001b[0m /Users/macbook/Desktop/L361/L361_Project/.conda/lib/python3.12/site-packages/datasets/utils/_dill.py:385: DeprecationWarning: co_lnotab is deprecated, use co_lines instead.\n",
      "\u001b[36m(ClientAppActor pid=46651)\u001b[0m   obj.co_lnotab,  # for < python 3.10 [not counted in args]\n"
     ]
    },
    {
     "name": "stdout",
     "output_type": "stream",
     "text": [
      "\u001b[36m(ClientAppActor pid=46652)\u001b[0m [Client 4] evaluate, config: {}\n"
     ]
    },
    {
     "name": "stderr",
     "output_type": "stream",
     "text": [
      "\u001b[92mINFO \u001b[0m:      aggregate_evaluate: received 6 results and 0 failures\n",
      "\u001b[92mINFO \u001b[0m:      \n",
      "\u001b[92mINFO \u001b[0m:      [ROUND 14]\n",
      "\u001b[92mINFO \u001b[0m:      configure_fit: strategy sampled 6 clients (out of 6)\n"
     ]
    },
    {
     "name": "stdout",
     "output_type": "stream",
     "text": [
      "\u001b[36m(ClientAppActor pid=46651)\u001b[0m [Client 2] fit, config: {'proximal_mu': 0.1}\n",
      "\u001b[36m(ClientAppActor pid=46650)\u001b[0m [Client 5] evaluate, config: {}\u001b[32m [repeated 5x across cluster]\u001b[0m\n"
     ]
    },
    {
     "name": "stderr",
     "output_type": "stream",
     "text": [
      "\u001b[36m(ClientAppActor pid=46651)\u001b[0m /Users/macbook/Desktop/L361/L361_Project/.conda/lib/python3.12/site-packages/datasets/utils/_dill.py:385: DeprecationWarning: co_lnotab is deprecated, use co_lines instead.\u001b[32m [repeated 5x across cluster]\u001b[0m\n",
      "\u001b[36m(ClientAppActor pid=46651)\u001b[0m   obj.co_lnotab,  # for < python 3.10 [not counted in args]\u001b[32m [repeated 5x across cluster]\u001b[0m\n"
     ]
    },
    {
     "name": "stdout",
     "output_type": "stream",
     "text": [
      "\u001b[36m(ClientAppActor pid=46654)\u001b[0m Epoch 1: train loss 0.008967235684394836, accuracy 0.9062292174684106\n",
      "\u001b[36m(ClientAppActor pid=46655)\u001b[0m [Client 5] fit, config: {'proximal_mu': 0.1}\u001b[32m [repeated 5x across cluster]\u001b[0m\n",
      "\u001b[36m(ClientAppActor pid=46655)\u001b[0m Epoch 1: train loss 0.0036385569255799055, accuracy 0.9620279146141215\n",
      "\u001b[36m(ClientAppActor pid=46653)\u001b[0m Epoch 1: train loss 0.0030805773567408323, accuracy 0.9682726204465335\n",
      "\u001b[36m(ClientAppActor pid=46652)\u001b[0m Epoch 1: train loss 0.0033388149458914995, accuracy 0.9663449939686369\u001b[32m [repeated 2x across cluster]\u001b[0m\n",
      "\u001b[36m(ClientAppActor pid=46654)\u001b[0m Epoch 2: train loss 0.0027734616305679083, accuracy 0.974285080913323\u001b[32m [repeated 2x across cluster]\u001b[0m\n",
      "\u001b[36m(ClientAppActor pid=46655)\u001b[0m Epoch 2: train loss 0.0014975074445828795, accuracy 0.9852216748768473\n",
      "\u001b[36m(ClientAppActor pid=46654)\u001b[0m Epoch 3: train loss 0.002407197840511799, accuracy 0.97628020394591\n",
      "\u001b[36m(ClientAppActor pid=46651)\u001b[0m Epoch 2: train loss 0.0009931019740179181, accuracy 0.9906528820280414\u001b[32m [repeated 2x across cluster]\u001b[0m\n",
      "\u001b[36m(ClientAppActor pid=46655)\u001b[0m Epoch 3: train loss 0.00140524806920439, accuracy 0.9883004926108374\n",
      "\u001b[36m(ClientAppActor pid=46652)\u001b[0m Epoch 2: train loss 0.00272125331684947, accuracy 0.9714113389626056\n",
      "\u001b[36m(ClientAppActor pid=46654)\u001b[0m Epoch 4: train loss 0.002238538349047303, accuracy 0.9796054090002216\u001b[32m [repeated 2x across cluster]\u001b[0m\n",
      "\u001b[36m(ClientAppActor pid=46655)\u001b[0m Epoch 4: train loss 0.0011144119780510664, accuracy 0.9891215106732348\n",
      "\u001b[36m(ClientAppActor pid=46653)\u001b[0m Epoch 3: train loss 0.001169430324807763, accuracy 0.9882491186839013\n",
      "\u001b[36m(ClientAppActor pid=46651)\u001b[0m Epoch 3: train loss 0.0012863691663369536, accuracy 0.9893782750318652\n",
      "\u001b[36m(ClientAppActor pid=46654)\u001b[0m Epoch 5: train loss 0.002955686766654253, accuracy 0.9716249168698736\n",
      "\u001b[36m(ClientAppActor pid=46655)\u001b[0m Epoch 5: train loss 0.002173013286665082, accuracy 0.9792692939244664\n",
      "\u001b[36m(ClientAppActor pid=46652)\u001b[0m Epoch 3: train loss 0.0020814009476453066, accuracy 0.9808202653799759\n",
      "\u001b[36m(ClientAppActor pid=46654)\u001b[0m Epoch 6: train loss 0.0018382595153525472, accuracy 0.9833739747284416\u001b[32m [repeated 2x across cluster]\u001b[0m\n",
      "\u001b[36m(ClientAppActor pid=46651)\u001b[0m Epoch 4: train loss 0.0010109429713338614, accuracy 0.9909361280271917\u001b[32m [repeated 2x across cluster]\u001b[0m\n",
      "\u001b[36m(ClientAppActor pid=46655)\u001b[0m Epoch 6: train loss 0.00040515567525289953, accuracy 0.9958949096880131\n",
      "\u001b[36m(ClientAppActor pid=46654)\u001b[0m Epoch 7: train loss 0.0017223716713488102, accuracy 0.986034138771891\n",
      "\u001b[36m(ClientAppActor pid=46652)\u001b[0m Epoch 4: train loss 0.0022352254018187523, accuracy 0.976357056694813\n",
      "\u001b[36m(ClientAppActor pid=46650)\u001b[0m Epoch 4: train loss 0.0013532781740650535, accuracy 0.9881740775780511\n",
      "\u001b[36m(ClientAppActor pid=46651)\u001b[0m Epoch 5: train loss 0.0013762176968157291, accuracy 0.9905112590284663\u001b[32m [repeated 3x across cluster]\u001b[0m\n",
      "\u001b[36m(ClientAppActor pid=46654)\u001b[0m Epoch 8: train loss 0.001521765487268567, accuracy 0.9855907780979827\n",
      "\u001b[36m(ClientAppActor pid=46655)\u001b[0m Epoch 8: train loss 0.0006029906217008829, accuracy 0.993431855500821\n",
      "\u001b[36m(ClientAppActor pid=46653)\u001b[0m Epoch 6: train loss 0.0006932305404916406, accuracy 0.9939776733254995\n",
      "\u001b[36m(ClientAppActor pid=46652)\u001b[0m Epoch 5: train loss 0.002856676233932376, accuracy 0.9729794933655006\n",
      "\u001b[36m(ClientAppActor pid=46650)\u001b[0m Epoch 5: train loss 0.0010505332611501217, accuracy 0.9910122989593189\n",
      "\u001b[36m(ClientAppActor pid=46651)\u001b[0m Epoch 6: train loss 0.0014190691290423274, accuracy 0.985979323042062\n",
      "\u001b[36m(ClientAppActor pid=46653)\u001b[0m Epoch 7: train loss 0.00063325121300295, accuracy 0.993096357226792\n",
      "\u001b[36m(ClientAppActor pid=46651)\u001b[0m Epoch 7: train loss 0.0006624211091548204, accuracy 0.9943350800169948\n",
      "\u001b[36m(ClientAppActor pid=46650)\u001b[0m Epoch 6: train loss 0.0018397445091977715, accuracy 0.9868732261116367\u001b[32m [repeated 2x across cluster]\u001b[0m\n",
      "\u001b[36m(ClientAppActor pid=46653)\u001b[0m Epoch 8: train loss 0.001249271328561008, accuracy 0.9872209165687427\n",
      "\u001b[36m(ClientAppActor pid=46651)\u001b[0m Epoch 8: train loss 0.0003290403401479125, accuracy 0.9968842940093471\n",
      "\u001b[36m(ClientAppActor pid=46652)\u001b[0m Epoch 7: train loss 0.0015743722906336188, accuracy 0.9846803377563329\n",
      "\u001b[36m(ClientAppActor pid=46650)\u001b[0m Epoch 7: train loss 0.00031825972837395966, accuracy 0.9975165562913907\n",
      "\u001b[36m(ClientAppActor pid=46652)\u001b[0m Epoch 8: train loss 0.0008052164339460433, accuracy 0.9920386007237636\n"
     ]
    },
    {
     "name": "stderr",
     "output_type": "stream",
     "text": [
      "\u001b[92mINFO \u001b[0m:      aggregate_fit: received 6 results and 0 failures\n"
     ]
    },
    {
     "name": "stdout",
     "output_type": "stream",
     "text": [
      "\u001b[36m(ClientAppActor pid=46650)\u001b[0m Epoch 8: train loss 0.0010269084013998508, accuracy 0.9912488174077578\n",
      "total size: 280903200\n"
     ]
    },
    {
     "name": "stderr",
     "output_type": "stream",
     "text": [
      "\u001b[92mINFO \u001b[0m:      fit progress: (14, 0.038584783828258515, {'accuracy': 0.581}, 11168.41558787506)\n",
      "\u001b[92mINFO \u001b[0m:      configure_evaluate: strategy sampled 6 clients (out of 6)\n",
      "\u001b[36m(ClientAppActor pid=46652)\u001b[0m /Users/macbook/Desktop/L361/L361_Project/.conda/lib/python3.12/site-packages/datasets/utils/_dill.py:385: DeprecationWarning: co_lnotab is deprecated, use co_lines instead.\u001b[32m [repeated 6x across cluster]\u001b[0m\n",
      "\u001b[36m(ClientAppActor pid=46652)\u001b[0m   obj.co_lnotab,  # for < python 3.10 [not counted in args]\u001b[32m [repeated 6x across cluster]\u001b[0m\n"
     ]
    },
    {
     "name": "stdout",
     "output_type": "stream",
     "text": [
      "\u001b[36m(ClientAppActor pid=46655)\u001b[0m [Client 2] evaluate, config: {}\n"
     ]
    },
    {
     "name": "stderr",
     "output_type": "stream",
     "text": [
      "\u001b[92mINFO \u001b[0m:      aggregate_evaluate: received 6 results and 0 failures\n",
      "\u001b[92mINFO \u001b[0m:      \n",
      "\u001b[92mINFO \u001b[0m:      [ROUND 15]\n",
      "\u001b[92mINFO \u001b[0m:      configure_fit: strategy sampled 6 clients (out of 6)\n"
     ]
    },
    {
     "name": "stdout",
     "output_type": "stream",
     "text": [
      "\u001b[36m(ClientAppActor pid=46651)\u001b[0m [Client 1] fit, config: {'proximal_mu': 0.1}\n",
      "\u001b[36m(ClientAppActor pid=46653)\u001b[0m [Client 5] evaluate, config: {}\u001b[32m [repeated 5x across cluster]\u001b[0m\n"
     ]
    },
    {
     "name": "stderr",
     "output_type": "stream",
     "text": [
      "\u001b[36m(ClientAppActor pid=46651)\u001b[0m /Users/macbook/Desktop/L361/L361_Project/.conda/lib/python3.12/site-packages/datasets/utils/_dill.py:385: DeprecationWarning: co_lnotab is deprecated, use co_lines instead.\u001b[32m [repeated 7x across cluster]\u001b[0m\n",
      "\u001b[36m(ClientAppActor pid=46651)\u001b[0m   obj.co_lnotab,  # for < python 3.10 [not counted in args]\u001b[32m [repeated 7x across cluster]\u001b[0m\n"
     ]
    },
    {
     "name": "stdout",
     "output_type": "stream",
     "text": [
      "\u001b[36m(ClientAppActor pid=46654)\u001b[0m Epoch 1: train loss 0.008395268581807613, accuracy 0.9188649966747949\n",
      "\u001b[36m(ClientAppActor pid=46655)\u001b[0m [Client 0] fit, config: {'proximal_mu': 0.1}\u001b[32m [repeated 5x across cluster]\u001b[0m\n",
      "\u001b[36m(ClientAppActor pid=46651)\u001b[0m Epoch 1: train loss 0.00335311028175056, accuracy 0.9701821386603995\u001b[32m [repeated 2x across cluster]\u001b[0m\n",
      "\u001b[36m(ClientAppActor pid=46655)\u001b[0m Epoch 1: train loss 0.0027232891879975796, accuracy 0.9723763570566948\u001b[32m [repeated 2x across cluster]\u001b[0m\n",
      "\u001b[36m(ClientAppActor pid=46654)\u001b[0m Epoch 2: train loss 0.005726446397602558, accuracy 0.950565284859233\u001b[32m [repeated 2x across cluster]\u001b[0m\n",
      "\u001b[36m(ClientAppActor pid=46652)\u001b[0m Epoch 2: train loss 0.0022887911181896925, accuracy 0.9794745484400657\n",
      "\u001b[36m(ClientAppActor pid=46654)\u001b[0m Epoch 3: train loss 0.0018176301382482052, accuracy 0.9811571713589005\n",
      "\u001b[36m(ClientAppActor pid=46653)\u001b[0m Epoch 2: train loss 0.0009317987132817507, accuracy 0.9927772270216684\u001b[32m [repeated 2x across cluster]\u001b[0m\n",
      "\u001b[36m(ClientAppActor pid=46652)\u001b[0m Epoch 3: train loss 0.0011887351283803582, accuracy 0.986863711001642\n",
      "\u001b[36m(ClientAppActor pid=46655)\u001b[0m Epoch 2: train loss 0.0030695758759975433, accuracy 0.9705669481302774\n",
      "\u001b[36m(ClientAppActor pid=46654)\u001b[0m Epoch 4: train loss 0.0011904743732884526, accuracy 0.9878075814675238\u001b[32m [repeated 2x across cluster]\u001b[0m\n",
      "\u001b[36m(ClientAppActor pid=46652)\u001b[0m Epoch 4: train loss 0.0017009410075843334, accuracy 0.986863711001642\n",
      "\u001b[36m(ClientAppActor pid=46651)\u001b[0m Epoch 3: train loss 0.0008222616743296385, accuracy 0.9905992949471211\n",
      "\u001b[36m(ClientAppActor pid=46653)\u001b[0m Epoch 3: train loss 0.0014140898128971457, accuracy 0.9862625690412123\n",
      "\u001b[36m(ClientAppActor pid=46654)\u001b[0m Epoch 5: train loss 0.001183988293632865, accuracy 0.9886943028153403\n",
      "\u001b[36m(ClientAppActor pid=46652)\u001b[0m Epoch 5: train loss 0.0009585909429006279, accuracy 0.9895320197044335\n",
      "\u001b[36m(ClientAppActor pid=46655)\u001b[0m Epoch 3: train loss 0.0033288258127868176, accuracy 0.9697225572979493\n",
      "\u001b[36m(ClientAppActor pid=46654)\u001b[0m Epoch 6: train loss 0.001861576340161264, accuracy 0.9831522943914874\u001b[32m [repeated 2x across cluster]\u001b[0m\n",
      "\u001b[36m(ClientAppActor pid=46653)\u001b[0m Epoch 4: train loss 0.0004150759195908904, accuracy 0.9964594250106217\u001b[32m [repeated 2x across cluster]\u001b[0m\n",
      "\u001b[36m(ClientAppActor pid=46652)\u001b[0m Epoch 6: train loss 0.0007249813061207533, accuracy 0.9940476190476191\n",
      "\u001b[36m(ClientAppActor pid=46654)\u001b[0m Epoch 7: train loss 0.004549805540591478, accuracy 0.9620926623808468\n",
      "\u001b[36m(ClientAppActor pid=46655)\u001b[0m Epoch 4: train loss 0.001892094500362873, accuracy 0.9799758745476478\n",
      "\u001b[36m(ClientAppActor pid=46650)\u001b[0m Epoch 4: train loss 0.0010821751784533262, accuracy 0.9897114474929044\n",
      "\u001b[36m(ClientAppActor pid=46652)\u001b[0m Epoch 7: train loss 0.006834553088992834, accuracy 0.9355500821018062\u001b[32m [repeated 2x across cluster]\u001b[0m\n",
      "\u001b[36m(ClientAppActor pid=46653)\u001b[0m Epoch 5: train loss 0.00505416002124548, accuracy 0.9582212151253363\n",
      "\u001b[36m(ClientAppActor pid=46654)\u001b[0m Epoch 8: train loss 0.0027189082466065884, accuracy 0.974285080913323\n",
      "\u001b[36m(ClientAppActor pid=46652)\u001b[0m Epoch 8: train loss 0.0026454709004610777, accuracy 0.9712643678160919\n",
      "\u001b[36m(ClientAppActor pid=46651)\u001b[0m Epoch 6: train loss 0.0007530591101385653, accuracy 0.9920681551116334\n",
      "\u001b[36m(ClientAppActor pid=46655)\u001b[0m Epoch 5: train loss 0.0039369044825434685, accuracy 0.9733413751507841\n",
      "\u001b[36m(ClientAppActor pid=46650)\u001b[0m Epoch 5: train loss 0.0017649595392867923, accuracy 0.9855723746452223\n",
      "\u001b[36m(ClientAppActor pid=46651)\u001b[0m Epoch 7: train loss 0.00013253188808448613, accuracy 0.9985311398354877\u001b[32m [repeated 2x across cluster]\u001b[0m\n",
      "\u001b[36m(ClientAppActor pid=46653)\u001b[0m Epoch 7: train loss 0.00047204524162225425, accuracy 0.9943350800169948\n",
      "\u001b[36m(ClientAppActor pid=46655)\u001b[0m Epoch 6: train loss 0.0011373389279469848, accuracy 0.9886610373944511\n",
      "\u001b[36m(ClientAppActor pid=46650)\u001b[0m Epoch 6: train loss 0.0007962342351675034, accuracy 0.9923131504257332\n",
      "\u001b[36m(ClientAppActor pid=46651)\u001b[0m Epoch 8: train loss 0.003155031707137823, accuracy 0.9703290246768508\n",
      "\u001b[36m(ClientAppActor pid=46653)\u001b[0m Epoch 8: train loss 0.0003194305463694036, accuracy 0.9975924090072228\n",
      "\u001b[36m(ClientAppActor pid=46655)\u001b[0m Epoch 7: train loss 0.00241485727019608, accuracy 0.9756332931242461\n",
      "\u001b[36m(ClientAppActor pid=46650)\u001b[0m Epoch 7: train loss 0.0023151373025029898, accuracy 0.9810785241248817\n",
      "\u001b[36m(ClientAppActor pid=46655)\u001b[0m Epoch 8: train loss 0.0018697212217375636, accuracy 0.9799758745476478\n"
     ]
    },
    {
     "name": "stderr",
     "output_type": "stream",
     "text": [
      "\u001b[92mINFO \u001b[0m:      aggregate_fit: received 6 results and 0 failures\n"
     ]
    },
    {
     "name": "stdout",
     "output_type": "stream",
     "text": [
      "\u001b[36m(ClientAppActor pid=46650)\u001b[0m Epoch 8: train loss 0.0010881471680477262, accuracy 0.9913670766319773\n",
      "total size: 280903200\n"
     ]
    },
    {
     "name": "stderr",
     "output_type": "stream",
     "text": [
      "\u001b[92mINFO \u001b[0m:      fit progress: (15, 0.039913357216119764, {'accuracy': 0.5705}, 11930.65537445806)\n",
      "\u001b[92mINFO \u001b[0m:      configure_evaluate: strategy sampled 6 clients (out of 6)\n",
      "\u001b[36m(ClientAppActor pid=46655)\u001b[0m /Users/macbook/Desktop/L361/L361_Project/.conda/lib/python3.12/site-packages/datasets/utils/_dill.py:385: DeprecationWarning: co_lnotab is deprecated, use co_lines instead.\u001b[32m [repeated 6x across cluster]\u001b[0m\n",
      "\u001b[36m(ClientAppActor pid=46655)\u001b[0m   obj.co_lnotab,  # for < python 3.10 [not counted in args]\u001b[32m [repeated 6x across cluster]\u001b[0m\n"
     ]
    },
    {
     "name": "stdout",
     "output_type": "stream",
     "text": [
      "\u001b[36m(ClientAppActor pid=46655)\u001b[0m [Client 0] evaluate, config: {}\n"
     ]
    },
    {
     "name": "stderr",
     "output_type": "stream",
     "text": [
      "\u001b[92mINFO \u001b[0m:      aggregate_evaluate: received 6 results and 0 failures\n",
      "\u001b[92mINFO \u001b[0m:      \n",
      "\u001b[92mINFO \u001b[0m:      [ROUND 16]\n",
      "\u001b[92mINFO \u001b[0m:      configure_fit: strategy sampled 6 clients (out of 6)\n",
      "\u001b[36m(ClientAppActor pid=46653)\u001b[0m /Users/macbook/Desktop/L361/L361_Project/.conda/lib/python3.12/site-packages/datasets/utils/_dill.py:385: DeprecationWarning: co_lnotab is deprecated, use co_lines instead.\u001b[32m [repeated 6x across cluster]\u001b[0m\n",
      "\u001b[36m(ClientAppActor pid=46653)\u001b[0m   obj.co_lnotab,  # for < python 3.10 [not counted in args]\u001b[32m [repeated 6x across cluster]\u001b[0m\n"
     ]
    },
    {
     "name": "stdout",
     "output_type": "stream",
     "text": [
      "\u001b[36m(ClientAppActor pid=46653)\u001b[0m [Client 4] fit, config: {'proximal_mu': 0.1}\n",
      "\u001b[36m(ClientAppActor pid=46654)\u001b[0m [Client 1] evaluate, config: {}\u001b[32m [repeated 5x across cluster]\u001b[0m\n",
      "\u001b[36m(ClientAppActor pid=46654)\u001b[0m Epoch 1: train loss 0.009026589803397655, accuracy 0.9126579472400798\n",
      "\u001b[36m(ClientAppActor pid=46650)\u001b[0m [Client 0] fit, config: {'proximal_mu': 0.1}\u001b[32m [repeated 5x across cluster]\u001b[0m\n",
      "\u001b[36m(ClientAppActor pid=46651)\u001b[0m Epoch 1: train loss 0.002922066720202565, accuracy 0.9688601645123385\u001b[32m [repeated 2x across cluster]\u001b[0m\n",
      "\u001b[36m(ClientAppActor pid=46650)\u001b[0m Epoch 1: train loss 0.0034872640389949083, accuracy 0.9657418576598311\u001b[32m [repeated 2x across cluster]\u001b[0m\n",
      "\u001b[36m(ClientAppActor pid=46654)\u001b[0m Epoch 2: train loss 0.0031875879503786564, accuracy 0.9696297938372866\u001b[32m [repeated 2x across cluster]\u001b[0m\n",
      "\u001b[36m(ClientAppActor pid=46652)\u001b[0m Epoch 2: train loss 0.0012579280883073807, accuracy 0.9874794745484401\n",
      "\u001b[36m(ClientAppActor pid=46654)\u001b[0m Epoch 3: train loss 0.005315138027071953, accuracy 0.9443582354245178\n",
      "\u001b[36m(ClientAppActor pid=46655)\u001b[0m Epoch 2: train loss 0.0013090941356495023, accuracy 0.9881036680356889\u001b[32m [repeated 2x across cluster]\u001b[0m\n",
      "\u001b[36m(ClientAppActor pid=46652)\u001b[0m Epoch 3: train loss 0.001194456941448152, accuracy 0.9883004926108374\n",
      "\u001b[36m(ClientAppActor pid=46650)\u001b[0m Epoch 2: train loss 0.004437047988176346, accuracy 0.9628468033775633\n",
      "\u001b[36m(ClientAppActor pid=46654)\u001b[0m Epoch 4: train loss 0.002184569137170911, accuracy 0.9793837286632676\u001b[32m [repeated 2x across cluster]\u001b[0m\n",
      "\u001b[36m(ClientAppActor pid=46652)\u001b[0m Epoch 4: train loss 0.005417928099632263, accuracy 0.9630541871921182\n",
      "\u001b[36m(ClientAppActor pid=46651)\u001b[0m Epoch 3: train loss 0.0016638156957924366, accuracy 0.9831081081081081\n",
      "\u001b[36m(ClientAppActor pid=46655)\u001b[0m Epoch 3: train loss 0.0010304499883204699, accuracy 0.9917858660246424\n",
      "\u001b[36m(ClientAppActor pid=46654)\u001b[0m Epoch 5: train loss 0.0007618865929543972, accuracy 0.9911327865218356\n",
      "\u001b[36m(ClientAppActor pid=46652)\u001b[0m Epoch 5: train loss 0.0030957406852394342, accuracy 0.9677750410509032\n",
      "\u001b[36m(ClientAppActor pid=46650)\u001b[0m Epoch 3: train loss 0.005971900187432766, accuracy 0.9347406513872135\n",
      "\u001b[36m(ClientAppActor pid=46653)\u001b[0m Epoch 3: train loss 0.005473268683999777, accuracy 0.9581362346263008\n",
      "\u001b[36m(ClientAppActor pid=46654)\u001b[0m Epoch 6: train loss 0.0011367762926965952, accuracy 0.9886943028153403\n",
      "\u001b[36m(ClientAppActor pid=46655)\u001b[0m Epoch 4: train loss 0.007515281438827515, accuracy 0.967568333097295\u001b[32m [repeated 2x across cluster]\u001b[0m\n",
      "\u001b[36m(ClientAppActor pid=46652)\u001b[0m Epoch 6: train loss 0.0013426709920167923, accuracy 0.9893267651888341\n",
      "\u001b[36m(ClientAppActor pid=46654)\u001b[0m Epoch 7: train loss 0.0013038452016189694, accuracy 0.9869208601197074\n",
      "\u001b[36m(ClientAppActor pid=46650)\u001b[0m Epoch 4: train loss 0.001151518546976149, accuracy 0.9881785283474065\n",
      "\u001b[36m(ClientAppActor pid=46653)\u001b[0m Epoch 4: train loss 0.001817783573642373, accuracy 0.9811967833491012\n",
      "\u001b[36m(ClientAppActor pid=46655)\u001b[0m Epoch 5: train loss 0.001387111027725041, accuracy 0.9865458150403625\u001b[32m [repeated 3x across cluster]\u001b[0m\n",
      "\u001b[36m(ClientAppActor pid=46654)\u001b[0m Epoch 8: train loss 0.0028756989631801844, accuracy 0.9733983595655066\n",
      "\u001b[36m(ClientAppActor pid=46652)\u001b[0m Epoch 8: train loss 0.00044518127106130123, accuracy 0.9954844006568144\n",
      "\u001b[36m(ClientAppActor pid=46651)\u001b[0m Epoch 6: train loss 0.0008461229735985398, accuracy 0.9911868390129259\n",
      "\u001b[36m(ClientAppActor pid=46650)\u001b[0m Epoch 5: train loss 0.0035635170061141253, accuracy 0.9675512665862485\n",
      "\u001b[36m(ClientAppActor pid=46653)\u001b[0m Epoch 5: train loss 0.0005560519057326019, accuracy 0.994678334910123\n",
      "\u001b[36m(ClientAppActor pid=46655)\u001b[0m Epoch 6: train loss 0.00042529881466180086, accuracy 0.9957513100127461\n",
      "\u001b[36m(ClientAppActor pid=46651)\u001b[0m Epoch 7: train loss 0.006187646184116602, accuracy 0.9457990599294948\n",
      "\u001b[36m(ClientAppActor pid=46655)\u001b[0m Epoch 7: train loss 0.0007727916236035526, accuracy 0.9939102110182694\n",
      "\u001b[36m(ClientAppActor pid=46653)\u001b[0m Epoch 6: train loss 0.00042732851579785347, accuracy 0.9981078524124882\u001b[32m [repeated 2x across cluster]\u001b[0m\n",
      "\u001b[36m(ClientAppActor pid=46651)\u001b[0m Epoch 8: train loss 0.0020083088893443346, accuracy 0.9782608695652174\n",
      "\u001b[36m(ClientAppActor pid=46655)\u001b[0m Epoch 8: train loss 0.004785913974046707, accuracy 0.9745078600764764\n",
      "\u001b[36m(ClientAppActor pid=46650)\u001b[0m Epoch 7: train loss 0.0015002733562141657, accuracy 0.9866103739445115\n",
      "\u001b[36m(ClientAppActor pid=46653)\u001b[0m Epoch 7: train loss 0.0009237678605131805, accuracy 0.9907757805108799\n",
      "\u001b[36m(ClientAppActor pid=46650)\u001b[0m Epoch 8: train loss 0.0010765288025140762, accuracy 0.9893848009650181\n"
     ]
    },
    {
     "name": "stderr",
     "output_type": "stream",
     "text": [
      "\u001b[92mINFO \u001b[0m:      aggregate_fit: received 6 results and 0 failures\n"
     ]
    },
    {
     "name": "stdout",
     "output_type": "stream",
     "text": [
      "\u001b[36m(ClientAppActor pid=46653)\u001b[0m Epoch 8: train loss 0.0006351139163598418, accuracy 0.9952696310312205\n",
      "total size: 280903200\n"
     ]
    },
    {
     "name": "stderr",
     "output_type": "stream",
     "text": [
      "\u001b[92mINFO \u001b[0m:      fit progress: (16, 0.040430316668748856, {'accuracy': 0.5393}, 12698.758642792003)\n",
      "\u001b[92mINFO \u001b[0m:      configure_evaluate: strategy sampled 6 clients (out of 6)\n",
      "\u001b[36m(ClientAppActor pid=46652)\u001b[0m /Users/macbook/Desktop/L361/L361_Project/.conda/lib/python3.12/site-packages/datasets/utils/_dill.py:385: DeprecationWarning: co_lnotab is deprecated, use co_lines instead.\u001b[32m [repeated 7x across cluster]\u001b[0m\n",
      "\u001b[36m(ClientAppActor pid=46652)\u001b[0m   obj.co_lnotab,  # for < python 3.10 [not counted in args]\u001b[32m [repeated 7x across cluster]\u001b[0m\n"
     ]
    },
    {
     "name": "stdout",
     "output_type": "stream",
     "text": [
      "\u001b[36m(ClientAppActor pid=46652)\u001b[0m [Client 2] evaluate, config: {}\n"
     ]
    },
    {
     "name": "stderr",
     "output_type": "stream",
     "text": [
      "\u001b[92mINFO \u001b[0m:      aggregate_evaluate: received 6 results and 0 failures\n",
      "\u001b[92mINFO \u001b[0m:      \n",
      "\u001b[92mINFO \u001b[0m:      [ROUND 17]\n",
      "\u001b[92mINFO \u001b[0m:      configure_fit: strategy sampled 6 clients (out of 6)\n"
     ]
    },
    {
     "name": "stdout",
     "output_type": "stream",
     "text": [
      "\u001b[36m(ClientAppActor pid=46654)\u001b[0m [Client 2] fit, config: {'proximal_mu': 0.1}\n",
      "\u001b[36m(ClientAppActor pid=46651)\u001b[0m [Client 1] evaluate, config: {}\u001b[32m [repeated 5x across cluster]\u001b[0m\n"
     ]
    },
    {
     "name": "stderr",
     "output_type": "stream",
     "text": [
      "\u001b[36m(ClientAppActor pid=46654)\u001b[0m /Users/macbook/Desktop/L361/L361_Project/.conda/lib/python3.12/site-packages/datasets/utils/_dill.py:385: DeprecationWarning: co_lnotab is deprecated, use co_lines instead.\u001b[32m [repeated 6x across cluster]\u001b[0m\n",
      "\u001b[36m(ClientAppActor pid=46654)\u001b[0m   obj.co_lnotab,  # for < python 3.10 [not counted in args]\u001b[32m [repeated 6x across cluster]\u001b[0m\n"
     ]
    },
    {
     "name": "stdout",
     "output_type": "stream",
     "text": [
      "\u001b[36m(ClientAppActor pid=46655)\u001b[0m Epoch 1: train loss 0.009829284623265266, accuracy 0.9029040124140989\n",
      "\u001b[36m(ClientAppActor pid=46651)\u001b[0m [Client 0] fit, config: {'proximal_mu': 0.1}\u001b[32m [repeated 5x across cluster]\u001b[0m\n",
      "\u001b[36m(ClientAppActor pid=46652)\u001b[0m Epoch 1: train loss 0.0035739948507398367, accuracy 0.9643066980023501\u001b[32m [repeated 2x across cluster]\u001b[0m\n",
      "\u001b[36m(ClientAppActor pid=46651)\u001b[0m Epoch 1: train loss 0.0034004049375653267, accuracy 0.9653799758745476\u001b[32m [repeated 2x across cluster]\u001b[0m\n",
      "\u001b[36m(ClientAppActor pid=46655)\u001b[0m Epoch 2: train loss 0.00322953169234097, accuracy 0.9674129904677455\u001b[32m [repeated 2x across cluster]\u001b[0m\n",
      "\u001b[36m(ClientAppActor pid=46653)\u001b[0m Epoch 2: train loss 0.001766836503520608, accuracy 0.9800903119868637\n",
      "\u001b[36m(ClientAppActor pid=46655)\u001b[0m Epoch 3: train loss 0.00504137109965086, accuracy 0.9569940146309023\n",
      "\u001b[36m(ClientAppActor pid=46654)\u001b[0m Epoch 2: train loss 0.0009948157239705324, accuracy 0.9910777510267668\u001b[32m [repeated 2x across cluster]\u001b[0m\n",
      "\u001b[36m(ClientAppActor pid=46653)\u001b[0m Epoch 3: train loss 0.0013692999491468072, accuracy 0.9860426929392446\n",
      "\u001b[36m(ClientAppActor pid=46651)\u001b[0m Epoch 2: train loss 0.004092411603778601, accuracy 0.9579010856453558\n",
      "\u001b[36m(ClientAppActor pid=46655)\u001b[0m Epoch 4: train loss 0.0016576439375057817, accuracy 0.9862558191088451\u001b[32m [repeated 2x across cluster]\u001b[0m\n",
      "\u001b[36m(ClientAppActor pid=46653)\u001b[0m Epoch 4: train loss 0.004151877947151661, accuracy 0.9743431855500821\n",
      "\u001b[36m(ClientAppActor pid=46652)\u001b[0m Epoch 3: train loss 0.001738151884637773, accuracy 0.9844300822561692\n",
      "\u001b[36m(ClientAppActor pid=46654)\u001b[0m Epoch 3: train loss 0.0017896682256832719, accuracy 0.9845630930463107\n",
      "\u001b[36m(ClientAppActor pid=46655)\u001b[0m Epoch 5: train loss 0.0022316216491162777, accuracy 0.9818222123697627\n",
      "\u001b[36m(ClientAppActor pid=46653)\u001b[0m Epoch 5: train loss 0.0010587411234155297, accuracy 0.9901477832512315\n",
      "\u001b[36m(ClientAppActor pid=46651)\u001b[0m Epoch 3: train loss 0.002317288890480995, accuracy 0.9773220747889023\n",
      "\u001b[36m(ClientAppActor pid=46655)\u001b[0m Epoch 6: train loss 0.0026591161731630564, accuracy 0.9736200399024606\u001b[32m [repeated 2x across cluster]\u001b[0m\n",
      "\u001b[36m(ClientAppActor pid=46654)\u001b[0m Epoch 4: train loss 0.0015699006617069244, accuracy 0.983854978048435\u001b[32m [repeated 2x across cluster]\u001b[0m\n",
      "\u001b[36m(ClientAppActor pid=46653)\u001b[0m Epoch 6: train loss 0.00048752836300991476, accuracy 0.9958949096880131\n",
      "\u001b[36m(ClientAppActor pid=46655)\u001b[0m Epoch 7: train loss 0.0019035647856071591, accuracy 0.9858124584349368\n",
      "\u001b[36m(ClientAppActor pid=46651)\u001b[0m Epoch 4: train loss 0.002559065818786621, accuracy 0.9756332931242461\n",
      "\u001b[36m(ClientAppActor pid=46650)\u001b[0m Epoch 4: train loss 0.0015486677875742316, accuracy 0.9869914853358562\n",
      "\u001b[36m(ClientAppActor pid=46654)\u001b[0m Epoch 5: train loss 0.00034716405207291245, accuracy 0.996742671009772\u001b[32m [repeated 3x across cluster]\u001b[0m\n",
      "\u001b[36m(ClientAppActor pid=46655)\u001b[0m Epoch 8: train loss 0.015199451707303524, accuracy 0.8763023719796054\n",
      "\u001b[36m(ClientAppActor pid=46653)\u001b[0m Epoch 8: train loss 0.0005576462717726827, accuracy 0.9952791461412152\n",
      "\u001b[36m(ClientAppActor pid=46652)\u001b[0m Epoch 6: train loss 0.012614207342267036, accuracy 0.9904524089306698\n",
      "\u001b[36m(ClientAppActor pid=46651)\u001b[0m Epoch 5: train loss 0.0012824754230678082, accuracy 0.9872135102533173\n",
      "\u001b[36m(ClientAppActor pid=46654)\u001b[0m Epoch 6: train loss 0.0016863810596987605, accuracy 0.9851295850446112\n",
      "\u001b[36m(ClientAppActor pid=46650)\u001b[0m Epoch 5: train loss 0.0007550536538474262, accuracy 0.9926679280983917\n",
      "\u001b[36m(ClientAppActor pid=46652)\u001b[0m Epoch 7: train loss 0.007738725747913122, accuracy 0.9237661574618097\n",
      "\u001b[36m(ClientAppActor pid=46654)\u001b[0m Epoch 7: train loss 0.0006865014438517392, accuracy 0.9930604730208186\n",
      "\u001b[36m(ClientAppActor pid=46651)\u001b[0m Epoch 6: train loss 0.0034964620135724545, accuracy 0.9668275030156815\n",
      "\u001b[36m(ClientAppActor pid=46650)\u001b[0m Epoch 6: train loss 0.002421685727313161, accuracy 0.9865184484389783\n",
      "\u001b[36m(ClientAppActor pid=46652)\u001b[0m Epoch 8: train loss 0.0022542488295584917, accuracy 0.9775264394829613\n",
      "\u001b[36m(ClientAppActor pid=46654)\u001b[0m Epoch 8: train loss 0.0002539850538596511, accuracy 0.9968842940093471\n",
      "\u001b[36m(ClientAppActor pid=46651)\u001b[0m Epoch 7: train loss 0.001198869082145393, accuracy 0.9879372738238842\n",
      "\u001b[36m(ClientAppActor pid=46650)\u001b[0m Epoch 7: train loss 0.008689366281032562, accuracy 0.9320009460737938\n",
      "\u001b[36m(ClientAppActor pid=46651)\u001b[0m Epoch 8: train loss 0.001718851737678051, accuracy 0.9866103739445115\n"
     ]
    },
    {
     "name": "stderr",
     "output_type": "stream",
     "text": [
      "\u001b[92mINFO \u001b[0m:      aggregate_fit: received 6 results and 0 failures\n"
     ]
    },
    {
     "name": "stdout",
     "output_type": "stream",
     "text": [
      "total size: 280903200\n",
      "\u001b[36m(ClientAppActor pid=46650)\u001b[0m Epoch 8: train loss 0.002100541954860091, accuracy 0.977530747398297\n"
     ]
    },
    {
     "name": "stderr",
     "output_type": "stream",
     "text": [
      "\u001b[92mINFO \u001b[0m:      fit progress: (17, 0.04202049185037613, {'accuracy': 0.5065}, 13479.260234707966)\n",
      "\u001b[92mINFO \u001b[0m:      configure_evaluate: strategy sampled 6 clients (out of 6)\n"
     ]
    },
    {
     "name": "stdout",
     "output_type": "stream",
     "text": [
      "\u001b[36m(ClientAppActor pid=46651)\u001b[0m [Client 1] evaluate, config: {}\n"
     ]
    },
    {
     "name": "stderr",
     "output_type": "stream",
     "text": [
      "\u001b[36m(ClientAppActor pid=46651)\u001b[0m /Users/macbook/Desktop/L361/L361_Project/.conda/lib/python3.12/site-packages/datasets/utils/_dill.py:385: DeprecationWarning: co_lnotab is deprecated, use co_lines instead.\u001b[32m [repeated 6x across cluster]\u001b[0m\n",
      "\u001b[36m(ClientAppActor pid=46651)\u001b[0m   obj.co_lnotab,  # for < python 3.10 [not counted in args]\u001b[32m [repeated 6x across cluster]\u001b[0m\n",
      "\u001b[92mINFO \u001b[0m:      aggregate_evaluate: received 6 results and 0 failures\n",
      "\u001b[92mINFO \u001b[0m:      \n",
      "\u001b[92mINFO \u001b[0m:      [ROUND 18]\n",
      "\u001b[92mINFO \u001b[0m:      configure_fit: strategy sampled 6 clients (out of 6)\n",
      "\u001b[36m(ClientAppActor pid=46655)\u001b[0m /Users/macbook/Desktop/L361/L361_Project/.conda/lib/python3.12/site-packages/datasets/utils/_dill.py:385: DeprecationWarning: co_lnotab is deprecated, use co_lines instead.\u001b[32m [repeated 6x across cluster]\u001b[0m\n",
      "\u001b[36m(ClientAppActor pid=46655)\u001b[0m   obj.co_lnotab,  # for < python 3.10 [not counted in args]\u001b[32m [repeated 6x across cluster]\u001b[0m\n"
     ]
    },
    {
     "name": "stdout",
     "output_type": "stream",
     "text": [
      "\u001b[36m(ClientAppActor pid=46655)\u001b[0m [Client 0] fit, config: {'proximal_mu': 0.1}\n",
      "\u001b[36m(ClientAppActor pid=46655)\u001b[0m [Client 5] evaluate, config: {}\u001b[32m [repeated 5x across cluster]\u001b[0m\n",
      "\u001b[36m(ClientAppActor pid=46651)\u001b[0m \n",
      "\u001b[36m(ClientAppActor pid=46653)\u001b[0m Epoch 1: train loss 0.010174673050642014, accuracy 0.8922633562403015\n",
      "\u001b[36m(ClientAppActor pid=46650)\u001b[0m [Client 4] fit, config: {'proximal_mu': 0.1}\u001b[32m [repeated 5x across cluster]\u001b[0m\n",
      "\u001b[36m(ClientAppActor pid=46651)\u001b[0m Epoch 1: train loss 0.003914452623575926, accuracy 0.958743842364532\n",
      "\u001b[36m(ClientAppActor pid=46654)\u001b[0m Epoch 1: train loss 0.004096225835382938, accuracy 0.9587250293772033\n",
      "\u001b[36m(ClientAppActor pid=46655)\u001b[0m Epoch 1: train loss 0.004333737306296825, accuracy 0.9589867310012062\u001b[32m [repeated 2x across cluster]\u001b[0m\n",
      "\u001b[36m(ClientAppActor pid=46653)\u001b[0m Epoch 2: train loss 0.003407497890293598, accuracy 0.9674129904677455\u001b[32m [repeated 2x across cluster]\u001b[0m\n",
      "\u001b[36m(ClientAppActor pid=46651)\u001b[0m Epoch 2: train loss 0.00087433320004493, accuracy 0.9895320197044335\n",
      "\u001b[36m(ClientAppActor pid=46653)\u001b[0m Epoch 3: train loss 0.004653964191675186, accuracy 0.9578807359787187\n",
      "\u001b[36m(ClientAppActor pid=46652)\u001b[0m Epoch 2: train loss 0.000860969303175807, accuracy 0.9929188500212435\u001b[32m [repeated 2x across cluster]\u001b[0m\n",
      "\u001b[36m(ClientAppActor pid=46651)\u001b[0m Epoch 3: train loss 0.0014068222371861339, accuracy 0.9858374384236454\n",
      "\u001b[36m(ClientAppActor pid=46655)\u001b[0m Epoch 2: train loss 0.003309312742203474, accuracy 0.9726176115802171\n",
      "\u001b[36m(ClientAppActor pid=46653)\u001b[0m Epoch 4: train loss 0.006356291472911835, accuracy 0.940589669696298\u001b[32m [repeated 2x across cluster]\u001b[0m\n",
      "\u001b[36m(ClientAppActor pid=46651)\u001b[0m Epoch 4: train loss 0.0021913915406912565, accuracy 0.9772167487684729\n",
      "\u001b[36m(ClientAppActor pid=46654)\u001b[0m Epoch 3: train loss 0.0027765841223299503, accuracy 0.9703290246768508\n",
      "\u001b[36m(ClientAppActor pid=46652)\u001b[0m Epoch 3: train loss 0.0014971739146858454, accuracy 0.9878204220365387\n",
      "\u001b[36m(ClientAppActor pid=46653)\u001b[0m Epoch 5: train loss 0.002196329878643155, accuracy 0.9816005320328087\n",
      "\u001b[36m(ClientAppActor pid=46651)\u001b[0m Epoch 5: train loss 0.0020833294838666916, accuracy 0.9813218390804598\n",
      "\u001b[36m(ClientAppActor pid=46655)\u001b[0m Epoch 3: train loss 0.00181231286842376, accuracy 0.9808202653799759\n",
      "\u001b[36m(ClientAppActor pid=46650)\u001b[0m Epoch 3: train loss 0.0010142680257558823, accuracy 0.9904210028382214\n",
      "\u001b[36m(ClientAppActor pid=46653)\u001b[0m Epoch 6: train loss 0.00044474119204096496, accuracy 0.9953447129239636\n",
      "\u001b[36m(ClientAppActor pid=46653)\u001b[0m \n",
      "\u001b[36m(ClientAppActor pid=46652)\u001b[0m Epoch 4: train loss 0.003685296280309558, accuracy 0.9813057640560827\u001b[32m [repeated 2x across cluster]\u001b[0m\n",
      "\u001b[36m(ClientAppActor pid=46651)\u001b[0m Epoch 6: train loss 0.00271109351888299, accuracy 0.9786535303776683\n",
      "\u001b[36m(ClientAppActor pid=46653)\u001b[0m Epoch 7: train loss 0.003767480840906501, accuracy 0.972289957880736\n",
      "\u001b[36m(ClientAppActor pid=46655)\u001b[0m Epoch 4: train loss 0.0010081786895170808, accuracy 0.9898673100120627\n",
      "\u001b[36m(ClientAppActor pid=46650)\u001b[0m Epoch 4: train loss 0.0005123710143379867, accuracy 0.9936140018921475\n",
      "\u001b[36m(ClientAppActor pid=46652)\u001b[0m Epoch 5: train loss 0.003188400063663721, accuracy 0.9689845630930463\u001b[32m [repeated 3x across cluster]\u001b[0m\n",
      "\u001b[36m(ClientAppActor pid=46653)\u001b[0m Epoch 8: train loss 0.002455506706610322, accuracy 0.9733983595655066\n",
      "\u001b[36m(ClientAppActor pid=46651)\u001b[0m Epoch 8: train loss 0.002528541488572955, accuracy 0.9735221674876847\n",
      "\u001b[36m(ClientAppActor pid=46654)\u001b[0m Epoch 6: train loss 0.00021126045612618327, accuracy 0.9989717978848414\n",
      "\u001b[36m(ClientAppActor pid=46655)\u001b[0m Epoch 5: train loss 0.0016844907077029347, accuracy 0.9834740651387214\n",
      "\u001b[36m(ClientAppActor pid=46650)\u001b[0m Epoch 5: train loss 0.001252323854714632, accuracy 0.9919583727530747\n",
      "\u001b[36m(ClientAppActor pid=46652)\u001b[0m Epoch 6: train loss 0.001253260183148086, accuracy 0.9873955530378133\n",
      "\u001b[36m(ClientAppActor pid=46654)\u001b[0m Epoch 7: train loss 0.0004228663456160575, accuracy 0.995005875440658\n",
      "\u001b[36m(ClientAppActor pid=46652)\u001b[0m Epoch 7: train loss 0.22018344700336456, accuracy 0.9450502761648492\n",
      "\u001b[36m(ClientAppActor pid=46650)\u001b[0m Epoch 6: train loss 0.0013676630333065987, accuracy 0.9850993377483444\u001b[32m [repeated 2x across cluster]\u001b[0m\n",
      "\u001b[36m(ClientAppActor pid=46654)\u001b[0m Epoch 8: train loss 0.0005423909169621766, accuracy 0.9933901292596945\n",
      "\u001b[36m(ClientAppActor pid=46652)\u001b[0m Epoch 8: train loss 0.005081149283796549, accuracy 0.9463248831610254\n",
      "\u001b[36m(ClientAppActor pid=46655)\u001b[0m Epoch 7: train loss 0.002505834214389324, accuracy 0.9732207478890229\n",
      "\u001b[36m(ClientAppActor pid=46650)\u001b[0m Epoch 7: train loss 0.013388406485319138, accuracy 0.96759697256386\n",
      "\u001b[36m(ClientAppActor pid=46655)\u001b[0m Epoch 8: train loss 0.0014031513128429651, accuracy 0.9880579010856454\n"
     ]
    },
    {
     "name": "stderr",
     "output_type": "stream",
     "text": [
      "\u001b[92mINFO \u001b[0m:      aggregate_fit: received 6 results and 0 failures\n"
     ]
    },
    {
     "name": "stdout",
     "output_type": "stream",
     "text": [
      "\u001b[36m(ClientAppActor pid=46650)\u001b[0m Epoch 8: train loss 0.0035312934778630733, accuracy 0.9636944181646169\n",
      "total size: 280903200\n"
     ]
    },
    {
     "name": "stderr",
     "output_type": "stream",
     "text": [
      "\u001b[92mINFO \u001b[0m:      fit progress: (18, 0.042587749707698824, {'accuracy': 0.5078}, 14258.730164875044)\n",
      "\u001b[92mINFO \u001b[0m:      configure_evaluate: strategy sampled 6 clients (out of 6)\n",
      "\u001b[36m(ClientAppActor pid=46651)\u001b[0m /Users/macbook/Desktop/L361/L361_Project/.conda/lib/python3.12/site-packages/datasets/utils/_dill.py:385: DeprecationWarning: co_lnotab is deprecated, use co_lines instead.\u001b[32m [repeated 7x across cluster]\u001b[0m\n",
      "\u001b[36m(ClientAppActor pid=46651)\u001b[0m   obj.co_lnotab,  # for < python 3.10 [not counted in args]\u001b[32m [repeated 7x across cluster]\u001b[0m\n"
     ]
    },
    {
     "name": "stdout",
     "output_type": "stream",
     "text": [
      "\u001b[36m(ClientAppActor pid=46651)\u001b[0m [Client 2] evaluate, config: {}\n"
     ]
    },
    {
     "name": "stderr",
     "output_type": "stream",
     "text": [
      "\u001b[92mINFO \u001b[0m:      aggregate_evaluate: received 6 results and 0 failures\n",
      "\u001b[92mINFO \u001b[0m:      \n",
      "\u001b[92mINFO \u001b[0m:      [ROUND 19]\n",
      "\u001b[92mINFO \u001b[0m:      configure_fit: strategy sampled 6 clients (out of 6)\n",
      "\u001b[36m(ClientAppActor pid=46652)\u001b[0m /Users/macbook/Desktop/L361/L361_Project/.conda/lib/python3.12/site-packages/datasets/utils/_dill.py:385: DeprecationWarning: co_lnotab is deprecated, use co_lines instead.\u001b[32m [repeated 6x across cluster]\u001b[0m\n",
      "\u001b[36m(ClientAppActor pid=46652)\u001b[0m   obj.co_lnotab,  # for < python 3.10 [not counted in args]\u001b[32m [repeated 6x across cluster]\u001b[0m\n"
     ]
    },
    {
     "name": "stdout",
     "output_type": "stream",
     "text": [
      "\u001b[36m(ClientAppActor pid=46652)\u001b[0m [Client 1] fit, config: {'proximal_mu': 0.1}\n",
      "\u001b[36m(ClientAppActor pid=46650)\u001b[0m [Client 3] evaluate, config: {}\u001b[32m [repeated 5x across cluster]\u001b[0m\n",
      "\u001b[36m(ClientAppActor pid=46651)\u001b[0m Epoch 1: train loss 0.0116109075024724, accuracy 0.8842828641099535\n",
      "\u001b[36m(ClientAppActor pid=46653)\u001b[0m [Client 2] fit, config: {'proximal_mu': 0.1}\u001b[32m [repeated 5x across cluster]\u001b[0m\n",
      "\u001b[36m(ClientAppActor pid=46652)\u001b[0m Epoch 1: train loss 0.0045398324728012085, accuracy 0.9562279670975323\u001b[32m [repeated 2x across cluster]\u001b[0m\n",
      "\u001b[36m(ClientAppActor pid=46653)\u001b[0m Epoch 1: train loss 0.001758224330842495, accuracy 0.9865458150403625\n",
      "\u001b[36m(ClientAppActor pid=46655)\u001b[0m Epoch 1: train loss 0.004785522818565369, accuracy 0.9493365500603136\n",
      "\u001b[36m(ClientAppActor pid=46651)\u001b[0m Epoch 2: train loss 0.0035711706150323153, accuracy 0.9665262691199291\u001b[32m [repeated 2x across cluster]\u001b[0m\n",
      "\u001b[36m(ClientAppActor pid=46650)\u001b[0m Epoch 2: train loss 0.0019940396305173635, accuracy 0.9805008210180624\n",
      "\u001b[36m(ClientAppActor pid=46652)\u001b[0m Epoch 2: train loss 0.002900312654674053, accuracy 0.9734136310223267\n",
      "\u001b[36m(ClientAppActor pid=46653)\u001b[0m Epoch 2: train loss 0.0016178253572434187, accuracy 0.9865458150403625\u001b[32m [repeated 2x across cluster]\u001b[0m\n",
      "\u001b[36m(ClientAppActor pid=46650)\u001b[0m Epoch 3: train loss 0.0011462890543043613, accuracy 0.9889162561576355\n",
      "\u001b[36m(ClientAppActor pid=46655)\u001b[0m Epoch 2: train loss 0.004846427123993635, accuracy 0.9545235223160434\n",
      "\u001b[36m(ClientAppActor pid=46651)\u001b[0m Epoch 4: train loss 0.003002443350851536, accuracy 0.9749501219241853\u001b[32m [repeated 2x across cluster]\u001b[0m\n",
      "\u001b[36m(ClientAppActor pid=46650)\u001b[0m Epoch 4: train loss 0.001512507675215602, accuracy 0.985632183908046\n",
      "\u001b[36m(ClientAppActor pid=46652)\u001b[0m Epoch 3: train loss 0.0009220731444656849, accuracy 0.9914806110458284\n",
      "\u001b[36m(ClientAppActor pid=46653)\u001b[0m Epoch 3: train loss 0.002103508450090885, accuracy 0.9825803710522589\n",
      "\u001b[36m(ClientAppActor pid=46651)\u001b[0m Epoch 5: train loss 0.0021252010483294725, accuracy 0.9793837286632676\n",
      "\u001b[36m(ClientAppActor pid=46650)\u001b[0m \n",
      "\u001b[36m(ClientAppActor pid=46650)\u001b[0m Epoch 5: train loss 0.0016097434563562274, accuracy 0.9844006568144499\n",
      "\u001b[36m(ClientAppActor pid=46655)\u001b[0m Epoch 3: train loss 0.0039790477603673935, accuracy 0.9638118214716526\n",
      "\u001b[36m(ClientAppActor pid=46654)\u001b[0m Epoch 3: train loss 0.001315941335633397, accuracy 0.9906575212866604\n",
      "\u001b[36m(ClientAppActor pid=46652)\u001b[0m Epoch 4: train loss 0.00032985556754283607, accuracy 0.9966216216216216\n",
      "\u001b[36m(ClientAppActor pid=46653)\u001b[0m Epoch 4: train loss 0.0006583094364032149, accuracy 0.9927772270216684\u001b[32m [repeated 2x across cluster]\u001b[0m\n",
      "\u001b[36m(ClientAppActor pid=46650)\u001b[0m Epoch 6: train loss 0.0009360136464238167, accuracy 0.9911740558292282\n",
      "\u001b[36m(ClientAppActor pid=46651)\u001b[0m Epoch 7: train loss 0.011663701385259628, accuracy 0.9144313899357127\n",
      "\u001b[36m(ClientAppActor pid=46655)\u001b[0m Epoch 4: train loss 0.0019359256839379668, accuracy 0.9805790108564536\n",
      "\u001b[36m(ClientAppActor pid=46652)\u001b[0m Epoch 5: train loss 0.0020964774303138256, accuracy 0.9844300822561692\n",
      "\u001b[36m(ClientAppActor pid=46650)\u001b[0m Epoch 7: train loss 0.0013741053408011794, accuracy 0.9854269293924466\u001b[32m [repeated 2x across cluster]\u001b[0m\n",
      "\u001b[36m(ClientAppActor pid=46653)\u001b[0m Epoch 5: train loss 0.00043773395009338856, accuracy 0.9953264410140207\n",
      "\u001b[36m(ClientAppActor pid=46651)\u001b[0m Epoch 8: train loss 0.002389204455539584, accuracy 0.9769452449567724\n",
      "\u001b[36m(ClientAppActor pid=46650)\u001b[0m Epoch 8: train loss 0.005862219724804163, accuracy 0.9406814449917899\n",
      "\u001b[36m(ClientAppActor pid=46652)\u001b[0m Epoch 6: train loss 0.0006468496285378933, accuracy 0.9933901292596945\n",
      "\u001b[36m(ClientAppActor pid=46655)\u001b[0m Epoch 5: train loss 0.0006926015485078096, accuracy 0.9934861278648974\n",
      "\u001b[36m(ClientAppActor pid=46654)\u001b[0m Epoch 5: train loss 0.00949757732450962, accuracy 0.9658230842005676\n",
      "\u001b[36m(ClientAppActor pid=46652)\u001b[0m Epoch 7: train loss 0.0008138758130371571, accuracy 0.9926556991774383\u001b[32m [repeated 2x across cluster]\u001b[0m\n",
      "\u001b[36m(ClientAppActor pid=46653)\u001b[0m Epoch 7: train loss 0.0003235646290704608, accuracy 0.9968842940093471\n",
      "\u001b[36m(ClientAppActor pid=46655)\u001b[0m Epoch 6: train loss 0.006027396768331528, accuracy 0.9503015681544029\n",
      "\u001b[36m(ClientAppActor pid=46654)\u001b[0m Epoch 6: train loss 0.003157641040161252, accuracy 0.9696073793755913\n",
      "\u001b[36m(ClientAppActor pid=46652)\u001b[0m Epoch 8: train loss 0.003927968442440033, accuracy 0.9626909518213866\n",
      "\u001b[36m(ClientAppActor pid=46653)\u001b[0m Epoch 8: train loss 0.0004173460474703461, accuracy 0.995609687013171\n",
      "\u001b[36m(ClientAppActor pid=46655)\u001b[0m Epoch 7: train loss 0.003053958062082529, accuracy 0.9692400482509047\n",
      "\u001b[36m(ClientAppActor pid=46654)\u001b[0m Epoch 7: train loss 0.0007486240356229246, accuracy 0.9916035950804163\n",
      "\u001b[36m(ClientAppActor pid=46655)\u001b[0m Epoch 8: train loss 0.0005705339717678726, accuracy 0.9952955367913149\n"
     ]
    },
    {
     "name": "stderr",
     "output_type": "stream",
     "text": [
      "\u001b[92mINFO \u001b[0m:      aggregate_fit: received 6 results and 0 failures\n"
     ]
    },
    {
     "name": "stdout",
     "output_type": "stream",
     "text": [
      "\u001b[36m(ClientAppActor pid=46654)\u001b[0m Epoch 8: train loss 0.00034532180870883167, accuracy 0.9958609271523179\n",
      "total size: 280903200\n"
     ]
    },
    {
     "name": "stderr",
     "output_type": "stream",
     "text": [
      "\u001b[92mINFO \u001b[0m:      fit progress: (19, 0.045503166842460634, {'accuracy': 0.5009}, 15043.914860291989)\n",
      "\u001b[92mINFO \u001b[0m:      configure_evaluate: strategy sampled 6 clients (out of 6)\n",
      "\u001b[36m(ClientAppActor pid=46655)\u001b[0m /Users/macbook/Desktop/L361/L361_Project/.conda/lib/python3.12/site-packages/datasets/utils/_dill.py:385: DeprecationWarning: co_lnotab is deprecated, use co_lines instead.\u001b[32m [repeated 7x across cluster]\u001b[0m\n",
      "\u001b[36m(ClientAppActor pid=46655)\u001b[0m   obj.co_lnotab,  # for < python 3.10 [not counted in args]\u001b[32m [repeated 7x across cluster]\u001b[0m\n"
     ]
    },
    {
     "name": "stdout",
     "output_type": "stream",
     "text": [
      "\u001b[36m(ClientAppActor pid=46655)\u001b[0m [Client 5] evaluate, config: {}\n",
      "\u001b[36m(ClientAppActor pid=46653)\u001b[0m \n"
     ]
    },
    {
     "name": "stderr",
     "output_type": "stream",
     "text": [
      "\u001b[92mINFO \u001b[0m:      aggregate_evaluate: received 6 results and 0 failures\n",
      "\u001b[92mINFO \u001b[0m:      \n",
      "\u001b[92mINFO \u001b[0m:      [ROUND 20]\n",
      "\u001b[92mINFO \u001b[0m:      configure_fit: strategy sampled 6 clients (out of 6)\n"
     ]
    },
    {
     "name": "stdout",
     "output_type": "stream",
     "text": [
      "\u001b[36m(ClientAppActor pid=46653)\u001b[0m [Client 1] fit, config: {'proximal_mu': 0.1}\n",
      "\u001b[36m(ClientAppActor pid=46654)\u001b[0m [Client 0] evaluate, config: {}\u001b[32m [repeated 5x across cluster]\u001b[0m\n"
     ]
    },
    {
     "name": "stderr",
     "output_type": "stream",
     "text": [
      "\u001b[36m(ClientAppActor pid=46653)\u001b[0m /Users/macbook/Desktop/L361/L361_Project/.conda/lib/python3.12/site-packages/datasets/utils/_dill.py:385: DeprecationWarning: co_lnotab is deprecated, use co_lines instead.\u001b[32m [repeated 6x across cluster]\u001b[0m\n",
      "\u001b[36m(ClientAppActor pid=46653)\u001b[0m   obj.co_lnotab,  # for < python 3.10 [not counted in args]\u001b[32m [repeated 6x across cluster]\u001b[0m\n"
     ]
    },
    {
     "name": "stdout",
     "output_type": "stream",
     "text": [
      "\u001b[36m(ClientAppActor pid=46650)\u001b[0m Epoch 1: train loss 0.009765919297933578, accuracy 0.8989137663489248\n",
      "\u001b[36m(ClientAppActor pid=46652)\u001b[0m [Client 4] fit, config: {'proximal_mu': 0.1}\u001b[32m [repeated 5x across cluster]\u001b[0m\n",
      "\u001b[36m(ClientAppActor pid=46651)\u001b[0m Epoch 1: train loss 0.00402686046436429, accuracy 0.9622331691297209\n",
      "\u001b[36m(ClientAppActor pid=46653)\u001b[0m Epoch 1: train loss 0.003421913366764784, accuracy 0.9650411280846063\n",
      "\u001b[36m(ClientAppActor pid=46654)\u001b[0m Epoch 1: train loss 0.003922954201698303, accuracy 0.961881785283474\u001b[32m [repeated 2x across cluster]\u001b[0m\n",
      "\u001b[36m(ClientAppActor pid=46650)\u001b[0m Epoch 2: train loss 0.002785686170682311, accuracy 0.9718465972068278\u001b[32m [repeated 2x across cluster]\u001b[0m\n",
      "\u001b[36m(ClientAppActor pid=46651)\u001b[0m Epoch 2: train loss 0.0012331362813711166, accuracy 0.985632183908046\n",
      "\u001b[36m(ClientAppActor pid=46650)\u001b[0m Epoch 3: train loss 0.004386764485388994, accuracy 0.958324096652627\n",
      "\u001b[36m(ClientAppActor pid=46655)\u001b[0m Epoch 2: train loss 0.0015564843779429793, accuracy 0.9864041920407874\u001b[32m [repeated 2x across cluster]\u001b[0m\n",
      "\u001b[36m(ClientAppActor pid=46651)\u001b[0m Epoch 3: train loss 0.00500186812132597, accuracy 0.9731116584564861\n",
      "\u001b[36m(ClientAppActor pid=46654)\u001b[0m Epoch 2: train loss 0.002958988770842552, accuracy 0.9738238841978287\n",
      "\u001b[36m(ClientAppActor pid=46650)\u001b[0m Epoch 4: train loss 0.002167121972888708, accuracy 0.9784970073154511\u001b[32m [repeated 2x across cluster]\u001b[0m\n",
      "\u001b[36m(ClientAppActor pid=46651)\u001b[0m Epoch 4: train loss 0.002185459015890956, accuracy 0.9778325123152709\n",
      "\u001b[36m(ClientAppActor pid=46653)\u001b[0m Epoch 3: train loss 0.0013175343628972769, accuracy 0.9885428907168038\n",
      "\u001b[36m(ClientAppActor pid=46655)\u001b[0m Epoch 3: train loss 0.0011807125993072987, accuracy 0.9912193740263419\n",
      "\u001b[36m(ClientAppActor pid=46650)\u001b[0m Epoch 5: train loss 0.0012318957597017288, accuracy 0.9880292618044779\n",
      "\u001b[36m(ClientAppActor pid=46651)\u001b[0m Epoch 5: train loss 0.0014954502694308758, accuracy 0.985632183908046\n",
      "\u001b[36m(ClientAppActor pid=46654)\u001b[0m Epoch 3: train loss 0.0035901013761758804, accuracy 0.9629674306393244\n",
      "\u001b[36m(ClientAppActor pid=46650)\u001b[0m Epoch 6: train loss 0.002378577133640647, accuracy 0.9789403679893594\u001b[32m [repeated 2x across cluster]\u001b[0m\n",
      "\u001b[36m(ClientAppActor pid=46655)\u001b[0m Epoch 4: train loss 0.0005067618330940604, accuracy 0.9951848180144456\u001b[32m [repeated 2x across cluster]\u001b[0m\n",
      "\u001b[36m(ClientAppActor pid=46651)\u001b[0m Epoch 6: train loss 0.006765407044440508, accuracy 0.9558702791461412\n",
      "\u001b[36m(ClientAppActor pid=46650)\u001b[0m Epoch 7: train loss 0.007524294778704643, accuracy 0.9299490135225006\n",
      "\u001b[36m(ClientAppActor pid=46654)\u001b[0m Epoch 4: train loss 0.008969185873866081, accuracy 0.9325693606755127\n",
      "\u001b[36m(ClientAppActor pid=46652)\u001b[0m Epoch 4: train loss 0.0013118564384058118, accuracy 0.9887653736991485\n",
      "\u001b[36m(ClientAppActor pid=46651)\u001b[0m Epoch 7: train loss 0.002762692980468273, accuracy 0.97188013136289\u001b[32m [repeated 2x across cluster]\u001b[0m\n",
      "\u001b[36m(ClientAppActor pid=46655)\u001b[0m Epoch 5: train loss 0.014285121113061905, accuracy 0.9645942501062172\n",
      "\u001b[36m(ClientAppActor pid=46650)\u001b[0m Epoch 8: train loss 0.0023155033122748137, accuracy 0.9767235646198182\n",
      "\u001b[36m(ClientAppActor pid=46651)\u001b[0m Epoch 8: train loss 0.0009463274036534131, accuracy 0.9891215106732348\n",
      "\u001b[36m(ClientAppActor pid=46653)\u001b[0m Epoch 6: train loss 0.0014556427486240864, accuracy 0.9851645123384254\n",
      "\u001b[36m(ClientAppActor pid=46654)\u001b[0m Epoch 5: train loss 0.0032875733450055122, accuracy 0.9671893848009651\n",
      "\u001b[36m(ClientAppActor pid=46652)\u001b[0m Epoch 5: train loss 0.000649067631457001, accuracy 0.9936140018921475\n",
      "\u001b[36m(ClientAppActor pid=46653)\u001b[0m Epoch 7: train loss 0.00023893621983006597, accuracy 0.9972091656874266\u001b[32m [repeated 2x across cluster]\u001b[0m\n",
      "\u001b[36m(ClientAppActor pid=46655)\u001b[0m Epoch 7: train loss 0.0012033836683258414, accuracy 0.9883869140348392\n",
      "\u001b[36m(ClientAppActor pid=46654)\u001b[0m Epoch 6: train loss 0.00086474500130862, accuracy 0.9921592279855247\n",
      "\u001b[36m(ClientAppActor pid=46652)\u001b[0m Epoch 6: train loss 0.009645511396229267, accuracy 0.9606196783349101\n",
      "\u001b[36m(ClientAppActor pid=46653)\u001b[0m Epoch 8: train loss 0.0002320153871551156, accuracy 0.9980904817861339\n",
      "\u001b[36m(ClientAppActor pid=46655)\u001b[0m Epoch 8: train loss 0.00047893993905745447, accuracy 0.9949015720152953\n",
      "\u001b[36m(ClientAppActor pid=46654)\u001b[0m Epoch 7: train loss 0.0005876916693523526, accuracy 0.9934861278648974\n",
      "\u001b[36m(ClientAppActor pid=46652)\u001b[0m Epoch 7: train loss 0.005866394378244877, accuracy 0.9403973509933775\n",
      "\u001b[36m(ClientAppActor pid=46654)\u001b[0m Epoch 8: train loss 0.0005810054717585444, accuracy 0.9936067551266586\n"
     ]
    },
    {
     "name": "stderr",
     "output_type": "stream",
     "text": [
      "\u001b[92mINFO \u001b[0m:      aggregate_fit: received 6 results and 0 failures\n"
     ]
    },
    {
     "name": "stdout",
     "output_type": "stream",
     "text": [
      "\u001b[36m(ClientAppActor pid=46652)\u001b[0m Epoch 8: train loss 0.002483363263309002, accuracy 0.9761116367076632\n",
      "total size: 280903200\n"
     ]
    },
    {
     "name": "stderr",
     "output_type": "stream",
     "text": [
      "\u001b[92mINFO \u001b[0m:      fit progress: (20, 0.05263455714583397, {'accuracy': 0.459}, 15884.426695792004)\n",
      "\u001b[92mINFO \u001b[0m:      configure_evaluate: strategy sampled 6 clients (out of 6)\n",
      "\u001b[36m(ClientAppActor pid=46652)\u001b[0m /Users/macbook/Desktop/L361/L361_Project/.conda/lib/python3.12/site-packages/datasets/utils/_dill.py:385: DeprecationWarning: co_lnotab is deprecated, use co_lines instead.\u001b[32m [repeated 8x across cluster]\u001b[0m\n",
      "\u001b[36m(ClientAppActor pid=46652)\u001b[0m   obj.co_lnotab,  # for < python 3.10 [not counted in args]\u001b[32m [repeated 8x across cluster]\u001b[0m\n"
     ]
    },
    {
     "name": "stdout",
     "output_type": "stream",
     "text": [
      "\u001b[36m(ClientAppActor pid=46652)\u001b[0m [Client 3] evaluate, config: {}\n"
     ]
    },
    {
     "name": "stderr",
     "output_type": "stream",
     "text": [
      "\u001b[92mINFO \u001b[0m:      aggregate_evaluate: received 6 results and 0 failures\n",
      "\u001b[92mINFO \u001b[0m:      \n",
      "\u001b[92mINFO \u001b[0m:      [ROUND 21]\n",
      "\u001b[92mINFO \u001b[0m:      configure_fit: strategy sampled 6 clients (out of 6)\n",
      "\u001b[36m(ClientAppActor pid=46655)\u001b[0m /Users/macbook/Desktop/L361/L361_Project/.conda/lib/python3.12/site-packages/datasets/utils/_dill.py:385: DeprecationWarning: co_lnotab is deprecated, use co_lines instead.\u001b[32m [repeated 6x across cluster]\u001b[0m\n",
      "\u001b[36m(ClientAppActor pid=46655)\u001b[0m   obj.co_lnotab,  # for < python 3.10 [not counted in args]\u001b[32m [repeated 6x across cluster]\u001b[0m\n"
     ]
    },
    {
     "name": "stdout",
     "output_type": "stream",
     "text": [
      "\u001b[36m(ClientAppActor pid=46655)\u001b[0m [Client 0] fit, config: {'proximal_mu': 0.1}\n",
      "\u001b[36m(ClientAppActor pid=46651)\u001b[0m [Client 1] evaluate, config: {}\u001b[32m [repeated 5x across cluster]\u001b[0m\n",
      "\u001b[36m(ClientAppActor pid=46654)\u001b[0m Epoch 1: train loss 0.010674835182726383, accuracy 0.8951452006207049\n",
      "\u001b[36m(ClientAppActor pid=46650)\u001b[0m [Client 5] fit, config: {'proximal_mu': 0.1}\u001b[32m [repeated 5x across cluster]\u001b[0m\n",
      "\u001b[36m(ClientAppActor pid=46653)\u001b[0m Epoch 1: train loss 0.005161056760698557, accuracy 0.9450646298472385\u001b[32m [repeated 2x across cluster]\u001b[0m\n",
      "\u001b[36m(ClientAppActor pid=46652)\u001b[0m Epoch 1: train loss 0.0013817115686833858, accuracy 0.9896615210310155\n",
      "\u001b[36m(ClientAppActor pid=46655)\u001b[0m Epoch 1: train loss 0.004418580327183008, accuracy 0.9599517490952956\n",
      "\u001b[36m(ClientAppActor pid=46654)\u001b[0m Epoch 2: train loss 0.0041386778466403484, accuracy 0.9612059410330304\u001b[32m [repeated 2x across cluster]\u001b[0m\n",
      "\u001b[36m(ClientAppActor pid=46650)\u001b[0m Epoch 2: train loss 0.0016902448842301965, accuracy 0.986247947454844\n",
      "\u001b[36m(ClientAppActor pid=46653)\u001b[0m Epoch 2: train loss 0.011539303697645664, accuracy 0.9419800235017627\n",
      "\u001b[36m(ClientAppActor pid=46652)\u001b[0m Epoch 2: train loss 0.0014307524543255568, accuracy 0.9889534060331397\u001b[32m [repeated 2x across cluster]\u001b[0m\n",
      "\u001b[36m(ClientAppActor pid=46650)\u001b[0m Epoch 3: train loss 0.002332046627998352, accuracy 0.9761904761904762\n",
      "\u001b[36m(ClientAppActor pid=46655)\u001b[0m Epoch 2: train loss 0.015517883002758026, accuracy 0.9662243667068757\n",
      "\u001b[36m(ClientAppActor pid=46651)\u001b[0m Epoch 2: train loss 0.0009943012846633792, accuracy 0.9911305581835383\n",
      "\u001b[36m(ClientAppActor pid=46654)\u001b[0m Epoch 4: train loss 0.0015727608697488904, accuracy 0.9853690977610285\n",
      "\u001b[36m(ClientAppActor pid=46650)\u001b[0m Epoch 4: train loss 0.0009048513602465391, accuracy 0.9917898193760263\n",
      "\u001b[36m(ClientAppActor pid=46653)\u001b[0m Epoch 3: train loss 0.005771175026893616, accuracy 0.9405111633372503\n",
      "\u001b[36m(ClientAppActor pid=46652)\u001b[0m Epoch 3: train loss 0.0008893940248526633, accuracy 0.9909361280271917\n",
      "\u001b[36m(ClientAppActor pid=46654)\u001b[0m Epoch 5: train loss 0.014230329543352127, accuracy 0.8782974950121925\n",
      "\u001b[36m(ClientAppActor pid=46650)\u001b[0m Epoch 5: train loss 0.0021358432713896036, accuracy 0.9821428571428571\n",
      "\u001b[36m(ClientAppActor pid=46655)\u001b[0m Epoch 3: train loss 0.00986772496253252, accuracy 0.8945717732207479\n",
      "\u001b[36m(ClientAppActor pid=46651)\u001b[0m Epoch 3: train loss 0.000996698159724474, accuracy 0.9925496688741722\n",
      "\u001b[36m(ClientAppActor pid=46653)\u001b[0m Epoch 4: train loss 0.0021029822528362274, accuracy 0.9763513513513513\n",
      "\u001b[36m(ClientAppActor pid=46652)\u001b[0m Epoch 4: train loss 0.0028534862212836742, accuracy 0.9771986970684039\u001b[32m [repeated 2x across cluster]\u001b[0m\n",
      "\u001b[36m(ClientAppActor pid=46650)\u001b[0m Epoch 6: train loss 0.004254687111824751, accuracy 0.9542282430213465\n",
      "\u001b[36m(ClientAppActor pid=46654)\u001b[0m Epoch 7: train loss 0.0059853713028132915, accuracy 0.9538904899135446\n",
      "\u001b[36m(ClientAppActor pid=46655)\u001b[0m Epoch 4: train loss 0.0023647574707865715, accuracy 0.9756332931242461\n",
      "\u001b[36m(ClientAppActor pid=46653)\u001b[0m Epoch 5: train loss 0.0010433245915919542, accuracy 0.9903055229142186\n",
      "\u001b[36m(ClientAppActor pid=46652)\u001b[0m Epoch 5: train loss 0.0005729419644922018, accuracy 0.9940518340178445\u001b[32m [repeated 3x across cluster]\u001b[0m\n",
      "\u001b[36m(ClientAppActor pid=46654)\u001b[0m Epoch 8: train loss 0.003426523646339774, accuracy 0.966304588782975\n",
      "\u001b[36m(ClientAppActor pid=46650)\u001b[0m Epoch 8: train loss 0.00063431600574404, accuracy 0.9930213464696224\n",
      "\u001b[36m(ClientAppActor pid=46650)\u001b[0m \n",
      "\u001b[36m(ClientAppActor pid=46653)\u001b[0m Epoch 6: train loss 0.00039249882684089243, accuracy 0.9961809635722679\n",
      "\u001b[36m(ClientAppActor pid=46655)\u001b[0m Epoch 5: train loss 0.0022809598594903946, accuracy 0.9758745476477684\n",
      "\u001b[36m(ClientAppActor pid=46652)\u001b[0m Epoch 6: train loss 0.0007145124836824834, accuracy 0.9940518340178445\n",
      "\u001b[36m(ClientAppActor pid=46651)\u001b[0m Epoch 5: train loss 0.0022688242606818676, accuracy 0.978949858088931\n",
      "\u001b[36m(ClientAppActor pid=46653)\u001b[0m Epoch 7: train loss 0.0004908464034087956, accuracy 0.9947121034077556\n",
      "\u001b[36m(ClientAppActor pid=46652)\u001b[0m Epoch 7: train loss 0.07974721491336823, accuracy 0.9865458150403625\n",
      "\u001b[36m(ClientAppActor pid=46651)\u001b[0m Epoch 6: train loss 0.0017629287904128432, accuracy 0.984035004730369\u001b[32m [repeated 2x across cluster]\u001b[0m\n",
      "\u001b[36m(ClientAppActor pid=46653)\u001b[0m Epoch 8: train loss 5.805065666208975e-05, accuracy 0.9995593419506463\n",
      "\u001b[36m(ClientAppActor pid=46652)\u001b[0m Epoch 8: train loss 0.0028499900363385677, accuracy 0.9736581220790256\n",
      "\u001b[36m(ClientAppActor pid=46655)\u001b[0m Epoch 7: train loss 0.00122407719027251, accuracy 0.9879372738238842\n",
      "\u001b[36m(ClientAppActor pid=46651)\u001b[0m Epoch 7: train loss 0.0011685284553095698, accuracy 0.9901844843897823\n",
      "\u001b[36m(ClientAppActor pid=46655)\u001b[0m Epoch 8: train loss 0.0012819641269743443, accuracy 0.9887816646562123\n"
     ]
    },
    {
     "name": "stderr",
     "output_type": "stream",
     "text": [
      "\u001b[92mINFO \u001b[0m:      aggregate_fit: received 6 results and 0 failures\n"
     ]
    },
    {
     "name": "stdout",
     "output_type": "stream",
     "text": [
      "\u001b[36m(ClientAppActor pid=46651)\u001b[0m Epoch 8: train loss 0.0007897702744230628, accuracy 0.9930227057710501\n",
      "total size: 280903200\n"
     ]
    },
    {
     "name": "stderr",
     "output_type": "stream",
     "text": [
      "\u001b[92mINFO \u001b[0m:      fit progress: (21, 0.04734702795147896, {'accuracy': 0.5092}, 16708.123926333035)\n",
      "\u001b[92mINFO \u001b[0m:      configure_evaluate: strategy sampled 6 clients (out of 6)\n",
      "\u001b[36m(ClientAppActor pid=46650)\u001b[0m /Users/macbook/Desktop/L361/L361_Project/.conda/lib/python3.12/site-packages/datasets/utils/_dill.py:385: DeprecationWarning: co_lnotab is deprecated, use co_lines instead.\u001b[32m [repeated 6x across cluster]\u001b[0m\n",
      "\u001b[36m(ClientAppActor pid=46650)\u001b[0m   obj.co_lnotab,  # for < python 3.10 [not counted in args]\u001b[32m [repeated 6x across cluster]\u001b[0m\n"
     ]
    },
    {
     "name": "stdout",
     "output_type": "stream",
     "text": [
      "\u001b[36m(ClientAppActor pid=46651)\u001b[0m [Client 4] evaluate, config: {}\n"
     ]
    },
    {
     "name": "stderr",
     "output_type": "stream",
     "text": [
      "\u001b[92mINFO \u001b[0m:      aggregate_evaluate: received 6 results and 0 failures\n",
      "\u001b[92mINFO \u001b[0m:      \n",
      "\u001b[92mINFO \u001b[0m:      [ROUND 22]\n",
      "\u001b[92mINFO \u001b[0m:      configure_fit: strategy sampled 6 clients (out of 6)\n",
      "\u001b[36m(ClientAppActor pid=46652)\u001b[0m /Users/macbook/Desktop/L361/L361_Project/.conda/lib/python3.12/site-packages/datasets/utils/_dill.py:385: DeprecationWarning: co_lnotab is deprecated, use co_lines instead.\u001b[32m [repeated 6x across cluster]\u001b[0m\n",
      "\u001b[36m(ClientAppActor pid=46652)\u001b[0m   obj.co_lnotab,  # for < python 3.10 [not counted in args]\u001b[32m [repeated 6x across cluster]\u001b[0m\n"
     ]
    },
    {
     "name": "stdout",
     "output_type": "stream",
     "text": [
      "\u001b[36m(ClientAppActor pid=46652)\u001b[0m [Client 5] fit, config: {'proximal_mu': 0.1}\n",
      "\u001b[36m(ClientAppActor pid=46654)\u001b[0m [Client 2] evaluate, config: {}\u001b[32m [repeated 5x across cluster]\u001b[0m\n",
      "\u001b[36m(ClientAppActor pid=46651)\u001b[0m Epoch 1: train loss 0.009495355188846588, accuracy 0.9002438483706495\n",
      "\u001b[36m(ClientAppActor pid=46653)\u001b[0m [Client 2] fit, config: {'proximal_mu': 0.1}\u001b[32m [repeated 5x across cluster]\u001b[0m\n",
      "\u001b[36m(ClientAppActor pid=46655)\u001b[0m Epoch 1: train loss 0.004768110811710358, accuracy 0.9529964747356052\u001b[32m [repeated 2x across cluster]\u001b[0m\n",
      "\u001b[36m(ClientAppActor pid=46654)\u001b[0m Epoch 1: train loss 0.0046246955171227455, accuracy 0.958021712907117\u001b[32m [repeated 2x across cluster]\u001b[0m\n",
      "\u001b[36m(ClientAppActor pid=46651)\u001b[0m Epoch 2: train loss 0.0038845280651003122, accuracy 0.9647528264242962\u001b[32m [repeated 2x across cluster]\u001b[0m\n",
      "\u001b[36m(ClientAppActor pid=46652)\u001b[0m Epoch 2: train loss 0.001900908537209034, accuracy 0.9817323481116584\n",
      "\u001b[36m(ClientAppActor pid=46651)\u001b[0m Epoch 3: train loss 0.002719589974731207, accuracy 0.9745067612502771\n",
      "\u001b[36m(ClientAppActor pid=46653)\u001b[0m Epoch 2: train loss 0.0008441151003353298, accuracy 0.991360997025917\u001b[32m [repeated 2x across cluster]\u001b[0m\n",
      "\u001b[36m(ClientAppActor pid=46654)\u001b[0m Epoch 2: train loss 0.0035986171569675207, accuracy 0.9669481302774428\u001b[32m [repeated 2x across cluster]\u001b[0m\n",
      "\u001b[36m(ClientAppActor pid=46651)\u001b[0m Epoch 4: train loss 0.0024006797466427088, accuracy 0.9787186876524052\u001b[32m [repeated 2x across cluster]\u001b[0m\n",
      "\u001b[36m(ClientAppActor pid=46652)\u001b[0m Epoch 4: train loss 0.0008187516941688955, accuracy 0.992816091954023\n",
      "\u001b[36m(ClientAppActor pid=46655)\u001b[0m Epoch 3: train loss 0.008479916490614414, accuracy 0.9524089306698003\n",
      "\u001b[36m(ClientAppActor pid=46653)\u001b[0m Epoch 3: train loss 0.00035871536238119006, accuracy 0.9966010480101969\n",
      "\u001b[36m(ClientAppActor pid=46651)\u001b[0m Epoch 5: train loss 0.0019350855145603418, accuracy 0.9813788516958546\n",
      "\u001b[36m(ClientAppActor pid=46652)\u001b[0m Epoch 5: train loss 0.00042371454765088856, accuracy 0.9946633825944171\n",
      "\u001b[36m(ClientAppActor pid=46654)\u001b[0m Epoch 3: train loss 0.0964738205075264, accuracy 0.6896260554885404\n",
      "\u001b[36m(ClientAppActor pid=46650)\u001b[0m Epoch 3: train loss 0.0023255811538547277, accuracy 0.9804872280037843\n",
      "\u001b[36m(ClientAppActor pid=46651)\u001b[0m Epoch 6: train loss 0.0037959797773510218, accuracy 0.9691864331633784\n",
      "\u001b[36m(ClientAppActor pid=46653)\u001b[0m Epoch 4: train loss 0.009885578416287899, accuracy 0.9640277581079167\u001b[32m [repeated 2x across cluster]\u001b[0m\n",
      "\u001b[36m(ClientAppActor pid=46652)\u001b[0m Epoch 6: train loss 0.0010984783293679357, accuracy 0.9901477832512315\n",
      "\u001b[36m(ClientAppActor pid=46651)\u001b[0m Epoch 7: train loss 0.005277138669043779, accuracy 0.9510086455331412\n",
      "\u001b[36m(ClientAppActor pid=46654)\u001b[0m Epoch 4: train loss 0.017907600849866867, accuracy 0.7922798552472858\n",
      "\u001b[36m(ClientAppActor pid=46650)\u001b[0m Epoch 4: train loss 0.0011743507348001003, accuracy 0.9900662251655629\n",
      "\u001b[36m(ClientAppActor pid=46653)\u001b[0m Epoch 5: train loss 0.002152354922145605, accuracy 0.978331681065005\u001b[32m [repeated 3x across cluster]\u001b[0m\n",
      "\u001b[36m(ClientAppActor pid=46651)\u001b[0m Epoch 8: train loss 0.0007577537326142192, accuracy 0.9953447129239636\n",
      "\u001b[36m(ClientAppActor pid=46652)\u001b[0m Epoch 8: train loss 0.0003351520572323352, accuracy 0.9967159277504105\n",
      "\u001b[36m(ClientAppActor pid=46655)\u001b[0m Epoch 6: train loss 0.0033255615271627903, accuracy 0.9650411280846063\n",
      "\u001b[36m(ClientAppActor pid=46654)\u001b[0m Epoch 5: train loss 0.010694178752601147, accuracy 0.8769601930036188\n",
      "\u001b[36m(ClientAppActor pid=46650)\u001b[0m Epoch 5: train loss 0.0007323099998757243, accuracy 0.9944418164616841\n",
      "\u001b[36m(ClientAppActor pid=46653)\u001b[0m Epoch 6: train loss 0.0005814301548525691, accuracy 0.9944767030165699\n"
     ]
    }
   ],
   "source": [
    "net = Net().to(DEVICE)\n",
    "\n",
    "_, _, testloader = load_datasets(0, NUM_PARTITIONS)\n",
    "\n",
    "evaluate_fn = get_evaluate_fn(testloader, net)\n",
    "\n",
    "\n",
    "def server_fn(context: Context) -> ServerAppComponents:\n",
    "    # Configure the server for just 3 rounds of training\n",
    "    config = ServerConfig(num_rounds=NUM_OF_ROUNDS)\n",
    "    return ServerAppComponents(\n",
    "        config=config,\n",
    "        strategy=ModifiedFedProx(proximal_mu=0.1, evaluate_fn=evaluate_fn),\n",
    "    )\n",
    "\n",
    "server = ServerApp(server_fn=server_fn)\n",
    "\n",
    "# Run simulation\n",
    "run_simulation(\n",
    "    server_app=server,\n",
    "    client_app=client,\n",
    "    num_supernodes=NUM_PARTITIONS,\n",
    "    backend_config=backend_config,\n",
    ")"
   ]
  },
  {
   "cell_type": "code",
   "execution_count": null,
   "metadata": {},
   "outputs": [],
   "source": [
    "with open(f'results/fed_prox_data_heterogenity_result.p', 'wb') as file:\n",
    "    pickle.dump(fed_prox_result, file)\n",
    "\n",
    "with open(f'results/fed_prox_model_data_heterogenity_results.p', 'wb') as file:\n",
    "    pickle.dump(fed_prox_model_results, file)"
   ]
  },
  {
   "cell_type": "code",
   "execution_count": null,
   "metadata": {},
   "outputs": [],
   "source": [
    "fed_prox_rounds = list(fed_prox_result.keys())\n",
    "fed_prox_sizes = [fed_prox_result[round][\"total_size\"] for round in fed_prox_rounds]\n",
    "\n",
    "# plt.figure(figsize=(10, 5))\n",
    "# plt.plot(fed_prox_rounds, fed_prox_sizes, marker='o', linestyle='-', color='b', label='FedProx')\n",
    "# plt.plot(fed_part_avg_rounds, fed_part_avg_sizes, marker='o', linestyle='-', color='r', label='FedPartAvg')\n",
    "# plt.plot(fed_avg_rounds, fed_avg_sizes, marker='o', linestyle='-', color='g', label='FedAvg')\n",
    "# plt.xlabel('Round')\n",
    "# plt.ylabel('Total Size of Parameters (bytes)')\n",
    "# plt.title('Total Size of Parameters for Each Round')\n",
    "# plt.legend()\n",
    "# plt.grid(True)\n",
    "\n",
    "# fed_prox_losses = [fed_prox_result[round][\"total_loss\"] for round in fed_prox_rounds]\n",
    "\n",
    "# plt.figure(figsize=(10, 5))\n",
    "# plt.plot(fed_prox_rounds, fed_prox_losses, marker='o', linestyle='-', color='b', label='FedProx')\n",
    "# plt.plot(fed_part_avg_rounds, fed_part_avg_losses, marker='o', linestyle='-', color='r', label='FedPartAvg')\n",
    "# plt.plot(fed_avg_rounds, fed_avg_losses, marker='o', linestyle='-', color='g', label='FedAvg')\n",
    "# plt.xlabel('Round')\n",
    "# plt.ylabel('Total Loss')\n",
    "# plt.title('Total Loss for Each Round')\n",
    "# plt.legend()\n",
    "# plt.grid(True)\n",
    "\n",
    "\n",
    "# fed_prox_model_rounds = list(fed_prox_model_results.keys())\n",
    "# fed_prox_accuracies = [fed_prox_model_results[round][\"global_metrics\"][\"accuracy\"] for round in fed_prox_model_rounds]\n",
    "\n",
    "# plt.figure(figsize=(10, 5))\n",
    "# # plt.plot(fed_part_prox_model_rounds, fed_part_prox_accuracies, marker='o', linestyle='-', color='b', label='FedPartProx')\n",
    "# plt.plot(fed_part_avg_model_rounds, fed_part_avg_accuracies, marker='o', linestyle='-', color='r', label='FedPartAvg')\n",
    "# plt.plot(fed_avg_model_rounds, fed_avg_accuracies, marker='o', linestyle='-', color='g', label='FedAvg')\n",
    "# plt.xlabel('Round')\n",
    "# plt.ylabel('Accuracy')\n",
    "# plt.title('Accuracy for Each Round')\n",
    "# plt.legend()\n",
    "# plt.grid(True)\n",
    "\n",
    "# fed_prox_global_losses = [fed_prox_model_results[round][\"global_loss\"] for round in fed_prox_model_rounds]\n",
    "\n",
    "# plt.figure(figsize=(10, 5))\n",
    "# # plt.plot(fed_part_prox_model_rounds, fed_part_prox_global_losses, marker='o', linestyle='-', color='b', label='FedPartProx')\n",
    "# plt.plot(fed_part_avg_model_rounds, fed_part_avg_global_losses, marker='o', linestyle='-', color='r', label='FedPartAvg')   \n",
    "# plt.plot(fed_avg_model_rounds, fed_avg_global_losses, marker='o', linestyle='-', color='g', label='FedAvg')\n",
    "# plt.xlabel('Round')\n",
    "# plt.ylabel('Loss')\n",
    "# plt.title('Loss for Each Round')\n",
    "# plt.legend()\n",
    "# plt.grid(True)\n"
   ]
  },
  {
   "cell_type": "markdown",
   "metadata": {},
   "source": [
    "# FedMoon experiments:"
   ]
  },
  {
   "cell_type": "code",
   "execution_count": null,
   "metadata": {},
   "outputs": [],
   "source": [
    "class FedMoonNoFreezeFlowerClient(NumPyClient):\n",
    "    def __init__(self, partition_id, net, trainloader, valloader):\n",
    "        self.partition_id = partition_id\n",
    "        self.net = net\n",
    "        self.trainloader = trainloader\n",
    "        self.valloader = valloader\n",
    "        self.model_dir = \"models\"\n",
    "\n",
    "    def get_parameters(self, config):\n",
    "        print(f\"[Client {self.partition_id}] get_parameters\")\n",
    "        parameters = get_parameters(self.net)\n",
    "        trainable_layer = config[\"trainable_layers\"]\n",
    "        self._save_model_state()\n",
    "        \n",
    "        if trainable_layer == -1:\n",
    "            return parameters\n",
    "        \n",
    "        trained_layer = [parameters[trainable_layer*2], parameters[trainable_layer*2 +1]]\n",
    "        return trained_layer\n",
    "\n",
    "    def fit(self, parameters, config):\n",
    "        print(f\"[Client {self.partition_id}] fit, config: {config}\")\n",
    "\n",
    "        # load previous model\n",
    "        if not os.path.exists(os.path.join(self.model_dir, str(self.partition_id))):\n",
    "            prev_model = copy.deepcopy(self.net)\n",
    "        else:\n",
    "            # initialise and load params from model_dir\n",
    "            prev_model = type(self.net)() \n",
    "            prev_model.load_state_dict(\n",
    "                torch.load(\n",
    "                    os.path.join(self.model_dir, str(self.partition_id), \"prev_net.pt\")\n",
    "                )\n",
    "            )\n",
    "\n",
    "        # update params for current model (loading global params)\n",
    "        set_parameters(self.net, parameters)\n",
    "\n",
    "        # create global model (same params that were just loaded)\n",
    "        global_model = type(self.net)()\n",
    "        global_model.load_state_dict(self.net.state_dict())\n",
    "        global_model.to(DEVICE)\n",
    "        \n",
    "        train_moon(self.net, self.trainloader, global_model, prev_model, EPOCHS, 5, 0.5)\n",
    "\n",
    "        # save current model \n",
    "        if not os.path.exists(os.path.join(self.model_dir, str(self.partition_id))):\n",
    "            os.makedirs(os.path.join(self.model_dir, str(self.partition_id)))\n",
    "        torch.save(\n",
    "            self.net.state_dict(),\n",
    "            os.path.join(self.model_dir, str(self.partition_id), \"prev_net.pt\"),\n",
    "        )\n",
    "\n",
    "        return get_parameters(self.net), len(self.trainloader), {}\n",
    "\n",
    "\n",
    "    def evaluate(self, parameters, config):\n",
    "        print(f\"[Client {self.partition_id}] evaluate, config: {config}\")\n",
    "        set_parameters(self.net, parameters)\n",
    "        loss, accuracy = test_moon(self.net, self.valloader)\n",
    "        return float(loss), len(self.valloader), {\"accuracy\": float(accuracy)}\n",
    "\n",
    "\n",
    "def client_fn(context: Context) -> Client:\n",
    "    net = MoonNet().to(DEVICE)\n",
    "    partition_id = context.node_config[\"partition-id\"]\n",
    "    num_partitions = context.node_config[\"num-partitions\"]\n",
    "    trainloader, valloader, _ = load_datasets(partition_id, num_partitions)\n",
    "    return FedMoonNoFreezeFlowerClient(partition_id, net, trainloader, valloader).to_client()\n",
    "\n",
    "\n",
    "# Create the ClientApp\n",
    "client = ClientApp(client_fn=client_fn)\n"
   ]
  },
  {
   "cell_type": "code",
   "execution_count": 42,
   "metadata": {},
   "outputs": [],
   "source": [
    "from typing import Union\n",
    "import sys\n",
    "\n",
    "from flwr.common import (\n",
    "    EvaluateIns,\n",
    "    EvaluateRes,\n",
    "    FitIns,\n",
    "    FitRes,\n",
    "    Parameters,\n",
    "    Scalar,\n",
    "    ndarrays_to_parameters,\n",
    "    parameters_to_ndarrays,\n",
    ")\n",
    "from flwr.server.client_manager import ClientManager\n",
    "from flwr.server.client_proxy import ClientProxy\n",
    "from flwr.server.strategy.aggregate import aggregate, weighted_loss_avg\n",
    "\n",
    "def get_parameters_size(params: Parameters) -> int:\n",
    "    size = sys.getsizeof(params)  # Base size of the dataclass instance\n",
    "    size += sys.getsizeof(params.tensor_type)  # Size of the string\n",
    "    size += sys.getsizeof(params.tensors)  # Size of the list container\n",
    "    size += sum(sys.getsizeof(tensor) for tensor in params.tensors)  # Size of each bytes object\n",
    "    return size\n",
    "\n",
    "fed_moon_no_freeze_result = {}\n",
    "fed_moon_model_no_freeze_results = {}\n",
    "\n",
    "# basically same as normal FedAvg, just added freezing and modified result dict names\n",
    "class FedMoonNoFreeze(Strategy):\n",
    "    def __init__(\n",
    "        self,\n",
    "        fraction_fit: float = 1.0,\n",
    "        fraction_evaluate: float = 1.0,\n",
    "        min_fit_clients: int = 2,\n",
    "        min_evaluate_clients: int = 2,\n",
    "        min_available_clients: int = 2,\n",
    "        evaluate_fn: Optional[\n",
    "            Callable[\n",
    "                [int, NDArrays, dict[str, Scalar]],\n",
    "                Optional[tuple[float, dict[str, Scalar]]],\n",
    "            ]\n",
    "        ] = None,\n",
    "        on_fit_config_fn: Optional[Callable[[int], dict[str, Scalar]]] = None,\n",
    "        on_evaluate_config_fn: Optional[Callable[[int], dict[str, Scalar]]] = None,\n",
    "        accept_failures: bool = True,\n",
    "        initial_parameters: Optional[Parameters] = None,\n",
    "        fit_metrics_aggregation_fn: Optional[MetricsAggregationFn] = None,\n",
    "        evaluate_metrics_aggregation_fn: Optional[MetricsAggregationFn] = None,\n",
    "        inplace: bool = True,\n",
    "        layer_update_strategy: str = \"sequential\",\n",
    "        \n",
    "    ) -> None:\n",
    "        super().__init__()\n",
    "        self.fraction_fit = fraction_fit\n",
    "        self.fraction_evaluate = fraction_evaluate\n",
    "        self.min_fit_clients = min_fit_clients\n",
    "        self.min_evaluate_clients = min_evaluate_clients\n",
    "        self.min_available_clients = min_available_clients\n",
    "        self.evaluate_fn = evaluate_fn\n",
    "        self.on_fit_config_fn = on_fit_config_fn\n",
    "        self.on_evaluate_config_fn = on_evaluate_config_fn\n",
    "        self.accept_failures = accept_failures\n",
    "        self.initial_parameters = initial_parameters\n",
    "        self.fit_metrics_aggregation_fn = fit_metrics_aggregation_fn\n",
    "        self.evaluate_metrics_aggregation_fn = evaluate_metrics_aggregation_fn\n",
    "        self.inplace = inplace\n",
    "        self.layer_training_sequence = []\n",
    "        self.training_sequence_index = 0\n",
    "        self.latest_parameters = initial_parameters\n",
    "\n",
    "\n",
    "    def __repr__(self) -> str:\n",
    "        return \"FedMoon\"\n",
    "    \n",
    "    def num_fit_clients(self, num_available_clients: int) -> Tuple[int, int]:\n",
    "        \"\"\"Return sample size and required number of clients.\"\"\"\n",
    "        num_clients = int(num_available_clients * self.fraction_fit)\n",
    "        return max(num_clients, self.min_fit_clients), self.min_available_clients\n",
    "\n",
    "    def num_evaluation_clients(self, num_available_clients: int) -> Tuple[int, int]:\n",
    "        \"\"\"Use a fraction of available clients for evaluation.\"\"\"\n",
    "        num_clients = int(num_available_clients * self.fraction_evaluate)\n",
    "        return max(num_clients, self.min_evaluate_clients), self.min_available_clients\n",
    "   \n",
    "    def initialize_parameters(\n",
    "        self, client_manager: ClientManager\n",
    "    ) -> Optional[Parameters]:\n",
    "        \"\"\"Initialize global model parameters.\"\"\"\n",
    "        net = Net()\n",
    "        ndarrays = get_parameters(net)\n",
    "        return ndarrays_to_parameters(ndarrays)\n",
    "\n",
    "    def evaluate(\n",
    "        self, server_round: int, parameters: Parameters\n",
    "    ) -> Optional[tuple[float, dict[str, Scalar]]]:\n",
    "        \"\"\"Evaluate model parameters using an evaluation function.\"\"\"\n",
    "        if self.evaluate_fn is None:\n",
    "            # No evaluation function provided\n",
    "            return None\n",
    "        parameters_ndarrays = parameters_to_ndarrays(parameters)\n",
    "        eval_res = self.evaluate_fn(server_round, parameters_ndarrays, {})\n",
    "        if eval_res is None:\n",
    "            return None\n",
    "        loss, metrics = eval_res\n",
    "\n",
    "        if server_round in fed_moon_model_no_freeze_results:\n",
    "            expand_fed_moon_no_freeze_result= {**fed_moon_model_no_freeze_results[server_round], \"global_loss\": loss, \"global_metrics\": metrics}\n",
    "        else:\n",
    "            expand_fed_moon_no_freeze_result= {\"global_loss\": loss, \"global_metrics\": metrics}\n",
    "\n",
    "        fed_moon_model_no_freeze_results[server_round] = expand_fed_moon_no_freeze_result\n",
    "\n",
    "        return loss, metrics\n",
    "\n",
    "\n",
    "    def configure_fit(\n",
    "        # includes layer freezing\n",
    "        self, server_round: int, parameters: Parameters, client_manager: ClientManager\n",
    "    ) -> List[Tuple[ClientProxy, FitIns]]:\n",
    "        \"\"\"Configure the next round of training.\"\"\"\n",
    "        config = {}\n",
    "        \n",
    "        sample_size, min_num_clients = self.num_fit_clients(\n",
    "            client_manager.num_available()\n",
    "        )\n",
    "        clients = client_manager.sample(\n",
    "            num_clients=sample_size, min_num_clients=min_num_clients\n",
    "        )\n",
    "        \n",
    "        fit_configurations = []\n",
    "        for idx, client in enumerate(clients):\n",
    "            fit_configurations.append((client, FitIns(parameters, config)))\n",
    "\n",
    "        self.training_sequence_index = self.training_sequence_index + 1\n",
    "        \n",
    "        return fit_configurations\n",
    "    \n",
    "    def configure_evaluate(\n",
    "        self, server_round: int, parameters: Parameters, client_manager: ClientManager\n",
    "    ) -> List[Tuple[ClientProxy, EvaluateIns]]:\n",
    "        \"\"\"Configure the next round of evaluation.\"\"\"\n",
    "        if self.fraction_evaluate == 0.0:\n",
    "            return []\n",
    "        config = {}\n",
    "        evaluate_ins = EvaluateIns(parameters, config)\n",
    "\n",
    "        # Sample clients\n",
    "        sample_size, min_num_clients = self.num_evaluation_clients(\n",
    "            client_manager.num_available()\n",
    "        )\n",
    "        clients = client_manager.sample(\n",
    "            num_clients=sample_size, min_num_clients=min_num_clients\n",
    "        )\n",
    "\n",
    "        # Return client/config pairs\n",
    "        return [(client, evaluate_ins) for client in clients]\n",
    "\n",
    "\n",
    "    def aggregate_fit(\n",
    "        self,\n",
    "        server_round: int,\n",
    "        results: List[Tuple[ClientProxy, FitRes]],\n",
    "        failures: List[Union[Tuple[ClientProxy, FitRes], BaseException]],\n",
    "    ) -> Tuple[Optional[Parameters], Dict[str, Scalar]]:\n",
    "        \"\"\"Aggregate fit results using weighted average.\"\"\"\n",
    "\n",
    "        # get size of parameters in bytes\n",
    "        total_size = 0\n",
    "        for client, fit_res in results:\n",
    "            total_size += get_parameters_size(fit_res.parameters) * 2\n",
    "        \n",
    "        if server_round in fed_moon_no_freeze_result:\n",
    "            expand_fed_moon_no_freeze_result= {**fed_moon_no_freeze_result[server_round], \"total_size\": total_size}\n",
    "        else:\n",
    "            expand_fed_moon_no_freeze_result= {\"total_size\": total_size}\n",
    "\n",
    "        fed_moon_no_freeze_result[server_round] = expand_fed_moon_no_freeze_result\n",
    "\n",
    "        weights_results = [\n",
    "            (parameters_to_ndarrays(fit_res.parameters), fit_res.num_examples)\n",
    "            for _, fit_res in results\n",
    "        ]\n",
    "        \n",
    "        aggregated_weights = aggregate(weights_results)\n",
    "        \n",
    "        self.latest_parameters = ndarrays_to_parameters(aggregated_weights)\n",
    "\n",
    "        metrics_aggregated = {}\n",
    "        return self.latest_parameters, metrics_aggregated\n",
    "\n",
    "    \n",
    "\n",
    "    def aggregate_evaluate(\n",
    "        self,\n",
    "        server_round: int,\n",
    "        results: List[Tuple[ClientProxy, EvaluateRes]],\n",
    "        failures: List[Union[Tuple[ClientProxy, EvaluateRes], BaseException]],\n",
    "    ) -> Tuple[Optional[float], Dict[str, Scalar]]:\n",
    "        \"\"\"Aggregate evaluation losses using weighted average.\"\"\"\n",
    "\n",
    "        if not results:\n",
    "            return None, {}\n",
    "\n",
    "        total_loss = 0\n",
    "        for _, evaluate_res in results:\n",
    "            total_loss += evaluate_res.loss \n",
    "\n",
    "\n",
    "        if server_round in fed_moon_no_freeze_result:\n",
    "            expand_fed_moon_no_freeze_result= {**fed_moon_no_freeze_result[server_round], \"total_loss\": total_loss}\n",
    "        else:\n",
    "            expand_fed_moon_no_freeze_result= {\"total_loss\": total_loss}\n",
    "\n",
    "        fed_moon_no_freeze_result[server_round] = expand_fed_moon_no_freeze_result\n",
    "\n",
    "        loss_aggregated = weighted_loss_avg(\n",
    "            [\n",
    "                (evaluate_res.num_examples, evaluate_res.loss)\n",
    "                for _, evaluate_res in results\n",
    "            ]\n",
    "        )\n",
    "        metrics_aggregated = {}\n",
    "        return loss_aggregated, metrics_aggregated"
   ]
  },
  {
   "cell_type": "code",
   "execution_count": null,
   "metadata": {},
   "outputs": [],
   "source": [
    "# Train FedMOON\n",
    "\n",
    "\n",
    "_, _, testloader = load_datasets(0, NUM_PARTITIONS)\n",
    "net = MoonNet().to(DEVICE)\n",
    "evaluate_fn = get_evaluate_fn_moon(testloader, net)\n",
    "\n",
    "def server_fn(context: Context) -> ServerAppComponents:\n",
    "    # Configure the server for just 3 rounds of training\n",
    "    config = ServerConfig(num_rounds=NUM_OF_ROUNDS)\n",
    "    return ServerAppComponents(\n",
    "        config=config,\n",
    "        strategy=FedMoonNoFreeze(\n",
    "            evaluate_fn=evaluate_fn\n",
    "        )\n",
    "    )\n",
    "\n",
    "server = ServerApp(server_fn=server_fn)\n",
    "\n",
    "# Run simulation\n",
    "run_simulation(\n",
    "    server_app=server,\n",
    "    client_app=client,\n",
    "    num_supernodes=NUM_PARTITIONS,\n",
    "    backend_config=backend_config,\n",
    ")"
   ]
  },
  {
   "cell_type": "code",
   "execution_count": null,
   "metadata": {},
   "outputs": [],
   "source": [
    "with open(f'results/fed_moon_no_freeze_data_heterogenity_result.p', 'wb') as file:\n",
    "    pickle.dump(fed_moon_no_freeze_result, file)\n",
    "\n",
    "with open(f'results/fed_moon_model_no_freeze_data_heterogenity_results.p', 'wb') as file:\n",
    "    pickle.dump(fed_moon_model_no_freeze_results, file)"
   ]
  },
  {
   "cell_type": "code",
   "execution_count": null,
   "metadata": {},
   "outputs": [],
   "source": [
    "# fed_moon_rounds = list(fed_moon_no_freeze_result.keys())\n",
    "# fed_moon_sizes = [fed_moon_no_freeze_result[round][\"total_size\"] for round in fed_moon_rounds]\n",
    "\n",
    "# plt.figure(figsize=(10, 5))\n",
    "# plt.plot(fed_avg_rounds, fed_avg_sizes, marker='o', linestyle='-', color='b', label='FedAvg')\n",
    "# plt.plot(fed_part_avg_rounds, fed_part_avg_sizes, marker='o', linestyle='-', color='r', label='FedPartAvg')\n",
    "# plt.plot(fed_prox_rounds, fed_prox_sizes, marker='o', linestyle='-', color='g', label='FedProx')\n",
    "# plt.plot(fed_part_prox_rounds, fed_part_prox_sizes, marker='o', linestyle='-', color='y', label='FedPartProx')\n",
    "# plt.plot(fed_moon_rounds, fed_moon_sizes, marker='o', linestyle='-', color='c', label='FedMoon')\n",
    "# plt.plot(fed_part_moon_rounds, fed_part_moon_sizes, marker='o', linestyle='-', color='purple', label='FedPartMoon')\n",
    "# plt.xlabel('Round')\n",
    "# plt.ylabel('Communication Cost (bytes)')\n",
    "# plt.title('Communication Cost for Each Round')\n",
    "# plt.legend()\n",
    "# plt.grid(True)\n",
    "\n",
    "# fed_moon_losses = [fed_moon_no_freeze_result[round][\"total_loss\"] for round in fed_moon_rounds]\n",
    "\n",
    "# plt.figure(figsize=(10, 5))\n",
    "# plt.plot(fed_avg_rounds, fed_avg_losses, marker='o', linestyle='-', color='b', label='FedAvg')\n",
    "# plt.plot(fed_part_avg_rounds, fed_part_avg_losses, marker='o', linestyle='-', color='r', label='FedPartAvg')\n",
    "# plt.plot(fed_prox_rounds, fed_prox_losses, marker='o', linestyle='-', color='g', label='FedProx')\n",
    "# plt.plot(fed_part_prox_rounds, fed_part_prox_losses, marker='o', linestyle='-', color='y', label='FedPartProx')\n",
    "# plt.plot(fed_moon_rounds, fed_moon_losses, marker='o', linestyle='-', color='c', label='FedMoon')\n",
    "# plt.plot(fed_part_moon_rounds, fed_part_moon_losses, marker='o', linestyle='-', color='purple', label='FedPartMoon')\n",
    "\n",
    "# plt.xlabel('Round')\n",
    "# plt.ylabel('Loss')\n",
    "# plt.title('Aggregate Client Loss for Each Round')\n",
    "# plt.legend()\n",
    "# plt.grid(True)\n",
    "\n",
    "# fed_moon_model_rounds = list(fed_moon_model_no_freeze_results.keys())\n",
    "# fed_moon_accuracies = [fed_moon_model_no_freeze_results[round][\"global_metrics\"][\"accuracy\"] for round in fed_moon_model_rounds]\n",
    "\n",
    "# plt.figure(figsize=(10, 5))\n",
    "# plt.plot(fed_avg_model_rounds, fed_avg_accuracies, marker='o', linestyle='-', color='b', label='FedAvg')\n",
    "# plt.plot(fed_part_avg_model_rounds, fed_part_avg_accuracies, marker='o', linestyle='-', color='r', label='FedPartAvg')\n",
    "# plt.plot(fed_prox_model_rounds, fed_prox_accuracies, marker='o', linestyle='-', color='g', label='FedProx')\n",
    "# plt.plot(fed_part_prox_model_rounds, fed_part_prox_accuracies, marker='o', linestyle='-', color='y', label='FedPartProx')\n",
    "# plt.plot(fed_moon_model_rounds, fed_moon_accuracies, marker='o', linestyle='-', color='c', label='FedMoon')\n",
    "# plt.plot(fed_part_moon_model_rounds, fed_part_moon_accuracies, marker='o', linestyle='-', color='purple', label='FedPartMoon')\n",
    "# plt.xlabel('Round')\n",
    "# plt.ylabel('Accuracy')\n",
    "# plt.title('Global Model Accuracy for Each Round')\n",
    "# plt.legend()\n",
    "# plt.grid(True)\n",
    "\n",
    "# fed_moon_global_losses = [fed_moon_model_no_freeze_results[round][\"global_loss\"] for round in fed_moon_model_rounds]\n",
    "\n",
    "# plt.figure(figsize=(10, 5))\n",
    "# plt.plot(fed_avg_model_rounds, fed_avg_global_losses, marker='o', linestyle='-', color='b', label='FedAvg')\n",
    "# plt.plot(fed_part_avg_model_rounds, fed_part_avg_global_losses, marker='o', linestyle='-', color='r', label='FedPartAvg')\n",
    "# plt.plot(fed_prox_model_rounds, fed_prox_global_losses, marker='o', linestyle='-', color='g', label='FedProx')\n",
    "# plt.plot(fed_part_prox_model_rounds, fed_part_prox_global_losses, marker='o', linestyle='-', color='y', label='FedPartProx')\n",
    "# plt.plot(fed_moon_model_rounds, fed_moon_global_losses, marker='o', linestyle='-', color='c', label='FedMoon')\n",
    "# plt.plot(fed_part_moon_model_rounds, fed_part_moon_global_losses, marker='o', linestyle='-', color='purple', label='FedPartMoon')\n",
    "# plt.xlabel('Round')\n",
    "# plt.ylabel('Loss')\n",
    "# plt.title('Global Model Loss for Each Round')\n",
    "# plt.legend()\n",
    "# plt.grid(True)\n"
   ]
  }
 ],
 "metadata": {
  "kernelspec": {
   "display_name": "Python 3",
   "language": "python",
   "name": "python3"
  },
  "language_info": {
   "codemirror_mode": {
    "name": "ipython",
    "version": 3
   },
   "file_extension": ".py",
   "mimetype": "text/x-python",
   "name": "python",
   "nbconvert_exporter": "python",
   "pygments_lexer": "ipython3",
   "version": "3.12.9"
  }
 },
 "nbformat": 4,
 "nbformat_minor": 2
}
