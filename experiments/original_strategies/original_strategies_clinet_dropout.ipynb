{
 "cells": [
  {
   "cell_type": "code",
   "execution_count": 1,
   "metadata": {},
   "outputs": [
    {
     "name": "stdout",
     "output_type": "stream",
     "text": [
      "Requirement already satisfied: ipywidgets in /Users/macbook/Desktop/L361/L361_Project/.conda/lib/python3.12/site-packages (8.1.5)\n",
      "Requirement already satisfied: comm>=0.1.3 in /Users/macbook/Desktop/L361/L361_Project/.conda/lib/python3.12/site-packages (from ipywidgets) (0.2.2)\n",
      "Requirement already satisfied: ipython>=6.1.0 in /Users/macbook/Desktop/L361/L361_Project/.conda/lib/python3.12/site-packages (from ipywidgets) (8.32.0)\n",
      "Requirement already satisfied: traitlets>=4.3.1 in /Users/macbook/Desktop/L361/L361_Project/.conda/lib/python3.12/site-packages (from ipywidgets) (5.14.3)\n",
      "Requirement already satisfied: widgetsnbextension~=4.0.12 in /Users/macbook/Desktop/L361/L361_Project/.conda/lib/python3.12/site-packages (from ipywidgets) (4.0.13)\n",
      "Requirement already satisfied: jupyterlab-widgets~=3.0.12 in /Users/macbook/Desktop/L361/L361_Project/.conda/lib/python3.12/site-packages (from ipywidgets) (3.0.13)\n",
      "Requirement already satisfied: decorator in /Users/macbook/Desktop/L361/L361_Project/.conda/lib/python3.12/site-packages (from ipython>=6.1.0->ipywidgets) (5.2.0)\n",
      "Requirement already satisfied: jedi>=0.16 in /Users/macbook/Desktop/L361/L361_Project/.conda/lib/python3.12/site-packages (from ipython>=6.1.0->ipywidgets) (0.19.2)\n",
      "Requirement already satisfied: matplotlib-inline in /Users/macbook/Desktop/L361/L361_Project/.conda/lib/python3.12/site-packages (from ipython>=6.1.0->ipywidgets) (0.1.7)\n",
      "Requirement already satisfied: pexpect>4.3 in /Users/macbook/Desktop/L361/L361_Project/.conda/lib/python3.12/site-packages (from ipython>=6.1.0->ipywidgets) (4.9.0)\n",
      "Requirement already satisfied: prompt_toolkit<3.1.0,>=3.0.41 in /Users/macbook/Desktop/L361/L361_Project/.conda/lib/python3.12/site-packages (from ipython>=6.1.0->ipywidgets) (3.0.50)\n",
      "Requirement already satisfied: pygments>=2.4.0 in /Users/macbook/Desktop/L361/L361_Project/.conda/lib/python3.12/site-packages (from ipython>=6.1.0->ipywidgets) (2.19.1)\n",
      "Requirement already satisfied: stack_data in /Users/macbook/Desktop/L361/L361_Project/.conda/lib/python3.12/site-packages (from ipython>=6.1.0->ipywidgets) (0.6.3)\n",
      "Requirement already satisfied: parso<0.9.0,>=0.8.4 in /Users/macbook/Desktop/L361/L361_Project/.conda/lib/python3.12/site-packages (from jedi>=0.16->ipython>=6.1.0->ipywidgets) (0.8.4)\n",
      "Requirement already satisfied: ptyprocess>=0.5 in /Users/macbook/Desktop/L361/L361_Project/.conda/lib/python3.12/site-packages (from pexpect>4.3->ipython>=6.1.0->ipywidgets) (0.7.0)\n",
      "Requirement already satisfied: wcwidth in /Users/macbook/Desktop/L361/L361_Project/.conda/lib/python3.12/site-packages (from prompt_toolkit<3.1.0,>=3.0.41->ipython>=6.1.0->ipywidgets) (0.2.13)\n",
      "Requirement already satisfied: executing>=1.2.0 in /Users/macbook/Desktop/L361/L361_Project/.conda/lib/python3.12/site-packages (from stack_data->ipython>=6.1.0->ipywidgets) (2.1.0)\n",
      "Requirement already satisfied: asttokens>=2.1.0 in /Users/macbook/Desktop/L361/L361_Project/.conda/lib/python3.12/site-packages (from stack_data->ipython>=6.1.0->ipywidgets) (3.0.0)\n",
      "Requirement already satisfied: pure_eval in /Users/macbook/Desktop/L361/L361_Project/.conda/lib/python3.12/site-packages (from stack_data->ipython>=6.1.0->ipywidgets) (0.2.3)\n",
      "Requirement already satisfied: numpy==1.26.4 in /Users/macbook/Desktop/L361/L361_Project/.conda/lib/python3.12/site-packages (1.26.4)\n",
      "Requirement already satisfied: urllib3==1.26.6 in /Users/macbook/Desktop/L361/L361_Project/.conda/lib/python3.12/site-packages (1.26.6)\n"
     ]
    }
   ],
   "source": [
    "! pip install -q flwr[simulation] flwr-datasets[vision] torch torchvision matplotlib\n",
    "! pip install -U ipywidgets\n",
    "! pip install numpy==1.26.4\n",
    "! pip install urllib3==1.26.6"
   ]
  },
  {
   "cell_type": "code",
   "execution_count": 2,
   "metadata": {},
   "outputs": [
    {
     "name": "stdout",
     "output_type": "stream",
     "text": [
      "Training on mps\n",
      "Flower 1.15.1 / PyTorch 2.6.0\n"
     ]
    }
   ],
   "source": [
    "from collections import OrderedDict\n",
    "from typing import Dict, List, Optional, Tuple, Union, Callable\n",
    "import pickle\n",
    "\n",
    "import matplotlib.pyplot as plt\n",
    "import numpy as np\n",
    "import torch\n",
    "import torch.nn as nn\n",
    "import copy\n",
    "import torch.nn.functional as F\n",
    "import torchvision.transforms as transforms\n",
    "from datasets.utils.logging import disable_progress_bar\n",
    "from torch.utils.data import DataLoader\n",
    "from flwr.server.strategy import Strategy\n",
    "import flwr\n",
    "from flwr.client import Client, ClientApp, NumPyClient\n",
    "from flwr.common import Metrics, Context, Status, GetParametersRes, Parameters, GetParametersIns, MetricsAggregationFn,NDArrays,Scalar\n",
    "from flwr.server import ServerApp, ServerConfig, ServerAppComponents \n",
    "from flwr.server.strategy import FedAvg, FedProx\n",
    "from flwr.simulation import run_simulation\n",
    "from flwr_datasets import FederatedDataset\n",
    "from flwr.common import (\n",
    "    EvaluateIns,\n",
    "    EvaluateRes,\n",
    "    FitIns,\n",
    "    FitRes,\n",
    "    Parameters,\n",
    "    Scalar,\n",
    "    ndarrays_to_parameters,\n",
    "    parameters_to_ndarrays,\n",
    "    ParametersRecord,\n",
    "    array_from_numpy\n",
    ")\n",
    "from flwr.server.client_manager import ClientManager, SimpleClientManager\n",
    "from flwr.server.client_proxy import ClientProxy\n",
    "from flwr.server.strategy.aggregate import aggregate, weighted_loss_avg\n",
    "\n",
    "DEVICE = \"cuda\" if torch.cuda.is_available() else \"cpu\"\n",
    "DEVICE = \"mps\"\n",
    "print(f\"Training on {DEVICE}\")\n",
    "print(f\"Flower {flwr.__version__} / PyTorch {torch.__version__}\")\n",
    "disable_progress_bar()"
   ]
  },
  {
   "cell_type": "code",
   "execution_count": 3,
   "metadata": {},
   "outputs": [],
   "source": [
    "\n",
    "BATCH_SIZE = 32\n",
    "\n",
    "def load_datasets(partition_id, num_partitions: int):\n",
    "    fds = FederatedDataset(dataset=\"cifar10\", partitioners={\"train\": num_partitions})\n",
    "    partition = fds.load_partition(partition_id)\n",
    "    # Divide data on each node: 80% train, 20% test\n",
    "    partition_train_test = partition.train_test_split(test_size=0.2, seed=42)\n",
    "    pytorch_transforms = transforms.Compose(\n",
    "        [transforms.ToTensor(), transforms.Normalize((0.5, 0.5, 0.5), (0.5, 0.5, 0.5))]\n",
    "    )\n",
    "\n",
    "    def apply_transforms(batch):\n",
    "        \n",
    "        batch[\"img\"] = [pytorch_transforms(img) for img in batch[\"img\"]]\n",
    "        return batch\n",
    "\n",
    "    partition_train_test = partition_train_test.with_transform(apply_transforms)\n",
    "    trainloader = DataLoader(partition_train_test[\"train\"], batch_size=32, shuffle=True)\n",
    "    valloader = DataLoader(partition_train_test[\"test\"], batch_size=32)\n",
    "    testset = fds.load_split(\"test\").with_transform(apply_transforms)\n",
    "    testloader = DataLoader(testset, batch_size=32)\n",
    "    return trainloader, valloader, testloader"
   ]
  },
  {
   "cell_type": "code",
   "execution_count": 4,
   "metadata": {},
   "outputs": [],
   "source": [
    "class Net(nn.Module):\n",
    "    def __init__(self) -> None:\n",
    "        super(Net, self).__init__()\n",
    "        self.conv1 = nn.Conv2d(3, 32, kernel_size=3, padding=1)\n",
    "        self.conv2 = nn.Conv2d(32, 64, kernel_size=3, stride=1, padding=1)\n",
    "        self.pool1 = nn.MaxPool2d(2, 2)\n",
    "        self.conv3 = nn.Conv2d(64, 128, kernel_size=3, stride=1, padding=1)\n",
    "        self.conv4 = nn.Conv2d(128, 128, kernel_size=3, stride=1, padding=1)\n",
    "        self.pool2 = nn.MaxPool2d(2, 2)\n",
    "        self.conv5 = nn.Conv2d(128, 256, kernel_size=3, stride=1, padding=1)\n",
    "        self.conv6 = nn.Conv2d(256, 256, kernel_size=3, stride=1, padding=1)\n",
    "        self.pool3 = nn.MaxPool2d(2, 2)\n",
    "        self.fc1 = nn.Linear(256*4*4, 1024)\n",
    "        self.fc2 = nn.Linear(1024, 512)\n",
    "        self.fc3 = nn.Linear(512, 10)\n",
    "        \n",
    "    def forward(self, x: torch.Tensor) -> torch.Tensor:\n",
    "        x = F.relu(self.conv1(x))\n",
    "        x = F.relu(self.conv2(x))\n",
    "        x = self.pool1(x)\n",
    "        x = F.relu(self.conv3(x))\n",
    "        x = F.relu(self.conv4(x))\n",
    "        x = self.pool2(x)\n",
    "        x = F.relu(self.conv5(x))\n",
    "        x = F.relu(self.conv6(x))\n",
    "        x = self.pool3(x)\n",
    "        x = x.view(-1, 256*4*4)\n",
    "        x = F.relu(self.fc1(x))\n",
    "        x = F.relu(self.fc2(x))\n",
    "        x = self.fc3(x)\n",
    "        return x\n",
    "\n",
    "\n",
    "class MoonNet(nn.Module):\n",
    "    \"\"\"Returns both the representation (penultimate layer output) and classification\"\"\"\n",
    "    def __init__(self) -> None:\n",
    "        super(MoonNet, self).__init__()\n",
    "        self.conv1 = nn.Conv2d(3, 32, kernel_size=3, padding=1)\n",
    "        self.conv2 = nn.Conv2d(32, 64, kernel_size=3, stride=1, padding=1)\n",
    "        self.pool1 = nn.MaxPool2d(2, 2)\n",
    "        self.conv3 = nn.Conv2d(64, 128, kernel_size=3, stride=1, padding=1)\n",
    "        self.conv4 = nn.Conv2d(128, 128, kernel_size=3, stride=1, padding=1)\n",
    "        self.pool2 = nn.MaxPool2d(2, 2)\n",
    "        self.conv5 = nn.Conv2d(128, 256, kernel_size=3, stride=1, padding=1)\n",
    "        self.conv6 = nn.Conv2d(256, 256, kernel_size=3, stride=1, padding=1)\n",
    "        self.pool3 = nn.MaxPool2d(2, 2)\n",
    "        self.fc1 = nn.Linear(256*4*4, 1024)\n",
    "        self.fc2 = nn.Linear(1024, 512)\n",
    "        self.fc3 = nn.Linear(512, 10)\n",
    "\n",
    "    def forward(self, x: torch.Tensor) -> torch.Tensor:\n",
    "        x = F.relu(self.conv1(x))\n",
    "        x = F.relu(self.conv2(x))\n",
    "        x = self.pool1(x)\n",
    "        x = F.relu(self.conv3(x))\n",
    "        x = F.relu(self.conv4(x))\n",
    "        x = self.pool2(x)\n",
    "        x = F.relu(self.conv5(x))\n",
    "        x = F.relu(self.conv6(x))\n",
    "        x = self.pool3(x)\n",
    "        x = x.view(-1, 256*4*4)\n",
    "        x = F.relu(self.fc1(x))\n",
    "        x = F.relu(self.fc2(x))\n",
    "        representation = x.clone()\n",
    "        classification = self.fc3(x)\n",
    "        return representation, classification\n",
    "\n",
    "def get_parameters(net) -> List[np.ndarray]:\n",
    "    return [val.cpu().numpy() for _, val in net.state_dict().items()]\n",
    "\n",
    "\n",
    "def set_parameters(net, parameters, trainable_layers=-1):\n",
    "    \"\"\"Set model parameters from a list of NumPy arrays.\"\"\"\n",
    "    current_state = OrderedDict(net.state_dict())\n",
    "    \n",
    "    if trainable_layers == -1:\n",
    "        # Update all parameters\n",
    "        params_dict = zip(current_state.keys(), parameters)\n",
    "        state_dict = OrderedDict({k: torch.Tensor(v) for k, v in params_dict})\n",
    "        net.load_state_dict(state_dict, strict=True)\n",
    "    else:\n",
    "        # Only update the specified layer's parameters\n",
    "        # Convert current state to numpy arrays\n",
    "        numpy_state = [param.cpu().numpy() for param in current_state.values()]\n",
    "        \n",
    "        # Update the specific indices with new parameters\n",
    "        numpy_state[trainable_layers*2] = parameters[0]\n",
    "        numpy_state[trainable_layers*2 + 1] = parameters[1]\n",
    "        \n",
    "        # Convert back to torch and update state dict\n",
    "        for idx, key in enumerate(current_state.keys()):\n",
    "            current_state[key] = torch.from_numpy(numpy_state[idx])\n",
    "        \n",
    "        net.load_state_dict(current_state, strict=True)\n",
    "\n",
    "\n",
    "# def set_parameters(net, parameters: List[np.ndarray]):\n",
    "#     params_dict = zip(net.state_dict().keys(), parameters)\n",
    "#     state_dict = OrderedDict({k: torch.Tensor(v) for k, v in params_dict})\n",
    "#     net.load_state_dict(state_dict, strict=True)\n",
    "\n",
    "def train(net, trainloader, epochs: int):\n",
    "    \"\"\"Train the network on the training set.\"\"\"\n",
    "    criterion = torch.nn.CrossEntropyLoss()\n",
    "    optimizer = torch.optim.Adam(net.parameters())\n",
    "    net.train()\n",
    "    for epoch in range(epochs):\n",
    "        correct, total, epoch_loss = 0, 0, 0.0\n",
    "        for batch in trainloader:\n",
    "            images, labels = batch[\"img\"], batch[\"label\"]\n",
    "            images, labels = images.to(DEVICE), labels.to(DEVICE)\n",
    "            optimizer.zero_grad()\n",
    "            outputs = net(images)\n",
    "            loss = criterion(outputs, labels)\n",
    "            loss.backward()\n",
    "            optimizer.step()\n",
    "            # Metrics\n",
    "            epoch_loss += loss\n",
    "            total += labels.size(0)\n",
    "            correct += (torch.max(outputs.data, 1)[1] == labels).sum().item()\n",
    "        epoch_loss /= len(trainloader.dataset)\n",
    "        epoch_acc = correct / total\n",
    "        print(f\"Epoch {epoch+1}: train loss {epoch_loss}, accuracy {epoch_acc}\")\n",
    "        \n",
    "def proxima_train(net, trainloader, epochs: int, proximal_mu:float, global_params:List[torch.Tensor]):\n",
    "    \"\"\"Train the network on the training set.\"\"\"\n",
    "    criterion = torch.nn.CrossEntropyLoss()\n",
    "    optimizer = torch.optim.Adam(net.parameters())\n",
    "    net.train()\n",
    "    for epoch in range(epochs):\n",
    "        correct, total, epoch_loss = 0, 0, 0.0\n",
    "        for batch in trainloader:\n",
    "            images, labels = batch[\"img\"], batch[\"label\"]\n",
    "            images, labels = images.to(DEVICE), labels.to(DEVICE)\n",
    "            optimizer.zero_grad()\n",
    "            outputs = net(images)\n",
    "\n",
    "            proximal_term = 0.0\n",
    "            for local_weights, global_weights in zip(net.parameters(), global_params):\n",
    "                proximal_term += (local_weights - global_weights).norm(2)\n",
    "            loss = criterion(net(images), labels) + (proximal_mu / 2) * proximal_term\n",
    "\n",
    "\n",
    "            loss.backward()\n",
    "            optimizer.step()\n",
    "            \n",
    "            epoch_loss += loss\n",
    "            total += labels.size(0)\n",
    "            correct += (torch.max(outputs.data, 1)[1] == labels).sum().item()\n",
    "        epoch_loss /= len(trainloader.dataset)\n",
    "        epoch_acc = correct / total\n",
    "        print(f\"Epoch {epoch+1}: train loss {epoch_loss}, accuracy {epoch_acc}\")\n",
    "\n",
    "\n",
    "def train_moon(net,train_loader, global_net,previous_net, epochs, mu, temperature):\n",
    "    \"\"\"Training function for MOON.\"\"\"\n",
    "    print(f\"Started training moon\")\n",
    "    criterion = torch.nn.CrossEntropyLoss()\n",
    "    optimizer = torch.optim.Adam(net.parameters())\n",
    "\n",
    "    previous_net.eval()\n",
    "    global_net.eval()\n",
    "    net.to(DEVICE)\n",
    "    previous_net.to(DEVICE)\n",
    "    global_net.to(DEVICE)\n",
    "    cnt = 0\n",
    "    cos = torch.nn.CosineSimilarity(dim=-1)\n",
    "\n",
    "    for epoch in range(epochs):\n",
    "        epoch_loss_collector = []\n",
    "        epoch_loss1_collector = []\n",
    "        epoch_loss2_collector = []\n",
    "        for batch in train_loader:\n",
    "            x, target = batch[\"img\"], batch[\"label\"]\n",
    "            x, target = x.to(DEVICE), target.to(DEVICE)\n",
    "            optimizer.zero_grad()\n",
    "\n",
    "            # pro1 is the representation by the current model (Line 14 of Algorithm 1)\n",
    "            pro1, out = net(x)\n",
    "            # pro2 is the representation by the global model (Line 15 of Algorithm 1)\n",
    "            # pro3 is the representation by the previous model (Line 16 of Algorithm 1)\n",
    "            with torch.no_grad():\n",
    "                pro2, _ = global_net(x)\n",
    "                pro3, _ = previous_net(x)\n",
    "\n",
    "            # posi is the positive pair\n",
    "            posi = cos(pro1, pro2)\n",
    "            logits = posi.reshape(-1, 1)\n",
    "\n",
    "            # nega is the negative pair\n",
    "            nega = cos(pro1, pro3)\n",
    "            logits = torch.cat((logits, nega.reshape(-1, 1)), dim=1)\n",
    "\n",
    "            previous_net.to(DEVICE)\n",
    "            logits /= temperature\n",
    "            labels = torch.zeros(x.size(0)).to(DEVICE).long()\n",
    "\n",
    "            # compute the model-contrastive loss (Line 17 of Algorithm 1)\n",
    "            loss2 = mu * criterion(logits, labels)\n",
    "\n",
    "            # compute the cross-entropy loss (Line 13 of Algorithm 1)\n",
    "            loss1 = criterion(out, target)\n",
    "\n",
    "            # compute the loss (Line 18 of Algorithm 1)\n",
    "            loss = loss1 + loss2\n",
    "\n",
    "            loss.backward()\n",
    "            optimizer.step()\n",
    "\n",
    "            cnt += 1\n",
    "            epoch_loss_collector.append(loss.item())\n",
    "            epoch_loss1_collector.append(loss1.item())\n",
    "            epoch_loss2_collector.append(loss2.item())\n",
    "\n",
    "        epoch_loss = sum(epoch_loss_collector) / len(epoch_loss_collector)\n",
    "        epoch_loss1 = sum(epoch_loss1_collector) / len(epoch_loss1_collector)\n",
    "        epoch_loss2 = sum(epoch_loss2_collector) / len(epoch_loss2_collector)\n",
    "        print(\n",
    "            \"Epoch: %d Loss: %f Loss1: %f Loss2: %f\"\n",
    "            % (epoch, epoch_loss, epoch_loss1, epoch_loss2)\n",
    "        )\n",
    "\n",
    "\n",
    "def test_moon(net, testloader):\n",
    "    \"\"\"\n",
    "    Evaluate the network on the entire test set.\n",
    "    Same as the regular test, but using the MoonNet \n",
    "    (where the output is a tuple of (representation, classification) )\n",
    "    \"\"\"\n",
    "    criterion = torch.nn.CrossEntropyLoss()\n",
    "    correct, total, loss = 0, 0, 0.0\n",
    "    net.eval()\n",
    "    with torch.no_grad():\n",
    "        for batch in testloader:\n",
    "            images, labels = batch[\"img\"], batch[\"label\"]\n",
    "            images, labels = images.to(DEVICE), labels.to(DEVICE)\n",
    "            _, outputs = net(images)\n",
    "            loss += criterion(outputs, labels).item()\n",
    "            _, predicted = torch.max(outputs.data, 1)\n",
    "            total += labels.size(0)\n",
    "            correct += (predicted == labels).sum().item()\n",
    "    loss /= len(testloader.dataset)\n",
    "    accuracy = correct / total\n",
    "    return loss, accuracy\n",
    "\n",
    "\n",
    "\n",
    "\n",
    "def test(net, testloader):\n",
    "    \"\"\"Evaluate the network on the entire test set.\"\"\"\n",
    "    criterion = torch.nn.CrossEntropyLoss()\n",
    "    correct, total, loss = 0, 0, 0.0\n",
    "    net.eval()\n",
    "    with torch.no_grad():\n",
    "        for batch in testloader:\n",
    "            images, labels = batch[\"img\"], batch[\"label\"]\n",
    "            images, labels = images.to(DEVICE), labels.to(DEVICE)\n",
    "            outputs = net(images)\n",
    "            loss += criterion(outputs, labels).item()\n",
    "            _, predicted = torch.max(outputs.data, 1)\n",
    "            total += labels.size(0)\n",
    "            correct += (predicted == labels).sum().item()\n",
    "    loss /= len(testloader.dataset)\n",
    "    accuracy = correct / total\n",
    "    return loss, accuracy\n",
    "\n",
    "# def freeze_layers(model: torch.nn.Module, trainable_layers: int) -> None:\n",
    "#         \"\"\"Freeze specified layers of the model.\"\"\"\n",
    "#         for idx, (name, param) in enumerate(model.named_parameters()):\n",
    "#             if idx == trainable_layers or trainable_layers == -1:\n",
    "#                 param.requires_grad = True\n",
    "#             else:\n",
    "#                 param.requires_grad = False\n",
    "\n",
    "\n",
    "\n",
    "def freeze_layers(model: torch.nn.Module, trainable_layers: int) -> None:\n",
    "        \"\"\"Freeze specified layers of the model.\"\"\"\n",
    "        trainable_layers_set = []\n",
    "        if trainable_layers == -1:\n",
    "            trainable_layers_set = [-1]\n",
    "        else:\n",
    "            trainable_layers_set = [trainable_layers *2, trainable_layers *2 +1]\n",
    "\n",
    "        for idx, (name, param) in enumerate(model.named_parameters()):\n",
    "            \n",
    "            if idx in trainable_layers_set or trainable_layers_set[0] == -1:\n",
    "                param.requires_grad = True\n",
    "                print(f\"layer index is {idx} and name{name} is trainabe\")\n",
    "            else:\n",
    "                param.requires_grad = False\n",
    "                print(f\"layer index is {idx} and name{name} is frozen\")\n",
    "\n",
    "\n"
   ]
  },
  {
   "cell_type": "code",
   "execution_count": 5,
   "metadata": {},
   "outputs": [
    {
     "name": "stdout",
     "output_type": "stream",
     "text": [
      "Number of rounds: 20\n"
     ]
    }
   ],
   "source": [
    "\n",
    "NETWORK_LEN = len(Net().state_dict().keys()) //2 \n",
    "EPOCHS = 2\n",
    "NUM_PARTITIONS = 6\n",
    "NUM_OF_CYCLES  = 1\n",
    "NUM_OF_FULL_UPDATES_BETWEEN_CYCLES = 2\n",
    "NUM_OF_ROUNDS = (NUM_OF_CYCLES * NUM_OF_FULL_UPDATES_BETWEEN_CYCLES) + (NUM_OF_CYCLES * NETWORK_LEN *2)\n",
    "print(f\"Number of rounds: {NUM_OF_ROUNDS}\")\n",
    "backend_config = {\"client_resources\": {\"num_cpus\": 1, \"num_gpus\": 0.0}}\n"
   ]
  },
  {
   "cell_type": "code",
   "execution_count": 6,
   "metadata": {},
   "outputs": [],
   "source": [
    "from flwr.common import NDArrays, Scalar\n",
    "import sys\n",
    "\n",
    "# More robust evaluate function:\n",
    "def get_evaluate_fn(\n",
    "    testloader: DataLoader,\n",
    "    net: torch.nn.Module,\n",
    ") -> Callable[[int, NDArrays, Dict[str, Scalar]], Optional[Tuple[float, Dict[str, Scalar]]]]:\n",
    "    \"\"\"Return an evaluation function for server-side evaluation.\"\"\"\n",
    "    \n",
    "    # used to check if they're changing\n",
    "    previous_params = None\n",
    "    \n",
    "    def evaluate(\n",
    "        server_round: int, parameters: NDArrays, config: Dict[str, Scalar]\n",
    "    ) -> Optional[Tuple[float, Dict[str, Scalar]]]:\n",
    "        \"\"\"Use the entire test set for evaluation.\"\"\"\n",
    "        nonlocal previous_params\n",
    "        \n",
    "        print(f\"\\n==== Server-side evaluation for round {server_round} ====\")\n",
    "        \n",
    "        # Check if parameters changed from previous round\n",
    "        if previous_params is not None:\n",
    "            param_change = False\n",
    "            for i, (prev, curr) in enumerate(zip(previous_params, parameters)):\n",
    "                diff = np.abs(prev - curr).mean()\n",
    "                if diff > 1e-6:\n",
    "                    param_change = True\n",
    "                    print(f\"  Parameter {i}: Changed by {diff:.6f}\")\n",
    "            \n",
    "            if not param_change:\n",
    "                print(\"  WARNING: Parameters haven't changed from previous round!\")\n",
    "        \n",
    "        previous_params = [p.copy() for p in parameters]\n",
    "        net_copy = copy.deepcopy(net)\n",
    "\n",
    "        # Update model with the latest parameters\n",
    "        params_dict = zip(net_copy.state_dict().keys(), parameters)\n",
    "        state_dict = OrderedDict({k: torch.tensor(v, device=DEVICE) for k, v in params_dict})\n",
    "        \n",
    "        # Check if state dict keys match model keys\n",
    "        model_keys = set(net_copy.state_dict().keys())\n",
    "        params_keys = set(state_dict.keys())\n",
    "        if model_keys != params_keys:\n",
    "            print(f\"  WARNING: Key mismatch between model and parameters!\")\n",
    "            print(f\"  Missing in params: {model_keys - params_keys}\")\n",
    "            print(f\"  Extra in params: {params_keys - model_keys}\")\n",
    "        \n",
    "        net_copy.load_state_dict(state_dict, strict=True)\n",
    "        net_copy.to(DEVICE)\n",
    "        net_copy.eval()\n",
    "        \n",
    "        # Test the model\n",
    "        loss, accuracy = test(net_copy, testloader)\n",
    "        print(f\"  Evaluation results - Loss: {loss:.4f}, Accuracy: {accuracy:.4f}\")\n",
    "        \n",
    "        # Return loss and metrics\n",
    "        return loss, {\"accuracy\": accuracy}\n",
    "    \n",
    "    return evaluate\n",
    "\n",
    "\n",
    "def get_evaluate_fn_moon(\n",
    "    testloader: DataLoader,\n",
    "    net: torch.nn.Module,\n",
    ") -> Callable[[int, NDArrays, Dict[str, Scalar]], Optional[Tuple[float, Dict[str, Scalar]]]]:\n",
    "    \"\"\"Return an evaluation function for server-side evaluation.\"\"\"\n",
    "\n",
    "    def evaluate(\n",
    "        server_round: int, parameters: NDArrays, config: Dict[str, Scalar]\n",
    "    ) -> Optional[Tuple[float, Dict[str, Scalar]]]:\n",
    "        \"\"\"Use the entire test set for evaluation.\"\"\"\n",
    "        \n",
    "        # Copy model parameters to avoid modifying the original\n",
    "        net_copy = copy.deepcopy(net)\n",
    "        \n",
    "        # Update model with the latest parameters\n",
    "        params_dict = zip(net_copy.state_dict().keys(), parameters)\n",
    "        state_dict = OrderedDict({k: torch.tensor(v) for k, v in params_dict})\n",
    "        net_copy.load_state_dict(state_dict, strict=True)\n",
    "        \n",
    "        net_copy.to(DEVICE)\n",
    "        net_copy.eval()\n",
    "\n",
    "        # Test the model\n",
    "        loss, accuracy = test_moon(net_copy, testloader)\n",
    "        \n",
    "        # Return loss and metrics\n",
    "        return loss, {\"accuracy\": accuracy}\n",
    "\n",
    "    return evaluate\n",
    "\n",
    "def get_parameters_size(params: Parameters) -> int:\n",
    "    size = sys.getsizeof(params)  # Base size of the dataclass instance\n",
    "    size += sys.getsizeof(params.tensor_type)  # Size of the string\n",
    "    size += sys.getsizeof(params.tensors)  # Size of the list container\n",
    "    size += sum(sys.getsizeof(tensor) for tensor in params.tensors)  # Size of each bytes object\n",
    "    return size\n"
   ]
  },
  {
   "cell_type": "code",
   "execution_count": 7,
   "metadata": {},
   "outputs": [],
   "source": [
    "class DropoutClientManager(SimpleClientManager):\n",
    "    \"\"\"Custom ClientManager that simulates client dropouts.\"\"\"\n",
    "    def __init__(self, dropout_rate: float = 0.4):\n",
    "        super().__init__()\n",
    "        self.dropout_rate = dropout_rate\n",
    "\n",
    "    def sample(\n",
    "        self,\n",
    "        num_clients: int,\n",
    "        min_num_clients: Optional[int] = None,\n",
    "    ) -> List[ClientProxy]:\n",
    "        \"\"\"Sample clients and simulate dropouts.\"\"\"\n",
    "        # Get list of clients from parent class\n",
    "        clients = super().sample(num_clients, min_num_clients)\n",
    "        \n",
    "        # Randomly drop clients based on dropout rate\n",
    "        num_dropouts = int(len(clients) * self.dropout_rate)\n",
    "        if num_dropouts > 0:\n",
    "            dropout_indices = np.random.choice(\n",
    "                len(clients), \n",
    "                size=num_dropouts, \n",
    "                replace=False\n",
    "            )\n",
    "            clients = [c for i, c in enumerate(clients) if i not in dropout_indices]\n",
    "        \n",
    "        return clients"
   ]
  },
  {
   "cell_type": "markdown",
   "metadata": {},
   "source": [
    "# Normal FedAvg"
   ]
  },
  {
   "cell_type": "code",
   "execution_count": 8,
   "metadata": {},
   "outputs": [],
   "source": [
    "from typing import Union\n",
    "\n",
    "\n",
    "from flwr.common import (\n",
    "    EvaluateIns,\n",
    "    EvaluateRes,\n",
    "    FitIns,\n",
    "    FitRes,\n",
    "    Parameters,\n",
    "    Scalar,\n",
    "    ndarrays_to_parameters,\n",
    "    parameters_to_ndarrays,\n",
    ")\n",
    "from flwr.server.client_manager import ClientManager\n",
    "from flwr.server.client_proxy import ClientProxy\n",
    "from flwr.server.strategy.aggregate import aggregate, weighted_loss_avg\n",
    "\n",
    "\n",
    "fed_avg_result = {}\n",
    "fed_avg_model_results = {}\n",
    "\n",
    "class ModifiedFedAvg(Strategy):\n",
    "    def __init__(\n",
    "        self,\n",
    "        fraction_fit: float = 1.0,\n",
    "        fraction_evaluate: float = 1.0,\n",
    "        min_fit_clients: int = 2,\n",
    "        min_evaluate_clients: int = 2,\n",
    "        min_available_clients: int = 2,\n",
    "        evaluate_fn: Optional[\n",
    "            Callable[\n",
    "                [int, NDArrays, dict[str, Scalar]],\n",
    "                Optional[tuple[float, dict[str, Scalar]]],\n",
    "            ]\n",
    "        ] = None,\n",
    "        on_fit_config_fn: Optional[Callable[[int], dict[str, Scalar]]] = None,\n",
    "        on_evaluate_config_fn: Optional[Callable[[int], dict[str, Scalar]]] = None,\n",
    "        accept_failures: bool = True,\n",
    "        initial_parameters: Optional[Parameters] = None,\n",
    "        fit_metrics_aggregation_fn: Optional[MetricsAggregationFn] = None,\n",
    "        evaluate_metrics_aggregation_fn: Optional[MetricsAggregationFn] = None,\n",
    "        inplace: bool = True,\n",
    "        layer_update_strategy: str = \"sequential\",\n",
    "        \n",
    "    ) -> None:\n",
    "        super().__init__()\n",
    "        self.fraction_fit = fraction_fit\n",
    "        self.fraction_evaluate = fraction_evaluate\n",
    "        self.min_fit_clients = min_fit_clients\n",
    "        self.min_evaluate_clients = min_evaluate_clients\n",
    "        self.min_available_clients = min_available_clients\n",
    "        self.evaluate_fn = evaluate_fn\n",
    "        self.on_fit_config_fn = on_fit_config_fn\n",
    "        self.on_evaluate_config_fn = on_evaluate_config_fn\n",
    "        self.accept_failures = accept_failures\n",
    "        self.initial_parameters = initial_parameters\n",
    "        self.fit_metrics_aggregation_fn = fit_metrics_aggregation_fn\n",
    "        self.evaluate_metrics_aggregation_fn = evaluate_metrics_aggregation_fn\n",
    "        self.inplace = inplace\n",
    "\n",
    "\n",
    "    def __repr__(self) -> str:\n",
    "        return \"FedPartAvg\"\n",
    "    \n",
    "\n",
    "    def num_fit_clients(self, num_available_clients: int) -> Tuple[int, int]:\n",
    "        \"\"\"Return sample size and required number of clients.\"\"\"\n",
    "        num_clients = int(num_available_clients * self.fraction_fit)\n",
    "        return max(num_clients, self.min_fit_clients), self.min_available_clients\n",
    "\n",
    "    def num_evaluation_clients(self, num_available_clients: int) -> Tuple[int, int]:\n",
    "        \"\"\"Use a fraction of available clients for evaluation.\"\"\"\n",
    "        num_clients = int(num_available_clients * self.fraction_evaluate)\n",
    "        return max(num_clients, self.min_evaluate_clients), self.min_available_clients\n",
    "    \n",
    "   \n",
    "    def initialize_parameters(\n",
    "        self, client_manager: ClientManager\n",
    "    ) -> Optional[Parameters]:\n",
    "        \"\"\"Initialize global model parameters.\"\"\"\n",
    "        net = Net()\n",
    "        ndarrays = get_parameters(net)\n",
    "        return ndarrays_to_parameters(ndarrays)\n",
    "    \n",
    "\n",
    "\n",
    "    def evaluate(\n",
    "        self, server_round: int, parameters: Parameters\n",
    "    ) -> Optional[tuple[float, dict[str, Scalar]]]:\n",
    "        \"\"\"Evaluate model parameters using an evaluation function.\"\"\"\n",
    "        if self.evaluate_fn is None:\n",
    "            # No evaluation function provided\n",
    "            return None\n",
    "        parameters_ndarrays = parameters_to_ndarrays(parameters)\n",
    "        eval_res = self.evaluate_fn(server_round, parameters_ndarrays, {})\n",
    "        if eval_res is None:\n",
    "            return None\n",
    "        loss, metrics = eval_res\n",
    "\n",
    "        if server_round in fed_avg_model_results:\n",
    "            expand_fed_avg_result= {**fed_avg_model_results[server_round], \"global_loss\": loss, \"global_metrics\": metrics}\n",
    "        else:\n",
    "            expand_fed_avg_result= {\"global_loss\": loss, \"global_metrics\": metrics}\n",
    "\n",
    "        fed_avg_model_results[server_round] = expand_fed_avg_result\n",
    "\n",
    "        return loss, metrics\n",
    "\n",
    "    def configure_fit(\n",
    "        self, server_round: int, parameters: Parameters, client_manager: ClientManager\n",
    "    ) -> List[Tuple[ClientProxy, FitIns]]:\n",
    "        \"\"\"Configure the next round of training.\"\"\"\n",
    "        \n",
    "        config = {}\n",
    "        \n",
    "        sample_size, min_num_clients = self.num_fit_clients(\n",
    "            client_manager.num_available()\n",
    "        )\n",
    "        clients = client_manager.sample(\n",
    "            num_clients=sample_size, min_num_clients=min_num_clients\n",
    "        )\n",
    "        \n",
    "        fit_configurations = []\n",
    "        for idx, client in enumerate(clients):\n",
    "            fit_configurations.append((client, FitIns(parameters, config)))\n",
    "\n",
    "        \n",
    "        return fit_configurations\n",
    "    \n",
    "\n",
    "    def configure_evaluate(\n",
    "        self, server_round: int, parameters: Parameters, client_manager: ClientManager\n",
    "    ) -> List[Tuple[ClientProxy, EvaluateIns]]:\n",
    "        \"\"\"Configure the next round of evaluation.\"\"\"\n",
    "        if self.fraction_evaluate == 0.0:\n",
    "            return []\n",
    "        config = {}\n",
    "        evaluate_ins = EvaluateIns(parameters, config)\n",
    "\n",
    "        # Sample clients\n",
    "        sample_size, min_num_clients = self.num_evaluation_clients(\n",
    "            client_manager.num_available()\n",
    "        )\n",
    "        clients = client_manager.sample(\n",
    "            num_clients=sample_size, min_num_clients=min_num_clients\n",
    "        )\n",
    "\n",
    "        # Return client/config pairs\n",
    "        return [(client, evaluate_ins) for client in clients]\n",
    "\n",
    "    def aggregate_fit(\n",
    "        self,\n",
    "        server_round: int,\n",
    "        results: List[Tuple[ClientProxy, FitRes]],\n",
    "        failures: List[Union[Tuple[ClientProxy, FitRes], BaseException]],\n",
    "    ) -> Tuple[Optional[Parameters], Dict[str, Scalar]]:\n",
    "        \"\"\"Aggregate fit results using weighted average.\"\"\"\n",
    "\n",
    "        # get size of parameters in bytes\n",
    "        total_size = 0\n",
    "        for client, fit_res in results:\n",
    "            total_size += get_parameters_size(fit_res.parameters) *2\n",
    "        \n",
    "\n",
    "        if server_round in fed_avg_result:\n",
    "            expand_fed_avg_result= {**fed_avg_result[server_round], \"total_size\": total_size}\n",
    "        else:\n",
    "            expand_fed_avg_result= {\"total_size\": total_size}\n",
    "\n",
    "        fed_avg_result[server_round] = expand_fed_avg_result\n",
    "\n",
    "\n",
    "        weights_results = [\n",
    "            (parameters_to_ndarrays(fit_res.parameters), fit_res.num_examples)\n",
    "            for _, fit_res in results\n",
    "        ]\n",
    "        parameters_aggregated = ndarrays_to_parameters(aggregate(weights_results))\n",
    "        metrics_aggregated = {}\n",
    "        return parameters_aggregated, metrics_aggregated\n",
    "\n",
    "    \n",
    "\n",
    "    def aggregate_evaluate(\n",
    "        self,\n",
    "        server_round: int,\n",
    "        results: List[Tuple[ClientProxy, EvaluateRes]],\n",
    "        failures: List[Union[Tuple[ClientProxy, EvaluateRes], BaseException]],\n",
    "    ) -> Tuple[Optional[float], Dict[str, Scalar]]:\n",
    "        \"\"\"Aggregate evaluation losses using weighted average.\"\"\"\n",
    "\n",
    "        if not results:\n",
    "            return None, {}\n",
    "\n",
    "        total_loss = 0\n",
    "        for _, evaluate_res in results:\n",
    "            total_loss += evaluate_res.loss \n",
    "\n",
    "\n",
    "        if server_round in fed_avg_result:\n",
    "            expand_fed_avg_result= {**fed_avg_result[server_round], \"total_loss\": total_loss}\n",
    "        else:\n",
    "            expand_fed_avg_result= {\"total_loss\": total_loss}\n",
    "\n",
    "        fed_avg_result[server_round] = expand_fed_avg_result\n",
    "\n",
    "        loss_aggregated = weighted_loss_avg(\n",
    "            [\n",
    "                (evaluate_res.num_examples, evaluate_res.loss)\n",
    "                for _, evaluate_res in results\n",
    "            ]\n",
    "        )\n",
    "        metrics_aggregated = {}\n",
    "        return loss_aggregated, metrics_aggregated"
   ]
  },
  {
   "cell_type": "code",
   "execution_count": 9,
   "metadata": {},
   "outputs": [],
   "source": [
    "class NormalFlowerClient(NumPyClient):\n",
    "    def __init__(self, partition_id, net, trainloader, valloader):\n",
    "        self.partition_id = partition_id\n",
    "        self.net = net\n",
    "        self.trainloader = trainloader\n",
    "        self.valloader = valloader\n",
    "\n",
    "    def get_parameters(self, config):\n",
    "        print(f\"[Client {self.partition_id}] get_parameters\")\n",
    "        return get_parameters(self.net)\n",
    "\n",
    "    def fit(self, parameters, config):\n",
    "        print(f\"[Client {self.partition_id}] fit, config: {config}\")\n",
    "        set_parameters(self.net, parameters)\n",
    "        train(self.net, self.trainloader, epochs=EPOCHS)\n",
    "        return get_parameters(self.net), len(self.trainloader), {}\n",
    "\n",
    "    def evaluate(self, parameters, config):\n",
    "        print(f\"[Client {self.partition_id}] evaluate, config: {config}\")\n",
    "        set_parameters(self.net, parameters)\n",
    "        loss, accuracy = test(self.net, self.valloader)\n",
    "        return float(loss), len(self.valloader), {\"accuracy\": float(accuracy)}\n",
    "\n",
    "\n",
    "\n",
    "def client_fn(context: Context) -> Client:\n",
    "    net = Net().to(DEVICE)\n",
    "    partition_id = context.node_config[\"partition-id\"]\n",
    "    num_partitions = context.node_config[\"num-partitions\"]\n",
    "    trainloader, valloader, _ = load_datasets(partition_id, num_partitions)\n",
    "    return NormalFlowerClient(partition_id, net, trainloader, valloader).to_client()\n",
    "\n",
    "\n",
    "# Create the ClientApp\n",
    "client = ClientApp(client_fn=client_fn)"
   ]
  },
  {
   "cell_type": "code",
   "execution_count": 10,
   "metadata": {},
   "outputs": [
    {
     "name": "stderr",
     "output_type": "stream",
     "text": [
      "/Users/macbook/Desktop/L361/L361_Project/.conda/lib/python3.12/site-packages/datasets/utils/_dill.py:385: DeprecationWarning: co_lnotab is deprecated, use co_lines instead.\n",
      "  obj.co_lnotab,  # for < python 3.10 [not counted in args]\n",
      "\u001b[92mINFO \u001b[0m:      Starting Flower ServerApp, config: num_rounds=20, no round_timeout\n",
      "\u001b[92mINFO \u001b[0m:      \n",
      "\u001b[92mINFO \u001b[0m:      [INIT]\n",
      "\u001b[92mINFO \u001b[0m:      Using initial global parameters provided by strategy\n",
      "\u001b[92mINFO \u001b[0m:      Starting evaluation of initial global parameters\n"
     ]
    },
    {
     "name": "stdout",
     "output_type": "stream",
     "text": [
      "\n",
      "==== Server-side evaluation for round 0 ====\n"
     ]
    },
    {
     "name": "stderr",
     "output_type": "stream",
     "text": [
      "\u001b[92mINFO \u001b[0m:      initial parameters (loss, other metrics): 0.07207621624469757, {'accuracy': 0.1}\n",
      "\u001b[92mINFO \u001b[0m:      \n",
      "\u001b[92mINFO \u001b[0m:      [ROUND 1]\n",
      "\u001b[92mINFO \u001b[0m:      configure_fit: strategy sampled 3 clients (out of 6)\n"
     ]
    },
    {
     "name": "stdout",
     "output_type": "stream",
     "text": [
      "  Evaluation results - Loss: 0.0721, Accuracy: 0.1000\n",
      "\u001b[36m(ClientAppActor pid=9214)\u001b[0m [Client 0] fit, config: {}\n"
     ]
    },
    {
     "name": "stderr",
     "output_type": "stream",
     "text": [
      "\u001b[36m(ClientAppActor pid=9214)\u001b[0m /Users/macbook/Desktop/L361/L361_Project/.conda/lib/python3.12/site-packages/datasets/utils/_dill.py:385: DeprecationWarning: co_lnotab is deprecated, use co_lines instead.\n",
      "\u001b[36m(ClientAppActor pid=9214)\u001b[0m   obj.co_lnotab,  # for < python 3.10 [not counted in args]\n"
     ]
    },
    {
     "name": "stdout",
     "output_type": "stream",
     "text": [
      "\u001b[36m(ClientAppActor pid=9214)\u001b[0m Epoch 1: train loss 0.06358786672353745, accuracy 0.21853907304634768\n",
      "\u001b[36m(ClientAppActor pid=9211)\u001b[0m [Client 1] fit, config: {}\u001b[32m [repeated 2x across cluster] (Ray deduplicates logs by default. Set RAY_DEDUP_LOGS=0 to disable log deduplication, or see https://docs.ray.io/en/master/ray-observability/user-guides/configure-logging.html#log-deduplication for more options.)\u001b[0m\n",
      "\u001b[36m(ClientAppActor pid=9209)\u001b[0m Epoch 1: train loss 0.06388629227876663, accuracy 0.21407140714071407\n",
      "\u001b[36m(ClientAppActor pid=9211)\u001b[0m Epoch 1: train loss 0.07097122073173523, accuracy 0.12224388780560971\n",
      "\u001b[36m(ClientAppActor pid=9214)\u001b[0m Epoch 2: train loss 0.055178020149469376, accuracy 0.33088345582720863\n",
      "\u001b[36m(ClientAppActor pid=9209)\u001b[0m Epoch 2: train loss 0.053556956350803375, accuracy 0.3463846384638464\n"
     ]
    },
    {
     "name": "stderr",
     "output_type": "stream",
     "text": [
      "\u001b[92mINFO \u001b[0m:      aggregate_fit: received 3 results and 0 failures\n"
     ]
    },
    {
     "name": "stdout",
     "output_type": "stream",
     "text": [
      "\n",
      "==== Server-side evaluation for round 1 ====\n",
      "  Parameter 0: Changed by 0.015749\n",
      "  Parameter 1: Changed by 0.017443\n",
      "  Parameter 2: Changed by 0.013232\n",
      "  Parameter 3: Changed by 0.008416\n",
      "  Parameter 4: Changed by 0.009208\n",
      "  Parameter 5: Changed by 0.010955\n",
      "  Parameter 6: Changed by 0.006748\n",
      "  Parameter 7: Changed by 0.011648\n",
      "  Parameter 8: Changed by 0.005854\n",
      "  Parameter 9: Changed by 0.009358\n",
      "  Parameter 10: Changed by 0.004992\n",
      "  Parameter 11: Changed by 0.008581\n",
      "  Parameter 12: Changed by 0.004063\n",
      "  Parameter 13: Changed by 0.007482\n",
      "  Parameter 14: Changed by 0.004511\n",
      "  Parameter 15: Changed by 0.008255\n",
      "  Parameter 16: Changed by 0.009180\n",
      "  Parameter 17: Changed by 0.010153\n"
     ]
    },
    {
     "name": "stderr",
     "output_type": "stream",
     "text": [
      "\u001b[92mINFO \u001b[0m:      fit progress: (1, 0.0716752896785736, {'accuracy': 0.1}, 48.803986457875)\n",
      "\u001b[92mINFO \u001b[0m:      configure_evaluate: strategy sampled 3 clients (out of 6)\n"
     ]
    },
    {
     "name": "stdout",
     "output_type": "stream",
     "text": [
      "  Evaluation results - Loss: 0.0717, Accuracy: 0.1000\n",
      "\u001b[36m(ClientAppActor pid=9209)\u001b[0m [Client 4] evaluate, config: {}\n",
      "\u001b[36m(ClientAppActor pid=9211)\u001b[0m Epoch 2: train loss 0.060595449060201645, accuracy 0.2527373631318434\n"
     ]
    },
    {
     "name": "stderr",
     "output_type": "stream",
     "text": [
      "\u001b[36m(ClientAppActor pid=9209)\u001b[0m /Users/macbook/Desktop/L361/L361_Project/.conda/lib/python3.12/site-packages/datasets/utils/_dill.py:385: DeprecationWarning: co_lnotab is deprecated, use co_lines instead.\u001b[32m [repeated 3x across cluster]\u001b[0m\n",
      "\u001b[36m(ClientAppActor pid=9209)\u001b[0m   obj.co_lnotab,  # for < python 3.10 [not counted in args]\u001b[32m [repeated 3x across cluster]\u001b[0m\n",
      "\u001b[92mINFO \u001b[0m:      aggregate_evaluate: received 3 results and 0 failures\n",
      "\u001b[92mINFO \u001b[0m:      \n",
      "\u001b[92mINFO \u001b[0m:      [ROUND 2]\n",
      "\u001b[92mINFO \u001b[0m:      configure_fit: strategy sampled 3 clients (out of 6)\n"
     ]
    },
    {
     "name": "stdout",
     "output_type": "stream",
     "text": [
      "\u001b[36m(ClientAppActor pid=9214)\u001b[0m [Client 4] fit, config: {}\n",
      "\u001b[36m(ClientAppActor pid=9214)\u001b[0m Epoch 1: train loss 0.05803854018449783, accuracy 0.280978097809781\n",
      "\u001b[36m(ClientAppActor pid=9214)\u001b[0m [Client 5] evaluate, config: {}\u001b[32m [repeated 2x across cluster]\u001b[0m\n"
     ]
    },
    {
     "name": "stderr",
     "output_type": "stream",
     "text": [
      "\u001b[36m(ClientAppActor pid=9211)\u001b[0m /Users/macbook/Desktop/L361/L361_Project/.conda/lib/python3.12/site-packages/datasets/utils/_dill.py:385: DeprecationWarning: co_lnotab is deprecated, use co_lines instead.\u001b[32m [repeated 4x across cluster]\u001b[0m\n",
      "\u001b[36m(ClientAppActor pid=9211)\u001b[0m   obj.co_lnotab,  # for < python 3.10 [not counted in args]\u001b[32m [repeated 4x across cluster]\u001b[0m\n"
     ]
    },
    {
     "name": "stdout",
     "output_type": "stream",
     "text": [
      "\u001b[36m(ClientAppActor pid=9214)\u001b[0m Epoch 2: train loss 0.05124719440937042, accuracy 0.36633663366336633\n",
      "\u001b[36m(ClientAppActor pid=9209)\u001b[0m [Client 5] fit, config: {}\u001b[32m [repeated 2x across cluster]\u001b[0m\n",
      "\u001b[36m(ClientAppActor pid=9211)\u001b[0m Epoch 1: train loss 0.05969952419400215, accuracy 0.24973751312434378\n",
      "\u001b[36m(ClientAppActor pid=9211)\u001b[0m Epoch 2: train loss 0.05279278755187988, accuracy 0.35713214339283034\u001b[32m [repeated 2x across cluster]\u001b[0m\n"
     ]
    },
    {
     "name": "stderr",
     "output_type": "stream",
     "text": [
      "\u001b[92mINFO \u001b[0m:      aggregate_fit: received 3 results and 0 failures\n"
     ]
    },
    {
     "name": "stdout",
     "output_type": "stream",
     "text": [
      "\n",
      "==== Server-side evaluation for round 2 ====\n",
      "  Parameter 0: Changed by 0.007468\n",
      "  Parameter 1: Changed by 0.008906\n",
      "  Parameter 2: Changed by 0.008892\n",
      "  Parameter 3: Changed by 0.005713\n",
      "  Parameter 4: Changed by 0.006403\n",
      "  Parameter 5: Changed by 0.009880\n",
      "  Parameter 6: Changed by 0.004118\n",
      "  Parameter 7: Changed by 0.006355\n",
      "  Parameter 8: Changed by 0.002816\n",
      "  Parameter 9: Changed by 0.006262\n",
      "  Parameter 10: Changed by 0.002245\n",
      "  Parameter 11: Changed by 0.005842\n",
      "  Parameter 12: Changed by 0.002584\n",
      "  Parameter 13: Changed by 0.004145\n",
      "  Parameter 14: Changed by 0.003113\n",
      "  Parameter 15: Changed by 0.006358\n",
      "  Parameter 16: Changed by 0.007931\n",
      "  Parameter 17: Changed by 0.008712\n"
     ]
    },
    {
     "name": "stderr",
     "output_type": "stream",
     "text": [
      "\u001b[92mINFO \u001b[0m:      fit progress: (2, 0.05347436227798462, {'accuracy': 0.3397}, 98.11878779088147)\n",
      "\u001b[92mINFO \u001b[0m:      configure_evaluate: strategy sampled 3 clients (out of 6)\n"
     ]
    },
    {
     "name": "stdout",
     "output_type": "stream",
     "text": [
      "  Evaluation results - Loss: 0.0535, Accuracy: 0.3397\n",
      "\u001b[36m(ClientAppActor pid=9209)\u001b[0m [Client 2] evaluate, config: {}\n",
      "\u001b[36m(ClientAppActor pid=9209)\u001b[0m Epoch 2: train loss 0.05193813517689705, accuracy 0.3700870087008701\n"
     ]
    },
    {
     "name": "stderr",
     "output_type": "stream",
     "text": [
      "\u001b[36m(ClientAppActor pid=9209)\u001b[0m /Users/macbook/Desktop/L361/L361_Project/.conda/lib/python3.12/site-packages/datasets/utils/_dill.py:385: DeprecationWarning: co_lnotab is deprecated, use co_lines instead.\u001b[32m [repeated 2x across cluster]\u001b[0m\n",
      "\u001b[36m(ClientAppActor pid=9209)\u001b[0m   obj.co_lnotab,  # for < python 3.10 [not counted in args]\u001b[32m [repeated 2x across cluster]\u001b[0m\n",
      "\u001b[92mINFO \u001b[0m:      aggregate_evaluate: received 3 results and 0 failures\n",
      "\u001b[92mINFO \u001b[0m:      \n",
      "\u001b[92mINFO \u001b[0m:      [ROUND 3]\n",
      "\u001b[92mINFO \u001b[0m:      configure_fit: strategy sampled 3 clients (out of 6)\n"
     ]
    },
    {
     "name": "stdout",
     "output_type": "stream",
     "text": [
      "\u001b[36m(ClientAppActor pid=9211)\u001b[0m [Client 0] fit, config: {}\n",
      "\u001b[36m(ClientAppActor pid=9211)\u001b[0m [Client 4] evaluate, config: {}\u001b[32m [repeated 2x across cluster]\u001b[0m\n"
     ]
    },
    {
     "name": "stderr",
     "output_type": "stream",
     "text": [
      "\u001b[36m(ClientAppActor pid=9214)\u001b[0m /Users/macbook/Desktop/L361/L361_Project/.conda/lib/python3.12/site-packages/datasets/utils/_dill.py:385: DeprecationWarning: co_lnotab is deprecated, use co_lines instead.\u001b[32m [repeated 5x across cluster]\u001b[0m\n",
      "\u001b[36m(ClientAppActor pid=9214)\u001b[0m   obj.co_lnotab,  # for < python 3.10 [not counted in args]\u001b[32m [repeated 5x across cluster]\u001b[0m\n"
     ]
    },
    {
     "name": "stdout",
     "output_type": "stream",
     "text": [
      "\u001b[36m(ClientAppActor pid=9211)\u001b[0m Epoch 1: train loss 0.04941529035568237, accuracy 0.4121793910304485\n",
      "\u001b[36m(ClientAppActor pid=9214)\u001b[0m [Client 2] fit, config: {}\u001b[32m [repeated 2x across cluster]\u001b[0m\n",
      "\u001b[36m(ClientAppActor pid=9214)\u001b[0m Epoch 1: train loss 0.04926541447639465, accuracy 0.4072907290729073\u001b[32m [repeated 2x across cluster]\u001b[0m\n",
      "\u001b[36m(ClientAppActor pid=9211)\u001b[0m Epoch 2: train loss 0.04359892010688782, accuracy 0.4760761961901905\n",
      "\u001b[36m(ClientAppActor pid=9209)\u001b[0m Epoch 2: train loss 0.042759139090776443, accuracy 0.4936993699369937\n"
     ]
    },
    {
     "name": "stderr",
     "output_type": "stream",
     "text": [
      "\u001b[92mINFO \u001b[0m:      aggregate_fit: received 3 results and 0 failures\n"
     ]
    },
    {
     "name": "stdout",
     "output_type": "stream",
     "text": [
      "\u001b[36m(ClientAppActor pid=9214)\u001b[0m Epoch 2: train loss 0.0435304194688797, accuracy 0.4858985898589859\n",
      "\n",
      "==== Server-side evaluation for round 3 ====\n",
      "  Parameter 0: Changed by 0.006005\n",
      "  Parameter 1: Changed by 0.007030\n",
      "  Parameter 2: Changed by 0.007744\n",
      "  Parameter 3: Changed by 0.003129\n",
      "  Parameter 4: Changed by 0.006022\n",
      "  Parameter 5: Changed by 0.006474\n",
      "  Parameter 6: Changed by 0.003978\n",
      "  Parameter 7: Changed by 0.005546\n",
      "  Parameter 8: Changed by 0.002481\n",
      "  Parameter 9: Changed by 0.003844\n",
      "  Parameter 10: Changed by 0.002112\n",
      "  Parameter 11: Changed by 0.003024\n",
      "  Parameter 12: Changed by 0.002294\n",
      "  Parameter 13: Changed by 0.002756\n",
      "  Parameter 14: Changed by 0.002230\n",
      "  Parameter 15: Changed by 0.004271\n",
      "  Parameter 16: Changed by 0.005928\n",
      "  Parameter 17: Changed by 0.008713\n"
     ]
    },
    {
     "name": "stderr",
     "output_type": "stream",
     "text": [
      "\u001b[92mINFO \u001b[0m:      fit progress: (3, 0.04102917464971542, {'accuracy': 0.5139}, 145.5816552909091)\n",
      "\u001b[92mINFO \u001b[0m:      configure_evaluate: strategy sampled 3 clients (out of 6)\n"
     ]
    },
    {
     "name": "stdout",
     "output_type": "stream",
     "text": [
      "  Evaluation results - Loss: 0.0410, Accuracy: 0.5139\n",
      "\u001b[36m(ClientAppActor pid=9214)\u001b[0m [Client 1] evaluate, config: {}\n"
     ]
    },
    {
     "name": "stderr",
     "output_type": "stream",
     "text": [
      "\u001b[36m(ClientAppActor pid=9214)\u001b[0m /Users/macbook/Desktop/L361/L361_Project/.conda/lib/python3.12/site-packages/datasets/utils/_dill.py:385: DeprecationWarning: co_lnotab is deprecated, use co_lines instead.\n",
      "\u001b[36m(ClientAppActor pid=9214)\u001b[0m   obj.co_lnotab,  # for < python 3.10 [not counted in args]\n",
      "\u001b[36m(ClientAppActor pid=9209)\u001b[0m /Users/macbook/Desktop/L361/L361_Project/.conda/lib/python3.12/site-packages/datasets/utils/_dill.py:385: DeprecationWarning: co_lnotab is deprecated, use co_lines instead.\n",
      "\u001b[36m(ClientAppActor pid=9209)\u001b[0m   obj.co_lnotab,  # for < python 3.10 [not counted in args]\n",
      "\u001b[92mINFO \u001b[0m:      aggregate_evaluate: received 3 results and 0 failures\n",
      "\u001b[92mINFO \u001b[0m:      \n",
      "\u001b[92mINFO \u001b[0m:      [ROUND 4]\n",
      "\u001b[92mINFO \u001b[0m:      configure_fit: strategy sampled 3 clients (out of 6)\n"
     ]
    },
    {
     "name": "stdout",
     "output_type": "stream",
     "text": [
      "\u001b[36m(ClientAppActor pid=9209)\u001b[0m [Client 3] fit, config: {}\n",
      "\u001b[36m(ClientAppActor pid=9214)\u001b[0m Epoch 1: train loss 0.04139893874526024, accuracy 0.5057005700570057\n",
      "\u001b[36m(ClientAppActor pid=9211)\u001b[0m [Client 2] evaluate, config: {}\u001b[32m [repeated 2x across cluster]\u001b[0m\n",
      "\u001b[36m(ClientAppActor pid=9214)\u001b[0m [Client 4] fit, config: {}\u001b[32m [repeated 2x across cluster]\u001b[0m\n",
      "\u001b[36m(ClientAppActor pid=9209)\u001b[0m Epoch 2: train loss 0.037072762846946716, accuracy 0.57005700570057\u001b[32m [repeated 3x across cluster]\u001b[0m\n"
     ]
    },
    {
     "name": "stderr",
     "output_type": "stream",
     "text": [
      "\u001b[92mINFO \u001b[0m:      aggregate_fit: received 3 results and 0 failures\n"
     ]
    },
    {
     "name": "stdout",
     "output_type": "stream",
     "text": [
      "\n",
      "==== Server-side evaluation for round 4 ====\n",
      "  Parameter 0: Changed by 0.005312\n",
      "  Parameter 1: Changed by 0.006686\n",
      "  Parameter 2: Changed by 0.006330\n",
      "  Parameter 3: Changed by 0.002935\n",
      "  Parameter 4: Changed by 0.005356\n",
      "  Parameter 5: Changed by 0.005675\n",
      "  Parameter 6: Changed by 0.003489\n",
      "  Parameter 7: Changed by 0.003675\n",
      "  Parameter 8: Changed by 0.002190\n",
      "  Parameter 9: Changed by 0.002935\n",
      "  Parameter 10: Changed by 0.001948\n",
      "  Parameter 11: Changed by 0.002189\n",
      "  Parameter 12: Changed by 0.001876\n",
      "  Parameter 13: Changed by 0.002334\n",
      "  Parameter 14: Changed by 0.001982\n",
      "  Parameter 15: Changed by 0.003580\n",
      "  Parameter 16: Changed by 0.005296\n",
      "  Parameter 17: Changed by 0.006373\n"
     ]
    },
    {
     "name": "stderr",
     "output_type": "stream",
     "text": [
      "\u001b[92mINFO \u001b[0m:      fit progress: (4, 0.035435684210062025, {'accuracy': 0.5869}, 186.78615766600706)\n",
      "\u001b[92mINFO \u001b[0m:      configure_evaluate: strategy sampled 3 clients (out of 6)\n"
     ]
    },
    {
     "name": "stdout",
     "output_type": "stream",
     "text": [
      "  Evaluation results - Loss: 0.0354, Accuracy: 0.5869\n"
     ]
    },
    {
     "name": "stderr",
     "output_type": "stream",
     "text": [
      "\u001b[36m(ClientAppActor pid=9209)\u001b[0m /Users/macbook/Desktop/L361/L361_Project/.conda/lib/python3.12/site-packages/datasets/utils/_dill.py:385: DeprecationWarning: co_lnotab is deprecated, use co_lines instead.\u001b[32m [repeated 5x across cluster]\u001b[0m\n",
      "\u001b[36m(ClientAppActor pid=9209)\u001b[0m   obj.co_lnotab,  # for < python 3.10 [not counted in args]\u001b[32m [repeated 5x across cluster]\u001b[0m\n"
     ]
    },
    {
     "name": "stdout",
     "output_type": "stream",
     "text": [
      "\u001b[36m(ClientAppActor pid=9209)\u001b[0m [Client 5] evaluate, config: {}\n",
      "\u001b[36m(ClientAppActor pid=9211)\u001b[0m Epoch 2: train loss 0.037527699023485184, accuracy 0.5639718014099295\u001b[32m [repeated 2x across cluster]\u001b[0m\n"
     ]
    },
    {
     "name": "stderr",
     "output_type": "stream",
     "text": [
      "\u001b[92mINFO \u001b[0m:      aggregate_evaluate: received 3 results and 0 failures\n",
      "\u001b[92mINFO \u001b[0m:      \n",
      "\u001b[92mINFO \u001b[0m:      [ROUND 5]\n",
      "\u001b[92mINFO \u001b[0m:      configure_fit: strategy sampled 3 clients (out of 6)\n"
     ]
    },
    {
     "name": "stdout",
     "output_type": "stream",
     "text": [
      "\u001b[36m(ClientAppActor pid=9214)\u001b[0m [Client 0] fit, config: {}\n",
      "\u001b[36m(ClientAppActor pid=9214)\u001b[0m [Client 3] evaluate, config: {}\u001b[32m [repeated 2x across cluster]\u001b[0m\n"
     ]
    },
    {
     "name": "stderr",
     "output_type": "stream",
     "text": [
      "\u001b[36m(ClientAppActor pid=9214)\u001b[0m /Users/macbook/Desktop/L361/L361_Project/.conda/lib/python3.12/site-packages/datasets/utils/_dill.py:385: DeprecationWarning: co_lnotab is deprecated, use co_lines instead.\u001b[32m [repeated 3x across cluster]\u001b[0m\n",
      "\u001b[36m(ClientAppActor pid=9214)\u001b[0m   obj.co_lnotab,  # for < python 3.10 [not counted in args]\u001b[32m [repeated 3x across cluster]\u001b[0m\n"
     ]
    },
    {
     "name": "stdout",
     "output_type": "stream",
     "text": [
      "\u001b[36m(ClientAppActor pid=9214)\u001b[0m Epoch 1: train loss 0.03742174059152603, accuracy 0.5689215539223039\n",
      "\u001b[36m(ClientAppActor pid=9211)\u001b[0m [Client 3] fit, config: {}\u001b[32m [repeated 2x across cluster]\u001b[0m\n",
      "\u001b[36m(ClientAppActor pid=9214)\u001b[0m Epoch 2: train loss 0.032461073249578476, accuracy 0.6301184940752962\u001b[32m [repeated 3x across cluster]\u001b[0m\n"
     ]
    },
    {
     "name": "stderr",
     "output_type": "stream",
     "text": [
      "\u001b[92mINFO \u001b[0m:      aggregate_fit: received 3 results and 0 failures\n"
     ]
    },
    {
     "name": "stdout",
     "output_type": "stream",
     "text": [
      "\n",
      "==== Server-side evaluation for round 5 ====\n",
      "  Parameter 0: Changed by 0.005024\n",
      "  Parameter 1: Changed by 0.006346\n",
      "  Parameter 2: Changed by 0.005604\n",
      "  Parameter 3: Changed by 0.002635\n",
      "  Parameter 4: Changed by 0.004851\n",
      "  Parameter 5: Changed by 0.004116\n",
      "  Parameter 6: Changed by 0.003263\n",
      "  Parameter 7: Changed by 0.003652\n",
      "  Parameter 8: Changed by 0.002160\n",
      "  Parameter 9: Changed by 0.003328\n",
      "  Parameter 10: Changed by 0.001936\n",
      "  Parameter 11: Changed by 0.002548\n",
      "  Parameter 12: Changed by 0.001797\n",
      "  Parameter 13: Changed by 0.001885\n",
      "  Parameter 14: Changed by 0.001998\n",
      "  Parameter 15: Changed by 0.003596\n",
      "  Parameter 16: Changed by 0.005740\n",
      "  Parameter 17: Changed by 0.004260\n"
     ]
    },
    {
     "name": "stderr",
     "output_type": "stream",
     "text": [
      "\u001b[92mINFO \u001b[0m:      fit progress: (5, 0.03272338896393776, {'accuracy': 0.624}, 231.825157165993)\n",
      "\u001b[92mINFO \u001b[0m:      configure_evaluate: strategy sampled 3 clients (out of 6)\n"
     ]
    },
    {
     "name": "stdout",
     "output_type": "stream",
     "text": [
      "  Evaluation results - Loss: 0.0327, Accuracy: 0.6240\n",
      "\u001b[36m(ClientAppActor pid=9209)\u001b[0m [Client 2] evaluate, config: {}\n",
      "\u001b[36m(ClientAppActor pid=9211)\u001b[0m Epoch 2: train loss 0.03146754205226898, accuracy 0.6357635763576358\u001b[32m [repeated 2x across cluster]\u001b[0m\n"
     ]
    },
    {
     "name": "stderr",
     "output_type": "stream",
     "text": [
      "\u001b[36m(ClientAppActor pid=9209)\u001b[0m /Users/macbook/Desktop/L361/L361_Project/.conda/lib/python3.12/site-packages/datasets/utils/_dill.py:385: DeprecationWarning: co_lnotab is deprecated, use co_lines instead.\u001b[32m [repeated 3x across cluster]\u001b[0m\n",
      "\u001b[36m(ClientAppActor pid=9209)\u001b[0m   obj.co_lnotab,  # for < python 3.10 [not counted in args]\u001b[32m [repeated 3x across cluster]\u001b[0m\n",
      "\u001b[92mINFO \u001b[0m:      aggregate_evaluate: received 3 results and 0 failures\n",
      "\u001b[92mINFO \u001b[0m:      \n",
      "\u001b[92mINFO \u001b[0m:      [ROUND 6]\n",
      "\u001b[92mINFO \u001b[0m:      configure_fit: strategy sampled 3 clients (out of 6)\n",
      "\u001b[36m(ClientAppActor pid=9211)\u001b[0m /Users/macbook/Desktop/L361/L361_Project/.conda/lib/python3.12/site-packages/datasets/utils/_dill.py:385: DeprecationWarning: co_lnotab is deprecated, use co_lines instead.\u001b[32m [repeated 3x across cluster]\u001b[0m\n",
      "\u001b[36m(ClientAppActor pid=9211)\u001b[0m   obj.co_lnotab,  # for < python 3.10 [not counted in args]\u001b[32m [repeated 3x across cluster]\u001b[0m\n"
     ]
    },
    {
     "name": "stdout",
     "output_type": "stream",
     "text": [
      "\u001b[36m(ClientAppActor pid=9211)\u001b[0m [Client 1] fit, config: {}\n",
      "\u001b[36m(ClientAppActor pid=9214)\u001b[0m [Client 5] evaluate, config: {}\u001b[32m [repeated 2x across cluster]\u001b[0m\n",
      "\u001b[36m(ClientAppActor pid=9211)\u001b[0m Epoch 1: train loss 0.033299386501312256, accuracy 0.6187190640467977\n",
      "\u001b[36m(ClientAppActor pid=9209)\u001b[0m [Client 5] fit, config: {}\u001b[32m [repeated 2x across cluster]\u001b[0m\n",
      "\u001b[36m(ClientAppActor pid=9211)\u001b[0m Epoch 2: train loss 0.028365811333060265, accuracy 0.672266386680666\u001b[32m [repeated 3x across cluster]\u001b[0m\n"
     ]
    },
    {
     "name": "stderr",
     "output_type": "stream",
     "text": [
      "\u001b[92mINFO \u001b[0m:      aggregate_fit: received 3 results and 0 failures\n"
     ]
    },
    {
     "name": "stdout",
     "output_type": "stream",
     "text": [
      "\n",
      "==== Server-side evaluation for round 6 ====\n",
      "  Parameter 0: Changed by 0.004782\n",
      "  Parameter 1: Changed by 0.006204\n",
      "  Parameter 2: Changed by 0.005161\n",
      "  Parameter 3: Changed by 0.002837\n",
      "  Parameter 4: Changed by 0.004826\n",
      "  Parameter 5: Changed by 0.004418\n",
      "  Parameter 6: Changed by 0.003332\n",
      "  Parameter 7: Changed by 0.003721\n",
      "  Parameter 8: Changed by 0.002174\n",
      "  Parameter 9: Changed by 0.003587\n",
      "  Parameter 10: Changed by 0.001901\n",
      "  Parameter 11: Changed by 0.002671\n",
      "  Parameter 12: Changed by 0.001788\n",
      "  Parameter 13: Changed by 0.002533\n",
      "  Parameter 14: Changed by 0.002118\n",
      "  Parameter 15: Changed by 0.004013\n",
      "  Parameter 16: Changed by 0.006233\n",
      "  Parameter 17: Changed by 0.004123\n"
     ]
    },
    {
     "name": "stderr",
     "output_type": "stream",
     "text": [
      "\u001b[92mINFO \u001b[0m:      fit progress: (6, 0.029232074850797655, {'accuracy': 0.6717}, 257.3432658328675)\n",
      "\u001b[92mINFO \u001b[0m:      configure_evaluate: strategy sampled 3 clients (out of 6)\n"
     ]
    },
    {
     "name": "stdout",
     "output_type": "stream",
     "text": [
      "  Evaluation results - Loss: 0.0292, Accuracy: 0.6717\n",
      "\u001b[36m(ClientAppActor pid=9214)\u001b[0m [Client 1] evaluate, config: {}\n",
      "\u001b[36m(ClientAppActor pid=9209)\u001b[0m Epoch 2: train loss 0.029577601701021194, accuracy 0.6660666066606661\u001b[32m [repeated 2x across cluster]\u001b[0m\n"
     ]
    },
    {
     "name": "stderr",
     "output_type": "stream",
     "text": [
      "\u001b[36m(ClientAppActor pid=9214)\u001b[0m /Users/macbook/Desktop/L361/L361_Project/.conda/lib/python3.12/site-packages/datasets/utils/_dill.py:385: DeprecationWarning: co_lnotab is deprecated, use co_lines instead.\u001b[32m [repeated 3x across cluster]\u001b[0m\n",
      "\u001b[36m(ClientAppActor pid=9214)\u001b[0m   obj.co_lnotab,  # for < python 3.10 [not counted in args]\u001b[32m [repeated 3x across cluster]\u001b[0m\n"
     ]
    },
    {
     "name": "stdout",
     "output_type": "stream",
     "text": [
      "\u001b[36m(ClientAppActor pid=9209)\u001b[0m [Client 5] evaluate, config: {}\u001b[32m [repeated 2x across cluster]\u001b[0m\n"
     ]
    },
    {
     "name": "stderr",
     "output_type": "stream",
     "text": [
      "\u001b[36m(ClientAppActor pid=9209)\u001b[0m /Users/macbook/Desktop/L361/L361_Project/.conda/lib/python3.12/site-packages/datasets/utils/_dill.py:385: DeprecationWarning: co_lnotab is deprecated, use co_lines instead.\u001b[32m [repeated 2x across cluster]\u001b[0m\n",
      "\u001b[36m(ClientAppActor pid=9209)\u001b[0m   obj.co_lnotab,  # for < python 3.10 [not counted in args]\u001b[32m [repeated 2x across cluster]\u001b[0m\n",
      "\u001b[92mINFO \u001b[0m:      aggregate_evaluate: received 3 results and 0 failures\n",
      "\u001b[92mINFO \u001b[0m:      \n",
      "\u001b[92mINFO \u001b[0m:      [ROUND 7]\n",
      "\u001b[92mINFO \u001b[0m:      configure_fit: strategy sampled 3 clients (out of 6)\n"
     ]
    },
    {
     "name": "stdout",
     "output_type": "stream",
     "text": [
      "\u001b[36m(ClientAppActor pid=9211)\u001b[0m [Client 4] fit, config: {}\n",
      "\u001b[36m(ClientAppActor pid=9211)\u001b[0m Epoch 1: train loss 0.029228294268250465, accuracy 0.6645664566456646\n",
      "\u001b[36m(ClientAppActor pid=9214)\u001b[0m [Client 5] fit, config: {}\u001b[32m [repeated 2x across cluster]\u001b[0m\n",
      "\u001b[36m(ClientAppActor pid=9211)\u001b[0m Epoch 2: train loss 0.02397218532860279, accuracy 0.7232223222322233\u001b[32m [repeated 3x across cluster]\u001b[0m\n"
     ]
    },
    {
     "name": "stderr",
     "output_type": "stream",
     "text": [
      "\u001b[92mINFO \u001b[0m:      aggregate_fit: received 3 results and 0 failures\n"
     ]
    },
    {
     "name": "stdout",
     "output_type": "stream",
     "text": [
      "\n",
      "==== Server-side evaluation for round 7 ====\n",
      "  Parameter 0: Changed by 0.004045\n",
      "  Parameter 1: Changed by 0.005845\n",
      "  Parameter 2: Changed by 0.005092\n",
      "  Parameter 3: Changed by 0.002401\n",
      "  Parameter 4: Changed by 0.004531\n",
      "  Parameter 5: Changed by 0.003670\n",
      "  Parameter 6: Changed by 0.003410\n",
      "  Parameter 7: Changed by 0.003138\n",
      "  Parameter 8: Changed by 0.002117\n",
      "  Parameter 9: Changed by 0.003047\n",
      "  Parameter 10: Changed by 0.001860\n",
      "  Parameter 11: Changed by 0.002213\n",
      "  Parameter 12: Changed by 0.001831\n",
      "  Parameter 13: Changed by 0.002327\n",
      "  Parameter 14: Changed by 0.002176\n",
      "  Parameter 15: Changed by 0.004106\n",
      "  Parameter 16: Changed by 0.006513\n",
      "  Parameter 17: Changed by 0.003395\n"
     ]
    },
    {
     "name": "stderr",
     "output_type": "stream",
     "text": [
      "\u001b[92mINFO \u001b[0m:      fit progress: (7, 0.027121583062410356, {'accuracy': 0.6996}, 312.3141702909488)\n",
      "\u001b[92mINFO \u001b[0m:      configure_evaluate: strategy sampled 3 clients (out of 6)\n"
     ]
    },
    {
     "name": "stdout",
     "output_type": "stream",
     "text": [
      "  Evaluation results - Loss: 0.0271, Accuracy: 0.6996\n",
      "\u001b[36m(ClientAppActor pid=9209)\u001b[0m [Client 3] evaluate, config: {}\n",
      "\u001b[36m(ClientAppActor pid=9214)\u001b[0m Epoch 2: train loss 0.024482637643814087, accuracy 0.7220222022202221\u001b[32m [repeated 2x across cluster]\u001b[0m\n"
     ]
    },
    {
     "name": "stderr",
     "output_type": "stream",
     "text": [
      "\u001b[36m(ClientAppActor pid=9209)\u001b[0m /Users/macbook/Desktop/L361/L361_Project/.conda/lib/python3.12/site-packages/datasets/utils/_dill.py:385: DeprecationWarning: co_lnotab is deprecated, use co_lines instead.\u001b[32m [repeated 4x across cluster]\u001b[0m\n",
      "\u001b[36m(ClientAppActor pid=9209)\u001b[0m   obj.co_lnotab,  # for < python 3.10 [not counted in args]\u001b[32m [repeated 4x across cluster]\u001b[0m\n",
      "\u001b[92mINFO \u001b[0m:      aggregate_evaluate: received 3 results and 0 failures\n",
      "\u001b[92mINFO \u001b[0m:      \n",
      "\u001b[92mINFO \u001b[0m:      [ROUND 8]\n",
      "\u001b[92mINFO \u001b[0m:      configure_fit: strategy sampled 3 clients (out of 6)\n"
     ]
    },
    {
     "name": "stdout",
     "output_type": "stream",
     "text": [
      "\u001b[36m(ClientAppActor pid=9211)\u001b[0m [Client 0] fit, config: {}\n",
      "\u001b[36m(ClientAppActor pid=9211)\u001b[0m [Client 4] evaluate, config: {}\u001b[32m [repeated 2x across cluster]\u001b[0m\n",
      "\u001b[36m(ClientAppActor pid=9211)\u001b[0m Epoch 1: train loss 0.02723400667309761, accuracy 0.6974651267436628\n",
      "\u001b[36m(ClientAppActor pid=9214)\u001b[0m [Client 1] fit, config: {}\u001b[32m [repeated 2x across cluster]\u001b[0m\n",
      "\u001b[36m(ClientAppActor pid=9209)\u001b[0m Epoch 1: train loss 0.02503880113363266, accuracy 0.7196219621962197\n",
      "\u001b[36m(ClientAppActor pid=9211)\u001b[0m Epoch 2: train loss 0.021129697561264038, accuracy 0.7616619169041547\u001b[32m [repeated 2x across cluster]\u001b[0m\n"
     ]
    },
    {
     "name": "stderr",
     "output_type": "stream",
     "text": [
      "\u001b[92mINFO \u001b[0m:      aggregate_fit: received 3 results and 0 failures\n"
     ]
    },
    {
     "name": "stdout",
     "output_type": "stream",
     "text": [
      "\n",
      "==== Server-side evaluation for round 8 ====\n",
      "  Parameter 0: Changed by 0.003920\n",
      "  Parameter 1: Changed by 0.004689\n",
      "  Parameter 2: Changed by 0.004817\n",
      "  Parameter 3: Changed by 0.002832\n",
      "  Parameter 4: Changed by 0.004537\n",
      "  Parameter 5: Changed by 0.003976\n",
      "  Parameter 6: Changed by 0.003256\n",
      "  Parameter 7: Changed by 0.003167\n",
      "  Parameter 8: Changed by 0.002121\n",
      "  Parameter 9: Changed by 0.003294\n",
      "  Parameter 10: Changed by 0.001953\n",
      "  Parameter 11: Changed by 0.002573\n",
      "  Parameter 12: Changed by 0.001795\n",
      "  Parameter 13: Changed by 0.002247\n",
      "  Parameter 14: Changed by 0.002155\n",
      "  Parameter 15: Changed by 0.004232\n",
      "  Parameter 16: Changed by 0.006222\n",
      "  Parameter 17: Changed by 0.003546\n"
     ]
    },
    {
     "name": "stderr",
     "output_type": "stream",
     "text": [
      "\u001b[92mINFO \u001b[0m:      fit progress: (8, 0.026131936064362527, {'accuracy': 0.7126}, 358.55470829084516)\n",
      "\u001b[92mINFO \u001b[0m:      configure_evaluate: strategy sampled 3 clients (out of 6)\n"
     ]
    },
    {
     "name": "stdout",
     "output_type": "stream",
     "text": [
      "  Evaluation results - Loss: 0.0261, Accuracy: 0.7126\n",
      "\u001b[36m(ClientAppActor pid=9209)\u001b[0m [Client 2] evaluate, config: {}\n",
      "\u001b[36m(ClientAppActor pid=9214)\u001b[0m Epoch 2: train loss 0.021190084517002106, accuracy 0.7579121043947803\u001b[32m [repeated 2x across cluster]\u001b[0m\n"
     ]
    },
    {
     "name": "stderr",
     "output_type": "stream",
     "text": [
      "\u001b[36m(ClientAppActor pid=9209)\u001b[0m /Users/macbook/Desktop/L361/L361_Project/.conda/lib/python3.12/site-packages/datasets/utils/_dill.py:385: DeprecationWarning: co_lnotab is deprecated, use co_lines instead.\u001b[32m [repeated 6x across cluster]\u001b[0m\n",
      "\u001b[36m(ClientAppActor pid=9209)\u001b[0m   obj.co_lnotab,  # for < python 3.10 [not counted in args]\u001b[32m [repeated 6x across cluster]\u001b[0m\n",
      "\u001b[92mINFO \u001b[0m:      aggregate_evaluate: received 3 results and 0 failures\n",
      "\u001b[92mINFO \u001b[0m:      \n",
      "\u001b[92mINFO \u001b[0m:      [ROUND 9]\n",
      "\u001b[92mINFO \u001b[0m:      configure_fit: strategy sampled 3 clients (out of 6)\n"
     ]
    },
    {
     "name": "stdout",
     "output_type": "stream",
     "text": [
      "\u001b[36m(ClientAppActor pid=9214)\u001b[0m [Client 2] fit, config: {}\n",
      "\u001b[36m(ClientAppActor pid=9211)\u001b[0m [Client 5] evaluate, config: {}\u001b[32m [repeated 2x across cluster]\u001b[0m\n",
      "\u001b[36m(ClientAppActor pid=9214)\u001b[0m Epoch 1: train loss 0.02628881298005581, accuracy 0.7050705070507051\n",
      "\u001b[36m(ClientAppActor pid=9211)\u001b[0m [Client 1] fit, config: {}\u001b[32m [repeated 2x across cluster]\u001b[0m\n",
      "\u001b[36m(ClientAppActor pid=9209)\u001b[0m Epoch 1: train loss 0.022772766649723053, accuracy 0.743962801859907\n",
      "\u001b[36m(ClientAppActor pid=9214)\u001b[0m Epoch 2: train loss 0.02009035274386406, accuracy 0.7691269126912691\u001b[32m [repeated 2x across cluster]\u001b[0m\n"
     ]
    },
    {
     "name": "stderr",
     "output_type": "stream",
     "text": [
      "\u001b[92mINFO \u001b[0m:      aggregate_fit: received 3 results and 0 failures\n"
     ]
    },
    {
     "name": "stdout",
     "output_type": "stream",
     "text": [
      "\n",
      "==== Server-side evaluation for round 9 ====\n",
      "  Parameter 0: Changed by 0.003859\n",
      "  Parameter 1: Changed by 0.003272\n",
      "  Parameter 2: Changed by 0.004279\n",
      "  Parameter 3: Changed by 0.002031\n",
      "  Parameter 4: Changed by 0.004470\n",
      "  Parameter 5: Changed by 0.003875\n",
      "  Parameter 6: Changed by 0.003203\n",
      "  Parameter 7: Changed by 0.002963\n",
      "  Parameter 8: Changed by 0.002018\n",
      "  Parameter 9: Changed by 0.002958\n",
      "  Parameter 10: Changed by 0.001946\n",
      "  Parameter 11: Changed by 0.002505\n",
      "  Parameter 12: Changed by 0.001839\n",
      "  Parameter 13: Changed by 0.002364\n",
      "  Parameter 14: Changed by 0.002368\n",
      "  Parameter 15: Changed by 0.004412\n",
      "  Parameter 16: Changed by 0.006771\n",
      "  Parameter 17: Changed by 0.003627\n"
     ]
    },
    {
     "name": "stderr",
     "output_type": "stream",
     "text": [
      "\u001b[92mINFO \u001b[0m:      fit progress: (9, 0.02524970219731331, {'accuracy': 0.7324}, 400.55342070781626)\n",
      "\u001b[92mINFO \u001b[0m:      configure_evaluate: strategy sampled 3 clients (out of 6)\n"
     ]
    },
    {
     "name": "stdout",
     "output_type": "stream",
     "text": [
      "  Evaluation results - Loss: 0.0252, Accuracy: 0.7324\n",
      "\u001b[36m(ClientAppActor pid=9209)\u001b[0m [Client 1] evaluate, config: {}\n",
      "\u001b[36m(ClientAppActor pid=9211)\u001b[0m Epoch 2: train loss 0.016928479075431824, accuracy 0.8045597720113994\u001b[32m [repeated 2x across cluster]\u001b[0m\n"
     ]
    },
    {
     "name": "stderr",
     "output_type": "stream",
     "text": [
      "\u001b[36m(ClientAppActor pid=9209)\u001b[0m /Users/macbook/Desktop/L361/L361_Project/.conda/lib/python3.12/site-packages/datasets/utils/_dill.py:385: DeprecationWarning: co_lnotab is deprecated, use co_lines instead.\u001b[32m [repeated 6x across cluster]\u001b[0m\n",
      "\u001b[36m(ClientAppActor pid=9209)\u001b[0m   obj.co_lnotab,  # for < python 3.10 [not counted in args]\u001b[32m [repeated 6x across cluster]\u001b[0m\n",
      "\u001b[92mINFO \u001b[0m:      aggregate_evaluate: received 3 results and 0 failures\n",
      "\u001b[92mINFO \u001b[0m:      \n",
      "\u001b[92mINFO \u001b[0m:      [ROUND 10]\n",
      "\u001b[92mINFO \u001b[0m:      configure_fit: strategy sampled 3 clients (out of 6)\n"
     ]
    },
    {
     "name": "stdout",
     "output_type": "stream",
     "text": [
      "\u001b[36m(ClientAppActor pid=9214)\u001b[0m [Client 2] fit, config: {}\n",
      "\u001b[36m(ClientAppActor pid=9214)\u001b[0m [Client 5] evaluate, config: {}\u001b[32m [repeated 2x across cluster]\u001b[0m\n"
     ]
    },
    {
     "name": "stderr",
     "output_type": "stream",
     "text": [
      "\u001b[36m(ClientAppActor pid=9209)\u001b[0m /Users/macbook/Desktop/L361/L361_Project/.conda/lib/python3.12/site-packages/datasets/utils/_dill.py:385: DeprecationWarning: co_lnotab is deprecated, use co_lines instead.\u001b[32m [repeated 5x across cluster]\u001b[0m\n",
      "\u001b[36m(ClientAppActor pid=9209)\u001b[0m   obj.co_lnotab,  # for < python 3.10 [not counted in args]\u001b[32m [repeated 5x across cluster]\u001b[0m\n"
     ]
    },
    {
     "name": "stdout",
     "output_type": "stream",
     "text": [
      "\u001b[36m(ClientAppActor pid=9214)\u001b[0m Epoch 1: train loss 0.02177339419722557, accuracy 0.7554755475547554\n",
      "\u001b[36m(ClientAppActor pid=9209)\u001b[0m [Client 5] fit, config: {}\u001b[32m [repeated 2x across cluster]\u001b[0m\n",
      "\u001b[36m(ClientAppActor pid=9214)\u001b[0m Epoch 2: train loss 0.015234396792948246, accuracy 0.8258325832583259\u001b[32m [repeated 3x across cluster]\u001b[0m\n"
     ]
    },
    {
     "name": "stderr",
     "output_type": "stream",
     "text": [
      "\u001b[92mINFO \u001b[0m:      aggregate_fit: received 3 results and 0 failures\n"
     ]
    },
    {
     "name": "stdout",
     "output_type": "stream",
     "text": [
      "\n",
      "==== Server-side evaluation for round 10 ====\n",
      "  Parameter 0: Changed by 0.003503\n",
      "  Parameter 1: Changed by 0.003916\n",
      "  Parameter 2: Changed by 0.004344\n",
      "  Parameter 3: Changed by 0.002230\n",
      "  Parameter 4: Changed by 0.004373\n",
      "  Parameter 5: Changed by 0.003630\n",
      "  Parameter 6: Changed by 0.003405\n",
      "  Parameter 7: Changed by 0.002700\n",
      "  Parameter 8: Changed by 0.002211\n",
      "  Parameter 9: Changed by 0.003221\n",
      "  Parameter 10: Changed by 0.001949\n",
      "  Parameter 11: Changed by 0.002311\n",
      "  Parameter 12: Changed by 0.001800\n",
      "  Parameter 13: Changed by 0.002486\n",
      "  Parameter 14: Changed by 0.002410\n",
      "  Parameter 15: Changed by 0.003857\n",
      "  Parameter 16: Changed by 0.006334\n",
      "  Parameter 17: Changed by 0.003740\n"
     ]
    },
    {
     "name": "stderr",
     "output_type": "stream",
     "text": [
      "\u001b[92mINFO \u001b[0m:      fit progress: (10, 0.024347268275916576, {'accuracy': 0.7441}, 431.61503024981357)\n",
      "\u001b[92mINFO \u001b[0m:      configure_evaluate: strategy sampled 3 clients (out of 6)\n"
     ]
    },
    {
     "name": "stdout",
     "output_type": "stream",
     "text": [
      "  Evaluation results - Loss: 0.0243, Accuracy: 0.7441\n",
      "\u001b[36m(ClientAppActor pid=9214)\u001b[0m [Client 4] evaluate, config: {}\n",
      "\u001b[36m(ClientAppActor pid=9209)\u001b[0m Epoch 2: train loss 0.014904577285051346, accuracy 0.8292829282928292\u001b[32m [repeated 2x across cluster]\u001b[0m\n"
     ]
    },
    {
     "name": "stderr",
     "output_type": "stream",
     "text": [
      "\u001b[36m(ClientAppActor pid=9214)\u001b[0m /Users/macbook/Desktop/L361/L361_Project/.conda/lib/python3.12/site-packages/datasets/utils/_dill.py:385: DeprecationWarning: co_lnotab is deprecated, use co_lines instead.\n",
      "\u001b[36m(ClientAppActor pid=9214)\u001b[0m   obj.co_lnotab,  # for < python 3.10 [not counted in args]\n",
      "\u001b[36m(ClientAppActor pid=9209)\u001b[0m /Users/macbook/Desktop/L361/L361_Project/.conda/lib/python3.12/site-packages/datasets/utils/_dill.py:385: DeprecationWarning: co_lnotab is deprecated, use co_lines instead.\n",
      "\u001b[36m(ClientAppActor pid=9209)\u001b[0m   obj.co_lnotab,  # for < python 3.10 [not counted in args]\n",
      "\u001b[92mINFO \u001b[0m:      aggregate_evaluate: received 3 results and 0 failures\n",
      "\u001b[92mINFO \u001b[0m:      \n",
      "\u001b[92mINFO \u001b[0m:      [ROUND 11]\n",
      "\u001b[92mINFO \u001b[0m:      configure_fit: strategy sampled 3 clients (out of 6)\n"
     ]
    },
    {
     "name": "stdout",
     "output_type": "stream",
     "text": [
      "\u001b[36m(ClientAppActor pid=9209)\u001b[0m [Client 0] fit, config: {}\n",
      "\u001b[36m(ClientAppActor pid=9211)\u001b[0m [Client 1] evaluate, config: {}\u001b[32m [repeated 2x across cluster]\u001b[0m\n",
      "\u001b[36m(ClientAppActor pid=9214)\u001b[0m Epoch 1: train loss 0.02002931945025921, accuracy 0.7715271527152715\n",
      "\u001b[36m(ClientAppActor pid=9211)\u001b[0m [Client 1] fit, config: {}\u001b[32m [repeated 2x across cluster]\u001b[0m\n",
      "\u001b[36m(ClientAppActor pid=9211)\u001b[0m Epoch 1: train loss 0.01978430338203907, accuracy 0.7768111594420279\n"
     ]
    },
    {
     "name": "stderr",
     "output_type": "stream",
     "text": [
      "\u001b[92mINFO \u001b[0m:      aggregate_fit: received 3 results and 0 failures\n"
     ]
    },
    {
     "name": "stdout",
     "output_type": "stream",
     "text": [
      "\u001b[36m(ClientAppActor pid=9209)\u001b[0m Epoch 2: train loss 0.013368290849030018, accuracy 0.8513574321283935\u001b[32m [repeated 2x across cluster]\u001b[0m\n",
      "\n",
      "==== Server-side evaluation for round 11 ====\n",
      "  Parameter 0: Changed by 0.003101\n",
      "  Parameter 1: Changed by 0.004360\n",
      "  Parameter 2: Changed by 0.004177\n",
      "  Parameter 3: Changed by 0.002159\n",
      "  Parameter 4: Changed by 0.004307\n",
      "  Parameter 5: Changed by 0.004178\n",
      "  Parameter 6: Changed by 0.003370\n",
      "  Parameter 7: Changed by 0.002707\n",
      "  Parameter 8: Changed by 0.002325\n",
      "  Parameter 9: Changed by 0.003592\n",
      "  Parameter 10: Changed by 0.002027\n",
      "  Parameter 11: Changed by 0.002454\n",
      "  Parameter 12: Changed by 0.001821\n",
      "  Parameter 13: Changed by 0.002357\n",
      "  Parameter 14: Changed by 0.002499\n",
      "  Parameter 15: Changed by 0.004068\n",
      "  Parameter 16: Changed by 0.006757\n",
      "  Parameter 17: Changed by 0.002848\n"
     ]
    },
    {
     "name": "stderr",
     "output_type": "stream",
     "text": [
      "\u001b[92mINFO \u001b[0m:      fit progress: (11, 0.024210428008437156, {'accuracy': 0.7503}, 469.6963872499764)\n",
      "\u001b[92mINFO \u001b[0m:      configure_evaluate: strategy sampled 3 clients (out of 6)\n"
     ]
    },
    {
     "name": "stdout",
     "output_type": "stream",
     "text": [
      "  Evaluation results - Loss: 0.0242, Accuracy: 0.7503\n"
     ]
    },
    {
     "name": "stderr",
     "output_type": "stream",
     "text": [
      "\u001b[36m(ClientAppActor pid=9211)\u001b[0m /Users/macbook/Desktop/L361/L361_Project/.conda/lib/python3.12/site-packages/datasets/utils/_dill.py:385: DeprecationWarning: co_lnotab is deprecated, use co_lines instead.\u001b[32m [repeated 5x across cluster]\u001b[0m\n",
      "\u001b[36m(ClientAppActor pid=9211)\u001b[0m   obj.co_lnotab,  # for < python 3.10 [not counted in args]\u001b[32m [repeated 5x across cluster]\u001b[0m\n"
     ]
    },
    {
     "name": "stdout",
     "output_type": "stream",
     "text": [
      "\u001b[36m(ClientAppActor pid=9211)\u001b[0m [Client 3] evaluate, config: {}\n",
      "\u001b[36m(ClientAppActor pid=9211)\u001b[0m Epoch 2: train loss 0.012914513237774372, accuracy 0.8576571171441428\u001b[32m [repeated 2x across cluster]\u001b[0m\n"
     ]
    },
    {
     "name": "stderr",
     "output_type": "stream",
     "text": [
      "\u001b[92mINFO \u001b[0m:      aggregate_evaluate: received 3 results and 0 failures\n",
      "\u001b[92mINFO \u001b[0m:      \n",
      "\u001b[92mINFO \u001b[0m:      [ROUND 12]\n",
      "\u001b[92mINFO \u001b[0m:      configure_fit: strategy sampled 3 clients (out of 6)\n"
     ]
    },
    {
     "name": "stdout",
     "output_type": "stream",
     "text": [
      "\u001b[36m(ClientAppActor pid=9214)\u001b[0m [Client 1] fit, config: {}\n",
      "\u001b[36m(ClientAppActor pid=9214)\u001b[0m [Client 4] evaluate, config: {}\u001b[32m [repeated 2x across cluster]\u001b[0m\n"
     ]
    },
    {
     "name": "stderr",
     "output_type": "stream",
     "text": [
      "\u001b[36m(ClientAppActor pid=9214)\u001b[0m /Users/macbook/Desktop/L361/L361_Project/.conda/lib/python3.12/site-packages/datasets/utils/_dill.py:385: DeprecationWarning: co_lnotab is deprecated, use co_lines instead.\u001b[32m [repeated 3x across cluster]\u001b[0m\n",
      "\u001b[36m(ClientAppActor pid=9214)\u001b[0m   obj.co_lnotab,  # for < python 3.10 [not counted in args]\u001b[32m [repeated 3x across cluster]\u001b[0m\n"
     ]
    },
    {
     "name": "stdout",
     "output_type": "stream",
     "text": [
      "\u001b[36m(ClientAppActor pid=9214)\u001b[0m Epoch 1: train loss 0.015177148394286633, accuracy 0.8287085645717714\n",
      "\u001b[36m(ClientAppActor pid=9211)\u001b[0m [Client 4] fit, config: {}\u001b[32m [repeated 2x across cluster]\u001b[0m\n",
      "\u001b[36m(ClientAppActor pid=9211)\u001b[0m Epoch 1: train loss 0.015819981694221497, accuracy 0.8255325532553255\u001b[32m [repeated 2x across cluster]\u001b[0m\n",
      "\u001b[36m(ClientAppActor pid=9214)\u001b[0m Epoch 2: train loss 0.009535608813166618, accuracy 0.8930553472326384\n",
      "\u001b[36m(ClientAppActor pid=9209)\u001b[0m Epoch 2: train loss 0.012257877737283707, accuracy 0.8627362736273627\n"
     ]
    },
    {
     "name": "stderr",
     "output_type": "stream",
     "text": [
      "\u001b[92mINFO \u001b[0m:      aggregate_fit: received 3 results and 0 failures\n"
     ]
    },
    {
     "name": "stdout",
     "output_type": "stream",
     "text": [
      "\n",
      "==== Server-side evaluation for round 12 ====\n",
      "  Parameter 0: Changed by 0.003350\n",
      "  Parameter 1: Changed by 0.003382\n",
      "  Parameter 2: Changed by 0.004203\n",
      "  Parameter 3: Changed by 0.002056\n",
      "  Parameter 4: Changed by 0.004227\n",
      "  Parameter 5: Changed by 0.003962\n",
      "  Parameter 6: Changed by 0.003544\n",
      "  Parameter 7: Changed by 0.002804\n",
      "  Parameter 8: Changed by 0.002527\n",
      "  Parameter 9: Changed by 0.003327\n",
      "  Parameter 10: Changed by 0.002158\n",
      "  Parameter 11: Changed by 0.002499\n",
      "  Parameter 12: Changed by 0.001780\n",
      "  Parameter 13: Changed by 0.002465\n",
      "  Parameter 14: Changed by 0.002638\n",
      "  Parameter 15: Changed by 0.004112\n",
      "  Parameter 16: Changed by 0.007166\n",
      "  Parameter 17: Changed by 0.002366\n"
     ]
    },
    {
     "name": "stderr",
     "output_type": "stream",
     "text": [
      "\u001b[92mINFO \u001b[0m:      fit progress: (12, 0.02504439483731985, {'accuracy': 0.7558}, 520.5597116658464)\n",
      "\u001b[92mINFO \u001b[0m:      configure_evaluate: strategy sampled 3 clients (out of 6)\n"
     ]
    },
    {
     "name": "stdout",
     "output_type": "stream",
     "text": [
      "  Evaluation results - Loss: 0.0250, Accuracy: 0.7558\n"
     ]
    },
    {
     "name": "stderr",
     "output_type": "stream",
     "text": [
      "\u001b[36m(ClientAppActor pid=9211)\u001b[0m /Users/macbook/Desktop/L361/L361_Project/.conda/lib/python3.12/site-packages/datasets/utils/_dill.py:385: DeprecationWarning: co_lnotab is deprecated, use co_lines instead.\u001b[32m [repeated 3x across cluster]\u001b[0m\n",
      "\u001b[36m(ClientAppActor pid=9211)\u001b[0m   obj.co_lnotab,  # for < python 3.10 [not counted in args]\u001b[32m [repeated 3x across cluster]\u001b[0m\n"
     ]
    },
    {
     "name": "stdout",
     "output_type": "stream",
     "text": [
      "\u001b[36m(ClientAppActor pid=9214)\u001b[0m [Client 1] evaluate, config: {}\n",
      "\u001b[36m(ClientAppActor pid=9211)\u001b[0m Epoch 2: train loss 0.010380126535892487, accuracy 0.8826882688268827\n"
     ]
    },
    {
     "name": "stderr",
     "output_type": "stream",
     "text": [
      "\u001b[92mINFO \u001b[0m:      aggregate_evaluate: received 3 results and 0 failures\n",
      "\u001b[92mINFO \u001b[0m:      \n",
      "\u001b[92mINFO \u001b[0m:      [ROUND 13]\n",
      "\u001b[92mINFO \u001b[0m:      configure_fit: strategy sampled 3 clients (out of 6)\n"
     ]
    },
    {
     "name": "stdout",
     "output_type": "stream",
     "text": [
      "\u001b[36m(ClientAppActor pid=9214)\u001b[0m [Client 3] fit, config: {}\n",
      "\u001b[36m(ClientAppActor pid=9214)\u001b[0m Epoch 1: train loss 0.025235440582036972, accuracy 0.725922592259226\n",
      "\u001b[36m(ClientAppActor pid=9209)\u001b[0m [Client 0] evaluate, config: {}\u001b[32m [repeated 2x across cluster]\u001b[0m\n",
      "\u001b[36m(ClientAppActor pid=9211)\u001b[0m [Client 5] fit, config: {}\u001b[32m [repeated 2x across cluster]\u001b[0m\n",
      "\u001b[36m(ClientAppActor pid=9214)\u001b[0m Epoch 2: train loss 0.016518009826540947, accuracy 0.8085808580858086\u001b[32m [repeated 3x across cluster]\u001b[0m\n"
     ]
    },
    {
     "name": "stderr",
     "output_type": "stream",
     "text": [
      "\u001b[92mINFO \u001b[0m:      aggregate_fit: received 3 results and 0 failures\n"
     ]
    },
    {
     "name": "stdout",
     "output_type": "stream",
     "text": [
      "\n",
      "==== Server-side evaluation for round 13 ====\n",
      "  Parameter 0: Changed by 0.003705\n",
      "  Parameter 1: Changed by 0.004927\n",
      "  Parameter 2: Changed by 0.004289\n",
      "  Parameter 3: Changed by 0.002503\n",
      "  Parameter 4: Changed by 0.004384\n",
      "  Parameter 5: Changed by 0.004185\n",
      "  Parameter 6: Changed by 0.003658\n",
      "  Parameter 7: Changed by 0.003200\n",
      "  Parameter 8: Changed by 0.002468\n",
      "  Parameter 9: Changed by 0.003199\n",
      "  Parameter 10: Changed by 0.002032\n",
      "  Parameter 11: Changed by 0.002504\n",
      "  Parameter 12: Changed by 0.001770\n",
      "  Parameter 13: Changed by 0.002497\n",
      "  Parameter 14: Changed by 0.002658\n",
      "  Parameter 15: Changed by 0.004504\n",
      "  Parameter 16: Changed by 0.006967\n",
      "  Parameter 17: Changed by 0.002277\n"
     ]
    },
    {
     "name": "stderr",
     "output_type": "stream",
     "text": [
      "\u001b[92mINFO \u001b[0m:      fit progress: (13, 0.024046808022260665, {'accuracy': 0.7582}, 567.2039254999254)\n",
      "\u001b[92mINFO \u001b[0m:      configure_evaluate: strategy sampled 3 clients (out of 6)\n"
     ]
    },
    {
     "name": "stdout",
     "output_type": "stream",
     "text": [
      "  Evaluation results - Loss: 0.0240, Accuracy: 0.7582\n",
      "\u001b[36m(ClientAppActor pid=9214)\u001b[0m [Client 5] evaluate, config: {}\n",
      "\u001b[36m(ClientAppActor pid=9211)\u001b[0m Epoch 2: train loss 0.01102388184517622, accuracy 0.8724872487248725\u001b[32m [repeated 2x across cluster]\u001b[0m\n"
     ]
    },
    {
     "name": "stderr",
     "output_type": "stream",
     "text": [
      "\u001b[36m(ClientAppActor pid=9214)\u001b[0m /Users/macbook/Desktop/L361/L361_Project/.conda/lib/python3.12/site-packages/datasets/utils/_dill.py:385: DeprecationWarning: co_lnotab is deprecated, use co_lines instead.\u001b[32m [repeated 6x across cluster]\u001b[0m\n",
      "\u001b[36m(ClientAppActor pid=9214)\u001b[0m   obj.co_lnotab,  # for < python 3.10 [not counted in args]\u001b[32m [repeated 6x across cluster]\u001b[0m\n",
      "\u001b[92mINFO \u001b[0m:      aggregate_evaluate: received 3 results and 0 failures\n",
      "\u001b[92mINFO \u001b[0m:      \n",
      "\u001b[92mINFO \u001b[0m:      [ROUND 14]\n",
      "\u001b[92mINFO \u001b[0m:      configure_fit: strategy sampled 3 clients (out of 6)\n"
     ]
    },
    {
     "name": "stdout",
     "output_type": "stream",
     "text": [
      "\u001b[36m(ClientAppActor pid=9211)\u001b[0m [Client 4] fit, config: {}\n",
      "\u001b[36m(ClientAppActor pid=9209)\u001b[0m [Client 1] evaluate, config: {}\u001b[32m [repeated 2x across cluster]\u001b[0m\n",
      "\u001b[36m(ClientAppActor pid=9211)\u001b[0m Epoch 1: train loss 0.013913985341787338, accuracy 0.8408340834083409\n",
      "\u001b[36m(ClientAppActor pid=9214)\u001b[0m [Client 5] fit, config: {}\u001b[32m [repeated 2x across cluster]\u001b[0m\n",
      "\u001b[36m(ClientAppActor pid=9209)\u001b[0m Epoch 1: train loss 0.00933180470019579, accuracy 0.8917054147292636\n",
      "\u001b[36m(ClientAppActor pid=9211)\u001b[0m Epoch 2: train loss 0.008372662588953972, accuracy 0.9096909690969097\u001b[32m [repeated 2x across cluster]\u001b[0m\n"
     ]
    },
    {
     "name": "stderr",
     "output_type": "stream",
     "text": [
      "\u001b[92mINFO \u001b[0m:      aggregate_fit: received 3 results and 0 failures\n"
     ]
    },
    {
     "name": "stdout",
     "output_type": "stream",
     "text": [
      "\n",
      "==== Server-side evaluation for round 14 ====\n",
      "  Parameter 0: Changed by 0.003624\n",
      "  Parameter 1: Changed by 0.003064\n",
      "  Parameter 2: Changed by 0.004101\n",
      "  Parameter 3: Changed by 0.002035\n",
      "  Parameter 4: Changed by 0.004212\n",
      "  Parameter 5: Changed by 0.004161\n",
      "  Parameter 6: Changed by 0.003644\n",
      "  Parameter 7: Changed by 0.002867\n",
      "  Parameter 8: Changed by 0.002614\n",
      "  Parameter 9: Changed by 0.003358\n",
      "  Parameter 10: Changed by 0.002159\n",
      "  Parameter 11: Changed by 0.002290\n",
      "  Parameter 12: Changed by 0.001748\n",
      "  Parameter 13: Changed by 0.002533\n",
      "  Parameter 14: Changed by 0.002779\n",
      "  Parameter 15: Changed by 0.004736\n",
      "  Parameter 16: Changed by 0.007504\n",
      "  Parameter 17: Changed by 0.003558\n"
     ]
    },
    {
     "name": "stderr",
     "output_type": "stream",
     "text": [
      "\u001b[92mINFO \u001b[0m:      fit progress: (14, 0.026266094210743905, {'accuracy': 0.7543}, 612.444337332854)\n",
      "\u001b[92mINFO \u001b[0m:      configure_evaluate: strategy sampled 3 clients (out of 6)\n"
     ]
    },
    {
     "name": "stdout",
     "output_type": "stream",
     "text": [
      "  Evaluation results - Loss: 0.0263, Accuracy: 0.7543\n"
     ]
    },
    {
     "name": "stderr",
     "output_type": "stream",
     "text": [
      "\u001b[36m(ClientAppActor pid=9211)\u001b[0m /Users/macbook/Desktop/L361/L361_Project/.conda/lib/python3.12/site-packages/datasets/utils/_dill.py:385: DeprecationWarning: co_lnotab is deprecated, use co_lines instead.\u001b[32m [repeated 6x across cluster]\u001b[0m\n",
      "\u001b[36m(ClientAppActor pid=9211)\u001b[0m   obj.co_lnotab,  # for < python 3.10 [not counted in args]\u001b[32m [repeated 6x across cluster]\u001b[0m\n"
     ]
    },
    {
     "name": "stdout",
     "output_type": "stream",
     "text": [
      "\u001b[36m(ClientAppActor pid=9211)\u001b[0m [Client 4] evaluate, config: {}\n",
      "\u001b[36m(ClientAppActor pid=9214)\u001b[0m Epoch 2: train loss 0.007547796703875065, accuracy 0.9164416441644164\u001b[32m [repeated 2x across cluster]\u001b[0m\n"
     ]
    },
    {
     "name": "stderr",
     "output_type": "stream",
     "text": [
      "\u001b[92mINFO \u001b[0m:      aggregate_evaluate: received 3 results and 0 failures\n",
      "\u001b[92mINFO \u001b[0m:      \n",
      "\u001b[92mINFO \u001b[0m:      [ROUND 15]\n",
      "\u001b[92mINFO \u001b[0m:      configure_fit: strategy sampled 3 clients (out of 6)\n"
     ]
    },
    {
     "name": "stdout",
     "output_type": "stream",
     "text": [
      "\u001b[36m(ClientAppActor pid=9214)\u001b[0m [Client 0] fit, config: {}\n",
      "\u001b[36m(ClientAppActor pid=9214)\u001b[0m [Client 1] evaluate, config: {}\u001b[32m [repeated 2x across cluster]\u001b[0m\n",
      "\u001b[36m(ClientAppActor pid=9214)\u001b[0m Epoch 1: train loss 0.01822590082883835, accuracy 0.7988600569971501\n",
      "\u001b[36m(ClientAppActor pid=9209)\u001b[0m [Client 1] fit, config: {}\u001b[32m [repeated 2x across cluster]\u001b[0m\n",
      "\u001b[36m(ClientAppActor pid=9211)\u001b[0m Epoch 1: train loss 0.016266515478491783, accuracy 0.8201320132013201\n",
      "\u001b[36m(ClientAppActor pid=9214)\u001b[0m Epoch 2: train loss 0.010303325019776821, accuracy 0.888105594720264\u001b[32m [repeated 2x across cluster]\u001b[0m\n"
     ]
    },
    {
     "name": "stderr",
     "output_type": "stream",
     "text": [
      "\u001b[92mINFO \u001b[0m:      aggregate_fit: received 3 results and 0 failures\n"
     ]
    },
    {
     "name": "stdout",
     "output_type": "stream",
     "text": [
      "\n",
      "==== Server-side evaluation for round 15 ====\n",
      "  Parameter 0: Changed by 0.003463\n",
      "  Parameter 1: Changed by 0.003455\n",
      "  Parameter 2: Changed by 0.004218\n",
      "  Parameter 3: Changed by 0.002131\n",
      "  Parameter 4: Changed by 0.004453\n",
      "  Parameter 5: Changed by 0.004288\n",
      "  Parameter 6: Changed by 0.003565\n",
      "  Parameter 7: Changed by 0.003196\n",
      "  Parameter 8: Changed by 0.002633\n",
      "  Parameter 9: Changed by 0.003540\n",
      "  Parameter 10: Changed by 0.002235\n",
      "  Parameter 11: Changed by 0.002482\n",
      "  Parameter 12: Changed by 0.001816\n",
      "  Parameter 13: Changed by 0.002777\n",
      "  Parameter 14: Changed by 0.002944\n",
      "  Parameter 15: Changed by 0.005279\n",
      "  Parameter 16: Changed by 0.007401\n",
      "  Parameter 17: Changed by 0.002380\n"
     ]
    },
    {
     "name": "stderr",
     "output_type": "stream",
     "text": [
      "\u001b[92mINFO \u001b[0m:      fit progress: (15, 0.025060412687063216, {'accuracy': 0.7603}, 656.6574342499953)\n",
      "\u001b[92mINFO \u001b[0m:      configure_evaluate: strategy sampled 3 clients (out of 6)\n"
     ]
    },
    {
     "name": "stdout",
     "output_type": "stream",
     "text": [
      "  Evaluation results - Loss: 0.0251, Accuracy: 0.7603\n",
      "\u001b[36m(ClientAppActor pid=9214)\u001b[0m [Client 0] evaluate, config: {}\n",
      "\u001b[36m(ClientAppActor pid=9209)\u001b[0m Epoch 2: train loss 0.005520142149180174, accuracy 0.9386530673466327\u001b[32m [repeated 2x across cluster]\u001b[0m\n"
     ]
    },
    {
     "name": "stderr",
     "output_type": "stream",
     "text": [
      "\u001b[36m(ClientAppActor pid=9214)\u001b[0m /Users/macbook/Desktop/L361/L361_Project/.conda/lib/python3.12/site-packages/datasets/utils/_dill.py:385: DeprecationWarning: co_lnotab is deprecated, use co_lines instead.\u001b[32m [repeated 6x across cluster]\u001b[0m\n",
      "\u001b[36m(ClientAppActor pid=9214)\u001b[0m   obj.co_lnotab,  # for < python 3.10 [not counted in args]\u001b[32m [repeated 6x across cluster]\u001b[0m\n",
      "\u001b[92mINFO \u001b[0m:      aggregate_evaluate: received 3 results and 0 failures\n",
      "\u001b[92mINFO \u001b[0m:      \n",
      "\u001b[92mINFO \u001b[0m:      [ROUND 16]\n",
      "\u001b[92mINFO \u001b[0m:      configure_fit: strategy sampled 3 clients (out of 6)\n"
     ]
    },
    {
     "name": "stdout",
     "output_type": "stream",
     "text": [
      "\u001b[36m(ClientAppActor pid=9209)\u001b[0m [Client 3] fit, config: {}\n",
      "\u001b[36m(ClientAppActor pid=9211)\u001b[0m [Client 5] evaluate, config: {}\u001b[32m [repeated 2x across cluster]\u001b[0m\n"
     ]
    },
    {
     "name": "stderr",
     "output_type": "stream",
     "text": [
      "\u001b[36m(ClientAppActor pid=9214)\u001b[0m /Users/macbook/Desktop/L361/L361_Project/.conda/lib/python3.12/site-packages/datasets/utils/_dill.py:385: DeprecationWarning: co_lnotab is deprecated, use co_lines instead.\u001b[32m [repeated 5x across cluster]\u001b[0m\n",
      "\u001b[36m(ClientAppActor pid=9214)\u001b[0m   obj.co_lnotab,  # for < python 3.10 [not counted in args]\u001b[32m [repeated 5x across cluster]\u001b[0m\n"
     ]
    },
    {
     "name": "stdout",
     "output_type": "stream",
     "text": [
      "\u001b[36m(ClientAppActor pid=9209)\u001b[0m Epoch 1: train loss 0.02064230851829052, accuracy 0.7676267626762676\n",
      "\u001b[36m(ClientAppActor pid=9214)\u001b[0m [Client 2] fit, config: {}\u001b[32m [repeated 2x across cluster]\u001b[0m\n",
      "\u001b[36m(ClientAppActor pid=9209)\u001b[0m Epoch 2: train loss 0.011771529912948608, accuracy 0.8693369336933693\u001b[32m [repeated 3x across cluster]\u001b[0m\n"
     ]
    },
    {
     "name": "stderr",
     "output_type": "stream",
     "text": [
      "\u001b[92mINFO \u001b[0m:      aggregate_fit: received 3 results and 0 failures\n"
     ]
    },
    {
     "name": "stdout",
     "output_type": "stream",
     "text": [
      "\n",
      "==== Server-side evaluation for round 16 ====\n",
      "  Parameter 0: Changed by 0.003184\n",
      "  Parameter 1: Changed by 0.005286\n",
      "  Parameter 2: Changed by 0.004219\n",
      "  Parameter 3: Changed by 0.002249\n",
      "  Parameter 4: Changed by 0.004507\n",
      "  Parameter 5: Changed by 0.004515\n",
      "  Parameter 6: Changed by 0.003663\n",
      "  Parameter 7: Changed by 0.002747\n",
      "  Parameter 8: Changed by 0.002651\n",
      "  Parameter 9: Changed by 0.003534\n",
      "  Parameter 10: Changed by 0.002228\n",
      "  Parameter 11: Changed by 0.002821\n",
      "  Parameter 12: Changed by 0.001794\n",
      "  Parameter 13: Changed by 0.002723\n",
      "  Parameter 14: Changed by 0.002955\n",
      "  Parameter 15: Changed by 0.005133\n",
      "  Parameter 16: Changed by 0.007534\n",
      "  Parameter 17: Changed by 0.002283\n"
     ]
    },
    {
     "name": "stderr",
     "output_type": "stream",
     "text": [
      "\u001b[92mINFO \u001b[0m:      fit progress: (16, 0.02605061717480421, {'accuracy': 0.7599}, 695.3351145409979)\n",
      "\u001b[92mINFO \u001b[0m:      configure_evaluate: strategy sampled 3 clients (out of 6)\n"
     ]
    },
    {
     "name": "stdout",
     "output_type": "stream",
     "text": [
      "  Evaluation results - Loss: 0.0261, Accuracy: 0.7599\n"
     ]
    },
    {
     "name": "stderr",
     "output_type": "stream",
     "text": [
      "\u001b[36m(ClientAppActor pid=9211)\u001b[0m /Users/macbook/Desktop/L361/L361_Project/.conda/lib/python3.12/site-packages/datasets/utils/_dill.py:385: DeprecationWarning: co_lnotab is deprecated, use co_lines instead.\n",
      "\u001b[36m(ClientAppActor pid=9211)\u001b[0m   obj.co_lnotab,  # for < python 3.10 [not counted in args]\n",
      "\u001b[36m(ClientAppActor pid=9209)\u001b[0m /Users/macbook/Desktop/L361/L361_Project/.conda/lib/python3.12/site-packages/datasets/utils/_dill.py:385: DeprecationWarning: co_lnotab is deprecated, use co_lines instead.\n",
      "\u001b[36m(ClientAppActor pid=9209)\u001b[0m   obj.co_lnotab,  # for < python 3.10 [not counted in args]\n"
     ]
    },
    {
     "name": "stdout",
     "output_type": "stream",
     "text": [
      "\u001b[36m(ClientAppActor pid=9211)\u001b[0m [Client 1] evaluate, config: {}\n",
      "\u001b[36m(ClientAppActor pid=9214)\u001b[0m Epoch 2: train loss 0.006781913805752993, accuracy 0.9245424542454246\u001b[32m [repeated 2x across cluster]\u001b[0m\n"
     ]
    },
    {
     "name": "stderr",
     "output_type": "stream",
     "text": [
      "\u001b[92mINFO \u001b[0m:      aggregate_evaluate: received 3 results and 0 failures\n",
      "\u001b[92mINFO \u001b[0m:      \n",
      "\u001b[92mINFO \u001b[0m:      [ROUND 17]\n",
      "\u001b[92mINFO \u001b[0m:      configure_fit: strategy sampled 3 clients (out of 6)\n"
     ]
    },
    {
     "name": "stdout",
     "output_type": "stream",
     "text": [
      "\u001b[36m(ClientAppActor pid=9214)\u001b[0m [Client 0] fit, config: {}\n",
      "\u001b[36m(ClientAppActor pid=9214)\u001b[0m [Client 0] evaluate, config: {}\u001b[32m [repeated 2x across cluster]\u001b[0m\n",
      "\u001b[36m(ClientAppActor pid=9209)\u001b[0m Epoch 1: train loss 0.01479842234402895, accuracy 0.8351335133513351\n",
      "\u001b[36m(ClientAppActor pid=9209)\u001b[0m [Client 3] fit, config: {}\u001b[32m [repeated 2x across cluster]\u001b[0m\n",
      "\u001b[36m(ClientAppActor pid=9214)\u001b[0m Epoch 1: train loss 0.015373476780951023, accuracy 0.832608369581521\n"
     ]
    },
    {
     "name": "stderr",
     "output_type": "stream",
     "text": [
      "\u001b[92mINFO \u001b[0m:      aggregate_fit: received 3 results and 0 failures\n"
     ]
    },
    {
     "name": "stdout",
     "output_type": "stream",
     "text": [
      "\u001b[36m(ClientAppActor pid=9209)\u001b[0m Epoch 2: train loss 0.008148077875375748, accuracy 0.9077407740774077\u001b[32m [repeated 2x across cluster]\u001b[0m\n",
      "\n",
      "==== Server-side evaluation for round 17 ====\n",
      "  Parameter 0: Changed by 0.003768\n",
      "  Parameter 1: Changed by 0.004037\n",
      "  Parameter 2: Changed by 0.004340\n",
      "  Parameter 3: Changed by 0.002163\n",
      "  Parameter 4: Changed by 0.004525\n",
      "  Parameter 5: Changed by 0.004737\n",
      "  Parameter 6: Changed by 0.003799\n",
      "  Parameter 7: Changed by 0.002509\n",
      "  Parameter 8: Changed by 0.002910\n",
      "  Parameter 9: Changed by 0.004006\n",
      "  Parameter 10: Changed by 0.002398\n",
      "  Parameter 11: Changed by 0.002697\n",
      "  Parameter 12: Changed by 0.001841\n",
      "  Parameter 13: Changed by 0.002775\n",
      "  Parameter 14: Changed by 0.003100\n",
      "  Parameter 15: Changed by 0.006181\n",
      "  Parameter 16: Changed by 0.007452\n",
      "  Parameter 17: Changed by 0.004929\n"
     ]
    },
    {
     "name": "stderr",
     "output_type": "stream",
     "text": [
      "\u001b[92mINFO \u001b[0m:      fit progress: (17, 0.024942714485526086, {'accuracy': 0.7629}, 725.4642602079548)\n",
      "\u001b[92mINFO \u001b[0m:      configure_evaluate: strategy sampled 3 clients (out of 6)\n"
     ]
    },
    {
     "name": "stdout",
     "output_type": "stream",
     "text": [
      "  Evaluation results - Loss: 0.0249, Accuracy: 0.7629\n",
      "\u001b[36m(ClientAppActor pid=9214)\u001b[0m [Client 1] evaluate, config: {}\n",
      "\u001b[36m(ClientAppActor pid=9211)\u001b[0m Epoch 2: train loss 0.006989963352680206, accuracy 0.9233423342334234\u001b[32m [repeated 2x across cluster]\u001b[0m\n"
     ]
    },
    {
     "name": "stderr",
     "output_type": "stream",
     "text": [
      "\u001b[36m(ClientAppActor pid=9214)\u001b[0m /Users/macbook/Desktop/L361/L361_Project/.conda/lib/python3.12/site-packages/datasets/utils/_dill.py:385: DeprecationWarning: co_lnotab is deprecated, use co_lines instead.\u001b[32m [repeated 5x across cluster]\u001b[0m\n",
      "\u001b[36m(ClientAppActor pid=9214)\u001b[0m   obj.co_lnotab,  # for < python 3.10 [not counted in args]\u001b[32m [repeated 5x across cluster]\u001b[0m\n",
      "\u001b[92mINFO \u001b[0m:      aggregate_evaluate: received 3 results and 0 failures\n",
      "\u001b[92mINFO \u001b[0m:      \n",
      "\u001b[92mINFO \u001b[0m:      [ROUND 18]\n",
      "\u001b[92mINFO \u001b[0m:      configure_fit: strategy sampled 3 clients (out of 6)\n",
      "\u001b[36m(ClientAppActor pid=9211)\u001b[0m /Users/macbook/Desktop/L361/L361_Project/.conda/lib/python3.12/site-packages/datasets/utils/_dill.py:385: DeprecationWarning: co_lnotab is deprecated, use co_lines instead.\u001b[32m [repeated 3x across cluster]\u001b[0m\n",
      "\u001b[36m(ClientAppActor pid=9211)\u001b[0m   obj.co_lnotab,  # for < python 3.10 [not counted in args]\u001b[32m [repeated 3x across cluster]\u001b[0m\n"
     ]
    },
    {
     "name": "stdout",
     "output_type": "stream",
     "text": [
      "\u001b[36m(ClientAppActor pid=9214)\u001b[0m [Client 3] fit, config: {}\n",
      "\u001b[36m(ClientAppActor pid=9209)\u001b[0m [Client 4] evaluate, config: {}\u001b[32m [repeated 2x across cluster]\u001b[0m\n",
      "\u001b[36m(ClientAppActor pid=9211)\u001b[0m Epoch 1: train loss 0.010985206812620163, accuracy 0.8847884788478848\n",
      "\u001b[36m(ClientAppActor pid=9209)\u001b[0m [Client 0] fit, config: {}\u001b[32m [repeated 2x across cluster]\u001b[0m\n"
     ]
    },
    {
     "name": "stderr",
     "output_type": "stream",
     "text": [
      "\u001b[92mINFO \u001b[0m:      aggregate_fit: received 3 results and 0 failures\n"
     ]
    },
    {
     "name": "stdout",
     "output_type": "stream",
     "text": [
      "\u001b[36m(ClientAppActor pid=9214)\u001b[0m Epoch 2: train loss 0.006608577445149422, accuracy 0.9321932193219322\u001b[32m [repeated 3x across cluster]\u001b[0m\n",
      "\n",
      "==== Server-side evaluation for round 18 ====\n",
      "  Parameter 0: Changed by 0.003526\n",
      "  Parameter 1: Changed by 0.003462\n",
      "  Parameter 2: Changed by 0.004032\n",
      "  Parameter 3: Changed by 0.002370\n",
      "  Parameter 4: Changed by 0.004293\n",
      "  Parameter 5: Changed by 0.004496\n",
      "  Parameter 6: Changed by 0.003868\n",
      "  Parameter 7: Changed by 0.002669\n",
      "  Parameter 8: Changed by 0.002955\n",
      "  Parameter 9: Changed by 0.003833\n",
      "  Parameter 10: Changed by 0.002306\n",
      "  Parameter 11: Changed by 0.002773\n",
      "  Parameter 12: Changed by 0.001761\n",
      "  Parameter 13: Changed by 0.002742\n",
      "  Parameter 14: Changed by 0.003129\n",
      "  Parameter 15: Changed by 0.005188\n",
      "  Parameter 16: Changed by 0.007581\n",
      "  Parameter 17: Changed by 0.003420\n"
     ]
    },
    {
     "name": "stderr",
     "output_type": "stream",
     "text": [
      "\u001b[92mINFO \u001b[0m:      fit progress: (18, 0.026569548194110393, {'accuracy': 0.7659}, 771.0548247077968)\n",
      "\u001b[92mINFO \u001b[0m:      configure_evaluate: strategy sampled 3 clients (out of 6)\n"
     ]
    },
    {
     "name": "stdout",
     "output_type": "stream",
     "text": [
      "  Evaluation results - Loss: 0.0266, Accuracy: 0.7659\n",
      "\u001b[36m(ClientAppActor pid=9209)\u001b[0m [Client 0] evaluate, config: {}\n",
      "\u001b[36m(ClientAppActor pid=9209)\u001b[0m Epoch 2: train loss 0.005936659872531891, accuracy 0.9365531723413829\u001b[32m [repeated 2x across cluster]\u001b[0m\n"
     ]
    },
    {
     "name": "stderr",
     "output_type": "stream",
     "text": [
      "\u001b[36m(ClientAppActor pid=9209)\u001b[0m /Users/macbook/Desktop/L361/L361_Project/.conda/lib/python3.12/site-packages/datasets/utils/_dill.py:385: DeprecationWarning: co_lnotab is deprecated, use co_lines instead.\u001b[32m [repeated 3x across cluster]\u001b[0m\n",
      "\u001b[36m(ClientAppActor pid=9209)\u001b[0m   obj.co_lnotab,  # for < python 3.10 [not counted in args]\u001b[32m [repeated 3x across cluster]\u001b[0m\n",
      "\u001b[92mINFO \u001b[0m:      aggregate_evaluate: received 3 results and 0 failures\n",
      "\u001b[92mINFO \u001b[0m:      \n",
      "\u001b[92mINFO \u001b[0m:      [ROUND 19]\n",
      "\u001b[92mINFO \u001b[0m:      configure_fit: strategy sampled 3 clients (out of 6)\n"
     ]
    },
    {
     "name": "stdout",
     "output_type": "stream",
     "text": [
      "\u001b[36m(ClientAppActor pid=9214)\u001b[0m [Client 2] fit, config: {}\n",
      "\u001b[36m(ClientAppActor pid=9211)\u001b[0m [Client 3] evaluate, config: {}\u001b[32m [repeated 2x across cluster]\u001b[0m\n",
      "\u001b[36m(ClientAppActor pid=9214)\u001b[0m Epoch 1: train loss 0.008142062462866306, accuracy 0.9056405640564057\n",
      "\u001b[36m(ClientAppActor pid=9209)\u001b[0m [Client 5] fit, config: {}\u001b[32m [repeated 2x across cluster]\u001b[0m\n",
      "\u001b[36m(ClientAppActor pid=9211)\u001b[0m Epoch 1: train loss 0.008397017605602741, accuracy 0.9080545972701365\n",
      "\u001b[36m(ClientAppActor pid=9214)\u001b[0m Epoch 2: train loss 0.0049037267453968525, accuracy 0.9507950795079508\u001b[32m [repeated 2x across cluster]\u001b[0m\n"
     ]
    },
    {
     "name": "stderr",
     "output_type": "stream",
     "text": [
      "\u001b[92mINFO \u001b[0m:      aggregate_fit: received 3 results and 0 failures\n"
     ]
    },
    {
     "name": "stdout",
     "output_type": "stream",
     "text": [
      "\n",
      "==== Server-side evaluation for round 19 ====\n",
      "  Parameter 0: Changed by 0.003524\n",
      "  Parameter 1: Changed by 0.005610\n",
      "  Parameter 2: Changed by 0.004189\n",
      "  Parameter 3: Changed by 0.002275\n",
      "  Parameter 4: Changed by 0.004419\n",
      "  Parameter 5: Changed by 0.004510\n",
      "  Parameter 6: Changed by 0.003768\n",
      "  Parameter 7: Changed by 0.003222\n",
      "  Parameter 8: Changed by 0.002832\n",
      "  Parameter 9: Changed by 0.003814\n",
      "  Parameter 10: Changed by 0.002317\n",
      "  Parameter 11: Changed by 0.002285\n",
      "  Parameter 12: Changed by 0.001756\n",
      "  Parameter 13: Changed by 0.002733\n",
      "  Parameter 14: Changed by 0.003130\n",
      "  Parameter 15: Changed by 0.006183\n",
      "  Parameter 16: Changed by 0.007268\n",
      "  Parameter 17: Changed by 0.002705\n"
     ]
    },
    {
     "name": "stderr",
     "output_type": "stream",
     "text": [
      "\u001b[92mINFO \u001b[0m:      fit progress: (19, 0.027507103480398656, {'accuracy': 0.7648}, 818.8784342908766)\n",
      "\u001b[92mINFO \u001b[0m:      configure_evaluate: strategy sampled 3 clients (out of 6)\n"
     ]
    },
    {
     "name": "stdout",
     "output_type": "stream",
     "text": [
      "  Evaluation results - Loss: 0.0275, Accuracy: 0.7648\n",
      "\u001b[36m(ClientAppActor pid=9214)\u001b[0m [Client 5] evaluate, config: {}\n",
      "\u001b[36m(ClientAppActor pid=9209)\u001b[0m Epoch 2: train loss 0.007121345028281212, accuracy 0.921992199219922\u001b[32m [repeated 2x across cluster]\u001b[0m\n"
     ]
    },
    {
     "name": "stderr",
     "output_type": "stream",
     "text": [
      "\u001b[36m(ClientAppActor pid=9214)\u001b[0m /Users/macbook/Desktop/L361/L361_Project/.conda/lib/python3.12/site-packages/datasets/utils/_dill.py:385: DeprecationWarning: co_lnotab is deprecated, use co_lines instead.\u001b[32m [repeated 6x across cluster]\u001b[0m\n",
      "\u001b[36m(ClientAppActor pid=9214)\u001b[0m   obj.co_lnotab,  # for < python 3.10 [not counted in args]\u001b[32m [repeated 6x across cluster]\u001b[0m\n",
      "\u001b[92mINFO \u001b[0m:      aggregate_evaluate: received 3 results and 0 failures\n",
      "\u001b[92mINFO \u001b[0m:      \n",
      "\u001b[92mINFO \u001b[0m:      [ROUND 20]\n",
      "\u001b[92mINFO \u001b[0m:      configure_fit: strategy sampled 3 clients (out of 6)\n"
     ]
    },
    {
     "name": "stdout",
     "output_type": "stream",
     "text": [
      "\u001b[36m(ClientAppActor pid=9211)\u001b[0m [Client 3] fit, config: {}\n",
      "\u001b[36m(ClientAppActor pid=9209)\u001b[0m [Client 2] evaluate, config: {}\u001b[32m [repeated 2x across cluster]\u001b[0m\n",
      "\u001b[36m(ClientAppActor pid=9211)\u001b[0m Epoch 1: train loss 0.010625728406012058, accuracy 0.884038403840384\n",
      "\u001b[36m(ClientAppActor pid=9214)\u001b[0m [Client 5] fit, config: {}\u001b[32m [repeated 2x across cluster]\u001b[0m\n",
      "\u001b[36m(ClientAppActor pid=9214)\u001b[0m Epoch 1: train loss 0.01016911119222641, accuracy 0.8897389738973898\n",
      "\u001b[36m(ClientAppActor pid=9211)\u001b[0m Epoch 2: train loss 0.006222080439329147, accuracy 0.933993399339934\u001b[32m [repeated 2x across cluster]\u001b[0m\n"
     ]
    },
    {
     "name": "stderr",
     "output_type": "stream",
     "text": [
      "\u001b[92mINFO \u001b[0m:      aggregate_fit: received 3 results and 0 failures\n"
     ]
    },
    {
     "name": "stdout",
     "output_type": "stream",
     "text": [
      "\n",
      "==== Server-side evaluation for round 20 ====\n",
      "  Parameter 0: Changed by 0.003688\n",
      "  Parameter 1: Changed by 0.003856\n",
      "  Parameter 2: Changed by 0.004406\n",
      "  Parameter 3: Changed by 0.002217\n",
      "  Parameter 4: Changed by 0.004486\n",
      "  Parameter 5: Changed by 0.004348\n",
      "  Parameter 6: Changed by 0.004070\n",
      "  Parameter 7: Changed by 0.002781\n",
      "  Parameter 8: Changed by 0.003086\n",
      "  Parameter 9: Changed by 0.003934\n",
      "  Parameter 10: Changed by 0.002415\n",
      "  Parameter 11: Changed by 0.002896\n",
      "  Parameter 12: Changed by 0.001800\n",
      "  Parameter 13: Changed by 0.002849\n",
      "  Parameter 14: Changed by 0.003244\n",
      "  Parameter 15: Changed by 0.005679\n",
      "  Parameter 16: Changed by 0.007398\n",
      "  Parameter 17: Changed by 0.003607\n"
     ]
    },
    {
     "name": "stderr",
     "output_type": "stream",
     "text": [
      "\u001b[92mINFO \u001b[0m:      fit progress: (20, 0.028657282053679227, {'accuracy': 0.7552}, 861.8951280829497)\n",
      "\u001b[92mINFO \u001b[0m:      configure_evaluate: strategy sampled 3 clients (out of 6)\n"
     ]
    },
    {
     "name": "stdout",
     "output_type": "stream",
     "text": [
      "  Evaluation results - Loss: 0.0287, Accuracy: 0.7552\n"
     ]
    },
    {
     "name": "stderr",
     "output_type": "stream",
     "text": [
      "\u001b[36m(ClientAppActor pid=9211)\u001b[0m /Users/macbook/Desktop/L361/L361_Project/.conda/lib/python3.12/site-packages/datasets/utils/_dill.py:385: DeprecationWarning: co_lnotab is deprecated, use co_lines instead.\u001b[32m [repeated 6x across cluster]\u001b[0m\n",
      "\u001b[36m(ClientAppActor pid=9211)\u001b[0m   obj.co_lnotab,  # for < python 3.10 [not counted in args]\u001b[32m [repeated 6x across cluster]\u001b[0m\n"
     ]
    },
    {
     "name": "stdout",
     "output_type": "stream",
     "text": [
      "\u001b[36m(ClientAppActor pid=9211)\u001b[0m [Client 5] evaluate, config: {}\n",
      "\u001b[36m(ClientAppActor pid=9214)\u001b[0m Epoch 2: train loss 0.006324628368020058, accuracy 0.9308430843084309\u001b[32m [repeated 2x across cluster]\u001b[0m\n"
     ]
    },
    {
     "name": "stderr",
     "output_type": "stream",
     "text": [
      "\u001b[92mINFO \u001b[0m:      aggregate_evaluate: received 3 results and 0 failures\n",
      "\u001b[92mINFO \u001b[0m:      \n",
      "\u001b[92mINFO \u001b[0m:      [SUMMARY]\n",
      "\u001b[92mINFO \u001b[0m:      Run finished 20 round(s) in 866.13s\n",
      "\u001b[92mINFO \u001b[0m:      \tHistory (loss, distributed):\n",
      "\u001b[92mINFO \u001b[0m:      \t\tround 1: 0.07283694766516972\n",
      "\u001b[92mINFO \u001b[0m:      \t\tround 2: 0.05394013520122361\n",
      "\u001b[92mINFO \u001b[0m:      \t\tround 3: 0.041595778103423964\n",
      "\u001b[92mINFO \u001b[0m:      \t\tround 4: 0.03651856774808025\n",
      "\u001b[92mINFO \u001b[0m:      \t\tround 5: 0.03297150810225872\n",
      "\u001b[92mINFO \u001b[0m:      \t\tround 6: 0.029086226786262773\n",
      "\u001b[92mINFO \u001b[0m:      \t\tround 7: 0.027438987567171627\n",
      "\u001b[92mINFO \u001b[0m:      \t\tround 8: 0.02609148638841034\n",
      "\u001b[92mINFO \u001b[0m:      \t\tround 9: 0.0245769774584836\n",
      "\u001b[92mINFO \u001b[0m:      \t\tround 10: 0.024597041355064214\n",
      "\u001b[92mINFO \u001b[0m:      \t\tround 11: 0.024781359669876633\n",
      "\u001b[92mINFO \u001b[0m:      \t\tround 12: 0.024546548077593423\n",
      "\u001b[92mINFO \u001b[0m:      \t\tround 13: 0.022782357006973085\n",
      "\u001b[92mINFO \u001b[0m:      \t\tround 14: 0.0271097898387928\n",
      "\u001b[92mINFO \u001b[0m:      \t\tround 15: 0.023600816640275118\n",
      "\u001b[92mINFO \u001b[0m:      \t\tround 16: 0.024383790122851252\n",
      "\u001b[92mINFO \u001b[0m:      \t\tround 17: 0.025004327417885965\n",
      "\u001b[92mINFO \u001b[0m:      \t\tround 18: 0.025710103224379683\n",
      "\u001b[92mINFO \u001b[0m:      \t\tround 19: 0.028806308070985446\n",
      "\u001b[92mINFO \u001b[0m:      \t\tround 20: 0.026946353655508865\n",
      "\u001b[92mINFO \u001b[0m:      \tHistory (loss, centralized):\n",
      "\u001b[92mINFO \u001b[0m:      \t\tround 0: 0.07207621624469757\n",
      "\u001b[92mINFO \u001b[0m:      \t\tround 1: 0.0716752896785736\n",
      "\u001b[92mINFO \u001b[0m:      \t\tround 2: 0.05347436227798462\n",
      "\u001b[92mINFO \u001b[0m:      \t\tround 3: 0.04102917464971542\n",
      "\u001b[92mINFO \u001b[0m:      \t\tround 4: 0.035435684210062025\n",
      "\u001b[92mINFO \u001b[0m:      \t\tround 5: 0.03272338896393776\n",
      "\u001b[92mINFO \u001b[0m:      \t\tround 6: 0.029232074850797655\n",
      "\u001b[92mINFO \u001b[0m:      \t\tround 7: 0.027121583062410356\n",
      "\u001b[92mINFO \u001b[0m:      \t\tround 8: 0.026131936064362527\n",
      "\u001b[92mINFO \u001b[0m:      \t\tround 9: 0.02524970219731331\n",
      "\u001b[92mINFO \u001b[0m:      \t\tround 10: 0.024347268275916576\n",
      "\u001b[92mINFO \u001b[0m:      \t\tround 11: 0.024210428008437156\n",
      "\u001b[92mINFO \u001b[0m:      \t\tround 12: 0.02504439483731985\n",
      "\u001b[92mINFO \u001b[0m:      \t\tround 13: 0.024046808022260665\n",
      "\u001b[92mINFO \u001b[0m:      \t\tround 14: 0.026266094210743905\n",
      "\u001b[92mINFO \u001b[0m:      \t\tround 15: 0.025060412687063216\n",
      "\u001b[92mINFO \u001b[0m:      \t\tround 16: 0.02605061717480421\n",
      "\u001b[92mINFO \u001b[0m:      \t\tround 17: 0.024942714485526086\n",
      "\u001b[92mINFO \u001b[0m:      \t\tround 18: 0.026569548194110393\n",
      "\u001b[92mINFO \u001b[0m:      \t\tround 19: 0.027507103480398656\n",
      "\u001b[92mINFO \u001b[0m:      \t\tround 20: 0.028657282053679227\n",
      "\u001b[92mINFO \u001b[0m:      \tHistory (metrics, centralized):\n",
      "\u001b[92mINFO \u001b[0m:      \t{'accuracy': [(0, 0.1),\n",
      "\u001b[92mINFO \u001b[0m:      \t              (1, 0.1),\n",
      "\u001b[92mINFO \u001b[0m:      \t              (2, 0.3397),\n",
      "\u001b[92mINFO \u001b[0m:      \t              (3, 0.5139),\n",
      "\u001b[92mINFO \u001b[0m:      \t              (4, 0.5869),\n",
      "\u001b[92mINFO \u001b[0m:      \t              (5, 0.624),\n",
      "\u001b[92mINFO \u001b[0m:      \t              (6, 0.6717),\n",
      "\u001b[92mINFO \u001b[0m:      \t              (7, 0.6996),\n",
      "\u001b[92mINFO \u001b[0m:      \t              (8, 0.7126),\n",
      "\u001b[92mINFO \u001b[0m:      \t              (9, 0.7324),\n",
      "\u001b[92mINFO \u001b[0m:      \t              (10, 0.7441),\n",
      "\u001b[92mINFO \u001b[0m:      \t              (11, 0.7503),\n",
      "\u001b[92mINFO \u001b[0m:      \t              (12, 0.7558),\n",
      "\u001b[92mINFO \u001b[0m:      \t              (13, 0.7582),\n",
      "\u001b[92mINFO \u001b[0m:      \t              (14, 0.7543),\n",
      "\u001b[92mINFO \u001b[0m:      \t              (15, 0.7603),\n",
      "\u001b[92mINFO \u001b[0m:      \t              (16, 0.7599),\n",
      "\u001b[92mINFO \u001b[0m:      \t              (17, 0.7629),\n",
      "\u001b[92mINFO \u001b[0m:      \t              (18, 0.7659),\n",
      "\u001b[92mINFO \u001b[0m:      \t              (19, 0.7648),\n",
      "\u001b[92mINFO \u001b[0m:      \t              (20, 0.7552)]}\n",
      "\u001b[92mINFO \u001b[0m:      \n"
     ]
    },
    {
     "name": "stdout",
     "output_type": "stream",
     "text": [
      "\u001b[36m(ClientAppActor pid=9214)\u001b[0m [Client 1] evaluate, config: {}\u001b[32m [repeated 2x across cluster]\u001b[0m\n"
     ]
    },
    {
     "name": "stderr",
     "output_type": "stream",
     "text": [
      "\u001b[36m(ClientAppActor pid=9214)\u001b[0m /Users/macbook/Desktop/L361/L361_Project/.conda/lib/python3.12/site-packages/datasets/utils/_dill.py:385: DeprecationWarning: co_lnotab is deprecated, use co_lines instead.\u001b[32m [repeated 2x across cluster]\u001b[0m\n",
      "\u001b[36m(ClientAppActor pid=9214)\u001b[0m   obj.co_lnotab,  # for < python 3.10 [not counted in args]\u001b[32m [repeated 2x across cluster]\u001b[0m\n"
     ]
    }
   ],
   "source": [
    "net = Net().to(DEVICE)\n",
    "\n",
    "_, _, testloader = load_datasets(0, NUM_PARTITIONS)\n",
    "\n",
    "evaluate_fn = get_evaluate_fn(testloader, net)\n",
    "client_manager =  DropoutClientManager(dropout_rate=0.5)\n",
    "\n",
    "def server_fn(context: Context) -> ServerAppComponents:\n",
    "    # Configure the server for just 3 rounds of training\n",
    "    config = ServerConfig(num_rounds=NUM_OF_ROUNDS)\n",
    "    return ServerAppComponents(\n",
    "        config=config,\n",
    "        strategy=ModifiedFedAvg(\n",
    "            evaluate_fn=evaluate_fn\n",
    "        ),\n",
    "        client_manager=client_manager\n",
    "    )\n",
    "\n",
    "server = ServerApp(server_fn=server_fn)\n",
    "\n",
    "# Run simulation\n",
    "run_simulation(\n",
    "    server_app=server,\n",
    "    client_app=client,\n",
    "    num_supernodes=NUM_PARTITIONS,\n",
    "    backend_config=backend_config,\n",
    ")"
   ]
  },
  {
   "cell_type": "code",
   "execution_count": 11,
   "metadata": {},
   "outputs": [],
   "source": [
    "\n",
    " \n",
    "with open(f'results/fed_avg_client_dropout_results.p', 'wb') as file:\n",
    "    pickle.dump(fed_avg_result, file)\n",
    "\n",
    "with open(f'results/fed_avg_model_client_dropout_results.p', 'wb') as file:\n",
    "    pickle.dump(fed_avg_model_results, file)"
   ]
  },
  {
   "cell_type": "code",
   "execution_count": 12,
   "metadata": {},
   "outputs": [],
   "source": [
    "import matplotlib.pyplot as plt\n",
    "import numpy as np\n",
    "\n",
    "\n",
    "# fed_avg_rounds = list(fed_avg_result.keys())\n",
    "# fed_avg_sizes = [fed_avg_result[round][\"total_size\"] for round in fed_avg_rounds]\n",
    "\n",
    "# plt.figure(figsize=(10, 5))\n",
    "# plt.plot(fed_avg_rounds, fed_avg_sizes, marker='o', linestyle='-', color='b')\n",
    "# plt.xlabel('Round')\n",
    "# plt.ylabel('Total Size of Parameters (bytes)')\n",
    "# plt.title('Total Size of Parameters for Each Round')\n",
    "# plt.grid(True)\n",
    "\n",
    "# fed_avg_losses = [fed_avg_result[round][\"total_loss\"] for round in fed_avg_rounds]\n",
    "\n",
    "# plt.figure(figsize=(10, 5))\n",
    "# plt.plot(fed_avg_rounds, fed_avg_losses, marker='o', linestyle='-', color='b')\n",
    "# plt.xlabel('Round')\n",
    "# plt.ylabel('Total Loss')\n",
    "# plt.title('Total Loss for Each Round')\n",
    "# plt.grid(True)\n",
    "\n",
    "# fed_avg_model_rounds = list(fed_avg_model_results.keys())\n",
    "\n",
    "# fed_avg_accuracies = [fed_avg_model_results[round][\"global_metrics\"][\"accuracy\"] for round in fed_avg_model_rounds]\n",
    "\n",
    "# plt.figure(figsize=(10, 5))\n",
    "# plt.plot(fed_avg_model_rounds, fed_avg_accuracies, marker='o', linestyle='-', color='b')\n",
    "# plt.xlabel('Round')\n",
    "# plt.ylabel('Accuracy')\n",
    "# plt.title('Accuracy for Each Round')\n",
    "# plt.grid(True)\n",
    "\n",
    "# fed_avg_global_losses = [fed_avg_model_results[round][\"global_loss\"] for round in fed_avg_model_rounds]\n",
    "\n",
    "# plt.figure(figsize=(10, 5))\n",
    "# plt.plot(fed_avg_model_rounds, fed_avg_global_losses, marker='o', linestyle='-', color='b')\n",
    "# plt.xlabel('Round')\n",
    "# plt.ylabel('Loss')\n",
    "# plt.title('Loss for Each Round')\n",
    "# plt.grid(True)"
   ]
  },
  {
   "cell_type": "markdown",
   "metadata": {},
   "source": [
    "# FedProx experiments:"
   ]
  },
  {
   "cell_type": "code",
   "execution_count": 13,
   "metadata": {},
   "outputs": [],
   "source": [
    "class FedProxFlowerClient(NumPyClient):\n",
    "    def __init__(self, partition_id, net, trainloader, valloader):\n",
    "        self.partition_id = partition_id\n",
    "        self.net = net\n",
    "        self.trainloader = trainloader\n",
    "        self.valloader = valloader\n",
    "\n",
    "    def get_parameters(self, config):\n",
    "        print(f\"[Client {self.partition_id}] get_parameters\")\n",
    "        return get_parameters(self.net)\n",
    "\n",
    "    def fit(self, parameters, config):\n",
    "        print(f\"[Client {self.partition_id}] fit, config: {config}\")\n",
    "        set_parameters(self.net, parameters)\n",
    "        global_params = copy.deepcopy(self.net).parameters()\n",
    "        proxima_train(self.net, self.trainloader, EPOCHS, config[\"proximal_mu\"], global_params)\n",
    "        return get_parameters(self.net), len(self.trainloader), {}\n",
    "\n",
    "    def evaluate(self, parameters, config):\n",
    "        print(f\"[Client {self.partition_id}] evaluate, config: {config}\")\n",
    "        set_parameters(self.net, parameters)\n",
    "        loss, accuracy = test(self.net, self.valloader)\n",
    "        return float(loss), len(self.valloader), {\"accuracy\": float(accuracy)}\n",
    "\n",
    "\n",
    "def client_fn(context: Context) -> Client:\n",
    "    net = Net().to(DEVICE)\n",
    "    partition_id = context.node_config[\"partition-id\"]\n",
    "    num_partitions = context.node_config[\"num-partitions\"]\n",
    "    trainloader, valloader, _ = load_datasets(partition_id, num_partitions)\n",
    "    return FedProxFlowerClient(partition_id, net, trainloader, valloader).to_client()\n",
    "\n",
    "\n",
    "# Create the ClientApp\n",
    "client = ClientApp(client_fn=client_fn)"
   ]
  },
  {
   "cell_type": "code",
   "execution_count": 14,
   "metadata": {},
   "outputs": [],
   "source": [
    "fed_prox_result = {}\n",
    "\n",
    "fed_prox_model_results = {}\n",
    "\n",
    "class ModifiedFedProx(ModifiedFedAvg):\n",
    "\n",
    "    def __init__(\n",
    "        self,\n",
    "        *,\n",
    "        fraction_fit: float = 1.0,\n",
    "        fraction_evaluate: float = 1.0,\n",
    "        min_fit_clients: int = 2,\n",
    "        min_evaluate_clients: int = 2,\n",
    "        min_available_clients: int = 2,\n",
    "        evaluate_fn: Optional[\n",
    "            Callable[\n",
    "                [int, NDArrays, dict[str, Scalar]],\n",
    "                Optional[tuple[float, dict[str, Scalar]]],\n",
    "            ]\n",
    "        ] = None,\n",
    "        on_fit_config_fn: Optional[Callable[[int], dict[str, Scalar]]] = None,\n",
    "        on_evaluate_config_fn: Optional[Callable[[int], dict[str, Scalar]]] = None,\n",
    "        accept_failures: bool = True,\n",
    "        initial_parameters: Optional[Parameters] = None,\n",
    "        fit_metrics_aggregation_fn: Optional[MetricsAggregationFn] = None,\n",
    "        evaluate_metrics_aggregation_fn: Optional[MetricsAggregationFn] = None,\n",
    "        proximal_mu: float,\n",
    "    ) -> None:\n",
    "        super().__init__(\n",
    "            fraction_fit=fraction_fit,\n",
    "            fraction_evaluate=fraction_evaluate,\n",
    "            min_fit_clients=min_fit_clients,\n",
    "            min_evaluate_clients=min_evaluate_clients,\n",
    "            min_available_clients=min_available_clients,\n",
    "            evaluate_fn=evaluate_fn,\n",
    "            on_fit_config_fn=on_fit_config_fn,\n",
    "            on_evaluate_config_fn=on_evaluate_config_fn,\n",
    "            accept_failures=accept_failures,\n",
    "            initial_parameters=initial_parameters,\n",
    "            fit_metrics_aggregation_fn=fit_metrics_aggregation_fn,\n",
    "            evaluate_metrics_aggregation_fn=evaluate_metrics_aggregation_fn,\n",
    "        )\n",
    "        self.proximal_mu = proximal_mu\n",
    "\n",
    "\n",
    "    def __repr__(self) -> str:\n",
    "        return \"ModifiedFedProx\"\n",
    "    \n",
    "\n",
    "    def configure_fit(\n",
    "        self, server_round: int, parameters: Parameters, client_manager: ClientManager\n",
    "    ) -> list[tuple[ClientProxy, FitIns]]:\n",
    "        \"\"\"Configure the next round of training.\n",
    "\n",
    "        Sends the proximal factor mu to the clients\n",
    "        \"\"\"\n",
    "        # Get the standard client/config pairs from the FedAvg super-class\n",
    "        client_config_pairs = super().configure_fit(\n",
    "            server_round, parameters, client_manager\n",
    "        )\n",
    "\n",
    "        # Return client/config pairs with the proximal factor mu added\n",
    "        return [\n",
    "            (\n",
    "                client,\n",
    "                FitIns(\n",
    "                    fit_ins.parameters,\n",
    "                    {**fit_ins.config, \"proximal_mu\": self.proximal_mu},\n",
    "                ),\n",
    "            )\n",
    "            for client, fit_ins in client_config_pairs\n",
    "        ]\n",
    "    \n",
    "    def aggregate_fit(\n",
    "        self,\n",
    "        server_round: int,\n",
    "        results: List[Tuple[ClientProxy, FitRes]],\n",
    "        failures: List[Union[Tuple[ClientProxy, FitRes], BaseException]],\n",
    "    ) -> Tuple[Optional[Parameters], Dict[str, Scalar]]:\n",
    "        \"\"\"Aggregate fit results using weighted average.\"\"\"\n",
    "        \n",
    "        total_size = 0\n",
    "        for client, fit_res in results:\n",
    "            total_size += get_parameters_size(fit_res.parameters) *2\n",
    "        print(f\"total size: {total_size}\")\n",
    "        \n",
    "        if fed_prox_result.get(server_round):\n",
    "            fed_prox_result[server_round][\"total_size\"] = total_size\n",
    "        else:\n",
    "            fed_prox_result[server_round] = {\"total_size\": total_size}\n",
    "        \n",
    "\n",
    "        weights_results = [\n",
    "            (parameters_to_ndarrays(fit_res.parameters), fit_res.num_examples)\n",
    "            for _, fit_res in results\n",
    "        ]\n",
    "\n",
    "        parameters_aggregated = ndarrays_to_parameters(aggregate(weights_results))\n",
    "        metrics_aggregated = {}\n",
    "        return parameters_aggregated, metrics_aggregated\n",
    "\n",
    "\n",
    "    def aggregate_evaluate(\n",
    "        self,\n",
    "        server_round: int,\n",
    "        results: List[Tuple[ClientProxy, EvaluateRes]],\n",
    "        failures: List[Union[Tuple[ClientProxy, EvaluateRes], BaseException]],\n",
    "    ) -> Tuple[Optional[float], Dict[str, Scalar]]:\n",
    "        \"\"\"Aggregate evaluation losses using weighted average.\"\"\"\n",
    "\n",
    "        if not results:\n",
    "            return None, {}\n",
    "        \n",
    "        total_loss = 0\n",
    "        for _, evaluate_res in results:\n",
    "            total_loss += evaluate_res.loss\n",
    "\n",
    "        if fed_prox_result.get(server_round):\n",
    "            fed_prox_result[server_round][\"total_loss\"] = total_loss\n",
    "        else:\n",
    "            fed_prox_result[server_round] = {\"total_loss\": total_loss}\n",
    "\n",
    "        loss_aggregated = weighted_loss_avg(\n",
    "            [\n",
    "                (evaluate_res.num_examples, evaluate_res.loss)\n",
    "                for _, evaluate_res in results\n",
    "            ]\n",
    "        )\n",
    "        metrics_aggregated = {}\n",
    "        return loss_aggregated, metrics_aggregated\n",
    "    \n",
    "\n",
    "    def evaluate(\n",
    "        self, server_round: int, parameters: Parameters\n",
    "    ) -> Optional[tuple[float, dict[str, Scalar]]]:\n",
    "        \"\"\"Evaluate model parameters using an evaluation function.\"\"\"\n",
    "        if self.evaluate_fn is None:\n",
    "            # No evaluation function provided\n",
    "            return None\n",
    "        parameters_ndarrays = parameters_to_ndarrays(parameters)\n",
    "        eval_res = self.evaluate_fn(server_round, parameters_ndarrays, {})\n",
    "        if eval_res is None:\n",
    "            return None\n",
    "        \n",
    "        if server_round in fed_prox_model_results:  \n",
    "            expand_fed_prox_model_results= {**fed_prox_model_results[server_round], \"global_loss\": eval_res[0], \"global_metrics\": eval_res[1]}\n",
    "        else:\n",
    "            expand_fed_prox_model_results= {\"global_loss\": eval_res[0], \"global_metrics\": eval_res[1]}\n",
    "        \n",
    "        fed_prox_model_results[server_round] = expand_fed_prox_model_results\n",
    "        \n",
    "        loss, metrics = eval_res\n",
    "        return loss, metrics\n"
   ]
  },
  {
   "cell_type": "code",
   "execution_count": 15,
   "metadata": {},
   "outputs": [
    {
     "name": "stderr",
     "output_type": "stream",
     "text": [
      "/Users/macbook/Desktop/L361/L361_Project/.conda/lib/python3.12/site-packages/datasets/utils/_dill.py:385: DeprecationWarning: co_lnotab is deprecated, use co_lines instead.\n",
      "  obj.co_lnotab,  # for < python 3.10 [not counted in args]\n",
      "\u001b[92mINFO \u001b[0m:      Starting Flower ServerApp, config: num_rounds=20, no round_timeout\n",
      "\u001b[92mINFO \u001b[0m:      \n",
      "\u001b[92mINFO \u001b[0m:      [INIT]\n",
      "\u001b[92mINFO \u001b[0m:      Using initial global parameters provided by strategy\n",
      "\u001b[92mINFO \u001b[0m:      Starting evaluation of initial global parameters\n"
     ]
    },
    {
     "name": "stdout",
     "output_type": "stream",
     "text": [
      "\n",
      "==== Server-side evaluation for round 0 ====\n"
     ]
    },
    {
     "name": "stderr",
     "output_type": "stream",
     "text": [
      "\u001b[92mINFO \u001b[0m:      initial parameters (loss, other metrics): 0.07208122713565826, {'accuracy': 0.1}\n",
      "\u001b[92mINFO \u001b[0m:      \n",
      "\u001b[92mINFO \u001b[0m:      [ROUND 1]\n",
      "\u001b[92mINFO \u001b[0m:      configure_fit: strategy sampled 3 clients (out of 6)\n"
     ]
    },
    {
     "name": "stdout",
     "output_type": "stream",
     "text": [
      "  Evaluation results - Loss: 0.0721, Accuracy: 0.1000\n",
      "\u001b[36m(ClientAppActor pid=34879)\u001b[0m [Client 0] fit, config: {'proximal_mu': 0.1}\n"
     ]
    },
    {
     "name": "stderr",
     "output_type": "stream",
     "text": [
      "\u001b[36m(ClientAppActor pid=34879)\u001b[0m /Users/macbook/Desktop/L361/L361_Project/.conda/lib/python3.12/site-packages/datasets/utils/_dill.py:385: DeprecationWarning: co_lnotab is deprecated, use co_lines instead.\n",
      "\u001b[36m(ClientAppActor pid=34879)\u001b[0m   obj.co_lnotab,  # for < python 3.10 [not counted in args]\n"
     ]
    },
    {
     "name": "stdout",
     "output_type": "stream",
     "text": [
      "\u001b[36m(ClientAppActor pid=34882)\u001b[0m Epoch 1: train loss 0.07221436500549316, accuracy 0.10291029102910292\n",
      "\u001b[36m(ClientAppActor pid=34883)\u001b[0m [Client 1] fit, config: {'proximal_mu': 0.1}\u001b[32m [repeated 2x across cluster]\u001b[0m\n",
      "\u001b[36m(ClientAppActor pid=34882)\u001b[0m Epoch 2: train loss 0.07220196723937988, accuracy 0.10186018601860186\u001b[32m [repeated 3x across cluster]\u001b[0m\n"
     ]
    },
    {
     "name": "stderr",
     "output_type": "stream",
     "text": [
      "\u001b[92mINFO \u001b[0m:      aggregate_fit: received 3 results and 0 failures\n"
     ]
    },
    {
     "name": "stdout",
     "output_type": "stream",
     "text": [
      "total size: 140451600\n",
      "\n",
      "==== Server-side evaluation for round 1 ====\n",
      "  Parameter 0: Changed by 0.012313\n",
      "  Parameter 1: Changed by 0.011260\n",
      "  Parameter 2: Changed by 0.010412\n",
      "  Parameter 3: Changed by 0.007750\n",
      "  Parameter 4: Changed by 0.007877\n",
      "  Parameter 5: Changed by 0.008497\n",
      "  Parameter 6: Changed by 0.006563\n",
      "  Parameter 7: Changed by 0.009082\n",
      "  Parameter 8: Changed by 0.005329\n",
      "  Parameter 9: Changed by 0.007301\n",
      "  Parameter 10: Changed by 0.004900\n",
      "  Parameter 11: Changed by 0.007276\n",
      "  Parameter 12: Changed by 0.003385\n",
      "  Parameter 13: Changed by 0.006927\n",
      "  Parameter 14: Changed by 0.003840\n",
      "  Parameter 15: Changed by 0.007487\n",
      "  Parameter 16: Changed by 0.007003\n",
      "  Parameter 17: Changed by 0.008783\n"
     ]
    },
    {
     "name": "stderr",
     "output_type": "stream",
     "text": [
      "\u001b[92mINFO \u001b[0m:      fit progress: (1, 0.07193296225070954, {'accuracy': 0.1511}, 50.10603399993852)\n",
      "\u001b[92mINFO \u001b[0m:      configure_evaluate: strategy sampled 3 clients (out of 6)\n"
     ]
    },
    {
     "name": "stdout",
     "output_type": "stream",
     "text": [
      "  Evaluation results - Loss: 0.0719, Accuracy: 0.1511\n"
     ]
    },
    {
     "name": "stderr",
     "output_type": "stream",
     "text": [
      "\u001b[36m(ClientAppActor pid=34879)\u001b[0m /Users/macbook/Desktop/L361/L361_Project/.conda/lib/python3.12/site-packages/datasets/utils/_dill.py:385: DeprecationWarning: co_lnotab is deprecated, use co_lines instead.\u001b[32m [repeated 3x across cluster]\u001b[0m\n",
      "\u001b[36m(ClientAppActor pid=34879)\u001b[0m   obj.co_lnotab,  # for < python 3.10 [not counted in args]\u001b[32m [repeated 3x across cluster]\u001b[0m\n"
     ]
    },
    {
     "name": "stdout",
     "output_type": "stream",
     "text": [
      "\u001b[36m(ClientAppActor pid=34879)\u001b[0m [Client 2] evaluate, config: {}\n",
      "\u001b[36m(ClientAppActor pid=34883)\u001b[0m Epoch 2: train loss 0.055039986968040466, accuracy 0.3290835458227089\u001b[32m [repeated 2x across cluster]\u001b[0m\n"
     ]
    },
    {
     "name": "stderr",
     "output_type": "stream",
     "text": [
      "\u001b[92mINFO \u001b[0m:      aggregate_evaluate: received 3 results and 0 failures\n",
      "\u001b[92mINFO \u001b[0m:      \n",
      "\u001b[92mINFO \u001b[0m:      [ROUND 2]\n",
      "\u001b[92mINFO \u001b[0m:      configure_fit: strategy sampled 3 clients (out of 6)\n"
     ]
    },
    {
     "name": "stdout",
     "output_type": "stream",
     "text": [
      "\u001b[36m(ClientAppActor pid=34883)\u001b[0m [Client 2] fit, config: {'proximal_mu': 0.1}\n"
     ]
    },
    {
     "name": "stderr",
     "output_type": "stream",
     "text": [
      "\u001b[36m(ClientAppActor pid=34879)\u001b[0m /Users/macbook/Desktop/L361/L361_Project/.conda/lib/python3.12/site-packages/datasets/utils/_dill.py:385: DeprecationWarning: co_lnotab is deprecated, use co_lines instead.\u001b[32m [repeated 5x across cluster]\u001b[0m\n",
      "\u001b[36m(ClientAppActor pid=34879)\u001b[0m   obj.co_lnotab,  # for < python 3.10 [not counted in args]\u001b[32m [repeated 5x across cluster]\u001b[0m\n"
     ]
    },
    {
     "name": "stdout",
     "output_type": "stream",
     "text": [
      "\u001b[36m(ClientAppActor pid=34883)\u001b[0m [Client 0] evaluate, config: {}\u001b[32m [repeated 2x across cluster]\u001b[0m\n",
      "\u001b[36m(ClientAppActor pid=34883)\u001b[0m Epoch 1: train loss 0.058523550629615784, accuracy 0.26612661266126614\n",
      "\u001b[36m(ClientAppActor pid=34879)\u001b[0m [Client 4] fit, config: {'proximal_mu': 0.1}\u001b[32m [repeated 2x across cluster]\u001b[0m\n",
      "\u001b[36m(ClientAppActor pid=34883)\u001b[0m Epoch 2: train loss 0.050902966409921646, accuracy 0.3871887188718872\u001b[32m [repeated 3x across cluster]\u001b[0m\n"
     ]
    },
    {
     "name": "stderr",
     "output_type": "stream",
     "text": [
      "\u001b[92mINFO \u001b[0m:      aggregate_fit: received 3 results and 0 failures\n"
     ]
    },
    {
     "name": "stdout",
     "output_type": "stream",
     "text": [
      "total size: 140451600\n",
      "\n",
      "==== Server-side evaluation for round 2 ====\n",
      "  Parameter 0: Changed by 0.010625\n",
      "  Parameter 1: Changed by 0.011696\n",
      "  Parameter 2: Changed by 0.009982\n",
      "  Parameter 3: Changed by 0.005641\n",
      "  Parameter 4: Changed by 0.008005\n",
      "  Parameter 5: Changed by 0.007783\n",
      "  Parameter 6: Changed by 0.004080\n",
      "  Parameter 7: Changed by 0.005110\n",
      "  Parameter 8: Changed by 0.002997\n",
      "  Parameter 9: Changed by 0.007257\n",
      "  Parameter 10: Changed by 0.002665\n",
      "  Parameter 11: Changed by 0.007074\n",
      "  Parameter 12: Changed by 0.002674\n",
      "  Parameter 13: Changed by 0.006494\n",
      "  Parameter 14: Changed by 0.003942\n",
      "  Parameter 15: Changed by 0.007665\n",
      "  Parameter 16: Changed by 0.009221\n",
      "  Parameter 17: Changed by 0.006767\n"
     ]
    },
    {
     "name": "stderr",
     "output_type": "stream",
     "text": [
      "\u001b[92mINFO \u001b[0m:      fit progress: (2, 0.05426191025972366, {'accuracy': 0.3611}, 101.38914666697383)\n",
      "\u001b[92mINFO \u001b[0m:      configure_evaluate: strategy sampled 3 clients (out of 6)\n"
     ]
    },
    {
     "name": "stdout",
     "output_type": "stream",
     "text": [
      "  Evaluation results - Loss: 0.0543, Accuracy: 0.3611\n"
     ]
    },
    {
     "name": "stderr",
     "output_type": "stream",
     "text": [
      "\u001b[36m(ClientAppActor pid=34882)\u001b[0m /Users/macbook/Desktop/L361/L361_Project/.conda/lib/python3.12/site-packages/datasets/utils/_dill.py:385: DeprecationWarning: co_lnotab is deprecated, use co_lines instead.\n",
      "\u001b[36m(ClientAppActor pid=34882)\u001b[0m   obj.co_lnotab,  # for < python 3.10 [not counted in args]\n",
      "\u001b[36m(ClientAppActor pid=34879)\u001b[0m /Users/macbook/Desktop/L361/L361_Project/.conda/lib/python3.12/site-packages/datasets/utils/_dill.py:385: DeprecationWarning: co_lnotab is deprecated, use co_lines instead.\n",
      "\u001b[36m(ClientAppActor pid=34879)\u001b[0m   obj.co_lnotab,  # for < python 3.10 [not counted in args]\n"
     ]
    },
    {
     "name": "stdout",
     "output_type": "stream",
     "text": [
      "\u001b[36m(ClientAppActor pid=34879)\u001b[0m [Client 1] evaluate, config: {}\n",
      "\u001b[36m(ClientAppActor pid=34879)\u001b[0m Epoch 2: train loss 0.05017853155732155, accuracy 0.3988898889888989\u001b[32m [repeated 2x across cluster]\u001b[0m\n"
     ]
    },
    {
     "name": "stderr",
     "output_type": "stream",
     "text": [
      "\u001b[92mINFO \u001b[0m:      aggregate_evaluate: received 3 results and 0 failures\n",
      "\u001b[92mINFO \u001b[0m:      \n",
      "\u001b[92mINFO \u001b[0m:      [ROUND 3]\n",
      "\u001b[92mINFO \u001b[0m:      configure_fit: strategy sampled 3 clients (out of 6)\n"
     ]
    },
    {
     "name": "stdout",
     "output_type": "stream",
     "text": [
      "\u001b[36m(ClientAppActor pid=34883)\u001b[0m [Client 2] fit, config: {'proximal_mu': 0.1}\n",
      "\u001b[36m(ClientAppActor pid=34883)\u001b[0m [Client 5] evaluate, config: {}\u001b[32m [repeated 2x across cluster]\u001b[0m\n",
      "\u001b[36m(ClientAppActor pid=34883)\u001b[0m Epoch 1: train loss 0.04831989109516144, accuracy 0.4221422142214221\n",
      "\u001b[36m(ClientAppActor pid=34882)\u001b[0m [Client 3] fit, config: {'proximal_mu': 0.1}\u001b[32m [repeated 2x across cluster]\u001b[0m\n",
      "\u001b[36m(ClientAppActor pid=34879)\u001b[0m Epoch 1: train loss 0.04706263169646263, accuracy 0.4389438943894389\n",
      "\u001b[36m(ClientAppActor pid=34883)\u001b[0m Epoch 2: train loss 0.04349547252058983, accuracy 0.4873987398739874\u001b[32m [repeated 2x across cluster]\u001b[0m\n"
     ]
    },
    {
     "name": "stderr",
     "output_type": "stream",
     "text": [
      "\u001b[92mINFO \u001b[0m:      aggregate_fit: received 3 results and 0 failures\n"
     ]
    },
    {
     "name": "stdout",
     "output_type": "stream",
     "text": [
      "total size: 140451600\n",
      "\n",
      "==== Server-side evaluation for round 3 ====\n",
      "  Parameter 0: Changed by 0.005973\n",
      "  Parameter 1: Changed by 0.009609\n",
      "  Parameter 2: Changed by 0.007322\n",
      "  Parameter 3: Changed by 0.004092\n",
      "  Parameter 4: Changed by 0.006970\n",
      "  Parameter 5: Changed by 0.006032\n",
      "  Parameter 6: Changed by 0.003452\n",
      "  Parameter 7: Changed by 0.002965\n",
      "  Parameter 8: Changed by 0.002384\n",
      "  Parameter 9: Changed by 0.005549\n",
      "  Parameter 10: Changed by 0.002242\n",
      "  Parameter 11: Changed by 0.002858\n",
      "  Parameter 12: Changed by 0.001884\n",
      "  Parameter 13: Changed by 0.003381\n",
      "  Parameter 14: Changed by 0.002558\n",
      "  Parameter 15: Changed by 0.004741\n",
      "  Parameter 16: Changed by 0.006299\n",
      "  Parameter 17: Changed by 0.008666\n"
     ]
    },
    {
     "name": "stderr",
     "output_type": "stream",
     "text": [
      "\u001b[92mINFO \u001b[0m:      fit progress: (3, 0.041525281429290774, {'accuracy': 0.5073}, 152.085202582879)\n",
      "\u001b[92mINFO \u001b[0m:      configure_evaluate: strategy sampled 3 clients (out of 6)\n"
     ]
    },
    {
     "name": "stdout",
     "output_type": "stream",
     "text": [
      "  Evaluation results - Loss: 0.0415, Accuracy: 0.5073\n"
     ]
    },
    {
     "name": "stderr",
     "output_type": "stream",
     "text": [
      "\u001b[36m(ClientAppActor pid=34882)\u001b[0m /Users/macbook/Desktop/L361/L361_Project/.conda/lib/python3.12/site-packages/datasets/utils/_dill.py:385: DeprecationWarning: co_lnotab is deprecated, use co_lines instead.\u001b[32m [repeated 5x across cluster]\u001b[0m\n",
      "\u001b[36m(ClientAppActor pid=34882)\u001b[0m   obj.co_lnotab,  # for < python 3.10 [not counted in args]\u001b[32m [repeated 5x across cluster]\u001b[0m\n"
     ]
    },
    {
     "name": "stdout",
     "output_type": "stream",
     "text": [
      "\u001b[36m(ClientAppActor pid=34882)\u001b[0m [Client 1] evaluate, config: {}\n",
      "\u001b[36m(ClientAppActor pid=34882)\u001b[0m Epoch 2: train loss 0.04364988952875137, accuracy 0.4953495349534954\u001b[32m [repeated 2x across cluster]\u001b[0m\n"
     ]
    },
    {
     "name": "stderr",
     "output_type": "stream",
     "text": [
      "\u001b[92mINFO \u001b[0m:      aggregate_evaluate: received 3 results and 0 failures\n",
      "\u001b[92mINFO \u001b[0m:      \n",
      "\u001b[92mINFO \u001b[0m:      [ROUND 4]\n",
      "\u001b[92mINFO \u001b[0m:      configure_fit: strategy sampled 3 clients (out of 6)\n"
     ]
    },
    {
     "name": "stdout",
     "output_type": "stream",
     "text": [
      "\u001b[36m(ClientAppActor pid=34879)\u001b[0m [Client 1] fit, config: {'proximal_mu': 0.1}\n",
      "\u001b[36m(ClientAppActor pid=34879)\u001b[0m [Client 2] evaluate, config: {}\u001b[32m [repeated 2x across cluster]\u001b[0m\n",
      "\u001b[36m(ClientAppActor pid=34879)\u001b[0m Epoch 1: train loss 0.042570438235998154, accuracy 0.4936253187340633\n",
      "\u001b[36m(ClientAppActor pid=34882)\u001b[0m [Client 0] fit, config: {'proximal_mu': 0.1}\u001b[32m [repeated 2x across cluster]\u001b[0m\n",
      "\u001b[36m(ClientAppActor pid=34883)\u001b[0m Epoch 1: train loss 0.04040653258562088, accuracy 0.5217521752175217\n",
      "\u001b[36m(ClientAppActor pid=34879)\u001b[0m Epoch 2: train loss 0.037592146545648575, accuracy 0.5641217939103045\u001b[32m [repeated 2x across cluster]\u001b[0m\n"
     ]
    },
    {
     "name": "stderr",
     "output_type": "stream",
     "text": [
      "\u001b[92mINFO \u001b[0m:      aggregate_fit: received 3 results and 0 failures\n"
     ]
    },
    {
     "name": "stdout",
     "output_type": "stream",
     "text": [
      "total size: 140451600\n",
      "\n",
      "==== Server-side evaluation for round 4 ====\n",
      "  Parameter 0: Changed by 0.005505\n",
      "  Parameter 1: Changed by 0.009368\n",
      "  Parameter 2: Changed by 0.006460\n",
      "  Parameter 3: Changed by 0.003433\n",
      "  Parameter 4: Changed by 0.005896\n",
      "  Parameter 5: Changed by 0.005410\n",
      "  Parameter 6: Changed by 0.003187\n",
      "  Parameter 7: Changed by 0.003448\n",
      "  Parameter 8: Changed by 0.002201\n",
      "  Parameter 9: Changed by 0.004204\n",
      "  Parameter 10: Changed by 0.002175\n",
      "  Parameter 11: Changed by 0.003541\n",
      "  Parameter 12: Changed by 0.001890\n",
      "  Parameter 13: Changed by 0.002603\n",
      "  Parameter 14: Changed by 0.002319\n",
      "  Parameter 15: Changed by 0.003898\n",
      "  Parameter 16: Changed by 0.005567\n",
      "  Parameter 17: Changed by 0.005757\n"
     ]
    },
    {
     "name": "stderr",
     "output_type": "stream",
     "text": [
      "\u001b[92mINFO \u001b[0m:      fit progress: (4, 0.03706583677530289, {'accuracy': 0.5671}, 179.60151812480763)\n",
      "\u001b[92mINFO \u001b[0m:      configure_evaluate: strategy sampled 3 clients (out of 6)\n"
     ]
    },
    {
     "name": "stdout",
     "output_type": "stream",
     "text": [
      "  Evaluation results - Loss: 0.0371, Accuracy: 0.5671\n",
      "\u001b[36m(ClientAppActor pid=34883)\u001b[0m [Client 1] evaluate, config: {}\n",
      "\u001b[36m(ClientAppActor pid=34882)\u001b[0m Epoch 2: train loss 0.037614330649375916, accuracy 0.5635218239088046\u001b[32m [repeated 2x across cluster]\u001b[0m\n"
     ]
    },
    {
     "name": "stderr",
     "output_type": "stream",
     "text": [
      "\u001b[36m(ClientAppActor pid=34883)\u001b[0m /Users/macbook/Desktop/L361/L361_Project/.conda/lib/python3.12/site-packages/datasets/utils/_dill.py:385: DeprecationWarning: co_lnotab is deprecated, use co_lines instead.\u001b[32m [repeated 6x across cluster]\u001b[0m\n",
      "\u001b[36m(ClientAppActor pid=34883)\u001b[0m   obj.co_lnotab,  # for < python 3.10 [not counted in args]\u001b[32m [repeated 6x across cluster]\u001b[0m\n",
      "\u001b[92mINFO \u001b[0m:      aggregate_evaluate: received 3 results and 0 failures\n",
      "\u001b[92mINFO \u001b[0m:      \n",
      "\u001b[92mINFO \u001b[0m:      [ROUND 5]\n",
      "\u001b[92mINFO \u001b[0m:      configure_fit: strategy sampled 3 clients (out of 6)\n",
      "\u001b[36m(ClientAppActor pid=34882)\u001b[0m /Users/macbook/Desktop/L361/L361_Project/.conda/lib/python3.12/site-packages/datasets/utils/_dill.py:385: DeprecationWarning: co_lnotab is deprecated, use co_lines instead.\u001b[32m [repeated 3x across cluster]\u001b[0m\n",
      "\u001b[36m(ClientAppActor pid=34882)\u001b[0m   obj.co_lnotab,  # for < python 3.10 [not counted in args]\u001b[32m [repeated 3x across cluster]\u001b[0m\n"
     ]
    },
    {
     "name": "stdout",
     "output_type": "stream",
     "text": [
      "\u001b[36m(ClientAppActor pid=34882)\u001b[0m [Client 3] fit, config: {'proximal_mu': 0.1}\n",
      "\u001b[36m(ClientAppActor pid=34879)\u001b[0m [Client 4] evaluate, config: {}\u001b[32m [repeated 2x across cluster]\u001b[0m\n",
      "\u001b[36m(ClientAppActor pid=34879)\u001b[0m Epoch 1: train loss 0.0366160087287426, accuracy 0.5795710214489276\n",
      "\u001b[36m(ClientAppActor pid=34883)\u001b[0m [Client 5] fit, config: {'proximal_mu': 0.1}\u001b[32m [repeated 2x across cluster]\u001b[0m\n",
      "\u001b[36m(ClientAppActor pid=34882)\u001b[0m Epoch 2: train loss 0.032362647354602814, accuracy 0.6261626162616262\u001b[32m [repeated 3x across cluster]\u001b[0m\n"
     ]
    },
    {
     "name": "stderr",
     "output_type": "stream",
     "text": [
      "\u001b[92mINFO \u001b[0m:      aggregate_fit: received 3 results and 0 failures\n"
     ]
    },
    {
     "name": "stdout",
     "output_type": "stream",
     "text": [
      "total size: 140451600\n",
      "\n",
      "==== Server-side evaluation for round 5 ====\n",
      "  Parameter 0: Changed by 0.004541\n",
      "  Parameter 1: Changed by 0.006041\n",
      "  Parameter 2: Changed by 0.005570\n",
      "  Parameter 3: Changed by 0.003379\n",
      "  Parameter 4: Changed by 0.005052\n",
      "  Parameter 5: Changed by 0.005006\n",
      "  Parameter 6: Changed by 0.003011\n",
      "  Parameter 7: Changed by 0.003596\n",
      "  Parameter 8: Changed by 0.002139\n",
      "  Parameter 9: Changed by 0.003576\n",
      "  Parameter 10: Changed by 0.001960\n",
      "  Parameter 11: Changed by 0.002857\n",
      "  Parameter 12: Changed by 0.001760\n",
      "  Parameter 13: Changed by 0.002572\n",
      "  Parameter 14: Changed by 0.002292\n",
      "  Parameter 15: Changed by 0.004021\n",
      "  Parameter 16: Changed by 0.005535\n",
      "  Parameter 17: Changed by 0.004796\n"
     ]
    },
    {
     "name": "stderr",
     "output_type": "stream",
     "text": [
      "\u001b[92mINFO \u001b[0m:      fit progress: (5, 0.03265523789525032, {'accuracy': 0.6278}, 234.50548562477343)\n",
      "\u001b[92mINFO \u001b[0m:      configure_evaluate: strategy sampled 3 clients (out of 6)\n"
     ]
    },
    {
     "name": "stdout",
     "output_type": "stream",
     "text": [
      "  Evaluation results - Loss: 0.0327, Accuracy: 0.6278\n",
      "\u001b[36m(ClientAppActor pid=34883)\u001b[0m [Client 3] evaluate, config: {}\n",
      "\u001b[36m(ClientAppActor pid=34883)\u001b[0m Epoch 2: train loss 0.033628907054662704, accuracy 0.6156615661566157\u001b[32m [repeated 2x across cluster]\u001b[0m\n"
     ]
    },
    {
     "name": "stderr",
     "output_type": "stream",
     "text": [
      "\u001b[36m(ClientAppActor pid=34883)\u001b[0m /Users/macbook/Desktop/L361/L361_Project/.conda/lib/python3.12/site-packages/datasets/utils/_dill.py:385: DeprecationWarning: co_lnotab is deprecated, use co_lines instead.\u001b[32m [repeated 3x across cluster]\u001b[0m\n",
      "\u001b[36m(ClientAppActor pid=34883)\u001b[0m   obj.co_lnotab,  # for < python 3.10 [not counted in args]\u001b[32m [repeated 3x across cluster]\u001b[0m\n",
      "\u001b[92mINFO \u001b[0m:      aggregate_evaluate: received 3 results and 0 failures\n",
      "\u001b[92mINFO \u001b[0m:      \n",
      "\u001b[92mINFO \u001b[0m:      [ROUND 6]\n",
      "\u001b[92mINFO \u001b[0m:      configure_fit: strategy sampled 3 clients (out of 6)\n"
     ]
    },
    {
     "name": "stdout",
     "output_type": "stream",
     "text": [
      "\u001b[36m(ClientAppActor pid=34882)\u001b[0m [Client 1] fit, config: {'proximal_mu': 0.1}\n",
      "\u001b[36m(ClientAppActor pid=34882)\u001b[0m [Client 1] evaluate, config: {}\u001b[32m [repeated 2x across cluster]\u001b[0m\n"
     ]
    },
    {
     "name": "stderr",
     "output_type": "stream",
     "text": [
      "\u001b[36m(ClientAppActor pid=34883)\u001b[0m /Users/macbook/Desktop/L361/L361_Project/.conda/lib/python3.12/site-packages/datasets/utils/_dill.py:385: DeprecationWarning: co_lnotab is deprecated, use co_lines instead.\u001b[32m [repeated 5x across cluster]\u001b[0m\n",
      "\u001b[36m(ClientAppActor pid=34883)\u001b[0m   obj.co_lnotab,  # for < python 3.10 [not counted in args]\u001b[32m [repeated 5x across cluster]\u001b[0m\n"
     ]
    },
    {
     "name": "stdout",
     "output_type": "stream",
     "text": [
      "\u001b[36m(ClientAppActor pid=34882)\u001b[0m Epoch 1: train loss 0.033564209938049316, accuracy 0.6151192440377982\n",
      "\u001b[36m(ClientAppActor pid=34883)\u001b[0m [Client 3] fit, config: {'proximal_mu': 0.1}\u001b[32m [repeated 2x across cluster]\u001b[0m\n",
      "\u001b[36m(ClientAppActor pid=34883)\u001b[0m Epoch 1: train loss 0.032415591180324554, accuracy 0.6329132913291329\u001b[32m [repeated 2x across cluster]\u001b[0m\n",
      "\u001b[36m(ClientAppActor pid=34882)\u001b[0m Epoch 2: train loss 0.028465112671256065, accuracy 0.6731663416829159\n",
      "\u001b[36m(ClientAppActor pid=34879)\u001b[0m Epoch 2: train loss 0.02725658379495144, accuracy 0.6816681668166816\n"
     ]
    },
    {
     "name": "stderr",
     "output_type": "stream",
     "text": [
      "\u001b[92mINFO \u001b[0m:      aggregate_fit: received 3 results and 0 failures\n"
     ]
    },
    {
     "name": "stdout",
     "output_type": "stream",
     "text": [
      "total size: 140451600\n",
      "\n",
      "==== Server-side evaluation for round 6 ====\n",
      "  Parameter 0: Changed by 0.004309\n",
      "  Parameter 1: Changed by 0.006208\n",
      "  Parameter 2: Changed by 0.005046\n",
      "  Parameter 3: Changed by 0.002613\n",
      "  Parameter 4: Changed by 0.004691\n",
      "  Parameter 5: Changed by 0.004450\n",
      "  Parameter 6: Changed by 0.002757\n",
      "  Parameter 7: Changed by 0.002222\n",
      "  Parameter 8: Changed by 0.001919\n",
      "  Parameter 9: Changed by 0.003774\n",
      "  Parameter 10: Changed by 0.001947\n",
      "  Parameter 11: Changed by 0.002438\n",
      "  Parameter 12: Changed by 0.001703\n",
      "  Parameter 13: Changed by 0.002401\n",
      "  Parameter 14: Changed by 0.002360\n",
      "  Parameter 15: Changed by 0.004087\n",
      "  Parameter 16: Changed by 0.005914\n",
      "  Parameter 17: Changed by 0.004469\n"
     ]
    },
    {
     "name": "stderr",
     "output_type": "stream",
     "text": [
      "\u001b[92mINFO \u001b[0m:      fit progress: (6, 0.029366966903209685, {'accuracy': 0.6671}, 290.8012039579917)\n",
      "\u001b[92mINFO \u001b[0m:      configure_evaluate: strategy sampled 3 clients (out of 6)\n"
     ]
    },
    {
     "name": "stdout",
     "output_type": "stream",
     "text": [
      "  Evaluation results - Loss: 0.0294, Accuracy: 0.6671\n",
      "\u001b[36m(ClientAppActor pid=34879)\u001b[0m [Client 0] evaluate, config: {}\n",
      "\u001b[36m(ClientAppActor pid=34883)\u001b[0m Epoch 2: train loss 0.027212394401431084, accuracy 0.689018901890189\n"
     ]
    },
    {
     "name": "stderr",
     "output_type": "stream",
     "text": [
      "\u001b[36m(ClientAppActor pid=34879)\u001b[0m /Users/macbook/Desktop/L361/L361_Project/.conda/lib/python3.12/site-packages/datasets/utils/_dill.py:385: DeprecationWarning: co_lnotab is deprecated, use co_lines instead.\n",
      "\u001b[36m(ClientAppActor pid=34879)\u001b[0m   obj.co_lnotab,  # for < python 3.10 [not counted in args]\n",
      "\u001b[36m(ClientAppActor pid=34882)\u001b[0m /Users/macbook/Desktop/L361/L361_Project/.conda/lib/python3.12/site-packages/datasets/utils/_dill.py:385: DeprecationWarning: co_lnotab is deprecated, use co_lines instead.\n",
      "\u001b[36m(ClientAppActor pid=34882)\u001b[0m   obj.co_lnotab,  # for < python 3.10 [not counted in args]\n",
      "\u001b[92mINFO \u001b[0m:      aggregate_evaluate: received 3 results and 0 failures\n",
      "\u001b[92mINFO \u001b[0m:      \n",
      "\u001b[92mINFO \u001b[0m:      [ROUND 7]\n",
      "\u001b[92mINFO \u001b[0m:      configure_fit: strategy sampled 3 clients (out of 6)\n"
     ]
    },
    {
     "name": "stdout",
     "output_type": "stream",
     "text": [
      "\u001b[36m(ClientAppActor pid=34879)\u001b[0m [Client 5] fit, config: {'proximal_mu': 0.1}\n",
      "\u001b[36m(ClientAppActor pid=34882)\u001b[0m Epoch 1: train loss 0.028194880113005638, accuracy 0.6783678367836784\n",
      "\u001b[36m(ClientAppActor pid=34883)\u001b[0m [Client 2] evaluate, config: {}\u001b[32m [repeated 2x across cluster]\u001b[0m\n",
      "\u001b[36m(ClientAppActor pid=34883)\u001b[0m [Client 2] fit, config: {'proximal_mu': 0.1}\u001b[32m [repeated 2x across cluster]\u001b[0m\n",
      "\u001b[36m(ClientAppActor pid=34882)\u001b[0m Epoch 2: train loss 0.022637853398919106, accuracy 0.7356735673567357\u001b[32m [repeated 3x across cluster]\u001b[0m\n"
     ]
    },
    {
     "name": "stderr",
     "output_type": "stream",
     "text": [
      "\u001b[92mINFO \u001b[0m:      aggregate_fit: received 3 results and 0 failures\n"
     ]
    },
    {
     "name": "stdout",
     "output_type": "stream",
     "text": [
      "total size: 140451600\n",
      "\n",
      "==== Server-side evaluation for round 7 ====\n",
      "  Parameter 0: Changed by 0.004187\n",
      "  Parameter 1: Changed by 0.006379\n",
      "  Parameter 2: Changed by 0.004929\n",
      "  Parameter 3: Changed by 0.002301\n",
      "  Parameter 4: Changed by 0.004790\n",
      "  Parameter 5: Changed by 0.003432\n",
      "  Parameter 6: Changed by 0.002810\n",
      "  Parameter 7: Changed by 0.002577\n",
      "  Parameter 8: Changed by 0.001997\n",
      "  Parameter 9: Changed by 0.003237\n",
      "  Parameter 10: Changed by 0.001977\n",
      "  Parameter 11: Changed by 0.002374\n",
      "  Parameter 12: Changed by 0.001716\n",
      "  Parameter 13: Changed by 0.002387\n",
      "  Parameter 14: Changed by 0.002437\n",
      "  Parameter 15: Changed by 0.004239\n",
      "  Parameter 16: Changed by 0.006233\n",
      "  Parameter 17: Changed by 0.005353\n"
     ]
    },
    {
     "name": "stderr",
     "output_type": "stream",
     "text": [
      "\u001b[92mINFO \u001b[0m:      fit progress: (7, 0.02775856941342354, {'accuracy': 0.6936}, 344.8852849169634)\n",
      "\u001b[92mINFO \u001b[0m:      configure_evaluate: strategy sampled 3 clients (out of 6)\n"
     ]
    },
    {
     "name": "stdout",
     "output_type": "stream",
     "text": [
      "  Evaluation results - Loss: 0.0278, Accuracy: 0.6936\n"
     ]
    },
    {
     "name": "stderr",
     "output_type": "stream",
     "text": [
      "\u001b[36m(ClientAppActor pid=34882)\u001b[0m /Users/macbook/Desktop/L361/L361_Project/.conda/lib/python3.12/site-packages/datasets/utils/_dill.py:385: DeprecationWarning: co_lnotab is deprecated, use co_lines instead.\u001b[32m [repeated 5x across cluster]\u001b[0m\n",
      "\u001b[36m(ClientAppActor pid=34882)\u001b[0m   obj.co_lnotab,  # for < python 3.10 [not counted in args]\u001b[32m [repeated 5x across cluster]\u001b[0m\n"
     ]
    },
    {
     "name": "stdout",
     "output_type": "stream",
     "text": [
      "\u001b[36m(ClientAppActor pid=34882)\u001b[0m [Client 1] evaluate, config: {}\n",
      "\u001b[36m(ClientAppActor pid=34879)\u001b[0m Epoch 2: train loss 0.02538161166012287, accuracy 0.7151215121512151\u001b[32m [repeated 2x across cluster]\u001b[0m\n"
     ]
    },
    {
     "name": "stderr",
     "output_type": "stream",
     "text": [
      "\u001b[92mINFO \u001b[0m:      aggregate_evaluate: received 3 results and 0 failures\n",
      "\u001b[92mINFO \u001b[0m:      \n",
      "\u001b[92mINFO \u001b[0m:      [ROUND 8]\n",
      "\u001b[92mINFO \u001b[0m:      configure_fit: strategy sampled 3 clients (out of 6)\n"
     ]
    },
    {
     "name": "stdout",
     "output_type": "stream",
     "text": [
      "\u001b[36m(ClientAppActor pid=34883)\u001b[0m [Client 3] fit, config: {'proximal_mu': 0.1}\n",
      "\u001b[36m(ClientAppActor pid=34879)\u001b[0m [Client 3] evaluate, config: {}\u001b[32m [repeated 2x across cluster]\u001b[0m\n",
      "\u001b[36m(ClientAppActor pid=34883)\u001b[0m Epoch 1: train loss 0.027336183935403824, accuracy 0.6968196819681968\n",
      "\u001b[36m(ClientAppActor pid=34882)\u001b[0m [Client 5] fit, config: {'proximal_mu': 0.1}\u001b[32m [repeated 2x across cluster]\u001b[0m\n",
      "\u001b[36m(ClientAppActor pid=34879)\u001b[0m Epoch 1: train loss 0.02745695225894451, accuracy 0.6881188118811881\n",
      "\u001b[36m(ClientAppActor pid=34883)\u001b[0m Epoch 2: train loss 0.020629674196243286, accuracy 0.7685268526852685\u001b[32m [repeated 2x across cluster]\u001b[0m\n"
     ]
    },
    {
     "name": "stderr",
     "output_type": "stream",
     "text": [
      "\u001b[92mINFO \u001b[0m:      aggregate_fit: received 3 results and 0 failures\n"
     ]
    },
    {
     "name": "stdout",
     "output_type": "stream",
     "text": [
      "total size: 140451600\n",
      "\n",
      "==== Server-side evaluation for round 8 ====\n",
      "  Parameter 0: Changed by 0.003833\n",
      "  Parameter 1: Changed by 0.004368\n",
      "  Parameter 2: Changed by 0.004594\n",
      "  Parameter 3: Changed by 0.002876\n",
      "  Parameter 4: Changed by 0.004543\n",
      "  Parameter 5: Changed by 0.003961\n",
      "  Parameter 6: Changed by 0.002697\n",
      "  Parameter 7: Changed by 0.002339\n",
      "  Parameter 8: Changed by 0.001923\n",
      "  Parameter 9: Changed by 0.003097\n",
      "  Parameter 10: Changed by 0.001866\n",
      "  Parameter 11: Changed by 0.002147\n",
      "  Parameter 12: Changed by 0.001638\n",
      "  Parameter 13: Changed by 0.002280\n",
      "  Parameter 14: Changed by 0.002494\n",
      "  Parameter 15: Changed by 0.003700\n",
      "  Parameter 16: Changed by 0.006269\n",
      "  Parameter 17: Changed by 0.003284\n"
     ]
    },
    {
     "name": "stderr",
     "output_type": "stream",
     "text": [
      "\u001b[92mINFO \u001b[0m:      fit progress: (8, 0.026647246199846267, {'accuracy': 0.7094}, 396.67712991684675)\n",
      "\u001b[92mINFO \u001b[0m:      configure_evaluate: strategy sampled 3 clients (out of 6)\n"
     ]
    },
    {
     "name": "stdout",
     "output_type": "stream",
     "text": [
      "  Evaluation results - Loss: 0.0266, Accuracy: 0.7094\n"
     ]
    },
    {
     "name": "stderr",
     "output_type": "stream",
     "text": [
      "\u001b[36m(ClientAppActor pid=34882)\u001b[0m /Users/macbook/Desktop/L361/L361_Project/.conda/lib/python3.12/site-packages/datasets/utils/_dill.py:385: DeprecationWarning: co_lnotab is deprecated, use co_lines instead.\u001b[32m [repeated 6x across cluster]\u001b[0m\n",
      "\u001b[36m(ClientAppActor pid=34882)\u001b[0m   obj.co_lnotab,  # for < python 3.10 [not counted in args]\u001b[32m [repeated 6x across cluster]\u001b[0m\n"
     ]
    },
    {
     "name": "stdout",
     "output_type": "stream",
     "text": [
      "\u001b[36m(ClientAppActor pid=34879)\u001b[0m [Client 0] evaluate, config: {}\n",
      "\u001b[36m(ClientAppActor pid=34882)\u001b[0m Epoch 2: train loss 0.020069686695933342, accuracy 0.7715271527152715\u001b[32m [repeated 2x across cluster]\u001b[0m\n"
     ]
    },
    {
     "name": "stderr",
     "output_type": "stream",
     "text": [
      "\u001b[92mINFO \u001b[0m:      aggregate_evaluate: received 3 results and 0 failures\n",
      "\u001b[92mINFO \u001b[0m:      \n",
      "\u001b[92mINFO \u001b[0m:      [ROUND 9]\n",
      "\u001b[92mINFO \u001b[0m:      configure_fit: strategy sampled 3 clients (out of 6)\n"
     ]
    },
    {
     "name": "stdout",
     "output_type": "stream",
     "text": [
      "\u001b[36m(ClientAppActor pid=34883)\u001b[0m [Client 1] fit, config: {'proximal_mu': 0.1}\n",
      "\u001b[36m(ClientAppActor pid=34883)\u001b[0m [Client 1] evaluate, config: {}\u001b[32m [repeated 2x across cluster]\u001b[0m\n",
      "\u001b[36m(ClientAppActor pid=34883)\u001b[0m Epoch 1: train loss 0.027200181037187576, accuracy 0.696565171741413\n"
     ]
    },
    {
     "name": "stderr",
     "output_type": "stream",
     "text": [
      "\u001b[36m(ClientAppActor pid=34879)\u001b[0m /Users/macbook/Desktop/L361/L361_Project/.conda/lib/python3.12/site-packages/datasets/utils/_dill.py:385: DeprecationWarning: co_lnotab is deprecated, use co_lines instead.\u001b[32m [repeated 4x across cluster]\u001b[0m\n",
      "\u001b[36m(ClientAppActor pid=34879)\u001b[0m   obj.co_lnotab,  # for < python 3.10 [not counted in args]\u001b[32m [repeated 4x across cluster]\u001b[0m\n"
     ]
    },
    {
     "name": "stdout",
     "output_type": "stream",
     "text": [
      "\u001b[36m(ClientAppActor pid=34882)\u001b[0m [Client 2] fit, config: {'proximal_mu': 0.1}\u001b[32m [repeated 2x across cluster]\u001b[0m\n",
      "\u001b[36m(ClientAppActor pid=34883)\u001b[0m Epoch 2: train loss 0.02017398178577423, accuracy 0.7699115044247787\n",
      "\u001b[36m(ClientAppActor pid=34879)\u001b[0m Epoch 2: train loss 0.017536766827106476, accuracy 0.7946294629462947\u001b[32m [repeated 3x across cluster]\u001b[0m\n"
     ]
    },
    {
     "name": "stderr",
     "output_type": "stream",
     "text": [
      "\u001b[92mINFO \u001b[0m:      aggregate_fit: received 3 results and 0 failures\n"
     ]
    },
    {
     "name": "stdout",
     "output_type": "stream",
     "text": [
      "total size: 140451600\n",
      "\n",
      "==== Server-side evaluation for round 9 ====\n",
      "  Parameter 0: Changed by 0.003423\n",
      "  Parameter 1: Changed by 0.003968\n",
      "  Parameter 2: Changed by 0.004514\n",
      "  Parameter 3: Changed by 0.002072\n",
      "  Parameter 4: Changed by 0.004456\n",
      "  Parameter 5: Changed by 0.003583\n",
      "  Parameter 6: Changed by 0.002739\n",
      "  Parameter 7: Changed by 0.002593\n",
      "  Parameter 8: Changed by 0.001910\n",
      "  Parameter 9: Changed by 0.003454\n",
      "  Parameter 10: Changed by 0.001832\n",
      "  Parameter 11: Changed by 0.002450\n",
      "  Parameter 12: Changed by 0.001660\n",
      "  Parameter 13: Changed by 0.002476\n",
      "  Parameter 14: Changed by 0.002617\n",
      "  Parameter 15: Changed by 0.004436\n",
      "  Parameter 16: Changed by 0.006572\n",
      "  Parameter 17: Changed by 0.002575\n"
     ]
    },
    {
     "name": "stderr",
     "output_type": "stream",
     "text": [
      "\u001b[92mINFO \u001b[0m:      fit progress: (9, 0.026277105551958085, {'accuracy': 0.7209}, 451.9207068749238)\n",
      "\u001b[92mINFO \u001b[0m:      configure_evaluate: strategy sampled 3 clients (out of 6)\n"
     ]
    },
    {
     "name": "stdout",
     "output_type": "stream",
     "text": [
      "  Evaluation results - Loss: 0.0263, Accuracy: 0.7209\n"
     ]
    },
    {
     "name": "stderr",
     "output_type": "stream",
     "text": [
      "\u001b[36m(ClientAppActor pid=34882)\u001b[0m /Users/macbook/Desktop/L361/L361_Project/.conda/lib/python3.12/site-packages/datasets/utils/_dill.py:385: DeprecationWarning: co_lnotab is deprecated, use co_lines instead.\u001b[32m [repeated 2x across cluster]\u001b[0m\n",
      "\u001b[36m(ClientAppActor pid=34882)\u001b[0m   obj.co_lnotab,  # for < python 3.10 [not counted in args]\u001b[32m [repeated 2x across cluster]\u001b[0m\n"
     ]
    },
    {
     "name": "stdout",
     "output_type": "stream",
     "text": [
      "\u001b[36m(ClientAppActor pid=34882)\u001b[0m [Client 2] evaluate, config: {}\n",
      "\u001b[36m(ClientAppActor pid=34882)\u001b[0m Epoch 2: train loss 0.016935210675001144, accuracy 0.8126312631263126\n"
     ]
    },
    {
     "name": "stderr",
     "output_type": "stream",
     "text": [
      "\u001b[92mINFO \u001b[0m:      aggregate_evaluate: received 3 results and 0 failures\n",
      "\u001b[92mINFO \u001b[0m:      \n",
      "\u001b[92mINFO \u001b[0m:      [ROUND 10]\n",
      "\u001b[92mINFO \u001b[0m:      configure_fit: strategy sampled 3 clients (out of 6)\n"
     ]
    },
    {
     "name": "stdout",
     "output_type": "stream",
     "text": [
      "\u001b[36m(ClientAppActor pid=34882)\u001b[0m [Client 5] fit, config: {'proximal_mu': 0.1}\n",
      "\u001b[36m(ClientAppActor pid=34882)\u001b[0m Epoch 1: train loss 0.022304117679595947, accuracy 0.7491749174917491\n",
      "\u001b[36m(ClientAppActor pid=34879)\u001b[0m [Client 1] evaluate, config: {}\u001b[32m [repeated 2x across cluster]\u001b[0m\n",
      "\u001b[36m(ClientAppActor pid=34883)\u001b[0m [Client 3] fit, config: {'proximal_mu': 0.1}\u001b[32m [repeated 2x across cluster]\u001b[0m\n",
      "\u001b[36m(ClientAppActor pid=34882)\u001b[0m Epoch 2: train loss 0.015252579003572464, accuracy 0.8312331233123312\u001b[32m [repeated 3x across cluster]\u001b[0m\n"
     ]
    },
    {
     "name": "stderr",
     "output_type": "stream",
     "text": [
      "\u001b[92mINFO \u001b[0m:      aggregate_fit: received 3 results and 0 failures\n"
     ]
    },
    {
     "name": "stdout",
     "output_type": "stream",
     "text": [
      "total size: 140451600\n",
      "\n",
      "==== Server-side evaluation for round 10 ====\n",
      "  Parameter 0: Changed by 0.003378\n",
      "  Parameter 1: Changed by 0.004320\n",
      "  Parameter 2: Changed by 0.004318\n",
      "  Parameter 3: Changed by 0.002364\n",
      "  Parameter 4: Changed by 0.004293\n",
      "  Parameter 5: Changed by 0.003533\n",
      "  Parameter 6: Changed by 0.002671\n",
      "  Parameter 7: Changed by 0.002485\n",
      "  Parameter 8: Changed by 0.001921\n",
      "  Parameter 9: Changed by 0.003430\n",
      "  Parameter 10: Changed by 0.001846\n",
      "  Parameter 11: Changed by 0.002229\n",
      "  Parameter 12: Changed by 0.001625\n",
      "  Parameter 13: Changed by 0.002487\n",
      "  Parameter 14: Changed by 0.002643\n",
      "  Parameter 15: Changed by 0.004047\n",
      "  Parameter 16: Changed by 0.006640\n",
      "  Parameter 17: Changed by 0.002647\n"
     ]
    },
    {
     "name": "stderr",
     "output_type": "stream",
     "text": [
      "\u001b[92mINFO \u001b[0m:      fit progress: (10, 0.027589337019622327, {'accuracy': 0.7173}, 500.16830554185435)\n",
      "\u001b[92mINFO \u001b[0m:      configure_evaluate: strategy sampled 3 clients (out of 6)\n"
     ]
    },
    {
     "name": "stdout",
     "output_type": "stream",
     "text": [
      "  Evaluation results - Loss: 0.0276, Accuracy: 0.7173\n",
      "\u001b[36m(ClientAppActor pid=34879)\u001b[0m [Client 0] evaluate, config: {}\n",
      "\u001b[36m(ClientAppActor pid=34879)\u001b[0m Epoch 2: train loss 0.012298963032662868, accuracy 0.860936093609361\u001b[32m [repeated 2x across cluster]\u001b[0m\n"
     ]
    },
    {
     "name": "stderr",
     "output_type": "stream",
     "text": [
      "\u001b[36m(ClientAppActor pid=34879)\u001b[0m /Users/macbook/Desktop/L361/L361_Project/.conda/lib/python3.12/site-packages/datasets/utils/_dill.py:385: DeprecationWarning: co_lnotab is deprecated, use co_lines instead.\u001b[32m [repeated 6x across cluster]\u001b[0m\n",
      "\u001b[36m(ClientAppActor pid=34879)\u001b[0m   obj.co_lnotab,  # for < python 3.10 [not counted in args]\u001b[32m [repeated 6x across cluster]\u001b[0m\n",
      "\u001b[92mINFO \u001b[0m:      aggregate_evaluate: received 3 results and 0 failures\n",
      "\u001b[92mINFO \u001b[0m:      \n",
      "\u001b[92mINFO \u001b[0m:      [ROUND 11]\n",
      "\u001b[92mINFO \u001b[0m:      configure_fit: strategy sampled 3 clients (out of 6)\n"
     ]
    },
    {
     "name": "stdout",
     "output_type": "stream",
     "text": [
      "\u001b[36m(ClientAppActor pid=34882)\u001b[0m [Client 1] fit, config: {'proximal_mu': 0.1}\n",
      "\u001b[36m(ClientAppActor pid=34882)\u001b[0m [Client 4] evaluate, config: {}\u001b[32m [repeated 2x across cluster]\u001b[0m\n",
      "\u001b[36m(ClientAppActor pid=34882)\u001b[0m Epoch 1: train loss 0.02310987003147602, accuracy 0.7412629368531574\n",
      "\u001b[36m(ClientAppActor pid=34879)\u001b[0m [Client 2] fit, config: {'proximal_mu': 0.1}\u001b[32m [repeated 2x across cluster]\u001b[0m\n",
      "\u001b[36m(ClientAppActor pid=34883)\u001b[0m Epoch 1: train loss 0.017459141090512276, accuracy 0.8025802580258026\n",
      "\u001b[36m(ClientAppActor pid=34883)\u001b[0m Epoch 2: train loss 0.01140360813587904, accuracy 0.8726372637263726\u001b[32m [repeated 2x across cluster]\u001b[0m\n"
     ]
    },
    {
     "name": "stderr",
     "output_type": "stream",
     "text": [
      "\u001b[92mINFO \u001b[0m:      aggregate_fit: received 3 results and 0 failures\n"
     ]
    },
    {
     "name": "stdout",
     "output_type": "stream",
     "text": [
      "total size: 140451600\n",
      "\n",
      "==== Server-side evaluation for round 11 ====\n",
      "  Parameter 0: Changed by 0.003571\n",
      "  Parameter 1: Changed by 0.003876\n",
      "  Parameter 2: Changed by 0.004180\n",
      "  Parameter 3: Changed by 0.002271\n",
      "  Parameter 4: Changed by 0.004169\n",
      "  Parameter 5: Changed by 0.003668\n",
      "  Parameter 6: Changed by 0.002687\n",
      "  Parameter 7: Changed by 0.002599\n",
      "  Parameter 8: Changed by 0.001960\n",
      "  Parameter 9: Changed by 0.003271\n",
      "  Parameter 10: Changed by 0.001828\n",
      "  Parameter 11: Changed by 0.001909\n",
      "  Parameter 12: Changed by 0.001604\n",
      "  Parameter 13: Changed by 0.002632\n",
      "  Parameter 14: Changed by 0.002751\n",
      "  Parameter 15: Changed by 0.004094\n",
      "  Parameter 16: Changed by 0.006865\n",
      "  Parameter 17: Changed by 0.002695\n"
     ]
    },
    {
     "name": "stderr",
     "output_type": "stream",
     "text": [
      "\u001b[92mINFO \u001b[0m:      fit progress: (11, 0.02689040290862322, {'accuracy': 0.7316}, 540.9870186247863)\n",
      "\u001b[92mINFO \u001b[0m:      configure_evaluate: strategy sampled 3 clients (out of 6)\n"
     ]
    },
    {
     "name": "stdout",
     "output_type": "stream",
     "text": [
      "  Evaluation results - Loss: 0.0269, Accuracy: 0.7316\n",
      "\u001b[36m(ClientAppActor pid=34879)\u001b[0m [Client 3] evaluate, config: {}\n",
      "\u001b[36m(ClientAppActor pid=34879)\u001b[0m Epoch 2: train loss 0.009926971048116684, accuracy 0.8948394839483949\u001b[32m [repeated 2x across cluster]\u001b[0m\n"
     ]
    },
    {
     "name": "stderr",
     "output_type": "stream",
     "text": [
      "\u001b[36m(ClientAppActor pid=34879)\u001b[0m /Users/macbook/Desktop/L361/L361_Project/.conda/lib/python3.12/site-packages/datasets/utils/_dill.py:385: DeprecationWarning: co_lnotab is deprecated, use co_lines instead.\u001b[32m [repeated 6x across cluster]\u001b[0m\n",
      "\u001b[36m(ClientAppActor pid=34879)\u001b[0m   obj.co_lnotab,  # for < python 3.10 [not counted in args]\u001b[32m [repeated 6x across cluster]\u001b[0m\n",
      "\u001b[92mINFO \u001b[0m:      aggregate_evaluate: received 3 results and 0 failures\n",
      "\u001b[92mINFO \u001b[0m:      \n",
      "\u001b[92mINFO \u001b[0m:      [ROUND 12]\n",
      "\u001b[92mINFO \u001b[0m:      configure_fit: strategy sampled 3 clients (out of 6)\n"
     ]
    },
    {
     "name": "stdout",
     "output_type": "stream",
     "text": [
      "\u001b[36m(ClientAppActor pid=34879)\u001b[0m [Client 5] fit, config: {'proximal_mu': 0.1}\n",
      "\u001b[36m(ClientAppActor pid=34882)\u001b[0m [Client 1] evaluate, config: {}\u001b[32m [repeated 2x across cluster]\u001b[0m\n"
     ]
    },
    {
     "name": "stderr",
     "output_type": "stream",
     "text": [
      "\u001b[36m(ClientAppActor pid=34879)\u001b[0m /Users/macbook/Desktop/L361/L361_Project/.conda/lib/python3.12/site-packages/datasets/utils/_dill.py:385: DeprecationWarning: co_lnotab is deprecated, use co_lines instead.\u001b[32m [repeated 3x across cluster]\u001b[0m\n",
      "\u001b[36m(ClientAppActor pid=34879)\u001b[0m   obj.co_lnotab,  # for < python 3.10 [not counted in args]\u001b[32m [repeated 3x across cluster]\u001b[0m\n"
     ]
    },
    {
     "name": "stdout",
     "output_type": "stream",
     "text": [
      "\u001b[36m(ClientAppActor pid=34879)\u001b[0m Epoch 1: train loss 0.013777138665318489, accuracy 0.8429342934293429\n",
      "\u001b[36m(ClientAppActor pid=34882)\u001b[0m [Client 1] fit, config: {'proximal_mu': 0.1}\u001b[32m [repeated 2x across cluster]\u001b[0m\n"
     ]
    },
    {
     "name": "stderr",
     "output_type": "stream",
     "text": [
      "\u001b[92mINFO \u001b[0m:      aggregate_fit: received 3 results and 0 failures\n"
     ]
    },
    {
     "name": "stdout",
     "output_type": "stream",
     "text": [
      "\u001b[36m(ClientAppActor pid=34883)\u001b[0m Epoch 2: train loss 0.012628518976271152, accuracy 0.8531353135313532\u001b[32m [repeated 3x across cluster]\u001b[0m\n",
      "total size: 140451600\n",
      "\n",
      "==== Server-side evaluation for round 12 ====\n",
      "  Parameter 0: Changed by 0.003278\n",
      "  Parameter 1: Changed by 0.004849\n",
      "  Parameter 2: Changed by 0.004070\n",
      "  Parameter 3: Changed by 0.001957\n",
      "  Parameter 4: Changed by 0.004063\n",
      "  Parameter 5: Changed by 0.003473\n",
      "  Parameter 6: Changed by 0.002585\n",
      "  Parameter 7: Changed by 0.002096\n",
      "  Parameter 8: Changed by 0.001956\n",
      "  Parameter 9: Changed by 0.003588\n",
      "  Parameter 10: Changed by 0.001901\n",
      "  Parameter 11: Changed by 0.002414\n",
      "  Parameter 12: Changed by 0.001610\n",
      "  Parameter 13: Changed by 0.002460\n",
      "  Parameter 14: Changed by 0.002820\n",
      "  Parameter 15: Changed by 0.003896\n",
      "  Parameter 16: Changed by 0.007020\n",
      "  Parameter 17: Changed by 0.002783\n"
     ]
    },
    {
     "name": "stderr",
     "output_type": "stream",
     "text": [
      "\u001b[92mINFO \u001b[0m:      fit progress: (12, 0.027657638946175574, {'accuracy': 0.733}, 580.6750193329062)\n",
      "\u001b[92mINFO \u001b[0m:      configure_evaluate: strategy sampled 3 clients (out of 6)\n"
     ]
    },
    {
     "name": "stdout",
     "output_type": "stream",
     "text": [
      "  Evaluation results - Loss: 0.0277, Accuracy: 0.7330\n",
      "\u001b[36m(ClientAppActor pid=34879)\u001b[0m [Client 0] evaluate, config: {}\n",
      "\u001b[36m(ClientAppActor pid=34882)\u001b[0m Epoch 2: train loss 0.010703588835895061, accuracy 0.87985600719964\u001b[32m [repeated 2x across cluster]\u001b[0m\n"
     ]
    },
    {
     "name": "stderr",
     "output_type": "stream",
     "text": [
      "\u001b[36m(ClientAppActor pid=34879)\u001b[0m /Users/macbook/Desktop/L361/L361_Project/.conda/lib/python3.12/site-packages/datasets/utils/_dill.py:385: DeprecationWarning: co_lnotab is deprecated, use co_lines instead.\u001b[32m [repeated 3x across cluster]\u001b[0m\n",
      "\u001b[36m(ClientAppActor pid=34879)\u001b[0m   obj.co_lnotab,  # for < python 3.10 [not counted in args]\u001b[32m [repeated 3x across cluster]\u001b[0m\n",
      "\u001b[92mINFO \u001b[0m:      aggregate_evaluate: received 3 results and 0 failures\n",
      "\u001b[92mINFO \u001b[0m:      \n",
      "\u001b[92mINFO \u001b[0m:      [ROUND 13]\n",
      "\u001b[92mINFO \u001b[0m:      configure_fit: strategy sampled 3 clients (out of 6)\n"
     ]
    },
    {
     "name": "stdout",
     "output_type": "stream",
     "text": [
      "\u001b[36m(ClientAppActor pid=34883)\u001b[0m [Client 3] fit, config: {'proximal_mu': 0.1}\n"
     ]
    },
    {
     "name": "stderr",
     "output_type": "stream",
     "text": [
      "\u001b[36m(ClientAppActor pid=34882)\u001b[0m /Users/macbook/Desktop/L361/L361_Project/.conda/lib/python3.12/site-packages/datasets/utils/_dill.py:385: DeprecationWarning: co_lnotab is deprecated, use co_lines instead.\u001b[32m [repeated 5x across cluster]\u001b[0m\n",
      "\u001b[36m(ClientAppActor pid=34882)\u001b[0m   obj.co_lnotab,  # for < python 3.10 [not counted in args]\u001b[32m [repeated 5x across cluster]\u001b[0m\n"
     ]
    },
    {
     "name": "stdout",
     "output_type": "stream",
     "text": [
      "\u001b[36m(ClientAppActor pid=34883)\u001b[0m [Client 5] evaluate, config: {}\u001b[32m [repeated 2x across cluster]\u001b[0m\n",
      "\u001b[36m(ClientAppActor pid=34882)\u001b[0m [Client 0] fit, config: {'proximal_mu': 0.1}\u001b[32m [repeated 2x across cluster]\u001b[0m\n",
      "\u001b[36m(ClientAppActor pid=34883)\u001b[0m Epoch 1: train loss 0.02022659406065941, accuracy 0.7739273927392739\n",
      "\u001b[36m(ClientAppActor pid=34882)\u001b[0m Epoch 1: train loss 0.026920465752482414, accuracy 0.7058647067646617\u001b[32m [repeated 2x across cluster]\u001b[0m\n",
      "\u001b[36m(ClientAppActor pid=34883)\u001b[0m Epoch 2: train loss 0.012022721581161022, accuracy 0.8672367236723673\n",
      "\u001b[36m(ClientAppActor pid=34879)\u001b[0m Epoch 2: train loss 0.0063477265648543835, accuracy 0.9311431143114312\n"
     ]
    },
    {
     "name": "stderr",
     "output_type": "stream",
     "text": [
      "\u001b[92mINFO \u001b[0m:      aggregate_fit: received 3 results and 0 failures\n"
     ]
    },
    {
     "name": "stdout",
     "output_type": "stream",
     "text": [
      "total size: 140451600\n",
      "\n",
      "==== Server-side evaluation for round 13 ====\n",
      "  Parameter 0: Changed by 0.003253\n",
      "  Parameter 1: Changed by 0.004386\n",
      "  Parameter 2: Changed by 0.004397\n",
      "  Parameter 3: Changed by 0.002620\n",
      "  Parameter 4: Changed by 0.004177\n",
      "  Parameter 5: Changed by 0.003475\n",
      "  Parameter 6: Changed by 0.002721\n",
      "  Parameter 7: Changed by 0.002295\n",
      "  Parameter 8: Changed by 0.002069\n",
      "  Parameter 9: Changed by 0.003102\n",
      "  Parameter 10: Changed by 0.001829\n",
      "  Parameter 11: Changed by 0.002081\n",
      "  Parameter 12: Changed by 0.001599\n",
      "  Parameter 13: Changed by 0.002863\n",
      "  Parameter 14: Changed by 0.002977\n",
      "  Parameter 15: Changed by 0.004560\n",
      "  Parameter 16: Changed by 0.006988\n",
      "  Parameter 17: Changed by 0.002749\n"
     ]
    },
    {
     "name": "stderr",
     "output_type": "stream",
     "text": [
      "\u001b[92mINFO \u001b[0m:      fit progress: (13, 0.026027840559184553, {'accuracy': 0.7435}, 636.1322500829119)\n",
      "\u001b[92mINFO \u001b[0m:      configure_evaluate: strategy sampled 3 clients (out of 6)\n"
     ]
    },
    {
     "name": "stdout",
     "output_type": "stream",
     "text": [
      "  Evaluation results - Loss: 0.0260, Accuracy: 0.7435\n"
     ]
    },
    {
     "name": "stderr",
     "output_type": "stream",
     "text": [
      "\u001b[36m(ClientAppActor pid=34882)\u001b[0m /Users/macbook/Desktop/L361/L361_Project/.conda/lib/python3.12/site-packages/datasets/utils/_dill.py:385: DeprecationWarning: co_lnotab is deprecated, use co_lines instead.\n",
      "\u001b[36m(ClientAppActor pid=34882)\u001b[0m   obj.co_lnotab,  # for < python 3.10 [not counted in args]\n",
      "\u001b[36m(ClientAppActor pid=34883)\u001b[0m /Users/macbook/Desktop/L361/L361_Project/.conda/lib/python3.12/site-packages/datasets/utils/_dill.py:385: DeprecationWarning: co_lnotab is deprecated, use co_lines instead.\n",
      "\u001b[36m(ClientAppActor pid=34883)\u001b[0m   obj.co_lnotab,  # for < python 3.10 [not counted in args]\n"
     ]
    },
    {
     "name": "stdout",
     "output_type": "stream",
     "text": [
      "\u001b[36m(ClientAppActor pid=34882)\u001b[0m [Client 0] evaluate, config: {}\n",
      "\u001b[36m(ClientAppActor pid=34882)\u001b[0m Epoch 2: train loss 0.01766376942396164, accuracy 0.807709614519274\n"
     ]
    },
    {
     "name": "stderr",
     "output_type": "stream",
     "text": [
      "\u001b[92mINFO \u001b[0m:      aggregate_evaluate: received 3 results and 0 failures\n",
      "\u001b[92mINFO \u001b[0m:      \n",
      "\u001b[92mINFO \u001b[0m:      [ROUND 14]\n",
      "\u001b[92mINFO \u001b[0m:      configure_fit: strategy sampled 3 clients (out of 6)\n"
     ]
    },
    {
     "name": "stdout",
     "output_type": "stream",
     "text": [
      "\u001b[36m(ClientAppActor pid=34883)\u001b[0m [Client 4] fit, config: {'proximal_mu': 0.1}\n"
     ]
    },
    {
     "name": "stderr",
     "output_type": "stream",
     "text": [
      "\u001b[36m(ClientAppActor pid=34882)\u001b[0m /Users/macbook/Desktop/L361/L361_Project/.conda/lib/python3.12/site-packages/datasets/utils/_dill.py:385: DeprecationWarning: co_lnotab is deprecated, use co_lines instead.\u001b[32m [repeated 4x across cluster]\u001b[0m\n",
      "\u001b[36m(ClientAppActor pid=34882)\u001b[0m   obj.co_lnotab,  # for < python 3.10 [not counted in args]\u001b[32m [repeated 4x across cluster]\u001b[0m\n"
     ]
    },
    {
     "name": "stdout",
     "output_type": "stream",
     "text": [
      "\u001b[36m(ClientAppActor pid=34879)\u001b[0m [Client 1] evaluate, config: {}\u001b[32m [repeated 2x across cluster]\u001b[0m\n",
      "\u001b[36m(ClientAppActor pid=34882)\u001b[0m [Client 1] fit, config: {'proximal_mu': 0.1}\u001b[32m [repeated 2x across cluster]\u001b[0m\n",
      "\u001b[36m(ClientAppActor pid=34883)\u001b[0m Epoch 1: train loss 0.01693820208311081, accuracy 0.8073807380738074\n",
      "\u001b[36m(ClientAppActor pid=34882)\u001b[0m Epoch 1: train loss 0.01571139693260193, accuracy 0.8218089095545222\u001b[32m [repeated 2x across cluster]\u001b[0m\n",
      "\u001b[36m(ClientAppActor pid=34883)\u001b[0m Epoch 2: train loss 0.010261411778628826, accuracy 0.8864386438643864\n",
      "\u001b[36m(ClientAppActor pid=34879)\u001b[0m Epoch 2: train loss 0.0059726303443312645, accuracy 0.9366936693669367\n"
     ]
    },
    {
     "name": "stderr",
     "output_type": "stream",
     "text": [
      "\u001b[92mINFO \u001b[0m:      aggregate_fit: received 3 results and 0 failures\n"
     ]
    },
    {
     "name": "stdout",
     "output_type": "stream",
     "text": [
      "\u001b[36m(ClientAppActor pid=34882)\u001b[0m Epoch 2: train loss 0.008381773717701435, accuracy 0.9076046197690115\n",
      "total size: 140451600\n",
      "\n",
      "==== Server-side evaluation for round 14 ====\n",
      "  Parameter 0: Changed by 0.003395\n",
      "  Parameter 1: Changed by 0.004953\n",
      "  Parameter 2: Changed by 0.004060\n",
      "  Parameter 3: Changed by 0.002457\n",
      "  Parameter 4: Changed by 0.004082\n",
      "  Parameter 5: Changed by 0.003706\n",
      "  Parameter 6: Changed by 0.002644\n",
      "  Parameter 7: Changed by 0.002447\n",
      "  Parameter 8: Changed by 0.001974\n",
      "  Parameter 9: Changed by 0.003518\n",
      "  Parameter 10: Changed by 0.001957\n",
      "  Parameter 11: Changed by 0.002658\n",
      "  Parameter 12: Changed by 0.001641\n",
      "  Parameter 13: Changed by 0.002876\n",
      "  Parameter 14: Changed by 0.003150\n",
      "  Parameter 15: Changed by 0.004484\n",
      "  Parameter 16: Changed by 0.007353\n",
      "  Parameter 17: Changed by 0.003438\n"
     ]
    },
    {
     "name": "stderr",
     "output_type": "stream",
     "text": [
      "\u001b[92mINFO \u001b[0m:      fit progress: (14, 0.02928634928613901, {'accuracy': 0.7387}, 692.2993808749598)\n",
      "\u001b[92mINFO \u001b[0m:      configure_evaluate: strategy sampled 3 clients (out of 6)\n"
     ]
    },
    {
     "name": "stdout",
     "output_type": "stream",
     "text": [
      "  Evaluation results - Loss: 0.0293, Accuracy: 0.7387\n"
     ]
    },
    {
     "name": "stderr",
     "output_type": "stream",
     "text": [
      "\u001b[36m(ClientAppActor pid=34882)\u001b[0m /Users/macbook/Desktop/L361/L361_Project/.conda/lib/python3.12/site-packages/datasets/utils/_dill.py:385: DeprecationWarning: co_lnotab is deprecated, use co_lines instead.\n",
      "\u001b[36m(ClientAppActor pid=34882)\u001b[0m   obj.co_lnotab,  # for < python 3.10 [not counted in args]\n",
      "\u001b[36m(ClientAppActor pid=34879)\u001b[0m /Users/macbook/Desktop/L361/L361_Project/.conda/lib/python3.12/site-packages/datasets/utils/_dill.py:385: DeprecationWarning: co_lnotab is deprecated, use co_lines instead.\n",
      "\u001b[36m(ClientAppActor pid=34879)\u001b[0m   obj.co_lnotab,  # for < python 3.10 [not counted in args]\n"
     ]
    },
    {
     "name": "stdout",
     "output_type": "stream",
     "text": [
      "\u001b[36m(ClientAppActor pid=34882)\u001b[0m [Client 0] evaluate, config: {}\n"
     ]
    },
    {
     "name": "stderr",
     "output_type": "stream",
     "text": [
      "\u001b[92mINFO \u001b[0m:      aggregate_evaluate: received 3 results and 0 failures\n",
      "\u001b[92mINFO \u001b[0m:      \n",
      "\u001b[92mINFO \u001b[0m:      [ROUND 15]\n",
      "\u001b[92mINFO \u001b[0m:      configure_fit: strategy sampled 3 clients (out of 6)\n"
     ]
    },
    {
     "name": "stdout",
     "output_type": "stream",
     "text": [
      "\u001b[36m(ClientAppActor pid=34879)\u001b[0m [Client 2] fit, config: {'proximal_mu': 0.1}\n",
      "\u001b[36m(ClientAppActor pid=34883)\u001b[0m [Client 5] evaluate, config: {}\u001b[32m [repeated 2x across cluster]\u001b[0m\n"
     ]
    },
    {
     "name": "stderr",
     "output_type": "stream",
     "text": [
      "\u001b[36m(ClientAppActor pid=34879)\u001b[0m /Users/macbook/Desktop/L361/L361_Project/.conda/lib/python3.12/site-packages/datasets/utils/_dill.py:385: DeprecationWarning: co_lnotab is deprecated, use co_lines instead.\u001b[32m [repeated 2x across cluster]\u001b[0m\n",
      "\u001b[36m(ClientAppActor pid=34879)\u001b[0m   obj.co_lnotab,  # for < python 3.10 [not counted in args]\u001b[32m [repeated 2x across cluster]\u001b[0m\n"
     ]
    },
    {
     "name": "stdout",
     "output_type": "stream",
     "text": [
      "\u001b[36m(ClientAppActor pid=34879)\u001b[0m Epoch 1: train loss 0.015875913202762604, accuracy 0.8249324932493249\n",
      "\u001b[36m(ClientAppActor pid=34882)\u001b[0m [Client 4] fit, config: {'proximal_mu': 0.1}\u001b[32m [repeated 2x across cluster]\u001b[0m\n",
      "\u001b[36m(ClientAppActor pid=34879)\u001b[0m Epoch 2: train loss 0.008279825560748577, accuracy 0.9074407440744074\u001b[32m [repeated 3x across cluster]\u001b[0m\n"
     ]
    },
    {
     "name": "stderr",
     "output_type": "stream",
     "text": [
      "\u001b[92mINFO \u001b[0m:      aggregate_fit: received 3 results and 0 failures\n"
     ]
    },
    {
     "name": "stdout",
     "output_type": "stream",
     "text": [
      "total size: 140451600\n",
      "\n",
      "==== Server-side evaluation for round 15 ====\n",
      "  Parameter 0: Changed by 0.003462\n",
      "  Parameter 1: Changed by 0.004922\n",
      "  Parameter 2: Changed by 0.004123\n",
      "  Parameter 3: Changed by 0.002473\n",
      "  Parameter 4: Changed by 0.004097\n",
      "  Parameter 5: Changed by 0.003936\n",
      "  Parameter 6: Changed by 0.002528\n",
      "  Parameter 7: Changed by 0.001933\n",
      "  Parameter 8: Changed by 0.002011\n",
      "  Parameter 9: Changed by 0.003294\n",
      "  Parameter 10: Changed by 0.001937\n",
      "  Parameter 11: Changed by 0.002390\n",
      "  Parameter 12: Changed by 0.001634\n",
      "  Parameter 13: Changed by 0.002913\n",
      "  Parameter 14: Changed by 0.003172\n",
      "  Parameter 15: Changed by 0.004805\n",
      "  Parameter 16: Changed by 0.007475\n",
      "  Parameter 17: Changed by 0.002910\n"
     ]
    },
    {
     "name": "stderr",
     "output_type": "stream",
     "text": [
      "\u001b[92mINFO \u001b[0m:      fit progress: (15, 0.028049551816284657, {'accuracy': 0.7423}, 753.141978582833)\n",
      "\u001b[92mINFO \u001b[0m:      configure_evaluate: strategy sampled 3 clients (out of 6)\n"
     ]
    },
    {
     "name": "stdout",
     "output_type": "stream",
     "text": [
      "  Evaluation results - Loss: 0.0280, Accuracy: 0.7423\n"
     ]
    },
    {
     "name": "stderr",
     "output_type": "stream",
     "text": [
      "\u001b[36m(ClientAppActor pid=34882)\u001b[0m /Users/macbook/Desktop/L361/L361_Project/.conda/lib/python3.12/site-packages/datasets/utils/_dill.py:385: DeprecationWarning: co_lnotab is deprecated, use co_lines instead.\u001b[32m [repeated 3x across cluster]\u001b[0m\n",
      "\u001b[36m(ClientAppActor pid=34882)\u001b[0m   obj.co_lnotab,  # for < python 3.10 [not counted in args]\u001b[32m [repeated 3x across cluster]\u001b[0m\n"
     ]
    },
    {
     "name": "stdout",
     "output_type": "stream",
     "text": [
      "\u001b[36m(ClientAppActor pid=34882)\u001b[0m [Client 0] evaluate, config: {}\n",
      "\u001b[36m(ClientAppActor pid=34882)\u001b[0m Epoch 2: train loss 0.00676104286685586, accuracy 0.9212421242124212\u001b[32m [repeated 2x across cluster]\u001b[0m\n"
     ]
    },
    {
     "name": "stderr",
     "output_type": "stream",
     "text": [
      "\u001b[92mINFO \u001b[0m:      aggregate_evaluate: received 3 results and 0 failures\n",
      "\u001b[92mINFO \u001b[0m:      \n",
      "\u001b[92mINFO \u001b[0m:      [ROUND 16]\n",
      "\u001b[92mINFO \u001b[0m:      configure_fit: strategy sampled 3 clients (out of 6)\n",
      "\u001b[36m(ClientAppActor pid=34882)\u001b[0m /Users/macbook/Desktop/L361/L361_Project/.conda/lib/python3.12/site-packages/datasets/utils/_dill.py:385: DeprecationWarning: co_lnotab is deprecated, use co_lines instead.\u001b[32m [repeated 3x across cluster]\u001b[0m\n",
      "\u001b[36m(ClientAppActor pid=34882)\u001b[0m   obj.co_lnotab,  # for < python 3.10 [not counted in args]\u001b[32m [repeated 3x across cluster]\u001b[0m\n"
     ]
    },
    {
     "name": "stdout",
     "output_type": "stream",
     "text": [
      "\u001b[36m(ClientAppActor pid=34879)\u001b[0m [Client 1] fit, config: {'proximal_mu': 0.1}\n",
      "\u001b[36m(ClientAppActor pid=34883)\u001b[0m [Client 1] evaluate, config: {}\u001b[32m [repeated 2x across cluster]\u001b[0m\n",
      "\u001b[36m(ClientAppActor pid=34879)\u001b[0m Epoch 1: train loss 0.00867310632020235, accuracy 0.9052047397630119\n",
      "\u001b[36m(ClientAppActor pid=34883)\u001b[0m [Client 0] fit, config: {'proximal_mu': 0.1}\u001b[32m [repeated 2x across cluster]\u001b[0m\n",
      "\u001b[36m(ClientAppActor pid=34879)\u001b[0m Epoch 2: train loss 0.005346774589270353, accuracy 0.9461526923653817\u001b[32m [repeated 3x across cluster]\u001b[0m\n"
     ]
    },
    {
     "name": "stderr",
     "output_type": "stream",
     "text": [
      "\u001b[92mINFO \u001b[0m:      aggregate_fit: received 3 results and 0 failures\n"
     ]
    },
    {
     "name": "stdout",
     "output_type": "stream",
     "text": [
      "total size: 140451600\n",
      "\n",
      "==== Server-side evaluation for round 16 ====\n",
      "  Parameter 0: Changed by 0.003139\n",
      "  Parameter 1: Changed by 0.003442\n",
      "  Parameter 2: Changed by 0.004210\n",
      "  Parameter 3: Changed by 0.002324\n",
      "  Parameter 4: Changed by 0.004042\n",
      "  Parameter 5: Changed by 0.003225\n",
      "  Parameter 6: Changed by 0.002690\n",
      "  Parameter 7: Changed by 0.002318\n",
      "  Parameter 8: Changed by 0.002172\n",
      "  Parameter 9: Changed by 0.003184\n",
      "  Parameter 10: Changed by 0.002123\n",
      "  Parameter 11: Changed by 0.002720\n",
      "  Parameter 12: Changed by 0.001697\n",
      "  Parameter 13: Changed by 0.002775\n",
      "  Parameter 14: Changed by 0.003175\n",
      "  Parameter 15: Changed by 0.005287\n",
      "  Parameter 16: Changed by 0.007167\n",
      "  Parameter 17: Changed by 0.002489\n"
     ]
    },
    {
     "name": "stderr",
     "output_type": "stream",
     "text": [
      "\u001b[92mINFO \u001b[0m:      fit progress: (16, 0.027223874054849148, {'accuracy': 0.744}, 811.9612432918511)\n",
      "\u001b[92mINFO \u001b[0m:      configure_evaluate: strategy sampled 3 clients (out of 6)\n"
     ]
    },
    {
     "name": "stdout",
     "output_type": "stream",
     "text": [
      "  Evaluation results - Loss: 0.0272, Accuracy: 0.7440\n",
      "\u001b[36m(ClientAppActor pid=34883)\u001b[0m [Client 2] evaluate, config: {}\n",
      "\u001b[36m(ClientAppActor pid=34883)\u001b[0m Epoch 2: train loss 0.013055844232439995, accuracy 0.8536073196340183\u001b[32m [repeated 2x across cluster]\u001b[0m\n"
     ]
    },
    {
     "name": "stderr",
     "output_type": "stream",
     "text": [
      "\u001b[36m(ClientAppActor pid=34883)\u001b[0m /Users/macbook/Desktop/L361/L361_Project/.conda/lib/python3.12/site-packages/datasets/utils/_dill.py:385: DeprecationWarning: co_lnotab is deprecated, use co_lines instead.\u001b[32m [repeated 3x across cluster]\u001b[0m\n",
      "\u001b[36m(ClientAppActor pid=34883)\u001b[0m   obj.co_lnotab,  # for < python 3.10 [not counted in args]\u001b[32m [repeated 3x across cluster]\u001b[0m\n"
     ]
    },
    {
     "name": "stdout",
     "output_type": "stream",
     "text": [
      "\u001b[36m(ClientAppActor pid=34879)\u001b[0m [Client 4] evaluate, config: {}\u001b[32m [repeated 2x across cluster]\u001b[0m\n"
     ]
    },
    {
     "name": "stderr",
     "output_type": "stream",
     "text": [
      "\u001b[36m(ClientAppActor pid=34879)\u001b[0m /Users/macbook/Desktop/L361/L361_Project/.conda/lib/python3.12/site-packages/datasets/utils/_dill.py:385: DeprecationWarning: co_lnotab is deprecated, use co_lines instead.\u001b[32m [repeated 2x across cluster]\u001b[0m\n",
      "\u001b[36m(ClientAppActor pid=34879)\u001b[0m   obj.co_lnotab,  # for < python 3.10 [not counted in args]\u001b[32m [repeated 2x across cluster]\u001b[0m\n",
      "\u001b[92mINFO \u001b[0m:      aggregate_evaluate: received 3 results and 0 failures\n",
      "\u001b[92mINFO \u001b[0m:      \n",
      "\u001b[92mINFO \u001b[0m:      [ROUND 17]\n",
      "\u001b[92mINFO \u001b[0m:      configure_fit: strategy sampled 3 clients (out of 6)\n"
     ]
    },
    {
     "name": "stdout",
     "output_type": "stream",
     "text": [
      "\u001b[36m(ClientAppActor pid=34879)\u001b[0m [Client 0] fit, config: {'proximal_mu': 0.1}\n"
     ]
    },
    {
     "name": "stderr",
     "output_type": "stream",
     "text": [
      "\u001b[36m(ClientAppActor pid=34882)\u001b[0m /Users/macbook/Desktop/L361/L361_Project/.conda/lib/python3.12/site-packages/datasets/utils/_dill.py:385: DeprecationWarning: co_lnotab is deprecated, use co_lines instead.\u001b[32m [repeated 3x across cluster]\u001b[0m\n",
      "\u001b[36m(ClientAppActor pid=34882)\u001b[0m   obj.co_lnotab,  # for < python 3.10 [not counted in args]\u001b[32m [repeated 3x across cluster]\u001b[0m\n"
     ]
    },
    {
     "name": "stdout",
     "output_type": "stream",
     "text": [
      "\u001b[36m(ClientAppActor pid=34882)\u001b[0m [Client 2] fit, config: {'proximal_mu': 0.1}\u001b[32m [repeated 2x across cluster]\u001b[0m\n",
      "\u001b[36m(ClientAppActor pid=34879)\u001b[0m Epoch 1: train loss 0.01659654639661312, accuracy 0.816409179541023\n",
      "\u001b[36m(ClientAppActor pid=34882)\u001b[0m Epoch 1: train loss 0.008411116898059845, accuracy 0.9101410141014101\u001b[32m [repeated 2x across cluster]\u001b[0m\n",
      "\u001b[36m(ClientAppActor pid=34879)\u001b[0m Epoch 2: train loss 0.009255670942366123, accuracy 0.8980050997450127\n",
      "\u001b[36m(ClientAppActor pid=34883)\u001b[0m Epoch 2: train loss 0.005537727847695351, accuracy 0.9420942094209421\n"
     ]
    },
    {
     "name": "stderr",
     "output_type": "stream",
     "text": [
      "\u001b[92mINFO \u001b[0m:      aggregate_fit: received 3 results and 0 failures\n"
     ]
    },
    {
     "name": "stdout",
     "output_type": "stream",
     "text": [
      "\u001b[36m(ClientAppActor pid=34882)\u001b[0m Epoch 2: train loss 0.005371786188334227, accuracy 0.9422442244224423\n",
      "total size: 140451600\n",
      "\n",
      "==== Server-side evaluation for round 17 ====\n",
      "  Parameter 0: Changed by 0.002991\n",
      "  Parameter 1: Changed by 0.004609\n",
      "  Parameter 2: Changed by 0.004044\n",
      "  Parameter 3: Changed by 0.002647\n",
      "  Parameter 4: Changed by 0.003945\n",
      "  Parameter 5: Changed by 0.003289\n",
      "  Parameter 6: Changed by 0.002608\n",
      "  Parameter 7: Changed by 0.002103\n",
      "  Parameter 8: Changed by 0.002168\n",
      "  Parameter 9: Changed by 0.003775\n",
      "  Parameter 10: Changed by 0.002125\n",
      "  Parameter 11: Changed by 0.002635\n",
      "  Parameter 12: Changed by 0.001717\n",
      "  Parameter 13: Changed by 0.002560\n",
      "  Parameter 14: Changed by 0.003292\n",
      "  Parameter 15: Changed by 0.005129\n",
      "  Parameter 16: Changed by 0.007349\n",
      "  Parameter 17: Changed by 0.003128\n"
     ]
    },
    {
     "name": "stderr",
     "output_type": "stream",
     "text": [
      "\u001b[92mINFO \u001b[0m:      fit progress: (17, 0.02961492673754692, {'accuracy': 0.7447}, 875.9879199578427)\n",
      "\u001b[92mINFO \u001b[0m:      configure_evaluate: strategy sampled 3 clients (out of 6)\n"
     ]
    },
    {
     "name": "stdout",
     "output_type": "stream",
     "text": [
      "  Evaluation results - Loss: 0.0296, Accuracy: 0.7447\n"
     ]
    },
    {
     "name": "stderr",
     "output_type": "stream",
     "text": [
      "\u001b[36m(ClientAppActor pid=34882)\u001b[0m /Users/macbook/Desktop/L361/L361_Project/.conda/lib/python3.12/site-packages/datasets/utils/_dill.py:385: DeprecationWarning: co_lnotab is deprecated, use co_lines instead.\n",
      "\u001b[36m(ClientAppActor pid=34882)\u001b[0m   obj.co_lnotab,  # for < python 3.10 [not counted in args]\n"
     ]
    },
    {
     "name": "stdout",
     "output_type": "stream",
     "text": [
      "\u001b[36m(ClientAppActor pid=34882)\u001b[0m [Client 3] evaluate, config: {}\n"
     ]
    },
    {
     "name": "stderr",
     "output_type": "stream",
     "text": [
      "\u001b[36m(ClientAppActor pid=34879)\u001b[0m /Users/macbook/Desktop/L361/L361_Project/.conda/lib/python3.12/site-packages/datasets/utils/_dill.py:385: DeprecationWarning: co_lnotab is deprecated, use co_lines instead.\n",
      "\u001b[36m(ClientAppActor pid=34879)\u001b[0m   obj.co_lnotab,  # for < python 3.10 [not counted in args]\n",
      "\u001b[92mINFO \u001b[0m:      aggregate_evaluate: received 3 results and 0 failures\n",
      "\u001b[92mINFO \u001b[0m:      \n",
      "\u001b[92mINFO \u001b[0m:      [ROUND 18]\n",
      "\u001b[92mINFO \u001b[0m:      configure_fit: strategy sampled 3 clients (out of 6)\n"
     ]
    },
    {
     "name": "stdout",
     "output_type": "stream",
     "text": [
      "\u001b[36m(ClientAppActor pid=34882)\u001b[0m [Client 2] fit, config: {'proximal_mu': 0.1}\n",
      "\u001b[36m(ClientAppActor pid=34882)\u001b[0m Epoch 1: train loss 0.007042397744953632, accuracy 0.9225922592259226\n",
      "\u001b[36m(ClientAppActor pid=34883)\u001b[0m [Client 1] evaluate, config: {}\u001b[32m [repeated 2x across cluster]\u001b[0m\n",
      "\u001b[36m(ClientAppActor pid=34883)\u001b[0m [Client 0] fit, config: {'proximal_mu': 0.1}\u001b[32m [repeated 2x across cluster]\u001b[0m\n",
      "\u001b[36m(ClientAppActor pid=34882)\u001b[0m Epoch 2: train loss 0.005113883875310421, accuracy 0.9465946594659466\u001b[32m [repeated 3x across cluster]\u001b[0m\n"
     ]
    },
    {
     "name": "stderr",
     "output_type": "stream",
     "text": [
      "\u001b[92mINFO \u001b[0m:      aggregate_fit: received 3 results and 0 failures\n"
     ]
    },
    {
     "name": "stdout",
     "output_type": "stream",
     "text": [
      "total size: 140451600\n",
      "\n",
      "==== Server-side evaluation for round 18 ====\n",
      "  Parameter 0: Changed by 0.003527\n",
      "  Parameter 1: Changed by 0.004312\n",
      "  Parameter 2: Changed by 0.004235\n",
      "  Parameter 3: Changed by 0.002365\n",
      "  Parameter 4: Changed by 0.004075\n",
      "  Parameter 5: Changed by 0.003265\n",
      "  Parameter 6: Changed by 0.002738\n",
      "  Parameter 7: Changed by 0.002334\n",
      "  Parameter 8: Changed by 0.002200\n",
      "  Parameter 9: Changed by 0.003366\n",
      "  Parameter 10: Changed by 0.002107\n",
      "  Parameter 11: Changed by 0.002918\n",
      "  Parameter 12: Changed by 0.001682\n",
      "  Parameter 13: Changed by 0.002831\n",
      "  Parameter 14: Changed by 0.003375\n",
      "  Parameter 15: Changed by 0.005513\n",
      "  Parameter 16: Changed by 0.007555\n",
      "  Parameter 17: Changed by 0.002467\n"
     ]
    },
    {
     "name": "stderr",
     "output_type": "stream",
     "text": [
      "\u001b[92mINFO \u001b[0m:      fit progress: (18, 0.030820713546872137, {'accuracy': 0.7394}, 930.4882341248449)\n",
      "\u001b[92mINFO \u001b[0m:      configure_evaluate: strategy sampled 3 clients (out of 6)\n"
     ]
    },
    {
     "name": "stdout",
     "output_type": "stream",
     "text": [
      "  Evaluation results - Loss: 0.0308, Accuracy: 0.7394\n",
      "\u001b[36m(ClientAppActor pid=34879)\u001b[0m [Client 1] evaluate, config: {}\n",
      "\u001b[36m(ClientAppActor pid=34883)\u001b[0m Epoch 2: train loss 0.006440105382353067, accuracy 0.9338533073346332\u001b[32m [repeated 2x across cluster]\u001b[0m\n"
     ]
    },
    {
     "name": "stderr",
     "output_type": "stream",
     "text": [
      "\u001b[36m(ClientAppActor pid=34879)\u001b[0m /Users/macbook/Desktop/L361/L361_Project/.conda/lib/python3.12/site-packages/datasets/utils/_dill.py:385: DeprecationWarning: co_lnotab is deprecated, use co_lines instead.\u001b[32m [repeated 5x across cluster]\u001b[0m\n",
      "\u001b[36m(ClientAppActor pid=34879)\u001b[0m   obj.co_lnotab,  # for < python 3.10 [not counted in args]\u001b[32m [repeated 5x across cluster]\u001b[0m\n",
      "\u001b[92mINFO \u001b[0m:      aggregate_evaluate: received 3 results and 0 failures\n",
      "\u001b[92mINFO \u001b[0m:      \n",
      "\u001b[92mINFO \u001b[0m:      [ROUND 19]\n",
      "\u001b[92mINFO \u001b[0m:      configure_fit: strategy sampled 3 clients (out of 6)\n"
     ]
    },
    {
     "name": "stdout",
     "output_type": "stream",
     "text": [
      "\u001b[36m(ClientAppActor pid=34882)\u001b[0m [Client 3] fit, config: {'proximal_mu': 0.1}\n",
      "\u001b[36m(ClientAppActor pid=34883)\u001b[0m [Client 0] evaluate, config: {}\u001b[32m [repeated 2x across cluster]\u001b[0m\n",
      "\u001b[36m(ClientAppActor pid=34882)\u001b[0m Epoch 1: train loss 0.019208943471312523, accuracy 0.7923792379237924\n",
      "\u001b[36m(ClientAppActor pid=34883)\u001b[0m [Client 1] fit, config: {'proximal_mu': 0.1}\u001b[32m [repeated 2x across cluster]\u001b[0m\n",
      "\u001b[36m(ClientAppActor pid=34879)\u001b[0m Epoch 1: train loss 0.009545661509037018, accuracy 0.8975397539753975\n",
      "\u001b[36m(ClientAppActor pid=34882)\u001b[0m Epoch 2: train loss 0.009569860994815826, accuracy 0.8943894389438944\u001b[32m [repeated 2x across cluster]\u001b[0m\n"
     ]
    },
    {
     "name": "stderr",
     "output_type": "stream",
     "text": [
      "\u001b[92mINFO \u001b[0m:      aggregate_fit: received 3 results and 0 failures\n"
     ]
    },
    {
     "name": "stdout",
     "output_type": "stream",
     "text": [
      "total size: 140451600\n",
      "\n",
      "==== Server-side evaluation for round 19 ====\n",
      "  Parameter 0: Changed by 0.003657\n",
      "  Parameter 1: Changed by 0.004378\n",
      "  Parameter 2: Changed by 0.004319\n",
      "  Parameter 3: Changed by 0.002296\n",
      "  Parameter 4: Changed by 0.004162\n",
      "  Parameter 5: Changed by 0.003492\n",
      "  Parameter 6: Changed by 0.002708\n",
      "  Parameter 7: Changed by 0.002189\n",
      "  Parameter 8: Changed by 0.002164\n",
      "  Parameter 9: Changed by 0.003363\n",
      "  Parameter 10: Changed by 0.002126\n",
      "  Parameter 11: Changed by 0.002563\n",
      "  Parameter 12: Changed by 0.001691\n",
      "  Parameter 13: Changed by 0.002789\n",
      "  Parameter 14: Changed by 0.003405\n",
      "  Parameter 15: Changed by 0.006343\n",
      "  Parameter 16: Changed by 0.007617\n",
      "  Parameter 17: Changed by 0.003190\n"
     ]
    },
    {
     "name": "stderr",
     "output_type": "stream",
     "text": [
      "\u001b[92mINFO \u001b[0m:      fit progress: (19, 0.03232542942613363, {'accuracy': 0.7443}, 982.1626021668781)\n",
      "\u001b[92mINFO \u001b[0m:      configure_evaluate: strategy sampled 3 clients (out of 6)\n"
     ]
    },
    {
     "name": "stdout",
     "output_type": "stream",
     "text": [
      "  Evaluation results - Loss: 0.0323, Accuracy: 0.7443\n",
      "\u001b[36m(ClientAppActor pid=34879)\u001b[0m [Client 3] evaluate, config: {}\n",
      "\u001b[36m(ClientAppActor pid=34879)\u001b[0m Epoch 2: train loss 0.005897521041333675, accuracy 0.9389438943894389\u001b[32m [repeated 2x across cluster]\u001b[0m\n"
     ]
    },
    {
     "name": "stderr",
     "output_type": "stream",
     "text": [
      "\u001b[36m(ClientAppActor pid=34879)\u001b[0m /Users/macbook/Desktop/L361/L361_Project/.conda/lib/python3.12/site-packages/datasets/utils/_dill.py:385: DeprecationWarning: co_lnotab is deprecated, use co_lines instead.\u001b[32m [repeated 6x across cluster]\u001b[0m\n",
      "\u001b[36m(ClientAppActor pid=34879)\u001b[0m   obj.co_lnotab,  # for < python 3.10 [not counted in args]\u001b[32m [repeated 6x across cluster]\u001b[0m\n",
      "\u001b[92mINFO \u001b[0m:      aggregate_evaluate: received 3 results and 0 failures\n",
      "\u001b[92mINFO \u001b[0m:      \n",
      "\u001b[92mINFO \u001b[0m:      [ROUND 20]\n",
      "\u001b[92mINFO \u001b[0m:      configure_fit: strategy sampled 3 clients (out of 6)\n"
     ]
    },
    {
     "name": "stdout",
     "output_type": "stream",
     "text": [
      "\u001b[36m(ClientAppActor pid=34882)\u001b[0m [Client 0] fit, config: {'proximal_mu': 0.1}\n",
      "\u001b[36m(ClientAppActor pid=34882)\u001b[0m [Client 0] evaluate, config: {}\u001b[32m [repeated 2x across cluster]\u001b[0m\n"
     ]
    },
    {
     "name": "stderr",
     "output_type": "stream",
     "text": [
      "\u001b[36m(ClientAppActor pid=34879)\u001b[0m /Users/macbook/Desktop/L361/L361_Project/.conda/lib/python3.12/site-packages/datasets/utils/_dill.py:385: DeprecationWarning: co_lnotab is deprecated, use co_lines instead.\u001b[32m [repeated 4x across cluster]\u001b[0m\n",
      "\u001b[36m(ClientAppActor pid=34879)\u001b[0m   obj.co_lnotab,  # for < python 3.10 [not counted in args]\u001b[32m [repeated 4x across cluster]\u001b[0m\n"
     ]
    },
    {
     "name": "stdout",
     "output_type": "stream",
     "text": [
      "\u001b[36m(ClientAppActor pid=34882)\u001b[0m Epoch 1: train loss 0.01136094518005848, accuracy 0.8731063446827658\n",
      "\u001b[36m(ClientAppActor pid=34883)\u001b[0m [Client 1] fit, config: {'proximal_mu': 0.1}\u001b[32m [repeated 2x across cluster]\u001b[0m\n",
      "\u001b[36m(ClientAppActor pid=34882)\u001b[0m Epoch 2: train loss 0.00530882878229022, accuracy 0.943302834858257\u001b[32m [repeated 3x across cluster]\u001b[0m\n"
     ]
    },
    {
     "name": "stderr",
     "output_type": "stream",
     "text": [
      "\u001b[92mINFO \u001b[0m:      aggregate_fit: received 3 results and 0 failures\n"
     ]
    },
    {
     "name": "stdout",
     "output_type": "stream",
     "text": [
      "total size: 140451600\n",
      "\n",
      "==== Server-side evaluation for round 20 ====\n",
      "  Parameter 0: Changed by 0.003537\n",
      "  Parameter 1: Changed by 0.004605\n",
      "  Parameter 2: Changed by 0.004174\n",
      "  Parameter 3: Changed by 0.002595\n",
      "  Parameter 4: Changed by 0.004090\n",
      "  Parameter 5: Changed by 0.003873\n",
      "  Parameter 6: Changed by 0.002872\n",
      "  Parameter 7: Changed by 0.002549\n",
      "  Parameter 8: Changed by 0.002346\n",
      "  Parameter 9: Changed by 0.003736\n",
      "  Parameter 10: Changed by 0.002154\n",
      "  Parameter 11: Changed by 0.002580\n",
      "  Parameter 12: Changed by 0.001676\n",
      "  Parameter 13: Changed by 0.002806\n",
      "  Parameter 14: Changed by 0.003428\n",
      "  Parameter 15: Changed by 0.006365\n",
      "  Parameter 16: Changed by 0.007235\n",
      "  Parameter 17: Changed by 0.002833\n"
     ]
    },
    {
     "name": "stderr",
     "output_type": "stream",
     "text": [
      "\u001b[92mINFO \u001b[0m:      fit progress: (20, 0.03119470209777355, {'accuracy': 0.7461}, 1033.0630679167807)\n",
      "\u001b[92mINFO \u001b[0m:      configure_evaluate: strategy sampled 3 clients (out of 6)\n"
     ]
    },
    {
     "name": "stdout",
     "output_type": "stream",
     "text": [
      "  Evaluation results - Loss: 0.0312, Accuracy: 0.7461\n"
     ]
    },
    {
     "name": "stderr",
     "output_type": "stream",
     "text": [
      "\u001b[36m(ClientAppActor pid=34882)\u001b[0m /Users/macbook/Desktop/L361/L361_Project/.conda/lib/python3.12/site-packages/datasets/utils/_dill.py:385: DeprecationWarning: co_lnotab is deprecated, use co_lines instead.\u001b[32m [repeated 2x across cluster]\u001b[0m\n",
      "\u001b[36m(ClientAppActor pid=34882)\u001b[0m   obj.co_lnotab,  # for < python 3.10 [not counted in args]\u001b[32m [repeated 2x across cluster]\u001b[0m\n"
     ]
    },
    {
     "name": "stdout",
     "output_type": "stream",
     "text": [
      "\u001b[36m(ClientAppActor pid=34882)\u001b[0m [Client 1] evaluate, config: {}\n",
      "\u001b[36m(ClientAppActor pid=34883)\u001b[0m Epoch 2: train loss 0.004658428020775318, accuracy 0.9547022648867557\u001b[32m [repeated 2x across cluster]\u001b[0m\n",
      "\u001b[36m(ClientAppActor pid=34883)\u001b[0m \n"
     ]
    },
    {
     "name": "stderr",
     "output_type": "stream",
     "text": [
      "\u001b[92mINFO \u001b[0m:      aggregate_evaluate: received 3 results and 0 failures\n",
      "\u001b[92mINFO \u001b[0m:      \n",
      "\u001b[92mINFO \u001b[0m:      [SUMMARY]\n",
      "\u001b[92mINFO \u001b[0m:      Run finished 20 round(s) in 1037.47s\n",
      "\u001b[92mINFO \u001b[0m:      \tHistory (loss, distributed):\n",
      "\u001b[92mINFO \u001b[0m:      \t\tround 1: 0.07314126669371325\n",
      "\u001b[92mINFO \u001b[0m:      \t\tround 2: 0.05544138614999321\n",
      "\u001b[92mINFO \u001b[0m:      \t\tround 3: 0.04254787349267093\n",
      "\u001b[92mINFO \u001b[0m:      \t\tround 4: 0.03759964674836372\n",
      "\u001b[92mINFO \u001b[0m:      \t\tround 5: 0.03235646671734913\n",
      "\u001b[92mINFO \u001b[0m:      \t\tround 6: 0.029772396756038502\n",
      "\u001b[92mINFO \u001b[0m:      \t\tround 7: 0.02850865171482934\n",
      "\u001b[92mINFO \u001b[0m:      \t\tround 8: 0.02713608966424832\n",
      "\u001b[92mINFO \u001b[0m:      \t\tround 9: 0.026138047705028464\n",
      "\u001b[92mINFO \u001b[0m:      \t\tround 10: 0.02753222075683359\n",
      "\u001b[92mINFO \u001b[0m:      \t\tround 11: 0.025362044093108754\n",
      "\u001b[92mINFO \u001b[0m:      \t\tround 12: 0.02637260897136097\n",
      "\u001b[92mINFO \u001b[0m:      \t\tround 13: 0.02457527047251492\n",
      "\u001b[92mINFO \u001b[0m:      \t\tround 14: 0.027220660544777505\n",
      "\u001b[92mINFO \u001b[0m:      \t\tround 15: 0.026903497460031005\n",
      "\u001b[92mINFO \u001b[0m:      \t\tround 16: 0.026710851701791046\n",
      "\u001b[92mINFO \u001b[0m:      \t\tround 17: 0.02781459553799652\n",
      "\u001b[92mINFO \u001b[0m:      \t\tround 18: 0.029096942367410214\n",
      "\u001b[92mINFO \u001b[0m:      \t\tround 19: 0.03183270909355488\n",
      "\u001b[92mINFO \u001b[0m:      \t\tround 20: 0.030833849477436604\n",
      "\u001b[92mINFO \u001b[0m:      \tHistory (loss, centralized):\n",
      "\u001b[92mINFO \u001b[0m:      \t\tround 0: 0.07208122713565826\n",
      "\u001b[92mINFO \u001b[0m:      \t\tround 1: 0.07193296225070954\n",
      "\u001b[92mINFO \u001b[0m:      \t\tround 2: 0.05426191025972366\n",
      "\u001b[92mINFO \u001b[0m:      \t\tround 3: 0.041525281429290774\n",
      "\u001b[92mINFO \u001b[0m:      \t\tround 4: 0.03706583677530289\n",
      "\u001b[92mINFO \u001b[0m:      \t\tround 5: 0.03265523789525032\n",
      "\u001b[92mINFO \u001b[0m:      \t\tround 6: 0.029366966903209685\n",
      "\u001b[92mINFO \u001b[0m:      \t\tround 7: 0.02775856941342354\n",
      "\u001b[92mINFO \u001b[0m:      \t\tround 8: 0.026647246199846267\n",
      "\u001b[92mINFO \u001b[0m:      \t\tround 9: 0.026277105551958085\n",
      "\u001b[92mINFO \u001b[0m:      \t\tround 10: 0.027589337019622327\n",
      "\u001b[92mINFO \u001b[0m:      \t\tround 11: 0.02689040290862322\n",
      "\u001b[92mINFO \u001b[0m:      \t\tround 12: 0.027657638946175574\n",
      "\u001b[92mINFO \u001b[0m:      \t\tround 13: 0.026027840559184553\n",
      "\u001b[92mINFO \u001b[0m:      \t\tround 14: 0.02928634928613901\n",
      "\u001b[92mINFO \u001b[0m:      \t\tround 15: 0.028049551816284657\n",
      "\u001b[92mINFO \u001b[0m:      \t\tround 16: 0.027223874054849148\n",
      "\u001b[92mINFO \u001b[0m:      \t\tround 17: 0.02961492673754692\n",
      "\u001b[92mINFO \u001b[0m:      \t\tround 18: 0.030820713546872137\n",
      "\u001b[92mINFO \u001b[0m:      \t\tround 19: 0.03232542942613363\n",
      "\u001b[92mINFO \u001b[0m:      \t\tround 20: 0.03119470209777355\n",
      "\u001b[92mINFO \u001b[0m:      \tHistory (metrics, centralized):\n",
      "\u001b[92mINFO \u001b[0m:      \t{'accuracy': [(0, 0.1),\n",
      "\u001b[92mINFO \u001b[0m:      \t              (1, 0.1511),\n",
      "\u001b[92mINFO \u001b[0m:      \t              (2, 0.3611),\n",
      "\u001b[92mINFO \u001b[0m:      \t              (3, 0.5073),\n",
      "\u001b[92mINFO \u001b[0m:      \t              (4, 0.5671),\n",
      "\u001b[92mINFO \u001b[0m:      \t              (5, 0.6278),\n",
      "\u001b[92mINFO \u001b[0m:      \t              (6, 0.6671),\n",
      "\u001b[92mINFO \u001b[0m:      \t              (7, 0.6936),\n",
      "\u001b[92mINFO \u001b[0m:      \t              (8, 0.7094),\n",
      "\u001b[92mINFO \u001b[0m:      \t              (9, 0.7209),\n",
      "\u001b[92mINFO \u001b[0m:      \t              (10, 0.7173),\n",
      "\u001b[92mINFO \u001b[0m:      \t              (11, 0.7316),\n",
      "\u001b[92mINFO \u001b[0m:      \t              (12, 0.733),\n",
      "\u001b[92mINFO \u001b[0m:      \t              (13, 0.7435),\n",
      "\u001b[92mINFO \u001b[0m:      \t              (14, 0.7387),\n",
      "\u001b[92mINFO \u001b[0m:      \t              (15, 0.7423),\n",
      "\u001b[92mINFO \u001b[0m:      \t              (16, 0.744),\n",
      "\u001b[92mINFO \u001b[0m:      \t              (17, 0.7447),\n",
      "\u001b[92mINFO \u001b[0m:      \t              (18, 0.7394),\n",
      "\u001b[92mINFO \u001b[0m:      \t              (19, 0.7443),\n",
      "\u001b[92mINFO \u001b[0m:      \t              (20, 0.7461)]}\n",
      "\u001b[92mINFO \u001b[0m:      \n"
     ]
    },
    {
     "name": "stdout",
     "output_type": "stream",
     "text": [
      "\u001b[36m(ClientAppActor pid=34879)\u001b[0m [Client 0] evaluate, config: {}\u001b[32m [repeated 2x across cluster]\u001b[0m\n"
     ]
    },
    {
     "name": "stderr",
     "output_type": "stream",
     "text": [
      "\u001b[36m(ClientAppActor pid=34879)\u001b[0m /Users/macbook/Desktop/L361/L361_Project/.conda/lib/python3.12/site-packages/datasets/utils/_dill.py:385: DeprecationWarning: co_lnotab is deprecated, use co_lines instead.\u001b[32m [repeated 2x across cluster]\u001b[0m\n",
      "\u001b[36m(ClientAppActor pid=34879)\u001b[0m   obj.co_lnotab,  # for < python 3.10 [not counted in args]\u001b[32m [repeated 2x across cluster]\u001b[0m\n"
     ]
    }
   ],
   "source": [
    "net = Net().to(DEVICE)\n",
    "\n",
    "_, _, testloader = load_datasets(0, NUM_PARTITIONS)\n",
    "\n",
    "evaluate_fn = get_evaluate_fn(testloader, net)\n",
    "client_manager =  DropoutClientManager(dropout_rate=0.5)\n",
    "\n",
    "def server_fn(context: Context) -> ServerAppComponents:\n",
    "    # Configure the server for just 3 rounds of training\n",
    "    config = ServerConfig(num_rounds=NUM_OF_ROUNDS)\n",
    "    return ServerAppComponents(\n",
    "        config=config,\n",
    "        strategy=ModifiedFedProx(proximal_mu=0.1, evaluate_fn=evaluate_fn),\n",
    "        client_manager=client_manager\n",
    "    )\n",
    "\n",
    "server = ServerApp(server_fn=server_fn)\n",
    "\n",
    "# Run simulation\n",
    "run_simulation(\n",
    "    server_app=server,\n",
    "    client_app=client,\n",
    "    num_supernodes=NUM_PARTITIONS,\n",
    "    backend_config=backend_config,\n",
    ")"
   ]
  },
  {
   "cell_type": "code",
   "execution_count": 16,
   "metadata": {},
   "outputs": [],
   "source": [
    "with open(f'results/fed_prox_client_dropout_result.p', 'wb') as file:\n",
    "    pickle.dump(fed_prox_result, file)\n",
    "\n",
    "with open(f'results/fed_prox_model_client_dropout_results.p', 'wb') as file:\n",
    "    pickle.dump(fed_prox_model_results, file)"
   ]
  },
  {
   "cell_type": "code",
   "execution_count": 17,
   "metadata": {},
   "outputs": [],
   "source": [
    "fed_prox_rounds = list(fed_prox_result.keys())\n",
    "fed_prox_sizes = [fed_prox_result[round][\"total_size\"] for round in fed_prox_rounds]\n",
    "\n",
    "# plt.figure(figsize=(10, 5))\n",
    "# plt.plot(fed_prox_rounds, fed_prox_sizes, marker='o', linestyle='-', color='b', label='FedProx')\n",
    "# plt.plot(fed_part_avg_rounds, fed_part_avg_sizes, marker='o', linestyle='-', color='r', label='FedPartAvg')\n",
    "# plt.plot(fed_avg_rounds, fed_avg_sizes, marker='o', linestyle='-', color='g', label='FedAvg')\n",
    "# plt.xlabel('Round')\n",
    "# plt.ylabel('Total Size of Parameters (bytes)')\n",
    "# plt.title('Total Size of Parameters for Each Round')\n",
    "# plt.legend()\n",
    "# plt.grid(True)\n",
    "\n",
    "# fed_prox_losses = [fed_prox_result[round][\"total_loss\"] for round in fed_prox_rounds]\n",
    "\n",
    "# plt.figure(figsize=(10, 5))\n",
    "# plt.plot(fed_prox_rounds, fed_prox_losses, marker='o', linestyle='-', color='b', label='FedProx')\n",
    "# plt.plot(fed_part_avg_rounds, fed_part_avg_losses, marker='o', linestyle='-', color='r', label='FedPartAvg')\n",
    "# plt.plot(fed_avg_rounds, fed_avg_losses, marker='o', linestyle='-', color='g', label='FedAvg')\n",
    "# plt.xlabel('Round')\n",
    "# plt.ylabel('Total Loss')\n",
    "# plt.title('Total Loss for Each Round')\n",
    "# plt.legend()\n",
    "# plt.grid(True)\n",
    "\n",
    "\n",
    "# fed_prox_model_rounds = list(fed_prox_model_results.keys())\n",
    "# fed_prox_accuracies = [fed_prox_model_results[round][\"global_metrics\"][\"accuracy\"] for round in fed_prox_model_rounds]\n",
    "\n",
    "# plt.figure(figsize=(10, 5))\n",
    "# # plt.plot(fed_part_prox_model_rounds, fed_part_prox_accuracies, marker='o', linestyle='-', color='b', label='FedPartProx')\n",
    "# plt.plot(fed_part_avg_model_rounds, fed_part_avg_accuracies, marker='o', linestyle='-', color='r', label='FedPartAvg')\n",
    "# plt.plot(fed_avg_model_rounds, fed_avg_accuracies, marker='o', linestyle='-', color='g', label='FedAvg')\n",
    "# plt.xlabel('Round')\n",
    "# plt.ylabel('Accuracy')\n",
    "# plt.title('Accuracy for Each Round')\n",
    "# plt.legend()\n",
    "# plt.grid(True)\n",
    "\n",
    "# fed_prox_global_losses = [fed_prox_model_results[round][\"global_loss\"] for round in fed_prox_model_rounds]\n",
    "\n",
    "# plt.figure(figsize=(10, 5))\n",
    "# # plt.plot(fed_part_prox_model_rounds, fed_part_prox_global_losses, marker='o', linestyle='-', color='b', label='FedPartProx')\n",
    "# plt.plot(fed_part_avg_model_rounds, fed_part_avg_global_losses, marker='o', linestyle='-', color='r', label='FedPartAvg')   \n",
    "# plt.plot(fed_avg_model_rounds, fed_avg_global_losses, marker='o', linestyle='-', color='g', label='FedAvg')\n",
    "# plt.xlabel('Round')\n",
    "# plt.ylabel('Loss')\n",
    "# plt.title('Loss for Each Round')\n",
    "# plt.legend()\n",
    "# plt.grid(True)\n"
   ]
  },
  {
   "cell_type": "markdown",
   "metadata": {},
   "source": [
    "# FedMoon experiments:"
   ]
  },
  {
   "cell_type": "code",
   "execution_count": 18,
   "metadata": {},
   "outputs": [],
   "source": [
    "import os\n",
    "class FedMoonNoFreezeFlowerClient(NumPyClient):\n",
    "    def __init__(self, partition_id, net, trainloader, valloader):\n",
    "        self.partition_id = partition_id\n",
    "        self.net = net\n",
    "        self.trainloader = trainloader\n",
    "        self.valloader = valloader\n",
    "        self.model_dir = \"models\"\n",
    "\n",
    "    def get_parameters(self, config):\n",
    "        print(f\"[Client {self.partition_id}] get_parameters\")\n",
    "        parameters = get_parameters(self.net)\n",
    "        trainable_layer = config[\"trainable_layers\"]\n",
    "        self._save_model_state()\n",
    "        \n",
    "        if trainable_layer == -1:\n",
    "            return parameters\n",
    "        \n",
    "        trained_layer = [parameters[trainable_layer*2], parameters[trainable_layer*2 +1]]\n",
    "        return trained_layer\n",
    "\n",
    "    def fit(self, parameters, config):\n",
    "        print(f\"[Client {self.partition_id}] fit, config: {config}\")\n",
    "\n",
    "        # load previous model\n",
    "        if not os.path.exists(os.path.join(self.model_dir, str(self.partition_id))):\n",
    "            prev_model = copy.deepcopy(self.net)\n",
    "        else:\n",
    "            # initialise and load params from model_dir\n",
    "            prev_model = type(self.net)() \n",
    "            prev_model.load_state_dict(\n",
    "                torch.load(\n",
    "                    os.path.join(self.model_dir, str(self.partition_id), \"prev_net.pt\")\n",
    "                )\n",
    "            )\n",
    "\n",
    "        # update params for current model (loading global params)\n",
    "        set_parameters(self.net, parameters)\n",
    "\n",
    "        # create global model (same params that were just loaded)\n",
    "        global_model = type(self.net)()\n",
    "        global_model.load_state_dict(self.net.state_dict())\n",
    "        global_model.to(DEVICE)\n",
    "        \n",
    "        train_moon(self.net, self.trainloader, global_model, prev_model, EPOCHS, 5, 0.5)\n",
    "\n",
    "        # save current model \n",
    "        if not os.path.exists(os.path.join(self.model_dir, str(self.partition_id))):\n",
    "            os.makedirs(os.path.join(self.model_dir, str(self.partition_id)))\n",
    "        torch.save(\n",
    "            self.net.state_dict(),\n",
    "            os.path.join(self.model_dir, str(self.partition_id), \"prev_net.pt\"),\n",
    "        )\n",
    "\n",
    "        return get_parameters(self.net), len(self.trainloader), {}\n",
    "\n",
    "\n",
    "    def evaluate(self, parameters, config):\n",
    "        print(f\"[Client {self.partition_id}] evaluate, config: {config}\")\n",
    "        set_parameters(self.net, parameters)\n",
    "        loss, accuracy = test_moon(self.net, self.valloader)\n",
    "        return float(loss), len(self.valloader), {\"accuracy\": float(accuracy)}\n",
    "\n",
    "\n",
    "def client_fn(context: Context) -> Client:\n",
    "    net = MoonNet().to(DEVICE)\n",
    "    partition_id = context.node_config[\"partition-id\"]\n",
    "    num_partitions = context.node_config[\"num-partitions\"]\n",
    "    trainloader, valloader, _ = load_datasets(partition_id, num_partitions)\n",
    "    return FedMoonNoFreezeFlowerClient(partition_id, net, trainloader, valloader).to_client()\n",
    "\n",
    "\n",
    "# Create the ClientApp\n",
    "client = ClientApp(client_fn=client_fn)\n"
   ]
  },
  {
   "cell_type": "code",
   "execution_count": 19,
   "metadata": {},
   "outputs": [],
   "source": [
    "from typing import Union\n",
    "import sys\n",
    "\n",
    "from flwr.common import (\n",
    "    EvaluateIns,\n",
    "    EvaluateRes,\n",
    "    FitIns,\n",
    "    FitRes,\n",
    "    Parameters,\n",
    "    Scalar,\n",
    "    ndarrays_to_parameters,\n",
    "    parameters_to_ndarrays,\n",
    ")\n",
    "from flwr.server.client_manager import ClientManager\n",
    "from flwr.server.client_proxy import ClientProxy\n",
    "from flwr.server.strategy.aggregate import aggregate, weighted_loss_avg\n",
    "\n",
    "def get_parameters_size(params: Parameters) -> int:\n",
    "    size = sys.getsizeof(params)  # Base size of the dataclass instance\n",
    "    size += sys.getsizeof(params.tensor_type)  # Size of the string\n",
    "    size += sys.getsizeof(params.tensors)  # Size of the list container\n",
    "    size += sum(sys.getsizeof(tensor) for tensor in params.tensors)  # Size of each bytes object\n",
    "    return size\n",
    "\n",
    "fed_moon_no_freeze_result = {}\n",
    "fed_moon_model_no_freeze_results = {}\n",
    "\n",
    "# basically same as normal FedAvg, just added freezing and modified result dict names\n",
    "class FedMoonNoFreeze(Strategy):\n",
    "    def __init__(\n",
    "        self,\n",
    "        fraction_fit: float = 1.0,\n",
    "        fraction_evaluate: float = 1.0,\n",
    "        min_fit_clients: int = 2,\n",
    "        min_evaluate_clients: int = 2,\n",
    "        min_available_clients: int = 2,\n",
    "        evaluate_fn: Optional[\n",
    "            Callable[\n",
    "                [int, NDArrays, dict[str, Scalar]],\n",
    "                Optional[tuple[float, dict[str, Scalar]]],\n",
    "            ]\n",
    "        ] = None,\n",
    "        on_fit_config_fn: Optional[Callable[[int], dict[str, Scalar]]] = None,\n",
    "        on_evaluate_config_fn: Optional[Callable[[int], dict[str, Scalar]]] = None,\n",
    "        accept_failures: bool = True,\n",
    "        initial_parameters: Optional[Parameters] = None,\n",
    "        fit_metrics_aggregation_fn: Optional[MetricsAggregationFn] = None,\n",
    "        evaluate_metrics_aggregation_fn: Optional[MetricsAggregationFn] = None,\n",
    "        inplace: bool = True,\n",
    "        layer_update_strategy: str = \"sequential\",\n",
    "        \n",
    "    ) -> None:\n",
    "        super().__init__()\n",
    "        self.fraction_fit = fraction_fit\n",
    "        self.fraction_evaluate = fraction_evaluate\n",
    "        self.min_fit_clients = min_fit_clients\n",
    "        self.min_evaluate_clients = min_evaluate_clients\n",
    "        self.min_available_clients = min_available_clients\n",
    "        self.evaluate_fn = evaluate_fn\n",
    "        self.on_fit_config_fn = on_fit_config_fn\n",
    "        self.on_evaluate_config_fn = on_evaluate_config_fn\n",
    "        self.accept_failures = accept_failures\n",
    "        self.initial_parameters = initial_parameters\n",
    "        self.fit_metrics_aggregation_fn = fit_metrics_aggregation_fn\n",
    "        self.evaluate_metrics_aggregation_fn = evaluate_metrics_aggregation_fn\n",
    "        self.inplace = inplace\n",
    "        self.layer_training_sequence = []\n",
    "        self.training_sequence_index = 0\n",
    "        self.latest_parameters = initial_parameters\n",
    "\n",
    "\n",
    "    def __repr__(self) -> str:\n",
    "        return \"FedMoon\"\n",
    "    \n",
    "    def num_fit_clients(self, num_available_clients: int) -> Tuple[int, int]:\n",
    "        \"\"\"Return sample size and required number of clients.\"\"\"\n",
    "        num_clients = int(num_available_clients * self.fraction_fit)\n",
    "        return max(num_clients, self.min_fit_clients), self.min_available_clients\n",
    "\n",
    "    def num_evaluation_clients(self, num_available_clients: int) -> Tuple[int, int]:\n",
    "        \"\"\"Use a fraction of available clients for evaluation.\"\"\"\n",
    "        num_clients = int(num_available_clients * self.fraction_evaluate)\n",
    "        return max(num_clients, self.min_evaluate_clients), self.min_available_clients\n",
    "   \n",
    "    def initialize_parameters(\n",
    "        self, client_manager: ClientManager\n",
    "    ) -> Optional[Parameters]:\n",
    "        \"\"\"Initialize global model parameters.\"\"\"\n",
    "        net = Net()\n",
    "        ndarrays = get_parameters(net)\n",
    "        return ndarrays_to_parameters(ndarrays)\n",
    "\n",
    "    def evaluate(\n",
    "        self, server_round: int, parameters: Parameters\n",
    "    ) -> Optional[tuple[float, dict[str, Scalar]]]:\n",
    "        \"\"\"Evaluate model parameters using an evaluation function.\"\"\"\n",
    "        if self.evaluate_fn is None:\n",
    "            # No evaluation function provided\n",
    "            return None\n",
    "        parameters_ndarrays = parameters_to_ndarrays(parameters)\n",
    "        eval_res = self.evaluate_fn(server_round, parameters_ndarrays, {})\n",
    "        if eval_res is None:\n",
    "            return None\n",
    "        loss, metrics = eval_res\n",
    "\n",
    "        if server_round in fed_moon_model_no_freeze_results:\n",
    "            expand_fed_moon_no_freeze_result= {**fed_moon_model_no_freeze_results[server_round], \"global_loss\": loss, \"global_metrics\": metrics}\n",
    "        else:\n",
    "            expand_fed_moon_no_freeze_result= {\"global_loss\": loss, \"global_metrics\": metrics}\n",
    "\n",
    "        fed_moon_model_no_freeze_results[server_round] = expand_fed_moon_no_freeze_result\n",
    "\n",
    "        return loss, metrics\n",
    "\n",
    "\n",
    "    def configure_fit(\n",
    "        # includes layer freezing\n",
    "        self, server_round: int, parameters: Parameters, client_manager: ClientManager\n",
    "    ) -> List[Tuple[ClientProxy, FitIns]]:\n",
    "        \"\"\"Configure the next round of training.\"\"\"\n",
    "        config = {}\n",
    "        \n",
    "        sample_size, min_num_clients = self.num_fit_clients(\n",
    "            client_manager.num_available()\n",
    "        )\n",
    "        clients = client_manager.sample(\n",
    "            num_clients=sample_size, min_num_clients=min_num_clients\n",
    "        )\n",
    "        \n",
    "        fit_configurations = []\n",
    "        for idx, client in enumerate(clients):\n",
    "            fit_configurations.append((client, FitIns(parameters, config)))\n",
    "\n",
    "        self.training_sequence_index = self.training_sequence_index + 1\n",
    "        \n",
    "        return fit_configurations\n",
    "    \n",
    "    def configure_evaluate(\n",
    "        self, server_round: int, parameters: Parameters, client_manager: ClientManager\n",
    "    ) -> List[Tuple[ClientProxy, EvaluateIns]]:\n",
    "        \"\"\"Configure the next round of evaluation.\"\"\"\n",
    "        if self.fraction_evaluate == 0.0:\n",
    "            return []\n",
    "        config = {}\n",
    "        evaluate_ins = EvaluateIns(parameters, config)\n",
    "\n",
    "        # Sample clients\n",
    "        sample_size, min_num_clients = self.num_evaluation_clients(\n",
    "            client_manager.num_available()\n",
    "        )\n",
    "        clients = client_manager.sample(\n",
    "            num_clients=sample_size, min_num_clients=min_num_clients\n",
    "        )\n",
    "\n",
    "        # Return client/config pairs\n",
    "        return [(client, evaluate_ins) for client in clients]\n",
    "\n",
    "\n",
    "    def aggregate_fit(\n",
    "        self,\n",
    "        server_round: int,\n",
    "        results: List[Tuple[ClientProxy, FitRes]],\n",
    "        failures: List[Union[Tuple[ClientProxy, FitRes], BaseException]],\n",
    "    ) -> Tuple[Optional[Parameters], Dict[str, Scalar]]:\n",
    "        \"\"\"Aggregate fit results using weighted average.\"\"\"\n",
    "\n",
    "        # get size of parameters in bytes\n",
    "        total_size = 0\n",
    "        for client, fit_res in results:\n",
    "            total_size += get_parameters_size(fit_res.parameters) * 2\n",
    "        \n",
    "        if server_round in fed_moon_no_freeze_result:\n",
    "            expand_fed_moon_no_freeze_result= {**fed_moon_no_freeze_result[server_round], \"total_size\": total_size}\n",
    "        else:\n",
    "            expand_fed_moon_no_freeze_result= {\"total_size\": total_size}\n",
    "\n",
    "        fed_moon_no_freeze_result[server_round] = expand_fed_moon_no_freeze_result\n",
    "\n",
    "        weights_results = [\n",
    "            (parameters_to_ndarrays(fit_res.parameters), fit_res.num_examples)\n",
    "            for _, fit_res in results\n",
    "        ]\n",
    "        \n",
    "        aggregated_weights = aggregate(weights_results)\n",
    "        \n",
    "        self.latest_parameters = ndarrays_to_parameters(aggregated_weights)\n",
    "\n",
    "        metrics_aggregated = {}\n",
    "        return self.latest_parameters, metrics_aggregated\n",
    "\n",
    "    \n",
    "\n",
    "    def aggregate_evaluate(\n",
    "        self,\n",
    "        server_round: int,\n",
    "        results: List[Tuple[ClientProxy, EvaluateRes]],\n",
    "        failures: List[Union[Tuple[ClientProxy, EvaluateRes], BaseException]],\n",
    "    ) -> Tuple[Optional[float], Dict[str, Scalar]]:\n",
    "        \"\"\"Aggregate evaluation losses using weighted average.\"\"\"\n",
    "\n",
    "        if not results:\n",
    "            return None, {}\n",
    "\n",
    "        total_loss = 0\n",
    "        for _, evaluate_res in results:\n",
    "            total_loss += evaluate_res.loss \n",
    "\n",
    "\n",
    "        if server_round in fed_moon_no_freeze_result:\n",
    "            expand_fed_moon_no_freeze_result= {**fed_moon_no_freeze_result[server_round], \"total_loss\": total_loss}\n",
    "        else:\n",
    "            expand_fed_moon_no_freeze_result= {\"total_loss\": total_loss}\n",
    "\n",
    "        fed_moon_no_freeze_result[server_round] = expand_fed_moon_no_freeze_result\n",
    "\n",
    "        loss_aggregated = weighted_loss_avg(\n",
    "            [\n",
    "                (evaluate_res.num_examples, evaluate_res.loss)\n",
    "                for _, evaluate_res in results\n",
    "            ]\n",
    "        )\n",
    "        metrics_aggregated = {}\n",
    "        return loss_aggregated, metrics_aggregated"
   ]
  },
  {
   "cell_type": "code",
   "execution_count": 20,
   "metadata": {},
   "outputs": [
    {
     "name": "stderr",
     "output_type": "stream",
     "text": [
      "/Users/macbook/Desktop/L361/L361_Project/.conda/lib/python3.12/site-packages/datasets/utils/_dill.py:385: DeprecationWarning: co_lnotab is deprecated, use co_lines instead.\n",
      "  obj.co_lnotab,  # for < python 3.10 [not counted in args]\n",
      "\u001b[92mINFO \u001b[0m:      Starting Flower ServerApp, config: num_rounds=20, no round_timeout\n",
      "\u001b[92mINFO \u001b[0m:      \n",
      "\u001b[92mINFO \u001b[0m:      [INIT]\n",
      "\u001b[92mINFO \u001b[0m:      Using initial global parameters provided by strategy\n",
      "\u001b[92mINFO \u001b[0m:      Starting evaluation of initial global parameters\n",
      "\u001b[92mINFO \u001b[0m:      initial parameters (loss, other metrics): 0.07208165764808655, {'accuracy': 0.1}\n",
      "\u001b[92mINFO \u001b[0m:      \n",
      "\u001b[92mINFO \u001b[0m:      [ROUND 1]\n",
      "\u001b[92mINFO \u001b[0m:      configure_fit: strategy sampled 3 clients (out of 6)\n",
      "\u001b[36m(ClientAppActor pid=65573)\u001b[0m /Users/macbook/Desktop/L361/L361_Project/.conda/lib/python3.12/site-packages/datasets/utils/_dill.py:385: DeprecationWarning: co_lnotab is deprecated, use co_lines instead.\n",
      "\u001b[36m(ClientAppActor pid=65573)\u001b[0m   obj.co_lnotab,  # for < python 3.10 [not counted in args]\n"
     ]
    },
    {
     "name": "stdout",
     "output_type": "stream",
     "text": [
      "\u001b[36m(ClientAppActor pid=65573)\u001b[0m [Client 1] fit, config: {}\n"
     ]
    },
    {
     "name": "stderr",
     "output_type": "stream",
     "text": [
      "\u001b[91mERROR \u001b[0m:     An exception was raised when processing a message by RayBackend\n",
      "\u001b[91mERROR \u001b[0m:     \u001b[36mray::ClientAppActor.run()\u001b[39m (pid=65573, ip=127.0.0.1, actor_id=08df71a70ec4810e4483f0b201000000, repr=<flwr.simulation.ray_transport.ray_actor.ClientAppActor object at 0x105c2cbf0>)\n",
      "                  ^^^^^^^^^^^^^^^^^^^^^^^^^^^^^^^^^^^^^\n",
      "  File \"/Users/macbook/Desktop/L361/L361_Project/.conda/lib/python3.12/site-packages/flwr/client/client_app.py\", line 143, in __call__\n",
      "    return self._call(message, context)\n",
      "           ^^^^^^^^^^^^^^^^^^^^^^^^^^^^\n",
      "  File \"/Users/macbook/Desktop/L361/L361_Project/.conda/lib/python3.12/site-packages/flwr/client/client_app.py\", line 126, in ffn\n",
      "    out_message = handle_legacy_message_from_msgtype(\n",
      "                  ^^^^^^^^^^^^^^^^^^^^^^^^^^^^^^^^^^^\n",
      "  File \"/Users/macbook/Desktop/L361/L361_Project/.conda/lib/python3.12/site-packages/flwr/client/message_handler/message_handler.py\", line 128, in handle_legacy_message_from_msgtype\n",
      "    fit_res = maybe_call_fit(\n",
      "              ^^^^^^^^^^^^^^^\n",
      "  File \"/Users/macbook/Desktop/L361/L361_Project/.conda/lib/python3.12/site-packages/flwr/client/client.py\", line 224, in maybe_call_fit\n",
      "    return client.fit(fit_ins)\n",
      "           ^^^^^^^^^^^^^^^^^^^\n",
      "  File \"/Users/macbook/Desktop/L361/L361_Project/.conda/lib/python3.12/site-packages/flwr/client/numpy_client.py\", line 227, in _fit\n",
      "    results = self.numpy_client.fit(parameters, ins.config)  # type: ignore\n",
      "              ^^^^^^^^^^^^^^^^^^^^^^^^^^^^^^^^^^^^^^^^^^^^^\n",
      "  File \"/var/folders/6j/51pt41xs611cqzmtybytnss40000gn/T/ipykernel_8677/3293017815.py\", line 45, in fit\n",
      "  File \"/var/folders/6j/51pt41xs611cqzmtybytnss40000gn/T/ipykernel_8677/1796760947.py\", line 182, in train_moon\n",
      "  File \"/Users/macbook/Desktop/L361/L361_Project/.conda/lib/python3.12/site-packages/torch/nn/modules/module.py\", line 1739, in _wrapped_call_impl\n",
      "    return self._call_impl(*args, **kwargs)\n",
      "           ^^^^^^^^^^^^^^^^^^^^^^^^^^^^^^^^\n",
      "  File \"/Users/macbook/Desktop/L361/L361_Project/.conda/lib/python3.12/site-packages/torch/nn/modules/module.py\", line 1750, in _call_impl\n",
      "    return forward_call(*args, **kwargs)\n",
      "           ^^^^^^^^^^^^^^^^^^^^^^^^^^^^^\n",
      "  File \"/var/folders/6j/51pt41xs611cqzmtybytnss40000gn/T/ipykernel_8677/1796760947.py\", line 52, in forward\n",
      "  File \"/Users/macbook/Desktop/L361/L361_Project/.conda/lib/python3.12/site-packages/torch/nn/modules/module.py\", line 1739, in _wrapped_call_impl\n",
      "    return self._call_impl(*args, **kwargs)\n",
      "           ^^^^^^^^^^^^^^^^^^^^^^^^^^^^^^^^\n",
      "  File \"/Users/macbook/Desktop/L361/L361_Project/.conda/lib/python3.12/site-packages/torch/nn/modules/module.py\", line 1750, in _call_impl\n",
      "    return forward_call(*args, **kwargs)\n",
      "           ^^^^^^^^^^^^^^^^^^^^^^^^^^^^^\n",
      "  File \"/Users/macbook/Desktop/L361/L361_Project/.conda/lib/python3.12/site-packages/torch/nn/modules/conv.py\", line 554, in forward\n",
      "    return self._conv_forward(input, self.weight, self.bias)\n",
      "           ^^^^^^^^^^^^^^^^^^^^^^^^^^^^^^^^^^^^^^^^^^^^^^^^^\n",
      "  File \"/Users/macbook/Desktop/L361/L361_Project/.conda/lib/python3.12/site-packages/torch/nn/modules/conv.py\", line 549, in _conv_forward\n",
      "    return F.conv2d(\n",
      "           ^^^^^^^^^\n",
      "RuntimeError: Input type (MPSFloatType) and weight type (torch.FloatTensor) should be the same\n",
      "\n",
      "The above exception was the direct cause of the following exception:\n",
      "\n",
      "\u001b[36mray::ClientAppActor.run()\u001b[39m (pid=65573, ip=127.0.0.1, actor_id=08df71a70ec4810e4483f0b201000000, repr=<flwr.simulation.ray_transport.ray_actor.ClientAppActor object at 0x105c2cbf0>)\n",
      "           ^^^^^^^^^^^^^^^^^^^^^^^^^^^^^^^^^^^^\n",
      "           ^^^^^^^^^^^^^^^^^^^^^^^^^^^^^^^\n",
      "  File \"/Users/macbook/Desktop/L361/L361_Project/.conda/lib/python3.12/site-packages/flwr/simulation/ray_transport/ray_actor.py\", line 64, in run\n",
      "    raise ClientAppException(str(ex)) from ex\n",
      "flwr.client.client_app.ClientAppException: \n",
      "Exception ClientAppException occurred. Message: Input type (MPSFloatType) and weight type (torch.FloatTensor) should be the same\n",
      "\u001b[91mERROR \u001b[0m:     Traceback (most recent call last):\n",
      "  File \"/Users/macbook/Desktop/L361/L361_Project/.conda/lib/python3.12/site-packages/flwr/server/superlink/fleet/vce/vce_api.py\", line 112, in worker\n",
      "    out_mssg, updated_context = backend.process_message(message, context)\n",
      "                                ^^^^^^^^^^^^^^^^^^^^^^^^^^^^^^^^^^^^^^^^^\n",
      "  File \"/Users/macbook/Desktop/L361/L361_Project/.conda/lib/python3.12/site-packages/flwr/server/superlink/fleet/vce/backend/raybackend.py\", line 187, in process_message\n",
      "    raise ex\n",
      "  File \"/Users/macbook/Desktop/L361/L361_Project/.conda/lib/python3.12/site-packages/flwr/server/superlink/fleet/vce/backend/raybackend.py\", line 175, in process_message\n",
      "    ) = self.pool.fetch_result_and_return_actor_to_pool(future)\n",
      "        ^^^^^^^^^^^^^^^^^^^^^^^^^^^^^^^^^^^^^^^^^^^^^^^^^^^^^^^\n",
      "  File \"/Users/macbook/Desktop/L361/L361_Project/.conda/lib/python3.12/site-packages/flwr/simulation/ray_transport/ray_actor.py\", line 478, in fetch_result_and_return_actor_to_pool\n",
      "    _, out_mssg, updated_context = ray.get(future)\n",
      "                                   ^^^^^^^^^^^^^^^\n",
      "  File \"/Users/macbook/Desktop/L361/L361_Project/.conda/lib/python3.12/site-packages/ray/_private/auto_init_hook.py\", line 21, in auto_init_wrapper\n",
      "    return fn(*args, **kwargs)\n",
      "           ^^^^^^^^^^^^^^^^^^^\n",
      "  File \"/Users/macbook/Desktop/L361/L361_Project/.conda/lib/python3.12/site-packages/ray/_private/client_mode_hook.py\", line 103, in wrapper\n",
      "    return func(*args, **kwargs)\n",
      "           ^^^^^^^^^^^^^^^^^^^^^\n",
      "  File \"/Users/macbook/Desktop/L361/L361_Project/.conda/lib/python3.12/site-packages/ray/_private/worker.py\", line 2639, in get\n",
      "    values, debugger_breakpoint = worker.get_objects(object_refs, timeout=timeout)\n",
      "                                  ^^^^^^^^^^^^^^^^^^^^^^^^^^^^^^^^^^^^^^^^^^^^^^^^\n",
      "  File \"/Users/macbook/Desktop/L361/L361_Project/.conda/lib/python3.12/site-packages/ray/_private/worker.py\", line 864, in get_objects\n",
      "    raise value.as_instanceof_cause()\n",
      "ray.exceptions.RayTaskError(ClientAppException): \u001b[36mray::ClientAppActor.run()\u001b[39m (pid=65573, ip=127.0.0.1, actor_id=08df71a70ec4810e4483f0b201000000, repr=<flwr.simulation.ray_transport.ray_actor.ClientAppActor object at 0x105c2cbf0>)\n",
      "                  ^^^^^^^^^^^^^^^^^^^^^^^^^^^^^^^^^^^^^\n",
      "  File \"/Users/macbook/Desktop/L361/L361_Project/.conda/lib/python3.12/site-packages/flwr/client/client_app.py\", line 143, in __call__\n",
      "    return self._call(message, context)\n",
      "           ^^^^^^^^^^^^^^^^^^^^^^^^^^^^\n",
      "  File \"/Users/macbook/Desktop/L361/L361_Project/.conda/lib/python3.12/site-packages/flwr/client/client_app.py\", line 126, in ffn\n",
      "    out_message = handle_legacy_message_from_msgtype(\n",
      "                  ^^^^^^^^^^^^^^^^^^^^^^^^^^^^^^^^^^^\n",
      "  File \"/Users/macbook/Desktop/L361/L361_Project/.conda/lib/python3.12/site-packages/flwr/client/message_handler/message_handler.py\", line 128, in handle_legacy_message_from_msgtype\n",
      "    fit_res = maybe_call_fit(\n",
      "              ^^^^^^^^^^^^^^^\n",
      "  File \"/Users/macbook/Desktop/L361/L361_Project/.conda/lib/python3.12/site-packages/flwr/client/client.py\", line 224, in maybe_call_fit\n",
      "    return client.fit(fit_ins)\n",
      "           ^^^^^^^^^^^^^^^^^^^\n",
      "  File \"/Users/macbook/Desktop/L361/L361_Project/.conda/lib/python3.12/site-packages/flwr/client/numpy_client.py\", line 227, in _fit\n",
      "    results = self.numpy_client.fit(parameters, ins.config)  # type: ignore\n",
      "              ^^^^^^^^^^^^^^^^^^^^^^^^^^^^^^^^^^^^^^^^^^^^^\n",
      "  File \"/var/folders/6j/51pt41xs611cqzmtybytnss40000gn/T/ipykernel_8677/3293017815.py\", line 45, in fit\n",
      "  File \"/var/folders/6j/51pt41xs611cqzmtybytnss40000gn/T/ipykernel_8677/1796760947.py\", line 182, in train_moon\n",
      "  File \"/Users/macbook/Desktop/L361/L361_Project/.conda/lib/python3.12/site-packages/torch/nn/modules/module.py\", line 1739, in _wrapped_call_impl\n",
      "    return self._call_impl(*args, **kwargs)\n",
      "           ^^^^^^^^^^^^^^^^^^^^^^^^^^^^^^^^\n",
      "  File \"/Users/macbook/Desktop/L361/L361_Project/.conda/lib/python3.12/site-packages/torch/nn/modules/module.py\", line 1750, in _call_impl\n",
      "    return forward_call(*args, **kwargs)\n",
      "           ^^^^^^^^^^^^^^^^^^^^^^^^^^^^^\n",
      "  File \"/var/folders/6j/51pt41xs611cqzmtybytnss40000gn/T/ipykernel_8677/1796760947.py\", line 52, in forward\n",
      "  File \"/Users/macbook/Desktop/L361/L361_Project/.conda/lib/python3.12/site-packages/torch/nn/modules/module.py\", line 1739, in _wrapped_call_impl\n",
      "    return self._call_impl(*args, **kwargs)\n",
      "           ^^^^^^^^^^^^^^^^^^^^^^^^^^^^^^^^\n",
      "  File \"/Users/macbook/Desktop/L361/L361_Project/.conda/lib/python3.12/site-packages/torch/nn/modules/module.py\", line 1750, in _call_impl\n",
      "    return forward_call(*args, **kwargs)\n",
      "           ^^^^^^^^^^^^^^^^^^^^^^^^^^^^^\n",
      "  File \"/Users/macbook/Desktop/L361/L361_Project/.conda/lib/python3.12/site-packages/torch/nn/modules/conv.py\", line 554, in forward\n",
      "    return self._conv_forward(input, self.weight, self.bias)\n",
      "           ^^^^^^^^^^^^^^^^^^^^^^^^^^^^^^^^^^^^^^^^^^^^^^^^^\n",
      "  File \"/Users/macbook/Desktop/L361/L361_Project/.conda/lib/python3.12/site-packages/torch/nn/modules/conv.py\", line 549, in _conv_forward\n",
      "    return F.conv2d(\n",
      "           ^^^^^^^^^\n",
      "RuntimeError: Input type (MPSFloatType) and weight type (torch.FloatTensor) should be the same\n",
      "\n",
      "The above exception was the direct cause of the following exception:\n",
      "\n",
      "\u001b[36mray::ClientAppActor.run()\u001b[39m (pid=65573, ip=127.0.0.1, actor_id=08df71a70ec4810e4483f0b201000000, repr=<flwr.simulation.ray_transport.ray_actor.ClientAppActor object at 0x105c2cbf0>)\n",
      "           ^^^^^^^^^^^^^^^^^^^^^^^^^^^^^^^^^^^^\n",
      "           ^^^^^^^^^^^^^^^^^^^^^^^^^^^^^^^\n",
      "  File \"/Users/macbook/Desktop/L361/L361_Project/.conda/lib/python3.12/site-packages/flwr/simulation/ray_transport/ray_actor.py\", line 64, in run\n",
      "    raise ClientAppException(str(ex)) from ex\n",
      "flwr.client.client_app.ClientAppException: \n",
      "Exception ClientAppException occurred. Message: Input type (MPSFloatType) and weight type (torch.FloatTensor) should be the same\n",
      "\n"
     ]
    },
    {
     "name": "stdout",
     "output_type": "stream",
     "text": [
      "\u001b[36m(ClientAppActor pid=65573)\u001b[0m Started training moon\n"
     ]
    },
    {
     "name": "stderr",
     "output_type": "stream",
     "text": [
      "\u001b[91mERROR \u001b[0m:     An exception was raised when processing a message by RayBackend\n",
      "\u001b[91mERROR \u001b[0m:     \u001b[36mray::ClientAppActor.run()\u001b[39m (pid=65571, ip=127.0.0.1, actor_id=2c59dd91c2f9b6d83d03c06301000000, repr=<flwr.simulation.ray_transport.ray_actor.ClientAppActor object at 0x10aa5cd10>)\n",
      "                  ^^^^^^^^^^^^^^^^^^^^^^^^^^^^^^^^^^^^^\n",
      "  File \"/Users/macbook/Desktop/L361/L361_Project/.conda/lib/python3.12/site-packages/flwr/client/client_app.py\", line 143, in __call__\n",
      "    return self._call(message, context)\n",
      "           ^^^^^^^^^^^^^^^^^^^^^^^^^^^^\n",
      "  File \"/Users/macbook/Desktop/L361/L361_Project/.conda/lib/python3.12/site-packages/flwr/client/client_app.py\", line 126, in ffn\n",
      "    out_message = handle_legacy_message_from_msgtype(\n",
      "                  ^^^^^^^^^^^^^^^^^^^^^^^^^^^^^^^^^^^\n",
      "  File \"/Users/macbook/Desktop/L361/L361_Project/.conda/lib/python3.12/site-packages/flwr/client/message_handler/message_handler.py\", line 128, in handle_legacy_message_from_msgtype\n",
      "    fit_res = maybe_call_fit(\n",
      "              ^^^^^^^^^^^^^^^\n",
      "  File \"/Users/macbook/Desktop/L361/L361_Project/.conda/lib/python3.12/site-packages/flwr/client/client.py\", line 224, in maybe_call_fit\n",
      "    return client.fit(fit_ins)\n",
      "           ^^^^^^^^^^^^^^^^^^^\n",
      "  File \"/Users/macbook/Desktop/L361/L361_Project/.conda/lib/python3.12/site-packages/flwr/client/numpy_client.py\", line 227, in _fit\n",
      "    results = self.numpy_client.fit(parameters, ins.config)  # type: ignore\n",
      "              ^^^^^^^^^^^^^^^^^^^^^^^^^^^^^^^^^^^^^^^^^^^^^\n",
      "  File \"/var/folders/6j/51pt41xs611cqzmtybytnss40000gn/T/ipykernel_8677/3293017815.py\", line 45, in fit\n",
      "  File \"/var/folders/6j/51pt41xs611cqzmtybytnss40000gn/T/ipykernel_8677/1796760947.py\", line 182, in train_moon\n",
      "  File \"/Users/macbook/Desktop/L361/L361_Project/.conda/lib/python3.12/site-packages/torch/nn/modules/module.py\", line 1739, in _wrapped_call_impl\n",
      "    return self._call_impl(*args, **kwargs)\n",
      "           ^^^^^^^^^^^^^^^^^^^^^^^^^^^^^^^^\n",
      "  File \"/Users/macbook/Desktop/L361/L361_Project/.conda/lib/python3.12/site-packages/torch/nn/modules/module.py\", line 1750, in _call_impl\n",
      "    return forward_call(*args, **kwargs)\n",
      "           ^^^^^^^^^^^^^^^^^^^^^^^^^^^^^\n",
      "  File \"/var/folders/6j/51pt41xs611cqzmtybytnss40000gn/T/ipykernel_8677/1796760947.py\", line 52, in forward\n",
      "  File \"/Users/macbook/Desktop/L361/L361_Project/.conda/lib/python3.12/site-packages/torch/nn/modules/module.py\", line 1739, in _wrapped_call_impl\n",
      "    return self._call_impl(*args, **kwargs)\n",
      "           ^^^^^^^^^^^^^^^^^^^^^^^^^^^^^^^^\n",
      "  File \"/Users/macbook/Desktop/L361/L361_Project/.conda/lib/python3.12/site-packages/torch/nn/modules/module.py\", line 1750, in _call_impl\n",
      "    return forward_call(*args, **kwargs)\n",
      "           ^^^^^^^^^^^^^^^^^^^^^^^^^^^^^\n",
      "  File \"/Users/macbook/Desktop/L361/L361_Project/.conda/lib/python3.12/site-packages/torch/nn/modules/conv.py\", line 554, in forward\n",
      "    return self._conv_forward(input, self.weight, self.bias)\n",
      "           ^^^^^^^^^^^^^^^^^^^^^^^^^^^^^^^^^^^^^^^^^^^^^^^^^\n",
      "  File \"/Users/macbook/Desktop/L361/L361_Project/.conda/lib/python3.12/site-packages/torch/nn/modules/conv.py\", line 549, in _conv_forward\n",
      "    return F.conv2d(\n",
      "           ^^^^^^^^^\n",
      "RuntimeError: Input type (MPSFloatType) and weight type (torch.FloatTensor) should be the same\n",
      "\n",
      "The above exception was the direct cause of the following exception:\n",
      "\n",
      "\u001b[36mray::ClientAppActor.run()\u001b[39m (pid=65571, ip=127.0.0.1, actor_id=2c59dd91c2f9b6d83d03c06301000000, repr=<flwr.simulation.ray_transport.ray_actor.ClientAppActor object at 0x10aa5cd10>)\n",
      "           ^^^^^^^^^^^^^^^^^^^^^^^^^^^^^^^^^^^^\n",
      "           ^^^^^^^^^^^^^^^^^^^^^^^^^^^^^^^\n",
      "  File \"/Users/macbook/Desktop/L361/L361_Project/.conda/lib/python3.12/site-packages/flwr/simulation/ray_transport/ray_actor.py\", line 64, in run\n",
      "    raise ClientAppException(str(ex)) from ex\n",
      "flwr.client.client_app.ClientAppException: \n",
      "Exception ClientAppException occurred. Message: Input type (MPSFloatType) and weight type (torch.FloatTensor) should be the same\n",
      "\u001b[91mERROR \u001b[0m:     Traceback (most recent call last):\n",
      "  File \"/Users/macbook/Desktop/L361/L361_Project/.conda/lib/python3.12/site-packages/flwr/server/superlink/fleet/vce/vce_api.py\", line 112, in worker\n",
      "    out_mssg, updated_context = backend.process_message(message, context)\n",
      "                                ^^^^^^^^^^^^^^^^^^^^^^^^^^^^^^^^^^^^^^^^^\n",
      "  File \"/Users/macbook/Desktop/L361/L361_Project/.conda/lib/python3.12/site-packages/flwr/server/superlink/fleet/vce/backend/raybackend.py\", line 187, in process_message\n",
      "    raise ex\n",
      "  File \"/Users/macbook/Desktop/L361/L361_Project/.conda/lib/python3.12/site-packages/flwr/server/superlink/fleet/vce/backend/raybackend.py\", line 175, in process_message\n",
      "    ) = self.pool.fetch_result_and_return_actor_to_pool(future)\n",
      "        ^^^^^^^^^^^^^^^^^^^^^^^^^^^^^^^^^^^^^^^^^^^^^^^^^^^^^^^\n",
      "  File \"/Users/macbook/Desktop/L361/L361_Project/.conda/lib/python3.12/site-packages/flwr/simulation/ray_transport/ray_actor.py\", line 478, in fetch_result_and_return_actor_to_pool\n",
      "    _, out_mssg, updated_context = ray.get(future)\n",
      "                                   ^^^^^^^^^^^^^^^\n",
      "  File \"/Users/macbook/Desktop/L361/L361_Project/.conda/lib/python3.12/site-packages/ray/_private/auto_init_hook.py\", line 21, in auto_init_wrapper\n",
      "    return fn(*args, **kwargs)\n",
      "           ^^^^^^^^^^^^^^^^^^^\n",
      "  File \"/Users/macbook/Desktop/L361/L361_Project/.conda/lib/python3.12/site-packages/ray/_private/client_mode_hook.py\", line 103, in wrapper\n",
      "    return func(*args, **kwargs)\n",
      "           ^^^^^^^^^^^^^^^^^^^^^\n",
      "  File \"/Users/macbook/Desktop/L361/L361_Project/.conda/lib/python3.12/site-packages/ray/_private/worker.py\", line 2639, in get\n",
      "    values, debugger_breakpoint = worker.get_objects(object_refs, timeout=timeout)\n",
      "                                  ^^^^^^^^^^^^^^^^^^^^^^^^^^^^^^^^^^^^^^^^^^^^^^^^\n",
      "  File \"/Users/macbook/Desktop/L361/L361_Project/.conda/lib/python3.12/site-packages/ray/_private/worker.py\", line 864, in get_objects\n",
      "    raise value.as_instanceof_cause()\n",
      "ray.exceptions.RayTaskError(ClientAppException): \u001b[36mray::ClientAppActor.run()\u001b[39m (pid=65571, ip=127.0.0.1, actor_id=2c59dd91c2f9b6d83d03c06301000000, repr=<flwr.simulation.ray_transport.ray_actor.ClientAppActor object at 0x10aa5cd10>)\n",
      "                  ^^^^^^^^^^^^^^^^^^^^^^^^^^^^^^^^^^^^^\n",
      "  File \"/Users/macbook/Desktop/L361/L361_Project/.conda/lib/python3.12/site-packages/flwr/client/client_app.py\", line 143, in __call__\n",
      "    return self._call(message, context)\n",
      "           ^^^^^^^^^^^^^^^^^^^^^^^^^^^^\n",
      "  File \"/Users/macbook/Desktop/L361/L361_Project/.conda/lib/python3.12/site-packages/flwr/client/client_app.py\", line 126, in ffn\n",
      "    out_message = handle_legacy_message_from_msgtype(\n",
      "                  ^^^^^^^^^^^^^^^^^^^^^^^^^^^^^^^^^^^\n",
      "  File \"/Users/macbook/Desktop/L361/L361_Project/.conda/lib/python3.12/site-packages/flwr/client/message_handler/message_handler.py\", line 128, in handle_legacy_message_from_msgtype\n",
      "    fit_res = maybe_call_fit(\n",
      "              ^^^^^^^^^^^^^^^\n",
      "  File \"/Users/macbook/Desktop/L361/L361_Project/.conda/lib/python3.12/site-packages/flwr/client/client.py\", line 224, in maybe_call_fit\n",
      "    return client.fit(fit_ins)\n",
      "           ^^^^^^^^^^^^^^^^^^^\n",
      "  File \"/Users/macbook/Desktop/L361/L361_Project/.conda/lib/python3.12/site-packages/flwr/client/numpy_client.py\", line 227, in _fit\n",
      "    results = self.numpy_client.fit(parameters, ins.config)  # type: ignore\n",
      "              ^^^^^^^^^^^^^^^^^^^^^^^^^^^^^^^^^^^^^^^^^^^^^\n",
      "  File \"/var/folders/6j/51pt41xs611cqzmtybytnss40000gn/T/ipykernel_8677/3293017815.py\", line 45, in fit\n",
      "  File \"/var/folders/6j/51pt41xs611cqzmtybytnss40000gn/T/ipykernel_8677/1796760947.py\", line 182, in train_moon\n",
      "  File \"/Users/macbook/Desktop/L361/L361_Project/.conda/lib/python3.12/site-packages/torch/nn/modules/module.py\", line 1739, in _wrapped_call_impl\n",
      "    return self._call_impl(*args, **kwargs)\n",
      "           ^^^^^^^^^^^^^^^^^^^^^^^^^^^^^^^^\n",
      "  File \"/Users/macbook/Desktop/L361/L361_Project/.conda/lib/python3.12/site-packages/torch/nn/modules/module.py\", line 1750, in _call_impl\n",
      "    return forward_call(*args, **kwargs)\n",
      "           ^^^^^^^^^^^^^^^^^^^^^^^^^^^^^\n",
      "  File \"/var/folders/6j/51pt41xs611cqzmtybytnss40000gn/T/ipykernel_8677/1796760947.py\", line 52, in forward\n",
      "  File \"/Users/macbook/Desktop/L361/L361_Project/.conda/lib/python3.12/site-packages/torch/nn/modules/module.py\", line 1739, in _wrapped_call_impl\n",
      "    return self._call_impl(*args, **kwargs)\n",
      "           ^^^^^^^^^^^^^^^^^^^^^^^^^^^^^^^^\n",
      "  File \"/Users/macbook/Desktop/L361/L361_Project/.conda/lib/python3.12/site-packages/torch/nn/modules/module.py\", line 1750, in _call_impl\n",
      "    return forward_call(*args, **kwargs)\n",
      "           ^^^^^^^^^^^^^^^^^^^^^^^^^^^^^\n",
      "  File \"/Users/macbook/Desktop/L361/L361_Project/.conda/lib/python3.12/site-packages/torch/nn/modules/conv.py\", line 554, in forward\n",
      "    return self._conv_forward(input, self.weight, self.bias)\n",
      "           ^^^^^^^^^^^^^^^^^^^^^^^^^^^^^^^^^^^^^^^^^^^^^^^^^\n",
      "  File \"/Users/macbook/Desktop/L361/L361_Project/.conda/lib/python3.12/site-packages/torch/nn/modules/conv.py\", line 549, in _conv_forward\n",
      "    return F.conv2d(\n",
      "           ^^^^^^^^^\n",
      "RuntimeError: Input type (MPSFloatType) and weight type (torch.FloatTensor) should be the same\n",
      "\n",
      "The above exception was the direct cause of the following exception:\n",
      "\n",
      "\u001b[36mray::ClientAppActor.run()\u001b[39m (pid=65571, ip=127.0.0.1, actor_id=2c59dd91c2f9b6d83d03c06301000000, repr=<flwr.simulation.ray_transport.ray_actor.ClientAppActor object at 0x10aa5cd10>)\n",
      "           ^^^^^^^^^^^^^^^^^^^^^^^^^^^^^^^^^^^^\n",
      "           ^^^^^^^^^^^^^^^^^^^^^^^^^^^^^^^\n",
      "  File \"/Users/macbook/Desktop/L361/L361_Project/.conda/lib/python3.12/site-packages/flwr/simulation/ray_transport/ray_actor.py\", line 64, in run\n",
      "    raise ClientAppException(str(ex)) from ex\n",
      "flwr.client.client_app.ClientAppException: \n",
      "Exception ClientAppException occurred. Message: Input type (MPSFloatType) and weight type (torch.FloatTensor) should be the same\n",
      "\n",
      "\u001b[91mERROR \u001b[0m:     An exception was raised when processing a message by RayBackend\n",
      "\u001b[91mERROR \u001b[0m:     \u001b[36mray::ClientAppActor.run()\u001b[39m (pid=65572, ip=127.0.0.1, actor_id=944d917b2af429d9fd88974a01000000, repr=<flwr.simulation.ray_transport.ray_actor.ClientAppActor object at 0x106850e60>)\n",
      "                  ^^^^^^^^^^^^^^^^^^^^^^^^^^^^^^^^^^^^^\n",
      "  File \"/Users/macbook/Desktop/L361/L361_Project/.conda/lib/python3.12/site-packages/flwr/client/client_app.py\", line 143, in __call__\n",
      "    return self._call(message, context)\n",
      "           ^^^^^^^^^^^^^^^^^^^^^^^^^^^^\n",
      "  File \"/Users/macbook/Desktop/L361/L361_Project/.conda/lib/python3.12/site-packages/flwr/client/client_app.py\", line 126, in ffn\n",
      "    out_message = handle_legacy_message_from_msgtype(\n",
      "                  ^^^^^^^^^^^^^^^^^^^^^^^^^^^^^^^^^^^\n",
      "  File \"/Users/macbook/Desktop/L361/L361_Project/.conda/lib/python3.12/site-packages/flwr/client/message_handler/message_handler.py\", line 128, in handle_legacy_message_from_msgtype\n",
      "    fit_res = maybe_call_fit(\n",
      "              ^^^^^^^^^^^^^^^\n",
      "  File \"/Users/macbook/Desktop/L361/L361_Project/.conda/lib/python3.12/site-packages/flwr/client/client.py\", line 224, in maybe_call_fit\n",
      "    return client.fit(fit_ins)\n",
      "           ^^^^^^^^^^^^^^^^^^^\n",
      "  File \"/Users/macbook/Desktop/L361/L361_Project/.conda/lib/python3.12/site-packages/flwr/client/numpy_client.py\", line 227, in _fit\n",
      "    results = self.numpy_client.fit(parameters, ins.config)  # type: ignore\n",
      "              ^^^^^^^^^^^^^^^^^^^^^^^^^^^^^^^^^^^^^^^^^^^^^\n",
      "  File \"/var/folders/6j/51pt41xs611cqzmtybytnss40000gn/T/ipykernel_8677/3293017815.py\", line 45, in fit\n",
      "  File \"/var/folders/6j/51pt41xs611cqzmtybytnss40000gn/T/ipykernel_8677/1796760947.py\", line 182, in train_moon\n",
      "  File \"/Users/macbook/Desktop/L361/L361_Project/.conda/lib/python3.12/site-packages/torch/nn/modules/module.py\", line 1739, in _wrapped_call_impl\n",
      "    return self._call_impl(*args, **kwargs)\n",
      "           ^^^^^^^^^^^^^^^^^^^^^^^^^^^^^^^^\n",
      "  File \"/Users/macbook/Desktop/L361/L361_Project/.conda/lib/python3.12/site-packages/torch/nn/modules/module.py\", line 1750, in _call_impl\n",
      "    return forward_call(*args, **kwargs)\n",
      "           ^^^^^^^^^^^^^^^^^^^^^^^^^^^^^\n",
      "  File \"/var/folders/6j/51pt41xs611cqzmtybytnss40000gn/T/ipykernel_8677/1796760947.py\", line 52, in forward\n",
      "  File \"/Users/macbook/Desktop/L361/L361_Project/.conda/lib/python3.12/site-packages/torch/nn/modules/module.py\", line 1739, in _wrapped_call_impl\n",
      "    return self._call_impl(*args, **kwargs)\n",
      "           ^^^^^^^^^^^^^^^^^^^^^^^^^^^^^^^^\n",
      "  File \"/Users/macbook/Desktop/L361/L361_Project/.conda/lib/python3.12/site-packages/torch/nn/modules/module.py\", line 1750, in _call_impl\n",
      "    return forward_call(*args, **kwargs)\n",
      "           ^^^^^^^^^^^^^^^^^^^^^^^^^^^^^\n",
      "  File \"/Users/macbook/Desktop/L361/L361_Project/.conda/lib/python3.12/site-packages/torch/nn/modules/conv.py\", line 554, in forward\n",
      "    return self._conv_forward(input, self.weight, self.bias)\n",
      "           ^^^^^^^^^^^^^^^^^^^^^^^^^^^^^^^^^^^^^^^^^^^^^^^^^\n",
      "  File \"/Users/macbook/Desktop/L361/L361_Project/.conda/lib/python3.12/site-packages/torch/nn/modules/conv.py\", line 549, in _conv_forward\n",
      "    return F.conv2d(\n",
      "           ^^^^^^^^^\n",
      "RuntimeError: Input type (MPSFloatType) and weight type (torch.FloatTensor) should be the same\n",
      "\n",
      "The above exception was the direct cause of the following exception:\n",
      "\n",
      "\u001b[36mray::ClientAppActor.run()\u001b[39m (pid=65572, ip=127.0.0.1, actor_id=944d917b2af429d9fd88974a01000000, repr=<flwr.simulation.ray_transport.ray_actor.ClientAppActor object at 0x106850e60>)\n",
      "           ^^^^^^^^^^^^^^^^^^^^^^^^^^^^^^^^^^^^\n",
      "           ^^^^^^^^^^^^^^^^^^^^^^^^^^^^^^^\n",
      "  File \"/Users/macbook/Desktop/L361/L361_Project/.conda/lib/python3.12/site-packages/flwr/simulation/ray_transport/ray_actor.py\", line 64, in run\n",
      "    raise ClientAppException(str(ex)) from ex\n",
      "flwr.client.client_app.ClientAppException: \n",
      "Exception ClientAppException occurred. Message: Input type (MPSFloatType) and weight type (torch.FloatTensor) should be the same\n",
      "\u001b[91mERROR \u001b[0m:     Traceback (most recent call last):\n",
      "  File \"/Users/macbook/Desktop/L361/L361_Project/.conda/lib/python3.12/site-packages/flwr/server/superlink/fleet/vce/vce_api.py\", line 112, in worker\n",
      "    out_mssg, updated_context = backend.process_message(message, context)\n",
      "                                ^^^^^^^^^^^^^^^^^^^^^^^^^^^^^^^^^^^^^^^^^\n",
      "  File \"/Users/macbook/Desktop/L361/L361_Project/.conda/lib/python3.12/site-packages/flwr/server/superlink/fleet/vce/backend/raybackend.py\", line 187, in process_message\n",
      "    raise ex\n",
      "  File \"/Users/macbook/Desktop/L361/L361_Project/.conda/lib/python3.12/site-packages/flwr/server/superlink/fleet/vce/backend/raybackend.py\", line 175, in process_message\n",
      "    ) = self.pool.fetch_result_and_return_actor_to_pool(future)\n",
      "        ^^^^^^^^^^^^^^^^^^^^^^^^^^^^^^^^^^^^^^^^^^^^^^^^^^^^^^^\n",
      "  File \"/Users/macbook/Desktop/L361/L361_Project/.conda/lib/python3.12/site-packages/flwr/simulation/ray_transport/ray_actor.py\", line 478, in fetch_result_and_return_actor_to_pool\n",
      "    _, out_mssg, updated_context = ray.get(future)\n",
      "                                   ^^^^^^^^^^^^^^^\n",
      "  File \"/Users/macbook/Desktop/L361/L361_Project/.conda/lib/python3.12/site-packages/ray/_private/auto_init_hook.py\", line 21, in auto_init_wrapper\n",
      "    return fn(*args, **kwargs)\n",
      "           ^^^^^^^^^^^^^^^^^^^\n",
      "  File \"/Users/macbook/Desktop/L361/L361_Project/.conda/lib/python3.12/site-packages/ray/_private/client_mode_hook.py\", line 103, in wrapper\n",
      "    return func(*args, **kwargs)\n",
      "           ^^^^^^^^^^^^^^^^^^^^^\n",
      "  File \"/Users/macbook/Desktop/L361/L361_Project/.conda/lib/python3.12/site-packages/ray/_private/worker.py\", line 2639, in get\n",
      "    values, debugger_breakpoint = worker.get_objects(object_refs, timeout=timeout)\n",
      "                                  ^^^^^^^^^^^^^^^^^^^^^^^^^^^^^^^^^^^^^^^^^^^^^^^^\n",
      "  File \"/Users/macbook/Desktop/L361/L361_Project/.conda/lib/python3.12/site-packages/ray/_private/worker.py\", line 864, in get_objects\n",
      "    raise value.as_instanceof_cause()\n",
      "ray.exceptions.RayTaskError(ClientAppException): \u001b[36mray::ClientAppActor.run()\u001b[39m (pid=65572, ip=127.0.0.1, actor_id=944d917b2af429d9fd88974a01000000, repr=<flwr.simulation.ray_transport.ray_actor.ClientAppActor object at 0x106850e60>)\n",
      "                  ^^^^^^^^^^^^^^^^^^^^^^^^^^^^^^^^^^^^^\n",
      "  File \"/Users/macbook/Desktop/L361/L361_Project/.conda/lib/python3.12/site-packages/flwr/client/client_app.py\", line 143, in __call__\n",
      "    return self._call(message, context)\n",
      "           ^^^^^^^^^^^^^^^^^^^^^^^^^^^^\n",
      "  File \"/Users/macbook/Desktop/L361/L361_Project/.conda/lib/python3.12/site-packages/flwr/client/client_app.py\", line 126, in ffn\n",
      "    out_message = handle_legacy_message_from_msgtype(\n",
      "                  ^^^^^^^^^^^^^^^^^^^^^^^^^^^^^^^^^^^\n",
      "  File \"/Users/macbook/Desktop/L361/L361_Project/.conda/lib/python3.12/site-packages/flwr/client/message_handler/message_handler.py\", line 128, in handle_legacy_message_from_msgtype\n",
      "    fit_res = maybe_call_fit(\n",
      "              ^^^^^^^^^^^^^^^\n",
      "  File \"/Users/macbook/Desktop/L361/L361_Project/.conda/lib/python3.12/site-packages/flwr/client/client.py\", line 224, in maybe_call_fit\n",
      "    return client.fit(fit_ins)\n",
      "           ^^^^^^^^^^^^^^^^^^^\n",
      "  File \"/Users/macbook/Desktop/L361/L361_Project/.conda/lib/python3.12/site-packages/flwr/client/numpy_client.py\", line 227, in _fit\n",
      "    results = self.numpy_client.fit(parameters, ins.config)  # type: ignore\n",
      "              ^^^^^^^^^^^^^^^^^^^^^^^^^^^^^^^^^^^^^^^^^^^^^\n",
      "  File \"/var/folders/6j/51pt41xs611cqzmtybytnss40000gn/T/ipykernel_8677/3293017815.py\", line 45, in fit\n",
      "  File \"/var/folders/6j/51pt41xs611cqzmtybytnss40000gn/T/ipykernel_8677/1796760947.py\", line 182, in train_moon\n",
      "  File \"/Users/macbook/Desktop/L361/L361_Project/.conda/lib/python3.12/site-packages/torch/nn/modules/module.py\", line 1739, in _wrapped_call_impl\n",
      "    return self._call_impl(*args, **kwargs)\n",
      "           ^^^^^^^^^^^^^^^^^^^^^^^^^^^^^^^^\n",
      "  File \"/Users/macbook/Desktop/L361/L361_Project/.conda/lib/python3.12/site-packages/torch/nn/modules/module.py\", line 1750, in _call_impl\n",
      "    return forward_call(*args, **kwargs)\n",
      "           ^^^^^^^^^^^^^^^^^^^^^^^^^^^^^\n",
      "  File \"/var/folders/6j/51pt41xs611cqzmtybytnss40000gn/T/ipykernel_8677/1796760947.py\", line 52, in forward\n",
      "  File \"/Users/macbook/Desktop/L361/L361_Project/.conda/lib/python3.12/site-packages/torch/nn/modules/module.py\", line 1739, in _wrapped_call_impl\n",
      "    return self._call_impl(*args, **kwargs)\n",
      "           ^^^^^^^^^^^^^^^^^^^^^^^^^^^^^^^^\n",
      "  File \"/Users/macbook/Desktop/L361/L361_Project/.conda/lib/python3.12/site-packages/torch/nn/modules/module.py\", line 1750, in _call_impl\n",
      "    return forward_call(*args, **kwargs)\n",
      "           ^^^^^^^^^^^^^^^^^^^^^^^^^^^^^\n",
      "  File \"/Users/macbook/Desktop/L361/L361_Project/.conda/lib/python3.12/site-packages/torch/nn/modules/conv.py\", line 554, in forward\n",
      "    return self._conv_forward(input, self.weight, self.bias)\n",
      "           ^^^^^^^^^^^^^^^^^^^^^^^^^^^^^^^^^^^^^^^^^^^^^^^^^\n",
      "  File \"/Users/macbook/Desktop/L361/L361_Project/.conda/lib/python3.12/site-packages/torch/nn/modules/conv.py\", line 549, in _conv_forward\n",
      "    return F.conv2d(\n",
      "           ^^^^^^^^^\n",
      "RuntimeError: Input type (MPSFloatType) and weight type (torch.FloatTensor) should be the same\n",
      "\n",
      "The above exception was the direct cause of the following exception:\n",
      "\n",
      "\u001b[36mray::ClientAppActor.run()\u001b[39m (pid=65572, ip=127.0.0.1, actor_id=944d917b2af429d9fd88974a01000000, repr=<flwr.simulation.ray_transport.ray_actor.ClientAppActor object at 0x106850e60>)\n",
      "           ^^^^^^^^^^^^^^^^^^^^^^^^^^^^^^^^^^^^\n",
      "           ^^^^^^^^^^^^^^^^^^^^^^^^^^^^^^^\n",
      "  File \"/Users/macbook/Desktop/L361/L361_Project/.conda/lib/python3.12/site-packages/flwr/simulation/ray_transport/ray_actor.py\", line 64, in run\n",
      "    raise ClientAppException(str(ex)) from ex\n",
      "flwr.client.client_app.ClientAppException: \n",
      "Exception ClientAppException occurred. Message: Input type (MPSFloatType) and weight type (torch.FloatTensor) should be the same\n",
      "\n",
      "\u001b[92mINFO \u001b[0m:      aggregate_fit: received 0 results and 3 failures\n",
      "\u001b[91mERROR \u001b[0m:     ServerApp thread raised an exception: Error(s) in loading state_dict for MoonNet:\n",
      "\tMissing key(s) in state_dict: \"conv1.weight\", \"conv1.bias\", \"conv2.weight\", \"conv2.bias\", \"conv3.weight\", \"conv3.bias\", \"conv4.weight\", \"conv4.bias\", \"conv5.weight\", \"conv5.bias\", \"conv6.weight\", \"conv6.bias\", \"fc1.weight\", \"fc1.bias\", \"fc2.weight\", \"fc2.bias\", \"fc3.weight\", \"fc3.bias\". \n",
      "\u001b[91mERROR \u001b[0m:     Traceback (most recent call last):\n",
      "  File \"/Users/macbook/Desktop/L361/L361_Project/.conda/lib/python3.12/site-packages/flwr/simulation/run_simulation.py\", line 268, in server_th_with_start_checks\n",
      "    updated_context = _run(\n",
      "                      ^^^^^\n",
      "  File \"/Users/macbook/Desktop/L361/L361_Project/.conda/lib/python3.12/site-packages/flwr/server/run_serverapp.py\", line 63, in run\n",
      "    server_app(driver=driver, context=context)\n",
      "  File \"/Users/macbook/Desktop/L361/L361_Project/.conda/lib/python3.12/site-packages/flwr/server/server_app.py\", line 120, in __call__\n",
      "    start_driver(\n",
      "  File \"/Users/macbook/Desktop/L361/L361_Project/.conda/lib/python3.12/site-packages/flwr/server/compat/app.py\", line 87, in start_driver\n",
      "    hist = run_fl(\n",
      "           ^^^^^^^\n",
      "  File \"/Users/macbook/Desktop/L361/L361_Project/.conda/lib/python3.12/site-packages/flwr/server/server.py\", line 492, in run_fl\n",
      "    hist, elapsed_time = server.fit(\n",
      "                         ^^^^^^^^^^^\n",
      "  File \"/Users/macbook/Desktop/L361/L361_Project/.conda/lib/python3.12/site-packages/flwr/server/server.py\", line 128, in fit\n",
      "    res_cen = self.strategy.evaluate(current_round, parameters=self.parameters)\n",
      "              ^^^^^^^^^^^^^^^^^^^^^^^^^^^^^^^^^^^^^^^^^^^^^^^^^^^^^^^^^^^^^^^^^\n",
      "  File \"/var/folders/6j/51pt41xs611cqzmtybytnss40000gn/T/ipykernel_8677/741609897.py\", line 101, in evaluate\n",
      "    eval_res = self.evaluate_fn(server_round, parameters_ndarrays, {})\n",
      "               ^^^^^^^^^^^^^^^^^^^^^^^^^^^^^^^^^^^^^^^^^^^^^^^^^^^^^^^\n",
      "  File \"/var/folders/6j/51pt41xs611cqzmtybytnss40000gn/T/ipykernel_8677/2576030802.py\", line 80, in evaluate\n",
      "    net_copy.load_state_dict(state_dict, strict=True)\n",
      "  File \"/Users/macbook/Desktop/L361/L361_Project/.conda/lib/python3.12/site-packages/torch/nn/modules/module.py\", line 2581, in load_state_dict\n",
      "    raise RuntimeError(\n",
      "RuntimeError: Error(s) in loading state_dict for MoonNet:\n",
      "\tMissing key(s) in state_dict: \"conv1.weight\", \"conv1.bias\", \"conv2.weight\", \"conv2.bias\", \"conv3.weight\", \"conv3.bias\", \"conv4.weight\", \"conv4.bias\", \"conv5.weight\", \"conv5.bias\", \"conv6.weight\", \"conv6.bias\", \"fc1.weight\", \"fc1.bias\", \"fc2.weight\", \"fc2.bias\", \"fc3.weight\", \"fc3.bias\". \n",
      "\n",
      "Exception in thread Thread-13 (server_th_with_start_checks):\n",
      "Traceback (most recent call last):\n",
      "  File \"/Users/macbook/Desktop/L361/L361_Project/.conda/lib/python3.12/threading.py\", line 1075, in _bootstrap_inner\n",
      "    self.run()\n",
      "  File \"/Users/macbook/Desktop/L361/L361_Project/.conda/lib/python3.12/site-packages/ipykernel/ipkernel.py\", line 766, in run_closure\n",
      "    _threading_Thread_run(self)\n",
      "  File \"/Users/macbook/Desktop/L361/L361_Project/.conda/lib/python3.12/threading.py\", line 1012, in run\n",
      "    self._target(*self._args, **self._kwargs)\n",
      "  File \"/Users/macbook/Desktop/L361/L361_Project/.conda/lib/python3.12/site-packages/flwr/simulation/run_simulation.py\", line 268, in server_th_with_start_checks\n",
      "    updated_context = _run(\n",
      "                      ^^^^^\n",
      "  File \"/Users/macbook/Desktop/L361/L361_Project/.conda/lib/python3.12/site-packages/flwr/server/run_serverapp.py\", line 63, in run\n",
      "    server_app(driver=driver, context=context)\n",
      "  File \"/Users/macbook/Desktop/L361/L361_Project/.conda/lib/python3.12/site-packages/flwr/server/server_app.py\", line 120, in __call__\n",
      "    start_driver(\n",
      "  File \"/Users/macbook/Desktop/L361/L361_Project/.conda/lib/python3.12/site-packages/flwr/server/compat/app.py\", line 87, in start_driver\n",
      "    hist = run_fl(\n",
      "           ^^^^^^^\n",
      "  File \"/Users/macbook/Desktop/L361/L361_Project/.conda/lib/python3.12/site-packages/flwr/server/server.py\", line 492, in run_fl\n",
      "    hist, elapsed_time = server.fit(\n",
      "                         ^^^^^^^^^^^\n",
      "  File \"/Users/macbook/Desktop/L361/L361_Project/.conda/lib/python3.12/site-packages/flwr/server/server.py\", line 128, in fit\n",
      "    res_cen = self.strategy.evaluate(current_round, parameters=self.parameters)\n",
      "              ^^^^^^^^^^^^^^^^^^^^^^^^^^^^^^^^^^^^^^^^^^^^^^^^^^^^^^^^^^^^^^^^^\n",
      "  File \"/var/folders/6j/51pt41xs611cqzmtybytnss40000gn/T/ipykernel_8677/741609897.py\", line 101, in evaluate\n",
      "  File \"/var/folders/6j/51pt41xs611cqzmtybytnss40000gn/T/ipykernel_8677/2576030802.py\", line 80, in evaluate\n",
      "  File \"/Users/macbook/Desktop/L361/L361_Project/.conda/lib/python3.12/site-packages/torch/nn/modules/module.py\", line 2581, in load_state_dict\n",
      "    raise RuntimeError(\n",
      "RuntimeError: Error(s) in loading state_dict for MoonNet:\n",
      "\tMissing key(s) in state_dict: \"conv1.weight\", \"conv1.bias\", \"conv2.weight\", \"conv2.bias\", \"conv3.weight\", \"conv3.bias\", \"conv4.weight\", \"conv4.bias\", \"conv5.weight\", \"conv5.bias\", \"conv6.weight\", \"conv6.bias\", \"fc1.weight\", \"fc1.bias\", \"fc2.weight\", \"fc2.bias\", \"fc3.weight\", \"fc3.bias\". \n"
     ]
    },
    {
     "name": "stdout",
     "output_type": "stream",
     "text": [
      "\u001b[36m(ClientAppActor pid=65572)\u001b[0m [Client 2] fit, config: {}\u001b[32m [repeated 2x across cluster]\u001b[0m\n",
      "\u001b[36m(ClientAppActor pid=65572)\u001b[0m Started training moon\u001b[32m [repeated 2x across cluster]\u001b[0m\n"
     ]
    },
    {
     "name": "stderr",
     "output_type": "stream",
     "text": [
      "\u001b[36m(ClientAppActor pid=65572)\u001b[0m /Users/macbook/Desktop/L361/L361_Project/.conda/lib/python3.12/site-packages/datasets/utils/_dill.py:385: DeprecationWarning: co_lnotab is deprecated, use co_lines instead.\u001b[32m [repeated 2x across cluster]\u001b[0m\n",
      "\u001b[36m(ClientAppActor pid=65572)\u001b[0m   obj.co_lnotab,  # for < python 3.10 [not counted in args]\u001b[32m [repeated 2x across cluster]\u001b[0m\n"
     ]
    },
    {
     "ename": "RuntimeError",
     "evalue": "Exception in ServerApp thread",
     "output_type": "error",
     "traceback": [
      "\u001b[0;31m---------------------------------------------------------------------------\u001b[0m",
      "\u001b[0;31mRuntimeError\u001b[0m                              Traceback (most recent call last)",
      "Cell \u001b[0;32mIn[20], line 23\u001b[0m\n\u001b[1;32m     20\u001b[0m server \u001b[38;5;241m=\u001b[39m ServerApp(server_fn\u001b[38;5;241m=\u001b[39mserver_fn)\n\u001b[1;32m     22\u001b[0m \u001b[38;5;66;03m# Run simulation\u001b[39;00m\n\u001b[0;32m---> 23\u001b[0m \u001b[43mrun_simulation\u001b[49m\u001b[43m(\u001b[49m\n\u001b[1;32m     24\u001b[0m \u001b[43m    \u001b[49m\u001b[43mserver_app\u001b[49m\u001b[38;5;241;43m=\u001b[39;49m\u001b[43mserver\u001b[49m\u001b[43m,\u001b[49m\n\u001b[1;32m     25\u001b[0m \u001b[43m    \u001b[49m\u001b[43mclient_app\u001b[49m\u001b[38;5;241;43m=\u001b[39;49m\u001b[43mclient\u001b[49m\u001b[43m,\u001b[49m\n\u001b[1;32m     26\u001b[0m \u001b[43m    \u001b[49m\u001b[43mnum_supernodes\u001b[49m\u001b[38;5;241;43m=\u001b[39;49m\u001b[43mNUM_PARTITIONS\u001b[49m\u001b[43m,\u001b[49m\n\u001b[1;32m     27\u001b[0m \u001b[43m    \u001b[49m\u001b[43mbackend_config\u001b[49m\u001b[38;5;241;43m=\u001b[39;49m\u001b[43mbackend_config\u001b[49m\u001b[43m,\u001b[49m\n\u001b[1;32m     28\u001b[0m \u001b[43m)\u001b[49m\n",
      "File \u001b[0;32m~/Desktop/L361/L361_Project/.conda/lib/python3.12/site-packages/flwr/simulation/run_simulation.py:211\u001b[0m, in \u001b[0;36mrun_simulation\u001b[0;34m(server_app, client_app, num_supernodes, backend_name, backend_config, enable_tf_gpu_growth, verbose_logging)\u001b[0m\n\u001b[1;32m    202\u001b[0m \u001b[38;5;28;01mif\u001b[39;00m enable_tf_gpu_growth:\n\u001b[1;32m    203\u001b[0m     warn_deprecated_feature_with_example(\n\u001b[1;32m    204\u001b[0m         \u001b[38;5;124m\"\u001b[39m\u001b[38;5;124mPassing `enable_tf_gpu_growth=True` is deprecated.\u001b[39m\u001b[38;5;124m\"\u001b[39m,\n\u001b[1;32m    205\u001b[0m         example_message\u001b[38;5;241m=\u001b[39m\u001b[38;5;124m\"\u001b[39m\u001b[38;5;124mInstead, set the `TF_FORCE_GPU_ALLOW_GROWTH` environment \u001b[39m\u001b[38;5;124m\"\u001b[39m\n\u001b[0;32m   (...)\u001b[0m\n\u001b[1;32m    208\u001b[0m         \u001b[38;5;124m\"\u001b[39m\u001b[38;5;130;01m\\n\u001b[39;00m\u001b[38;5;130;01m\\t\u001b[39;00m\u001b[38;5;124mflwr.simulation.run_simulationt(...)\u001b[39m\u001b[38;5;124m\"\u001b[39m,\n\u001b[1;32m    209\u001b[0m     )\n\u001b[0;32m--> 211\u001b[0m _ \u001b[38;5;241m=\u001b[39m \u001b[43m_run_simulation\u001b[49m\u001b[43m(\u001b[49m\n\u001b[1;32m    212\u001b[0m \u001b[43m    \u001b[49m\u001b[43mnum_supernodes\u001b[49m\u001b[38;5;241;43m=\u001b[39;49m\u001b[43mnum_supernodes\u001b[49m\u001b[43m,\u001b[49m\n\u001b[1;32m    213\u001b[0m \u001b[43m    \u001b[49m\u001b[43mclient_app\u001b[49m\u001b[38;5;241;43m=\u001b[39;49m\u001b[43mclient_app\u001b[49m\u001b[43m,\u001b[49m\n\u001b[1;32m    214\u001b[0m \u001b[43m    \u001b[49m\u001b[43mserver_app\u001b[49m\u001b[38;5;241;43m=\u001b[39;49m\u001b[43mserver_app\u001b[49m\u001b[43m,\u001b[49m\n\u001b[1;32m    215\u001b[0m \u001b[43m    \u001b[49m\u001b[43mbackend_name\u001b[49m\u001b[38;5;241;43m=\u001b[39;49m\u001b[43mbackend_name\u001b[49m\u001b[43m,\u001b[49m\n\u001b[1;32m    216\u001b[0m \u001b[43m    \u001b[49m\u001b[43mbackend_config\u001b[49m\u001b[38;5;241;43m=\u001b[39;49m\u001b[43mbackend_config\u001b[49m\u001b[43m,\u001b[49m\n\u001b[1;32m    217\u001b[0m \u001b[43m    \u001b[49m\u001b[43menable_tf_gpu_growth\u001b[49m\u001b[38;5;241;43m=\u001b[39;49m\u001b[43menable_tf_gpu_growth\u001b[49m\u001b[43m,\u001b[49m\n\u001b[1;32m    218\u001b[0m \u001b[43m    \u001b[49m\u001b[43mverbose_logging\u001b[49m\u001b[38;5;241;43m=\u001b[39;49m\u001b[43mverbose_logging\u001b[49m\u001b[43m,\u001b[49m\n\u001b[1;32m    219\u001b[0m \u001b[43m    \u001b[49m\u001b[43mexit_event\u001b[49m\u001b[38;5;241;43m=\u001b[39;49m\u001b[43mEventType\u001b[49m\u001b[38;5;241;43m.\u001b[39;49m\u001b[43mPYTHON_API_RUN_SIMULATION_LEAVE\u001b[49m\u001b[43m,\u001b[49m\n\u001b[1;32m    220\u001b[0m \u001b[43m\u001b[49m\u001b[43m)\u001b[49m\n",
      "File \u001b[0;32m~/Desktop/L361/L361_Project/.conda/lib/python3.12/site-packages/flwr/simulation/run_simulation.py:510\u001b[0m, in \u001b[0;36m_run_simulation\u001b[0;34m(num_supernodes, exit_event, client_app, server_app, backend_name, backend_config, client_app_attr, server_app_attr, server_app_run_config, app_dir, flwr_dir, run, enable_tf_gpu_growth, verbose_logging, is_app)\u001b[0m\n\u001b[1;32m    506\u001b[0m     \u001b[38;5;28;01mif\u001b[39;00m asyncio_loop_running:\n\u001b[1;32m    507\u001b[0m         \u001b[38;5;66;03m# Set logger propagation to False to prevent duplicated log output in Colab.\u001b[39;00m\n\u001b[1;32m    508\u001b[0m         logger \u001b[38;5;241m=\u001b[39m set_logger_propagation(logger, \u001b[38;5;28;01mFalse\u001b[39;00m)\n\u001b[0;32m--> 510\u001b[0m     updated_context \u001b[38;5;241m=\u001b[39m \u001b[43m_main_loop\u001b[49m\u001b[43m(\u001b[49m\u001b[38;5;241;43m*\u001b[39;49m\u001b[43margs\u001b[49m\u001b[43m)\u001b[49m\n\u001b[1;32m    511\u001b[0m \u001b[38;5;28;01mreturn\u001b[39;00m updated_context\n",
      "File \u001b[0;32m~/Desktop/L361/L361_Project/.conda/lib/python3.12/site-packages/flwr/simulation/run_simulation.py:408\u001b[0m, in \u001b[0;36m_main_loop\u001b[0;34m(num_supernodes, backend_name, backend_config_stream, app_dir, is_app, enable_tf_gpu_growth, run, exit_event, flwr_dir, client_app, client_app_attr, server_app, server_app_attr, server_app_run_config)\u001b[0m\n\u001b[1;32m    406\u001b[0m         serverapp_th\u001b[38;5;241m.\u001b[39mjoin()\n\u001b[1;32m    407\u001b[0m         \u001b[38;5;28;01mif\u001b[39;00m server_app_thread_has_exception\u001b[38;5;241m.\u001b[39mis_set():\n\u001b[0;32m--> 408\u001b[0m             \u001b[38;5;28;01mraise\u001b[39;00m \u001b[38;5;167;01mRuntimeError\u001b[39;00m(\u001b[38;5;124m\"\u001b[39m\u001b[38;5;124mException in ServerApp thread\u001b[39m\u001b[38;5;124m\"\u001b[39m)\n\u001b[1;32m    410\u001b[0m log(DEBUG, \u001b[38;5;124m\"\u001b[39m\u001b[38;5;124mStopping Simulation Engine now.\u001b[39m\u001b[38;5;124m\"\u001b[39m)\n\u001b[1;32m    411\u001b[0m \u001b[38;5;28;01mreturn\u001b[39;00m updated_context\n",
      "\u001b[0;31mRuntimeError\u001b[0m: Exception in ServerApp thread"
     ]
    }
   ],
   "source": [
    "# Train FedMOON\n",
    "\n",
    "\n",
    "_, _, testloader = load_datasets(0, NUM_PARTITIONS)\n",
    "net = MoonNet().to(DEVICE)\n",
    "evaluate_fn = get_evaluate_fn_moon(testloader, net)\n",
    "client_manager =  DropoutClientManager(dropout_rate=0.5)\n",
    "\n",
    "def server_fn(context: Context) -> ServerAppComponents:\n",
    "    # Configure the server for just 3 rounds of training\n",
    "    config = ServerConfig(num_rounds=NUM_OF_ROUNDS)\n",
    "    return ServerAppComponents(\n",
    "        config=config,\n",
    "        strategy=FedMoonNoFreeze(\n",
    "            evaluate_fn=evaluate_fn\n",
    "        ),\n",
    "        client_manager=client_manager\n",
    "    )\n",
    "\n",
    "server = ServerApp(server_fn=server_fn)\n",
    "\n",
    "# Run simulation\n",
    "run_simulation(\n",
    "    server_app=server,\n",
    "    client_app=client,\n",
    "    num_supernodes=NUM_PARTITIONS,\n",
    "    backend_config=backend_config,\n",
    ")"
   ]
  },
  {
   "cell_type": "code",
   "execution_count": 24,
   "metadata": {},
   "outputs": [],
   "source": [
    "with open(f'results/fed_moon_no_freeze_client_dropout_result.p', 'wb') as file:\n",
    "    pickle.dump(fed_moon_no_freeze_result, file)\n",
    "\n",
    "with open(f'results/fed_moon_model_no_freeze_client_dropout_results.p', 'wb') as file:\n",
    "    pickle.dump(fed_moon_model_no_freeze_results, file)"
   ]
  },
  {
   "cell_type": "code",
   "execution_count": null,
   "metadata": {},
   "outputs": [],
   "source": [
    "# fed_moon_rounds = list(fed_moon_no_freeze_result.keys())\n",
    "# fed_moon_sizes = [fed_moon_no_freeze_result[round][\"total_size\"] for round in fed_moon_rounds]\n",
    "\n",
    "# plt.figure(figsize=(10, 5))\n",
    "# plt.plot(fed_avg_rounds, fed_avg_sizes, marker='o', linestyle='-', color='b', label='FedAvg')\n",
    "# plt.plot(fed_part_avg_rounds, fed_part_avg_sizes, marker='o', linestyle='-', color='r', label='FedPartAvg')\n",
    "# plt.plot(fed_prox_rounds, fed_prox_sizes, marker='o', linestyle='-', color='g', label='FedProx')\n",
    "# plt.plot(fed_part_prox_rounds, fed_part_prox_sizes, marker='o', linestyle='-', color='y', label='FedPartProx')\n",
    "# plt.plot(fed_moon_rounds, fed_moon_sizes, marker='o', linestyle='-', color='c', label='FedMoon')\n",
    "# plt.plot(fed_part_moon_rounds, fed_part_moon_sizes, marker='o', linestyle='-', color='purple', label='FedPartMoon')\n",
    "# plt.xlabel('Round')\n",
    "# plt.ylabel('Communication Cost (bytes)')\n",
    "# plt.title('Communication Cost for Each Round')\n",
    "# plt.legend()\n",
    "# plt.grid(True)\n",
    "\n",
    "# fed_moon_losses = [fed_moon_no_freeze_result[round][\"total_loss\"] for round in fed_moon_rounds]\n",
    "\n",
    "# plt.figure(figsize=(10, 5))\n",
    "# plt.plot(fed_avg_rounds, fed_avg_losses, marker='o', linestyle='-', color='b', label='FedAvg')\n",
    "# plt.plot(fed_part_avg_rounds, fed_part_avg_losses, marker='o', linestyle='-', color='r', label='FedPartAvg')\n",
    "# plt.plot(fed_prox_rounds, fed_prox_losses, marker='o', linestyle='-', color='g', label='FedProx')\n",
    "# plt.plot(fed_part_prox_rounds, fed_part_prox_losses, marker='o', linestyle='-', color='y', label='FedPartProx')\n",
    "# plt.plot(fed_moon_rounds, fed_moon_losses, marker='o', linestyle='-', color='c', label='FedMoon')\n",
    "# plt.plot(fed_part_moon_rounds, fed_part_moon_losses, marker='o', linestyle='-', color='purple', label='FedPartMoon')\n",
    "\n",
    "# plt.xlabel('Round')\n",
    "# plt.ylabel('Loss')\n",
    "# plt.title('Aggregate Client Loss for Each Round')\n",
    "# plt.legend()\n",
    "# plt.grid(True)\n",
    "\n",
    "# fed_moon_model_rounds = list(fed_moon_model_no_freeze_results.keys())\n",
    "# fed_moon_accuracies = [fed_moon_model_no_freeze_results[round][\"global_metrics\"][\"accuracy\"] for round in fed_moon_model_rounds]\n",
    "\n",
    "# plt.figure(figsize=(10, 5))\n",
    "# plt.plot(fed_avg_model_rounds, fed_avg_accuracies, marker='o', linestyle='-', color='b', label='FedAvg')\n",
    "# plt.plot(fed_part_avg_model_rounds, fed_part_avg_accuracies, marker='o', linestyle='-', color='r', label='FedPartAvg')\n",
    "# plt.plot(fed_prox_model_rounds, fed_prox_accuracies, marker='o', linestyle='-', color='g', label='FedProx')\n",
    "# plt.plot(fed_part_prox_model_rounds, fed_part_prox_accuracies, marker='o', linestyle='-', color='y', label='FedPartProx')\n",
    "# plt.plot(fed_moon_model_rounds, fed_moon_accuracies, marker='o', linestyle='-', color='c', label='FedMoon')\n",
    "# plt.plot(fed_part_moon_model_rounds, fed_part_moon_accuracies, marker='o', linestyle='-', color='purple', label='FedPartMoon')\n",
    "# plt.xlabel('Round')\n",
    "# plt.ylabel('Accuracy')\n",
    "# plt.title('Global Model Accuracy for Each Round')\n",
    "# plt.legend()\n",
    "# plt.grid(True)\n",
    "\n",
    "# fed_moon_global_losses = [fed_moon_model_no_freeze_results[round][\"global_loss\"] for round in fed_moon_model_rounds]\n",
    "\n",
    "# plt.figure(figsize=(10, 5))\n",
    "# plt.plot(fed_avg_model_rounds, fed_avg_global_losses, marker='o', linestyle='-', color='b', label='FedAvg')\n",
    "# plt.plot(fed_part_avg_model_rounds, fed_part_avg_global_losses, marker='o', linestyle='-', color='r', label='FedPartAvg')\n",
    "# plt.plot(fed_prox_model_rounds, fed_prox_global_losses, marker='o', linestyle='-', color='g', label='FedProx')\n",
    "# plt.plot(fed_part_prox_model_rounds, fed_part_prox_global_losses, marker='o', linestyle='-', color='y', label='FedPartProx')\n",
    "# plt.plot(fed_moon_model_rounds, fed_moon_global_losses, marker='o', linestyle='-', color='c', label='FedMoon')\n",
    "# plt.plot(fed_part_moon_model_rounds, fed_part_moon_global_losses, marker='o', linestyle='-', color='purple', label='FedPartMoon')\n",
    "# plt.xlabel('Round')\n",
    "# plt.ylabel('Loss')\n",
    "# plt.title('Global Model Loss for Each Round')\n",
    "# plt.legend()\n",
    "# plt.grid(True)\n"
   ]
  }
 ],
 "metadata": {
  "kernelspec": {
   "display_name": "Python 3",
   "language": "python",
   "name": "python3"
  },
  "language_info": {
   "codemirror_mode": {
    "name": "ipython",
    "version": 3
   },
   "file_extension": ".py",
   "mimetype": "text/x-python",
   "name": "python",
   "nbconvert_exporter": "python",
   "pygments_lexer": "ipython3",
   "version": "3.12.9"
  }
 },
 "nbformat": 4,
 "nbformat_minor": 2
}
